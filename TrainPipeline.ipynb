{
 "cells": [
  {
   "cell_type": "markdown",
   "metadata": {},
   "source": [
    "# Tutorial"
   ]
  },
  {
   "cell_type": "code",
   "execution_count": 1,
   "metadata": {},
   "outputs": [],
   "source": [
    "import matplotlib.pyplot as plt\n",
    "import tensorflow as tf\n",
    "import pandas as pd\n",
    "import os\n",
    "\n",
    "\n",
    "from core.losses import CustomMSE, ASTROMERLoss, CustomBCE\n",
    "from core.plot import plot_lc, plot_input_layer\n",
    "from core.callbacks import get_callbacks\n",
    "from core.transformer import ASTROMER\n",
    "from core.metrics import CustomACC\n",
    "from core.input import InputLayer\n",
    "from core.data  import (create_dataset, \n",
    "                        load_records)\n",
    "\n",
    "%load_ext autoreload\n",
    "%autoreload 2"
   ]
  },
  {
   "cell_type": "code",
   "execution_count": 5,
   "metadata": {},
   "outputs": [],
   "source": [
    "source = './data/raw_data/MACHO/' # lightcurves folder\n",
    "metadata = 'data/raw_data/MACHO/MACHO_dataset.dat' # metadata file\n",
    "target = 'data/records/macho/' # where records will be stored"
   ]
  },
  {
   "cell_type": "markdown",
   "metadata": {},
   "source": [
    "### Metadata frame sample"
   ]
  },
  {
   "cell_type": "code",
   "execution_count": 6,
   "metadata": {},
   "outputs": [
    {
     "data": {
      "text/html": [
       "<div>\n",
       "<style scoped>\n",
       "    .dataframe tbody tr th:only-of-type {\n",
       "        vertical-align: middle;\n",
       "    }\n",
       "\n",
       "    .dataframe tbody tr th {\n",
       "        vertical-align: top;\n",
       "    }\n",
       "\n",
       "    .dataframe thead th {\n",
       "        text-align: right;\n",
       "    }\n",
       "</style>\n",
       "<table border=\"1\" class=\"dataframe\">\n",
       "  <thead>\n",
       "    <tr style=\"text-align: right;\">\n",
       "      <th></th>\n",
       "      <th>Unnamed: 0</th>\n",
       "      <th>Class</th>\n",
       "      <th>N</th>\n",
       "      <th>Path</th>\n",
       "      <th>Band</th>\n",
       "    </tr>\n",
       "  </thead>\n",
       "  <tbody>\n",
       "    <tr>\n",
       "      <th>807</th>\n",
       "      <td>807</td>\n",
       "      <td>EB</td>\n",
       "      <td>1240</td>\n",
       "      <td>LCs/lc_1_3447_783_B_mjd.dat</td>\n",
       "      <td>B</td>\n",
       "    </tr>\n",
       "  </tbody>\n",
       "</table>\n",
       "</div>"
      ],
      "text/plain": [
       "     Unnamed: 0 Class     N                         Path Band\n",
       "807         807    EB  1240  LCs/lc_1_3447_783_B_mjd.dat    B"
      ]
     },
     "execution_count": 6,
     "metadata": {},
     "output_type": "execute_result"
    }
   ],
   "source": [
    "meta_sample = pd.read_csv(metadata).sample(1)\n",
    "meta_sample"
   ]
  },
  {
   "cell_type": "markdown",
   "metadata": {},
   "source": [
    "### Lightcurve frame sample"
   ]
  },
  {
   "cell_type": "code",
   "execution_count": 7,
   "metadata": {},
   "outputs": [
    {
     "data": {
      "text/html": [
       "<div>\n",
       "<style scoped>\n",
       "    .dataframe tbody tr th:only-of-type {\n",
       "        vertical-align: middle;\n",
       "    }\n",
       "\n",
       "    .dataframe tbody tr th {\n",
       "        vertical-align: top;\n",
       "    }\n",
       "\n",
       "    .dataframe thead th {\n",
       "        text-align: right;\n",
       "    }\n",
       "</style>\n",
       "<table border=\"1\" class=\"dataframe\">\n",
       "  <thead>\n",
       "    <tr style=\"text-align: right;\">\n",
       "      <th></th>\n",
       "      <th>mjd</th>\n",
       "      <th>mag</th>\n",
       "      <th>errmag</th>\n",
       "    </tr>\n",
       "  </thead>\n",
       "  <tbody>\n",
       "    <tr>\n",
       "      <th>0</th>\n",
       "      <td>48823.477419</td>\n",
       "      <td>-6.065</td>\n",
       "      <td>0.735</td>\n",
       "    </tr>\n",
       "    <tr>\n",
       "      <th>1</th>\n",
       "      <td>48823.487014</td>\n",
       "      <td>-5.575</td>\n",
       "      <td>1.011</td>\n",
       "    </tr>\n",
       "    <tr>\n",
       "      <th>2</th>\n",
       "      <td>48823.496759</td>\n",
       "      <td>-5.888</td>\n",
       "      <td>0.863</td>\n",
       "    </tr>\n",
       "    <tr>\n",
       "      <th>3</th>\n",
       "      <td>48824.458206</td>\n",
       "      <td>-5.524</td>\n",
       "      <td>0.422</td>\n",
       "    </tr>\n",
       "    <tr>\n",
       "      <th>4</th>\n",
       "      <td>48824.467697</td>\n",
       "      <td>-5.349</td>\n",
       "      <td>0.410</td>\n",
       "    </tr>\n",
       "  </tbody>\n",
       "</table>\n",
       "</div>"
      ],
      "text/plain": [
       "            mjd    mag  errmag\n",
       "0  48823.477419 -6.065   0.735\n",
       "1  48823.487014 -5.575   1.011\n",
       "2  48823.496759 -5.888   0.863\n",
       "3  48824.458206 -5.524   0.422\n",
       "4  48824.467697 -5.349   0.410"
      ]
     },
     "execution_count": 7,
     "metadata": {},
     "output_type": "execute_result"
    }
   ],
   "source": [
    "lc_df = pd.read_csv(os.path.join(source,  meta_sample['Path'].values[0]))\n",
    "lc_df.head()"
   ]
  },
  {
   "cell_type": "markdown",
   "metadata": {},
   "source": [
    "### From .csv to .record "
   ]
  },
  {
   "cell_type": "code",
   "execution_count": 9,
   "metadata": {},
   "outputs": [
    {
     "name": "stderr",
     "output_type": "stream",
     "text": [
      "100%|██████████| 7/7 [00:08<00:00,  1.26s/it]\n"
     ]
    }
   ],
   "source": [
    "create_dataset(source+'LCs', metadata, target, max_lcs_per_record=1000)"
   ]
  },
  {
   "cell_type": "markdown",
   "metadata": {},
   "source": [
    "### Visualizing Records"
   ]
  },
  {
   "cell_type": "code",
   "execution_count": 33,
   "metadata": {},
   "outputs": [],
   "source": [
    "input_len = 200 # maximum lightcurve length\n",
    "batch_size = 256\n",
    "dataset = load_records(target+'/train', batch_size=batch_size, input_len=input_len)"
   ]
  },
  {
   "cell_type": "code",
   "execution_count": 34,
   "metadata": {},
   "outputs": [
    {
     "data": {
      "image/png": "[encoded data removed]",
      "text/plain": [
       "<Figure size 432x288 with 1 Axes>"
      ]
     },
     "metadata": {
      "needs_background": "light"
     },
     "output_type": "display_data"
    }
   ],
   "source": [
    "fig, axes = plt.subplots(1,1)\n",
    "for batch in dataset:\n",
    "    plot_lc(batch, axes, target, n=0)\n",
    "    break"
   ]
  },
  {
   "cell_type": "markdown",
   "metadata": {},
   "source": [
    "## ASTROMER"
   ]
  },
  {
   "cell_type": "markdown",
   "metadata": {},
   "source": [
    "### Input Layer"
   ]
  },
  {
   "cell_type": "code",
   "execution_count": 18,
   "metadata": {},
   "outputs": [],
   "source": [
    "inp_layer = InputLayer()"
   ]
  },
  {
   "cell_type": "code",
   "execution_count": 19,
   "metadata": {},
   "outputs": [
    {
     "data": {
      "image/png": "[encoded data removed]",
      "text/plain": [
       "<Figure size 1080x360 with 2 Axes>"
      ]
     },
     "metadata": {
      "needs_background": "light"
     },
     "output_type": "display_data"
    }
   ],
   "source": [
    "fig, axes = plt.subplots(1,2, figsize=(15,5))\n",
    "for batch in dataset:\n",
    "    n = 0\n",
    "    plot_lc(batch, axes[0], target, n=0, title='Original Sample')\n",
    "    # Input transformation\n",
    "    in_dict = inp_layer(batch)    \n",
    "    \n",
    "    plot_input_layer(in_dict, axes[1], input_len, n=0)\n",
    "    break"
   ]
  },
  {
   "cell_type": "markdown",
   "metadata": {},
   "source": [
    "### Training"
   ]
  },
  {
   "cell_type": "code",
   "execution_count": 35,
   "metadata": {},
   "outputs": [],
   "source": [
    "exp_save = './experiments/macho_v1' # folder to save weigths and tensorboard logs"
   ]
  },
  {
   "cell_type": "code",
   "execution_count": 36,
   "metadata": {},
   "outputs": [],
   "source": [
    "# Loading data\n",
    "train_batches = load_records(os.path.join(target, 'train'), \n",
    "                             batch_size, \n",
    "                             input_len=input_len)\n",
    "valid_batches = load_records(os.path.join(target, 'val'), \n",
    "                             batch_size, \n",
    "                             input_len=input_len)\n",
    "test_batches = load_records(os.path.join(target, 'test'), \n",
    "                             batch_size, \n",
    "                             input_len=input_len)"
   ]
  },
  {
   "cell_type": "code",
   "execution_count": 37,
   "metadata": {},
   "outputs": [],
   "source": [
    "# Model Instance\n",
    "transformer = ASTROMER(num_layers=2, # Number of self-attention layers\n",
    "                       d_model=1628, # attention dimensionality (should be divisor of num_heads)\n",
    "                       num_heads=4,# Number of self-attention heads\n",
    "                       dff=1024, # Dimensionality of the middle  dense layer at the end of the encoder\n",
    "                       rate=0.1, # Dropout rate\n",
    "                       base=10000, # Base for positional encoder\n",
    "                       mask_frac=0.15, # fraction of the total to be masked\n",
    "                       npp_frac=0.5, # next portion prediction rate\n",
    "                       rand_frac=0.1, # 'rand_frac' of the 'mask_frac' to change [MASK] by random magnitudes\n",
    "                       same_frac=0.1, # 'same_frac' of the 'mask_frac' to change [MASK] by current magnitudes\n",
    "                       sep_token=102., # end of sequence token\n",
    "                       cls_token=101.) # NPP class token"
   ]
  },
  {
   "cell_type": "code",
   "execution_count": 38,
   "metadata": {},
   "outputs": [
    {
     "name": "stdout",
     "output_type": "stream",
     "text": [
      "Model: \"model_3\"\n",
      "__________________________________________________________________________________________________\n",
      "Layer (type)                    Output Shape         Param #     Connected to                     \n",
      "==================================================================================================\n",
      "Serie1 (InputLayer)             [(256, 50, 3)]       0                                            \n",
      "__________________________________________________________________________________________________\n",
      "Serie2 (InputLayer)             [(256, 50, 3)]       0                                            \n",
      "__________________________________________________________________________________________________\n",
      "steps_1 (InputLayer)            [(256,)]             0                                            \n",
      "__________________________________________________________________________________________________\n",
      "steps_2 (InputLayer)            [(256,)]             0                                            \n",
      "__________________________________________________________________________________________________\n",
      "BuildInput (InputLayer)         {'inputs': (256, 103 0           Serie1[0][0]                     \n",
      "                                                                 Serie2[0][0]                     \n",
      "                                                                 steps_1[0][0]                    \n",
      "                                                                 steps_2[0][0]                    \n",
      "__________________________________________________________________________________________________\n",
      "tf.__operators__.getitem_3 (Sli (None,)              0           BuildInput[0][2]                 \n",
      "__________________________________________________________________________________________________\n",
      "tf.expand_dims_6 (TFOpLambda)   (None, 1)            0           tf.__operators__.getitem_3[0][0] \n",
      "__________________________________________________________________________________________________\n",
      "Encoder (Encoder)               (256, 103, 1628)     38514016    BuildInput[0][0]                 \n",
      "                                                                 BuildInput[0][1]                 \n",
      "                                                                 BuildInput[0][2]                 \n",
      "                                                                 BuildInput[0][3]                 \n",
      "                                                                 BuildInput[0][4]                 \n",
      "__________________________________________________________________________________________________\n",
      "tf.concat_6 (TFOpLambda)        (None, None)         0           tf.expand_dims_6[0][0]           \n",
      "                                                                 BuildInput[0][2]                 \n",
      "__________________________________________________________________________________________________\n",
      "Dense (OutputLayer)             (256, 104, 1)        4887        Encoder[0][0]                    \n",
      "__________________________________________________________________________________________________\n",
      "tf.expand_dims_7 (TFOpLambda)   (None, None, 1)      0           tf.concat_6[0][0]                \n",
      "__________________________________________________________________________________________________\n",
      "tf.concat_7 (TFOpLambda)        (256, 104, 2)        0           Dense[0][0]                      \n",
      "                                                                 tf.expand_dims_7[0][0]           \n",
      "==================================================================================================\n",
      "Total params: 38,518,903\n",
      "Trainable params: 38,518,903\n",
      "Non-trainable params: 0\n",
      "__________________________________________________________________________________________________\n"
     ]
    }
   ],
   "source": [
    "# Optimizer\n",
    "learning_rate = 1e-3\n",
    "optimizer = tf.keras.optimizers.Adam(learning_rate,\n",
    "                                     beta_1=0.9,\n",
    "                                     beta_2=0.98,\n",
    "                                     epsilon=1e-9)\n",
    "# Model Instance\n",
    "# Compile\n",
    "transformer.compile(optimizer=optimizer,\n",
    "                    loss=ASTROMERLoss(),\n",
    "                    metrics=[CustomMSE(), CustomBCE(), CustomACC()])\n",
    "# Create graph\n",
    "transformer.model(batch_size).summary()"
   ]
  },
  {
   "cell_type": "code",
   "execution_count": null,
   "metadata": {},
   "outputs": [
    {
     "name": "stdout",
     "output_type": "stream",
     "text": [
      "Epoch 1/2000\n",
      "13/13 [==============================] - 46s 3s/step - loss: 680.1919 - MSE: 671.0397 - BCE: 6.5104 - Accuracy: 0.4910 - val_loss: 12.9241 - val_MSE: 11.7497 - val_BCE: 1.4407 - val_Accuracy: 0.5035\n",
      "Epoch 2/2000\n",
      "13/13 [==============================] - 35s 3s/step - loss: 14.2159 - MSE: 13.0504 - BCE: 1.1441 - Accuracy: 0.4937 - val_loss: 13.8720 - val_MSE: 13.4726 - val_BCE: 0.9366 - val_Accuracy: 0.4898\n",
      "Epoch 3/2000\n",
      "13/13 [==============================] - 35s 3s/step - loss: 9.2403 - MSE: 8.3689 - BCE: 0.8485 - Accuracy: 0.4969 - val_loss: 9.8053 - val_MSE: 8.8501 - val_BCE: 0.7447 - val_Accuracy: 0.5051\n",
      "Epoch 4/2000\n",
      "13/13 [==============================] - 35s 3s/step - loss: 7.6277 - MSE: 6.8138 - BCE: 0.7837 - Accuracy: 0.4990 - val_loss: 5.3452 - val_MSE: 4.5873 - val_BCE: 0.7437 - val_Accuracy: 0.4790\n",
      "Epoch 5/2000\n",
      "13/13 [==============================] - 35s 3s/step - loss: 3.8287 - MSE: 3.0666 - BCE: 0.7473 - Accuracy: 0.4888 - val_loss: 2.5081 - val_MSE: 1.7601 - val_BCE: 0.6981 - val_Accuracy: 0.5149\n",
      "Epoch 6/2000\n",
      "13/13 [==============================] - 35s 3s/step - loss: 1.6368 - MSE: 0.9079 - BCE: 0.7290 - Accuracy: 0.5025 - val_loss: 1.9262 - val_MSE: 1.2214 - val_BCE: 0.7011 - val_Accuracy: 0.5083\n",
      "Epoch 7/2000\n",
      "13/13 [==============================] - 35s 3s/step - loss: 1.4020 - MSE: 0.6868 - BCE: 0.7151 - Accuracy: 0.5017 - val_loss: 0.9957 - val_MSE: 0.2955 - val_BCE: 0.7071 - val_Accuracy: 0.5003\n",
      "Epoch 8/2000\n",
      " 5/13 [==========>...................] - ETA: 13s - loss: 1.1579 - MSE: 0.4322 - BCE: 0.7257 - Accuracy: 0.4983"
     ]
    }
   ],
   "source": [
    "%%time\n",
    "# Training\n",
    "transformer.fit(train_batches,\n",
    "                epochs=2000,\n",
    "                verbose=1,\n",
    "                validation_data=valid_batches,\n",
    "                callbacks=get_callbacks(exp_save))"
   ]
  },
  {
   "cell_type": "code",
   "execution_count": 15,
   "metadata": {},
   "outputs": [
    {
     "name": "stdout",
     "output_type": "stream",
     "text": [
      "2/2 [==============================] - 1s 64ms/step - loss: 1290.5924 - MSE: 1514.2793 - BCE: 14.0307 - Accuracy: 0.4167\n"
     ]
    }
   ],
   "source": [
    "# Testing\n",
    "metrics = transformer.evaluate(test_batches)"
   ]
  },
  {
   "cell_type": "code",
   "execution_count": null,
   "metadata": {},
   "outputs": [],
   "source": []
  },
  {
   "cell_type": "code",
   "execution_count": null,
   "metadata": {},
   "outputs": [],
   "source": []
  }
 ],
 "metadata": {
  "kernelspec": {
   "display_name": "Python 3",
   "language": "python",
   "name": "python3"
  },
  "language_info": {
   "codemirror_mode": {
    "name": "ipython",
    "version": 3
   },
   "file_extension": ".py",
   "mimetype": "text/x-python",
   "name": "python",
   "nbconvert_exporter": "python",
   "pygments_lexer": "ipython3",
   "version": "3.6.9"
  }
 },
 "nbformat": 4,
 "nbformat_minor": 2
}
