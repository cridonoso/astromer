{
 "cells": [
  {
   "cell_type": "markdown",
   "metadata": {},
   "source": [
    "# Tutorial"
   ]
  },
  {
   "cell_type": "code",
   "execution_count": 1,
   "metadata": {},
   "outputs": [],
   "source": [
    "import matplotlib.pyplot as plt\n",
    "import tensorflow as tf\n",
    "import pandas as pd\n",
    "import os\n",
    "\n",
    "\n",
    "from core.losses import CustomMSE, ASTROMERLoss, CustomBCE\n",
    "from core.plot import plot_lc, plot_input_layer\n",
    "from core.callbacks import get_callbacks\n",
    "from core.transformer import ASTROMER\n",
    "from core.metrics import CustomACC\n",
    "from core.input import InputLayer\n",
    "from core.data  import (create_dataset, \n",
    "                        load_records)\n",
    "\n",
    "%load_ext autoreload\n",
    "%autoreload 2"
   ]
  },
  {
   "cell_type": "code",
   "execution_count": 2,
   "metadata": {},
   "outputs": [],
   "source": [
    "source = './data/raw_data/macho/MACHO/LCs' # lightcurves folder\n",
    "metadata = 'data/raw_data/macho/MACHO/MACHO_dataset.dat' # metadata file\n",
    "target = 'data/records/macho/' # where records will be stored"
   ]
  },
  {
   "cell_type": "markdown",
   "metadata": {},
   "source": [
    "### Metadata frame sample"
   ]
  },
  {
   "cell_type": "code",
   "execution_count": 3,
   "metadata": {},
   "outputs": [
    {
     "data": {
      "text/html": [
       "<div>\n",
       "<style scoped>\n",
       "    .dataframe tbody tr th:only-of-type {\n",
       "        vertical-align: middle;\n",
       "    }\n",
       "\n",
       "    .dataframe tbody tr th {\n",
       "        vertical-align: top;\n",
       "    }\n",
       "\n",
       "    .dataframe thead th {\n",
       "        text-align: right;\n",
       "    }\n",
       "</style>\n",
       "<table border=\"1\" class=\"dataframe\">\n",
       "  <thead>\n",
       "    <tr style=\"text-align: right;\">\n",
       "      <th></th>\n",
       "      <th>Class</th>\n",
       "      <th>N</th>\n",
       "      <th>Path</th>\n",
       "      <th>Band</th>\n",
       "    </tr>\n",
       "  </thead>\n",
       "  <tbody>\n",
       "    <tr>\n",
       "      <th>15</th>\n",
       "      <td>RRL</td>\n",
       "      <td>1128</td>\n",
       "      <td>lc_2_4909_905_B_mjd.dat</td>\n",
       "      <td>B</td>\n",
       "    </tr>\n",
       "  </tbody>\n",
       "</table>\n",
       "</div>"
      ],
      "text/plain": [
       "   Class     N                     Path Band\n",
       "15   RRL  1128  lc_2_4909_905_B_mjd.dat    B"
      ]
     },
     "execution_count": 3,
     "metadata": {},
     "output_type": "execute_result"
    }
   ],
   "source": [
    "meta_sample = pd.read_csv(metadata).sample(1)\n",
    "meta_sample"
   ]
  },
  {
   "cell_type": "markdown",
   "metadata": {},
   "source": [
    "### Lightcurve frame sample"
   ]
  },
  {
   "cell_type": "code",
   "execution_count": 4,
   "metadata": {},
   "outputs": [
    {
     "data": {
      "text/html": [
       "<div>\n",
       "<style scoped>\n",
       "    .dataframe tbody tr th:only-of-type {\n",
       "        vertical-align: middle;\n",
       "    }\n",
       "\n",
       "    .dataframe tbody tr th {\n",
       "        vertical-align: top;\n",
       "    }\n",
       "\n",
       "    .dataframe thead th {\n",
       "        text-align: right;\n",
       "    }\n",
       "</style>\n",
       "<table border=\"1\" class=\"dataframe\">\n",
       "  <thead>\n",
       "    <tr style=\"text-align: right;\">\n",
       "      <th></th>\n",
       "      <th>mjd</th>\n",
       "      <th>mag</th>\n",
       "      <th>errmag</th>\n",
       "    </tr>\n",
       "  </thead>\n",
       "  <tbody>\n",
       "    <tr>\n",
       "      <th>0</th>\n",
       "      <td>48823.668380</td>\n",
       "      <td>-5.658</td>\n",
       "      <td>0.519</td>\n",
       "    </tr>\n",
       "    <tr>\n",
       "      <th>1</th>\n",
       "      <td>48824.495451</td>\n",
       "      <td>-4.383</td>\n",
       "      <td>1.128</td>\n",
       "    </tr>\n",
       "    <tr>\n",
       "      <th>2</th>\n",
       "      <td>48825.513079</td>\n",
       "      <td>-5.079</td>\n",
       "      <td>0.941</td>\n",
       "    </tr>\n",
       "    <tr>\n",
       "      <th>3</th>\n",
       "      <td>48828.460231</td>\n",
       "      <td>-5.425</td>\n",
       "      <td>0.100</td>\n",
       "    </tr>\n",
       "    <tr>\n",
       "      <th>4</th>\n",
       "      <td>48829.467095</td>\n",
       "      <td>-4.876</td>\n",
       "      <td>0.061</td>\n",
       "    </tr>\n",
       "  </tbody>\n",
       "</table>\n",
       "</div>"
      ],
      "text/plain": [
       "            mjd    mag  errmag\n",
       "0  48823.668380 -5.658   0.519\n",
       "1  48824.495451 -4.383   1.128\n",
       "2  48825.513079 -5.079   0.941\n",
       "3  48828.460231 -5.425   0.100\n",
       "4  48829.467095 -4.876   0.061"
      ]
     },
     "execution_count": 4,
     "metadata": {},
     "output_type": "execute_result"
    }
   ],
   "source": [
    "lc_df = pd.read_csv(os.path.join(source,  meta_sample['Path'].values[0]))\n",
    "lc_df.head()"
   ]
  },
  {
   "cell_type": "markdown",
   "metadata": {},
   "source": [
    "### From .csv to .record "
   ]
  },
  {
   "cell_type": "code",
   "execution_count": 5,
   "metadata": {},
   "outputs": [
    {
     "name": "stderr",
     "output_type": "stream",
     "text": [
      "100%|██████████| 7/7 [00:09<00:00,  1.34s/it]\n"
     ]
    }
   ],
   "source": [
    "create_dataset(source, metadata, target, max_lcs_per_record=1000)"
   ]
  },
  {
   "cell_type": "markdown",
   "metadata": {},
   "source": [
    "### Visualizing Records"
   ]
  },
  {
   "cell_type": "code",
   "execution_count": 6,
   "metadata": {},
   "outputs": [],
   "source": [
    "input_len = 100 # maximum lightcurve length\n",
    "batch_size = 10\n",
    "dataset = load_records(target+'/train', batch_size=batch_size, input_len=input_len)"
   ]
  },
  {
   "cell_type": "code",
   "execution_count": 7,
   "metadata": {},
   "outputs": [
    {
     "data": {
      "image/png": "[encoded data removed]",
      "text/plain": [
       "<Figure size 432x288 with 1 Axes>"
      ]
     },
     "metadata": {
      "needs_background": "light"
     },
     "output_type": "display_data"
    }
   ],
   "source": [
    "fig, axes = plt.subplots(1,1)\n",
    "for batch in dataset:\n",
    "    plot_lc(batch, axes, target, n=0)\n",
    "    break"
   ]
  },
  {
   "cell_type": "markdown",
   "metadata": {},
   "source": [
    "## ASTROMER"
   ]
  },
  {
   "cell_type": "markdown",
   "metadata": {},
   "source": [
    "### Input Layer"
   ]
  },
  {
   "cell_type": "code",
   "execution_count": 8,
   "metadata": {},
   "outputs": [],
   "source": [
    "inp_layer = InputLayer()"
   ]
  },
  {
   "cell_type": "code",
   "execution_count": 9,
   "metadata": {},
   "outputs": [
    {
     "data": {
      "image/png": "[encoded data removed]",
      "text/plain": [
       "<Figure size 1080x360 with 2 Axes>"
      ]
     },
     "metadata": {
      "needs_background": "light"
     },
     "output_type": "display_data"
    }
   ],
   "source": [
    "fig, axes = plt.subplots(1,2, figsize=(15,5))\n",
    "for batch in dataset:\n",
    "    n = 0\n",
    "    plot_lc(batch, axes[0], target, n=0, title='Original Sample')\n",
    "    # Input transformation\n",
    "    in_dict = inp_layer(batch)    \n",
    "    \n",
    "    plot_input_layer(in_dict, axes[1], input_len, n=0)\n",
    "    break"
   ]
  },
  {
   "cell_type": "markdown",
   "metadata": {},
   "source": [
    "### Training"
   ]
  },
  {
   "cell_type": "code",
   "execution_count": 10,
   "metadata": {},
   "outputs": [],
   "source": [
    "exp_save = './experiments/macho_v1' # folder to save weigths and tensorboard logs"
   ]
  },
  {
   "cell_type": "code",
   "execution_count": 11,
   "metadata": {},
   "outputs": [],
   "source": [
    "# Loading data\n",
    "train_batches = load_records(os.path.join(target, 'train'), \n",
    "                             batch_size, \n",
    "                             input_len=input_len)\n",
    "valid_batches = load_records(os.path.join(target, 'val'), \n",
    "                             batch_size, \n",
    "                             input_len=input_len)\n",
    "test_batches = load_records(os.path.join(target, 'test'), \n",
    "                             batch_size, \n",
    "                             input_len=input_len)"
   ]
  },
  {
   "cell_type": "code",
   "execution_count": 12,
   "metadata": {},
   "outputs": [],
   "source": [
    "# Model Instance\n",
    "transformer = ASTROMER(num_layers=2, # Number of self-attention layers\n",
    "                       d_model=1628, # attention dimensionality (should be divisor of num_heads)\n",
    "                       num_heads=4,# Number of self-attention heads\n",
    "                       dff=1024, # Dimensionality of the middle  dense layer at the end of the encoder\n",
    "                       rate=0.1, # Dropout rate\n",
    "                       base=10000, # Base for positional encoder\n",
    "                       mask_frac=0.15, # fraction of the total to be masked\n",
    "                       npp_frac=0.5, # next portion prediction rate\n",
    "                       rand_frac=0.1, # 'rand_frac' of the 'mask_frac' to change [MASK] by random magnitudes\n",
    "                       same_frac=0.1, # 'same_frac' of the 'mask_frac' to change [MASK] by current magnitudes\n",
    "                       sep_token=102., # end of sequence token\n",
    "                       cls_token=101.) # NPP class token"
   ]
  },
  {
   "cell_type": "code",
   "execution_count": 13,
   "metadata": {},
   "outputs": [
    {
     "name": "stdout",
     "output_type": "stream",
     "text": [
      "Model: \"model\"\n",
      "__________________________________________________________________________________________________\n",
      "Layer (type)                    Output Shape         Param #     Connected to                     \n",
      "==================================================================================================\n",
      "Serie1 (InputLayer)             [(10, 50, 3)]        0                                            \n",
      "__________________________________________________________________________________________________\n",
      "Serie2 (InputLayer)             [(10, 50, 3)]        0                                            \n",
      "__________________________________________________________________________________________________\n",
      "steps_1 (InputLayer)            [(10,)]              0                                            \n",
      "__________________________________________________________________________________________________\n",
      "steps_2 (InputLayer)            [(10,)]              0                                            \n",
      "__________________________________________________________________________________________________\n",
      "BuildInput (InputLayer)         {'inputs': (10, 103, 0           Serie1[0][0]                     \n",
      "                                                                 Serie2[0][0]                     \n",
      "                                                                 steps_1[0][0]                    \n",
      "                                                                 steps_2[0][0]                    \n",
      "__________________________________________________________________________________________________\n",
      "tf.__operators__.getitem (Slici (None,)              0           BuildInput[0][2]                 \n",
      "__________________________________________________________________________________________________\n",
      "tf.expand_dims (TFOpLambda)     (None, 1)            0           tf.__operators__.getitem[0][0]   \n",
      "__________________________________________________________________________________________________\n",
      "Encoder (Encoder)               (10, 103, 1628)      38514016    BuildInput[0][0]                 \n",
      "                                                                 BuildInput[0][1]                 \n",
      "                                                                 BuildInput[0][2]                 \n",
      "                                                                 BuildInput[0][3]                 \n",
      "                                                                 BuildInput[0][4]                 \n",
      "__________________________________________________________________________________________________\n",
      "tf.concat (TFOpLambda)          (None, None)         0           tf.expand_dims[0][0]             \n",
      "                                                                 BuildInput[0][2]                 \n",
      "__________________________________________________________________________________________________\n",
      "Dense (OutputLayer)             (10, 104, 1)         4887        Encoder[0][0]                    \n",
      "__________________________________________________________________________________________________\n",
      "tf.expand_dims_1 (TFOpLambda)   (None, None, 1)      0           tf.concat[0][0]                  \n",
      "__________________________________________________________________________________________________\n",
      "tf.concat_1 (TFOpLambda)        (10, 104, 2)         0           Dense[0][0]                      \n",
      "                                                                 tf.expand_dims_1[0][0]           \n",
      "==================================================================================================\n",
      "Total params: 38,518,903\n",
      "Trainable params: 38,518,903\n",
      "Non-trainable params: 0\n",
      "__________________________________________________________________________________________________\n"
     ]
    }
   ],
   "source": [
    "# Optimizer\n",
    "learning_rate = 1e-3\n",
    "optimizer = tf.keras.optimizers.Adam(learning_rate,\n",
    "                                     beta_1=0.9,\n",
    "                                     beta_2=0.98,\n",
    "                                     epsilon=1e-9)\n",
    "# Model Instance\n",
    "# Compile\n",
    "transformer.compile(optimizer=optimizer,\n",
    "                    loss=ASTROMERLoss(),\n",
    "                    metrics=[CustomMSE(), CustomBCE(), CustomACC()])\n",
    "# Create graph\n",
    "transformer.model(batch_size).summary()"
   ]
  },
  {
   "cell_type": "code",
   "execution_count": 14,
   "metadata": {},
   "outputs": [
    {
     "name": "stdout",
     "output_type": "stream",
     "text": [
      "1/1 [==============================] - 8s 8s/step - loss: 12.4591 - MSE: 12.1279 - BCE: 0.3312 - Accuracy: 0.9000 - val_loss: 3680.2649 - val_MSE: 3668.1968 - val_BCE: 12.0680 - val_Accuracy: 0.5000\n",
      "CPU times: user 18.7 s, sys: 956 ms, total: 19.6 s\n",
      "Wall time: 12.6 s\n"
     ]
    },
    {
     "data": {
      "text/plain": [
       "<tensorflow.python.keras.callbacks.History at 0x7f06a1f078d0>"
      ]
     },
     "execution_count": 14,
     "metadata": {},
     "output_type": "execute_result"
    }
   ],
   "source": [
    "%%time\n",
    "# Training\n",
    "transformer.fit(train_batches.take(1),\n",
    "                epochs=1,\n",
    "                verbose=1,\n",
    "                validation_data=valid_batches.take(1),\n",
    "                callbacks=get_callbacks(exp_save))"
   ]
  },
  {
   "cell_type": "code",
   "execution_count": 15,
   "metadata": {},
   "outputs": [
    {
     "name": "stdout",
     "output_type": "stream",
     "text": [
      "2/2 [==============================] - 1s 64ms/step - loss: 1290.5924 - MSE: 1514.2793 - BCE: 14.0307 - Accuracy: 0.4167\n"
     ]
    }
   ],
   "source": [
    "# Testing\n",
    "metrics = transformer.evaluate(test_batches)"
   ]
  },
  {
   "cell_type": "code",
   "execution_count": null,
   "metadata": {},
   "outputs": [],
   "source": []
  },
  {
   "cell_type": "code",
   "execution_count": null,
   "metadata": {},
   "outputs": [],
   "source": []
  }
 ],
 "metadata": {
  "kernelspec": {
   "display_name": "Python 3",
   "language": "python",
   "name": "python3"
  },
  "language_info": {
   "codemirror_mode": {
    "name": "ipython",
    "version": 3
   },
   "file_extension": ".py",
   "mimetype": "text/x-python",
   "name": "python",
   "nbconvert_exporter": "python",
   "pygments_lexer": "ipython3",
   "version": "3.6.9"
  }
 },
 "nbformat": 4,
 "nbformat_minor": 2
}
