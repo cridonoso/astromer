{
 "cells": [
  {
   "cell_type": "code",
   "execution_count": 2,
   "metadata": {},
   "outputs": [
    {
     "name": "stdout",
     "output_type": "stream",
     "text": [
      "/home/cridonoso/Documents/astromer\n"
     ]
    },
    {
     "name": "stderr",
     "output_type": "stream",
     "text": [
      "/home/cridonoso/miniconda3/envs/tf2.14/lib/python3.9/site-packages/IPython/core/magics/osm.py:417: UserWarning: using dhist requires you to install the `pickleshare` library.\n",
      "  self.shell.db['dhist'] = compress_dhist(dhist)[-100:]\n"
     ]
    }
   ],
   "source": [
    "cd ../../.."
   ]
  },
  {
   "cell_type": "code",
   "execution_count": 106,
   "metadata": {},
   "outputs": [],
   "source": [
    "from pydrive.auth import GoogleAuth\n",
    "from pydrive.drive import GoogleDrive\n",
    "import pandas as pd\n",
    "import polars as pl\n",
    "import os\n",
    "import toml\n",
    "\n"
   ]
  },
  {
   "cell_type": "code",
   "execution_count": null,
   "metadata": {},
   "outputs": [],
   "source": [
    "gauth = GoogleAuth()\n",
    "gauth.LocalWebserverAuth()\n",
    "drive = GoogleDrive(gauth)"
   ]
  },
  {
   "cell_type": "code",
   "execution_count": 74,
   "metadata": {},
   "outputs": [],
   "source": [
    "# List files in the specified folder\n",
    "folder_id = 'root'\n",
    "file_list = drive.ListFile({'includeItemsFromAllDrives':True,\n",
    "                            'driveId':'0ANj7Lpiu7QacUk9PVA',\n",
    "                            'corpora':'drive',\n",
    "                            'supportsAllDrives':True,\n",
    "                            # This is the ID of the parent folder. It can be becked on the webpage or via another query\n",
    "                            'q': \"'1HaRYj6lA2uIS4poQw2yIZYZaRTmD82Wu' in parents and trashed=false\"}).GetList()"
   ]
  },
  {
   "cell_type": "code",
   "execution_count": 75,
   "metadata": {},
   "outputs": [],
   "source": [
    "ids = [{'name': file['title'], 'id': file['id']} for file in file_list]"
   ]
  },
  {
   "cell_type": "code",
   "execution_count": 76,
   "metadata": {},
   "outputs": [
    {
     "name": "stdout",
     "output_type": "stream",
     "text": [
      "./data/temp/metadata.parquet\n",
      "./data/temp/light_curves/Group_4_part.2\n",
      "./data/temp/light_curves/Group_4_part.5\n",
      "./data/temp/light_curves/Group_4_part.4\n"
     ]
    }
   ],
   "source": [
    "root = './data/temp/'\n",
    "os.makedirs(os.path.join(root, 'light_curves'), exist_ok=True)\n",
    "for i in ids:\n",
    "    file_list = drive.ListFile({'includeItemsFromAllDrives':True,\n",
    "                            'driveId':'0ANj7Lpiu7QacUk9PVA',\n",
    "                            'corpora':'drive',\n",
    "                            'supportsAllDrives':True,\n",
    "                            'q': \"'{}' in parents and trashed=false\".format(i['id'])}).GetList()\n",
    "\n",
    "    for i, file in enumerate(file_list):    \n",
    "        if 'metadata' in file['originalFilename']:\n",
    "            target_file = os.path.join(root, 'metadata.parquet')\n",
    "        else:\n",
    "            name = file['originalFilename'].split('.parquet')[0]\n",
    "            target_file = os.path.join(root, 'light_curves', name)\n",
    "        print(target_file)\n",
    "        file.GetContentFile(target_file)\n",
    "        if i == 3:\n",
    "            break\n",
    "    break"
   ]
  },
  {
   "cell_type": "code",
   "execution_count": 135,
   "metadata": {},
   "outputs": [],
   "source": [
    "observations = pl.read_parquet('./data/temp/light_curves/*')\n",
    "metadata     = pd.read_parquet('./data/temp/metadata.parquet')"
   ]
  },
  {
   "cell_type": "code",
   "execution_count": 136,
   "metadata": {},
   "outputs": [
    {
     "data": {
      "text/html": [
       "<div>\n",
       "<style scoped>\n",
       "    .dataframe tbody tr th:only-of-type {\n",
       "        vertical-align: middle;\n",
       "    }\n",
       "\n",
       "    .dataframe tbody tr th {\n",
       "        vertical-align: top;\n",
       "    }\n",
       "\n",
       "    .dataframe thead th {\n",
       "        text-align: right;\n",
       "    }\n",
       "</style>\n",
       "<table border=\"1\" class=\"dataframe\">\n",
       "  <thead>\n",
       "    <tr style=\"text-align: right;\">\n",
       "      <th></th>\n",
       "      <th>newID</th>\n",
       "      <th>Field</th>\n",
       "      <th>Tile</th>\n",
       "      <th>Star_id</th>\n",
       "      <th>shard</th>\n",
       "      <th>Class</th>\n",
       "      <th>ID</th>\n",
       "      <th>Band</th>\n",
       "      <th>Label</th>\n",
       "    </tr>\n",
       "  </thead>\n",
       "  <tbody>\n",
       "  </tbody>\n",
       "</table>\n",
       "</div>"
      ],
      "text/plain": [
       "Empty DataFrame\n",
       "Columns: [newID, Field, Tile, Star_id, shard, Class, ID, Band, Label]\n",
       "Index: []"
      ]
     },
     "execution_count": 136,
     "metadata": {},
     "output_type": "execute_result"
    }
   ],
   "source": [
    "metadata"
   ]
  },
  {
   "cell_type": "code",
   "execution_count": 99,
   "metadata": {},
   "outputs": [],
   "source": [
    "new_meta = metadata.drop_duplicates('newID')\n",
    "del new_meta['Band']\n",
    "cardinality = metadata.groupby(['newID']).count()['Band'].reset_index()\n",
    "new_meta = pd.merge(new_meta, cardinality, on='newID', how='inner')\n",
    "new_meta['Label'] = pd.Categorical(new_meta['Class']).codes\n"
   ]
  },
  {
   "cell_type": "code",
   "execution_count": 123,
   "metadata": {},
   "outputs": [],
   "source": [
    "to_change = {}\n",
    "for index, u in enumerate(new_meta['shard'].unique()):\n",
    "    shard_name = str(index).rjust(3, '0')\n",
    "    to_change[u] = 'shard_{}'.format(shard_name)\n",
    "\n",
    "new_meta['shard'] = new_meta['shard'].replace(to_change)"
   ]
  },
  {
   "cell_type": "code",
   "execution_count": 124,
   "metadata": {},
   "outputs": [
    {
     "data": {
      "text/plain": [
       "0         shard_000\n",
       "1         shard_000\n",
       "2         shard_000\n",
       "3         shard_000\n",
       "4         shard_000\n",
       "            ...    \n",
       "550040    shard_041\n",
       "550041    shard_041\n",
       "550042    shard_041\n",
       "550043    shard_041\n",
       "550044    shard_041\n",
       "Name: shard, Length: 550045, dtype: string"
      ]
     },
     "execution_count": 124,
     "metadata": {},
     "output_type": "execute_result"
    }
   ],
   "source": []
  },
  {
   "cell_type": "code",
   "execution_count": 116,
   "metadata": {},
   "outputs": [],
   "source": [
    "target_folder = \"./data/records/bigmacho/{}\".format(ids[0]['name'])\n",
    "config = {\n",
    "    \"id_column\": {\n",
    "        \"value\": \"newID\",\n",
    "        \"dtype\": \"integer\",\n",
    "    },\n",
    "    \"target\": {\n",
    "        \"path\": target_folder,\n",
    "        \"dtype\": \"string\"\n",
    "    },\n",
    "    \"context_features\": {\n",
    "        'path': \"./data/temp/metadata.parquet\",\n",
    "        'dtype': \"string\",\n",
    "        'value': [ \"ID\", \"Class\", \"Band\", \"Label\", \"shard\",],\n",
    "        'dtypes': [ \"string\", \"string\", \"integer\", \"integer\", \"string\",]\n",
    "    },\n",
    "    \"sequential_features\": {\n",
    "        'path': \"./data/temp/light_curves\",\n",
    "        'value': [ \"observation_date\", \"mag\", \"err\"],\n",
    "        'dtypes': [ \"float\", \"float\", \"float\"],\n",
    "    }\n",
    "}"
   ]
  },
  {
   "cell_type": "code",
   "execution_count": 117,
   "metadata": {},
   "outputs": [],
   "source": [
    "os.makedirs(target_folder, exist_ok=True)\n",
    "with open(os.path.join(target_folder, 'config.toml'), \"w\") as f:\n",
    "    toml.dump(config, f)"
   ]
  },
  {
   "cell_type": "code",
   "execution_count": 118,
   "metadata": {},
   "outputs": [
    {
     "data": {
      "text/plain": [
       "'./data/records/bigmacho/F_309'"
      ]
     },
     "execution_count": 118,
     "metadata": {},
     "output_type": "execute_result"
    }
   ],
   "source": [
    "target_folder"
   ]
  },
  {
   "cell_type": "code",
   "execution_count": null,
   "metadata": {},
   "outputs": [],
   "source": []
  }
 ],
 "metadata": {
  "kernelspec": {
   "display_name": "tf2.14",
   "language": "python",
   "name": "python3"
  },
  "language_info": {
   "codemirror_mode": {
    "name": "ipython",
    "version": 3
   },
   "file_extension": ".py",
   "mimetype": "text/x-python",
   "name": "python",
   "nbconvert_exporter": "python",
   "pygments_lexer": "ipython3",
   "version": "3.9.19"
  }
 },
 "nbformat": 4,
 "nbformat_minor": 2
}
