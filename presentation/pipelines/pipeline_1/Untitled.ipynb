{
 "cells": [
  {
   "cell_type": "code",
   "execution_count": 2,
   "id": "4d875e69",
   "metadata": {},
   "outputs": [
    {
     "name": "stdout",
     "output_type": "stream",
     "text": [
      "/home\n"
     ]
    }
   ],
   "source": [
    "cd /home"
   ]
  },
  {
   "cell_type": "code",
   "execution_count": 3,
   "id": "b9ba85c2",
   "metadata": {},
   "outputs": [],
   "source": [
    "import tensorflow as tf \n",
    "\n",
    "import matplotlib.pyplot as plt \n",
    "import os\n",
    "\n",
    "from presentation.pipelines.steps import load_pt_model, build_loader\n",
    "\n",
    "os.environ[\"CUDA_VISIBLE_DEVICES\"] = \"-1\"\n",
    "\n",
    "%load_ext autoreload\n",
    "%autoreload 2"
   ]
  },
  {
   "cell_type": "code",
   "execution_count": 4,
   "id": "8062d9e1",
   "metadata": {},
   "outputs": [],
   "source": [
    "path = './presentation/results/bugstromer_1/2024-02-01_13-54-17/pretraining/'"
   ]
  },
  {
   "cell_type": "code",
   "execution_count": 5,
   "id": "1d2fb789",
   "metadata": {},
   "outputs": [
    {
     "name": "stdout",
     "output_type": "stream",
     "text": [
      "[INFO] Zero architecture loaded\n",
      "[INFO] Using masked-att with alpha = 1.00\n",
      "[INFO] Using masked-att with alpha = 1.00\n"
     ]
    },
    {
     "name": "stderr",
     "output_type": "stream",
     "text": [
      "2024-03-20 13:30:03.696859: E tensorflow/compiler/xla/stream_executor/cuda/cuda_driver.cc:267] failed call to cuInit: CUDA_ERROR_NO_DEVICE: no CUDA-capable device is detected\n",
      "2024-03-20 13:30:03.696914: I tensorflow/compiler/xla/stream_executor/cuda/cuda_diagnostics.cc:169] retrieving CUDA diagnostic information for host: 99b123e2fc75\n",
      "2024-03-20 13:30:03.696926: I tensorflow/compiler/xla/stream_executor/cuda/cuda_diagnostics.cc:176] hostname: 99b123e2fc75\n",
      "2024-03-20 13:30:03.697090: I tensorflow/compiler/xla/stream_executor/cuda/cuda_diagnostics.cc:200] libcuda reported version is: NOT_FOUND: was unable to find libcuda.so DSO loaded into this program\n",
      "2024-03-20 13:30:03.697132: I tensorflow/compiler/xla/stream_executor/cuda/cuda_diagnostics.cc:204] kernel reported version is: 535.104.5\n",
      "2024-03-20 13:30:03.697547: I tensorflow/core/platform/cpu_feature_guard.cc:193] This TensorFlow binary is optimized with oneAPI Deep Neural Network Library (oneDNN) to use the following CPU instructions in performance-critical operations:  AVX2 FMA\n",
      "To enable them in other operations, rebuild TensorFlow with the appropriate compiler flags.\n"
     ]
    },
    {
     "name": "stdout",
     "output_type": "stream",
     "text": [
      "WARNING:tensorflow:From /usr/local/lib/python3.8/dist-packages/tensorflow/python/autograph/pyct/static_analysis/liveness.py:83: Analyzer.lamba_check (from tensorflow.python.autograph.pyct.static_analysis.liveness) is deprecated and will be removed after 2023-09-23.\n",
      "Instructions for updating:\n",
      "Lambda fuctions will be no more assumed to be used in the statement where they are used, or at least in the same block. https://github.com/tensorflow/tensorflow/issues/56089\n"
     ]
    },
    {
     "name": "stderr",
     "output_type": "stream",
     "text": [
      "2024-03-20 13:30:04,017 - WARNING - From /usr/local/lib/python3.8/dist-packages/tensorflow/python/autograph/pyct/static_analysis/liveness.py:83: Analyzer.lamba_check (from tensorflow.python.autograph.pyct.static_analysis.liveness) is deprecated and will be removed after 2023-09-23.\n",
      "Instructions for updating:\n",
      "Lambda fuctions will be no more assumed to be used in the statement where they are used, or at least in the same block. https://github.com/tensorflow/tensorflow/issues/56089\n"
     ]
    },
    {
     "name": "stdout",
     "output_type": "stream",
     "text": [
      "[INFO] Using PE with c: 2.0\n",
      "[INFO] Masking Query and Key tokens\n",
      "[INFO] Masking Query and Key tokens\n"
     ]
    }
   ],
   "source": [
    "model, config = load_pt_model(path)"
   ]
  },
  {
   "cell_type": "code",
   "execution_count": 12,
   "id": "169e663b",
   "metadata": {},
   "outputs": [
    {
     "name": "stdout",
     "output_type": "stream",
     "text": [
      "[INFO] Probed: 0.50 Random: 0.20 Same: 0.20\n",
      "[INFO] Repeating dataset x1 times\n",
      "[INFO] Loading PT task: Masking\n",
      "[INFO] Zero\n",
      "[INFO] Probed: 0.50 Random: 0.20 Same: 0.20\n",
      "[INFO] Repeating dataset x1 times\n",
      "[INFO] Loading PT task: Masking\n",
      "[INFO] Zero\n",
      "[INFO] Probed: 0.50 Random: 0.20 Same: 0.20\n",
      "[INFO] Repeating dataset x1 times\n",
      "[INFO] Loading PT task: Masking\n",
      "[INFO] Zero\n"
     ]
    }
   ],
   "source": [
    "loader = build_loader('./data/records/macho/', config)"
   ]
  },
  {
   "cell_type": "code",
   "execution_count": null,
   "id": "6339b04d",
   "metadata": {},
   "outputs": [],
   "source": []
  },
  {
   "cell_type": "code",
   "execution_count": 28,
   "id": "b08ef256",
   "metadata": {},
   "outputs": [
    {
     "data": {
      "text/plain": [
       "<keras.layers.core.dense.Dense at 0x7fba02d38fa0>"
      ]
     },
     "execution_count": 28,
     "metadata": {},
     "output_type": "execute_result"
    }
   ],
   "source": [
    "model.get_layer('encoder').enc_layers[0].mha.wq"
   ]
  },
  {
   "cell_type": "code",
   "execution_count": 16,
   "id": "e5f5963e",
   "metadata": {},
   "outputs": [
    {
     "name": "stderr",
     "output_type": "stream",
     "text": [
      "/usr/local/lib/python3.8/dist-packages/keras/engine/functional.py:638: UserWarning: Input dict contained keys ['mask_out'] which did not match any model input. They will be ignored by the model.\n",
      "  inputs = self._flatten_to_reference_inputs(inputs)\n"
     ]
    },
    {
     "name": "stdout",
     "output_type": "stream",
     "text": [
      "[INFO] Using PE with c: 2.0\n",
      "[INFO] Masking Query and Key tokens\n",
      "[INFO] Masking Query and Key tokens\n"
     ]
    }
   ],
   "source": [
    "for x,y in loader['test'].take(1):\n",
    "    y_pred = model(x)"
   ]
  },
  {
   "cell_type": "code",
   "execution_count": null,
   "id": "e749d396",
   "metadata": {},
   "outputs": [],
   "source": []
  },
  {
   "cell_type": "code",
   "execution_count": null,
   "id": "752ae98f",
   "metadata": {},
   "outputs": [],
   "source": []
  }
 ],
 "metadata": {
  "kernelspec": {
   "display_name": "Python 3 (ipykernel)",
   "language": "python",
   "name": "python3"
  },
  "language_info": {
   "codemirror_mode": {
    "name": "ipython",
    "version": 3
   },
   "file_extension": ".py",
   "mimetype": "text/x-python",
   "name": "python",
   "nbconvert_exporter": "python",
   "pygments_lexer": "ipython3",
   "version": "3.8.10"
  }
 },
 "nbformat": 4,
 "nbformat_minor": 5
}
