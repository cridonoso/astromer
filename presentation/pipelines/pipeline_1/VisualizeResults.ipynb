{
 "cells": [
  {
   "cell_type": "code",
   "execution_count": 1,
   "id": "ef57e09c",
   "metadata": {},
   "outputs": [
    {
     "name": "stdout",
     "output_type": "stream",
     "text": [
      "/home\n"
     ]
    }
   ],
   "source": [
    "cd /home"
   ]
  },
  {
   "cell_type": "code",
   "execution_count": 2,
   "id": "fb63ed0b",
   "metadata": {},
   "outputs": [
    {
     "name": "stderr",
     "output_type": "stream",
     "text": [
      "2024-04-02 17:03:26.462168: I tensorflow/core/platform/cpu_feature_guard.cc:193] This TensorFlow binary is optimized with oneAPI Deep Neural Network Library (oneDNN) to use the following CPU instructions in performance-critical operations:  AVX2 FMA\n",
      "To enable them in other operations, rebuild TensorFlow with the appropriate compiler flags.\n"
     ]
    }
   ],
   "source": [
    "import matplotlib.pyplot as plt\n",
    "import tensorflow as tf\n",
    "import numpy as np\n",
    "import pandas as pd\n",
    "import mlflow\n",
    "import os\n",
    "\n",
    "from sklearn.metrics import r2_score, mean_squared_error\n",
    "from src.utils import get_metrics\n",
    "\n",
    "from presentation.pipelines.steps.model_design import load_pt_model\n",
    "from presentation.pipelines.steps.load_data import build_loader \n",
    "\n",
    "\n",
    "os.environ[\"CUDA_VISIBLE_DEVICES\"] = \"-1\"\n",
    "\n",
    "%load_ext autoreload\n",
    "%autoreload 2"
   ]
  },
  {
   "cell_type": "markdown",
   "id": "12a3d613",
   "metadata": {},
   "source": [
    "## Pretraining"
   ]
  },
  {
   "cell_type": "code",
   "execution_count": 15,
   "id": "a6fef353",
   "metadata": {},
   "outputs": [
    {
     "name": "stdout",
     "output_type": "stream",
     "text": [
      "[INFO] Masking Query tokens only\n",
      "[INFO] Masking Query tokens only\n"
     ]
    },
    {
     "data": {
      "text/plain": [
       "'./data/records/macho_clean/'"
      ]
     },
     "execution_count": 15,
     "metadata": {},
     "output_type": "execute_result"
    }
   ],
   "source": [
    "root = './presentation/results/lfgr/2024-03-26_04-14-20/'\n",
    "\n",
    "astromer, config = load_pt_model(os.path.join(root, 'pretraining'))\n",
    "config['data']"
   ]
  },
  {
   "cell_type": "code",
   "execution_count": 16,
   "id": "1a2ba540",
   "metadata": {},
   "outputs": [
    {
     "data": {
      "text/html": [
       "<div>\n",
       "<style scoped>\n",
       "    .dataframe tbody tr th:only-of-type {\n",
       "        vertical-align: middle;\n",
       "    }\n",
       "\n",
       "    .dataframe tbody tr th {\n",
       "        vertical-align: top;\n",
       "    }\n",
       "\n",
       "    .dataframe thead th {\n",
       "        text-align: right;\n",
       "    }\n",
       "</style>\n",
       "<table border=\"1\" class=\"dataframe\">\n",
       "  <thead>\n",
       "    <tr style=\"text-align: right;\">\n",
       "      <th></th>\n",
       "      <th>arch</th>\n",
       "      <th>mask_format</th>\n",
       "      <th>probed</th>\n",
       "      <th>same</th>\n",
       "      <th>scheduler</th>\n",
       "      <th>use_leak</th>\n",
       "      <th>lr</th>\n",
       "      <th>num_heads</th>\n",
       "    </tr>\n",
       "  </thead>\n",
       "  <tbody>\n",
       "    <tr>\n",
       "      <th>0</th>\n",
       "      <td>base</td>\n",
       "      <td>Q</td>\n",
       "      <td>0.5</td>\n",
       "      <td>0.2</td>\n",
       "      <td>False</td>\n",
       "      <td>True</td>\n",
       "      <td>0.00001</td>\n",
       "      <td>4</td>\n",
       "    </tr>\n",
       "  </tbody>\n",
       "</table>\n",
       "</div>"
      ],
      "text/plain": [
       "   arch mask_format  probed  same  scheduler  use_leak       lr  num_heads\n",
       "0  base           Q     0.5   0.2      False      True  0.00001          4"
      ]
     },
     "execution_count": 16,
     "metadata": {},
     "output_type": "execute_result"
    }
   ],
   "source": [
    "pd.DataFrame(config, index=[0])[['arch', 'mask_format', 'probed', 'same', 'scheduler', 'use_leak', 'lr', 'num_heads']]"
   ]
  },
  {
   "cell_type": "code",
   "execution_count": 17,
   "id": "508927cc",
   "metadata": {},
   "outputs": [
    {
     "name": "stdout",
     "output_type": "stream",
     "text": [
      "[INFO] Probed: 0.50 Random: 0.20 Same: 0.20\n",
      "[INFO] Repeating dataset x1 times\n",
      "[INFO] Loading PT task: Masking\n",
      "[INFO] Probed: 0.50 Random: 0.20 Same: 0.20\n",
      "[INFO] Repeating dataset x1 times\n",
      "[INFO] Loading PT task: Masking\n",
      "[INFO] Probed: 0.50 Random: 0.20 Same: 0.20\n",
      "[INFO] Repeating dataset x1 times\n",
      "[INFO] Loading PT task: Masking\n"
     ]
    }
   ],
   "source": [
    "data_path = './data/records/macho_clean/'\n",
    "loaders = build_loader(data_path, \n",
    "                       config, \n",
    "                       batch_size=32,\n",
    "                       clf_mode=False,\n",
    "                       sampling=False,\n",
    "                       normalize='zero-mean')"
   ]
  },
  {
   "cell_type": "code",
   "execution_count": 18,
   "id": "394134b8",
   "metadata": {},
   "outputs": [
    {
     "name": "stdout",
     "output_type": "stream",
     "text": [
      "[INFO] Masking Query tokens only\n",
      "[INFO] Masking Query tokens only\n",
      "4/4 [==============================] - 2s 146ms/step\n"
     ]
    }
   ],
   "source": [
    "output = astromer.predict(loaders['test'].take(4))"
   ]
  },
  {
   "cell_type": "code",
   "execution_count": 19,
   "id": "00225f15",
   "metadata": {},
   "outputs": [],
   "source": [
    "y = tf.ragged.boolean_mask(output['magnitudes'], output['probed_mask'])\n",
    "y_hat = tf.ragged.boolean_mask(output['reconstruction'], output['probed_mask'])\n",
    "\n",
    "r2_values = []\n",
    "mse_values = []\n",
    "for i in range(output['magnitudes'].shape[0]):\n",
    "    y = tf.boolean_mask(output['magnitudes'][i], output['probed_mask'][i])\n",
    "    y_hat = tf.boolean_mask(output['reconstruction'][i], output['probed_mask'][i])\n",
    "    r2_values.append(r2_score(y, y_hat))\n",
    "    mse_values.append(mean_squared_error(y, y_hat, squared=False))\n",
    "    \n",
    "test_r2   = np.mean(r2_values) \n",
    "test_mse = np.mean(mse_values)"
   ]
  },
  {
   "cell_type": "code",
   "execution_count": 20,
   "id": "9a2e2dba",
   "metadata": {},
   "outputs": [
    {
     "data": {
      "image/png": "[encoded data removed]",
      "text/plain": [
       "<Figure size 900x300 with 2 Axes>"
      ]
     },
     "metadata": {},
     "output_type": "display_data"
    }
   ],
   "source": [
    "fig, axes = plt.subplots(1, 2, figsize=(9, 3), gridspec_kw={'wspace':0.3})\n",
    "\n",
    "for i, metric_name in enumerate(['epoch_loss', 'epoch_r_square']):\n",
    "    train_metrics = get_metrics(os.path.join(root, 'pretraining', 'tensorboard', 'train'), \n",
    "                                metric_name=metric_name)\n",
    "    valid_metrics = get_metrics(os.path.join(root, 'pretraining', 'tensorboard', 'validation'), \n",
    "                                metric_name=metric_name)\n",
    "    axes[i].plot(train_metrics['step'], train_metrics['value'], label='train')\n",
    "    axes[i].plot(valid_metrics['step'], valid_metrics['value'], label='validation')\n",
    "    \n",
    "    if metric_name == 'epoch_r_square':\n",
    "        axes[i].plot([0, valid_metrics['step'].iloc[-1]], [test_r2, test_r2])\n",
    "        continue\n",
    "        \n",
    "    if metric_name == 'epoch_loss':\n",
    "        axes[i].plot([0, valid_metrics['step'].iloc[-1]], [test_mse, test_mse])\n",
    "        continue\n",
    "        \n",
    "    axes[i].set_ylabel(metric_name)\n",
    "    axes[i].set_xlabel('Epoch')\n",
    "    \n",
    "axes[0].set_title('mse: {:.2f} - r2: {:.2f}'.format(test_mse, test_r2))\n",
    "axes[-1].legend(bbox_to_anchor=(1., 1.2), ncols=2)\n",
    "plt.show()"
   ]
  },
  {
   "cell_type": "code",
   "execution_count": null,
   "id": "a1c93a80",
   "metadata": {},
   "outputs": [],
   "source": []
  },
  {
   "cell_type": "code",
   "execution_count": 21,
   "id": "cf8b210c",
   "metadata": {},
   "outputs": [
    {
     "data": {
      "text/plain": [
       "Text(0.5, 1.0, 'True vs Predicted')"
      ]
     },
     "execution_count": 21,
     "metadata": {},
     "output_type": "execute_result"
    },
    {
     "data": {
      "image/png": "[encoded data removed]",
      "text/plain": [
       "<Figure size 1000x300 with 3 Axes>"
      ]
     },
     "metadata": {},
     "output_type": "display_data"
    }
   ],
   "source": [
    "N = 1\n",
    "\n",
    "x_true = tf.boolean_mask(output['magnitudes'][N], output['mask_in'][N])\n",
    "x_pred = tf.boolean_mask(output['reconstruction'][N], output['mask_in'][N])\n",
    "times = tf.boolean_mask(output['times'][N], output['mask_in'][N])\n",
    "\n",
    "fig, axes = plt.subplots(1, 3, figsize=(10, 3), gridspec_kw={'wspace':0.2}, sharey=True)\n",
    "axes[0].plot(times, x_true, color='k', label='True')\n",
    "axes[0].set_title('True (Masked only)')\n",
    "axes[0].set_ylabel('Magnitude')\n",
    "axes[0].set_xlabel('Normalized Time')\n",
    "axes[1].plot(times, x_pred, color='k', label='Prediction')\n",
    "axes[1].set_title('Predicted (Masked only)')\n",
    "axes[1].set_xlabel('Time (MJD)')\n",
    "axes[2].scatter(x_true, x_pred, s=1, color='darkred')\n",
    "axes[2].plot(x_true, x_true, linewidth=0.5, color='k', linestyle='--')\n",
    "\n",
    "axes[2].set_xlabel('True Magnitude')\n",
    "axes[2].set_ylabel('Pred Magnitude')\n",
    "axes[2].set_title('True vs Predicted')"
   ]
  },
  {
   "cell_type": "markdown",
   "id": "09d47ff4",
   "metadata": {},
   "source": [
    "## Finetunem (MLFlow)"
   ]
  },
  {
   "cell_type": "code",
   "execution_count": 22,
   "id": "2cff8bca",
   "metadata": {},
   "outputs": [
    {
     "data": {
      "text/plain": [
       "Index(['run_id', 'experiment_id', 'status', 'artifact_uri', 'start_time',\n",
       "       'end_time', 'metrics.test_acc', 'metrics.test_recall',\n",
       "       'metrics.test_precision', 'metrics.test_f1',\n",
       "       ...\n",
       "       'tags.correct_loss', 'tags.bs', 'tags.data', 'tags.pt_weights',\n",
       "       'tags.spc', 'tags.debug', 'tags.gpu', 'tags.lr', 'tags.head_dim',\n",
       "       'tags.mixer'],\n",
       "      dtype='object', length=104)"
      ]
     },
     "execution_count": 22,
     "metadata": {},
     "output_type": "execute_result"
    }
   ],
   "source": [
    "runs_df = mlflow.search_runs(experiment_ids=['334210612378422708'], \n",
    "                              search_all_experiments=True)\n",
    "runs_df = runs_df[runs_df.status == 'FINISHED']\n",
    "runs_df.columns"
   ]
  },
  {
   "cell_type": "code",
   "execution_count": 23,
   "id": "a8768425",
   "metadata": {},
   "outputs": [
    {
     "ename": "KeyError",
     "evalue": "\"['metrics.val_rmse', 'metrics.test_r2'] not in index\"",
     "output_type": "error",
     "traceback": [
      "\u001b[0;31m---------------------------------------------------------------------------\u001b[0m",
      "\u001b[0;31mKeyError\u001b[0m                                  Traceback (most recent call last)",
      "Cell \u001b[0;32mIn[23], line 3\u001b[0m\n\u001b[1;32m      1\u001b[0m id_cols \u001b[38;5;241m=\u001b[39m [\u001b[38;5;124m'\u001b[39m\u001b[38;5;124mtags.downstream_data\u001b[39m\u001b[38;5;124m'\u001b[39m, \u001b[38;5;124m'\u001b[39m\u001b[38;5;124mtags.arch\u001b[39m\u001b[38;5;124m'\u001b[39m, \u001b[38;5;124m'\u001b[39m\u001b[38;5;124mtags.m_alpha\u001b[39m\u001b[38;5;124m'\u001b[39m, \u001b[38;5;124m'\u001b[39m\u001b[38;5;124mtags.probed\u001b[39m\u001b[38;5;124m'\u001b[39m, \u001b[38;5;124m'\u001b[39m\u001b[38;5;124mtags.rs\u001b[39m\u001b[38;5;124m'\u001b[39m, \u001b[38;5;124m'\u001b[39m\u001b[38;5;124mtags.same\u001b[39m\u001b[38;5;124m'\u001b[39m, \u001b[38;5;124m'\u001b[39m\u001b[38;5;124mtags.spc\u001b[39m\u001b[38;5;124m'\u001b[39m]\n\u001b[0;32m----> 3\u001b[0m selected \u001b[38;5;241m=\u001b[39m \u001b[43mruns_df\u001b[49m\u001b[43m[\u001b[49m\u001b[43mid_cols\u001b[49m\u001b[38;5;241;43m+\u001b[39;49m\u001b[43m[\u001b[49m\u001b[38;5;124;43m'\u001b[39;49m\u001b[38;5;124;43mtags.fold\u001b[39;49m\u001b[38;5;124;43m'\u001b[39;49m\u001b[43m,\u001b[49m\u001b[43m \u001b[49m\u001b[38;5;124;43m'\u001b[39;49m\u001b[38;5;124;43mmetrics.val_rmse\u001b[39;49m\u001b[38;5;124;43m'\u001b[39;49m\u001b[43m,\u001b[49m\u001b[43m \u001b[49m\u001b[38;5;124;43m'\u001b[39;49m\u001b[38;5;124;43mmetrics.test_r2\u001b[39;49m\u001b[38;5;124;43m'\u001b[39;49m\u001b[43m]\u001b[49m\u001b[43m]\u001b[49m\n\u001b[1;32m      5\u001b[0m selected\u001b[38;5;241m.\u001b[39mgroupby(id_cols)\u001b[38;5;241m.\u001b[39magg({\u001b[38;5;124m'\u001b[39m\u001b[38;5;124mmetrics.val_rmse\u001b[39m\u001b[38;5;124m'\u001b[39m: [\u001b[38;5;124m'\u001b[39m\u001b[38;5;124mmean\u001b[39m\u001b[38;5;124m'\u001b[39m, \u001b[38;5;124m'\u001b[39m\u001b[38;5;124mstd\u001b[39m\u001b[38;5;124m'\u001b[39m],\n\u001b[1;32m      6\u001b[0m                                                                           \u001b[38;5;124m'\u001b[39m\u001b[38;5;124mmetrics.test_r2\u001b[39m\u001b[38;5;124m'\u001b[39m: [\u001b[38;5;124m'\u001b[39m\u001b[38;5;124mmean\u001b[39m\u001b[38;5;124m'\u001b[39m, \u001b[38;5;124m'\u001b[39m\u001b[38;5;124mstd\u001b[39m\u001b[38;5;124m'\u001b[39m]})\n",
      "File \u001b[0;32m/usr/local/lib/python3.8/dist-packages/pandas/core/frame.py:3767\u001b[0m, in \u001b[0;36mDataFrame.__getitem__\u001b[0;34m(self, key)\u001b[0m\n\u001b[1;32m   3765\u001b[0m     \u001b[38;5;28;01mif\u001b[39;00m is_iterator(key):\n\u001b[1;32m   3766\u001b[0m         key \u001b[38;5;241m=\u001b[39m \u001b[38;5;28mlist\u001b[39m(key)\n\u001b[0;32m-> 3767\u001b[0m     indexer \u001b[38;5;241m=\u001b[39m \u001b[38;5;28;43mself\u001b[39;49m\u001b[38;5;241;43m.\u001b[39;49m\u001b[43mcolumns\u001b[49m\u001b[38;5;241;43m.\u001b[39;49m\u001b[43m_get_indexer_strict\u001b[49m\u001b[43m(\u001b[49m\u001b[43mkey\u001b[49m\u001b[43m,\u001b[49m\u001b[43m \u001b[49m\u001b[38;5;124;43m\"\u001b[39;49m\u001b[38;5;124;43mcolumns\u001b[39;49m\u001b[38;5;124;43m\"\u001b[39;49m\u001b[43m)\u001b[49m[\u001b[38;5;241m1\u001b[39m]\n\u001b[1;32m   3769\u001b[0m \u001b[38;5;66;03m# take() does not accept boolean indexers\u001b[39;00m\n\u001b[1;32m   3770\u001b[0m \u001b[38;5;28;01mif\u001b[39;00m \u001b[38;5;28mgetattr\u001b[39m(indexer, \u001b[38;5;124m\"\u001b[39m\u001b[38;5;124mdtype\u001b[39m\u001b[38;5;124m\"\u001b[39m, \u001b[38;5;28;01mNone\u001b[39;00m) \u001b[38;5;241m==\u001b[39m \u001b[38;5;28mbool\u001b[39m:\n",
      "File \u001b[0;32m/usr/local/lib/python3.8/dist-packages/pandas/core/indexes/base.py:5877\u001b[0m, in \u001b[0;36mIndex._get_indexer_strict\u001b[0;34m(self, key, axis_name)\u001b[0m\n\u001b[1;32m   5874\u001b[0m \u001b[38;5;28;01melse\u001b[39;00m:\n\u001b[1;32m   5875\u001b[0m     keyarr, indexer, new_indexer \u001b[38;5;241m=\u001b[39m \u001b[38;5;28mself\u001b[39m\u001b[38;5;241m.\u001b[39m_reindex_non_unique(keyarr)\n\u001b[0;32m-> 5877\u001b[0m \u001b[38;5;28;43mself\u001b[39;49m\u001b[38;5;241;43m.\u001b[39;49m\u001b[43m_raise_if_missing\u001b[49m\u001b[43m(\u001b[49m\u001b[43mkeyarr\u001b[49m\u001b[43m,\u001b[49m\u001b[43m \u001b[49m\u001b[43mindexer\u001b[49m\u001b[43m,\u001b[49m\u001b[43m \u001b[49m\u001b[43maxis_name\u001b[49m\u001b[43m)\u001b[49m\n\u001b[1;32m   5879\u001b[0m keyarr \u001b[38;5;241m=\u001b[39m \u001b[38;5;28mself\u001b[39m\u001b[38;5;241m.\u001b[39mtake(indexer)\n\u001b[1;32m   5880\u001b[0m \u001b[38;5;28;01mif\u001b[39;00m \u001b[38;5;28misinstance\u001b[39m(key, Index):\n\u001b[1;32m   5881\u001b[0m     \u001b[38;5;66;03m# GH 42790 - Preserve name from an Index\u001b[39;00m\n",
      "File \u001b[0;32m/usr/local/lib/python3.8/dist-packages/pandas/core/indexes/base.py:5941\u001b[0m, in \u001b[0;36mIndex._raise_if_missing\u001b[0;34m(self, key, indexer, axis_name)\u001b[0m\n\u001b[1;32m   5938\u001b[0m     \u001b[38;5;28;01mraise\u001b[39;00m \u001b[38;5;167;01mKeyError\u001b[39;00m(\u001b[38;5;124mf\u001b[39m\u001b[38;5;124m\"\u001b[39m\u001b[38;5;124mNone of [\u001b[39m\u001b[38;5;132;01m{\u001b[39;00mkey\u001b[38;5;132;01m}\u001b[39;00m\u001b[38;5;124m] are in the [\u001b[39m\u001b[38;5;132;01m{\u001b[39;00maxis_name\u001b[38;5;132;01m}\u001b[39;00m\u001b[38;5;124m]\u001b[39m\u001b[38;5;124m\"\u001b[39m)\n\u001b[1;32m   5940\u001b[0m not_found \u001b[38;5;241m=\u001b[39m \u001b[38;5;28mlist\u001b[39m(ensure_index(key)[missing_mask\u001b[38;5;241m.\u001b[39mnonzero()[\u001b[38;5;241m0\u001b[39m]]\u001b[38;5;241m.\u001b[39munique())\n\u001b[0;32m-> 5941\u001b[0m \u001b[38;5;28;01mraise\u001b[39;00m \u001b[38;5;167;01mKeyError\u001b[39;00m(\u001b[38;5;124mf\u001b[39m\u001b[38;5;124m\"\u001b[39m\u001b[38;5;132;01m{\u001b[39;00mnot_found\u001b[38;5;132;01m}\u001b[39;00m\u001b[38;5;124m not in index\u001b[39m\u001b[38;5;124m\"\u001b[39m)\n",
      "\u001b[0;31mKeyError\u001b[0m: \"['metrics.val_rmse', 'metrics.test_r2'] not in index\""
     ]
    }
   ],
   "source": [
    "id_cols = ['tags.downstream_data', 'tags.arch', 'tags.m_alpha', 'tags.probed', 'tags.rs', 'tags.same', 'tags.spc']\n",
    "    \n",
    "selected = runs_df[id_cols+['tags.fold', 'metrics.val_rmse', 'metrics.test_r2']]\n",
    "\n",
    "selected.groupby(id_cols).agg({'metrics.val_rmse': ['mean', 'std'],\n",
    "                                                                          'metrics.test_r2': ['mean', 'std']})"
   ]
  },
  {
   "cell_type": "markdown",
   "id": "c3923c6a",
   "metadata": {},
   "source": [
    "## Classification (MLFlow)"
   ]
  },
  {
   "cell_type": "code",
   "execution_count": 24,
   "id": "d8cc9884",
   "metadata": {},
   "outputs": [],
   "source": [
    "runs_df = mlflow.search_runs(experiment_ids=['334210612378422708'], \n",
    "                              search_all_experiments=True)\n",
    "runs_df = runs_df[runs_df.status == 'FINISHED']\n",
    "\n",
    "runs_df = runs_df[['tags.downstream_data', 'tags.arch', 'tags.m_alpha', \n",
    "                   'tags.probed', 'tags.rs', 'tags.same', 'tags.spc', \n",
    "                   'tags.fold', 'metrics.test_f1']]\n",
    "runs_df['tags.fold'] = runs_df['tags.fold'].astype(float)\n",
    "runs_df['metrics.test_f1'] = runs_df['metrics.test_f1'].astype(float)"
   ]
  },
  {
   "cell_type": "code",
   "execution_count": 25,
   "id": "0d09d210",
   "metadata": {},
   "outputs": [
    {
     "data": {
      "text/html": [
       "<div>\n",
       "<style scoped>\n",
       "    .dataframe tbody tr th:only-of-type {\n",
       "        vertical-align: middle;\n",
       "    }\n",
       "\n",
       "    .dataframe tbody tr th {\n",
       "        vertical-align: top;\n",
       "    }\n",
       "\n",
       "    .dataframe thead tr th {\n",
       "        text-align: left;\n",
       "    }\n",
       "\n",
       "    .dataframe thead tr:last-of-type th {\n",
       "        text-align: right;\n",
       "    }\n",
       "</style>\n",
       "<table border=\"1\" class=\"dataframe\">\n",
       "  <thead>\n",
       "    <tr>\n",
       "      <th></th>\n",
       "      <th></th>\n",
       "      <th></th>\n",
       "      <th></th>\n",
       "      <th></th>\n",
       "      <th></th>\n",
       "      <th></th>\n",
       "      <th colspan=\"2\" halign=\"left\">metrics.test_f1</th>\n",
       "    </tr>\n",
       "    <tr>\n",
       "      <th></th>\n",
       "      <th></th>\n",
       "      <th></th>\n",
       "      <th></th>\n",
       "      <th></th>\n",
       "      <th></th>\n",
       "      <th></th>\n",
       "      <th>mean</th>\n",
       "      <th>std</th>\n",
       "    </tr>\n",
       "    <tr>\n",
       "      <th>tags.downstream_data</th>\n",
       "      <th>tags.arch</th>\n",
       "      <th>tags.m_alpha</th>\n",
       "      <th>tags.probed</th>\n",
       "      <th>tags.rs</th>\n",
       "      <th>tags.same</th>\n",
       "      <th>tags.spc</th>\n",
       "      <th></th>\n",
       "      <th></th>\n",
       "    </tr>\n",
       "  </thead>\n",
       "  <tbody>\n",
       "    <tr>\n",
       "      <th rowspan=\"3\" valign=\"top\">atlas</th>\n",
       "      <th rowspan=\"3\" valign=\"top\">base</th>\n",
       "      <th rowspan=\"3\" valign=\"top\">-1000000000.0</th>\n",
       "      <th rowspan=\"3\" valign=\"top\">0.5</th>\n",
       "      <th rowspan=\"3\" valign=\"top\">0.2</th>\n",
       "      <th rowspan=\"3\" valign=\"top\">0.2</th>\n",
       "      <th>100</th>\n",
       "      <td>0.067525</td>\n",
       "      <td>0.000976</td>\n",
       "    </tr>\n",
       "    <tr>\n",
       "      <th>20</th>\n",
       "      <td>0.067875</td>\n",
       "      <td>0.000957</td>\n",
       "    </tr>\n",
       "    <tr>\n",
       "      <th>500</th>\n",
       "      <td>0.067523</td>\n",
       "      <td>0.001629</td>\n",
       "    </tr>\n",
       "    <tr>\n",
       "      <th rowspan=\"3\" valign=\"top\">macho</th>\n",
       "      <th rowspan=\"3\" valign=\"top\">base</th>\n",
       "      <th rowspan=\"3\" valign=\"top\">-1000000000.0</th>\n",
       "      <th rowspan=\"3\" valign=\"top\">0.5</th>\n",
       "      <th rowspan=\"3\" valign=\"top\">0.2</th>\n",
       "      <th rowspan=\"3\" valign=\"top\">0.2</th>\n",
       "      <th>100</th>\n",
       "      <td>0.055342</td>\n",
       "      <td>0.000871</td>\n",
       "    </tr>\n",
       "    <tr>\n",
       "      <th>20</th>\n",
       "      <td>0.053188</td>\n",
       "      <td>0.005003</td>\n",
       "    </tr>\n",
       "    <tr>\n",
       "      <th>500</th>\n",
       "      <td>0.055690</td>\n",
       "      <td>0.000878</td>\n",
       "    </tr>\n",
       "  </tbody>\n",
       "</table>\n",
       "</div>"
      ],
      "text/plain": [
       "                                                                                    metrics.test_f1  \\\n",
       "                                                                                               mean   \n",
       "tags.downstream_data tags.arch tags.m_alpha  tags.probed tags.rs tags.same tags.spc                   \n",
       "atlas                base      -1000000000.0 0.5         0.2     0.2       100             0.067525   \n",
       "                                                                           20              0.067875   \n",
       "                                                                           500             0.067523   \n",
       "macho                base      -1000000000.0 0.5         0.2     0.2       100             0.055342   \n",
       "                                                                           20              0.053188   \n",
       "                                                                           500             0.055690   \n",
       "\n",
       "                                                                                               \n",
       "                                                                                          std  \n",
       "tags.downstream_data tags.arch tags.m_alpha  tags.probed tags.rs tags.same tags.spc            \n",
       "atlas                base      -1000000000.0 0.5         0.2     0.2       100       0.000976  \n",
       "                                                                           20        0.000957  \n",
       "                                                                           500       0.001629  \n",
       "macho                base      -1000000000.0 0.5         0.2     0.2       100       0.000871  \n",
       "                                                                           20        0.005003  \n",
       "                                                                           500       0.000878  "
      ]
     },
     "execution_count": 25,
     "metadata": {},
     "output_type": "execute_result"
    }
   ],
   "source": [
    "runs_df.groupby(['tags.downstream_data', 'tags.arch', 'tags.m_alpha', \n",
    "                 'tags.probed', 'tags.rs', 'tags.same', 'tags.spc']).agg({'metrics.test_f1': ['mean', 'std']})"
   ]
  },
  {
   "cell_type": "code",
   "execution_count": null,
   "id": "c76e5186",
   "metadata": {},
   "outputs": [],
   "source": []
  },
  {
   "cell_type": "code",
   "execution_count": null,
   "id": "8254fc7e",
   "metadata": {},
   "outputs": [],
   "source": []
  },
  {
   "cell_type": "code",
   "execution_count": null,
   "id": "ed9dd66a",
   "metadata": {},
   "outputs": [],
   "source": []
  }
 ],
 "metadata": {
  "kernelspec": {
   "display_name": "Python 3 (ipykernel)",
   "language": "python",
   "name": "python3"
  },
  "language_info": {
   "codemirror_mode": {
    "name": "ipython",
    "version": 3
   },
   "file_extension": ".py",
   "mimetype": "text/x-python",
   "name": "python",
   "nbconvert_exporter": "python",
   "pygments_lexer": "ipython3",
   "version": "3.8.10"
  }
 },
 "nbformat": 4,
 "nbformat_minor": 5
}
