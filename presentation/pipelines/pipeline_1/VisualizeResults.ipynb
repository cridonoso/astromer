{
 "cells": [
  {
   "cell_type": "code",
   "execution_count": 1,
   "id": "ef57e09c",
   "metadata": {},
   "outputs": [
    {
     "name": "stdout",
     "output_type": "stream",
     "text": [
      "/home\n"
     ]
    }
   ],
   "source": [
    "cd /home"
   ]
  },
  {
   "cell_type": "code",
   "execution_count": 2,
   "id": "fb63ed0b",
   "metadata": {},
   "outputs": [],
   "source": [
    "import matplotlib.pyplot as plt\n",
    "import mlflow"
   ]
  },
  {
   "cell_type": "code",
   "execution_count": 5,
   "id": "d8cc9884",
   "metadata": {},
   "outputs": [],
   "source": [
    "runs_df = mlflow.search_runs(experiment_ids=['852161655664768094'], \n",
    "                              search_all_experiments=True)\n",
    "runs_df = runs_df[runs_df.status == 'FINISHED']\n",
    "\n",
    "runs_df = runs_df[['tags.downstream_data', 'tags.arch', 'tags.m_alpha', \n",
    "                   'tags.probed', 'tags.rs', 'tags.same', 'tags.spc', \n",
    "                   'tags.fold', 'metrics.test_f1']]\n",
    "runs_df['tags.fold'] = runs_df['tags.fold'].astype(float)\n",
    "runs_df['metrics.test_f1'] = runs_df['metrics.test_f1'].astype(float)"
   ]
  },
  {
   "cell_type": "code",
   "execution_count": 6,
   "id": "0d09d210",
   "metadata": {},
   "outputs": [
    {
     "data": {
      "text/html": [
       "<div>\n",
       "<style scoped>\n",
       "    .dataframe tbody tr th:only-of-type {\n",
       "        vertical-align: middle;\n",
       "    }\n",
       "\n",
       "    .dataframe tbody tr th {\n",
       "        vertical-align: top;\n",
       "    }\n",
       "\n",
       "    .dataframe thead tr th {\n",
       "        text-align: left;\n",
       "    }\n",
       "\n",
       "    .dataframe thead tr:last-of-type th {\n",
       "        text-align: right;\n",
       "    }\n",
       "</style>\n",
       "<table border=\"1\" class=\"dataframe\">\n",
       "  <thead>\n",
       "    <tr>\n",
       "      <th></th>\n",
       "      <th></th>\n",
       "      <th></th>\n",
       "      <th></th>\n",
       "      <th></th>\n",
       "      <th></th>\n",
       "      <th></th>\n",
       "      <th colspan=\"2\" halign=\"left\">metrics.test_f1</th>\n",
       "    </tr>\n",
       "    <tr>\n",
       "      <th></th>\n",
       "      <th></th>\n",
       "      <th></th>\n",
       "      <th></th>\n",
       "      <th></th>\n",
       "      <th></th>\n",
       "      <th></th>\n",
       "      <th>mean</th>\n",
       "      <th>std</th>\n",
       "    </tr>\n",
       "    <tr>\n",
       "      <th>tags.downstream_data</th>\n",
       "      <th>tags.arch</th>\n",
       "      <th>tags.m_alpha</th>\n",
       "      <th>tags.probed</th>\n",
       "      <th>tags.rs</th>\n",
       "      <th>tags.same</th>\n",
       "      <th>tags.spc</th>\n",
       "      <th></th>\n",
       "      <th></th>\n",
       "    </tr>\n",
       "  </thead>\n",
       "  <tbody>\n",
       "    <tr>\n",
       "      <th rowspan=\"3\" valign=\"top\">atlas</th>\n",
       "      <th rowspan=\"3\" valign=\"top\">base</th>\n",
       "      <th rowspan=\"3\" valign=\"top\">1.0</th>\n",
       "      <th rowspan=\"3\" valign=\"top\">0.5</th>\n",
       "      <th rowspan=\"3\" valign=\"top\">0.2</th>\n",
       "      <th rowspan=\"3\" valign=\"top\">0.8</th>\n",
       "      <th>100</th>\n",
       "      <td>0.565016</td>\n",
       "      <td>0.165939</td>\n",
       "    </tr>\n",
       "    <tr>\n",
       "      <th>20</th>\n",
       "      <td>0.585054</td>\n",
       "      <td>0.076211</td>\n",
       "    </tr>\n",
       "    <tr>\n",
       "      <th>500</th>\n",
       "      <td>0.651385</td>\n",
       "      <td>0.052051</td>\n",
       "    </tr>\n",
       "    <tr>\n",
       "      <th rowspan=\"3\" valign=\"top\">macho</th>\n",
       "      <th rowspan=\"3\" valign=\"top\">base</th>\n",
       "      <th rowspan=\"3\" valign=\"top\">1.0</th>\n",
       "      <th rowspan=\"3\" valign=\"top\">0.5</th>\n",
       "      <th rowspan=\"3\" valign=\"top\">0.2</th>\n",
       "      <th rowspan=\"3\" valign=\"top\">0.8</th>\n",
       "      <th>100</th>\n",
       "      <td>0.575650</td>\n",
       "      <td>0.039289</td>\n",
       "    </tr>\n",
       "    <tr>\n",
       "      <th>20</th>\n",
       "      <td>0.233617</td>\n",
       "      <td>0.274173</td>\n",
       "    </tr>\n",
       "    <tr>\n",
       "      <th>500</th>\n",
       "      <td>0.618645</td>\n",
       "      <td>0.003478</td>\n",
       "    </tr>\n",
       "  </tbody>\n",
       "</table>\n",
       "</div>"
      ],
      "text/plain": [
       "                                                                                   metrics.test_f1  \\\n",
       "                                                                                              mean   \n",
       "tags.downstream_data tags.arch tags.m_alpha tags.probed tags.rs tags.same tags.spc                   \n",
       "atlas                base      1.0          0.5         0.2     0.8       100             0.565016   \n",
       "                                                                          20              0.585054   \n",
       "                                                                          500             0.651385   \n",
       "macho                base      1.0          0.5         0.2     0.8       100             0.575650   \n",
       "                                                                          20              0.233617   \n",
       "                                                                          500             0.618645   \n",
       "\n",
       "                                                                                              \n",
       "                                                                                         std  \n",
       "tags.downstream_data tags.arch tags.m_alpha tags.probed tags.rs tags.same tags.spc            \n",
       "atlas                base      1.0          0.5         0.2     0.8       100       0.165939  \n",
       "                                                                          20        0.076211  \n",
       "                                                                          500       0.052051  \n",
       "macho                base      1.0          0.5         0.2     0.8       100       0.039289  \n",
       "                                                                          20        0.274173  \n",
       "                                                                          500       0.003478  "
      ]
     },
     "execution_count": 6,
     "metadata": {},
     "output_type": "execute_result"
    }
   ],
   "source": [
    "runs_df.groupby(['tags.downstream_data', 'tags.arch', 'tags.m_alpha', \n",
    "                 'tags.probed', 'tags.rs', 'tags.same', 'tags.spc']).agg({'metrics.test_f1': ['mean', 'std']})"
   ]
  },
  {
   "cell_type": "code",
   "execution_count": null,
   "id": "c76e5186",
   "metadata": {},
   "outputs": [],
   "source": []
  },
  {
   "cell_type": "code",
   "execution_count": null,
   "id": "8254fc7e",
   "metadata": {},
   "outputs": [],
   "source": []
  },
  {
   "cell_type": "code",
   "execution_count": null,
   "id": "ed9dd66a",
   "metadata": {},
   "outputs": [],
   "source": []
  }
 ],
 "metadata": {
  "kernelspec": {
   "display_name": "Python 3 (ipykernel)",
   "language": "python",
   "name": "python3"
  },
  "language_info": {
   "codemirror_mode": {
    "name": "ipython",
    "version": 3
   },
   "file_extension": ".py",
   "mimetype": "text/x-python",
   "name": "python",
   "nbconvert_exporter": "python",
   "pygments_lexer": "ipython3",
   "version": "3.8.10"
  }
 },
 "nbformat": 4,
 "nbformat_minor": 5
}
