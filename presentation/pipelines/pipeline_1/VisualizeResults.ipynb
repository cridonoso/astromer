{
 "cells": [
  {
   "cell_type": "code",
   "execution_count": 1,
   "id": "ef57e09c",
   "metadata": {},
   "outputs": [
    {
     "name": "stdout",
     "output_type": "stream",
     "text": [
      "/home\n"
     ]
    }
   ],
   "source": [
    "cd /home"
   ]
  },
  {
   "cell_type": "code",
   "execution_count": 2,
   "id": "fb63ed0b",
   "metadata": {},
   "outputs": [
    {
     "name": "stderr",
     "output_type": "stream",
     "text": [
      "2024-03-18 12:31:16.969808: I tensorflow/core/platform/cpu_feature_guard.cc:193] This TensorFlow binary is optimized with oneAPI Deep Neural Network Library (oneDNN) to use the following CPU instructions in performance-critical operations:  AVX2 FMA\n",
      "To enable them in other operations, rebuild TensorFlow with the appropriate compiler flags.\n"
     ]
    }
   ],
   "source": [
    "import matplotlib.pyplot as plt\n",
    "import tensorflow as tf\n",
    "import numpy as np\n",
    "import pandas as pd\n",
    "import mlflow\n",
    "import os\n",
    "\n",
    "from sklearn.metrics import r2_score, mean_squared_error\n",
    "from src.utils import get_metrics\n",
    "\n",
    "from presentation.pipelines.steps.model_design import load_pt_model\n",
    "from presentation.pipelines.steps.load_data import build_loader \n",
    "\n",
    "\n",
    "os.environ[\"CUDA_VISIBLE_DEVICES\"] = \"-1\"\n",
    "\n",
    "%load_ext autoreload\n",
    "%autoreload 2"
   ]
  },
  {
   "cell_type": "markdown",
   "id": "12a3d613",
   "metadata": {},
   "source": [
    "## Pretraining"
   ]
  },
  {
   "cell_type": "code",
   "execution_count": 103,
   "id": "a6fef353",
   "metadata": {},
   "outputs": [
    {
     "name": "stdout",
     "output_type": "stream",
     "text": [
      "[INFO] Masking Query and Key tokens\n",
      "[INFO] Masking Query and Key tokens\n"
     ]
    }
   ],
   "source": [
    "root = './presentation/results/astromer_2/2024-03-18_12-13-08/'\n",
    "\n",
    "astromer, config = load_pt_model(os.path.join(root, 'pretraining'))"
   ]
  },
  {
   "cell_type": "code",
   "execution_count": 104,
   "id": "1a2ba540",
   "metadata": {},
   "outputs": [
    {
     "data": {
      "text/html": [
       "<div>\n",
       "<style scoped>\n",
       "    .dataframe tbody tr th:only-of-type {\n",
       "        vertical-align: middle;\n",
       "    }\n",
       "\n",
       "    .dataframe tbody tr th {\n",
       "        vertical-align: top;\n",
       "    }\n",
       "\n",
       "    .dataframe thead th {\n",
       "        text-align: right;\n",
       "    }\n",
       "</style>\n",
       "<table border=\"1\" class=\"dataframe\">\n",
       "  <thead>\n",
       "    <tr style=\"text-align: right;\">\n",
       "      <th></th>\n",
       "      <th>arch</th>\n",
       "      <th>mask_format</th>\n",
       "      <th>m_alpha</th>\n",
       "      <th>probed</th>\n",
       "      <th>rs</th>\n",
       "      <th>scheduler</th>\n",
       "      <th>use_leak</th>\n",
       "      <th>lr</th>\n",
       "    </tr>\n",
       "  </thead>\n",
       "  <tbody>\n",
       "    <tr>\n",
       "      <th>0</th>\n",
       "      <td>base</td>\n",
       "      <td>QK</td>\n",
       "      <td>-1.000000e+09</td>\n",
       "      <td>0.5</td>\n",
       "      <td>0.2</td>\n",
       "      <td>True</td>\n",
       "      <td>True</td>\n",
       "      <td>0.00001</td>\n",
       "    </tr>\n",
       "  </tbody>\n",
       "</table>\n",
       "</div>"
      ],
      "text/plain": [
       "   arch mask_format       m_alpha  probed   rs  scheduler  use_leak       lr\n",
       "0  base          QK -1.000000e+09     0.5  0.2       True      True  0.00001"
      ]
     },
     "execution_count": 104,
     "metadata": {},
     "output_type": "execute_result"
    }
   ],
   "source": [
    "pd.DataFrame(config, index=[0])[['arch', 'mask_format', 'm_alpha', 'probed', 'rs', 'scheduler', 'use_leak', 'lr']]"
   ]
  },
  {
   "cell_type": "code",
   "execution_count": 105,
   "id": "508927cc",
   "metadata": {},
   "outputs": [
    {
     "name": "stdout",
     "output_type": "stream",
     "text": [
      "[INFO] Probed: 0.50 Random: 0.20 Same: 0.20\n",
      "[INFO] Repeating dataset x1 times\n",
      "[INFO] Sampling random windows\n",
      "[INFO] Loading PT task: Masking\n",
      "[INFO] Probed: 0.50 Random: 0.20 Same: 0.20\n",
      "[INFO] Repeating dataset x1 times\n",
      "[INFO] Sampling random windows\n",
      "[INFO] Loading PT task: Masking\n",
      "[INFO] Probed: 0.50 Random: 0.20 Same: 0.20\n",
      "[INFO] Repeating dataset x1 times\n",
      "[INFO] Sampling random windows\n",
      "[INFO] Loading PT task: Masking\n"
     ]
    }
   ],
   "source": [
    "data_path = './data/records/macho/'\n",
    "loaders = build_loader(data_path, \n",
    "                       config, \n",
    "                       batch_size=32,\n",
    "                       clf_mode=False,\n",
    "                       sampling=True)"
   ]
  },
  {
   "cell_type": "code",
   "execution_count": 106,
   "id": "394134b8",
   "metadata": {},
   "outputs": [
    {
     "name": "stdout",
     "output_type": "stream",
     "text": [
      "[INFO] Masking Query and Key tokens\n",
      "[INFO] Masking Query and Key tokens\n",
      "4/4 [==============================] - 2s 251ms/step\n"
     ]
    }
   ],
   "source": [
    "output = astromer.predict(loaders['test'].take(4))"
   ]
  },
  {
   "cell_type": "code",
   "execution_count": 107,
   "id": "00225f15",
   "metadata": {},
   "outputs": [],
   "source": [
    "y = tf.ragged.boolean_mask(output['magnitudes'], output['probed_mask'])\n",
    "y_hat = tf.ragged.boolean_mask(output['reconstruction'], output['probed_mask'])\n",
    "\n",
    "r2_values = []\n",
    "mse_values = []\n",
    "for i in range(output['magnitudes'].shape[0]):\n",
    "    y = tf.boolean_mask(output['magnitudes'][i], output['probed_mask'][i])\n",
    "    y_hat = tf.boolean_mask(output['reconstruction'][i], output['probed_mask'][i])\n",
    "    r2_values.append(r2_score(y, y_hat))\n",
    "    mse_values.append(mean_squared_error(y, y_hat, squared=False))\n",
    "    \n",
    "test_r2   = np.mean(r2_values) \n",
    "test_mse = np.mean(mse_values)"
   ]
  },
  {
   "cell_type": "code",
   "execution_count": 108,
   "id": "9a2e2dba",
   "metadata": {},
   "outputs": [
    {
     "data": {
      "image/png": "[encoded data removed]",
      "text/plain": [
       "<Figure size 900x300 with 2 Axes>"
      ]
     },
     "metadata": {},
     "output_type": "display_data"
    }
   ],
   "source": [
    "fig, axes = plt.subplots(1, 2, figsize=(9, 3), gridspec_kw={'wspace':0.3})\n",
    "\n",
    "for i, metric_name in enumerate(['epoch_loss', 'epoch_r_square']):\n",
    "    train_metrics = get_metrics(os.path.join(root, 'pretraining', 'tensorboard', 'train'), \n",
    "                                metric_name=metric_name)\n",
    "    valid_metrics = get_metrics(os.path.join(root, 'pretraining', 'tensorboard', 'validation'), \n",
    "                                metric_name=metric_name)\n",
    "    axes[i].plot(train_metrics['step'], train_metrics['value'], label='train')\n",
    "    axes[i].plot(valid_metrics['step'], valid_metrics['value'], label='validation')\n",
    "    \n",
    "    if metric_name == 'epoch_r_square':\n",
    "        axes[i].plot([0, valid_metrics['step'].iloc[-1]], [test_r2, test_r2])\n",
    "        \n",
    "    if metric_name == 'epoch_loss':\n",
    "        axes[i].plot([0, valid_metrics['step'].iloc[-1]], [test_mse, test_mse])\n",
    "        \n",
    "    axes[i].set_ylabel(metric_name)\n",
    "    axes[i].set_xlabel('Epoch')\n",
    "    \n",
    "axes[0].set_title('mse: {:.2f} - r2: {:.2f}'.format(test_mse, test_r2))\n",
    "axes[-1].legend(bbox_to_anchor=(1., 1.2), ncols=2)\n",
    "plt.show()"
   ]
  },
  {
   "cell_type": "code",
   "execution_count": null,
   "id": "a1c93a80",
   "metadata": {},
   "outputs": [],
   "source": []
  },
  {
   "cell_type": "code",
   "execution_count": 109,
   "id": "cf8b210c",
   "metadata": {},
   "outputs": [
    {
     "data": {
      "text/plain": [
       "Text(0.5, 1.0, 'True vs Predicted')"
      ]
     },
     "execution_count": 109,
     "metadata": {},
     "output_type": "execute_result"
    },
    {
     "data": {
      "image/png": "[encoded data removed]",
      "text/plain": [
       "<Figure size 1000x300 with 3 Axes>"
      ]
     },
     "metadata": {},
     "output_type": "display_data"
    }
   ],
   "source": [
    "N = 1\n",
    "\n",
    "x_true = tf.boolean_mask(output['magnitudes'][N], output['probed_mask'][N])\n",
    "x_pred = tf.boolean_mask(output['reconstruction'][N], output['probed_mask'][N])\n",
    "times = tf.boolean_mask(output['times'][N], output['probed_mask'][N])\n",
    "\n",
    "fig, axes = plt.subplots(1, 3, figsize=(10, 3), gridspec_kw={'wspace':0.2}, sharey=True)\n",
    "axes[0].plot(times, x_true, color='k', label='True')\n",
    "axes[0].set_title('True')\n",
    "axes[0].set_ylabel('Magnitude')\n",
    "axes[0].set_xlabel('Normalized Time')\n",
    "axes[1].plot(times, x_pred, color='k', label='Prediction')\n",
    "axes[1].set_title('Predicted')\n",
    "axes[1].set_xlabel('Normalized Time')\n",
    "axes[2].scatter(x_true, x_pred, s=1, color='darkred')\n",
    "axes[2].plot(x_true, x_true, linewidth=0.5, color='k', linestyle='--')\n",
    "\n",
    "axes[2].set_xlabel('True Magnitude')\n",
    "axes[2].set_ylabel('Pred Magnitude')\n",
    "axes[2].set_title('True vs Predicted')"
   ]
  },
  {
   "cell_type": "markdown",
   "id": "09d47ff4",
   "metadata": {},
   "source": [
    "## Finetunem (MLFlow)"
   ]
  },
  {
   "cell_type": "code",
   "execution_count": 7,
   "id": "2cff8bca",
   "metadata": {},
   "outputs": [
    {
     "data": {
      "text/plain": [
       "Index(['run_id', 'experiment_id', 'status', 'artifact_uri', 'start_time',\n",
       "       'end_time', 'metrics.loss', 'metrics.validation_loss', 'metrics.rmse',\n",
       "       'metrics.validation_r_square', 'metrics.val_r_square',\n",
       "       'metrics.test_rmse', 'metrics.validation_rmse', 'metrics.val_rmse',\n",
       "       'metrics.test_r2', 'metrics.test_loss', 'metrics.val_loss',\n",
       "       'metrics.r_square', 'params.optimizer_global_clipnorm',\n",
       "       'params.optimizer_jit_compile', 'params.optimizer_amsgrad',\n",
       "       'params.optimizer_clipnorm', 'params.optimizer_ema_momentum',\n",
       "       'params.optimizer_learning_rate', 'params.optimizer_weight_decay',\n",
       "       'params.optimizer_clipvalue', 'params.optimizer_name',\n",
       "       'params.optimizer_is_legacy_optimizer', 'params.optimizer_beta_2',\n",
       "       'params.optimizer_ema_overwrite_frequency', 'params.optimizer_use_ema',\n",
       "       'params.optimizer_epsilon', 'params.optimizer_beta_1',\n",
       "       'tags.num_layers', 'tags.pe_exp', 'tags.fold', 'tags.probed',\n",
       "       'tags.debug', 'tags.mixer', 'tags.mlflow.source.name', 'tags.patience',\n",
       "       'tags.pe_dim', 'tags.num_epochs', 'tags.m_alpha', 'tags.data',\n",
       "       'tags.checkpoint', 'tags.pe_base', 'tags.mask_format', 'tags.gpu',\n",
       "       'tags.num_heads', 'tags.lr', 'tags.scheduler', 'tags.exp_name',\n",
       "       'tags.spc', 'tags.window_size', 'tags.arch', 'tags.downstream_data',\n",
       "       'tags.nsp_prob', 'tags.same', 'tags.dropout', 'tags.mlflow.source.type',\n",
       "       'tags.mlflow.user', 'tags.mlflow.runName', 'tags.mlflow.parentRunId',\n",
       "       'tags.rs', 'tags.head_dim', 'tags.bs'],\n",
       "      dtype='object')"
      ]
     },
     "execution_count": 7,
     "metadata": {},
     "output_type": "execute_result"
    }
   ],
   "source": [
    "runs_df = mlflow.search_runs(experiment_ids=['128374866685660472'], \n",
    "                              search_all_experiments=True)\n",
    "runs_df = runs_df[runs_df.status == 'FINISHED']\n",
    "runs_df.columns"
   ]
  },
  {
   "cell_type": "code",
   "execution_count": 5,
   "id": "a8768425",
   "metadata": {},
   "outputs": [
    {
     "data": {
      "text/html": [
       "<div>\n",
       "<style scoped>\n",
       "    .dataframe tbody tr th:only-of-type {\n",
       "        vertical-align: middle;\n",
       "    }\n",
       "\n",
       "    .dataframe tbody tr th {\n",
       "        vertical-align: top;\n",
       "    }\n",
       "\n",
       "    .dataframe thead tr th {\n",
       "        text-align: left;\n",
       "    }\n",
       "\n",
       "    .dataframe thead tr:last-of-type th {\n",
       "        text-align: right;\n",
       "    }\n",
       "</style>\n",
       "<table border=\"1\" class=\"dataframe\">\n",
       "  <thead>\n",
       "    <tr>\n",
       "      <th></th>\n",
       "      <th></th>\n",
       "      <th></th>\n",
       "      <th></th>\n",
       "      <th></th>\n",
       "      <th></th>\n",
       "      <th></th>\n",
       "      <th colspan=\"2\" halign=\"left\">metrics.val_rmse</th>\n",
       "      <th colspan=\"2\" halign=\"left\">metrics.test_r2</th>\n",
       "    </tr>\n",
       "    <tr>\n",
       "      <th></th>\n",
       "      <th></th>\n",
       "      <th></th>\n",
       "      <th></th>\n",
       "      <th></th>\n",
       "      <th></th>\n",
       "      <th></th>\n",
       "      <th>mean</th>\n",
       "      <th>std</th>\n",
       "      <th>mean</th>\n",
       "      <th>std</th>\n",
       "    </tr>\n",
       "    <tr>\n",
       "      <th>tags.downstream_data</th>\n",
       "      <th>tags.arch</th>\n",
       "      <th>tags.m_alpha</th>\n",
       "      <th>tags.probed</th>\n",
       "      <th>tags.rs</th>\n",
       "      <th>tags.same</th>\n",
       "      <th>tags.spc</th>\n",
       "      <th></th>\n",
       "      <th></th>\n",
       "      <th></th>\n",
       "      <th></th>\n",
       "    </tr>\n",
       "  </thead>\n",
       "  <tbody>\n",
       "    <tr>\n",
       "      <th rowspan=\"6\" valign=\"top\">atlas</th>\n",
       "      <th rowspan=\"6\" valign=\"top\">base</th>\n",
       "      <th rowspan=\"3\" valign=\"top\">-1000000000.0</th>\n",
       "      <th rowspan=\"3\" valign=\"top\">0.5</th>\n",
       "      <th rowspan=\"3\" valign=\"top\">0.0</th>\n",
       "      <th rowspan=\"3\" valign=\"top\">0.4</th>\n",
       "      <th>100</th>\n",
       "      <td>0.124856</td>\n",
       "      <td>0.011952</td>\n",
       "      <td>0.779488</td>\n",
       "      <td>0.100562</td>\n",
       "    </tr>\n",
       "    <tr>\n",
       "      <th>20</th>\n",
       "      <td>0.137506</td>\n",
       "      <td>0.011734</td>\n",
       "      <td>0.759764</td>\n",
       "      <td>0.063601</td>\n",
       "    </tr>\n",
       "    <tr>\n",
       "      <th>500</th>\n",
       "      <td>0.102649</td>\n",
       "      <td>0.027516</td>\n",
       "      <td>0.702625</td>\n",
       "      <td>0.133907</td>\n",
       "    </tr>\n",
       "    <tr>\n",
       "      <th rowspan=\"3\" valign=\"top\">1.0</th>\n",
       "      <th rowspan=\"3\" valign=\"top\">0.5</th>\n",
       "      <th rowspan=\"3\" valign=\"top\">0.2</th>\n",
       "      <th rowspan=\"3\" valign=\"top\">0.2</th>\n",
       "      <th>100</th>\n",
       "      <td>0.223426</td>\n",
       "      <td>0.019081</td>\n",
       "      <td>0.698525</td>\n",
       "      <td>0.050219</td>\n",
       "    </tr>\n",
       "    <tr>\n",
       "      <th>20</th>\n",
       "      <td>0.271658</td>\n",
       "      <td>0.070992</td>\n",
       "      <td>0.600729</td>\n",
       "      <td>0.086875</td>\n",
       "    </tr>\n",
       "    <tr>\n",
       "      <th>500</th>\n",
       "      <td>0.114172</td>\n",
       "      <td>0.038058</td>\n",
       "      <td>0.666872</td>\n",
       "      <td>0.021458</td>\n",
       "    </tr>\n",
       "    <tr>\n",
       "      <th rowspan=\"6\" valign=\"top\">macho</th>\n",
       "      <th rowspan=\"6\" valign=\"top\">base</th>\n",
       "      <th rowspan=\"3\" valign=\"top\">-1000000000.0</th>\n",
       "      <th rowspan=\"3\" valign=\"top\">0.5</th>\n",
       "      <th rowspan=\"3\" valign=\"top\">0.0</th>\n",
       "      <th rowspan=\"3\" valign=\"top\">0.4</th>\n",
       "      <th>100</th>\n",
       "      <td>0.079102</td>\n",
       "      <td>0.014848</td>\n",
       "      <td>0.863411</td>\n",
       "      <td>0.059258</td>\n",
       "    </tr>\n",
       "    <tr>\n",
       "      <th>20</th>\n",
       "      <td>0.053448</td>\n",
       "      <td>0.004282</td>\n",
       "      <td>0.911634</td>\n",
       "      <td>0.027447</td>\n",
       "    </tr>\n",
       "    <tr>\n",
       "      <th>500</th>\n",
       "      <td>0.087468</td>\n",
       "      <td>0.010329</td>\n",
       "      <td>0.862703</td>\n",
       "      <td>0.034494</td>\n",
       "    </tr>\n",
       "    <tr>\n",
       "      <th rowspan=\"3\" valign=\"top\">1.0</th>\n",
       "      <th rowspan=\"3\" valign=\"top\">0.5</th>\n",
       "      <th rowspan=\"3\" valign=\"top\">0.2</th>\n",
       "      <th rowspan=\"3\" valign=\"top\">0.2</th>\n",
       "      <th>100</th>\n",
       "      <td>0.132956</td>\n",
       "      <td>0.021965</td>\n",
       "      <td>0.710120</td>\n",
       "      <td>0.007763</td>\n",
       "    </tr>\n",
       "    <tr>\n",
       "      <th>20</th>\n",
       "      <td>0.093864</td>\n",
       "      <td>0.008605</td>\n",
       "      <td>0.650948</td>\n",
       "      <td>0.046827</td>\n",
       "    </tr>\n",
       "    <tr>\n",
       "      <th>500</th>\n",
       "      <td>0.133236</td>\n",
       "      <td>0.019977</td>\n",
       "      <td>0.721677</td>\n",
       "      <td>0.047246</td>\n",
       "    </tr>\n",
       "  </tbody>\n",
       "</table>\n",
       "</div>"
      ],
      "text/plain": [
       "                                                                                    metrics.val_rmse  \\\n",
       "                                                                                                mean   \n",
       "tags.downstream_data tags.arch tags.m_alpha  tags.probed tags.rs tags.same tags.spc                    \n",
       "atlas                base      -1000000000.0 0.5         0.0     0.4       100              0.124856   \n",
       "                                                                           20               0.137506   \n",
       "                                                                           500              0.102649   \n",
       "                               1.0           0.5         0.2     0.2       100              0.223426   \n",
       "                                                                           20               0.271658   \n",
       "                                                                           500              0.114172   \n",
       "macho                base      -1000000000.0 0.5         0.0     0.4       100              0.079102   \n",
       "                                                                           20               0.053448   \n",
       "                                                                           500              0.087468   \n",
       "                               1.0           0.5         0.2     0.2       100              0.132956   \n",
       "                                                                           20               0.093864   \n",
       "                                                                           500              0.133236   \n",
       "\n",
       "                                                                                               \\\n",
       "                                                                                          std   \n",
       "tags.downstream_data tags.arch tags.m_alpha  tags.probed tags.rs tags.same tags.spc             \n",
       "atlas                base      -1000000000.0 0.5         0.0     0.4       100       0.011952   \n",
       "                                                                           20        0.011734   \n",
       "                                                                           500       0.027516   \n",
       "                               1.0           0.5         0.2     0.2       100       0.019081   \n",
       "                                                                           20        0.070992   \n",
       "                                                                           500       0.038058   \n",
       "macho                base      -1000000000.0 0.5         0.0     0.4       100       0.014848   \n",
       "                                                                           20        0.004282   \n",
       "                                                                           500       0.010329   \n",
       "                               1.0           0.5         0.2     0.2       100       0.021965   \n",
       "                                                                           20        0.008605   \n",
       "                                                                           500       0.019977   \n",
       "\n",
       "                                                                                    metrics.test_r2  \\\n",
       "                                                                                               mean   \n",
       "tags.downstream_data tags.arch tags.m_alpha  tags.probed tags.rs tags.same tags.spc                   \n",
       "atlas                base      -1000000000.0 0.5         0.0     0.4       100             0.779488   \n",
       "                                                                           20              0.759764   \n",
       "                                                                           500             0.702625   \n",
       "                               1.0           0.5         0.2     0.2       100             0.698525   \n",
       "                                                                           20              0.600729   \n",
       "                                                                           500             0.666872   \n",
       "macho                base      -1000000000.0 0.5         0.0     0.4       100             0.863411   \n",
       "                                                                           20              0.911634   \n",
       "                                                                           500             0.862703   \n",
       "                               1.0           0.5         0.2     0.2       100             0.710120   \n",
       "                                                                           20              0.650948   \n",
       "                                                                           500             0.721677   \n",
       "\n",
       "                                                                                               \n",
       "                                                                                          std  \n",
       "tags.downstream_data tags.arch tags.m_alpha  tags.probed tags.rs tags.same tags.spc            \n",
       "atlas                base      -1000000000.0 0.5         0.0     0.4       100       0.100562  \n",
       "                                                                           20        0.063601  \n",
       "                                                                           500       0.133907  \n",
       "                               1.0           0.5         0.2     0.2       100       0.050219  \n",
       "                                                                           20        0.086875  \n",
       "                                                                           500       0.021458  \n",
       "macho                base      -1000000000.0 0.5         0.0     0.4       100       0.059258  \n",
       "                                                                           20        0.027447  \n",
       "                                                                           500       0.034494  \n",
       "                               1.0           0.5         0.2     0.2       100       0.007763  \n",
       "                                                                           20        0.046827  \n",
       "                                                                           500       0.047246  "
      ]
     },
     "execution_count": 5,
     "metadata": {},
     "output_type": "execute_result"
    }
   ],
   "source": [
    "id_cols = ['tags.downstream_data', 'tags.arch', 'tags.m_alpha', 'tags.probed', 'tags.rs', 'tags.same', 'tags.spc']\n",
    "    \n",
    "selected = runs_df[id_cols+['tags.fold', 'metrics.val_rmse', 'metrics.test_r2']]\n",
    "\n",
    "selected.groupby(id_cols).agg({'metrics.val_rmse': ['mean', 'std'],\n",
    "                                                                          'metrics.test_r2': ['mean', 'std']})"
   ]
  },
  {
   "cell_type": "markdown",
   "id": "c3923c6a",
   "metadata": {},
   "source": [
    "## Classification (MLFlow)"
   ]
  },
  {
   "cell_type": "code",
   "execution_count": 139,
   "id": "d8cc9884",
   "metadata": {},
   "outputs": [],
   "source": [
    "runs_df = mlflow.search_runs(experiment_ids=['852161655664768094'], \n",
    "                              search_all_experiments=True)\n",
    "runs_df = runs_df[runs_df.status == 'FINISHED']\n",
    "\n",
    "runs_df = runs_df[['tags.downstream_data', 'tags.arch', 'tags.m_alpha', \n",
    "                   'tags.probed', 'tags.rs', 'tags.same', 'tags.spc', \n",
    "                   'tags.fold', 'metrics.test_f1']]\n",
    "runs_df['tags.fold'] = runs_df['tags.fold'].astype(float)\n",
    "runs_df['metrics.test_f1'] = runs_df['metrics.test_f1'].astype(float)"
   ]
  },
  {
   "cell_type": "code",
   "execution_count": 140,
   "id": "0d09d210",
   "metadata": {},
   "outputs": [
    {
     "data": {
      "text/html": [
       "<div>\n",
       "<style scoped>\n",
       "    .dataframe tbody tr th:only-of-type {\n",
       "        vertical-align: middle;\n",
       "    }\n",
       "\n",
       "    .dataframe tbody tr th {\n",
       "        vertical-align: top;\n",
       "    }\n",
       "\n",
       "    .dataframe thead tr th {\n",
       "        text-align: left;\n",
       "    }\n",
       "\n",
       "    .dataframe thead tr:last-of-type th {\n",
       "        text-align: right;\n",
       "    }\n",
       "</style>\n",
       "<table border=\"1\" class=\"dataframe\">\n",
       "  <thead>\n",
       "    <tr>\n",
       "      <th></th>\n",
       "      <th></th>\n",
       "      <th></th>\n",
       "      <th></th>\n",
       "      <th></th>\n",
       "      <th></th>\n",
       "      <th></th>\n",
       "      <th colspan=\"2\" halign=\"left\">metrics.test_f1</th>\n",
       "    </tr>\n",
       "    <tr>\n",
       "      <th></th>\n",
       "      <th></th>\n",
       "      <th></th>\n",
       "      <th></th>\n",
       "      <th></th>\n",
       "      <th></th>\n",
       "      <th></th>\n",
       "      <th>mean</th>\n",
       "      <th>std</th>\n",
       "    </tr>\n",
       "    <tr>\n",
       "      <th>tags.downstream_data</th>\n",
       "      <th>tags.arch</th>\n",
       "      <th>tags.m_alpha</th>\n",
       "      <th>tags.probed</th>\n",
       "      <th>tags.rs</th>\n",
       "      <th>tags.same</th>\n",
       "      <th>tags.spc</th>\n",
       "      <th></th>\n",
       "      <th></th>\n",
       "    </tr>\n",
       "  </thead>\n",
       "  <tbody>\n",
       "    <tr>\n",
       "      <th rowspan=\"3\" valign=\"top\">atlas</th>\n",
       "      <th rowspan=\"3\" valign=\"top\">base</th>\n",
       "      <th rowspan=\"3\" valign=\"top\">1.0</th>\n",
       "      <th rowspan=\"3\" valign=\"top\">0.5</th>\n",
       "      <th rowspan=\"3\" valign=\"top\">0.2</th>\n",
       "      <th rowspan=\"3\" valign=\"top\">0.8</th>\n",
       "      <th>100</th>\n",
       "      <td>0.565016</td>\n",
       "      <td>0.165939</td>\n",
       "    </tr>\n",
       "    <tr>\n",
       "      <th>20</th>\n",
       "      <td>0.585054</td>\n",
       "      <td>0.076211</td>\n",
       "    </tr>\n",
       "    <tr>\n",
       "      <th>500</th>\n",
       "      <td>0.651385</td>\n",
       "      <td>0.052051</td>\n",
       "    </tr>\n",
       "    <tr>\n",
       "      <th rowspan=\"3\" valign=\"top\">macho</th>\n",
       "      <th rowspan=\"3\" valign=\"top\">base</th>\n",
       "      <th rowspan=\"3\" valign=\"top\">1.0</th>\n",
       "      <th rowspan=\"3\" valign=\"top\">0.5</th>\n",
       "      <th rowspan=\"3\" valign=\"top\">0.2</th>\n",
       "      <th rowspan=\"3\" valign=\"top\">0.8</th>\n",
       "      <th>100</th>\n",
       "      <td>0.575650</td>\n",
       "      <td>0.039289</td>\n",
       "    </tr>\n",
       "    <tr>\n",
       "      <th>20</th>\n",
       "      <td>0.233617</td>\n",
       "      <td>0.274173</td>\n",
       "    </tr>\n",
       "    <tr>\n",
       "      <th>500</th>\n",
       "      <td>0.618645</td>\n",
       "      <td>0.003478</td>\n",
       "    </tr>\n",
       "  </tbody>\n",
       "</table>\n",
       "</div>"
      ],
      "text/plain": [
       "                                                                                   metrics.test_f1  \\\n",
       "                                                                                              mean   \n",
       "tags.downstream_data tags.arch tags.m_alpha tags.probed tags.rs tags.same tags.spc                   \n",
       "atlas                base      1.0          0.5         0.2     0.8       100             0.565016   \n",
       "                                                                          20              0.585054   \n",
       "                                                                          500             0.651385   \n",
       "macho                base      1.0          0.5         0.2     0.8       100             0.575650   \n",
       "                                                                          20              0.233617   \n",
       "                                                                          500             0.618645   \n",
       "\n",
       "                                                                                              \n",
       "                                                                                         std  \n",
       "tags.downstream_data tags.arch tags.m_alpha tags.probed tags.rs tags.same tags.spc            \n",
       "atlas                base      1.0          0.5         0.2     0.8       100       0.165939  \n",
       "                                                                          20        0.076211  \n",
       "                                                                          500       0.052051  \n",
       "macho                base      1.0          0.5         0.2     0.8       100       0.039289  \n",
       "                                                                          20        0.274173  \n",
       "                                                                          500       0.003478  "
      ]
     },
     "execution_count": 140,
     "metadata": {},
     "output_type": "execute_result"
    }
   ],
   "source": [
    "runs_df.groupby(['tags.downstream_data', 'tags.arch', 'tags.m_alpha', \n",
    "                 'tags.probed', 'tags.rs', 'tags.same', 'tags.spc']).agg({'metrics.test_f1': ['mean', 'std']})"
   ]
  },
  {
   "cell_type": "code",
   "execution_count": null,
   "id": "c76e5186",
   "metadata": {},
   "outputs": [],
   "source": []
  },
  {
   "cell_type": "code",
   "execution_count": null,
   "id": "8254fc7e",
   "metadata": {},
   "outputs": [],
   "source": []
  },
  {
   "cell_type": "code",
   "execution_count": null,
   "id": "ed9dd66a",
   "metadata": {},
   "outputs": [],
   "source": []
  }
 ],
 "metadata": {
  "kernelspec": {
   "display_name": "Python 3 (ipykernel)",
   "language": "python",
   "name": "python3"
  },
  "language_info": {
   "codemirror_mode": {
    "name": "ipython",
    "version": 3
   },
   "file_extension": ".py",
   "mimetype": "text/x-python",
   "name": "python",
   "nbconvert_exporter": "python",
   "pygments_lexer": "ipython3",
   "version": "3.8.10"
  }
 },
 "nbformat": 4,
 "nbformat_minor": 5
}
