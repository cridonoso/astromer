{
 "cells": [
  {
   "cell_type": "code",
   "execution_count": null,
   "metadata": {},
   "outputs": [],
   "source": [
    "from mlflow.tracking import MlflowClient\n",
    "\n",
    "run_id = \"your_run_id_here\"\n",
    "client = MlflowClient()\n",
    "\n",
    "artifacts = client.list_artifacts(run_id)\n",
    "\n",
    "for artifact in artifacts:\n",
    "    print(f\"Artifact: {artifact.path}\")\n"
   ]
  }
 ],
 "metadata": {
  "language_info": {
   "name": "python"
  }
 },
 "nbformat": 4,
 "nbformat_minor": 2
}
