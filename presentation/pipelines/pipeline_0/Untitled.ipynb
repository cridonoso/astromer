{
 "cells": [
  {
   "cell_type": "code",
   "execution_count": 1,
   "id": "f954edf8",
   "metadata": {},
   "outputs": [
    {
     "name": "stdout",
     "output_type": "stream",
     "text": [
      "/home\n"
     ]
    }
   ],
   "source": [
    "cd /home"
   ]
  },
  {
   "cell_type": "code",
   "execution_count": 15,
   "id": "e7932400",
   "metadata": {},
   "outputs": [
    {
     "name": "stdout",
     "output_type": "stream",
     "text": [
      "The autoreload extension is already loaded. To reload it, use:\n",
      "  %reload_ext autoreload\n"
     ]
    }
   ],
   "source": [
    "import matplotlib.pyplot as plt\n",
    "import tensorflow as tf\n",
    "import numpy as np\n",
    "import pandas as pd\n",
    "import mlflow\n",
    "import os\n",
    "\n",
    "from tensorflow.keras.optimizers import Adam\n",
    "from sklearn.metrics import r2_score, mean_squared_error\n",
    "from src.utils import get_metrics\n",
    "\n",
    "from presentation.pipelines.steps.model_design import load_pt_model, build_classifier\n",
    "from presentation.pipelines.steps.load_data import build_loader \n",
    "\n",
    "\n",
    "os.environ[\"CUDA_VISIBLE_DEVICES\"] = \"-1\"\n",
    "\n",
    "%load_ext autoreload\n",
    "%autoreload 2"
   ]
  },
  {
   "cell_type": "code",
   "execution_count": 17,
   "id": "96ddb2dc",
   "metadata": {},
   "outputs": [
    {
     "name": "stdout",
     "output_type": "stream",
     "text": [
      "[INFO] Zero architecture loaded\n",
      "[INFO] Using masked-att with alpha = 1.00\n",
      "[INFO] Using masked-att with alpha = 1.00\n",
      "[INFO] Using PE with c: 2.0\n",
      "[INFO] Masking Query and Key tokens\n",
      "[INFO] Masking Query and Key tokens\n"
     ]
    },
    {
     "data": {
      "text/html": [
       "<div>\n",
       "<style scoped>\n",
       "    .dataframe tbody tr th:only-of-type {\n",
       "        vertical-align: middle;\n",
       "    }\n",
       "\n",
       "    .dataframe tbody tr th {\n",
       "        vertical-align: top;\n",
       "    }\n",
       "\n",
       "    .dataframe thead th {\n",
       "        text-align: right;\n",
       "    }\n",
       "</style>\n",
       "<table border=\"1\" class=\"dataframe\">\n",
       "  <thead>\n",
       "    <tr style=\"text-align: right;\">\n",
       "      <th></th>\n",
       "      <th>data</th>\n",
       "      <th>arch</th>\n",
       "      <th>lr</th>\n",
       "      <th>probed</th>\n",
       "      <th>rs</th>\n",
       "      <th>same</th>\n",
       "      <th>mask_format</th>\n",
       "      <th>m_alpha</th>\n",
       "    </tr>\n",
       "  </thead>\n",
       "  <tbody>\n",
       "    <tr>\n",
       "      <th>0</th>\n",
       "      <td>./data/records/macho/</td>\n",
       "      <td>zero</td>\n",
       "      <td>0.001</td>\n",
       "      <td>0.5</td>\n",
       "      <td>0.2</td>\n",
       "      <td>0.2</td>\n",
       "      <td>QK</td>\n",
       "      <td>1.0</td>\n",
       "    </tr>\n",
       "  </tbody>\n",
       "</table>\n",
       "</div>"
      ],
      "text/plain": [
       "                    data  arch     lr  probed   rs  same mask_format  m_alpha\n",
       "0  ./data/records/macho/  zero  0.001     0.5  0.2   0.2          QK      1.0"
      ]
     },
     "execution_count": 17,
     "metadata": {},
     "output_type": "execute_result"
    }
   ],
   "source": [
    "root = './presentation/results/zero/2024-04-24_16-13-23/'\n",
    "adam_op = Adam(1e-5, beta_1=0.9, beta_2=0.98, epsilon=1e-9, \n",
    "               clipnorm=1e-4)\n",
    "astromer, config = load_pt_model(os.path.join(root, 'pretraining'), optimizer=adam_op)\n",
    "pd.DataFrame([config])[['data', 'arch', 'lr', 'probed', 'rs', 'same', 'mask_format', 'm_alpha']]"
   ]
  },
  {
   "cell_type": "code",
   "execution_count": null,
   "id": "b0abb490",
   "metadata": {},
   "outputs": [],
   "source": []
  },
  {
   "cell_type": "markdown",
   "id": "f08882fa",
   "metadata": {},
   "source": [
    "## Loading downstream data"
   ]
  },
  {
   "cell_type": "code",
   "execution_count": 18,
   "id": "76421c65",
   "metadata": {},
   "outputs": [
    {
     "name": "stdout",
     "output_type": "stream",
     "text": [
      "[INFO] Probed: 0.50 Random: 0.20 Same: 0.20\n",
      "[INFO] Repeating dataset x1 times\n",
      "[INFO] Normalization:  zero-mean\n",
      "[INFO] Loading PT task: Masking\n",
      "[INFO] Zero\n",
      "[INFO] Probed: 0.50 Random: 0.20 Same: 0.20\n",
      "[INFO] Repeating dataset x1 times\n",
      "[INFO] Normalization:  zero-mean\n",
      "[INFO] Loading PT task: Masking\n",
      "[INFO] Zero\n",
      "[INFO] Probed: 0.50 Random: 0.20 Same: 0.20\n",
      "[INFO] Repeating dataset x1 times\n",
      "[INFO] Normalization:  zero-mean\n",
      "[INFO] Loading PT task: Masking\n",
      "[INFO] Zero\n"
     ]
    }
   ],
   "source": [
    "data_path = './data/records/alcock/fold_0/alcock_100/'\n",
    "loaders = build_loader(data_path, \n",
    "                       config, \n",
    "                       batch_size=32,\n",
    "                       clf_mode=False,\n",
    "                       sampling=False,\n",
    "                       normalize='zero-mean')"
   ]
  },
  {
   "cell_type": "code",
   "execution_count": 19,
   "id": "cd5bc026",
   "metadata": {},
   "outputs": [
    {
     "name": "stderr",
     "output_type": "stream",
     "text": [
      "/usr/local/lib/python3.8/dist-packages/keras/engine/functional.py:638: UserWarning: Input dict contained keys ['mask_out'] which did not match any model input. They will be ignored by the model.\n",
      "  inputs = self._flatten_to_reference_inputs(inputs)\n"
     ]
    },
    {
     "name": "stdout",
     "output_type": "stream",
     "text": [
      "[INFO] Using PE with c: 2.0\n",
      "[INFO] Masking Query and Key tokens\n",
      "[INFO] Masking Query and Key tokens\n",
      "10/10 [==============================] - 1s 89ms/step - loss: 0.0799 - r_square: 0.7423 - rmse: 0.0799\n"
     ]
    }
   ],
   "source": [
    "test_loss, test_r2, test_rmse = astromer.evaluate(loaders['test'].take(10))"
   ]
  },
  {
   "cell_type": "code",
   "execution_count": 20,
   "id": "50e32f6a",
   "metadata": {},
   "outputs": [
    {
     "data": {
      "image/png": "[encoded data removed]",
      "text/plain": [
       "<Figure size 700x200 with 2 Axes>"
      ]
     },
     "metadata": {},
     "output_type": "display_data"
    }
   ],
   "source": [
    "fig, axes = plt.subplots(1, 2, figsize=(7, 2))\n",
    "for sset in ['train', 'validation']:\n",
    "    m = get_metrics(os.path.join(root, 'pretraining', 'tensorboard', sset)) \n",
    "    axes[0].plot(m['step'], m['value'])\n",
    "    m = get_metrics(os.path.join(root, 'pretraining', 'tensorboard', sset), metric_name='epoch_r_square') \n",
    "    axes[1].plot(m['step'], m['value'], label=sset)\n",
    "\n",
    "axes[0].hlines(test_loss, 0, m['step'].max())\n",
    "axes[1].hlines(test_r2, 0, m['step'].max())\n",
    "plt.legend()\n",
    "plt.show()"
   ]
  },
  {
   "cell_type": "markdown",
   "id": "6838c7c2",
   "metadata": {},
   "source": [
    "## Finetuning"
   ]
  },
  {
   "cell_type": "code",
   "execution_count": 21,
   "id": "d6bf5613",
   "metadata": {},
   "outputs": [],
   "source": [
    "from tensorflow.keras.callbacks import TensorBoard, EarlyStopping, ModelCheckpoint"
   ]
  },
  {
   "cell_type": "code",
   "execution_count": 22,
   "id": "2ffcf68d",
   "metadata": {
    "scrolled": true
   },
   "outputs": [
    {
     "name": "stdout",
     "output_type": "stream",
     "text": [
      "Epoch 1/10000\n",
      "[INFO] Using PE with c: 2.0\n",
      "[INFO] Masking Query and Key tokens\n",
      "[INFO] Masking Query and Key tokens\n",
      "[INFO] Using PE with c: 2.0\n",
      "[INFO] Masking Query and Key tokens\n",
      "[INFO] Masking Query and Key tokens\n",
      "62/62 [==============================] - 15s 212ms/step - loss: 0.1176 - r_square: 0.6975 - rmse: 0.1176 - val_loss: 0.0933 - val_r_square: 0.6708 - val_rmse: 0.0933\n",
      "Epoch 2/10000\n",
      "62/62 [==============================] - 13s 207ms/step - loss: 0.1223 - r_square: 0.6700 - rmse: 0.1223 - val_loss: 0.1005 - val_r_square: 0.5962 - val_rmse: 0.1005\n",
      "Epoch 3/10000\n",
      "62/62 [==============================] - 13s 206ms/step - loss: 0.1238 - r_square: 0.6913 - rmse: 0.1238 - val_loss: 0.0947 - val_r_square: 0.6756 - val_rmse: 0.0947\n",
      "Epoch 4/10000\n",
      "62/62 [==============================] - 13s 203ms/step - loss: 0.1085 - r_square: 0.7528 - rmse: 0.1085 - val_loss: 0.0802 - val_r_square: 0.7644 - val_rmse: 0.0802\n",
      "Epoch 5/10000\n",
      "62/62 [==============================] - 13s 207ms/step - loss: 0.0991 - r_square: 0.7852 - rmse: 0.0991 - val_loss: 0.1030 - val_r_square: 0.9576 - val_rmse: 0.1030\n",
      "Epoch 6/10000\n",
      "62/62 [==============================] - 13s 206ms/step - loss: 0.1042 - r_square: 0.7763 - rmse: 0.1042 - val_loss: 0.0769 - val_r_square: 0.9763 - val_rmse: 0.0769\n",
      "Epoch 7/10000\n",
      "62/62 [==============================] - 13s 207ms/step - loss: 0.0979 - r_square: 0.7959 - rmse: 0.0979 - val_loss: 0.0707 - val_r_square: 0.8154 - val_rmse: 0.0707\n",
      "Epoch 8/10000\n",
      "62/62 [==============================] - 13s 205ms/step - loss: 0.0950 - r_square: 0.8020 - rmse: 0.0950 - val_loss: 0.0744 - val_r_square: 0.8232 - val_rmse: 0.0744\n",
      "Epoch 9/10000\n",
      "62/62 [==============================] - 13s 205ms/step - loss: 0.0927 - r_square: 0.7934 - rmse: 0.0927 - val_loss: 0.0993 - val_r_square: 0.9604 - val_rmse: 0.0993\n",
      "Epoch 10/10000\n",
      "62/62 [==============================] - 13s 207ms/step - loss: 0.1005 - r_square: 0.7760 - rmse: 0.1005 - val_loss: 0.6222 - val_r_square: -0.5477 - val_rmse: 0.6222\n",
      "Epoch 11/10000\n",
      "62/62 [==============================] - 13s 205ms/step - loss: 0.0941 - r_square: 0.7901 - rmse: 0.0941 - val_loss: 0.0945 - val_r_square: 0.9640 - val_rmse: 0.0945\n",
      "Epoch 12/10000\n",
      "62/62 [==============================] - 13s 206ms/step - loss: 0.0992 - r_square: 0.7731 - rmse: 0.0992 - val_loss: 0.0888 - val_r_square: 0.9686 - val_rmse: 0.0888\n",
      "Epoch 13/10000\n",
      "62/62 [==============================] - 13s 205ms/step - loss: 0.1004 - r_square: 0.7726 - rmse: 0.1004 - val_loss: 0.1694 - val_r_square: 0.8841 - val_rmse: 0.1694\n",
      "Epoch 14/10000\n",
      "62/62 [==============================] - 13s 207ms/step - loss: 0.0999 - r_square: 0.7722 - rmse: 0.0999 - val_loss: 0.0632 - val_r_square: 0.8572 - val_rmse: 0.0632\n",
      "Epoch 15/10000\n",
      "62/62 [==============================] - 13s 206ms/step - loss: 0.1069 - r_square: 0.7534 - rmse: 0.1069 - val_loss: 0.1049 - val_r_square: 0.9563 - val_rmse: 0.1049\n",
      "Epoch 16/10000\n",
      "62/62 [==============================] - 13s 207ms/step - loss: 0.1017 - r_square: 0.7716 - rmse: 0.1017 - val_loss: 0.0656 - val_r_square: 0.8292 - val_rmse: 0.0656\n",
      "Epoch 17/10000\n",
      "62/62 [==============================] - 13s 206ms/step - loss: 0.1086 - r_square: 0.7486 - rmse: 0.1086 - val_loss: 0.0806 - val_r_square: 0.7562 - val_rmse: 0.0806\n",
      "Epoch 18/10000\n",
      "62/62 [==============================] - 13s 205ms/step - loss: 0.1040 - r_square: 0.7449 - rmse: 0.1040 - val_loss: 0.3988 - val_r_square: -5.0465 - val_rmse: 0.3988\n",
      "Epoch 19/10000\n",
      "62/62 [==============================] - 13s 204ms/step - loss: 0.1092 - r_square: 0.7333 - rmse: 0.1092 - val_loss: 0.0742 - val_r_square: 0.7906 - val_rmse: 0.0742\n",
      "Epoch 20/10000\n",
      "62/62 [==============================] - 13s 207ms/step - loss: 0.1087 - r_square: 0.7163 - rmse: 0.1087 - val_loss: 0.4886 - val_r_square: -8.9808 - val_rmse: 0.4886\n",
      "Epoch 21/10000\n",
      "62/62 [==============================] - 13s 207ms/step - loss: 0.1038 - r_square: 0.7497 - rmse: 0.1038 - val_loss: 0.1243 - val_r_square: 0.9390 - val_rmse: 0.1243\n",
      "Epoch 22/10000\n",
      "62/62 [==============================] - 13s 206ms/step - loss: 0.1080 - r_square: 0.7167 - rmse: 0.1080 - val_loss: 0.2426 - val_r_square: 0.7656 - val_rmse: 0.2426\n",
      "Epoch 23/10000\n",
      "62/62 [==============================] - 13s 205ms/step - loss: 0.1065 - r_square: 0.7324 - rmse: 0.1065 - val_loss: 0.0803 - val_r_square: 0.9739 - val_rmse: 0.0803\n",
      "Epoch 24/10000\n",
      "62/62 [==============================] - 13s 203ms/step - loss: 0.1036 - r_square: 0.7434 - rmse: 0.1036 - val_loss: 0.4712 - val_r_square: -6.9730 - val_rmse: 0.4712\n",
      "Epoch 25/10000\n",
      "62/62 [==============================] - 13s 204ms/step - loss: 0.1048 - r_square: 0.7435 - rmse: 0.1048 - val_loss: 0.0715 - val_r_square: 0.8132 - val_rmse: 0.0715\n",
      "Epoch 26/10000\n",
      "62/62 [==============================] - 13s 202ms/step - loss: 0.0994 - r_square: 0.7676 - rmse: 0.0994 - val_loss: 0.1215 - val_r_square: 0.9408 - val_rmse: 0.1215\n",
      "Epoch 27/10000\n",
      "62/62 [==============================] - 13s 208ms/step - loss: 0.0962 - r_square: 0.7847 - rmse: 0.0962 - val_loss: 0.0590 - val_r_square: 0.8648 - val_rmse: 0.0590\n",
      "Epoch 28/10000\n",
      "62/62 [==============================] - 13s 204ms/step - loss: 0.1055 - r_square: 0.7434 - rmse: 0.1055 - val_loss: 0.1986 - val_r_square: 0.8401 - val_rmse: 0.1986\n",
      "Epoch 29/10000\n",
      "62/62 [==============================] - 13s 206ms/step - loss: 0.1061 - r_square: 0.7373 - rmse: 0.1061 - val_loss: 0.0911 - val_r_square: 0.7141 - val_rmse: 0.0911\n",
      "Epoch 30/10000\n",
      "62/62 [==============================] - 13s 208ms/step - loss: 0.1030 - r_square: 0.7622 - rmse: 0.1030 - val_loss: 0.0872 - val_r_square: 0.7214 - val_rmse: 0.0872\n",
      "Epoch 31/10000\n",
      "62/62 [==============================] - 13s 207ms/step - loss: 0.0999 - r_square: 0.7694 - rmse: 0.0999 - val_loss: 0.4768 - val_r_square: 0.0845 - val_rmse: 0.4768\n",
      "Epoch 32/10000\n",
      "62/62 [==============================] - 13s 208ms/step - loss: 0.1067 - r_square: 0.7235 - rmse: 0.1067 - val_loss: 0.1569 - val_r_square: 0.9010 - val_rmse: 0.1569\n",
      "Epoch 33/10000\n",
      "62/62 [==============================] - 12s 201ms/step - loss: 0.1014 - r_square: 0.7582 - rmse: 0.1014 - val_loss: 0.0762 - val_r_square: 0.7643 - val_rmse: 0.0762\n",
      "Epoch 34/10000\n",
      "62/62 [==============================] - 13s 202ms/step - loss: 0.1124 - r_square: 0.7143 - rmse: 0.1124 - val_loss: 0.0664 - val_r_square: 0.8408 - val_rmse: 0.0664\n",
      "Epoch 35/10000\n",
      "62/62 [==============================] - 13s 204ms/step - loss: 0.0959 - r_square: 0.7689 - rmse: 0.0959 - val_loss: 0.1095 - val_r_square: 0.9524 - val_rmse: 0.1095\n",
      "Epoch 36/10000\n",
      "62/62 [==============================] - 13s 205ms/step - loss: 0.1007 - r_square: 0.7574 - rmse: 0.1007 - val_loss: 0.1084 - val_r_square: 0.9532 - val_rmse: 0.1084\n",
      "Epoch 37/10000\n",
      "62/62 [==============================] - 13s 204ms/step - loss: 0.1033 - r_square: 0.7423 - rmse: 0.1033 - val_loss: 0.2191 - val_r_square: 0.8080 - val_rmse: 0.2191\n",
      "Epoch 38/10000\n",
      "62/62 [==============================] - 13s 206ms/step - loss: 0.1016 - r_square: 0.7677 - rmse: 0.1016 - val_loss: 0.1384 - val_r_square: 0.9235 - val_rmse: 0.1384\n",
      "Epoch 39/10000\n",
      "62/62 [==============================] - 13s 206ms/step - loss: 0.1052 - r_square: 0.7156 - rmse: 0.1052 - val_loss: 0.1697 - val_r_square: 0.8853 - val_rmse: 0.1697\n",
      "Epoch 40/10000\n",
      "62/62 [==============================] - 12s 199ms/step - loss: 0.1069 - r_square: 0.7669 - rmse: 0.1069 - val_loss: 0.1904 - val_r_square: 0.8539 - val_rmse: 0.1904\n",
      "Epoch 41/10000\n",
      "62/62 [==============================] - 13s 203ms/step - loss: 0.1017 - r_square: 0.7482 - rmse: 0.1017 - val_loss: 0.0644 - val_r_square: 0.8441 - val_rmse: 0.0644\n",
      "Epoch 42/10000\n",
      "62/62 [==============================] - 13s 205ms/step - loss: 0.0987 - r_square: 0.7719 - rmse: 0.0987 - val_loss: 0.1281 - val_r_square: 0.9334 - val_rmse: 0.1281\n",
      "Epoch 43/10000\n",
      "62/62 [==============================] - 13s 207ms/step - loss: 0.0971 - r_square: 0.7396 - rmse: 0.0971 - val_loss: 0.0684 - val_r_square: 0.8214 - val_rmse: 0.0684\n",
      "Epoch 44/10000\n",
      "62/62 [==============================] - 13s 206ms/step - loss: 0.0976 - r_square: 0.7816 - rmse: 0.0976 - val_loss: 0.0632 - val_r_square: 0.8584 - val_rmse: 0.0632\n",
      "Epoch 45/10000\n"
     ]
    },
    {
     "name": "stdout",
     "output_type": "stream",
     "text": [
      "62/62 [==============================] - 13s 208ms/step - loss: 0.0994 - r_square: 0.7594 - rmse: 0.0994 - val_loss: 0.0623 - val_r_square: 0.8521 - val_rmse: 0.0623\n",
      "Epoch 46/10000\n",
      "62/62 [==============================] - 13s 205ms/step - loss: 0.0981 - r_square: 0.7621 - rmse: 0.0981 - val_loss: 0.0674 - val_r_square: 0.8327 - val_rmse: 0.0674\n",
      "Epoch 47/10000\n",
      "62/62 [==============================] - 13s 207ms/step - loss: 0.1032 - r_square: 0.7584 - rmse: 0.1032 - val_loss: 0.1317 - val_r_square: 0.9307 - val_rmse: 0.1317\n"
     ]
    }
   ],
   "source": [
    "hist = astromer.fit(loaders['train'], epochs=10000, validation_data=loaders['validation'], \n",
    "             callbacks=[EarlyStopping(monitor='val_loss', patience=20)])"
   ]
  },
  {
   "cell_type": "code",
   "execution_count": 23,
   "id": "628e5590",
   "metadata": {},
   "outputs": [
    {
     "data": {
      "text/plain": [
       "[<matplotlib.lines.Line2D at 0x77760d210f10>]"
      ]
     },
     "execution_count": 23,
     "metadata": {},
     "output_type": "execute_result"
    },
    {
     "data": {
      "image/png": "[encoded data removed]",
      "text/plain": [
       "<Figure size 640x480 with 1 Axes>"
      ]
     },
     "metadata": {},
     "output_type": "display_data"
    }
   ],
   "source": [
    "plt.plot(hist.history['val_r_square'])"
   ]
  },
  {
   "cell_type": "code",
   "execution_count": 10,
   "id": "f397abc3",
   "metadata": {},
   "outputs": [
    {
     "name": "stdout",
     "output_type": "stream",
     "text": [
      "10/10 [==============================] - 1s 65ms/step - loss: 0.0881 - r_square: 0.6883 - rmse: 0.0881\n"
     ]
    }
   ],
   "source": [
    "test_loss, test_r2, test_rmse = astromer.evaluate(loaders['test'].take(10))"
   ]
  },
  {
   "cell_type": "code",
   "execution_count": 11,
   "id": "41d92d85",
   "metadata": {},
   "outputs": [],
   "source": [
    "astromer.save_weights(os.path.join(root, 'ft_new', 'weights'))"
   ]
  },
  {
   "cell_type": "markdown",
   "id": "84494261",
   "metadata": {},
   "source": [
    "## Classification"
   ]
  },
  {
   "cell_type": "code",
   "execution_count": 14,
   "id": "4a80018a",
   "metadata": {},
   "outputs": [
    {
     "name": "stdout",
     "output_type": "stream",
     "text": [
      "Classification Mode\n",
      "[INFO] Probed: 1.00 Random: 0.00 Same: 0.00\n",
      "[INFO] Repeating dataset x1 times\n",
      "[INFO] Normalization:  zero-mean\n",
      "[INFO] Loading PT task: Masking\n",
      "[INFO] Zero\n",
      "[INFO] Probed: 1.00 Random: 0.00 Same: 0.00\n",
      "[INFO] Repeating dataset x1 times\n",
      "[INFO] Normalization:  zero-mean\n",
      "[INFO] Loading PT task: Masking\n",
      "[INFO] Zero\n",
      "[INFO] Probed: 1.00 Random: 0.00 Same: 0.00\n",
      "[INFO] Repeating dataset x1 times\n",
      "[INFO] Normalization:  zero-mean\n",
      "[INFO] Loading PT task: Masking\n",
      "[INFO] Zero\n"
     ]
    }
   ],
   "source": [
    "loaders = build_loader(data_path, \n",
    "                       config, \n",
    "                       batch_size=32,\n",
    "                       clf_mode=True,\n",
    "                       sampling=False,\n",
    "                       normalize='zero-mean')"
   ]
  },
  {
   "cell_type": "code",
   "execution_count": null,
   "id": "5293a880",
   "metadata": {},
   "outputs": [],
   "source": []
  },
  {
   "cell_type": "code",
   "execution_count": null,
   "id": "2d10e075",
   "metadata": {},
   "outputs": [],
   "source": []
  },
  {
   "cell_type": "code",
   "execution_count": null,
   "id": "6011cbd4",
   "metadata": {},
   "outputs": [],
   "source": [
    "build_classifier(astromer, params, astromer_trainable, num_cls=None, arch='avg_mlp')"
   ]
  },
  {
   "cell_type": "code",
   "execution_count": null,
   "id": "363b9e37",
   "metadata": {},
   "outputs": [],
   "source": []
  },
  {
   "cell_type": "code",
   "execution_count": null,
   "id": "816a86da",
   "metadata": {},
   "outputs": [],
   "source": []
  },
  {
   "cell_type": "code",
   "execution_count": null,
   "id": "7498be7f",
   "metadata": {},
   "outputs": [],
   "source": []
  },
  {
   "cell_type": "code",
   "execution_count": null,
   "id": "d419cf37",
   "metadata": {},
   "outputs": [],
   "source": []
  }
 ],
 "metadata": {
  "kernelspec": {
   "display_name": "Python 3 (ipykernel)",
   "language": "python",
   "name": "python3"
  },
  "language_info": {
   "codemirror_mode": {
    "name": "ipython",
    "version": 3
   },
   "file_extension": ".py",
   "mimetype": "text/x-python",
   "name": "python",
   "nbconvert_exporter": "python",
   "pygments_lexer": "ipython3",
   "version": "3.8.10"
  }
 },
 "nbformat": 4,
 "nbformat_minor": 5
}
