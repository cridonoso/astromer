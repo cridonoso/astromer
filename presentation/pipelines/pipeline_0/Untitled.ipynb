{
 "cells": [
  {
   "cell_type": "code",
   "execution_count": 1,
   "id": "f954edf8",
   "metadata": {},
   "outputs": [
    {
     "name": "stdout",
     "output_type": "stream",
     "text": [
      "/home\n"
     ]
    }
   ],
   "source": [
    "cd /home"
   ]
  },
  {
   "cell_type": "code",
   "execution_count": 2,
   "id": "e7932400",
   "metadata": {},
   "outputs": [
    {
     "name": "stderr",
     "output_type": "stream",
     "text": [
      "2024-05-28 20:54:07.131602: I tensorflow/core/platform/cpu_feature_guard.cc:193] This TensorFlow binary is optimized with oneAPI Deep Neural Network Library (oneDNN) to use the following CPU instructions in performance-critical operations:  AVX2 FMA\n",
      "To enable them in other operations, rebuild TensorFlow with the appropriate compiler flags.\n"
     ]
    }
   ],
   "source": [
    "import matplotlib.pyplot as plt\n",
    "import tensorflow as tf\n",
    "import numpy as np\n",
    "import pandas as pd\n",
    "import mlflow\n",
    "import os\n",
    "\n",
    "from tensorflow.keras.optimizers import Adam\n",
    "from sklearn.metrics import r2_score, mean_squared_error\n",
    "from src.utils import get_metrics\n",
    "\n",
    "from presentation.pipelines.steps.model_design import load_pt_model, build_classifier\n",
    "from presentation.pipelines.steps.load_data import build_loader \n",
    "\n",
    "\n",
    "os.environ[\"CUDA_VISIBLE_DEVICES\"] = \"3\"\n",
    "\n",
    "%load_ext autoreload\n",
    "%autoreload 2"
   ]
  },
  {
   "cell_type": "code",
   "execution_count": 3,
   "id": "96ddb2dc",
   "metadata": {},
   "outputs": [
    {
     "name": "stderr",
     "output_type": "stream",
     "text": [
      "2024-05-28 20:54:09.503341: I tensorflow/compiler/xla/stream_executor/cuda/cuda_gpu_executor.cc:981] successful NUMA node read from SysFS had negative value (-1), but there must be at least one NUMA node, so returning NUMA node zero\n",
      "2024-05-28 20:54:09.506241: I tensorflow/compiler/xla/stream_executor/cuda/cuda_gpu_executor.cc:981] successful NUMA node read from SysFS had negative value (-1), but there must be at least one NUMA node, so returning NUMA node zero\n",
      "2024-05-28 20:54:09.506542: I tensorflow/compiler/xla/stream_executor/cuda/cuda_gpu_executor.cc:981] successful NUMA node read from SysFS had negative value (-1), but there must be at least one NUMA node, so returning NUMA node zero\n",
      "2024-05-28 20:54:09.508629: I tensorflow/core/platform/cpu_feature_guard.cc:193] This TensorFlow binary is optimized with oneAPI Deep Neural Network Library (oneDNN) to use the following CPU instructions in performance-critical operations:  AVX2 FMA\n",
      "To enable them in other operations, rebuild TensorFlow with the appropriate compiler flags.\n",
      "2024-05-28 20:54:09.511171: I tensorflow/compiler/xla/stream_executor/cuda/cuda_gpu_executor.cc:981] successful NUMA node read from SysFS had negative value (-1), but there must be at least one NUMA node, so returning NUMA node zero\n",
      "2024-05-28 20:54:09.511478: I tensorflow/compiler/xla/stream_executor/cuda/cuda_gpu_executor.cc:981] successful NUMA node read from SysFS had negative value (-1), but there must be at least one NUMA node, so returning NUMA node zero\n",
      "2024-05-28 20:54:09.511755: I tensorflow/compiler/xla/stream_executor/cuda/cuda_gpu_executor.cc:981] successful NUMA node read from SysFS had negative value (-1), but there must be at least one NUMA node, so returning NUMA node zero\n",
      "2024-05-28 20:54:10.026051: I tensorflow/compiler/xla/stream_executor/cuda/cuda_gpu_executor.cc:981] successful NUMA node read from SysFS had negative value (-1), but there must be at least one NUMA node, so returning NUMA node zero\n",
      "2024-05-28 20:54:10.026398: I tensorflow/compiler/xla/stream_executor/cuda/cuda_gpu_executor.cc:981] successful NUMA node read from SysFS had negative value (-1), but there must be at least one NUMA node, so returning NUMA node zero\n",
      "2024-05-28 20:54:10.026683: I tensorflow/compiler/xla/stream_executor/cuda/cuda_gpu_executor.cc:981] successful NUMA node read from SysFS had negative value (-1), but there must be at least one NUMA node, so returning NUMA node zero\n",
      "2024-05-28 20:54:10.026943: I tensorflow/core/common_runtime/gpu/gpu_device.cc:1613] Created device /job:localhost/replica:0/task:0/device:GPU:0 with 22329 MB memory:  -> device: 0, name: NVIDIA RTX A5000, pci bus id: 0000:c2:00.0, compute capability: 8.6\n"
     ]
    },
    {
     "name": "stdout",
     "output_type": "stream",
     "text": [
      "WARNING:tensorflow:From /usr/local/lib/python3.8/dist-packages/tensorflow/python/autograph/pyct/static_analysis/liveness.py:83: Analyzer.lamba_check (from tensorflow.python.autograph.pyct.static_analysis.liveness) is deprecated and will be removed after 2023-09-23.\n",
      "Instructions for updating:\n",
      "Lambda fuctions will be no more assumed to be used in the statement where they are used, or at least in the same block. https://github.com/tensorflow/tensorflow/issues/56089\n"
     ]
    },
    {
     "name": "stderr",
     "output_type": "stream",
     "text": [
      "2024-05-28 20:54:10,602 - WARNING - From /usr/local/lib/python3.8/dist-packages/tensorflow/python/autograph/pyct/static_analysis/liveness.py:83: Analyzer.lamba_check (from tensorflow.python.autograph.pyct.static_analysis.liveness) is deprecated and will be removed after 2023-09-23.\n",
      "Instructions for updating:\n",
      "Lambda fuctions will be no more assumed to be used in the statement where they are used, or at least in the same block. https://github.com/tensorflow/tensorflow/issues/56089\n"
     ]
    },
    {
     "name": "stdout",
     "output_type": "stream",
     "text": [
      "[INFO] Masking Keys tokens only\n",
      "[INFO] Masking Keys tokens only\n"
     ]
    },
    {
     "data": {
      "text/html": [
       "<div>\n",
       "<style scoped>\n",
       "    .dataframe tbody tr th:only-of-type {\n",
       "        vertical-align: middle;\n",
       "    }\n",
       "\n",
       "    .dataframe tbody tr th {\n",
       "        vertical-align: top;\n",
       "    }\n",
       "\n",
       "    .dataframe thead th {\n",
       "        text-align: right;\n",
       "    }\n",
       "</style>\n",
       "<table border=\"1\" class=\"dataframe\">\n",
       "  <thead>\n",
       "    <tr style=\"text-align: right;\">\n",
       "      <th></th>\n",
       "      <th>data</th>\n",
       "      <th>arch</th>\n",
       "      <th>lr</th>\n",
       "      <th>probed</th>\n",
       "      <th>rs</th>\n",
       "      <th>mask_format</th>\n",
       "      <th>m_alpha</th>\n",
       "      <th>dropout</th>\n",
       "    </tr>\n",
       "  </thead>\n",
       "  <tbody>\n",
       "    <tr>\n",
       "      <th>0</th>\n",
       "      <td>./data/records/macho</td>\n",
       "      <td>base</td>\n",
       "      <td>0.00001</td>\n",
       "      <td>0.3</td>\n",
       "      <td>0.15</td>\n",
       "      <td>K</td>\n",
       "      <td>-1000000000</td>\n",
       "      <td>0.0</td>\n",
       "    </tr>\n",
       "  </tbody>\n",
       "</table>\n",
       "</div>"
      ],
      "text/plain": [
       "                   data  arch       lr  probed    rs mask_format     m_alpha  \\\n",
       "0  ./data/records/macho  base  0.00001     0.3  0.15           K -1000000000   \n",
       "\n",
       "   dropout  \n",
       "0      0.0  "
      ]
     },
     "execution_count": 3,
     "metadata": {},
     "output_type": "execute_result"
    }
   ],
   "source": [
    "root = './presentation/results/dani/2024-05-14_18-41-21/'\n",
    "adam_op = Adam(1e-5, \n",
    "               beta_1=0.9, \n",
    "               beta_2=0.98, \n",
    "               clipvalue=1e-4,\n",
    "               epsilon=1e-9)\n",
    "astromer, config = load_pt_model(os.path.join(root, 'pretraining'), optimizer=adam_op)\n",
    "\n",
    "pd.DataFrame([config])[['data', 'arch', 'lr', 'probed', 'rs', 'mask_format', 'm_alpha', 'dropout']]"
   ]
  },
  {
   "cell_type": "code",
   "execution_count": 4,
   "id": "b0abb490",
   "metadata": {},
   "outputs": [
    {
     "data": {
      "text/plain": [
       "1024"
      ]
     },
     "execution_count": 4,
     "metadata": {},
     "output_type": "execute_result"
    }
   ],
   "source": [
    "# import glob\n",
    "# data_path = glob.glob(os.path.join('./data/records/atlas', '*', '*'))\n",
    "# for d in data_path:\n",
    "#     old = os.path.join(d, 'val')\n",
    "#     new = os.path.join(d, 'validation')\n",
    "#     os.rename(old, new)\n",
    "config['bs']"
   ]
  },
  {
   "cell_type": "markdown",
   "id": "f08882fa",
   "metadata": {},
   "source": [
    "## Loading downstream data"
   ]
  },
  {
   "cell_type": "code",
   "execution_count": 10,
   "id": "76421c65",
   "metadata": {},
   "outputs": [
    {
     "name": "stdout",
     "output_type": "stream",
     "text": [
      "[INFO] Probed: 0.30 Random: 0.15 Same: 0.15\n",
      "[INFO] Repeating dataset x1 times\n",
      "[INFO] Normalization:  zero-mean\n",
      "[INFO] Loading PT task: Masking\n",
      "[INFO] Probed: 0.30 Random: 0.15 Same: 0.15\n",
      "[INFO] Repeating dataset x1 times\n",
      "[INFO] Normalization:  zero-mean\n",
      "[INFO] Loading PT task: Masking\n",
      "[INFO] Probed: 0.30 Random: 0.15 Same: 0.15\n",
      "[INFO] Repeating dataset x1 times\n",
      "[INFO] Normalization:  zero-mean\n",
      "[INFO] Loading PT task: Masking\n"
     ]
    }
   ],
   "source": [
    "data_path = './data/records/atlas/fold_0/atlas_500/'\n",
    "loaders = build_loader(data_path, \n",
    "                       config, \n",
    "                       batch_size=1024,\n",
    "                       clf_mode=False,\n",
    "                       sampling=False,\n",
    "                       normalize='zero-mean',\n",
    "                       old_version=False,\n",
    "                       return_test=True)"
   ]
  },
  {
   "cell_type": "code",
   "execution_count": 11,
   "id": "cd5bc026",
   "metadata": {},
   "outputs": [
    {
     "name": "stdout",
     "output_type": "stream",
     "text": [
      "[INFO] Masking Keys tokens only\n",
      "[INFO] Masking Keys tokens only\n"
     ]
    },
    {
     "name": "stderr",
     "output_type": "stream",
     "text": [
      "2024-05-28 20:54:42.720936: I tensorflow/compiler/xla/stream_executor/cuda/cuda_blas.cc:630] TensorFloat-32 will be used for the matrix multiplication. This will only be logged once.\n"
     ]
    },
    {
     "name": "stdout",
     "output_type": "stream",
     "text": [
      "4/4 [==============================] - 4s 309ms/step - loss: 0.2537 - r_square: 0.5621 - rmse: 0.2537 - p: 0.7686\n"
     ]
    }
   ],
   "source": [
    "# test_loss, test_r2, test_rmse, _ = astromer.evaluate(loaders['test'].take(10))\n",
    "test_loss, test_p, test_r2, test_rmse = astromer.evaluate(loaders['test'].take(10))"
   ]
  },
  {
   "cell_type": "code",
   "execution_count": 12,
   "id": "d20c19e6",
   "metadata": {},
   "outputs": [
    {
     "data": {
      "text/plain": [
       "(0.558138906955719, 0.2507023811340332)"
      ]
     },
     "execution_count": 12,
     "metadata": {},
     "output_type": "execute_result"
    }
   ],
   "source": [
    "test_r2, test_rmse"
   ]
  },
  {
   "cell_type": "code",
   "execution_count": 13,
   "id": "50e32f6a",
   "metadata": {},
   "outputs": [
    {
     "data": {
      "image/png": "[encoded data removed]",
      "text/plain": [
       "<Figure size 700x200 with 2 Axes>"
      ]
     },
     "metadata": {},
     "output_type": "display_data"
    }
   ],
   "source": [
    "fig, axes = plt.subplots(1, 2, figsize=(7, 2))\n",
    "for sset in ['train', 'validation']:\n",
    "    m = get_metrics(os.path.join(root, 'pretraining', 'tensorboard', sset)) \n",
    "    axes[0].plot(m['step'], m['value'])\n",
    "    m = get_metrics(os.path.join(root, 'pretraining', 'tensorboard', sset), metric_name='epoch_r_square') \n",
    "    axes[1].plot(m['step'], m['value'], label=sset)\n",
    "\n",
    "axes[0].hlines(test_loss, 0, m['step'].max(), color='g', label='test')\n",
    "axes[1].hlines(test_r2, 0, m['step'].max(), color='g', label='test')\n",
    "plt.legend()\n",
    "plt.show()"
   ]
  },
  {
   "cell_type": "markdown",
   "id": "6838c7c2",
   "metadata": {},
   "source": [
    "## Finetuning"
   ]
  },
  {
   "cell_type": "code",
   "execution_count": 5,
   "id": "d6bf5613",
   "metadata": {},
   "outputs": [],
   "source": [
    "from tensorflow.keras.callbacks import TensorBoard, EarlyStopping, ModelCheckpoint"
   ]
  },
  {
   "cell_type": "code",
   "execution_count": 6,
   "id": "2ffcf68d",
   "metadata": {
    "scrolled": true
   },
   "outputs": [],
   "source": [
    "from src.training.utils import train\n",
    "import shutil"
   ]
  },
  {
   "cell_type": "code",
   "execution_count": 24,
   "id": "732a4d5a",
   "metadata": {},
   "outputs": [],
   "source": [
    "TARGET = './presentation/results/dani/2024-05-14_18-41-21/'\n",
    "# os.makedirs(TARGET)\n",
    "# shutil.copyfile(os.path.join(root, 'pretraining', 'config.toml'), \n",
    "#                 os.path.join(TARGET, 'config.toml'))"
   ]
  },
  {
   "cell_type": "code",
   "execution_count": null,
   "id": "628e5590",
   "metadata": {
    "scrolled": true
   },
   "outputs": [],
   "source": [
    "cbks = [EarlyStopping(monitor='val_loss', patience=20),\n",
    "        ModelCheckpoint(filepath=os.path.join(TARGET, 'weights'),\n",
    "                        save_weights_only=True,\n",
    "                        save_best_only=True,\n",
    "                        save_freq='epoch',\n",
    "                        verbose=1)]\n",
    "    \n",
    "# Finetune model\n",
    "hist = astromer.fit(loaders['train'], \n",
    "                        batch_size=1024,\n",
    "                        epochs=10000, \n",
    "                        validation_data=loaders['validation'],\n",
    "                        callbacks=cbks)\n",
    "        \n",
    "# astromer = train(astromer, \n",
    "#                  loaders['train'], \n",
    "#                  loaders['validation'], \n",
    "#                  exp_path=TARGET,\n",
    "#                  epochs=10000)"
   ]
  },
  {
   "cell_type": "code",
   "execution_count": 14,
   "id": "8ab94389",
   "metadata": {},
   "outputs": [
    {
     "data": {
      "text/plain": [
       "<tensorflow.python.checkpoint.checkpoint.CheckpointLoadStatus at 0x7fa750383d90>"
      ]
     },
     "execution_count": 14,
     "metadata": {},
     "output_type": "execute_result"
    }
   ],
   "source": [
    "astromer.load_weights('./presentation/results/dani/2024-05-14_18-41-21/weights')"
   ]
  },
  {
   "cell_type": "code",
   "execution_count": 15,
   "id": "f397abc3",
   "metadata": {},
   "outputs": [
    {
     "name": "stdout",
     "output_type": "stream",
     "text": [
      "4/4 [==============================] - 2s 278ms/step - loss: 0.2518 - r_square: 0.5620 - rmse: 0.2518 - p: 0.7638\n"
     ]
    }
   ],
   "source": [
    "test_loss, test_p, test_r2, test_rmse = astromer.evaluate(loaders['test'].take(10))"
   ]
  },
  {
   "cell_type": "code",
   "execution_count": 16,
   "id": "41d92d85",
   "metadata": {},
   "outputs": [
    {
     "ename": "NameError",
     "evalue": "name 'hist' is not defined",
     "output_type": "error",
     "traceback": [
      "\u001b[0;31m---------------------------------------------------------------------------\u001b[0m",
      "\u001b[0;31mNameError\u001b[0m                                 Traceback (most recent call last)",
      "Cell \u001b[0;32mIn[16], line 2\u001b[0m\n\u001b[1;32m      1\u001b[0m fig, axes \u001b[38;5;241m=\u001b[39m plt\u001b[38;5;241m.\u001b[39msubplots(\u001b[38;5;241m1\u001b[39m, \u001b[38;5;241m2\u001b[39m, figsize\u001b[38;5;241m=\u001b[39m(\u001b[38;5;241m7\u001b[39m, \u001b[38;5;241m2\u001b[39m), dpi\u001b[38;5;241m=\u001b[39m\u001b[38;5;241m300\u001b[39m)\n\u001b[0;32m----> 2\u001b[0m axes[\u001b[38;5;241m0\u001b[39m]\u001b[38;5;241m.\u001b[39mplot(\u001b[43mhist\u001b[49m\u001b[38;5;241m.\u001b[39mhistory[\u001b[38;5;124m'\u001b[39m\u001b[38;5;124mloss\u001b[39m\u001b[38;5;124m'\u001b[39m], label\u001b[38;5;241m=\u001b[39m\u001b[38;5;124m'\u001b[39m\u001b[38;5;124mtrain\u001b[39m\u001b[38;5;124m'\u001b[39m)\n\u001b[1;32m      3\u001b[0m axes[\u001b[38;5;241m0\u001b[39m]\u001b[38;5;241m.\u001b[39mplot(hist\u001b[38;5;241m.\u001b[39mhistory[\u001b[38;5;124m'\u001b[39m\u001b[38;5;124mval_loss\u001b[39m\u001b[38;5;124m'\u001b[39m], label\u001b[38;5;241m=\u001b[39m\u001b[38;5;124m'\u001b[39m\u001b[38;5;124mvalidation\u001b[39m\u001b[38;5;124m'\u001b[39m)\n\u001b[1;32m      4\u001b[0m axes[\u001b[38;5;241m1\u001b[39m]\u001b[38;5;241m.\u001b[39mplot(hist\u001b[38;5;241m.\u001b[39mhistory[\u001b[38;5;124m'\u001b[39m\u001b[38;5;124mr_square\u001b[39m\u001b[38;5;124m'\u001b[39m], label\u001b[38;5;241m=\u001b[39m\u001b[38;5;124m'\u001b[39m\u001b[38;5;124mtrain\u001b[39m\u001b[38;5;124m'\u001b[39m)\n",
      "\u001b[0;31mNameError\u001b[0m: name 'hist' is not defined"
     ]
    },
    {
     "data": {
      "image/png": "[encoded data removed]",
      "text/plain": [
       "<Figure size 2100x600 with 2 Axes>"
      ]
     },
     "metadata": {},
     "output_type": "display_data"
    }
   ],
   "source": [
    "fig, axes = plt.subplots(1, 2, figsize=(7, 2), dpi=300)\n",
    "axes[0].plot(hist.history['loss'], label='train')\n",
    "axes[0].plot(hist.history['val_loss'], label='validation')\n",
    "axes[1].plot(hist.history['r_square'], label='train')\n",
    "axes[1].plot(hist.history['val_r_square'], label='validation')\n",
    "    \n",
    "axes[0].hlines(test_loss, 0, len(hist.history['loss']), color='g', label='test')\n",
    "axes[1].hlines(test_r2, 0, len(hist.history['loss']), color='g', label='test')\n",
    "axes[0].legend()\n",
    "axes[1].set_ylim(0, 1)\n",
    "plt.show()"
   ]
  },
  {
   "cell_type": "markdown",
   "id": "84494261",
   "metadata": {},
   "source": [
    "## Classification"
   ]
  },
  {
   "cell_type": "code",
   "execution_count": 17,
   "id": "9c059687",
   "metadata": {},
   "outputs": [],
   "source": [
    "from presentation.pipelines.steps.utils import train_classifier, predict_clf"
   ]
  },
  {
   "cell_type": "code",
   "execution_count": null,
   "id": "14f686a9",
   "metadata": {},
   "outputs": [],
   "source": [
    "\n"
   ]
  },
  {
   "cell_type": "code",
   "execution_count": 18,
   "id": "4a80018a",
   "metadata": {},
   "outputs": [
    {
     "name": "stdout",
     "output_type": "stream",
     "text": [
      "Classification Mode\n",
      "[INFO] Probed: 1.00 Random: 0.00 Same: 0.00\n",
      "[INFO] Repeating dataset x1 times\n",
      "[INFO] Normalization:  zero-mean\n",
      "[INFO] Loading PT task: Masking\n",
      "[INFO] Probed: 1.00 Random: 0.00 Same: 0.00\n",
      "[INFO] Repeating dataset x1 times\n",
      "[INFO] Normalization:  zero-mean\n",
      "[INFO] Loading PT task: Masking\n",
      "[INFO] Probed: 1.00 Random: 0.00 Same: 0.00\n",
      "[INFO] Repeating dataset x1 times\n",
      "[INFO] Normalization:  zero-mean\n",
      "[INFO] Loading PT task: Masking\n"
     ]
    }
   ],
   "source": [
    "data_path = './data/records/atlas/fold_0/atlas_500/'\n",
    "loaders = build_loader(data_path, \n",
    "                       config, \n",
    "                       batch_size=1024,\n",
    "                       clf_mode=True,\n",
    "                       sampling=False,\n",
    "                       normalize='zero-mean',\n",
    "                       old_version=False,\n",
    "                       return_test=True)"
   ]
  },
  {
   "cell_type": "code",
   "execution_count": 19,
   "id": "23fc53a4",
   "metadata": {},
   "outputs": [],
   "source": [
    "# for x, y in loaders['train'].take(1):\n",
    "#     print(x['mask_in'])"
   ]
  },
  {
   "cell_type": "code",
   "execution_count": 27,
   "id": "fa158d2f",
   "metadata": {},
   "outputs": [
    {
     "name": "stdout",
     "output_type": "stream",
     "text": [
      "[INFO] Masking Keys tokens only\n",
      "[INFO] Masking Keys tokens only\n"
     ]
    }
   ],
   "source": [
    "adam_op = Adam(1e-3, \n",
    "               beta_1=0.9, \n",
    "               beta_2=0.98, \n",
    "               epsilon=1e-9)\n",
    "\n",
    "astromer, config = load_pt_model('./presentation/results/dani/2024-05-14_18-41-21/', optimizer=adam_op)"
   ]
  },
  {
   "cell_type": "code",
   "execution_count": 28,
   "id": "acdffdfe",
   "metadata": {},
   "outputs": [
    {
     "name": "stdout",
     "output_type": "stream",
     "text": [
      "[INFO] Masking Keys tokens only\n",
      "[INFO] Masking Keys tokens only\n",
      "[INFO] Using avg_mlp clf architecture with base\n"
     ]
    }
   ],
   "source": [
    "clf = build_classifier(astromer, \n",
    "                         config, \n",
    "                         astromer_trainable=False, \n",
    "                         num_cls=loaders['n_classes'], \n",
    "                         arch='avg_mlp')"
   ]
  },
  {
   "cell_type": "code",
   "execution_count": 29,
   "id": "d1bde261",
   "metadata": {},
   "outputs": [],
   "source": [
    "import tensorflow as tf\n",
    "from tensorflow.keras.callbacks import EarlyStopping, TensorBoard\n",
    "from tensorflow.keras.losses import CategoricalCrossentropy\n",
    "from tensorflow.keras.optimizers import Adam, RMSprop"
   ]
  },
  {
   "cell_type": "code",
   "execution_count": 30,
   "id": "bdbb1905",
   "metadata": {
    "scrolled": true
   },
   "outputs": [
    {
     "name": "stdout",
     "output_type": "stream",
     "text": [
      "Epoch 1/10000\n",
      "[INFO] Masking Keys tokens only\n",
      "[INFO] Masking Keys tokens only\n",
      "[INFO] Masking Keys tokens only\n",
      "[INFO] Masking Keys tokens only\n"
     ]
    },
    {
     "name": "stderr",
     "output_type": "stream",
     "text": [
      "2024-05-28 20:57:26.575323: I tensorflow/compiler/xla/stream_executor/cuda/cuda_dnn.cc:428] Loaded cuDNN version 8100\n",
      "2024-05-28 20:57:26.615484: I tensorflow/compiler/xla/service/service.cc:173] XLA service 0x7f9d2ceccb90 initialized for platform CUDA (this does not guarantee that XLA will be used). Devices:\n",
      "2024-05-28 20:57:26.615516: I tensorflow/compiler/xla/service/service.cc:181]   StreamExecutor device (0): NVIDIA RTX A5000, Compute Capability 8.6\n",
      "2024-05-28 20:57:26.620214: I tensorflow/compiler/mlir/tensorflow/utils/dump_mlir_util.cc:268] disabling MLIR crash reproducer, set env var `MLIR_CRASH_REPRODUCER_DIRECTORY` to enable.\n",
      "2024-05-28 20:57:26.744993: I tensorflow/compiler/jit/xla_compilation_cache.cc:477] Compiled cluster using XLA!  This line is logged at most once for the lifetime of the process.\n"
     ]
    },
    {
     "name": "stdout",
     "output_type": "stream",
     "text": [
      "      3/Unknown - 4s 126ms/step - loss: 3.7284 - accuracy: 0.1951[INFO] Masking Keys tokens only\n",
      "[INFO] Masking Keys tokens only\n",
      "3/3 [==============================] - 6s 729ms/step - loss: 3.7284 - accuracy: 0.1951 - val_loss: 3.8342 - val_accuracy: 0.1954\n",
      "Epoch 2/10000\n",
      "3/3 [==============================] - 1s 392ms/step - loss: 3.3900 - accuracy: 0.1994 - val_loss: 1.9998 - val_accuracy: 0.1973\n",
      "Epoch 3/10000\n",
      "3/3 [==============================] - 1s 381ms/step - loss: 1.9712 - accuracy: 0.2066 - val_loss: 1.7976 - val_accuracy: 0.2012\n",
      "Epoch 4/10000\n",
      "3/3 [==============================] - 1s 385ms/step - loss: 1.7976 - accuracy: 0.1994 - val_loss: 1.7657 - val_accuracy: 0.1992\n",
      "Epoch 5/10000\n",
      "3/3 [==============================] - 1s 377ms/step - loss: 1.7246 - accuracy: 0.1989 - val_loss: 1.5864 - val_accuracy: 0.3385\n",
      "Epoch 6/10000\n",
      "3/3 [==============================] - 1s 391ms/step - loss: 1.5929 - accuracy: 0.3404 - val_loss: 1.6457 - val_accuracy: 0.3017\n",
      "Epoch 7/10000\n",
      "3/3 [==============================] - 1s 384ms/step - loss: 1.6557 - accuracy: 0.2819 - val_loss: 1.6422 - val_accuracy: 0.2843\n",
      "Epoch 8/10000\n",
      "3/3 [==============================] - 1s 392ms/step - loss: 1.6259 - accuracy: 0.2876 - val_loss: 1.5743 - val_accuracy: 0.2785\n",
      "Epoch 9/10000\n",
      "3/3 [==============================] - 1s 400ms/step - loss: 1.5669 - accuracy: 0.2862 - val_loss: 1.5666 - val_accuracy: 0.3056\n",
      "Epoch 10/10000\n",
      "3/3 [==============================] - 1s 383ms/step - loss: 1.5716 - accuracy: 0.3082 - val_loss: 1.5692 - val_accuracy: 0.2979\n",
      "Epoch 11/10000\n",
      "3/3 [==============================] - 1s 392ms/step - loss: 1.5588 - accuracy: 0.3178 - val_loss: 1.5207 - val_accuracy: 0.3308\n",
      "Epoch 12/10000\n",
      "3/3 [==============================] - 1s 393ms/step - loss: 1.5235 - accuracy: 0.3255 - val_loss: 1.5502 - val_accuracy: 0.2824\n",
      "Epoch 13/10000\n",
      "3/3 [==============================] - 1s 395ms/step - loss: 1.5491 - accuracy: 0.2881 - val_loss: 1.5085 - val_accuracy: 0.3675\n",
      "Epoch 14/10000\n",
      "3/3 [==============================] - 1s 378ms/step - loss: 1.4966 - accuracy: 0.3893 - val_loss: 1.4947 - val_accuracy: 0.3404\n",
      "Epoch 15/10000\n",
      "3/3 [==============================] - 1s 384ms/step - loss: 1.4966 - accuracy: 0.3519 - val_loss: 1.4832 - val_accuracy: 0.3191\n",
      "Epoch 16/10000\n",
      "3/3 [==============================] - 1s 394ms/step - loss: 1.4683 - accuracy: 0.3423 - val_loss: 1.4537 - val_accuracy: 0.3308\n",
      "Epoch 17/10000\n",
      "3/3 [==============================] - 1s 398ms/step - loss: 1.4447 - accuracy: 0.3447 - val_loss: 1.4249 - val_accuracy: 0.3559\n",
      "Epoch 18/10000\n",
      "3/3 [==============================] - 1s 397ms/step - loss: 1.4163 - accuracy: 0.3509 - val_loss: 1.4094 - val_accuracy: 0.3559\n",
      "Epoch 19/10000\n",
      "3/3 [==============================] - 1s 398ms/step - loss: 1.4128 - accuracy: 0.3639 - val_loss: 1.3915 - val_accuracy: 0.3849\n",
      "Epoch 20/10000\n",
      "3/3 [==============================] - 1s 406ms/step - loss: 1.3845 - accuracy: 0.3682 - val_loss: 1.3744 - val_accuracy: 0.3346\n",
      "Epoch 21/10000\n",
      "3/3 [==============================] - 1s 401ms/step - loss: 1.3585 - accuracy: 0.3543 - val_loss: 1.3595 - val_accuracy: 0.3926\n",
      "Epoch 22/10000\n",
      "3/3 [==============================] - 1s 390ms/step - loss: 1.3487 - accuracy: 0.3806 - val_loss: 1.3525 - val_accuracy: 0.3501\n",
      "Epoch 23/10000\n",
      "3/3 [==============================] - 1s 350ms/step - loss: 1.3320 - accuracy: 0.3619 - val_loss: 1.3211 - val_accuracy: 0.3694\n",
      "Epoch 24/10000\n",
      "3/3 [==============================] - 1s 374ms/step - loss: 1.3118 - accuracy: 0.3610 - val_loss: 1.3487 - val_accuracy: 0.3617\n",
      "Epoch 25/10000\n",
      "3/3 [==============================] - 1s 381ms/step - loss: 1.3296 - accuracy: 0.3648 - val_loss: 1.3631 - val_accuracy: 0.3888\n",
      "Epoch 26/10000\n",
      "3/3 [==============================] - 1s 392ms/step - loss: 1.3194 - accuracy: 0.4075 - val_loss: 1.3052 - val_accuracy: 0.3907\n",
      "Epoch 27/10000\n",
      "3/3 [==============================] - 1s 382ms/step - loss: 1.2821 - accuracy: 0.3821 - val_loss: 1.3029 - val_accuracy: 0.3617\n",
      "Epoch 28/10000\n",
      "3/3 [==============================] - 1s 388ms/step - loss: 1.2827 - accuracy: 0.3758 - val_loss: 1.3353 - val_accuracy: 0.3424\n",
      "Epoch 29/10000\n",
      "3/3 [==============================] - 1s 377ms/step - loss: 1.2909 - accuracy: 0.3615 - val_loss: 1.3260 - val_accuracy: 0.3424\n",
      "Epoch 30/10000\n",
      "3/3 [==============================] - 1s 396ms/step - loss: 1.2862 - accuracy: 0.3682 - val_loss: 1.2909 - val_accuracy: 0.3578\n",
      "Epoch 31/10000\n",
      "3/3 [==============================] - 1s 388ms/step - loss: 1.2604 - accuracy: 0.3715 - val_loss: 1.2973 - val_accuracy: 0.3520\n",
      "Epoch 32/10000\n",
      "3/3 [==============================] - 1s 381ms/step - loss: 1.2642 - accuracy: 0.3691 - val_loss: 1.2704 - val_accuracy: 0.3636\n",
      "Epoch 33/10000\n",
      "3/3 [==============================] - 1s 389ms/step - loss: 1.2423 - accuracy: 0.3888 - val_loss: 1.3293 - val_accuracy: 0.3926\n",
      "Epoch 34/10000\n",
      "3/3 [==============================] - 1s 378ms/step - loss: 1.2924 - accuracy: 0.3912 - val_loss: 1.3024 - val_accuracy: 0.3424\n",
      "Epoch 35/10000\n",
      "3/3 [==============================] - 1s 392ms/step - loss: 1.2446 - accuracy: 0.3974 - val_loss: 1.2785 - val_accuracy: 0.4101\n",
      "Epoch 36/10000\n",
      "3/3 [==============================] - 1s 389ms/step - loss: 1.2536 - accuracy: 0.4008 - val_loss: 1.2853 - val_accuracy: 0.3830\n",
      "Epoch 37/10000\n",
      "3/3 [==============================] - 1s 397ms/step - loss: 1.2625 - accuracy: 0.4123 - val_loss: 1.2613 - val_accuracy: 0.3772\n",
      "Epoch 38/10000\n",
      "3/3 [==============================] - 1s 369ms/step - loss: 1.2251 - accuracy: 0.3907 - val_loss: 1.2842 - val_accuracy: 0.3501\n",
      "Epoch 39/10000\n",
      "3/3 [==============================] - 1s 385ms/step - loss: 1.2554 - accuracy: 0.3734 - val_loss: 1.2793 - val_accuracy: 0.3501\n",
      "Epoch 40/10000\n",
      "3/3 [==============================] - 1s 390ms/step - loss: 1.2253 - accuracy: 0.3974 - val_loss: 1.2645 - val_accuracy: 0.4410\n",
      "Epoch 41/10000\n",
      "3/3 [==============================] - 1s 376ms/step - loss: 1.2344 - accuracy: 0.4425 - val_loss: 1.2863 - val_accuracy: 0.4449\n",
      "Epoch 42/10000\n",
      "3/3 [==============================] - 1s 380ms/step - loss: 1.2575 - accuracy: 0.4372 - val_loss: 1.2940 - val_accuracy: 0.3810\n",
      "Epoch 43/10000\n",
      "3/3 [==============================] - 1s 391ms/step - loss: 1.2351 - accuracy: 0.3960 - val_loss: 1.2385 - val_accuracy: 0.3636\n",
      "Epoch 44/10000\n",
      "3/3 [==============================] - 1s 390ms/step - loss: 1.2164 - accuracy: 0.3802 - val_loss: 1.2286 - val_accuracy: 0.3830\n",
      "Epoch 45/10000\n",
      "3/3 [==============================] - 1s 395ms/step - loss: 1.1973 - accuracy: 0.4080 - val_loss: 1.2235 - val_accuracy: 0.4468\n",
      "Epoch 46/10000\n",
      "3/3 [==============================] - 1s 382ms/step - loss: 1.1889 - accuracy: 0.4487 - val_loss: 1.2580 - val_accuracy: 0.3675\n",
      "Epoch 47/10000\n",
      "3/3 [==============================] - 1s 376ms/step - loss: 1.2374 - accuracy: 0.3734 - val_loss: 1.2751 - val_accuracy: 0.4371\n",
      "Epoch 48/10000\n",
      "3/3 [==============================] - 1s 376ms/step - loss: 1.2267 - accuracy: 0.4214 - val_loss: 1.2320 - val_accuracy: 0.3849\n",
      "Epoch 49/10000\n",
      "3/3 [==============================] - 1s 384ms/step - loss: 1.1999 - accuracy: 0.3854 - val_loss: 1.2382 - val_accuracy: 0.3559\n",
      "Epoch 50/10000\n",
      "3/3 [==============================] - 1s 383ms/step - loss: 1.2173 - accuracy: 0.3826 - val_loss: 1.2066 - val_accuracy: 0.4081\n",
      "Epoch 51/10000\n",
      "3/3 [==============================] - 1s 375ms/step - loss: 1.1756 - accuracy: 0.4396 - val_loss: 1.2092 - val_accuracy: 0.4545\n",
      "Epoch 52/10000\n",
      "3/3 [==============================] - 1s 367ms/step - loss: 1.1975 - accuracy: 0.4588 - val_loss: 1.2519 - val_accuracy: 0.4565\n",
      "Epoch 53/10000\n",
      "3/3 [==============================] - 1s 380ms/step - loss: 1.1917 - accuracy: 0.4559 - val_loss: 1.1953 - val_accuracy: 0.4236\n",
      "Epoch 54/10000\n",
      "3/3 [==============================] - 1s 384ms/step - loss: 1.1846 - accuracy: 0.4123 - val_loss: 1.2297 - val_accuracy: 0.4101\n",
      "Epoch 55/10000\n",
      "3/3 [==============================] - 1s 400ms/step - loss: 1.1992 - accuracy: 0.4267 - val_loss: 1.1843 - val_accuracy: 0.4603\n",
      "Epoch 56/10000\n",
      "3/3 [==============================] - 1s 389ms/step - loss: 1.1780 - accuracy: 0.4276 - val_loss: 1.2350 - val_accuracy: 0.4313\n",
      "Epoch 57/10000\n"
     ]
    },
    {
     "name": "stdout",
     "output_type": "stream",
     "text": [
      "3/3 [==============================] - 1s 361ms/step - loss: 1.2068 - accuracy: 0.4358 - val_loss: 1.2107 - val_accuracy: 0.4468\n",
      "Epoch 58/10000\n",
      "3/3 [==============================] - 1s 382ms/step - loss: 1.1764 - accuracy: 0.4406 - val_loss: 1.1969 - val_accuracy: 0.4410\n",
      "Epoch 59/10000\n",
      "3/3 [==============================] - 1s 400ms/step - loss: 1.1777 - accuracy: 0.4219 - val_loss: 1.2104 - val_accuracy: 0.4139\n",
      "Epoch 60/10000\n",
      "3/3 [==============================] - 1s 379ms/step - loss: 1.1686 - accuracy: 0.4252 - val_loss: 1.1881 - val_accuracy: 0.4487\n",
      "Epoch 61/10000\n",
      "3/3 [==============================] - 1s 380ms/step - loss: 1.1740 - accuracy: 0.4334 - val_loss: 1.1728 - val_accuracy: 0.4758\n",
      "Epoch 62/10000\n",
      "3/3 [==============================] - 1s 390ms/step - loss: 1.1562 - accuracy: 0.4655 - val_loss: 1.1824 - val_accuracy: 0.4681\n",
      "Epoch 63/10000\n",
      "3/3 [==============================] - 1s 399ms/step - loss: 1.1563 - accuracy: 0.4674 - val_loss: 1.1597 - val_accuracy: 0.4797\n",
      "Epoch 64/10000\n",
      "3/3 [==============================] - 1s 385ms/step - loss: 1.1446 - accuracy: 0.4708 - val_loss: 1.1552 - val_accuracy: 0.4778\n",
      "Epoch 65/10000\n",
      "3/3 [==============================] - 1s 400ms/step - loss: 1.1409 - accuracy: 0.4626 - val_loss: 1.1607 - val_accuracy: 0.4642\n",
      "Epoch 66/10000\n",
      "3/3 [==============================] - 1s 383ms/step - loss: 1.1534 - accuracy: 0.4698 - val_loss: 1.1788 - val_accuracy: 0.4797\n",
      "Epoch 67/10000\n",
      "3/3 [==============================] - 1s 382ms/step - loss: 1.1456 - accuracy: 0.4698 - val_loss: 1.1533 - val_accuracy: 0.4449\n",
      "Epoch 68/10000\n",
      "3/3 [==============================] - 1s 396ms/step - loss: 1.1497 - accuracy: 0.4348 - val_loss: 1.1525 - val_accuracy: 0.4391\n",
      "Epoch 69/10000\n",
      "3/3 [==============================] - 1s 400ms/step - loss: 1.1432 - accuracy: 0.4410 - val_loss: 1.1507 - val_accuracy: 0.4894\n",
      "Epoch 70/10000\n",
      "3/3 [==============================] - 1s 393ms/step - loss: 1.1285 - accuracy: 0.4799 - val_loss: 1.1496 - val_accuracy: 0.4836\n",
      "Epoch 71/10000\n",
      "3/3 [==============================] - 1s 376ms/step - loss: 1.1344 - accuracy: 0.4727 - val_loss: 1.1537 - val_accuracy: 0.4932\n",
      "Epoch 72/10000\n",
      "3/3 [==============================] - 1s 390ms/step - loss: 1.1272 - accuracy: 0.4813 - val_loss: 1.1275 - val_accuracy: 0.5087\n",
      "Epoch 73/10000\n",
      "3/3 [==============================] - 1s 392ms/step - loss: 1.1274 - accuracy: 0.4885 - val_loss: 1.2119 - val_accuracy: 0.4294\n",
      "Epoch 74/10000\n",
      "3/3 [==============================] - 1s 385ms/step - loss: 1.1602 - accuracy: 0.4487 - val_loss: 1.2213 - val_accuracy: 0.4043\n",
      "Epoch 75/10000\n",
      "3/3 [==============================] - 1s 400ms/step - loss: 1.1906 - accuracy: 0.4477 - val_loss: 1.2545 - val_accuracy: 0.4449\n",
      "Epoch 76/10000\n",
      "3/3 [==============================] - 1s 388ms/step - loss: 1.1837 - accuracy: 0.4626 - val_loss: 1.1531 - val_accuracy: 0.4720\n",
      "Epoch 77/10000\n",
      "3/3 [==============================] - 1s 386ms/step - loss: 1.1391 - accuracy: 0.4784 - val_loss: 1.1405 - val_accuracy: 0.4894\n",
      "Epoch 78/10000\n",
      "3/3 [==============================] - 1s 387ms/step - loss: 1.1529 - accuracy: 0.4789 - val_loss: 1.1309 - val_accuracy: 0.5048\n",
      "Epoch 79/10000\n",
      "3/3 [==============================] - 1s 393ms/step - loss: 1.1165 - accuracy: 0.4986 - val_loss: 1.1269 - val_accuracy: 0.4874\n",
      "Epoch 80/10000\n",
      "3/3 [==============================] - 1s 402ms/step - loss: 1.1123 - accuracy: 0.4899 - val_loss: 1.1222 - val_accuracy: 0.4836\n",
      "Epoch 81/10000\n",
      "3/3 [==============================] - 1s 391ms/step - loss: 1.1131 - accuracy: 0.4861 - val_loss: 1.1202 - val_accuracy: 0.4894\n",
      "Epoch 82/10000\n",
      "3/3 [==============================] - 1s 399ms/step - loss: 1.1154 - accuracy: 0.4832 - val_loss: 1.1126 - val_accuracy: 0.4874\n",
      "Epoch 83/10000\n",
      "3/3 [==============================] - 1s 376ms/step - loss: 1.1131 - accuracy: 0.4971 - val_loss: 1.1481 - val_accuracy: 0.4623\n",
      "Epoch 84/10000\n",
      "3/3 [==============================] - 1s 389ms/step - loss: 1.1171 - accuracy: 0.4909 - val_loss: 1.5235 - val_accuracy: 0.3366\n",
      "Epoch 85/10000\n",
      "3/3 [==============================] - 1s 379ms/step - loss: 1.3650 - accuracy: 0.3998 - val_loss: 1.4891 - val_accuracy: 0.3926\n",
      "Epoch 86/10000\n",
      "3/3 [==============================] - 1s 389ms/step - loss: 1.3287 - accuracy: 0.4132 - val_loss: 1.3162 - val_accuracy: 0.3752\n",
      "Epoch 87/10000\n",
      "3/3 [==============================] - 1s 385ms/step - loss: 1.3319 - accuracy: 0.3763 - val_loss: 1.1678 - val_accuracy: 0.4545\n",
      "Epoch 88/10000\n",
      "3/3 [==============================] - 1s 388ms/step - loss: 1.1821 - accuracy: 0.4377 - val_loss: 1.2278 - val_accuracy: 0.4120\n",
      "Epoch 89/10000\n",
      "3/3 [==============================] - 1s 379ms/step - loss: 1.1692 - accuracy: 0.4401 - val_loss: 1.1846 - val_accuracy: 0.4352\n",
      "Epoch 90/10000\n",
      "3/3 [==============================] - 1s 385ms/step - loss: 1.1720 - accuracy: 0.4324 - val_loss: 1.1820 - val_accuracy: 0.4159\n",
      "Epoch 91/10000\n",
      "3/3 [==============================] - 1s 389ms/step - loss: 1.1585 - accuracy: 0.4506 - val_loss: 1.1762 - val_accuracy: 0.4603\n",
      "Epoch 92/10000\n",
      "3/3 [==============================] - 1s 392ms/step - loss: 1.1456 - accuracy: 0.4736 - val_loss: 1.1590 - val_accuracy: 0.4971\n",
      "Epoch 93/10000\n",
      "3/3 [==============================] - 1s 381ms/step - loss: 1.1418 - accuracy: 0.4899 - val_loss: 1.1639 - val_accuracy: 0.4700\n",
      "Epoch 94/10000\n",
      "3/3 [==============================] - 1s 383ms/step - loss: 1.1413 - accuracy: 0.4837 - val_loss: 1.1638 - val_accuracy: 0.4778\n",
      "Epoch 95/10000\n",
      "3/3 [==============================] - 1s 387ms/step - loss: 1.1341 - accuracy: 0.4847 - val_loss: 1.1391 - val_accuracy: 0.4952\n",
      "Epoch 96/10000\n",
      "3/3 [==============================] - 1s 393ms/step - loss: 1.1537 - accuracy: 0.4703 - val_loss: 1.1362 - val_accuracy: 0.4758\n",
      "Epoch 97/10000\n",
      "3/3 [==============================] - 1s 399ms/step - loss: 1.1306 - accuracy: 0.4722 - val_loss: 1.1949 - val_accuracy: 0.4120\n",
      "Epoch 98/10000\n",
      "3/3 [==============================] - 1s 383ms/step - loss: 1.1516 - accuracy: 0.4516 - val_loss: 1.1386 - val_accuracy: 0.4797\n",
      "Epoch 99/10000\n",
      "3/3 [==============================] - 1s 398ms/step - loss: 1.1545 - accuracy: 0.4684 - val_loss: 1.1353 - val_accuracy: 0.4758\n",
      "Epoch 100/10000\n",
      "3/3 [==============================] - 1s 368ms/step - loss: 1.1254 - accuracy: 0.4765 - val_loss: 1.1572 - val_accuracy: 0.4778\n",
      "Epoch 101/10000\n",
      "3/3 [==============================] - 1s 391ms/step - loss: 1.1969 - accuracy: 0.4439 - val_loss: 1.1347 - val_accuracy: 0.4816\n",
      "Epoch 102/10000\n",
      "3/3 [==============================] - 1s 417ms/step - loss: 1.1293 - accuracy: 0.4813 - val_loss: 1.1908 - val_accuracy: 0.4720\n"
     ]
    }
   ],
   "source": [
    "target_dir = os.path.join('./presentation/results/test')\n",
    "optimizer = Adam(learning_rate=1e-3)\n",
    "os.makedirs(target_dir, exist_ok=True)\n",
    "\n",
    "clf.compile(optimizer=optimizer,\n",
    "              loss=CategoricalCrossentropy(from_logits=True),\n",
    "              metrics='accuracy')\n",
    "\n",
    "estop = EarlyStopping(monitor='val_loss',\n",
    "                      min_delta=0,\n",
    "                      patience=20,\n",
    "                      verbose=0,\n",
    "                      mode='auto',\n",
    "                      baseline=None,\n",
    "                      restore_best_weights=True)\n",
    "tb = TensorBoard(log_dir=os.path.join(target_dir, 'logs'),\n",
    "                 write_graph=False,\n",
    "                 write_images=False,\n",
    "                 update_freq='epoch',\n",
    "                 profile_batch=0,\n",
    "                 embeddings_freq=0,\n",
    "                 embeddings_metadata=None)\n",
    "\n",
    "hist = clf.fit(loaders['train'],\n",
    "              epochs=10000,\n",
    "              batch_size=512,\n",
    "              callbacks=[estop, tb],\n",
    "              validation_data=loaders['validation'])"
   ]
  },
  {
   "cell_type": "code",
   "execution_count": null,
   "id": "5293a880",
   "metadata": {},
   "outputs": [],
   "source": [
    "scores = predict_clf(clf, loaders['test'])"
   ]
  },
  {
   "cell_type": "code",
   "execution_count": null,
   "id": "2d10e075",
   "metadata": {},
   "outputs": [],
   "source": [
    "'{:.2f}'.format(scores['f1'])"
   ]
  },
  {
   "cell_type": "code",
   "execution_count": null,
   "id": "6011cbd4",
   "metadata": {},
   "outputs": [],
   "source": []
  },
  {
   "cell_type": "code",
   "execution_count": null,
   "id": "363b9e37",
   "metadata": {},
   "outputs": [],
   "source": []
  },
  {
   "cell_type": "code",
   "execution_count": null,
   "id": "816a86da",
   "metadata": {},
   "outputs": [],
   "source": []
  },
  {
   "cell_type": "code",
   "execution_count": null,
   "id": "7498be7f",
   "metadata": {},
   "outputs": [],
   "source": []
  },
  {
   "cell_type": "code",
   "execution_count": null,
   "id": "d419cf37",
   "metadata": {},
   "outputs": [],
   "source": []
  }
 ],
 "metadata": {
  "kernelspec": {
   "display_name": "Python 3 (ipykernel)",
   "language": "python",
   "name": "python3"
  },
  "language_info": {
   "codemirror_mode": {
    "name": "ipython",
    "version": 3
   },
   "file_extension": ".py",
   "mimetype": "text/x-python",
   "name": "python",
   "nbconvert_exporter": "python",
   "pygments_lexer": "ipython3",
   "version": "3.8.10"
  }
 },
 "nbformat": 4,
 "nbformat_minor": 5
}
