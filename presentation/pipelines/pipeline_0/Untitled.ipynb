{
 "cells": [
  {
   "cell_type": "code",
   "execution_count": 1,
   "id": "f954edf8",
   "metadata": {},
   "outputs": [
    {
     "name": "stdout",
     "output_type": "stream",
     "text": [
      "/home\n"
     ]
    }
   ],
   "source": [
    "cd /home"
   ]
  },
  {
   "cell_type": "code",
   "execution_count": 2,
   "id": "e7932400",
   "metadata": {},
   "outputs": [
    {
     "name": "stderr",
     "output_type": "stream",
     "text": [
      "2024-05-04 17:35:40.770047: I tensorflow/core/platform/cpu_feature_guard.cc:193] This TensorFlow binary is optimized with oneAPI Deep Neural Network Library (oneDNN) to use the following CPU instructions in performance-critical operations:  AVX2 FMA\n",
      "To enable them in other operations, rebuild TensorFlow with the appropriate compiler flags.\n"
     ]
    }
   ],
   "source": [
    "import matplotlib.pyplot as plt\n",
    "import tensorflow as tf\n",
    "import numpy as np\n",
    "import pandas as pd\n",
    "import mlflow\n",
    "import os\n",
    "\n",
    "from tensorflow.keras.optimizers import Adam\n",
    "from sklearn.metrics import r2_score, mean_squared_error\n",
    "from src.utils import get_metrics\n",
    "\n",
    "from presentation.pipelines.steps.model_design import load_pt_model, build_classifier\n",
    "from presentation.pipelines.steps.load_data import build_loader \n",
    "\n",
    "\n",
    "os.environ[\"CUDA_VISIBLE_DEVICES\"] = \"-1\"\n",
    "\n",
    "%load_ext autoreload\n",
    "%autoreload 2"
   ]
  },
  {
   "cell_type": "code",
   "execution_count": 4,
   "id": "96ddb2dc",
   "metadata": {},
   "outputs": [
    {
     "name": "stdout",
     "output_type": "stream",
     "text": [
      "[INFO] Zero architecture loaded\n",
      "[INFO] Using masked-att with alpha = 1.00\n",
      "[INFO] Using masked-att with alpha = 1.00\n",
      "[INFO] Using PE with c: 2.0\n",
      "[INFO] Masking Query and Key tokens\n",
      "[INFO] Masking Query and Key tokens\n"
     ]
    },
    {
     "data": {
      "text/html": [
       "<div>\n",
       "<style scoped>\n",
       "    .dataframe tbody tr th:only-of-type {\n",
       "        vertical-align: middle;\n",
       "    }\n",
       "\n",
       "    .dataframe tbody tr th {\n",
       "        vertical-align: top;\n",
       "    }\n",
       "\n",
       "    .dataframe thead th {\n",
       "        text-align: right;\n",
       "    }\n",
       "</style>\n",
       "<table border=\"1\" class=\"dataframe\">\n",
       "  <thead>\n",
       "    <tr style=\"text-align: right;\">\n",
       "      <th></th>\n",
       "      <th>data</th>\n",
       "      <th>arch</th>\n",
       "      <th>lr</th>\n",
       "      <th>probed</th>\n",
       "      <th>rs</th>\n",
       "      <th>same</th>\n",
       "      <th>mask_format</th>\n",
       "      <th>m_alpha</th>\n",
       "    </tr>\n",
       "  </thead>\n",
       "  <tbody>\n",
       "    <tr>\n",
       "      <th>0</th>\n",
       "      <td>./data/records/macho/</td>\n",
       "      <td>zero</td>\n",
       "      <td>0.001</td>\n",
       "      <td>0.5</td>\n",
       "      <td>0.2</td>\n",
       "      <td>0.2</td>\n",
       "      <td>QK</td>\n",
       "      <td>1.0</td>\n",
       "    </tr>\n",
       "  </tbody>\n",
       "</table>\n",
       "</div>"
      ],
      "text/plain": [
       "                    data  arch     lr  probed   rs  same mask_format  m_alpha\n",
       "0  ./data/records/macho/  zero  0.001     0.5  0.2   0.2          QK      1.0"
      ]
     },
     "execution_count": 4,
     "metadata": {},
     "output_type": "execute_result"
    }
   ],
   "source": [
    "root = './presentation/results/zero/2024-04-24_16-13-23/'\n",
    "adam_op = Adam(1e-5, beta_1=0.9, beta_2=0.98, epsilon=1e-9, \n",
    "               clipvalue=1e-4)\n",
    "astromer, config = load_pt_model(os.path.join(root, 'pretraining'), optimizer=adam_op)\n",
    "pd.DataFrame([config])[['data', 'arch', 'lr', 'probed', 'rs', 'same', 'mask_format', 'm_alpha']]"
   ]
  },
  {
   "cell_type": "code",
   "execution_count": null,
   "id": "b0abb490",
   "metadata": {},
   "outputs": [],
   "source": []
  },
  {
   "cell_type": "markdown",
   "id": "f08882fa",
   "metadata": {},
   "source": [
    "## Loading downstream data"
   ]
  },
  {
   "cell_type": "code",
   "execution_count": 5,
   "id": "76421c65",
   "metadata": {},
   "outputs": [
    {
     "name": "stdout",
     "output_type": "stream",
     "text": [
      "[INFO] Probed: 0.50 Random: 0.20 Same: 0.20\n",
      "[INFO] Repeating dataset x1 times\n",
      "[INFO] Normalization:  zero-mean\n",
      "[INFO] Loading PT task: Masking\n",
      "[INFO] Zero\n",
      "[INFO] Probed: 0.50 Random: 0.20 Same: 0.20\n",
      "[INFO] Repeating dataset x1 times\n",
      "[INFO] Normalization:  zero-mean\n",
      "[INFO] Loading PT task: Masking\n",
      "[INFO] Zero\n",
      "[INFO] Probed: 0.50 Random: 0.20 Same: 0.20\n",
      "[INFO] Repeating dataset x1 times\n",
      "[INFO] Normalization:  zero-mean\n",
      "[INFO] Loading PT task: Masking\n",
      "[INFO] Zero\n"
     ]
    }
   ],
   "source": [
    "data_path = './data/records/alcock/fold_0/alcock_100/'\n",
    "loaders = build_loader(data_path, \n",
    "                       config, \n",
    "                       batch_size=32,\n",
    "                       clf_mode=False,\n",
    "                       sampling=False,\n",
    "                       normalize='zero-mean')"
   ]
  },
  {
   "cell_type": "code",
   "execution_count": 6,
   "id": "cd5bc026",
   "metadata": {},
   "outputs": [
    {
     "name": "stderr",
     "output_type": "stream",
     "text": [
      "/usr/local/lib/python3.8/dist-packages/keras/engine/functional.py:638: UserWarning: Input dict contained keys ['mask_out'] which did not match any model input. They will be ignored by the model.\n",
      "  inputs = self._flatten_to_reference_inputs(inputs)\n"
     ]
    },
    {
     "name": "stdout",
     "output_type": "stream",
     "text": [
      "[INFO] Using PE with c: 2.0\n",
      "[INFO] Masking Query and Key tokens\n",
      "[INFO] Masking Query and Key tokens\n",
      "10/10 [==============================] - 2s 98ms/step - loss: 0.0809 - r_square: 0.7352 - rmse: 0.0809\n"
     ]
    }
   ],
   "source": [
    "test_loss, test_r2, test_rmse = astromer.evaluate(loaders['test'].take(10))"
   ]
  },
  {
   "cell_type": "code",
   "execution_count": 7,
   "id": "50e32f6a",
   "metadata": {},
   "outputs": [
    {
     "data": {
      "image/png": "[encoded data removed]",
      "text/plain": [
       "<Figure size 700x200 with 2 Axes>"
      ]
     },
     "metadata": {},
     "output_type": "display_data"
    }
   ],
   "source": [
    "fig, axes = plt.subplots(1, 2, figsize=(7, 2))\n",
    "for sset in ['train', 'validation']:\n",
    "    m = get_metrics(os.path.join(root, 'pretraining', 'tensorboard', sset)) \n",
    "    axes[0].plot(m['step'], m['value'])\n",
    "    m = get_metrics(os.path.join(root, 'pretraining', 'tensorboard', sset), metric_name='epoch_r_square') \n",
    "    axes[1].plot(m['step'], m['value'], label=sset)\n",
    "\n",
    "axes[0].hlines(test_loss, 0, m['step'].max())\n",
    "axes[1].hlines(test_r2, 0, m['step'].max())\n",
    "plt.legend()\n",
    "plt.show()"
   ]
  },
  {
   "cell_type": "markdown",
   "id": "6838c7c2",
   "metadata": {},
   "source": [
    "## Finetuning"
   ]
  },
  {
   "cell_type": "code",
   "execution_count": 8,
   "id": "d6bf5613",
   "metadata": {},
   "outputs": [],
   "source": [
    "from tensorflow.keras.callbacks import TensorBoard, EarlyStopping, ModelCheckpoint"
   ]
  },
  {
   "cell_type": "code",
   "execution_count": 9,
   "id": "2ffcf68d",
   "metadata": {
    "scrolled": true
   },
   "outputs": [
    {
     "name": "stdout",
     "output_type": "stream",
     "text": [
      "Epoch 1/10000\n",
      "[INFO] Using PE with c: 2.0\n",
      "[INFO] Masking Query and Key tokens\n",
      "[INFO] Masking Query and Key tokens\n",
      "[INFO] Using PE with c: 2.0\n",
      "[INFO] Masking Query and Key tokens\n",
      "[INFO] Masking Query and Key tokens\n",
      "62/62 [==============================] - 14s 199ms/step - loss: 0.1033 - r_square: 0.7589 - rmse: 0.1033 - val_loss: 0.0786 - val_r_square: 0.9755 - val_rmse: 0.0786\n",
      "Epoch 2/10000\n",
      "62/62 [==============================] - 12s 201ms/step - loss: 0.0970 - r_square: 0.7840 - rmse: 0.0970 - val_loss: 0.0983 - val_r_square: 0.9613 - val_rmse: 0.0983\n",
      "Epoch 3/10000\n",
      "62/62 [==============================] - 12s 195ms/step - loss: 0.0947 - r_square: 0.7865 - rmse: 0.0947 - val_loss: 0.0634 - val_r_square: 0.8434 - val_rmse: 0.0634\n",
      "Epoch 4/10000\n",
      "62/62 [==============================] - 12s 201ms/step - loss: 0.1020 - r_square: 0.7754 - rmse: 0.1020 - val_loss: 0.0652 - val_r_square: 0.8553 - val_rmse: 0.0652\n",
      "Epoch 5/10000\n",
      "62/62 [==============================] - 13s 203ms/step - loss: 0.1033 - r_square: 0.7848 - rmse: 0.1033 - val_loss: 0.4786 - val_r_square: 0.0758 - val_rmse: 0.4786\n",
      "Epoch 6/10000\n",
      "62/62 [==============================] - 13s 204ms/step - loss: 0.0989 - r_square: 0.7721 - rmse: 0.0989 - val_loss: 0.4782 - val_r_square: 0.0946 - val_rmse: 0.4782\n",
      "Epoch 7/10000\n",
      "62/62 [==============================] - 13s 204ms/step - loss: 0.0963 - r_square: 0.7839 - rmse: 0.0963 - val_loss: 0.0632 - val_r_square: 0.8291 - val_rmse: 0.0632\n",
      "Epoch 8/10000\n",
      "62/62 [==============================] - 13s 202ms/step - loss: 0.0957 - r_square: 0.7839 - rmse: 0.0957 - val_loss: 0.0573 - val_r_square: 0.9869 - val_rmse: 0.0573\n",
      "Epoch 9/10000\n",
      "62/62 [==============================] - 13s 205ms/step - loss: 0.0989 - r_square: 0.7711 - rmse: 0.0989 - val_loss: 0.0612 - val_r_square: 0.8609 - val_rmse: 0.0612\n",
      "Epoch 10/10000\n",
      "62/62 [==============================] - 13s 205ms/step - loss: 0.1002 - r_square: 0.7477 - rmse: 0.1002 - val_loss: 0.0769 - val_r_square: 0.9763 - val_rmse: 0.0769\n",
      "Epoch 11/10000\n",
      "62/62 [==============================] - 12s 201ms/step - loss: 0.0982 - r_square: 0.7624 - rmse: 0.0982 - val_loss: 0.2576 - val_r_square: 0.7360 - val_rmse: 0.2576\n",
      "Epoch 12/10000\n",
      "62/62 [==============================] - 12s 201ms/step - loss: 0.1015 - r_square: 0.7686 - rmse: 0.1015 - val_loss: 0.0622 - val_r_square: 0.8500 - val_rmse: 0.0622\n",
      "Epoch 13/10000\n",
      "62/62 [==============================] - 13s 203ms/step - loss: 0.0969 - r_square: 0.7841 - rmse: 0.0969 - val_loss: 0.1035 - val_r_square: 0.9563 - val_rmse: 0.1035\n",
      "Epoch 14/10000\n",
      "62/62 [==============================] - 12s 199ms/step - loss: 0.1022 - r_square: 0.7647 - rmse: 0.1022 - val_loss: 0.0642 - val_r_square: 0.8498 - val_rmse: 0.0642\n",
      "Epoch 15/10000\n",
      "62/62 [==============================] - 13s 203ms/step - loss: 0.1012 - r_square: 0.7717 - rmse: 0.1012 - val_loss: 0.2565 - val_r_square: 0.7365 - val_rmse: 0.2565\n",
      "Epoch 16/10000\n",
      "62/62 [==============================] - 13s 204ms/step - loss: 0.1042 - r_square: 0.7623 - rmse: 0.1042 - val_loss: 0.1253 - val_r_square: 0.9380 - val_rmse: 0.1253\n",
      "Epoch 17/10000\n",
      "62/62 [==============================] - 13s 204ms/step - loss: 0.1059 - r_square: 0.7722 - rmse: 0.1059 - val_loss: 0.1047 - val_r_square: 0.9566 - val_rmse: 0.1047\n",
      "Epoch 18/10000\n",
      "62/62 [==============================] - 13s 203ms/step - loss: 0.0953 - r_square: 0.7828 - rmse: 0.0953 - val_loss: 0.0672 - val_r_square: 0.8442 - val_rmse: 0.0672\n",
      "Epoch 19/10000\n",
      "62/62 [==============================] - 13s 202ms/step - loss: 0.1000 - r_square: 0.7607 - rmse: 0.1000 - val_loss: 0.1687 - val_r_square: 0.8868 - val_rmse: 0.1687\n",
      "Epoch 20/10000\n",
      "62/62 [==============================] - 13s 202ms/step - loss: 0.0960 - r_square: 0.7788 - rmse: 0.0960 - val_loss: 0.1139 - val_r_square: 0.9475 - val_rmse: 0.1139\n",
      "Epoch 21/10000\n",
      "62/62 [==============================] - 12s 202ms/step - loss: 0.0980 - r_square: 0.7636 - rmse: 0.0980 - val_loss: 0.0632 - val_r_square: 0.9841 - val_rmse: 0.0632\n",
      "Epoch 22/10000\n",
      "62/62 [==============================] - 13s 204ms/step - loss: 0.1018 - r_square: 0.7674 - rmse: 0.1018 - val_loss: 0.0633 - val_r_square: 0.8369 - val_rmse: 0.0633\n",
      "Epoch 23/10000\n",
      "62/62 [==============================] - 13s 204ms/step - loss: 0.0980 - r_square: 0.7901 - rmse: 0.0980 - val_loss: 0.0594 - val_r_square: 0.8717 - val_rmse: 0.0594\n",
      "Epoch 24/10000\n",
      "62/62 [==============================] - 12s 202ms/step - loss: 0.1002 - r_square: 0.7641 - rmse: 0.1002 - val_loss: 0.0706 - val_r_square: 0.7955 - val_rmse: 0.0706\n",
      "Epoch 25/10000\n",
      "62/62 [==============================] - 12s 201ms/step - loss: 0.1008 - r_square: 0.7634 - rmse: 0.1008 - val_loss: 0.0596 - val_r_square: 0.8525 - val_rmse: 0.0596\n",
      "Epoch 26/10000\n",
      "62/62 [==============================] - 12s 201ms/step - loss: 0.0981 - r_square: 0.7709 - rmse: 0.0981 - val_loss: 0.1954 - val_r_square: 0.8457 - val_rmse: 0.1954\n",
      "Epoch 27/10000\n",
      "62/62 [==============================] - 12s 201ms/step - loss: 0.0939 - r_square: 0.7879 - rmse: 0.0939 - val_loss: 0.4805 - val_r_square: 0.0817 - val_rmse: 0.4805\n",
      "Epoch 28/10000\n",
      "62/62 [==============================] - 13s 202ms/step - loss: 0.0999 - r_square: 0.7525 - rmse: 0.0999 - val_loss: 0.1922 - val_r_square: 0.8530 - val_rmse: 0.1922\n"
     ]
    }
   ],
   "source": [
    "hist = astromer.fit(loaders['train'], epochs=10000, validation_data=loaders['validation'], \n",
    "             callbacks=[EarlyStopping(monitor='val_loss', patience=20)])"
   ]
  },
  {
   "cell_type": "code",
   "execution_count": 10,
   "id": "628e5590",
   "metadata": {},
   "outputs": [
    {
     "data": {
      "text/plain": [
       "[<matplotlib.lines.Line2D at 0x711898225970>]"
      ]
     },
     "execution_count": 10,
     "metadata": {},
     "output_type": "execute_result"
    },
    {
     "data": {
      "image/png": "[encoded data removed]",
      "text/plain": [
       "<Figure size 640x480 with 1 Axes>"
      ]
     },
     "metadata": {},
     "output_type": "display_data"
    }
   ],
   "source": [
    "plt.plot(hist.history['val_r_square'])"
   ]
  },
  {
   "cell_type": "code",
   "execution_count": 10,
   "id": "f397abc3",
   "metadata": {},
   "outputs": [
    {
     "name": "stdout",
     "output_type": "stream",
     "text": [
      "10/10 [==============================] - 1s 65ms/step - loss: 0.0881 - r_square: 0.6883 - rmse: 0.0881\n"
     ]
    }
   ],
   "source": [
    "test_loss, test_r2, test_rmse = astromer.evaluate(loaders['test'].take(10))"
   ]
  },
  {
   "cell_type": "code",
   "execution_count": 11,
   "id": "41d92d85",
   "metadata": {},
   "outputs": [],
   "source": [
    "astromer.save_weights(os.path.join(root, 'ft_new', 'weights'))"
   ]
  },
  {
   "cell_type": "markdown",
   "id": "84494261",
   "metadata": {},
   "source": [
    "## Classification"
   ]
  },
  {
   "cell_type": "code",
   "execution_count": 14,
   "id": "4a80018a",
   "metadata": {},
   "outputs": [
    {
     "name": "stdout",
     "output_type": "stream",
     "text": [
      "Classification Mode\n",
      "[INFO] Probed: 1.00 Random: 0.00 Same: 0.00\n",
      "[INFO] Repeating dataset x1 times\n",
      "[INFO] Normalization:  zero-mean\n",
      "[INFO] Loading PT task: Masking\n",
      "[INFO] Zero\n",
      "[INFO] Probed: 1.00 Random: 0.00 Same: 0.00\n",
      "[INFO] Repeating dataset x1 times\n",
      "[INFO] Normalization:  zero-mean\n",
      "[INFO] Loading PT task: Masking\n",
      "[INFO] Zero\n",
      "[INFO] Probed: 1.00 Random: 0.00 Same: 0.00\n",
      "[INFO] Repeating dataset x1 times\n",
      "[INFO] Normalization:  zero-mean\n",
      "[INFO] Loading PT task: Masking\n",
      "[INFO] Zero\n"
     ]
    }
   ],
   "source": [
    "loaders = build_loader(data_path, \n",
    "                       config, \n",
    "                       batch_size=32,\n",
    "                       clf_mode=True,\n",
    "                       sampling=False,\n",
    "                       normalize='zero-mean')"
   ]
  },
  {
   "cell_type": "code",
   "execution_count": null,
   "id": "5293a880",
   "metadata": {},
   "outputs": [],
   "source": []
  },
  {
   "cell_type": "code",
   "execution_count": null,
   "id": "2d10e075",
   "metadata": {},
   "outputs": [],
   "source": []
  },
  {
   "cell_type": "code",
   "execution_count": null,
   "id": "6011cbd4",
   "metadata": {},
   "outputs": [],
   "source": [
    "build_classifier(astromer, params, astromer_trainable, num_cls=None, arch='avg_mlp')"
   ]
  },
  {
   "cell_type": "code",
   "execution_count": null,
   "id": "363b9e37",
   "metadata": {},
   "outputs": [],
   "source": []
  },
  {
   "cell_type": "code",
   "execution_count": null,
   "id": "816a86da",
   "metadata": {},
   "outputs": [],
   "source": []
  },
  {
   "cell_type": "code",
   "execution_count": null,
   "id": "7498be7f",
   "metadata": {},
   "outputs": [],
   "source": []
  },
  {
   "cell_type": "code",
   "execution_count": null,
   "id": "d419cf37",
   "metadata": {},
   "outputs": [],
   "source": []
  }
 ],
 "metadata": {
  "kernelspec": {
   "display_name": "Python 3 (ipykernel)",
   "language": "python",
   "name": "python3"
  },
  "language_info": {
   "codemirror_mode": {
    "name": "ipython",
    "version": 3
   },
   "file_extension": ".py",
   "mimetype": "text/x-python",
   "name": "python",
   "nbconvert_exporter": "python",
   "pygments_lexer": "ipython3",
   "version": "3.8.10"
  }
 },
 "nbformat": 4,
 "nbformat_minor": 5
}
