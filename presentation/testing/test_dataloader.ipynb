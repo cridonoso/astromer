{
 "cells": [
  {
   "cell_type": "code",
   "execution_count": 3,
   "id": "1c472384",
   "metadata": {},
   "outputs": [
    {
     "name": "stdout",
     "output_type": "stream",
     "text": [
      "/home\n"
     ]
    }
   ],
   "source": [
    "cd /home"
   ]
  },
  {
   "cell_type": "code",
   "execution_count": 38,
   "id": "a4be9b26",
   "metadata": {},
   "outputs": [
    {
     "name": "stdout",
     "output_type": "stream",
     "text": [
      "The autoreload extension is already loaded. To reload it, use:\n",
      "  %reload_ext autoreload\n"
     ]
    }
   ],
   "source": [
    "import tensorflow as tf \n",
    "import os\n",
    "\n",
    "from src.data.zero import pretraining_pipeline\n",
    "from src.data import load_data\n",
    "\n",
    "%load_ext autoreload\n",
    "%autoreload 2"
   ]
  },
  {
   "cell_type": "code",
   "execution_count": 39,
   "id": "37ed3c8b",
   "metadata": {},
   "outputs": [
    {
     "name": "stdout",
     "output_type": "stream",
     "text": [
      "[INFO] Repeating dataset x1 times\n",
      "[INFO] Sampling random windows\n",
      "[INFO] Loading PT task: Masking\n"
     ]
    }
   ],
   "source": [
    "train_loader_zero = pretraining_pipeline(os.path.join('./data/records/alcock/fold_0/alcock/', 'train'),\n",
    "                                        batch_size= 5, \n",
    "                                        window_size=200,\n",
    "                                        shuffle=False,\n",
    "                                        sampling=True,\n",
    "                                        repeat=1,\n",
    "                                        msk_frac=.5,\n",
    "                                        rnd_frac=.2,\n",
    "                                        same_frac=.2,\n",
    "                                        key_format='1')"
   ]
  },
  {
   "cell_type": "code",
   "execution_count": 40,
   "id": "9beb6a00",
   "metadata": {},
   "outputs": [
    {
     "name": "stdout",
     "output_type": "stream",
     "text": [
      "[INFO] Probed: 0.50 Random: 0.20\n",
      "[INFO] Sampling random windows\n"
     ]
    }
   ],
   "source": [
    "train_loader = load_data(dataset=os.path.join('./data/records/alcock/fold_0/alcock/', 'train'),\n",
    "                         batch_size=5, \n",
    "                         probed=.5,\n",
    "                         random_same=.2,\n",
    "                         shuffle=False,\n",
    "                         window_size=200, \n",
    "                         off_nsp=True,  \n",
    "                         repeat=1, \n",
    "                         sampling=True)"
   ]
  },
  {
   "cell_type": "code",
   "execution_count": 41,
   "id": "5af387ad",
   "metadata": {},
   "outputs": [
    {
     "name": "stdout",
     "output_type": "stream",
     "text": [
      "dict_keys(['times', 'magnitudes', 'att_mask'])\n"
     ]
    }
   ],
   "source": [
    "for x, y in train_loader_zero:\n",
    "    print(x.keys())\n",
    "    break"
   ]
  },
  {
   "cell_type": "code",
   "execution_count": 42,
   "id": "c340c063",
   "metadata": {},
   "outputs": [
    {
     "name": "stdout",
     "output_type": "stream",
     "text": [
      "dict_keys(['magnitudes', 'times', 'att_mask'])\n"
     ]
    }
   ],
   "source": [
    "for x, y in train_loader:\n",
    "    print(x.keys())\n",
    "    break"
   ]
  },
  {
   "cell_type": "code",
   "execution_count": null,
   "id": "a522ec6e",
   "metadata": {},
   "outputs": [],
   "source": []
  },
  {
   "cell_type": "code",
   "execution_count": null,
   "id": "98585948",
   "metadata": {},
   "outputs": [],
   "source": []
  }
 ],
 "metadata": {
  "kernelspec": {
   "display_name": "Python 3 (ipykernel)",
   "language": "python",
   "name": "python3"
  },
  "language_info": {
   "codemirror_mode": {
    "name": "ipython",
    "version": 3
   },
   "file_extension": ".py",
   "mimetype": "text/x-python",
   "name": "python",
   "nbconvert_exporter": "python",
   "pygments_lexer": "ipython3",
   "version": "3.8.10"
  }
 },
 "nbformat": 4,
 "nbformat_minor": 5
}
