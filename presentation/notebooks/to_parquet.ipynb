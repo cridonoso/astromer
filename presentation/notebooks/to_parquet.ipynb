{
 "cells": [
  {
   "cell_type": "code",
   "execution_count": 1,
   "id": "78d456de",
   "metadata": {},
   "outputs": [
    {
     "name": "stdout",
     "output_type": "stream",
     "text": [
      "/home\n"
     ]
    }
   ],
   "source": [
    "cd /home"
   ]
  },
  {
   "cell_type": "markdown",
   "id": "419af99d",
   "metadata": {},
   "source": [
    "In this notebook, we will try to create a function to read a a parquet file (or multiple ones) and filter by IDs."
   ]
  },
  {
   "cell_type": "code",
   "execution_count": 2,
   "id": "f2a20a3a",
   "metadata": {
    "tags": []
   },
   "outputs": [],
   "source": [
    "import pandas as pd\n",
    "import numpy as np\n",
    "from os.path import join\n",
    "import polars as pl\n",
    "import os"
   ]
  },
  {
   "cell_type": "code",
   "execution_count": 3,
   "id": "cd29160c",
   "metadata": {},
   "outputs": [
    {
     "data": {
      "text/plain": [
       "'/home'"
      ]
     },
     "execution_count": 3,
     "metadata": {},
     "output_type": "execute_result"
    }
   ],
   "source": [
    "pwd"
   ]
  },
  {
   "cell_type": "code",
   "execution_count": 5,
   "id": "80e1dab9",
   "metadata": {
    "tags": []
   },
   "outputs": [],
   "source": [
    "local_path = './data/raw_data/alcock/'"
   ]
  },
  {
   "cell_type": "markdown",
   "id": "1b80e971",
   "metadata": {},
   "source": [
    "Read the metadata and save it into one parquet."
   ]
  },
  {
   "cell_type": "code",
   "execution_count": 7,
   "id": "6ca7c0eb",
   "metadata": {
    "tags": []
   },
   "outputs": [
    {
     "data": {
      "text/html": [
       "<div>\n",
       "<style scoped>\n",
       "    .dataframe tbody tr th:only-of-type {\n",
       "        vertical-align: middle;\n",
       "    }\n",
       "\n",
       "    .dataframe tbody tr th {\n",
       "        vertical-align: top;\n",
       "    }\n",
       "\n",
       "    .dataframe thead th {\n",
       "        text-align: right;\n",
       "    }\n",
       "</style>\n",
       "<table border=\"1\" class=\"dataframe\">\n",
       "  <thead>\n",
       "    <tr style=\"text-align: right;\">\n",
       "      <th></th>\n",
       "      <th>ID</th>\n",
       "      <th>Class</th>\n",
       "      <th>Path</th>\n",
       "      <th>Band</th>\n",
       "      <th>sset</th>\n",
       "    </tr>\n",
       "  </thead>\n",
       "  <tbody>\n",
       "    <tr>\n",
       "      <th>0</th>\n",
       "      <td>1.3319.10</td>\n",
       "      <td>LPV</td>\n",
       "      <td>1.3319.10.dat</td>\n",
       "      <td>1.0</td>\n",
       "      <td>train</td>\n",
       "    </tr>\n",
       "    <tr>\n",
       "      <th>1</th>\n",
       "      <td>1.3441.15</td>\n",
       "      <td>Cep_0</td>\n",
       "      <td>1.3441.15.dat</td>\n",
       "      <td>1.0</td>\n",
       "      <td>train</td>\n",
       "    </tr>\n",
       "    <tr>\n",
       "      <th>2</th>\n",
       "      <td>1.3441.25</td>\n",
       "      <td>LPV</td>\n",
       "      <td>1.3441.25.dat</td>\n",
       "      <td>1.0</td>\n",
       "      <td>train</td>\n",
       "    </tr>\n",
       "    <tr>\n",
       "      <th>3</th>\n",
       "      <td>1.3441.45</td>\n",
       "      <td>Cep_0</td>\n",
       "      <td>1.3441.45.dat</td>\n",
       "      <td>1.0</td>\n",
       "      <td>train</td>\n",
       "    </tr>\n",
       "    <tr>\n",
       "      <th>4</th>\n",
       "      <td>1.3441.1031</td>\n",
       "      <td>RRab</td>\n",
       "      <td>1.3441.1031.dat</td>\n",
       "      <td>1.0</td>\n",
       "      <td>train</td>\n",
       "    </tr>\n",
       "    <tr>\n",
       "      <th>...</th>\n",
       "      <td>...</td>\n",
       "      <td>...</td>\n",
       "      <td>...</td>\n",
       "      <td>...</td>\n",
       "      <td>...</td>\n",
       "    </tr>\n",
       "    <tr>\n",
       "      <th>21439</th>\n",
       "      <td>9.5608.870</td>\n",
       "      <td>RRab</td>\n",
       "      <td>9.5608.870.dat</td>\n",
       "      <td>1.0</td>\n",
       "      <td>train</td>\n",
       "    </tr>\n",
       "    <tr>\n",
       "      <th>21440</th>\n",
       "      <td>9.5608.946</td>\n",
       "      <td>RRab</td>\n",
       "      <td>9.5608.946.dat</td>\n",
       "      <td>1.0</td>\n",
       "      <td>train</td>\n",
       "    </tr>\n",
       "    <tr>\n",
       "      <th>21441</th>\n",
       "      <td>9.5609.22</td>\n",
       "      <td>EC</td>\n",
       "      <td>9.5609.22.dat</td>\n",
       "      <td>1.0</td>\n",
       "      <td>train</td>\n",
       "    </tr>\n",
       "    <tr>\n",
       "      <th>21442</th>\n",
       "      <td>9.5609.790</td>\n",
       "      <td>RRab</td>\n",
       "      <td>9.5609.790.dat</td>\n",
       "      <td>1.0</td>\n",
       "      <td>train</td>\n",
       "    </tr>\n",
       "    <tr>\n",
       "      <th>21443</th>\n",
       "      <td>9.5609.798</td>\n",
       "      <td>RRab</td>\n",
       "      <td>9.5609.798.dat</td>\n",
       "      <td>1.0</td>\n",
       "      <td>train</td>\n",
       "    </tr>\n",
       "  </tbody>\n",
       "</table>\n",
       "<p>21444 rows × 5 columns</p>\n",
       "</div>"
      ],
      "text/plain": [
       "                ID  Class             Path  Band   sset\n",
       "0        1.3319.10    LPV    1.3319.10.dat   1.0  train\n",
       "1        1.3441.15  Cep_0    1.3441.15.dat   1.0  train\n",
       "2        1.3441.25    LPV    1.3441.25.dat   1.0  train\n",
       "3        1.3441.45  Cep_0    1.3441.45.dat   1.0  train\n",
       "4      1.3441.1031   RRab  1.3441.1031.dat   1.0  train\n",
       "...            ...    ...              ...   ...    ...\n",
       "21439   9.5608.870   RRab   9.5608.870.dat   1.0  train\n",
       "21440   9.5608.946   RRab   9.5608.946.dat   1.0  train\n",
       "21441    9.5609.22     EC    9.5609.22.dat   1.0  train\n",
       "21442   9.5609.790   RRab   9.5609.790.dat   1.0  train\n",
       "21443   9.5609.798   RRab   9.5609.798.dat   1.0  train\n",
       "\n",
       "[21444 rows x 5 columns]"
      ]
     },
     "execution_count": 7,
     "metadata": {},
     "output_type": "execute_result"
    }
   ],
   "source": [
    "metadata = pd.read_csv(join(local_path, 'train_metadata.csv'))\n",
    "metadata['sset'] = ['train']*metadata.shape[0]\n",
    "metadata"
   ]
  },
  {
   "cell_type": "code",
   "execution_count": 6,
   "id": "f81bca3c",
   "metadata": {},
   "outputs": [
    {
     "data": {
      "text/html": [
       "<div>\n",
       "<style scoped>\n",
       "    .dataframe tbody tr th:only-of-type {\n",
       "        vertical-align: middle;\n",
       "    }\n",
       "\n",
       "    .dataframe tbody tr th {\n",
       "        vertical-align: top;\n",
       "    }\n",
       "\n",
       "    .dataframe thead th {\n",
       "        text-align: right;\n",
       "    }\n",
       "</style>\n",
       "<table border=\"1\" class=\"dataframe\">\n",
       "  <thead>\n",
       "    <tr style=\"text-align: right;\">\n",
       "      <th></th>\n",
       "      <th>ID</th>\n",
       "      <th>Path</th>\n",
       "      <th>N</th>\n",
       "      <th>Band</th>\n",
       "      <th>Class</th>\n",
       "      <th>sset</th>\n",
       "    </tr>\n",
       "  </thead>\n",
       "  <tbody>\n",
       "    <tr>\n",
       "      <th>0</th>\n",
       "      <td>F_10.4278.2380</td>\n",
       "      <td>F_10.4278.2380.dat</td>\n",
       "      <td>835</td>\n",
       "      <td>R</td>\n",
       "      <td>NonVar</td>\n",
       "      <td>test</td>\n",
       "    </tr>\n",
       "    <tr>\n",
       "      <th>1</th>\n",
       "      <td>F_10.4278.2381</td>\n",
       "      <td>F_10.4278.2381.dat</td>\n",
       "      <td>834</td>\n",
       "      <td>R</td>\n",
       "      <td>NonVar</td>\n",
       "      <td>test</td>\n",
       "    </tr>\n",
       "    <tr>\n",
       "      <th>2</th>\n",
       "      <td>F_10.4278.2382</td>\n",
       "      <td>F_10.4278.2382.dat</td>\n",
       "      <td>846</td>\n",
       "      <td>R</td>\n",
       "      <td>NonVar</td>\n",
       "      <td>test</td>\n",
       "    </tr>\n",
       "    <tr>\n",
       "      <th>3</th>\n",
       "      <td>F_10.4278.2383</td>\n",
       "      <td>F_10.4278.2383.dat</td>\n",
       "      <td>826</td>\n",
       "      <td>R</td>\n",
       "      <td>NonVar</td>\n",
       "      <td>test</td>\n",
       "    </tr>\n",
       "    <tr>\n",
       "      <th>4</th>\n",
       "      <td>F_10.4278.2384</td>\n",
       "      <td>F_10.4278.2384.dat</td>\n",
       "      <td>848</td>\n",
       "      <td>R</td>\n",
       "      <td>NonVar</td>\n",
       "      <td>test</td>\n",
       "    </tr>\n",
       "    <tr>\n",
       "      <th>...</th>\n",
       "      <td>...</td>\n",
       "      <td>...</td>\n",
       "      <td>...</td>\n",
       "      <td>...</td>\n",
       "      <td>...</td>\n",
       "      <td>...</td>\n",
       "    </tr>\n",
       "    <tr>\n",
       "      <th>74589</th>\n",
       "      <td>F_10.4277.5224</td>\n",
       "      <td>F_10.4277.5224.dat</td>\n",
       "      <td>780</td>\n",
       "      <td>R</td>\n",
       "      <td>NonVar</td>\n",
       "      <td>test</td>\n",
       "    </tr>\n",
       "    <tr>\n",
       "      <th>74590</th>\n",
       "      <td>F_10.4277.5225</td>\n",
       "      <td>F_10.4277.5225.dat</td>\n",
       "      <td>778</td>\n",
       "      <td>R</td>\n",
       "      <td>NonVar</td>\n",
       "      <td>test</td>\n",
       "    </tr>\n",
       "    <tr>\n",
       "      <th>74591</th>\n",
       "      <td>F_10.4277.5231</td>\n",
       "      <td>F_10.4277.5231.dat</td>\n",
       "      <td>790</td>\n",
       "      <td>R</td>\n",
       "      <td>NonVar</td>\n",
       "      <td>test</td>\n",
       "    </tr>\n",
       "    <tr>\n",
       "      <th>74592</th>\n",
       "      <td>F_10.4277.5240</td>\n",
       "      <td>F_10.4277.5240.dat</td>\n",
       "      <td>798</td>\n",
       "      <td>R</td>\n",
       "      <td>NonVar</td>\n",
       "      <td>test</td>\n",
       "    </tr>\n",
       "    <tr>\n",
       "      <th>74593</th>\n",
       "      <td>F_10.4277.5241</td>\n",
       "      <td>F_10.4277.5241.dat</td>\n",
       "      <td>810</td>\n",
       "      <td>R</td>\n",
       "      <td>NonVar</td>\n",
       "      <td>test</td>\n",
       "    </tr>\n",
       "  </tbody>\n",
       "</table>\n",
       "<p>74594 rows × 6 columns</p>\n",
       "</div>"
      ],
      "text/plain": [
       "                   ID                Path    N Band   Class  sset\n",
       "0      F_10.4278.2380  F_10.4278.2380.dat  835    R  NonVar  test\n",
       "1      F_10.4278.2381  F_10.4278.2381.dat  834    R  NonVar  test\n",
       "2      F_10.4278.2382  F_10.4278.2382.dat  846    R  NonVar  test\n",
       "3      F_10.4278.2383  F_10.4278.2383.dat  826    R  NonVar  test\n",
       "4      F_10.4278.2384  F_10.4278.2384.dat  848    R  NonVar  test\n",
       "...               ...                 ...  ...  ...     ...   ...\n",
       "74589  F_10.4277.5224  F_10.4277.5224.dat  780    R  NonVar  test\n",
       "74590  F_10.4277.5225  F_10.4277.5225.dat  778    R  NonVar  test\n",
       "74591  F_10.4277.5231  F_10.4277.5231.dat  790    R  NonVar  test\n",
       "74592  F_10.4277.5240  F_10.4277.5240.dat  798    R  NonVar  test\n",
       "74593  F_10.4277.5241  F_10.4277.5241.dat  810    R  NonVar  test\n",
       "\n",
       "[74594 rows x 6 columns]"
      ]
     },
     "execution_count": 6,
     "metadata": {},
     "output_type": "execute_result"
    }
   ],
   "source": [
    "testmetadata = pd.read_csv(join(local_path, 'test_meta.csv'))\n",
    "testmetadata['sset'] = ['test']*testmetadata.shape[0]\n",
    "testmetadata"
   ]
  },
  {
   "cell_type": "code",
   "execution_count": 7,
   "id": "6da6148e",
   "metadata": {},
   "outputs": [],
   "source": [
    "metadata = pd.concat([metadata, testmetadata])"
   ]
  },
  {
   "cell_type": "code",
   "execution_count": 8,
   "id": "b5c7a181",
   "metadata": {
    "tags": []
   },
   "outputs": [],
   "source": [
    "path = (local_path + 'LCs/'+ metadata.Path).to_list()\n",
    "IDs = metadata.ID.to_list()\n",
    "metadata = metadata.assign(newID=metadata.index.values)"
   ]
  },
  {
   "cell_type": "code",
   "execution_count": 9,
   "id": "c3db0488-f8fe-4219-8b5d-e0a560a880c3",
   "metadata": {
    "tags": []
   },
   "outputs": [],
   "source": [
    "path_parquets = join(local_path, 'parquets/')\n",
    "if not os.path.exists(path_parquets):\n",
    "    os.mkdir(path_parquets)"
   ]
  },
  {
   "cell_type": "code",
   "execution_count": 10,
   "id": "306178d3",
   "metadata": {
    "tags": []
   },
   "outputs": [],
   "source": [
    "dfs = []\n",
    "for cont, (file, id_) in enumerate(zip(path, IDs)):\n",
    "    # Read the file\n",
    "    df = pd.read_csv(file, engine='c', na_filter=False)\n",
    "    df['newID'] = metadata.newID.iloc[cont]*np.ones(df.shape[0]).astype(np.int64)\n",
    "    dfs.append(df)\n",
    "dfs = pd.concat(dfs) \n",
    "dfs = dfs.set_index('newID')"
   ]
  },
  {
   "cell_type": "code",
   "execution_count": 11,
   "id": "87f405b7",
   "metadata": {},
   "outputs": [
    {
     "data": {
      "text/html": [
       "<div>\n",
       "<style scoped>\n",
       "    .dataframe tbody tr th:only-of-type {\n",
       "        vertical-align: middle;\n",
       "    }\n",
       "\n",
       "    .dataframe tbody tr th {\n",
       "        vertical-align: top;\n",
       "    }\n",
       "\n",
       "    .dataframe thead th {\n",
       "        text-align: right;\n",
       "    }\n",
       "</style>\n",
       "<table border=\"1\" class=\"dataframe\">\n",
       "  <thead>\n",
       "    <tr style=\"text-align: right;\">\n",
       "      <th></th>\n",
       "      <th>observation_date</th>\n",
       "      <th>red magnitude</th>\n",
       "      <th>red error</th>\n",
       "    </tr>\n",
       "    <tr>\n",
       "      <th>newID</th>\n",
       "      <th></th>\n",
       "      <th></th>\n",
       "      <th></th>\n",
       "    </tr>\n",
       "  </thead>\n",
       "  <tbody>\n",
       "    <tr>\n",
       "      <th>0</th>\n",
       "      <td>49075.7738</td>\n",
       "      <td>-6.422</td>\n",
       "      <td>0.035</td>\n",
       "    </tr>\n",
       "    <tr>\n",
       "      <th>0</th>\n",
       "      <td>49078.7742</td>\n",
       "      <td>-6.450</td>\n",
       "      <td>0.028</td>\n",
       "    </tr>\n",
       "    <tr>\n",
       "      <th>0</th>\n",
       "      <td>49080.8128</td>\n",
       "      <td>-6.441</td>\n",
       "      <td>0.032</td>\n",
       "    </tr>\n",
       "    <tr>\n",
       "      <th>0</th>\n",
       "      <td>49082.7526</td>\n",
       "      <td>-6.424</td>\n",
       "      <td>0.041</td>\n",
       "    </tr>\n",
       "    <tr>\n",
       "      <th>0</th>\n",
       "      <td>49091.8035</td>\n",
       "      <td>-6.416</td>\n",
       "      <td>0.053</td>\n",
       "    </tr>\n",
       "    <tr>\n",
       "      <th>...</th>\n",
       "      <td>...</td>\n",
       "      <td>...</td>\n",
       "      <td>...</td>\n",
       "    </tr>\n",
       "    <tr>\n",
       "      <th>74593</th>\n",
       "      <td>51505.7017</td>\n",
       "      <td>-2.658</td>\n",
       "      <td>0.504</td>\n",
       "    </tr>\n",
       "    <tr>\n",
       "      <th>74593</th>\n",
       "      <td>51510.6614</td>\n",
       "      <td>-2.935</td>\n",
       "      <td>0.204</td>\n",
       "    </tr>\n",
       "    <tr>\n",
       "      <th>74593</th>\n",
       "      <td>51513.5102</td>\n",
       "      <td>-2.810</td>\n",
       "      <td>0.231</td>\n",
       "    </tr>\n",
       "    <tr>\n",
       "      <th>74593</th>\n",
       "      <td>51514.6641</td>\n",
       "      <td>-2.988</td>\n",
       "      <td>0.273</td>\n",
       "    </tr>\n",
       "    <tr>\n",
       "      <th>74593</th>\n",
       "      <td>51541.5801</td>\n",
       "      <td>-2.700</td>\n",
       "      <td>0.253</td>\n",
       "    </tr>\n",
       "  </tbody>\n",
       "</table>\n",
       "<p>1275281457 rows × 3 columns</p>\n",
       "</div>"
      ],
      "text/plain": [
       "       observation_date  red magnitude  red error\n",
       "newID                                            \n",
       "0            49075.7738         -6.422      0.035\n",
       "0            49078.7742         -6.450      0.028\n",
       "0            49080.8128         -6.441      0.032\n",
       "0            49082.7526         -6.424      0.041\n",
       "0            49091.8035         -6.416      0.053\n",
       "...                 ...            ...        ...\n",
       "74593        51505.7017         -2.658      0.504\n",
       "74593        51510.6614         -2.935      0.204\n",
       "74593        51513.5102         -2.810      0.231\n",
       "74593        51514.6641         -2.988      0.273\n",
       "74593        51541.5801         -2.700      0.253\n",
       "\n",
       "[1275281457 rows x 3 columns]"
      ]
     },
     "execution_count": 11,
     "metadata": {},
     "output_type": "execute_result"
    }
   ],
   "source": [
    "dfs"
   ]
  },
  {
   "cell_type": "markdown",
   "id": "8fb7dfd2-e33b-44c2-8962-1089642a71d2",
   "metadata": {},
   "source": [
    "Save every 1000 lightcurves\n"
   ]
  },
  {
   "cell_type": "code",
   "execution_count": 12,
   "id": "4290b349",
   "metadata": {},
   "outputs": [],
   "source": [
    "# dfs.iloc[100000:101000]"
   ]
  },
  {
   "cell_type": "code",
   "execution_count": 14,
   "id": "602aff0f-4137-49ef-ab2c-315924a01e69",
   "metadata": {
    "tags": []
   },
   "outputs": [],
   "source": [
    "nsamples = 1000\n",
    "for batch, begin in enumerate(np.arange(0, dfs.shape[0], nsamples)):\n",
    "    df_sel = dfs.iloc[begin:begin+nsamples]    \n",
    "    n = str(batch).rjust(3, '0')\n",
    "    df_sel.to_parquet(os.path.join(path_parquets, \n",
    "                                   'shard_'+n+'.parquet'))"
   ]
  },
  {
   "cell_type": "code",
   "execution_count": null,
   "id": "218ddb30",
   "metadata": {},
   "outputs": [],
   "source": [
    "\n"
   ]
  },
  {
   "cell_type": "code",
   "execution_count": 9,
   "id": "306a67d1-c413-4df8-b16b-0a574936e7d6",
   "metadata": {
    "tags": []
   },
   "outputs": [],
   "source": [
    "metadata['Label'] = pd.Categorical(metadata['Class']).codes"
   ]
  },
  {
   "cell_type": "code",
   "execution_count": 10,
   "id": "fe35fd52-cba4-4e53-9a9a-9f09a09892d8",
   "metadata": {
    "tags": []
   },
   "outputs": [],
   "source": [
    "metadata.to_parquet(join(local_path, 'new_metadata.parquet'), index=False)"
   ]
  },
  {
   "cell_type": "code",
   "execution_count": 23,
   "id": "edcf5cc0-4a0a-4ac0-99c5-ba4c40a25012",
   "metadata": {},
   "outputs": [],
   "source": [
    "import polars as pl"
   ]
  },
  {
   "cell_type": "code",
   "execution_count": 24,
   "id": "3f12caf9",
   "metadata": {},
   "outputs": [],
   "source": [
    "path_parquets = './data/raw_data/alcock/parquets/*'\n",
    "# path_parquets = [os.path.join(root, x) for x in os.listdir(root)]\n",
    "paths = os.path.join(path_parquets)\n",
    "scan = pl.scan_parquet(paths)"
   ]
  },
  {
   "cell_type": "code",
   "execution_count": 25,
   "id": "299b0c24",
   "metadata": {},
   "outputs": [],
   "source": [
    "# scan.collect(streaming=False)['newID'].unique()"
   ]
  },
  {
   "cell_type": "code",
   "execution_count": 26,
   "id": "a839ea51",
   "metadata": {},
   "outputs": [],
   "source": [
    "import pandas as pd"
   ]
  },
  {
   "cell_type": "code",
   "execution_count": 27,
   "id": "e5c9f8dc",
   "metadata": {},
   "outputs": [],
   "source": [
    "root = './data/raw_data/alcock/parquets/'\n",
    "path_parquets =[os.path.join(root, x) for x in os.listdir(root)]\n",
    "\n",
    "dfs = []\n",
    "for file in path_parquets:\n",
    "    df = pd.read_parquet(file)\n",
    "    dfs.append(df)"
   ]
  },
  {
   "cell_type": "code",
   "execution_count": 28,
   "id": "d9fc51b1",
   "metadata": {},
   "outputs": [
    {
     "data": {
      "text/plain": [
       "(21444,)"
      ]
     },
     "execution_count": 28,
     "metadata": {},
     "output_type": "execute_result"
    }
   ],
   "source": [
    "pd.concat(dfs).reset_index()['newID'].unique().shape"
   ]
  },
  {
   "cell_type": "code",
   "execution_count": 29,
   "id": "cc5abcab",
   "metadata": {},
   "outputs": [
    {
     "data": {
      "text/plain": [
       "(13818054, 3)"
      ]
     },
     "execution_count": 29,
     "metadata": {},
     "output_type": "execute_result"
    }
   ],
   "source": [
    "pd.concat(dfs).shape"
   ]
  },
  {
   "cell_type": "code",
   "execution_count": null,
   "id": "cbdae16e",
   "metadata": {},
   "outputs": [],
   "source": []
  }
 ],
 "metadata": {
  "kernelspec": {
   "display_name": "Python 3 (ipykernel)",
   "language": "python",
   "name": "python3"
  },
  "language_info": {
   "codemirror_mode": {
    "name": "ipython",
    "version": 3
   },
   "file_extension": ".py",
   "mimetype": "text/x-python",
   "name": "python",
   "nbconvert_exporter": "python",
   "pygments_lexer": "ipython3",
   "version": "3.8.10"
  }
 },
 "nbformat": 4,
 "nbformat_minor": 5
}
