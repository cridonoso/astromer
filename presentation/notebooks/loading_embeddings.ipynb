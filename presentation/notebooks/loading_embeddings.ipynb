{
 "cells": [
  {
   "cell_type": "markdown",
   "id": "53c058a5",
   "metadata": {},
   "source": [
    "# Loading embeddings from a pretrained model\n",
    "\n",
    "Last updated on Mar 21 2022 by Cristobal D."
   ]
  },
  {
   "cell_type": "code",
   "execution_count": 1,
   "id": "e9008367",
   "metadata": {},
   "outputs": [
    {
     "name": "stdout",
     "output_type": "stream",
     "text": [
      "/home/cridonoso/Documents/astromer\n"
     ]
    }
   ],
   "source": [
    "cd ../.."
   ]
  },
  {
   "cell_type": "code",
   "execution_count": 2,
   "id": "2119607e",
   "metadata": {},
   "outputs": [
    {
     "name": "stderr",
     "output_type": "stream",
     "text": [
      "2022-03-21 11:47:16.503055: W tensorflow/stream_executor/platform/default/dso_loader.cc:64] Could not load dynamic library 'libcudart.so.11.0'; dlerror: libcudart.so.11.0: cannot open shared object file: No such file or directory\n",
      "2022-03-21 11:47:16.503072: I tensorflow/stream_executor/cuda/cudart_stub.cc:29] Ignore above cudart dlerror if you do not have a GPU set up on your machine.\n"
     ]
    }
   ],
   "source": [
    "import matplotlib.pyplot as plt\n",
    "import tensorflow as tf \n",
    "import pandas as pd\n",
    "import json\n",
    "import os\n",
    "\n",
    "os.environ[\"CUDA_VISIBLE_DEVICES\"]=\"-1\"\n",
    "\n",
    "plt.rcParams.update({\n",
    "    \"text.usetex\": True,\n",
    "    \"font.family\": \"sans-serif\",\n",
    "    \"font.sans-serif\": [\"Helvetica\"]})\n",
    "# for Palatino and other serif fonts use:\n",
    "plt.rcParams.update({\n",
    "    \"text.usetex\": True,\n",
    "    \"font.family\": \"serif\",\n",
    "    \"font.serif\": [\"Palatino\"],\n",
    "})\n",
    "\n",
    "%load_ext autoreload\n",
    "%autoreload 2"
   ]
  },
  {
   "cell_type": "markdown",
   "id": "f3f2a786",
   "metadata": {},
   "source": [
    "### Loading pre-trained weights"
   ]
  },
  {
   "cell_type": "markdown",
   "id": "62177809",
   "metadata": {},
   "source": [
    "We need to import the `ASTROMER` class to instanciate the model "
   ]
  },
  {
   "cell_type": "code",
   "execution_count": 344,
   "id": "8e050769",
   "metadata": {},
   "outputs": [
    {
     "name": "stdout",
     "output_type": "stream",
     "text": [
      "\u001b[H\u001b[2J"
     ]
    }
   ],
   "source": [
    "from core.astromer import ASTROMER"
   ]
  },
  {
   "cell_type": "markdown",
   "id": "6df2a4b3",
   "metadata": {},
   "source": [
    "Use the project directory (`experiment_path`) where weights, config and logs are stored."
   ]
  },
  {
   "cell_type": "code",
   "execution_count": 345,
   "id": "fce98be0",
   "metadata": {},
   "outputs": [],
   "source": [
    "experiment_path = './runs/debug/'"
   ]
  },
  {
   "cell_type": "markdown",
   "id": "a0b68b3e",
   "metadata": {},
   "source": [
    "Let's instanciate a clean `ASTROMER` class and then load the weigths"
   ]
  },
  {
   "cell_type": "code",
   "execution_count": 346,
   "id": "06cae9af",
   "metadata": {},
   "outputs": [],
   "source": [
    "model = ASTROMER()\n",
    "model.load_weights(experiment_path)"
   ]
  },
  {
   "cell_type": "markdown",
   "id": "0b91827b",
   "metadata": {},
   "source": [
    "our model is ready to be used. We can explore the number of parameters by using, "
   ]
  },
  {
   "cell_type": "code",
   "execution_count": 347,
   "id": "c50de6aa",
   "metadata": {},
   "outputs": [
    {
     "name": "stdout",
     "output_type": "stream",
     "text": [
      "Model: \"astromer_2\"\n",
      "_________________________________________________________________\n",
      " Layer (type)                Output Shape              Param #   \n",
      "=================================================================\n",
      " encoder (Encoder)           multiple                  660736    \n",
      "                                                                 \n",
      " regression (RegLayer)       multiple                  769       \n",
      "                                                                 \n",
      "=================================================================\n",
      "Total params: 661,505\n",
      "Trainable params: 661,505\n",
      "Non-trainable params: 0\n",
      "_________________________________________________________________\n"
     ]
    }
   ],
   "source": [
    "model.summary()"
   ]
  },
  {
   "cell_type": "markdown",
   "id": "a37ea530",
   "metadata": {},
   "source": [
    "By default the model loads the `RegLayer` regression layer in charge of reconstructing light curves magnitudes during pre-training and finetuning. \n",
    "\n",
    "However if we only need to import the `encoder` layer, we can get it from the `ASTROMER` class as following:"
   ]
  },
  {
   "cell_type": "code",
   "execution_count": 348,
   "id": "ca10e9f5",
   "metadata": {},
   "outputs": [],
   "source": [
    "encoder = model.get_layer('encoder')"
   ]
  },
  {
   "cell_type": "markdown",
   "id": "86b9fc86",
   "metadata": {},
   "source": [
    "### Load data "
   ]
  },
  {
   "cell_type": "markdown",
   "id": "00225464",
   "metadata": {},
   "source": [
    "At this version, `ASTROMER` is able to work with single-band light curves. It should be composed by observational times (`mjd`), mean brightness (`magnitude`), and observational error (`std`).\n",
    "\n",
    "In this tutorial we use the [ALeRCE ztf python client](https://alerce.readthedocs.io/en/latest/index.html) "
   ]
  },
  {
   "cell_type": "code",
   "execution_count": 3,
   "id": "45a11755",
   "metadata": {},
   "outputs": [],
   "source": [
    "from alerce.core import Alerce\n",
    "alerce = Alerce()"
   ]
  },
  {
   "cell_type": "code",
   "execution_count": 208,
   "id": "cbdec44c",
   "metadata": {},
   "outputs": [
    {
     "name": "stdout",
     "output_type": "stream",
     "text": [
      "CPU times: user 96.6 ms, sys: 0 ns, total: 96.6 ms\n",
      "Wall time: 2.79 s\n"
     ]
    }
   ],
   "source": [
    "%%time\n",
    "samples_collection = []\n",
    "oids_list = ['ZTF18aabkmmz', 'ZTF18abbuksn', 'ZTF17aaaecwh']\n",
    "for oid in oids_list:\n",
    "    sample = alerce.query_detections(oid, format=\"pandas\")\n",
    "    sample = sample[sample['fid']==1] # getting single band light curve\n",
    "    sample = sample[['mjd', 'magpsf', 'sigmapsf']] # use only necessary columns\n",
    "    samples_collection.append(sample.values)"
   ]
  },
  {
   "cell_type": "code",
   "execution_count": 209,
   "id": "56922382",
   "metadata": {},
   "outputs": [
    {
     "data": {
      "image/png": "[encoded data removed]",
      "text/plain": [
       "<Figure size 360x216 with 1 Axes>"
      ]
     },
     "metadata": {
      "needs_background": "light"
     },
     "output_type": "display_data"
    }
   ],
   "source": [
    "plt.figure(figsize=(5,3))\n",
    "plt.plot(samples_collection[0][:, 0], samples_collection[0][:, 1])\n",
    "plt.show()"
   ]
  },
  {
   "cell_type": "markdown",
   "id": "5a04201e",
   "metadata": {},
   "source": [
    "### Getting embedding "
   ]
  },
  {
   "cell_type": "markdown",
   "id": "0a0db934",
   "metadata": {},
   "source": []
  },
  {
   "cell_type": "code",
   "execution_count": 389,
   "id": "0c4348e1",
   "metadata": {
    "scrolled": true
   },
   "outputs": [
    {
     "name": "stdout",
     "output_type": "stream",
     "text": [
      "\u001b[H\u001b[2J[INFO] Inference mode. Cutting 200-len windows\n",
      "CPU times: user 585 ms, sys: 0 ns, total: 585 ms\n",
      "Wall time: 444 ms\n"
     ]
    }
   ],
   "source": [
    "%%time\n",
    "embeddings = model.encode(samples_collection, \n",
    "                          oids_list=oids_list,\n",
    "                          batch_size=3, \n",
    "                          concatenate=False)"
   ]
  },
  {
   "cell_type": "markdown",
   "id": "f0946547",
   "metadata": {},
   "source": [
    "`ASTROMER` can only recieve 200-len series. Since light curves have vary-lenght, the `encode()` method will divide the samples in order to capture 200-len windows.\n",
    "\n",
    "If any window does not have enough observations, we shift the window to start from the last observation, so zero-padding is not used."
   ]
  },
  {
   "cell_type": "code",
   "execution_count": 392,
   "id": "bc12dbd9",
   "metadata": {},
   "outputs": [
    {
     "data": {
      "text/plain": [
       "(9, 200, 256)"
      ]
     },
     "execution_count": 392,
     "metadata": {},
     "output_type": "execute_result"
    }
   ],
   "source": [
    "embeddings.shape"
   ]
  },
  {
   "cell_type": "markdown",
   "id": "84f837fc",
   "metadata": {},
   "source": [
    "by setting `concatenate=True` you can get the concatenation of all id-related windows"
   ]
  },
  {
   "cell_type": "code",
   "execution_count": 398,
   "id": "e20f2bb7",
   "metadata": {},
   "outputs": [
    {
     "name": "stdout",
     "output_type": "stream",
     "text": [
      "\u001b[H\u001b[2J[INFO] Inference mode. Cutting 200-len windows\n",
      "CPU times: user 741 ms, sys: 17.7 ms, total: 759 ms\n",
      "Wall time: 599 ms\n"
     ]
    }
   ],
   "source": [
    "%%time\n",
    "att = model.encode(samples_collection, \n",
    "                   oids_list=oids_list, \n",
    "                   batch_size=3, \n",
    "                   concatenate=True)"
   ]
  },
  {
   "cell_type": "code",
   "execution_count": 399,
   "id": "43dd185b",
   "metadata": {},
   "outputs": [
    {
     "data": {
      "text/plain": [
       "(1200, 256)"
      ]
     },
     "execution_count": 399,
     "metadata": {},
     "output_type": "execute_result"
    }
   ],
   "source": [
    "att[0].shape"
   ]
  },
  {
   "cell_type": "markdown",
   "id": "b5f33d13",
   "metadata": {},
   "source": [
    "Notice the `att` is a list of variable length **concatenated** attention vectors"
   ]
  },
  {
   "cell_type": "code",
   "execution_count": 413,
   "id": "33bf35d9",
   "metadata": {},
   "outputs": [
    {
     "data": {
      "image/png": "[encoded data removed]",
      "text/plain": [
       "<Figure size 360x720 with 1 Axes>"
      ]
     },
     "metadata": {
      "needs_background": "light"
     },
     "output_type": "display_data"
    }
   ],
   "source": [
    "plt.figure(figsize=(5,10))\n",
    "plt.imshow(att[1])\n",
    "plt.xlabel('Attention dimension')\n",
    "plt.ylabel('Time step')\n",
    "plt.show()"
   ]
  },
  {
   "cell_type": "markdown",
   "id": "3e2bc3d5",
   "metadata": {},
   "source": [
    "### Using records"
   ]
  },
  {
   "cell_type": "markdown",
   "id": "5e71f8c9",
   "metadata": {},
   "source": [
    "We recomend to use `TFRecord`files when having multiples samples. See the tutorial to transform `numpy` light curves to `tfrecord`"
   ]
  },
  {
   "cell_type": "code",
   "execution_count": 414,
   "id": "434b97da",
   "metadata": {},
   "outputs": [],
   "source": [
    "from core.data import load_dataset, inference_pipeline"
   ]
  },
  {
   "cell_type": "code",
   "execution_count": 418,
   "id": "2e845d01",
   "metadata": {},
   "outputs": [
    {
     "name": "stdout",
     "output_type": "stream",
     "text": [
      "[INFO] Inference mode. Cutting 200-len windows\n"
     ]
    }
   ],
   "source": [
    "dataset = load_dataset('./data/records/testing/fold_0/testing/test/',\n",
    "                      shuffle=False, repeat=1)\n",
    "dataset = inference_pipeline(dataset, \n",
    "                             batch_size=256,\n",
    "                             max_obs=200, \n",
    "                             drop_remainder=True)"
   ]
  },
  {
   "cell_type": "code",
   "execution_count": 420,
   "id": "5d141d7e",
   "metadata": {},
   "outputs": [
    {
     "name": "stderr",
     "output_type": "stream",
     "text": [
      "2022-03-21 13:41:32.325853: W tensorflow/core/framework/cpu_allocator_impl.cc:82] Allocation of 1572864000 exceeds 10% of free system memory.\n"
     ]
    },
    {
     "name": "stdout",
     "output_type": "stream",
     "text": [
      "CPU times: user 2min 10s, sys: 32.5 s, total: 2min 42s\n",
      "Wall time: 32.1 s\n"
     ]
    }
   ],
   "source": [
    "%%time\n",
    "att = model.encode(dataset, concatenate=True)"
   ]
  },
  {
   "cell_type": "code",
   "execution_count": 422,
   "id": "c55f5987",
   "metadata": {},
   "outputs": [
    {
     "data": {
      "text/plain": [
       "846"
      ]
     },
     "execution_count": 422,
     "metadata": {},
     "output_type": "execute_result"
    }
   ],
   "source": [
    "len(att)"
   ]
  },
  {
   "cell_type": "code",
   "execution_count": null,
   "id": "c5aae8fc",
   "metadata": {},
   "outputs": [],
   "source": []
  }
 ],
 "metadata": {
  "kernelspec": {
   "display_name": "Python 3 (ipykernel)",
   "language": "python",
   "name": "python3"
  },
  "language_info": {
   "codemirror_mode": {
    "name": "ipython",
    "version": 3
   },
   "file_extension": ".py",
   "mimetype": "text/x-python",
   "name": "python",
   "nbconvert_exporter": "python",
   "pygments_lexer": "ipython3",
   "version": "3.9.7"
  }
 },
 "nbformat": 4,
 "nbformat_minor": 5
}
