{
 "cells": [
  {
   "cell_type": "code",
   "execution_count": 1,
   "id": "a240ae6d-2e96-4ea3-b0ad-cc3e1ef2a7cc",
   "metadata": {},
   "outputs": [],
   "source": [
    "from utils import set_working_directory_up_two_levels\n",
    "set_working_directory_up_two_levels()"
   ]
  },
  {
   "cell_type": "code",
   "execution_count": 2,
   "id": "c2864227-5b4b-428e-b4cc-c9b625e1f877",
   "metadata": {},
   "outputs": [
    {
     "name": "stderr",
     "output_type": "stream",
     "text": [
      "2024-12-05 02:54:49.320015: E tensorflow/compiler/xla/stream_executor/cuda/cuda_dnn.cc:9342] Unable to register cuDNN factory: Attempting to register factory for plugin cuDNN when one has already been registered\n",
      "2024-12-05 02:54:49.320056: E tensorflow/compiler/xla/stream_executor/cuda/cuda_fft.cc:609] Unable to register cuFFT factory: Attempting to register factory for plugin cuFFT when one has already been registered\n",
      "2024-12-05 02:54:49.320084: E tensorflow/compiler/xla/stream_executor/cuda/cuda_blas.cc:1518] Unable to register cuBLAS factory: Attempting to register factory for plugin cuBLAS when one has already been registered\n",
      "2024-12-05 02:54:49.327553: I tensorflow/core/platform/cpu_feature_guard.cc:182] This TensorFlow binary is optimized to use available CPU instructions in performance-critical operations.\n",
      "To enable the following instructions: AVX2 FMA, in other operations, rebuild TensorFlow with the appropriate compiler flags.\n"
     ]
    }
   ],
   "source": [
    "from src.data.loaders import get_loader, load_records_distributed, get_validation\n",
    "from src.data.record import deserialize\n",
    "from presentation.pipelines.steps.load_data import build_loader\n",
    "import os\n",
    "os.environ[\"CUDA_VISIBLE_DEVICES\"] = \"-1\"\n",
    "\n",
    "%load_ext autoreload\n",
    "%autoreload 2"
   ]
  },
  {
   "cell_type": "code",
   "execution_count": null,
   "id": "eb88e1b9-7afe-4220-bcef-a7c4718faaac",
   "metadata": {},
   "outputs": [],
   "source": []
  },
  {
   "cell_type": "code",
   "execution_count": 3,
   "id": "c0e7dee6-e5d6-4053-80a8-803dd9830429",
   "metadata": {},
   "outputs": [
    {
     "name": "stdout",
     "output_type": "stream",
     "text": [
      "[INFO] Loading train and validation datasets\n"
     ]
    }
   ],
   "source": [
    "records_dir = './data/shared/records/bigmacho/'\n",
    "\n",
    "paths = get_validation(os.path.join(records_dir, 'train'),\n",
    "                       validation=0.2, \n",
    "                       test_folder=os.path.join(records_dir, 'test'),\n",
    "                       target_path='.')"
   ]
  },
  {
   "cell_type": "code",
   "execution_count": null,
   "id": "e86009a0-21fc-43e6-a392-5b6ca8e3a067",
   "metadata": {},
   "outputs": [],
   "source": []
  },
  {
   "cell_type": "code",
   "execution_count": 7,
   "id": "60b6d841-b9af-4c5d-89cf-0b84d07ef787",
   "metadata": {},
   "outputs": [
    {
     "name": "stdout",
     "output_type": "stream",
     "text": [
      "[INFO] Dictonary based loader\n",
      "[INFO] Probed: 0.50 Random: 0.20 Same: 0.20\n",
      "[INFO] Normalization:  zero-mean\n",
      "[INFO] Sampling random windows\n",
      "[INFO] Cache activated\n",
      "[INFO] Probed: 0.50 Random: 0.20 Same: 0.20\n",
      "[INFO] Normalization:  zero-mean\n",
      "[INFO] Sampling random windows\n",
      "[INFO] Cache activated\n"
     ]
    }
   ],
   "source": [
    "params = {\n",
    "    'probed': 0.5,\n",
    "    'rs': 0.2,\n",
    "    'same': 0.2,\n",
    "    'window_size': 200,\n",
    "    'arch': 'base',\n",
    "    \n",
    "    \n",
    "}\n",
    "datasets = build_loader(paths, \n",
    "                        params, \n",
    "                        batch_size=2000, \n",
    "                        clf_mode=False, \n",
    "                        debug=False, \n",
    "                        normalize='zero-mean', \n",
    "                        sampling=True,\n",
    "                        repeat=1,\n",
    "                        return_test=False,\n",
    "                        shuffle=False,\n",
    "                        probed=0.5,\n",
    "                        same=0.2,\n",
    "                        random=0.2)"
   ]
  },
  {
   "cell_type": "code",
   "execution_count": 8,
   "id": "04720aaa-1e69-4d5e-bd07-f3964eaf6cb9",
   "metadata": {},
   "outputs": [],
   "source": [
    "# import tensorflow as tf\n",
    "# import os\n",
    "\n",
    "# raw_dataset = get_loader(paths['train'],\n",
    "#                          batch_size=5,\n",
    "#                          window_size=200,\n",
    "#                          probed_frac=0.5,\n",
    "#                          random_frac=0.2,\n",
    "#                          same_frac=0.2,\n",
    "#                          sampling=True,\n",
    "#                          shuffle=False,\n",
    "#                          repeat=1,\n",
    "#                          num_cls=None,\n",
    "#                          normalize='zero-mean',\n",
    "#                          cache=False,\n",
    "#                          aversion='base')"
   ]
  },
  {
   "cell_type": "code",
   "execution_count": null,
   "id": "0942f827-b666-4309-9782-7bd1ece03058",
   "metadata": {},
   "outputs": [],
   "source": []
  },
  {
   "cell_type": "code",
   "execution_count": 12,
   "id": "35f26f2a-6a9f-439e-a47b-fc7fd8fbbe96",
   "metadata": {},
   "outputs": [
    {
     "name": "stdout",
     "output_type": "stream",
     "text": [
      "CPU times: user 14h 8min 56s, sys: 2h 17min 48s, total: 16h 26min 44s\n",
      "Wall time: 51min 51s\n"
     ]
    }
   ],
   "source": [
    "%%time\n",
    "N = 0\n",
    "for x, y in datasets['train']:\n",
    "    N+=x['input'].shape[0]"
   ]
  },
  {
   "cell_type": "code",
   "execution_count": 13,
   "id": "696ffd41-bc80-4854-b22c-e75709d4784f",
   "metadata": {},
   "outputs": [
    {
     "data": {
      "text/plain": [
       "39254445"
      ]
     },
     "execution_count": 13,
     "metadata": {},
     "output_type": "execute_result"
    }
   ],
   "source": [
    "N"
   ]
  },
  {
   "cell_type": "code",
   "execution_count": 14,
   "id": "bd392343-404b-4fdb-b944-76d9f8aa0be0",
   "metadata": {},
   "outputs": [
    {
     "data": {
      "text/plain": [
       "49095073"
      ]
     },
     "execution_count": 14,
     "metadata": {},
     "output_type": "execute_result"
    }
   ],
   "source": [
    "9840628 + 39254445"
   ]
  }
 ],
 "metadata": {
  "kernelspec": {
   "display_name": "Python 3 (ipykernel)",
   "language": "python",
   "name": "python3"
  },
  "language_info": {
   "codemirror_mode": {
    "name": "ipython",
    "version": 3
   },
   "file_extension": ".py",
   "mimetype": "text/x-python",
   "name": "python",
   "nbconvert_exporter": "python",
   "pygments_lexer": "ipython3",
   "version": "3.11.4"
  }
 },
 "nbformat": 4,
 "nbformat_minor": 5
}
