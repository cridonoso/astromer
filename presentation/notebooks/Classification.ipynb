{
 "cells": [
  {
   "cell_type": "code",
   "execution_count": 1,
   "id": "e1d91d00",
   "metadata": {},
   "outputs": [],
   "source": [
    "import matplotlib.pyplot as plt \n",
    "import tensorflow as tf \n",
    "import pandas as pd\n",
    "import numpy as np\n",
    "import os, sys\n",
    "import h5py\n",
    "\n",
    "from sklearn.metrics import precision_recall_fscore_support\n",
    "\n",
    "os.environ[\"CUDA_VISIBLE_DEVICES\"]=\"-1\""
   ]
  },
  {
   "cell_type": "code",
   "execution_count": 2,
   "id": "0b2ccb11",
   "metadata": {},
   "outputs": [],
   "source": [
    "def load_embeddings(source):\n",
    "    file = open(source, 'rb')\n",
    "    hf = h5py.File(file)\n",
    "    att = hf['att'][()]\n",
    "    x = hf['x'][()]\n",
    "    t = hf['t'][()]\n",
    "    lc = np.concatenate([t, x], 2)\n",
    "    y = hf['y'][()]\n",
    "    l = hf['l'][()]\n",
    "    m = 1. - hf['m'][()]\n",
    "    return att, y, l, m, lc"
   ]
  },
  {
   "cell_type": "code",
   "execution_count": 3,
   "id": "a4ef48f5",
   "metadata": {},
   "outputs": [],
   "source": [
    "def get_prediction(data, folder, name):\n",
    "    x, y, l, m, lc = load_embeddings(os.path.join(data, 'test.h5'))\n",
    "    \n",
    "    if name == 'lstm':\n",
    "        x_test = lc\n",
    "    if name == 'lstm_att':\n",
    "        x_test = x\n",
    "    if name == 'mlp_att':\n",
    "        x_test = np.sum(x*m, 1)/l[:,None]\n",
    "        \n",
    "    model = tf.keras.models.load_model(os.path.join(folder, name, 'model'))\n",
    "    y_pred = model.predict(x_test)\n",
    "    y_pred = tf.argmax(y_pred, 1)\n",
    "    \n",
    "    return y, y_pred"
   ]
  },
  {
   "cell_type": "code",
   "execution_count": 4,
   "id": "8fcd1ee2",
   "metadata": {
    "scrolled": true
   },
   "outputs": [
    {
     "name": "stderr",
     "output_type": "stream",
     "text": [
      "2021-11-08 12:05:55.347052: E tensorflow/stream_executor/cuda/cuda_driver.cc:271] failed call to cuInit: CUDA_ERROR_NO_DEVICE: no CUDA-capable device is detected\n",
      "2021-11-08 12:05:55.347088: I tensorflow/stream_executor/cuda/cuda_diagnostics.cc:169] retrieving CUDA diagnostic information for host: pececillo\n",
      "2021-11-08 12:05:55.347094: I tensorflow/stream_executor/cuda/cuda_diagnostics.cc:176] hostname: pececillo\n",
      "2021-11-08 12:05:55.347179: I tensorflow/stream_executor/cuda/cuda_diagnostics.cc:200] libcuda reported version is: 470.74.0\n",
      "2021-11-08 12:05:55.347196: I tensorflow/stream_executor/cuda/cuda_diagnostics.cc:204] kernel reported version is: 470.74.0\n",
      "2021-11-08 12:05:55.347201: I tensorflow/stream_executor/cuda/cuda_diagnostics.cc:310] kernel version seems to match DSO: 470.74.0\n",
      "2021-11-08 12:05:55.347386: I tensorflow/core/platform/cpu_feature_guard.cc:142] This TensorFlow binary is optimized with oneAPI Deep Neural Network Library (oneDNN) to use the following CPU instructions in performance-critical operations:  AVX2 FMA\n",
      "To enable them in other operations, rebuild TensorFlow with the appropriate compiler flags.\n",
      "2021-11-08 12:05:58.396751: I tensorflow/compiler/mlir/mlir_graph_optimization_pass.cc:185] None of the MLIR Optimization Passes are enabled (registered 2)\n",
      "/home/users/cdonoso/miniconda3/envs/tf2/lib/python3.8/site-packages/sklearn/metrics/_classification.py:1308: UndefinedMetricWarning: Precision and F-score are ill-defined and being set to 0.0 in labels with no predicted samples. Use `zero_division` parameter to control this behavior.\n",
      "  _warn_prf(average, modifier, msg_start, len(result))\n",
      "/home/users/cdonoso/miniconda3/envs/tf2/lib/python3.8/site-packages/sklearn/metrics/_classification.py:1308: UndefinedMetricWarning: Precision and F-score are ill-defined and being set to 0.0 in labels with no predicted samples. Use `zero_division` parameter to control this behavior.\n",
      "  _warn_prf(average, modifier, msg_start, len(result))\n",
      "/home/users/cdonoso/miniconda3/envs/tf2/lib/python3.8/site-packages/sklearn/metrics/_classification.py:1308: UndefinedMetricWarning: Precision and F-score are ill-defined and being set to 0.0 in labels with no predicted samples. Use `zero_division` parameter to control this behavior.\n",
      "  _warn_prf(average, modifier, msg_start, len(result))\n",
      "/home/users/cdonoso/miniconda3/envs/tf2/lib/python3.8/site-packages/sklearn/metrics/_classification.py:1308: UndefinedMetricWarning: Precision and F-score are ill-defined and being set to 0.0 in labels with no predicted samples. Use `zero_division` parameter to control this behavior.\n",
      "  _warn_prf(average, modifier, msg_start, len(result))\n",
      "2021-11-08 12:21:34.562945: W tensorflow/core/framework/cpu_allocator_impl.cc:80] Allocation of 32337920000 exceeds 10% of free system memory.\n"
     ]
    }
   ],
   "source": [
    "exp_name = 'ogle'\n",
    "\n",
    "results = []\n",
    "for exp in ['{}_20'.format(exp_name), \n",
    "            '{}_50'.format(exp_name), \n",
    "            '{}_100'.format(exp_name),\n",
    "            '{}_500'.format(exp_name),\n",
    "            '{}'.format(exp_name)]:\n",
    "    \n",
    "    for model_name in ['lstm', 'lstm_att', 'mlp_att']:\n",
    "        y, y_pred = get_prediction('../../embeddings/{}'.format(exp), \n",
    "                                   '../../experiments/{}'.format(exp), \n",
    "                                   model_name)\n",
    "\n",
    "        prec, reca, f1, _ = precision_recall_fscore_support(y, y_pred, average='macro')\n",
    "        \n",
    "        results.append([exp, model_name, f1, prec, reca])"
   ]
  },
  {
   "cell_type": "code",
   "execution_count": 5,
   "id": "60416ef1",
   "metadata": {},
   "outputs": [
    {
     "data": {
      "text/html": [
       "<div>\n",
       "<style scoped>\n",
       "    .dataframe tbody tr th:only-of-type {\n",
       "        vertical-align: middle;\n",
       "    }\n",
       "\n",
       "    .dataframe tbody tr th {\n",
       "        vertical-align: top;\n",
       "    }\n",
       "\n",
       "    .dataframe thead th {\n",
       "        text-align: right;\n",
       "    }\n",
       "</style>\n",
       "<table border=\"1\" class=\"dataframe\">\n",
       "  <thead>\n",
       "    <tr style=\"text-align: right;\">\n",
       "      <th></th>\n",
       "      <th>exp</th>\n",
       "      <th>model</th>\n",
       "      <th>f1</th>\n",
       "      <th>recall</th>\n",
       "      <th>precision</th>\n",
       "    </tr>\n",
       "  </thead>\n",
       "  <tbody>\n",
       "    <tr>\n",
       "      <th>0</th>\n",
       "      <td>ogle_20</td>\n",
       "      <td>lstm</td>\n",
       "      <td>0.106782</td>\n",
       "      <td>0.083143</td>\n",
       "      <td>0.171429</td>\n",
       "    </tr>\n",
       "    <tr>\n",
       "      <th>1</th>\n",
       "      <td>ogle_20</td>\n",
       "      <td>lstm_att</td>\n",
       "      <td>0.365515</td>\n",
       "      <td>0.390556</td>\n",
       "      <td>0.401190</td>\n",
       "    </tr>\n",
       "    <tr>\n",
       "      <th>2</th>\n",
       "      <td>ogle_20</td>\n",
       "      <td>mlp_att</td>\n",
       "      <td>0.462009</td>\n",
       "      <td>0.528030</td>\n",
       "      <td>0.460913</td>\n",
       "    </tr>\n",
       "    <tr>\n",
       "      <th>3</th>\n",
       "      <td>ogle_50</td>\n",
       "      <td>lstm</td>\n",
       "      <td>0.083069</td>\n",
       "      <td>0.064088</td>\n",
       "      <td>0.143607</td>\n",
       "    </tr>\n",
       "    <tr>\n",
       "      <th>4</th>\n",
       "      <td>ogle_50</td>\n",
       "      <td>lstm_att</td>\n",
       "      <td>0.501505</td>\n",
       "      <td>0.527045</td>\n",
       "      <td>0.535668</td>\n",
       "    </tr>\n",
       "    <tr>\n",
       "      <th>5</th>\n",
       "      <td>ogle_50</td>\n",
       "      <td>mlp_att</td>\n",
       "      <td>0.497259</td>\n",
       "      <td>0.506264</td>\n",
       "      <td>0.504079</td>\n",
       "    </tr>\n",
       "    <tr>\n",
       "      <th>6</th>\n",
       "      <td>ogle_100</td>\n",
       "      <td>lstm</td>\n",
       "      <td>0.120703</td>\n",
       "      <td>0.101597</td>\n",
       "      <td>0.169206</td>\n",
       "    </tr>\n",
       "    <tr>\n",
       "      <th>7</th>\n",
       "      <td>ogle_100</td>\n",
       "      <td>lstm_att</td>\n",
       "      <td>0.479791</td>\n",
       "      <td>0.493071</td>\n",
       "      <td>0.490662</td>\n",
       "    </tr>\n",
       "    <tr>\n",
       "      <th>8</th>\n",
       "      <td>ogle_100</td>\n",
       "      <td>mlp_att</td>\n",
       "      <td>0.525984</td>\n",
       "      <td>0.538487</td>\n",
       "      <td>0.521783</td>\n",
       "    </tr>\n",
       "    <tr>\n",
       "      <th>9</th>\n",
       "      <td>ogle_500</td>\n",
       "      <td>lstm</td>\n",
       "      <td>0.111450</td>\n",
       "      <td>0.317339</td>\n",
       "      <td>0.155746</td>\n",
       "    </tr>\n",
       "    <tr>\n",
       "      <th>10</th>\n",
       "      <td>ogle_500</td>\n",
       "      <td>lstm_att</td>\n",
       "      <td>0.538826</td>\n",
       "      <td>0.573993</td>\n",
       "      <td>0.554504</td>\n",
       "    </tr>\n",
       "    <tr>\n",
       "      <th>11</th>\n",
       "      <td>ogle_500</td>\n",
       "      <td>mlp_att</td>\n",
       "      <td>0.666224</td>\n",
       "      <td>0.666896</td>\n",
       "      <td>0.669925</td>\n",
       "    </tr>\n",
       "    <tr>\n",
       "      <th>12</th>\n",
       "      <td>ogle</td>\n",
       "      <td>lstm</td>\n",
       "      <td>0.088461</td>\n",
       "      <td>0.074172</td>\n",
       "      <td>0.159398</td>\n",
       "    </tr>\n",
       "  </tbody>\n",
       "</table>\n",
       "</div>"
      ],
      "text/plain": [
       "         exp     model        f1    recall  precision\n",
       "0    ogle_20      lstm  0.106782  0.083143   0.171429\n",
       "1    ogle_20  lstm_att  0.365515  0.390556   0.401190\n",
       "2    ogle_20   mlp_att  0.462009  0.528030   0.460913\n",
       "3    ogle_50      lstm  0.083069  0.064088   0.143607\n",
       "4    ogle_50  lstm_att  0.501505  0.527045   0.535668\n",
       "5    ogle_50   mlp_att  0.497259  0.506264   0.504079\n",
       "6   ogle_100      lstm  0.120703  0.101597   0.169206\n",
       "7   ogle_100  lstm_att  0.479791  0.493071   0.490662\n",
       "8   ogle_100   mlp_att  0.525984  0.538487   0.521783\n",
       "9   ogle_500      lstm  0.111450  0.317339   0.155746\n",
       "10  ogle_500  lstm_att  0.538826  0.573993   0.554504\n",
       "11  ogle_500   mlp_att  0.666224  0.666896   0.669925\n",
       "12      ogle      lstm  0.088461  0.074172   0.159398"
      ]
     },
     "execution_count": 5,
     "metadata": {},
     "output_type": "execute_result"
    }
   ],
   "source": [
    "df_results = pd.DataFrame(results, columns=['exp', 'model', 'f1', 'recall', 'precision'])\n",
    "df_results"
   ]
  },
  {
   "cell_type": "code",
   "execution_count": 7,
   "id": "5da90002",
   "metadata": {},
   "outputs": [
    {
     "name": "stdout",
     "output_type": "stream",
     "text": [
      "lstm\n",
      "lstm_att\n",
      "mlp_att\n"
     ]
    },
    {
     "data": {
      "image/png": "[encoded data removed]",
      "text/plain": [
       "<Figure size 432x288 with 1 Axes>"
      ]
     },
     "metadata": {
      "needs_background": "light"
     },
     "output_type": "display_data"
    }
   ],
   "source": [
    "for exp, group in df_results.groupby('model'):\n",
    "    print(exp)\n",
    "    xrange = range(len(group['exp']))\n",
    "    plt.plot(xrange, group['f1'], marker='o',label=exp)\n",
    "    plt.xticks(xrange, group['exp'])\n",
    "plt.legend()\n",
    "plt.show()"
   ]
  },
  {
   "cell_type": "code",
   "execution_count": 35,
   "id": "b47b3148",
   "metadata": {},
   "outputs": [],
   "source": []
  },
  {
   "cell_type": "code",
   "execution_count": null,
   "id": "178d2849",
   "metadata": {},
   "outputs": [],
   "source": []
  },
  {
   "cell_type": "code",
   "execution_count": null,
   "id": "cceb39ed",
   "metadata": {},
   "outputs": [],
   "source": []
  }
 ],
 "metadata": {
  "kernelspec": {
   "display_name": "Python 3 (ipykernel)",
   "language": "python",
   "name": "python3"
  },
  "language_info": {
   "codemirror_mode": {
    "name": "ipython",
    "version": 3
   },
   "file_extension": ".py",
   "mimetype": "text/x-python",
   "name": "python",
   "nbconvert_exporter": "python",
   "pygments_lexer": "ipython3",
   "version": "3.8.0"
  }
 },
 "nbformat": 4,
 "nbformat_minor": 5
}
