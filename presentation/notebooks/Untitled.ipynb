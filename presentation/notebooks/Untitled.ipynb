{
 "cells": [
  {
   "cell_type": "code",
   "execution_count": 1,
   "id": "d49bf8fa-c2ba-4875-9d13-11255d0f207a",
   "metadata": {},
   "outputs": [
    {
     "name": "stdout",
     "output_type": "stream",
     "text": [
      "/home/users/cdonoso/astromer\n"
     ]
    },
    {
     "name": "stderr",
     "output_type": "stream",
     "text": [
      "/home/users/cdonoso/miniconda3/lib/python3.11/site-packages/IPython/core/magics/osm.py:417: UserWarning: This is now an optional IPython functionality, setting dhist requires you to install the `pickleshare` library.\n",
      "  self.shell.db['dhist'] = compress_dhist(dhist)[-100:]\n"
     ]
    }
   ],
   "source": [
    "cd ../.."
   ]
  },
  {
   "cell_type": "code",
   "execution_count": 3,
   "id": "f1f0995c-e441-41ea-beae-29877910bcf8",
   "metadata": {},
   "outputs": [],
   "source": [
    "import pandas as pd \n",
    "import toml \n",
    "import os\n",
    "\n",
    "import matplotlib.pyplot as plt \n",
    "from src.data.record import DataPipeline\n",
    "\n",
    "from src.models.astromer_1 import get_ASTROMER"
   ]
  },
  {
   "cell_type": "code",
   "execution_count": 5,
   "id": "31d33f8a-db8d-4608-afb4-38c64bc138c1",
   "metadata": {},
   "outputs": [
    {
     "name": "stdout",
     "output_type": "stream",
     "text": [
      "[INFO] Temperature: 0.00\n",
      "[INFO] Mask format: K\n",
      "[INFO] Adding trainable MSK token\n"
     ]
    }
   ],
   "source": [
    "model = get_ASTROMER(num_layers=6,\n",
    "                 num_heads=5,\n",
    "                 head_dim=64,\n",
    "                 mixer_size=512,\n",
    "                 dropout=0.1,\n",
    "                 pe_base=1000,\n",
    "                 pe_dim=128,\n",
    "                 pe_c=1,\n",
    "                 window_size=200,\n",
    "                 batch_size=None,\n",
    "                 m_alpha=-1000000000,\n",
    "                 mask_format='K',\n",
    "                 use_leak=True,\n",
    "                 loss_format='rmse',\n",
    "                 correct_loss=False,\n",
    "                 trainable_mask=True,\n",
    "                 temperature=0.)"
   ]
  },
  {
   "cell_type": "code",
   "execution_count": 6,
   "id": "0f78e87e-2068-4916-bc7c-fbd40439b9b7",
   "metadata": {},
   "outputs": [
    {
     "name": "stdout",
     "output_type": "stream",
     "text": [
      "Model: \"ASTROMER-1\"\n",
      "__________________________________________________________________________________________________\n",
      " Layer (type)                Output Shape                 Param #   Connected to                  \n",
      "==================================================================================================\n",
      " input_4 (InputLayer)        [(None, 200, 1)]             0         []                            \n",
      "                                                                                                  \n",
      " input_5 (InputLayer)        [(None, 200, 1)]             0         []                            \n",
      "                                                                                                  \n",
      " input_6 (InputLayer)        [(None, 200, 1)]             0         []                            \n",
      "                                                                                                  \n",
      " encoder (Encoder)           (None, 200, 320)             5431168   ['input_4[0][0]',             \n",
      "                                                                     'input_5[0][0]',             \n",
      "                                                                     'input_6[0][0]']             \n",
      "                                                                                                  \n",
      " regression (RegLayer)       (None, 200, 1)               961       ['encoder[1][0]']             \n",
      "                                                                                                  \n",
      "==================================================================================================\n",
      "Total params: 5432129 (20.72 MB)\n",
      "Trainable params: 5432129 (20.72 MB)\n",
      "Non-trainable params: 0 (0.00 Byte)\n",
      "__________________________________________________________________________________________________\n"
     ]
    }
   ],
   "source": [
    "model.summary()"
   ]
  },
  {
   "cell_type": "code",
   "execution_count": 3,
   "id": "6837fef7-21ea-4865-ad4a-0f2bf7e531a1",
   "metadata": {},
   "outputs": [],
   "source": [
    "data = './data/raw_parquet/alcock/'\n",
    "target_folder = './data/records/alcock'\n",
    "\n",
    "\n",
    "metapath = os.path.join(data, 'metadata.parquet')\n",
    "lcspath  = os.path.join(data, 'light_curves')\n",
    "\n",
    "\n",
    "basename = os.path.basename(os.path.normpath(target_folder))"
   ]
  },
  {
   "cell_type": "code",
   "execution_count": 5,
   "id": "e2f7c7e6-8fc7-422e-a5f7-18d2732c5457",
   "metadata": {},
   "outputs": [
    {
     "data": {
      "text/plain": [
       "'./data/raw_parquet/alcock/metadata.parquet'"
      ]
     },
     "execution_count": 5,
     "metadata": {},
     "output_type": "execute_result"
    }
   ],
   "source": [
    "os.path.join(target_folder, )"
   ]
  },
  {
   "cell_type": "code",
   "execution_count": 13,
   "id": "7124a004-59ee-49d1-ad47-fdbf6fd29002",
   "metadata": {},
   "outputs": [
    {
     "name": "stdout",
     "output_type": "stream",
     "text": [
      "./data/records/alcock/20/fold_0/objects.csv\n",
      "./data/records/alcock/20/fold_1/objects.csv\n",
      "./data/records/alcock/20/fold_2/objects.csv\n",
      "./data/records/alcock/20/fold_3/objects.csv\n",
      "./data/records/alcock/20/fold_4/objects.csv\n",
      "./data/records/alcock/100/fold_0/objects.csv\n",
      "./data/records/alcock/100/fold_1/objects.csv\n",
      "./data/records/alcock/100/fold_2/objects.csv\n",
      "./data/records/alcock/100/fold_3/objects.csv\n",
      "./data/records/alcock/100/fold_4/objects.csv\n",
      "./data/records/alcock/500/fold_0/objects.csv\n",
      "./data/records/alcock/500/fold_1/objects.csv\n",
      "./data/records/alcock/500/fold_2/objects.csv\n",
      "./data/records/alcock/500/fold_3/objects.csv\n",
      "./data/records/alcock/500/fold_4/objects.csv\n",
      "./data/records/alcock/all/fold_0/objects.csv\n",
      "./data/records/alcock/all/fold_1/objects.csv\n",
      "./data/records/alcock/all/fold_2/objects.csv\n",
      "./data/records/alcock/all/fold_3/objects.csv\n",
      "./data/records/alcock/all/fold_4/objects.csv\n"
     ]
    }
   ],
   "source": [
    "import shutil\n",
    "for spc in [20, 100, 500, '']:  \n",
    "    if spc == '':\n",
    "        spc = 'all'\n",
    "    for foldn in range(5):\n",
    "        source = os.path.join('./data/shared/records/alcock/fold_0/alcock_100/objects.csv')\n",
    "        pathcur = os.path.join(target_folder, str(spc), 'fold_{}'.format(foldn), 'objects.csv')\n",
    "        print(pathcur)\n",
    "        shutil.copyfile(source, pathcur)"
   ]
  },
  {
   "cell_type": "code",
   "execution_count": 5,
   "id": "dfea62ef-04ca-4368-8683-8a45a95941a6",
   "metadata": {},
   "outputs": [
    {
     "name": "stdout",
     "output_type": "stream",
     "text": [
      "(140, 9) (4, 9) (700, 9)\n",
      "(140, 10) (4, 10) (700, 10)\n",
      "(140, 11) (4, 11) (700, 11)\n",
      "(140, 12) (4, 12) (700, 12)\n",
      "(140, 13) (4, 13) (700, 13)\n"
     ]
    },
    {
     "name": "stderr",
     "output_type": "stream",
     "text": [
      "2024-11-05 17:28:31,015 - INFO - Starting DataPipeline operations\n"
     ]
    },
    {
     "name": "stdout",
     "output_type": "stream",
     "text": [
      "[WARN] Inconsistent data types in context. Overwritting config...\n",
      "[INFO] 21450 samples loaded\n",
      "[INFO] Reading parquet\n",
      "[INFO] Light curves loaded\n"
     ]
    },
    {
     "name": "stderr",
     "output_type": "stream",
     "text": [
      "Processing fold 1/5 - test:   0%|\u001b[38;2;0;255;0m                                                                                                                  \u001b[0m| 0/3 [00:00<?, ?it/s]\u001b[0m2024-11-05 17:28:56.367242: I tensorflow/compiler/xla/stream_executor/cuda/cuda_gpu_executor.cc:894] successful NUMA node read from SysFS had negative value (-1), but there must be at least one NUMA node, so returning NUMA node zero. See more at https://github.com/torvalds/linux/blob/v6.0/Documentation/ABI/testing/sysfs-bus-pci#L344-L355\n",
      "2024-11-05 17:28:56.368150: I tensorflow/compiler/xla/stream_executor/cuda/cuda_gpu_executor.cc:894] successful NUMA node read from SysFS had negative value (-1), but there must be at least one NUMA node, so returning NUMA node zero. See more at https://github.com/torvalds/linux/blob/v6.0/Documentation/ABI/testing/sysfs-bus-pci#L344-L355\n",
      "2024-11-05 17:28:56.401521: I tensorflow/compiler/xla/stream_executor/cuda/cuda_gpu_executor.cc:894] successful NUMA node read from SysFS had negative value (-1), but there must be at least one NUMA node, so returning NUMA node zero. See more at https://github.com/torvalds/linux/blob/v6.0/Documentation/ABI/testing/sysfs-bus-pci#L344-L355\n",
      "2024-11-05 17:28:56.401901: I tensorflow/compiler/xla/stream_executor/cuda/cuda_gpu_executor.cc:894] successful NUMA node read from SysFS had negative value (-1), but there must be at least one NUMA node, so returning NUMA node zero. See more at https://github.com/torvalds/linux/blob/v6.0/Documentation/ABI/testing/sysfs-bus-pci#L344-L355\n",
      "2024-11-05 17:28:56.469886: I tensorflow/compiler/xla/stream_executor/cuda/cuda_gpu_executor.cc:894] successful NUMA node read from SysFS had negative value (-1), but there must be at least one NUMA node, so returning NUMA node zero. See more at https://github.com/torvalds/linux/blob/v6.0/Documentation/ABI/testing/sysfs-bus-pci#L344-L355\n",
      "2024-11-05 17:28:56.470335: I tensorflow/compiler/xla/stream_executor/cuda/cuda_gpu_executor.cc:894] successful NUMA node read from SysFS had negative value (-1), but there must be at least one NUMA node, so returning NUMA node zero. See more at https://github.com/torvalds/linux/blob/v6.0/Documentation/ABI/testing/sysfs-bus-pci#L344-L355\n",
      "2024-11-05 17:28:56.470671: I tensorflow/compiler/xla/stream_executor/cuda/cuda_gpu_executor.cc:894] successful NUMA node read from SysFS had negative value (-1), but there must be at least one NUMA node, so returning NUMA node zero. See more at https://github.com/torvalds/linux/blob/v6.0/Documentation/ABI/testing/sysfs-bus-pci#L344-L355\n",
      "2024-11-05 17:28:56.471036: I tensorflow/compiler/xla/stream_executor/cuda/cuda_gpu_executor.cc:894] successful NUMA node read from SysFS had negative value (-1), but there must be at least one NUMA node, so returning NUMA node zero. See more at https://github.com/torvalds/linux/blob/v6.0/Documentation/ABI/testing/sysfs-bus-pci#L344-L355\n",
      "2024-11-05 17:28:56.471389: I tensorflow/compiler/xla/stream_executor/cuda/cuda_gpu_executor.cc:894] successful NUMA node read from SysFS had negative value (-1), but there must be at least one NUMA node, so returning NUMA node zero. See more at https://github.com/torvalds/linux/blob/v6.0/Documentation/ABI/testing/sysfs-bus-pci#L344-L355\n",
      "2024-11-05 17:28:56.471714: I tensorflow/compiler/xla/stream_executor/cuda/cuda_gpu_executor.cc:894] successful NUMA node read from SysFS had negative value (-1), but there must be at least one NUMA node, so returning NUMA node zero. See more at https://github.com/torvalds/linux/blob/v6.0/Documentation/ABI/testing/sysfs-bus-pci#L344-L355\n",
      "2024-11-05 17:28:56.472029: I tensorflow/compiler/xla/stream_executor/cuda/cuda_gpu_executor.cc:894] successful NUMA node read from SysFS had negative value (-1), but there must be at least one NUMA node, so returning NUMA node zero. See more at https://github.com/torvalds/linux/blob/v6.0/Documentation/ABI/testing/sysfs-bus-pci#L344-L355\n",
      "2024-11-05 17:28:56.472343: I tensorflow/compiler/xla/stream_executor/cuda/cuda_gpu_executor.cc:894] successful NUMA node read from SysFS had negative value (-1), but there must be at least one NUMA node, so returning NUMA node zero. See more at https://github.com/torvalds/linux/blob/v6.0/Documentation/ABI/testing/sysfs-bus-pci#L344-L355\n",
      "2024-11-05 17:29:00.599979: I tensorflow/compiler/xla/stream_executor/cuda/cuda_gpu_executor.cc:894] successful NUMA node read from SysFS had negative value (-1), but there must be at least one NUMA node, so returning NUMA node zero. See more at https://github.com/torvalds/linux/blob/v6.0/Documentation/ABI/testing/sysfs-bus-pci#L344-L355\n",
      "2024-11-05 17:29:00.600386: I tensorflow/compiler/xla/stream_executor/cuda/cuda_gpu_executor.cc:894] successful NUMA node read from SysFS had negative value (-1), but there must be at least one NUMA node, so returning NUMA node zero. See more at https://github.com/torvalds/linux/blob/v6.0/Documentation/ABI/testing/sysfs-bus-pci#L344-L355\n",
      "2024-11-05 17:29:00.600723: I tensorflow/compiler/xla/stream_executor/cuda/cuda_gpu_executor.cc:894] successful NUMA node read from SysFS had negative value (-1), but there must be at least one NUMA node, so returning NUMA node zero. See more at https://github.com/torvalds/linux/blob/v6.0/Documentation/ABI/testing/sysfs-bus-pci#L344-L355\n",
      "2024-11-05 17:29:00.614052: I tensorflow/compiler/xla/stream_executor/cuda/cuda_gpu_executor.cc:894] successful NUMA node read from SysFS had negative value (-1), but there must be at least one NUMA node, so returning NUMA node zero. See more at https://github.com/torvalds/linux/blob/v6.0/Documentation/ABI/testing/sysfs-bus-pci#L344-L355\n",
      "2024-11-05 17:29:00.614386: I tensorflow/compiler/xla/stream_executor/cuda/cuda_gpu_executor.cc:894] successful NUMA node read from SysFS had negative value (-1), but there must be at least one NUMA node, so returning NUMA node zero. See more at https://github.com/torvalds/linux/blob/v6.0/Documentation/ABI/testing/sysfs-bus-pci#L344-L355\n",
      "2024-11-05 17:29:00.614708: I tensorflow/compiler/xla/stream_executor/cuda/cuda_gpu_executor.cc:894] successful NUMA node read from SysFS had negative value (-1), but there must be at least one NUMA node, so returning NUMA node zero. See more at https://github.com/torvalds/linux/blob/v6.0/Documentation/ABI/testing/sysfs-bus-pci#L344-L355\n",
      "2024-11-05 17:29:00.615030: I tensorflow/compiler/xla/stream_executor/cuda/cuda_gpu_executor.cc:894] successful NUMA node read from SysFS had negative value (-1), but there must be at least one NUMA node, so returning NUMA node zero. See more at https://github.com/torvalds/linux/blob/v6.0/Documentation/ABI/testing/sysfs-bus-pci#L344-L355\n",
      "2024-11-05 17:29:00.615351: I tensorflow/compiler/xla/stream_executor/cuda/cuda_gpu_executor.cc:894] successful NUMA node read from SysFS had negative value (-1), but there must be at least one NUMA node, so returning NUMA node zero. See more at https://github.com/torvalds/linux/blob/v6.0/Documentation/ABI/testing/sysfs-bus-pci#L344-L355\n",
      "2024-11-05 17:29:00.615671: I tensorflow/compiler/xla/stream_executor/cuda/cuda_gpu_executor.cc:894] successful NUMA node read from SysFS had negative value (-1), but there must be at least one NUMA node, so returning NUMA node zero. See more at https://github.com/torvalds/linux/blob/v6.0/Documentation/ABI/testing/sysfs-bus-pci#L344-L355\n",
      "2024-11-05 17:29:00.615991: I tensorflow/compiler/xla/stream_executor/cuda/cuda_gpu_executor.cc:894] successful NUMA node read from SysFS had negative value (-1), but there must be at least one NUMA node, so returning NUMA node zero. See more at https://github.com/torvalds/linux/blob/v6.0/Documentation/ABI/testing/sysfs-bus-pci#L344-L355\n",
      "2024-11-05 17:29:00.616309: I tensorflow/compiler/xla/stream_executor/cuda/cuda_gpu_executor.cc:894] successful NUMA node read from SysFS had negative value (-1), but there must be at least one NUMA node, so returning NUMA node zero. See more at https://github.com/torvalds/linux/blob/v6.0/Documentation/ABI/testing/sysfs-bus-pci#L344-L355\n",
      "2024-11-05 17:29:00.616626: I tensorflow/compiler/xla/stream_executor/cuda/cuda_gpu_executor.cc:894] successful NUMA node read from SysFS had negative value (-1), but there must be at least one NUMA node, so returning NUMA node zero. See more at https://github.com/torvalds/linux/blob/v6.0/Documentation/ABI/testing/sysfs-bus-pci#L344-L355\n",
      "2024-11-05 17:29:00.733598: I tensorflow/compiler/xla/stream_executor/cuda/cuda_gpu_executor.cc:894] successful NUMA node read from SysFS had negative value (-1), but there must be at least one NUMA node, so returning NUMA node zero. See more at https://github.com/torvalds/linux/blob/v6.0/Documentation/ABI/testing/sysfs-bus-pci#L344-L355\n",
      "2024-11-05 17:29:00.747306: I tensorflow/compiler/xla/stream_executor/cuda/cuda_gpu_executor.cc:894] successful NUMA node read from SysFS had negative value (-1), but there must be at least one NUMA node, so returning NUMA node zero. See more at https://github.com/torvalds/linux/blob/v6.0/Documentation/ABI/testing/sysfs-bus-pci#L344-L355\n",
      "2024-11-05 17:29:00.747701: I tensorflow/compiler/xla/stream_executor/cuda/cuda_gpu_executor.cc:894] successful NUMA node read from SysFS had negative value (-1), but there must be at least one NUMA node, so returning NUMA node zero. See more at https://github.com/torvalds/linux/blob/v6.0/Documentation/ABI/testing/sysfs-bus-pci#L344-L355\n",
      "2024-11-05 17:29:00.748061: I tensorflow/compiler/xla/stream_executor/cuda/cuda_gpu_executor.cc:894] successful NUMA node read from SysFS had negative value (-1), but there must be at least one NUMA node, so returning NUMA node zero. See more at https://github.com/torvalds/linux/blob/v6.0/Documentation/ABI/testing/sysfs-bus-pci#L344-L355\n",
      "2024-11-05 17:29:00.748406: I tensorflow/compiler/xla/stream_executor/cuda/cuda_gpu_executor.cc:894] successful NUMA node read from SysFS had negative value (-1), but there must be at least one NUMA node, so returning NUMA node zero. See more at https://github.com/torvalds/linux/blob/v6.0/Documentation/ABI/testing/sysfs-bus-pci#L344-L355\n",
      "2024-11-05 17:29:00.748749: I tensorflow/compiler/xla/stream_executor/cuda/cuda_gpu_executor.cc:894] successful NUMA node read from SysFS had negative value (-1), but there must be at least one NUMA node, so returning NUMA node zero. See more at https://github.com/torvalds/linux/blob/v6.0/Documentation/ABI/testing/sysfs-bus-pci#L344-L355\n",
      "2024-11-05 17:29:00.749086: I tensorflow/compiler/xla/stream_executor/cuda/cuda_gpu_executor.cc:894] successful NUMA node read from SysFS had negative value (-1), but there must be at least one NUMA node, so returning NUMA node zero. See more at https://github.com/torvalds/linux/blob/v6.0/Documentation/ABI/testing/sysfs-bus-pci#L344-L355\n",
      "2024-11-05 17:29:00.749417: I tensorflow/compiler/xla/stream_executor/cuda/cuda_gpu_executor.cc:894] successful NUMA node read from SysFS had negative value (-1), but there must be at least one NUMA node, so returning NUMA node zero. See more at https://github.com/torvalds/linux/blob/v6.0/Documentation/ABI/testing/sysfs-bus-pci#L344-L355\n",
      "2024-11-05 17:29:00.749758: I tensorflow/compiler/xla/stream_executor/cuda/cuda_gpu_executor.cc:894] successful NUMA node read from SysFS had negative value (-1), but there must be at least one NUMA node, so returning NUMA node zero. See more at https://github.com/torvalds/linux/blob/v6.0/Documentation/ABI/testing/sysfs-bus-pci#L344-L355\n",
      "2024-11-05 17:29:00.750056: I tensorflow/core/common_runtime/gpu/gpu_device.cc:1886] Created device /job:localhost/replica:0/task:0/device:GPU:0 with 1082 MB memory:  -> device: 0, name: NVIDIA RTX A5000, pci bus id: 0000:81:00.0, compute capability: 8.6\n",
      "2024-11-05 17:29:00.751308: I tensorflow/compiler/xla/stream_executor/cuda/cuda_gpu_executor.cc:894] successful NUMA node read from SysFS had negative value (-1), but there must be at least one NUMA node, so returning NUMA node zero. See more at https://github.com/torvalds/linux/blob/v6.0/Documentation/ABI/testing/sysfs-bus-pci#L344-L355\n",
      "2024-11-05 17:29:00.751626: I tensorflow/core/common_runtime/gpu/gpu_device.cc:1886] Created device /job:localhost/replica:0/task:0/device:GPU:1 with 1082 MB memory:  -> device: 1, name: NVIDIA RTX A5000, pci bus id: 0000:82:00.0, compute capability: 8.6\n",
      "2024-11-05 17:29:00.754004: I tensorflow/compiler/xla/stream_executor/cuda/cuda_gpu_executor.cc:894] successful NUMA node read from SysFS had negative value (-1), but there must be at least one NUMA node, so returning NUMA node zero. See more at https://github.com/torvalds/linux/blob/v6.0/Documentation/ABI/testing/sysfs-bus-pci#L344-L355\n",
      "2024-11-05 17:29:00.754304: I tensorflow/core/common_runtime/gpu/gpu_device.cc:1886] Created device /job:localhost/replica:0/task:0/device:GPU:2 with 1082 MB memory:  -> device: 2, name: NVIDIA RTX A5000, pci bus id: 0000:c1:00.0, compute capability: 8.6\n",
      "2024-11-05 17:29:00.757264: I tensorflow/compiler/xla/stream_executor/cuda/cuda_gpu_executor.cc:894] successful NUMA node read from SysFS had negative value (-1), but there must be at least one NUMA node, so returning NUMA node zero. See more at https://github.com/torvalds/linux/blob/v6.0/Documentation/ABI/testing/sysfs-bus-pci#L344-L355\n",
      "2024-11-05 17:29:00.757571: I tensorflow/core/common_runtime/gpu/gpu_device.cc:1886] Created device /job:localhost/replica:0/task:0/device:GPU:3 with 1082 MB memory:  -> device: 3, name: NVIDIA RTX A5000, pci bus id: 0000:c2:00.0, compute capability: 8.6\n",
      "Processing fold 1/5 - validation: 100%|\u001b[38;2;0;255;0m████████████████████████████████████████████████████████████████████████████████████████████████████\u001b[0m| 3/3 [00:08<00:00,  2.86s/it]\u001b[0m\n",
      "Processing fold 2/5 - validation: 100%|\u001b[38;2;0;255;0m████████████████████████████████████████████████████████████████████████████████████████████████████\u001b[0m| 3/3 [00:04<00:00,  1.40s/it]\u001b[0m\n",
      "Processing fold 3/5 - validation: 100%|\u001b[38;2;0;255;0m████████████████████████████████████████████████████████████████████████████████████████████████████\u001b[0m| 3/3 [00:03<00:00,  1.05s/it]\u001b[0m\n",
      "Processing fold 4/5 - validation: 100%|\u001b[38;2;0;255;0m████████████████████████████████████████████████████████████████████████████████████████████████████\u001b[0m| 3/3 [00:02<00:00,  1.33it/s]\u001b[0m\n",
      "Processing fold 5/5 - validation: 100%|\u001b[38;2;0;255;0m████████████████████████████████████████████████████████████████████████████████████████████████████\u001b[0m| 3/3 [00:03<00:00,  1.15s/it]\u001b[0m\n",
      "2024-11-05 17:29:17,622 - INFO - Finished execution of DataPipeline operations\n"
     ]
    }
   ],
   "source": [
    "with open('./data/config.toml', 'r') as file:\n",
    "    config = toml.load(file)\n",
    "\n",
    "valfrac = 0.2\n",
    "n_folds = 5\n",
    "\n",
    "for spc in [20, 100, 500, '']:    \n",
    "    metadata = pd.read_parquet(metapath)\n",
    "    \n",
    "    for nfold in range(n_folds):\n",
    "        test_metadata = metadata.groupby('Label').sample(n=100)\n",
    "        rest_metadata = metadata[~metadata['newID'].isin(test_metadata['newID'])]\n",
    "    \n",
    "        # Train Val and Test splits\n",
    "        if spc != '':\n",
    "            nval = int(valfrac*spc)\n",
    "            valid_meta = rest_metadata.sample(n=nval)\n",
    "            train_meta = rest_metadata[~rest_metadata['newID'].isin(valid_meta['newID'])].groupby('Label').sample(n=spc,\n",
    "                                                                                                                  replace=True)\n",
    "        else:\n",
    "            nval = int(valfrac*rest_metadata.shape[0])\n",
    "            valid_meta = rest_metadata.sample(n=nval)\n",
    "            train_meta = rest_metadata[~rest_metadata['newID'].isin(valid_meta['newID'])]\n",
    "            \n",
    "        print(train_meta.shape, valid_meta.shape, test_metadata.shape)\n",
    "\n",
    "        train_meta    = train_meta.copy()\n",
    "        valid_meta    = valid_meta.copy()\n",
    "        test_metadata = test_metadata.copy()\n",
    "        \n",
    "        train_meta.loc[:, 'subset_{}'.format(nfold)]    = ['train']*train_meta.shape[0]\n",
    "        valid_meta.loc[:, 'subset_{}'.format(nfold)]    = ['validation']*valid_meta.shape[0]\n",
    "        test_metadata.loc[:, 'subset_{}'.format(nfold)] = ['test']*test_metadata.shape[0]\n",
    "\n",
    "        curr_meta = pd.concat([train_meta, valid_meta, test_metadata], axis=0)\n",
    "        cols_to_use = curr_meta.columns.difference(metadata.columns)\n",
    "        metadata = pd.merge(metadata, curr_meta[cols_to_use], left_index=True, right_index=True, how='outer')\n",
    "\n",
    "    # ============== Pipeline ==============\n",
    "    # ======================================\n",
    "    if spc == '': spc = 'all'\n",
    "    target_path = os.path.join(target_folder, str(spc))\n",
    "    os.makedirs(target_path, exist_ok=True)\n",
    "\n",
    "    metadata.to_parquet(os.path.join(target_path, 'metadata.parquet'), index=False)\n",
    "    \n",
    "    config['target']['path']              = target_path\n",
    "    config['context_features']['path']    = os.path.join(target_folder, str(spc), 'metadata.parquet')\n",
    "    config['sequential_features']['path'] = lcspath\n",
    "\n",
    "    configPath = os.path.join(target_path, 'config.toml')\n",
    "    with open(configPath, 'w') as file:\n",
    "        toml.dump(config, file)\n",
    "\n",
    "    pipeline = DataPipeline(metadata=metadata,\n",
    "                            config_path=configPath)\n",
    "    \n",
    "    var = pipeline.run(n_jobs=4,\n",
    "                       elements_per_shard=200000)\n",
    "\n",
    "    break"
   ]
  },
  {
   "cell_type": "code",
   "execution_count": null,
   "id": "ae229de0-c52a-4700-992f-550e0ade3929",
   "metadata": {},
   "outputs": [],
   "source": [
    "metadata"
   ]
  },
  {
   "cell_type": "code",
   "execution_count": 8,
   "id": "1cb3dc6b-5a8f-44cc-9073-da1cadbe22c9",
   "metadata": {},
   "outputs": [],
   "source": [
    "fold_groups = [x for x in metadata.columns if 'subset' in x]"
   ]
  },
  {
   "cell_type": "code",
   "execution_count": 9,
   "id": "e57416d3-914a-4ee7-93dd-416d0715bcad",
   "metadata": {},
   "outputs": [
    {
     "data": {
      "text/plain": [
       "['subset_0', 'subset_1', 'subset_2', 'subset_3', 'subset_4']"
      ]
     },
     "execution_count": 9,
     "metadata": {},
     "output_type": "execute_result"
    }
   ],
   "source": [
    "fold_groups"
   ]
  },
  {
   "cell_type": "code",
   "execution_count": 10,
   "id": "42e8c315-c676-457c-af8a-d2f3442ade4c",
   "metadata": {},
   "outputs": [
    {
     "data": {
      "text/plain": [
       "array(['test', 'train', 'validation'], dtype=object)"
      ]
     },
     "execution_count": 10,
     "metadata": {},
     "output_type": "execute_result"
    }
   ],
   "source": [
    "metadata[fold_groups[0]].dropna().unique()"
   ]
  },
  {
   "cell_type": "code",
   "execution_count": 11,
   "id": "23cb392b-3ad9-456a-b851-bfb02058f23a",
   "metadata": {},
   "outputs": [],
   "source": [
    "partial = metadata[metadata['subset_1'] == 'train']"
   ]
  },
  {
   "cell_type": "code",
   "execution_count": null,
   "id": "d3a4aa34-2cae-4b7b-94aa-197cca864461",
   "metadata": {},
   "outputs": [],
   "source": []
  },
  {
   "cell_type": "code",
   "execution_count": null,
   "id": "f8eec82e-bfef-46b6-afbd-1313a6d76ac4",
   "metadata": {},
   "outputs": [],
   "source": []
  }
 ],
 "metadata": {
  "kernelspec": {
   "display_name": "Python 3 (ipykernel)",
   "language": "python",
   "name": "python3"
  },
  "language_info": {
   "codemirror_mode": {
    "name": "ipython",
    "version": 3
   },
   "file_extension": ".py",
   "mimetype": "text/x-python",
   "name": "python",
   "nbconvert_exporter": "python",
   "pygments_lexer": "ipython3",
   "version": "3.11.4"
  }
 },
 "nbformat": 4,
 "nbformat_minor": 5
}
