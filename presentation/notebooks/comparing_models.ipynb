{
 "cells": [
  {
   "cell_type": "code",
   "execution_count": 150,
   "id": "75778ba6",
   "metadata": {},
   "outputs": [
    {
     "name": "stdout",
     "output_type": "stream",
     "text": [
      "/home\n"
     ]
    }
   ],
   "source": [
    "cd /home"
   ]
  },
  {
   "cell_type": "markdown",
   "id": "328fc05f",
   "metadata": {},
   "source": [
    "# Astromer I vs Astromer II"
   ]
  },
  {
   "cell_type": "code",
   "execution_count": 151,
   "id": "d363632a",
   "metadata": {},
   "outputs": [
    {
     "name": "stdout",
     "output_type": "stream",
     "text": [
      "The autoreload extension is already loaded. To reload it, use:\n",
      "  %reload_ext autoreload\n"
     ]
    }
   ],
   "source": [
    "import matplotlib.pyplot as plt \n",
    "import pandas as pd\n",
    "import numpy as np\n",
    "import os\n",
    "\n",
    "from sklearn.metrics import r2_score, mean_squared_error\n",
    "from presentation.experiments.utils import get_clf_summary\n",
    "from src.utils import get_metrics\n",
    "\n",
    "plt.rcParams.update({\n",
    "    \"text.usetex\": True,\n",
    "    \"font.family\": \"sans-serif\",\n",
    "    \"font.sans-serif\": [\"Helvetica\"]})\n",
    "# for Palatino and other serif fonts use:\n",
    "plt.rcParams.update({\n",
    "    \"text.usetex\": True,\n",
    "    \"font.family\": \"serif\",\n",
    "    \"font.serif\": [\"Palatino\"],\n",
    "})\n",
    "\n",
    "%load_ext autoreload\n",
    "%autoreload 2"
   ]
  },
  {
   "cell_type": "markdown",
   "id": "f996a045",
   "metadata": {},
   "source": [
    "**WARNING**: This notebook was made to visualize classification results only. \n",
    "\n",
    "All the following blocks assume you already ran the script `./presentation/experiments/astromer_{1/2}/script.py`.\n",
    "\n",
    "The directory looks like: \n",
    "- `presentation`\n",
    "    - `astromer_1/results/<experiment_folder>`\n",
    "        - `finetuning`\n",
    "        - `classification`\n",
    "        - `pretraining`\n",
    "    - `astromer_2/results/<experiment_folder>`\n",
    "        - `finetuning`\n",
    "        - `classification`\n",
    "        - `pretraining`"
   ]
  },
  {
   "cell_type": "code",
   "execution_count": 156,
   "id": "3147dbc7",
   "metadata": {},
   "outputs": [],
   "source": [
    "folders = [\n",
    "    './presentation/experiments/astromer_1/results/paper_clean/2023-09-09_20-28-14/',\n",
    "    './presentation/experiments/astromer_2/results/paper/2023-09-10_02-15-21/'\n",
    "]\n",
    "tags = ['Astromer I', 'Astromer II']"
   ]
  },
  {
   "cell_type": "code",
   "execution_count": 160,
   "id": "bf609d15",
   "metadata": {},
   "outputs": [],
   "source": [
    "summary = []\n",
    "for folder, tag in zip(folders, tags):\n",
    "    partial = get_clf_summary(folder, tag)\n",
    "    summary.append(partial)\n",
    "    \n",
    "summary = pd.concat(summary, axis=0)"
   ]
  },
  {
   "cell_type": "code",
   "execution_count": 161,
   "id": "331eacf9",
   "metadata": {},
   "outputs": [
    {
     "data": {
      "text/plain": [
       "Index(['exp_name', 'data', 'checkpoint', 'gpu', 'debug', 'encoder_mode',\n",
       "       'num_layers', 'num_heads', 'head_dim', 'pe_dim', 'pe_base', 'pe_exp',\n",
       "       'mixer', 'dropout', 'avg_layers', 'lr', 'bs', 'patience', 'num_epochs',\n",
       "       'window_size', 'probed', 'rs', 'clf_val_acc', 'clf_val_loss',\n",
       "       'clf_test_precision', 'clf_test_recall', 'clf_test_f1', 'clf_test_acc',\n",
       "       'tag', 'clf_name', 'fold', 'downstream_data', 'samples_per_class',\n",
       "       'nsp_prob', 'rmse_factor'],\n",
       "      dtype='object')"
      ]
     },
     "execution_count": 161,
     "metadata": {},
     "output_type": "execute_result"
    }
   ],
   "source": [
    "summary.columns"
   ]
  },
  {
   "cell_type": "code",
   "execution_count": 162,
   "id": "7a42ec00",
   "metadata": {},
   "outputs": [
    {
     "name": "stdout",
     "output_type": "stream",
     "text": [
      "alcock\n",
      "atlas\n"
     ]
    },
    {
     "data": {
      "text/plain": [
       "<matplotlib.legend.Legend at 0x7fe76d37e6a0>"
      ]
     },
     "execution_count": 162,
     "metadata": {},
     "output_type": "execute_result"
    },
    {
     "data": {
      "image/png": "[encoded data removed]",
      "text/plain": [
       "<Figure size 640x480 with 2 Axes>"
      ]
     },
     "metadata": {},
     "output_type": "display_data"
    }
   ],
   "source": [
    "fig, axes = plt.subplots(2, 1)\n",
    "count = 0\n",
    "delta = 0.2\n",
    "for downstream_data, frame_0 in summary.groupby('downstream_data'):\n",
    "    print(downstream_data)\n",
    "    shift = 0\n",
    "    for tag, frame_1 in frame_0.groupby('tag'):\n",
    "        x_tickslab, mean_values, std_values = [], [], []\n",
    "        for (spc, clfname), frame_2 in frame_1.groupby(['samples_per_class', 'clf_name']):\n",
    "            f1_values = frame_2['clf_val_acc'].astype(float)\n",
    "            x_tickslab.append('{}_{}_{}'.format(downstream_data, spc, clf_name))\n",
    "            mean_values.append(f1_values.mean())\n",
    "            std_values.append(f1_values.std())\n",
    "        \n",
    "        x_range = np.arange(len(mean_values))+shift\n",
    "        axes[count].bar(x_range, mean_values, width=delta, label=tag)\n",
    "        axes[count].set_xticks(x_range)\n",
    "        axes[count].set_xticklabels(x_tickslab, rotation=0)\n",
    "        shift+=delta*2\n",
    "    \n",
    "    count+=1\n",
    "axes[-1].legend()"
   ]
  },
  {
   "cell_type": "code",
   "execution_count": null,
   "id": "577e2243",
   "metadata": {},
   "outputs": [],
   "source": []
  },
  {
   "cell_type": "code",
   "execution_count": null,
   "id": "d4061fec",
   "metadata": {},
   "outputs": [],
   "source": []
  },
  {
   "cell_type": "code",
   "execution_count": null,
   "id": "3e029c44",
   "metadata": {},
   "outputs": [],
   "source": []
  },
  {
   "cell_type": "code",
   "execution_count": null,
   "id": "564b93c6",
   "metadata": {},
   "outputs": [],
   "source": []
  },
  {
   "cell_type": "code",
   "execution_count": null,
   "id": "f0008a09",
   "metadata": {},
   "outputs": [],
   "source": []
  },
  {
   "cell_type": "code",
   "execution_count": null,
   "id": "89fee78e",
   "metadata": {},
   "outputs": [],
   "source": []
  },
  {
   "cell_type": "code",
   "execution_count": null,
   "id": "53994d60",
   "metadata": {},
   "outputs": [],
   "source": []
  },
  {
   "cell_type": "code",
   "execution_count": null,
   "id": "5563f27a",
   "metadata": {},
   "outputs": [],
   "source": []
  },
  {
   "cell_type": "code",
   "execution_count": null,
   "id": "d49f26ed",
   "metadata": {},
   "outputs": [],
   "source": []
  }
 ],
 "metadata": {
  "kernelspec": {
   "display_name": "Python 3 (ipykernel)",
   "language": "python",
   "name": "python3"
  },
  "language_info": {
   "codemirror_mode": {
    "name": "ipython",
    "version": 3
   },
   "file_extension": ".py",
   "mimetype": "text/x-python",
   "name": "python",
   "nbconvert_exporter": "python",
   "pygments_lexer": "ipython3",
   "version": "3.8.10"
  }
 },
 "nbformat": 4,
 "nbformat_minor": 5
}
