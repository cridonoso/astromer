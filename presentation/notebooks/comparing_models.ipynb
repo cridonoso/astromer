{
 "cells": [
  {
   "cell_type": "code",
   "execution_count": 1,
   "id": "75778ba6",
   "metadata": {},
   "outputs": [
    {
     "name": "stdout",
     "output_type": "stream",
     "text": [
      "/home\n"
     ]
    }
   ],
   "source": [
    "cd /home"
   ]
  },
  {
   "cell_type": "markdown",
   "id": "328fc05f",
   "metadata": {},
   "source": [
    "# Astromer I vs Astromer II"
   ]
  },
  {
   "cell_type": "code",
   "execution_count": 50,
   "id": "d363632a",
   "metadata": {},
   "outputs": [
    {
     "name": "stdout",
     "output_type": "stream",
     "text": [
      "The autoreload extension is already loaded. To reload it, use:\n",
      "  %reload_ext autoreload\n"
     ]
    }
   ],
   "source": [
    "import matplotlib.pyplot as plt \n",
    "import pandas as pd\n",
    "import numpy as np\n",
    "import os\n",
    "\n",
    "from sklearn.metrics import r2_score, mean_squared_error\n",
    "from presentation.experiments.utils import get_clf_summary\n",
    "from src.utils import get_metrics\n",
    "\n",
    "plt.rcParams.update({\n",
    "    \"text.usetex\": True,\n",
    "    \"font.family\": \"sans-serif\",\n",
    "    \"font.sans-serif\": [\"Helvetica\"]})\n",
    "# for Palatino and other serif fonts use:\n",
    "plt.rcParams.update({\n",
    "    \"text.usetex\": True,\n",
    "    \"font.family\": \"serif\",\n",
    "    \"font.serif\": [\"Palatino\"],\n",
    "})\n",
    "\n",
    "%load_ext autoreload\n",
    "%autoreload 2"
   ]
  },
  {
   "cell_type": "markdown",
   "id": "f996a045",
   "metadata": {},
   "source": [
    "**WARNING**: This notebook was made to visualize classification results only. \n",
    "\n",
    "All the following blocks assume you already ran the script `./presentation/experiments/astromer_{1/2}/script.py`.\n",
    "\n",
    "The directory looks like: \n",
    "- `presentation`\n",
    "    - `astromer_1/results/<experiment_folder>`\n",
    "        - `finetuning`\n",
    "        - `classification`\n",
    "        - `pretraining`\n",
    "    - `astromer_2/results/<experiment_folder>`\n",
    "        - `finetuning`\n",
    "        - `classification`\n",
    "        - `pretraining`"
   ]
  },
  {
   "cell_type": "code",
   "execution_count": 51,
   "id": "3147dbc7",
   "metadata": {},
   "outputs": [],
   "source": [
    "folders = [\n",
    "    './presentation/experiments/astromer_1/results/v1/',\n",
    "    './presentation/experiments/astromer_2/results/v2/'\n",
    "]\n",
    "tags = ['Astromer I', 'Astromer II']"
   ]
  },
  {
   "cell_type": "code",
   "execution_count": 55,
   "id": "bf609d15",
   "metadata": {},
   "outputs": [],
   "source": [
    "summary = []\n",
    "for folder, tag in zip(folders, tags):\n",
    "    partial = get_clf_summary(folder, tag)\n",
    "    summary.append(partial)\n",
    "    \n",
    "summary = pd.concat(summary, axis=0)"
   ]
  },
  {
   "cell_type": "code",
   "execution_count": 59,
   "id": "7a42ec00",
   "metadata": {},
   "outputs": [
    {
     "name": "stdout",
     "output_type": "stream",
     "text": [
      "att_mlp\n",
      "att_mlp\n",
      "att_mlp\n",
      "att_mlp\n",
      "all_mlp\n",
      "att_mlp\n",
      "cls_mlp\n",
      "all_mlp\n",
      "att_mlp\n",
      "cls_mlp\n",
      "all_mlp\n",
      "att_mlp\n",
      "cls_mlp\n",
      "all_mlp\n",
      "att_mlp\n",
      "cls_mlp\n"
     ]
    }
   ],
   "source": [
    "for tag, frame_0 in summary.groupby('tag'):\n",
    "    for downstream_data, frame_1 in frame_0.groupby('downstream_data'):\n",
    "        for (spc, clfname), frame_2 in frame_1.groupby(['samples_per_class', 'clf_name']):\n",
    "            print(clfname)"
   ]
  },
  {
   "cell_type": "code",
   "execution_count": 39,
   "id": "577e2243",
   "metadata": {},
   "outputs": [],
   "source": []
  },
  {
   "cell_type": "code",
   "execution_count": 43,
   "id": "d4061fec",
   "metadata": {},
   "outputs": [
    {
     "data": {
      "text/plain": [
       "Index(['exp_name', 'data', 'checkpoint', 'gpu', 'debug', 'encoder_mode',\n",
       "       'num_layers', 'num_heads', 'head_dim', 'pe_dim', 'pe_base', 'pe_exp',\n",
       "       'mixer', 'dropout', 'avg_layers', 'lr', 'bs', 'patience', 'num_epochs',\n",
       "       'window_size', 'probed', 'rs', 'clf_val_acc', 'clf_val_loss',\n",
       "       'clf_test_precision', 'clf_test_recall', 'clf_test_f1', 'clf_test_acc',\n",
       "       'clf_name', 'downstream_data', 'samples_per_class'],\n",
       "      dtype='object')"
      ]
     },
     "execution_count": 43,
     "metadata": {},
     "output_type": "execute_result"
    }
   ],
   "source": [
    "df.columns"
   ]
  },
  {
   "cell_type": "code",
   "execution_count": 44,
   "id": "05d185b6",
   "metadata": {},
   "outputs": [],
   "source": [
    "subgroups = df.groupby(['downstream_data', 'samples_per_class'])"
   ]
  },
  {
   "cell_type": "code",
   "execution_count": 46,
   "id": "5166cfc9",
   "metadata": {},
   "outputs": [
    {
     "name": "stdout",
     "output_type": "stream",
     "text": [
      "7      0.05086877000457247\n",
      "9     0.053827333100314574\n",
      "11    0.054773633591367575\n",
      "Name: clf_test_f1, dtype: object\n",
      "6      0.05600448933782267\n",
      "8     0.053714684339030344\n",
      "10    0.046376811594202906\n",
      "Name: clf_test_f1, dtype: object\n",
      "0    0.36860070779541826\n",
      "2    0.36923832859135086\n",
      "4     0.4068101669594008\n",
      "Name: clf_test_f1, dtype: object\n",
      "1    0.35045985893186926\n",
      "3     0.3905066386329509\n",
      "5     0.3513379652324876\n",
      "Name: clf_test_f1, dtype: object\n"
     ]
    }
   ],
   "source": [
    "for k, subframe in subgroups:\n",
    "    print(subframe['clf_test_f1'])"
   ]
  },
  {
   "cell_type": "code",
   "execution_count": null,
   "id": "b4b679b4",
   "metadata": {},
   "outputs": [],
   "source": []
  },
  {
   "cell_type": "code",
   "execution_count": null,
   "id": "f1c962a9",
   "metadata": {},
   "outputs": [],
   "source": []
  },
  {
   "cell_type": "code",
   "execution_count": null,
   "id": "f3158ba3",
   "metadata": {},
   "outputs": [],
   "source": []
  },
  {
   "cell_type": "code",
   "execution_count": null,
   "id": "230995a1",
   "metadata": {},
   "outputs": [],
   "source": []
  },
  {
   "cell_type": "code",
   "execution_count": null,
   "id": "a35bdfa5",
   "metadata": {},
   "outputs": [],
   "source": []
  }
 ],
 "metadata": {
  "kernelspec": {
   "display_name": "Python 3 (ipykernel)",
   "language": "python",
   "name": "python3"
  },
  "language_info": {
   "codemirror_mode": {
    "name": "ipython",
    "version": 3
   },
   "file_extension": ".py",
   "mimetype": "text/x-python",
   "name": "python",
   "nbconvert_exporter": "python",
   "pygments_lexer": "ipython3",
   "version": "3.8.10"
  }
 },
 "nbformat": 4,
 "nbformat_minor": 5
}
