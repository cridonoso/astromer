{
 "cells": [
  {
   "cell_type": "code",
   "execution_count": 1,
   "id": "75778ba6",
   "metadata": {},
   "outputs": [
    {
     "name": "stdout",
     "output_type": "stream",
     "text": [
      "/home\n"
     ]
    }
   ],
   "source": [
    "cd /home"
   ]
  },
  {
   "cell_type": "markdown",
   "id": "328fc05f",
   "metadata": {},
   "source": [
    "# Astromer I vs Astromer II"
   ]
  },
  {
   "cell_type": "code",
   "execution_count": 2,
   "id": "d363632a",
   "metadata": {},
   "outputs": [
    {
     "name": "stderr",
     "output_type": "stream",
     "text": [
      "2023-09-25 15:42:10.636854: I tensorflow/core/platform/cpu_feature_guard.cc:193] This TensorFlow binary is optimized with oneAPI Deep Neural Network Library (oneDNN) to use the following CPU instructions in performance-critical operations:  AVX2 FMA\n",
      "To enable them in other operations, rebuild TensorFlow with the appropriate compiler flags.\n",
      "/usr/lib/python3/dist-packages/requests/__init__.py:89: RequestsDependencyWarning: urllib3 (2.0.5) or chardet (3.0.4) doesn't match a supported version!\n",
      "  warnings.warn(\"urllib3 ({}) or chardet ({}) doesn't match a supported \"\n"
     ]
    }
   ],
   "source": [
    "import matplotlib.pyplot as plt \n",
    "import pandas as pd\n",
    "import numpy as np\n",
    "import os\n",
    "\n",
    "from sklearn.metrics import r2_score, mean_squared_error\n",
    "from presentation.experiments.utils import get_clf_summary\n",
    "from src.utils import get_metrics\n",
    "\n",
    "plt.rcParams.update({\n",
    "    \"text.usetex\": True,\n",
    "    \"font.family\": \"sans-serif\",\n",
    "    \"font.sans-serif\": [\"Helvetica\"]})\n",
    "# for Palatino and other serif fonts use:\n",
    "plt.rcParams.update({\n",
    "    \"text.usetex\": True,\n",
    "    \"font.family\": \"serif\",\n",
    "    \"font.serif\": [\"Palatino\"],\n",
    "})\n",
    "\n",
    "%load_ext autoreload\n",
    "%autoreload 2"
   ]
  },
  {
   "cell_type": "markdown",
   "id": "f996a045",
   "metadata": {},
   "source": [
    "**WARNING**: This notebook was made to visualize classification results only. \n",
    "\n",
    "All the following blocks assume you already ran the script `./presentation/experiments/astromer_{1/2}/script.py`.\n",
    "\n",
    "The directory looks like: \n",
    "- `presentation`\n",
    "    - `astromer_1/results/<experiment_folder>`\n",
    "        - `finetuning`\n",
    "        - `classification`\n",
    "        - `pretraining`\n",
    "    - `astromer_2/results/<experiment_folder>`\n",
    "        - `finetuning`\n",
    "        - `classification`\n",
    "        - `pretraining`"
   ]
  },
  {
   "cell_type": "code",
   "execution_count": 15,
   "id": "3147dbc7",
   "metadata": {},
   "outputs": [],
   "source": [
    "folders = [\n",
    "    './presentation/experiments/astromer_1/results/paper/2023-09-21_20-16-21/',\n",
    "     './presentation/experiments/astromer_1/results/paper/2023-09-21_20-24-32/',\n",
    "]\n",
    "tags = ['50\\% Probed', '20\\% Probed']"
   ]
  },
  {
   "cell_type": "code",
   "execution_count": 16,
   "id": "bf609d15",
   "metadata": {},
   "outputs": [],
   "source": [
    "summary = []\n",
    "for folder, tag in zip(folders, tags):\n",
    "    partial = get_clf_summary(folder, tag)\n",
    "    summary.append(partial)\n",
    "    \n",
    "summary = pd.concat(summary, axis=0)"
   ]
  },
  {
   "cell_type": "code",
   "execution_count": 17,
   "id": "331eacf9",
   "metadata": {},
   "outputs": [
    {
     "data": {
      "text/plain": [
       "(24, 33)"
      ]
     },
     "execution_count": 17,
     "metadata": {},
     "output_type": "execute_result"
    }
   ],
   "source": [
    "summary.shape"
   ]
  },
  {
   "cell_type": "code",
   "execution_count": 18,
   "id": "7a42ec00",
   "metadata": {},
   "outputs": [
    {
     "data": {
      "text/plain": [
       "<matplotlib.legend.Legend at 0x7f55206cb820>"
      ]
     },
     "execution_count": 18,
     "metadata": {},
     "output_type": "execute_result"
    },
    {
     "data": {
      "image/png": "[encoded data removed]",
      "text/plain": [
       "<Figure size 500x500 with 6 Axes>"
      ]
     },
     "metadata": {},
     "output_type": "display_data"
    }
   ],
   "source": [
    "fig, axes = plt.subplots(2, 1, figsize=(5,5), sharex=True, sharey=True)\n",
    "count = 0\n",
    "delta = 0.2\n",
    "for downstream_data, frame_0 in summary.groupby('downstream_data'):\n",
    "    shift = 0\n",
    "    for tag, frame_1 in frame_0.groupby('tag'):\n",
    "        x_tickslab, mean_values, std_values = [], [], []\n",
    "        for (spc, clfname), frame_2 in frame_1.groupby(['samples_per_class', 'clf_name']):\n",
    "            f1_values = frame_2['clf_val_acc'].astype(float)\n",
    "            x_tickslab.append(int(spc))\n",
    "            mean_values.append(f1_values.mean())\n",
    "            std_values.append(f1_values.std())\n",
    "        \n",
    "        indices = np.argsort(x_tickslab)\n",
    "        \n",
    "        mean_values = np.array(mean_values)[indices]\n",
    "        std_values  = np.array(std_values)[indices]\n",
    "        \n",
    "        \n",
    "        axes[count].errorbar(x_tickslab, mean_values,yerr=std_values, marker='.', label=tag, alpha=0.8)\n",
    "        axes[count].set_xticks(x_tickslab)\n",
    "        axes[count].set_xticklabels(x_tickslab, rotation=0)\n",
    "        axes[count].set_ylabel('F1 Score')\n",
    "        \n",
    "        axes[count].yaxis.tick_right()\n",
    "        ax2 = axes[count].twinx()\n",
    "        ax2.set_ylabel(downstream_data)\n",
    "        ax2.set_yticks([])\n",
    "    \n",
    "    count+=1\n",
    "axes[0].legend(bbox_to_anchor=(1., 1.25), ncol=2)"
   ]
  },
  {
   "cell_type": "code",
   "execution_count": null,
   "id": "577e2243",
   "metadata": {},
   "outputs": [],
   "source": []
  },
  {
   "cell_type": "code",
   "execution_count": null,
   "id": "d4061fec",
   "metadata": {},
   "outputs": [],
   "source": []
  },
  {
   "cell_type": "code",
   "execution_count": null,
   "id": "3e029c44",
   "metadata": {},
   "outputs": [],
   "source": []
  },
  {
   "cell_type": "code",
   "execution_count": null,
   "id": "564b93c6",
   "metadata": {},
   "outputs": [],
   "source": []
  },
  {
   "cell_type": "code",
   "execution_count": null,
   "id": "f0008a09",
   "metadata": {},
   "outputs": [],
   "source": []
  },
  {
   "cell_type": "code",
   "execution_count": null,
   "id": "89fee78e",
   "metadata": {},
   "outputs": [],
   "source": []
  },
  {
   "cell_type": "code",
   "execution_count": null,
   "id": "53994d60",
   "metadata": {},
   "outputs": [],
   "source": []
  },
  {
   "cell_type": "code",
   "execution_count": null,
   "id": "5563f27a",
   "metadata": {},
   "outputs": [],
   "source": []
  },
  {
   "cell_type": "code",
   "execution_count": null,
   "id": "d49f26ed",
   "metadata": {},
   "outputs": [],
   "source": []
  }
 ],
 "metadata": {
  "kernelspec": {
   "display_name": "Python 3 (ipykernel)",
   "language": "python",
   "name": "python3"
  },
  "language_info": {
   "codemirror_mode": {
    "name": "ipython",
    "version": 3
   },
   "file_extension": ".py",
   "mimetype": "text/x-python",
   "name": "python",
   "nbconvert_exporter": "python",
   "pygments_lexer": "ipython3",
   "version": "3.8.10"
  }
 },
 "nbformat": 4,
 "nbformat_minor": 5
}
