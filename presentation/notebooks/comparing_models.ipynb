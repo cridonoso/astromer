{
 "cells": [
  {
   "cell_type": "code",
   "execution_count": 1,
   "id": "75778ba6",
   "metadata": {},
   "outputs": [
    {
     "name": "stdout",
     "output_type": "stream",
     "text": [
      "/home\n"
     ]
    }
   ],
   "source": [
    "cd /home"
   ]
  },
  {
   "cell_type": "markdown",
   "id": "328fc05f",
   "metadata": {},
   "source": [
    "# Astromer I vs Astromer II"
   ]
  },
  {
   "cell_type": "code",
   "execution_count": 50,
   "id": "d363632a",
   "metadata": {},
   "outputs": [
    {
     "name": "stdout",
     "output_type": "stream",
     "text": [
      "The autoreload extension is already loaded. To reload it, use:\n",
      "  %reload_ext autoreload\n"
     ]
    }
   ],
   "source": [
    "import matplotlib.pyplot as plt \n",
    "import pandas as pd\n",
    "import numpy as np\n",
    "import os\n",
    "\n",
    "from sklearn.metrics import r2_score, mean_squared_error\n",
    "from presentation.experiments.utils import get_clf_summary\n",
    "from src.utils import get_metrics\n",
    "\n",
    "plt.rcParams.update({\n",
    "    \"text.usetex\": True,\n",
    "    \"font.family\": \"sans-serif\",\n",
    "    \"font.sans-serif\": [\"Helvetica\"]})\n",
    "# for Palatino and other serif fonts use:\n",
    "plt.rcParams.update({\n",
    "    \"text.usetex\": True,\n",
    "    \"font.family\": \"serif\",\n",
    "    \"font.serif\": [\"Palatino\"],\n",
    "})\n",
    "\n",
    "%load_ext autoreload\n",
    "%autoreload 2"
   ]
  },
  {
   "cell_type": "markdown",
   "id": "f996a045",
   "metadata": {},
   "source": [
    "**WARNING**: This notebook was made to visualize classification results only. \n",
    "\n",
    "All the following blocks assume you already ran the script `./presentation/experiments/astromer_{1/2}/script.py`.\n",
    "\n",
    "The directory looks like: \n",
    "- `presentation`\n",
    "    - `astromer_1/results/<experiment_folder>`\n",
    "        - `finetuning`\n",
    "        - `classification`\n",
    "        - `pretraining`\n",
    "    - `astromer_2/results/<experiment_folder>`\n",
    "        - `finetuning`\n",
    "        - `classification`\n",
    "        - `pretraining`"
   ]
  },
  {
   "cell_type": "code",
   "execution_count": 128,
   "id": "3147dbc7",
   "metadata": {},
   "outputs": [],
   "source": [
    "folders = [\n",
    "    './presentation/experiments/astromer_1/results/paper_clean/2023-09-09_20-28-14/',\n",
    "    './presentation/experiments/astromer_2/results/paper/2023-09-10_02-15-21/'\n",
    "]\n",
    "tags = ['Astromer I', 'Astromer II']"
   ]
  },
  {
   "cell_type": "code",
   "execution_count": 129,
   "id": "bf609d15",
   "metadata": {},
   "outputs": [],
   "source": [
    "summary = []\n",
    "for folder, tag in zip(folders, tags):\n",
    "    partial = get_clf_summary(folder, tag)\n",
    "    summary.append(partial)\n",
    "    \n",
    "summary = pd.concat(summary, axis=0)"
   ]
  },
  {
   "cell_type": "code",
   "execution_count": 133,
   "id": "24d713fe",
   "metadata": {},
   "outputs": [
    {
     "data": {
      "text/plain": [
       "Index(['exp_name', 'data', 'checkpoint', 'gpu', 'debug', 'encoder_mode',\n",
       "       'num_layers', 'num_heads', 'head_dim', 'pe_dim', 'pe_base', 'pe_exp',\n",
       "       'mixer', 'dropout', 'avg_layers', 'lr', 'bs', 'patience', 'num_epochs',\n",
       "       'window_size', 'probed', 'rs', 'clf_val_acc', 'clf_val_loss',\n",
       "       'clf_test_precision', 'clf_test_recall', 'clf_test_f1', 'clf_test_acc',\n",
       "       'tag', 'clf_name', 'fold', 'downstream_data', 'samples_per_class',\n",
       "       'nsp_prob', 'rmse_factor'],\n",
       "      dtype='object')"
      ]
     },
     "execution_count": 133,
     "metadata": {},
     "output_type": "execute_result"
    }
   ],
   "source": [
    "summary.columns"
   ]
  },
  {
   "cell_type": "code",
   "execution_count": 134,
   "id": "7a42ec00",
   "metadata": {},
   "outputs": [
    {
     "name": "stdout",
     "output_type": "stream",
     "text": [
      "alcock\n",
      "20\n",
      "3    0.198020\n",
      "4    0.183190\n",
      "5    0.197339\n",
      "Name: clf_val_acc, dtype: float64\n",
      "20\n",
      "3    0.223762\n",
      "4    0.262931\n",
      "5    0.279379\n",
      "Name: clf_val_acc, dtype: float64\n",
      "atlas\n",
      "20\n",
      "0    0.245098\n",
      "1    0.198020\n",
      "2    0.194175\n",
      "Name: clf_val_acc, dtype: float64\n",
      "20\n",
      "0    0.421569\n",
      "1    0.336634\n",
      "2    0.388350\n",
      "Name: clf_val_acc, dtype: float64\n"
     ]
    },
    {
     "data": {
      "image/png": "[encoded data removed]",
      "text/plain": [
       "<Figure size 640x480 with 2 Axes>"
      ]
     },
     "metadata": {},
     "output_type": "display_data"
    }
   ],
   "source": [
    "fig, axes = plt.subplots(2, 1)\n",
    "count = 0\n",
    "shift = 0\n",
    "for downstream_data, frame_0 in summary.groupby('downstream_data'):\n",
    "    print(downstream_data)\n",
    "    for tag, frame_1 in frame_0.groupby('tag'):\n",
    "        x_tickslab, mean_values, std_values = [], [], []\n",
    "        for (spc, clfname), frame_2 in frame_1.groupby(['samples_per_class', 'clf_name']):\n",
    "            print(spc)\n",
    "            f1_values = frame_2['clf_val_acc'].astype(float)\n",
    "            print(f1_values)\n",
    "            x_tickslab.append('{}_{}_{}'.format(downstream_data, spc, clf_name))\n",
    "            mean_values.append(f1_values.mean())\n",
    "            std_values.append(f1_values.std())\n",
    "        \n",
    "        x_range = np.arange(len(mean_values))+shift\n",
    "        axes[count].bar(x_range, mean_values, width=0.2)\n",
    "        axes[count].set_xticks(x_range)\n",
    "        axes[count].set_xticklabels(x_tickslab, rotation=90)\n",
    "    shift+=0.2\n",
    "    count+=1"
   ]
  },
  {
   "cell_type": "code",
   "execution_count": null,
   "id": "577e2243",
   "metadata": {},
   "outputs": [],
   "source": []
  },
  {
   "cell_type": "code",
   "execution_count": 43,
   "id": "d4061fec",
   "metadata": {},
   "outputs": [
    {
     "data": {
      "text/plain": [
       "Index(['exp_name', 'data', 'checkpoint', 'gpu', 'debug', 'encoder_mode',\n",
       "       'num_layers', 'num_heads', 'head_dim', 'pe_dim', 'pe_base', 'pe_exp',\n",
       "       'mixer', 'dropout', 'avg_layers', 'lr', 'bs', 'patience', 'num_epochs',\n",
       "       'window_size', 'probed', 'rs', 'clf_val_acc', 'clf_val_loss',\n",
       "       'clf_test_precision', 'clf_test_recall', 'clf_test_f1', 'clf_test_acc',\n",
       "       'clf_name', 'downstream_data', 'samples_per_class'],\n",
       "      dtype='object')"
      ]
     },
     "execution_count": 43,
     "metadata": {},
     "output_type": "execute_result"
    }
   ],
   "source": [
    "df.columns"
   ]
  },
  {
   "cell_type": "code",
   "execution_count": 44,
   "id": "e41ff5a0",
   "metadata": {},
   "outputs": [],
   "source": [
    "subgroups = df.groupby(['downstream_data', 'samples_per_class'])"
   ]
  },
  {
   "cell_type": "code",
   "execution_count": 46,
   "id": "571248da",
   "metadata": {},
   "outputs": [
    {
     "name": "stdout",
     "output_type": "stream",
     "text": [
      "7      0.05086877000457247\n",
      "9     0.053827333100314574\n",
      "11    0.054773633591367575\n",
      "Name: clf_test_f1, dtype: object\n",
      "6      0.05600448933782267\n",
      "8     0.053714684339030344\n",
      "10    0.046376811594202906\n",
      "Name: clf_test_f1, dtype: object\n",
      "0    0.36860070779541826\n",
      "2    0.36923832859135086\n",
      "4     0.4068101669594008\n",
      "Name: clf_test_f1, dtype: object\n",
      "1    0.35045985893186926\n",
      "3     0.3905066386329509\n",
      "5     0.3513379652324876\n",
      "Name: clf_test_f1, dtype: object\n"
     ]
    }
   ],
   "source": [
    "for k, subframe in subgroups:\n",
    "    print(subframe['clf_test_f1'])"
   ]
  },
  {
   "cell_type": "code",
   "execution_count": null,
   "id": "100d5ca0",
   "metadata": {},
   "outputs": [],
   "source": []
  },
  {
   "cell_type": "code",
   "execution_count": null,
   "id": "10666dc0",
   "metadata": {},
   "outputs": [],
   "source": []
  },
  {
   "cell_type": "code",
   "execution_count": null,
   "id": "a0adef8b",
   "metadata": {},
   "outputs": [],
   "source": []
  },
  {
   "cell_type": "code",
   "execution_count": null,
   "id": "8955f364",
   "metadata": {},
   "outputs": [],
   "source": []
  },
  {
   "cell_type": "code",
   "execution_count": null,
   "id": "026b2195",
   "metadata": {},
   "outputs": [],
   "source": []
  }
 ],
 "metadata": {
  "kernelspec": {
   "display_name": "Python 3 (ipykernel)",
   "language": "python",
   "name": "python3"
  },
  "language_info": {
   "codemirror_mode": {
    "name": "ipython",
    "version": 3
   },
   "file_extension": ".py",
   "mimetype": "text/x-python",
   "name": "python",
   "nbconvert_exporter": "python",
   "pygments_lexer": "ipython3",
   "version": "3.8.10"
  }
 },
 "nbformat": 4,
 "nbformat_minor": 5
}
