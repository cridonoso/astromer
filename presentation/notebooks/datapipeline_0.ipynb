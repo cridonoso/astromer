{
 "cells": [
  {
   "cell_type": "markdown",
   "id": "5f82b6f2",
   "metadata": {},
   "source": [
    "# Creating records \n",
    "## Pipeline 1.0 (no parquet)\n",
    "##### ASTROMER dev team\n",
    "\n",
    "*July 07 2023*"
   ]
  },
  {
   "cell_type": "code",
   "execution_count": 74,
   "id": "135c8403",
   "metadata": {},
   "outputs": [
    {
     "name": "stdout",
     "output_type": "stream",
     "text": [
      "/home\n"
     ]
    }
   ],
   "source": [
    "cd /home"
   ]
  },
  {
   "cell_type": "code",
   "execution_count": 75,
   "id": "8fb0e4e7",
   "metadata": {},
   "outputs": [
    {
     "name": "stdout",
     "output_type": "stream",
     "text": [
      "The autoreload extension is already loaded. To reload it, use:\n",
      "  %reload_ext autoreload\n"
     ]
    }
   ],
   "source": [
    "import pandas as pd\n",
    "import matplotlib.pyplot as plt\n",
    "import numpy as np\n",
    "import os\n",
    "\n",
    "from src.data.old_record import DataPipeline\n",
    "\n",
    "%load_ext autoreload\n",
    "%autoreload 2"
   ]
  },
  {
   "cell_type": "code",
   "execution_count": 76,
   "id": "e9dd79cc",
   "metadata": {},
   "outputs": [],
   "source": [
    "METAPATH    = './data/raw_data/alcock/metadata.csv'\n",
    "OBSPATH     = './data/raw_data/alcock/LCs/'\n",
    "config_path = './data/raw_data/alcock/config_old.toml'"
   ]
  },
  {
   "cell_type": "code",
   "execution_count": 77,
   "id": "1ff57534",
   "metadata": {},
   "outputs": [],
   "source": [
    "metadata = pd.read_csv(METAPATH)"
   ]
  },
  {
   "cell_type": "code",
   "execution_count": 78,
   "id": "8dfb7065",
   "metadata": {},
   "outputs": [],
   "source": [
    "metadata['Class'] = pd.Categorical(metadata['Class'])\n",
    "metadata['Label'] = metadata['Class'].cat.codes\n",
    "metadata['Path'] = metadata['Path'].apply(lambda x: os.path.join(OBSPATH, x)) "
   ]
  },
  {
   "cell_type": "code",
   "execution_count": 79,
   "id": "234d8678",
   "metadata": {},
   "outputs": [
    {
     "data": {
      "text/html": [
       "<div>\n",
       "<style scoped>\n",
       "    .dataframe tbody tr th:only-of-type {\n",
       "        vertical-align: middle;\n",
       "    }\n",
       "\n",
       "    .dataframe tbody tr th {\n",
       "        vertical-align: top;\n",
       "    }\n",
       "\n",
       "    .dataframe thead th {\n",
       "        text-align: right;\n",
       "    }\n",
       "</style>\n",
       "<table border=\"1\" class=\"dataframe\">\n",
       "  <thead>\n",
       "    <tr style=\"text-align: right;\">\n",
       "      <th></th>\n",
       "      <th>ID</th>\n",
       "      <th>Class</th>\n",
       "      <th>Path</th>\n",
       "      <th>Band</th>\n",
       "      <th>Label</th>\n",
       "    </tr>\n",
       "  </thead>\n",
       "  <tbody>\n",
       "    <tr>\n",
       "      <th>6992</th>\n",
       "      <td>2.5267.449</td>\n",
       "      <td>RRab</td>\n",
       "      <td>./data/raw_data/alcock/LCs/2.5267.449.dat</td>\n",
       "      <td>1.0</td>\n",
       "      <td>4</td>\n",
       "    </tr>\n",
       "  </tbody>\n",
       "</table>\n",
       "</div>"
      ],
      "text/plain": [
       "              ID Class                                       Path  Band  Label\n",
       "6992  2.5267.449  RRab  ./data/raw_data/alcock/LCs/2.5267.449.dat   1.0      4"
      ]
     },
     "execution_count": 79,
     "metadata": {},
     "output_type": "execute_result"
    }
   ],
   "source": [
    "metadata.sample()"
   ]
  },
  {
   "cell_type": "markdown",
   "id": "d039028e",
   "metadata": {},
   "source": [
    "### Using DataPipeline class"
   ]
  },
  {
   "cell_type": "code",
   "execution_count": 25,
   "id": "1a39da5d",
   "metadata": {},
   "outputs": [
    {
     "name": "stdout",
     "output_type": "stream",
     "text": [
      "[INFO] 21444 samples loaded\n"
     ]
    }
   ],
   "source": [
    "# Create an instance of DataPipeline\n",
    "pipeline = DataPipeline(metadata=metadata,\n",
    "                        config_path=config_path)"
   ]
  },
  {
   "cell_type": "code",
   "execution_count": 26,
   "id": "e4df0757",
   "metadata": {},
   "outputs": [
    {
     "data": {
      "text/plain": [
       "['float', 'float', 'float']"
      ]
     },
     "execution_count": 26,
     "metadata": {},
     "output_type": "execute_result"
    }
   ],
   "source": [
    "pipeline.sequential_features_dtype"
   ]
  },
  {
   "cell_type": "markdown",
   "id": "064aad8b",
   "metadata": {},
   "source": [
    "To create training, validation, and testing splits we need to use the `train_val_test` method \n",
    "```\n",
    "train_val_test(val_frac=0.2,\n",
    "               test_frac=0.2,\n",
    "               test_meta=None,\n",
    "               val_meta=None,\n",
    "               shuffle=True,\n",
    "               id_column_name=None,\n",
    "               k_fold=1)\n",
    "``` \n",
    "where `val_frac` and `test_frac` are percentages containing the fraction of the metadata to be used as validation and testing subset respectively. \n",
    "\n",
    "Additionally, you can use `val_meta` and `test_meta` to use a preselected subset. **Notice that if you employ your own test/val subset, you should match one of the identifier columns of the main DataFrame** (by default it will assume the first column of the dataset is the identifier). \n",
    "\n",
    "Both `test_meta` and `val_meta` must be list of `DataFrames`\n",
    "\n",
    "For cross-validation purposes, we can also sample different folds from the same dataset by using the `train_val_test(..., k_fold=1)` parameter.\n",
    "\n",
    "If $k>1$ and **you want to use a predefined test/val selection**, you should pass a list of `DataFrame`s associated with each `test_meta`/`val_meta` fold as appropriate.\n",
    "\n",
    "Don't worry about removing duplicated indices, the `train_val_test` method will do it for you."
   ]
  },
  {
   "cell_type": "code",
   "execution_count": 27,
   "id": "918c742c",
   "metadata": {},
   "outputs": [],
   "source": [
    "test_metadata = metadata.sample(n=100)"
   ]
  },
  {
   "cell_type": "code",
   "execution_count": 28,
   "id": "f193ff7d",
   "metadata": {},
   "outputs": [
    {
     "name": "stdout",
     "output_type": "stream",
     "text": [
      "[INFO] Using ID col as sample identifier\n",
      "[INFO] Shuffling\n",
      "[INFO] Shuffling\n",
      "[INFO] Shuffling\n"
     ]
    }
   ],
   "source": [
    "k_folds = 3\n",
    "pipeline.train_val_test(val_frac=0.2, \n",
    "                        test_meta=[test_metadata]*k_folds, \n",
    "                        k_fold=k_folds)"
   ]
  },
  {
   "cell_type": "code",
   "execution_count": 29,
   "id": "013795b9",
   "metadata": {},
   "outputs": [
    {
     "name": "stdout",
     "output_type": "stream",
     "text": [
      "Do 3-folds partitions have the same elements:  False\n",
      "Do 3-folds partitions have the same elements:  False\n"
     ]
    }
   ],
   "source": [
    "a = pipeline.metadata['subset_0']\n",
    "for k in range(k_folds):\n",
    "    if k == 0: continue\n",
    "    b = pipeline.metadata[f'subset_{k}']\n",
    "    c = np.array_equal(a[a != 'test'].values, b[b!= 'test'].values)\n",
    "    a = b\n",
    "    print('Do {}-folds partitions have the same elements: '.format(k_folds), c)"
   ]
  },
  {
   "cell_type": "markdown",
   "id": "a9bcf6f3",
   "metadata": {},
   "source": [
    "Now our metadata will contain an extra-column `subset` for the corresponding subset"
   ]
  },
  {
   "cell_type": "code",
   "execution_count": 41,
   "id": "23f631c3",
   "metadata": {},
   "outputs": [
    {
     "data": {
      "text/html": [
       "<div>\n",
       "<style scoped>\n",
       "    .dataframe tbody tr th:only-of-type {\n",
       "        vertical-align: middle;\n",
       "    }\n",
       "\n",
       "    .dataframe tbody tr th {\n",
       "        vertical-align: top;\n",
       "    }\n",
       "\n",
       "    .dataframe thead th {\n",
       "        text-align: right;\n",
       "    }\n",
       "</style>\n",
       "<table border=\"1\" class=\"dataframe\">\n",
       "  <thead>\n",
       "    <tr style=\"text-align: right;\">\n",
       "      <th></th>\n",
       "      <th>ID</th>\n",
       "      <th>Class</th>\n",
       "      <th>Path</th>\n",
       "      <th>Band</th>\n",
       "      <th>Label</th>\n",
       "      <th>subset_0</th>\n",
       "      <th>subset_1</th>\n",
       "      <th>subset_2</th>\n",
       "    </tr>\n",
       "  </thead>\n",
       "  <tbody>\n",
       "    <tr>\n",
       "      <th>5168</th>\n",
       "      <td>17.3069.219</td>\n",
       "      <td>UNK</td>\n",
       "      <td>./data/raw_data/alcock/LCs/17.3069.219.dat</td>\n",
       "      <td>1.0</td>\n",
       "      <td>6</td>\n",
       "      <td>validation</td>\n",
       "      <td>train</td>\n",
       "      <td>train</td>\n",
       "    </tr>\n",
       "    <tr>\n",
       "      <th>2359</th>\n",
       "      <td>12.10196.725</td>\n",
       "      <td>RRc</td>\n",
       "      <td>./data/raw_data/alcock/LCs/12.10196.725.dat</td>\n",
       "      <td>1.0</td>\n",
       "      <td>5</td>\n",
       "      <td>validation</td>\n",
       "      <td>train</td>\n",
       "      <td>train</td>\n",
       "    </tr>\n",
       "    <tr>\n",
       "      <th>16809</th>\n",
       "      <td>79.4775.1810</td>\n",
       "      <td>UNK</td>\n",
       "      <td>./data/raw_data/alcock/LCs/79.4775.1810.dat</td>\n",
       "      <td>1.0</td>\n",
       "      <td>6</td>\n",
       "      <td>train</td>\n",
       "      <td>train</td>\n",
       "      <td>train</td>\n",
       "    </tr>\n",
       "  </tbody>\n",
       "</table>\n",
       "</div>"
      ],
      "text/plain": [
       "                 ID Class  ... subset_1  subset_2\n",
       "5168    17.3069.219   UNK  ...    train     train\n",
       "2359   12.10196.725   RRc  ...    train     train\n",
       "16809  79.4775.1810   UNK  ...    train     train\n",
       "\n",
       "[3 rows x 8 columns]"
      ]
     },
     "execution_count": 41,
     "metadata": {},
     "output_type": "execute_result"
    }
   ],
   "source": [
    "pipeline.metadata.sample(3)"
   ]
  },
  {
   "cell_type": "code",
   "execution_count": 47,
   "id": "8e6e88a1",
   "metadata": {},
   "outputs": [
    {
     "name": "stdout",
     "output_type": "stream",
     "text": [
      "(17075, 8) (4269, 8) (100, 8)\n",
      "test in train?:  False \n",
      " val in train?:  False \n",
      " val in test?:  False\n",
      "(17075, 8) (4269, 8) (100, 8)\n",
      "test in train?:  False \n",
      " val in train?:  False \n",
      " val in test?:  False\n",
      "(17075, 8) (4269, 8) (100, 8)\n",
      "test in train?:  False \n",
      " val in train?:  False \n",
      " val in test?:  False\n"
     ]
    }
   ],
   "source": [
    "for k in range(k_folds):\n",
    "    train_subset = pipeline.metadata[pipeline.metadata[f'subset_{k}'] == 'train']\n",
    "    val_subset   = pipeline.metadata[pipeline.metadata[f'subset_{k}'] == 'validation']\n",
    "    test_subset  = pipeline.metadata[pipeline.metadata[f'subset_{k}'] == 'test']\n",
    "\n",
    "    print(train_subset.shape, val_subset.shape, test_subset.shape)\n",
    "\n",
    "    print('test in train?: ', test_subset['ID'].isin(train_subset['ID']).all(),'\\n',\n",
    "          'val in train?: ', val_subset['ID'].isin(train_subset['ID']).all(),'\\n',\n",
    "          'val in test?: ', val_subset['ID'].isin(test_subset['ID']).all())"
   ]
  },
  {
   "cell_type": "markdown",
   "id": "92e25b1f",
   "metadata": {},
   "source": [
    "Notice if you want to redo, you must initialize the object `DataPipeline` again"
   ]
  },
  {
   "cell_type": "markdown",
   "id": "3377c4fe",
   "metadata": {},
   "source": [
    "Now it is **time to the pipeline**"
   ]
  },
  {
   "cell_type": "code",
   "execution_count": 48,
   "id": "539e35af",
   "metadata": {},
   "outputs": [
    {
     "data": {
      "text/plain": [
       "(['ID', 'Label', 'Class', 'Band'], ['string', 'integer', 'string', 'integer'])"
      ]
     },
     "execution_count": 48,
     "metadata": {},
     "output_type": "execute_result"
    }
   ],
   "source": [
    "pipeline.context_features, pipeline.context_features_dtype"
   ]
  },
  {
   "cell_type": "code",
   "execution_count": 49,
   "id": "923c9a2e",
   "metadata": {
    "scrolled": true
   },
   "outputs": [
    {
     "name": "stderr",
     "output_type": "stream",
     "text": [
      "Writting test fold 2:   0%|\u001b[38;2;0;255;0m                                           \u001b[0m| 0/3 [01:37<?, ?it/s]\u001b[0m"
     ]
    },
    {
     "name": "stdout",
     "output_type": "stream",
     "text": [
      "CPU times: user 1min 22s, sys: 5.89 s, total: 1min 28s\n",
      "Wall time: 1min 37s\n"
     ]
    },
    {
     "name": "stderr",
     "output_type": "stream",
     "text": [
      "\n"
     ]
    }
   ],
   "source": [
    "%%time\n",
    "var = pipeline.run(n_jobs=8)"
   ]
  },
  {
   "cell_type": "markdown",
   "id": "671b92d9",
   "metadata": {},
   "source": [
    "### Customize what happens within the preprocess function"
   ]
  },
  {
   "cell_type": "markdown",
   "id": "5a1231e7",
   "metadata": {},
   "source": [
    "You must keep the same parameters of the method i.e., `row, context_features, sequential_features`. \n",
    "\n",
    "Also the **output** should be tuple containing the lightcurve (`pd.DataFrame`) and the context values row(`pd.Series`)\n",
    "\n",
    "\n",
    "To modify the `process_sample` method we need to create a new class (`MyPipeline`) that inherits from `DataPipeline` "
   ]
  },
  {
   "cell_type": "code",
   "execution_count": 86,
   "id": "f73c94b2",
   "metadata": {},
   "outputs": [],
   "source": [
    "class MyPipeline(DataPipeline):\n",
    "    @staticmethod\n",
    "    def process_sample(row, context_features, sequential_features):\n",
    "        observations = pd.read_csv(row['Path'])\n",
    "        observations.columns = ['mjd', 'mag', 'errmag']\n",
    "        observations = observations.dropna()\n",
    "        observations.sort_values('mjd', ascending=False)\n",
    "        observations[observations['errmag'] < -2]\n",
    "        \n",
    "        return observations, row"
   ]
  },
  {
   "cell_type": "markdown",
   "id": "4534f698",
   "metadata": {},
   "source": [
    "Next steps are the same as using the original `DataPipeline` class"
   ]
  },
  {
   "cell_type": "code",
   "execution_count": 87,
   "id": "b3fb0e0c",
   "metadata": {},
   "outputs": [
    {
     "name": "stdout",
     "output_type": "stream",
     "text": [
      "[INFO] 21444 samples loaded\n"
     ]
    }
   ],
   "source": [
    "custom_pipeline = MyPipeline(metadata=metadata,\n",
    "                             config_path=config_path)"
   ]
  },
  {
   "cell_type": "code",
   "execution_count": 88,
   "id": "859de195",
   "metadata": {},
   "outputs": [
    {
     "name": "stdout",
     "output_type": "stream",
     "text": [
      "[INFO] Using ID col as sample identifier\n",
      "[INFO] Shuffling\n",
      "[INFO] Shuffling\n",
      "[INFO] Shuffling\n"
     ]
    }
   ],
   "source": [
    "test_metadata = metadata.sample(n=100)\n",
    "k_folds = 3\n",
    "custom_pipeline.train_val_test(val_frac=0.2, \n",
    "                               test_meta=[test_metadata]*k_folds, \n",
    "                               k_fold=k_folds)"
   ]
  },
  {
   "cell_type": "code",
   "execution_count": 97,
   "id": "817b9322",
   "metadata": {},
   "outputs": [
    {
     "name": "stderr",
     "output_type": "stream",
     "text": [
      "\n",
      "  0%|\u001b[38;2;0;255;0m                                                                 \u001b[0m| 0/3 [00:00<?, ?it/s]\u001b[0m\u001b[A\n",
      "Processing validation subset_0:   0%|\u001b[38;2;0;255;0m                                 \u001b[0m| 0/3 [00:00<?, ?it/s]\u001b[0m\u001b[A\n",
      "Writting validation fold 0:   0%|\u001b[38;2;0;255;0m                                     \u001b[0m| 0/3 [00:03<?, ?it/s]\u001b[0m\u001b[A\n",
      "Processing train subset_0:   0%|\u001b[38;2;0;255;0m                                      \u001b[0m| 0/3 [00:07<?, ?it/s]\u001b[0m\u001b[A\n",
      "Writting train fold 0:   0%|\u001b[38;2;0;255;0m                                          \u001b[0m| 0/3 [00:19<?, ?it/s]\u001b[0m\u001b[A\n",
      "Processing test subset_0:   0%|\u001b[38;2;0;255;0m                                       \u001b[0m| 0/3 [00:32<?, ?it/s]\u001b[0m\u001b[A\n",
      "Writting test fold 0:   0%|\u001b[38;2;0;255;0m                                           \u001b[0m| 0/3 [00:34<?, ?it/s]\u001b[0m\u001b[A\n",
      "Processing train subset_1:   0%|\u001b[38;2;0;255;0m                                      \u001b[0m| 0/3 [00:35<?, ?it/s]\u001b[0m\u001b[A\n",
      "Writting train fold 1:   0%|\u001b[38;2;0;255;0m                                          \u001b[0m| 0/3 [00:48<?, ?it/s]\u001b[0m\u001b[A\n",
      "Processing validation subset_1:   0%|\u001b[38;2;0;255;0m                                 \u001b[0m| 0/3 [01:00<?, ?it/s]\u001b[0m\u001b[A\n",
      "Writting validation fold 1:   0%|\u001b[38;2;0;255;0m                                     \u001b[0m| 0/3 [01:04<?, ?it/s]\u001b[0m\u001b[A\n",
      "Processing test subset_1:   0%|\u001b[38;2;0;255;0m                                       \u001b[0m| 0/3 [01:07<?, ?it/s]\u001b[0m\u001b[A\n",
      "Writting test fold 1:   0%|\u001b[38;2;0;255;0m                                           \u001b[0m| 0/3 [01:08<?, ?it/s]\u001b[0m\u001b[A\n",
      "Processing train subset_2:   0%|\u001b[38;2;0;255;0m                                      \u001b[0m| 0/3 [01:08<?, ?it/s]\u001b[0m\u001b[A\n",
      "Writting train fold 2:   0%|\u001b[38;2;0;255;0m                                          \u001b[0m| 0/3 [01:20<?, ?it/s]\u001b[0m\u001b[A\n",
      "Processing validation subset_2:   0%|\u001b[38;2;0;255;0m                                 \u001b[0m| 0/3 [01:33<?, ?it/s]\u001b[0m\u001b[A\n",
      "Writting validation fold 2:   0%|\u001b[38;2;0;255;0m                                     \u001b[0m| 0/3 [01:37<?, ?it/s]\u001b[0m\u001b[A\n",
      "Processing test subset_2:   0%|\u001b[38;2;0;255;0m                                       \u001b[0m| 0/3 [01:39<?, ?it/s]\u001b[0m\u001b[A\n",
      "Writting test fold 2:   0%|\u001b[38;2;0;255;0m                                           \u001b[0m| 0/3 [01:41<?, ?it/s]\u001b[0m\u001b[A"
     ]
    },
    {
     "name": "stdout",
     "output_type": "stream",
     "text": [
      "CPU times: user 1min 28s, sys: 7.36 s, total: 1min 35s\n",
      "Wall time: 1min 41s\n"
     ]
    },
    {
     "name": "stderr",
     "output_type": "stream",
     "text": [
      "\n"
     ]
    }
   ],
   "source": [
    "%%time\n",
    "var = custom_pipeline.run(n_jobs=8)"
   ]
  },
  {
   "cell_type": "markdown",
   "id": "d2ef30a7",
   "metadata": {},
   "source": [
    "# Reading"
   ]
  },
  {
   "cell_type": "code",
   "execution_count": 98,
   "id": "18cb81f5",
   "metadata": {},
   "outputs": [
    {
     "name": "stdout",
     "output_type": "stream",
     "text": [
      "The autoreload extension is already loaded. To reload it, use:\n",
      "  %reload_ext autoreload\n"
     ]
    }
   ],
   "source": [
    "import tensorflow as tf\n",
    "from src.data.record import deserialize\n",
    "import glob\n",
    "\n",
    "%load_ext autoreload\n",
    "%autoreload 2"
   ]
  },
  {
   "cell_type": "code",
   "execution_count": 99,
   "id": "622f6480",
   "metadata": {},
   "outputs": [],
   "source": [
    "root = './data/records/alcock_2/fold_0/train/'\n",
    "record_files = glob.glob(os.path.join(root, '*.record'))\n",
    "\n",
    "raw_dataset = tf.data.TFRecordDataset(record_files)\n",
    "raw_dataset = raw_dataset.map(lambda x: deserialize(x, root))"
   ]
  },
  {
   "cell_type": "code",
   "execution_count": 100,
   "id": "76646211",
   "metadata": {},
   "outputs": [
    {
     "data": {
      "image/png": "[encoded data removed]",
      "text/plain": [
       "<Figure size 640x480 with 1 Axes>"
      ]
     },
     "metadata": {},
     "output_type": "display_data"
    }
   ],
   "source": [
    "for x in raw_dataset.take(1):\n",
    "    plt.plot(x['input'][0, ..., 0], x['input'][0, ..., 1])"
   ]
  },
  {
   "cell_type": "code",
   "execution_count": null,
   "id": "1f201252",
   "metadata": {},
   "outputs": [],
   "source": []
  },
  {
   "cell_type": "code",
   "execution_count": null,
   "id": "3772cd46",
   "metadata": {},
   "outputs": [],
   "source": []
  }
 ],
 "metadata": {
  "kernelspec": {
   "display_name": "Python 3 (ipykernel)",
   "language": "python",
   "name": "python3"
  },
  "language_info": {
   "codemirror_mode": {
    "name": "ipython",
    "version": 3
   },
   "file_extension": ".py",
   "mimetype": "text/x-python",
   "name": "python",
   "nbconvert_exporter": "python",
   "pygments_lexer": "ipython3",
   "version": "3.8.10"
  }
 },
 "nbformat": 4,
 "nbformat_minor": 5
}
