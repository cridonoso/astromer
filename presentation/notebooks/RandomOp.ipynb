{
 "cells": [
  {
   "cell_type": "code",
   "execution_count": null,
   "metadata": {},
   "outputs": [],
   "source": []
  },
  {
   "cell_type": "code",
   "execution_count": 1,
   "metadata": {},
   "outputs": [],
   "source": [
    "import h5py\n",
    "import numpy as np\n",
    "import tensorflow as tf\n",
    "import os\n",
    "from tensorflow.keras.layers import BatchNormalization, Dense, LSTM, LayerNormalization, Normalization"
   ]
  },
  {
   "cell_type": "code",
   "execution_count": 2,
   "metadata": {},
   "outputs": [],
   "source": [
    "def load_embeddings(source):\n",
    "    file = open(source, 'rb')\n",
    "    hf = h5py.File(file)\n",
    "    att = hf['att'][()]\n",
    "    x = hf['x'][()]\n",
    "    t = hf['t'][()]\n",
    "    y = hf['y'][()]\n",
    "    l = hf['id'][()]\n",
    "    m = hf['m'][()]\n",
    "    return att, y, l, m, x, t"
   ]
  },
  {
   "cell_type": "code",
   "execution_count": null,
   "metadata": {},
   "outputs": [],
   "source": []
  },
  {
   "cell_type": "code",
   "execution_count": 6,
   "metadata": {},
   "outputs": [
    {
     "name": "stdout",
     "output_type": "stream",
     "text": [
      "CPU times: user 39.8 ms, sys: 280 ms, total: 320 ms\n",
      "Wall time: 346 ms\n"
     ]
    }
   ],
   "source": [
    "%%time\n",
    "for fold_n in range(1):\n",
    "    for dataset in ['alcock_50']:\n",
    "        folder = '../../encoded/{}/fold_0'.format(dataset, fold_n)\n",
    "        os.makedirs(folder, exist_ok=True)\n",
    "\n",
    "        att_0, y_0, i_0, m_0, x_0, t_0 = load_embeddings('../../embeddings/{}/train.h5'.format(dataset))\n",
    "        att_1, y_1, i_1, m_1, x_1, t_1 = load_embeddings('../../embeddings/{}/val.h5'.format(dataset))\n",
    "        att_2, y_2, i_2, m_2, x_2, t_2 = load_embeddings('../../embeddings/{}/test.h5'.format(dataset))\n",
    "\n",
    "        att = np.concatenate([att_0, att_1, att_2])\n",
    "        y = np.concatenate([y_0, y_1, y_2])\n",
    "        i = np.concatenate([i_0, i_1, i_2])\n",
    "        m = np.concatenate([m_0, m_1, m_2])\n",
    "        x = np.concatenate([x_0, x_1, x_2])\n",
    "        t = np.concatenate([t_0, t_1, t_2])\n",
    "\n",
    "        indices = np.arange(len(att))\n",
    "        np.random.shuffle(indices)\n",
    "        n_test = int(len(att)*0.2)\n",
    "\n",
    "        att_test = att[indices[:n_test]]\n",
    "        y_test   = y[indices[:n_test]]\n",
    "        i_test   = i[indices[:n_test]]\n",
    "        m_test   = m[indices[:n_test]]\n",
    "        x_test   = x[indices[:n_test]]\n",
    "        t_test   = t[indices[:n_test]]\n",
    "\n",
    "        att_val = att[indices[n_test:2*n_test]]\n",
    "        y_val   = y[indices[n_test:2*n_test]]\n",
    "        i_val   = i[indices[n_test:2*n_test]]\n",
    "        m_val   = m[indices[n_test:2*n_test]]\n",
    "        x_val   = x[indices[n_test:2*n_test]]\n",
    "        t_val   = t[indices[n_test:2*n_test]]\n",
    "\n",
    "        att_train = att[indices[2*n_test:]]\n",
    "        y_train   = y[indices[2*n_test:]]\n",
    "        i_train   = i[indices[2*n_test:]]\n",
    "        m_train   = m[indices[2*n_test:]]\n",
    "        x_train   = x[indices[2*n_test:]]\n",
    "        t_train   = t[indices[2*n_test:]]\n",
    "\n",
    "        with h5py.File('{}/train.h5'.format(folder), 'w') as hf:\n",
    "            hf.create_dataset('att', data=att_train)\n",
    "            hf.create_dataset('x', data=x_train)\n",
    "            hf.create_dataset('t', data=t_train)\n",
    "            hf.create_dataset('y', data=y_train)\n",
    "            hf.create_dataset('id', data=i_train.astype('S'))\n",
    "            hf.create_dataset('m', data=m_train)\n",
    "\n",
    "        with h5py.File('{}/val.h5'.format(folder), 'w') as hf:\n",
    "            hf.create_dataset('att', data=att_val)\n",
    "            hf.create_dataset('x', data=x_val)\n",
    "            hf.create_dataset('t', data=t_val)\n",
    "            hf.create_dataset('y', data=y_val)\n",
    "            hf.create_dataset('id', data=i_val.astype('S'))\n",
    "            hf.create_dataset('m', data=m_val)\n",
    "\n",
    "        with h5py.File('{}/test.h5'.format(folder), 'w') as hf:\n",
    "            hf.create_dataset('att', data=att_test)\n",
    "            hf.create_dataset('x', data=x_test)\n",
    "            hf.create_dataset('t', data=t_test)\n",
    "            hf.create_dataset('y', data=y_test)\n",
    "            hf.create_dataset('id', data=i_test.astype('S'))\n",
    "            hf.create_dataset('m', data=m_test)"
   ]
  },
  {
   "cell_type": "code",
   "execution_count": null,
   "metadata": {},
   "outputs": [],
   "source": []
  },
  {
   "cell_type": "code",
   "execution_count": null,
   "metadata": {},
   "outputs": [],
   "source": []
  },
  {
   "cell_type": "code",
   "execution_count": 5,
   "metadata": {},
   "outputs": [],
   "source": []
  },
  {
   "cell_type": "code",
   "execution_count": 6,
   "metadata": {},
   "outputs": [],
   "source": []
  },
  {
   "cell_type": "code",
   "execution_count": null,
   "metadata": {},
   "outputs": [],
   "source": []
  },
  {
   "cell_type": "code",
   "execution_count": 27,
   "metadata": {},
   "outputs": [],
   "source": []
  },
  {
   "cell_type": "code",
   "execution_count": 28,
   "metadata": {},
   "outputs": [],
   "source": []
  },
  {
   "cell_type": "code",
   "execution_count": 29,
   "metadata": {},
   "outputs": [],
   "source": []
  },
  {
   "cell_type": "code",
   "execution_count": 30,
   "metadata": {},
   "outputs": [],
   "source": []
  },
  {
   "cell_type": "code",
   "execution_count": 31,
   "metadata": {},
   "outputs": [],
   "source": []
  },
  {
   "cell_type": "code",
   "execution_count": 32,
   "metadata": {},
   "outputs": [],
   "source": []
  },
  {
   "cell_type": "code",
   "execution_count": 33,
   "metadata": {},
   "outputs": [],
   "source": []
  },
  {
   "cell_type": "code",
   "execution_count": 34,
   "metadata": {},
   "outputs": [],
   "source": []
  },
  {
   "cell_type": "code",
   "execution_count": null,
   "metadata": {},
   "outputs": [],
   "source": []
  },
  {
   "cell_type": "code",
   "execution_count": null,
   "metadata": {},
   "outputs": [],
   "source": []
  }
 ],
 "metadata": {
  "kernelspec": {
   "display_name": "Python 3 (ipykernel)",
   "language": "python",
   "name": "python3"
  },
  "language_info": {
   "codemirror_mode": {
    "name": "ipython",
    "version": 3
   },
   "file_extension": ".py",
   "mimetype": "text/x-python",
   "name": "python",
   "nbconvert_exporter": "python",
   "pygments_lexer": "ipython3",
   "version": "3.8.0"
  }
 },
 "nbformat": 4,
 "nbformat_minor": 2
}
