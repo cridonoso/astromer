{
 "cells": [
  {
   "cell_type": "code",
   "execution_count": 3,
   "metadata": {},
   "outputs": [
    {
     "name": "stdout",
     "output_type": "stream",
     "text": [
      "/tf/astromer\n"
     ]
    }
   ],
   "source": [
    "cd /tf/astromer"
   ]
  },
  {
   "cell_type": "code",
   "execution_count": 4,
   "metadata": {},
   "outputs": [
    {
     "name": "stdout",
     "output_type": "stream",
     "text": [
      "The autoreload extension is already loaded. To reload it, use:\n",
      "  %reload_ext autoreload\n"
     ]
    }
   ],
   "source": [
    "import tensorflow as tf\n",
    "import pandas as pd\n",
    "import json\n",
    "import os\n",
    "\n",
    "import matplotlib.pyplot as plt\n",
    "\n",
    "%load_ext autoreload\n",
    "%autoreload 2"
   ]
  },
  {
   "cell_type": "code",
   "execution_count": 6,
   "metadata": {},
   "outputs": [],
   "source": [
    "from core.data  import from_generator\n",
    "test_batches = from_generator(50, 100, 16)"
   ]
  },
  {
   "cell_type": "code",
   "execution_count": 15,
   "metadata": {},
   "outputs": [
    {
     "name": "stdout",
     "output_type": "stream",
     "text": [
      "(16, 50, 1)\n",
      "(16, 1, 50, 50)\n"
     ]
    }
   ],
   "source": [
    "for batch in test_batches:\n",
    "    \n",
    "    print(batch['mask_in'].shape)\n",
    "    steps = tf.shape(batch['mask_in'])[1]\n",
    "    mask_rshp = tf.tile(batch['mask_in'], [1,1,steps])\n",
    "    mask_rshp += tf.transpose(mask_rshp, [0,2,1])\n",
    "    mask_rshp = tf.minimum(1, mask_rshp)\n",
    "    mask_rshp = tf.expand_dims(mask_rshp, 1)\n",
    "    print(mask_rshp.shape)\n",
    "    break"
   ]
  },
  {
   "cell_type": "code",
   "execution_count": null,
   "metadata": {},
   "outputs": [],
   "source": []
  }
 ],
 "metadata": {
  "kernelspec": {
   "display_name": "Python 3",
   "language": "python",
   "name": "python3"
  },
  "language_info": {
   "codemirror_mode": {
    "name": "ipython",
    "version": 3
   },
   "file_extension": ".py",
   "mimetype": "text/x-python",
   "name": "python",
   "nbconvert_exporter": "python",
   "pygments_lexer": "ipython3",
   "version": "3.6.9"
  }
 },
 "nbformat": 4,
 "nbformat_minor": 2
}
