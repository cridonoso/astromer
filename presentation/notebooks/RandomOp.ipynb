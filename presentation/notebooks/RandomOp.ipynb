{
 "cells": [
  {
   "cell_type": "code",
   "execution_count": 1,
   "metadata": {},
   "outputs": [
    {
     "name": "stdout",
     "output_type": "stream",
     "text": [
      "/tf/astromer\n"
     ]
    }
   ],
   "source": [
    "cd /tf/astromer"
   ]
  },
  {
   "cell_type": "code",
   "execution_count": 2,
   "metadata": {},
   "outputs": [],
   "source": [
    "import h5py\n",
    "import numpy as np\n",
    "import tensorflow as tf\n",
    "\n",
    "from tensorflow.keras.layers import BatchNormalization, Dense, LSTM, LayerNormalization"
   ]
  },
  {
   "cell_type": "code",
   "execution_count": 3,
   "metadata": {},
   "outputs": [],
   "source": [
    "file = open('./alcock_emb/train_emb_1.h5', 'rb')\n",
    "hf = h5py.File(file)\n",
    "x_train_time = hf['x'][()]\n",
    "y_train = hf['y'][()]\n",
    "l_train = hf['l'][()]\n",
    "m_train = 1. - hf['m'][()]"
   ]
  },
  {
   "cell_type": "code",
   "execution_count": 4,
   "metadata": {},
   "outputs": [],
   "source": [
    "x_train = np.sum(x_train_time*m_train, 1)/l_train[:,None]"
   ]
  },
  {
   "cell_type": "code",
   "execution_count": 5,
   "metadata": {},
   "outputs": [],
   "source": [
    "file = open('./alcock_emb/train_emb_2.h5', 'rb')\n",
    "hf = h5py.File(file)\n",
    "x_train_time_2 = hf['x'][()]\n",
    "y_train_2 = hf['y'][()]\n",
    "l_train_2 = hf['l'][()]\n",
    "m_train_2 = 1. - hf['m'][()]"
   ]
  },
  {
   "cell_type": "code",
   "execution_count": 6,
   "metadata": {},
   "outputs": [],
   "source": [
    "x_train_2 = np.sum(x_train_time_2*m_train_2, 1)/l_train_2[:,None]"
   ]
  },
  {
   "cell_type": "code",
   "execution_count": null,
   "metadata": {},
   "outputs": [],
   "source": []
  },
  {
   "cell_type": "code",
   "execution_count": 7,
   "metadata": {},
   "outputs": [
    {
     "data": {
      "text/plain": [
       "6"
      ]
     },
     "execution_count": 7,
     "metadata": {},
     "output_type": "execute_result"
    }
   ],
   "source": [
    "n_classes = len(np.unique(y_train))\n",
    "n_classes"
   ]
  },
  {
   "cell_type": "code",
   "execution_count": 8,
   "metadata": {},
   "outputs": [
    {
     "data": {
      "text/plain": [
       "(200000, 256)"
      ]
     },
     "execution_count": 8,
     "metadata": {},
     "output_type": "execute_result"
    }
   ],
   "source": [
    "x_train_1 = np.concatenate([x_train, x_train_2])\n",
    "y_train_1 = np.concatenate([y_train, y_train_2])\n",
    "\n",
    "x_train_1.shape"
   ]
  },
  {
   "cell_type": "code",
   "execution_count": 34,
   "metadata": {},
   "outputs": [],
   "source": []
  },
  {
   "cell_type": "code",
   "execution_count": 106,
   "metadata": {},
   "outputs": [],
   "source": [
    "indices = np.random.randint(x_train_1.shape[0], size=3750)\n",
    "x_train_1_reduced = x_train_1[indices]\n",
    "y_train_1_reduced = y_train_1[indices]"
   ]
  },
  {
   "cell_type": "code",
   "execution_count": 107,
   "metadata": {},
   "outputs": [],
   "source": [
    "y_train_oneot = tf.one_hot(y_train_1_reduced, n_classes)"
   ]
  },
  {
   "cell_type": "code",
   "execution_count": 108,
   "metadata": {},
   "outputs": [
    {
     "data": {
      "text/plain": [
       "TensorShape([3750, 6])"
      ]
     },
     "execution_count": 108,
     "metadata": {},
     "output_type": "execute_result"
    }
   ],
   "source": [
    "y_train_oneot.shape"
   ]
  },
  {
   "cell_type": "code",
   "execution_count": 109,
   "metadata": {},
   "outputs": [],
   "source": [
    "model = tf.keras.Sequential()\n",
    "model.add(tf.keras.Input(shape=(256)))\n",
    "model.add(Dense(1024, activation='relu'))\n",
    "model.add(Dense(512, activation='relu'))\n",
    "model.add(Dense(256, activation='relu'))\n",
    "model.add(Dense(n_classes))"
   ]
  },
  {
   "cell_type": "code",
   "execution_count": 110,
   "metadata": {},
   "outputs": [
    {
     "name": "stdout",
     "output_type": "stream",
     "text": [
      "Model: \"sequential_5\"\n",
      "_________________________________________________________________\n",
      "Layer (type)                 Output Shape              Param #   \n",
      "=================================================================\n",
      "dense_20 (Dense)             (None, 1024)              263168    \n",
      "_________________________________________________________________\n",
      "dense_21 (Dense)             (None, 512)               524800    \n",
      "_________________________________________________________________\n",
      "dense_22 (Dense)             (None, 256)               131328    \n",
      "_________________________________________________________________\n",
      "dense_23 (Dense)             (None, 6)                 1542      \n",
      "=================================================================\n",
      "Total params: 920,838\n",
      "Trainable params: 920,838\n",
      "Non-trainable params: 0\n",
      "_________________________________________________________________\n"
     ]
    }
   ],
   "source": [
    "model.summary()"
   ]
  },
  {
   "cell_type": "code",
   "execution_count": 111,
   "metadata": {},
   "outputs": [],
   "source": [
    "from tensorflow.keras.losses import CategoricalCrossentropy\n",
    "from tensorflow.keras.optimizers import Adam"
   ]
  },
  {
   "cell_type": "code",
   "execution_count": 112,
   "metadata": {},
   "outputs": [],
   "source": [
    "model.compile(optimizer=Adam(learning_rate=1e-3), \n",
    "              loss=CategoricalCrossentropy(from_logits=True), metrics='accuracy')"
   ]
  },
  {
   "cell_type": "code",
   "execution_count": 113,
   "metadata": {},
   "outputs": [],
   "source": [
    "estop = tf.keras.callbacks.EarlyStopping(\n",
    "    monitor='val_loss', min_delta=0, patience=50, verbose=0,\n",
    "    mode='auto', baseline=None, restore_best_weights=True\n",
    ")"
   ]
  },
  {
   "cell_type": "code",
   "execution_count": 114,
   "metadata": {
    "scrolled": true
   },
   "outputs": [
    {
     "name": "stdout",
     "output_type": "stream",
     "text": [
      "Epoch 1/10000\n",
      "2/2 [==============================] - 0s 98ms/step - loss: 2.1074 - accuracy: 0.1792 - val_loss: 2.7177 - val_accuracy: 0.1620\n",
      "Epoch 2/10000\n",
      "2/2 [==============================] - 0s 16ms/step - loss: 2.5764 - accuracy: 0.1558 - val_loss: 1.8650 - val_accuracy: 0.1866\n",
      "Epoch 3/10000\n",
      "2/2 [==============================] - 0s 16ms/step - loss: 1.8669 - accuracy: 0.1647 - val_loss: 1.9395 - val_accuracy: 0.1716\n",
      "Epoch 4/10000\n",
      "2/2 [==============================] - 0s 17ms/step - loss: 1.9283 - accuracy: 0.1686 - val_loss: 1.7579 - val_accuracy: 0.2878\n",
      "Epoch 5/10000\n",
      "2/2 [==============================] - 0s 15ms/step - loss: 1.7745 - accuracy: 0.2696 - val_loss: 1.8055 - val_accuracy: 0.1588\n",
      "Epoch 6/10000\n",
      "2/2 [==============================] - 0s 22ms/step - loss: 1.7925 - accuracy: 0.1803 - val_loss: 1.8034 - val_accuracy: 0.2729\n",
      "Epoch 7/10000\n",
      "2/2 [==============================] - 0s 18ms/step - loss: 1.7795 - accuracy: 0.2756 - val_loss: 1.7246 - val_accuracy: 0.2772\n",
      "Epoch 8/10000\n",
      "2/2 [==============================] - 0s 16ms/step - loss: 1.7227 - accuracy: 0.2806 - val_loss: 1.7196 - val_accuracy: 0.3369\n",
      "Epoch 9/10000\n",
      "2/2 [==============================] - 0s 18ms/step - loss: 1.7216 - accuracy: 0.3030 - val_loss: 1.7121 - val_accuracy: 0.2452\n",
      "Epoch 10/10000\n",
      "2/2 [==============================] - 0s 19ms/step - loss: 1.6996 - accuracy: 0.2624 - val_loss: 1.6767 - val_accuracy: 0.3422\n",
      "Epoch 11/10000\n",
      "2/2 [==============================] - 0s 18ms/step - loss: 1.6762 - accuracy: 0.3478 - val_loss: 1.6609 - val_accuracy: 0.4296\n",
      "Epoch 12/10000\n",
      "2/2 [==============================] - 0s 16ms/step - loss: 1.6534 - accuracy: 0.4228 - val_loss: 1.6416 - val_accuracy: 0.3849\n",
      "Epoch 13/10000\n",
      "2/2 [==============================] - 0s 17ms/step - loss: 1.6357 - accuracy: 0.3922 - val_loss: 1.6146 - val_accuracy: 0.3433\n",
      "Epoch 14/10000\n",
      "2/2 [==============================] - 0s 16ms/step - loss: 1.6075 - accuracy: 0.3553 - val_loss: 1.5937 - val_accuracy: 0.4307\n",
      "Epoch 15/10000\n",
      "2/2 [==============================] - 0s 15ms/step - loss: 1.5907 - accuracy: 0.4299 - val_loss: 1.5808 - val_accuracy: 0.3753\n",
      "Epoch 16/10000\n",
      "2/2 [==============================] - 0s 16ms/step - loss: 1.5668 - accuracy: 0.3972 - val_loss: 1.5542 - val_accuracy: 0.3550\n",
      "Epoch 17/10000\n",
      "2/2 [==============================] - 0s 15ms/step - loss: 1.5404 - accuracy: 0.3823 - val_loss: 1.5217 - val_accuracy: 0.4360\n",
      "Epoch 18/10000\n",
      "2/2 [==============================] - 0s 16ms/step - loss: 1.5175 - accuracy: 0.4282 - val_loss: 1.5079 - val_accuracy: 0.3657\n",
      "Epoch 19/10000\n",
      "2/2 [==============================] - 0s 16ms/step - loss: 1.4922 - accuracy: 0.3926 - val_loss: 1.4790 - val_accuracy: 0.4072\n",
      "Epoch 20/10000\n",
      "2/2 [==============================] - 0s 17ms/step - loss: 1.4707 - accuracy: 0.4090 - val_loss: 1.4715 - val_accuracy: 0.3827\n",
      "Epoch 21/10000\n",
      "2/2 [==============================] - 0s 16ms/step - loss: 1.4632 - accuracy: 0.4104 - val_loss: 1.5578 - val_accuracy: 0.3188\n",
      "Epoch 22/10000\n",
      "2/2 [==============================] - 0s 19ms/step - loss: 1.4988 - accuracy: 0.3809 - val_loss: 1.4301 - val_accuracy: 0.4691\n",
      "Epoch 23/10000\n",
      "2/2 [==============================] - 0s 19ms/step - loss: 1.4421 - accuracy: 0.4467 - val_loss: 1.4096 - val_accuracy: 0.4232\n",
      "Epoch 24/10000\n",
      "2/2 [==============================] - 0s 15ms/step - loss: 1.4051 - accuracy: 0.4371 - val_loss: 1.4218 - val_accuracy: 0.3913\n",
      "Epoch 25/10000\n",
      "2/2 [==============================] - 0s 16ms/step - loss: 1.3947 - accuracy: 0.4129 - val_loss: 1.4146 - val_accuracy: 0.4264\n",
      "Epoch 26/10000\n",
      "2/2 [==============================] - 0s 17ms/step - loss: 1.4152 - accuracy: 0.4218 - val_loss: 1.4105 - val_accuracy: 0.4126\n",
      "Epoch 27/10000\n",
      "2/2 [==============================] - 0s 15ms/step - loss: 1.3873 - accuracy: 0.4449 - val_loss: 1.3600 - val_accuracy: 0.4979\n",
      "Epoch 28/10000\n",
      "2/2 [==============================] - 0s 19ms/step - loss: 1.3518 - accuracy: 0.4858 - val_loss: 1.3481 - val_accuracy: 0.5128\n",
      "Epoch 29/10000\n",
      "2/2 [==============================] - 0s 15ms/step - loss: 1.3468 - accuracy: 0.5060 - val_loss: 1.3481 - val_accuracy: 0.4680\n",
      "Epoch 30/10000\n",
      "2/2 [==============================] - 0s 15ms/step - loss: 1.3289 - accuracy: 0.4957 - val_loss: 1.3246 - val_accuracy: 0.5341\n",
      "Epoch 31/10000\n",
      "2/2 [==============================] - 0s 19ms/step - loss: 1.3153 - accuracy: 0.5281 - val_loss: 1.3265 - val_accuracy: 0.4883\n",
      "Epoch 32/10000\n",
      "2/2 [==============================] - 0s 14ms/step - loss: 1.3056 - accuracy: 0.5050 - val_loss: 1.3088 - val_accuracy: 0.5426\n",
      "Epoch 33/10000\n",
      "2/2 [==============================] - 0s 16ms/step - loss: 1.3114 - accuracy: 0.5053 - val_loss: 1.3088 - val_accuracy: 0.5362\n",
      "Epoch 34/10000\n",
      "2/2 [==============================] - 0s 16ms/step - loss: 1.3010 - accuracy: 0.5441 - val_loss: 1.3408 - val_accuracy: 0.4851\n",
      "Epoch 35/10000\n",
      "2/2 [==============================] - 0s 16ms/step - loss: 1.3049 - accuracy: 0.5075 - val_loss: 1.2997 - val_accuracy: 0.5171\n",
      "Epoch 36/10000\n",
      "2/2 [==============================] - 0s 15ms/step - loss: 1.3158 - accuracy: 0.4947 - val_loss: 1.3011 - val_accuracy: 0.4840\n",
      "Epoch 37/10000\n",
      "2/2 [==============================] - 0s 16ms/step - loss: 1.2992 - accuracy: 0.5011 - val_loss: 1.3306 - val_accuracy: 0.4520\n",
      "Epoch 38/10000\n",
      "2/2 [==============================] - 0s 16ms/step - loss: 1.2982 - accuracy: 0.4918 - val_loss: 1.2852 - val_accuracy: 0.5213\n",
      "Epoch 39/10000\n",
      "2/2 [==============================] - 0s 16ms/step - loss: 1.2673 - accuracy: 0.5224 - val_loss: 1.2627 - val_accuracy: 0.5512\n",
      "Epoch 40/10000\n",
      "2/2 [==============================] - 0s 16ms/step - loss: 1.2539 - accuracy: 0.5558 - val_loss: 1.2552 - val_accuracy: 0.5544\n",
      "Epoch 41/10000\n",
      "2/2 [==============================] - 0s 15ms/step - loss: 1.2431 - accuracy: 0.5530 - val_loss: 1.2543 - val_accuracy: 0.5288\n",
      "Epoch 42/10000\n",
      "2/2 [==============================] - 0s 16ms/step - loss: 1.2378 - accuracy: 0.5420 - val_loss: 1.2526 - val_accuracy: 0.5394\n",
      "Epoch 43/10000\n",
      "2/2 [==============================] - 0s 16ms/step - loss: 1.2377 - accuracy: 0.5469 - val_loss: 1.3370 - val_accuracy: 0.4424\n",
      "Epoch 44/10000\n",
      "2/2 [==============================] - 0s 16ms/step - loss: 1.2883 - accuracy: 0.4748 - val_loss: 1.2310 - val_accuracy: 0.5736\n",
      "Epoch 45/10000\n",
      "2/2 [==============================] - 0s 16ms/step - loss: 1.2386 - accuracy: 0.5381 - val_loss: 1.2583 - val_accuracy: 0.5512\n",
      "Epoch 46/10000\n",
      "2/2 [==============================] - 0s 19ms/step - loss: 1.2606 - accuracy: 0.5519 - val_loss: 1.2929 - val_accuracy: 0.4936\n",
      "Epoch 47/10000\n",
      "2/2 [==============================] - 0s 15ms/step - loss: 1.2522 - accuracy: 0.5324 - val_loss: 1.2131 - val_accuracy: 0.5768\n",
      "Epoch 48/10000\n",
      "2/2 [==============================] - 0s 16ms/step - loss: 1.2157 - accuracy: 0.5537 - val_loss: 1.2150 - val_accuracy: 0.5704\n",
      "Epoch 49/10000\n",
      "2/2 [==============================] - 0s 18ms/step - loss: 1.2097 - accuracy: 0.5782 - val_loss: 1.2398 - val_accuracy: 0.5256\n",
      "Epoch 50/10000\n",
      "2/2 [==============================] - 0s 15ms/step - loss: 1.2079 - accuracy: 0.5555 - val_loss: 1.1932 - val_accuracy: 0.5789\n",
      "Epoch 51/10000\n",
      "2/2 [==============================] - 0s 17ms/step - loss: 1.1854 - accuracy: 0.5686 - val_loss: 1.1978 - val_accuracy: 0.5682\n",
      "Epoch 52/10000\n",
      "2/2 [==============================] - 0s 18ms/step - loss: 1.1916 - accuracy: 0.5733 - val_loss: 1.1903 - val_accuracy: 0.5789\n",
      "Epoch 53/10000\n",
      "2/2 [==============================] - 0s 18ms/step - loss: 1.1786 - accuracy: 0.5832 - val_loss: 1.2264 - val_accuracy: 0.5021\n",
      "Epoch 54/10000\n",
      "2/2 [==============================] - 0s 19ms/step - loss: 1.2017 - accuracy: 0.5320 - val_loss: 1.2352 - val_accuracy: 0.4915\n",
      "Epoch 55/10000\n",
      "2/2 [==============================] - 0s 19ms/step - loss: 1.1867 - accuracy: 0.5498 - val_loss: 1.2043 - val_accuracy: 0.5586\n",
      "Epoch 56/10000\n",
      "2/2 [==============================] - 0s 16ms/step - loss: 1.2182 - accuracy: 0.5313 - val_loss: 1.1978 - val_accuracy: 0.5885\n",
      "Epoch 57/10000\n",
      "2/2 [==============================] - 0s 16ms/step - loss: 1.1909 - accuracy: 0.5871 - val_loss: 1.2660 - val_accuracy: 0.4947\n",
      "Epoch 58/10000\n"
     ]
    },
    {
     "name": "stdout",
     "output_type": "stream",
     "text": [
      "2/2 [==============================] - 0s 18ms/step - loss: 1.2066 - accuracy: 0.5537 - val_loss: 1.1898 - val_accuracy: 0.5362\n",
      "Epoch 59/10000\n",
      "2/2 [==============================] - 0s 18ms/step - loss: 1.1799 - accuracy: 0.5473 - val_loss: 1.2119 - val_accuracy: 0.5267\n",
      "Epoch 60/10000\n",
      "2/2 [==============================] - 0s 18ms/step - loss: 1.1899 - accuracy: 0.5409 - val_loss: 1.1710 - val_accuracy: 0.5501\n",
      "Epoch 61/10000\n",
      "2/2 [==============================] - 0s 16ms/step - loss: 1.1598 - accuracy: 0.5573 - val_loss: 1.1687 - val_accuracy: 0.5650\n",
      "Epoch 62/10000\n",
      "2/2 [==============================] - 0s 16ms/step - loss: 1.1407 - accuracy: 0.5679 - val_loss: 1.1406 - val_accuracy: 0.6002\n",
      "Epoch 63/10000\n",
      "2/2 [==============================] - 0s 17ms/step - loss: 1.1263 - accuracy: 0.6117 - val_loss: 1.1770 - val_accuracy: 0.5608\n",
      "Epoch 64/10000\n",
      "2/2 [==============================] - 0s 16ms/step - loss: 1.1468 - accuracy: 0.5825 - val_loss: 1.1487 - val_accuracy: 0.5832\n",
      "Epoch 65/10000\n",
      "2/2 [==============================] - 0s 16ms/step - loss: 1.1213 - accuracy: 0.5910 - val_loss: 1.1344 - val_accuracy: 0.5896\n",
      "Epoch 66/10000\n",
      "2/2 [==============================] - 0s 18ms/step - loss: 1.1285 - accuracy: 0.5907 - val_loss: 1.1503 - val_accuracy: 0.5736\n",
      "Epoch 67/10000\n",
      "2/2 [==============================] - 0s 19ms/step - loss: 1.1598 - accuracy: 0.5832 - val_loss: 1.1294 - val_accuracy: 0.5885\n",
      "Epoch 68/10000\n",
      "2/2 [==============================] - 0s 16ms/step - loss: 1.1196 - accuracy: 0.5989 - val_loss: 1.1223 - val_accuracy: 0.5821\n",
      "Epoch 69/10000\n",
      "2/2 [==============================] - 0s 16ms/step - loss: 1.1092 - accuracy: 0.5992 - val_loss: 1.1550 - val_accuracy: 0.5458\n",
      "Epoch 70/10000\n",
      "2/2 [==============================] - 0s 19ms/step - loss: 1.1237 - accuracy: 0.5718 - val_loss: 1.1229 - val_accuracy: 0.5885\n",
      "Epoch 71/10000\n",
      "2/2 [==============================] - 0s 19ms/step - loss: 1.1080 - accuracy: 0.5957 - val_loss: 1.1492 - val_accuracy: 0.5618\n",
      "Epoch 72/10000\n",
      "2/2 [==============================] - 0s 18ms/step - loss: 1.1376 - accuracy: 0.5750 - val_loss: 1.1281 - val_accuracy: 0.5842\n",
      "Epoch 73/10000\n",
      "2/2 [==============================] - 0s 17ms/step - loss: 1.1070 - accuracy: 0.5921 - val_loss: 1.1102 - val_accuracy: 0.5949\n",
      "Epoch 74/10000\n",
      "2/2 [==============================] - 0s 16ms/step - loss: 1.0908 - accuracy: 0.5964 - val_loss: 1.1332 - val_accuracy: 0.5704\n",
      "Epoch 75/10000\n",
      "2/2 [==============================] - 0s 16ms/step - loss: 1.1127 - accuracy: 0.5853 - val_loss: 1.1190 - val_accuracy: 0.5842\n",
      "Epoch 76/10000\n",
      "2/2 [==============================] - 0s 20ms/step - loss: 1.1146 - accuracy: 0.5743 - val_loss: 1.1341 - val_accuracy: 0.5650\n",
      "Epoch 77/10000\n",
      "2/2 [==============================] - 0s 16ms/step - loss: 1.1017 - accuracy: 0.5885 - val_loss: 1.1082 - val_accuracy: 0.5832\n",
      "Epoch 78/10000\n",
      "2/2 [==============================] - 0s 15ms/step - loss: 1.0983 - accuracy: 0.5985 - val_loss: 1.0725 - val_accuracy: 0.6333\n",
      "Epoch 79/10000\n",
      "2/2 [==============================] - 0s 19ms/step - loss: 1.0611 - accuracy: 0.6348 - val_loss: 1.0872 - val_accuracy: 0.5970\n",
      "Epoch 80/10000\n",
      "2/2 [==============================] - 0s 15ms/step - loss: 1.0646 - accuracy: 0.6124 - val_loss: 1.0691 - val_accuracy: 0.6173\n",
      "Epoch 81/10000\n",
      "2/2 [==============================] - 0s 16ms/step - loss: 1.0516 - accuracy: 0.6266 - val_loss: 1.0742 - val_accuracy: 0.6258\n",
      "Epoch 82/10000\n",
      "2/2 [==============================] - 0s 16ms/step - loss: 1.0679 - accuracy: 0.6227 - val_loss: 1.1285 - val_accuracy: 0.5789\n",
      "Epoch 83/10000\n",
      "2/2 [==============================] - 0s 16ms/step - loss: 1.1075 - accuracy: 0.5893 - val_loss: 1.1385 - val_accuracy: 0.5597\n",
      "Epoch 84/10000\n",
      "2/2 [==============================] - 0s 16ms/step - loss: 1.0961 - accuracy: 0.5903 - val_loss: 1.0695 - val_accuracy: 0.6183\n",
      "Epoch 85/10000\n",
      "2/2 [==============================] - 0s 20ms/step - loss: 1.0707 - accuracy: 0.6099 - val_loss: 1.0784 - val_accuracy: 0.6130\n",
      "Epoch 86/10000\n",
      "2/2 [==============================] - 0s 17ms/step - loss: 1.0665 - accuracy: 0.6198 - val_loss: 1.1547 - val_accuracy: 0.5437\n",
      "Epoch 87/10000\n",
      "2/2 [==============================] - 0s 16ms/step - loss: 1.1219 - accuracy: 0.5711 - val_loss: 1.0746 - val_accuracy: 0.6130\n",
      "Epoch 88/10000\n",
      "2/2 [==============================] - 0s 16ms/step - loss: 1.0647 - accuracy: 0.6131 - val_loss: 1.1213 - val_accuracy: 0.5714\n",
      "Epoch 89/10000\n",
      "2/2 [==============================] - 0s 16ms/step - loss: 1.1020 - accuracy: 0.5914 - val_loss: 1.1587 - val_accuracy: 0.5661\n",
      "Epoch 90/10000\n",
      "2/2 [==============================] - 0s 17ms/step - loss: 1.1007 - accuracy: 0.5921 - val_loss: 1.0581 - val_accuracy: 0.6439\n",
      "Epoch 91/10000\n",
      "2/2 [==============================] - 0s 16ms/step - loss: 1.0547 - accuracy: 0.6266 - val_loss: 1.0946 - val_accuracy: 0.5938\n",
      "Epoch 92/10000\n",
      "2/2 [==============================] - 0s 15ms/step - loss: 1.0514 - accuracy: 0.6241 - val_loss: 1.1402 - val_accuracy: 0.5629\n",
      "Epoch 93/10000\n",
      "2/2 [==============================] - 0s 16ms/step - loss: 1.0988 - accuracy: 0.5893 - val_loss: 1.1044 - val_accuracy: 0.5949\n",
      "Epoch 94/10000\n",
      "2/2 [==============================] - 0s 18ms/step - loss: 1.0849 - accuracy: 0.6014 - val_loss: 1.0532 - val_accuracy: 0.6365\n",
      "Epoch 95/10000\n",
      "2/2 [==============================] - 0s 19ms/step - loss: 1.0542 - accuracy: 0.6294 - val_loss: 1.2324 - val_accuracy: 0.5245\n",
      "Epoch 96/10000\n",
      "2/2 [==============================] - 0s 17ms/step - loss: 1.1403 - accuracy: 0.5644 - val_loss: 1.0789 - val_accuracy: 0.6194\n",
      "Epoch 97/10000\n",
      "2/2 [==============================] - 0s 15ms/step - loss: 1.0876 - accuracy: 0.6021 - val_loss: 1.0913 - val_accuracy: 0.5949\n",
      "Epoch 98/10000\n",
      "2/2 [==============================] - 0s 15ms/step - loss: 1.0663 - accuracy: 0.6085 - val_loss: 1.0692 - val_accuracy: 0.6226\n",
      "Epoch 99/10000\n",
      "2/2 [==============================] - 0s 19ms/step - loss: 1.0575 - accuracy: 0.6156 - val_loss: 1.0880 - val_accuracy: 0.5842\n",
      "Epoch 100/10000\n",
      "2/2 [==============================] - 0s 16ms/step - loss: 1.0581 - accuracy: 0.6102 - val_loss: 1.0814 - val_accuracy: 0.6023\n",
      "Epoch 101/10000\n",
      "2/2 [==============================] - 0s 20ms/step - loss: 1.0548 - accuracy: 0.6078 - val_loss: 1.0523 - val_accuracy: 0.6087\n",
      "Epoch 102/10000\n",
      "2/2 [==============================] - 0s 15ms/step - loss: 1.0249 - accuracy: 0.6273 - val_loss: 1.0710 - val_accuracy: 0.6194\n",
      "Epoch 103/10000\n",
      "2/2 [==============================] - 0s 16ms/step - loss: 1.0603 - accuracy: 0.6092 - val_loss: 1.1569 - val_accuracy: 0.5576\n",
      "Epoch 104/10000\n",
      "2/2 [==============================] - 0s 16ms/step - loss: 1.0788 - accuracy: 0.5917 - val_loss: 1.0605 - val_accuracy: 0.6301\n",
      "Epoch 105/10000\n",
      "2/2 [==============================] - 0s 15ms/step - loss: 1.0604 - accuracy: 0.6166 - val_loss: 1.0660 - val_accuracy: 0.6023\n",
      "Epoch 106/10000\n",
      "2/2 [==============================] - 0s 16ms/step - loss: 1.0229 - accuracy: 0.6284 - val_loss: 1.0460 - val_accuracy: 0.6397\n",
      "Epoch 107/10000\n",
      "2/2 [==============================] - 0s 16ms/step - loss: 1.0338 - accuracy: 0.6248 - val_loss: 1.1192 - val_accuracy: 0.5800\n",
      "Epoch 108/10000\n",
      "2/2 [==============================] - 0s 16ms/step - loss: 1.0632 - accuracy: 0.6085 - val_loss: 1.0458 - val_accuracy: 0.6386\n",
      "Epoch 109/10000\n",
      "2/2 [==============================] - 0s 16ms/step - loss: 1.0314 - accuracy: 0.6337 - val_loss: 1.0903 - val_accuracy: 0.5800\n",
      "Epoch 110/10000\n",
      "2/2 [==============================] - 0s 16ms/step - loss: 1.0390 - accuracy: 0.6127 - val_loss: 1.0316 - val_accuracy: 0.6386\n",
      "Epoch 111/10000\n",
      "2/2 [==============================] - 0s 16ms/step - loss: 1.0132 - accuracy: 0.6390 - val_loss: 1.0668 - val_accuracy: 0.6109\n",
      "Epoch 112/10000\n",
      "2/2 [==============================] - 0s 17ms/step - loss: 1.0291 - accuracy: 0.6255 - val_loss: 1.0348 - val_accuracy: 0.6493\n",
      "Epoch 113/10000\n",
      "2/2 [==============================] - 0s 17ms/step - loss: 1.0268 - accuracy: 0.6252 - val_loss: 1.0321 - val_accuracy: 0.6215\n",
      "Epoch 114/10000\n",
      "2/2 [==============================] - 0s 15ms/step - loss: 1.0046 - accuracy: 0.6348 - val_loss: 1.0401 - val_accuracy: 0.5896\n",
      "Epoch 115/10000\n"
     ]
    },
    {
     "name": "stdout",
     "output_type": "stream",
     "text": [
      "2/2 [==============================] - 0s 15ms/step - loss: 1.0272 - accuracy: 0.6131 - val_loss: 0.9996 - val_accuracy: 0.6429\n",
      "Epoch 116/10000\n",
      "2/2 [==============================] - 0s 15ms/step - loss: 0.9843 - accuracy: 0.6497 - val_loss: 1.0240 - val_accuracy: 0.6247\n",
      "Epoch 117/10000\n",
      "2/2 [==============================] - 0s 15ms/step - loss: 1.0020 - accuracy: 0.6262 - val_loss: 1.0300 - val_accuracy: 0.6109\n",
      "Epoch 118/10000\n",
      "2/2 [==============================] - 0s 16ms/step - loss: 1.0077 - accuracy: 0.6216 - val_loss: 1.0382 - val_accuracy: 0.6205\n",
      "Epoch 119/10000\n",
      "2/2 [==============================] - 0s 15ms/step - loss: 1.0309 - accuracy: 0.6270 - val_loss: 1.0273 - val_accuracy: 0.6098\n",
      "Epoch 120/10000\n",
      "2/2 [==============================] - 0s 16ms/step - loss: 0.9960 - accuracy: 0.6323 - val_loss: 0.9939 - val_accuracy: 0.6482\n",
      "Epoch 121/10000\n",
      "2/2 [==============================] - 0s 16ms/step - loss: 0.9783 - accuracy: 0.6494 - val_loss: 1.0546 - val_accuracy: 0.6013\n",
      "Epoch 122/10000\n",
      "2/2 [==============================] - 0s 16ms/step - loss: 1.0195 - accuracy: 0.6134 - val_loss: 0.9985 - val_accuracy: 0.6418\n",
      "Epoch 123/10000\n",
      "2/2 [==============================] - 0s 15ms/step - loss: 0.9784 - accuracy: 0.6472 - val_loss: 1.0189 - val_accuracy: 0.6269\n",
      "Epoch 124/10000\n",
      "2/2 [==============================] - 0s 15ms/step - loss: 0.9942 - accuracy: 0.6348 - val_loss: 1.0086 - val_accuracy: 0.6386\n",
      "Epoch 125/10000\n",
      "2/2 [==============================] - 0s 16ms/step - loss: 1.0009 - accuracy: 0.6415 - val_loss: 1.0516 - val_accuracy: 0.6023\n",
      "Epoch 126/10000\n",
      "2/2 [==============================] - 0s 17ms/step - loss: 1.0098 - accuracy: 0.6266 - val_loss: 0.9923 - val_accuracy: 0.6557\n",
      "Epoch 127/10000\n",
      "2/2 [==============================] - 0s 15ms/step - loss: 0.9852 - accuracy: 0.6419 - val_loss: 1.0201 - val_accuracy: 0.6194\n",
      "Epoch 128/10000\n",
      "2/2 [==============================] - 0s 15ms/step - loss: 0.9853 - accuracy: 0.6362 - val_loss: 0.9877 - val_accuracy: 0.6450\n",
      "Epoch 129/10000\n",
      "2/2 [==============================] - 0s 16ms/step - loss: 0.9756 - accuracy: 0.6437 - val_loss: 0.9854 - val_accuracy: 0.6525\n",
      "Epoch 130/10000\n",
      "2/2 [==============================] - 0s 17ms/step - loss: 0.9708 - accuracy: 0.6540 - val_loss: 1.0239 - val_accuracy: 0.6162\n",
      "Epoch 131/10000\n",
      "2/2 [==============================] - 0s 20ms/step - loss: 0.9775 - accuracy: 0.6465 - val_loss: 0.9893 - val_accuracy: 0.6493\n",
      "Epoch 132/10000\n",
      "2/2 [==============================] - 0s 16ms/step - loss: 0.9791 - accuracy: 0.6508 - val_loss: 0.9996 - val_accuracy: 0.6343\n",
      "Epoch 133/10000\n",
      "2/2 [==============================] - 0s 18ms/step - loss: 0.9641 - accuracy: 0.6536 - val_loss: 0.9913 - val_accuracy: 0.6407\n",
      "Epoch 134/10000\n",
      "2/2 [==============================] - 0s 16ms/step - loss: 0.9577 - accuracy: 0.6547 - val_loss: 0.9940 - val_accuracy: 0.6354\n",
      "Epoch 135/10000\n",
      "2/2 [==============================] - 0s 16ms/step - loss: 0.9773 - accuracy: 0.6479 - val_loss: 1.0299 - val_accuracy: 0.5981\n",
      "Epoch 136/10000\n",
      "2/2 [==============================] - 0s 18ms/step - loss: 1.0059 - accuracy: 0.6195 - val_loss: 0.9723 - val_accuracy: 0.6535\n",
      "Epoch 137/10000\n",
      "2/2 [==============================] - 0s 16ms/step - loss: 0.9576 - accuracy: 0.6583 - val_loss: 1.0123 - val_accuracy: 0.6258\n",
      "Epoch 138/10000\n",
      "2/2 [==============================] - 0s 17ms/step - loss: 0.9647 - accuracy: 0.6497 - val_loss: 0.9793 - val_accuracy: 0.6578\n",
      "Epoch 139/10000\n",
      "2/2 [==============================] - 0s 17ms/step - loss: 0.9773 - accuracy: 0.6408 - val_loss: 1.0926 - val_accuracy: 0.5746\n",
      "Epoch 140/10000\n",
      "2/2 [==============================] - 0s 16ms/step - loss: 1.0597 - accuracy: 0.5946 - val_loss: 0.9724 - val_accuracy: 0.6525\n",
      "Epoch 141/10000\n",
      "2/2 [==============================] - 0s 15ms/step - loss: 0.9546 - accuracy: 0.6593 - val_loss: 1.0243 - val_accuracy: 0.6226\n",
      "Epoch 142/10000\n",
      "2/2 [==============================] - 0s 16ms/step - loss: 0.9962 - accuracy: 0.6248 - val_loss: 1.0035 - val_accuracy: 0.6322\n",
      "Epoch 143/10000\n",
      "2/2 [==============================] - 0s 16ms/step - loss: 0.9629 - accuracy: 0.6515 - val_loss: 0.9848 - val_accuracy: 0.6514\n",
      "Epoch 144/10000\n",
      "2/2 [==============================] - 0s 15ms/step - loss: 0.9699 - accuracy: 0.6494 - val_loss: 0.9885 - val_accuracy: 0.6365\n",
      "Epoch 145/10000\n",
      "2/2 [==============================] - 0s 15ms/step - loss: 0.9557 - accuracy: 0.6536 - val_loss: 0.9942 - val_accuracy: 0.6333\n",
      "Epoch 146/10000\n",
      "2/2 [==============================] - 0s 17ms/step - loss: 0.9603 - accuracy: 0.6501 - val_loss: 0.9728 - val_accuracy: 0.6397\n",
      "Epoch 147/10000\n",
      "2/2 [==============================] - 0s 16ms/step - loss: 0.9512 - accuracy: 0.6511 - val_loss: 0.9811 - val_accuracy: 0.6365\n",
      "Epoch 148/10000\n",
      "2/2 [==============================] - 0s 17ms/step - loss: 0.9599 - accuracy: 0.6444 - val_loss: 0.9639 - val_accuracy: 0.6588\n",
      "Epoch 149/10000\n",
      "2/2 [==============================] - 0s 20ms/step - loss: 0.9481 - accuracy: 0.6547 - val_loss: 0.9922 - val_accuracy: 0.6237\n",
      "Epoch 150/10000\n",
      "2/2 [==============================] - 0s 15ms/step - loss: 0.9536 - accuracy: 0.6458 - val_loss: 0.9902 - val_accuracy: 0.6343\n",
      "Epoch 151/10000\n",
      "2/2 [==============================] - 0s 15ms/step - loss: 0.9699 - accuracy: 0.6444 - val_loss: 1.0139 - val_accuracy: 0.6269\n",
      "Epoch 152/10000\n",
      "2/2 [==============================] - 0s 16ms/step - loss: 0.9742 - accuracy: 0.6415 - val_loss: 0.9996 - val_accuracy: 0.6237\n",
      "Epoch 153/10000\n",
      "2/2 [==============================] - 0s 18ms/step - loss: 0.9829 - accuracy: 0.6366 - val_loss: 1.1297 - val_accuracy: 0.5608\n",
      "Epoch 154/10000\n",
      "2/2 [==============================] - 0s 15ms/step - loss: 1.0830 - accuracy: 0.5811 - val_loss: 1.0560 - val_accuracy: 0.6055\n",
      "Epoch 155/10000\n",
      "2/2 [==============================] - 0s 16ms/step - loss: 1.0285 - accuracy: 0.6191 - val_loss: 0.9798 - val_accuracy: 0.6354\n",
      "Epoch 156/10000\n",
      "2/2 [==============================] - 0s 16ms/step - loss: 0.9732 - accuracy: 0.6408 - val_loss: 1.0912 - val_accuracy: 0.5704\n",
      "Epoch 157/10000\n",
      "2/2 [==============================] - 0s 15ms/step - loss: 1.0464 - accuracy: 0.5978 - val_loss: 1.0561 - val_accuracy: 0.6055\n",
      "Epoch 158/10000\n",
      "2/2 [==============================] - 0s 16ms/step - loss: 0.9998 - accuracy: 0.6270 - val_loss: 0.9903 - val_accuracy: 0.6493\n",
      "Epoch 159/10000\n",
      "2/2 [==============================] - 0s 18ms/step - loss: 0.9807 - accuracy: 0.6380 - val_loss: 1.0286 - val_accuracy: 0.6301\n",
      "Epoch 160/10000\n",
      "2/2 [==============================] - 0s 16ms/step - loss: 0.9889 - accuracy: 0.6490 - val_loss: 1.0457 - val_accuracy: 0.6151\n",
      "Epoch 161/10000\n",
      "2/2 [==============================] - 0s 16ms/step - loss: 1.0045 - accuracy: 0.6259 - val_loss: 0.9806 - val_accuracy: 0.6269\n",
      "Epoch 162/10000\n",
      "2/2 [==============================] - 0s 16ms/step - loss: 0.9536 - accuracy: 0.6422 - val_loss: 0.9760 - val_accuracy: 0.6429\n",
      "Epoch 163/10000\n",
      "2/2 [==============================] - 0s 16ms/step - loss: 0.9481 - accuracy: 0.6508 - val_loss: 1.0143 - val_accuracy: 0.6237\n",
      "Epoch 164/10000\n",
      "2/2 [==============================] - 0s 16ms/step - loss: 0.9607 - accuracy: 0.6465 - val_loss: 0.9744 - val_accuracy: 0.6631\n",
      "Epoch 165/10000\n",
      "2/2 [==============================] - 0s 15ms/step - loss: 0.9659 - accuracy: 0.6497 - val_loss: 0.9893 - val_accuracy: 0.6173\n",
      "Epoch 166/10000\n",
      "2/2 [==============================] - 0s 20ms/step - loss: 0.9546 - accuracy: 0.6508 - val_loss: 1.0713 - val_accuracy: 0.5981\n",
      "Epoch 167/10000\n",
      "2/2 [==============================] - 0s 20ms/step - loss: 1.0020 - accuracy: 0.6255 - val_loss: 0.9553 - val_accuracy: 0.6557\n",
      "Epoch 168/10000\n",
      "2/2 [==============================] - 0s 20ms/step - loss: 0.9454 - accuracy: 0.6526 - val_loss: 0.9653 - val_accuracy: 0.6375\n",
      "Epoch 169/10000\n",
      "2/2 [==============================] - 0s 16ms/step - loss: 0.9434 - accuracy: 0.6533 - val_loss: 1.0696 - val_accuracy: 0.5991\n",
      "Epoch 170/10000\n",
      "2/2 [==============================] - 0s 18ms/step - loss: 1.0163 - accuracy: 0.6166 - val_loss: 0.9702 - val_accuracy: 0.6482\n",
      "Epoch 171/10000\n",
      "2/2 [==============================] - 0s 15ms/step - loss: 0.9411 - accuracy: 0.6593 - val_loss: 0.9555 - val_accuracy: 0.6525\n",
      "Epoch 172/10000\n"
     ]
    },
    {
     "name": "stdout",
     "output_type": "stream",
     "text": [
      "2/2 [==============================] - 0s 15ms/step - loss: 0.9396 - accuracy: 0.6536 - val_loss: 1.1024 - val_accuracy: 0.5896\n",
      "Epoch 173/10000\n",
      "2/2 [==============================] - 0s 15ms/step - loss: 1.0220 - accuracy: 0.6234 - val_loss: 0.9667 - val_accuracy: 0.6503\n",
      "Epoch 174/10000\n",
      "2/2 [==============================] - 0s 19ms/step - loss: 0.9581 - accuracy: 0.6497 - val_loss: 0.9540 - val_accuracy: 0.6620\n",
      "Epoch 175/10000\n",
      "2/2 [==============================] - 0s 16ms/step - loss: 0.9389 - accuracy: 0.6575 - val_loss: 1.0211 - val_accuracy: 0.6194\n",
      "Epoch 176/10000\n",
      "2/2 [==============================] - 0s 22ms/step - loss: 0.9567 - accuracy: 0.6454 - val_loss: 0.9645 - val_accuracy: 0.6567\n",
      "Epoch 177/10000\n",
      "2/2 [==============================] - 0s 19ms/step - loss: 0.9307 - accuracy: 0.6654 - val_loss: 1.0214 - val_accuracy: 0.6151\n",
      "Epoch 178/10000\n",
      "2/2 [==============================] - 0s 16ms/step - loss: 0.9660 - accuracy: 0.6362 - val_loss: 0.9478 - val_accuracy: 0.6578\n",
      "Epoch 179/10000\n",
      "2/2 [==============================] - 0s 18ms/step - loss: 0.9273 - accuracy: 0.6636 - val_loss: 0.9781 - val_accuracy: 0.6333\n",
      "Epoch 180/10000\n",
      "2/2 [==============================] - 0s 16ms/step - loss: 0.9498 - accuracy: 0.6501 - val_loss: 1.0012 - val_accuracy: 0.6258\n",
      "Epoch 181/10000\n",
      "2/2 [==============================] - 0s 18ms/step - loss: 0.9440 - accuracy: 0.6504 - val_loss: 0.9770 - val_accuracy: 0.6439\n",
      "Epoch 182/10000\n",
      "2/2 [==============================] - 0s 15ms/step - loss: 0.9498 - accuracy: 0.6543 - val_loss: 0.9507 - val_accuracy: 0.6535\n",
      "Epoch 183/10000\n",
      "2/2 [==============================] - 0s 18ms/step - loss: 0.9153 - accuracy: 0.6682 - val_loss: 0.9632 - val_accuracy: 0.6450\n",
      "Epoch 184/10000\n",
      "2/2 [==============================] - 0s 16ms/step - loss: 0.9233 - accuracy: 0.6647 - val_loss: 0.9600 - val_accuracy: 0.6610\n",
      "Epoch 185/10000\n",
      "2/2 [==============================] - 0s 16ms/step - loss: 0.9261 - accuracy: 0.6643 - val_loss: 0.9680 - val_accuracy: 0.6407\n",
      "Epoch 186/10000\n",
      "2/2 [==============================] - 0s 16ms/step - loss: 0.9178 - accuracy: 0.6725 - val_loss: 0.9626 - val_accuracy: 0.6535\n",
      "Epoch 187/10000\n",
      "2/2 [==============================] - 0s 17ms/step - loss: 0.9353 - accuracy: 0.6558 - val_loss: 0.9570 - val_accuracy: 0.6535\n",
      "Epoch 188/10000\n",
      "2/2 [==============================] - 0s 16ms/step - loss: 0.9305 - accuracy: 0.6671 - val_loss: 1.0617 - val_accuracy: 0.6045\n",
      "Epoch 189/10000\n",
      "2/2 [==============================] - 0s 16ms/step - loss: 0.9720 - accuracy: 0.6316 - val_loss: 0.9840 - val_accuracy: 0.6418\n",
      "Epoch 190/10000\n",
      "2/2 [==============================] - 0s 17ms/step - loss: 0.9783 - accuracy: 0.6408 - val_loss: 1.0109 - val_accuracy: 0.6141\n",
      "Epoch 191/10000\n",
      "2/2 [==============================] - 0s 16ms/step - loss: 0.9519 - accuracy: 0.6472 - val_loss: 1.0518 - val_accuracy: 0.6194\n",
      "Epoch 192/10000\n",
      "2/2 [==============================] - 0s 15ms/step - loss: 0.9943 - accuracy: 0.6305 - val_loss: 1.0291 - val_accuracy: 0.6109\n",
      "Epoch 193/10000\n",
      "2/2 [==============================] - 0s 17ms/step - loss: 0.9778 - accuracy: 0.6369 - val_loss: 0.9548 - val_accuracy: 0.6684\n",
      "Epoch 194/10000\n",
      "2/2 [==============================] - 0s 16ms/step - loss: 0.9482 - accuracy: 0.6540 - val_loss: 0.9801 - val_accuracy: 0.6407\n",
      "Epoch 195/10000\n",
      "2/2 [==============================] - 0s 17ms/step - loss: 0.9396 - accuracy: 0.6476 - val_loss: 0.9554 - val_accuracy: 0.6514\n",
      "Epoch 196/10000\n",
      "2/2 [==============================] - 0s 17ms/step - loss: 0.9127 - accuracy: 0.6632 - val_loss: 0.9675 - val_accuracy: 0.6514\n",
      "Epoch 197/10000\n",
      "2/2 [==============================] - 0s 16ms/step - loss: 0.9282 - accuracy: 0.6615 - val_loss: 0.9486 - val_accuracy: 0.6567\n",
      "Epoch 198/10000\n",
      "2/2 [==============================] - 0s 16ms/step - loss: 0.9185 - accuracy: 0.6625 - val_loss: 0.9411 - val_accuracy: 0.6514\n",
      "Epoch 199/10000\n",
      "2/2 [==============================] - 0s 16ms/step - loss: 0.9109 - accuracy: 0.6657 - val_loss: 0.9526 - val_accuracy: 0.6375\n",
      "Epoch 200/10000\n",
      "2/2 [==============================] - 0s 16ms/step - loss: 0.9106 - accuracy: 0.6632 - val_loss: 0.9440 - val_accuracy: 0.6663\n",
      "Epoch 201/10000\n",
      "2/2 [==============================] - 0s 19ms/step - loss: 0.9135 - accuracy: 0.6671 - val_loss: 0.9901 - val_accuracy: 0.6418\n",
      "Epoch 202/10000\n",
      "2/2 [==============================] - 0s 16ms/step - loss: 0.9383 - accuracy: 0.6533 - val_loss: 1.0027 - val_accuracy: 0.6375\n",
      "Epoch 203/10000\n",
      "2/2 [==============================] - 0s 17ms/step - loss: 0.9443 - accuracy: 0.6494 - val_loss: 0.9575 - val_accuracy: 0.6610\n",
      "Epoch 204/10000\n",
      "2/2 [==============================] - 0s 16ms/step - loss: 0.9323 - accuracy: 0.6629 - val_loss: 0.9471 - val_accuracy: 0.6493\n",
      "Epoch 205/10000\n",
      "2/2 [==============================] - 0s 18ms/step - loss: 0.9164 - accuracy: 0.6572 - val_loss: 1.1793 - val_accuracy: 0.5672\n",
      "Epoch 206/10000\n",
      "2/2 [==============================] - 0s 19ms/step - loss: 1.0453 - accuracy: 0.6142 - val_loss: 1.0378 - val_accuracy: 0.6173\n",
      "Epoch 207/10000\n",
      "2/2 [==============================] - 0s 16ms/step - loss: 1.0434 - accuracy: 0.6014 - val_loss: 0.9752 - val_accuracy: 0.6450\n",
      "Epoch 208/10000\n",
      "2/2 [==============================] - 0s 16ms/step - loss: 0.9568 - accuracy: 0.6486 - val_loss: 0.9824 - val_accuracy: 0.6439\n",
      "Epoch 209/10000\n",
      "2/2 [==============================] - 0s 15ms/step - loss: 0.9440 - accuracy: 0.6550 - val_loss: 0.9692 - val_accuracy: 0.6439\n",
      "Epoch 210/10000\n",
      "2/2 [==============================] - 0s 18ms/step - loss: 0.9375 - accuracy: 0.6526 - val_loss: 0.9722 - val_accuracy: 0.6429\n",
      "Epoch 211/10000\n",
      "2/2 [==============================] - 0s 18ms/step - loss: 0.9277 - accuracy: 0.6583 - val_loss: 0.9578 - val_accuracy: 0.6418\n",
      "Epoch 212/10000\n",
      "2/2 [==============================] - 0s 17ms/step - loss: 0.9175 - accuracy: 0.6618 - val_loss: 0.9705 - val_accuracy: 0.6525\n",
      "Epoch 213/10000\n",
      "2/2 [==============================] - 0s 16ms/step - loss: 0.9335 - accuracy: 0.6639 - val_loss: 0.9633 - val_accuracy: 0.6599\n",
      "Epoch 214/10000\n",
      "2/2 [==============================] - 0s 16ms/step - loss: 0.9198 - accuracy: 0.6583 - val_loss: 0.9402 - val_accuracy: 0.6620\n",
      "Epoch 215/10000\n",
      "2/2 [==============================] - 0s 16ms/step - loss: 0.9039 - accuracy: 0.6725 - val_loss: 0.9409 - val_accuracy: 0.6514\n",
      "Epoch 216/10000\n",
      "2/2 [==============================] - 0s 19ms/step - loss: 0.8996 - accuracy: 0.6625 - val_loss: 0.9891 - val_accuracy: 0.6354\n",
      "Epoch 217/10000\n",
      "2/2 [==============================] - 0s 16ms/step - loss: 0.9394 - accuracy: 0.6522 - val_loss: 0.9567 - val_accuracy: 0.6471\n",
      "Epoch 218/10000\n",
      "2/2 [==============================] - 0s 19ms/step - loss: 0.9030 - accuracy: 0.6668 - val_loss: 0.9463 - val_accuracy: 0.6588\n",
      "Epoch 219/10000\n",
      "2/2 [==============================] - 0s 17ms/step - loss: 0.9088 - accuracy: 0.6682 - val_loss: 0.9643 - val_accuracy: 0.6471\n",
      "Epoch 220/10000\n",
      "2/2 [==============================] - 0s 16ms/step - loss: 0.9230 - accuracy: 0.6615 - val_loss: 0.9406 - val_accuracy: 0.6738\n",
      "Epoch 221/10000\n",
      "2/2 [==============================] - 0s 17ms/step - loss: 0.9105 - accuracy: 0.6647 - val_loss: 0.9777 - val_accuracy: 0.6365\n",
      "Epoch 222/10000\n",
      "2/2 [==============================] - 0s 15ms/step - loss: 0.9414 - accuracy: 0.6465 - val_loss: 0.9980 - val_accuracy: 0.6333\n",
      "Epoch 223/10000\n",
      "2/2 [==============================] - 0s 16ms/step - loss: 0.9320 - accuracy: 0.6590 - val_loss: 0.9830 - val_accuracy: 0.6471\n",
      "Epoch 224/10000\n",
      "2/2 [==============================] - 0s 19ms/step - loss: 0.9368 - accuracy: 0.6497 - val_loss: 0.9966 - val_accuracy: 0.6247\n",
      "Epoch 225/10000\n",
      "2/2 [==============================] - 0s 16ms/step - loss: 0.9407 - accuracy: 0.6476 - val_loss: 0.9407 - val_accuracy: 0.6631\n",
      "Epoch 226/10000\n",
      "2/2 [==============================] - 0s 14ms/step - loss: 0.9093 - accuracy: 0.6689 - val_loss: 0.9303 - val_accuracy: 0.6610\n",
      "Epoch 227/10000\n",
      "2/2 [==============================] - 0s 15ms/step - loss: 0.9021 - accuracy: 0.6671 - val_loss: 0.9450 - val_accuracy: 0.6599\n",
      "Epoch 228/10000\n",
      "2/2 [==============================] - 0s 16ms/step - loss: 0.8999 - accuracy: 0.6615 - val_loss: 0.9652 - val_accuracy: 0.6514\n",
      "Epoch 229/10000\n"
     ]
    },
    {
     "name": "stdout",
     "output_type": "stream",
     "text": [
      "2/2 [==============================] - 0s 16ms/step - loss: 0.9141 - accuracy: 0.6629 - val_loss: 0.9596 - val_accuracy: 0.6429\n",
      "Epoch 230/10000\n",
      "2/2 [==============================] - 0s 16ms/step - loss: 0.8999 - accuracy: 0.6703 - val_loss: 0.9569 - val_accuracy: 0.6610\n",
      "Epoch 231/10000\n",
      "2/2 [==============================] - 0s 18ms/step - loss: 0.9218 - accuracy: 0.6558 - val_loss: 0.9372 - val_accuracy: 0.6578\n",
      "Epoch 232/10000\n",
      "2/2 [==============================] - 0s 16ms/step - loss: 0.8934 - accuracy: 0.6671 - val_loss: 0.9874 - val_accuracy: 0.6418\n",
      "Epoch 233/10000\n",
      "2/2 [==============================] - 0s 16ms/step - loss: 0.9178 - accuracy: 0.6515 - val_loss: 0.9419 - val_accuracy: 0.6514\n",
      "Epoch 234/10000\n",
      "2/2 [==============================] - 0s 19ms/step - loss: 0.9118 - accuracy: 0.6597 - val_loss: 0.9279 - val_accuracy: 0.6642\n",
      "Epoch 235/10000\n",
      "2/2 [==============================] - 0s 15ms/step - loss: 0.8937 - accuracy: 0.6693 - val_loss: 1.0203 - val_accuracy: 0.6258\n",
      "Epoch 236/10000\n",
      "2/2 [==============================] - 0s 15ms/step - loss: 0.9406 - accuracy: 0.6494 - val_loss: 0.9327 - val_accuracy: 0.6588\n",
      "Epoch 237/10000\n",
      "2/2 [==============================] - 0s 19ms/step - loss: 0.8911 - accuracy: 0.6732 - val_loss: 0.9283 - val_accuracy: 0.6706\n",
      "Epoch 238/10000\n",
      "2/2 [==============================] - 0s 19ms/step - loss: 0.8879 - accuracy: 0.6721 - val_loss: 0.9329 - val_accuracy: 0.6642\n",
      "Epoch 239/10000\n",
      "2/2 [==============================] - 0s 20ms/step - loss: 0.8854 - accuracy: 0.6778 - val_loss: 0.9625 - val_accuracy: 0.6365\n",
      "Epoch 240/10000\n",
      "2/2 [==============================] - 0s 18ms/step - loss: 0.9162 - accuracy: 0.6497 - val_loss: 0.9385 - val_accuracy: 0.6684\n",
      "Epoch 241/10000\n",
      "2/2 [==============================] - 0s 16ms/step - loss: 0.8895 - accuracy: 0.6817 - val_loss: 0.9838 - val_accuracy: 0.6535\n",
      "Epoch 242/10000\n",
      "2/2 [==============================] - 0s 16ms/step - loss: 0.9205 - accuracy: 0.6682 - val_loss: 0.9364 - val_accuracy: 0.6631\n",
      "Epoch 243/10000\n",
      "2/2 [==============================] - 0s 17ms/step - loss: 0.8875 - accuracy: 0.6735 - val_loss: 0.9202 - val_accuracy: 0.6738\n",
      "Epoch 244/10000\n",
      "2/2 [==============================] - 0s 16ms/step - loss: 0.8874 - accuracy: 0.6771 - val_loss: 0.9915 - val_accuracy: 0.6343\n",
      "Epoch 245/10000\n",
      "2/2 [==============================] - 0s 15ms/step - loss: 0.9389 - accuracy: 0.6508 - val_loss: 0.9862 - val_accuracy: 0.6343\n",
      "Epoch 246/10000\n",
      "2/2 [==============================] - 0s 19ms/step - loss: 0.9050 - accuracy: 0.6675 - val_loss: 0.9939 - val_accuracy: 0.6354\n",
      "Epoch 247/10000\n",
      "2/2 [==============================] - 0s 16ms/step - loss: 0.9491 - accuracy: 0.6547 - val_loss: 0.9929 - val_accuracy: 0.6397\n",
      "Epoch 248/10000\n",
      "2/2 [==============================] - 0s 16ms/step - loss: 0.9111 - accuracy: 0.6657 - val_loss: 0.9647 - val_accuracy: 0.6546\n",
      "Epoch 249/10000\n",
      "2/2 [==============================] - 0s 16ms/step - loss: 0.9271 - accuracy: 0.6586 - val_loss: 0.9676 - val_accuracy: 0.6365\n",
      "Epoch 250/10000\n",
      "2/2 [==============================] - 0s 17ms/step - loss: 0.9299 - accuracy: 0.6522 - val_loss: 0.9610 - val_accuracy: 0.6514\n",
      "Epoch 251/10000\n",
      "2/2 [==============================] - 0s 18ms/step - loss: 0.9075 - accuracy: 0.6700 - val_loss: 0.9597 - val_accuracy: 0.6578\n",
      "Epoch 252/10000\n",
      "2/2 [==============================] - 0s 16ms/step - loss: 0.9089 - accuracy: 0.6643 - val_loss: 0.9767 - val_accuracy: 0.6333\n",
      "Epoch 253/10000\n",
      "2/2 [==============================] - 0s 16ms/step - loss: 0.9027 - accuracy: 0.6696 - val_loss: 1.0478 - val_accuracy: 0.6162\n",
      "Epoch 254/10000\n",
      "2/2 [==============================] - 0s 16ms/step - loss: 1.0336 - accuracy: 0.6181 - val_loss: 1.1708 - val_accuracy: 0.5938\n",
      "Epoch 255/10000\n",
      "2/2 [==============================] - 0s 16ms/step - loss: 1.0190 - accuracy: 0.6326 - val_loss: 1.0883 - val_accuracy: 0.5991\n",
      "Epoch 256/10000\n",
      "2/2 [==============================] - 0s 16ms/step - loss: 1.0526 - accuracy: 0.5917 - val_loss: 1.2753 - val_accuracy: 0.5544\n",
      "Epoch 257/10000\n",
      "2/2 [==============================] - 0s 17ms/step - loss: 1.1164 - accuracy: 0.5921 - val_loss: 1.0497 - val_accuracy: 0.6183\n",
      "Epoch 258/10000\n",
      "2/2 [==============================] - 0s 18ms/step - loss: 1.0359 - accuracy: 0.5939 - val_loss: 1.1209 - val_accuracy: 0.5736\n",
      "Epoch 259/10000\n",
      "2/2 [==============================] - 0s 16ms/step - loss: 1.0209 - accuracy: 0.6181 - val_loss: 1.0784 - val_accuracy: 0.5714\n",
      "Epoch 260/10000\n",
      "2/2 [==============================] - 0s 17ms/step - loss: 1.0189 - accuracy: 0.6006 - val_loss: 0.9791 - val_accuracy: 0.6439\n",
      "Epoch 261/10000\n",
      "2/2 [==============================] - 0s 16ms/step - loss: 0.9501 - accuracy: 0.6501 - val_loss: 0.9679 - val_accuracy: 0.6493\n",
      "Epoch 262/10000\n",
      "2/2 [==============================] - 0s 16ms/step - loss: 0.9366 - accuracy: 0.6533 - val_loss: 1.0280 - val_accuracy: 0.6055\n",
      "Epoch 263/10000\n",
      "2/2 [==============================] - 0s 16ms/step - loss: 0.9610 - accuracy: 0.6326 - val_loss: 0.9835 - val_accuracy: 0.6333\n",
      "Epoch 264/10000\n",
      "2/2 [==============================] - 0s 19ms/step - loss: 0.9242 - accuracy: 0.6629 - val_loss: 0.9736 - val_accuracy: 0.6535\n",
      "Epoch 265/10000\n",
      "2/2 [==============================] - 0s 16ms/step - loss: 0.9438 - accuracy: 0.6657 - val_loss: 1.0046 - val_accuracy: 0.6215\n",
      "Epoch 266/10000\n",
      "2/2 [==============================] - 0s 15ms/step - loss: 0.9445 - accuracy: 0.6444 - val_loss: 1.0145 - val_accuracy: 0.6226\n",
      "Epoch 267/10000\n",
      "2/2 [==============================] - 0s 18ms/step - loss: 0.9419 - accuracy: 0.6554 - val_loss: 0.9681 - val_accuracy: 0.6503\n",
      "Epoch 268/10000\n",
      "2/2 [==============================] - 0s 16ms/step - loss: 0.9236 - accuracy: 0.6661 - val_loss: 0.9974 - val_accuracy: 0.6333\n",
      "Epoch 269/10000\n",
      "2/2 [==============================] - 0s 15ms/step - loss: 0.9331 - accuracy: 0.6430 - val_loss: 1.0568 - val_accuracy: 0.6087\n",
      "Epoch 270/10000\n",
      "2/2 [==============================] - 0s 15ms/step - loss: 0.9809 - accuracy: 0.6390 - val_loss: 0.9476 - val_accuracy: 0.6525\n",
      "Epoch 271/10000\n",
      "2/2 [==============================] - 0s 15ms/step - loss: 0.9102 - accuracy: 0.6629 - val_loss: 1.0009 - val_accuracy: 0.6098\n",
      "Epoch 272/10000\n",
      "2/2 [==============================] - 0s 15ms/step - loss: 0.9245 - accuracy: 0.6565 - val_loss: 1.0274 - val_accuracy: 0.6162\n",
      "Epoch 273/10000\n",
      "2/2 [==============================] - 0s 15ms/step - loss: 0.9379 - accuracy: 0.6522 - val_loss: 0.9735 - val_accuracy: 0.6343\n",
      "Epoch 274/10000\n",
      "2/2 [==============================] - 0s 16ms/step - loss: 0.9337 - accuracy: 0.6554 - val_loss: 0.9358 - val_accuracy: 0.6674\n",
      "Epoch 275/10000\n",
      "2/2 [==============================] - 0s 16ms/step - loss: 0.9059 - accuracy: 0.6611 - val_loss: 1.0437 - val_accuracy: 0.6173\n",
      "Epoch 276/10000\n",
      "2/2 [==============================] - 0s 19ms/step - loss: 0.9394 - accuracy: 0.6479 - val_loss: 0.9904 - val_accuracy: 0.6194\n",
      "Epoch 277/10000\n",
      "2/2 [==============================] - 0s 21ms/step - loss: 0.9348 - accuracy: 0.6476 - val_loss: 0.9469 - val_accuracy: 0.6652\n",
      "Epoch 278/10000\n",
      "2/2 [==============================] - 0s 18ms/step - loss: 0.9009 - accuracy: 0.6711 - val_loss: 0.9455 - val_accuracy: 0.6525\n",
      "Epoch 279/10000\n",
      "2/2 [==============================] - 0s 16ms/step - loss: 0.8833 - accuracy: 0.6807 - val_loss: 0.9456 - val_accuracy: 0.6599\n",
      "Epoch 280/10000\n",
      "2/2 [==============================] - 0s 15ms/step - loss: 0.8938 - accuracy: 0.6796 - val_loss: 0.9660 - val_accuracy: 0.6493\n",
      "Epoch 281/10000\n",
      "2/2 [==============================] - 0s 16ms/step - loss: 0.8832 - accuracy: 0.6824 - val_loss: 0.9486 - val_accuracy: 0.6599\n",
      "Epoch 282/10000\n",
      "2/2 [==============================] - 0s 16ms/step - loss: 0.9092 - accuracy: 0.6689 - val_loss: 0.9670 - val_accuracy: 0.6482\n",
      "Epoch 283/10000\n",
      "2/2 [==============================] - 0s 16ms/step - loss: 0.8886 - accuracy: 0.6700 - val_loss: 0.9572 - val_accuracy: 0.6567\n",
      "Epoch 284/10000\n",
      "2/2 [==============================] - 0s 16ms/step - loss: 0.9023 - accuracy: 0.6693 - val_loss: 0.9428 - val_accuracy: 0.6514\n",
      "Epoch 285/10000\n",
      "2/2 [==============================] - 0s 15ms/step - loss: 0.8721 - accuracy: 0.6785 - val_loss: 0.9212 - val_accuracy: 0.6738\n",
      "Epoch 286/10000\n"
     ]
    },
    {
     "name": "stdout",
     "output_type": "stream",
     "text": [
      "2/2 [==============================] - 0s 16ms/step - loss: 0.8713 - accuracy: 0.6853 - val_loss: 0.9569 - val_accuracy: 0.6514\n",
      "Epoch 287/10000\n",
      "2/2 [==============================] - 0s 20ms/step - loss: 0.8800 - accuracy: 0.6743 - val_loss: 0.9329 - val_accuracy: 0.6674\n",
      "Epoch 288/10000\n",
      "2/2 [==============================] - 0s 15ms/step - loss: 0.8801 - accuracy: 0.6789 - val_loss: 0.9697 - val_accuracy: 0.6429\n",
      "Epoch 289/10000\n",
      "2/2 [==============================] - 0s 16ms/step - loss: 0.8777 - accuracy: 0.6785 - val_loss: 0.9616 - val_accuracy: 0.6631\n",
      "Epoch 290/10000\n",
      "2/2 [==============================] - 0s 16ms/step - loss: 0.9123 - accuracy: 0.6611 - val_loss: 0.9893 - val_accuracy: 0.6375\n",
      "Epoch 291/10000\n",
      "2/2 [==============================] - 0s 17ms/step - loss: 0.9018 - accuracy: 0.6654 - val_loss: 0.9456 - val_accuracy: 0.6652\n",
      "Epoch 292/10000\n",
      "2/2 [==============================] - 0s 16ms/step - loss: 0.8995 - accuracy: 0.6682 - val_loss: 0.9683 - val_accuracy: 0.6418\n",
      "Epoch 293/10000\n",
      "2/2 [==============================] - 0s 17ms/step - loss: 0.9061 - accuracy: 0.6625 - val_loss: 0.9368 - val_accuracy: 0.6695\n",
      "CPU times: user 7.88 s, sys: 1.15 s, total: 9.03 s\n",
      "Wall time: 6.9 s\n"
     ]
    }
   ],
   "source": [
    "%%time\n",
    "hist = model.fit(x_train_1_reduced, y_train_oneot, \n",
    "                 epochs=10000,\n",
    "                 batch_size=2048,\n",
    "                 callbacks=[estop],\n",
    "                 validation_split=0.25)"
   ]
  },
  {
   "cell_type": "code",
   "execution_count": 115,
   "metadata": {},
   "outputs": [
    {
     "data": {
      "text/plain": [
       "<matplotlib.legend.Legend at 0x7fc702c452b0>"
      ]
     },
     "execution_count": 115,
     "metadata": {},
     "output_type": "execute_result"
    },
    {
     "data": {
      "image/png": "[encoded data removed]",
      "text/plain": [
       "<Figure size 432x288 with 1 Axes>"
      ]
     },
     "metadata": {
      "needs_background": "light"
     },
     "output_type": "display_data"
    }
   ],
   "source": [
    "import matplotlib.pyplot as plt\n",
    "plt.plot(hist.history['val_loss'], label='Validation')\n",
    "plt.plot(hist.history['loss'], label='Train')\n",
    "plt.legend()"
   ]
  },
  {
   "cell_type": "code",
   "execution_count": 116,
   "metadata": {},
   "outputs": [
    {
     "data": {
      "text/plain": [
       "<matplotlib.legend.Legend at 0x7fc70311fcc0>"
      ]
     },
     "execution_count": 116,
     "metadata": {},
     "output_type": "execute_result"
    },
    {
     "data": {
      "image/png": "[encoded data removed]",
      "text/plain": [
       "<Figure size 432x288 with 1 Axes>"
      ]
     },
     "metadata": {
      "needs_background": "light"
     },
     "output_type": "display_data"
    }
   ],
   "source": [
    "import matplotlib.pyplot as plt\n",
    "plt.plot(hist.history['val_accuracy'], label='Validation')\n",
    "plt.plot(hist.history['accuracy'], label='Train')\n",
    "plt.legend()"
   ]
  },
  {
   "cell_type": "code",
   "execution_count": 117,
   "metadata": {},
   "outputs": [
    {
     "name": "stdout",
     "output_type": "stream",
     "text": [
      "INFO:tensorflow:Assets written to: ./my_model_500/assets\n"
     ]
    }
   ],
   "source": [
    "model.save('./my_model_500')"
   ]
  },
  {
   "cell_type": "markdown",
   "metadata": {},
   "source": [
    "## Testing"
   ]
  },
  {
   "cell_type": "code",
   "execution_count": 118,
   "metadata": {},
   "outputs": [],
   "source": [
    "import tensorflow as tf\n",
    "import h5py\n",
    "import numpy as np\n",
    "\n",
    "from sklearn.metrics import precision_recall_fscore_support\n",
    "\n"
   ]
  },
  {
   "cell_type": "code",
   "execution_count": 119,
   "metadata": {},
   "outputs": [
    {
     "name": "stdout",
     "output_type": "stream",
     "text": [
      "/tf/astromer\n"
     ]
    }
   ],
   "source": [
    "cd /tf/astromer"
   ]
  },
  {
   "cell_type": "code",
   "execution_count": 120,
   "metadata": {},
   "outputs": [],
   "source": [
    "model = tf.keras.models.load_model('./my_model_500')"
   ]
  },
  {
   "cell_type": "code",
   "execution_count": 121,
   "metadata": {},
   "outputs": [],
   "source": [
    "metrics = []\n",
    "for i in range(1, 6):\n",
    "    with open('./alcock_emb/test_emb_{}.h5'.format(i), 'rb') as file:\n",
    "        hf = h5py.File(file)\n",
    "        x_test_time = hf['x'][()]\n",
    "        y_test = hf['y'][()]\n",
    "        l_test = hf['l'][()]\n",
    "        m_test = 1. - hf['m'][()]\n",
    "    n_classes = len(np.unique(y_test))\n",
    "    x_test = np.sum(x_test_time*m_test, 1)/l_test[:,None]\n",
    "    \n",
    "    indices = np.random.randint(x_test.shape[0], size=750)\n",
    "    x_test_reduced = x_test[indices]\n",
    "    y_test_reduced = y_test[indices]\n",
    "    \n",
    "    y_pred = model.predict(x_test)\n",
    "    y_pred_labs = tf.argmax(y_pred, 1)\n",
    "    prec, rec, f1, _ = precision_recall_fscore_support(y_test, y_pred_labs, average='macro')\n",
    "    metrics.append([prec, rec, f1])"
   ]
  },
  {
   "cell_type": "code",
   "execution_count": 122,
   "metadata": {},
   "outputs": [
    {
     "data": {
      "text/plain": [
       "array([0.66200063, 0.65999467, 0.65490203])"
      ]
     },
     "execution_count": 122,
     "metadata": {},
     "output_type": "execute_result"
    }
   ],
   "source": [
    "np.mean(metrics, 0)"
   ]
  },
  {
   "cell_type": "code",
   "execution_count": 123,
   "metadata": {},
   "outputs": [
    {
     "data": {
      "text/plain": [
       "array([0.00305335, 0.00351824, 0.00300953])"
      ]
     },
     "execution_count": 123,
     "metadata": {},
     "output_type": "execute_result"
    }
   ],
   "source": [
    "np.std(metrics, 0)"
   ]
  },
  {
   "cell_type": "code",
   "execution_count": 46,
   "metadata": {},
   "outputs": [],
   "source": [
    "\n",
    "y_test_oneot = tf.one_hot(y_test, n_classes)"
   ]
  },
  {
   "cell_type": "code",
   "execution_count": 47,
   "metadata": {},
   "outputs": [],
   "source": []
  },
  {
   "cell_type": "code",
   "execution_count": 48,
   "metadata": {},
   "outputs": [],
   "source": []
  },
  {
   "cell_type": "code",
   "execution_count": 49,
   "metadata": {},
   "outputs": [],
   "source": []
  },
  {
   "cell_type": "code",
   "execution_count": 50,
   "metadata": {},
   "outputs": [],
   "source": []
  },
  {
   "cell_type": "code",
   "execution_count": 52,
   "metadata": {},
   "outputs": [
    {
     "data": {
      "text/plain": [
       "0.7267764383210342"
      ]
     },
     "execution_count": 52,
     "metadata": {},
     "output_type": "execute_result"
    }
   ],
   "source": [
    "f1"
   ]
  },
  {
   "cell_type": "code",
   "execution_count": null,
   "metadata": {},
   "outputs": [],
   "source": []
  }
 ],
 "metadata": {
  "kernelspec": {
   "display_name": "Python 3",
   "language": "python",
   "name": "python3"
  },
  "language_info": {
   "codemirror_mode": {
    "name": "ipython",
    "version": 3
   },
   "file_extension": ".py",
   "mimetype": "text/x-python",
   "name": "python",
   "nbconvert_exporter": "python",
   "pygments_lexer": "ipython3",
   "version": "3.6.9"
  }
 },
 "nbformat": 4,
 "nbformat_minor": 2
}
