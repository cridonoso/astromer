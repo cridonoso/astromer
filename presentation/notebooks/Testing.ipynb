{
 "cells": [
  {
   "cell_type": "code",
   "execution_count": 1,
   "metadata": {},
   "outputs": [
    {
     "name": "stdout",
     "output_type": "stream",
     "text": [
      "/home\n"
     ]
    }
   ],
   "source": [
    "cd ../.."
   ]
  },
  {
   "cell_type": "code",
   "execution_count": 2,
   "metadata": {},
   "outputs": [],
   "source": [
    "import matplotlib.pyplot as plt\n",
    "import tensorflow as tf \n",
    "import pandas as pd\n",
    "import json\n",
    "import sys,os\n",
    "import pickle\n",
    "# from core.losses import custom_rmse\n",
    "from core.data  import pretraining_records\n",
    "\n",
    "%load_ext autoreload\n",
    "%autoreload 2\n",
    "\n",
    "os.environ[\"CUDA_VISIBLE_DEVICES\"] = \"-1\""
   ]
  },
  {
   "cell_type": "code",
   "execution_count": 3,
   "metadata": {},
   "outputs": [],
   "source": [
    "data_folder = './data/records/alcock/fold_0/alcock_500/'"
   ]
  },
  {
   "cell_type": "code",
   "execution_count": 4,
   "metadata": {},
   "outputs": [
    {
     "name": "stderr",
     "output_type": "stream",
     "text": [
      "2022-07-25 17:56:53.658851: E tensorflow/stream_executor/cuda/cuda_driver.cc:271] failed call to cuInit: UNKNOWN ERROR (34)\n",
      "2022-07-25 17:56:53.658901: I tensorflow/stream_executor/cuda/cuda_diagnostics.cc:156] kernel driver does not appear to be running on this host (a28017ddb5e1): /proc/driver/nvidia/version does not exist\n",
      "2022-07-25 17:56:53.659266: I tensorflow/core/platform/cpu_feature_guard.cc:151] This TensorFlow binary is optimized with oneAPI Deep Neural Network Library (oneDNN) to use the following CPU instructions in performance-critical operations:  AVX2 AVX512F FMA\n",
      "To enable them in other operations, rebuild TensorFlow with the appropriate compiler flags.\n"
     ]
    }
   ],
   "source": [
    "dataset = pretraining_records(os.path.join(data_folder, 'train'),\n",
    "                                           256,\n",
    "                                            max_obs=200,\n",
    "                                            shuffle=True,\n",
    "                                            msk_frac=.5,\n",
    "                                            rnd_frac=.2,\n",
    "                                            same_frac=.2)\n",
    "\n",
    "def separate_data(x):\n",
    "    return x['input'], x['output']\n",
    "\n",
    "dataset = dataset.map(separate_data)"
   ]
  },
  {
   "cell_type": "code",
   "execution_count": 5,
   "metadata": {},
   "outputs": [],
   "source": [
    "serie  = tf.keras.Input(shape=(200, 1),\n",
    "              batch_size=None,\n",
    "              name='input')\n",
    "\n",
    "x = tf.keras.layers.Dense(256)(serie)\n",
    "x = tf.keras.layers.Dense(512)(x)\n",
    "x = tf.keras.layers.Dense(1)(x)\n",
    "\n",
    "model = tf.keras.Model(inputs=serie,\n",
    "      outputs=x,\n",
    "      name=\"ToyModel\")"
   ]
  },
  {
   "cell_type": "code",
   "execution_count": 6,
   "metadata": {},
   "outputs": [],
   "source": [
    "model.compile(optimizer='adam', \n",
    "              loss=tf.keras.losses.MeanSquaredError(), \n",
    "              metrics=tf.keras.metrics.RootMeanSquaredError())"
   ]
  },
  {
   "cell_type": "code",
   "execution_count": 7,
   "metadata": {},
   "outputs": [
    {
     "name": "stderr",
     "output_type": "stream",
     "text": [
      "2022-07-25 17:56:57.423368: I tensorflow/core/profiler/lib/profiler_session.cc:110] Profiler session initializing.\n",
      "2022-07-25 17:56:57.423426: I tensorflow/core/profiler/lib/profiler_session.cc:125] Profiler session started.\n",
      "2022-07-25 17:56:57.423740: I tensorflow/core/profiler/lib/profiler_session.cc:143] Profiler session tear down.\n"
     ]
    }
   ],
   "source": [
    "tb = tf.keras.callbacks.TensorBoard(\n",
    "    log_dir='./runs/logs',\n",
    "    histogram_freq=1,\n",
    "    write_graph=True,\n",
    "    update_freq='epoch',\n",
    "    profile_batch='10, 15',\n",
    ")"
   ]
  },
  {
   "cell_type": "code",
   "execution_count": null,
   "metadata": {},
   "outputs": [
    {
     "name": "stdout",
     "output_type": "stream",
     "text": [
      "Epoch 1/5\n",
      "      9/Unknown - 3s 241ms/step - loss: 0.0198 - root_mean_squared_error: 0.1406"
     ]
    },
    {
     "name": "stderr",
     "output_type": "stream",
     "text": [
      "2022-07-25 17:57:05.315150: I tensorflow/core/profiler/lib/profiler_session.cc:110] Profiler session initializing.\n",
      "2022-07-25 17:57:05.315187: I tensorflow/core/profiler/lib/profiler_session.cc:125] Profiler session started.\n"
     ]
    },
    {
     "name": "stdout",
     "output_type": "stream",
     "text": [
      "     14/Unknown - 4s 237ms/step - loss: 0.0179 - root_mean_squared_error: 0.1337"
     ]
    },
    {
     "name": "stderr",
     "output_type": "stream",
     "text": [
      "2022-07-25 17:57:06.698096: I tensorflow/core/profiler/lib/profiler_session.cc:67] Profiler session collecting data.\n",
      "2022-07-25 17:57:06.753968: I tensorflow/core/profiler/lib/profiler_session.cc:143] Profiler session tear down.\n",
      "2022-07-25 17:57:06.842638: I tensorflow/core/profiler/rpc/client/save_profile.cc:136] Creating directory: ./runs/logs/plugins/profile/2022_07_25_17_57_06\n",
      "\n"
     ]
    },
    {
     "name": "stdout",
     "output_type": "stream",
     "text": [
      "\b\b\b\b\b\b\b\b\b\b\b\b\b\b\b\b\b\b\b\b\b\b\b\b\b\b\b\b\b\b\b\b\b\b\b\b\b\b\b\b\b\b\b\b\b\b\b\b\b\b\b\b\b\b\b\b\b\b\b\b\b\b\b\b\b\b\b\b\b\b\b\b\b\b\b\b\b\b\b\b\r",
      "     15/Unknown - 4s 256ms/step - loss: 0.0176 - root_mean_squared_error: 0.1325"
     ]
    },
    {
     "name": "stderr",
     "output_type": "stream",
     "text": [
      "2022-07-25 17:57:06.921117: I tensorflow/core/profiler/rpc/client/save_profile.cc:142] Dumped gzipped tool data for trace.json.gz to ./runs/logs/plugins/profile/2022_07_25_17_57_06/a28017ddb5e1.trace.json.gz\n",
      "2022-07-25 17:57:06.958067: I tensorflow/core/profiler/rpc/client/save_profile.cc:136] Creating directory: ./runs/logs/plugins/profile/2022_07_25_17_57_06\n",
      "\n",
      "2022-07-25 17:57:06.958202: I tensorflow/core/profiler/rpc/client/save_profile.cc:142] Dumped gzipped tool data for memory_profile.json.gz to ./runs/logs/plugins/profile/2022_07_25_17_57_06/a28017ddb5e1.memory_profile.json.gz\n",
      "2022-07-25 17:57:06.959437: I tensorflow/core/profiler/rpc/client/capture_profile.cc:251] Creating directory: ./runs/logs/plugins/profile/2022_07_25_17_57_06\n",
      "Dumped tool data for xplane.pb to ./runs/logs/plugins/profile/2022_07_25_17_57_06/a28017ddb5e1.xplane.pb\n",
      "Dumped tool data for overview_page.pb to ./runs/logs/plugins/profile/2022_07_25_17_57_06/a28017ddb5e1.overview_page.pb\n",
      "Dumped tool data for input_pipeline.pb to ./runs/logs/plugins/profile/2022_07_25_17_57_06/a28017ddb5e1.input_pipeline.pb\n",
      "Dumped tool data for tensorflow_stats.pb to ./runs/logs/plugins/profile/2022_07_25_17_57_06/a28017ddb5e1.tensorflow_stats.pb\n",
      "Dumped tool data for kernel_stats.pb to ./runs/logs/plugins/profile/2022_07_25_17_57_06/a28017ddb5e1.kernel_stats.pb\n",
      "\n"
     ]
    },
    {
     "name": "stdout",
     "output_type": "stream",
     "text": [
      "38/38 [==============================] - 10s 241ms/step - loss: 0.0128 - root_mean_squared_error: 0.1130\n",
      "Epoch 2/5\n",
      "38/38 [==============================] - 8s 222ms/step - loss: 0.0080 - root_mean_squared_error: 0.0893\n",
      "Epoch 3/5\n",
      "38/38 [==============================] - 8s 218ms/step - loss: 0.0079 - root_mean_squared_error: 0.0887\n",
      "Epoch 4/5\n",
      "26/38 [===================>..........] - ETA: 2s - loss: 0.0073 - root_mean_squared_error: 0.0853"
     ]
    }
   ],
   "source": [
    "model.fit(dataset, epochs=5, callbacks=[tb])"
   ]
  },
  {
   "cell_type": "code",
   "execution_count": null,
   "metadata": {},
   "outputs": [],
   "source": []
  },
  {
   "cell_type": "code",
   "execution_count": null,
   "metadata": {},
   "outputs": [],
   "source": []
  },
  {
   "cell_type": "code",
   "execution_count": null,
   "metadata": {},
   "outputs": [],
   "source": []
  },
  {
   "cell_type": "code",
   "execution_count": null,
   "metadata": {},
   "outputs": [],
   "source": []
  },
  {
   "cell_type": "code",
   "execution_count": null,
   "metadata": {},
   "outputs": [],
   "source": []
  }
 ],
 "metadata": {
  "kernelspec": {
   "display_name": "Python 3 (ipykernel)",
   "language": "python",
   "name": "python3"
  },
  "language_info": {
   "codemirror_mode": {
    "name": "ipython",
    "version": 3
   },
   "file_extension": ".py",
   "mimetype": "text/x-python",
   "name": "python",
   "nbconvert_exporter": "python",
   "pygments_lexer": "ipython3",
   "version": "3.8.10"
  }
 },
 "nbformat": 4,
 "nbformat_minor": 2
}
