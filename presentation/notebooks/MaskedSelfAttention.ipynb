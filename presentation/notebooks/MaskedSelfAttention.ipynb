{
 "cells": [
  {
   "cell_type": "code",
   "execution_count": 2,
   "id": "1abb0031",
   "metadata": {},
   "outputs": [
    {
     "name": "stdout",
     "output_type": "stream",
     "text": [
      "/home\n"
     ]
    }
   ],
   "source": [
    "cd /home"
   ]
  },
  {
   "cell_type": "code",
   "execution_count": 31,
   "id": "2948dfce",
   "metadata": {},
   "outputs": [
    {
     "name": "stdout",
     "output_type": "stream",
     "text": [
      "The autoreload extension is already loaded. To reload it, use:\n",
      "  %reload_ext autoreload\n"
     ]
    }
   ],
   "source": [
    "import matplotlib.pyplot as plt \n",
    "import tensorflow as tf\n",
    "\n",
    "from src.layers.attention import scaled_dot_product_attention\n",
    "\n",
    "%load_ext autoreload\n",
    "%autoreload 2"
   ]
  },
  {
   "cell_type": "code",
   "execution_count": 142,
   "id": "8877fd34",
   "metadata": {},
   "outputs": [],
   "source": [
    "num_head = 4\n",
    "window_size = 100\n",
    "head_dim = 32\n",
    "\n",
    "Q = tf.random.normal([1, num_head, window_size, head_dim])\n",
    "K = tf.random.normal([1, num_head, window_size, head_dim])\n",
    "V = tf.random.normal([1, num_head, window_size, head_dim])\n",
    "\n",
    "mask = tf.concat([tf.ones(10), tf.zeros(90)], 0)\n",
    "mask = tf.reshape(mask, [1, -1, 1])"
   ]
  },
  {
   "cell_type": "code",
   "execution_count": null,
   "id": "ee290f68",
   "metadata": {},
   "outputs": [],
   "source": []
  },
  {
   "cell_type": "code",
   "execution_count": 143,
   "id": "dc5dcd62",
   "metadata": {},
   "outputs": [],
   "source": [
    "alphasneg = tf.linspace(-1e9, 1, 100)\n",
    "alphaspos = tf.linspace(1., 1e9, 100)\n",
    "\n",
    "alphas = tf.concat([alphasneg, alphaspos], axis=0)"
   ]
  },
  {
   "cell_type": "code",
   "execution_count": 144,
   "id": "0ba1dd3f",
   "metadata": {},
   "outputs": [],
   "source": [
    "\n",
    "ratios = []\n",
    "for alp in alphas:\n",
    "\n",
    "    scaled_attention, \\\n",
    "    attention_weights = scaled_dot_product_attention(Q, K, V, mask=mask, alpha=alp)\n",
    "\n",
    "    mean_mask = tf.reduce_mean(attention_weights[0, 0, :10])\n",
    "    mean_rest = tf.reduce_mean(attention_weights[0, 0, 10:])\n",
    "    \n",
    "    ratios.append(mean_mask)"
   ]
  },
  {
   "cell_type": "code",
   "execution_count": 146,
   "id": "c44962cc",
   "metadata": {},
   "outputs": [
    {
     "data": {
      "text/plain": [
       "Text(0, 0.5, '$e^{QK + M\\\\alpha}$')"
      ]
     },
     "execution_count": 146,
     "metadata": {},
     "output_type": "execute_result"
    },
    {
     "data": {
      "image/png": "[encoded data removed]",
      "text/plain": [
       "<Figure size 1000x300 with 1 Axes>"
      ]
     },
     "metadata": {},
     "output_type": "display_data"
    }
   ],
   "source": [
    "plt.figure(figsize=(10,3))\n",
    "plt.plot(alphas, ratios)\n",
    "plt.axvline(x=1, color='red', label='Bugstromer')\n",
    "plt.xscale('symlog')\n",
    "plt.xlabel(r'$\\alpha$')\n",
    "plt.ylabel(r'$e^{QK + M\\alpha}$')"
   ]
  },
  {
   "cell_type": "code",
   "execution_count": 132,
   "id": "eb285782",
   "metadata": {},
   "outputs": [
    {
     "data": {
      "text/plain": [
       "<tf.Tensor: shape=(), dtype=float32, numpy=0.010000001>"
      ]
     },
     "execution_count": 132,
     "metadata": {},
     "output_type": "execute_result"
    }
   ],
   "source": [
    "tf.reduce_max(ratios)"
   ]
  },
  {
   "cell_type": "code",
   "execution_count": null,
   "id": "36238b1c",
   "metadata": {},
   "outputs": [],
   "source": []
  }
 ],
 "metadata": {
  "kernelspec": {
   "display_name": "Python 3 (ipykernel)",
   "language": "python",
   "name": "python3"
  },
  "language_info": {
   "codemirror_mode": {
    "name": "ipython",
    "version": 3
   },
   "file_extension": ".py",
   "mimetype": "text/x-python",
   "name": "python",
   "nbconvert_exporter": "python",
   "pygments_lexer": "ipython3",
   "version": "3.8.10"
  }
 },
 "nbformat": 4,
 "nbformat_minor": 5
}
