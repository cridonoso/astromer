{
 "cells": [
  {
   "attachments": {},
   "cell_type": "markdown",
   "id": "419af99d",
   "metadata": {},
   "source": [
    "In this notebook, we will try to create a function to read a a parquet file (or multiple ones) and filter by IDs."
   ]
  },
  {
   "cell_type": "code",
   "execution_count": 1,
   "id": "f2a20a3a",
   "metadata": {
    "tags": []
   },
   "outputs": [],
   "source": [
    "import pandas as pd\n",
    "import numpy as np\n",
    "from os.path import join\n",
    "import polars as pl\n",
    "import os\n",
    "from glob import glob\n",
    "import sys\n",
    "sys.path.append('/home/Samsung2TB/')\n",
    "sys.path.append('/home/Samsung2TB/astromer/')\n",
    "from tqdm import tqdm\n",
    "import os\n",
    "from joblib import Parallel, delayed\n",
    "from astromer.src.data.record import DataPipeline\n",
    "import tensorflow as tf\n",
    "\n",
    "from concurrent.futures import ProcessPoolExecutor, ThreadPoolExecutor\n",
    "from time import time"
   ]
  },
  {
   "cell_type": "code",
   "execution_count": 2,
   "id": "c2991d6c-e409-4a12-bbe9-cda66b66ce4a",
   "metadata": {
    "tags": []
   },
   "outputs": [],
   "source": [
    "local_path = '/home/Samsung2TB/Databases/MACHO/'"
   ]
  },
  {
   "attachments": {},
   "cell_type": "markdown",
   "id": "1b80e971",
   "metadata": {},
   "source": [
    "Medatada is now a parquet file, with the column newID, which is an integer."
   ]
  },
  {
   "cell_type": "code",
   "execution_count": 3,
   "id": "6ca7c0eb",
   "metadata": {
    "tags": []
   },
   "outputs": [
    {
     "data": {
      "text/html": [
       "<div>\n",
       "<style scoped>\n",
       "    .dataframe tbody tr th:only-of-type {\n",
       "        vertical-align: middle;\n",
       "    }\n",
       "\n",
       "    .dataframe tbody tr th {\n",
       "        vertical-align: top;\n",
       "    }\n",
       "\n",
       "    .dataframe thead th {\n",
       "        text-align: right;\n",
       "    }\n",
       "</style>\n",
       "<table border=\"1\" class=\"dataframe\">\n",
       "  <thead>\n",
       "    <tr style=\"text-align: right;\">\n",
       "      <th></th>\n",
       "      <th>ID</th>\n",
       "      <th>Path</th>\n",
       "      <th>N</th>\n",
       "      <th>Band</th>\n",
       "      <th>Class</th>\n",
       "      <th>newID</th>\n",
       "      <th>Chunk</th>\n",
       "    </tr>\n",
       "  </thead>\n",
       "  <tbody>\n",
       "    <tr>\n",
       "      <th>0</th>\n",
       "      <td>F_103.24812.179</td>\n",
       "      <td>./R/LCs/F_103.24812.179.dat</td>\n",
       "      <td>278</td>\n",
       "      <td>R</td>\n",
       "      <td>NonVar</td>\n",
       "      <td>0</td>\n",
       "      <td>0</td>\n",
       "    </tr>\n",
       "    <tr>\n",
       "      <th>1</th>\n",
       "      <td>F_104.20640.4890</td>\n",
       "      <td>./R/LCs/F_104.20640.4890.dat</td>\n",
       "      <td>1603</td>\n",
       "      <td>R</td>\n",
       "      <td>NonVar</td>\n",
       "      <td>1</td>\n",
       "      <td>0</td>\n",
       "    </tr>\n",
       "    <tr>\n",
       "      <th>2</th>\n",
       "      <td>F_104.20000.1814</td>\n",
       "      <td>./R/LCs/F_104.20000.1814.dat</td>\n",
       "      <td>1597</td>\n",
       "      <td>R</td>\n",
       "      <td>NonVar</td>\n",
       "      <td>2</td>\n",
       "      <td>0</td>\n",
       "    </tr>\n",
       "    <tr>\n",
       "      <th>3</th>\n",
       "      <td>F_101.21431.87</td>\n",
       "      <td>./R/LCs/F_101.21431.87.dat</td>\n",
       "      <td>785</td>\n",
       "      <td>R</td>\n",
       "      <td>NonVar</td>\n",
       "      <td>3</td>\n",
       "      <td>0</td>\n",
       "    </tr>\n",
       "    <tr>\n",
       "      <th>4</th>\n",
       "      <td>F_102.22468.92</td>\n",
       "      <td>./R/LCs/F_102.22468.92.dat</td>\n",
       "      <td>414</td>\n",
       "      <td>R</td>\n",
       "      <td>NonVar</td>\n",
       "      <td>4</td>\n",
       "      <td>0</td>\n",
       "    </tr>\n",
       "  </tbody>\n",
       "</table>\n",
       "</div>"
      ],
      "text/plain": [
       "                 ID                          Path     N Band   Class  newID  \\\n",
       "0   F_103.24812.179   ./R/LCs/F_103.24812.179.dat   278    R  NonVar      0   \n",
       "1  F_104.20640.4890  ./R/LCs/F_104.20640.4890.dat  1603    R  NonVar      1   \n",
       "2  F_104.20000.1814  ./R/LCs/F_104.20000.1814.dat  1597    R  NonVar      2   \n",
       "3    F_101.21431.87    ./R/LCs/F_101.21431.87.dat   785    R  NonVar      3   \n",
       "4    F_102.22468.92    ./R/LCs/F_102.22468.92.dat   414    R  NonVar      4   \n",
       "\n",
       "   Chunk  \n",
       "0      0  \n",
       "1      0  \n",
       "2      0  \n",
       "3      0  \n",
       "4      0  "
      ]
     },
     "execution_count": 3,
     "metadata": {},
     "output_type": "execute_result"
    }
   ],
   "source": [
    "METAPATH = join(local_path, 'metadata.parquet')\n",
    "LCDIR =  join(local_path, 'parquets/')\n",
    "metadata = pd.read_parquet(METAPATH)\n",
    "metadata.head()"
   ]
  },
  {
   "cell_type": "code",
   "execution_count": 4,
   "id": "98509efb-a445-4d1e-96ff-237b66cf24fd",
   "metadata": {
    "tags": []
   },
   "outputs": [],
   "source": [
    "metadata['Class'] = pd.Categorical(metadata['Class'])\n",
    "metadata['Label'] = metadata['Class'].cat.codes\n",
    "metadata['Path'] = metadata['Path'].apply(lambda x: os.path.join(LCDIR, x)) "
   ]
  },
  {
   "attachments": {},
   "cell_type": "markdown",
   "id": "5a12bfbc-e2eb-4fe7-9ee5-e7b0a30550a6",
   "metadata": {},
   "source": [
    "The light curves are stored in parquet format, with the column newID to identify the object."
   ]
  },
  {
   "cell_type": "code",
   "execution_count": 5,
   "id": "9627757d-5109-4897-87ca-fd29dcdae030",
   "metadata": {
    "tags": []
   },
   "outputs": [
    {
     "data": {
      "text/html": [
       "<div><style>\n",
       ".dataframe > thead > tr > th,\n",
       ".dataframe > tbody > tr > td {\n",
       "  text-align: right;\n",
       "}\n",
       "</style>\n",
       "<small>shape: (5, 4)</small><table border=\"1\" class=\"dataframe\"><thead><tr><th>mjd</th><th>mag</th><th>err</th><th>newID</th></tr><tr><td>f64</td><td>f64</td><td>f64</td><td>i64</td></tr></thead><tbody><tr><td>49066.7866</td><td>-4.517</td><td>0.396</td><td>1625000</td></tr><tr><td>49078.797</td><td>-4.834</td><td>0.356</td><td>1625000</td></tr><tr><td>49082.788</td><td>-4.798</td><td>0.516</td><td>1625000</td></tr><tr><td>49094.7793</td><td>-4.63</td><td>0.367</td><td>1625000</td></tr><tr><td>49095.7186</td><td>-4.342</td><td>0.284</td><td>1625000</td></tr></tbody></table></div>"
      ],
      "text/plain": [
       "shape: (5, 4)\n",
       "┌────────────┬────────┬───────┬─────────┐\n",
       "│ mjd        ┆ mag    ┆ err   ┆ newID   │\n",
       "│ ---        ┆ ---    ┆ ---   ┆ ---     │\n",
       "│ f64        ┆ f64    ┆ f64   ┆ i64     │\n",
       "╞════════════╪════════╪═══════╪═════════╡\n",
       "│ 49066.7866 ┆ -4.517 ┆ 0.396 ┆ 1625000 │\n",
       "│ 49078.797  ┆ -4.834 ┆ 0.356 ┆ 1625000 │\n",
       "│ 49082.788  ┆ -4.798 ┆ 0.516 ┆ 1625000 │\n",
       "│ 49094.7793 ┆ -4.63  ┆ 0.367 ┆ 1625000 │\n",
       "│ 49095.7186 ┆ -4.342 ┆ 0.284 ┆ 1625000 │\n",
       "└────────────┴────────┴───────┴─────────┘"
      ]
     },
     "execution_count": 5,
     "metadata": {},
     "output_type": "execute_result"
    }
   ],
   "source": [
    "parquets = glob(LCDIR+ '*')\n",
    "pl.read_parquet(parquets[0]).head()"
   ]
  },
  {
   "attachments": {},
   "cell_type": "markdown",
   "id": "30568f66-d989-4e89-b578-904937cba058",
   "metadata": {},
   "source": [
    "In each parquet file, 25000 were written. \n",
    "\n",
    "# Test the new functionality\n",
    "\n",
    "First run is slower because of the caching. "
   ]
  },
  {
   "cell_type": "code",
   "execution_count": 6,
   "id": "6f39cf14-1805-49af-9a73-30b5c1d8625d",
   "metadata": {
    "tags": []
   },
   "outputs": [
    {
     "name": "stdout",
     "output_type": "stream",
     "text": [
      "[INFO] 100 samples loaded\n",
      "[INFO] Using ID col as sample identifier\n",
      "[INFO] Shuffling\n",
      "[INFO] Shuffling\n"
     ]
    },
    {
     "name": "stderr",
     "output_type": "stream",
     "text": [
      "Writting test fold 1:   0%|\u001b[38;2;0;255;0m                               \u001b[0m| 0/2 [00:00<?, ?it/s]\u001b[0m"
     ]
    },
    {
     "name": "stdout",
     "output_type": "stream",
     "text": [
      "0.591048002243042\n"
     ]
    },
    {
     "name": "stderr",
     "output_type": "stream",
     "text": [
      "\n"
     ]
    }
   ],
   "source": [
    "metadata_sample = metadata.iloc[:100].copy()\n",
    "\n",
    "myPipeline = DataPipeline(metadata=metadata_sample, \n",
    "                            context_features=['ID', 'Label', 'Class'],\n",
    "                            sequential_features=['mjd', 'mag'],)\n",
    "test_metadata = metadata_sample.sample(n=10)\n",
    "k_folds = 2\n",
    "\n",
    "myPipeline.train_val_test(val_frac=0.2, \n",
    "                        test_meta=[test_metadata], \n",
    "                        k_fold=k_folds)\n",
    "\n",
    "a = time()\n",
    "var = myPipeline.run( LCDIR, METAPATH ,n_jobs=2,)\n",
    "b = time()\n",
    "print(b-a)"
   ]
  },
  {
   "cell_type": "code",
   "execution_count": 7,
   "id": "245173ff-4126-45d7-9882-ef6d0e67a511",
   "metadata": {},
   "outputs": [
    {
     "name": "stdout",
     "output_type": "stream",
     "text": [
      "[INFO] 10000 samples loaded\n",
      "[INFO] Using ID col as sample identifier\n",
      "[INFO] Shuffling\n",
      "[INFO] Shuffling\n"
     ]
    }
   ],
   "source": [
    "M=10000\n",
    "metadata_sample = metadata.sample(M, replace=False)\n",
    "\n",
    "myPipeline = DataPipeline(metadata=metadata_sample, \n",
    "                            context_features=['ID', 'Label', 'Class'],\n",
    "                            sequential_features=['mjd', 'mag'],)\n",
    "test_metadata = metadata_sample.sample(n=100)\n",
    "k_folds = 2\n",
    "\n",
    "myPipeline.train_val_test(val_frac=0.2, \n",
    "                        test_meta=[test_metadata], \n",
    "                        k_fold=k_folds)"
   ]
  },
  {
   "cell_type": "code",
   "execution_count": 8,
   "id": "26c49f13-d02f-4f40-bbac-745b808784b1",
   "metadata": {},
   "outputs": [
    {
     "name": "stderr",
     "output_type": "stream",
     "text": [
      "Writting test fold 1:   0%|\u001b[38;2;0;255;0m                               \u001b[0m| 0/2 [00:21<?, ?it/s]\u001b[0m"
     ]
    },
    {
     "name": "stdout",
     "output_type": "stream",
     "text": [
      "21.27983045578003\n"
     ]
    },
    {
     "name": "stderr",
     "output_type": "stream",
     "text": [
      "\n"
     ]
    }
   ],
   "source": [
    "a = time()\n",
    "var = myPipeline.run( LCDIR, METAPATH ,n_jobs=2,)\n",
    "b = time()\n",
    "print(b-a)"
   ]
  },
  {
   "cell_type": "code",
   "execution_count": null,
   "id": "de417698-6832-44be-ba60-18982db3d8d6",
   "metadata": {},
   "outputs": [],
   "source": []
  }
 ],
 "metadata": {
  "kernelspec": {
   "display_name": "Python 3 (ipykernel)",
   "language": "python",
   "name": "python3"
  },
  "language_info": {
   "codemirror_mode": {
    "name": "ipython",
    "version": 3
   },
   "file_extension": ".py",
   "mimetype": "text/x-python",
   "name": "python",
   "nbconvert_exporter": "python",
   "pygments_lexer": "ipython3",
   "version": "3.8.12"
  }
 },
 "nbformat": 4,
 "nbformat_minor": 5
}
