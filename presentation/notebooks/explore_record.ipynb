{
 "cells": [
  {
   "cell_type": "code",
   "execution_count": 1,
   "metadata": {},
   "outputs": [
    {
     "name": "stdout",
     "output_type": "stream",
     "text": [
      "/tf/astromer\n"
     ]
    }
   ],
   "source": [
    "cd /tf/astromer"
   ]
  },
  {
   "cell_type": "code",
   "execution_count": 13,
   "metadata": {},
   "outputs": [
    {
     "name": "stdout",
     "output_type": "stream",
     "text": [
      "The autoreload extension is already loaded. To reload it, use:\n",
      "  %reload_ext autoreload\n"
     ]
    }
   ],
   "source": [
    "import tensorflow as tf\n",
    "import matplotlib.pyplot as plt\n",
    "import numpy as np\n",
    "import sys,os\n",
    "%load_ext autoreload\n",
    "%autoreload 2"
   ]
  },
  {
   "cell_type": "code",
   "execution_count": 3,
   "metadata": {},
   "outputs": [],
   "source": [
    "serie_original = tf.random.normal([101, 3])\n",
    "serie_random = tf.random.normal([101, 3]) # random\n",
    "\n",
    "max_obs   = 75"
   ]
  },
  {
   "cell_type": "code",
   "execution_count": 8,
   "metadata": {},
   "outputs": [],
   "source": [
    "def split_serie(serie):\n",
    "    len_serie = tf.shape(serie)[0]\n",
    "    padding = tf.zeros([len_serie, 1])\n",
    "    if len_serie % 2 != 0:\n",
    "        serie = tf.concat([serie, \n",
    "                           tf.zeros([1, tf.shape(serie)[-1]])\n",
    "                          ], 0)\n",
    "\n",
    "        padding = tf.concat([tf.zeros([len_serie, 1]),\n",
    "                             tf.ones([1, 1])\n",
    "                            ], 0) \n",
    "\n",
    "    serie_1, serie_2 = tf.split(serie, 2)\n",
    "    mask_1, mask_2   = tf.split(padding, 2)\n",
    "    \n",
    "    return serie_1, serie_2, mask_1, mask_2"
   ]
  },
  {
   "cell_type": "code",
   "execution_count": 186,
   "metadata": {},
   "outputs": [],
   "source": [
    "def cut_serie(serie, max_obs, random_pivot=False):\n",
    "    size = tf.shape(serie)\n",
    "    if tf.less(max_obs, size[0]):\n",
    "        pivot = 0\n",
    "        if random_pivot:\n",
    "            pivot = tf.random.uniform(shape=[1],\n",
    "                                      minval=0,\n",
    "                                      maxval=int(size[0]-max_obs),\n",
    "                                      dtype=tf.dtypes.int32)[0]    \n",
    "            \n",
    "        serie = tf.slice(serie, [pivot,0], [max_obs,-1])\n",
    "        mask = tf.zeros([tf.shape(serie)[0]])\n",
    "    else:\n",
    "        serie = tf.concat([\n",
    "            serie,\n",
    "            tf.zeros([max_obs-size[0], size[-1]], dtype=tf.float32)\n",
    "        ], 0)\n",
    "        mask = tf.concat([\n",
    "            tf.zeros([size[0], 1]),\n",
    "            tf.ones([max_obs-size[0], 1])\n",
    "        ], 0)\n",
    "        \n",
    "    return serie, mask"
   ]
  },
  {
   "cell_type": "code",
   "execution_count": null,
   "metadata": {},
   "outputs": [],
   "source": []
  },
  {
   "cell_type": "code",
   "execution_count": 172,
   "metadata": {},
   "outputs": [],
   "source": [
    "from core.data import get_masked"
   ]
  },
  {
   "cell_type": "code",
   "execution_count": 173,
   "metadata": {},
   "outputs": [],
   "source": [
    "serie_1, serie_2, mask_1, mask_2 = split_serie(serie_original)"
   ]
  },
  {
   "cell_type": "code",
   "execution_count": 176,
   "metadata": {},
   "outputs": [],
   "source": [
    "serie_1, mask_1 = cut_serie(serie_1, max_obs//2)\n",
    "serie_2, mask_2 = cut_serie(serie_2, max_obs//2)"
   ]
  },
  {
   "cell_type": "code",
   "execution_count": 182,
   "metadata": {},
   "outputs": [],
   "source": [
    "masked_values_1 = get_masked(serie_1, 0.2)\n",
    "masked_values_2 = get_masked(serie_2, 0.2)"
   ]
  },
  {
   "cell_type": "code",
   "execution_count": 36,
   "metadata": {},
   "outputs": [
    {
     "ename": "NameError",
     "evalue": "name 'mask_1' is not defined",
     "output_type": "error",
     "traceback": [
      "\u001b[0;31m---------------------------------------------------------------------------\u001b[0m",
      "\u001b[0;31mNameError\u001b[0m                                 Traceback (most recent call last)",
      "\u001b[0;32m<ipython-input-36-27b72776c19c>\u001b[0m in \u001b[0;36m<module>\u001b[0;34m\u001b[0m\n\u001b[0;32m----> 1\u001b[0;31m \u001b[0mmask_1\u001b[0m \u001b[0;34m=\u001b[0m \u001b[0mtf\u001b[0m\u001b[0;34m.\u001b[0m\u001b[0mmaximum\u001b[0m\u001b[0;34m(\u001b[0m\u001b[0mmask_1\u001b[0m\u001b[0;34m,\u001b[0m \u001b[0mmasked_values_1\u001b[0m\u001b[0;34m)\u001b[0m\u001b[0;34m\u001b[0m\u001b[0;34m\u001b[0m\u001b[0m\n\u001b[0m\u001b[1;32m      2\u001b[0m \u001b[0mmask_2\u001b[0m \u001b[0;34m=\u001b[0m \u001b[0mtf\u001b[0m\u001b[0;34m.\u001b[0m\u001b[0mmaximum\u001b[0m\u001b[0;34m(\u001b[0m\u001b[0mmask_2\u001b[0m\u001b[0;34m,\u001b[0m \u001b[0mmasked_values_2\u001b[0m\u001b[0;34m)\u001b[0m\u001b[0;34m\u001b[0m\u001b[0;34m\u001b[0m\u001b[0m\n",
      "\u001b[0;31mNameError\u001b[0m: name 'mask_1' is not defined"
     ]
    }
   ],
   "source": [
    "mask_1 = tf.maximum(mask_1, masked_values_1)\n",
    "mask_2 = tf.maximum(mask_2, masked_values_2)"
   ]
  },
  {
   "cell_type": "code",
   "execution_count": 74,
   "metadata": {},
   "outputs": [],
   "source": [
    "from core.data import pretraining_records"
   ]
  },
  {
   "cell_type": "code",
   "execution_count": 75,
   "metadata": {},
   "outputs": [],
   "source": [
    "dataset = pretraining_records('./data/records/macho/train', 10)"
   ]
  },
  {
   "cell_type": "code",
   "execution_count": 77,
   "metadata": {},
   "outputs": [
    {
     "name": "stdout",
     "output_type": "stream",
     "text": [
      "tf.Tensor(\n",
      "[[[-9.9000000e+01]\n",
      "  [-6.6458923e-01]\n",
      "  [-7.2251447e-02]\n",
      "  ...\n",
      "  [ 8.3680175e-02]\n",
      "  [-4.2882655e-02]\n",
      "  [-9.8000000e+01]]\n",
      "\n",
      " [[-9.9000000e+01]\n",
      "  [-4.5508128e-02]\n",
      "  [ 1.1254667e+00]\n",
      "  ...\n",
      "  [-7.9062659e-01]\n",
      "  [-4.0245226e-01]\n",
      "  [-9.8000000e+01]]\n",
      "\n",
      " [[-9.9000000e+01]\n",
      "  [ 2.6681504e+00]\n",
      "  [ 1.0835730e+00]\n",
      "  ...\n",
      "  [-1.2305614e+00]\n",
      "  [-1.0752320e-01]\n",
      "  [-9.8000000e+01]]\n",
      "\n",
      " ...\n",
      "\n",
      " [[-9.9000000e+01]\n",
      "  [ 8.6693835e-01]\n",
      "  [ 8.3896631e-01]\n",
      "  ...\n",
      "  [ 4.1140761e+00]\n",
      "  [ 5.9577835e-01]\n",
      "  [-9.8000000e+01]]\n",
      "\n",
      " [[-9.9000000e+01]\n",
      "  [ 4.4810906e-01]\n",
      "  [ 9.8658484e-01]\n",
      "  ...\n",
      "  [ 9.3207592e-01]\n",
      "  [ 2.2490960e-01]\n",
      "  [-9.8000000e+01]]\n",
      "\n",
      " [[-9.9000000e+01]\n",
      "  [ 2.4932218e+00]\n",
      "  [ 1.1354285e+00]\n",
      "  ...\n",
      "  [-6.5952331e-01]\n",
      "  [-6.2107795e-01]\n",
      "  [-9.8000000e+01]]], shape=(10, 103, 1), dtype=float32)\n"
     ]
    }
   ],
   "source": [
    "for batch in dataset:\n",
    "    print(batch['input'])\n",
    "    break"
   ]
  },
  {
   "cell_type": "code",
   "execution_count": null,
   "metadata": {},
   "outputs": [],
   "source": []
  }
 ],
 "metadata": {
  "kernelspec": {
   "display_name": "Python 3",
   "language": "python",
   "name": "python3"
  },
  "language_info": {
   "codemirror_mode": {
    "name": "ipython",
    "version": 3
   },
   "file_extension": ".py",
   "mimetype": "text/x-python",
   "name": "python",
   "nbconvert_exporter": "python",
   "pygments_lexer": "ipython3",
   "version": "3.6.9"
  }
 },
 "nbformat": 4,
 "nbformat_minor": 2
}
