{
 "cells": [
  {
   "cell_type": "code",
   "execution_count": 13,
   "id": "43656229-5317-41a3-a5c6-89e6cd13699d",
   "metadata": {},
   "outputs": [],
   "source": [
    "from utils import set_working_directory_up_two_levels\n",
    "set_working_directory_up_two_levels()"
   ]
  },
  {
   "cell_type": "code",
   "execution_count": 14,
   "id": "31467912-1054-4dc8-b038-d520b0a77708",
   "metadata": {},
   "outputs": [
    {
     "name": "stdout",
     "output_type": "stream",
     "text": [
      "The autoreload extension is already loaded. To reload it, use:\n",
      "  %reload_ext autoreload\n"
     ]
    }
   ],
   "source": [
    "import tensorflow as tf\n",
    "import matplotlib.pyplot as plt\n",
    "from presentation.pipelines.steps.model_design import build_model\n",
    "\n",
    "%load_ext autoreload\n",
    "%autoreload 2"
   ]
  },
  {
   "cell_type": "code",
   "execution_count": 15,
   "id": "93439346-95b4-49b0-9968-1807a879aed3",
   "metadata": {},
   "outputs": [],
   "source": [
    "params = {\n",
    "    'num_layers':2,\n",
    "    'head_dim':64,\n",
    "    'num_heads':4,\n",
    "    'window_size':10,\n",
    "    'mixer':128,\n",
    "    'pe_base':1000,\n",
    "    'pe_dim':256,\n",
    "    'pe_exp':2,\n",
    "    'dropout':0.,\n",
    "    'use_leak':False,\n",
    "    'm_alpha':1,\n",
    "    'loss_format':'rmse',\n",
    "    'correct_loss':False,\n",
    "    'temperature':0.,\n",
    "    'mask_format':'QK',\n",
    "}\n",
    "\n",
    "zero_params = {**params, **{'arch': 'zero'}}\n",
    "base_params = {**params, **{'arch': 'base'}}\n",
    "base_params['pe_base'] = 10000"
   ]
  },
  {
   "cell_type": "code",
   "execution_count": 16,
   "id": "3ff1c570-2619-437a-a55f-4f7412e804d7",
   "metadata": {},
   "outputs": [
    {
     "name": "stdout",
     "output_type": "stream",
     "text": [
      "[INFO] Zero architecture loaded\n",
      "[INFO] Using masked-att with alpha = 1.00\n",
      "[INFO] Using masked-att with alpha = 1.00\n",
      "[INFO] Using PE with c: 2.0\n",
      "[INFO] Masking Query and Key tokens\n",
      "[INFO] Masking Query and Key tokens\n",
      "[INFO] Loading BASE\n",
      "[INFO] Temperature: 0.00\n",
      "[INFO] Mask format: QK\n",
      "[INFO] Using PE with c: 2\n"
     ]
    }
   ],
   "source": [
    "astromer_0 = build_model(zero_params)\n",
    "astromer_1 = build_model(base_params)"
   ]
  },
  {
   "cell_type": "code",
   "execution_count": 17,
   "id": "312cf5fd-6ba8-48b9-82a8-bafaaf6557cd",
   "metadata": {},
   "outputs": [
    {
     "data": {
      "text/plain": [
       "<tensorflow.python.checkpoint.checkpoint.CheckpointLoadStatus at 0x7f563ee3fd90>"
      ]
     },
     "execution_count": 17,
     "metadata": {},
     "output_type": "execute_result"
    }
   ],
   "source": [
    "astromer_0.load_weights('./presentation/results/paper/pretraining/weights')"
   ]
  },
  {
   "cell_type": "code",
   "execution_count": 18,
   "id": "1351905c-9ec4-459b-9b3c-73eb4d4955cf",
   "metadata": {},
   "outputs": [
    {
     "data": {
      "text/plain": [
       "<tensorflow.python.checkpoint.checkpoint.CheckpointLoadStatus at 0x7f5441ff8890>"
      ]
     },
     "execution_count": 18,
     "metadata": {},
     "output_type": "execute_result"
    }
   ],
   "source": [
    "astromer_1.load_weights('./presentation/results/paper/pretraining/weights')"
   ]
  },
  {
   "cell_type": "code",
   "execution_count": 19,
   "id": "449152fc-d5dd-4042-a0ac-e3e6d199e4a5",
   "metadata": {},
   "outputs": [
    {
     "data": {
      "text/plain": [
       "{'input': <KerasTensor: shape=(None, 10, 1) dtype=float32 (created by layer 'input')>,\n",
       " 'mask_in': <KerasTensor: shape=(None, 10, 1) dtype=float32 (created by layer 'mask')>,\n",
       " 'times': <KerasTensor: shape=(None, 10, 1) dtype=float32 (created by layer 'times')>}"
      ]
     },
     "execution_count": 19,
     "metadata": {},
     "output_type": "execute_result"
    }
   ],
   "source": [
    "astromer_0.input"
   ]
  },
  {
   "cell_type": "code",
   "execution_count": 20,
   "id": "7595c4c5-26f4-44af-8128-3816a17d5f1a",
   "metadata": {},
   "outputs": [
    {
     "data": {
      "text/plain": [
       "{'input': <KerasTensor: shape=(None, 10, 1) dtype=float32 (created by layer 'input')>,\n",
       " 'times': <KerasTensor: shape=(None, 10, 1) dtype=float32 (created by layer 'times')>,\n",
       " 'mask_in': <KerasTensor: shape=(None, 10, 1) dtype=float32 (created by layer 'mask_in')>}"
      ]
     },
     "execution_count": 20,
     "metadata": {},
     "output_type": "execute_result"
    }
   ],
   "source": [
    "astromer_1.input"
   ]
  },
  {
   "cell_type": "code",
   "execution_count": 21,
   "id": "459543cc-0e6c-4aec-a96f-58f293ddea47",
   "metadata": {},
   "outputs": [],
   "source": [
    "input_test = {'input': tf.random.uniform([2, 10, 1], minval=0., maxval=1., dtype=tf.float32),\n",
    "              'times': tf.random.uniform([2, 10, 1], minval=0., maxval=1., dtype=tf.float32),\n",
    "              'mask_in': tf.random.uniform([2, 10, 1], minval=0, maxval=1, dtype=tf.int32)}\n",
    "input_test['mask_in'] = tf.cast(input_test['mask_in'], tf.float32)"
   ]
  },
  {
   "cell_type": "code",
   "execution_count": 22,
   "id": "5186d50d-3255-46ff-abca-f7847d427348",
   "metadata": {},
   "outputs": [
    {
     "name": "stdout",
     "output_type": "stream",
     "text": [
      "[INFO] Using PE with c: 2.0\n",
      "[INFO] Masking Query and Key tokens\n",
      "[INFO] Masking Query and Key tokens\n",
      "[INFO] Using PE with c: 2\n"
     ]
    }
   ],
   "source": [
    "embedding_0 = astromer_0.get_layer('encoder')(input_test)\n",
    "embedding_1 = astromer_1.get_layer('encoder')(input_test)"
   ]
  },
  {
   "cell_type": "code",
   "execution_count": 23,
   "id": "a583c54f-673a-4fbc-af88-9567fd384315",
   "metadata": {},
   "outputs": [
    {
     "data": {
      "image/png": "[encoded data removed]",
      "text/plain": [
       "<Figure size 500x500 with 3 Axes>"
      ]
     },
     "metadata": {},
     "output_type": "display_data"
    }
   ],
   "source": [
    "fig, axes = plt.subplots(3, 1, sharex=True, figsize=(5, 5), gridspec_kw={'hspace':-0.9})\n",
    "axes[0].imshow(embedding_0[0])\n",
    "axes[1].imshow(embedding_1[0])\n",
    "axes[2].imshow(embedding_0[0]-embedding_1[0])\n",
    "plt.show()"
   ]
  },
  {
   "cell_type": "code",
   "execution_count": null,
   "id": "4014041d-3d97-4168-a540-e5435f969eb3",
   "metadata": {},
   "outputs": [],
   "source": []
  },
  {
   "cell_type": "code",
   "execution_count": null,
   "id": "1fbf1af3-5043-428d-a691-98d2a3efb617",
   "metadata": {},
   "outputs": [],
   "source": []
  }
 ],
 "metadata": {
  "kernelspec": {
   "display_name": "Python 3 (ipykernel)",
   "language": "python",
   "name": "python3"
  },
  "language_info": {
   "codemirror_mode": {
    "name": "ipython",
    "version": 3
   },
   "file_extension": ".py",
   "mimetype": "text/x-python",
   "name": "python",
   "nbconvert_exporter": "python",
   "pygments_lexer": "ipython3",
   "version": "3.11.4"
  }
 },
 "nbformat": 4,
 "nbformat_minor": 5
}
