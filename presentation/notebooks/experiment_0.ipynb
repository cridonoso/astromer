{
 "cells": [
  {
   "cell_type": "code",
   "execution_count": 3,
   "id": "ae3e90d0",
   "metadata": {},
   "outputs": [
    {
     "name": "stdout",
     "output_type": "stream",
     "text": [
      "/home\n"
     ]
    }
   ],
   "source": [
    "cd /home"
   ]
  },
  {
   "cell_type": "code",
   "execution_count": 10,
   "id": "3c0bb28f",
   "metadata": {},
   "outputs": [],
   "source": [
    "import tensorflow as tf\n",
    "import pandas as pd \n",
    "\n",
    "import matplotlib.pyplot as plt \n",
    "import os \n",
    "import tomli"
   ]
  },
  {
   "cell_type": "code",
   "execution_count": 4,
   "id": "05189225",
   "metadata": {},
   "outputs": [],
   "source": [
    "config_files = './presentation/pipeline/config/alcock/a/'"
   ]
  },
  {
   "cell_type": "code",
   "execution_count": 16,
   "id": "14338cf7",
   "metadata": {},
   "outputs": [
    {
     "name": "stdout",
     "output_type": "stream",
     "text": [
      "       loss       acc     model\n",
      "0  1.668646  0.271933   mlp_att\n",
      "1  1.848123  0.193624  lstm_att\n",
      "2  1.236768  0.488496      lstm\n",
      "       loss       acc     model\n",
      "0  1.600582  0.296050   mlp_att\n",
      "1  1.847118  0.179903  lstm_att\n",
      "2  0.826095  0.660430      lstm\n",
      "       loss       acc     model\n",
      "0  1.715071  0.215067   mlp_att\n",
      "1  1.833275  0.191498  lstm_att\n",
      "2  1.175764  0.510802      lstm\n",
      "       loss       acc     model\n",
      "0  1.690782  0.259680   mlp_att\n",
      "1  1.866841  0.180976  lstm_att\n",
      "2  1.405258  0.444094      lstm\n",
      "       loss       acc     model\n",
      "0  1.737247  0.226611   mlp_att\n",
      "1  1.871541  0.178240  lstm_att\n",
      "2  1.396447  0.435759      lstm\n",
      "       loss       acc     model\n",
      "0  1.577365  0.296236   mlp_att\n",
      "1  1.817002  0.193646  lstm_att\n",
      "2  0.856925  0.652502      lstm\n",
      "       loss       acc     model\n",
      "0  1.713801  0.230676   mlp_att\n",
      "1  1.890144  0.185620  lstm_att\n",
      "2  1.481464  0.403953      lstm\n",
      "       loss       acc     model\n",
      "0  1.768857  0.215067   mlp_att\n",
      "1  1.865382  0.167859  lstm_att\n",
      "2  1.601162  0.358586      lstm\n",
      "       loss       acc     model\n",
      "0  1.723457  0.220154   mlp_att\n",
      "1  1.861652  0.199312  lstm_att\n",
      "2  1.343863  0.442938      lstm\n",
      "       loss       acc     model\n",
      "0  1.694420  0.237838   mlp_att\n",
      "1  1.854315  0.174705  lstm_att\n",
      "2  1.388708  0.433957      lstm\n",
      "       loss       acc     model\n",
      "0  1.601170  0.297559   mlp_att\n",
      "1  1.829879  0.187781  lstm_att\n",
      "2  0.900820  0.670244      lstm\n",
      "       loss       acc     model\n",
      "0  1.706087  0.238365   mlp_att\n",
      "1  1.850275  0.189734  lstm_att\n",
      "2  1.243044  0.510522      lstm\n"
     ]
    }
   ],
   "source": [
    "for file in os.listdir(config_files):\n",
    "    \n",
    "    current = os.path.join(config_files, file)\n",
    "    with open(current, mode=\"rb\") as fp:\n",
    "        config = tomli.load(fp)\n",
    "           \n",
    "    metrics = pd.read_csv(os.path.join(config['finetuning']['exp_path'], 'metrics.csv'))\n",
    "    metrics = pd.read_csv(os.path.join(config['classification']['exp_path'], 'metrics.csv'))\n",
    "    metrics['model'] = ['mlp_att', 'lstm_att', 'lstm']\n",
    "    print(metrics)\n"
   ]
  },
  {
   "cell_type": "code",
   "execution_count": null,
   "id": "a45e9596",
   "metadata": {},
   "outputs": [],
   "source": [
    "./results/finetuning/alcock/a/alcock_100_f1/metrics.csv"
   ]
  }
 ],
 "metadata": {
  "kernelspec": {
   "display_name": "Python 3 (ipykernel)",
   "language": "python",
   "name": "python3"
  },
  "language_info": {
   "codemirror_mode": {
    "name": "ipython",
    "version": 3
   },
   "file_extension": ".py",
   "mimetype": "text/x-python",
   "name": "python",
   "nbconvert_exporter": "python",
   "pygments_lexer": "ipython3",
   "version": "3.8.10"
  }
 },
 "nbformat": 4,
 "nbformat_minor": 5
}
