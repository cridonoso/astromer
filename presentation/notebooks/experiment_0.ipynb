{
 "cells": [
  {
   "cell_type": "code",
   "execution_count": 3,
   "id": "0b116391",
   "metadata": {},
   "outputs": [
    {
     "name": "stdout",
     "output_type": "stream",
     "text": [
      "/home\n"
     ]
    }
   ],
   "source": [
    "cd /home"
   ]
  },
  {
   "cell_type": "code",
   "execution_count": 10,
   "id": "54da0df9",
   "metadata": {},
   "outputs": [],
   "source": [
    "import tensorflow as tf\n",
    "import pandas as pd \n",
    "\n",
    "import matplotlib.pyplot as plt \n",
    "import os \n",
    "import tomli"
   ]
  },
  {
   "cell_type": "code",
   "execution_count": 4,
   "id": "751eaf7e",
   "metadata": {},
   "outputs": [],
   "source": [
    "config_files = './presentation/pipeline/config/alcock/a/'"
   ]
  },
  {
   "cell_type": "code",
   "execution_count": 15,
   "id": "3bf49c2c",
   "metadata": {},
   "outputs": [
    {
     "name": "stdout",
     "output_type": "stream",
     "text": [
      "       loss       acc\n",
      "0  1.668646  0.271933\n",
      "1  1.848123  0.193624\n",
      "2  1.236768  0.488496\n"
     ]
    }
   ],
   "source": [
    "for file in os.listdir(config_files):\n",
    "    \n",
    "    current = os.path.join(config_files, file)\n",
    "    with open(current, mode=\"rb\") as fp:\n",
    "        config = tomli.load(fp)\n",
    "           \n",
    "    metrics = pd.read_csv(os.path.join(config['finetuning']['exp_path'], 'metrics.csv'))\n",
    "    metrics = pd.read_csv(os.path.join(config['classification']['exp_path'], 'metrics.csv'))\n",
    "    print(metrics)\n",
    "    break"
   ]
  },
  {
   "cell_type": "code",
   "execution_count": null,
   "id": "037fd07b",
   "metadata": {},
   "outputs": [],
   "source": [
    "./results/finetuning/alcock/a/alcock_100_f1/metrics.csv"
   ]
  }
 ],
 "metadata": {
  "kernelspec": {
   "display_name": "Python 3 (ipykernel)",
   "language": "python",
   "name": "python3"
  },
  "language_info": {
   "codemirror_mode": {
    "name": "ipython",
    "version": 3
   },
   "file_extension": ".py",
   "mimetype": "text/x-python",
   "name": "python",
   "nbconvert_exporter": "python",
   "pygments_lexer": "ipython3",
   "version": "3.8.10"
  }
 },
 "nbformat": 4,
 "nbformat_minor": 5
}
