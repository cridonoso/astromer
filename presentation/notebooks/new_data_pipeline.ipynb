{
 "cells": [
  {
   "cell_type": "code",
   "execution_count": 1,
   "id": "9a79dd98",
   "metadata": {},
   "outputs": [
    {
     "data": {
      "text/plain": [
       "'f:\\\\astromer\\\\presentation\\\\notebooks'"
      ]
     },
     "execution_count": 1,
     "metadata": {},
     "output_type": "execute_result"
    }
   ],
   "source": [
    "pwd"
   ]
  },
  {
   "cell_type": "code",
   "execution_count": 2,
   "id": "17ce5576-0d29-401b-a82d-1b1085621ba9",
   "metadata": {
    "tags": []
   },
   "outputs": [],
   "source": [
    "# Importing necessary libraries\n",
    "import pandas as pd\n",
    "import numpy as np\n",
    "import re\n",
    "import zipfile\n",
    "from io import BytesIO\n",
    "\n",
    "import matplotlib.pyplot as plt\n",
    "import tensorflow as tf\n",
    "import pandas as pd\n",
    "import os\n",
    "import sys,os\n",
    "\n",
    "os.environ[\"CUDA_VISIBLE_DEVICES\"] = \"-1\"\n",
    "\n",
    "# This tutorial runs only in early mode. For the optimized code use train.py\n",
    "# OTHERWISE you can comment the next ljupyine and reset the kernel before the finetuning\n",
    "tf.config.run_functions_eagerly(False)"
   ]
  },
  {
   "cell_type": "code",
   "execution_count": 3,
   "id": "ee7bbfc3",
   "metadata": {},
   "outputs": [
    {
     "name": "stdout",
     "output_type": "stream",
     "text": [
      "f:\\astromer\n"
     ]
    }
   ],
   "source": [
    "cd ..\\.."
   ]
  },
  {
   "cell_type": "code",
   "execution_count": 4,
   "id": "a82b0a47",
   "metadata": {},
   "outputs": [],
   "source": [
    "from src.data.record  import create_dataset"
   ]
  },
  {
   "cell_type": "code",
   "execution_count": 5,
   "id": "cf4b449b-c569-46a5-8c0c-c763fd86edf0",
   "metadata": {},
   "outputs": [],
   "source": [
    "source = 'g.zip' # lightcurves folder\n",
    "metadata_path = \"metadata_g_with_features.dat\" # metadata file\n",
    "target = 'records/new_ztf_g'"
   ]
  },
  {
   "cell_type": "code",
   "execution_count": 6,
   "id": "afdbfa01-4072-4060-afcd-b91c6fc3934b",
   "metadata": {
    "tags": []
   },
   "outputs": [
    {
     "name": "stderr",
     "output_type": "stream",
     "text": [
      "C:\\Users\\iaman\\AppData\\Local\\Temp/ipykernel_22504/73907368.py:6: SettingWithCopyWarning: \n",
      "A value is trying to be set on a copy of a slice from a DataFrame.\n",
      "Try using .loc[row_indexer,col_indexer] = value instead\n",
      "\n",
      "See the caveats in the documentation: https://pandas.pydata.org/pandas-docs/stable/user_guide/indexing.html#returning-a-view-versus-a-copy\n",
      "  metadata_filtered['Class'] = ['UNK']*(metadata_filtered.shape[0])\n",
      "C:\\Users\\iaman\\AppData\\Local\\Temp/ipykernel_22504/73907368.py:7: SettingWithCopyWarning: \n",
      "A value is trying to be set on a copy of a slice from a DataFrame.\n",
      "Try using .loc[row_indexer,col_indexer] = value instead\n",
      "\n",
      "See the caveats in the documentation: https://pandas.pydata.org/pandas-docs/stable/user_guide/indexing.html#returning-a-view-versus-a-copy\n",
      "  metadata_filtered['Band'] = tf.ones(metadata_filtered.shape[0])\n"
     ]
    },
    {
     "name": "stdout",
     "output_type": "stream",
     "text": [
      "                ID  N_g     Std_g  Skewness_g  Kurtosis_g   eta_e_g  \\\n",
      "0  350112100000000   63  0.252657   -0.595437    1.249473  0.469394   \n",
      "2  350112100000004   69  0.130841   -0.224364    0.898845  2.969642   \n",
      "4  350112100000006   41  0.220955   -0.055654   -0.662197  1.641803   \n",
      "5  350112100000007   22  0.644202   -2.956395    9.948386  0.234716   \n",
      "6  350112100000008  190  0.136506   -0.913373    2.359099  1.496204   \n",
      "\n",
      "   cadence_g  FluxPercentile_g  \\\n",
      "0  18.543756          0.036768   \n",
      "2  10.671661          0.021187   \n",
      "4  29.547062          0.030162   \n",
      "5  56.136309          0.062250   \n",
      "6   6.278854          0.021298   \n",
      "\n",
      "                                                Path Class  Band  \n",
      "0  /home/AdditionalSpace2/Databases/ZTF/DR10/LCs/...   UNK   1.0  \n",
      "2  /home/AdditionalSpace2/Databases/ZTF/DR10/LCs/...   UNK   1.0  \n",
      "4  /home/AdditionalSpace2/Databases/ZTF/DR10/LCs/...   UNK   1.0  \n",
      "5  /home/AdditionalSpace2/Databases/ZTF/DR10/LCs/...   UNK   1.0  \n",
      "6  /home/AdditionalSpace2/Databases/ZTF/DR10/LCs/...   UNK   1.0  \n",
      "(2313131, 11)\n"
     ]
    }
   ],
   "source": [
    "# filtering metadata\n",
    "\n",
    "metadata_all = pd.read_table(metadata_path, sep=\",\")\n",
    "b = metadata_all.Std_g>0.1 #basic filtering by std\n",
    "metadata_filtered = metadata_all[b] #creating filtered version of metadata that is much smaller\n",
    "metadata_filtered['Class'] = ['UNK']*(metadata_filtered.shape[0])\n",
    "metadata_filtered['Band'] = tf.ones(metadata_filtered.shape[0])\n",
    "metadata_filtered = metadata_filtered.rename(columns={'Path_g':'Path'})\n",
    "print(metadata_filtered.head())\n",
    "print(metadata_filtered.shape)"
   ]
  },
  {
   "cell_type": "code",
   "execution_count": null,
   "id": "a5b69a59-896f-4ec3-90e1-324c3b4f8e90",
   "metadata": {
    "tags": []
   },
   "outputs": [],
   "source": [
    "# with zipfile.ZipFile('g.zip', 'r') as zp:\n",
    "#     # files_info = zipfile.ZipFile.infolist(zp)\n",
    "#     files_names = zipfile.ZipFile.namelist(zp)[1:]\n",
    "    \n",
    "# file_ids = list(map(lambda x: x.split('/')[-1].split('.')[0], files_names))\n",
    "# # file_ids[:10]"
   ]
  },
  {
   "cell_type": "code",
   "execution_count": null,
   "id": "24cbd856-afab-4c42-9106-125b8a3063ae",
   "metadata": {
    "tags": []
   },
   "outputs": [],
   "source": [
    "# len(set(metadata_filtered.ID.astype(int).astype(str).values).intersection(set(file_ids)))"
   ]
  },
  {
   "cell_type": "code",
   "execution_count": 7,
   "id": "7f558199-cd86-4ab6-a071-4264d7072956",
   "metadata": {},
   "outputs": [
    {
     "name": "stderr",
     "output_type": "stream",
     "text": [
      "  0%|          | 0/1 [00:33<?, ?it/s]\n"
     ]
    },
    {
     "ename": "MemoryError",
     "evalue": "",
     "output_type": "error",
     "traceback": [
      "\u001b[1;31m---------------------------------------------------------------------------\u001b[0m",
      "\u001b[1;31mMemoryError\u001b[0m                               Traceback (most recent call last)",
      "\u001b[1;32m~\\AppData\\Local\\Temp/ipykernel_22504/2521504961.py\u001b[0m in \u001b[0;36m<module>\u001b[1;34m\u001b[0m\n\u001b[0;32m      1\u001b[0m \u001b[0mtest_meta\u001b[0m  \u001b[1;33m=\u001b[0m \u001b[0mmetadata_filtered\u001b[0m\u001b[1;33m.\u001b[0m\u001b[0msample\u001b[0m\u001b[1;33m(\u001b[0m\u001b[0mfrac\u001b[0m\u001b[1;33m=\u001b[0m\u001b[1;36m0.2\u001b[0m\u001b[1;33m)\u001b[0m\u001b[1;33m\u001b[0m\u001b[1;33m\u001b[0m\u001b[0m\n\u001b[0;32m      2\u001b[0m \u001b[0mtrain_meta\u001b[0m \u001b[1;33m=\u001b[0m \u001b[0mmetadata_filtered\u001b[0m\u001b[1;33m[\u001b[0m\u001b[1;33m~\u001b[0m\u001b[0mmetadata_filtered\u001b[0m\u001b[1;33m[\u001b[0m\u001b[1;34m'ID'\u001b[0m\u001b[1;33m]\u001b[0m\u001b[1;33m.\u001b[0m\u001b[0misin\u001b[0m\u001b[1;33m(\u001b[0m\u001b[0mtest_meta\u001b[0m\u001b[1;33m[\u001b[0m\u001b[1;34m'ID'\u001b[0m\u001b[1;33m]\u001b[0m\u001b[1;33m)\u001b[0m\u001b[1;33m]\u001b[0m\u001b[1;33m\u001b[0m\u001b[1;33m\u001b[0m\u001b[0m\n\u001b[1;32m----> 3\u001b[1;33m create_dataset(train_meta, source, target, max_lcs_per_record=200, \n\u001b[0m\u001b[0;32m      4\u001b[0m                n_jobs= 14, subsets_frac=(0.8, 0.2), test_subset=test_meta)\n",
      "\u001b[1;32mf:\\astromer\\src\\data\\record.py\u001b[0m in \u001b[0;36mcreate_dataset\u001b[1;34m(meta_df, source, target, n_jobs, subsets_frac, test_subset, max_lcs_per_record, **kwargs)\u001b[0m\n\u001b[0;32m    192\u001b[0m             \u001b[1;32mif\u001b[0m \u001b[1;32mnot\u001b[0m \u001b[0mos\u001b[0m\u001b[1;33m.\u001b[0m\u001b[0mpath\u001b[0m\u001b[1;33m.\u001b[0m\u001b[0mexists\u001b[0m\u001b[1;33m(\u001b[0m\u001b[0mdest\u001b[0m\u001b[1;33m)\u001b[0m\u001b[1;33m:\u001b[0m\u001b[1;33m\u001b[0m\u001b[1;33m\u001b[0m\u001b[0m\n\u001b[0;32m    193\u001b[0m                 \u001b[0mos\u001b[0m\u001b[1;33m.\u001b[0m\u001b[0mmakedirs\u001b[0m\u001b[1;33m(\u001b[0m\u001b[0mdest\u001b[0m\u001b[1;33m,\u001b[0m \u001b[0mexist_ok\u001b[0m\u001b[1;33m=\u001b[0m\u001b[1;32mTrue\u001b[0m\u001b[1;33m)\u001b[0m\u001b[1;33m\u001b[0m\u001b[1;33m\u001b[0m\u001b[0m\n\u001b[1;32m--> 194\u001b[1;33m             \u001b[0mwrite_records\u001b[0m\u001b[1;33m(\u001b[0m\u001b[0mframe\u001b[0m\u001b[1;33m,\u001b[0m \u001b[0mdest\u001b[0m\u001b[1;33m,\u001b[0m \u001b[0mmax_lcs_per_record\u001b[0m\u001b[1;33m,\u001b[0m \u001b[0msource\u001b[0m\u001b[1;33m,\u001b[0m \u001b[0munique\u001b[0m\u001b[1;33m,\u001b[0m \u001b[0mzip_flag\u001b[0m\u001b[1;33m,\u001b[0m \u001b[0mn_jobs\u001b[0m\u001b[1;33m,\u001b[0m \u001b[1;33m**\u001b[0m\u001b[0mkwargs\u001b[0m\u001b[1;33m)\u001b[0m\u001b[1;33m\u001b[0m\u001b[1;33m\u001b[0m\u001b[0m\n\u001b[0m\u001b[0;32m    195\u001b[0m \u001b[1;33m\u001b[0m\u001b[0m\n\u001b[0;32m    196\u001b[0m \u001b[1;32mdef\u001b[0m \u001b[0mdeserialize\u001b[0m\u001b[1;33m(\u001b[0m\u001b[0msample\u001b[0m\u001b[1;33m)\u001b[0m\u001b[1;33m:\u001b[0m\u001b[1;33m\u001b[0m\u001b[1;33m\u001b[0m\u001b[0m\n",
      "\u001b[1;32mf:\\astromer\\src\\data\\record.py\u001b[0m in \u001b[0;36mwrite_records\u001b[1;34m(frame, dest, max_lcs_per_record, source, unique, zip_flag, n_jobs, max_obs, **kwargs)\u001b[0m\n\u001b[0;32m    128\u001b[0m \u001b[1;33m\u001b[0m\u001b[0m\n\u001b[0;32m    129\u001b[0m     \u001b[1;32mif\u001b[0m \u001b[0mzip_flag\u001b[0m \u001b[1;33m==\u001b[0m \u001b[1;32mTrue\u001b[0m\u001b[1;33m:\u001b[0m\u001b[1;33m\u001b[0m\u001b[1;33m\u001b[0m\u001b[0m\n\u001b[1;32m--> 130\u001b[1;33m         \u001b[1;32mwith\u001b[0m \u001b[0mzipfile\u001b[0m\u001b[1;33m.\u001b[0m\u001b[0mZipFile\u001b[0m\u001b[1;33m(\u001b[0m\u001b[0msource\u001b[0m\u001b[1;33m.\u001b[0m\u001b[0msplit\u001b[0m\u001b[1;33m(\u001b[0m\u001b[1;34m'/'\u001b[0m\u001b[1;33m)\u001b[0m\u001b[1;33m[\u001b[0m\u001b[1;36m0\u001b[0m\u001b[1;33m]\u001b[0m\u001b[1;33m+\u001b[0m\u001b[1;34m'.zip'\u001b[0m\u001b[1;33m,\u001b[0m \u001b[1;34m'r'\u001b[0m\u001b[1;33m)\u001b[0m \u001b[1;32mas\u001b[0m \u001b[0mzp\u001b[0m\u001b[1;33m:\u001b[0m\u001b[1;33m\u001b[0m\u001b[1;33m\u001b[0m\u001b[0m\n\u001b[0m\u001b[0;32m    131\u001b[0m \u001b[1;33m\u001b[0m\u001b[0m\n\u001b[0;32m    132\u001b[0m             \u001b[1;32mfor\u001b[0m \u001b[0mcounter\u001b[0m\u001b[1;33m,\u001b[0m \u001b[0msubframe\u001b[0m \u001b[1;32min\u001b[0m \u001b[0menumerate\u001b[0m\u001b[1;33m(\u001b[0m\u001b[0mcollection\u001b[0m\u001b[1;33m)\u001b[0m\u001b[1;33m:\u001b[0m\u001b[1;33m\u001b[0m\u001b[1;33m\u001b[0m\u001b[0m\n",
      "\u001b[1;32mc:\\Users\\iaman\\.conda\\envs\\environment1\\lib\\zipfile.py\u001b[0m in \u001b[0;36m__init__\u001b[1;34m(self, file, mode, compression, allowZip64, compresslevel, strict_timestamps)\u001b[0m\n\u001b[0;32m   1267\u001b[0m         \u001b[1;32mtry\u001b[0m\u001b[1;33m:\u001b[0m\u001b[1;33m\u001b[0m\u001b[1;33m\u001b[0m\u001b[0m\n\u001b[0;32m   1268\u001b[0m             \u001b[1;32mif\u001b[0m \u001b[0mmode\u001b[0m \u001b[1;33m==\u001b[0m \u001b[1;34m'r'\u001b[0m\u001b[1;33m:\u001b[0m\u001b[1;33m\u001b[0m\u001b[1;33m\u001b[0m\u001b[0m\n\u001b[1;32m-> 1269\u001b[1;33m                 \u001b[0mself\u001b[0m\u001b[1;33m.\u001b[0m\u001b[0m_RealGetContents\u001b[0m\u001b[1;33m(\u001b[0m\u001b[1;33m)\u001b[0m\u001b[1;33m\u001b[0m\u001b[1;33m\u001b[0m\u001b[0m\n\u001b[0m\u001b[0;32m   1270\u001b[0m             \u001b[1;32melif\u001b[0m \u001b[0mmode\u001b[0m \u001b[1;32min\u001b[0m \u001b[1;33m(\u001b[0m\u001b[1;34m'w'\u001b[0m\u001b[1;33m,\u001b[0m \u001b[1;34m'x'\u001b[0m\u001b[1;33m)\u001b[0m\u001b[1;33m:\u001b[0m\u001b[1;33m\u001b[0m\u001b[1;33m\u001b[0m\u001b[0m\n\u001b[0;32m   1271\u001b[0m                 \u001b[1;31m# set the modified flag so central directory gets written\u001b[0m\u001b[1;33m\u001b[0m\u001b[1;33m\u001b[0m\u001b[1;33m\u001b[0m\u001b[0m\n",
      "\u001b[1;32mc:\\Users\\iaman\\.conda\\envs\\environment1\\lib\\zipfile.py\u001b[0m in \u001b[0;36m_RealGetContents\u001b[1;34m(self)\u001b[0m\n\u001b[0;32m   1392\u001b[0m             \u001b[0mx\u001b[0m\u001b[1;33m.\u001b[0m\u001b[0m_decodeExtra\u001b[0m\u001b[1;33m(\u001b[0m\u001b[1;33m)\u001b[0m\u001b[1;33m\u001b[0m\u001b[1;33m\u001b[0m\u001b[0m\n\u001b[0;32m   1393\u001b[0m             \u001b[0mx\u001b[0m\u001b[1;33m.\u001b[0m\u001b[0mheader_offset\u001b[0m \u001b[1;33m=\u001b[0m \u001b[0mx\u001b[0m\u001b[1;33m.\u001b[0m\u001b[0mheader_offset\u001b[0m \u001b[1;33m+\u001b[0m \u001b[0mconcat\u001b[0m\u001b[1;33m\u001b[0m\u001b[1;33m\u001b[0m\u001b[0m\n\u001b[1;32m-> 1394\u001b[1;33m             \u001b[0mself\u001b[0m\u001b[1;33m.\u001b[0m\u001b[0mfilelist\u001b[0m\u001b[1;33m.\u001b[0m\u001b[0mappend\u001b[0m\u001b[1;33m(\u001b[0m\u001b[0mx\u001b[0m\u001b[1;33m)\u001b[0m\u001b[1;33m\u001b[0m\u001b[1;33m\u001b[0m\u001b[0m\n\u001b[0m\u001b[0;32m   1395\u001b[0m             \u001b[0mself\u001b[0m\u001b[1;33m.\u001b[0m\u001b[0mNameToInfo\u001b[0m\u001b[1;33m[\u001b[0m\u001b[0mx\u001b[0m\u001b[1;33m.\u001b[0m\u001b[0mfilename\u001b[0m\u001b[1;33m]\u001b[0m \u001b[1;33m=\u001b[0m \u001b[0mx\u001b[0m\u001b[1;33m\u001b[0m\u001b[1;33m\u001b[0m\u001b[0m\n\u001b[0;32m   1396\u001b[0m \u001b[1;33m\u001b[0m\u001b[0m\n",
      "\u001b[1;31mMemoryError\u001b[0m: "
     ]
    }
   ],
   "source": [
    "test_meta  = metadata_filtered.sample(frac=0.2)\n",
    "train_meta = metadata_filtered[~metadata_filtered['ID'].isin(test_meta['ID'])]\n",
    "create_dataset(train_meta, source, target, max_lcs_per_record=200, \n",
    "               n_jobs= 14, subsets_frac=(0.8, 0.2), test_subset=test_meta)"
   ]
  },
  {
   "cell_type": "code",
   "execution_count": null,
   "id": "1316dd64-f0c4-4167-acf5-5284321fdc08",
   "metadata": {},
   "outputs": [],
   "source": [
    "!ls records/new_ztf_g/train/UNK -f1 | head -7"
   ]
  },
  {
   "cell_type": "code",
   "execution_count": null,
   "id": "0b2ef391-f1ce-438f-8985-1b4fdcbbbf56",
   "metadata": {
    "tags": []
   },
   "outputs": [],
   "source": [
    "direc = \"records/new_ztf_g/train/UNK\"\n",
    "count = 0\n",
    "for filename in os.listdir(direc):\n",
    "    if os.path.isfile(os.path.join(direc, filename)):\n",
    "        count += 1\n",
    "    #print(filename)\n",
    "print(count)"
   ]
  },
  {
   "cell_type": "code",
   "execution_count": null,
   "id": "d3598acf-af9b-418c-b97a-48d770942ae1",
   "metadata": {
    "tags": []
   },
   "outputs": [],
   "source": [
    "direc = \"records/new_ztf_g/val/UNK\"\n",
    "count = 0\n",
    "for filename in os.listdir(direc):\n",
    "    if os.path.isfile(os.path.join(direc, filename)):\n",
    "        count += 1\n",
    "print(count)"
   ]
  },
  {
   "cell_type": "code",
   "execution_count": null,
   "id": "a3794eb1-eae7-4fe3-8c4f-a1b29ee95621",
   "metadata": {},
   "outputs": [],
   "source": [
    "direc = \"records/new_ztf_g/test/UNK\"\n",
    "count = 0\n",
    "for filename in os.listdir(direc):\n",
    "    if os.path.isfile(os.path.join(direc, filename)):\n",
    "        count += 1\n",
    "print(count)"
   ]
  },
  {
   "cell_type": "code",
   "execution_count": null,
   "id": "fb558828-dba2-46ec-bc43-75f3e310af4c",
   "metadata": {},
   "outputs": [],
   "source": []
  },
  {
   "cell_type": "code",
   "execution_count": null,
   "id": "5529ac32-1199-4086-a69e-e62c1c15ae2c",
   "metadata": {},
   "outputs": [],
   "source": []
  },
  {
   "cell_type": "code",
   "execution_count": null,
   "id": "e99de612-e71f-4010-a8f4-3280e07aa090",
   "metadata": {},
   "outputs": [],
   "source": []
  },
  {
   "cell_type": "code",
   "execution_count": null,
   "id": "5f3da0fc-fa26-45ee-b2e6-84e7209bf6e2",
   "metadata": {},
   "outputs": [],
   "source": []
  },
  {
   "cell_type": "code",
   "execution_count": null,
   "id": "76d4a613-cfde-480d-8a3a-05477d281043",
   "metadata": {},
   "outputs": [],
   "source": []
  },
  {
   "cell_type": "code",
   "execution_count": null,
   "id": "1c7c8731-c8a5-48cb-abbb-6f0fe61f73ad",
   "metadata": {},
   "outputs": [],
   "source": []
  },
  {
   "cell_type": "code",
   "execution_count": null,
   "id": "d3130f2e-cfdf-49ed-b99d-d0b69e30456a",
   "metadata": {},
   "outputs": [],
   "source": []
  },
  {
   "cell_type": "code",
   "execution_count": null,
   "id": "c9ecd38f-c9b4-4da5-af41-277aae69eb24",
   "metadata": {},
   "outputs": [],
   "source": []
  }
 ],
 "metadata": {
  "kernelspec": {
   "display_name": "Python 3.8.6 ('environment1')",
   "language": "python",
   "name": "python3"
  },
  "language_info": {
   "codemirror_mode": {
    "name": "ipython",
    "version": 3
   },
   "file_extension": ".py",
   "mimetype": "text/x-python",
   "name": "python",
   "nbconvert_exporter": "python",
   "pygments_lexer": "ipython3",
   "version": "3.8.6"
  },
  "vscode": {
   "interpreter": {
    "hash": "83b15c090a5bb3577b16a88a33c4079cf3818026b26eb465e007ad120e2798e0"
   }
  }
 },
 "nbformat": 4,
 "nbformat_minor": 5
}
