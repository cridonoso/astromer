{
 "cells": [
  {
   "cell_type": "code",
   "execution_count": 1,
   "id": "9a79dd98",
   "metadata": {},
   "outputs": [
    {
     "data": {
      "text/plain": [
       "'/home/users/cdonoso/anshika/astromer/presentation/notebooks'"
      ]
     },
     "execution_count": 1,
     "metadata": {},
     "output_type": "execute_result"
    }
   ],
   "source": [
    "pwd"
   ]
  },
  {
   "cell_type": "code",
   "execution_count": 2,
   "id": "17ce5576-0d29-401b-a82d-1b1085621ba9",
   "metadata": {
    "tags": []
   },
   "outputs": [],
   "source": [
    "# Importing necessary libraries\n",
    "import pandas as pd\n",
    "import numpy as np\n",
    "import re\n",
    "import zipfile\n",
    "from io import BytesIO\n",
    "\n",
    "import matplotlib.pyplot as plt\n",
    "import tensorflow as tf\n",
    "import pandas as pd\n",
    "import os\n",
    "import sys,os\n",
    "\n",
    "os.environ[\"CUDA_VISIBLE_DEVICES\"] = \"-1\"\n",
    "\n",
    "# This tutorial runs only in early mode. For the optimized code use train.py\n",
    "# OTHERWISE you can comment the next ljupyine and reset the kernel before the finetuning\n",
    "tf.config.run_functions_eagerly(False)"
   ]
  },
  {
   "cell_type": "code",
   "execution_count": 3,
   "id": "ee7bbfc3",
   "metadata": {},
   "outputs": [
    {
     "name": "stdout",
     "output_type": "stream",
     "text": [
      "/home/users/cdonoso/anshika/astromer\n"
     ]
    }
   ],
   "source": [
    "cd ../.."
   ]
  },
  {
   "cell_type": "code",
   "execution_count": 4,
   "id": "a82b0a47",
   "metadata": {},
   "outputs": [],
   "source": [
    "from src.data.record  import create_dataset"
   ]
  },
  {
   "cell_type": "code",
   "execution_count": 5,
   "id": "cf4b449b-c569-46a5-8c0c-c763fd86edf0",
   "metadata": {},
   "outputs": [],
   "source": [
    "source = 'g.zip' # lightcurves folder\n",
    "metadata_path = \"metadata_g_with_features.dat\" # metadata file\n",
    "target = 'records/new_ztf_g'"
   ]
  },
  {
   "cell_type": "code",
   "execution_count": 6,
   "id": "afdbfa01-4072-4060-afcd-b91c6fc3934b",
   "metadata": {
    "tags": []
   },
   "outputs": [
    {
     "name": "stderr",
     "output_type": "stream",
     "text": [
      "/tmp/ipykernel_45482/73907368.py:6: SettingWithCopyWarning: \n",
      "A value is trying to be set on a copy of a slice from a DataFrame.\n",
      "Try using .loc[row_indexer,col_indexer] = value instead\n",
      "\n",
      "See the caveats in the documentation: https://pandas.pydata.org/pandas-docs/stable/user_guide/indexing.html#returning-a-view-versus-a-copy\n",
      "  metadata_filtered['Class'] = ['UNK']*(metadata_filtered.shape[0])\n",
      "2022-12-29 13:04:39.990759: E tensorflow/stream_executor/cuda/cuda_driver.cc:271] failed call to cuInit: CUDA_ERROR_NO_DEVICE: no CUDA-capable device is detected\n",
      "2022-12-29 13:04:39.990795: I tensorflow/stream_executor/cuda/cuda_diagnostics.cc:169] retrieving CUDA diagnostic information for host: pececillo\n",
      "2022-12-29 13:04:39.990801: I tensorflow/stream_executor/cuda/cuda_diagnostics.cc:176] hostname: pececillo\n",
      "2022-12-29 13:04:39.990880: I tensorflow/stream_executor/cuda/cuda_diagnostics.cc:200] libcuda reported version is: 460.32.3\n",
      "2022-12-29 13:04:39.990896: I tensorflow/stream_executor/cuda/cuda_diagnostics.cc:204] kernel reported version is: 460.32.3\n",
      "2022-12-29 13:04:39.990901: I tensorflow/stream_executor/cuda/cuda_diagnostics.cc:310] kernel version seems to match DSO: 460.32.3\n",
      "2022-12-29 13:04:39.991352: I tensorflow/core/platform/cpu_feature_guard.cc:193] This TensorFlow binary is optimized with oneAPI Deep Neural Network Library (oneDNN) to use the following CPU instructions in performance-critical operations:  AVX2 FMA\n",
      "To enable them in other operations, rebuild TensorFlow with the appropriate compiler flags.\n",
      "/tmp/ipykernel_45482/73907368.py:7: SettingWithCopyWarning: \n",
      "A value is trying to be set on a copy of a slice from a DataFrame.\n",
      "Try using .loc[row_indexer,col_indexer] = value instead\n",
      "\n",
      "See the caveats in the documentation: https://pandas.pydata.org/pandas-docs/stable/user_guide/indexing.html#returning-a-view-versus-a-copy\n",
      "  metadata_filtered['Band'] = tf.ones(metadata_filtered.shape[0])\n"
     ]
    },
    {
     "name": "stdout",
     "output_type": "stream",
     "text": [
      "                ID  N_g     Std_g  Skewness_g  Kurtosis_g   eta_e_g  \\\n",
      "0  350112100000000   63  0.252657   -0.595437    1.249473  0.469394   \n",
      "2  350112100000004   69  0.130841   -0.224364    0.898845  2.969642   \n",
      "4  350112100000006   41  0.220955   -0.055654   -0.662197  1.641803   \n",
      "5  350112100000007   22  0.644202   -2.956395    9.948386  0.234716   \n",
      "6  350112100000008  190  0.136506   -0.913373    2.359099  1.496204   \n",
      "\n",
      "   cadence_g  FluxPercentile_g  \\\n",
      "0  18.543756          0.036768   \n",
      "2  10.671661          0.021187   \n",
      "4  29.547062          0.030162   \n",
      "5  56.136309          0.062250   \n",
      "6   6.278854          0.021298   \n",
      "\n",
      "                                                Path Class  Band  \n",
      "0  /home/AdditionalSpace2/Databases/ZTF/DR10/LCs/...   UNK   1.0  \n",
      "2  /home/AdditionalSpace2/Databases/ZTF/DR10/LCs/...   UNK   1.0  \n",
      "4  /home/AdditionalSpace2/Databases/ZTF/DR10/LCs/...   UNK   1.0  \n",
      "5  /home/AdditionalSpace2/Databases/ZTF/DR10/LCs/...   UNK   1.0  \n",
      "6  /home/AdditionalSpace2/Databases/ZTF/DR10/LCs/...   UNK   1.0  \n",
      "(2313131, 11)\n"
     ]
    }
   ],
   "source": [
    "# filtering metadata\n",
    "\n",
    "metadata_all = pd.read_table(metadata_path, sep=\",\")\n",
    "b = metadata_all.Std_g>0.1 #basic filtering by std\n",
    "metadata_filtered = metadata_all[b] #creating filtered version of metadata that is much smaller\n",
    "metadata_filtered['Class'] = ['UNK']*(metadata_filtered.shape[0])\n",
    "metadata_filtered['Band'] = tf.ones(metadata_filtered.shape[0])\n",
    "metadata_filtered = metadata_filtered.rename(columns={'Path_g':'Path'})\n",
    "print(metadata_filtered.head())\n",
    "print(metadata_filtered.shape)"
   ]
  },
  {
   "cell_type": "code",
   "execution_count": 7,
   "id": "a5b69a59-896f-4ec3-90e1-324c3b4f8e90",
   "metadata": {
    "tags": []
   },
   "outputs": [],
   "source": [
    "# with zipfile.ZipFile('g.zip', 'r') as zp:\n",
    "#     # files_info = zipfile.ZipFile.infolist(zp)\n",
    "#     files_names = zipfile.ZipFile.namelist(zp)[1:]\n",
    "    \n",
    "# file_ids = list(map(lambda x: x.split('/')[-1].split('.')[0], files_names))\n",
    "# # file_ids[:10]"
   ]
  },
  {
   "cell_type": "code",
   "execution_count": 8,
   "id": "24cbd856-afab-4c42-9106-125b8a3063ae",
   "metadata": {
    "tags": []
   },
   "outputs": [],
   "source": [
    "# len(set(metadata_filtered.ID.astype(int).astype(str).values).intersection(set(file_ids)))"
   ]
  },
  {
   "cell_type": "code",
   "execution_count": 10,
   "id": "7f558199-cd86-4ab6-a071-4264d7072956",
   "metadata": {},
   "outputs": [
    {
     "name": "stderr",
     "output_type": "stream",
     "text": [
      "100%|██████████████████████████████████████████████████████████████████████████████████████████████████████████████████████████████████| 1/1 [1:29:10<00:00, 5350.27s/it]\n"
     ]
    }
   ],
   "source": [
    "test_meta  = metadata_filtered.sample(frac=0.2)\n",
    "train_meta = metadata_filtered[~metadata_filtered['ID'].isin(test_meta['ID'])]\n",
    "create_dataset(train_meta, source, target, max_lcs_per_record=20000, \n",
    "               n_jobs=32, subsets_frac=(0.8, 0.2), test_subset=test_meta)"
   ]
  },
  {
   "cell_type": "code",
   "execution_count": null,
   "id": "1316dd64-f0c4-4167-acf5-5284321fdc08",
   "metadata": {},
   "outputs": [],
   "source": [
    "!ls records/new_ztf_g/train/UNK -f1 | head -7"
   ]
  },
  {
   "cell_type": "code",
   "execution_count": null,
   "id": "0b2ef391-f1ce-438f-8985-1b4fdcbbbf56",
   "metadata": {
    "tags": []
   },
   "outputs": [],
   "source": [
    "direc = \"records/new_ztf_g/train/UNK\"\n",
    "count = 0\n",
    "for filename in os.listdir(direc):\n",
    "    if os.path.isfile(os.path.join(direc, filename)):\n",
    "        count += 1\n",
    "    #print(filename)\n",
    "print(count)"
   ]
  },
  {
   "cell_type": "code",
   "execution_count": null,
   "id": "d3598acf-af9b-418c-b97a-48d770942ae1",
   "metadata": {
    "tags": []
   },
   "outputs": [],
   "source": [
    "direc = \"records/new_ztf_g/val/UNK\"\n",
    "count = 0\n",
    "for filename in os.listdir(direc):\n",
    "    if os.path.isfile(os.path.join(direc, filename)):\n",
    "        count += 1\n",
    "print(count)"
   ]
  },
  {
   "cell_type": "code",
   "execution_count": null,
   "id": "a3794eb1-eae7-4fe3-8c4f-a1b29ee95621",
   "metadata": {},
   "outputs": [],
   "source": [
    "direc = \"records/new_ztf_g/test/UNK\"\n",
    "count = 0\n",
    "for filename in os.listdir(direc):\n",
    "    if os.path.isfile(os.path.join(direc, filename)):\n",
    "        count += 1\n",
    "print(count)"
   ]
  },
  {
   "cell_type": "code",
   "execution_count": null,
   "id": "fb558828-dba2-46ec-bc43-75f3e310af4c",
   "metadata": {},
   "outputs": [],
   "source": []
  },
  {
   "cell_type": "code",
   "execution_count": null,
   "id": "5529ac32-1199-4086-a69e-e62c1c15ae2c",
   "metadata": {},
   "outputs": [],
   "source": []
  },
  {
   "cell_type": "code",
   "execution_count": null,
   "id": "e99de612-e71f-4010-a8f4-3280e07aa090",
   "metadata": {},
   "outputs": [],
   "source": []
  },
  {
   "cell_type": "code",
   "execution_count": null,
   "id": "5f3da0fc-fa26-45ee-b2e6-84e7209bf6e2",
   "metadata": {},
   "outputs": [],
   "source": []
  },
  {
   "cell_type": "code",
   "execution_count": null,
   "id": "76d4a613-cfde-480d-8a3a-05477d281043",
   "metadata": {},
   "outputs": [],
   "source": []
  },
  {
   "cell_type": "code",
   "execution_count": null,
   "id": "1c7c8731-c8a5-48cb-abbb-6f0fe61f73ad",
   "metadata": {},
   "outputs": [],
   "source": []
  },
  {
   "cell_type": "code",
   "execution_count": null,
   "id": "d3130f2e-cfdf-49ed-b99d-d0b69e30456a",
   "metadata": {},
   "outputs": [],
   "source": []
  },
  {
   "cell_type": "code",
   "execution_count": null,
   "id": "c9ecd38f-c9b4-4da5-af41-277aae69eb24",
   "metadata": {},
   "outputs": [],
   "source": []
  }
 ],
 "metadata": {
  "kernelspec": {
   "display_name": "Python 3 (ipykernel)",
   "language": "python",
   "name": "python3"
  },
  "language_info": {
   "codemirror_mode": {
    "name": "ipython",
    "version": 3
   },
   "file_extension": ".py",
   "mimetype": "text/x-python",
   "name": "python",
   "nbconvert_exporter": "python",
   "pygments_lexer": "ipython3",
   "version": "3.9.12"
  },
  "vscode": {
   "interpreter": {
    "hash": "83b15c090a5bb3577b16a88a33c4079cf3818026b26eb465e007ad120e2798e0"
   }
  }
 },
 "nbformat": 4,
 "nbformat_minor": 5
}
