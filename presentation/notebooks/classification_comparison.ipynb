{
 "cells": [
  {
   "cell_type": "code",
   "execution_count": 1,
   "id": "fb024357",
   "metadata": {},
   "outputs": [
    {
     "name": "stdout",
     "output_type": "stream",
     "text": [
      "/home\n"
     ]
    }
   ],
   "source": [
    "cd /home"
   ]
  },
  {
   "cell_type": "code",
   "execution_count": 42,
   "id": "2a984616",
   "metadata": {},
   "outputs": [
    {
     "name": "stdout",
     "output_type": "stream",
     "text": [
      "The autoreload extension is already loaded. To reload it, use:\n",
      "  %reload_ext autoreload\n"
     ]
    }
   ],
   "source": [
    "import matplotlib.pyplot as plt \n",
    "import pandas as pd\n",
    "import numpy as np\n",
    "from glob import glob\n",
    "import toml\n",
    "import os\n",
    "\n",
    "\n",
    "from src.metrics.visualize import get_training_metrics\n",
    "\n",
    "plt.rcParams.update({\n",
    "    \"text.usetex\": True,\n",
    "    \"font.family\": \"sans-serif\",\n",
    "    \"font.sans-serif\": [\"Helvetica\"]})\n",
    "# for Palatino and other serif fonts use:\n",
    "plt.rcParams.update({\n",
    "    \"text.usetex\": True,\n",
    "    \"font.family\": \"serif\",\n",
    "    \"font.serif\": [\"Palatino\"],\n",
    "})\n",
    "\n",
    "%load_ext autoreload\n",
    "%autoreload 2"
   ]
  },
  {
   "cell_type": "code",
   "execution_count": null,
   "id": "467c7401",
   "metadata": {},
   "outputs": [],
   "source": []
  },
  {
   "cell_type": "code",
   "execution_count": 84,
   "id": "b58aeb4f",
   "metadata": {},
   "outputs": [
    {
     "data": {
      "text/plain": [
       "'./presentation/experiments/astromer_2/results/skip/2024-01-09_00-03-12/classification/atlas/fold_0/atlas_20/att_mlp/logs'"
      ]
     },
     "execution_count": 84,
     "metadata": {},
     "output_type": "execute_result"
    }
   ],
   "source": [
    "root = './presentation/experiments/astromer_1/results/2024-01-15_01-25-27/'\n",
    "\n",
    "path"
   ]
  },
  {
   "cell_type": "code",
   "execution_count": null,
   "id": "2550f815",
   "metadata": {},
   "outputs": [],
   "source": []
  },
  {
   "cell_type": "code",
   "execution_count": 88,
   "id": "a2d70ce0",
   "metadata": {},
   "outputs": [],
   "source": [
    "frames = []\n",
    "for dataset in ['alcock', 'atlas']:\n",
    "    for fold_n in range(3):\n",
    "        for spc in [20, 100]:\n",
    "            try:\n",
    "                path = os.path.join(root, \n",
    "                                    dataset, \n",
    "                                    'fold_{}'.format(fold_n), \n",
    "                                    '{}_{}'.format(dataset, spc),  \n",
    "                                    'att_mlp', \n",
    "                                    'logs')\n",
    "                metrics = get_training_metrics(path, tag='{}_{}_{}'.format(dataset, spc, fold_n))\n",
    "                frames.append(metrics)\n",
    "            except:\n",
    "                continue\n",
    "frames = pd.concat(frames)"
   ]
  },
  {
   "cell_type": "code",
   "execution_count": 89,
   "id": "2277c50f",
   "metadata": {},
   "outputs": [
    {
     "data": {
      "text/html": [
       "<div>\n",
       "<style scoped>\n",
       "    .dataframe tbody tr th:only-of-type {\n",
       "        vertical-align: middle;\n",
       "    }\n",
       "\n",
       "    .dataframe tbody tr th {\n",
       "        vertical-align: top;\n",
       "    }\n",
       "\n",
       "    .dataframe thead th {\n",
       "        text-align: right;\n",
       "    }\n",
       "</style>\n",
       "<table border=\"1\" class=\"dataframe\">\n",
       "  <thead>\n",
       "    <tr style=\"text-align: right;\">\n",
       "      <th></th>\n",
       "      <th>col_0</th>\n",
       "      <th>col_1</th>\n",
       "      <th>col_2</th>\n",
       "      <th>epoch_accuracy</th>\n",
       "    </tr>\n",
       "  </thead>\n",
       "  <tbody>\n",
       "    <tr>\n",
       "      <th>0</th>\n",
       "      <td>alcock</td>\n",
       "      <td>100</td>\n",
       "      <td>4.0</td>\n",
       "      <td>0.644723</td>\n",
       "    </tr>\n",
       "    <tr>\n",
       "      <th>1</th>\n",
       "      <td>alcock</td>\n",
       "      <td>20</td>\n",
       "      <td>4.0</td>\n",
       "      <td>0.631168</td>\n",
       "    </tr>\n",
       "  </tbody>\n",
       "</table>\n",
       "</div>"
      ],
      "text/plain": [
       "    col_0 col_1 col_2 epoch_accuracy\n",
       "0  alcock   100   4.0       0.644723\n",
       "1  alcock    20   4.0       0.631168"
      ]
     },
     "execution_count": 89,
     "metadata": {},
     "output_type": "execute_result"
    }
   ],
   "source": [
    "partial = frames.groupby(['col_0', 'col_1', 'col_2']).max().reset_index()\n",
    "partial = partial[['col_0', 'col_1', 'col_2', 'epoch_accuracy']]\n",
    "partial.groupby(['col_0', 'col_1']).mean().reset_index()"
   ]
  },
  {
   "cell_type": "code",
   "execution_count": null,
   "id": "5e7ef70a",
   "metadata": {},
   "outputs": [],
   "source": []
  },
  {
   "cell_type": "code",
   "execution_count": null,
   "id": "63e91522",
   "metadata": {},
   "outputs": [],
   "source": []
  },
  {
   "cell_type": "code",
   "execution_count": null,
   "id": "47e298da",
   "metadata": {},
   "outputs": [],
   "source": []
  }
 ],
 "metadata": {
  "kernelspec": {
   "display_name": "Python 3 (ipykernel)",
   "language": "python",
   "name": "python3"
  },
  "language_info": {
   "codemirror_mode": {
    "name": "ipython",
    "version": 3
   },
   "file_extension": ".py",
   "mimetype": "text/x-python",
   "name": "python",
   "nbconvert_exporter": "python",
   "pygments_lexer": "ipython3",
   "version": "3.8.10"
  }
 },
 "nbformat": 4,
 "nbformat_minor": 5
}
