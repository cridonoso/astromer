{
 "cells": [
  {
   "cell_type": "code",
   "execution_count": 8,
   "id": "5a1e5fdc",
   "metadata": {},
   "outputs": [
    {
     "name": "stdout",
     "output_type": "stream",
     "text": [
      "/home\n"
     ]
    }
   ],
   "source": [
    "cd /home"
   ]
  },
  {
   "cell_type": "code",
   "execution_count": 9,
   "id": "f98de0b0",
   "metadata": {},
   "outputs": [
    {
     "name": "stdout",
     "output_type": "stream",
     "text": [
      "The autoreload extension is already loaded. To reload it, use:\n",
      "  %reload_ext autoreload\n"
     ]
    }
   ],
   "source": [
    "import matplotlib.pyplot as plt\n",
    "import pandas as pd\n",
    "import numpy as np\n",
    "import sys,os\n",
    "import multiprocessing as mp\n",
    "import itertools\n",
    "from joblib import Parallel, delayed\n",
    "\n",
    "plt.rcParams.update({\n",
    "    \"text.usetex\": True,\n",
    "    \"font.family\": \"sans-serif\",\n",
    "    \"font.sans-serif\": [\"Helvetica\"]})\n",
    "# for Palatino and other serif fonts use:\n",
    "plt.rcParams.update({\n",
    "    \"text.usetex\": True,\n",
    "    \"font.family\": \"serif\",\n",
    "    \"font.serif\": [\"Palatino\"],\n",
    "})\n",
    "\n",
    "os.environ[\"CUDA_VISIBLE_DEVICES\"] = \"-1\"\n",
    "\n",
    "%load_ext autoreload\n",
    "%autoreload 2"
   ]
  },
  {
   "cell_type": "code",
   "execution_count": 10,
   "id": "d8eaf076",
   "metadata": {},
   "outputs": [],
   "source": [
    "light_curves_path = './data/raw_data/alcock/LCs/'\n",
    "metadata_path = './data/raw_data/alcock/metadata.csv'"
   ]
  },
  {
   "cell_type": "code",
   "execution_count": 37,
   "id": "8cb275b2",
   "metadata": {},
   "outputs": [
    {
     "data": {
      "text/plain": [
       "RRab     7397\n",
       "EC       6824\n",
       "LPV      3046\n",
       "RRc      1762\n",
       "Cep_0    1182\n",
       "Cep_1     683\n",
       "Name: Class, dtype: int64"
      ]
     },
     "execution_count": 37,
     "metadata": {},
     "output_type": "execute_result"
    }
   ],
   "source": [
    "meta = pd.read_csv(metadata_path)\n",
    "change_labels = {'LPV WoodA':'LPV', 'LPV WoodB':'LPV', 'LPV WoodC':'LPV', 'LPV WoodD':'LPV'}\n",
    "meta['Class'] = meta['Class'].replace(change_labels)\n",
    "meta = meta[meta['Class']!='UNK']\n",
    "meta = meta[meta['Class']!='std']\n",
    "meta = meta[meta['Class']!='Dubious']\n",
    "meta = meta.rename(columns={'Path_R':'Path'})\n",
    "# meta['Path'] = meta['objID'].apply(lambda x: str(x)+'.dat') # only for ATLAS\n",
    "meta['Class'].value_counts()"
   ]
  },
  {
   "cell_type": "code",
   "execution_count": 38,
   "id": "90f7e1dc",
   "metadata": {},
   "outputs": [],
   "source": [
    "def get_delta(row, lc_path, **kwargs):\n",
    "    lc = pd.read_csv(os.path.join(lc_path, row['Path'].split('/')[-1]), **kwargs)\n",
    "    delta = lc.iloc[:, 0].diff().dropna()\n",
    "    return delta\n",
    "\n",
    "def get_col(row, lc_path, **kwargs):\n",
    "    lc = pd.read_csv(os.path.join(lc_path, row['Path'].split('/')[-1]), **kwargs)\n",
    "    return lc.iloc[:, 1]"
   ]
  },
  {
   "cell_type": "code",
   "execution_count": 39,
   "id": "a35b38a3",
   "metadata": {},
   "outputs": [],
   "source": [
    "for index, row in meta.iterrows():\n",
    "    get_delta(row, light_curves_path)\n",
    "    break"
   ]
  },
  {
   "cell_type": "code",
   "execution_count": 43,
   "id": "27368a84",
   "metadata": {},
   "outputs": [
    {
     "name": "stdout",
     "output_type": "stream",
     "text": [
      "CPU times: user 12.1 s, sys: 20.9 s, total: 32.9 s\n",
      "Wall time: 33 s\n"
     ]
    }
   ],
   "source": [
    "%%time\n",
    "# delim_whitespace=True, names=['mjd', 'mag', 'err']\n",
    "var = Parallel(n_jobs=48)(delayed(get_col)(row, light_curves_path) \\\n",
    "                            for index, row in meta.iterrows())"
   ]
  },
  {
   "cell_type": "code",
   "execution_count": 44,
   "id": "54d19902",
   "metadata": {},
   "outputs": [],
   "source": [
    "var = list(itertools.chain(*var))"
   ]
  },
  {
   "cell_type": "code",
   "execution_count": 45,
   "id": "e2bb28c1",
   "metadata": {},
   "outputs": [],
   "source": [
    "np.save(open('./presentation/backup/alcock_mags.npy', 'wb'), np.array(var))"
   ]
  },
  {
   "cell_type": "code",
   "execution_count": null,
   "id": "b458937e",
   "metadata": {},
   "outputs": [],
   "source": []
  },
  {
   "cell_type": "markdown",
   "id": "b415af12",
   "metadata": {},
   "source": [
    "#### Mean Cadences"
   ]
  },
  {
   "cell_type": "code",
   "execution_count": 89,
   "id": "448ecf3c",
   "metadata": {},
   "outputs": [
    {
     "data": {
      "text/plain": [
       "'-6.69 +- 1.7'"
      ]
     },
     "execution_count": 89,
     "metadata": {},
     "output_type": "execute_result"
    }
   ],
   "source": [
    "'{:.2f} +- {:.1f}'.format(np.mean(var), np.std(var))"
   ]
  },
  {
   "cell_type": "markdown",
   "id": "d4705a04",
   "metadata": {},
   "source": [
    "<u>Mean Cadences</u>\n",
    "\n",
    "- Alcock: 4.1 +- 11.4\n",
    "- OGLE: 3.8 +- 14.6\n",
    "- ATLAS: 4.7 +- 19.1\n",
    "- MACHO: '2.9 +- 17.3'"
   ]
  },
  {
   "cell_type": "markdown",
   "id": "fcd660da",
   "metadata": {},
   "source": [
    "#### Distributions plot"
   ]
  },
  {
   "cell_type": "code",
   "execution_count": 4,
   "id": "50f3739b",
   "metadata": {},
   "outputs": [],
   "source": [
    "base = './presentation/backup/'\n",
    "\n",
    "data_0 = [np.load(os.path.join(base, file)) for file in ['macho_dt.npy', 'alcock_dt.npy']]\n",
    "data_1 = [np.load(os.path.join(base, file)) for file in ['macho_mags.npy', 'alcock_mags.npy']]"
   ]
  },
  {
   "cell_type": "code",
   "execution_count": 6,
   "id": "39ae7152",
   "metadata": {},
   "outputs": [
    {
     "name": "stdout",
     "output_type": "stream",
     "text": [
      "CPU times: user 1min 7s, sys: 794 ms, total: 1min 7s\n",
      "Wall time: 1min 7s\n"
     ]
    }
   ],
   "source": [
    "%%time\n",
    "macho_mags = np.random.choice(data_1[0], size=len(data_1[1]), replace=False)"
   ]
  },
  {
   "cell_type": "code",
   "execution_count": 7,
   "id": "61133ae3",
   "metadata": {},
   "outputs": [
    {
     "name": "stdout",
     "output_type": "stream",
     "text": [
      "CPU times: user 1min 7s, sys: 796 ms, total: 1min 7s\n",
      "Wall time: 1min 7s\n"
     ]
    }
   ],
   "source": [
    "%%time\n",
    "macho_dt = np.random.choice(data_0[0], size=len(data_0[1]), replace=False)"
   ]
  },
  {
   "cell_type": "code",
   "execution_count": 11,
   "id": "e23c7cf1",
   "metadata": {},
   "outputs": [
    {
     "data": {
      "text/plain": [
       "array([-4.986, -5.164, -4.801, ..., -4.802, -5.13 , -4.   ])"
      ]
     },
     "execution_count": 11,
     "metadata": {},
     "output_type": "execute_result"
    }
   ],
   "source": []
  },
  {
   "cell_type": "code",
   "execution_count": 22,
   "id": "558ff1ee",
   "metadata": {},
   "outputs": [],
   "source": [
    "min_mag = np.minimum(min(macho_mags), min(data_1[1]))\n",
    "max_mag = np.maximum(max(macho_mags), max(data_1[1]))"
   ]
  },
  {
   "cell_type": "code",
   "execution_count": 12,
   "id": "cfccd0f0",
   "metadata": {},
   "outputs": [],
   "source": [
    "data_0_b = [macho_dt, data_0[1]]\n",
    "data_1_b = [macho_mags, data_1[1]]"
   ]
  },
  {
   "cell_type": "code",
   "execution_count": null,
   "id": "cd9c4f0c",
   "metadata": {},
   "outputs": [],
   "source": [
    "fig, axes = plt.subplots(1,2, figsize=(5,3), dpi=300, sharex=False, \n",
    "                         gridspec_kw={'hspace': 0., 'wspace': 0.2})\n",
    "\n",
    "ls = ['--', '-']\n",
    "labels = ['MACHO (PT)', 'Alcock']\n",
    "bins = [800, 920]\n",
    "for i, (dt, mg) in enumerate(zip(data_0_b, data_1_b)):\n",
    "    print(i)\n",
    "    axes[0].hist(mg, bins=np.linspace(min_mag, max_mag, 30), histtype='step', linestyle=ls[i], color='k', density=True,label=labels[i])\n",
    "    axes[0].set_xlabel('Mean magnitude')\n",
    "    axes[0].set_ylabel('Density')\n",
    "    \n",
    "    axes[1].hist(dt, bins=np.linspace(0, 20, 30), density=True, histtype='step', linestyle=ls[i], color='k', label=labels[i])\n",
    "    axes[1].set_xlim(-0.5, 20)\n",
    "    axes[1].set_xlabel('Mean $\\Delta$time [days]')\n",
    "    axes[1].legend(bbox_to_anchor=(0.6, 1.18), ncol=2)"
   ]
  },
  {
   "cell_type": "code",
   "execution_count": 24,
   "id": "82643362",
   "metadata": {},
   "outputs": [],
   "source": [
    "fig.savefig('presentation/figures/alcock_vs_macho.pdf', format='pdf', bbox_inches='tight')"
   ]
  },
  {
   "cell_type": "code",
   "execution_count": null,
   "id": "61cb6dda",
   "metadata": {},
   "outputs": [],
   "source": []
  }
 ],
 "metadata": {
  "kernelspec": {
   "display_name": "Python 3 (ipykernel)",
   "language": "python",
   "name": "python3"
  },
  "language_info": {
   "codemirror_mode": {
    "name": "ipython",
    "version": 3
   },
   "file_extension": ".py",
   "mimetype": "text/x-python",
   "name": "python",
   "nbconvert_exporter": "python",
   "pygments_lexer": "ipython3",
   "version": "3.8.10"
  }
 },
 "nbformat": 4,
 "nbformat_minor": 5
}
