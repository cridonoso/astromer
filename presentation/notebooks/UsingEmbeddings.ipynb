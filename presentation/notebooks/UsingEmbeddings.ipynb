{
 "cells": [
  {
   "cell_type": "code",
   "execution_count": 1,
   "metadata": {},
   "outputs": [
    {
     "name": "stdout",
     "output_type": "stream",
     "text": [
      "/tf/astromer\n"
     ]
    }
   ],
   "source": [
    "cd /tf/astromer"
   ]
  },
  {
   "cell_type": "code",
   "execution_count": 2,
   "metadata": {},
   "outputs": [],
   "source": [
    "import matplotlib.pyplot as plt\n",
    "import pandas as pd\n",
    " \n",
    "from core.pretrained import ASTROMER_v1\n",
    "\n",
    "\n",
    "%load_ext autoreload\n",
    "%autoreload 2"
   ]
  },
  {
   "cell_type": "markdown",
   "metadata": {},
   "source": [
    "### Loading data "
   ]
  },
  {
   "cell_type": "code",
   "execution_count": 17,
   "metadata": {},
   "outputs": [],
   "source": [
    "lcs_dir = './data/raw_data/css/LCs/'\n",
    "metadata_file = './data/raw_data/css/CSS_dataset.dat'"
   ]
  },
  {
   "cell_type": "code",
   "execution_count": 18,
   "metadata": {},
   "outputs": [],
   "source": [
    "metadata_df = pd.read_csv(metadata_file)"
   ]
  },
  {
   "cell_type": "code",
   "execution_count": 19,
   "metadata": {},
   "outputs": [
    {
     "data": {
      "text/plain": [
       "EW                49396\n",
       "RRc                9185\n",
       "EA                 9167\n",
       "RRab               6745\n",
       "Transient          3687\n",
       "Rotational Var     3636\n",
       "LPV                1798\n",
       "RS_CVn             1514\n",
       "RRd                1002\n",
       "Misc                298\n",
       "beta_Lyrae          279\n",
       "CEPII               277\n",
       "Blazkho             243\n",
       "HADS                242\n",
       "ACEP                215\n",
       "EA_UP               153\n",
       "DSC                 147\n",
       "ELL                 142\n",
       "PCEB                 85\n",
       "Hump                 25\n",
       "CEPI                 10\n",
       "LADS                  7\n",
       "Name: Class, dtype: int64"
      ]
     },
     "execution_count": 19,
     "metadata": {},
     "output_type": "execute_result"
    }
   ],
   "source": [
    "metadata_df['Class'].value_counts()"
   ]
  },
  {
   "cell_type": "code",
   "execution_count": 20,
   "metadata": {},
   "outputs": [],
   "source": [
    "# ds_sample = pd.concat([group.sample(n=200) for lab, group in metadata_df.groupby('Class')])"
   ]
  },
  {
   "cell_type": "code",
   "execution_count": 23,
   "metadata": {},
   "outputs": [],
   "source": [
    "times      = []\n",
    "magnitudes = []\n",
    "labels = []\n",
    "for index, row in metadata_df.iterrows():\n",
    "    lc = pd.read_csv(lcs_dir+'{}'.format(row['Path'].split('/')[-1]))\n",
    "    lc = lc.iloc[:, :3]\n",
    "    lc.columns = ['mjd','mag','magerr']\n",
    "    lc = lc.sort_values('mjd')\n",
    "    times.append(lc['mjd'].values)\n",
    "    magnitudes.append(lc['mag'].values)\n",
    "    labels.append(row['Class'])"
   ]
  },
  {
   "cell_type": "code",
   "execution_count": 24,
   "metadata": {},
   "outputs": [
    {
     "data": {
      "image/png": "[encoded data removed]",
      "text/plain": [
       "<Figure size 720x216 with 1 Axes>"
      ]
     },
     "metadata": {
      "needs_background": "light"
     },
     "output_type": "display_data"
    }
   ],
   "source": [
    "plt.figure(figsize=(10,3))\n",
    "plt.plot(times[0], magnitudes[0], color='darkred')\n",
    "plt.title('{}'.format(labels[0]))\n",
    "plt.show()"
   ]
  },
  {
   "cell_type": "markdown",
   "metadata": {},
   "source": [
    "# Finetuning"
   ]
  },
  {
   "cell_type": "code",
   "execution_count": null,
   "metadata": {},
   "outputs": [],
   "source": []
  },
  {
   "cell_type": "code",
   "execution_count": null,
   "metadata": {},
   "outputs": [],
   "source": []
  },
  {
   "cell_type": "code",
   "execution_count": null,
   "metadata": {},
   "outputs": [],
   "source": []
  },
  {
   "cell_type": "markdown",
   "metadata": {},
   "source": [
    "### Getting attention vectors from numpy lightcurves"
   ]
  },
  {
   "cell_type": "code",
   "execution_count": 5,
   "metadata": {},
   "outputs": [],
   "source": [
    "astromer = ASTROMER_v1()"
   ]
  },
  {
   "cell_type": "code",
   "execution_count": 13,
   "metadata": {},
   "outputs": [
    {
     "name": "stdout",
     "output_type": "stream",
     "text": [
      "CPU times: user 2min 54s, sys: 1min 36s, total: 4min 31s\n",
      "Wall time: 58.5 s\n"
     ]
    }
   ],
   "source": [
    "%%time\n",
    "embs = astromer.encode(times=times, magnitudes=magnitudes, batch_size=2000)"
   ]
  },
  {
   "cell_type": "markdown",
   "metadata": {},
   "source": [
    "### Getting attention vector from tf.record"
   ]
  },
  {
   "cell_type": "code",
   "execution_count": 32,
   "metadata": {},
   "outputs": [
    {
     "name": "stdout",
     "output_type": "stream",
     "text": [
      "[INFO] No shuffle No Oversampling\n"
     ]
    }
   ],
   "source": [
    "from core.data import clf_records\n",
    "\n",
    "subset = 'val'\n",
    "dataset = clf_records('./data/records/alcock/{}'.format(subset), max_obs=200, batch_size=2000, take=-1)"
   ]
  },
  {
   "cell_type": "code",
   "execution_count": 33,
   "metadata": {},
   "outputs": [
    {
     "name": "stdout",
     "output_type": "stream",
     "text": [
      "CPU times: user 1min 14s, sys: 43.5 s, total: 1min 58s\n",
      "Wall time: 24.3 s\n"
     ]
    }
   ],
   "source": [
    "%%time\n",
    "embs = astromer.encode(dataset)"
   ]
  },
  {
   "cell_type": "code",
   "execution_count": 34,
   "metadata": {},
   "outputs": [],
   "source": [
    "times = []\n",
    "magnitudes = []\n",
    "uncert = []\n",
    "labels = []\n",
    "lengths = []\n",
    "for batch in dataset:\n",
    "    times.append(batch['times'])\n",
    "    magnitudes.append(batch['input'])\n",
    "    uncert.append(batch['obserr'])\n",
    "    labels.append(batch['label'])\n",
    "    lengths.append(batch['length'])"
   ]
  },
  {
   "cell_type": "code",
   "execution_count": 35,
   "metadata": {},
   "outputs": [],
   "source": [
    "import tensorflow as tf \n",
    "times = tf.concat(times, 0 )\n",
    "magnitudes = tf.concat(magnitudes, 0 )\n",
    "uncert = tf.concat(uncert, 0 )\n",
    "labels = tf.concat(labels, 0 )\n",
    "lengths = tf.concat(lengths, 0 )"
   ]
  },
  {
   "cell_type": "code",
   "execution_count": 36,
   "metadata": {},
   "outputs": [
    {
     "data": {
      "text/plain": [
       "<HDF5 dataset \"att\": shape (5116, 200, 256), type \"<f4\">"
      ]
     },
     "execution_count": 36,
     "metadata": {},
     "output_type": "execute_result"
    }
   ],
   "source": [
    "import h5py\n",
    "hf = h5py.File('data/embeddings/alcock/{}.h5'.format(subset), 'w')\n",
    "hf.create_dataset('times', data=times)\n",
    "hf.create_dataset('magns', data=magnitudes)\n",
    "hf.create_dataset('uncs', data=uncert)\n",
    "hf.create_dataset('labels', data=labels)\n",
    "hf.create_dataset('lens', data=lengths)\n",
    "hf.create_dataset('att', data=embs)"
   ]
  },
  {
   "cell_type": "code",
   "execution_count": 38,
   "metadata": {},
   "outputs": [
    {
     "data": {
      "text/plain": [
       "<HDF5 dataset \"att\": shape (5116, 200, 256), type \"<f4\">"
      ]
     },
     "execution_count": 38,
     "metadata": {},
     "output_type": "execute_result"
    }
   ],
   "source": [
    "hf = h5py.File('data/embeddings/alcock/{}.h5'.format(subset), 'r')\n",
    "hf['att']"
   ]
  },
  {
   "cell_type": "markdown",
   "metadata": {},
   "source": [
    "### Saving embeddings as tf.records"
   ]
  },
  {
   "cell_type": "code",
   "execution_count": 14,
   "metadata": {},
   "outputs": [],
   "source": [
    "classes = list(metadata_df['Class'].unique())\n",
    "labels_code = [classes.index(y) for y in labels]"
   ]
  },
  {
   "cell_type": "code",
   "execution_count": 15,
   "metadata": {},
   "outputs": [],
   "source": [
    "from sklearn.model_selection import train_test_split\n",
    "\n",
    "X_train, X_rest, y_train, y_rest = train_test_split(embs, labels_code, test_size=0.5, random_state=42)\n",
    "X_test, X_val, y_test, y_val = train_test_split(X_rest, y_rest, test_size=0.5, random_state=42)"
   ]
  },
  {
   "cell_type": "code",
   "execution_count": 16,
   "metadata": {},
   "outputs": [
    {
     "name": "stdout",
     "output_type": "stream",
     "text": [
      "CPU times: user 1min 46s, sys: 1.19 s, total: 1min 48s\n",
      "Wall time: 1min 48s\n"
     ]
    }
   ],
   "source": [
    "%%time\n",
    "astromer.to_record(X_train, y_train, dest='./data/records/embeddings/train/css.record')\n",
    "astromer.to_record(X_val, y_val, dest='./data/records/embeddings/val/css.record')\n",
    "astromer.to_record(X_test, y_test, dest='./data/records/embeddings/test/css.record')"
   ]
  },
  {
   "cell_type": "markdown",
   "metadata": {},
   "source": [
    "### Loading embedding datasets"
   ]
  },
  {
   "cell_type": "code",
   "execution_count": 22,
   "metadata": {},
   "outputs": [],
   "source": [
    "import tensorflow as tf\n",
    "import os"
   ]
  },
  {
   "cell_type": "code",
   "execution_count": 26,
   "metadata": {},
   "outputs": [],
   "source": [
    "root = './embeddings/ogle_20/train/'\n",
    "for index, x in enumerate(os.listdir(root)):\n",
    "    if index == 0:\n",
    "        dataset = tf.data.experimental.load(root+x)\n",
    "    else:\n",
    "        ds = tf.data.experimental.load(root+x)\n",
    "        dataset.concatenate(ds)"
   ]
  },
  {
   "cell_type": "code",
   "execution_count": 29,
   "metadata": {},
   "outputs": [
    {
     "name": "stdout",
     "output_type": "stream",
     "text": [
      "tf.Tensor(b'OGLE-BLG-LPV-043427', shape=(), dtype=string)\n",
      "tf.Tensor(b'OGLE-BLG-RRLYR-02478', shape=(), dtype=string)\n",
      "tf.Tensor(b'smc_sc2_i_43336', shape=(), dtype=string)\n",
      "tf.Tensor(b'OGLE-LMC-RRLYR-00049', shape=(), dtype=string)\n",
      "tf.Tensor(b'smc_sc4_i_120828', shape=(), dtype=string)\n",
      "tf.Tensor(b'OGLE-BLG-LPV-051932', shape=(), dtype=string)\n",
      "tf.Tensor(b'OGLE-GD-ECL-04098', shape=(), dtype=string)\n",
      "tf.Tensor(b'OGLE-LMC-LPV-77961', shape=(), dtype=string)\n",
      "tf.Tensor(b'OGLE-LMC-ECL-22071', shape=(), dtype=string)\n",
      "tf.Tensor(b'OGLE-LMC-RRLYR-00129', shape=(), dtype=string)\n"
     ]
    }
   ],
   "source": [
    "for x in dataset:    \n",
    "    print(x[0])\n"
   ]
  },
  {
   "cell_type": "code",
   "execution_count": null,
   "metadata": {},
   "outputs": [],
   "source": []
  }
 ],
 "metadata": {
  "kernelspec": {
   "display_name": "Python 3",
   "language": "python",
   "name": "python3"
  },
  "language_info": {
   "codemirror_mode": {
    "name": "ipython",
    "version": 3
   },
   "file_extension": ".py",
   "mimetype": "text/x-python",
   "name": "python",
   "nbconvert_exporter": "python",
   "pygments_lexer": "ipython3",
   "version": "3.6.9"
  }
 },
 "nbformat": 4,
 "nbformat_minor": 2
}
