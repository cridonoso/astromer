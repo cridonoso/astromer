{
 "cells": [
  {
   "cell_type": "code",
   "execution_count": 1,
   "metadata": {},
   "outputs": [
    {
     "name": "stdout",
     "output_type": "stream",
     "text": [
      "/tf/astromer\n"
     ]
    }
   ],
   "source": [
    "cd /tf/astromer"
   ]
  },
  {
   "cell_type": "code",
   "execution_count": 4,
   "metadata": {},
   "outputs": [
    {
     "name": "stdout",
     "output_type": "stream",
     "text": [
      "The autoreload extension is already loaded. To reload it, use:\n",
      "  %reload_ext autoreload\n"
     ]
    }
   ],
   "source": [
    "import matplotlib.pyplot as plt\n",
    "import pandas as pd\n",
    " \n",
    "from core.pretrained import ASTROMER_v1\n",
    "\n",
    "\n",
    "%load_ext autoreload\n",
    "%autoreload 2"
   ]
  },
  {
   "cell_type": "markdown",
   "metadata": {},
   "source": [
    "### Loading data "
   ]
  },
  {
   "cell_type": "code",
   "execution_count": 17,
   "metadata": {},
   "outputs": [],
   "source": [
    "lcs_dir = './data/raw_data/css/LCs/'\n",
    "metadata_file = './data/raw_data/css/CSS_dataset.dat'"
   ]
  },
  {
   "cell_type": "code",
   "execution_count": 18,
   "metadata": {},
   "outputs": [],
   "source": [
    "metadata_df = pd.read_csv(metadata_file)"
   ]
  },
  {
   "cell_type": "code",
   "execution_count": 19,
   "metadata": {},
   "outputs": [
    {
     "data": {
      "text/plain": [
       "EW                49396\n",
       "RRc                9185\n",
       "EA                 9167\n",
       "RRab               6745\n",
       "Transient          3687\n",
       "Rotational Var     3636\n",
       "LPV                1798\n",
       "RS_CVn             1514\n",
       "RRd                1002\n",
       "Misc                298\n",
       "beta_Lyrae          279\n",
       "CEPII               277\n",
       "Blazkho             243\n",
       "HADS                242\n",
       "ACEP                215\n",
       "EA_UP               153\n",
       "DSC                 147\n",
       "ELL                 142\n",
       "PCEB                 85\n",
       "Hump                 25\n",
       "CEPI                 10\n",
       "LADS                  7\n",
       "Name: Class, dtype: int64"
      ]
     },
     "execution_count": 19,
     "metadata": {},
     "output_type": "execute_result"
    }
   ],
   "source": [
    "metadata_df['Class'].value_counts()"
   ]
  },
  {
   "cell_type": "code",
   "execution_count": 20,
   "metadata": {},
   "outputs": [],
   "source": [
    "# ds_sample = pd.concat([group.sample(n=200) for lab, group in metadata_df.groupby('Class')])"
   ]
  },
  {
   "cell_type": "code",
   "execution_count": 23,
   "metadata": {},
   "outputs": [],
   "source": [
    "times      = []\n",
    "magnitudes = []\n",
    "labels = []\n",
    "for index, row in metadata_df.iterrows():\n",
    "    lc = pd.read_csv(lcs_dir+'{}'.format(row['Path'].split('/')[-1]))\n",
    "    lc = lc.iloc[:, :3]\n",
    "    lc.columns = ['mjd','mag','magerr']\n",
    "    lc = lc.sort_values('mjd')\n",
    "    times.append(lc['mjd'].values)\n",
    "    magnitudes.append(lc['mag'].values)\n",
    "    labels.append(row['Class'])"
   ]
  },
  {
   "cell_type": "code",
   "execution_count": 24,
   "metadata": {},
   "outputs": [
    {
     "data": {
      "image/png": "[encoded data removed]",
      "text/plain": [
       "<Figure size 720x216 with 1 Axes>"
      ]
     },
     "metadata": {
      "needs_background": "light"
     },
     "output_type": "display_data"
    }
   ],
   "source": [
    "plt.figure(figsize=(10,3))\n",
    "plt.plot(times[0], magnitudes[0], color='darkred')\n",
    "plt.title('{}'.format(labels[0]))\n",
    "plt.show()"
   ]
  },
  {
   "cell_type": "markdown",
   "metadata": {},
   "source": [
    "# Finetuning"
   ]
  },
  {
   "cell_type": "code",
   "execution_count": null,
   "metadata": {},
   "outputs": [],
   "source": []
  },
  {
   "cell_type": "code",
   "execution_count": null,
   "metadata": {},
   "outputs": [],
   "source": []
  },
  {
   "cell_type": "code",
   "execution_count": null,
   "metadata": {},
   "outputs": [],
   "source": []
  },
  {
   "cell_type": "markdown",
   "metadata": {},
   "source": [
    "### Getting attention vectors from numpy lightcurves"
   ]
  },
  {
   "cell_type": "code",
   "execution_count": 5,
   "metadata": {},
   "outputs": [],
   "source": [
    "astromer = ASTROMER_v1()"
   ]
  },
  {
   "cell_type": "code",
   "execution_count": 13,
   "metadata": {},
   "outputs": [
    {
     "name": "stdout",
     "output_type": "stream",
     "text": [
      "CPU times: user 2min 54s, sys: 1min 36s, total: 4min 31s\n",
      "Wall time: 58.5 s\n"
     ]
    }
   ],
   "source": [
    "%%time\n",
    "embs = astromer.encode(times=times, magnitudes=magnitudes, batch_size=2000)"
   ]
  },
  {
   "cell_type": "markdown",
   "metadata": {},
   "source": [
    "### Getting attention vector from tf.record"
   ]
  },
  {
   "cell_type": "code",
   "execution_count": 32,
   "metadata": {},
   "outputs": [
    {
     "name": "stdout",
     "output_type": "stream",
     "text": [
      "[INFO] No shuffle No Oversampling\n"
     ]
    }
   ],
   "source": [
    "from core.data import clf_records\n",
    "\n",
    "subset = 'val'\n",
    "dataset = clf_records('./data/records/alcock/{}'.format(subset), max_obs=200, batch_size=2000, take=-1)"
   ]
  },
  {
   "cell_type": "code",
   "execution_count": 33,
   "metadata": {},
   "outputs": [
    {
     "name": "stdout",
     "output_type": "stream",
     "text": [
      "CPU times: user 1min 14s, sys: 43.5 s, total: 1min 58s\n",
      "Wall time: 24.3 s\n"
     ]
    }
   ],
   "source": [
    "%%time\n",
    "embs = astromer.encode(dataset)"
   ]
  },
  {
   "cell_type": "code",
   "execution_count": 34,
   "metadata": {},
   "outputs": [],
   "source": [
    "times = []\n",
    "magnitudes = []\n",
    "uncert = []\n",
    "labels = []\n",
    "lengths = []\n",
    "for batch in dataset:\n",
    "    times.append(batch['times'])\n",
    "    magnitudes.append(batch['input'])\n",
    "    uncert.append(batch['obserr'])\n",
    "    labels.append(batch['label'])\n",
    "    lengths.append(batch['length'])"
   ]
  },
  {
   "cell_type": "code",
   "execution_count": 35,
   "metadata": {},
   "outputs": [],
   "source": [
    "import tensorflow as tf \n",
    "times = tf.concat(times, 0 )\n",
    "magnitudes = tf.concat(magnitudes, 0 )\n",
    "uncert = tf.concat(uncert, 0 )\n",
    "labels = tf.concat(labels, 0 )\n",
    "lengths = tf.concat(lengths, 0 )"
   ]
  },
  {
   "cell_type": "code",
   "execution_count": 36,
   "metadata": {},
   "outputs": [
    {
     "data": {
      "text/plain": [
       "<HDF5 dataset \"att\": shape (5116, 200, 256), type \"<f4\">"
      ]
     },
     "execution_count": 36,
     "metadata": {},
     "output_type": "execute_result"
    }
   ],
   "source": [
    "import h5py\n",
    "hf = h5py.File('data/embeddings/alcock/{}.h5'.format(subset), 'w')\n",
    "hf.create_dataset('times', data=times)\n",
    "hf.create_dataset('magns', data=magnitudes)\n",
    "hf.create_dataset('uncs', data=uncert)\n",
    "hf.create_dataset('labels', data=labels)\n",
    "hf.create_dataset('lens', data=lengths)\n",
    "hf.create_dataset('att', data=embs)"
   ]
  },
  {
   "cell_type": "code",
   "execution_count": 38,
   "metadata": {},
   "outputs": [
    {
     "data": {
      "text/plain": [
       "<HDF5 dataset \"att\": shape (5116, 200, 256), type \"<f4\">"
      ]
     },
     "execution_count": 38,
     "metadata": {},
     "output_type": "execute_result"
    }
   ],
   "source": [
    "hf = h5py.File('data/embeddings/alcock/{}.h5'.format(subset), 'r')\n",
    "hf['att']"
   ]
  },
  {
   "cell_type": "markdown",
   "metadata": {},
   "source": [
    "### Saving embeddings as tf.records"
   ]
  },
  {
   "cell_type": "code",
   "execution_count": 14,
   "metadata": {},
   "outputs": [],
   "source": [
    "classes = list(metadata_df['Class'].unique())\n",
    "labels_code = [classes.index(y) for y in labels]"
   ]
  },
  {
   "cell_type": "code",
   "execution_count": 15,
   "metadata": {},
   "outputs": [],
   "source": [
    "from sklearn.model_selection import train_test_split\n",
    "\n",
    "X_train, X_rest, y_train, y_rest = train_test_split(embs, labels_code, test_size=0.5, random_state=42)\n",
    "X_test, X_val, y_test, y_val = train_test_split(X_rest, y_rest, test_size=0.5, random_state=42)"
   ]
  },
  {
   "cell_type": "code",
   "execution_count": 16,
   "metadata": {},
   "outputs": [
    {
     "name": "stdout",
     "output_type": "stream",
     "text": [
      "CPU times: user 1min 46s, sys: 1.19 s, total: 1min 48s\n",
      "Wall time: 1min 48s\n"
     ]
    }
   ],
   "source": [
    "%%time\n",
    "astromer.to_record(X_train, y_train, dest='./data/records/embeddings/train/css.record')\n",
    "astromer.to_record(X_val, y_val, dest='./data/records/embeddings/val/css.record')\n",
    "astromer.to_record(X_test, y_test, dest='./data/records/embeddings/test/css.record')"
   ]
  },
  {
   "cell_type": "markdown",
   "metadata": {},
   "source": [
    "### Training a classifier"
   ]
  },
  {
   "cell_type": "code",
   "execution_count": 17,
   "metadata": {},
   "outputs": [
    {
     "name": "stdout",
     "output_type": "stream",
     "text": [
      "/tf/astromer\n"
     ]
    }
   ],
   "source": [
    "cd /tf/astromer"
   ]
  },
  {
   "cell_type": "code",
   "execution_count": 18,
   "metadata": {},
   "outputs": [
    {
     "name": "stdout",
     "output_type": "stream",
     "text": [
      "The autoreload extension is already loaded. To reload it, use:\n",
      "  %reload_ext autoreload\n"
     ]
    }
   ],
   "source": [
    "import matplotlib.pyplot as plt\n",
    "import tensorflow as tf\n",
    "import pandas as pd\n",
    "\n",
    "from tensorflow.keras.losses import CategoricalCrossentropy, SparseCategoricalCrossentropy\n",
    "from tensorflow.keras.optimizers import Adam\n",
    "from core.pretrained import ASTROMER_v1\n",
    "from core.classifier import get_mlp\n",
    "\n",
    "%load_ext autoreload\n",
    "%autoreload 2"
   ]
  },
  {
   "cell_type": "code",
   "execution_count": 19,
   "metadata": {},
   "outputs": [],
   "source": [
    "astromer = ASTROMER_v1()"
   ]
  },
  {
   "cell_type": "code",
   "execution_count": null,
   "metadata": {},
   "outputs": [],
   "source": []
  },
  {
   "cell_type": "code",
   "execution_count": 30,
   "metadata": {},
   "outputs": [
    {
     "name": "stdout",
     "output_type": "stream",
     "text": [
      "[INFO] Taking 20 balanced batches\n",
      "[INFO] Taking 5 balanced batches\n",
      "[INFO] Taking 5 balanced batches\n"
     ]
    }
   ],
   "source": [
    "train_batches = astromer.load_record('./data/records/embeddings/train', \n",
    "                                     batch_size=64,\n",
    "                                     max_obs=200,\n",
    "                                     take=20,\n",
    "                                     average=True)\n",
    "\n",
    "val_batches = astromer.load_record('./data/records/embeddings/val', \n",
    "                                   batch_size=64,\n",
    "                                   max_obs=200,\n",
    "                                   take=5,\n",
    "                                   average=True)\n",
    "\n",
    "test_batches = astromer.load_record('./data/records/embeddings/test', \n",
    "                                   batch_size=64,\n",
    "                                   max_obs=200,\n",
    "                                   take=5,\n",
    "                                   average=True)"
   ]
  },
  {
   "cell_type": "code",
   "execution_count": 31,
   "metadata": {},
   "outputs": [
    {
     "name": "stdout",
     "output_type": "stream",
     "text": [
      "tf.Tensor(\n",
      "[3 6 0 0 2 2 4 5 6 3 6 6 2 5 6 4 0 6 6 6 0 0 3 0 0 6 1 3 0 6 3 2 0 3 3 0 6\n",
      " 6 1 3 3 2 5 3 2 6 3 6 3 6 0 6 3 6 6 2 6 0 3 0 5 3 0 0], shape=(64,), dtype=int32)\n"
     ]
    }
   ],
   "source": [
    "for batch, label in train_batches:\n",
    "    print(label)\n",
    "    break"
   ]
  },
  {
   "cell_type": "code",
   "execution_count": 32,
   "metadata": {},
   "outputs": [
    {
     "name": "stdout",
     "output_type": "stream",
     "text": [
      "Model: \"MLP\"\n",
      "_________________________________________________________________\n",
      "Layer (type)                 Output Shape              Param #   \n",
      "=================================================================\n",
      "input (InputLayer)           [(None, 256)]             0         \n",
      "_________________________________________________________________\n",
      "dense_18 (Dense)             (None, 512)               131584    \n",
      "_________________________________________________________________\n",
      "batch_normalization_6 (Batch (None, 512)               2048      \n",
      "_________________________________________________________________\n",
      "dense_19 (Dense)             (None, 256)               131328    \n",
      "_________________________________________________________________\n",
      "batch_normalization_7 (Batch (None, 256)               1024      \n",
      "_________________________________________________________________\n",
      "dense_20 (Dense)             (None, 128)               32896     \n",
      "_________________________________________________________________\n",
      "batch_normalization_8 (Batch (None, 128)               512       \n",
      "_________________________________________________________________\n",
      "dense_21 (Dense)             (None, 7)                 903       \n",
      "=================================================================\n",
      "Total params: 300,295\n",
      "Trainable params: 298,503\n",
      "Non-trainable params: 1,792\n",
      "_________________________________________________________________\n"
     ]
    }
   ],
   "source": [
    "num_classes = metadata_df['Class'].unique().size\n",
    "model = get_mlp(num_classes)\n",
    "model.summary()"
   ]
  },
  {
   "cell_type": "code",
   "execution_count": 33,
   "metadata": {},
   "outputs": [],
   "source": [
    "model.compile(optimizer=Adam(learning_rate=1e-3), \n",
    "              loss=SparseCategoricalCrossentropy(from_logits=True), \n",
    "              metrics='accuracy')"
   ]
  },
  {
   "cell_type": "code",
   "execution_count": 34,
   "metadata": {},
   "outputs": [],
   "source": [
    "estop = tf.keras.callbacks.EarlyStopping(\n",
    "    monitor='val_loss', min_delta=0, patience=30, verbose=0,\n",
    "    mode='auto', baseline=None, restore_best_weights=True\n",
    ")"
   ]
  },
  {
   "cell_type": "code",
   "execution_count": null,
   "metadata": {},
   "outputs": [],
   "source": []
  },
  {
   "cell_type": "code",
   "execution_count": 35,
   "metadata": {
    "scrolled": true
   },
   "outputs": [
    {
     "name": "stdout",
     "output_type": "stream",
     "text": [
      "Epoch 1/1000\n",
      "17/17 [==============================] - 10s 537ms/step - loss: 1.9234 - accuracy: 0.2457 - val_loss: 1.8795 - val_accuracy: 0.3219\n",
      "Epoch 2/1000\n",
      "17/17 [==============================] - 0s 12ms/step - loss: 1.8140 - accuracy: 0.3343 - val_loss: 1.7955 - val_accuracy: 0.3219\n",
      "Epoch 3/1000\n",
      "17/17 [==============================] - 0s 11ms/step - loss: 1.7060 - accuracy: 0.3524 - val_loss: 1.7297 - val_accuracy: 0.2500\n",
      "Epoch 4/1000\n",
      "17/17 [==============================] - 0s 12ms/step - loss: 1.6077 - accuracy: 0.3581 - val_loss: 1.7208 - val_accuracy: 0.2500\n",
      "Epoch 5/1000\n",
      "17/17 [==============================] - 0s 12ms/step - loss: 1.5327 - accuracy: 0.3943 - val_loss: 1.7832 - val_accuracy: 0.2500\n",
      "Epoch 6/1000\n",
      "17/17 [==============================] - 0s 12ms/step - loss: 1.4712 - accuracy: 0.4171 - val_loss: 1.9163 - val_accuracy: 0.2500\n",
      "Epoch 7/1000\n",
      "17/17 [==============================] - 0s 11ms/step - loss: 1.4185 - accuracy: 0.4419 - val_loss: 2.6849 - val_accuracy: 0.2500\n",
      "Epoch 8/1000\n",
      "17/17 [==============================] - 0s 12ms/step - loss: 1.3720 - accuracy: 0.4600 - val_loss: 2.2398 - val_accuracy: 0.2500\n",
      "Epoch 9/1000\n",
      "17/17 [==============================] - 0s 12ms/step - loss: 1.3313 - accuracy: 0.4829 - val_loss: 3.5500 - val_accuracy: 0.0375\n",
      "Epoch 10/1000\n",
      "17/17 [==============================] - 0s 12ms/step - loss: 1.2941 - accuracy: 0.4857 - val_loss: 4.8462 - val_accuracy: 0.1781\n",
      "Epoch 11/1000\n",
      "17/17 [==============================] - 0s 12ms/step - loss: 1.2609 - accuracy: 0.5038 - val_loss: 10.0512 - val_accuracy: 0.0250\n",
      "Epoch 12/1000\n",
      "17/17 [==============================] - 0s 12ms/step - loss: 1.2308 - accuracy: 0.5124 - val_loss: 17.2391 - val_accuracy: 0.1781\n",
      "Epoch 13/1000\n",
      "17/17 [==============================] - 0s 12ms/step - loss: 1.2051 - accuracy: 0.5124 - val_loss: 25.3171 - val_accuracy: 0.0250\n",
      "Epoch 14/1000\n",
      "17/17 [==============================] - 0s 12ms/step - loss: 1.1906 - accuracy: 0.5248 - val_loss: 29.6011 - val_accuracy: 0.0250\n",
      "Epoch 15/1000\n",
      "17/17 [==============================] - 0s 12ms/step - loss: 1.1746 - accuracy: 0.5305 - val_loss: 29.3457 - val_accuracy: 0.0250\n",
      "Epoch 16/1000\n",
      "17/17 [==============================] - 0s 12ms/step - loss: 1.1481 - accuracy: 0.5495 - val_loss: 21.6377 - val_accuracy: 0.0250\n",
      "Epoch 17/1000\n",
      "17/17 [==============================] - 0s 11ms/step - loss: 1.1356 - accuracy: 0.5381 - val_loss: 39.9812 - val_accuracy: 0.3219\n",
      "Epoch 18/1000\n",
      "17/17 [==============================] - 0s 12ms/step - loss: 1.1189 - accuracy: 0.5638 - val_loss: 45.7931 - val_accuracy: 0.3219\n",
      "Epoch 19/1000\n",
      "17/17 [==============================] - 0s 12ms/step - loss: 1.1179 - accuracy: 0.5629 - val_loss: 67.4349 - val_accuracy: 0.3219\n",
      "Epoch 20/1000\n",
      "17/17 [==============================] - 0s 12ms/step - loss: 1.1091 - accuracy: 0.5676 - val_loss: 123.7154 - val_accuracy: 0.3219\n",
      "Epoch 21/1000\n",
      "17/17 [==============================] - 0s 12ms/step - loss: 1.0999 - accuracy: 0.5638 - val_loss: 186.0518 - val_accuracy: 0.3219\n",
      "Epoch 22/1000\n",
      "17/17 [==============================] - 0s 12ms/step - loss: 1.0816 - accuracy: 0.5771 - val_loss: 269.1830 - val_accuracy: 0.3219\n",
      "Epoch 23/1000\n",
      "17/17 [==============================] - 0s 12ms/step - loss: 1.0647 - accuracy: 0.5771 - val_loss: 337.6249 - val_accuracy: 0.3219\n",
      "Epoch 24/1000\n",
      "17/17 [==============================] - 0s 12ms/step - loss: 1.0467 - accuracy: 0.6000 - val_loss: 369.2113 - val_accuracy: 0.0375\n",
      "Epoch 25/1000\n",
      "17/17 [==============================] - 0s 12ms/step - loss: 1.0212 - accuracy: 0.6019 - val_loss: 339.8349 - val_accuracy: 0.0375\n",
      "Epoch 26/1000\n",
      "17/17 [==============================] - 0s 12ms/step - loss: 1.0091 - accuracy: 0.6152 - val_loss: 395.5676 - val_accuracy: 0.0250\n",
      "Epoch 27/1000\n",
      "17/17 [==============================] - 0s 12ms/step - loss: 1.0016 - accuracy: 0.6219 - val_loss: 453.3725 - val_accuracy: 0.0250\n",
      "Epoch 28/1000\n",
      "17/17 [==============================] - 0s 12ms/step - loss: 1.0086 - accuracy: 0.6229 - val_loss: 634.8945 - val_accuracy: 0.1250\n",
      "Epoch 29/1000\n",
      "17/17 [==============================] - 0s 12ms/step - loss: 1.0230 - accuracy: 0.6010 - val_loss: 1025.3589 - val_accuracy: 0.1250\n",
      "Epoch 30/1000\n",
      "17/17 [==============================] - 0s 12ms/step - loss: 1.0208 - accuracy: 0.6114 - val_loss: 1278.5670 - val_accuracy: 0.1781\n",
      "Epoch 31/1000\n",
      "17/17 [==============================] - 0s 12ms/step - loss: 1.0093 - accuracy: 0.6029 - val_loss: 2183.9246 - val_accuracy: 0.1781\n",
      "Epoch 32/1000\n",
      "17/17 [==============================] - 0s 12ms/step - loss: 1.0027 - accuracy: 0.6171 - val_loss: 3308.4067 - val_accuracy: 0.1781\n",
      "Epoch 33/1000\n",
      "17/17 [==============================] - 0s 12ms/step - loss: 0.9833 - accuracy: 0.6143 - val_loss: 3507.5688 - val_accuracy: 0.1781\n",
      "Epoch 34/1000\n",
      "17/17 [==============================] - 0s 13ms/step - loss: 0.9678 - accuracy: 0.6181 - val_loss: 3101.6118 - val_accuracy: 0.0375\n",
      "CPU times: user 28.1 s, sys: 2.33 s, total: 30.5 s\n",
      "Wall time: 19.1 s\n"
     ]
    }
   ],
   "source": [
    "%%time\n",
    "hist = model.fit(train_batches, \n",
    "                 epochs=1000,\n",
    "                 batch_size=256,\n",
    "                 validation_data=val_batches,\n",
    "                 callbacks=[estop])"
   ]
  },
  {
   "cell_type": "code",
   "execution_count": 36,
   "metadata": {},
   "outputs": [
    {
     "data": {
      "image/png": "[encoded data removed]",
      "text/plain": [
       "<Figure size 432x288 with 1 Axes>"
      ]
     },
     "metadata": {
      "needs_background": "light"
     },
     "output_type": "display_data"
    }
   ],
   "source": [
    "plt.plot(hist.history['loss'])\n",
    "plt.plot(hist.history['val_loss'])\n",
    "plt.yscale('log')"
   ]
  },
  {
   "cell_type": "code",
   "execution_count": 37,
   "metadata": {},
   "outputs": [
    {
     "data": {
      "text/plain": [
       "[<matplotlib.lines.Line2D at 0x7f8b146a1128>]"
      ]
     },
     "execution_count": 37,
     "metadata": {},
     "output_type": "execute_result"
    },
    {
     "data": {
      "image/png": "[encoded data removed]",
      "text/plain": [
       "<Figure size 432x288 with 1 Axes>"
      ]
     },
     "metadata": {
      "needs_background": "light"
     },
     "output_type": "display_data"
    }
   ],
   "source": [
    "plt.plot(hist.history['accuracy'])\n",
    "plt.plot(hist.history['val_accuracy'])"
   ]
  },
  {
   "cell_type": "code",
   "execution_count": 196,
   "metadata": {},
   "outputs": [
    {
     "name": "stdout",
     "output_type": "stream",
     "text": [
      "5/5 [==============================] - 1s 201ms/step - loss: 2.3987 - accuracy: 0.1125\n"
     ]
    },
    {
     "data": {
      "text/plain": [
       "[2.398744583129883, 0.11249999701976776]"
      ]
     },
     "execution_count": 196,
     "metadata": {},
     "output_type": "execute_result"
    }
   ],
   "source": [
    "model.evaluate(test_batches)"
   ]
  },
  {
   "cell_type": "code",
   "execution_count": null,
   "metadata": {},
   "outputs": [],
   "source": []
  }
 ],
 "metadata": {
  "kernelspec": {
   "display_name": "Python 3",
   "language": "python",
   "name": "python3"
  },
  "language_info": {
   "codemirror_mode": {
    "name": "ipython",
    "version": 3
   },
   "file_extension": ".py",
   "mimetype": "text/x-python",
   "name": "python",
   "nbconvert_exporter": "python",
   "pygments_lexer": "ipython3",
   "version": "3.6.9"
  }
 },
 "nbformat": 4,
 "nbformat_minor": 2
}
