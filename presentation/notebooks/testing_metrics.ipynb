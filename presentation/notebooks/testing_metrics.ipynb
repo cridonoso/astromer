{
 "cells": [
  {
   "cell_type": "code",
   "execution_count": 1,
   "id": "e03a0468",
   "metadata": {},
   "outputs": [
    {
     "name": "stdout",
     "output_type": "stream",
     "text": [
      "/home\n"
     ]
    }
   ],
   "source": [
    "cd /home"
   ]
  },
  {
   "cell_type": "code",
   "execution_count": 2,
   "id": "66d0b9cc",
   "metadata": {},
   "outputs": [
    {
     "name": "stderr",
     "output_type": "stream",
     "text": [
      "2023-07-09 20:00:00.249551: I tensorflow/core/platform/cpu_feature_guard.cc:193] This TensorFlow binary is optimized with oneAPI Deep Neural Network Library (oneDNN) to use the following CPU instructions in performance-critical operations:  AVX2 FMA\n",
      "To enable them in other operations, rebuild TensorFlow with the appropriate compiler flags.\n",
      "/usr/lib/python3/dist-packages/requests/__init__.py:89: RequestsDependencyWarning: urllib3 (2.0.3) or chardet (3.0.4) doesn't match a supported version!\n",
      "  warnings.warn(\"urllib3 ({}) or chardet ({}) doesn't match a supported \"\n"
     ]
    }
   ],
   "source": [
    "from src.models import get_ASTROMER_II\n",
    "\n",
    "import os \n",
    "import tensorflow as tf\n",
    "import matplotlib.pyplot as plt\n",
    "import pandas as pd\n",
    "import toml\n",
    "from src.layers.downstream import AstromerEmbedding\n",
    "from tensorflow.keras.optimizers import Adam\n",
    "from tensorflow.keras.optimizers.experimental import AdamW\n",
    "from tensorflow.keras.callbacks  import (ModelCheckpoint,\n",
    "                                         EarlyStopping,\n",
    "                                         TensorBoard)\n",
    "from src.models import get_ASTROMER_II\n",
    "from src.data import load_data, load_light_curves\n",
    "\n",
    "%load_ext autoreload\n",
    "%autoreload 2"
   ]
  },
  {
   "cell_type": "code",
   "execution_count": 3,
   "id": "282a9193",
   "metadata": {},
   "outputs": [],
   "source": [
    "pretrain_weights = './presentation/experiments/astromer_2/results/nsp_cond/2_4_64_rmse_0.5/pretraining/'\n",
    "with open(os.path.join(pretrain_weights, 'config.toml'), 'r') as file:\n",
    "    config = toml.load(file)"
   ]
  },
  {
   "cell_type": "code",
   "execution_count": 4,
   "id": "605127ed",
   "metadata": {},
   "outputs": [
    {
     "name": "stdout",
     "output_type": "stream",
     "text": [
      "WARNING:tensorflow:From /home/user/.local/lib/python3.8/site-packages/tensorflow/python/autograph/pyct/static_analysis/liveness.py:83: Analyzer.lamba_check (from tensorflow.python.autograph.pyct.static_analysis.liveness) is deprecated and will be removed after 2023-09-23.\n",
      "Instructions for updating:\n",
      "Lambda fuctions will be no more assumed to be used in the statement where they are used, or at least in the same block. https://github.com/tensorflow/tensorflow/issues/56089\n"
     ]
    },
    {
     "name": "stderr",
     "output_type": "stream",
     "text": [
      "2023-07-09 20:00:02.216915: E tensorflow/compiler/xla/stream_executor/cuda/cuda_driver.cc:267] failed call to cuInit: UNKNOWN ERROR (34)\n",
      "2023-07-09 20:00:02.216950: I tensorflow/compiler/xla/stream_executor/cuda/cuda_diagnostics.cc:156] kernel driver does not appear to be running on this host (22638d65af23): /proc/driver/nvidia/version does not exist\n",
      "2023-07-09 20:00:02.217181: I tensorflow/core/platform/cpu_feature_guard.cc:193] This TensorFlow binary is optimized with oneAPI Deep Neural Network Library (oneDNN) to use the following CPU instructions in performance-critical operations:  AVX2 FMA\n",
      "To enable them in other operations, rebuild TensorFlow with the appropriate compiler flags.\n"
     ]
    }
   ],
   "source": [
    "winsize = 200\n",
    "test_batches = load_data(dataset=os.path.join('./data/records/macho_clean/', 'test'), \n",
    "                          batch_size=64, \n",
    "                          probed=1,  \n",
    "                          window_size=winsize, \n",
    "                          nsp_prob=.0, \n",
    "                          repeat=1, \n",
    "                          sampling=False)"
   ]
  },
  {
   "cell_type": "code",
   "execution_count": 5,
   "id": "3ff7bc13",
   "metadata": {},
   "outputs": [
    {
     "name": "stdout",
     "output_type": "stream",
     "text": [
      "PE_C RECEIVED:  tf.Tensor(1.0, shape=(), dtype=float32)\n",
      "WARNING:tensorflow:AutoGraph could not transform <bound method CondEncoder.call of <src.layers.conditioned_encoder.CondEncoder object at 0x7feef415bdf0>> and will run it as-is.\n",
      "Cause: code mixing tabs and spaces for indentation is not allowed\n",
      "To silence this warning, decorate the function with @tf.autograph.experimental.do_not_convert\n",
      "WARNING: AutoGraph could not transform <bound method CondEncoder.call of <src.layers.conditioned_encoder.CondEncoder object at 0x7feef415bdf0>> and will run it as-is.\n",
      "Cause: code mixing tabs and spaces for indentation is not allowed\n",
      "To silence this warning, decorate the function with @tf.autograph.experimental.do_not_convert\n"
     ]
    },
    {
     "data": {
      "text/plain": [
       "<tensorflow.python.checkpoint.checkpoint.CheckpointLoadStatus at 0x7feedc714070>"
      ]
     },
     "execution_count": 5,
     "metadata": {},
     "output_type": "execute_result"
    }
   ],
   "source": [
    "astromer = get_ASTROMER_II(num_layers=config['layers'],\n",
    "                           num_heads=config['nh'],\n",
    "                           head_dim=config['hdim'],\n",
    "                           mixer_size=config['mixer'],\n",
    "                           dropout=config['dropout'],\n",
    "                           pe_base=1000,\n",
    "                           pe_dim=128,\n",
    "                           pe_c=1,\n",
    "                           window_size=config['ws'],\n",
    "                        encoder_mode=config['encoder_mode'])\n",
    "\n",
    "astromer.load_weights(os.path.join(pretrain_weights, 'weights')).expect_partial()\n",
    "\n",
    "# optimizer = AdamW(config['lr'])\n",
    "# bce_factor = 1.- config['rmse_factor']\n",
    "# astromer.compile(rmse_factor=config['rmse_factor'], bce_factor=bce_factor, optimizer=optimizer)\n",
    "\n",
    "# astromer.evaluate(test_batches)"
   ]
  },
  {
   "cell_type": "code",
   "execution_count": 6,
   "id": "52da6982",
   "metadata": {},
   "outputs": [
    {
     "name": "stdout",
     "output_type": "stream",
     "text": [
      "PE_C RECEIVED:  tf.Tensor(1.0, shape=(), dtype=float32)\n"
     ]
    }
   ],
   "source": [
    "layer = AstromerEmbedding(pretrain_weights=pretrain_weights)"
   ]
  },
  {
   "cell_type": "code",
   "execution_count": 12,
   "id": "3995e690",
   "metadata": {},
   "outputs": [
    {
     "name": "stdout",
     "output_type": "stream",
     "text": [
      "(64, 200, 256)\n"
     ]
    }
   ],
   "source": [
    "test_batches_clf = load_light_curves(os.path.join('./data/records/macho_clean', 'test'), \n",
    "                                      num_cls=1,\n",
    "                                      batch_size=64, \n",
    "                                      window_size=winsize, \n",
    "                                      repeat=1,\n",
    "                                      cache=True, \n",
    "                                      njobs=None)\n",
    "for x, y in test_batches_clf:\n",
    "    \n",
    "    y_cls, y_rec = layer(x)\n",
    "    print(y_rec.shape)\n",
    "    break"
   ]
  },
  {
   "cell_type": "code",
   "execution_count": 8,
   "id": "223da8b5",
   "metadata": {},
   "outputs": [],
   "source": [
    "# # model = layer.astromer\n",
    "# optimizer = AdamW(config['lr'])\n",
    "# bce_factor    = 1.- config['rmse_factor']\n",
    "# astromer.compile(rmse_factor=config['rmse_factor'], bce_factor=bce_factor, optimizer=optimizer)\n",
    "# astromer.evaluate(format_dataset)"
   ]
  },
  {
   "cell_type": "code",
   "execution_count": 9,
   "id": "24a372a2",
   "metadata": {},
   "outputs": [
    {
     "name": "stdout",
     "output_type": "stream",
     "text": [
      "(64, 1) (64, 1)\n"
     ]
    },
    {
     "data": {
      "image/png": "[encoded data removed]",
      "text/plain": [
       "<Figure size 1500x500 with 5 Axes>"
      ]
     },
     "metadata": {},
     "output_type": "display_data"
    }
   ],
   "source": [
    "\n",
    "for (x, y), (x_clf, y_clf) in zip(test_batches, format_dataset):\n",
    "#     x_clf_format = layer.format_input(x_clf)\n",
    "    fig, axes = plt.subplots(1, 5, figsize=(15,5))\n",
    "    \n",
    "    axes[0].plot(x_clf['times'][0]-x['times'][0])\n",
    "#     axes[0].plot(x['times'][0], linestyle='--')\n",
    "    \n",
    "    residuals = x_clf['magnitudes'][0]-x['magnitudes'][0]\n",
    "    axes[1].plot(residuals)\n",
    "\n",
    "    axes[2].plot(x_clf['att_mask'][0, :, 0])\n",
    "    axes[2].plot(x['att_mask'][0, :, 0], linestyle='--')\n",
    "    \n",
    "    axes[3].plot(y_clf['probed_mask'][0, :, 0])\n",
    "    axes[3].plot(y['probed_mask'][0, :, 0], linestyle='--')\n",
    "    \n",
    "    print(y_clf['nsp_label'].shape, y['nsp_label'].shape)\n",
    "    axes[4].plot(y_clf['nsp_label'])\n",
    "    axes[4].plot(y['nsp_label'], linestyle='--')\n",
    "    \n",
    "    break"
   ]
  },
  {
   "cell_type": "code",
   "execution_count": null,
   "id": "a85aab78",
   "metadata": {},
   "outputs": [],
   "source": []
  },
  {
   "cell_type": "code",
   "execution_count": null,
   "id": "8025731a",
   "metadata": {},
   "outputs": [],
   "source": []
  },
  {
   "cell_type": "code",
   "execution_count": null,
   "id": "ad08e6bb",
   "metadata": {},
   "outputs": [],
   "source": []
  }
 ],
 "metadata": {
  "kernelspec": {
   "display_name": "Python 3 (ipykernel)",
   "language": "python",
   "name": "python3"
  },
  "language_info": {
   "codemirror_mode": {
    "name": "ipython",
    "version": 3
   },
   "file_extension": ".py",
   "mimetype": "text/x-python",
   "name": "python",
   "nbconvert_exporter": "python",
   "pygments_lexer": "ipython3",
   "version": "3.8.10"
  }
 },
 "nbformat": 4,
 "nbformat_minor": 5
}
