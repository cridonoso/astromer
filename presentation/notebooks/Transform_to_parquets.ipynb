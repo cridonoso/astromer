{
 "cells": [
  {
   "cell_type": "markdown",
   "id": "419af99d",
   "metadata": {},
   "source": [
    "In this notebook, we will try to create a function to read a a parquet file (or multiple ones) and filter by IDs."
   ]
  },
  {
   "cell_type": "code",
   "execution_count": 1,
   "id": "f2a20a3a",
   "metadata": {
    "tags": []
   },
   "outputs": [],
   "source": [
    "import pandas as pd\n",
    "import numpy as np\n",
    "from os.path import join\n",
    "import polars as pl\n",
    "import os"
   ]
  },
  {
   "cell_type": "code",
   "execution_count": 2,
   "id": "80e1dab9",
   "metadata": {
    "tags": []
   },
   "outputs": [],
   "source": [
    "local_path = '../../data/raw_data/alcock/'"
   ]
  },
  {
   "cell_type": "markdown",
   "id": "1b80e971",
   "metadata": {},
   "source": [
    "Read the metadata and save it into one parquet."
   ]
  },
  {
   "cell_type": "code",
   "execution_count": 3,
   "id": "6ca7c0eb",
   "metadata": {
    "tags": []
   },
   "outputs": [],
   "source": [
    "metadata = pd.read_csv(join(local_path, 'metadata.csv'))"
   ]
  },
  {
   "cell_type": "code",
   "execution_count": 4,
   "id": "b5c7a181",
   "metadata": {
    "tags": []
   },
   "outputs": [],
   "source": [
    "path = (local_path + 'LCs/'+ metadata.Path).to_list()\n",
    "IDs = metadata.ID.to_list()\n",
    "metadata = metadata.assign(newID=metadata.index.values)"
   ]
  },
  {
   "cell_type": "code",
   "execution_count": 5,
   "id": "c3db0488-f8fe-4219-8b5d-e0a560a880c3",
   "metadata": {
    "tags": []
   },
   "outputs": [],
   "source": [
    "path_parquets = join(local_path, 'parquets/')\n",
    "if not os.path.exists(path_parquets):\n",
    "    os.mkdir(path_parquets)"
   ]
  },
  {
   "cell_type": "code",
   "execution_count": 6,
   "id": "306178d3",
   "metadata": {
    "tags": []
   },
   "outputs": [],
   "source": [
    "dfs = []\n",
    "for cont, (file, id_) in enumerate(zip(path, IDs)):\n",
    "    # Read the file\n",
    "    df = pd.read_csv(file, engine='c', na_filter=False)\n",
    "    df['newID'] = metadata.newID.iloc[cont]*np.ones(df.shape[0]).astype(np.int64)\n",
    "    dfs.append(df)\n",
    "dfs = pd.concat(dfs) \n",
    "dfs = dfs.set_index('newID')"
   ]
  },
  {
   "cell_type": "markdown",
   "id": "8fb7dfd2-e33b-44c2-8962-1089642a71d2",
   "metadata": {},
   "source": [
    "Save every 1000 lightcurves\n"
   ]
  },
  {
   "cell_type": "code",
   "execution_count": 7,
   "id": "602aff0f-4137-49ef-ab2c-315924a01e69",
   "metadata": {
    "tags": []
   },
   "outputs": [],
   "source": [
    "N_batch = 1000\n",
    "batches = np.ceil(np.arange(dfs.index.unique().shape[0]).shape[0]/N_batch).astype(np.int64)\n",
    "for batch in range(batches):\n",
    "    n0 = N_batch*batch\n",
    "    n1 = N_batch*(batch+1)\n",
    "    df_sel = dfs.iloc[n0:n1]\n",
    "    n = str(batch).rjust(3, '0')\n",
    "    df_sel.to_parquet(os.path.join(path_parquets, 'shard_'+n+'.parquet'))"
   ]
  },
  {
   "cell_type": "code",
   "execution_count": 8,
   "id": "306a67d1-c413-4df8-b16b-0a574936e7d6",
   "metadata": {
    "tags": []
   },
   "outputs": [],
   "source": [
    "metadata['Class'] = pd.Categorical(metadata['Class'])\n",
    "metadata['Label'] = metadata['Class'].cat.codes"
   ]
  },
  {
   "cell_type": "code",
   "execution_count": 9,
   "id": "fe35fd52-cba4-4e53-9a9a-9f09a09892d8",
   "metadata": {
    "tags": []
   },
   "outputs": [],
   "source": [
    "metadata.to_parquet(join(local_path, 'new_metadata.parquet'), index=False)"
   ]
  },
  {
   "cell_type": "code",
   "execution_count": null,
   "id": "edcf5cc0-4a0a-4ac0-99c5-ba4c40a25012",
   "metadata": {},
   "outputs": [],
   "source": []
  }
 ],
 "metadata": {
  "kernelspec": {
   "display_name": "Python 3 (ipykernel)",
   "language": "python",
   "name": "python3"
  },
  "language_info": {
   "codemirror_mode": {
    "name": "ipython",
    "version": 3
   },
   "file_extension": ".py",
   "mimetype": "text/x-python",
   "name": "python",
   "nbconvert_exporter": "python",
   "pygments_lexer": "ipython3",
   "version": "3.8.10"
  }
 },
 "nbformat": 4,
 "nbformat_minor": 5
}
