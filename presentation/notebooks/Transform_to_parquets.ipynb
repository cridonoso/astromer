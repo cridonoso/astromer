{
 "cells": [
  {
   "cell_type": "code",
   "execution_count": 1,
   "id": "78d456de",
   "metadata": {},
   "outputs": [
    {
     "name": "stdout",
     "output_type": "stream",
     "text": [
      "/home\n"
     ]
    }
   ],
   "source": [
    "cd /home"
   ]
  },
  {
   "cell_type": "markdown",
   "id": "419af99d",
   "metadata": {},
   "source": [
    "In this notebook, we will try to create a function to read a a parquet file (or multiple ones) and filter by IDs."
   ]
  },
  {
   "cell_type": "code",
   "execution_count": 2,
   "id": "f2a20a3a",
   "metadata": {
    "tags": []
   },
   "outputs": [],
   "source": [
    "import pandas as pd\n",
    "import numpy as np\n",
    "from os.path import join\n",
    "import polars as pl\n",
    "import os"
   ]
  },
  {
   "cell_type": "code",
   "execution_count": 3,
   "id": "cd29160c",
   "metadata": {},
   "outputs": [
    {
     "data": {
      "text/plain": [
       "'/home'"
      ]
     },
     "execution_count": 3,
     "metadata": {},
     "output_type": "execute_result"
    }
   ],
   "source": [
    "pwd"
   ]
  },
  {
   "cell_type": "code",
   "execution_count": 4,
   "id": "80e1dab9",
   "metadata": {
    "tags": []
   },
   "outputs": [],
   "source": [
    "local_path = './data/raw_data/alcock/'"
   ]
  },
  {
   "cell_type": "markdown",
   "id": "1b80e971",
   "metadata": {},
   "source": [
    "Read the metadata and save it into one parquet."
   ]
  },
  {
   "cell_type": "code",
   "execution_count": 10,
   "id": "6ca7c0eb",
   "metadata": {
    "tags": []
   },
   "outputs": [],
   "source": [
    "metadata = pd.read_csv(join(local_path, 'metadata.csv'))"
   ]
  },
  {
   "cell_type": "code",
   "execution_count": 11,
   "id": "b5c7a181",
   "metadata": {
    "tags": []
   },
   "outputs": [],
   "source": [
    "path = (local_path + 'LCs/'+ metadata.Path).to_list()\n",
    "IDs = metadata.ID.to_list()\n",
    "metadata = metadata.assign(newID=metadata.index.values)"
   ]
  },
  {
   "cell_type": "code",
   "execution_count": 12,
   "id": "c3db0488-f8fe-4219-8b5d-e0a560a880c3",
   "metadata": {
    "tags": []
   },
   "outputs": [],
   "source": [
    "path_parquets = join(local_path, 'parquets/')\n",
    "if not os.path.exists(path_parquets):\n",
    "    os.mkdir(path_parquets)"
   ]
  },
  {
   "cell_type": "code",
   "execution_count": 13,
   "id": "306178d3",
   "metadata": {
    "tags": []
   },
   "outputs": [],
   "source": [
    "dfs = []\n",
    "for cont, (file, id_) in enumerate(zip(path, IDs)):\n",
    "    # Read the file\n",
    "    df = pd.read_csv(file, engine='c', na_filter=False)\n",
    "    df['newID'] = metadata.newID.iloc[cont]*np.ones(df.shape[0]).astype(np.int64)\n",
    "    dfs.append(df)\n",
    "dfs = pd.concat(dfs) \n",
    "dfs = dfs.set_index('newID')"
   ]
  },
  {
   "cell_type": "code",
   "execution_count": 14,
   "id": "87f405b7",
   "metadata": {},
   "outputs": [
    {
     "data": {
      "text/html": [
       "<div>\n",
       "<style scoped>\n",
       "    .dataframe tbody tr th:only-of-type {\n",
       "        vertical-align: middle;\n",
       "    }\n",
       "\n",
       "    .dataframe tbody tr th {\n",
       "        vertical-align: top;\n",
       "    }\n",
       "\n",
       "    .dataframe thead th {\n",
       "        text-align: right;\n",
       "    }\n",
       "</style>\n",
       "<table border=\"1\" class=\"dataframe\">\n",
       "  <thead>\n",
       "    <tr style=\"text-align: right;\">\n",
       "      <th></th>\n",
       "      <th>mjd</th>\n",
       "      <th>mag</th>\n",
       "      <th>err</th>\n",
       "    </tr>\n",
       "    <tr>\n",
       "      <th>newID</th>\n",
       "      <th></th>\n",
       "      <th></th>\n",
       "      <th></th>\n",
       "    </tr>\n",
       "  </thead>\n",
       "  <tbody>\n",
       "    <tr>\n",
       "      <th>0</th>\n",
       "      <td>48882.58984</td>\n",
       "      <td>-9.515</td>\n",
       "      <td>0.002</td>\n",
       "    </tr>\n",
       "    <tr>\n",
       "      <th>0</th>\n",
       "      <td>48884.63672</td>\n",
       "      <td>-9.482</td>\n",
       "      <td>0.002</td>\n",
       "    </tr>\n",
       "    <tr>\n",
       "      <th>0</th>\n",
       "      <td>48885.60547</td>\n",
       "      <td>-9.500</td>\n",
       "      <td>0.001</td>\n",
       "    </tr>\n",
       "    <tr>\n",
       "      <th>0</th>\n",
       "      <td>48887.66797</td>\n",
       "      <td>-9.487</td>\n",
       "      <td>0.003</td>\n",
       "    </tr>\n",
       "    <tr>\n",
       "      <th>0</th>\n",
       "      <td>48888.72266</td>\n",
       "      <td>-9.378</td>\n",
       "      <td>0.006</td>\n",
       "    </tr>\n",
       "    <tr>\n",
       "      <th>...</th>\n",
       "      <td>...</td>\n",
       "      <td>...</td>\n",
       "      <td>...</td>\n",
       "    </tr>\n",
       "    <tr>\n",
       "      <th>21443</th>\n",
       "      <td>51304.37891</td>\n",
       "      <td>-4.940</td>\n",
       "      <td>0.078</td>\n",
       "    </tr>\n",
       "    <tr>\n",
       "      <th>21443</th>\n",
       "      <td>51308.37109</td>\n",
       "      <td>-5.072</td>\n",
       "      <td>0.064</td>\n",
       "    </tr>\n",
       "    <tr>\n",
       "      <th>21443</th>\n",
       "      <td>51315.36719</td>\n",
       "      <td>-4.926</td>\n",
       "      <td>0.090</td>\n",
       "    </tr>\n",
       "    <tr>\n",
       "      <th>21443</th>\n",
       "      <td>51336.38281</td>\n",
       "      <td>-5.007</td>\n",
       "      <td>0.071</td>\n",
       "    </tr>\n",
       "    <tr>\n",
       "      <th>21443</th>\n",
       "      <td>51556.57422</td>\n",
       "      <td>-5.230</td>\n",
       "      <td>0.098</td>\n",
       "    </tr>\n",
       "  </tbody>\n",
       "</table>\n",
       "<p>13818054 rows × 3 columns</p>\n",
       "</div>"
      ],
      "text/plain": [
       "               mjd    mag    err\n",
       "newID                           \n",
       "0      48882.58984 -9.515  0.002\n",
       "0      48884.63672 -9.482  0.002\n",
       "0      48885.60547 -9.500  0.001\n",
       "0      48887.66797 -9.487  0.003\n",
       "0      48888.72266 -9.378  0.006\n",
       "...            ...    ...    ...\n",
       "21443  51304.37891 -4.940  0.078\n",
       "21443  51308.37109 -5.072  0.064\n",
       "21443  51315.36719 -4.926  0.090\n",
       "21443  51336.38281 -5.007  0.071\n",
       "21443  51556.57422 -5.230  0.098\n",
       "\n",
       "[13818054 rows x 3 columns]"
      ]
     },
     "execution_count": 14,
     "metadata": {},
     "output_type": "execute_result"
    }
   ],
   "source": [
    "dfs"
   ]
  },
  {
   "cell_type": "markdown",
   "id": "8fb7dfd2-e33b-44c2-8962-1089642a71d2",
   "metadata": {},
   "source": [
    "Save every 1000 lightcurves\n"
   ]
  },
  {
   "cell_type": "code",
   "execution_count": 15,
   "id": "4290b349",
   "metadata": {},
   "outputs": [
    {
     "data": {
      "text/html": [
       "<div>\n",
       "<style scoped>\n",
       "    .dataframe tbody tr th:only-of-type {\n",
       "        vertical-align: middle;\n",
       "    }\n",
       "\n",
       "    .dataframe tbody tr th {\n",
       "        vertical-align: top;\n",
       "    }\n",
       "\n",
       "    .dataframe thead th {\n",
       "        text-align: right;\n",
       "    }\n",
       "</style>\n",
       "<table border=\"1\" class=\"dataframe\">\n",
       "  <thead>\n",
       "    <tr style=\"text-align: right;\">\n",
       "      <th></th>\n",
       "      <th>mjd</th>\n",
       "      <th>mag</th>\n",
       "      <th>err</th>\n",
       "    </tr>\n",
       "    <tr>\n",
       "      <th>newID</th>\n",
       "      <th></th>\n",
       "      <th></th>\n",
       "      <th></th>\n",
       "    </tr>\n",
       "  </thead>\n",
       "  <tbody>\n",
       "    <tr>\n",
       "      <th>144</th>\n",
       "      <td>48892.75781</td>\n",
       "      <td>-6.883</td>\n",
       "      <td>0.020</td>\n",
       "    </tr>\n",
       "    <tr>\n",
       "      <th>144</th>\n",
       "      <td>48894.72656</td>\n",
       "      <td>-6.888</td>\n",
       "      <td>0.031</td>\n",
       "    </tr>\n",
       "    <tr>\n",
       "      <th>144</th>\n",
       "      <td>48895.75391</td>\n",
       "      <td>-6.882</td>\n",
       "      <td>0.015</td>\n",
       "    </tr>\n",
       "    <tr>\n",
       "      <th>144</th>\n",
       "      <td>48896.75781</td>\n",
       "      <td>-6.668</td>\n",
       "      <td>0.016</td>\n",
       "    </tr>\n",
       "    <tr>\n",
       "      <th>144</th>\n",
       "      <td>48906.57422</td>\n",
       "      <td>-6.611</td>\n",
       "      <td>0.035</td>\n",
       "    </tr>\n",
       "    <tr>\n",
       "      <th>...</th>\n",
       "      <td>...</td>\n",
       "      <td>...</td>\n",
       "      <td>...</td>\n",
       "    </tr>\n",
       "    <tr>\n",
       "      <th>145</th>\n",
       "      <td>50276.75391</td>\n",
       "      <td>-5.500</td>\n",
       "      <td>0.038</td>\n",
       "    </tr>\n",
       "    <tr>\n",
       "      <th>145</th>\n",
       "      <td>50278.69922</td>\n",
       "      <td>-5.543</td>\n",
       "      <td>0.050</td>\n",
       "    </tr>\n",
       "    <tr>\n",
       "      <th>145</th>\n",
       "      <td>50296.75391</td>\n",
       "      <td>-5.613</td>\n",
       "      <td>0.071</td>\n",
       "    </tr>\n",
       "    <tr>\n",
       "      <th>145</th>\n",
       "      <td>50297.73828</td>\n",
       "      <td>-5.587</td>\n",
       "      <td>0.067</td>\n",
       "    </tr>\n",
       "    <tr>\n",
       "      <th>145</th>\n",
       "      <td>50301.80859</td>\n",
       "      <td>-5.420</td>\n",
       "      <td>0.060</td>\n",
       "    </tr>\n",
       "  </tbody>\n",
       "</table>\n",
       "<p>1000 rows × 3 columns</p>\n",
       "</div>"
      ],
      "text/plain": [
       "               mjd    mag    err\n",
       "newID                           \n",
       "144    48892.75781 -6.883  0.020\n",
       "144    48894.72656 -6.888  0.031\n",
       "144    48895.75391 -6.882  0.015\n",
       "144    48896.75781 -6.668  0.016\n",
       "144    48906.57422 -6.611  0.035\n",
       "...            ...    ...    ...\n",
       "145    50276.75391 -5.500  0.038\n",
       "145    50278.69922 -5.543  0.050\n",
       "145    50296.75391 -5.613  0.071\n",
       "145    50297.73828 -5.587  0.067\n",
       "145    50301.80859 -5.420  0.060\n",
       "\n",
       "[1000 rows x 3 columns]"
      ]
     },
     "execution_count": 15,
     "metadata": {},
     "output_type": "execute_result"
    }
   ],
   "source": [
    "dfs.iloc[100000:101000]"
   ]
  },
  {
   "cell_type": "code",
   "execution_count": null,
   "id": "218ddb30",
   "metadata": {},
   "outputs": [],
   "source": [
    "\n"
   ]
  },
  {
   "cell_type": "code",
   "execution_count": 16,
   "id": "602aff0f-4137-49ef-ab2c-315924a01e69",
   "metadata": {
    "tags": []
   },
   "outputs": [],
   "source": [
    "nsamples = 1000\n",
    "for batch, begin in enumerate(np.arange(0, dfs.shape[0], nsamples)):\n",
    "    df_sel = dfs.iloc[begin:begin+nsamples]    \n",
    "    n = str(batch).rjust(3, '0')\n",
    "    df_sel.to_parquet(os.path.join(path_parquets, \n",
    "                                   'shard_'+n+'.parquet'))"
   ]
  },
  {
   "cell_type": "code",
   "execution_count": 17,
   "id": "306a67d1-c413-4df8-b16b-0a574936e7d6",
   "metadata": {
    "tags": []
   },
   "outputs": [
    {
     "ename": "AttributeError",
     "evalue": "Can only use .cat accessor with a 'category' dtype",
     "output_type": "error",
     "traceback": [
      "\u001b[0;31m---------------------------------------------------------------------------\u001b[0m",
      "\u001b[0;31mAttributeError\u001b[0m                            Traceback (most recent call last)",
      "Cell \u001b[0;32mIn[17], line 1\u001b[0m\n\u001b[0;32m----> 1\u001b[0m metadata[\u001b[38;5;124m'\u001b[39m\u001b[38;5;124mLabel\u001b[39m\u001b[38;5;124m'\u001b[39m] \u001b[38;5;241m=\u001b[39m \u001b[43mmetadata\u001b[49m\u001b[43m[\u001b[49m\u001b[38;5;124;43m'\u001b[39;49m\u001b[38;5;124;43mClass\u001b[39;49m\u001b[38;5;124;43m'\u001b[39;49m\u001b[43m]\u001b[49m\u001b[38;5;241;43m.\u001b[39;49m\u001b[43mcat\u001b[49m\u001b[38;5;241m.\u001b[39mcodes\n",
      "File \u001b[0;32m/usr/local/lib/python3.8/dist-packages/pandas/core/generic.py:5989\u001b[0m, in \u001b[0;36mNDFrame.__getattr__\u001b[0;34m(self, name)\u001b[0m\n\u001b[1;32m   5982\u001b[0m \u001b[38;5;28;01mif\u001b[39;00m (\n\u001b[1;32m   5983\u001b[0m     name \u001b[38;5;129;01mnot\u001b[39;00m \u001b[38;5;129;01min\u001b[39;00m \u001b[38;5;28mself\u001b[39m\u001b[38;5;241m.\u001b[39m_internal_names_set\n\u001b[1;32m   5984\u001b[0m     \u001b[38;5;129;01mand\u001b[39;00m name \u001b[38;5;129;01mnot\u001b[39;00m \u001b[38;5;129;01min\u001b[39;00m \u001b[38;5;28mself\u001b[39m\u001b[38;5;241m.\u001b[39m_metadata\n\u001b[1;32m   5985\u001b[0m     \u001b[38;5;129;01mand\u001b[39;00m name \u001b[38;5;129;01mnot\u001b[39;00m \u001b[38;5;129;01min\u001b[39;00m \u001b[38;5;28mself\u001b[39m\u001b[38;5;241m.\u001b[39m_accessors\n\u001b[1;32m   5986\u001b[0m     \u001b[38;5;129;01mand\u001b[39;00m \u001b[38;5;28mself\u001b[39m\u001b[38;5;241m.\u001b[39m_info_axis\u001b[38;5;241m.\u001b[39m_can_hold_identifiers_and_holds_name(name)\n\u001b[1;32m   5987\u001b[0m ):\n\u001b[1;32m   5988\u001b[0m     \u001b[38;5;28;01mreturn\u001b[39;00m \u001b[38;5;28mself\u001b[39m[name]\n\u001b[0;32m-> 5989\u001b[0m \u001b[38;5;28;01mreturn\u001b[39;00m \u001b[38;5;28;43mobject\u001b[39;49m\u001b[38;5;241;43m.\u001b[39;49m\u001b[38;5;21;43m__getattribute__\u001b[39;49m\u001b[43m(\u001b[49m\u001b[38;5;28;43mself\u001b[39;49m\u001b[43m,\u001b[49m\u001b[43m \u001b[49m\u001b[43mname\u001b[49m\u001b[43m)\u001b[49m\n",
      "File \u001b[0;32m/usr/local/lib/python3.8/dist-packages/pandas/core/accessor.py:224\u001b[0m, in \u001b[0;36mCachedAccessor.__get__\u001b[0;34m(self, obj, cls)\u001b[0m\n\u001b[1;32m    221\u001b[0m \u001b[38;5;28;01mif\u001b[39;00m obj \u001b[38;5;129;01mis\u001b[39;00m \u001b[38;5;28;01mNone\u001b[39;00m:\n\u001b[1;32m    222\u001b[0m     \u001b[38;5;66;03m# we're accessing the attribute of the class, i.e., Dataset.geo\u001b[39;00m\n\u001b[1;32m    223\u001b[0m     \u001b[38;5;28;01mreturn\u001b[39;00m \u001b[38;5;28mself\u001b[39m\u001b[38;5;241m.\u001b[39m_accessor\n\u001b[0;32m--> 224\u001b[0m accessor_obj \u001b[38;5;241m=\u001b[39m \u001b[38;5;28;43mself\u001b[39;49m\u001b[38;5;241;43m.\u001b[39;49m\u001b[43m_accessor\u001b[49m\u001b[43m(\u001b[49m\u001b[43mobj\u001b[49m\u001b[43m)\u001b[49m\n\u001b[1;32m    225\u001b[0m \u001b[38;5;66;03m# Replace the property with the accessor object. Inspired by:\u001b[39;00m\n\u001b[1;32m    226\u001b[0m \u001b[38;5;66;03m# https://www.pydanny.com/cached-property.html\u001b[39;00m\n\u001b[1;32m    227\u001b[0m \u001b[38;5;66;03m# We need to use object.__setattr__ because we overwrite __setattr__ on\u001b[39;00m\n\u001b[1;32m    228\u001b[0m \u001b[38;5;66;03m# NDFrame\u001b[39;00m\n\u001b[1;32m    229\u001b[0m \u001b[38;5;28mobject\u001b[39m\u001b[38;5;241m.\u001b[39m\u001b[38;5;21m__setattr__\u001b[39m(obj, \u001b[38;5;28mself\u001b[39m\u001b[38;5;241m.\u001b[39m_name, accessor_obj)\n",
      "File \u001b[0;32m/usr/local/lib/python3.8/dist-packages/pandas/core/arrays/categorical.py:2445\u001b[0m, in \u001b[0;36mCategoricalAccessor.__init__\u001b[0;34m(self, data)\u001b[0m\n\u001b[1;32m   2444\u001b[0m \u001b[38;5;28;01mdef\u001b[39;00m \u001b[38;5;21m__init__\u001b[39m(\u001b[38;5;28mself\u001b[39m, data) \u001b[38;5;241m-\u001b[39m\u001b[38;5;241m>\u001b[39m \u001b[38;5;28;01mNone\u001b[39;00m:\n\u001b[0;32m-> 2445\u001b[0m     \u001b[38;5;28;43mself\u001b[39;49m\u001b[38;5;241;43m.\u001b[39;49m\u001b[43m_validate\u001b[49m\u001b[43m(\u001b[49m\u001b[43mdata\u001b[49m\u001b[43m)\u001b[49m\n\u001b[1;32m   2446\u001b[0m     \u001b[38;5;28mself\u001b[39m\u001b[38;5;241m.\u001b[39m_parent \u001b[38;5;241m=\u001b[39m data\u001b[38;5;241m.\u001b[39mvalues\n\u001b[1;32m   2447\u001b[0m     \u001b[38;5;28mself\u001b[39m\u001b[38;5;241m.\u001b[39m_index \u001b[38;5;241m=\u001b[39m data\u001b[38;5;241m.\u001b[39mindex\n",
      "File \u001b[0;32m/usr/local/lib/python3.8/dist-packages/pandas/core/arrays/categorical.py:2454\u001b[0m, in \u001b[0;36mCategoricalAccessor._validate\u001b[0;34m(data)\u001b[0m\n\u001b[1;32m   2451\u001b[0m \u001b[38;5;129m@staticmethod\u001b[39m\n\u001b[1;32m   2452\u001b[0m \u001b[38;5;28;01mdef\u001b[39;00m \u001b[38;5;21m_validate\u001b[39m(data):\n\u001b[1;32m   2453\u001b[0m     \u001b[38;5;28;01mif\u001b[39;00m \u001b[38;5;129;01mnot\u001b[39;00m is_categorical_dtype(data\u001b[38;5;241m.\u001b[39mdtype):\n\u001b[0;32m-> 2454\u001b[0m         \u001b[38;5;28;01mraise\u001b[39;00m \u001b[38;5;167;01mAttributeError\u001b[39;00m(\u001b[38;5;124m\"\u001b[39m\u001b[38;5;124mCan only use .cat accessor with a \u001b[39m\u001b[38;5;124m'\u001b[39m\u001b[38;5;124mcategory\u001b[39m\u001b[38;5;124m'\u001b[39m\u001b[38;5;124m dtype\u001b[39m\u001b[38;5;124m\"\u001b[39m)\n",
      "\u001b[0;31mAttributeError\u001b[0m: Can only use .cat accessor with a 'category' dtype"
     ]
    }
   ],
   "source": [
    "metadata['Label'] = metadata['Class'].cat.codes"
   ]
  },
  {
   "cell_type": "code",
   "execution_count": null,
   "id": "fe35fd52-cba4-4e53-9a9a-9f09a09892d8",
   "metadata": {
    "tags": []
   },
   "outputs": [],
   "source": [
    "metadata.to_parquet(join(local_path, 'new_metadata.parquet'), index=False)"
   ]
  },
  {
   "cell_type": "code",
   "execution_count": null,
   "id": "edcf5cc0-4a0a-4ac0-99c5-ba4c40a25012",
   "metadata": {},
   "outputs": [],
   "source": [
    "import polars as pl"
   ]
  },
  {
   "cell_type": "code",
   "execution_count": null,
   "id": "3f12caf9",
   "metadata": {},
   "outputs": [],
   "source": [
    "path_parquets = './data/raw_data/alcock/parquets/*'\n",
    "# path_parquets = [os.path.join(root, x) for x in os.listdir(root)]\n",
    "paths = os.path.join(path_parquets)\n",
    "scan = pl.scan_parquet(paths)"
   ]
  },
  {
   "cell_type": "code",
   "execution_count": null,
   "id": "299b0c24",
   "metadata": {},
   "outputs": [],
   "source": [
    "# scan.collect(streaming=False)['newID'].unique()"
   ]
  },
  {
   "cell_type": "code",
   "execution_count": null,
   "id": "a839ea51",
   "metadata": {},
   "outputs": [],
   "source": [
    "import pandas as pd"
   ]
  },
  {
   "cell_type": "code",
   "execution_count": null,
   "id": "e5c9f8dc",
   "metadata": {},
   "outputs": [],
   "source": [
    "root = './data/raw_data/alcock/parquets/'\n",
    "path_parquets =[os.path.join(root, x) for x in os.listdir(root)]\n",
    "\n",
    "dfs = []\n",
    "for file in path_parquets:\n",
    "    df = pd.read_parquet(file)\n",
    "    dfs.append(df)"
   ]
  },
  {
   "cell_type": "code",
   "execution_count": null,
   "id": "d9fc51b1",
   "metadata": {},
   "outputs": [],
   "source": [
    "pd.concat(dfs).reset_index()['newID'].unique().shape"
   ]
  },
  {
   "cell_type": "code",
   "execution_count": null,
   "id": "cc5abcab",
   "metadata": {},
   "outputs": [],
   "source": [
    "pd.concat(dfs).shape"
   ]
  },
  {
   "cell_type": "code",
   "execution_count": null,
   "id": "cbdae16e",
   "metadata": {},
   "outputs": [],
   "source": []
  }
 ],
 "metadata": {
  "kernelspec": {
   "display_name": "Python 3 (ipykernel)",
   "language": "python",
   "name": "python3"
  },
  "language_info": {
   "codemirror_mode": {
    "name": "ipython",
    "version": 3
   },
   "file_extension": ".py",
   "mimetype": "text/x-python",
   "name": "python",
   "nbconvert_exporter": "python",
   "pygments_lexer": "ipython3",
   "version": "3.8.10"
  }
 },
 "nbformat": 4,
 "nbformat_minor": 5
}
