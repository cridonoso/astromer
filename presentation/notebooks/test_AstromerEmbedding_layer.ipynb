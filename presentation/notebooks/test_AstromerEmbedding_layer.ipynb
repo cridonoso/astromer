{
 "cells": [
  {
   "cell_type": "code",
   "execution_count": 5,
   "id": "1ed1ef86",
   "metadata": {},
   "outputs": [
    {
     "name": "stdout",
     "output_type": "stream",
     "text": [
      "/home\n"
     ]
    }
   ],
   "source": [
    "cd /home"
   ]
  },
  {
   "cell_type": "code",
   "execution_count": 11,
   "id": "331b5574",
   "metadata": {},
   "outputs": [
    {
     "name": "stdout",
     "output_type": "stream",
     "text": [
      "The autoreload extension is already loaded. To reload it, use:\n",
      "  %reload_ext autoreload\n"
     ]
    }
   ],
   "source": [
    "import tensorflow as tf\n",
    "import os\n",
    "import matplotlib.pyplot as plt \n",
    "\n",
    "from src.layers.downstream import AstromerEmbedding\n",
    "from src.data.loaders import load_light_curves\n",
    "\n",
    "%load_ext autoreload\n",
    "%autoreload 2"
   ]
  },
  {
   "cell_type": "code",
   "execution_count": 12,
   "id": "580f345e",
   "metadata": {},
   "outputs": [],
   "source": [
    "data_path = './data/records/atlas/fold_0/atlas_20/'\n",
    "train_batches = load_light_curves(os.path.join(data_path, 'train'), \n",
    "                                  batch_size=32, \n",
    "                                  window_size=200, \n",
    "                                  repeat=1,\n",
    "                                  cache=True, \n",
    "                                  njobs=None)"
   ]
  },
  {
   "cell_type": "code",
   "execution_count": 13,
   "id": "d79c0cf8",
   "metadata": {},
   "outputs": [
    {
     "name": "stdout",
     "output_type": "stream",
     "text": [
      "PE_C RECEIVED:  tf.Tensor(1.0, shape=(), dtype=float32)\n"
     ]
    }
   ],
   "source": [
    "w = './presentation/experiments/astromer_2/results/test/1_4_64_rmse_0.5/pretraining/'\n",
    "astromer_layer = AstromerEmbedding(pretrain_weights=w)"
   ]
  },
  {
   "cell_type": "code",
   "execution_count": 15,
   "id": "6f64a108",
   "metadata": {},
   "outputs": [],
   "source": [
    "for x, y in train_batches:\n",
    "    \n",
    "    cls_token, rec_token = astromer_layer(x)    \n",
    "\n",
    "    break"
   ]
  },
  {
   "cell_type": "code",
   "execution_count": null,
   "id": "397b58d4",
   "metadata": {},
   "outputs": [],
   "source": []
  },
  {
   "cell_type": "code",
   "execution_count": null,
   "id": "2352d56b",
   "metadata": {},
   "outputs": [],
   "source": []
  }
 ],
 "metadata": {
  "kernelspec": {
   "display_name": "Python 3 (ipykernel)",
   "language": "python",
   "name": "python3"
  },
  "language_info": {
   "codemirror_mode": {
    "name": "ipython",
    "version": 3
   },
   "file_extension": ".py",
   "mimetype": "text/x-python",
   "name": "python",
   "nbconvert_exporter": "python",
   "pygments_lexer": "ipython3",
   "version": "3.8.10"
  }
 },
 "nbformat": 4,
 "nbformat_minor": 5
}
