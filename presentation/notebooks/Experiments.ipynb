{
 "cells": [
  {
   "cell_type": "markdown",
   "metadata": {},
   "source": [
    "# Experiments results "
   ]
  },
  {
   "cell_type": "markdown",
   "metadata": {},
   "source": [
    "- Experiment 1: MACHO (PT) - Ogle (FT)\n",
    "- Experiment 2: MACHO (PT) - Subsets of Ogle (FT) (20 - 50 - 100 observations per class)"
   ]
  },
  {
   "cell_type": "code",
   "execution_count": 82,
   "metadata": {},
   "outputs": [
    {
     "name": "stdout",
     "output_type": "stream",
     "text": [
      "/tf/astromer\n"
     ]
    }
   ],
   "source": [
    "cd /tf/astromer"
   ]
  },
  {
   "cell_type": "code",
   "execution_count": 83,
   "metadata": {},
   "outputs": [
    {
     "name": "stdout",
     "output_type": "stream",
     "text": [
      "The autoreload extension is already loaded. To reload it, use:\n",
      "  %reload_ext autoreload\n"
     ]
    }
   ],
   "source": [
    "import os\n",
    "os.environ[\"CUDA_VISIBLE_DEVICES\"] = \"-1\" # comment to disable GPU\n",
    "%load_ext autoreload\n",
    "%autoreload 2"
   ]
  },
  {
   "cell_type": "code",
   "execution_count": 84,
   "metadata": {},
   "outputs": [],
   "source": [
    "import matplotlib.pyplot as plt\n",
    "from tensorflow.core.util import event_pb2\n",
    "from tensorflow.python.lib.io import tf_record\n",
    "from tensorboard.backend.event_processing import event_accumulator\n",
    "from sklearn.metrics import confusion_matrix\n",
    "from core.plots import plot_cm\n",
    "\n",
    "def my_summary_iterator(path):\n",
    "    for r in tf_record.tf_record_iterator(path):\n",
    "        yield event_pb2.Event.FromString(r)\n",
    "\n",
    "def get_metrics(path_logs):\n",
    "    train_logs = [x for x in os.listdir(path_logs) if x.endswith('.v2')][0]\n",
    "    path_train = os.path.join(path_logs, train_logs)\n",
    "\n",
    "    ea = event_accumulator.EventAccumulator(path_train)\n",
    "    ea.Reload()\n",
    "\n",
    "    metrics = {tag:[] for tag in ea.Tags()['tensors']}\n",
    "    for e in my_summary_iterator(path_train):\n",
    "        for v in e.summary.value:\n",
    "            if v.tag == 'model': continue\n",
    "            value = tf.make_ndarray(v.tensor)\n",
    "            metrics[v.tag].append(value)\n",
    "    return metrics\n",
    "\n",
    "def load_weights(model, weights_path):\n",
    "    model.load_weights(weights_path)\n",
    "    model.trainable=False\n",
    "    return model"
   ]
  },
  {
   "cell_type": "code",
   "execution_count": 85,
   "metadata": {},
   "outputs": [],
   "source": [
    "plt.rcParams.update({\n",
    "    \"text.usetex\": True,\n",
    "    \"font.family\": \"sans-serif\",\n",
    "    \"font.sans-serif\": [\"Helvetica\"]})\n",
    "# for Palatino and other serif fonts use:\n",
    "plt.rcParams.update({\n",
    "    \"text.usetex\": True,\n",
    "    \"font.family\": \"serif\",\n",
    "    \"font.serif\": [\"Palatino\"],\n",
    "})"
   ]
  },
  {
   "cell_type": "markdown",
   "metadata": {},
   "source": [
    "## Experiment 1: Pretraning on MACHO - Finetuning on Ogle"
   ]
  },
  {
   "cell_type": "code",
   "execution_count": 170,
   "metadata": {},
   "outputs": [],
   "source": [
    "import tensorflow as tf\n",
    "import pandas as pd\n",
    "import numpy as np\n",
    "import os\n",
    "\n",
    "from presentation.experiments.exp_1 import get_mlp, get_lstm, get_lstm_att, init_astromer, valid_step\n",
    "from sklearn.metrics import precision_recall_fscore_support\n",
    "from core.data import load_records\n",
    "from presentation.experiments.mlp_exp_1 import load_embeddings"
   ]
  },
  {
   "cell_type": "code",
   "execution_count": 171,
   "metadata": {},
   "outputs": [],
   "source": [
    "astromer_weights = './weights/astromer_10022021/finetuning/alcock'\n",
    "exp_folder = './experiments/alcock/'\n",
    "data_exp = './data/records/alcock/'"
   ]
  },
  {
   "cell_type": "code",
   "execution_count": 172,
   "metadata": {},
   "outputs": [],
   "source": [
    "encoder = init_astromer(astromer_weights)"
   ]
  },
  {
   "cell_type": "code",
   "execution_count": 173,
   "metadata": {},
   "outputs": [
    {
     "name": "stdout",
     "output_type": "stream",
     "text": [
      "['Cep_0', 'Cep_1', 'EC', 'LPV', 'RRab', 'RRc']\n"
     ]
    }
   ],
   "source": [
    "test_obj_df = pd.read_csv(data_exp+'test_objs.csv')\n",
    "\n",
    "classes_name = list(test_obj_df['class'].unique())\n",
    "print(classes_name)\n",
    "num_classes = len(classes_name)"
   ]
  },
  {
   "cell_type": "code",
   "execution_count": 174,
   "metadata": {},
   "outputs": [
    {
     "name": "stdout",
     "output_type": "stream",
     "text": [
      "Testing mode\n"
     ]
    }
   ],
   "source": [
    "test_batches = load_records(data_exp+'/test', batch_size=128, \n",
    "                            max_obs=200,\n",
    "                            msk_frac=0., rnd_frac=0., same_frac=0., \n",
    "                            repeat=1,\n",
    "                            is_train=False) # repeat 1 == no repeat\n",
    "\n",
    "test_embs = load_embeddings(os.path.join(data_exp.replace('./data/records', \n",
    "                                                              'embeddings'), 'test'),\n",
    "                                num_classes, 128)"
   ]
  },
  {
   "cell_type": "code",
   "execution_count": 176,
   "metadata": {},
   "outputs": [
    {
     "ename": "OSError",
     "evalue": "SavedModel file does not exist at: ./experiments/alcock//mlp_att/model//{saved_model.pbtxt|saved_model.pb}",
     "output_type": "error",
     "traceback": [
      "\u001b[0;31m---------------------------------------------------------------------------\u001b[0m",
      "\u001b[0;31mOSError\u001b[0m                                   Traceback (most recent call last)",
      "\u001b[0;32m<ipython-input-176-8e8c77b569e9>\u001b[0m in \u001b[0;36m<module>\u001b[0;34m\u001b[0m\n\u001b[1;32m      1\u001b[0m \u001b[0mlstm\u001b[0m     \u001b[0;34m=\u001b[0m \u001b[0mget_lstm\u001b[0m\u001b[0;34m(\u001b[0m\u001b[0;36m256\u001b[0m\u001b[0;34m,\u001b[0m \u001b[0mnum_classes\u001b[0m\u001b[0;34m,\u001b[0m \u001b[0;36m200\u001b[0m\u001b[0;34m,\u001b[0m \u001b[0mdropout\u001b[0m\u001b[0;34m=\u001b[0m\u001b[0;36m0.5\u001b[0m\u001b[0;34m)\u001b[0m\u001b[0;34m\u001b[0m\u001b[0;34m\u001b[0m\u001b[0m\n\u001b[0;32m----> 2\u001b[0;31m \u001b[0mmlp_att\u001b[0m  \u001b[0;34m=\u001b[0m \u001b[0mget_mlp\u001b[0m\u001b[0;34m(\u001b[0m\u001b[0mexp_folder\u001b[0m\u001b[0;34m+\u001b[0m\u001b[0;34m'/mlp_att/model/'\u001b[0m\u001b[0;34m)\u001b[0m\u001b[0;34m\u001b[0m\u001b[0;34m\u001b[0m\u001b[0m\n\u001b[0m\u001b[1;32m      3\u001b[0m \u001b[0mlstm_att\u001b[0m \u001b[0;34m=\u001b[0m \u001b[0mget_lstm_att\u001b[0m\u001b[0;34m(\u001b[0m\u001b[0;36m256\u001b[0m\u001b[0;34m,\u001b[0m \u001b[0mnum_classes\u001b[0m\u001b[0;34m,\u001b[0m \u001b[0mencoder\u001b[0m\u001b[0;34m=\u001b[0m\u001b[0mencoder\u001b[0m\u001b[0;34m,\u001b[0m \u001b[0mdropout\u001b[0m\u001b[0;34m=\u001b[0m\u001b[0;36m0.5\u001b[0m\u001b[0;34m)\u001b[0m\u001b[0;34m\u001b[0m\u001b[0;34m\u001b[0m\u001b[0m\n",
      "\u001b[0;32m/tf/astromer/presentation/experiments/exp_1.py\u001b[0m in \u001b[0;36mget_mlp\u001b[0;34m(path)\u001b[0m\n\u001b[1;32m     23\u001b[0m \u001b[0;32mdef\u001b[0m \u001b[0mget_mlp\u001b[0m\u001b[0;34m(\u001b[0m\u001b[0mpath\u001b[0m\u001b[0;34m)\u001b[0m\u001b[0;34m:\u001b[0m\u001b[0;34m\u001b[0m\u001b[0;34m\u001b[0m\u001b[0m\n\u001b[1;32m     24\u001b[0m     \u001b[0;34m''' FC + ATT'''\u001b[0m\u001b[0;34m\u001b[0m\u001b[0;34m\u001b[0m\u001b[0m\n\u001b[0;32m---> 25\u001b[0;31m     \u001b[0mmodel\u001b[0m \u001b[0;34m=\u001b[0m \u001b[0mtf\u001b[0m\u001b[0;34m.\u001b[0m\u001b[0mkeras\u001b[0m\u001b[0;34m.\u001b[0m\u001b[0mmodels\u001b[0m\u001b[0;34m.\u001b[0m\u001b[0mload_model\u001b[0m\u001b[0;34m(\u001b[0m\u001b[0mpath\u001b[0m\u001b[0;34m)\u001b[0m\u001b[0;34m\u001b[0m\u001b[0;34m\u001b[0m\u001b[0m\n\u001b[0m\u001b[1;32m     26\u001b[0m     \u001b[0;32mreturn\u001b[0m \u001b[0mmodel\u001b[0m\u001b[0;34m\u001b[0m\u001b[0;34m\u001b[0m\u001b[0m\n\u001b[1;32m     27\u001b[0m \u001b[0;34m\u001b[0m\u001b[0m\n",
      "\u001b[0;32m/usr/local/lib/python3.6/dist-packages/tensorflow/python/keras/saving/save.py\u001b[0m in \u001b[0;36mload_model\u001b[0;34m(filepath, custom_objects, compile, options)\u001b[0m\n\u001b[1;32m    204\u001b[0m         \u001b[0mfilepath\u001b[0m \u001b[0;34m=\u001b[0m \u001b[0mpath_to_string\u001b[0m\u001b[0;34m(\u001b[0m\u001b[0mfilepath\u001b[0m\u001b[0;34m)\u001b[0m\u001b[0;34m\u001b[0m\u001b[0;34m\u001b[0m\u001b[0m\n\u001b[1;32m    205\u001b[0m         \u001b[0;32mif\u001b[0m \u001b[0misinstance\u001b[0m\u001b[0;34m(\u001b[0m\u001b[0mfilepath\u001b[0m\u001b[0;34m,\u001b[0m \u001b[0mstr\u001b[0m\u001b[0;34m)\u001b[0m\u001b[0;34m:\u001b[0m\u001b[0;34m\u001b[0m\u001b[0;34m\u001b[0m\u001b[0m\n\u001b[0;32m--> 206\u001b[0;31m           \u001b[0;32mreturn\u001b[0m \u001b[0msaved_model_load\u001b[0m\u001b[0;34m.\u001b[0m\u001b[0mload\u001b[0m\u001b[0;34m(\u001b[0m\u001b[0mfilepath\u001b[0m\u001b[0;34m,\u001b[0m \u001b[0mcompile\u001b[0m\u001b[0;34m,\u001b[0m \u001b[0moptions\u001b[0m\u001b[0;34m)\u001b[0m\u001b[0;34m\u001b[0m\u001b[0;34m\u001b[0m\u001b[0m\n\u001b[0m\u001b[1;32m    207\u001b[0m \u001b[0;34m\u001b[0m\u001b[0m\n\u001b[1;32m    208\u001b[0m   raise IOError(\n",
      "\u001b[0;32m/usr/local/lib/python3.6/dist-packages/tensorflow/python/keras/saving/saved_model/load.py\u001b[0m in \u001b[0;36mload\u001b[0;34m(path, compile, options)\u001b[0m\n\u001b[1;32m    119\u001b[0m   \u001b[0;31m# Look for metadata file or parse the SavedModel\u001b[0m\u001b[0;34m\u001b[0m\u001b[0;34m\u001b[0m\u001b[0;34m\u001b[0m\u001b[0m\n\u001b[1;32m    120\u001b[0m   \u001b[0mmetadata\u001b[0m \u001b[0;34m=\u001b[0m \u001b[0msaved_metadata_pb2\u001b[0m\u001b[0;34m.\u001b[0m\u001b[0mSavedMetadata\u001b[0m\u001b[0;34m(\u001b[0m\u001b[0;34m)\u001b[0m\u001b[0;34m\u001b[0m\u001b[0;34m\u001b[0m\u001b[0m\n\u001b[0;32m--> 121\u001b[0;31m   \u001b[0mmeta_graph_def\u001b[0m \u001b[0;34m=\u001b[0m \u001b[0mloader_impl\u001b[0m\u001b[0;34m.\u001b[0m\u001b[0mparse_saved_model\u001b[0m\u001b[0;34m(\u001b[0m\u001b[0mpath\u001b[0m\u001b[0;34m)\u001b[0m\u001b[0;34m.\u001b[0m\u001b[0mmeta_graphs\u001b[0m\u001b[0;34m[\u001b[0m\u001b[0;36m0\u001b[0m\u001b[0;34m]\u001b[0m\u001b[0;34m\u001b[0m\u001b[0;34m\u001b[0m\u001b[0m\n\u001b[0m\u001b[1;32m    122\u001b[0m   \u001b[0mobject_graph_def\u001b[0m \u001b[0;34m=\u001b[0m \u001b[0mmeta_graph_def\u001b[0m\u001b[0;34m.\u001b[0m\u001b[0mobject_graph_def\u001b[0m\u001b[0;34m\u001b[0m\u001b[0;34m\u001b[0m\u001b[0m\n\u001b[1;32m    123\u001b[0m   \u001b[0mpath_to_metadata_pb\u001b[0m \u001b[0;34m=\u001b[0m \u001b[0mos\u001b[0m\u001b[0;34m.\u001b[0m\u001b[0mpath\u001b[0m\u001b[0;34m.\u001b[0m\u001b[0mjoin\u001b[0m\u001b[0;34m(\u001b[0m\u001b[0mpath\u001b[0m\u001b[0;34m,\u001b[0m \u001b[0mconstants\u001b[0m\u001b[0;34m.\u001b[0m\u001b[0mSAVED_METADATA_PATH\u001b[0m\u001b[0;34m)\u001b[0m\u001b[0;34m\u001b[0m\u001b[0;34m\u001b[0m\u001b[0m\n",
      "\u001b[0;32m/usr/local/lib/python3.6/dist-packages/tensorflow/python/saved_model/loader_impl.py\u001b[0m in \u001b[0;36mparse_saved_model\u001b[0;34m(export_dir)\u001b[0m\n\u001b[1;32m    114\u001b[0m         \u001b[0;34m\"SavedModel file does not exist at: %s%s{%s|%s}\"\u001b[0m \u001b[0;34m%\u001b[0m\u001b[0;34m\u001b[0m\u001b[0;34m\u001b[0m\u001b[0m\n\u001b[1;32m    115\u001b[0m         (export_dir, os.path.sep, constants.SAVED_MODEL_FILENAME_PBTXT,\n\u001b[0;32m--> 116\u001b[0;31m          constants.SAVED_MODEL_FILENAME_PB))\n\u001b[0m\u001b[1;32m    117\u001b[0m \u001b[0;34m\u001b[0m\u001b[0m\n\u001b[1;32m    118\u001b[0m \u001b[0;34m\u001b[0m\u001b[0m\n",
      "\u001b[0;31mOSError\u001b[0m: SavedModel file does not exist at: ./experiments/alcock//mlp_att/model//{saved_model.pbtxt|saved_model.pb}"
     ]
    }
   ],
   "source": [
    "lstm     = get_lstm(256, num_classes, 200, dropout=0.5)\n",
    "mlp_att  = get_mlp(exp_folder+'/mlp_att/model/')\n",
    "lstm_att = get_lstm_att(256, num_classes, encoder=encoder, dropout=0.5)"
   ]
  },
  {
   "cell_type": "code",
   "execution_count": 136,
   "metadata": {},
   "outputs": [
    {
     "data": {
      "text/plain": [
       "(600, 6)"
      ]
     },
     "execution_count": 136,
     "metadata": {},
     "output_type": "execute_result"
    }
   ],
   "source": [
    "y_pred = mlp_att.predict(test_embs)\n",
    "y_pred.shape"
   ]
  },
  {
   "cell_type": "code",
   "execution_count": 137,
   "metadata": {},
   "outputs": [],
   "source": [
    "lstm     = load_weights(lstm, exp_folder+'/lstm/weights')\n",
    "lstm_att = load_weights(lstm_att, exp_folder+'/lstm_att/weights')"
   ]
  },
  {
   "cell_type": "code",
   "execution_count": 166,
   "metadata": {},
   "outputs": [
    {
     "name": "stdout",
     "output_type": "stream",
     "text": [
      "5/5 [==============================] - 0s 51ms/step - loss: 2.4306 - accuracy: 0.2500\n",
      "CPU times: user 27.2 s, sys: 1.93 s, total: 29.1 s\n",
      "Wall time: 6.68 s\n"
     ]
    }
   ],
   "source": [
    "%%time\n",
    "lstm_results     = {'name': 'LSTM', 'y_pred': [], 'y_true': [], 'cce': []}\n",
    "mlp_att_results  = {'name': 'MLP+ATT', 'y_pred': [], 'y_true': [], 'cce': []}\n",
    "lstm_att_results = {'name': 'LSTM+ATT', 'y_pred': [], 'y_true': [], 'cce': []}\n",
    "\n",
    "for batch in test_batches:\n",
    "    acc, ce, y_pred, y_true = valid_step(lstm, batch, return_pred=True)\n",
    "    lstm_results['y_pred'].append(y_pred.numpy())\n",
    "    lstm_results['y_true'].append(y_true.numpy())\n",
    "    lstm_results['cce'].append(ce.numpy())\n",
    "        \n",
    "    acc, ce, y_pred, y_true = valid_step(lstm_att, batch, return_pred=True)\n",
    "    lstm_att_results['y_pred'].append(y_pred.numpy())\n",
    "    lstm_att_results['y_true'].append(y_true.numpy())\n",
    "    lstm_att_results['cce'].append(ce.numpy())\n",
    "        \n",
    "\n",
    "mlp_att_results['y_pred'] = mlp_att.predict(test_embs)\n",
    "mlp_att_results['y_true'] = np.concatenate([np.argmax(y_true, 1) for _, y_true in test_embs], 0)\n",
    "mlp_att_results['cce'] = mlp_att.evaluate(test_embs)[0]"
   ]
  },
  {
   "cell_type": "code",
   "execution_count": 167,
   "metadata": {},
   "outputs": [],
   "source": [
    "def concat_batches_results(results):\n",
    "    results['y_pred'] = np.concatenate(results['y_pred'], 0)\n",
    "    results['y_true'] = np.concatenate(results['y_true'], 0)\n",
    "    results['cce'] = np.mean(results['cce'], 0)\n",
    "    return results"
   ]
  },
  {
   "cell_type": "code",
   "execution_count": 168,
   "metadata": {},
   "outputs": [],
   "source": [
    "lstm_results     = concat_batches_results(lstm_results)\n",
    "lstm_att_results = concat_batches_results(lstm_att_results)"
   ]
  },
  {
   "cell_type": "code",
   "execution_count": 169,
   "metadata": {},
   "outputs": [
    {
     "name": "stdout",
     "output_type": "stream",
     "text": [
      "Model & F1 Score & Recall & Precision \\\\\\hline\n",
      "LSTM & 0.14 & 0.25 & 0.10 \\\\\\hline\n",
      "MLP+ATT & 0.12 & 0.25 & 0.08 \\\\\\hline\n",
      "LSTM+ATT & 0.70 & 0.71 & 0.76 \\\\\\hline\n"
     ]
    },
    {
     "name": "stderr",
     "output_type": "stream",
     "text": [
      "/usr/local/lib/python3.6/dist-packages/sklearn/metrics/_classification.py:1248: UndefinedMetricWarning: Precision and F-score are ill-defined and being set to 0.0 in labels with no predicted samples. Use `zero_division` parameter to control this behavior.\n",
      "  _warn_prf(average, modifier, msg_start, len(result))\n",
      "/usr/local/lib/python3.6/dist-packages/sklearn/metrics/_classification.py:1248: UndefinedMetricWarning: Precision and F-score are ill-defined and being set to 0.0 in labels with no predicted samples. Use `zero_division` parameter to control this behavior.\n",
      "  _warn_prf(average, modifier, msg_start, len(result))\n"
     ]
    }
   ],
   "source": [
    "print('{} & {} & {} & {} \\\\\\\\\\hline'.format('Model', 'F1 Score', 'Recall', 'Precision'))\n",
    "for result in [lstm_results, mlp_att_results, lstm_att_results]:\n",
    "#     if result['name'] == 'LSTM': continue\n",
    "    if result['name'] == 'MLP+ATT':\n",
    "        y_pred_lab = np.argmax(result['y_pred'], 1)\n",
    "    else:\n",
    "        y_pred_lab = np.argmax(result['y_pred'][:, -1, :], 1)\n",
    "        \n",
    "    prec, recall, f1, _ = precision_recall_fscore_support(result['y_true'], \n",
    "                                                          y_pred_lab, \n",
    "                                                          average='macro')\n",
    "    \n",
    "    print('{} & {:.2f} & {:.2f} & {:.2f} \\\\\\\\\\hline'.format(result['name'], f1, recall, prec))"
   ]
  },
  {
   "cell_type": "code",
   "execution_count": 165,
   "metadata": {},
   "outputs": [
    {
     "name": "stdout",
     "output_type": "stream",
     "text": [
      "{'images': [], 'audio': [], 'histograms': [], 'scalars': ['evaluation_loss_vs_iterations', 'evaluation_accuracy_vs_iterations', 'epoch_loss', 'epoch_accuracy'], 'distributions': [], 'tensors': [], 'graph': False, 'meta_graph': False, 'run_metadata': []}\n",
      "{'images': [], 'audio': [], 'histograms': [], 'scalars': [], 'distributions': [], 'tensors': [], 'graph': False, 'meta_graph': False, 'run_metadata': []}\n"
     ]
    },
    {
     "ename": "KeyError",
     "evalue": "'epoch_loss'",
     "output_type": "error",
     "traceback": [
      "\u001b[0;31m---------------------------------------------------------------------------\u001b[0m",
      "\u001b[0;31mKeyError\u001b[0m                                  Traceback (most recent call last)",
      "\u001b[0;32m<ipython-input-165-b646ca8abe88>\u001b[0m in \u001b[0;36m<module>\u001b[0;34m\u001b[0m\n\u001b[1;32m     30\u001b[0m             exp_folder, name, 'logs', 'validation'))\n\u001b[1;32m     31\u001b[0m         train_metrics = get_metrics_2(\n\u001b[0;32m---> 32\u001b[0;31m             os.path.join(exp_folder, name, 'logs', 'train'))\n\u001b[0m\u001b[1;32m     33\u001b[0m     \u001b[0;32melse\u001b[0m\u001b[0;34m:\u001b[0m\u001b[0;34m\u001b[0m\u001b[0;34m\u001b[0m\u001b[0m\n\u001b[1;32m     34\u001b[0m         val_metrics = get_metrics(os.path.join(\n",
      "\u001b[0;32m<ipython-input-165-b646ca8abe88>\u001b[0m in \u001b[0;36mget_metrics_2\u001b[0;34m(path_logs)\u001b[0m\n\u001b[1;32m     19\u001b[0m \u001b[0;34m\u001b[0m\u001b[0m\n\u001b[1;32m     20\u001b[0m \u001b[0;34m\u001b[0m\u001b[0m\n\u001b[0;32m---> 21\u001b[0;31m     \u001b[0mmetrics\u001b[0m\u001b[0;34m[\u001b[0m\u001b[0;34m'xentropy'\u001b[0m\u001b[0;34m]\u001b[0m \u001b[0;34m=\u001b[0m \u001b[0mmetrics\u001b[0m\u001b[0;34m.\u001b[0m\u001b[0mpop\u001b[0m\u001b[0;34m(\u001b[0m\u001b[0;34m'epoch_loss'\u001b[0m\u001b[0;34m)\u001b[0m\u001b[0;34m\u001b[0m\u001b[0;34m\u001b[0m\u001b[0m\n\u001b[0m\u001b[1;32m     22\u001b[0m     \u001b[0mmetrics\u001b[0m\u001b[0;34m[\u001b[0m\u001b[0;34m'accuracy'\u001b[0m\u001b[0;34m]\u001b[0m \u001b[0;34m=\u001b[0m \u001b[0mmetrics\u001b[0m\u001b[0;34m.\u001b[0m\u001b[0mpop\u001b[0m\u001b[0;34m(\u001b[0m\u001b[0;34m'epoch_accuracy'\u001b[0m\u001b[0;34m)\u001b[0m\u001b[0;34m\u001b[0m\u001b[0;34m\u001b[0m\u001b[0m\n\u001b[1;32m     23\u001b[0m \u001b[0;34m\u001b[0m\u001b[0m\n",
      "\u001b[0;31mKeyError\u001b[0m: 'epoch_loss'"
     ]
    },
    {
     "data": {
      "image/png": "[encoded data removed]",
      "text/plain": [
       "<Figure size 400x500 with 3 Axes>"
      ]
     },
     "metadata": {
      "needs_background": "light"
     },
     "output_type": "display_data"
    }
   ],
   "source": [
    "def my_summary_iterator(path):\n",
    "    for r in tf_record.tf_record_iterator(path):\n",
    "        yield event_pb2.Event.FromString(r)\n",
    "\n",
    "def get_metrics_2(path_logs):\n",
    "    train_logs = [x for x in os.listdir(path_logs) if x.endswith('.v2')][0]\n",
    "    path_train = os.path.join(path_logs, train_logs)\n",
    "\n",
    "    ea = event_accumulator.EventAccumulator(path_train)\n",
    "    ea.Reload()\n",
    "\n",
    "    metrics = {tag:[] for tag in ea.Tags()['scalars']}\n",
    "    print(ea.Tags())\n",
    "    for e in my_summary_iterator(path_train):\n",
    "        for v in e.summary.value:\n",
    "            if v.tag == 'model': continue\n",
    "            value = v.simple_value\n",
    "            metrics[v.tag].append(value)\n",
    "    \n",
    "    \n",
    "    metrics['xentropy'] = metrics.pop('epoch_loss')\n",
    "    metrics['accuracy'] = metrics.pop('epoch_accuracy')\n",
    "    \n",
    "    return metrics\n",
    "\n",
    "fig, axes = plt.subplots(3,1, sharex=True, figsize=(4,5), dpi=100, gridspec_kw={'hspace': 0.4, 'wspace': 0},)\n",
    "for index, name in enumerate(['lstm', 'mlp_att', 'lstm_att']):\n",
    "    if name =='mlp_att':\n",
    "        val_metrics = get_metrics_2(os.path.join(\n",
    "            exp_folder, name, 'logs', 'validation'))\n",
    "        train_metrics = get_metrics_2(\n",
    "            os.path.join(exp_folder, name, 'logs', 'train'))\n",
    "    else:\n",
    "        val_metrics = get_metrics(os.path.join(\n",
    "            exp_folder, name, 'logs', 'valid'))\n",
    "        train_metrics = get_metrics(\n",
    "            os.path.join(exp_folder, name, 'logs', 'train'))\n",
    "        \n",
    "    axes[index].plot(train_metrics['xentropy'], label='train')\n",
    "    axes[index].plot(val_metrics['xentropy'], label='val')\n",
    "    if name =='lstm': title_name = 'LSTM'\n",
    "    if name =='mlp_att': title_name = 'MLP+ATT'\n",
    "    if name =='lstm_att': title_name = 'LSTM+ATT'\n",
    "    axes[index].set_title(title_name)\n",
    "    axes[index].legend()\n",
    "    \n",
    "fig.text(0.5, 0.04, 'Epochs', ha='center')\n",
    "fig.text(0.0, 0.5, 'Categorical Cross Entropy', va='center', rotation='vertical')"
   ]
  },
  {
   "cell_type": "code",
   "execution_count": null,
   "metadata": {},
   "outputs": [],
   "source": [
    "fig, axes = plt.subplots(3,1, sharex=True, figsize=(4,5), dpi=100, gridspec_kw={'hspace': 0.4, 'wspace': 0},)\n",
    "for index, name in enumerate(['lstm', 'mlp_att', 'lstm_att']):\n",
    "#     if name == 'lstm':continue\n",
    "    train_metrics = get_metrics(os.path.join(exp_folder, name, 'logs', 'train'))\n",
    "    val_metrics = get_metrics(os.path.join(exp_folder, name, 'logs', 'valid'))\n",
    "    axes[index].plot(train_metrics['accuracy'], label='train')\n",
    "    axes[index].plot(val_metrics['accuracy'], label='val')\n",
    "    if name =='lstm': title_name = 'LSTM'\n",
    "    if name =='mlp_att': title_name = 'MLP+ATT'\n",
    "    if name =='lstm_att': title_name = 'LSTM+ATT'\n",
    "    axes[index].set_title(title_name)\n",
    "    axes[index].legend()\n",
    "    \n",
    "fig.text(0.5, 0.04, 'Epochs', ha='center')\n",
    "fig.text(0.0, 0.5, 'Accuracy', va='center', rotation='vertical')"
   ]
  },
  {
   "cell_type": "code",
   "execution_count": 28,
   "metadata": {},
   "outputs": [],
   "source": [
    "lstm_cm     = confusion_matrix(lstm_results['y_true'], np.argmax(lstm_results['y_pred'][:, -1, :], 1), normalize='true')\n",
    "mlp_att_cm  = confusion_matrix(mlp_att_results['y_true'], np.argmax(mlp_att_results['y_pred'], 1), normalize='true')\n",
    "lstm_att_cm = confusion_matrix(lstm_att_results['y_true'], np.argmax(lstm_att_results['y_pred'][:, -1, :], 1), normalize='true')"
   ]
  },
  {
   "cell_type": "code",
   "execution_count": 31,
   "metadata": {},
   "outputs": [],
   "source": [
    "classes_name = [x.replace('_', '\\_') for x in classes_name]"
   ]
  },
  {
   "cell_type": "code",
   "execution_count": 32,
   "metadata": {},
   "outputs": [
    {
     "data": {
      "image/png": "[encoded data removed]",
      "text/plain": [
       "<Figure size 1944x576 with 3 Axes>"
      ]
     },
     "metadata": {
      "needs_background": "light"
     },
     "output_type": "display_data"
    }
   ],
   "source": [
    "fig, axes = plt.subplots(1,3, figsize=(27,8), sharey=True, gridspec_kw={'hspace': 0., 'wspace': 0.03})\n",
    "\n",
    "axes[0] = plot_cm(lstm_cm, axes[0], title='LSTM', class_names=classes_name)\n",
    "axes[1] = plot_cm(mlp_att_cm, axes[1], title='MLP + ATT', class_names=classes_name)\n",
    "axes[2] = plot_cm(lstm_att_cm, axes[2], title='LSTM + ATT', class_names=classes_name)"
   ]
  },
  {
   "cell_type": "code",
   "execution_count": null,
   "metadata": {},
   "outputs": [],
   "source": []
  }
 ],
 "metadata": {
  "kernelspec": {
   "display_name": "Python 3",
   "language": "python",
   "name": "python3"
  },
  "language_info": {
   "codemirror_mode": {
    "name": "ipython",
    "version": 3
   },
   "file_extension": ".py",
   "mimetype": "text/x-python",
   "name": "python",
   "nbconvert_exporter": "python",
   "pygments_lexer": "ipython3",
   "version": "3.6.9"
  }
 },
 "nbformat": 4,
 "nbformat_minor": 2
}
