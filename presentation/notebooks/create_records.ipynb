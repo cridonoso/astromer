{
 "cells": [
  {
   "cell_type": "markdown",
   "metadata": {},
   "source": [
    "# Tutorial: Creating TF Records\n",
    "\n",
    "Last updated: 11/02/2022 by\n",
    "Cristobal Donoso"
   ]
  },
  {
   "cell_type": "code",
   "execution_count": 32,
   "metadata": {},
   "outputs": [
    {
     "name": "stdout",
     "output_type": "stream",
     "text": [
      "/home\n"
     ]
    }
   ],
   "source": [
    "cd /home"
   ]
  },
  {
   "cell_type": "code",
   "execution_count": 33,
   "metadata": {},
   "outputs": [
    {
     "name": "stdout",
     "output_type": "stream",
     "text": [
      "The autoreload extension is already loaded. To reload it, use:\n",
      "  %reload_ext autoreload\n"
     ]
    }
   ],
   "source": [
    "import matplotlib.pyplot as plt\n",
    "import tensorflow as tf\n",
    "import pandas as pd\n",
    "import numpy as np\n",
    "import os\n",
    "import sys,os\n",
    "\n",
    "os.environ[\"CUDA_VISIBLE_DEVICES\"] = \"-1\"\n",
    "\n",
    "from core.data  import (create_dataset, \n",
    "                        pretraining_records)\n",
    "\n",
    "%load_ext autoreload\n",
    "%autoreload 2"
   ]
  },
  {
   "cell_type": "code",
   "execution_count": 35,
   "metadata": {},
   "outputs": [],
   "source": [
    "name                 = 'alcock'\n",
    "lightcurves_folder   = f'./data/raw_data/{name}/LCs/' # lightcurves folder\n",
    "lightcurves_metadata = f'./data/raw_data/{name}/metadata.csv' # metadata file\n",
    "fold_to_save_records = './data/records_new'"
   ]
  },
  {
   "cell_type": "markdown",
   "metadata": {},
   "source": [
    "### Metadata frame sample"
   ]
  },
  {
   "cell_type": "code",
   "execution_count": 36,
   "metadata": {},
   "outputs": [
    {
     "name": "stdout",
     "output_type": "stream",
     "text": [
      "(21444, 4)\n",
      "(20894, 4)\n"
     ]
    }
   ],
   "source": [
    "meta = pd.read_csv(lightcurves_metadata)\n",
    "print(meta.shape)\n",
    "meta = meta[meta['Class'] != 'UNK']\n",
    "meta = meta[meta['Class'] != 'std']\n",
    "meta = meta[meta['Class'] != 'Dubious']\n",
    "# meta = meta[meta['N'] >= 20]\n",
    "meta['Band'] = tf.ones(meta.shape[0])\n",
    "meta = meta.rename(columns={'objID':'ID', 'Unnamed: 0':'ID', 'Path_R':'Path'})\n",
    "print(meta.shape)\n",
    "if 'atlas' in name:\n",
    "    meta['Path'] = meta['ID'].astype(str)+'.dat'"
   ]
  },
  {
   "cell_type": "code",
   "execution_count": 37,
   "metadata": {},
   "outputs": [],
   "source": [
    "change_labels = {'LPV WoodA':'LPV',\n",
    "                 'LPV WoodB':'LPV', \n",
    "                 'LPV WoodC':'LPV', \n",
    "                 'LPV WoodD':'LPV'}\n",
    "meta['Class'] = meta['Class'].replace(change_labels)"
   ]
  },
  {
   "cell_type": "code",
   "execution_count": 38,
   "metadata": {},
   "outputs": [
    {
     "data": {
      "text/plain": [
       "RRab     7397\n",
       "EC       6824\n",
       "LPV      3046\n",
       "RRc      1762\n",
       "Cep_0    1182\n",
       "Cep_1     683\n",
       "Name: Class, dtype: int64"
      ]
     },
     "execution_count": 38,
     "metadata": {},
     "output_type": "execute_result"
    }
   ],
   "source": [
    "meta['Class'].value_counts()"
   ]
  },
  {
   "cell_type": "markdown",
   "metadata": {},
   "source": [
    "### Lightcurve frame sample"
   ]
  },
  {
   "cell_type": "code",
   "execution_count": 39,
   "metadata": {},
   "outputs": [],
   "source": [
    "args = {\n",
    "    'alcock':{},\n",
    "    'ogle': {'names':['mjd', 'mag', 'errmag'], 'delim_whitespace':True},\n",
    "    'atlas': {'names':['mjd', 'mag', 'errmag'],'delim_whitespace':False, 'skiprows':1}\n",
    "}"
   ]
  },
  {
   "cell_type": "code",
   "execution_count": 40,
   "metadata": {
    "scrolled": true
   },
   "outputs": [
    {
     "name": "stdout",
     "output_type": "stream",
     "text": [
      "[INFO] Reading: 55.3247.21.dat\n"
     ]
    },
    {
     "data": {
      "image/png": "[encoded data removed]",
      "text/plain": [
       "<Figure size 360x216 with 1 Axes>"
      ]
     },
     "metadata": {
      "needs_background": "light"
     },
     "output_type": "display_data"
    }
   ],
   "source": [
    "sample = meta.sample()['Path'].values[0].split('/')[-1]\n",
    "print(f'[INFO] Reading: {sample}')\n",
    "lc_sample = pd.read_csv(f'{lightcurves_folder}/{sample}', **args[name])\n",
    "plt.figure(figsize=(5,3))\n",
    "plt.plot(lc_sample['mjd'], lc_sample['mag'])\n",
    "plt.xlabel('Time [MJD]')\n",
    "plt.ylabel('Magnitude')\n",
    "plt.show()\n"
   ]
  },
  {
   "cell_type": "markdown",
   "metadata": {},
   "source": [
    "### Creating training partitions from .csv to .record "
   ]
  },
  {
   "cell_type": "code",
   "execution_count": 47,
   "metadata": {},
   "outputs": [],
   "source": [
    "n_folds = 3\n",
    "samples_per_class_test = 100\n",
    "samples_per_class = [20, 50, 100, 500]"
   ]
  },
  {
   "cell_type": "code",
   "execution_count": 48,
   "metadata": {
    "scrolled": true
   },
   "outputs": [
    {
     "name": "stdout",
     "output_type": "stream",
     "text": [
      "(600, 4) (20294, 4)\n",
      "Cep_0    100\n",
      "Cep_1    100\n",
      "EC       100\n",
      "LPV      100\n",
      "RRab     100\n",
      "RRc      100\n",
      "Name: Class, dtype: int64\n",
      "[INFO] Using fixed testing subset\n"
     ]
    },
    {
     "name": "stderr",
     "output_type": "stream",
     "text": [
      "100%|██████████████████████████████████████████████████████████| 6/6 [00:00<00:00, 17.86it/s]\n"
     ]
    },
    {
     "name": "stdout",
     "output_type": "stream",
     "text": [
      "[INFO] Using fixed testing subset\n"
     ]
    },
    {
     "name": "stderr",
     "output_type": "stream",
     "text": [
      "100%|██████████████████████████████████████████████████████████| 6/6 [00:00<00:00,  8.33it/s]\n"
     ]
    },
    {
     "name": "stdout",
     "output_type": "stream",
     "text": [
      "[INFO] Using fixed testing subset\n"
     ]
    },
    {
     "name": "stderr",
     "output_type": "stream",
     "text": [
      "100%|██████████████████████████████████████████████████████████| 6/6 [00:01<00:00,  5.35it/s]\n"
     ]
    },
    {
     "name": "stdout",
     "output_type": "stream",
     "text": [
      "[INFO] Using fixed testing subset\n"
     ]
    },
    {
     "name": "stderr",
     "output_type": "stream",
     "text": [
      "100%|██████████████████████████████████████████████████████████| 6/6 [00:06<00:00,  1.11s/it]\n"
     ]
    },
    {
     "name": "stdout",
     "output_type": "stream",
     "text": [
      "(600, 4) (20294, 4)\n",
      "Cep_0    100\n",
      "Cep_1    100\n",
      "EC       100\n",
      "LPV      100\n",
      "RRab     100\n",
      "RRc      100\n",
      "Name: Class, dtype: int64\n",
      "[INFO] Using fixed testing subset\n"
     ]
    },
    {
     "name": "stderr",
     "output_type": "stream",
     "text": [
      "100%|██████████████████████████████████████████████████████████| 6/6 [00:00<00:00, 13.92it/s]\n"
     ]
    },
    {
     "name": "stdout",
     "output_type": "stream",
     "text": [
      "[INFO] Using fixed testing subset\n"
     ]
    },
    {
     "name": "stderr",
     "output_type": "stream",
     "text": [
      "100%|██████████████████████████████████████████████████████████| 6/6 [00:00<00:00,  6.55it/s]\n"
     ]
    },
    {
     "name": "stdout",
     "output_type": "stream",
     "text": [
      "[INFO] Using fixed testing subset\n"
     ]
    },
    {
     "name": "stderr",
     "output_type": "stream",
     "text": [
      "100%|██████████████████████████████████████████████████████████| 6/6 [00:01<00:00,  3.91it/s]\n"
     ]
    },
    {
     "name": "stdout",
     "output_type": "stream",
     "text": [
      "[INFO] Using fixed testing subset\n"
     ]
    },
    {
     "name": "stderr",
     "output_type": "stream",
     "text": [
      "100%|██████████████████████████████████████████████████████████| 6/6 [00:06<00:00,  1.08s/it]\n"
     ]
    },
    {
     "name": "stdout",
     "output_type": "stream",
     "text": [
      "(600, 4) (20294, 4)\n",
      "Cep_0    100\n",
      "Cep_1    100\n",
      "EC       100\n",
      "LPV      100\n",
      "RRab     100\n",
      "RRc      100\n",
      "Name: Class, dtype: int64\n",
      "[INFO] Using fixed testing subset\n"
     ]
    },
    {
     "name": "stderr",
     "output_type": "stream",
     "text": [
      "100%|██████████████████████████████████████████████████████████| 6/6 [00:00<00:00, 14.48it/s]\n"
     ]
    },
    {
     "name": "stdout",
     "output_type": "stream",
     "text": [
      "[INFO] Using fixed testing subset\n"
     ]
    },
    {
     "name": "stderr",
     "output_type": "stream",
     "text": [
      "100%|██████████████████████████████████████████████████████████| 6/6 [00:00<00:00,  6.67it/s]\n"
     ]
    },
    {
     "name": "stdout",
     "output_type": "stream",
     "text": [
      "[INFO] Using fixed testing subset\n"
     ]
    },
    {
     "name": "stderr",
     "output_type": "stream",
     "text": [
      "100%|██████████████████████████████████████████████████████████| 6/6 [00:01<00:00,  3.96it/s]\n"
     ]
    },
    {
     "name": "stdout",
     "output_type": "stream",
     "text": [
      "[INFO] Using fixed testing subset\n"
     ]
    },
    {
     "name": "stderr",
     "output_type": "stream",
     "text": [
      "100%|██████████████████████████████████████████████████████████| 6/6 [00:06<00:00,  1.09s/it]"
     ]
    },
    {
     "name": "stdout",
     "output_type": "stream",
     "text": [
      "CPU times: user 36.9 s, sys: 1.42 s, total: 38.3 s\n",
      "Wall time: 43.4 s\n"
     ]
    },
    {
     "name": "stderr",
     "output_type": "stream",
     "text": [
      "\n"
     ]
    }
   ],
   "source": [
    "%%time\n",
    "\n",
    "for fold_n in range(n_folds): \n",
    "    test_meta  = pd.concat([frame.sample(n=samples_per_class_test) for g, frame in meta.groupby('Class')])\n",
    "    train_meta = meta[~meta['ID'].isin(test_meta['ID'])]\n",
    "    \n",
    "    print(test_meta.shape, train_meta.shape)\n",
    "    print(test_meta['Class'].value_counts())\n",
    "    \n",
    "    for nsamples in samples_per_class:  \n",
    "        if nsamples == 0:\n",
    "            partial_meta = train_meta\n",
    "            target = f'{fold_to_save_records}/{name}/fold_{fold_n}/{name}'\n",
    "        else:\n",
    "            partial_meta = pd.concat([frame.sample(n=nsamples) for c, frame in train_meta.groupby('Class')])\n",
    "            target = f'{fold_to_save_records}/{name}/fold_{fold_n}/{name}_{nsamples}'\n",
    "\n",
    "        create_dataset(partial_meta, lightcurves_folder, \n",
    "                       target, max_lcs_per_record=20000, \n",
    "                       n_jobs=7, subsets_frac=(0.8, 0.2), \n",
    "                       test_subset=test_meta)"
   ]
  },
  {
   "cell_type": "markdown",
   "metadata": {},
   "source": [
    "## Reading dataset "
   ]
  },
  {
   "cell_type": "code",
   "execution_count": 50,
   "metadata": {},
   "outputs": [
    {
     "data": {
      "text/plain": [
       "'./data/records_new'"
      ]
     },
     "execution_count": 50,
     "metadata": {},
     "output_type": "execute_result"
    }
   ],
   "source": [
    "fold_to_save_records"
   ]
  },
  {
   "cell_type": "code",
   "execution_count": 52,
   "metadata": {
    "scrolled": true
   },
   "outputs": [
    {
     "name": "stdout",
     "output_type": "stream",
     "text": [
      "[INFO] Processing labels\n",
      "[0 1 2 3 4 5]\n",
      "[100 100 100 100 100 100]\n",
      "[INFO] Processing labels\n",
      "[0 1 2 3 4 5]\n",
      "[100 100 100 100 100 100]\n",
      "[INFO] Processing labels\n",
      "[0 1 2 3 4 5]\n",
      "[100 100 100 100 100 100]\n",
      "[INFO] Processing labels\n",
      "[0 1 2 3 4 5]\n",
      "[100 100 100 100 100 100]\n",
      "[INFO] Processing labels\n",
      "[0 1 2 3 4 5]\n",
      "[100 100 100 100 100 100]\n",
      "[INFO] Processing labels\n",
      "[0 1 2 3 4 5]\n",
      "[100 100 100 100 100 100]\n",
      "[INFO] Processing labels\n",
      "[0 1 2 3 4 5]\n",
      "[100 100 100 100 100 100]\n",
      "[INFO] Processing labels\n",
      "[0 1 2 3 4 5]\n",
      "[100 100 100 100 100 100]\n",
      "[INFO] Processing labels\n",
      "[0 1 2 3 4 5]\n",
      "[100 100 100 100 100 100]\n",
      "[INFO] Processing labels\n",
      "[0 1 2 3 4 5]\n",
      "[100 100 100 100 100 100]\n",
      "[INFO] Processing labels\n",
      "[0 1 2 3 4 5]\n",
      "[100 100 100 100 100 100]\n",
      "[INFO] Processing labels\n",
      "[0 1 2 3 4 5]\n",
      "[100 100 100 100 100 100]\n"
     ]
    }
   ],
   "source": [
    "for fold_n in range(3):\n",
    "    for nsamples in samples_per_class:\n",
    "        if nsamples == 0:\n",
    "            target = f'{fold_to_save_records}/{name}/fold_{fold_n}/{name}'\n",
    "        else:\n",
    "            target = f'{fold_to_save_records}/{name}/fold_{fold_n}/{name}_{nsamples}'\n",
    "        \n",
    "        n_classes = pd.read_csv(os.path.join(target, 'objects.csv'))\n",
    "        n_classes = n_classes.shape[0]\n",
    "        dataset = pretraining_records(os.path.join(target, 'test'),\n",
    "                                       batch_size=16,\n",
    "                                       sampling=True,\n",
    "                                       msk_frac=0., rnd_frac=0., same_frac=0., \n",
    "                                       n_classes=n_classes)\n",
    "        labels = np.concatenate([np.argmax(y, 1) for _, y in dataset], 0)\n",
    "        unique, counts = np.unique(labels, return_counts=True)\n",
    "        \n",
    "        print(unique)\n",
    "        print(counts)\n",
    "#         print('-')"
   ]
  },
  {
   "cell_type": "code",
   "execution_count": null,
   "metadata": {},
   "outputs": [],
   "source": []
  }
 ],
 "metadata": {
  "kernelspec": {
   "display_name": "Python 3 (ipykernel)",
   "language": "python",
   "name": "python3"
  },
  "language_info": {
   "codemirror_mode": {
    "name": "ipython",
    "version": 3
   },
   "file_extension": ".py",
   "mimetype": "text/x-python",
   "name": "python",
   "nbconvert_exporter": "python",
   "pygments_lexer": "ipython3",
   "version": "3.8.10"
  }
 },
 "nbformat": 4,
 "nbformat_minor": 4
}
