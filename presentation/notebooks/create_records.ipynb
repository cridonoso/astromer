{
 "cells": [
  {
   "cell_type": "code",
   "execution_count": 33,
   "id": "57baa928",
   "metadata": {},
   "outputs": [
    {
     "name": "stdout",
     "output_type": "stream",
     "text": [
      "/home\n"
     ]
    }
   ],
   "source": [
    "cd /home"
   ]
  },
  {
   "cell_type": "code",
   "execution_count": 34,
   "id": "f5a83f00",
   "metadata": {},
   "outputs": [
    {
     "name": "stdout",
     "output_type": "stream",
     "text": [
      "The autoreload extension is already loaded. To reload it, use:\n",
      "  %reload_ext autoreload\n"
     ]
    }
   ],
   "source": [
    "import matplotlib.pyplot as plt\n",
    "import tensorflow as tf\n",
    "import pandas as pd\n",
    "import numpy as np\n",
    "import os\n",
    "import sys,os\n",
    "\n",
    "os.environ[\"CUDA_VISIBLE_DEVICES\"] = \"-1\"\n",
    "\n",
    "from src.data import pretraining_pipeline, create_dataset\n",
    "\n",
    "%load_ext autoreload\n",
    "%autoreload 2"
   ]
  },
  {
   "cell_type": "code",
   "execution_count": 48,
   "id": "9a1cad2b",
   "metadata": {},
   "outputs": [],
   "source": [
    "name                 = 'atlas'\n",
    "lightcurves_folder   = f'./data/raw_data/{name}/LCs/' # lightcurves folder\n",
    "lightcurves_metadata = f'./data/raw_data/{name}/metadata.csv' # metadata file\n",
    "fold_to_save_records = './data/records_new/'"
   ]
  },
  {
   "cell_type": "code",
   "execution_count": 49,
   "id": "19969c1c",
   "metadata": {},
   "outputs": [
    {
     "name": "stdout",
     "output_type": "stream",
     "text": [
      "(4719921, 6)\n",
      "Dubious    4294188\n",
      "Other       283709\n",
      "CB           80368\n",
      "DB           28895\n",
      "Pulse        25140\n",
      "Mira          7621\n",
      "Name: Class, dtype: int64\n",
      "(4719921, 6)\n"
     ]
    }
   ],
   "source": [
    "meta = pd.read_csv(lightcurves_metadata)\n",
    "# meta = meta[meta['Class'] != 'UNK']\n",
    "# meta = meta[meta['Class'] != 'std']\n",
    "# meta = meta[meta['Class'] != 'Dubious']\n",
    "\n",
    "meta['Band'] = tf.ones(meta.shape[0])\n",
    "meta = meta.rename(columns={'objID':'ID', 'Unnamed: 0':'ID', 'Path_R':'Path'})\n",
    "print(meta.shape)\n",
    "if 'atlas' in name:\n",
    "    meta['Path'] = meta['ID'].astype(str)+'.dat'\n",
    "    \n",
    "print(meta['Class'].value_counts())\n",
    "print(meta.shape)"
   ]
  },
  {
   "cell_type": "markdown",
   "id": "65871e94",
   "metadata": {},
   "source": [
    "## One sample visualization"
   ]
  },
  {
   "cell_type": "code",
   "execution_count": 50,
   "id": "3bfd7df4",
   "metadata": {},
   "outputs": [],
   "source": [
    "args = {\n",
    "    'alcock':{},\n",
    "    'ogle': {'names':['mjd', 'mag', 'errmag'], 'delim_whitespace':True},\n",
    "    'atlas': {'names':['mjd', 'mag', 'errmag'],'delim_whitespace':False, 'skiprows':1}\n",
    "}"
   ]
  },
  {
   "cell_type": "code",
   "execution_count": 51,
   "id": "2594615d",
   "metadata": {},
   "outputs": [
    {
     "name": "stdout",
     "output_type": "stream",
     "text": [
      "[INFO] Reading: 173741917348707866.dat\n"
     ]
    },
    {
     "data": {
      "image/png": "[encoded data removed]",
      "text/plain": [
       "<Figure size 500x300 with 1 Axes>"
      ]
     },
     "metadata": {},
     "output_type": "display_data"
    }
   ],
   "source": [
    "sample = meta.sample()['Path'].values[0].split('/')[-1]\n",
    "print(f'[INFO] Reading: {sample}')\n",
    "lc_sample = pd.read_csv(f'{lightcurves_folder}/{sample}', **args[name])\n",
    "plt.figure(figsize=(5,3))\n",
    "plt.plot(lc_sample['mjd'], lc_sample['mag'])\n",
    "plt.xlabel('Time [MJD]')\n",
    "plt.ylabel('Magnitude')\n",
    "plt.show()"
   ]
  },
  {
   "cell_type": "markdown",
   "id": "b7591d93",
   "metadata": {},
   "source": [
    "## Pretraining data"
   ]
  },
  {
   "cell_type": "code",
   "execution_count": 52,
   "id": "7a0de2e4",
   "metadata": {},
   "outputs": [],
   "source": [
    "target = f'{fold_to_save_records}/{name}_pt'"
   ]
  },
  {
   "cell_type": "code",
   "execution_count": 55,
   "id": "2a8386b0",
   "metadata": {},
   "outputs": [
    {
     "data": {
      "text/plain": [
       "(4719921, 2625165)"
      ]
     },
     "execution_count": 55,
     "metadata": {},
     "output_type": "execute_result"
    }
   ],
   "source": [
    "meta_filtered = meta[meta['N'] > 100]\n",
    "meta.shape[0], meta_filtered.shape[0]"
   ]
  },
  {
   "cell_type": "code",
   "execution_count": 56,
   "id": "4fa3d5cf",
   "metadata": {},
   "outputs": [],
   "source": [
    "meta_filtered = meta_filtered.sample(frac=1)"
   ]
  },
  {
   "cell_type": "code",
   "execution_count": 57,
   "id": "6401ac51",
   "metadata": {},
   "outputs": [
    {
     "name": "stderr",
     "output_type": "stream",
     "text": [
      "100%|█████████████████████████████████████████████████████████| 6/6 [18:32<00:00, 185.44s/it]"
     ]
    },
    {
     "name": "stdout",
     "output_type": "stream",
     "text": [
      "CPU times: user 17min 53s, sys: 21.2 s, total: 18min 14s\n",
      "Wall time: 18min 34s\n"
     ]
    },
    {
     "name": "stderr",
     "output_type": "stream",
     "text": [
      "\n"
     ]
    }
   ],
   "source": [
    "%%time\n",
    "create_dataset(meta_filtered, \n",
    "               lightcurves_folder, \n",
    "               target, \n",
    "               max_lcs_per_record=20000, \n",
    "               n_jobs=16, # depends on the number of cores \n",
    "               subsets_frac=(0.6, 0.2), \n",
    "               **args[name])"
   ]
  },
  {
   "cell_type": "markdown",
   "id": "88680946",
   "metadata": {},
   "source": [
    "### Reading pretraining data"
   ]
  },
  {
   "cell_type": "code",
   "execution_count": 26,
   "id": "087a486d",
   "metadata": {},
   "outputs": [
    {
     "name": "stdout",
     "output_type": "stream",
     "text": [
      "[INFO] Repeating dataset x1 times\n"
     ]
    }
   ],
   "source": [
    "n_classes = None\n",
    "dataset = pretraining_pipeline(os.path.join('./data/records_new/atlas_pt/', 'train'),\n",
    "                               batch_size=2000,\n",
    "                               msk_frac=0., rnd_frac=0., same_frac=0., \n",
    "                               num_cls=n_classes, return_ids=True)"
   ]
  },
  {
   "cell_type": "code",
   "execution_count": 15,
   "id": "98a245c1",
   "metadata": {},
   "outputs": [
    {
     "name": "stdout",
     "output_type": "stream",
     "text": [
      "CPU times: user 8min 9s, sys: 1min 15s, total: 9min 25s\n",
      "Wall time: 19.7 s\n"
     ]
    },
    {
     "data": {
      "text/plain": [
       "263"
      ]
     },
     "execution_count": 15,
     "metadata": {},
     "output_type": "execute_result"
    }
   ],
   "source": [
    "%%time\n",
    "n_batches = sum([1 for x in dataset])\n",
    "n_batches"
   ]
  },
  {
   "cell_type": "code",
   "execution_count": 30,
   "id": "4e33cd29",
   "metadata": {},
   "outputs": [],
   "source": [
    "def get_magnitudes(ds):\n",
    "    magnitudes = []\n",
    "    for x, y in ds:\n",
    "        magnitudes.append(x['input'][x['input'] > 0])\n",
    "    magnitudes = tf.concat(magnitudes, 0)\n",
    "    return magnitudes"
   ]
  },
  {
   "cell_type": "code",
   "execution_count": 31,
   "id": "037c6a37",
   "metadata": {},
   "outputs": [],
   "source": [
    "magn_train = get_magnitudes(dataset)"
   ]
  },
  {
   "cell_type": "code",
   "execution_count": 32,
   "id": "b7d600e1",
   "metadata": {},
   "outputs": [
    {
     "data": {
      "image/png": "[encoded data removed]",
      "text/plain": [
       "<Figure size 640x480 with 1 Axes>"
      ]
     },
     "metadata": {},
     "output_type": "display_data"
    }
   ],
   "source": [
    "plt.figure()\n",
    "plt.hist(magnitudes[:1000], bins=100)\n",
    "plt.hist(magn_train[:1000], bins=100)\n",
    "plt.show()"
   ]
  },
  {
   "cell_type": "markdown",
   "id": "f648ef04",
   "metadata": {},
   "source": [
    "## Creating folds"
   ]
  },
  {
   "cell_type": "code",
   "execution_count": 7,
   "id": "80d55783",
   "metadata": {},
   "outputs": [],
   "source": [
    "n_folds = 3\n",
    "samples_per_class_test = 100\n",
    "samples_per_class = [20, 50, 100, 500]"
   ]
  },
  {
   "cell_type": "code",
   "execution_count": 120,
   "id": "61fff0e5",
   "metadata": {},
   "outputs": [
    {
     "name": "stdout",
     "output_type": "stream",
     "text": [
      "(1000, 5) (357288, 5)\n"
     ]
    },
    {
     "name": "stderr",
     "output_type": "stream",
     "text": [
      "100%|████████████████████████████████████████████████████████| 10/10 [00:00<00:00, 15.09it/s]\n",
      "100%|████████████████████████████████████████████████████████| 10/10 [00:01<00:00,  8.22it/s]\n",
      "100%|████████████████████████████████████████████████████████| 10/10 [00:02<00:00,  4.92it/s]\n",
      "100%|████████████████████████████████████████████████████████| 10/10 [00:07<00:00,  1.28it/s]\n"
     ]
    },
    {
     "name": "stdout",
     "output_type": "stream",
     "text": [
      "(1000, 5) (357288, 5)\n"
     ]
    },
    {
     "name": "stderr",
     "output_type": "stream",
     "text": [
      "100%|████████████████████████████████████████████████████████| 10/10 [00:00<00:00, 16.03it/s]\n",
      "100%|████████████████████████████████████████████████████████| 10/10 [00:01<00:00,  7.60it/s]\n",
      "100%|████████████████████████████████████████████████████████| 10/10 [00:02<00:00,  4.72it/s]\n",
      "100%|████████████████████████████████████████████████████████| 10/10 [00:07<00:00,  1.28it/s]\n"
     ]
    },
    {
     "name": "stdout",
     "output_type": "stream",
     "text": [
      "(1000, 5) (357288, 5)\n"
     ]
    },
    {
     "name": "stderr",
     "output_type": "stream",
     "text": [
      "100%|████████████████████████████████████████████████████████| 10/10 [00:00<00:00, 15.30it/s]\n",
      "100%|████████████████████████████████████████████████████████| 10/10 [00:01<00:00,  8.15it/s]\n",
      "100%|████████████████████████████████████████████████████████| 10/10 [00:02<00:00,  4.73it/s]\n",
      "100%|████████████████████████████████████████████████████████| 10/10 [00:07<00:00,  1.28it/s]"
     ]
    },
    {
     "name": "stdout",
     "output_type": "stream",
     "text": [
      "CPU times: user 53.1 s, sys: 1.28 s, total: 54.4 s\n",
      "Wall time: 57.7 s\n"
     ]
    },
    {
     "name": "stderr",
     "output_type": "stream",
     "text": [
      "\n"
     ]
    }
   ],
   "source": [
    "%%time\n",
    "\n",
    "for fold_n in range(n_folds): \n",
    "    test_meta  = pd.concat([frame.sample(n=samples_per_class_test) for g, frame in meta.groupby('Class')])\n",
    "    train_meta = meta[~meta['ID'].isin(test_meta['ID'])]\n",
    "    print(test_meta.shape, train_meta.shape)\n",
    "        \n",
    "    for nsamples in samples_per_class:  \n",
    "        if nsamples == 0:\n",
    "            partial_meta = train_meta\n",
    "            target = f'{fold_to_save_records}/{name}/fold_{fold_n}/{name}'\n",
    "        else:\n",
    "            partial_meta = pd.concat([frame.sample(n=nsamples) for c, frame in train_meta.groupby('Class')])\n",
    "            target = f'{fold_to_save_records}/{name}/fold_{fold_n}/{name}_{nsamples}'\n",
    "\n",
    "        create_dataset(partial_meta, lightcurves_folder, \n",
    "                       target, max_lcs_per_record=20000, \n",
    "                       n_jobs=7, subsets_frac=(0.8, 0.2), test_subset=test_meta,  \n",
    "                       **args[name])"
   ]
  },
  {
   "cell_type": "markdown",
   "id": "1650129f",
   "metadata": {},
   "source": [
    "# Reading folds"
   ]
  },
  {
   "cell_type": "code",
   "execution_count": 7,
   "id": "3ac5d701",
   "metadata": {
    "scrolled": false
   },
   "outputs": [
    {
     "ename": "NameError",
     "evalue": "name 'samples_per_class' is not defined",
     "output_type": "error",
     "traceback": [
      "\u001b[0;31m---------------------------------------------------------------------------\u001b[0m",
      "\u001b[0;31mNameError\u001b[0m                                 Traceback (most recent call last)",
      "Cell \u001b[0;32mIn [7], line 2\u001b[0m\n\u001b[1;32m      1\u001b[0m \u001b[38;5;28;01mfor\u001b[39;00m fold_n \u001b[38;5;129;01min\u001b[39;00m \u001b[38;5;28mrange\u001b[39m(\u001b[38;5;241m3\u001b[39m):\n\u001b[0;32m----> 2\u001b[0m     \u001b[38;5;28;01mfor\u001b[39;00m nsamples \u001b[38;5;129;01min\u001b[39;00m \u001b[43msamples_per_class\u001b[49m:\n\u001b[1;32m      3\u001b[0m         \u001b[38;5;28;01mif\u001b[39;00m nsamples \u001b[38;5;241m==\u001b[39m \u001b[38;5;241m0\u001b[39m:\n\u001b[1;32m      4\u001b[0m             target \u001b[38;5;241m=\u001b[39m \u001b[38;5;124mf\u001b[39m\u001b[38;5;124m'\u001b[39m\u001b[38;5;132;01m{\u001b[39;00mfold_to_save_records\u001b[38;5;132;01m}\u001b[39;00m\u001b[38;5;124m/\u001b[39m\u001b[38;5;132;01m{\u001b[39;00mname\u001b[38;5;132;01m}\u001b[39;00m\u001b[38;5;124m/fold_\u001b[39m\u001b[38;5;132;01m{\u001b[39;00mfold_n\u001b[38;5;132;01m}\u001b[39;00m\u001b[38;5;124m/\u001b[39m\u001b[38;5;132;01m{\u001b[39;00mname\u001b[38;5;132;01m}\u001b[39;00m\u001b[38;5;124m'\u001b[39m\n",
      "\u001b[0;31mNameError\u001b[0m: name 'samples_per_class' is not defined"
     ]
    }
   ],
   "source": [
    "for fold_n in range(3):\n",
    "    for nsamples in samples_per_class:\n",
    "        if nsamples == 0:\n",
    "            target = f'{fold_to_save_records}/{name}/fold_{fold_n}/{name}'\n",
    "        else:\n",
    "            target = f'{fold_to_save_records}/{name}/fold_{fold_n}/{name}_{nsamples}'\n",
    "        \n",
    "        n_classes_df = pd.read_csv(os.path.join(target, 'objects.csv'))\n",
    "#         print(n_classes)\n",
    "        n_classes = n_classes_df.shape[0]\n",
    "        dataset = pretraining_pipeline(os.path.join(target, 'test'),\n",
    "                                       batch_size=16,\n",
    "                                       msk_frac=0., rnd_frac=0., same_frac=0., \n",
    "                                       shuffle=True,\n",
    "                                       num_cls=n_classes, return_ids=True)\n",
    "        classes_names = list(n_classes_df['label'].values)\n",
    "        for x, y in dataset:\n",
    "            print(x['input'].shape)\n",
    "            plt.plot(x['times'][0], x['input'][0])\n",
    "            plt.title(f'{classes_names[np.argmax(y[0])]}')\n",
    "            break\n",
    "        \n",
    "        \n",
    "        labels = np.concatenate([np.argmax(y, 1) for _, y in dataset], 0)\n",
    "        unique, counts = np.unique(labels, return_counts=True)\n",
    "        \n",
    "        oids = np.concatenate([x['ids'] for x, _ in dataset], 0)\n",
    "        \n",
    "        unique_id, counts_id = np.unique(oids, return_counts=True)\n",
    "#         print(counts_id)\n",
    "        print(unique)\n",
    "        print(counts)\n",
    "        \n",
    "        break\n",
    "    break\n",
    "#         print('-')"
   ]
  },
  {
   "cell_type": "code",
   "execution_count": null,
   "id": "243154c6",
   "metadata": {},
   "outputs": [],
   "source": []
  }
 ],
 "metadata": {
  "kernelspec": {
   "display_name": "Python 3 (ipykernel)",
   "language": "python",
   "name": "python3"
  },
  "language_info": {
   "codemirror_mode": {
    "name": "ipython",
    "version": 3
   },
   "file_extension": ".py",
   "mimetype": "text/x-python",
   "name": "python",
   "nbconvert_exporter": "python",
   "pygments_lexer": "ipython3",
   "version": "3.8.10"
  }
 },
 "nbformat": 4,
 "nbformat_minor": 5
}
