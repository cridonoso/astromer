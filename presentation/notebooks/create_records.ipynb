{
 "cells": [
  {
   "cell_type": "code",
   "execution_count": 147,
   "id": "57baa928",
   "metadata": {},
   "outputs": [
    {
     "name": "stdout",
     "output_type": "stream",
     "text": [
      "/home\n"
     ]
    }
   ],
   "source": [
    "cd /home"
   ]
  },
  {
   "cell_type": "code",
   "execution_count": 148,
   "id": "f5a83f00",
   "metadata": {},
   "outputs": [
    {
     "name": "stdout",
     "output_type": "stream",
     "text": [
      "The autoreload extension is already loaded. To reload it, use:\n",
      "  %reload_ext autoreload\n"
     ]
    }
   ],
   "source": [
    "import matplotlib.pyplot as plt\n",
    "import tensorflow as tf\n",
    "import pandas as pd\n",
    "import numpy as np\n",
    "import os\n",
    "import sys,os\n",
    "\n",
    "os.environ[\"CUDA_VISIBLE_DEVICES\"] = \"-1\"\n",
    "\n",
    "from src.data import pretraining_pipeline, create_dataset\n",
    "\n",
    "%load_ext autoreload\n",
    "%autoreload 2"
   ]
  },
  {
   "cell_type": "code",
   "execution_count": 149,
   "id": "9a1cad2b",
   "metadata": {},
   "outputs": [],
   "source": [
    "name                 = 'atlas'\n",
    "lightcurves_folder   = f'./data/raw_data/{name}/LCs/' # lightcurves folder\n",
    "lightcurves_metadata = f'./data/raw_data/{name}/metadata.csv' # metadata file\n",
    "fold_to_save_records = './data/records_new'"
   ]
  },
  {
   "cell_type": "code",
   "execution_count": 150,
   "id": "19969c1c",
   "metadata": {},
   "outputs": [
    {
     "name": "stdout",
     "output_type": "stream",
     "text": [
      "(4719921, 6)\n",
      "Dubious    4294188\n",
      "Other       283709\n",
      "CB           80368\n",
      "DB           28895\n",
      "Pulse        25140\n",
      "Mira          7621\n",
      "Name: Class, dtype: int64\n"
     ]
    }
   ],
   "source": [
    "meta = pd.read_csv(lightcurves_metadata)\n",
    "# meta = meta[meta['Class'] != 'UNK']\n",
    "# meta = meta[meta['Class'] != 'std']\n",
    "# meta = meta[meta['Class'] != 'Dubious']\n",
    "\n",
    "meta['Band'] = tf.ones(meta.shape[0])\n",
    "meta = meta.rename(columns={'objID':'ID', 'Unnamed: 0':'ID', 'Path_R':'Path'})\n",
    "print(meta.shape)\n",
    "if 'atlas' in name:\n",
    "    meta['Path'] = meta['ID'].astype(str)+'.dat'\n",
    "    \n",
    "print(meta['Class'].value_counts())"
   ]
  },
  {
   "cell_type": "markdown",
   "id": "65871e94",
   "metadata": {},
   "source": [
    "## One sample visualization"
   ]
  },
  {
   "cell_type": "code",
   "execution_count": 151,
   "id": "3bfd7df4",
   "metadata": {},
   "outputs": [],
   "source": [
    "args = {\n",
    "    'alcock':{},\n",
    "    'ogle': {'names':['mjd', 'mag', 'errmag'], 'delim_whitespace':True},\n",
    "    'atlas': {'names':['mjd', 'mag', 'errmag'],'delim_whitespace':False, 'skiprows':1}\n",
    "}"
   ]
  },
  {
   "cell_type": "code",
   "execution_count": 152,
   "id": "2594615d",
   "metadata": {},
   "outputs": [
    {
     "name": "stdout",
     "output_type": "stream",
     "text": [
      "[INFO] Reading: 153873040801307191.dat\n"
     ]
    },
    {
     "data": {
      "image/png": "[encoded data removed]",
      "text/plain": [
       "<Figure size 500x300 with 1 Axes>"
      ]
     },
     "metadata": {},
     "output_type": "display_data"
    }
   ],
   "source": [
    "sample = meta.sample()['Path'].values[0].split('/')[-1]\n",
    "print(f'[INFO] Reading: {sample}')\n",
    "lc_sample = pd.read_csv(f'{lightcurves_folder}/{sample}', **args[name])\n",
    "plt.figure(figsize=(5,3))\n",
    "plt.plot(lc_sample['mjd'], lc_sample['mag'])\n",
    "plt.xlabel('Time [MJD]')\n",
    "plt.ylabel('Magnitude')\n",
    "plt.show()"
   ]
  },
  {
   "cell_type": "markdown",
   "id": "b7591d93",
   "metadata": {},
   "source": [
    "## Pretraining data"
   ]
  },
  {
   "cell_type": "code",
   "execution_count": 153,
   "id": "7a0de2e4",
   "metadata": {},
   "outputs": [],
   "source": [
    "target = f'{fold_to_save_records}/{name}_pt'"
   ]
  },
  {
   "cell_type": "code",
   "execution_count": 156,
   "id": "2a8386b0",
   "metadata": {},
   "outputs": [
    {
     "data": {
      "text/plain": [
       "(4719921, 2625165)"
      ]
     },
     "execution_count": 156,
     "metadata": {},
     "output_type": "execute_result"
    }
   ],
   "source": [
    "meta_filtered = meta[meta['N'] > 100]\n",
    "meta.shape[0], meta_filtered.shape[0]"
   ]
  },
  {
   "cell_type": "code",
   "execution_count": null,
   "id": "6401ac51",
   "metadata": {},
   "outputs": [
    {
     "name": "stderr",
     "output_type": "stream",
     "text": [
      " 33%|███████████████████▎                                      | 2/6 [00:42<01:18, 19.75s/it]"
     ]
    }
   ],
   "source": [
    "%%time\n",
    "create_dataset(meta_filtered, \n",
    "               lightcurves_folder, \n",
    "               target, \n",
    "               max_lcs_per_record=20000, \n",
    "               n_jobs=16, # depends on the number of cores \n",
    "               subsets_frac=(0.6, 0.2), \n",
    "               **args[name])"
   ]
  },
  {
   "cell_type": "markdown",
   "id": "ce21cd85",
   "metadata": {},
   "source": [
    "### Reading pretraining data"
   ]
  },
  {
   "cell_type": "code",
   "execution_count": 145,
   "id": "9b5d8446",
   "metadata": {},
   "outputs": [
    {
     "name": "stdout",
     "output_type": "stream",
     "text": [
      "[INFO] Repeating dataset x1 times\n"
     ]
    }
   ],
   "source": [
    "dataset = pretraining_pipeline(os.path.join('./data/records_new/atlas_pt/', 'test'),\n",
    "                               batch_size=2000,\n",
    "                               msk_frac=0., rnd_frac=0., same_frac=0., \n",
    "                               num_cls=n_classes, return_ids=True)"
   ]
  },
  {
   "cell_type": "code",
   "execution_count": 146,
   "id": "51ed5673",
   "metadata": {},
   "outputs": [
    {
     "name": "stdout",
     "output_type": "stream",
     "text": [
      "CPU times: user 10min 57s, sys: 1min 28s, total: 12min 26s\n",
      "Wall time: 29.9 s\n"
     ]
    },
    {
     "data": {
      "text/plain": [
       "394"
      ]
     },
     "execution_count": 146,
     "metadata": {},
     "output_type": "execute_result"
    }
   ],
   "source": [
    "%%time\n",
    "n_batches = sum([1 for x in dataset])\n",
    "n_batches"
   ]
  },
  {
   "cell_type": "markdown",
   "id": "f648ef04",
   "metadata": {},
   "source": [
    "## Creating folds"
   ]
  },
  {
   "cell_type": "code",
   "execution_count": 130,
   "id": "80d55783",
   "metadata": {},
   "outputs": [],
   "source": [
    "n_folds = 3\n",
    "samples_per_class_test = 100\n",
    "samples_per_class = [20, 50, 100, 500]"
   ]
  },
  {
   "cell_type": "code",
   "execution_count": 120,
   "id": "61fff0e5",
   "metadata": {},
   "outputs": [
    {
     "name": "stdout",
     "output_type": "stream",
     "text": [
      "(1000, 5) (357288, 5)\n"
     ]
    },
    {
     "name": "stderr",
     "output_type": "stream",
     "text": [
      "100%|████████████████████████████████████████████████████████| 10/10 [00:00<00:00, 15.09it/s]\n",
      "100%|████████████████████████████████████████████████████████| 10/10 [00:01<00:00,  8.22it/s]\n",
      "100%|████████████████████████████████████████████████████████| 10/10 [00:02<00:00,  4.92it/s]\n",
      "100%|████████████████████████████████████████████████████████| 10/10 [00:07<00:00,  1.28it/s]\n"
     ]
    },
    {
     "name": "stdout",
     "output_type": "stream",
     "text": [
      "(1000, 5) (357288, 5)\n"
     ]
    },
    {
     "name": "stderr",
     "output_type": "stream",
     "text": [
      "100%|████████████████████████████████████████████████████████| 10/10 [00:00<00:00, 16.03it/s]\n",
      "100%|████████████████████████████████████████████████████████| 10/10 [00:01<00:00,  7.60it/s]\n",
      "100%|████████████████████████████████████████████████████████| 10/10 [00:02<00:00,  4.72it/s]\n",
      "100%|████████████████████████████████████████████████████████| 10/10 [00:07<00:00,  1.28it/s]\n"
     ]
    },
    {
     "name": "stdout",
     "output_type": "stream",
     "text": [
      "(1000, 5) (357288, 5)\n"
     ]
    },
    {
     "name": "stderr",
     "output_type": "stream",
     "text": [
      "100%|████████████████████████████████████████████████████████| 10/10 [00:00<00:00, 15.30it/s]\n",
      "100%|████████████████████████████████████████████████████████| 10/10 [00:01<00:00,  8.15it/s]\n",
      "100%|████████████████████████████████████████████████████████| 10/10 [00:02<00:00,  4.73it/s]\n",
      "100%|████████████████████████████████████████████████████████| 10/10 [00:07<00:00,  1.28it/s]"
     ]
    },
    {
     "name": "stdout",
     "output_type": "stream",
     "text": [
      "CPU times: user 53.1 s, sys: 1.28 s, total: 54.4 s\n",
      "Wall time: 57.7 s\n"
     ]
    },
    {
     "name": "stderr",
     "output_type": "stream",
     "text": [
      "\n"
     ]
    }
   ],
   "source": [
    "%%time\n",
    "\n",
    "for fold_n in range(n_folds): \n",
    "    test_meta  = pd.concat([frame.sample(n=samples_per_class_test) for g, frame in meta.groupby('Class')])\n",
    "    train_meta = meta[~meta['ID'].isin(test_meta['ID'])]\n",
    "    print(test_meta.shape, train_meta.shape)\n",
    "        \n",
    "    for nsamples in samples_per_class:  \n",
    "        if nsamples == 0:\n",
    "            partial_meta = train_meta\n",
    "            target = f'{fold_to_save_records}/{name}/fold_{fold_n}/{name}'\n",
    "        else:\n",
    "            partial_meta = pd.concat([frame.sample(n=nsamples) for c, frame in train_meta.groupby('Class')])\n",
    "            target = f'{fold_to_save_records}/{name}/fold_{fold_n}/{name}_{nsamples}'\n",
    "\n",
    "        create_dataset(partial_meta, lightcurves_folder, \n",
    "                       target, max_lcs_per_record=20000, \n",
    "                       n_jobs=7, subsets_frac=(0.8, 0.2), test_subset=test_meta,  \n",
    "                       **args[name])"
   ]
  },
  {
   "cell_type": "markdown",
   "id": "1650129f",
   "metadata": {},
   "source": [
    "# Reading folds"
   ]
  },
  {
   "cell_type": "code",
   "execution_count": 121,
   "id": "3ac5d701",
   "metadata": {
    "scrolled": false
   },
   "outputs": [
    {
     "name": "stdout",
     "output_type": "stream",
     "text": [
      "[INFO] Repeating dataset x1 times\n",
      "[0 1 2 3 4 5 6 7 8 9]\n",
      "[100 100 100 100 100 100 100 100 100 100]\n",
      "[INFO] Repeating dataset x1 times\n",
      "[0 1 2 3 4 5 6 7 8 9]\n",
      "[100 100 100 100 100 100 100 100 100 100]\n",
      "[INFO] Repeating dataset x1 times\n",
      "[0 1 2 3 4 5 6 7 8 9]\n",
      "[100 100 100 100 100 100 100 100 100 100]\n",
      "[INFO] Repeating dataset x1 times\n",
      "[0 1 2 3 4 5 6 7 8 9]\n",
      "[100 100 100 100 100 100 100 100 100 100]\n",
      "[INFO] Repeating dataset x1 times\n",
      "[0 1 2 3 4 5 6 7 8 9]\n",
      "[100 100 100 100 100 100 100 100 100 100]\n",
      "[INFO] Repeating dataset x1 times\n",
      "[0 1 2 3 4 5 6 7 8 9]\n",
      "[100 100 100 100 100 100 100 100 100 100]\n",
      "[INFO] Repeating dataset x1 times\n",
      "[0 1 2 3 4 5 6 7 8 9]\n",
      "[100 100 100 100 100 100 100 100 100 100]\n",
      "[INFO] Repeating dataset x1 times\n",
      "[0 1 2 3 4 5 6 7 8 9]\n",
      "[100 100 100 100 100 100 100 100 100 100]\n",
      "[INFO] Repeating dataset x1 times\n",
      "[0 1 2 3 4 5 6 7 8 9]\n",
      "[100 100 100 100 100 100 100 100 100 100]\n",
      "[INFO] Repeating dataset x1 times\n",
      "[0 1 2 3 4 5 6 7 8 9]\n",
      "[100 100 100 100 100 100 100 100 100 100]\n",
      "[INFO] Repeating dataset x1 times\n",
      "[0 1 2 3 4 5 6 7 8 9]\n",
      "[100 100 100 100 100 100 100 100 100 100]\n",
      "[INFO] Repeating dataset x1 times\n",
      "[0 1 2 3 4 5 6 7 8 9]\n",
      "[100 100 100 100 100 100 100 100 100 100]\n"
     ]
    }
   ],
   "source": [
    "for fold_n in range(3):\n",
    "    for nsamples in samples_per_class:\n",
    "        if nsamples == 0:\n",
    "            partial_meta = train_meta\n",
    "            target = f'{fold_to_save_records}/{name}/fold_{fold_n}/{name}'\n",
    "        else:\n",
    "            partial_meta = pd.concat([frame.sample(n=nsamples) for c, frame in train_meta.groupby('Class')])\n",
    "            target = f'{fold_to_save_records}/{name}/fold_{fold_n}/{name}_{nsamples}'\n",
    "        \n",
    "        n_classes = pd.read_csv(os.path.join(target, 'objects.csv'))\n",
    "#         print(n_classes)\n",
    "        n_classes = n_classes.shape[0]\n",
    "        dataset = pretraining_pipeline(os.path.join(target, 'test'),\n",
    "                                       batch_size=16,\n",
    "                                       msk_frac=0., rnd_frac=0., same_frac=0., \n",
    "                                        \n",
    "                                       num_cls=n_classes, return_ids=True)\n",
    "        labels = np.concatenate([np.argmax(y, 1) for _, y in dataset], 0)\n",
    "        unique, counts = np.unique(labels, return_counts=True)\n",
    "        \n",
    "        oids = np.concatenate([x['ids'] for x, _ in dataset], 0)\n",
    "        \n",
    "        unique_id, counts_id = np.unique(oids, return_counts=True)\n",
    "#         print(counts_id)\n",
    "        print(unique)\n",
    "        print(counts)\n",
    "#         print('-')"
   ]
  },
  {
   "cell_type": "code",
   "execution_count": null,
   "id": "243154c6",
   "metadata": {},
   "outputs": [],
   "source": []
  }
 ],
 "metadata": {
  "kernelspec": {
   "display_name": "Python 3 (ipykernel)",
   "language": "python",
   "name": "python3"
  },
  "language_info": {
   "codemirror_mode": {
    "name": "ipython",
    "version": 3
   },
   "file_extension": ".py",
   "mimetype": "text/x-python",
   "name": "python",
   "nbconvert_exporter": "python",
   "pygments_lexer": "ipython3",
   "version": "3.8.10"
  }
 },
 "nbformat": 4,
 "nbformat_minor": 5
}
