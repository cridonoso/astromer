{
 "cells": [
  {
   "cell_type": "markdown",
   "metadata": {},
   "source": [
    "# Tutorial: Creating TF Records\n",
    "\n",
    "Last updated: 09-sep-2021 by\n",
    "Cristobal Donoso"
   ]
  },
  {
   "cell_type": "code",
   "execution_count": 1,
   "metadata": {},
   "outputs": [
    {
     "name": "stdout",
     "output_type": "stream",
     "text": [
      "/home/users/cdonoso/astromer/ASTROMER\n"
     ]
    }
   ],
   "source": [
    "cd ../.."
   ]
  },
  {
   "cell_type": "code",
   "execution_count": 24,
   "metadata": {},
   "outputs": [
    {
     "name": "stdout",
     "output_type": "stream",
     "text": [
      "The autoreload extension is already loaded. To reload it, use:\n",
      "  %reload_ext autoreload\n"
     ]
    }
   ],
   "source": [
    "import matplotlib.pyplot as plt\n",
    "import tensorflow as tf\n",
    "import pandas as pd\n",
    "import os\n",
    "import sys,os\n",
    "\n",
    "os.environ[\"CUDA_VISIBLE_DEVICES\"] = \"-1\"\n",
    "\n",
    "from core.data  import (load_dataset, create_dataset,\n",
    "                        pretraining_pipeline)\n",
    "\n",
    "# This tutorial runs only in early mode. For the optimized code use train.py\n",
    "# OTHERWISE you can comment the next ljupyine and reset the kernel before the finetuning\n",
    "tf.config.run_functions_eagerly(False)\n",
    "\n",
    "%load_ext autoreload\n",
    "%autoreload 2"
   ]
  },
  {
   "cell_type": "code",
   "execution_count": 18,
   "metadata": {},
   "outputs": [],
   "source": [
    "source = './data/raw_data/atlas/new_LCs/' # lightcurves folder\n",
    "metadata = './data/raw_data/atlas/new_meta.csv' # metadata file\n",
    "name = 'atlas_var'"
   ]
  },
  {
   "cell_type": "markdown",
   "metadata": {},
   "source": [
    "### Metadata frame sample"
   ]
  },
  {
   "cell_type": "code",
   "execution_count": 4,
   "metadata": {},
   "outputs": [
    {
     "name": "stdout",
     "output_type": "stream",
     "text": [
      "(4726993, 8)\n",
      "(4726993, 8)\n"
     ]
    },
    {
     "name": "stderr",
     "output_type": "stream",
     "text": [
      "2022-03-14 16:31:47.037260: E tensorflow/stream_executor/cuda/cuda_driver.cc:271] failed call to cuInit: CUDA_ERROR_NO_DEVICE: no CUDA-capable device is detected\n",
      "2022-03-14 16:31:47.037296: I tensorflow/stream_executor/cuda/cuda_diagnostics.cc:169] retrieving CUDA diagnostic information for host: pececillo\n",
      "2022-03-14 16:31:47.037301: I tensorflow/stream_executor/cuda/cuda_diagnostics.cc:176] hostname: pececillo\n",
      "2022-03-14 16:31:47.037386: I tensorflow/stream_executor/cuda/cuda_diagnostics.cc:200] libcuda reported version is: 470.82.0\n",
      "2022-03-14 16:31:47.037403: I tensorflow/stream_executor/cuda/cuda_diagnostics.cc:204] kernel reported version is: 470.82.0\n",
      "2022-03-14 16:31:47.037408: I tensorflow/stream_executor/cuda/cuda_diagnostics.cc:310] kernel version seems to match DSO: 470.82.0\n",
      "2022-03-14 16:31:47.038219: I tensorflow/core/platform/cpu_feature_guard.cc:142] This TensorFlow binary is optimized with oneAPI Deep Neural Network Library (oneDNN) to use the following CPU instructions in performance-critical operations:  AVX2 FMA\n",
      "To enable them in other operations, rebuild TensorFlow with the appropriate compiler flags.\n"
     ]
    }
   ],
   "source": [
    "meta = pd.read_csv(metadata)\n",
    "print(meta.shape)\n",
    "# meta = meta[meta['Class'] != 'UNK']\n",
    "# meta = meta[meta['Class'] != 'std']\n",
    "# meta = meta[meta['Class'] != 'Dubious']\n",
    "# meta = meta[meta['N'] >= 20]\n",
    "meta['Band'] = tf.ones(meta.shape[0])\n",
    "meta = meta.rename(columns={'objID':'ID', 'Unnamed: 0':'ID', 'Path_R':'Path'})\n",
    "print(meta.shape)\n",
    "if 'atlas' in name:\n",
    "    meta['Path'] = meta['ID'].astype(str)+'.dat'"
   ]
  },
  {
   "cell_type": "code",
   "execution_count": 5,
   "metadata": {},
   "outputs": [],
   "source": [
    "# counter = 0\n",
    "# for i in range(1, 11):\n",
    "#     sub = meta[meta['N']<=i]\n",
    "#     plt.bar(i, sub.shape[0])\n",
    "#     counter += sub.shape[0]\n",
    "#     if i == 10:\n",
    "#         plt.bar(i, meta.shape[0])\n",
    "#         plt.text(i-3,meta.shape[0]+10e5, 'Total: {}'.format(meta.shape[0]))\n",
    "#         plt.text(i-3, counter+10e3, '{} $\\leq 9$'.format(counter))\n",
    "#         plt.axhline(y=counter, color='r', linestyle='--', linewidth=1)\n",
    "# plt.yscale('log')\n",
    "# plt.ylim(0, 10e6)\n",
    "# plt.ylabel('Num. observations')\n",
    "# plt.title('ATLAS light curves length distribution')\n",
    "# plt.xticks(range(1, 11), list(range(1, 10))+[r'$\\geq 10$'])\n",
    "# plt.show()"
   ]
  },
  {
   "cell_type": "code",
   "execution_count": 8,
   "metadata": {},
   "outputs": [],
   "source": [
    "# plt.bar(0, meta[meta['Skewness'].abs()>1].shape[0])\n",
    "# plt.text(-0.1, meta[meta['Skewness'].abs()>1].shape[0]+1e5, '{}'.format(meta[meta['Std']>0.1].shape[0]))\n",
    "# plt.bar(0.9, meta[meta['Skewness'].abs()<=1].shape[0])\n",
    "# plt.text(0.8, meta[meta['Skewness'].abs()<=1].shape[0]+1e5, '{}'.format(meta[meta['Std']<=0.1].shape[0]))\n",
    "# plt.ylim(0, 5e6)\n",
    "# plt.xticks([0, 1], ['$>1$', '$\\leq 1$'])\n",
    "# plt.title('ATLAS light curves Skewness distribution')\n",
    "# meta[meta['Skewness'].abs()>=1].shape[0]/meta.shape[0]"
   ]
  },
  {
   "cell_type": "code",
   "execution_count": 9,
   "metadata": {},
   "outputs": [],
   "source": [
    "change_labels = {'LPV WoodA':'LPV',\n",
    "                 'LPV WoodB':'LPV', \n",
    "                 'LPV WoodC':'LPV', \n",
    "                 'LPV WoodD':'LPV'}\n",
    "meta['Class'] = meta['Class'].replace(change_labels)"
   ]
  },
  {
   "cell_type": "code",
   "execution_count": 10,
   "metadata": {},
   "outputs": [
    {
     "data": {
      "text/plain": [
       "UNK    4726993\n",
       "Name: Class, dtype: int64"
      ]
     },
     "execution_count": 10,
     "metadata": {},
     "output_type": "execute_result"
    }
   ],
   "source": [
    "meta['Class'].value_counts()"
   ]
  },
  {
   "cell_type": "code",
   "execution_count": 11,
   "metadata": {},
   "outputs": [],
   "source": [
    "meta_v2 = meta[meta['Std']>0.1]\n",
    "meta_v2 = meta_v2[meta_v2['Skewness'].abs()>1]\n",
    "meta_v2 = meta_v2[meta_v2['Kurtosis']>10]\n",
    "meta_v2 = meta_v2[meta_v2['N']>20]"
   ]
  },
  {
   "cell_type": "code",
   "execution_count": 13,
   "metadata": {},
   "outputs": [
    {
     "data": {
      "text/plain": [
       "(0.04189788307281183, 198051)"
      ]
     },
     "execution_count": 13,
     "metadata": {},
     "output_type": "execute_result"
    }
   ],
   "source": [
    "meta_v2.shape[0]/meta.shape[0], meta_v2.shape[0]"
   ]
  },
  {
   "cell_type": "markdown",
   "metadata": {},
   "source": [
    "### Lightcurve frame sample"
   ]
  },
  {
   "cell_type": "code",
   "execution_count": 14,
   "metadata": {
    "scrolled": true
   },
   "outputs": [
    {
     "data": {
      "text/html": [
       "<div>\n",
       "<style scoped>\n",
       "    .dataframe tbody tr th:only-of-type {\n",
       "        vertical-align: middle;\n",
       "    }\n",
       "\n",
       "    .dataframe tbody tr th {\n",
       "        vertical-align: top;\n",
       "    }\n",
       "\n",
       "    .dataframe thead th {\n",
       "        text-align: right;\n",
       "    }\n",
       "</style>\n",
       "<table border=\"1\" class=\"dataframe\">\n",
       "  <thead>\n",
       "    <tr style=\"text-align: right;\">\n",
       "      <th></th>\n",
       "      <th>Time</th>\n",
       "      <th>Mag</th>\n",
       "      <th>Mag_err</th>\n",
       "    </tr>\n",
       "  </thead>\n",
       "  <tbody>\n",
       "    <tr>\n",
       "      <th>0</th>\n",
       "      <td>57321.58691</td>\n",
       "      <td>14.210</td>\n",
       "      <td>0.061</td>\n",
       "    </tr>\n",
       "    <tr>\n",
       "      <th>1</th>\n",
       "      <td>57321.61622</td>\n",
       "      <td>14.163</td>\n",
       "      <td>0.055</td>\n",
       "    </tr>\n",
       "    <tr>\n",
       "      <th>2</th>\n",
       "      <td>57321.64523</td>\n",
       "      <td>14.174</td>\n",
       "      <td>0.058</td>\n",
       "    </tr>\n",
       "    <tr>\n",
       "      <th>3</th>\n",
       "      <td>57368.52966</td>\n",
       "      <td>14.356</td>\n",
       "      <td>0.051</td>\n",
       "    </tr>\n",
       "    <tr>\n",
       "      <th>4</th>\n",
       "      <td>57368.55819</td>\n",
       "      <td>14.331</td>\n",
       "      <td>0.049</td>\n",
       "    </tr>\n",
       "  </tbody>\n",
       "</table>\n",
       "</div>"
      ],
      "text/plain": [
       "          Time     Mag  Mag_err\n",
       "0  57321.58691  14.210    0.061\n",
       "1  57321.61622  14.163    0.055\n",
       "2  57321.64523  14.174    0.058\n",
       "3  57368.52966  14.356    0.051\n",
       "4  57368.55819  14.331    0.049"
      ]
     },
     "execution_count": 14,
     "metadata": {},
     "output_type": "execute_result"
    }
   ],
   "source": [
    "lc_df = pd.read_csv(os.path.join(source,  \n",
    "                                 meta['Path'].sample(1).values[0].split('/')[-1]), \n",
    "                    )\n",
    "lc_df.head()"
   ]
  },
  {
   "cell_type": "markdown",
   "metadata": {},
   "source": [
    "### Creating training partitions from .csv to .record "
   ]
  },
  {
   "cell_type": "code",
   "execution_count": 16,
   "metadata": {},
   "outputs": [
    {
     "data": {
      "text/plain": [
       "(198051, 8)"
      ]
     },
     "execution_count": 16,
     "metadata": {},
     "output_type": "execute_result"
    }
   ],
   "source": [
    "meta_v2.shape"
   ]
  },
  {
   "cell_type": "code",
   "execution_count": 13,
   "metadata": {
    "scrolled": true
   },
   "outputs": [
    {
     "name": "stdout",
     "output_type": "stream",
     "text": [
      "(1000, 5) (357288, 5)\n"
     ]
    },
    {
     "name": "stderr",
     "output_type": "stream",
     "text": [
      "100%|█████████████████████████████████████████████████████████████████████████████████████████████████████████████████████████████████████████████████████████████████████████████| 10/10 [06:39<00:00, 39.94s/it]\n"
     ]
    },
    {
     "name": "stdout",
     "output_type": "stream",
     "text": [
      "(1000, 5) (357288, 5)\n"
     ]
    },
    {
     "name": "stderr",
     "output_type": "stream",
     "text": [
      "100%|█████████████████████████████████████████████████████████████████████████████████████████████████████████████████████████████████████████████████████████████████████████████| 10/10 [06:37<00:00, 39.75s/it]\n"
     ]
    },
    {
     "name": "stdout",
     "output_type": "stream",
     "text": [
      "(1000, 5) (357288, 5)\n"
     ]
    },
    {
     "name": "stderr",
     "output_type": "stream",
     "text": [
      "100%|█████████████████████████████████████████████████████████████████████████████████████████████████████████████████████████████████████████████████████████████████████████████| 10/10 [06:37<00:00, 39.78s/it]"
     ]
    },
    {
     "name": "stdout",
     "output_type": "stream",
     "text": [
      "CPU times: user 16min 54s, sys: 20.2 s, total: 17min 15s\n",
      "Wall time: 19min 55s\n"
     ]
    },
    {
     "name": "stderr",
     "output_type": "stream",
     "text": [
      "\n"
     ]
    }
   ],
   "source": [
    "%%time\n",
    "\n",
    "for fold_n in range(3): \n",
    "    test_meta  = pd.concat([frame.sample(n=100) for g, frame in meta.groupby('Class')])\n",
    "    train_meta = meta[~meta['ID'].isin(test_meta['ID'])]\n",
    "    print(test_meta.shape, train_meta.shape)\n",
    "        \n",
    "    for nsamples in [0]:  \n",
    "        if nsamples == 0:\n",
    "            partial_meta = train_meta\n",
    "            target = './data/records/{}/fold_{}/{}'.format(name, fold_n, name)\n",
    "        else:\n",
    "            partial_meta = pd.concat([frame.sample(n=nsamples) for c, frame in train_meta.groupby('Class')])\n",
    "            target = './data/records/{}/fold_{}/{}_{}'.format(name, fold_n, name, nsamples)\n",
    "\n",
    "        create_dataset(partial_meta, source, target, max_lcs_per_record=20000, \n",
    "                       n_jobs=7, subsets_frac=(0.8, 0.2), test_subset=test_meta,  \n",
    "                       names=['mjd', 'mag', 'errmag'],\n",
    "                       delim_whitespace=True)"
   ]
  },
  {
   "cell_type": "markdown",
   "metadata": {},
   "source": [
    "### JUST ONE DATASET"
   ]
  },
  {
   "cell_type": "code",
   "execution_count": 21,
   "metadata": {},
   "outputs": [
    {
     "data": {
      "text/plain": [
       "'atlas_var'"
      ]
     },
     "execution_count": 21,
     "metadata": {},
     "output_type": "execute_result"
    }
   ],
   "source": [
    "name"
   ]
  },
  {
   "cell_type": "code",
   "execution_count": 26,
   "metadata": {},
   "outputs": [
    {
     "name": "stderr",
     "output_type": "stream",
     "text": [
      "100%|███████████████████████████████████████████████████████████████████████████████████████████████████████████████████████████████████████████████████████| 1/1 [46:05<00:00, 2765.67s/it]\n"
     ]
    }
   ],
   "source": [
    "for fold_n in range(1):\n",
    "    target = './data/records/{}/fold_{}/{}'.format(name, fold_n, name)\n",
    "    \n",
    "    test_meta  = meta.sample(frac=0.2)\n",
    "    train_meta = meta[~meta['ID'].isin(test_meta['ID'])]\n",
    "\n",
    "    create_dataset(train_meta, source, target, max_lcs_per_record=20000, \n",
    "                   n_jobs=7, subsets_frac=(0.8, 0.2), \n",
    "                   test_subset=test_meta)"
   ]
  },
  {
   "cell_type": "code",
   "execution_count": 20,
   "metadata": {},
   "outputs": [],
   "source": [
    "# root = './data/records/new_ogle/'\n",
    "# for fold_n in range(3):\n",
    "#     fold_f = os.path.join(root, 'fold_{}'.format(fold_n))\n",
    "#     for source in os.listdir(fold_f):\n",
    "#         target = source.replace('new_', '')\n",
    "#         os.rename(os.path.join(fold_f, source), os.path.join(fold_f, target))"
   ]
  },
  {
   "cell_type": "code",
   "execution_count": null,
   "metadata": {},
   "outputs": [],
   "source": []
  }
 ],
 "metadata": {
  "kernelspec": {
   "display_name": "Python 3 (ipykernel)",
   "language": "python",
   "name": "python3"
  },
  "language_info": {
   "codemirror_mode": {
    "name": "ipython",
    "version": 3
   },
   "file_extension": ".py",
   "mimetype": "text/x-python",
   "name": "python",
   "nbconvert_exporter": "python",
   "pygments_lexer": "ipython3",
   "version": "3.8.0"
  }
 },
 "nbformat": 4,
 "nbformat_minor": 4
}
