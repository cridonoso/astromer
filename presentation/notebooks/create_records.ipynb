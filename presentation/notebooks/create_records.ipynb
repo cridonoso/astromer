{
 "cells": [
  {
   "cell_type": "markdown",
   "metadata": {},
   "source": [
    "# Tutorial: Creating TF Records\n",
    "\n",
    "Last updated: 07-Oct-2021 by\n",
    "Cristobal Donoso"
   ]
  },
  {
   "cell_type": "code",
   "execution_count": 1,
   "metadata": {},
   "outputs": [
    {
     "name": "stdout",
     "output_type": "stream",
     "text": [
      "/tf/astromer\n"
     ]
    }
   ],
   "source": [
    "cd /tf/astromer"
   ]
  },
  {
   "cell_type": "code",
   "execution_count": 2,
   "metadata": {},
   "outputs": [],
   "source": [
    "import matplotlib.pyplot as plt\n",
    "import tensorflow as tf\n",
    "import pandas as pd\n",
    "import dask.dataframe as dd\n",
    "import os\n",
    "\n",
    "from core.masking import get_padding_mask\n",
    "from core.astromer import get_ASTROMER, train\n",
    "from core.data  import create_records, split_and_create_records\n",
    "\n",
    "# This tutorial runs only in early mode. For the optimized code use train.py\n",
    "# OTHERWISE you can comment the next ljupyine and reset the kernel before the finetuning\n",
    "tf.config.run_functions_eagerly(False)\n",
    "\n",
    "%load_ext autoreload\n",
    "%autoreload 2"
   ]
  },
  {
   "cell_type": "code",
   "execution_count": 6,
   "metadata": {},
   "outputs": [],
   "source": [
    "name = 'ogle'\n",
    "photshards = './data/raw_data/{}/phot/'.format(name) # Photometry shards folder\n",
    "metadata   = './data/raw_data/{}/{}_dataset.csv'.format(name, name) # Metadata file\n",
    "target     = './data/records/{}/'.format(name) # where records will be stored"
   ]
  },
  {
   "cell_type": "markdown",
   "metadata": {},
   "source": [
    "### Metadata frame sample"
   ]
  },
  {
   "cell_type": "code",
   "execution_count": 7,
   "metadata": {},
   "outputs": [
    {
     "data": {
      "text/plain": [
       "(ED       2800\n",
       " std      2800\n",
       " RRc      2800\n",
       " ESD      2800\n",
       " cep      2800\n",
       " SRV      2800\n",
       " dsct     2800\n",
       " EC       2800\n",
       " Mira     2800\n",
       " RRab     2800\n",
       " OSARG    2800\n",
       " Name: class, dtype: int64,\n",
       " (30800, 4))"
      ]
     },
     "execution_count": 7,
     "metadata": {},
     "output_type": "execute_result"
    }
   ],
   "source": [
    "meta = pd.read_csv(metadata)\n",
    "meta = meta[meta['class']!='UNK'] # we remove unknown objects\n",
    "meta = meta[meta['nobs']>=20]\n",
    "meta = pd.concat([group.sample(n=2800) for _, group in meta.groupby('class')], 0)\n",
    "meta['class'].value_counts(), meta.shape"
   ]
  },
  {
   "cell_type": "code",
   "execution_count": null,
   "metadata": {},
   "outputs": [],
   "source": []
  },
  {
   "cell_type": "markdown",
   "metadata": {},
   "source": [
    "### Training, validation and testing split"
   ]
  },
  {
   "cell_type": "markdown",
   "metadata": {},
   "source": [
    "We take 100 samples per class for the testing dataset. The rest is used for training and validation. In case you already have a testing set, it can be upload in order to only change the training samples. "
   ]
  },
  {
   "cell_type": "code",
   "execution_count": 8,
   "metadata": {},
   "outputs": [],
   "source": [
    "# test_saved = pd.read_csv('./data/records/asas/test_objs.csv')"
   ]
  },
  {
   "cell_type": "code",
   "execution_count": 9,
   "metadata": {},
   "outputs": [],
   "source": [
    "training_oids = []\n",
    "testing_oids  = []\n",
    "valids_oids   = []\n",
    "for cls, subframe in meta.groupby('class'):\n",
    "    subframe = subframe.sample(frac=1) # Shuffling\n",
    "\n",
    "    train = subframe.sample(frac=0.5)\n",
    "    \n",
    "    rest  = subframe[~subframe['oid'].isin(train['oid'])]\n",
    "    test  = rest.sample(frac=0.5)\n",
    "    valid = rest[~rest['oid'].isin(test['oid'])]\n",
    "    \n",
    "    training_oids.append(train)\n",
    "    valids_oids.append(valid)\n",
    "    testing_oids.append(test)\n",
    "    \n",
    "train_meta = pd.concat(training_oids)\n",
    "valid_meta = pd.concat(valids_oids)\n",
    "test_meta  = pd.concat(testing_oids)"
   ]
  },
  {
   "cell_type": "code",
   "execution_count": 10,
   "metadata": {},
   "outputs": [
    {
     "name": "stdout",
     "output_type": "stream",
     "text": [
      "15400\n",
      "7700\n",
      "7700\n",
      "30800\n"
     ]
    }
   ],
   "source": [
    "print(train_meta.shape[0])\n",
    "print(valid_meta.shape[0])\n",
    "print(test_meta.shape[0])\n",
    "print(meta.shape[0])"
   ]
  },
  {
   "cell_type": "markdown",
   "metadata": {},
   "source": [
    "we can save the subframes to recover oids later"
   ]
  },
  {
   "cell_type": "code",
   "execution_count": 11,
   "metadata": {},
   "outputs": [],
   "source": [
    "os.makedirs(target, exist_ok=True)\n",
    "train_meta.to_csv(os.path.join(target, 'train_objs.csv'), index=False)\n",
    "valid_meta.to_csv(os.path.join(target, 'val_objs.csv'), index=False)\n",
    "test_meta.to_csv(os.path.join(target, 'test_objs.csv'), index=False)"
   ]
  },
  {
   "cell_type": "markdown",
   "metadata": {},
   "source": [
    "### Saving Records"
   ]
  },
  {
   "cell_type": "markdown",
   "metadata": {},
   "source": [
    "Creating Records requires tables with `['oid', 'mjd', 'mag', 'std', 'band']` columns stored as `.csv` files. Also you can split your entire dataset in shards to optimize reading."
   ]
  },
  {
   "cell_type": "code",
   "execution_count": 12,
   "metadata": {},
   "outputs": [],
   "source": [
    "from multiprocessing import cpu_count"
   ]
  },
  {
   "cell_type": "code",
   "execution_count": 13,
   "metadata": {},
   "outputs": [
    {
     "name": "stdout",
     "output_type": "stream",
     "text": [
      "CPU times: user 2min 45s, sys: 12.7 s, total: 2min 58s\n",
      "Wall time: 55.2 s\n"
     ]
    }
   ],
   "source": [
    "%%time\n",
    "# Load photometries shards using DASK (THIS COULD TAKE A LOT OF MEMORY DEPENDING ON YOUR DATASET!!!)\n",
    "observations = dd.read_csv(os.path.join(photshards,'*.csv')) \n",
    "observations = observations[observations['oid'].isin(meta['oid'])].compute()"
   ]
  },
  {
   "cell_type": "code",
   "execution_count": null,
   "metadata": {
    "scrolled": true
   },
   "outputs": [
    {
     "name": "stdout",
     "output_type": "stream",
     "text": [
      "[INFO] Processing EC class...\n",
      "[INFO] Cooking windows\n",
      "[INFO] Writting records\n",
      "[INFO] Processing ED class...\n",
      "[INFO] Cooking windows\n",
      "[INFO] Writting records\n",
      "[INFO] Processing ESD class...\n",
      "[INFO] Cooking windows\n",
      "[INFO] Writting records\n",
      "[INFO] Processing Mira class...\n",
      "[INFO] Cooking windows\n",
      "[INFO] Writting records\n",
      "[INFO] Processing OSARG class...\n"
     ]
    }
   ],
   "source": [
    "%%time\n",
    "split_and_create_records(observations, train_meta, dest='{}/train'.format(target), njobs=cpu_count())"
   ]
  },
  {
   "cell_type": "code",
   "execution_count": null,
   "metadata": {
    "scrolled": true
   },
   "outputs": [],
   "source": [
    "%%time\n",
    "split_and_create_records(observations, valid_meta, dest='{}/val'.format(target), njobs=cpu_count())"
   ]
  },
  {
   "cell_type": "code",
   "execution_count": null,
   "metadata": {},
   "outputs": [],
   "source": [
    "%%time\n",
    "split_and_create_records(observations, test_meta, dest='{}/test'.format(target), njobs=cpu_count())"
   ]
  },
  {
   "cell_type": "code",
   "execution_count": null,
   "metadata": {},
   "outputs": [],
   "source": []
  },
  {
   "cell_type": "markdown",
   "metadata": {},
   "source": [
    "# Loading Data"
   ]
  },
  {
   "cell_type": "code",
   "execution_count": 31,
   "metadata": {},
   "outputs": [
    {
     "name": "stdout",
     "output_type": "stream",
     "text": [
      "/tf/astromer\n"
     ]
    }
   ],
   "source": [
    "cd /tf/astromer"
   ]
  },
  {
   "cell_type": "code",
   "execution_count": 32,
   "metadata": {},
   "outputs": [
    {
     "name": "stdout",
     "output_type": "stream",
     "text": [
      "The autoreload extension is already loaded. To reload it, use:\n",
      "  %reload_ext autoreload\n"
     ]
    }
   ],
   "source": [
    "from core.data import load_records, load_records_v3\n",
    "import os\n",
    "import tensorflow as tf\n",
    "%load_ext autoreload\n",
    "%autoreload 2"
   ]
  },
  {
   "cell_type": "markdown",
   "metadata": {},
   "source": [
    "### Loading data for pretraining and finetuning"
   ]
  },
  {
   "cell_type": "code",
   "execution_count": 33,
   "metadata": {},
   "outputs": [],
   "source": [
    "batch_size = 10\n",
    "max_obs = 200"
   ]
  },
  {
   "cell_type": "code",
   "execution_count": 43,
   "metadata": {},
   "outputs": [
    {
     "name": "stdout",
     "output_type": "stream",
     "text": [
      "Training Mode\n",
      "Training Mode\n"
     ]
    }
   ],
   "source": [
    "train_batches = load_records('./data/records/asas/train',\n",
    "                             batch_size,\n",
    "                             max_obs=max_obs,\n",
    "                             is_train=True)\n",
    "val_batches = load_records('./data/records/asas/val',\n",
    "                             batch_size,\n",
    "                             max_obs=max_obs,\n",
    "                             is_train=True)"
   ]
  },
  {
   "cell_type": "code",
   "execution_count": 45,
   "metadata": {},
   "outputs": [
    {
     "name": "stdout",
     "output_type": "stream",
     "text": [
      "Train: 4426\n",
      "Val: 2223\n"
     ]
    }
   ],
   "source": [
    "print('Train: {}\\nVal: {}'.format(tf.reduce_sum([x['input'].shape[0] for x in train_batches]).numpy(),\n",
    "      tf.reduce_sum([x['input'].shape[0] for x in val_batches]).numpy()))"
   ]
  },
  {
   "cell_type": "code",
   "execution_count": null,
   "metadata": {},
   "outputs": [],
   "source": []
  },
  {
   "cell_type": "code",
   "execution_count": 37,
   "metadata": {},
   "outputs": [
    {
     "name": "stdout",
     "output_type": "stream",
     "text": [
      "Testing mode\n",
      "test:  2219\n"
     ]
    }
   ],
   "source": [
    "test_batches = load_records_v3('./data/records/asas/test', \n",
    "                               batch_size, \n",
    "                               max_obs=max_obs,\n",
    "                               is_train=False)\n",
    "print('test: ', tf.reduce_sum([x['input'].shape[0] for x, _ in test_batches]).numpy())"
   ]
  },
  {
   "cell_type": "markdown",
   "metadata": {},
   "source": [
    "### Loading data for classification"
   ]
  },
  {
   "cell_type": "code",
   "execution_count": 40,
   "metadata": {},
   "outputs": [
    {
     "name": "stdout",
     "output_type": "stream",
     "text": [
      "Training mode\n"
     ]
    }
   ],
   "source": [
    "train_batches = load_records_v3('./data/records/asas/train',\n",
    "                              batch_size,\n",
    "                              max_obs=200,\n",
    "                              is_train=True)"
   ]
  },
  {
   "cell_type": "code",
   "execution_count": 42,
   "metadata": {},
   "outputs": [
    {
     "name": "stdout",
     "output_type": "stream",
     "text": [
      "tf.Tensor(154024.0, shape=(), dtype=float32)\n"
     ]
    }
   ],
   "source": [
    "masked_values = tf.reduce_sum([tf.reduce_sum(batch['mask_in']) for batch, _ in train_batches])\n",
    "print(masked_values)"
   ]
  },
  {
   "cell_type": "markdown",
   "metadata": {},
   "source": [
    "zero value for short light-curves is ok. It means no magnitude was masked."
   ]
  },
  {
   "cell_type": "code",
   "execution_count": null,
   "metadata": {},
   "outputs": [],
   "source": []
  },
  {
   "cell_type": "code",
   "execution_count": null,
   "metadata": {},
   "outputs": [],
   "source": []
  }
 ],
 "metadata": {
  "kernelspec": {
   "display_name": "Python 3",
   "language": "python",
   "name": "python3"
  },
  "language_info": {
   "codemirror_mode": {
    "name": "ipython",
    "version": 3
   },
   "file_extension": ".py",
   "mimetype": "text/x-python",
   "name": "python",
   "nbconvert_exporter": "python",
   "pygments_lexer": "ipython3",
   "version": "3.6.9"
  }
 },
 "nbformat": 4,
 "nbformat_minor": 4
}
