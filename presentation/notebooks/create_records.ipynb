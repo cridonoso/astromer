{
 "cells": [
  {
   "cell_type": "code",
   "execution_count": 1,
   "id": "57baa928",
   "metadata": {},
   "outputs": [
    {
     "name": "stdout",
     "output_type": "stream",
     "text": [
      "/home/users/cdonoso/anshika/astromer\n"
     ]
    }
   ],
   "source": [
    "cd ../.."
   ]
  },
  {
   "cell_type": "code",
   "execution_count": 2,
   "id": "f5a83f00",
   "metadata": {},
   "outputs": [],
   "source": [
    "import matplotlib.pyplot as plt\n",
    "import tensorflow as tf\n",
    "import pandas as pd\n",
    "import numpy as np\n",
    "import os\n",
    "import sys,os\n",
    "\n",
    "os.environ[\"CUDA_VISIBLE_DEVICES\"] = \"-1\"\n",
    "\n",
    "from src.data import pretraining_pipeline, create_dataset\n",
    "\n",
    "%load_ext autoreload\n",
    "%autoreload 2"
   ]
  },
  {
   "cell_type": "code",
   "execution_count": 3,
   "id": "9a1cad2b",
   "metadata": {},
   "outputs": [],
   "source": [
    "name                 = 'ztfg'\n",
    "lightcurves_folder   = f'./data/raw_data/{name}/LCs/' # lightcurves folder\n",
    "lightcurves_metadata = f'./data/raw_data/{name}/metadata.csv' # metadata file\n",
    "fold_to_save_records = './data/records/'"
   ]
  },
  {
   "cell_type": "code",
   "execution_count": 5,
   "id": "e7cc279e",
   "metadata": {},
   "outputs": [
    {
     "name": "stdout",
     "output_type": "stream",
     "text": [
      "CPU times: user 5.4 s, sys: 359 ms, total: 5.76 s\n",
      "Wall time: 5.76 s\n"
     ]
    }
   ],
   "source": [
    "%%time\n",
    "meta = pd.read_csv(lightcurves_metadata)"
   ]
  },
  {
   "cell_type": "code",
   "execution_count": 40,
   "id": "4c395bd1",
   "metadata": {},
   "outputs": [
    {
     "data": {
      "text/html": [
       "<div>\n",
       "<style scoped>\n",
       "    .dataframe tbody tr th:only-of-type {\n",
       "        vertical-align: middle;\n",
       "    }\n",
       "\n",
       "    .dataframe tbody tr th {\n",
       "        vertical-align: top;\n",
       "    }\n",
       "\n",
       "    .dataframe thead th {\n",
       "        text-align: right;\n",
       "    }\n",
       "</style>\n",
       "<table border=\"1\" class=\"dataframe\">\n",
       "  <thead>\n",
       "    <tr style=\"text-align: right;\">\n",
       "      <th></th>\n",
       "      <th>ID</th>\n",
       "      <th>N</th>\n",
       "      <th>Std_g</th>\n",
       "      <th>Skewness_g</th>\n",
       "      <th>Kurtosis_g</th>\n",
       "      <th>eta_e_g</th>\n",
       "      <th>cadence_g</th>\n",
       "      <th>FluxPercentile_g</th>\n",
       "      <th>Path</th>\n",
       "      <th>Band</th>\n",
       "      <th>Class</th>\n",
       "    </tr>\n",
       "  </thead>\n",
       "  <tbody>\n",
       "    <tr>\n",
       "      <th>0</th>\n",
       "      <td>350112100000000</td>\n",
       "      <td>63</td>\n",
       "      <td>0.252657</td>\n",
       "      <td>-0.595437</td>\n",
       "      <td>1.249473</td>\n",
       "      <td>0.469394</td>\n",
       "      <td>18.543756</td>\n",
       "      <td>0.036768</td>\n",
       "      <td>/home/AdditionalSpace2/Databases/ZTF/DR10/LCs/...</td>\n",
       "      <td>1.0</td>\n",
       "      <td>UNK</td>\n",
       "    </tr>\n",
       "    <tr>\n",
       "      <th>2</th>\n",
       "      <td>350112100000004</td>\n",
       "      <td>69</td>\n",
       "      <td>0.130841</td>\n",
       "      <td>-0.224364</td>\n",
       "      <td>0.898845</td>\n",
       "      <td>2.969642</td>\n",
       "      <td>10.671661</td>\n",
       "      <td>0.021187</td>\n",
       "      <td>/home/AdditionalSpace2/Databases/ZTF/DR10/LCs/...</td>\n",
       "      <td>1.0</td>\n",
       "      <td>UNK</td>\n",
       "    </tr>\n",
       "    <tr>\n",
       "      <th>4</th>\n",
       "      <td>350112100000006</td>\n",
       "      <td>41</td>\n",
       "      <td>0.220955</td>\n",
       "      <td>-0.055654</td>\n",
       "      <td>-0.662197</td>\n",
       "      <td>1.641803</td>\n",
       "      <td>29.547062</td>\n",
       "      <td>0.030162</td>\n",
       "      <td>/home/AdditionalSpace2/Databases/ZTF/DR10/LCs/...</td>\n",
       "      <td>1.0</td>\n",
       "      <td>UNK</td>\n",
       "    </tr>\n",
       "    <tr>\n",
       "      <th>5</th>\n",
       "      <td>350112100000007</td>\n",
       "      <td>22</td>\n",
       "      <td>0.644202</td>\n",
       "      <td>-2.956395</td>\n",
       "      <td>9.948386</td>\n",
       "      <td>0.234716</td>\n",
       "      <td>56.136309</td>\n",
       "      <td>0.062250</td>\n",
       "      <td>/home/AdditionalSpace2/Databases/ZTF/DR10/LCs/...</td>\n",
       "      <td>1.0</td>\n",
       "      <td>UNK</td>\n",
       "    </tr>\n",
       "    <tr>\n",
       "      <th>6</th>\n",
       "      <td>350112100000008</td>\n",
       "      <td>190</td>\n",
       "      <td>0.136506</td>\n",
       "      <td>-0.913373</td>\n",
       "      <td>2.359099</td>\n",
       "      <td>1.496204</td>\n",
       "      <td>6.278854</td>\n",
       "      <td>0.021298</td>\n",
       "      <td>/home/AdditionalSpace2/Databases/ZTF/DR10/LCs/...</td>\n",
       "      <td>1.0</td>\n",
       "      <td>UNK</td>\n",
       "    </tr>\n",
       "  </tbody>\n",
       "</table>\n",
       "</div>"
      ],
      "text/plain": [
       "                ID    N     Std_g  Skewness_g  Kurtosis_g   eta_e_g  \\\n",
       "0  350112100000000   63  0.252657   -0.595437    1.249473  0.469394   \n",
       "2  350112100000004   69  0.130841   -0.224364    0.898845  2.969642   \n",
       "4  350112100000006   41  0.220955   -0.055654   -0.662197  1.641803   \n",
       "5  350112100000007   22  0.644202   -2.956395    9.948386  0.234716   \n",
       "6  350112100000008  190  0.136506   -0.913373    2.359099  1.496204   \n",
       "\n",
       "   cadence_g  FluxPercentile_g  \\\n",
       "0  18.543756          0.036768   \n",
       "2  10.671661          0.021187   \n",
       "4  29.547062          0.030162   \n",
       "5  56.136309          0.062250   \n",
       "6   6.278854          0.021298   \n",
       "\n",
       "                                                Path  Band Class  \n",
       "0  /home/AdditionalSpace2/Databases/ZTF/DR10/LCs/...   1.0   UNK  \n",
       "2  /home/AdditionalSpace2/Databases/ZTF/DR10/LCs/...   1.0   UNK  \n",
       "4  /home/AdditionalSpace2/Databases/ZTF/DR10/LCs/...   1.0   UNK  \n",
       "5  /home/AdditionalSpace2/Databases/ZTF/DR10/LCs/...   1.0   UNK  \n",
       "6  /home/AdditionalSpace2/Databases/ZTF/DR10/LCs/...   1.0   UNK  "
      ]
     },
     "execution_count": 40,
     "metadata": {},
     "output_type": "execute_result"
    }
   ],
   "source": [
    "b = meta.Std_g>0.1 #basic filtering by std\n",
    "metadata_filtered = meta[b] #creating filtered version of metadata that is much smaller\n",
    "metadata_filtered = metadata_filtered.assign(Band=lambda x: tf.ones(metadata_filtered.shape[0]))\n",
    "metadata_filtered = metadata_filtered.assign(Class=lambda x: ['UNK']*(metadata_filtered.shape[0]))\n",
    "metadata_filtered = metadata_filtered.rename(columns={'objID':'ID', 'Unnamed: 0':'ID', \n",
    "                                                      'Path_R':'Path', 'Path_g':'Path', 'N_g':'N'})\n",
    "metadata_filtered.head()"
   ]
  },
  {
   "cell_type": "code",
   "execution_count": 41,
   "id": "19969c1c",
   "metadata": {},
   "outputs": [
    {
     "name": "stderr",
     "output_type": "stream",
     "text": [
      "2023-04-19 22:53:39.392200: E tensorflow/stream_executor/cuda/cuda_driver.cc:271] failed call to cuInit: CUDA_ERROR_NO_DEVICE: no CUDA-capable device is detected\n",
      "2023-04-19 22:53:39.392238: I tensorflow/stream_executor/cuda/cuda_diagnostics.cc:169] retrieving CUDA diagnostic information for host: f24a753cc649\n",
      "2023-04-19 22:53:39.392244: I tensorflow/stream_executor/cuda/cuda_diagnostics.cc:176] hostname: f24a753cc649\n",
      "2023-04-19 22:53:39.392331: I tensorflow/stream_executor/cuda/cuda_diagnostics.cc:200] libcuda reported version is: 460.32.3\n",
      "2023-04-19 22:53:39.392347: I tensorflow/stream_executor/cuda/cuda_diagnostics.cc:204] kernel reported version is: 460.32.3\n",
      "2023-04-19 22:53:39.392352: I tensorflow/stream_executor/cuda/cuda_diagnostics.cc:310] kernel version seems to match DSO: 460.32.3\n",
      "2023-04-19 22:53:39.392624: I tensorflow/core/platform/cpu_feature_guard.cc:151] This TensorFlow binary is optimized with oneAPI Deep Neural Network Library (oneDNN) to use the following CPU instructions in performance-critical operations:  AVX2 FMA\n",
      "To enable them in other operations, rebuild TensorFlow with the appropriate compiler flags.\n"
     ]
    },
    {
     "name": "stdout",
     "output_type": "stream",
     "text": [
      "UNK    2313131\n",
      "Name: Class, dtype: int64\n",
      "(2313131, 11)\n"
     ]
    }
   ],
   "source": [
    "if 'atlas' in name:\n",
    "    metadata_filtered['Path'] = metadata_filtered['ID'].astype(str)+'.dat'\n",
    "    \n",
    "print(metadata_filtered['Class'].value_counts())\n",
    "print(metadata_filtered.shape)"
   ]
  },
  {
   "cell_type": "markdown",
   "id": "65871e94",
   "metadata": {},
   "source": [
    "## One sample visualization"
   ]
  },
  {
   "cell_type": "code",
   "execution_count": 42,
   "id": "3bfd7df4",
   "metadata": {},
   "outputs": [],
   "source": [
    "args = {\n",
    "    'alcock':{},\n",
    "    'ogle': {'names':['mjd', 'mag', 'errmag'], 'delim_whitespace':True},\n",
    "    'atlas': {'names':['mjd', 'mag', 'errmag'],'delim_whitespace':False, 'skiprows':1},\n",
    "    'ztfg':{},\n",
    "}"
   ]
  },
  {
   "cell_type": "code",
   "execution_count": 43,
   "id": "2594615d",
   "metadata": {},
   "outputs": [
    {
     "name": "stdout",
     "output_type": "stream",
     "text": [
      "[INFO] Reading: 334106100046961.dat\n"
     ]
    },
    {
     "data": {
      "image/png": "[encoded data removed]",
      "text/plain": [
       "<Figure size 360x216 with 1 Axes>"
      ]
     },
     "metadata": {
      "needs_background": "light"
     },
     "output_type": "display_data"
    }
   ],
   "source": [
    "sample = metadata_filtered.sample()['Path'].values[0].split('/')[-1]\n",
    "print(f'[INFO] Reading: {sample}')\n",
    "lc_sample = pd.read_csv(f'{lightcurves_folder}/{sample}', **args[name])\n",
    "lc_sample.columns = ['mjd', 'mag', 'errmag']\n",
    "plt.figure(figsize=(5,3))\n",
    "plt.plot(lc_sample.iloc[:, 0], lc_sample.iloc[:, 1])\n",
    "plt.xlabel('Time [MJD]')\n",
    "plt.ylabel('Magnitud|e')\n",
    "plt.show()"
   ]
  },
  {
   "cell_type": "code",
   "execution_count": 23,
   "id": "de23b35e",
   "metadata": {},
   "outputs": [
    {
     "data": {
      "text/plain": [
       "<matplotlib.legend.Legend at 0x7fb94f7c5be0>"
      ]
     },
     "execution_count": 23,
     "metadata": {},
     "output_type": "execute_result"
    },
    {
     "data": {
      "image/png": "[encoded data removed]",
      "text/plain": [
       "<Figure size 600x200 with 1 Axes>"
      ]
     },
     "metadata": {},
     "output_type": "display_data"
    }
   ],
   "source": [
    "lc_new = lc_sample[(lc_sample['mag']>=lc_sample['mag'].quantile(.1)) &\n",
    "                   (lc_sample['mag']<=lc_sample['mag'].quantile(.99)) &\n",
    "                   (lc_sample['errmag']>=0.) & (lc_sample['errmag']<=1)]\n",
    "\n",
    "plt.figure(figsize=(6, 2))\n",
    "plt.plot(lc_sample['mjd'], lc_sample['mag'], color='black', alpha=0.5, label='Original')\n",
    "plt.plot(lc_new['mjd'], lc_new['mag'], color='red', label='Clean')\n",
    "plt.legend()"
   ]
  },
  {
   "cell_type": "markdown",
   "id": "b7591d93",
   "metadata": {},
   "source": [
    "## Pretraining data"
   ]
  },
  {
   "cell_type": "code",
   "execution_count": 44,
   "id": "7a0de2e4",
   "metadata": {},
   "outputs": [
    {
     "data": {
      "text/plain": [
       "'./data/records//ztfg_pt'"
      ]
     },
     "execution_count": 44,
     "metadata": {},
     "output_type": "execute_result"
    }
   ],
   "source": [
    "target = f'{fold_to_save_records}/{name}_pt'\n",
    "target"
   ]
  },
  {
   "cell_type": "code",
   "execution_count": 46,
   "id": "2a8386b0",
   "metadata": {},
   "outputs": [
    {
     "data": {
      "text/plain": [
       "(2313131, 2313131)"
      ]
     },
     "execution_count": 46,
     "metadata": {},
     "output_type": "execute_result"
    }
   ],
   "source": [
    "meta_filtered = metadata_filtered[metadata_filtered['N'] > 1]\n",
    "metadata_filtered.shape[0], meta_filtered.shape[0]"
   ]
  },
  {
   "cell_type": "code",
   "execution_count": 47,
   "id": "4fa3d5cf",
   "metadata": {},
   "outputs": [],
   "source": [
    "meta_filtered = meta_filtered.sample(frac=1)\n",
    "\n",
    "meta_test = pd.read_csv(f'./data/raw_data/{name}/test_meta.csv') # metadata file"
   ]
  },
  {
   "cell_type": "code",
   "execution_count": 48,
   "id": "6401ac51",
   "metadata": {},
   "outputs": [
    {
     "name": "stderr",
     "output_type": "stream",
     "text": [
      "100%|████████████████████████████████████████████████████████████████████████████████████████████████████████████████████████████████████| 1/1 [19:28<00:00, 1168.10s/it]"
     ]
    },
    {
     "name": "stdout",
     "output_type": "stream",
     "text": [
      "CPU times: user 19min 11s, sys: 18.4 s, total: 19min 29s\n",
      "Wall time: 19min 29s\n"
     ]
    },
    {
     "name": "stderr",
     "output_type": "stream",
     "text": [
      "\n"
     ]
    }
   ],
   "source": [
    "%%time\n",
    "create_dataset(meta_filtered, \n",
    "               lightcurves_folder, \n",
    "               target, \n",
    "               max_lcs_per_record=20000, \n",
    "               n_jobs=32, # depends on the number of cores \n",
    "               subsets_frac=(0.6, 0.2), \n",
    "               **args[name])"
   ]
  },
  {
   "cell_type": "markdown",
   "id": "88680946",
   "metadata": {},
   "source": [
    "### Reading pretraining data"
   ]
  },
  {
   "cell_type": "code",
   "execution_count": 20,
   "id": "087a486d",
   "metadata": {},
   "outputs": [
    {
     "name": "stdout",
     "output_type": "stream",
     "text": [
      "[INFO] Repeating dataset x1 times\n",
      "[INFO] Sampling random windows\n"
     ]
    }
   ],
   "source": [
    "n_classes = None\n",
    "dataset = pretraining_pipeline(os.path.join('./data/records_new/macho_pt/', 'train'),\n",
    "                               batch_size=2000, sampling=True, repeat=1,\n",
    "                               msk_frac=0., rnd_frac=0., same_frac=0., \n",
    "                               num_cls=n_classes, return_ids=True)"
   ]
  },
  {
   "cell_type": "code",
   "execution_count": 22,
   "id": "36353198",
   "metadata": {},
   "outputs": [
    {
     "name": "stdout",
     "output_type": "stream",
     "text": [
      "(2000, 200, 1)\n"
     ]
    }
   ],
   "source": [
    "for x, y in dataset:\n",
    "    \n",
    "    print(x['input'].shape)\n",
    "    \n",
    "    break"
   ]
  },
  {
   "cell_type": "code",
   "execution_count": 16,
   "id": "98a245c1",
   "metadata": {},
   "outputs": [
    {
     "name": "stdout",
     "output_type": "stream",
     "text": [
      "CPU times: user 12min 39s, sys: 2min 21s, total: 15min\n",
      "Wall time: 4min 12s\n"
     ]
    },
    {
     "data": {
      "text/plain": [
       "582"
      ]
     },
     "execution_count": 16,
     "metadata": {},
     "output_type": "execute_result"
    }
   ],
   "source": [
    "%%time\n",
    "n_batches = sum([1 for x in dataset])\n",
    "n_batches"
   ]
  },
  {
   "cell_type": "code",
   "execution_count": null,
   "id": "9f5c1d03",
   "metadata": {},
   "outputs": [],
   "source": []
  },
  {
   "cell_type": "code",
   "execution_count": 30,
   "id": "4e33cd29",
   "metadata": {},
   "outputs": [],
   "source": [
    "def get_magnitudes(ds):\n",
    "    magnitudes = []\n",
    "    for x, y in ds:\n",
    "        magnitudes.append(x['input'][x['input'] > 0])\n",
    "    magnitudes = tf.concat(magnitudes, 0)\n",
    "    return magnitudes"
   ]
  },
  {
   "cell_type": "code",
   "execution_count": 31,
   "id": "037c6a37",
   "metadata": {},
   "outputs": [],
   "source": [
    "magn_train = get_magnitudes(dataset)"
   ]
  },
  {
   "cell_type": "code",
   "execution_count": 32,
   "id": "b7d600e1",
   "metadata": {},
   "outputs": [
    {
     "data": {
      "image/png": "[encoded data removed]",
      "text/plain": [
       "<Figure size 640x480 with 1 Axes>"
      ]
     },
     "metadata": {},
     "output_type": "display_data"
    }
   ],
   "source": [
    "plt.figure()\n",
    "plt.hist(magnitudes[:1000], bins=100)\n",
    "plt.hist(magn_train[:1000], bins=100)\n",
    "plt.show()"
   ]
  },
  {
   "cell_type": "markdown",
   "id": "f648ef04",
   "metadata": {},
   "source": [
    "## Creating folds"
   ]
  },
  {
   "cell_type": "code",
   "execution_count": 6,
   "id": "80d55783",
   "metadata": {},
   "outputs": [],
   "source": [
    "n_folds = 3\n",
    "samples_per_class_test = 100\n",
    "samples_per_class = [20, 50, 100, 500]"
   ]
  },
  {
   "cell_type": "code",
   "execution_count": 120,
   "id": "61fff0e5",
   "metadata": {},
   "outputs": [
    {
     "name": "stdout",
     "output_type": "stream",
     "text": [
      "(1000, 5) (357288, 5)\n"
     ]
    },
    {
     "name": "stderr",
     "output_type": "stream",
     "text": [
      "100%|████████████████████████████████████████████████████████| 10/10 [00:00<00:00, 15.09it/s]\n",
      "100%|████████████████████████████████████████████████████████| 10/10 [00:01<00:00,  8.22it/s]\n",
      "100%|████████████████████████████████████████████████████████| 10/10 [00:02<00:00,  4.92it/s]\n",
      "100%|████████████████████████████████████████████████████████| 10/10 [00:07<00:00,  1.28it/s]\n"
     ]
    },
    {
     "name": "stdout",
     "output_type": "stream",
     "text": [
      "(1000, 5) (357288, 5)\n"
     ]
    },
    {
     "name": "stderr",
     "output_type": "stream",
     "text": [
      "100%|████████████████████████████████████████████████████████| 10/10 [00:00<00:00, 16.03it/s]\n",
      "100%|████████████████████████████████████████████████████████| 10/10 [00:01<00:00,  7.60it/s]\n",
      "100%|████████████████████████████████████████████████████████| 10/10 [00:02<00:00,  4.72it/s]\n",
      "100%|████████████████████████████████████████████████████████| 10/10 [00:07<00:00,  1.28it/s]\n"
     ]
    },
    {
     "name": "stdout",
     "output_type": "stream",
     "text": [
      "(1000, 5) (357288, 5)\n"
     ]
    },
    {
     "name": "stderr",
     "output_type": "stream",
     "text": [
      "100%|████████████████████████████████████████████████████████| 10/10 [00:00<00:00, 15.30it/s]\n",
      "100%|████████████████████████████████████████████████████████| 10/10 [00:01<00:00,  8.15it/s]\n",
      "100%|████████████████████████████████████████████████████████| 10/10 [00:02<00:00,  4.73it/s]\n",
      "100%|████████████████████████████████████████████████████████| 10/10 [00:07<00:00,  1.28it/s]"
     ]
    },
    {
     "name": "stdout",
     "output_type": "stream",
     "text": [
      "CPU times: user 53.1 s, sys: 1.28 s, total: 54.4 s\n",
      "Wall time: 57.7 s\n"
     ]
    },
    {
     "name": "stderr",
     "output_type": "stream",
     "text": [
      "\n"
     ]
    }
   ],
   "source": [
    "%%time\n",
    "\n",
    "for fold_n in range(n_folds): \n",
    "    test_meta  = pd.concat([frame.sample(n=samples_per_class_test) for g, frame in meta.groupby('Class')])\n",
    "    train_meta = meta[~meta['ID'].isin(test_meta['ID'])]\n",
    "    print(test_meta.shape, train_meta.shape)\n",
    "        \n",
    "    for nsamples in samples_per_class:  \n",
    "        if nsamples == 0:\n",
    "            partial_meta = train_meta\n",
    "            target = f'{fold_to_save_records}/{name}/fold_{fold_n}/{name}'\n",
    "        else:\n",
    "            partial_meta = pd.concat([frame.sample(n=nsamples) for c, frame in train_meta.groupby('Class')])\n",
    "            target = f'{fold_to_save_records}/{name}/fold_{fold_n}/{name}_{nsamples}'\n",
    "\n",
    "        create_dataset(partial_meta, lightcurves_folder, \n",
    "                       target, max_lcs_per_record=20000, \n",
    "                       n_jobs=7, subsets_frac=(0.8, 0.2), test_subset=test_meta,  \n",
    "                       **args[name])"
   ]
  },
  {
   "cell_type": "markdown",
   "id": "1650129f",
   "metadata": {},
   "source": [
    "# Reading folds"
   ]
  },
  {
   "cell_type": "code",
   "execution_count": 10,
   "id": "3ac5d701",
   "metadata": {
    "scrolled": false
   },
   "outputs": [
    {
     "name": "stdout",
     "output_type": "stream",
     "text": [
      "[INFO] Repeating dataset x1 times\n",
      "(16, 200, 1)\n",
      "[0 1 2 3 4]\n",
      "[100 100 100 100 100]\n"
     ]
    },
    {
     "data": {
      "image/png": "[encoded data removed]",
      "text/plain": [
       "<Figure size 640x480 with 1 Axes>"
      ]
     },
     "metadata": {},
     "output_type": "display_data"
    }
   ],
   "source": [
    "for fold_n in range(3):\n",
    "    for nsamples in samples_per_class:\n",
    "        if nsamples == 0:\n",
    "            target = f'{fold_to_save_records}/{name}/fold_{fold_n}/{name}'\n",
    "        else:\n",
    "            target = f'{fold_to_save_records}/{name}/fold_{fold_n}/{name}_{nsamples}'\n",
    "        \n",
    "        n_classes_df = pd.read_csv(os.path.join(target, 'objects.csv'))\n",
    "#         print(n_classes)\n",
    "        n_classes = n_classes_df.shape[0]\n",
    "        dataset = pretraining_pipeline(os.path.join(target, 'test'),\n",
    "                                       window_size=200,\n",
    "                                       batch_size=16,\n",
    "                                       msk_frac=0., rnd_frac=0., same_frac=0., \n",
    "                                       shuffle=True,\n",
    "                                       num_cls=n_classes, return_ids=True)\n",
    "        classes_names = list(n_classes_df['label'].values)\n",
    "        for x, y in dataset:\n",
    "            print(x['input'].shape)\n",
    "#             plt.plot(x['times'][0], x['input'][0])\n",
    "            plt.acorr(x['input'][0][:, 0])\n",
    "            plt.title(f'{classes_names[np.argmax(y[0])]}')\n",
    "            break\n",
    "        \n",
    "        \n",
    "        labels = np.concatenate([np.argmax(y, 1) for _, y in dataset], 0)\n",
    "        unique, counts = np.unique(labels, return_counts=True)\n",
    "        \n",
    "        oids = np.concatenate([x['ids'] for x, _ in dataset], 0)\n",
    "        \n",
    "        unique_id, counts_id = np.unique(oids, return_counts=True)\n",
    "#         print(counts_id)\n",
    "        print(unique)\n",
    "        print(counts)\n",
    "        \n",
    "        break\n",
    "    break\n",
    "#         print('-')"
   ]
  },
  {
   "cell_type": "code",
   "execution_count": null,
   "id": "243154c6",
   "metadata": {},
   "outputs": [],
   "source": []
  }
 ],
 "metadata": {
  "kernelspec": {
   "display_name": "Python 3 (ipykernel)",
   "language": "python",
   "name": "python3"
  },
  "language_info": {
   "codemirror_mode": {
    "name": "ipython",
    "version": 3
   },
   "file_extension": ".py",
   "mimetype": "text/x-python",
   "name": "python",
   "nbconvert_exporter": "python",
   "pygments_lexer": "ipython3",
   "version": "3.9.12"
  }
 },
 "nbformat": 4,
 "nbformat_minor": 5
}
