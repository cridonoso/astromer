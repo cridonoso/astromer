{
 "cells": [
  {
   "cell_type": "code",
   "execution_count": 1,
   "id": "57baa928",
   "metadata": {},
   "outputs": [
    {
     "name": "stdout",
     "output_type": "stream",
     "text": [
      "/home/users/cdonoso/anshika/astromer\n"
     ]
    }
   ],
   "source": [
    "cd ../.."
   ]
  },
  {
   "cell_type": "code",
   "execution_count": 2,
   "id": "f5a83f00",
   "metadata": {},
   "outputs": [],
   "source": [
    "import matplotlib.pyplot as plt\n",
    "import tensorflow as tf\n",
    "import pandas as pd\n",
    "import numpy as np\n",
    "import os\n",
    "import sys,os\n",
    "\n",
    "os.environ[\"CUDA_VISIBLE_DEVICES\"] = \"-1\"\n",
    "\n",
    "from src.data import pretraining_pipeline, create_dataset\n",
    "\n",
    "%load_ext autoreload\n",
    "%autoreload 2"
   ]
  },
  {
   "cell_type": "code",
   "execution_count": 3,
   "id": "9a1cad2b",
   "metadata": {},
   "outputs": [],
   "source": [
    "name                 = 'ztfg'\n",
    "lightcurves_folder   = f'./data/raw_data/{name}/LCs/' # lightcurves folder\n",
    "lightcurves_metadata = f'./data/raw_data/{name}/metadata.csv' # metadata file\n",
    "fold_to_save_records = './data/records/'"
   ]
  },
  {
   "cell_type": "code",
   "execution_count": 4,
   "id": "19969c1c",
   "metadata": {},
   "outputs": [
    {
     "name": "stderr",
     "output_type": "stream",
     "text": [
      "2022-11-18 15:02:47.145901: E tensorflow/stream_executor/cuda/cuda_driver.cc:271] failed call to cuInit: CUDA_ERROR_NO_DEVICE: no CUDA-capable device is detected\n",
      "2022-11-18 15:02:47.145957: I tensorflow/stream_executor/cuda/cuda_diagnostics.cc:169] retrieving CUDA diagnostic information for host: 18fbbbab544d\n",
      "2022-11-18 15:02:47.145969: I tensorflow/stream_executor/cuda/cuda_diagnostics.cc:176] hostname: 18fbbbab544d\n",
      "2022-11-18 15:02:47.146098: I tensorflow/stream_executor/cuda/cuda_diagnostics.cc:200] libcuda reported version is: 460.32.3\n",
      "2022-11-18 15:02:47.146130: I tensorflow/stream_executor/cuda/cuda_diagnostics.cc:204] kernel reported version is: 460.32.3\n",
      "2022-11-18 15:02:47.146140: I tensorflow/stream_executor/cuda/cuda_diagnostics.cc:310] kernel version seems to match DSO: 460.32.3\n",
      "2022-11-18 15:02:47.146519: I tensorflow/core/platform/cpu_feature_guard.cc:151] This TensorFlow binary is optimized with oneAPI Deep Neural Network Library (oneDNN) to use the following CPU instructions in performance-critical operations:  AVX2 FMA\n",
      "To enable them in other operations, rebuild TensorFlow with the appropriate compiler flags.\n"
     ]
    },
    {
     "name": "stdout",
     "output_type": "stream",
     "text": [
      "UNK    2313131\n",
      "Name: Class, dtype: int64\n",
      "(2313131, 11)\n"
     ]
    }
   ],
   "source": [
    "if 'atlas' in name:\n",
    "    metadata_filtered['Path'] = metadata_filtered['ID'].astype(str)+'.dat'\n",
    "    \n",
    "print(metadata_filtered['Class'].value_counts())\n",
    "print(metadata_filtered.shape)"
   ]
  },
  {
   "cell_type": "markdown",
   "id": "65871e94",
   "metadata": {},
   "source": [
    "## One sample visualization"
   ]
  },
  {
   "cell_type": "code",
   "execution_count": 42,
   "id": "3bfd7df4",
   "metadata": {},
   "outputs": [],
   "source": [
    "args = {\n",
    "    'alcock':{},\n",
    "    'ogle': {'names':['mjd', 'mag', 'errmag'], 'delim_whitespace':True},\n",
    "    'atlas': {'names':['mjd', 'mag', 'errmag'],'delim_whitespace':False, 'skiprows':1},\n",
    "    'ztfg':{},\n",
    "}"
   ]
  },
  {
   "cell_type": "code",
   "execution_count": 43,
   "id": "2594615d",
   "metadata": {},
   "outputs": [
    {
     "name": "stdout",
     "output_type": "stream",
     "text": [
      "[INFO] Reading: 334106100046961.dat\n"
     ]
    },
    {
     "data": {
      "image/png": "[encoded data removed]",
      "text/plain": [
       "<Figure size 360x216 with 1 Axes>"
      ]
     },
     "metadata": {
      "needs_background": "light"
     },
     "output_type": "display_data"
    }
   ],
   "source": [
    "sample = metadata_filtered.sample()['Path'].values[0].split('/')[-1]\n",
    "print(f'[INFO] Reading: {sample}')\n",
    "lc_sample = pd.read_csv(f'{lightcurves_folder}/{sample}', **args[name])\n",
    "plt.figure(figsize=(5,3))\n",
    "plt.plot(lc_sample.iloc[:, 0], lc_sample.iloc[:, 1])\n",
    "plt.xlabel('Time [MJD]')\n",
    "plt.ylabel('Magnitude')\n",
    "plt.show()"
   ]
  },
  {
   "cell_type": "markdown",
   "id": "b7591d93",
   "metadata": {},
   "source": [
    "## Pretraining data"
   ]
  },
  {
   "cell_type": "code",
   "execution_count": 44,
   "id": "7a0de2e4",
   "metadata": {},
   "outputs": [
    {
     "data": {
      "text/plain": [
       "'./data/records//ztfg_pt'"
      ]
     },
     "execution_count": 44,
     "metadata": {},
     "output_type": "execute_result"
    }
   ],
   "source": [
    "target = f'{fold_to_save_records}/{name}_pt'\n",
    "target"
   ]
  },
  {
   "cell_type": "code",
   "execution_count": 46,
   "id": "2a8386b0",
   "metadata": {},
   "outputs": [
    {
     "data": {
      "text/plain": [
       "(2313131, 2313131)"
      ]
     },
     "execution_count": 46,
     "metadata": {},
     "output_type": "execute_result"
    }
   ],
   "source": [
    "meta_filtered = metadata_filtered[metadata_filtered['N'] > 1]\n",
    "metadata_filtered.shape[0], meta_filtered.shape[0]"
   ]
  },
  {
   "cell_type": "code",
   "execution_count": 47,
   "id": "4fa3d5cf",
   "metadata": {},
   "outputs": [],
   "source": [
    "meta_filtered = meta_filtered.sample(frac=1)"
   ]
  },
  {
   "cell_type": "code",
   "execution_count": 48,
   "id": "6401ac51",
   "metadata": {},
   "outputs": [
    {
     "name": "stderr",
     "output_type": "stream",
     "text": [
      "100%|████████████████████████████████████████████████████████████████████████████████████████████████████████████████████████████████████| 1/1 [19:28<00:00, 1168.10s/it]"
     ]
    },
    {
     "name": "stdout",
     "output_type": "stream",
     "text": [
      "CPU times: user 19min 11s, sys: 18.4 s, total: 19min 29s\n",
      "Wall time: 19min 29s\n"
     ]
    },
    {
     "name": "stderr",
     "output_type": "stream",
     "text": [
      "\n"
     ]
    }
   ],
   "source": [
    "%%time\n",
    "create_dataset(meta_filtered, \n",
    "               lightcurves_folder, \n",
    "               target, \n",
    "               max_lcs_per_record=20000, \n",
    "               n_jobs=32, # depends on the number of cores \n",
    "               subsets_frac=(0.6, 0.2), \n",
    "               **args[name])"
   ]
  },
  {
   "cell_type": "markdown",
   "id": "88680946",
   "metadata": {},
   "source": [
    "### Reading pretraining data"
   ]
  },
  {
   "cell_type": "code",
   "execution_count": 26,
   "id": "087a486d",
   "metadata": {},
   "outputs": [
    {
     "name": "stdout",
     "output_type": "stream",
     "text": [
      "[INFO] Repeating dataset x1 times\n"
     ]
    }
   ],
   "source": [
    "n_classes = None\n",
    "dataset = pretraining_pipeline(os.path.join('./data/records_new/atlas_pt/', 'train'),\n",
    "                               batch_size=2000,\n",
    "                               msk_frac=0., rnd_frac=0., same_frac=0., \n",
    "                               num_cls=n_classes, return_ids=True)"
   ]
  },
  {
   "cell_type": "code",
   "execution_count": 15,
   "id": "98a245c1",
   "metadata": {},
   "outputs": [
    {
     "name": "stdout",
     "output_type": "stream",
     "text": [
      "CPU times: user 8min 9s, sys: 1min 15s, total: 9min 25s\n",
      "Wall time: 19.7 s\n"
     ]
    },
    {
     "data": {
      "text/plain": [
       "263"
      ]
     },
     "execution_count": 15,
     "metadata": {},
     "output_type": "execute_result"
    }
   ],
   "source": [
    "%%time\n",
    "n_batches = sum([1 for x in dataset])\n",
    "n_batches"
   ]
  },
  {
   "cell_type": "code",
   "execution_count": 30,
   "id": "4e33cd29",
   "metadata": {},
   "outputs": [],
   "source": [
    "def get_magnitudes(ds):\n",
    "    magnitudes = []\n",
    "    for x, y in ds:\n",
    "        magnitudes.append(x['input'][x['input'] > 0])\n",
    "    magnitudes = tf.concat(magnitudes, 0)\n",
    "    return magnitudes"
   ]
  },
  {
   "cell_type": "code",
   "execution_count": 31,
   "id": "037c6a37",
   "metadata": {},
   "outputs": [],
   "source": [
    "magn_train = get_magnitudes(dataset)"
   ]
  },
  {
   "cell_type": "code",
   "execution_count": 32,
   "id": "b7d600e1",
   "metadata": {},
   "outputs": [
    {
     "data": {
      "image/png": "[encoded data removed]",
      "text/plain": [
       "<Figure size 640x480 with 1 Axes>"
      ]
     },
     "metadata": {},
     "output_type": "display_data"
    }
   ],
   "source": [
    "plt.figure()\n",
    "plt.hist(magnitudes[:1000], bins=100)\n",
    "plt.hist(magn_train[:1000], bins=100)\n",
    "plt.show()"
   ]
  },
  {
   "cell_type": "markdown",
   "id": "f648ef04",
   "metadata": {},
   "source": [
    "## Creating folds"
   ]
  },
  {
   "cell_type": "code",
   "execution_count": 6,
   "id": "80d55783",
   "metadata": {},
   "outputs": [],
   "source": [
    "n_folds = 3\n",
    "samples_per_class_test = 100\n",
    "samples_per_class = [20, 50, 100, 500]"
   ]
  },
  {
   "cell_type": "code",
   "execution_count": 120,
   "id": "61fff0e5",
   "metadata": {},
   "outputs": [
    {
     "name": "stdout",
     "output_type": "stream",
     "text": [
      "(1000, 5) (357288, 5)\n"
     ]
    },
    {
     "name": "stderr",
     "output_type": "stream",
     "text": [
      "100%|████████████████████████████████████████████████████████| 10/10 [00:00<00:00, 15.09it/s]\n",
      "100%|████████████████████████████████████████████████████████| 10/10 [00:01<00:00,  8.22it/s]\n",
      "100%|████████████████████████████████████████████████████████| 10/10 [00:02<00:00,  4.92it/s]\n",
      "100%|████████████████████████████████████████████████████████| 10/10 [00:07<00:00,  1.28it/s]\n"
     ]
    },
    {
     "name": "stdout",
     "output_type": "stream",
     "text": [
      "(1000, 5) (357288, 5)\n"
     ]
    },
    {
     "name": "stderr",
     "output_type": "stream",
     "text": [
      "100%|████████████████████████████████████████████████████████| 10/10 [00:00<00:00, 16.03it/s]\n",
      "100%|████████████████████████████████████████████████████████| 10/10 [00:01<00:00,  7.60it/s]\n",
      "100%|████████████████████████████████████████████████████████| 10/10 [00:02<00:00,  4.72it/s]\n",
      "100%|████████████████████████████████████████████████████████| 10/10 [00:07<00:00,  1.28it/s]\n"
     ]
    },
    {
     "name": "stdout",
     "output_type": "stream",
     "text": [
      "(1000, 5) (357288, 5)\n"
     ]
    },
    {
     "name": "stderr",
     "output_type": "stream",
     "text": [
      "100%|████████████████████████████████████████████████████████| 10/10 [00:00<00:00, 15.30it/s]\n",
      "100%|████████████████████████████████████████████████████████| 10/10 [00:01<00:00,  8.15it/s]\n",
      "100%|████████████████████████████████████████████████████████| 10/10 [00:02<00:00,  4.73it/s]\n",
      "100%|████████████████████████████████████████████████████████| 10/10 [00:07<00:00,  1.28it/s]"
     ]
    },
    {
     "name": "stdout",
     "output_type": "stream",
     "text": [
      "CPU times: user 53.1 s, sys: 1.28 s, total: 54.4 s\n",
      "Wall time: 57.7 s\n"
     ]
    },
    {
     "name": "stderr",
     "output_type": "stream",
     "text": [
      "\n"
     ]
    }
   ],
   "source": [
    "%%time\n",
    "\n",
    "for fold_n in range(n_folds): \n",
    "    test_meta  = pd.concat([frame.sample(n=samples_per_class_test) for g, frame in meta.groupby('Class')])\n",
    "    train_meta = meta[~meta['ID'].isin(test_meta['ID'])]\n",
    "    print(test_meta.shape, train_meta.shape)\n",
    "        \n",
    "    for nsamples in samples_per_class:  \n",
    "        if nsamples == 0:\n",
    "            partial_meta = train_meta\n",
    "            target = f'{fold_to_save_records}/{name}/fold_{fold_n}/{name}'\n",
    "        else:\n",
    "            partial_meta = pd.concat([frame.sample(n=nsamples) for c, frame in train_meta.groupby('Class')])\n",
    "            target = f'{fold_to_save_records}/{name}/fold_{fold_n}/{name}_{nsamples}'\n",
    "\n",
    "        create_dataset(partial_meta, lightcurves_folder, \n",
    "                       target, max_lcs_per_record=20000, \n",
    "                       n_jobs=7, subsets_frac=(0.8, 0.2), test_subset=test_meta,  \n",
    "                       **args[name])"
   ]
  },
  {
   "cell_type": "markdown",
   "id": "1650129f",
   "metadata": {},
   "source": [
    "# Reading folds"
   ]
  },
  {
   "cell_type": "code",
   "execution_count": 10,
   "id": "3ac5d701",
   "metadata": {
    "scrolled": false
   },
   "outputs": [
    {
     "name": "stdout",
     "output_type": "stream",
     "text": [
      "[INFO] Repeating dataset x1 times\n",
      "(16, 200, 1)\n",
      "[0 1 2 3 4]\n",
      "[100 100 100 100 100]\n"
     ]
    },
    {
     "data": {
      "image/png": "[encoded data removed]",
      "text/plain": [
       "<Figure size 640x480 with 1 Axes>"
      ]
     },
     "metadata": {},
     "output_type": "display_data"
    }
   ],
   "source": [
    "for fold_n in range(3):\n",
    "    for nsamples in samples_per_class:\n",
    "        if nsamples == 0:\n",
    "            target = f'{fold_to_save_records}/{name}/fold_{fold_n}/{name}'\n",
    "        else:\n",
    "            target = f'{fold_to_save_records}/{name}/fold_{fold_n}/{name}_{nsamples}'\n",
    "        \n",
    "        n_classes_df = pd.read_csv(os.path.join(target, 'objects.csv'))\n",
    "#         print(n_classes)\n",
    "        n_classes = n_classes_df.shape[0]\n",
    "        dataset = pretraining_pipeline(os.path.join(target, 'test'),\n",
    "                                       window_size=200,\n",
    "                                       batch_size=16,\n",
    "                                       msk_frac=0., rnd_frac=0., same_frac=0., \n",
    "                                       shuffle=True,\n",
    "                                       num_cls=n_classes, return_ids=True)\n",
    "        classes_names = list(n_classes_df['label'].values)\n",
    "        for x, y in dataset:\n",
    "            print(x['input'].shape)\n",
    "#             plt.plot(x['times'][0], x['input'][0])\n",
    "            plt.acorr(x['input'][0][:, 0])\n",
    "            plt.title(f'{classes_names[np.argmax(y[0])]}')\n",
    "            break\n",
    "        \n",
    "        \n",
    "        labels = np.concatenate([np.argmax(y, 1) for _, y in dataset], 0)\n",
    "        unique, counts = np.unique(labels, return_counts=True)\n",
    "        \n",
    "        oids = np.concatenate([x['ids'] for x, _ in dataset], 0)\n",
    "        \n",
    "        unique_id, counts_id = np.unique(oids, return_counts=True)\n",
    "#         print(counts_id)\n",
    "        print(unique)\n",
    "        print(counts)\n",
    "        \n",
    "        break\n",
    "    break\n",
    "#         print('-')"
   ]
  },
  {
   "cell_type": "code",
   "execution_count": null,
   "id": "243154c6",
   "metadata": {},
   "outputs": [],
   "source": []
  }
 ],
 "metadata": {
  "kernelspec": {
   "display_name": "Python 3 (ipykernel)",
   "language": "python",
   "name": "python3"
  },
  "language_info": {
   "codemirror_mode": {
    "name": "ipython",
    "version": 3
   },
   "file_extension": ".py",
   "mimetype": "text/x-python",
   "name": "python",
   "nbconvert_exporter": "python",
   "pygments_lexer": "ipython3",
   "version": "3.9.12"
  }
 },
 "nbformat": 4,
 "nbformat_minor": 5
}
