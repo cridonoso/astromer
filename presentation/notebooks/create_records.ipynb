{
 "cells": [
  {
   "cell_type": "markdown",
   "metadata": {},
   "source": [
    "# Tutorial: Creating TF Records\n",
    "\n",
    "Last updated: 09-sep-2021 by\n",
    "Cristobal Donoso"
   ]
  },
  {
   "cell_type": "code",
   "execution_count": 1,
   "metadata": {},
   "outputs": [
    {
     "name": "stdout",
     "output_type": "stream",
     "text": [
      "/home/users/cdonoso/astromer/ASTROMER\n"
     ]
    }
   ],
   "source": [
    "cd /home/users/cdonoso/astromer/ASTROMER/"
   ]
  },
  {
   "cell_type": "code",
   "execution_count": 2,
   "metadata": {},
   "outputs": [
    {
     "name": "stdout",
     "output_type": "stream",
     "text": [
      "\u001b[H\u001b[2J"
     ]
    }
   ],
   "source": [
    "import matplotlib.pyplot as plt\n",
    "import tensorflow as tf\n",
    "import pandas as pd\n",
    "import os\n",
    "import sys,os\n",
    "sys.path.append(os.path.realpath('/home/users/cdonoso/astromer/ASTROMER'))\n",
    "\n",
    "from core.masking import get_padding_mask\n",
    "from core.astromer import get_ASTROMER, train\n",
    "from core.data  import (create_dataset, \n",
    "                        pretraining_records)\n",
    "\n",
    "# This tutorial runs only in early mode. For the optimized code use train.py\n",
    "# OTHERWISE you can comment the next ljupyine and reset the kernel before the finetuning\n",
    "tf.config.run_functions_eagerly(False)\n",
    "\n",
    "%load_ext autoreload\n",
    "%autoreload 2"
   ]
  },
  {
   "cell_type": "code",
   "execution_count": 97,
   "metadata": {},
   "outputs": [],
   "source": [
    "source = './data/raw_data/ogle3/LCs/' # lightcurves folder\n",
    "metadata = './data/raw_data/ogle3/ogle_dataset.dat' # metadata file\n",
    "target = './data/records/ogle_20' # where records will be stored"
   ]
  },
  {
   "cell_type": "markdown",
   "metadata": {},
   "source": [
    "### Metadata frame sample"
   ]
  },
  {
   "cell_type": "code",
   "execution_count": 98,
   "metadata": {},
   "outputs": [
    {
     "data": {
      "text/plain": [
       "'/home/users/cdonoso/astromer/ASTROMER'"
      ]
     },
     "execution_count": 98,
     "metadata": {},
     "output_type": "execute_result"
    }
   ],
   "source": [
    "pwd"
   ]
  },
  {
   "cell_type": "code",
   "execution_count": 99,
   "metadata": {},
   "outputs": [],
   "source": [
    "meta = pd.read_csv(metadata)\n",
    "meta = meta[meta['Class'] != 'UNK']\n",
    "meta = meta[meta['Class'] != 'std']\n",
    "meta = meta[meta['N'] >= 20]\n",
    "meta['Band'] = tf.ones(meta.shape[0])\n",
    "meta = meta.rename(columns={'Unnamed: 0':'ID', 'Path_R':'Path'})\n",
    "meta = pd.concat([frame.sample(n=20) for c, frame in meta.groupby('Class')])"
   ]
  },
  {
   "cell_type": "code",
   "execution_count": 100,
   "metadata": {},
   "outputs": [
    {
     "data": {
      "text/plain": [
       "(                         ID Class  \\\n",
       " 48859  OGLE-LMC-RRLYR-13140  RRab   \n",
       " \n",
       "                                               Path    N  Band  \n",
       " 48859  ./lmc/rrlyr/phot/I/OGLE-LMC-RRLYR-13140.dat  664   1.0  ,\n",
       " (200, 5))"
      ]
     },
     "execution_count": 100,
     "metadata": {},
     "output_type": "execute_result"
    }
   ],
   "source": [
    "meta.sample(), meta.shape"
   ]
  },
  {
   "cell_type": "markdown",
   "metadata": {},
   "source": [
    "### Lightcurve frame sample"
   ]
  },
  {
   "cell_type": "code",
   "execution_count": 101,
   "metadata": {
    "scrolled": true
   },
   "outputs": [
    {
     "data": {
      "text/html": [
       "<div>\n",
       "<style scoped>\n",
       "    .dataframe tbody tr th:only-of-type {\n",
       "        vertical-align: middle;\n",
       "    }\n",
       "\n",
       "    .dataframe tbody tr th {\n",
       "        vertical-align: top;\n",
       "    }\n",
       "\n",
       "    .dataframe thead th {\n",
       "        text-align: right;\n",
       "    }\n",
       "</style>\n",
       "<table border=\"1\" class=\"dataframe\">\n",
       "  <thead>\n",
       "    <tr style=\"text-align: right;\">\n",
       "      <th></th>\n",
       "      <th>mjd</th>\n",
       "      <th>mag</th>\n",
       "      <th>errmag</th>\n",
       "    </tr>\n",
       "  </thead>\n",
       "  <tbody>\n",
       "    <tr>\n",
       "      <th>0</th>\n",
       "      <td>2165.90781</td>\n",
       "      <td>17.642</td>\n",
       "      <td>0.027</td>\n",
       "    </tr>\n",
       "    <tr>\n",
       "      <th>1</th>\n",
       "      <td>2166.82639</td>\n",
       "      <td>17.595</td>\n",
       "      <td>0.017</td>\n",
       "    </tr>\n",
       "    <tr>\n",
       "      <th>2</th>\n",
       "      <td>2172.87516</td>\n",
       "      <td>17.617</td>\n",
       "      <td>0.018</td>\n",
       "    </tr>\n",
       "    <tr>\n",
       "      <th>3</th>\n",
       "      <td>2189.83242</td>\n",
       "      <td>17.669</td>\n",
       "      <td>0.024</td>\n",
       "    </tr>\n",
       "    <tr>\n",
       "      <th>4</th>\n",
       "      <td>2191.86676</td>\n",
       "      <td>17.582</td>\n",
       "      <td>0.016</td>\n",
       "    </tr>\n",
       "  </tbody>\n",
       "</table>\n",
       "</div>"
      ],
      "text/plain": [
       "          mjd     mag  errmag\n",
       "0  2165.90781  17.642   0.027\n",
       "1  2166.82639  17.595   0.017\n",
       "2  2172.87516  17.617   0.018\n",
       "3  2189.83242  17.669   0.024\n",
       "4  2191.86676  17.582   0.016"
      ]
     },
     "execution_count": 101,
     "metadata": {},
     "output_type": "execute_result"
    }
   ],
   "source": [
    "lc_df = pd.read_csv(os.path.join(source,  \n",
    "                                 meta['Path'].sample(1).values[0].split('/')[-1]),\n",
    "                   delim_whitespace=False)\n",
    "lc_df.head()"
   ]
  },
  {
   "cell_type": "markdown",
   "metadata": {},
   "source": [
    "### From .csv to .record "
   ]
  },
  {
   "cell_type": "code",
   "execution_count": 102,
   "metadata": {
    "scrolled": true
   },
   "outputs": [
    {
     "name": "stderr",
     "output_type": "stream",
     "text": [
      "100%|█████████████████████████████████████████████████████████████████████████████████████████████████████████████████████████████████████████████████████████| 10/10 [00:00<00:00, 11.60it/s]"
     ]
    },
    {
     "name": "stdout",
     "output_type": "stream",
     "text": [
      "CPU times: user 674 ms, sys: 31.9 ms, total: 706 ms\n",
      "Wall time: 867 ms\n"
     ]
    },
    {
     "name": "stderr",
     "output_type": "stream",
     "text": [
      "\n"
     ]
    }
   ],
   "source": [
    "%%time\n",
    "create_dataset(meta, source, target, max_lcs_per_record=20000, \n",
    "               n_jobs=7, subsets_frac=(0.6, 0.2))"
   ]
  },
  {
   "cell_type": "markdown",
   "metadata": {},
   "source": [
    "### Loading Data"
   ]
  },
  {
   "cell_type": "code",
   "execution_count": 14,
   "metadata": {},
   "outputs": [],
   "source": [
    "batch_size = 10\n",
    "max_obs = 50"
   ]
  },
  {
   "cell_type": "code",
   "execution_count": 15,
   "metadata": {},
   "outputs": [],
   "source": [
    "from core.data import pretraining_records\n",
    "\n",
    "train_batches = pretraining_records(os.path.join(target, 'train'), batch_size, max_obs=max_obs)\n",
    "valid_batches = pretraining_records(os.path.join(target, 'val'), batch_size, max_obs=max_obs)\n",
    "test_batches = pretraining_records(os.path.join(target, 'test'), batch_size, max_obs=max_obs)"
   ]
  },
  {
   "cell_type": "code",
   "execution_count": 16,
   "metadata": {},
   "outputs": [
    {
     "data": {
      "text/plain": [
       "12534"
      ]
     },
     "execution_count": 16,
     "metadata": {},
     "output_type": "execute_result"
    }
   ],
   "source": [
    "sum([b['input'].shape[0] for b in train_batches])"
   ]
  },
  {
   "cell_type": "code",
   "execution_count": 46,
   "metadata": {
    "scrolled": true
   },
   "outputs": [
    {
     "data": {
      "text/plain": [
       "32150"
      ]
     },
     "execution_count": 46,
     "metadata": {},
     "output_type": "execute_result"
    }
   ],
   "source": [
    "sum([b['input'].shape[0] for b in valid_batches]) "
   ]
  },
  {
   "cell_type": "code",
   "execution_count": 47,
   "metadata": {},
   "outputs": [
    {
     "data": {
      "text/plain": [
       "10750"
      ]
     },
     "execution_count": 47,
     "metadata": {},
     "output_type": "execute_result"
    }
   ],
   "source": [
    "sum([b['input'].shape[0] for b in test_batches]) "
   ]
  },
  {
   "cell_type": "code",
   "execution_count": null,
   "metadata": {},
   "outputs": [],
   "source": []
  }
 ],
 "metadata": {
  "kernelspec": {
   "display_name": "Python 3 (ipykernel)",
   "language": "python",
   "name": "python3"
  },
  "language_info": {
   "codemirror_mode": {
    "name": "ipython",
    "version": 3
   },
   "file_extension": ".py",
   "mimetype": "text/x-python",
   "name": "python",
   "nbconvert_exporter": "python",
   "pygments_lexer": "ipython3",
   "version": "3.8.0"
  }
 },
 "nbformat": 4,
 "nbformat_minor": 4
}
