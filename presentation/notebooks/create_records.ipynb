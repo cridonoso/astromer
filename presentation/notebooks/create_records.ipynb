{
 "cells": [
  {
   "cell_type": "markdown",
   "metadata": {},
   "source": [
    "# Tutorial: Creating TF Records\n",
    "\n",
    "Last updated: 09-sep-2021 by\n",
    "Cristobal Donoso"
   ]
  },
  {
   "cell_type": "code",
   "execution_count": 1,
   "metadata": {},
   "outputs": [
    {
     "name": "stdout",
     "output_type": "stream",
     "text": [
      "/home/users/cdonoso/astromer/ASTROMER\n"
     ]
    }
   ],
   "source": [
    "cd ../.."
   ]
  },
  {
   "cell_type": "code",
   "execution_count": 5,
   "metadata": {},
   "outputs": [],
   "source": [
    "import matplotlib.pyplot as plt\n",
    "import tensorflow as tf\n",
    "import pandas as pd\n",
    "import os\n",
    "import sys,os\n",
    "\n",
    "os.environ[\"CUDA_VISIBLE_DEVICES\"] = \"-1\"\n",
    "\n",
    "from core.data  import (load_dataset, \n",
    "                        pretraining_pipeline)\n",
    "\n",
    "# This tutorial runs only in early mode. For the optimized code use train.py\n",
    "# OTHERWISE you can comment the next ljupyine and reset the kernel before the finetuning\n",
    "tf.config.run_functions_eagerly(False)\n",
    "\n",
    "%load_ext autoreload\n",
    "%autoreload 2"
   ]
  },
  {
   "cell_type": "code",
   "execution_count": 6,
   "metadata": {},
   "outputs": [],
   "source": [
    "source = './data/raw_data/atlas/new_LCs/' # lightcurves folder\n",
    "metadata = './data/raw_data/atlas/new_meta.csv' # metadata file\n",
    "name = 'new_atlas'"
   ]
  },
  {
   "cell_type": "markdown",
   "metadata": {},
   "source": [
    "### Metadata frame sample"
   ]
  },
  {
   "cell_type": "code",
   "execution_count": 62,
   "metadata": {},
   "outputs": [
    {
     "name": "stdout",
     "output_type": "stream",
     "text": [
      "(4726993, 8)\n",
      "(4726993, 8)\n"
     ]
    }
   ],
   "source": [
    "meta = pd.read_csv(metadata)\n",
    "print(meta.shape)\n",
    "# meta = meta[meta['Class'] != 'UNK']\n",
    "# meta = meta[meta['Class'] != 'std']\n",
    "# meta = meta[meta['Class'] != 'Dubious']\n",
    "# meta = meta[meta['N'] >= 20]\n",
    "meta['Band'] = tf.ones(meta.shape[0])\n",
    "meta = meta.rename(columns={'objID':'ID', 'Unnamed: 0':'ID', 'Path_R':'Path'})\n",
    "print(meta.shape)\n",
    "if 'atlas' in name:\n",
    "    meta['Path'] = meta['ID'].astype(str)+'.dat'"
   ]
  },
  {
   "cell_type": "code",
   "execution_count": 53,
   "metadata": {},
   "outputs": [
    {
     "name": "stderr",
     "output_type": "stream",
     "text": [
      "/tmp/ipykernel_1369488/3925067763.py:12: UserWarning: Attempted to set non-positive bottom ylim on a log-scaled axis.\n",
      "Invalid limit will be ignored.\n",
      "  plt.ylim(0, 10e6)\n"
     ]
    },
    {
     "data": {
      "image/png": "[encoded data removed]",
      "text/plain": [
       "<Figure size 432x288 with 1 Axes>"
      ]
     },
     "metadata": {
      "needs_background": "light"
     },
     "output_type": "display_data"
    }
   ],
   "source": [
    "counter = 0\n",
    "for i in range(1, 11):\n",
    "    sub = meta[meta['N']<=i]\n",
    "    plt.bar(i, sub.shape[0])\n",
    "    counter += sub.shape[0]\n",
    "    if i == 10:\n",
    "        plt.bar(i, meta.shape[0])\n",
    "        plt.text(i-3,meta.shape[0]+10e5, 'Total: {}'.format(meta.shape[0]))\n",
    "        plt.text(i-3, counter+10e3, '{} $\\leq 9$'.format(counter))\n",
    "        plt.axhline(y=counter, color='r', linestyle='--', linewidth=1)\n",
    "plt.yscale('log')\n",
    "plt.ylim(0, 10e6)\n",
    "plt.ylabel('Num. observations')\n",
    "plt.title('ATLAS light curves length distribution')\n",
    "plt.xticks(range(1, 11), list(range(1, 10))+[r'$\\geq 10$'])\n",
    "plt.show()"
   ]
  },
  {
   "cell_type": "code",
   "execution_count": 54,
   "metadata": {},
   "outputs": [],
   "source": [
    "change_labels = {'LPV WoodA':'LPV',\n",
    "                 'LPV WoodB':'LPV', \n",
    "                 'LPV WoodC':'LPV', \n",
    "                 'LPV WoodD':'LPV'}\n",
    "meta['Class'] = meta['Class'].replace(change_labels)"
   ]
  },
  {
   "cell_type": "code",
   "execution_count": 63,
   "metadata": {},
   "outputs": [
    {
     "data": {
      "text/plain": [
       "UNK    4726993\n",
       "Name: Class, dtype: int64"
      ]
     },
     "execution_count": 63,
     "metadata": {},
     "output_type": "execute_result"
    }
   ],
   "source": [
    "meta['Class'].value_counts()"
   ]
  },
  {
   "cell_type": "code",
   "execution_count": 136,
   "metadata": {},
   "outputs": [
    {
     "data": {
      "text/plain": [
       "0.3078769103317902"
      ]
     },
     "execution_count": 136,
     "metadata": {},
     "output_type": "execute_result"
    },
    {
     "data": {
      "image/png": "[encoded data removed]",
      "text/plain": [
       "<Figure size 432x288 with 1 Axes>"
      ]
     },
     "metadata": {
      "needs_background": "light"
     },
     "output_type": "display_data"
    }
   ],
   "source": [
    "plt.bar(0, meta[meta['Skewness'].abs()>1].shape[0])\n",
    "plt.text(-0.1, meta[meta['Skewness'].abs()>1].shape[0]+1e5, '{}'.format(meta[meta['Std']>0.1].shape[0]))\n",
    "plt.bar(0.9, meta[meta['Skewness'].abs()<=1].shape[0])\n",
    "plt.text(0.8, meta[meta['Skewness'].abs()<=1].shape[0]+1e5, '{}'.format(meta[meta['Std']<=0.1].shape[0]))\n",
    "plt.ylim(0, 5e6)\n",
    "plt.xticks([0, 1], ['$>1$', '$\\leq 1$'])\n",
    "plt.title('ATLAS light curves Skewness distribution')\n",
    "meta[meta['Skewness'].abs()>=1].shape[0]/meta.shape[0]"
   ]
  },
  {
   "cell_type": "code",
   "execution_count": 141,
   "metadata": {},
   "outputs": [],
   "source": [
    "meta_v2 = meta[meta['Std']>0.1]\n",
    "meta_v2 = meta_v2[meta_v2['Skewness'].abs()>1]\n",
    "meta_v2 = meta_v2[meta_v2['Kurtosis']>10]\n",
    "meta_v2 = meta_v2[meta_v2['N']>20]"
   ]
  },
  {
   "cell_type": "code",
   "execution_count": 142,
   "metadata": {},
   "outputs": [
    {
     "data": {
      "text/plain": [
       "(0.04189788307281183, 198051)"
      ]
     },
     "execution_count": 142,
     "metadata": {},
     "output_type": "execute_result"
    }
   ],
   "source": [
    "meta_v2.shape[0]/meta.shape[0], meta_v2.shape[0]"
   ]
  },
  {
   "cell_type": "markdown",
   "metadata": {},
   "source": [
    "### Lightcurve frame sample"
   ]
  },
  {
   "cell_type": "code",
   "execution_count": 7,
   "metadata": {
    "scrolled": true
   },
   "outputs": [
    {
     "data": {
      "text/html": [
       "<div>\n",
       "<style scoped>\n",
       "    .dataframe tbody tr th:only-of-type {\n",
       "        vertical-align: middle;\n",
       "    }\n",
       "\n",
       "    .dataframe tbody tr th {\n",
       "        vertical-align: top;\n",
       "    }\n",
       "\n",
       "    .dataframe thead th {\n",
       "        text-align: right;\n",
       "    }\n",
       "</style>\n",
       "<table border=\"1\" class=\"dataframe\">\n",
       "  <thead>\n",
       "    <tr style=\"text-align: right;\">\n",
       "      <th></th>\n",
       "      <th>mjd</th>\n",
       "      <th>mag</th>\n",
       "      <th>std</th>\n",
       "    </tr>\n",
       "  </thead>\n",
       "  <tbody>\n",
       "    <tr>\n",
       "      <th>0</th>\n",
       "      <td>48823.6441</td>\n",
       "      <td>-9.481</td>\n",
       "      <td>0.005</td>\n",
       "    </tr>\n",
       "    <tr>\n",
       "      <th>1</th>\n",
       "      <td>48823.6537</td>\n",
       "      <td>-9.456</td>\n",
       "      <td>0.005</td>\n",
       "    </tr>\n",
       "    <tr>\n",
       "      <th>2</th>\n",
       "      <td>48823.6634</td>\n",
       "      <td>-9.466</td>\n",
       "      <td>0.006</td>\n",
       "    </tr>\n",
       "    <tr>\n",
       "      <th>3</th>\n",
       "      <td>48824.6249</td>\n",
       "      <td>-9.466</td>\n",
       "      <td>0.002</td>\n",
       "    </tr>\n",
       "    <tr>\n",
       "      <th>4</th>\n",
       "      <td>48824.6344</td>\n",
       "      <td>-9.460</td>\n",
       "      <td>0.002</td>\n",
       "    </tr>\n",
       "  </tbody>\n",
       "</table>\n",
       "</div>"
      ],
      "text/plain": [
       "          mjd    mag    std\n",
       "0  48823.6441 -9.481  0.005\n",
       "1  48823.6537 -9.456  0.005\n",
       "2  48823.6634 -9.466  0.006\n",
       "3  48824.6249 -9.466  0.002\n",
       "4  48824.6344 -9.460  0.002"
      ]
     },
     "execution_count": 7,
     "metadata": {},
     "output_type": "execute_result"
    }
   ],
   "source": [
    "lc_df = pd.read_csv(os.path.join(source,  \n",
    "                                 meta['Path'].sample(1).values[0].split('/')[-1]), \n",
    "                    )\n",
    "lc_df.head()"
   ]
  },
  {
   "cell_type": "markdown",
   "metadata": {},
   "source": [
    "### Creating training partitions from .csv to .record "
   ]
  },
  {
   "cell_type": "code",
   "execution_count": 16,
   "metadata": {},
   "outputs": [
    {
     "data": {
      "text/plain": [
       "(21470, 5)"
      ]
     },
     "execution_count": 16,
     "metadata": {},
     "output_type": "execute_result"
    }
   ],
   "source": [
    "meta.shape"
   ]
  },
  {
   "cell_type": "code",
   "execution_count": 13,
   "metadata": {
    "scrolled": true
   },
   "outputs": [
    {
     "name": "stdout",
     "output_type": "stream",
     "text": [
      "(1000, 5) (357288, 5)\n"
     ]
    },
    {
     "name": "stderr",
     "output_type": "stream",
     "text": [
      "100%|█████████████████████████████████████████████████████████████████████████████████████████████████████████████████████████████████████████████████████████████████████████████| 10/10 [06:39<00:00, 39.94s/it]\n"
     ]
    },
    {
     "name": "stdout",
     "output_type": "stream",
     "text": [
      "(1000, 5) (357288, 5)\n"
     ]
    },
    {
     "name": "stderr",
     "output_type": "stream",
     "text": [
      "100%|█████████████████████████████████████████████████████████████████████████████████████████████████████████████████████████████████████████████████████████████████████████████| 10/10 [06:37<00:00, 39.75s/it]\n"
     ]
    },
    {
     "name": "stdout",
     "output_type": "stream",
     "text": [
      "(1000, 5) (357288, 5)\n"
     ]
    },
    {
     "name": "stderr",
     "output_type": "stream",
     "text": [
      "100%|█████████████████████████████████████████████████████████████████████████████████████████████████████████████████████████████████████████████████████████████████████████████| 10/10 [06:37<00:00, 39.78s/it]"
     ]
    },
    {
     "name": "stdout",
     "output_type": "stream",
     "text": [
      "CPU times: user 16min 54s, sys: 20.2 s, total: 17min 15s\n",
      "Wall time: 19min 55s\n"
     ]
    },
    {
     "name": "stderr",
     "output_type": "stream",
     "text": [
      "\n"
     ]
    }
   ],
   "source": [
    "%%time\n",
    "\n",
    "for fold_n in range(3): \n",
    "    test_meta  = pd.concat([frame.sample(n=100) for g, frame in meta.groupby('Class')])\n",
    "    train_meta = meta[~meta['ID'].isin(test_meta['ID'])]\n",
    "    print(test_meta.shape, train_meta.shape)\n",
    "        \n",
    "    for nsamples in [0]:  \n",
    "        if nsamples == 0:\n",
    "            partial_meta = train_meta\n",
    "            target = './data/records/{}/fold_{}/{}'.format(name, fold_n, name)\n",
    "        else:\n",
    "            partial_meta = pd.concat([frame.sample(n=nsamples) for c, frame in train_meta.groupby('Class')])\n",
    "            target = './data/records/{}/fold_{}/{}_{}'.format(name, fold_n, name, nsamples)\n",
    "\n",
    "        create_dataset(partial_meta, source, target, max_lcs_per_record=20000, \n",
    "                       n_jobs=7, subsets_frac=(0.8, 0.2), test_subset=test_meta,  \n",
    "                       names=['mjd', 'mag', 'errmag'],\n",
    "                       delim_whitespace=True)"
   ]
  },
  {
   "cell_type": "markdown",
   "metadata": {},
   "source": [
    "### JUST ONE DATASET"
   ]
  },
  {
   "cell_type": "code",
   "execution_count": 17,
   "metadata": {},
   "outputs": [
    {
     "data": {
      "text/plain": [
       "'naul_macho'"
      ]
     },
     "execution_count": 17,
     "metadata": {},
     "output_type": "execute_result"
    }
   ],
   "source": [
    "name"
   ]
  },
  {
   "cell_type": "code",
   "execution_count": 19,
   "metadata": {},
   "outputs": [
    {
     "name": "stderr",
     "output_type": "stream",
     "text": [
      "100%|████████████████████████████████████████████████████████████████████| 8/8 [01:02<00:00,  7.83s/it]\n",
      "100%|████████████████████████████████████████████████████████████████████| 8/8 [01:02<00:00,  7.85s/it]\n",
      "100%|████████████████████████████████████████████████████████████████████| 8/8 [01:02<00:00,  7.76s/it]\n"
     ]
    }
   ],
   "source": [
    "for fold_n in range(3):\n",
    "    target = './data/records/{}/fold_{}/{}'.format(name, fold_n, name)\n",
    "    \n",
    "    test_meta  = meta.sample(frac=0.2)\n",
    "    train_meta = meta[~meta['ID'].isin(test_meta['ID'])]\n",
    "\n",
    "    create_dataset(train_meta, source, target, max_lcs_per_record=20000, \n",
    "                   n_jobs=7, subsets_frac=(0.8, 0.2), \n",
    "                   test_subset=test_meta)"
   ]
  },
  {
   "cell_type": "code",
   "execution_count": 17,
   "metadata": {},
   "outputs": [],
   "source": [
    "root = './data/records/new_ogle/'\n",
    "for fold_n in range(3):\n",
    "    fold_f = os.path.join(root, 'fold_{}'.format(fold_n))\n",
    "    for source in os.listdir(fold_f):\n",
    "        target = source.replace('new_', '')\n",
    "        os.rename(os.path.join(fold_f, source), os.path.join(fold_f, target))"
   ]
  },
  {
   "cell_type": "code",
   "execution_count": null,
   "metadata": {},
   "outputs": [],
   "source": []
  }
 ],
 "metadata": {
  "kernelspec": {
   "display_name": "Python 3 (ipykernel)",
   "language": "python",
   "name": "python3"
  },
  "language_info": {
   "codemirror_mode": {
    "name": "ipython",
    "version": 3
   },
   "file_extension": ".py",
   "mimetype": "text/x-python",
   "name": "python",
   "nbconvert_exporter": "python",
   "pygments_lexer": "ipython3",
   "version": "3.8.0"
  }
 },
 "nbformat": 4,
 "nbformat_minor": 4
}
