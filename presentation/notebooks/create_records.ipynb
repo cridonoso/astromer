{
 "cells": [
  {
   "cell_type": "markdown",
   "metadata": {},
   "source": [
    "# Tutorial: Creating TF Records\n",
    "\n",
    "Last updated: 07-Oct-2021 by\n",
    "Cristobal Donoso"
   ]
  },
  {
   "cell_type": "code",
   "execution_count": 1,
   "metadata": {},
   "outputs": [
    {
     "name": "stdout",
     "output_type": "stream",
     "text": [
      "/tf/astromer\n"
     ]
    }
   ],
   "source": [
    "cd /tf/astromer"
   ]
  },
  {
   "cell_type": "code",
   "execution_count": 2,
   "metadata": {},
   "outputs": [],
   "source": [
    "import matplotlib.pyplot as plt\n",
    "import tensorflow as tf\n",
    "import pandas as pd\n",
    "import dask.dataframe as dd\n",
    "import os\n",
    "\n",
    "from core.masking import get_padding_mask\n",
    "from core.astromer import get_ASTROMER, train\n",
    "from core.data  import create_records, split_and_create_records\n",
    "\n",
    "# This tutorial runs only in early mode. For the optimized code use train.py\n",
    "# OTHERWISE you can comment the next ljupyine and reset the kernel before the finetuning\n",
    "tf.config.run_functions_eagerly(False)\n",
    "\n",
    "%load_ext autoreload\n",
    "%autoreload 2"
   ]
  },
  {
   "cell_type": "code",
   "execution_count": 3,
   "metadata": {},
   "outputs": [],
   "source": [
    "name = 'alcock'\n",
    "photshards = './data/raw_data/{}/phot/'.format(name) # Photometry shards folder\n",
    "metadata   = './data/raw_data/{}/{}_dataset.csv'.format(name, name) # Metadata file\n",
    "target     = './data/records_v2/{}/'.format(name) # where records will be stored"
   ]
  },
  {
   "cell_type": "markdown",
   "metadata": {},
   "source": [
    "### Metadata frame sample"
   ]
  },
  {
   "cell_type": "code",
   "execution_count": 4,
   "metadata": {},
   "outputs": [
    {
     "name": "stdout",
     "output_type": "stream",
     "text": [
      "(20444, 4)\n"
     ]
    },
    {
     "data": {
      "text/plain": [
       "RRab     7157\n",
       "EC       6681\n",
       "LPV      3017\n",
       "RRc      1734\n",
       "Cep_0    1174\n",
       "Cep_1     681\n",
       "Name: class, dtype: int64"
      ]
     },
     "execution_count": 4,
     "metadata": {},
     "output_type": "execute_result"
    }
   ],
   "source": [
    "meta = pd.read_csv(metadata)\n",
    "meta = meta[meta['class']!='UNK'] # we remove unknown objects\n",
    "meta = meta[meta['nobs']>=100]\n",
    "# meta = meta.sample(n=20000)\n",
    "print(meta.shape)\n",
    "meta['class'].value_counts()"
   ]
  },
  {
   "cell_type": "code",
   "execution_count": null,
   "metadata": {},
   "outputs": [],
   "source": []
  },
  {
   "cell_type": "markdown",
   "metadata": {},
   "source": [
    "### Training, validation and testing split"
   ]
  },
  {
   "cell_type": "markdown",
   "metadata": {},
   "source": [
    "We take 100 samples per class for the testing dataset. The rest is used for training and validation. In case you already have a testing set, it can be upload in order to only change the training samples. "
   ]
  },
  {
   "cell_type": "code",
   "execution_count": 5,
   "metadata": {},
   "outputs": [],
   "source": [
    "# test_saved = pd.read_csv('./data/records/asas/test_objs.csv')"
   ]
  },
  {
   "cell_type": "code",
   "execution_count": 6,
   "metadata": {},
   "outputs": [],
   "source": [
    "training_oids = []\n",
    "testing_oids  = []\n",
    "valids_oids   = []\n",
    "for cls, subframe in meta.groupby('class'):\n",
    "    subframe = subframe.sample(frac=1) # Shuffling\n",
    "\n",
    "    train = subframe.sample(frac=0.5)\n",
    "    \n",
    "    rest  = subframe[~subframe['oid'].isin(train['oid'])]\n",
    "    test  = rest.sample(frac=0.5)\n",
    "    valid = rest[~rest['oid'].isin(test['oid'])]\n",
    "    \n",
    "    training_oids.append(train)\n",
    "    valids_oids.append(valid)\n",
    "    testing_oids.append(test)\n",
    "    \n",
    "train_meta = pd.concat(training_oids)\n",
    "valid_meta = pd.concat(valids_oids)\n",
    "test_meta  = pd.concat(testing_oids)"
   ]
  },
  {
   "cell_type": "code",
   "execution_count": 7,
   "metadata": {},
   "outputs": [
    {
     "name": "stdout",
     "output_type": "stream",
     "text": [
      "10220\n",
      "5112\n",
      "5112\n",
      "20444\n"
     ]
    }
   ],
   "source": [
    "print(train_meta.shape[0])\n",
    "print(valid_meta.shape[0])\n",
    "print(test_meta.shape[0])\n",
    "print(meta.shape[0])"
   ]
  },
  {
   "cell_type": "markdown",
   "metadata": {},
   "source": [
    "we can save the subframes to recover oids later"
   ]
  },
  {
   "cell_type": "code",
   "execution_count": 8,
   "metadata": {},
   "outputs": [],
   "source": [
    "os.makedirs(target, exist_ok=True)\n",
    "train_meta.to_csv(os.path.join(target, 'train_objs.csv'), index=False)\n",
    "valid_meta.to_csv(os.path.join(target, 'val_objs.csv'), index=False)\n",
    "test_meta.to_csv(os.path.join(target, 'test_objs.csv'), index=False)"
   ]
  },
  {
   "cell_type": "markdown",
   "metadata": {},
   "source": [
    "### Saving Records"
   ]
  },
  {
   "cell_type": "markdown",
   "metadata": {},
   "source": [
    "Creating Records requires tables with `['oid', 'mjd', 'mag', 'std', 'band']` columns stored as `.csv` files. Also you can split your entire dataset in shards to optimize reading."
   ]
  },
  {
   "cell_type": "code",
   "execution_count": 16,
   "metadata": {},
   "outputs": [],
   "source": [
    "from multiprocessing import cpu_count"
   ]
  },
  {
   "cell_type": "code",
   "execution_count": 9,
   "metadata": {},
   "outputs": [],
   "source": [
    "observations = dd.read_csv(os.path.join(photshards,'*.csv')) # Load photometries shards using DASK"
   ]
  },
  {
   "cell_type": "code",
   "execution_count": 17,
   "metadata": {
    "scrolled": false
   },
   "outputs": [
    {
     "name": "stdout",
     "output_type": "stream",
     "text": [
      "[INFO] Processing Cep_0 class...\n",
      "[INFO] Cooking windows\n",
      "[INFO] Writting records\n",
      "[INFO] Processing Cep_1 class...\n",
      "[INFO] Cooking windows\n",
      "[INFO] Writting records\n",
      "[INFO] Processing EC class...\n",
      "[INFO] Cooking windows\n",
      "[INFO] Writting records\n",
      "[INFO] Processing LPV class...\n",
      "[INFO] Cooking windows\n",
      "[INFO] Writting records\n",
      "[INFO] Processing RRab class...\n",
      "[INFO] Cooking windows\n",
      "[INFO] Writting records\n",
      "[INFO] Processing RRc class...\n",
      "[INFO] Cooking windows\n",
      "[INFO] Writting records\n",
      "[INFO] Records succefully created. Have a good training\n",
      "CPU times: user 2min 3s, sys: 15.6 s, total: 2min 18s\n",
      "Wall time: 1min 47s\n"
     ]
    }
   ],
   "source": [
    "%%time\n",
    "split_and_create_records(observations, train_meta, dest='{}/train'.format(target), njobs=cpu_count())"
   ]
  },
  {
   "cell_type": "code",
   "execution_count": 18,
   "metadata": {},
   "outputs": [
    {
     "name": "stdout",
     "output_type": "stream",
     "text": [
      "[INFO] Processing Cep_0 class...\n",
      "[INFO] Cooking windows\n",
      "[INFO] Writting records\n",
      "[INFO] Processing Cep_1 class...\n",
      "[INFO] Cooking windows\n",
      "[INFO] Writting records\n",
      "[INFO] Processing EC class...\n",
      "[INFO] Cooking windows\n",
      "[INFO] Writting records\n",
      "[INFO] Processing LPV class...\n",
      "[INFO] Cooking windows\n",
      "[INFO] Writting records\n",
      "[INFO] Processing RRab class...\n",
      "[INFO] Cooking windows\n",
      "[INFO] Writting records\n",
      "[INFO] Processing RRc class...\n",
      "[INFO] Cooking windows\n",
      "[INFO] Writting records\n",
      "[INFO] Records succefully created. Have a good training\n",
      "CPU times: user 1min 23s, sys: 11.1 s, total: 1min 34s\n",
      "Wall time: 1min 3s\n"
     ]
    }
   ],
   "source": [
    "%%time\n",
    "split_and_create_records(observations, valid_meta, dest='{}/val'.format(target), njobs=cpu_count())"
   ]
  },
  {
   "cell_type": "code",
   "execution_count": 19,
   "metadata": {},
   "outputs": [
    {
     "name": "stdout",
     "output_type": "stream",
     "text": [
      "[INFO] Processing Cep_0 class...\n",
      "[INFO] Cooking windows\n",
      "[INFO] Writting records\n",
      "[INFO] Processing Cep_1 class...\n",
      "[INFO] Cooking windows\n",
      "[INFO] Writting records\n",
      "[INFO] Processing EC class...\n",
      "[INFO] Cooking windows\n",
      "[INFO] Writting records\n",
      "[INFO] Processing LPV class...\n",
      "[INFO] Cooking windows\n",
      "[INFO] Writting records\n",
      "[INFO] Processing RRab class...\n",
      "[INFO] Cooking windows\n",
      "[INFO] Writting records\n",
      "[INFO] Processing RRc class...\n",
      "[INFO] Cooking windows\n",
      "[INFO] Writting records\n",
      "[INFO] Records succefully created. Have a good training\n",
      "CPU times: user 1min 27s, sys: 11.5 s, total: 1min 39s\n",
      "Wall time: 1min 6s\n"
     ]
    }
   ],
   "source": [
    "%%time\n",
    "split_and_create_records(observations, test_meta, dest='{}/test'.format(target), njobs=cpu_count())"
   ]
  },
  {
   "cell_type": "code",
   "execution_count": null,
   "metadata": {},
   "outputs": [],
   "source": []
  },
  {
   "cell_type": "markdown",
   "metadata": {},
   "source": [
    "# Loading Data"
   ]
  },
  {
   "cell_type": "code",
   "execution_count": 20,
   "metadata": {},
   "outputs": [
    {
     "name": "stdout",
     "output_type": "stream",
     "text": [
      "/tf/astromer\n"
     ]
    }
   ],
   "source": [
    "cd /tf/astromer"
   ]
  },
  {
   "cell_type": "code",
   "execution_count": 22,
   "metadata": {},
   "outputs": [
    {
     "name": "stdout",
     "output_type": "stream",
     "text": [
      "The autoreload extension is already loaded. To reload it, use:\n",
      "  %reload_ext autoreload\n"
     ]
    }
   ],
   "source": [
    "from core.data import load_records, load_records_v3\n",
    "import os\n",
    "import tensorflow as tf\n",
    "%load_ext autoreload\n",
    "%autoreload 2"
   ]
  },
  {
   "cell_type": "markdown",
   "metadata": {},
   "source": [
    "### Loading data for pretraining and finetuning"
   ]
  },
  {
   "cell_type": "code",
   "execution_count": 62,
   "metadata": {},
   "outputs": [],
   "source": [
    "batch_size = 10\n",
    "max_obs = 200"
   ]
  },
  {
   "cell_type": "code",
   "execution_count": 63,
   "metadata": {},
   "outputs": [
    {
     "name": "stdout",
     "output_type": "stream",
     "text": [
      "Training mode\n",
      "Training mode\n"
     ]
    }
   ],
   "source": [
    "train_batches = load_records_v3('./data/records_v2/alcock/train',\n",
    "                             batch_size,\n",
    "                             max_obs=max_obs,\n",
    "                             is_train=True)\n",
    "val_batches = load_records_v3('./data/records_v2/alcock/val',\n",
    "                             batch_size,\n",
    "                             max_obs=max_obs,\n",
    "                             is_train=True)"
   ]
  },
  {
   "cell_type": "code",
   "execution_count": 64,
   "metadata": {},
   "outputs": [
    {
     "name": "stdout",
     "output_type": "stream",
     "text": [
      "Train: 38999\n",
      "Val: 19351\n"
     ]
    }
   ],
   "source": [
    "print('Train: {}\\nVal: {}'.format(tf.reduce_sum([x['input'].shape[0] for x, _ in train_batches]).numpy(),\n",
    "      tf.reduce_sum([x['input'].shape[0] for x, _ in val_batches]).numpy()))"
   ]
  },
  {
   "cell_type": "code",
   "execution_count": null,
   "metadata": {},
   "outputs": [],
   "source": []
  },
  {
   "cell_type": "code",
   "execution_count": 67,
   "metadata": {},
   "outputs": [
    {
     "name": "stdout",
     "output_type": "stream",
     "text": [
      "Testing mode\n",
      "test:  19435\n"
     ]
    }
   ],
   "source": [
    "test_batches = load_records_v3('./data/records_v2/alcock/test', \n",
    "                               batch_size, \n",
    "                               max_obs=max_obs,\n",
    "                               is_train=False)\n",
    "print('test: ', tf.reduce_sum([x['input'].shape[0] for x, _ in test_batches]).numpy())"
   ]
  },
  {
   "cell_type": "markdown",
   "metadata": {},
   "source": [
    "### Loading data for classification"
   ]
  },
  {
   "cell_type": "code",
   "execution_count": 21,
   "metadata": {},
   "outputs": [
    {
     "ename": "NameError",
     "evalue": "name 'load_records_v3' is not defined",
     "output_type": "error",
     "traceback": [
      "\u001b[0;31m---------------------------------------------------------------------------\u001b[0m",
      "\u001b[0;31mNameError\u001b[0m                                 Traceback (most recent call last)",
      "\u001b[0;32m<ipython-input-21-f92c1dff6ba9>\u001b[0m in \u001b[0;36m<module>\u001b[0;34m\u001b[0m\n\u001b[0;32m----> 1\u001b[0;31m train_batches = load_records_v3('./data/records/alcock/train',\n\u001b[0m\u001b[1;32m      2\u001b[0m                               \u001b[0mbatch_size\u001b[0m\u001b[0;34m,\u001b[0m\u001b[0;34m\u001b[0m\u001b[0;34m\u001b[0m\u001b[0m\n\u001b[1;32m      3\u001b[0m                               \u001b[0mmax_obs\u001b[0m\u001b[0;34m=\u001b[0m\u001b[0;36m10\u001b[0m\u001b[0;34m,\u001b[0m\u001b[0;34m\u001b[0m\u001b[0;34m\u001b[0m\u001b[0m\n\u001b[1;32m      4\u001b[0m                               \u001b[0mmsk_frac\u001b[0m\u001b[0;34m=\u001b[0m\u001b[0;36m0.\u001b[0m\u001b[0;34m,\u001b[0m\u001b[0;34m\u001b[0m\u001b[0;34m\u001b[0m\u001b[0m\n\u001b[1;32m      5\u001b[0m                               \u001b[0mrnd_frac\u001b[0m\u001b[0;34m=\u001b[0m\u001b[0;36m0.\u001b[0m\u001b[0;34m,\u001b[0m\u001b[0;34m\u001b[0m\u001b[0;34m\u001b[0m\u001b[0m\n",
      "\u001b[0;31mNameError\u001b[0m: name 'load_records_v3' is not defined"
     ]
    }
   ],
   "source": [
    "train_batches = load_records_v3('./data/records/alcock/train',\n",
    "                              batch_size,\n",
    "                              max_obs=10,\n",
    "                              msk_frac=0.,                                                  \n",
    "                              rnd_frac=0., \n",
    "                              same_frac=0., \n",
    "                              repeat=1,\n",
    "                              is_train=True)"
   ]
  },
  {
   "cell_type": "code",
   "execution_count": 47,
   "metadata": {},
   "outputs": [
    {
     "name": "stdout",
     "output_type": "stream",
     "text": [
      "tf.Tensor(0.0, shape=(), dtype=float32)\n"
     ]
    }
   ],
   "source": [
    "masked_values = tf.reduce_sum([tf.reduce_sum(batch['mask_in']) for batch in train_batches])\n",
    "print(masked_values)"
   ]
  },
  {
   "cell_type": "markdown",
   "metadata": {},
   "source": [
    "zero value for short light-curves is ok. It means no magnitude was masked."
   ]
  },
  {
   "cell_type": "code",
   "execution_count": null,
   "metadata": {},
   "outputs": [],
   "source": []
  },
  {
   "cell_type": "code",
   "execution_count": null,
   "metadata": {},
   "outputs": [],
   "source": []
  }
 ],
 "metadata": {
  "kernelspec": {
   "display_name": "Python 3",
   "language": "python",
   "name": "python3"
  },
  "language_info": {
   "codemirror_mode": {
    "name": "ipython",
    "version": 3
   },
   "file_extension": ".py",
   "mimetype": "text/x-python",
   "name": "python",
   "nbconvert_exporter": "python",
   "pygments_lexer": "ipython3",
   "version": "3.6.9"
  }
 },
 "nbformat": 4,
 "nbformat_minor": 4
}
