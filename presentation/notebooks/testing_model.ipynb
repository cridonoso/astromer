{
 "cells": [
  {
   "cell_type": "code",
   "execution_count": 2,
   "id": "a488ad6d",
   "metadata": {},
   "outputs": [
    {
     "name": "stdout",
     "output_type": "stream",
     "text": [
      "/home\n"
     ]
    }
   ],
   "source": [
    "cd /home"
   ]
  },
  {
   "cell_type": "code",
   "execution_count": 3,
   "id": "fc6f74af",
   "metadata": {},
   "outputs": [],
   "source": [
    "import matplotlib.pyplot as plt\n",
    "import os \n",
    "import tensorflow as tf\n",
    "\n",
    "from src.models import get_ASTROMER_II\n",
    "from src.data import load_data\n",
    "\n",
    "os.environ[\"CUDA_VISIBLE_DEVICES\"] = \"-1\" # \n",
    "\n",
    "plt.rcParams.update({\n",
    "    \"text.usetex\": True,\n",
    "    \"font.family\": \"sans-serif\",\n",
    "    \"font.sans-serif\": [\"Helvetica\"]})\n",
    "# for Palatino and other serif fonts use:\n",
    "plt.rcParams.update({\n",
    "    \"text.usetex\": True,\n",
    "    \"font.family\": \"serif\",\n",
    "    \"font.serif\": [\"Palatino\"],\n",
    "})\n",
    "\n",
    "%load_ext autoreload\n",
    "%autoreload 2"
   ]
  },
  {
   "cell_type": "code",
   "execution_count": 6,
   "id": "d7992002",
   "metadata": {},
   "outputs": [
    {
     "name": "stdout",
     "output_type": "stream",
     "text": [
      "[INFO] Sampling random windows\n",
      "[INFO] TESTING MODE\n"
     ]
    }
   ],
   "source": [
    "off_nsp = True\n",
    "data = load_data('./data/records/atlas/fold_0/atlas_50/test/',\n",
    "                    batch_size=500,\n",
    "                    window_size=200,\n",
    "                    probed=0.6,\n",
    "                    random_same=.2,\n",
    "                    sampling=True,\n",
    "                    nsp_prob=.5,\n",
    "                    test_mode=True,\n",
    "                    off_nsp=off_nsp)"
   ]
  },
  {
   "cell_type": "code",
   "execution_count": 7,
   "id": "bf282ebd",
   "metadata": {},
   "outputs": [],
   "source": [
    "astromer = get_ASTROMER_II(num_layers=2,\n",
    "                           num_heads=4,\n",
    "                           head_dim=64,\n",
    "                           mixer_size=256,\n",
    "                           dropout=.3955,\n",
    "                           pe_base=1000,\n",
    "                           pe_dim=256,\n",
    "                           pe_c=1,\n",
    "                           window_size=200,\n",
    "                           encoder_mode='normal',\n",
    "                           average_layers=False,\n",
    "                           off_nsp=True)"
   ]
  },
  {
   "cell_type": "code",
   "execution_count": 9,
   "id": "eaa30891",
   "metadata": {},
   "outputs": [
    {
     "name": "stdout",
     "output_type": "stream",
     "text": [
      "[500 200 1]\n",
      "[500 200 1]\n",
      "[500 200 1]\n",
      "[500 200 1]\n"
     ]
    },
    {
     "name": "stderr",
     "output_type": "stream",
     "text": [
      "/usr/local/lib/python3.8/dist-packages/keras/engine/functional.py:638: UserWarning: Input dict contained keys ['original', 'mask'] which did not match any model input. They will be ignored by the model.\n",
      "  inputs = self._flatten_to_reference_inputs(inputs)\n"
     ]
    }
   ],
   "source": [
    "for x, y in data.take(1):\n",
    "    y_pred = astromer(x)"
   ]
  },
  {
   "cell_type": "code",
   "execution_count": 13,
   "id": "3e448930",
   "metadata": {},
   "outputs": [
    {
     "data": {
      "text/plain": [
       "TensorShape([2500, 200, 1])"
      ]
     },
     "execution_count": 13,
     "metadata": {},
     "output_type": "execute_result"
    }
   ],
   "source": [
    "y_pred.shape"
   ]
  },
  {
   "cell_type": "code",
   "execution_count": null,
   "id": "cb15039a",
   "metadata": {},
   "outputs": [],
   "source": []
  }
 ],
 "metadata": {
  "kernelspec": {
   "display_name": "Python 3 (ipykernel)",
   "language": "python",
   "name": "python3"
  },
  "language_info": {
   "codemirror_mode": {
    "name": "ipython",
    "version": 3
   },
   "file_extension": ".py",
   "mimetype": "text/x-python",
   "name": "python",
   "nbconvert_exporter": "python",
   "pygments_lexer": "ipython3",
   "version": "3.8.10"
  }
 },
 "nbformat": 4,
 "nbformat_minor": 5
}
