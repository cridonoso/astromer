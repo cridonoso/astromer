{
 "cells": [
  {
   "cell_type": "markdown",
   "id": "5f82b6f2",
   "metadata": {},
   "source": [
    "# Creating records \n",
    "## Pipeline 2.0\n",
    "##### ASTROMER dev team\n",
    "\n",
    "*Feb 27 2024*"
   ]
  },
  {
   "cell_type": "code",
   "execution_count": 1,
   "id": "135c8403",
   "metadata": {},
   "outputs": [
    {
     "name": "stdout",
     "output_type": "stream",
     "text": [
      "/home/cridonoso/Documents/astromer-science/astromer\n"
     ]
    }
   ],
   "source": [
    "cd ../.."
   ]
  },
  {
   "cell_type": "code",
   "execution_count": 2,
   "id": "8fb0e4e7",
   "metadata": {},
   "outputs": [
    {
     "name": "stderr",
     "output_type": "stream",
     "text": [
      "2024-03-14 11:46:57.289009: I tensorflow/core/platform/cpu_feature_guard.cc:193] This TensorFlow binary is optimized with oneAPI Deep Neural Network Library (oneDNN) to use the following CPU instructions in performance-critical operations:  AVX2 AVX512F AVX512_VNNI FMA\n",
      "To enable them in other operations, rebuild TensorFlow with the appropriate compiler flags.\n",
      "2024-03-14 11:46:57.600683: I tensorflow/core/util/port.cc:104] oneDNN custom operations are on. You may see slightly different numerical results due to floating-point round-off errors from different computation orders. To turn them off, set the environment variable `TF_ENABLE_ONEDNN_OPTS=0`.\n",
      "2024-03-14 11:46:57.644025: W tensorflow/compiler/xla/stream_executor/platform/default/dso_loader.cc:64] Could not load dynamic library 'libcudart.so.11.0'; dlerror: libcudart.so.11.0: cannot open shared object file: No such file or directory\n",
      "2024-03-14 11:46:57.644039: I tensorflow/compiler/xla/stream_executor/cuda/cudart_stub.cc:29] Ignore above cudart dlerror if you do not have a GPU set up on your machine.\n",
      "2024-03-14 11:46:58.672491: W tensorflow/compiler/xla/stream_executor/platform/default/dso_loader.cc:64] Could not load dynamic library 'libnvinfer.so.7'; dlerror: libnvinfer.so.7: cannot open shared object file: No such file or directory\n",
      "2024-03-14 11:46:58.672588: W tensorflow/compiler/xla/stream_executor/platform/default/dso_loader.cc:64] Could not load dynamic library 'libnvinfer_plugin.so.7'; dlerror: libnvinfer_plugin.so.7: cannot open shared object file: No such file or directory\n",
      "2024-03-14 11:46:58.672594: W tensorflow/compiler/tf2tensorrt/utils/py_utils.cc:38] TF-TRT Warning: Cannot dlopen some TensorRT libraries. If you would like to use Nvidia GPU with TensorRT, please make sure the missing libraries mentioned above are installed properly.\n"
     ]
    }
   ],
   "source": [
    "import matplotlib.pyplot as plt\n",
    "import polars as pl\n",
    "import numpy as np\n",
    "import os\n",
    "\n",
    "from src.data.record import DataPipeline\n",
    "\n",
    "%load_ext autoreload\n",
    "%autoreload 2"
   ]
  },
  {
   "cell_type": "markdown",
   "id": "7491cb0a",
   "metadata": {},
   "source": [
    "## Describing raw data before record creation"
   ]
  },
  {
   "cell_type": "code",
   "execution_count": null,
   "id": "43e77871",
   "metadata": {},
   "outputs": [],
   "source": [
    "metadata = pl.read_parquet('./data/raw_data_parquet/macho/metadata.parquet')\n",
    "single_md = metadata.filter(pl.col('shard') == 0)"
   ]
  },
  {
   "cell_type": "code",
   "execution_count": 30,
   "id": "ff817d20",
   "metadata": {},
   "outputs": [
    {
     "data": {
      "text/html": [
       "<div><style>\n",
       ".dataframe > thead > tr,\n",
       ".dataframe > tbody > tr {\n",
       "  text-align: right;\n",
       "  white-space: pre-wrap;\n",
       "}\n",
       "</style>\n",
       "<small>shape: (1, 10)</small><table border=\"1\" class=\"dataframe\"><thead><tr><th>ID</th><th>Path</th><th>N</th><th>Band</th><th>Class</th><th>sset</th><th>newID</th><th>path</th><th>Label</th><th>shard</th></tr><tr><td>str</td><td>str</td><td>i64</td><td>str</td><td>str</td><td>str</td><td>i64</td><td>str</td><td>i8</td><td>i64</td></tr></thead><tbody><tr><td>&quot;F_103.24681.20…</td><td>&quot;F_103.24681.20…</td><td>282</td><td>&quot;R&quot;</td><td>&quot;NonVar&quot;</td><td>&quot;train&quot;</td><td>574087</td><td>&quot;data/raw_data/…</td><td>0</td><td>57</td></tr></tbody></table></div>"
      ],
      "text/plain": [
       "shape: (1, 10)\n",
       "┌──────────────────┬──────────────────┬─────┬──────┬───┬────────┬──────────────────┬───────┬───────┐\n",
       "│ ID               ┆ Path             ┆ N   ┆ Band ┆ … ┆ newID  ┆ path             ┆ Label ┆ shard │\n",
       "│ ---              ┆ ---              ┆ --- ┆ ---  ┆   ┆ ---    ┆ ---              ┆ ---   ┆ ---   │\n",
       "│ str              ┆ str              ┆ i64 ┆ str  ┆   ┆ i64    ┆ str              ┆ i8    ┆ i64   │\n",
       "╞══════════════════╪══════════════════╪═════╪══════╪═══╪════════╪══════════════════╪═══════╪═══════╡\n",
       "│ F_103.24681.2082 ┆ F_103.24681.2082 ┆ 282 ┆ R    ┆ … ┆ 574087 ┆ data/raw_data/ma ┆ 0     ┆ 57    │\n",
       "│                  ┆ .dat             ┆     ┆      ┆   ┆        ┆ cho/LCs/F_103.24 ┆       ┆       │\n",
       "│                  ┆                  ┆     ┆      ┆   ┆        ┆ …                ┆       ┆       │\n",
       "└──────────────────┴──────────────────┴─────┴──────┴───┴────────┴──────────────────┴───────┴───────┘"
      ]
     },
     "execution_count": 30,
     "metadata": {},
     "output_type": "execute_result"
    }
   ],
   "source": [
    "a = metadata.filter(pl.col('ID') == metadata.sample()['ID'])#'F_10.4164.1843')\n",
    "a"
   ]
  },
  {
   "cell_type": "code",
   "execution_count": 104,
   "id": "47b51544",
   "metadata": {},
   "outputs": [],
   "source": [
    "# single_md.to_pandas().to_parquet('./data/raw_data_parquet/tinymacho/metadata.parquet')"
   ]
  },
  {
   "cell_type": "code",
   "execution_count": 150,
   "id": "4a3e1bb4",
   "metadata": {},
   "outputs": [
    {
     "name": "stdout",
     "output_type": "stream",
     "text": [
      "(784, 5)\n",
      "F_10.4275.3723\n",
      "(814, 5)\n"
     ]
    },
    {
     "data": {
      "image/png": "[encoded data removed]",
      "text/plain": [
       "<Figure size 640x480 with 2 Axes>"
      ]
     },
     "metadata": {},
     "output_type": "display_data"
    }
   ],
   "source": [
    "fig, axes = plt.subplots(a.shape[0], 1)\n",
    "for i, row in enumerate(a.rows()):\n",
    "    shard_name = str(row[-1]).rjust(3, '0')\n",
    "    \n",
    "    observations = pl.read_parquet('./data/raw_data_parquet/macho/light_curves/shard_{}.parquet'.format(shard_name))\n",
    "    curve = observations.filter(pl.col('newID') == row[-4])\n",
    "    print(curve.shape)\n",
    "    axes[i].plot(curve['mjd'], curve['mag'], marker='.', color='k')\n",
    "    if i == 0:\n",
    "        axes[i].set_title(row[0])\n",
    "        print(row[0])\n",
    "    "
   ]
  },
  {
   "cell_type": "code",
   "execution_count": null,
   "id": "e5d1bc6a",
   "metadata": {},
   "outputs": [],
   "source": [
    "\n"
   ]
  },
  {
   "cell_type": "code",
   "execution_count": 6,
   "id": "69c915af",
   "metadata": {},
   "outputs": [
    {
     "data": {
      "image/png": "[encoded data removed]",
      "text/plain": [
       "<Figure size 1000x300 with 3 Axes>"
      ]
     },
     "metadata": {},
     "output_type": "display_data"
    }
   ],
   "source": [
    "fig, axes = plt.subplots(1, 3, figsize=(10, 3), gridspec_kw={'wspace':0.4}, dpi=100)\n",
    "axes[0].boxplot(observations['mjd'])\n",
    "axes[0].set_title('Time (MJD)')\n",
    "axes[1].boxplot(observations['mag'])\n",
    "axes[1].set_title('Magnitude')\n",
    "axes[2].boxplot(observations['errmag'])\n",
    "axes[2].set_title('Magnitude STD')\n",
    "plt.show()"
   ]
  },
  {
   "cell_type": "code",
   "execution_count": 73,
   "id": "554e54df",
   "metadata": {},
   "outputs": [
    {
     "name": "stderr",
     "output_type": "stream",
     "text": [
      "/tmp/ipykernel_3614767/839042409.py:12: DeprecationWarning: `apply` is deprecated. It has been renamed to `map_groups`.\n",
      "  observations_f = observations_f.group_by('newID').apply(lightcurve_step)\n"
     ]
    },
    {
     "data": {
      "text/plain": [
       "0.8497722736944622"
      ]
     },
     "execution_count": 73,
     "metadata": {},
     "output_type": "execute_result"
    }
   ],
   "source": [
    "def lightcurve_step(inputs):\n",
    "    p99 = inputs.quantile(0.95, 'nearest')\n",
    "    p01 = inputs.quantile(0.05, 'nearest')\n",
    "    inputs = inputs.filter(pl.col('mag') < p99['mag'])\n",
    "    inputs = inputs.filter(pl.col('mag') > p01['mag'])\n",
    "    return inputs\n",
    "    \n",
    "observations_f = observations.filter((pl.col('errmag') > 0)\\\n",
    "                                     & (pl.col('errmag') < 1.) \\\n",
    "                                     & (pl.col('errmag') < pl.col('mag').abs()))\n",
    "\n",
    "observations_f = observations_f.group_by('newID').apply(lightcurve_step)\n",
    "\n",
    "observations_f.shape[0]/observations.shape[0]"
   ]
  },
  {
   "cell_type": "code",
   "execution_count": 67,
   "id": "dbb3caae",
   "metadata": {},
   "outputs": [
    {
     "data": {
      "image/png": "[encoded data removed]",
      "text/plain": [
       "<Figure size 1000x300 with 3 Axes>"
      ]
     },
     "metadata": {},
     "output_type": "display_data"
    }
   ],
   "source": [
    "fig, axes = plt.subplots(1, 3, figsize=(10, 3), gridspec_kw={'wspace':0.4}, dpi=100)\n",
    "axes[0].boxplot(observations_f['mjd'])\n",
    "axes[0].set_title('Time (MJD)')\n",
    "axes[1].boxplot(observations_f['mag'])\n",
    "axes[1].set_title('Magnitude')\n",
    "axes[2].boxplot(observations_f['errmag'])\n",
    "axes[2].set_title('Magnitude STD')\n",
    "plt.show()"
   ]
  },
  {
   "cell_type": "markdown",
   "id": "195cbd5d",
   "metadata": {},
   "source": [
    "## Creating records"
   ]
  },
  {
   "cell_type": "code",
   "execution_count": 5,
   "id": "e9dd79cc",
   "metadata": {},
   "outputs": [],
   "source": [
    "METAPATH = './data/raw_data_parquet/alcock/metadata.parquet'\n",
    "OBSPATH  = './data/raw_data_parquet/alcock/light_curves/'\n",
    "config_path = './data/raw_data_parquet/alcock/config.toml'"
   ]
  },
  {
   "cell_type": "code",
   "execution_count": 6,
   "id": "1ff57534",
   "metadata": {},
   "outputs": [],
   "source": [
    "metadata = pd.read_parquet(METAPATH)"
   ]
  },
  {
   "cell_type": "code",
   "execution_count": 7,
   "id": "8dfb7065",
   "metadata": {},
   "outputs": [],
   "source": [
    "metadata['Class'] = pd.Categorical(metadata['Class'])\n",
    "metadata['Label'] = metadata['Class'].cat.codes\n",
    "metadata['Path'] = metadata['Path'].apply(lambda x: os.path.join(OBSPATH, x)) "
   ]
  },
  {
   "cell_type": "code",
   "execution_count": 8,
   "id": "234d8678",
   "metadata": {},
   "outputs": [
    {
     "data": {
      "text/html": [
       "<div>\n",
       "<style scoped>\n",
       "    .dataframe tbody tr th:only-of-type {\n",
       "        vertical-align: middle;\n",
       "    }\n",
       "\n",
       "    .dataframe tbody tr th {\n",
       "        vertical-align: top;\n",
       "    }\n",
       "\n",
       "    .dataframe thead th {\n",
       "        text-align: right;\n",
       "    }\n",
       "</style>\n",
       "<table border=\"1\" class=\"dataframe\">\n",
       "  <thead>\n",
       "    <tr style=\"text-align: right;\">\n",
       "      <th></th>\n",
       "      <th>ID</th>\n",
       "      <th>Class</th>\n",
       "      <th>Path</th>\n",
       "      <th>Band</th>\n",
       "      <th>sset</th>\n",
       "      <th>newID</th>\n",
       "      <th>Label</th>\n",
       "    </tr>\n",
       "  </thead>\n",
       "  <tbody>\n",
       "    <tr>\n",
       "      <th>9</th>\n",
       "      <td>78.5859.18</td>\n",
       "      <td>Cep_0</td>\n",
       "      <td>./data/raw_data_parquet/alcock/light_curves/78...</td>\n",
       "      <td>1.0</td>\n",
       "      <td>train</td>\n",
       "      <td>15693</td>\n",
       "      <td>0</td>\n",
       "    </tr>\n",
       "  </tbody>\n",
       "</table>\n",
       "</div>"
      ],
      "text/plain": [
       "           ID  Class                                               Path  Band  \\\n",
       "9  78.5859.18  Cep_0  ./data/raw_data_parquet/alcock/light_curves/78...   1.0   \n",
       "\n",
       "    sset  newID  Label  \n",
       "9  train  15693      0  "
      ]
     },
     "execution_count": 8,
     "metadata": {},
     "output_type": "execute_result"
    }
   ],
   "source": [
    "metadata.sample()"
   ]
  },
  {
   "cell_type": "markdown",
   "id": "d039028e",
   "metadata": {},
   "source": [
    "### Using DataPipeline class"
   ]
  },
  {
   "cell_type": "code",
   "execution_count": 9,
   "id": "1a39da5d",
   "metadata": {},
   "outputs": [
    {
     "name": "stdout",
     "output_type": "stream",
     "text": [
      "[INFO] 20 samples loaded\n"
     ]
    }
   ],
   "source": [
    "# Create an instance of DataPipeline\n",
    "pipeline = DataPipeline(metadata=metadata,\n",
    "                        config_path=config_path)"
   ]
  },
  {
   "cell_type": "code",
   "execution_count": 10,
   "id": "e4df0757",
   "metadata": {},
   "outputs": [
    {
     "data": {
      "text/plain": [
       "['float', 'float', 'float']"
      ]
     },
     "execution_count": 10,
     "metadata": {},
     "output_type": "execute_result"
    }
   ],
   "source": [
    "pipeline.sequential_features_dtype"
   ]
  },
  {
   "cell_type": "markdown",
   "id": "064aad8b",
   "metadata": {},
   "source": [
    "To create training, validation, and testing splits we need to use the `train_val_test` method \n",
    "```\n",
    "train_val_test(val_frac=0.2,\n",
    "               test_frac=0.2,\n",
    "               test_meta=None,\n",
    "               val_meta=None,\n",
    "               shuffle=True,\n",
    "               id_column_name=None,\n",
    "               k_fold=1)\n",
    "``` \n",
    "where `val_frac` and `test_frac` are percentages containing the fraction of the metadata to be used as validation and testing subset respectively. \n",
    "\n",
    "Additionally, you can use `val_meta` and `test_meta` to use a preselected subset. **Notice that if you employ your own test/val subset, you should match one of the identifier columns of the main DataFrame** (by default it will assume the first column of the dataset is the identifier). \n",
    "\n",
    "Both `test_meta` and `val_meta` must be list of `DataFrames`\n",
    "\n",
    "For cross-validation purposes, we can also sample different folds from the same dataset by using the `train_val_test(..., k_fold=1)` parameter.\n",
    "\n",
    "If $k>1$ and **you want to use a predefined test/val selection**, you should pass a list of `DataFrame`s associated with each `test_meta`/`val_meta` fold as appropriate.\n",
    "\n",
    "Don't worry about removing duplicated indices, the `train_val_test` method will do it for you."
   ]
  },
  {
   "cell_type": "code",
   "execution_count": 11,
   "id": "918c742c",
   "metadata": {},
   "outputs": [],
   "source": [
    "# test_metadata = metadata.sample(n=100)\n",
    "test_metadata = metadata[metadata['sset'] == 'test']"
   ]
  },
  {
   "cell_type": "code",
   "execution_count": 14,
   "id": "f193ff7d",
   "metadata": {},
   "outputs": [
    {
     "name": "stdout",
     "output_type": "stream",
     "text": [
      "[INFO] Using ID col as sample identifier\n",
      "[INFO] Shuffling\n",
      "[INFO] Shuffling\n",
      "[INFO] Shuffling\n"
     ]
    }
   ],
   "source": [
    "k_folds = 3\n",
    "pipeline.train_val_test(val_frac=0.2, \n",
    "                        test_meta=None, \n",
    "                        k_fold=k_folds)"
   ]
  },
  {
   "cell_type": "code",
   "execution_count": 15,
   "id": "013795b9",
   "metadata": {},
   "outputs": [
    {
     "name": "stdout",
     "output_type": "stream",
     "text": [
      "Do 3-folds partitions have the same elements:  False\n",
      "Do 3-folds partitions have the same elements:  False\n"
     ]
    }
   ],
   "source": [
    "a = pipeline.metadata['subset_0']\n",
    "for k in range(k_folds):\n",
    "    if k == 0: continue\n",
    "    b = pipeline.metadata[f'subset_{k}']\n",
    "    c = np.array_equal(a[a != 'test'].values, b[b!= 'test'].values)\n",
    "    a = b\n",
    "    print('Do {}-folds partitions have the same elements: '.format(k_folds), c)"
   ]
  },
  {
   "cell_type": "markdown",
   "id": "a9bcf6f3",
   "metadata": {},
   "source": [
    "Now our metadata will contain an extra-column `subset` for the corresponding subset"
   ]
  },
  {
   "cell_type": "code",
   "execution_count": 18,
   "id": "23f631c3",
   "metadata": {},
   "outputs": [
    {
     "data": {
      "text/html": [
       "<div>\n",
       "<style scoped>\n",
       "    .dataframe tbody tr th:only-of-type {\n",
       "        vertical-align: middle;\n",
       "    }\n",
       "\n",
       "    .dataframe tbody tr th {\n",
       "        vertical-align: top;\n",
       "    }\n",
       "\n",
       "    .dataframe thead th {\n",
       "        text-align: right;\n",
       "    }\n",
       "</style>\n",
       "<table border=\"1\" class=\"dataframe\">\n",
       "  <thead>\n",
       "    <tr style=\"text-align: right;\">\n",
       "      <th></th>\n",
       "      <th>ID</th>\n",
       "      <th>Class</th>\n",
       "      <th>Path</th>\n",
       "      <th>Band</th>\n",
       "      <th>sset</th>\n",
       "      <th>newID</th>\n",
       "      <th>Label</th>\n",
       "      <th>subset_0</th>\n",
       "      <th>subset_1</th>\n",
       "      <th>subset_2</th>\n",
       "    </tr>\n",
       "  </thead>\n",
       "  <tbody>\n",
       "    <tr>\n",
       "      <th>13</th>\n",
       "      <td>23.3062.469</td>\n",
       "      <td>RRc</td>\n",
       "      <td>./data/raw_data_parquet/alcock/light_curves/23...</td>\n",
       "      <td>1.0</td>\n",
       "      <td>train</td>\n",
       "      <td>8121</td>\n",
       "      <td>4</td>\n",
       "      <td>test</td>\n",
       "      <td>test</td>\n",
       "      <td>train</td>\n",
       "    </tr>\n",
       "    <tr>\n",
       "      <th>2</th>\n",
       "      <td>82.8408.718</td>\n",
       "      <td>RRab</td>\n",
       "      <td>./data/raw_data_parquet/alcock/light_curves/82...</td>\n",
       "      <td>1.0</td>\n",
       "      <td>train</td>\n",
       "      <td>20001</td>\n",
       "      <td>3</td>\n",
       "      <td>train</td>\n",
       "      <td>train</td>\n",
       "      <td>train</td>\n",
       "    </tr>\n",
       "    <tr>\n",
       "      <th>18</th>\n",
       "      <td>10.3560.324</td>\n",
       "      <td>RRc</td>\n",
       "      <td>./data/raw_data_parquet/alcock/light_curves/10...</td>\n",
       "      <td>1.0</td>\n",
       "      <td>train</td>\n",
       "      <td>961</td>\n",
       "      <td>4</td>\n",
       "      <td>test</td>\n",
       "      <td>train</td>\n",
       "      <td>train</td>\n",
       "    </tr>\n",
       "    <tr>\n",
       "      <th>9</th>\n",
       "      <td>78.5859.18</td>\n",
       "      <td>Cep_0</td>\n",
       "      <td>./data/raw_data_parquet/alcock/light_curves/78...</td>\n",
       "      <td>1.0</td>\n",
       "      <td>train</td>\n",
       "      <td>15693</td>\n",
       "      <td>0</td>\n",
       "      <td>train</td>\n",
       "      <td>train</td>\n",
       "      <td>validation</td>\n",
       "    </tr>\n",
       "  </tbody>\n",
       "</table>\n",
       "</div>"
      ],
      "text/plain": [
       "             ID  Class                                               Path  \\\n",
       "13  23.3062.469    RRc  ./data/raw_data_parquet/alcock/light_curves/23...   \n",
       "2   82.8408.718   RRab  ./data/raw_data_parquet/alcock/light_curves/82...   \n",
       "18  10.3560.324    RRc  ./data/raw_data_parquet/alcock/light_curves/10...   \n",
       "9    78.5859.18  Cep_0  ./data/raw_data_parquet/alcock/light_curves/78...   \n",
       "\n",
       "    Band   sset  newID  Label subset_0 subset_1    subset_2  \n",
       "13   1.0  train   8121      4     test     test       train  \n",
       "2    1.0  train  20001      3    train    train       train  \n",
       "18   1.0  train    961      4     test    train       train  \n",
       "9    1.0  train  15693      0    train    train  validation  "
      ]
     },
     "execution_count": 18,
     "metadata": {},
     "output_type": "execute_result"
    }
   ],
   "source": [
    "pipeline.metadata.sample(4)"
   ]
  },
  {
   "cell_type": "code",
   "execution_count": 19,
   "id": "8e6e88a1",
   "metadata": {},
   "outputs": [
    {
     "name": "stdout",
     "output_type": "stream",
     "text": [
      "(13, 10) (3, 10) (4, 10)\n",
      "test in train?:  False \n",
      " val in train?:  False \n",
      " val in test?:  False\n",
      "(13, 10) (3, 10) (4, 10)\n",
      "test in train?:  False \n",
      " val in train?:  False \n",
      " val in test?:  False\n",
      "(13, 10) (3, 10) (4, 10)\n",
      "test in train?:  False \n",
      " val in train?:  False \n",
      " val in test?:  False\n"
     ]
    }
   ],
   "source": [
    "for k in range(k_folds):\n",
    "    train_subset = pipeline.metadata[pipeline.metadata[f'subset_{k}'] == 'train']\n",
    "    val_subset   = pipeline.metadata[pipeline.metadata[f'subset_{k}'] == 'validation']\n",
    "    test_subset  = pipeline.metadata[pipeline.metadata[f'subset_{k}'] == 'test']\n",
    "\n",
    "    print(train_subset.shape, val_subset.shape, test_subset.shape)\n",
    "\n",
    "    print('test in train?: ', test_subset['ID'].isin(train_subset['ID']).all(),'\\n',\n",
    "          'val in train?: ', val_subset['ID'].isin(train_subset['ID']).all(),'\\n',\n",
    "          'val in test?: ', val_subset['ID'].isin(test_subset['ID']).all())"
   ]
  },
  {
   "cell_type": "markdown",
   "id": "92e25b1f",
   "metadata": {},
   "source": [
    "Notice if you want to redo, you must initialize the object `DataPipeline` again"
   ]
  },
  {
   "cell_type": "markdown",
   "id": "3377c4fe",
   "metadata": {},
   "source": [
    "Now it is **time to the pipeline**"
   ]
  },
  {
   "cell_type": "code",
   "execution_count": 22,
   "id": "539e35af",
   "metadata": {},
   "outputs": [
    {
     "data": {
      "text/plain": [
       "(['ID', 'Label', 'Class', 'Band'], ['string', 'integer', 'string', 'integer'])"
      ]
     },
     "execution_count": 22,
     "metadata": {},
     "output_type": "execute_result"
    }
   ],
   "source": [
    "pipeline.context_features, pipeline.context_features_dtype"
   ]
  },
  {
   "cell_type": "code",
   "execution_count": null,
   "id": "923c9a2e",
   "metadata": {
    "scrolled": true
   },
   "outputs": [],
   "source": [
    "%%time\n",
    "var = pipeline.run(observations_path=OBSPATH, \n",
    "                   metadata_path=METAPATH,\n",
    "                   n_jobs=8,\n",
    "                   elements_per_shard=5000)"
   ]
  },
  {
   "cell_type": "markdown",
   "id": "671b92d9",
   "metadata": {},
   "source": [
    "### Customize what happens within the preprocess function"
   ]
  },
  {
   "cell_type": "markdown",
   "id": "5a1231e7",
   "metadata": {},
   "source": [
    "You must keep the same parameters of the method i.e., `row, context_features, sequential_features`. \n",
    "\n",
    "Also the **output** should be tuple containing the lightcurve (`pd.DataFrame`) and the context values (`dict`)\n",
    "\n",
    "\n",
    "To modify the `process_sample` method we need to create a new class (`MyPipeline`) that inherits from `DataPipeline` "
   ]
  },
  {
   "cell_type": "code",
   "execution_count": 34,
   "id": "f73c94b2",
   "metadata": {},
   "outputs": [],
   "source": [
    "import polars as pl\n",
    "class MyPipeline(DataPipeline):\n",
    "    def lightcurve_step(self, inputs):\n",
    "        \"\"\"\n",
    "        Preprocessing applied to each light curve separately\n",
    "        \"\"\"\n",
    "        # First feature is time\n",
    "        inputs = inputs.sort(self.sequential_features[0], descending=True) \n",
    "        print(inputs)\n",
    "        return inputs\n",
    "\n",
    "    def observations_step(self):\n",
    "        \"\"\"\n",
    "        Preprocessing applied to all observations. Filter only\n",
    "        \"\"\"\n",
    "        fn_0 = pl.col(\"red error\") <1.  # Clean the data on the big lazy dataframe\n",
    "        fn_1 = pl.col(\"red magnitude\") <2.\n",
    "        return fn_0 & fn_1"
   ]
  },
  {
   "cell_type": "markdown",
   "id": "4534f698",
   "metadata": {},
   "source": [
    "Next steps are the same as using the original `DataPipeline` class"
   ]
  },
  {
   "cell_type": "code",
   "execution_count": 35,
   "id": "b3fb0e0c",
   "metadata": {},
   "outputs": [
    {
     "name": "stdout",
     "output_type": "stream",
     "text": [
      "[INFO] 1529386 samples loaded\n"
     ]
    }
   ],
   "source": [
    "custom_pipeline = MyPipeline(metadata=metadata,\n",
    "                             config_path=config_path)"
   ]
  },
  {
   "cell_type": "code",
   "execution_count": 36,
   "id": "859de195",
   "metadata": {},
   "outputs": [
    {
     "name": "stdout",
     "output_type": "stream",
     "text": [
      "[INFO] Using ID col as sample identifier\n",
      "[INFO] Shuffling\n",
      "[INFO] Shuffling\n",
      "[INFO] Shuffling\n"
     ]
    }
   ],
   "source": [
    "test_metadata = metadata.sample(n=100)\n",
    "k_folds = 3\n",
    "custom_pipeline.train_val_test(val_frac=0.2, \n",
    "                               test_meta=[test_metadata]*k_folds, \n",
    "                               k_fold=k_folds)"
   ]
  },
  {
   "cell_type": "code",
   "execution_count": null,
   "id": "817b9322",
   "metadata": {},
   "outputs": [
    {
     "name": "stderr",
     "output_type": "stream",
     "text": [
      "2024-02-23 20:45:11,747 - INFO - Starting DataPipeline operations\n",
      "\n",
      "\n",
      "\n",
      "  0%|\u001b[38;2;0;255;0m                                                                                                                                              \u001b[0m| 0/3 [00:00<?, ?it/s]\u001b[0m\u001b[A\u001b[A\u001b[A"
     ]
    }
   ],
   "source": [
    "%%time\n",
    "var = custom_pipeline.run(observations_path=OBSPATH, \n",
    "                           metadata_path=METAPATH,\n",
    "                           n_jobs=8,\n",
    "                           elements_per_shard=5000)"
   ]
  },
  {
   "cell_type": "markdown",
   "id": "d2ef30a7",
   "metadata": {},
   "source": [
    "# Reading"
   ]
  },
  {
   "cell_type": "code",
   "execution_count": 3,
   "id": "18cb81f5",
   "metadata": {},
   "outputs": [
    {
     "name": "stdout",
     "output_type": "stream",
     "text": [
      "The autoreload extension is already loaded. To reload it, use:\n",
      "  %reload_ext autoreload\n"
     ]
    }
   ],
   "source": [
    "import tensorflow as tf\n",
    "from src.data.loaders import get_loader\n",
    "from src.data.zero import pretraining_pipeline\n",
    "import glob\n",
    "import os\n",
    "\n",
    "%load_ext autoreload\n",
    "%autoreload 2"
   ]
  },
  {
   "cell_type": "code",
   "execution_count": 4,
   "id": "f443ea53",
   "metadata": {},
   "outputs": [],
   "source": [
    "root = './data/records/alcock/fold_0/alcock/train/'\n",
    "window_size = 200\n",
    "probed_frac = .9\n",
    "random_frac = 0.\n",
    "same_frac = 0."
   ]
  },
  {
   "cell_type": "code",
   "execution_count": 6,
   "id": "622f6480",
   "metadata": {
    "scrolled": true
   },
   "outputs": [
    {
     "name": "stdout",
     "output_type": "stream",
     "text": [
      "[INFO] Probed: 0.90 Random: 0.00 Same: 0.00\n",
      "[INFO] Repeating dataset x1 times\n",
      "[INFO] Loading PT task: Masking\n"
     ]
    }
   ],
   "source": [
    "dataset = get_loader(root, \n",
    "                     window_size=window_size,\n",
    "                     batch_size=16,\n",
    "                     probed_frac=probed_frac,\n",
    "                     random_frac=random_frac,\n",
    "                     same_frac=same_frac,\n",
    "                     shuffle=False,\n",
    "                     sampling=False,\n",
    "                     aversion='base',\n",
    "                     normalize='zero-mean',)"
   ]
  },
  {
   "cell_type": "code",
   "execution_count": null,
   "id": "3c47e045",
   "metadata": {},
   "outputs": [],
   "source": []
  },
  {
   "cell_type": "code",
   "execution_count": 15,
   "id": "76646211",
   "metadata": {},
   "outputs": [
    {
     "data": {
      "image/png": "[encoded data removed]",
      "text/plain": [
       "<Figure size 1000x500 with 1 Axes>"
      ]
     },
     "metadata": {},
     "output_type": "display_data"
    }
   ],
   "source": [
    "plt.figure(figsize=(10, 5))\n",
    "for x, y in dataset.take(1):\n",
    "    plt.title(y['lcid'][0].numpy())\n",
    "    xinp = tf.boolean_mask(x['input'][0], 1.-x['mask_in'][0])\n",
    "    tinp = tf.boolean_mask(x['times'][0], 1.-x['mask_in'][0])\n",
    "    \n",
    "    xinp_2 = tf.boolean_mask(x['input'][0], y['mask_out'][0])\n",
    "    tinp_2 = tf.boolean_mask(x['times'][0], y['mask_out'][0])\n",
    "    plt.plot(tinp_2, xinp_2, marker='.', linestyle='', color='darkgreen')\n",
    "    plt.plot(tinp, xinp, marker='*', linestyle='', color='darkred')\n",
    "    "
   ]
  },
  {
   "cell_type": "code",
   "execution_count": null,
   "id": "a64256a2",
   "metadata": {},
   "outputs": [],
   "source": []
  },
  {
   "cell_type": "code",
   "execution_count": 16,
   "id": "3772cd46",
   "metadata": {},
   "outputs": [
    {
     "name": "stdout",
     "output_type": "stream",
     "text": [
      "[INFO] Repeating dataset x1 times\n",
      "[INFO] Loading PT task: Masking\n"
     ]
    }
   ],
   "source": [
    "zero_loader = pretraining_pipeline(root,\n",
    "                                    batch_size= 16, \n",
    "                                    window_size=window_size,\n",
    "                                    shuffle=False,\n",
    "                                    sampling=False,\n",
    "                                    repeat=1,\n",
    "                                    msk_frac=probed_frac,\n",
    "                                    rnd_frac=random_frac,\n",
    "                                    same_frac=random_frac)"
   ]
  },
  {
   "cell_type": "code",
   "execution_count": null,
   "id": "5f586b4d",
   "metadata": {},
   "outputs": [],
   "source": []
  },
  {
   "cell_type": "code",
   "execution_count": 14,
   "id": "5b8fbb08",
   "metadata": {},
   "outputs": [
    {
     "data": {
      "image/png": "[encoded data removed]",
      "text/plain": [
       "<Figure size 1000x500 with 1 Axes>"
      ]
     },
     "metadata": {},
     "output_type": "display_data"
    }
   ],
   "source": [
    "plt.figure(figsize=(10, 5))\n",
    "for x, y in zero_loader.take(1):\n",
    "    plt.title(y['lcid'][0].numpy())\n",
    "    xinp = tf.boolean_mask(x['input'][0], 1.-x['mask_in'][0])\n",
    "    tinp = tf.boolean_mask(x['times'][0], 1.-x['mask_in'][0])\n",
    "    \n",
    "    xinp_2 = tf.boolean_mask(x['input'][0], y['mask_out'][0])\n",
    "    tinp_2 = tf.boolean_mask(x['times'][0], y['mask_out'][0])\n",
    "    plt.plot(tinp_2, xinp_2, marker='.', linestyle='', color='darkgreen')\n",
    "    plt.plot(tinp, xinp, marker='*', linestyle='', color='darkred')"
   ]
  },
  {
   "cell_type": "code",
   "execution_count": null,
   "id": "78f1a712",
   "metadata": {},
   "outputs": [],
   "source": []
  },
  {
   "cell_type": "code",
   "execution_count": null,
   "id": "615a0823",
   "metadata": {},
   "outputs": [],
   "source": []
  },
  {
   "cell_type": "code",
   "execution_count": null,
   "id": "485e412b",
   "metadata": {},
   "outputs": [],
   "source": []
  },
  {
   "cell_type": "code",
   "execution_count": null,
   "id": "fd7e0a39",
   "metadata": {},
   "outputs": [],
   "source": []
  },
  {
   "cell_type": "code",
   "execution_count": null,
   "id": "81509b7d",
   "metadata": {},
   "outputs": [],
   "source": []
  },
  {
   "cell_type": "code",
   "execution_count": null,
   "id": "015a2a63",
   "metadata": {},
   "outputs": [],
   "source": []
  },
  {
   "cell_type": "code",
   "execution_count": null,
   "id": "1a8df698",
   "metadata": {},
   "outputs": [],
   "source": []
  },
  {
   "cell_type": "code",
   "execution_count": null,
   "id": "1f5a2729",
   "metadata": {},
   "outputs": [],
   "source": []
  },
  {
   "cell_type": "code",
   "execution_count": null,
   "id": "de48a1f9",
   "metadata": {},
   "outputs": [],
   "source": []
  },
  {
   "cell_type": "code",
   "execution_count": null,
   "id": "68816683",
   "metadata": {},
   "outputs": [],
   "source": []
  }
 ],
 "metadata": {
  "kernelspec": {
   "display_name": "Python 3 (ipykernel)",
   "language": "python",
   "name": "python3"
  },
  "language_info": {
   "codemirror_mode": {
    "name": "ipython",
    "version": 3
   },
   "file_extension": ".py",
   "mimetype": "text/x-python",
   "name": "python",
   "nbconvert_exporter": "python",
   "pygments_lexer": "ipython3",
   "version": "3.7.16"
  }
 },
 "nbformat": 4,
 "nbformat_minor": 5
}
