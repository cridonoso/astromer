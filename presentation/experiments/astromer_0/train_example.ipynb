{
 "cells": [
  {
   "cell_type": "code",
   "execution_count": 1,
   "id": "94a3199b",
   "metadata": {},
   "outputs": [
    {
     "name": "stdout",
     "output_type": "stream",
     "text": [
      "/home\n"
     ]
    }
   ],
   "source": [
    "cd /home"
   ]
  },
  {
   "cell_type": "code",
   "execution_count": 2,
   "id": "6b16972e",
   "metadata": {},
   "outputs": [
    {
     "name": "stderr",
     "output_type": "stream",
     "text": [
      "/usr/lib/python3/dist-packages/requests/__init__.py:89: RequestsDependencyWarning: urllib3 (1.26.15) or chardet (3.0.4) doesn't match a supported version!\n",
      "  warnings.warn(\"urllib3 ({}) or chardet ({}) doesn't match a supported \"\n"
     ]
    }
   ],
   "source": [
    "from src.models import get_ASTROMER, build_input\n",
    "from src.data import pretraining_pipeline\n",
    "from tensorflow.keras.optimizers import Adam\n",
    "\n",
    "import os \n",
    "os.environ[\"CUDA_VISIBLE_DEVICES\"] = '-1'"
   ]
  },
  {
   "cell_type": "code",
   "execution_count": 3,
   "id": "e9d0f608",
   "metadata": {},
   "outputs": [
    {
     "name": "stderr",
     "output_type": "stream",
     "text": [
      "2023-03-27 14:39:56.536966: E tensorflow/stream_executor/cuda/cuda_driver.cc:271] failed call to cuInit: CUDA_ERROR_NO_DEVICE: no CUDA-capable device is detected\n",
      "2023-03-27 14:39:56.537000: I tensorflow/stream_executor/cuda/cuda_diagnostics.cc:169] retrieving CUDA diagnostic information for host: 7c62fa175994\n",
      "2023-03-27 14:39:56.537008: I tensorflow/stream_executor/cuda/cuda_diagnostics.cc:176] hostname: 7c62fa175994\n",
      "2023-03-27 14:39:56.537105: I tensorflow/stream_executor/cuda/cuda_diagnostics.cc:200] libcuda reported version is: 460.32.3\n",
      "2023-03-27 14:39:56.537120: I tensorflow/stream_executor/cuda/cuda_diagnostics.cc:204] kernel reported version is: 460.32.3\n",
      "2023-03-27 14:39:56.537125: I tensorflow/stream_executor/cuda/cuda_diagnostics.cc:310] kernel version seems to match DSO: 460.32.3\n",
      "2023-03-27 14:39:56.537389: I tensorflow/core/platform/cpu_feature_guard.cc:151] This TensorFlow binary is optimized with oneAPI Deep Neural Network Library (oneDNN) to use the following CPU instructions in performance-critical operations:  AVX2 FMA\n",
      "To enable them in other operations, rebuild TensorFlow with the appropriate compiler flags.\n"
     ]
    }
   ],
   "source": [
    "window_size = 200\n",
    "\n",
    "astromer =  get_ASTROMER(num_layers=2,\n",
    "                         d_model=16,\n",
    "                         num_heads=2,\n",
    "                         dff=128,\n",
    "                         base=1000,\n",
    "                         dropout=.1,\n",
    "                         maxlen=window_size,\n",
    "                         pe_c=1.)"
   ]
  },
  {
   "cell_type": "code",
   "execution_count": 4,
   "id": "25af227a",
   "metadata": {},
   "outputs": [],
   "source": [
    "optimizer = Adam(1e-3, beta_1=0.9, beta_2=0.98, epsilon=1e-9)\n",
    "astromer.compile(optimizer=optimizer)"
   ]
  },
  {
   "cell_type": "code",
   "execution_count": 5,
   "id": "554c1d74",
   "metadata": {},
   "outputs": [
    {
     "name": "stdout",
     "output_type": "stream",
     "text": [
      "[INFO] Repeating dataset x1 times\n",
      "[INFO] Repeating dataset x1 times\n"
     ]
    }
   ],
   "source": [
    "data_dir = './data/records/alcock/fold_0/alcock_20/'\n",
    "data = dict()\n",
    "for subset in ['train', 'val']:\n",
    "    data[subset] = pretraining_pipeline(os.path.join(data_dir, subset), \n",
    "                                        16, window_size, .2, .1, .1,\n",
    "                                        sampling=True, shuffle=True, repeat=1, num_cls=None,\n",
    "                                        normalize=True, cache=True)"
   ]
  },
  {
   "cell_type": "code",
   "execution_count": 6,
   "id": "faaa7b4e",
   "metadata": {},
   "outputs": [
    {
     "name": "stdout",
     "output_type": "stream",
     "text": [
      "6/6 [==============================] - 3s 223ms/step - loss: 1.1924 - r_square: -31.3705 - val_loss: 0.9357 - val_r_square: -9.3223\n"
     ]
    }
   ],
   "source": [
    "hist = astromer.fit(data['train'], epochs=1, validation_data=data['val'])"
   ]
  },
  {
   "cell_type": "code",
   "execution_count": 15,
   "id": "8ca5ddf9",
   "metadata": {},
   "outputs": [
    {
     "data": {
      "text/plain": [
       "{'train_loss': 1.2357028722763062,\n",
       " 'train_r2': -52.94478225708008,\n",
       " 'val_loss': 0.9357174038887024,\n",
       " 'val_r2': -9.322321891784668}"
      ]
     },
     "execution_count": 15,
     "metadata": {},
     "output_type": "execute_result"
    }
   ],
   "source": [
    "import tensorflow as tf \n",
    "\n",
    "min_index = tf.argmin(hist.history['val_loss'])\n",
    "{\n",
    " 'train_loss':hist.history['loss'][min_index],\n",
    "'train_r2':hist.history['r_square'][min_index],\n",
    "'val_loss':hist.history['val_loss'][min_index],\n",
    "'val_r2':hist.history['val_r_square'][min_index]   \n",
    "}\n"
   ]
  },
  {
   "cell_type": "code",
   "execution_count": 13,
   "id": "633884a6",
   "metadata": {},
   "outputs": [
    {
     "data": {
      "text/plain": [
       "{'loss': [1.2357028722763062],\n",
       " 'r_square': [-52.94478225708008],\n",
       " 'val_loss': [0.9357174038887024],\n",
       " 'val_r_square': [-9.322321891784668]}"
      ]
     },
     "execution_count": 13,
     "metadata": {},
     "output_type": "execute_result"
    }
   ],
   "source": [
    "hist.history"
   ]
  },
  {
   "cell_type": "code",
   "execution_count": null,
   "id": "c6ab8e5c",
   "metadata": {},
   "outputs": [],
   "source": []
  }
 ],
 "metadata": {
  "kernelspec": {
   "display_name": "Python 3 (ipykernel)",
   "language": "python",
   "name": "python3"
  },
  "language_info": {
   "codemirror_mode": {
    "name": "ipython",
    "version": 3
   },
   "file_extension": ".py",
   "mimetype": "text/x-python",
   "name": "python",
   "nbconvert_exporter": "python",
   "pygments_lexer": "ipython3",
   "version": "3.8.10"
  }
 },
 "nbformat": 4,
 "nbformat_minor": 5
}
