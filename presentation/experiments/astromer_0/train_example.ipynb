{
 "cells": [
  {
   "cell_type": "code",
   "execution_count": 1,
   "id": "94a3199b",
   "metadata": {},
   "outputs": [
    {
     "name": "stdout",
     "output_type": "stream",
     "text": [
      "/home\n"
     ]
    }
   ],
   "source": [
    "cd /home"
   ]
  },
  {
   "cell_type": "code",
   "execution_count": 5,
   "id": "6b16972e",
   "metadata": {},
   "outputs": [],
   "source": [
    "from src.models import get_ASTROMER, build_input\n",
    "from src.data import pretraining_pipeline\n",
    "from tensorflow.keras.optimizers import Adam\n",
    "\n",
    "import os \n",
    "os.environ[\"CUDA_VISIBLE_DEVICES\"] = '-1'"
   ]
  },
  {
   "cell_type": "code",
   "execution_count": 4,
   "id": "e9d0f608",
   "metadata": {},
   "outputs": [],
   "source": [
    "window_size = 200\n",
    "\n",
    "astromer =  get_ASTROMER(num_layers=2,\n",
    "                         d_model=16,\n",
    "                         num_heads=2,\n",
    "                         dff=128,\n",
    "                         base=1000,\n",
    "                         dropout=.1,\n",
    "                         maxlen=window_size,\n",
    "                         pe_c=1.)"
   ]
  },
  {
   "cell_type": "code",
   "execution_count": 7,
   "id": "25af227a",
   "metadata": {},
   "outputs": [],
   "source": [
    "optimizer = Adam(1e-3, beta_1=0.9, beta_2=0.98, epsilon=1e-9)\n",
    "astromer.compile(optimizer=optimizer)"
   ]
  },
  {
   "cell_type": "code",
   "execution_count": 11,
   "id": "554c1d74",
   "metadata": {},
   "outputs": [
    {
     "name": "stdout",
     "output_type": "stream",
     "text": [
      "[INFO] Repeating dataset x1 times\n",
      "[INFO] Repeating dataset x1 times\n"
     ]
    }
   ],
   "source": [
    "data_dir = './data/records/alcock/fold_0/alcock_20/'\n",
    "data = dict()\n",
    "for subset in ['train', 'val']:\n",
    "    data[subset] = pretraining_pipeline(os.path.join(data_dir, subset), \n",
    "                                        16, window_size, .2, .1, .1,\n",
    "                                        sampling=True, shuffle=True, repeat=1, num_cls=None,\n",
    "                                        normalize=True, cache=True)"
   ]
  },
  {
   "cell_type": "code",
   "execution_count": 12,
   "id": "faaa7b4e",
   "metadata": {},
   "outputs": [
    {
     "name": "stdout",
     "output_type": "stream",
     "text": [
      "6/6 [==============================] - 1s 187ms/step - loss: 0.7059 - r_square: -12.6989 - val_loss: 0.5867 - val_r_square: -13.4810\n"
     ]
    }
   ],
   "source": [
    "hist = astromer.fit(data['train'], epochs=1, validation_data=data['val'])"
   ]
  },
  {
   "cell_type": "code",
   "execution_count": 13,
   "id": "8ca5ddf9",
   "metadata": {},
   "outputs": [
    {
     "data": {
      "text/plain": [
       "{'loss': [0.6965915560722351],\n",
       " 'r_square': [-8.150406837463379],\n",
       " 'val_loss': [0.586699366569519],\n",
       " 'val_r_square': [-13.480958938598633]}"
      ]
     },
     "execution_count": 13,
     "metadata": {},
     "output_type": "execute_result"
    }
   ],
   "source": [
    "hist.history"
   ]
  },
  {
   "cell_type": "code",
   "execution_count": null,
   "id": "633884a6",
   "metadata": {},
   "outputs": [],
   "source": []
  }
 ],
 "metadata": {
  "kernelspec": {
   "display_name": "Python 3 (ipykernel)",
   "language": "python",
   "name": "python3"
  },
  "language_info": {
   "codemirror_mode": {
    "name": "ipython",
    "version": 3
   },
   "file_extension": ".py",
   "mimetype": "text/x-python",
   "name": "python",
   "nbconvert_exporter": "python",
   "pygments_lexer": "ipython3",
   "version": "3.8.10"
  }
 },
 "nbformat": 4,
 "nbformat_minor": 5
}
