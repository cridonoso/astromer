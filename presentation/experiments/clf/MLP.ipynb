{
 "cells": [
  {
   "cell_type": "code",
   "execution_count": 1,
   "id": "18d3497c",
   "metadata": {},
   "outputs": [
    {
     "name": "stdout",
     "output_type": "stream",
     "text": [
      "/home\n"
     ]
    }
   ],
   "source": [
    "cd /home"
   ]
  },
  {
   "cell_type": "code",
   "execution_count": 2,
   "id": "cc1059e8",
   "metadata": {},
   "outputs": [
    {
     "name": "stdout",
     "output_type": "stream",
     "text": [
      "\u001b[H\u001b[2J"
     ]
    }
   ],
   "source": [
    "import tensorflow as tf\n",
    "import pandas as pd\n",
    "import numpy as np\n",
    "import json \n",
    "import os\n",
    "\n",
    "import matplotlib.pyplot as plt\n",
    "\n",
    "from presentation.scripts.classify import build_lstm, build_lstm_att\n",
    "from core.astromer import get_ASTROMER\n",
    "\n",
    "os.environ[\"CUDA_VISIBLE_DEVICES\"]='-1'\n",
    "\n",
    "plt.rcParams.update({\n",
    "    \"text.usetex\": True,\n",
    "    \"font.family\": \"sans-serif\",\n",
    "    \"font.sans-serif\": [\"Helvetica\"]})\n",
    "# for Palatino and other serif fonts use:\n",
    "plt.rcParams.update({\n",
    "    \"text.usetex\": True,\n",
    "    \"font.family\": \"serif\",\n",
    "    \"font.serif\": [\"Palatino\"],\n",
    "})"
   ]
  },
  {
   "cell_type": "code",
   "execution_count": 3,
   "id": "e9f85580",
   "metadata": {},
   "outputs": [
    {
     "name": "stderr",
     "output_type": "stream",
     "text": [
      "2022-07-16 20:51:09.602370: E tensorflow/stream_executor/cuda/cuda_driver.cc:271] failed call to cuInit: CUDA_ERROR_NO_DEVICE: no CUDA-capable device is detected\n",
      "2022-07-16 20:51:09.602408: I tensorflow/stream_executor/cuda/cuda_diagnostics.cc:169] retrieving CUDA diagnostic information for host: f2d80638b482\n",
      "2022-07-16 20:51:09.602415: I tensorflow/stream_executor/cuda/cuda_diagnostics.cc:176] hostname: f2d80638b482\n",
      "2022-07-16 20:51:09.602512: I tensorflow/stream_executor/cuda/cuda_diagnostics.cc:200] libcuda reported version is: 460.32.3\n",
      "2022-07-16 20:51:09.602530: I tensorflow/stream_executor/cuda/cuda_diagnostics.cc:204] kernel reported version is: 460.32.3\n",
      "2022-07-16 20:51:09.602535: I tensorflow/stream_executor/cuda/cuda_diagnostics.cc:310] kernel version seems to match DSO: 460.32.3\n",
      "2022-07-16 20:51:09.602732: I tensorflow/core/platform/cpu_feature_guard.cc:151] This TensorFlow binary is optimized with oneAPI Deep Neural Network Library (oneDNN) to use the following CPU instructions in performance-critical operations:  AVX2 FMA\n",
      "To enable them in other operations, rebuild TensorFlow with the appropriate compiler flags.\n"
     ]
    }
   ],
   "source": [
    "new_model = tf.keras.models.load_model('./runs/astromer_256/classifiers/a/alcock/fold_0/alcock_500/mlp_att/model/')"
   ]
  },
  {
   "cell_type": "code",
   "execution_count": null,
   "id": "e13329f5",
   "metadata": {},
   "outputs": [],
   "source": []
  },
  {
   "cell_type": "code",
   "execution_count": 45,
   "id": "68ba08f9",
   "metadata": {},
   "outputs": [
    {
     "data": {
      "image/png": "[encoded data removed]",
      "text/plain": [
       "<Figure size 400x400 with 3 Axes>"
      ]
     },
     "metadata": {
      "needs_background": "light"
     },
     "output_type": "display_data"
    }
   ],
   "source": [
    "fig, axes = plt.subplots(3,1, figsize=(4,4), dpi=100, sharex=True, gridspec_kw={'hspace': 0.05, 'wspace': 0.3})\n",
    "\n",
    "cut = [.0005, .1, .01, 100]\n",
    "for i, ax in enumerate(axes.ravel()):\n",
    "    kernel, bias = new_model.get_layer('dense_{}'.format(i+5)).weights\n",
    "\n",
    "    kernel_flatten = np.reshape(kernel, kernel.shape[0]*kernel.shape[1])\n",
    "    kernel_flatten = kernel_flatten[np.abs(kernel_flatten)<cut[i]]\n",
    "\n",
    "    ax.hist(kernel_flatten, bins=100, color='k')\n",
    "    if i == 0:\n",
    "        values = list(np.linspace(kernel_flatten.min(), kernel_flatten.max(), 4))\n",
    "        values = values[:2]+[0.]+values[2:]\n",
    "        ax.set_xticks(values)\n",
    "        ax.set_xticklabels(['-5e-4', '-1e-4', '0', '1e-4', '5e-4'])\n",
    "        ax.text(1.3e-4, 8000, s='1st FFN $\\in \\mathbb{R}^{256 \\\\times 1024}$')\n",
    "        \n",
    "    if i == 1:\n",
    "        values = list(np.linspace(kernel_flatten.min(), kernel_flatten.max(), 4))\n",
    "        values = values[:2]+[0.]+values[2:]\n",
    "        ax.set_xticks(values)\n",
    "        ax.set_xticklabels(['-6e-4', '-1e-4', '0', '1e-4', '6e-4'])\n",
    "        ax.text(1.3e-4, 20000, s='2nd FFN $\\in \\mathbb{R}^{1024 \\\\times 512}$')\n",
    "        \n",
    "    if i == 2:\n",
    "        values = list(np.linspace(kernel_flatten.min(), kernel_flatten.max(), 4))\n",
    "        values = values[:2]+[0.]+values[2:]\n",
    "        ax.set_xticks(values)\n",
    "        ax.set_xticklabels(['-6e-4', '-1e-4', '0', '1e-4', '6e-4'])\n",
    "        ax.text(1.3e-4, 5000, s='3rd layer $\\in \\mathbb{R}^{512 \\\\times 256}$')\n",
    "        \n",
    "fig.text(0.5, 0.02, 'Weigths values', ha='center', fontsize=12)\n",
    "fig.text(-0.04, 0.5, 'Counts', va='center', rotation='vertical', fontsize=12)\n",
    "fig.savefig('presentation/figures/mlp_weights.pdf', format='pdf', bbox_inches='tight')"
   ]
  },
  {
   "cell_type": "code",
   "execution_count": null,
   "id": "b847f92a",
   "metadata": {},
   "outputs": [],
   "source": []
  },
  {
   "cell_type": "code",
   "execution_count": null,
   "id": "1c087fc7",
   "metadata": {},
   "outputs": [],
   "source": []
  },
  {
   "cell_type": "code",
   "execution_count": null,
   "id": "eba8011d",
   "metadata": {},
   "outputs": [],
   "source": []
  },
  {
   "cell_type": "code",
   "execution_count": null,
   "id": "c5babd47",
   "metadata": {},
   "outputs": [],
   "source": []
  }
 ],
 "metadata": {
  "kernelspec": {
   "display_name": "Python 3 (ipykernel)",
   "language": "python",
   "name": "python3"
  },
  "language_info": {
   "codemirror_mode": {
    "name": "ipython",
    "version": 3
   },
   "file_extension": ".py",
   "mimetype": "text/x-python",
   "name": "python",
   "nbconvert_exporter": "python",
   "pygments_lexer": "ipython3",
   "version": "3.8.10"
  }
 },
 "nbformat": 4,
 "nbformat_minor": 5
}
