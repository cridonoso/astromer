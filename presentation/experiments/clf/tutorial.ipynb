{
 "cells": [
  {
   "cell_type": "code",
   "execution_count": 1,
   "id": "e416dc67",
   "metadata": {},
   "outputs": [
    {
     "name": "stdout",
     "output_type": "stream",
     "text": [
      "/home/users/cdonoso/astromer/ASTROMER\n"
     ]
    }
   ],
   "source": [
    "cd ../../.."
   ]
  },
  {
   "cell_type": "markdown",
   "id": "63f7b260",
   "metadata": {},
   "source": [
    "# Using ASTROMER as layer's model"
   ]
  },
  {
   "cell_type": "code",
   "execution_count": 2,
   "id": "43188971",
   "metadata": {},
   "outputs": [
    {
     "name": "stdout",
     "output_type": "stream",
     "text": [
      "\u001b[H\u001b[2J"
     ]
    }
   ],
   "source": [
    "import tensorflow as tf\n",
    "import pandas as pd\n",
    "import os\n",
    "\n",
    "from tensorflow.keras.layers import BatchNormalization, Dense, LSTM, LayerNormalization\n",
    "from tensorflow.keras import Input, Model\n",
    "\n",
    "from presentation.experiments.clf.classifiers import build_mlp_att, build_lstm_att\n",
    "from core.data import load_dataset, inference_pipeline, pretraining_pipeline\n",
    "from core.astromer import ASTROMER\n",
    "from core.training.scheduler import CustomSchedule\n",
    "\n",
    "os.environ[\"CUDA_VISIBLE_DEVICES\"]='1'\n",
    "%load_ext autoreload\n",
    "%autoreload 2"
   ]
  },
  {
   "cell_type": "markdown",
   "id": "1cc7ae83",
   "metadata": {},
   "source": [
    "First we load ASTROMER pre-trained weights"
   ]
  },
  {
   "cell_type": "code",
   "execution_count": 3,
   "id": "64783866",
   "metadata": {},
   "outputs": [
    {
     "name": "stderr",
     "output_type": "stream",
     "text": [
      "2022-04-04 10:46:57.612121: I tensorflow/core/platform/cpu_feature_guard.cc:142] This TensorFlow binary is optimized with oneAPI Deep Neural Network Library (oneDNN) to use the following CPU instructions in performance-critical operations:  AVX2 FMA\n",
      "To enable them in other operations, rebuild TensorFlow with the appropriate compiler flags.\n",
      "2022-04-04 10:46:58.029450: I tensorflow/core/common_runtime/gpu/gpu_device.cc:1510] Created device /job:localhost/replica:0/task:0/device:GPU:0 with 22354 MB memory:  -> device: 0, name: NVIDIA RTX A5000, pci bus id: 0000:82:00.0, compute capability: 8.6\n"
     ]
    }
   ],
   "source": [
    "batch_size = 512\n",
    "astromer = ASTROMER()\n",
    "astromer.load_weights('./runs/macho/')"
   ]
  },
  {
   "cell_type": "markdown",
   "id": "870ce8e3",
   "metadata": {},
   "source": [
    "First we load data"
   ]
  },
  {
   "cell_type": "code",
   "execution_count": 4,
   "id": "943dbfd5",
   "metadata": {},
   "outputs": [],
   "source": [
    "batch_size = 512\n",
    "max_obs    = 200\n",
    "datapath   = './data/records/alcock/fold_0/alcock/'"
   ]
  },
  {
   "cell_type": "code",
   "execution_count": 5,
   "id": "42acebbe",
   "metadata": {},
   "outputs": [
    {
     "data": {
      "text/html": [
       "<div>\n",
       "<style scoped>\n",
       "    .dataframe tbody tr th:only-of-type {\n",
       "        vertical-align: middle;\n",
       "    }\n",
       "\n",
       "    .dataframe tbody tr th {\n",
       "        vertical-align: top;\n",
       "    }\n",
       "\n",
       "    .dataframe thead th {\n",
       "        text-align: right;\n",
       "    }\n",
       "</style>\n",
       "<table border=\"1\" class=\"dataframe\">\n",
       "  <thead>\n",
       "    <tr style=\"text-align: right;\">\n",
       "      <th></th>\n",
       "      <th>label</th>\n",
       "      <th>size</th>\n",
       "    </tr>\n",
       "  </thead>\n",
       "  <tbody>\n",
       "    <tr>\n",
       "      <th>0</th>\n",
       "      <td>Cep_0</td>\n",
       "      <td>1082</td>\n",
       "    </tr>\n",
       "    <tr>\n",
       "      <th>1</th>\n",
       "      <td>Cep_1</td>\n",
       "      <td>583</td>\n",
       "    </tr>\n",
       "    <tr>\n",
       "      <th>2</th>\n",
       "      <td>EC</td>\n",
       "      <td>6724</td>\n",
       "    </tr>\n",
       "    <tr>\n",
       "      <th>3</th>\n",
       "      <td>LPV</td>\n",
       "      <td>2946</td>\n",
       "    </tr>\n",
       "    <tr>\n",
       "      <th>4</th>\n",
       "      <td>RRab</td>\n",
       "      <td>7297</td>\n",
       "    </tr>\n",
       "    <tr>\n",
       "      <th>5</th>\n",
       "      <td>RRc</td>\n",
       "      <td>1662</td>\n",
       "    </tr>\n",
       "  </tbody>\n",
       "</table>\n",
       "</div>"
      ],
      "text/plain": [
       "   label  size\n",
       "0  Cep_0  1082\n",
       "1  Cep_1   583\n",
       "2     EC  6724\n",
       "3    LPV  2946\n",
       "4   RRab  7297\n",
       "5    RRc  1662"
      ]
     },
     "execution_count": 5,
     "metadata": {},
     "output_type": "execute_result"
    }
   ],
   "source": [
    "catalog = pd.read_csv('{}/objects.csv'.format(datapath))\n",
    "n_classes = catalog.shape[0]\n",
    "catalog"
   ]
  },
  {
   "cell_type": "code",
   "execution_count": 6,
   "id": "267c73bb",
   "metadata": {},
   "outputs": [
    {
     "name": "stdout",
     "output_type": "stream",
     "text": [
      "[INFO] Shuffling\n"
     ]
    }
   ],
   "source": [
    "traindata = load_dataset(os.path.join(datapath, 'train'), repeat=1, shuffle=True)\n",
    "valdata   = load_dataset(os.path.join(datapath, 'val'), repeat=1)\n",
    "testdata  = load_dataset(os.path.join(datapath, 'test'), repeat=1)"
   ]
  },
  {
   "cell_type": "markdown",
   "id": "4905969b",
   "metadata": {},
   "source": [
    "## Classification"
   ]
  },
  {
   "cell_type": "markdown",
   "id": "90a8f94a",
   "metadata": {},
   "source": [
    "When using `inference_pipeline()` the output is the classification labels instead of the reconstruction"
   ]
  },
  {
   "cell_type": "code",
   "execution_count": 7,
   "id": "104ea727",
   "metadata": {},
   "outputs": [
    {
     "name": "stdout",
     "output_type": "stream",
     "text": [
      "[INFO] Inference mode. Cutting 200-len windows\n",
      "[INFO] Inference mode. Cutting 200-len windows\n"
     ]
    }
   ],
   "source": [
    "train_batches = inference_pipeline(traindata,\n",
    "                                   batch_size=batch_size,\n",
    "                                   max_obs=max_obs,\n",
    "                                   n_classes=n_classes,\n",
    "                                   shuffle=False)\n",
    "val_batches   = inference_pipeline(valdata,\n",
    "                                   batch_size=batch_size,\n",
    "                                   max_obs=max_obs,\n",
    "                                   n_classes=n_classes,\n",
    "                                   shuffle=False)"
   ]
  },
  {
   "cell_type": "markdown",
   "id": "6ca8411e",
   "metadata": {},
   "source": [
    "Now we use the encoder layer from the pretrained ASTROMER instance"
   ]
  },
  {
   "cell_type": "code",
   "execution_count": 8,
   "id": "88e512d7",
   "metadata": {},
   "outputs": [],
   "source": [
    "encoder = astromer.get_layer('encoder')"
   ]
  },
  {
   "cell_type": "markdown",
   "id": "629f4ff1",
   "metadata": {},
   "source": [
    "and creates the classifier model"
   ]
  },
  {
   "cell_type": "code",
   "execution_count": 9,
   "id": "6a0f997e",
   "metadata": {},
   "outputs": [],
   "source": [
    "serie  = Input(shape=(max_obs, 1), batch_size=None, name='input')\n",
    "times  = Input(shape=(max_obs, 1), batch_size=None, name='times')\n",
    "mask   = Input(shape=(max_obs, 1), batch_size=None, name='mask')\n",
    "placeholder = {'input':serie, 'mask_in':mask, 'times':times}\n",
    "\n",
    "mask_rnn = tf.cast(1.-placeholder['mask_in'][...,0], dtype=tf.bool)\n",
    "\n",
    "x = encoder(placeholder, training=False)\n",
    "x = LSTM(256, dropout=.3, return_sequences=True)(x, mask=mask_rnn)\n",
    "x = LayerNormalization()(x)\n",
    "x = LSTM(256, dropout=.3)(x, mask=mask_rnn)\n",
    "x = LayerNormalization()(x)\n",
    "x = Dense(n_classes)(x)\n",
    "\n",
    "classifier = Model(inputs=placeholder, outputs=x, name=\"LSTMATT\")"
   ]
  },
  {
   "cell_type": "markdown",
   "id": "67e38eae",
   "metadata": {},
   "source": [
    "we compile our model with `adam` optimizer and `CategoricalCrossentropy` loss"
   ]
  },
  {
   "cell_type": "code",
   "execution_count": 15,
   "id": "c618c6fd",
   "metadata": {},
   "outputs": [],
   "source": [
    "from tensorflow.keras.losses import CategoricalCrossentropy\n",
    "\n",
    "classifier.compile(optimizer='adam',\n",
    "                   loss=CategoricalCrossentropy(from_logits=True),\n",
    "                   metrics='accuracy')"
   ]
  },
  {
   "cell_type": "markdown",
   "id": "abd5b033",
   "metadata": {},
   "source": [
    "and let's train!"
   ]
  },
  {
   "cell_type": "code",
   "execution_count": null,
   "id": "34e2fffe",
   "metadata": {},
   "outputs": [
    {
     "name": "stdout",
     "output_type": "stream",
     "text": [
      "Epoch 1/5\n"
     ]
    },
    {
     "name": "stderr",
     "output_type": "stream",
     "text": [
      "2022-04-04 10:49:15.575241: I tensorflow/stream_executor/cuda/cuda_blas.cc:1760] TensorFloat-32 will be used for the matrix multiplication. This will only be logged once.\n",
      "2022-04-04 10:49:16.504696: I tensorflow/stream_executor/cuda/cuda_dnn.cc:369] Loaded cuDNN version 8204\n"
     ]
    },
    {
     "name": "stdout",
     "output_type": "stream",
     "text": [
      "119/119 [==============================] - 42s 280ms/step - loss: 1.2561 - accuracy: 0.5463 - val_loss: 0.8550 - val_accuracy: 0.6866\n",
      "Epoch 2/5\n",
      "119/119 [==============================] - 32s 266ms/step - loss: 0.8911 - accuracy: 0.6711 - val_loss: 0.8503 - val_accuracy: 0.6857\n",
      "Epoch 3/5\n",
      " 52/119 [============>.................] - ETA: 15s - loss: 0.8899 - accuracy: 0.6607"
     ]
    }
   ],
   "source": [
    "history = classifier.fit(train_batches,\n",
    "                         epochs=5,\n",
    "                         validation_data=val_batches)"
   ]
  },
  {
   "cell_type": "code",
   "execution_count": null,
   "id": "3fc67fcc",
   "metadata": {
    "scrolled": true
   },
   "outputs": [],
   "source": []
  },
  {
   "cell_type": "code",
   "execution_count": null,
   "id": "97144267",
   "metadata": {},
   "outputs": [],
   "source": []
  }
 ],
 "metadata": {
  "kernelspec": {
   "display_name": "Python 3 (ipykernel)",
   "language": "python",
   "name": "python3"
  },
  "language_info": {
   "codemirror_mode": {
    "name": "ipython",
    "version": 3
   },
   "file_extension": ".py",
   "mimetype": "text/x-python",
   "name": "python",
   "nbconvert_exporter": "python",
   "pygments_lexer": "ipython3",
   "version": "3.8.0"
  }
 },
 "nbformat": 4,
 "nbformat_minor": 5
}
