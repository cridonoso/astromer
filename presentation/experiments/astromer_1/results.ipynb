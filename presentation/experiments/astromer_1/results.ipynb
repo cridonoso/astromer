{
 "cells": [
  {
   "cell_type": "code",
   "execution_count": 1,
   "id": "b19f0738",
   "metadata": {},
   "outputs": [
    {
     "name": "stdout",
     "output_type": "stream",
     "text": [
      "/home\n"
     ]
    }
   ],
   "source": [
    "cd /home"
   ]
  },
  {
   "cell_type": "code",
   "execution_count": 2,
   "id": "e4f5a13b",
   "metadata": {},
   "outputs": [
    {
     "name": "stderr",
     "output_type": "stream",
     "text": [
      "/usr/lib/python3/dist-packages/requests/__init__.py:89: RequestsDependencyWarning: urllib3 (2.0.3) or chardet (3.0.4) doesn't match a supported version!\n",
      "  warnings.warn(\"urllib3 ({}) or chardet ({}) doesn't match a supported \"\n",
      "2023-09-06 15:18:31.034997: I tensorflow/core/platform/cpu_feature_guard.cc:193] This TensorFlow binary is optimized with oneAPI Deep Neural Network Library (oneDNN) to use the following CPU instructions in performance-critical operations:  AVX2 FMA\n",
      "To enable them in other operations, rebuild TensorFlow with the appropriate compiler flags.\n"
     ]
    }
   ],
   "source": [
    "import matplotlib.pyplot as plt \n",
    "\n",
    "import pandas as pd\n",
    "import numpy as np\n",
    "import toml\n",
    "import wandb\n",
    "import toml\n",
    "import glob\n",
    "import os\n",
    "\n",
    "from src.utils import get_metrics"
   ]
  },
  {
   "cell_type": "code",
   "execution_count": 25,
   "id": "a978634d",
   "metadata": {},
   "outputs": [
    {
     "data": {
      "text/plain": [
       "['./presentation/experiments/astromer_1/results/paper/2023-09-03_04-30-55/pretraining',\n",
       " './presentation/experiments/astromer_1/results/paper/2023-09-05_15-39-27/pretraining']"
      ]
     },
     "execution_count": 25,
     "metadata": {},
     "output_type": "execute_result"
    }
   ],
   "source": [
    "folder = './presentation/experiments/astromer_1/results/'\n",
    "exp_folders = glob.glob(os.path.join(folder, '*', '*', 'pretraining'))\n",
    "exp_folders"
   ]
  },
  {
   "cell_type": "code",
   "execution_count": 26,
   "id": "b36f9194",
   "metadata": {},
   "outputs": [],
   "source": [
    "metric_names= ['loss', 'r_square', 'rmse', 'bce', 'accuracy']\n",
    "\n",
    "rows = []\n",
    "for expdir in exp_folders:\n",
    "    config_path = os.path.join(expdir, 'config.toml')\n",
    "    log_dir = os.path.join(expdir, 'logs')\n",
    "    \n",
    "    with open(config_path, 'r') as f:\n",
    "        config = toml.load(f)\n",
    "\n",
    "        val_metrics = get_metrics(os.path.join(log_dir, 'validation'), \n",
    "                                  metric_name='loss')\n",
    "        best_epoch = val_metrics['value'].astype(float).argmin() \n",
    "\n",
    "\n",
    "        for index, metric in enumerate(metric_names):\n",
    "            try:\n",
    "                train_metrics = get_metrics(os.path.join(log_dir, 'train'), metric_name=metric)\n",
    "                valid_metrics = get_metrics(os.path.join(log_dir, 'validation'), metric_name=metric)\n",
    "\n",
    "                config[metric] = np.round(train_metrics.iloc[best_epoch]['value'], 3)\n",
    "                config[metric+'_val'] = np.round(valid_metrics.iloc[best_epoch]['value'], 3)        \n",
    "            except:\n",
    "                continue\n",
    "                \n",
    "        rows.append(pd.Series(config))\n",
    "\n",
    "results = pd.concat(rows, axis=1).T"
   ]
  },
  {
   "cell_type": "code",
   "execution_count": 32,
   "id": "ce3f25df",
   "metadata": {},
   "outputs": [
    {
     "data": {
      "text/plain": [
       "'./presentation/experiments/astromer_1/results/paper/2023-09-03_04-30-55/pretraining/'"
      ]
     },
     "execution_count": 32,
     "metadata": {},
     "output_type": "execute_result"
    }
   ],
   "source": [
    "results['checkpoint'].iloc[1]"
   ]
  },
  {
   "cell_type": "code",
   "execution_count": null,
   "id": "262f517a",
   "metadata": {},
   "outputs": [],
   "source": []
  }
 ],
 "metadata": {
  "kernelspec": {
   "display_name": "Python 3 (ipykernel)",
   "language": "python",
   "name": "python3"
  },
  "language_info": {
   "codemirror_mode": {
    "name": "ipython",
    "version": 3
   },
   "file_extension": ".py",
   "mimetype": "text/x-python",
   "name": "python",
   "nbconvert_exporter": "python",
   "pygments_lexer": "ipython3",
   "version": "3.8.10"
  }
 },
 "nbformat": 4,
 "nbformat_minor": 5
}
