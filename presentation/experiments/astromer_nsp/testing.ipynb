{
 "cells": [
  {
   "cell_type": "code",
   "execution_count": 3,
   "id": "e0964b4e",
   "metadata": {},
   "outputs": [
    {
     "name": "stdout",
     "output_type": "stream",
     "text": [
      "/home\n"
     ]
    }
   ],
   "source": [
    "cd /home"
   ]
  },
  {
   "cell_type": "code",
   "execution_count": 4,
   "id": "2eeea76b",
   "metadata": {},
   "outputs": [],
   "source": [
    "import tomli \n",
    "\n",
    "from src.data import pretraining_pipeline\n",
    "from src.pipeline import base\n",
    "from src.models import get_ASTROMER_nsp\n",
    "\n",
    "import os\n",
    "os.environ[\"CUDA_VISIBLE_DEVICES\"] = \"1\"\n",
    "\n",
    "%load_ext autoreload\n",
    "%autoreload 2"
   ]
  },
  {
   "cell_type": "code",
   "execution_count": 5,
   "id": "8d1f0c48",
   "metadata": {},
   "outputs": [],
   "source": [
    "config_file = './presentation/experiments/astromer_nsp/config_files/macho/alcock.100.f0.a.toml'\n",
    "with open(config_file, mode=\"rb\") as fp:\n",
    "    config = tomli.load(fp)"
   ]
  },
  {
   "cell_type": "code",
   "execution_count": 6,
   "id": "1ad10c31",
   "metadata": {},
   "outputs": [
    {
     "name": "stderr",
     "output_type": "stream",
     "text": [
      "2022-11-07 13:08:30.688383: I tensorflow/core/platform/cpu_feature_guard.cc:151] This TensorFlow binary is optimized with oneAPI Deep Neural Network Library (oneDNN) to use the following CPU instructions in performance-critical operations:  AVX2 FMA\n",
      "To enable them in other operations, rebuild TensorFlow with the appropriate compiler flags.\n",
      "2022-11-07 13:08:31.093178: I tensorflow/core/common_runtime/gpu/gpu_device.cc:1525] Created device /job:localhost/replica:0/task:0/device:GPU:0 with 22349 MB memory:  -> device: 0, name: Graphics Device, pci bus id: 0000:82:00.0, compute capability: 8.6\n"
     ]
    }
   ],
   "source": [
    "d_model = config['astromer']['head_dim']*config['astromer']['heads']\n",
    "astromer =  get_ASTROMER_nsp(num_layers=config['astromer']['layers'],\n",
    "                             d_model=d_model,\n",
    "                             num_heads=config['astromer']['heads'],\n",
    "                             dff=config['astromer']['dff'],\n",
    "                             base=config['positional']['base'],\n",
    "                             dropout=config['astromer']['dropout'],\n",
    "                             maxlen=config['astromer']['window_size'])"
   ]
  },
  {
   "cell_type": "code",
   "execution_count": 7,
   "id": "37870cae",
   "metadata": {},
   "outputs": [
    {
     "name": "stdout",
     "output_type": "stream",
     "text": [
      "[INFO] Using custom scheduler\n",
      "[INFO] Pretrained weights: ./presentation/experiments/astromer_nsp/results/macho/pretraining/\n"
     ]
    }
   ],
   "source": [
    "astromer = base.compile_astromer(config, astromer, \n",
    "                      weights='./presentation/experiments/astromer_nsp/results/macho/pretraining/')"
   ]
  },
  {
   "cell_type": "code",
   "execution_count": 8,
   "id": "eed6b7f9",
   "metadata": {},
   "outputs": [
    {
     "name": "stdout",
     "output_type": "stream",
     "text": [
      "Model: \"ASTROMER_NSP\"\n",
      "__________________________________________________________________________________________________\n",
      " Layer (type)                   Output Shape         Param #     Connected to                     \n",
      "==================================================================================================\n",
      " input (InputLayer)             [(None, 203, 1)]     0           []                               \n",
      "                                                                                                  \n",
      " mask (InputLayer)              [(None, 203, 1)]     0           []                               \n",
      "                                                                                                  \n",
      " times (InputLayer)             [(None, 203, 1)]     0           []                               \n",
      "                                                                                                  \n",
      " encoder (Encoder)              (None, None, 256)    660736      ['input[0][0]',                  \n",
      "                                                                  'mask[0][0]',                   \n",
      "                                                                  'times[0][0]']                  \n",
      "                                                                                                  \n",
      " tf.slice (TFOpLambda)          (None, None, 256)    0           ['encoder[0][0]']                \n",
      "                                                                                                  \n",
      " tf.slice_1 (TFOpLambda)        (None, 1, 256)       0           ['encoder[0][0]']                \n",
      "                                                                                                  \n",
      " regression (RegLayer)          (None, None, 1)      769         ['tf.slice[0][0]']               \n",
      "                                                                                                  \n",
      " RegLayer (Dense)               (None, 1, 2)         514         ['tf.slice_1[0][0]']             \n",
      "                                                                                                  \n",
      "==================================================================================================\n",
      "Total params: 662,019\n",
      "Trainable params: 662,019\n",
      "Non-trainable params: 0\n",
      "__________________________________________________________________________________________________\n"
     ]
    }
   ],
   "source": [
    "astromer.summary()"
   ]
  },
  {
   "cell_type": "code",
   "execution_count": 13,
   "id": "985c874e",
   "metadata": {},
   "outputs": [
    {
     "name": "stdout",
     "output_type": "stream",
     "text": [
      "[INFO] Repeating dataset x1 times\n",
      "[INFO] Using NSP\n",
      "[INFO] Mov. win:  False\n"
     ]
    }
   ],
   "source": [
    "data = pretraining_pipeline(os.path.join(config['pretraining']['data']['path'], 'test'),\n",
    "                            config['pretraining']['data']['batch_size'],\n",
    "                            config['astromer']['window_size'],\n",
    "                            config['masking']['mask_frac'],\n",
    "                            config['masking']['rnd_frac'],\n",
    "                            config['masking']['same_frac'],\n",
    "                            config['pretraining']['data']['sampling'],\n",
    "                            config['pretraining']['data']['shuffle_test'],\n",
    "                            repeat=1,\n",
    "                            num_cls=None,\n",
    "                            normalize=config['pretraining']['data']['normalize'],\n",
    "                            cache=config['pretraining']['data']['cache_test'],\n",
    "                            nsp_prob=.5,\n",
    "                            nsp_frac=.5,\n",
    "                            moving_window=False)"
   ]
  },
  {
   "cell_type": "code",
   "execution_count": 15,
   "id": "ed159133",
   "metadata": {},
   "outputs": [
    {
     "name": "stdout",
     "output_type": "stream",
     "text": [
      "63/63 [==============================] - 101s 2s/step - loss: 0.4852 - rmse: 0.1590 - r_square: 0.7680 - bce: 0.3262 - acc: 0.9867\n"
     ]
    }
   ],
   "source": [
    "results = astromer.evaluate(data)"
   ]
  },
  {
   "cell_type": "code",
   "execution_count": null,
   "id": "708f85ec",
   "metadata": {},
   "outputs": [],
   "source": []
  },
  {
   "cell_type": "code",
   "execution_count": null,
   "id": "e364ba32",
   "metadata": {},
   "outputs": [],
   "source": []
  },
  {
   "cell_type": "code",
   "execution_count": null,
   "id": "86d33c6d",
   "metadata": {},
   "outputs": [],
   "source": []
  }
 ],
 "metadata": {
  "kernelspec": {
   "display_name": "Python 3 (ipykernel)",
   "language": "python",
   "name": "python3"
  },
  "language_info": {
   "codemirror_mode": {
    "name": "ipython",
    "version": 3
   },
   "file_extension": ".py",
   "mimetype": "text/x-python",
   "name": "python",
   "nbconvert_exporter": "python",
   "pygments_lexer": "ipython3",
   "version": "3.8.10"
  }
 },
 "nbformat": 4,
 "nbformat_minor": 5
}
