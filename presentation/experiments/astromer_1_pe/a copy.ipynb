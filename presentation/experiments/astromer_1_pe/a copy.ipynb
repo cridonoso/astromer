{
 "cells": [
  {
   "cell_type": "code",
   "execution_count": 1,
   "metadata": {},
   "outputs": [
    {
     "name": "stdout",
     "output_type": "stream",
     "text": [
      "/home/users/dmoreno2016/ASTROMER/astromer_pe_main/astromer\n"
     ]
    }
   ],
   "source": [
    "%cd ../../.."
   ]
  },
  {
   "cell_type": "code",
   "execution_count": 52,
   "metadata": {},
   "outputs": [
    {
     "name": "stdout",
     "output_type": "stream",
     "text": [
      "{'images': [], 'audio': [], 'histograms': [], 'scalars': [], 'distributions': [], 'tensors': ['loss', 'r_square', 'rmse'], 'graph': False, 'meta_graph': False, 'run_metadata': []}\n",
      "\n",
      "Dias de entrenamiento: 1.40 dias\n",
      "Horas de entrenamiento: 33.68 horas\n",
      "Minutos de entrenamiento: 2021.04 minutos\n"
     ]
    }
   ],
   "source": [
    "import os\n",
    "import pandas as pd\n",
    "from tensorboard.backend.event_processing import event_accumulator\n",
    "\n",
    "path_logs = './presentation/experiments/astromer_1_pe/results/pretraining/P02R01/exp_003_b/logs/train'\n",
    "nlog=-1\n",
    "\n",
    "train_logs = [x for x in os.listdir(path_logs) if x.endswith('.v2')][nlog]\n",
    "path_train = os.path.join(path_logs, train_logs)\n",
    "ea = event_accumulator.EventAccumulator(path_train, \n",
    "                                        size_guidance={'tensors': 0})\n",
    "\n",
    "ea.Reload()\n",
    "print(ea.Tags())\n",
    "\n",
    "training_time = ea.Tensors('loss')[-1].wall_time - ea.Tensors('loss')[0].wall_time\n",
    "\n",
    "print('\\nDias de entrenamiento: {:.2f} dias'.format( training_time / 3600 / 24))\n",
    "print('Horas de entrenamiento: {:.2f} horas'.format( training_time / 3600))\n",
    "print('Minutos de entrenamiento: {:.2f} minutos'.format( training_time / 60))"
   ]
  },
  {
   "cell_type": "code",
   "execution_count": null,
   "metadata": {},
   "outputs": [],
   "source": []
  }
 ],
 "metadata": {
  "kernelspec": {
   "display_name": "base",
   "language": "python",
   "name": "python3"
  },
  "language_info": {
   "codemirror_mode": {
    "name": "ipython",
    "version": 3
   },
   "file_extension": ".py",
   "mimetype": "text/x-python",
   "name": "python",
   "nbconvert_exporter": "python",
   "pygments_lexer": "ipython3",
   "version": "3.11.4"
  }
 },
 "nbformat": 4,
 "nbformat_minor": 2
}
