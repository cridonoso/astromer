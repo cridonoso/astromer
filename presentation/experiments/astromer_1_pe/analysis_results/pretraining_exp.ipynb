{
 "cells": [
  {
   "cell_type": "code",
   "execution_count": 1,
   "metadata": {},
   "outputs": [
    {
     "name": "stdout",
     "output_type": "stream",
     "text": [
      "/home/users/dmoreno2016/ASTROMER/astromer_pe_main/astromer\n"
     ]
    }
   ],
   "source": [
    "%cd ../../../../"
   ]
  },
  {
   "cell_type": "code",
   "execution_count": 2,
   "metadata": {},
   "outputs": [],
   "source": [
    "import pandas as pd\n",
    "import numpy as np\n",
    "\n",
    "import toml\n",
    "import yaml\n",
    "\n",
    "import glob"
   ]
  },
  {
   "cell_type": "code",
   "execution_count": 3,
   "metadata": {},
   "outputs": [
    {
     "data": {
      "text/plain": [
       "'presentation/experiments/astromer_1_pe/results/pretraining/P02R01_clean'"
      ]
     },
     "execution_count": 3,
     "metadata": {},
     "output_type": "execute_result"
    }
   ],
   "source": [
    "path_exp_files = 'presentation/experiments/astromer_1_pe/results/pretraining/P02R01_clean'\n",
    "path_exp_files"
   ]
  },
  {
   "cell_type": "code",
   "execution_count": 4,
   "metadata": {},
   "outputs": [
    {
     "data": {
      "text/plain": [
       "['presentation/experiments/astromer_1_pe/results/pretraining/P02R01_clean/exp_005_a',\n",
       " 'presentation/experiments/astromer_1_pe/results/pretraining/P02R01_clean/exp_004_a',\n",
       " 'presentation/experiments/astromer_1_pe/results/pretraining/P02R01_clean/exp_000_a_sampling_1',\n",
       " 'presentation/experiments/astromer_1_pe/results/pretraining/P02R01_clean/exp_001_a',\n",
       " 'presentation/experiments/astromer_1_pe/results/pretraining/P02R01_clean/exp_003_a',\n",
       " 'presentation/experiments/astromer_1_pe/results/pretraining/P02R01_clean/exp_000_a_all_windows_1',\n",
       " 'presentation/experiments/astromer_1_pe/results/pretraining/P02R01_clean/exp_000_a',\n",
       " 'presentation/experiments/astromer_1_pe/results/pretraining/P02R01_clean/exp_000_b']"
      ]
     },
     "execution_count": 4,
     "metadata": {},
     "output_type": "execute_result"
    }
   ],
   "source": [
    "path_exps = glob.glob('{}/*'.format(path_exp_files))\n",
    "path_exps"
   ]
  },
  {
   "cell_type": "code",
   "execution_count": 23,
   "metadata": {},
   "outputs": [
    {
     "data": {
      "text/html": [
       "<div>\n",
       "<style scoped>\n",
       "    .dataframe tbody tr th:only-of-type {\n",
       "        vertical-align: middle;\n",
       "    }\n",
       "\n",
       "    .dataframe tbody tr th {\n",
       "        vertical-align: top;\n",
       "    }\n",
       "\n",
       "    .dataframe thead th {\n",
       "        text-align: right;\n",
       "    }\n",
       "</style>\n",
       "<table border=\"1\" class=\"dataframe\">\n",
       "  <thead>\n",
       "    <tr style=\"text-align: right;\">\n",
       "      <th></th>\n",
       "      <th>ID</th>\n",
       "      <th>avg_layers</th>\n",
       "      <th>bs</th>\n",
       "      <th>checkpoint</th>\n",
       "      <th>data</th>\n",
       "      <th>debug</th>\n",
       "      <th>dropout</th>\n",
       "      <th>encoder_mode</th>\n",
       "      <th>exp_name</th>\n",
       "      <th>gpu</th>\n",
       "      <th>...</th>\n",
       "      <th>r2_mean</th>\n",
       "      <th>r2_std</th>\n",
       "      <th>H</th>\n",
       "      <th>T_max</th>\n",
       "      <th>initializer</th>\n",
       "      <th>pe_trainable</th>\n",
       "      <th>base</th>\n",
       "      <th>c</th>\n",
       "      <th>max_period</th>\n",
       "      <th>min_period</th>\n",
       "    </tr>\n",
       "  </thead>\n",
       "  <tbody>\n",
       "    <tr>\n",
       "      <th>0</th>\n",
       "      <td>exp_005_a</td>\n",
       "      <td>False</td>\n",
       "      <td>2500</td>\n",
       "      <td>-1</td>\n",
       "      <td>data/records/macho_clean</td>\n",
       "      <td>False</td>\n",
       "      <td>0.0</td>\n",
       "      <td>normal</td>\n",
       "      <td>exp_005_a</td>\n",
       "      <td>0</td>\n",
       "      <td>...</td>\n",
       "      <td>0.738996</td>\n",
       "      <td>0.000118</td>\n",
       "      <td>NaN</td>\n",
       "      <td>NaN</td>\n",
       "      <td>NaN</td>\n",
       "      <td>NaN</td>\n",
       "      <td>NaN</td>\n",
       "      <td>NaN</td>\n",
       "      <td>NaN</td>\n",
       "      <td>NaN</td>\n",
       "    </tr>\n",
       "    <tr>\n",
       "      <th>1</th>\n",
       "      <td>exp_004_a</td>\n",
       "      <td>False</td>\n",
       "      <td>2500</td>\n",
       "      <td>-1</td>\n",
       "      <td>data/records/macho_clean</td>\n",
       "      <td>False</td>\n",
       "      <td>0.0</td>\n",
       "      <td>normal</td>\n",
       "      <td>exp_004_a</td>\n",
       "      <td>0</td>\n",
       "      <td>...</td>\n",
       "      <td>0.728421</td>\n",
       "      <td>0.000225</td>\n",
       "      <td>64.0</td>\n",
       "      <td>1500.0</td>\n",
       "      <td>random_normal</td>\n",
       "      <td>True</td>\n",
       "      <td>NaN</td>\n",
       "      <td>NaN</td>\n",
       "      <td>NaN</td>\n",
       "      <td>NaN</td>\n",
       "    </tr>\n",
       "    <tr>\n",
       "      <th>2</th>\n",
       "      <td>exp_001_a</td>\n",
       "      <td>False</td>\n",
       "      <td>2500</td>\n",
       "      <td>-1</td>\n",
       "      <td>./data/records/macho_clean</td>\n",
       "      <td>False</td>\n",
       "      <td>0.0</td>\n",
       "      <td>normal</td>\n",
       "      <td>exp_001_a</td>\n",
       "      <td>0</td>\n",
       "      <td>...</td>\n",
       "      <td>0.751565</td>\n",
       "      <td>0.000024</td>\n",
       "      <td>64.0</td>\n",
       "      <td>1500.0</td>\n",
       "      <td>pe_astromer</td>\n",
       "      <td>False</td>\n",
       "      <td>1000.0</td>\n",
       "      <td>1.0</td>\n",
       "      <td>1825.0</td>\n",
       "      <td>0.01</td>\n",
       "    </tr>\n",
       "    <tr>\n",
       "      <th>3</th>\n",
       "      <td>exp_003_a</td>\n",
       "      <td>False</td>\n",
       "      <td>2500</td>\n",
       "      <td>-1</td>\n",
       "      <td>./data/records/macho_clean</td>\n",
       "      <td>False</td>\n",
       "      <td>0.0</td>\n",
       "      <td>normal</td>\n",
       "      <td>exp_003_a</td>\n",
       "      <td>1</td>\n",
       "      <td>...</td>\n",
       "      <td>0.583527</td>\n",
       "      <td>0.000238</td>\n",
       "      <td>64.0</td>\n",
       "      <td>1500.0</td>\n",
       "      <td>pe_astromer</td>\n",
       "      <td>False</td>\n",
       "      <td>1000.0</td>\n",
       "      <td>1.0</td>\n",
       "      <td>1825.0</td>\n",
       "      <td>0.01</td>\n",
       "    </tr>\n",
       "    <tr>\n",
       "      <th>4</th>\n",
       "      <td>exp_000_a</td>\n",
       "      <td>False</td>\n",
       "      <td>2500</td>\n",
       "      <td>-1</td>\n",
       "      <td>data/records/macho_clean</td>\n",
       "      <td>False</td>\n",
       "      <td>0.0</td>\n",
       "      <td>normal</td>\n",
       "      <td>exp_000_a</td>\n",
       "      <td>0</td>\n",
       "      <td>...</td>\n",
       "      <td>0.762443</td>\n",
       "      <td>0.000393</td>\n",
       "      <td>64.0</td>\n",
       "      <td>1500.0</td>\n",
       "      <td>pe_astromer</td>\n",
       "      <td>False</td>\n",
       "      <td>1000.0</td>\n",
       "      <td>1.0</td>\n",
       "      <td>1825.0</td>\n",
       "      <td>0.01</td>\n",
       "    </tr>\n",
       "    <tr>\n",
       "      <th>5</th>\n",
       "      <td>exp_000_b</td>\n",
       "      <td>False</td>\n",
       "      <td>2500</td>\n",
       "      <td>-1</td>\n",
       "      <td>data/records/macho_clean</td>\n",
       "      <td>False</td>\n",
       "      <td>0.0</td>\n",
       "      <td>normal</td>\n",
       "      <td>exp_000_b</td>\n",
       "      <td>0</td>\n",
       "      <td>...</td>\n",
       "      <td>0.729508</td>\n",
       "      <td>0.000236</td>\n",
       "      <td>64.0</td>\n",
       "      <td>1500.0</td>\n",
       "      <td>pe_astromer</td>\n",
       "      <td>True</td>\n",
       "      <td>1000.0</td>\n",
       "      <td>1.0</td>\n",
       "      <td>1825.0</td>\n",
       "      <td>0.01</td>\n",
       "    </tr>\n",
       "  </tbody>\n",
       "</table>\n",
       "<p>6 rows × 38 columns</p>\n",
       "</div>"
      ],
      "text/plain": [
       "          ID  avg_layers    bs checkpoint                        data  debug  \\\n",
       "0  exp_005_a       False  2500         -1    data/records/macho_clean  False   \n",
       "1  exp_004_a       False  2500         -1    data/records/macho_clean  False   \n",
       "2  exp_001_a       False  2500         -1  ./data/records/macho_clean  False   \n",
       "3  exp_003_a       False  2500         -1  ./data/records/macho_clean  False   \n",
       "4  exp_000_a       False  2500         -1    data/records/macho_clean  False   \n",
       "5  exp_000_b       False  2500         -1    data/records/macho_clean  False   \n",
       "\n",
       "   dropout encoder_mode   exp_name gpu  ...   r2_mean    r2_std     H   T_max  \\\n",
       "0      0.0       normal  exp_005_a   0  ...  0.738996  0.000118   NaN     NaN   \n",
       "1      0.0       normal  exp_004_a   0  ...  0.728421  0.000225  64.0  1500.0   \n",
       "2      0.0       normal  exp_001_a   0  ...  0.751565  0.000024  64.0  1500.0   \n",
       "3      0.0       normal  exp_003_a   1  ...  0.583527  0.000238  64.0  1500.0   \n",
       "4      0.0       normal  exp_000_a   0  ...  0.762443  0.000393  64.0  1500.0   \n",
       "5      0.0       normal  exp_000_b   0  ...  0.729508  0.000236  64.0  1500.0   \n",
       "\n",
       "     initializer  pe_trainable    base    c max_period  min_period  \n",
       "0            NaN           NaN     NaN  NaN        NaN         NaN  \n",
       "1  random_normal          True     NaN  NaN        NaN         NaN  \n",
       "2    pe_astromer         False  1000.0  1.0     1825.0        0.01  \n",
       "3    pe_astromer         False  1000.0  1.0     1825.0        0.01  \n",
       "4    pe_astromer         False  1000.0  1.0     1825.0        0.01  \n",
       "5    pe_astromer          True  1000.0  1.0     1825.0        0.01  \n",
       "\n",
       "[6 rows x 38 columns]"
      ]
     },
     "execution_count": 23,
     "metadata": {},
     "output_type": "execute_result"
    }
   ],
   "source": [
    "folds = [0, 1, 2]\n",
    "\n",
    "#ids = []\n",
    "#config = []\n",
    "#pe_config = []\n",
    "#test_metrics = []\n",
    "#test_metrics_datasets = []\n",
    "\n",
    "df_results = []\n",
    "dict_results = {}\n",
    "for path_exp in path_exps:\n",
    "    if path_exp.split('/')[-1].find('exp_000_a_') == -1:\n",
    "        ids = {'ID': path_exp.split('/')[-1]}\n",
    "\n",
    "        file = open('{}/config.yaml'.format(path_exp), \"r\")\n",
    "        config = yaml.load(file, Loader=yaml.FullLoader) \n",
    "\n",
    "        file = open('{}/pe_config.yaml'.format(path_exp), \"r\")\n",
    "        pe_config = yaml.load(file, Loader=yaml.FullLoader)\n",
    "        pe_config = {key: [value] for key, value in pe_config[list(pe_config.keys())[0]].items()}\n",
    "\n",
    "        with open('./{}/test_metrics.toml'.format(path_exp), mode=\"r\") as f:\n",
    "            test_metrics = toml.load(f)\n",
    "\n",
    "        dict_metrics = test_metrics['macho_clean']\n",
    "        dict_stat_metrics = dict()\n",
    "        r2 = []\n",
    "        for fold in folds:\n",
    "            r2.append(dict_metrics['fold_{}'.format(fold)]['r_square'])\n",
    "        dict_stat_metrics['r2_mean'] = np.mean(r2)\n",
    "        dict_stat_metrics['r2_std'] = np.std(r2)\n",
    "\n",
    "        dict_results.update(ids)\n",
    "        dict_results.update(config)\n",
    "        dict_results.update(pe_config)\n",
    "        dict_results.update(dict_stat_metrics)\n",
    "\n",
    "        #print(dict_results)\n",
    "        df_results.append(pd.DataFrame.from_dict(dict_results))\n",
    "\n",
    "        #\n",
    "        # \n",
    "        # with open('./{}/test_metrics_datasets_50.toml'.format(path_exp), mode=\"r\") as f:\n",
    "        #    test_metrics_datasets.append(toml.load(f))\n",
    "\n",
    "df_results = pd.concat(df_results).reset_index(drop=True)\n",
    "df_results"
   ]
  },
  {
   "cell_type": "code",
   "execution_count": 24,
   "metadata": {},
   "outputs": [
    {
     "data": {
      "text/plain": [
       "Index(['ID', 'avg_layers', 'bs', 'checkpoint', 'data', 'debug', 'dropout',\n",
       "       'encoder_mode', 'exp_name', 'gpu', 'head_dim', 'lr', 'mixer',\n",
       "       'num_epochs', 'num_heads', 'num_layers', 'patience', 'pe_func_name',\n",
       "       'pe_type', 'probed', 'pt_folder', 'repeat', 'residual_type', 'rs',\n",
       "       'sampling', 'window_size', 'm_layers', 'use_mjd', 'r2_mean', 'r2_std',\n",
       "       'H', 'T_max', 'initializer', 'pe_trainable', 'base', 'c', 'max_period',\n",
       "       'min_period'],\n",
       "      dtype='object')"
      ]
     },
     "execution_count": 24,
     "metadata": {},
     "output_type": "execute_result"
    }
   ],
   "source": [
    "df_results.columns"
   ]
  },
  {
   "cell_type": "code",
   "execution_count": 25,
   "metadata": {},
   "outputs": [
    {
     "data": {
      "text/html": [
       "<div>\n",
       "<style scoped>\n",
       "    .dataframe tbody tr th:only-of-type {\n",
       "        vertical-align: middle;\n",
       "    }\n",
       "\n",
       "    .dataframe tbody tr th {\n",
       "        vertical-align: top;\n",
       "    }\n",
       "\n",
       "    .dataframe thead th {\n",
       "        text-align: right;\n",
       "    }\n",
       "</style>\n",
       "<table border=\"1\" class=\"dataframe\">\n",
       "  <thead>\n",
       "    <tr style=\"text-align: right;\">\n",
       "      <th></th>\n",
       "      <th>ID</th>\n",
       "      <th>pe_type</th>\n",
       "      <th>pe_func_name</th>\n",
       "      <th>r2_mean</th>\n",
       "      <th>r2_std</th>\n",
       "    </tr>\n",
       "  </thead>\n",
       "  <tbody>\n",
       "    <tr>\n",
       "      <th>0</th>\n",
       "      <td>exp_005_a</td>\n",
       "      <td>APE</td>\n",
       "      <td>pe_mlp</td>\n",
       "      <td>0.738996</td>\n",
       "      <td>0.000118</td>\n",
       "    </tr>\n",
       "    <tr>\n",
       "      <th>1</th>\n",
       "      <td>exp_004_a</td>\n",
       "      <td>APE</td>\n",
       "      <td>pe_tm</td>\n",
       "      <td>0.728421</td>\n",
       "      <td>0.000225</td>\n",
       "    </tr>\n",
       "    <tr>\n",
       "      <th>2</th>\n",
       "      <td>exp_001_a</td>\n",
       "      <td>APE</td>\n",
       "      <td>pe</td>\n",
       "      <td>0.751565</td>\n",
       "      <td>0.000024</td>\n",
       "    </tr>\n",
       "    <tr>\n",
       "      <th>3</th>\n",
       "      <td>exp_003_a</td>\n",
       "      <td>MixPE</td>\n",
       "      <td>pe</td>\n",
       "      <td>0.583527</td>\n",
       "      <td>0.000238</td>\n",
       "    </tr>\n",
       "    <tr>\n",
       "      <th>4</th>\n",
       "      <td>exp_000_a</td>\n",
       "      <td>APE</td>\n",
       "      <td>pe</td>\n",
       "      <td>0.762443</td>\n",
       "      <td>0.000393</td>\n",
       "    </tr>\n",
       "    <tr>\n",
       "      <th>5</th>\n",
       "      <td>exp_000_b</td>\n",
       "      <td>APE</td>\n",
       "      <td>pe</td>\n",
       "      <td>0.729508</td>\n",
       "      <td>0.000236</td>\n",
       "    </tr>\n",
       "  </tbody>\n",
       "</table>\n",
       "</div>"
      ],
      "text/plain": [
       "          ID pe_type pe_func_name   r2_mean    r2_std\n",
       "0  exp_005_a     APE       pe_mlp  0.738996  0.000118\n",
       "1  exp_004_a     APE        pe_tm  0.728421  0.000225\n",
       "2  exp_001_a     APE           pe  0.751565  0.000024\n",
       "3  exp_003_a   MixPE           pe  0.583527  0.000238\n",
       "4  exp_000_a     APE           pe  0.762443  0.000393\n",
       "5  exp_000_b     APE           pe  0.729508  0.000236"
      ]
     },
     "execution_count": 25,
     "metadata": {},
     "output_type": "execute_result"
    }
   ],
   "source": [
    "df_results[['ID', 'pe_type', 'pe_func_name', 'r2_mean', 'r2_std']]"
   ]
  },
  {
   "cell_type": "code",
   "execution_count": null,
   "metadata": {},
   "outputs": [],
   "source": []
  },
  {
   "cell_type": "code",
   "execution_count": null,
   "metadata": {},
   "outputs": [],
   "source": []
  },
  {
   "cell_type": "code",
   "execution_count": null,
   "metadata": {},
   "outputs": [],
   "source": []
  },
  {
   "cell_type": "code",
   "execution_count": null,
   "metadata": {},
   "outputs": [],
   "source": []
  },
  {
   "cell_type": "code",
   "execution_count": null,
   "metadata": {},
   "outputs": [],
   "source": []
  },
  {
   "cell_type": "code",
   "execution_count": 54,
   "metadata": {},
   "outputs": [],
   "source": [
    "folds = [0, 1, 2]"
   ]
  },
  {
   "cell_type": "code",
   "execution_count": 57,
   "metadata": {},
   "outputs": [
    {
     "data": {
      "text/plain": [
       "{'r2_mean': 0.738996167977651, 'r2_std': 0.00011758959992207549}"
      ]
     },
     "execution_count": 57,
     "metadata": {},
     "output_type": "execute_result"
    }
   ],
   "source": [
    "dict_metrics = test_metrics[0]['macho_clean']\n",
    "dict_stat_metrics = dict()\n",
    "\n",
    "r2 = []\n",
    "for fold in folds:\n",
    "    r2.append(dict_metrics['fold_{}'.format(fold)]['r_square'])\n",
    "\n",
    "dict_stat_metrics['r2_mean'] = np.mean(r2)\n",
    "dict_stat_metrics['r2_std'] = np.std(r2)\n",
    "\n",
    "dict_stat_metrics"
   ]
  },
  {
   "cell_type": "code",
   "execution_count": null,
   "metadata": {},
   "outputs": [],
   "source": []
  },
  {
   "cell_type": "code",
   "execution_count": 51,
   "metadata": {},
   "outputs": [
    {
     "name": "stdout",
     "output_type": "stream",
     "text": [
      "alcock\n"
     ]
    }
   ],
   "source": [
    "for name_data in test_metrics_datasets[0].keys():\n",
    "\n",
    "    dict_metrics = test_metrics_datasets[0][name_data]\n",
    "\n",
    "    r2 = []\n",
    "    for fold in folds:\n",
    "        r2.append(dict_metrics['fold_{}'.format(fold)]['r_square'])\n",
    "\n",
    "    dict_stat_metrics['r2_mean'] = np.mean(r2)\n",
    "    dict_stat_metrics['r2_std'] = np.std(r2)\n",
    "    \n",
    "    break"
   ]
  },
  {
   "cell_type": "code",
   "execution_count": 53,
   "metadata": {},
   "outputs": [
    {
     "data": {
      "text/plain": [
       "0.5668821930885315"
      ]
     },
     "execution_count": 53,
     "metadata": {},
     "output_type": "execute_result"
    }
   ],
   "source": [
    "np.std(r2)\n",
    "np.mean(r2)"
   ]
  },
  {
   "cell_type": "code",
   "execution_count": null,
   "metadata": {},
   "outputs": [],
   "source": []
  },
  {
   "cell_type": "code",
   "execution_count": null,
   "metadata": {},
   "outputs": [],
   "source": [
    "pd.DataFrame.from_dict({key: [value] for key, value in config[0].items()})"
   ]
  },
  {
   "cell_type": "code",
   "execution_count": 20,
   "metadata": {},
   "outputs": [
    {
     "data": {
      "text/plain": [
       "['exp_005_a',\n",
       " 'exp_004_a',\n",
       " 'exp_000_a_sampling_1',\n",
       " 'exp_001_a',\n",
       " 'exp_003_a',\n",
       " 'exp_000_a_all_windows_1',\n",
       " 'exp_000_a',\n",
       " 'exp_000_b']"
      ]
     },
     "execution_count": 20,
     "metadata": {},
     "output_type": "execute_result"
    }
   ],
   "source": [
    "ids"
   ]
  },
  {
   "cell_type": "code",
   "execution_count": 17,
   "metadata": {},
   "outputs": [
    {
     "data": {
      "text/plain": [
       "[{'macho_clean': {'fold_0': {'loss': 0.08845061808824539,\n",
       "    'r_square': 0.7389798164367676,\n",
       "    'rmse': 0.08845061808824539},\n",
       "   'fold_1': {'loss': 0.08855785429477692,\n",
       "    'r_square': 0.7388610243797302,\n",
       "    'rmse': 0.08855785429477692},\n",
       "   'fold_2': {'loss': 0.0883399099111557,\n",
       "    'r_square': 0.7391476631164551,\n",
       "    'rmse': 0.0883399099111557}}},\n",
       " {'macho_clean': {'fold_0': {'loss': 0.08999898284673691,\n",
       "    'r_square': 0.7287216186523438,\n",
       "    'rmse': 0.08999898284673691},\n",
       "   'fold_1': {'loss': 0.09005183726549149,\n",
       "    'r_square': 0.7283596992492676,\n",
       "    'rmse': 0.09005183726549149},\n",
       "   'fold_2': {'loss': 0.09008192270994186,\n",
       "    'r_square': 0.7281802892684937,\n",
       "    'rmse': 0.09008192270994186}}},\n",
       " {'macho_clean': {'fold_0': {'loss': 0.08665117621421814,\n",
       "    'r_square': 0.7514470815658569,\n",
       "    'rmse': 0.08665117621421814},\n",
       "   'fold_1': {'loss': 0.08668816089630127,\n",
       "    'r_square': 0.750964343547821,\n",
       "    'rmse': 0.08668816089630127},\n",
       "   'fold_2': {'loss': 0.0867423564195633,\n",
       "    'r_square': 0.7504650354385376,\n",
       "    'rmse': 0.0867423564195633}}},\n",
       " {'macho_clean': {'fold_0': {'loss': 0.08643213659524918,\n",
       "    'r_square': 0.7515319585800171,\n",
       "    'rmse': 0.08643213659524918},\n",
       "   'fold_1': {'loss': 0.08639375120401382,\n",
       "    'r_square': 0.7515815496444702,\n",
       "    'rmse': 0.08639375120401382},\n",
       "   'fold_2': {'loss': 0.08649133145809174,\n",
       "    'r_square': 0.7515823245048523,\n",
       "    'rmse': 0.08649133145809174}}},\n",
       " {'macho_clean': {'fold_0': {'loss': 0.11204402148723602,\n",
       "    'r_square': 0.5834720134735107,\n",
       "    'rmse': 0.11204402148723602},\n",
       "   'fold_1': {'loss': 0.11208591610193253,\n",
       "    'r_square': 0.5832667350769043,\n",
       "    'rmse': 0.11208591610193253},\n",
       "   'fold_2': {'loss': 0.11190126091241837,\n",
       "    'r_square': 0.5838420391082764,\n",
       "    'rmse': 0.11190126091241837}}},\n",
       " {'macho_clean': {'fold_0': {'loss': 0.08584143966436386,\n",
       "    'r_square': 0.7570767402648926,\n",
       "    'rmse': 0.08584143966436386},\n",
       "   'fold_1': {'loss': 0.08596991747617722,\n",
       "    'r_square': 0.7568389177322388,\n",
       "    'rmse': 0.08596991747617722},\n",
       "   'fold_2': {'loss': 0.08590088039636612,\n",
       "    'r_square': 0.7570204734802246,\n",
       "    'rmse': 0.08590088039636612}}},\n",
       " {'macho_clean': {'fold_0': {'loss': 0.0850391685962677,\n",
       "    'r_square': 0.7624219059944153,\n",
       "    'rmse': 0.0850391685962677},\n",
       "   'fold_1': {'loss': 0.08505403995513916,\n",
       "    'r_square': 0.7619737386703491,\n",
       "    'rmse': 0.08505403995513916},\n",
       "   'fold_2': {'loss': 0.08488786965608597,\n",
       "    'r_square': 0.7629345655441284,\n",
       "    'rmse': 0.08488786965608597}}},\n",
       " {'macho_clean': {'fold_0': {'loss': 0.09061506390571594,\n",
       "    'r_square': 0.729200541973114,\n",
       "    'rmse': 0.09061506390571594},\n",
       "   'fold_1': {'loss': 0.0905681774020195,\n",
       "    'r_square': 0.7295500040054321,\n",
       "    'rmse': 0.0905681774020195},\n",
       "   'fold_2': {'loss': 0.09038957208395004,\n",
       "    'r_square': 0.7297730445861816,\n",
       "    'rmse': 0.09038957208395004}}}]"
      ]
     },
     "execution_count": 17,
     "metadata": {},
     "output_type": "execute_result"
    }
   ],
   "source": [
    "test_metrics"
   ]
  },
  {
   "cell_type": "code",
   "execution_count": null,
   "metadata": {},
   "outputs": [],
   "source": []
  }
 ],
 "metadata": {
  "kernelspec": {
   "display_name": "base",
   "language": "python",
   "name": "python3"
  },
  "language_info": {
   "codemirror_mode": {
    "name": "ipython",
    "version": 3
   },
   "file_extension": ".py",
   "mimetype": "text/x-python",
   "name": "python",
   "nbconvert_exporter": "python",
   "pygments_lexer": "ipython3",
   "version": "3.11.4"
  }
 },
 "nbformat": 4,
 "nbformat_minor": 2
}
