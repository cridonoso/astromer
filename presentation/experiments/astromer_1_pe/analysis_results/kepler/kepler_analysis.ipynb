{
 "cells": [
  {
   "cell_type": "code",
   "execution_count": 2,
   "metadata": {},
   "outputs": [
    {
     "name": "stdout",
     "output_type": "stream",
     "text": [
      "/home/users/dmoreno2016/ASTROMER/astromer_pe_main/astromer/presentation/experiments/astromer_1_pe\n"
     ]
    }
   ],
   "source": [
    "%cd ../../"
   ]
  },
  {
   "cell_type": "code",
   "execution_count": 3,
   "metadata": {},
   "outputs": [],
   "source": [
    "import pandas as pd\n",
    "import toml"
   ]
  },
  {
   "cell_type": "code",
   "execution_count": 8,
   "metadata": {},
   "outputs": [
    {
     "data": {
      "text/plain": [
       "3"
      ]
     },
     "execution_count": 8,
     "metadata": {},
     "output_type": "execute_result"
    }
   ],
   "source": [
    "'PE_ATT1'.find('ATT1') != 3"
   ]
  },
  {
   "cell_type": "code",
   "execution_count": 4,
   "metadata": {},
   "outputs": [],
   "source": [
    "# PPRETRAINING\n",
    "pt_macho = 'results/pretraining/P02R01_clean/exp_000_a'\n",
    "pt_kepler_1000 = 'results/pretraining/P02R01_clean/kepler/exp_001_pe1000'\n",
    "pt_kepler_100 = 'results/pretraining/P02R01_clean/kepler/exp_001_pe100'\n",
    "pt_kepler_10 = 'results/pretraining/P02R01_clean/kepler/exp_001_pe10'\n",
    "\n",
    "pt_macho_eval_kepler = 'results/pretraining/P02R01_clean/kepler/exp_000_a'\n",
    "\n",
    "# FINETUNING\n",
    "pt_macho_ft_kepler_PE = 'results/finetuning/P02R01_clean/kepler/exp_000_a/lr_scheduler/PE/kepler' # Funciona\n",
    "pt_macho_ft_kepler_FF1 = 'results/finetuning/P02R01_clean/kepler/exp_000_a/lr_scheduler/FF1/kepler' # No funciona\n",
    "\n",
    "#pt_macho_ft_kepler_PE_ATT1 = # Deberia funcionar mejor\n",
    "#pt_macho_ft_kepler_PE_ATT2 = # Deberia fuuncionar peor o igual\n",
    "#pt_macho_ft_kepler_PE_ATT = # Deberia funcionar mejor o igual\n",
    "\n",
    "pt_macho_ft_kepler_FF1_ATT_FF2 = 'results/finetuning/P02R01_clean/kepler/exp_000_a/lr_scheduler/FF1_ATT_FF2/kepler' # Lo que hariamos\n",
    "pt_macho_ft_kepler_FF1_PE_ATT_FF2 = 'results/finetuning/P02R01_clean/kepler/exp_000_a/lr_scheduler/FF1_PE_ATT_FF2/kepler' # Lo que podriamos hacer\n",
    "#pt_macho_ft_kepler_PE_FF2 =  # Lo que deberia ser aun mejor (pocos parametros, mejor rendimiento)"
   ]
  },
  {
   "cell_type": "code",
   "execution_count": null,
   "metadata": {},
   "outputs": [],
   "source": [
    "with open()\n",
    "\n",
    "dict_mean = {\n",
    "    'pt_macho_eval_kepler':  \n",
    "}"
   ]
  },
  {
   "cell_type": "code",
   "execution_count": 7,
   "metadata": {},
   "outputs": [
    {
     "data": {
      "text/plain": [
       "[0.7624219059944153, 0.7619737386703491, 0.7629345655441284]"
      ]
     },
     "execution_count": 7,
     "metadata": {},
     "output_type": "execute_result"
    }
   ],
   "source": [
    "folds = [0, 1, 2]\n",
    "\n",
    "# General config for frezee and trainable layers\n",
    "with open('./{}/test_metrics.toml'.format(pt_macho), mode=\"r\") as f:\n",
    "    metrics = toml.load(f)\n",
    "\n",
    "list_r2 = []\n",
    "for fold in folds:\n",
    "    list_r2.append(metrics['macho_clean']['fold_{}'.format(fold)]['r_square'])\n",
    "\n",
    "list_r2"
   ]
  },
  {
   "cell_type": "code",
   "execution_count": null,
   "metadata": {},
   "outputs": [],
   "source": [
    "dict_pt_metrics_normal = dict()\n",
    "\n",
    "list_r2, list_rmse, list_time_epoch, list_time_batch = [], [], [], []\n",
    "for fold in folds:\n",
    "    list_r2.append(dict_logs_pretraining['{}'.format(subset)][ds_name]['fold_{}'.format(fold)]['r_square'])\n",
    "    list_rmse.append(dict_logs_pretraining['{}'.format(subset)][ds_name]['fold_{}'.format(fold)]['rmse'])\n",
    "    list_time_epoch.append(0)\n",
    "    list_time_batch.append(0)\n",
    "    \n",
    "df_r2.append(pd.DataFrame({ds_name: list_r2}))\n",
    "df_rmse.append(pd.DataFrame({ds_name: list_rmse}))\n",
    "df_time_epoch.append(pd.DataFrame({ds_name: list_time_epoch}))\n",
    "df_time_batch.append(pd.DataFrame({ds_name: list_time_batch}))\n",
    "\n",
    "dict_pt_metrics_normal['r2'] = pd.concat(df_r2, axis=1)\n",
    "dict_pt_metrics_normal['rmse'] = pd.concat(df_rmse, axis=1)\n",
    "dict_pt_metrics_normal['time_epoch'] = pd.concat(df_time_epoch, axis=1)\n",
    "dict_pt_metrics_normal['time_batch'] = pd.concat(df_time_batch, axis=1)"
   ]
  },
  {
   "cell_type": "code",
   "execution_count": null,
   "metadata": {},
   "outputs": [],
   "source": [
    "# General config for frezee and trainable layers\n",
    "with open('./{}/test_metrics.toml'.format(pt_macho), mode=\"r\") as f:\n",
    "    metrics = toml.load(f)"
   ]
  },
  {
   "cell_type": "code",
   "execution_count": null,
   "metadata": {},
   "outputs": [],
   "source": [
    "dict_metrics = {\n",
    "    'pt_macho': \n",
    "}"
   ]
  }
 ],
 "metadata": {
  "kernelspec": {
   "display_name": "base",
   "language": "python",
   "name": "python3"
  },
  "language_info": {
   "codemirror_mode": {
    "name": "ipython",
    "version": 3
   },
   "file_extension": ".py",
   "mimetype": "text/x-python",
   "name": "python",
   "nbconvert_exporter": "python",
   "pygments_lexer": "ipython3",
   "version": "3.11.4"
  }
 },
 "nbformat": 4,
 "nbformat_minor": 2
}
