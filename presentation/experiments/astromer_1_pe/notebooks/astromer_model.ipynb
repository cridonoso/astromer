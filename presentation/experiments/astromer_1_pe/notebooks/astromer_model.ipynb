{
 "cells": [
  {
   "cell_type": "code",
   "execution_count": 1,
   "metadata": {},
   "outputs": [
    {
     "name": "stdout",
     "output_type": "stream",
     "text": [
      "/home/users/dmoreno2016/ASTROMER/astromer_pe_main/astromer\n"
     ]
    }
   ],
   "source": [
    "%cd ../../../../"
   ]
  },
  {
   "cell_type": "code",
   "execution_count": 5,
   "metadata": {},
   "outputs": [
    {
     "name": "stdout",
     "output_type": "stream",
     "text": [
      "The autoreload extension is already loaded. To reload it, use:\n",
      "  %reload_ext autoreload\n"
     ]
    }
   ],
   "source": [
    "import toml\n",
    "import yaml\n",
    "import os\n",
    "\n",
    "from src.models.astromer_1 import get_ASTROMER\n",
    "\n",
    "%load_ext autoreload\n",
    "%autoreload 2"
   ]
  },
  {
   "cell_type": "code",
   "execution_count": 6,
   "metadata": {},
   "outputs": [
    {
     "name": "stderr",
     "output_type": "stream",
     "text": [
      "2023-11-08 13:32:27.641627: W tensorflow/core/common_runtime/gpu/gpu_device.cc:1960] Cannot dlopen some GPU libraries. Please make sure the missing libraries mentioned above are installed properly if you would like to use GPU. Follow the guide at https://www.tensorflow.org/install/gpu for how to download and setup the required libraries for your platform.\n",
      "Skipping registering GPU devices...\n"
     ]
    },
    {
     "name": "stdout",
     "output_type": "stream",
     "text": [
      "Using masking...\n",
      "Using masking...\n"
     ]
    }
   ],
   "source": [
    "pt_folder = 'presentation/experiments/astromer_1_pe/results/pretraining/P02R01_clean/exp_000_a'\n",
    "\n",
    "with open(os.path.join(pt_folder, 'config.yaml')) as f:\n",
    "    model_config = yaml.load(f, Loader=yaml.FullLoader)\n",
    "\n",
    "with open(os.path.join(pt_folder, 'pe_config.yaml')) as f:\n",
    "    pe_config = yaml.load(f, Loader=yaml.FullLoader)\n",
    "\n",
    "astromer = get_ASTROMER(num_layers=model_config['num_layers'],\n",
    "                        num_heads=model_config['num_heads'],\n",
    "                        head_dim=model_config['head_dim'],\n",
    "                        mixer_size=model_config['mixer'],\n",
    "                        dropout=model_config['dropout'],\n",
    "                        pe_type=model_config['pe_type'],\n",
    "                        pe_config=pe_config,\n",
    "                        window_size=model_config['window_size'],\n",
    "                        encoder_mode=model_config['encoder_mode'],\n",
    "                        average_layers=model_config['avg_layers'])"
   ]
  },
  {
   "cell_type": "code",
   "execution_count": 7,
   "metadata": {},
   "outputs": [
    {
     "name": "stdout",
     "output_type": "stream",
     "text": [
      "Model: \"ASTROMER-1\"\n",
      "__________________________________________________________________________________________________\n",
      " Layer (type)                Output Shape                 Param #   Connected to                  \n",
      "==================================================================================================\n",
      " mask (InputLayer)           [(None, 200, 1)]             0         []                            \n",
      "                                                                                                  \n",
      " input (InputLayer)          [(None, 200, 1)]             0         []                            \n",
      "                                                                                                  \n",
      " times (InputLayer)          [(None, 200, 1)]             0         []                            \n",
      "                                                                                                  \n",
      " encoder (Encoder)           (None, 200, 256)             660992    ['mask[0][0]',                \n",
      "                                                                     'input[0][0]',               \n",
      "                                                                     'times[0][0]']               \n",
      "                                                                                                  \n",
      " regression (RegLayer)       (None, 200, 1)               769       ['encoder[0][0]']             \n",
      "                                                                                                  \n",
      "==================================================================================================\n",
      "Total params: 661761 (2.52 MB)\n",
      "Trainable params: 661505 (2.52 MB)\n",
      "Non-trainable params: 256 (1.00 KB)\n",
      "__________________________________________________________________________________________________\n"
     ]
    }
   ],
   "source": [
    "astromer.summary()"
   ]
  },
  {
   "cell_type": "code",
   "execution_count": 8,
   "metadata": {},
   "outputs": [
    {
     "name": "stdout",
     "output_type": "stream",
     "text": [
      "Name layers: mask\n",
      "Number of parameters: 0\n",
      "Name layers: input\n",
      "Number of parameters: 0\n",
      "Name layers: times\n",
      "Number of parameters: 0\n",
      "Name layers: encoder\n",
      "Number of parameters: 660992\n",
      "Name layers: regression\n",
      "Number of parameters: 769\n"
     ]
    }
   ],
   "source": [
    "for layer in astromer.layers:\n",
    "    print(f'Name layers: {layer.name}')\n",
    "    print(f'Number of parameters: {layer.count_params()}')"
   ]
  },
  {
   "cell_type": "code",
   "execution_count": 20,
   "metadata": {},
   "outputs": [
    {
     "data": {
      "text/plain": [
       "'2023-09-18_01-12-37'"
      ]
     },
     "execution_count": 20,
     "metadata": {},
     "output_type": "execute_result"
    }
   ],
   "source": [
    "import datetime\n",
    "\n",
    "datetime.datetime.now().strftime(\"%Y-%m-%d_%H-%M-%S\")"
   ]
  },
  {
   "cell_type": "code",
   "execution_count": 9,
   "metadata": {},
   "outputs": [
    {
     "name": "stdout",
     "output_type": "stream",
     "text": [
      "Name layers: inp_transform\n",
      "Name layers: PosEncoding\n",
      "Name layers: att_layer_0\n",
      "Number of parameters: 330112\n",
      "Name layers: att_layer_1\n",
      "Number of parameters: 330112\n",
      "Name layers: dropout_4\n"
     ]
    }
   ],
   "source": [
    "pe_list = ['positional_embedding', 'pos_time_modulation']\n",
    "pe_weights_names = ['alpha_sin']\n",
    "\n",
    "for layer in astromer.get_layer('encoder').layers:\n",
    "    print(f'Name layers: {layer.name}')\n",
    "\n",
    "    if layer.name.find('att_') != -1:\n",
    "        print(f'Number of parameters: {layer.count_params()}')"
   ]
  },
  {
   "cell_type": "code",
   "execution_count": 14,
   "metadata": {},
   "outputs": [
    {
     "name": "stdout",
     "output_type": "stream",
     "text": [
      "Model: \"ASTROMER-1\"\n",
      "__________________________________________________________________________________________________\n",
      " Layer (type)                   Output Shape         Param #     Connected to                     \n",
      "==================================================================================================\n",
      " mask (InputLayer)              [(None, 200, 1)]     0           []                               \n",
      "                                                                                                  \n",
      " input (InputLayer)             [(None, 200, 1)]     0           []                               \n",
      "                                                                                                  \n",
      " times (InputLayer)             [(None, 200, 1)]     0           []                               \n",
      "                                                                                                  \n",
      " encoder (Encoder)              (None, 200, 256)     726272      ['mask[0][0]',                   \n",
      "                                                                  'input[0][0]',                  \n",
      "                                                                  'times[0][0]']                  \n",
      "                                                                                                  \n",
      " regression (RegLayer)          (None, 200, 1)       769         ['encoder[0][0]']                \n",
      "                                                                                                  \n",
      "==================================================================================================\n",
      "Total params: 727,041\n",
      "Trainable params: 661,505\n",
      "Non-trainable params: 65,536\n",
      "__________________________________________________________________________________________________\n"
     ]
    }
   ],
   "source": [
    "astromer.summary()"
   ]
  },
  {
   "cell_type": "code",
   "execution_count": 8,
   "metadata": {},
   "outputs": [],
   "source": [
    "path_pe_config = 'presentation/experiments/astromer_1_pe/pe_config.toml'\n",
    "with open(path_pe_config, mode=\"r\") as fp:\n",
    "    pe_config = toml.load(fp)"
   ]
  },
  {
   "cell_type": "code",
   "execution_count": 13,
   "metadata": {},
   "outputs": [
    {
     "data": {
      "text/plain": [
       "{'general': {'pe_list': ['positional_embedding',\n",
       "   'pe_mlp',\n",
       "   'pe_rnn',\n",
       "   'pos_time_modulation']},\n",
       " 'pe': {'base': 1000,\n",
       "  'c': 1,\n",
       "  'use_mjd': True,\n",
       "  'pe_trainable': False,\n",
       "  'initializer': 'pe_astromer',\n",
       "  'min_period': 0.01,\n",
       "  'max_period': 1825},\n",
       " 'pe_mlp': {'m_layers': 128, 'use_mjd': True},\n",
       " 'pe_rnn': {'rnn_type': 'gru', 'use_mjd': True},\n",
       " 'pe_tm': {'T_max': 1500,\n",
       "  'H': 64,\n",
       "  'use_mjd': True,\n",
       "  'pe_trainable': True,\n",
       "  'initializer': 'random_normal'}}"
      ]
     },
     "execution_count": 13,
     "metadata": {},
     "output_type": "execute_result"
    }
   ],
   "source": [
    "pe_config"
   ]
  },
  {
   "cell_type": "code",
   "execution_count": 14,
   "metadata": {},
   "outputs": [
    {
     "data": {
      "text/plain": [
       "{'general': {'pe_list': ['positional_embedding',\n",
       "   'pe_mlp',\n",
       "   'pe_rnn',\n",
       "   'pos_time_modulation']},\n",
       " 'pe': {'base': 1000,\n",
       "  'c': 1,\n",
       "  'use_mjd': True,\n",
       "  'pe_trainable': False,\n",
       "  'initializer': 'pe_astromer',\n",
       "  'min_period': 0.01,\n",
       "  'max_period': 1825}}"
      ]
     },
     "execution_count": 14,
     "metadata": {},
     "output_type": "execute_result"
    }
   ],
   "source": [
    "dict_pe = {\n",
    "    'general': pe_config['general'],\n",
    "    'pe': pe_config['pe']\n",
    "    }\n",
    "dict_pe"
   ]
  },
  {
   "cell_type": "code",
   "execution_count": null,
   "metadata": {},
   "outputs": [],
   "source": []
  }
 ],
 "metadata": {
  "kernelspec": {
   "display_name": "Python 3",
   "language": "python",
   "name": "python3"
  },
  "language_info": {
   "codemirror_mode": {
    "name": "ipython",
    "version": 3
   },
   "file_extension": ".py",
   "mimetype": "text/x-python",
   "name": "python",
   "nbconvert_exporter": "python",
   "pygments_lexer": "ipython3",
   "version": "3.11.4"
  },
  "orig_nbformat": 4
 },
 "nbformat": 4,
 "nbformat_minor": 2
}
