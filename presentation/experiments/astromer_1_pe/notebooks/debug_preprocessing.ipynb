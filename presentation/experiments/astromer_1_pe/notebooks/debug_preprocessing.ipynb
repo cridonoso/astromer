{
 "cells": [
  {
   "cell_type": "code",
   "execution_count": 1,
   "metadata": {},
   "outputs": [
    {
     "name": "stdout",
     "output_type": "stream",
     "text": [
      "/home/users/dmoreno2016/ASTROMER/astromer_pe/astromer\n"
     ]
    }
   ],
   "source": [
    "%cd ../../../../"
   ]
  },
  {
   "cell_type": "code",
   "execution_count": 2,
   "metadata": {},
   "outputs": [
    {
     "name": "stderr",
     "output_type": "stream",
     "text": [
      "2023-10-14 12:36:45.603617: I tensorflow/core/platform/cpu_feature_guard.cc:182] This TensorFlow binary is optimized to use available CPU instructions in performance-critical operations.\n",
      "To enable the following instructions: AVX2 FMA, in other operations, rebuild TensorFlow with the appropriate compiler flags.\n"
     ]
    },
    {
     "name": "stderr",
     "output_type": "stream",
     "text": [
      "2023-10-14 12:36:46.353339: W tensorflow/compiler/tf2tensorrt/utils/py_utils.cc:38] TF-TRT Warning: Could not find TensorRT\n"
     ]
    }
   ],
   "source": [
    "import tensorflow as tf\n",
    "import pandas as pd\n",
    "import numpy as np\n",
    "import copy\n",
    "\n",
    "import toml\n",
    "import os\n",
    "\n",
    "from src.models.astromer_1 import get_ASTROMER\n",
    "from src.data.record import deserialize\n",
    "\n",
    "%load_ext autoreload\n",
    "%autoreload 2"
   ]
  },
  {
   "cell_type": "code",
   "execution_count": 3,
   "metadata": {},
   "outputs": [],
   "source": [
    "def get_data(dataset):\n",
    "    list_data_lcs = []\n",
    "\n",
    "    for lc_info in dataset:\n",
    "        np_lc = lc_info['input'].numpy()\n",
    "        np_lc = np_lc[np_lc[:,0].argsort()]\n",
    "\n",
    "        data = {'lcid': lc_info['lcid'].numpy(), \n",
    "                'lc_data': [np_lc],\n",
    "                'label': lc_info['label'].numpy()}  \n",
    "\n",
    "        list_data_lcs.append(pd.DataFrame(data))\n",
    "\n",
    "        if np_lc.shape[0] < 200:\n",
    "            print(lc_info['lcid'].numpy())\n",
    "\n",
    "    list_data_lcs = pd.concat(list_data_lcs)\n",
    "    return list_data_lcs"
   ]
  },
  {
   "cell_type": "code",
   "execution_count": 6,
   "metadata": {},
   "outputs": [],
   "source": [
    "path_dataset = './data/records/atlas/fold_0/atlas_20/train'\n",
    "\n",
    "batch_size = 16\n",
    "probed = 0.4\n",
    "random_same = 0.2 \n",
    "window_size = 200 \n",
    "nsp_prob = .5\n",
    "repeat = 1 \n",
    "sampling = False\n",
    "shuffle = False\n",
    "njobs = None\n",
    "num_cls = None\n",
    "test_mode = False\n",
    "off_nsp = True"
   ]
  },
  {
   "cell_type": "code",
   "execution_count": 7,
   "metadata": {},
   "outputs": [
    {
     "name": "stderr",
     "output_type": "stream",
     "text": [
      "2023-10-14 12:37:28.449243: W tensorflow/core/common_runtime/gpu/gpu_device.cc:1960] Cannot dlopen some GPU libraries. Please make sure the missing libraries mentioned above are installed properly if you would like to use GPU. Follow the guide at https://www.tensorflow.org/install/gpu for how to download and setup the required libraries for your platform.\n",
      "Skipping registering GPU devices...\n"
     ]
    }
   ],
   "source": [
    "rec_paths = []\n",
    "for folder in os.listdir(path_dataset):\n",
    "    if folder.endswith('.csv'):\n",
    "        continue\n",
    "    for x in os.listdir(os.path.join(path_dataset, folder)):\n",
    "        rec_paths.append(os.path.join(path_dataset, folder, x))\n",
    "\n",
    "dataset = tf.data.TFRecordDataset(rec_paths)    \n",
    "dataset = dataset.map(deserialize)"
   ]
  },
  {
   "cell_type": "code",
   "execution_count": 8,
   "metadata": {},
   "outputs": [],
   "source": [
    "dataset = dataset.repeat(repeat)"
   ]
  },
  {
   "cell_type": "code",
   "execution_count": 9,
   "metadata": {},
   "outputs": [
    {
     "data": {
      "text/plain": [
       "<_ParallelMapDataset element_spec={'lcid': TensorSpec(shape=(), dtype=tf.string, name=None), 'length': TensorSpec(shape=(), dtype=tf.int32, name=None), 'label': TensorSpec(shape=(), dtype=tf.int32, name=None), 'input': TensorSpec(shape=(None, None), dtype=tf.float32, name=None)}>"
      ]
     },
     "execution_count": 9,
     "metadata": {},
     "output_type": "execute_result"
    }
   ],
   "source": [
    "# Realiza correctamente el sampling \n",
    "def sample_lc(sample, max_obs, binary=True):\n",
    "\t'''\n",
    "\tSample a random window of \"max_obs\" observations from the input sequence\n",
    "\t'''\n",
    "\tif binary:\n",
    "\t\tinput_dict = deserialize(sample)\n",
    "\telse:\n",
    "\t\tinput_dict = sample\n",
    "\n",
    "\tserie_len = tf.shape(input_dict['input'])[0]\n",
    "\n",
    "\tpivot = 0\n",
    "\tif tf.greater(serie_len, max_obs):\n",
    "\t\tpivot = tf.random.uniform([],\n",
    "\t\t\t\t\t\t\t\t  minval=0,\n",
    "\t\t\t\t\t\t\t\t  maxval=serie_len-max_obs+1,\n",
    "\t\t\t\t\t\t\t\t  dtype=tf.int32)\n",
    "\n",
    "\t\tinput_dict['input'] = tf.slice(input_dict['input'], [pivot,0], [max_obs, -1]) # input_dict['input'][pivot:max_obs, :-1]\n",
    "\telse:\n",
    "\t\tinput_dict['input'] = tf.slice(input_dict['input'], [0,0], [serie_len, -1])\n",
    "\n",
    "\treturn input_dict\n",
    "\n",
    "samples_dataset = dataset.map(lambda x: sample_lc(x,\n",
    "                                          max_obs=window_size,\n",
    "                                          binary=False),\n",
    "                                          num_parallel_calls=tf.data.experimental.AUTOTUNE)\n",
    "\n",
    "samples_dataset"
   ]
  },
  {
   "cell_type": "code",
   "execution_count": 10,
   "metadata": {},
   "outputs": [],
   "source": [
    "for lc_info in dataset:\n",
    "    np_lc = lc_info['input'].numpy()\n",
    "    np_lc = np_lc[np_lc[:,0].argsort()]"
   ]
  },
  {
   "cell_type": "code",
   "execution_count": 11,
   "metadata": {},
   "outputs": [
    {
     "data": {
      "text/plain": [
       "71"
      ]
     },
     "execution_count": 11,
     "metadata": {},
     "output_type": "execute_result"
    }
   ],
   "source": [
    "np_lc.shape[0]"
   ]
  },
  {
   "cell_type": "code",
   "execution_count": 12,
   "metadata": {},
   "outputs": [
    {
     "data": {
      "text/plain": [
       "<tf.Tensor: shape=(0,), dtype=int32, numpy=array([], dtype=int32)>"
      ]
     },
     "execution_count": 12,
     "metadata": {},
     "output_type": "execute_result"
    }
   ],
   "source": [
    "def get_window(sequence, length, pivot, max_obs):\n",
    "\tpivot = tf.minimum(length-max_obs, pivot)\n",
    "\tpivot = tf.maximum(0, pivot)\n",
    "\tend = tf.minimum(length, max_obs)\n",
    "\n",
    "\tsliced = tf.slice(sequence, [pivot, 0], [end, -1])\n",
    "\treturn sliced\n",
    "\n",
    "max_obs = 200\n",
    "pivots = tf.tile([max_obs], [tf.cast(np_lc.shape[0]/max_obs, tf.int32)])\n",
    "pivots"
   ]
  },
  {
   "cell_type": "code",
   "execution_count": 13,
   "metadata": {},
   "outputs": [
    {
     "data": {
      "text/plain": [
       "<tf.Tensor: shape=(1,), dtype=int32, numpy=array([0], dtype=int32)>"
      ]
     },
     "execution_count": 13,
     "metadata": {},
     "output_type": "execute_result"
    }
   ],
   "source": [
    "pivots = tf.concat([[0], pivots], 0)\n",
    "pivots"
   ]
  },
  {
   "cell_type": "code",
   "execution_count": 14,
   "metadata": {},
   "outputs": [
    {
     "data": {
      "text/plain": [
       "<tf.Tensor: shape=(1,), dtype=int32, numpy=array([0], dtype=int32)>"
      ]
     },
     "execution_count": 14,
     "metadata": {},
     "output_type": "execute_result"
    }
   ],
   "source": [
    "pivots = tf.math.cumsum(pivots)\n",
    "pivots"
   ]
  },
  {
   "cell_type": "code",
   "execution_count": 15,
   "metadata": {},
   "outputs": [
    {
     "data": {
      "text/plain": [
       "<tf.Tensor: shape=(1, 71, 3), dtype=float32, numpy=\n",
       "array([[[5.7222348e+04, 1.4348000e+01, 1.7000001e-02],\n",
       "        [5.7222359e+04, 1.4367000e+01, 1.7999999e-02],\n",
       "        [5.7222359e+04, 1.4368000e+01, 1.4000000e-02],\n",
       "        [5.7228406e+04, 1.4666000e+01, 2.1000000e-02],\n",
       "        [5.7288219e+04, 1.4405000e+01, 3.5999998e-02],\n",
       "        [5.7288230e+04, 1.4494000e+01, 2.3000000e-02],\n",
       "        [5.7288242e+04, 1.4478000e+01, 2.0000000e-02],\n",
       "        [5.7288262e+04, 1.4647000e+01, 2.3000000e-02],\n",
       "        [5.7288270e+04, 1.4836000e+01, 3.0999999e-02],\n",
       "        [5.7289219e+04, 1.4480000e+01, 3.3000000e-02],\n",
       "        [5.7297254e+04, 1.4360000e+01, 1.7000001e-02],\n",
       "        [5.7298258e+04, 1.4289000e+01, 1.8999999e-02],\n",
       "        [5.7298262e+04, 1.4381000e+01, 1.7999999e-02],\n",
       "        [5.7469512e+04, 1.4390000e+01, 1.8999999e-02],\n",
       "        [5.7495496e+04, 1.4328000e+01, 1.5000000e-02],\n",
       "        [5.7495512e+04, 1.4326000e+01, 1.6000001e-02],\n",
       "        [5.7495523e+04, 1.4325000e+01, 1.4000000e-02],\n",
       "        [5.7495539e+04, 1.4335000e+01, 1.4000000e-02],\n",
       "        [5.7499492e+04, 1.4724000e+01, 2.1000000e-02],\n",
       "        [5.7499512e+04, 1.4706000e+01, 2.0000000e-02],\n",
       "        [5.7499520e+04, 1.4646000e+01, 1.8999999e-02],\n",
       "        [5.7499527e+04, 1.4581000e+01, 1.8999999e-02],\n",
       "        [5.7500555e+04, 1.4301000e+01, 1.6000001e-02],\n",
       "        [5.7500586e+04, 1.4423000e+01, 2.8999999e-02],\n",
       "        [5.7552426e+04, 1.4383000e+01, 2.5000000e-02],\n",
       "        [5.7552434e+04, 1.4369000e+01, 1.4000000e-02],\n",
       "        [5.7552438e+04, 1.4497000e+01, 2.4000000e-02],\n",
       "        [5.7552445e+04, 1.4385000e+01, 1.8999999e-02],\n",
       "        [5.7552461e+04, 1.4428000e+01, 2.1000000e-02],\n",
       "        [5.7552488e+04, 1.4615000e+01, 2.4000000e-02],\n",
       "        [5.7567402e+04, 1.4414000e+01, 1.7999999e-02],\n",
       "        [5.7567414e+04, 1.4401000e+01, 1.6000001e-02],\n",
       "        [5.7567426e+04, 1.4366000e+01, 2.6000001e-02],\n",
       "        [5.7567438e+04, 1.4374000e+01, 2.2000000e-02],\n",
       "        [5.7567449e+04, 1.4367000e+01, 2.2000000e-02],\n",
       "        [5.7612355e+04, 1.4821000e+01, 2.4000000e-02],\n",
       "        [5.7643246e+04, 1.4400000e+01, 2.6000001e-02],\n",
       "        [5.7643258e+04, 1.4542000e+01, 2.8999999e-02],\n",
       "        [5.7643262e+04, 1.4458000e+01, 2.4000000e-02],\n",
       "        [5.7643273e+04, 1.4385000e+01, 1.8999999e-02],\n",
       "        [5.7643289e+04, 1.4350000e+01, 1.6000001e-02],\n",
       "        [5.7643289e+04, 1.4428000e+01, 2.2000000e-02],\n",
       "        [5.7643301e+04, 1.4401000e+01, 2.0000000e-02],\n",
       "        [5.7643305e+04, 1.4384000e+01, 2.3000000e-02],\n",
       "        [5.7643316e+04, 1.4417000e+01, 2.5000000e-02],\n",
       "        [5.7647266e+04, 1.4432000e+01, 2.2000000e-02],\n",
       "        [5.7651246e+04, 1.4408000e+01, 1.8999999e-02],\n",
       "        [5.7651254e+04, 1.4373000e+01, 1.7999999e-02],\n",
       "        [5.7651266e+04, 1.4364000e+01, 2.0000000e-02],\n",
       "        [5.7651281e+04, 1.4382000e+01, 1.8999999e-02],\n",
       "        [5.7651297e+04, 1.4386000e+01, 1.7999999e-02],\n",
       "        [5.7675215e+04, 1.4684000e+01, 2.8000001e-02],\n",
       "        [5.7675223e+04, 1.4643000e+01, 2.6000001e-02],\n",
       "        [5.7675238e+04, 1.4448000e+01, 2.4000000e-02],\n",
       "        [5.7826602e+04, 1.4500000e+01, 1.6000001e-02],\n",
       "        [5.7826621e+04, 1.4408000e+01, 1.7000001e-02],\n",
       "        [5.7826641e+04, 1.4362000e+01, 1.7999999e-02],\n",
       "        [5.7826656e+04, 1.4358000e+01, 1.7999999e-02],\n",
       "        [5.7827602e+04, 1.4378000e+01, 1.5000000e-02],\n",
       "        [5.7827621e+04, 1.4373000e+01, 1.8999999e-02],\n",
       "        [5.7827660e+04, 1.4395000e+01, 2.6000001e-02],\n",
       "        [5.7855559e+04, 1.4584000e+01, 1.5000000e-02],\n",
       "        [5.7855578e+04, 1.4759000e+01, 1.7000001e-02],\n",
       "        [5.7855590e+04, 1.4817000e+01, 2.0000000e-02],\n",
       "        [5.7855609e+04, 1.4670000e+01, 1.7000001e-02],\n",
       "        [5.7855625e+04, 1.4572000e+01, 1.5000000e-02],\n",
       "        [5.7883512e+04, 1.4383000e+01, 8.9999996e-03],\n",
       "        [5.7883547e+04, 1.4354000e+01, 1.1000000e-02],\n",
       "        [5.7911434e+04, 1.4329000e+01, 1.2000000e-02],\n",
       "        [5.7923461e+04, 1.4681000e+01, 5.6000002e-02],\n",
       "        [5.7923469e+04, 1.4523000e+01, 1.1000000e-02]]], dtype=float32)>"
      ]
     },
     "execution_count": 15,
     "metadata": {},
     "output_type": "execute_result"
    }
   ],
   "source": [
    "splits = tf.map_fn(lambda x: get_window(np_lc, np_lc.shape[0], x, max_obs), pivots,\n",
    "\t\t\t\t\t\t\t\t\t\t\tinfer_shape=False,\n",
    "\t\t\t\t\t\t\t\t\t\t\tfn_output_signature=(tf.float32))\n",
    "splits"
   ]
  },
  {
   "cell_type": "code",
   "execution_count": 16,
   "metadata": {},
   "outputs": [
    {
     "data": {
      "text/plain": [
       "array([[ True,  True,  True],\n",
       "       [ True,  True,  True],\n",
       "       [ True,  True,  True],\n",
       "       [ True,  True,  True],\n",
       "       [ True,  True,  True],\n",
       "       [ True,  True,  True],\n",
       "       [ True,  True,  True],\n",
       "       [ True,  True,  True],\n",
       "       [ True,  True,  True],\n",
       "       [ True,  True,  True],\n",
       "       [ True,  True,  True],\n",
       "       [ True,  True,  True],\n",
       "       [ True,  True,  True],\n",
       "       [ True,  True,  True],\n",
       "       [ True,  True,  True],\n",
       "       [ True,  True,  True],\n",
       "       [ True,  True,  True],\n",
       "       [ True,  True,  True],\n",
       "       [ True,  True,  True],\n",
       "       [ True,  True,  True],\n",
       "       [ True,  True,  True],\n",
       "       [ True,  True,  True],\n",
       "       [ True,  True,  True],\n",
       "       [ True,  True,  True],\n",
       "       [ True,  True,  True],\n",
       "       [ True,  True,  True],\n",
       "       [ True,  True,  True],\n",
       "       [ True,  True,  True],\n",
       "       [ True,  True,  True],\n",
       "       [ True,  True,  True],\n",
       "       [ True,  True,  True],\n",
       "       [ True,  True,  True],\n",
       "       [ True,  True,  True],\n",
       "       [ True,  True,  True],\n",
       "       [ True,  True,  True],\n",
       "       [ True,  True,  True],\n",
       "       [ True,  True,  True],\n",
       "       [ True,  True,  True],\n",
       "       [ True,  True,  True],\n",
       "       [ True,  True,  True],\n",
       "       [ True,  True,  True],\n",
       "       [ True,  True,  True],\n",
       "       [ True,  True,  True],\n",
       "       [ True,  True,  True],\n",
       "       [ True,  True,  True],\n",
       "       [ True,  True,  True],\n",
       "       [ True,  True,  True],\n",
       "       [ True,  True,  True],\n",
       "       [ True,  True,  True],\n",
       "       [ True,  True,  True],\n",
       "       [ True,  True,  True],\n",
       "       [ True,  True,  True],\n",
       "       [ True,  True,  True],\n",
       "       [ True,  True,  True],\n",
       "       [ True,  True,  True],\n",
       "       [ True,  True,  True],\n",
       "       [ True,  True,  True],\n",
       "       [ True,  True,  True],\n",
       "       [ True,  True,  True],\n",
       "       [ True,  True,  True],\n",
       "       [ True,  True,  True],\n",
       "       [ True,  True,  True],\n",
       "       [ True,  True,  True],\n",
       "       [ True,  True,  True],\n",
       "       [ True,  True,  True],\n",
       "       [ True,  True,  True],\n",
       "       [ True,  True,  True],\n",
       "       [ True,  True,  True],\n",
       "       [ True,  True,  True],\n",
       "       [ True,  True,  True],\n",
       "       [ True,  True,  True]])"
      ]
     },
     "execution_count": 16,
     "metadata": {},
     "output_type": "execute_result"
    }
   ],
   "source": [
    "np_lc[0:200] == splits[0].numpy()"
   ]
  },
  {
   "cell_type": "code",
   "execution_count": 17,
   "metadata": {},
   "outputs": [],
   "source": [
    "def get_window(sequence, length, pivot, max_obs):\n",
    "\tpivot = tf.minimum(length-max_obs, pivot)\n",
    "\tpivot = tf.maximum(0, pivot)\n",
    "\tend = tf.minimum(length, max_obs)\n",
    "\n",
    "\tsliced = tf.slice(sequence, [pivot, 0], [end, -1])\n",
    "\treturn sliced\n",
    "\n",
    "def get_windows(sample, max_obs, binary=True):\n",
    "\tif binary:\n",
    "\t\tinput_dict = deserialize(sample)\n",
    "\telse:\n",
    "\t\tinput_dict = sample\n",
    "\n",
    "\tsequence = input_dict['input']\n",
    "\trest = input_dict['length']%(max_obs)\n",
    "\n",
    "\tpivots = tf.tile([max_obs], [tf.cast(input_dict['length']/max_obs, tf.int32)]) # toma la cantidad de ventanas que se pueden formar dentro de la curvas de luz\n",
    "\t\t\t\t\t\t\t\t\t\t\t\t\t\t\t\t\t\t\t\t   # puede haber trozos de curvas de luz menor al max_obs que no considerara\n",
    "\tpivots = tf.concat([[0], pivots], 0)\n",
    "\tpivots = tf.math.cumsum(pivots)\n",
    "\n",
    "\tsplits = tf.map_fn(lambda x: get_window(sequence,\n",
    "\t\t\t\t\t\t\t\t\t\t\tinput_dict['length'],\n",
    "\t\t\t\t\t\t\t\t\t\t\tx,\n",
    "\t\t\t\t\t\t\t\t\t\t\tmax_obs),  pivots,\n",
    "\t\t\t\t\t\t\t\t\t\t\tinfer_shape=False,\n",
    "\t\t\t\t\t\t\t\t\t\t\tfn_output_signature=(tf.float32))\n",
    "\n",
    "\tinput_dict['label']  = tf.tile([input_dict['label']], [len(splits)])\n",
    "\tinput_dict['lcid']   = tf.tile([input_dict['lcid']], [len(splits)])\n",
    "\tinput_dict['length'] = tf.tile([input_dict['length']], [len(splits)])\n",
    "\tinput_dict['input']  = splits\n",
    "\n",
    "\treturn input_dict\n",
    "\n",
    "all_dataset = dataset.map(lambda x: get_windows(x,\n",
    "                                            max_obs=window_size,\n",
    "                                            binary=False),\n",
    "                        num_parallel_calls=tf.data.experimental.AUTOTUNE)\n"
   ]
  },
  {
   "cell_type": "code",
   "execution_count": 18,
   "metadata": {},
   "outputs": [
    {
     "data": {
      "text/plain": [
       "<_ParallelMapDataset element_spec={'lcid': TensorSpec(shape=(None,), dtype=tf.string, name=None), 'length': TensorSpec(shape=(None,), dtype=tf.int32, name=None), 'label': TensorSpec(shape=(None,), dtype=tf.int32, name=None), 'input': TensorSpec(shape=<unknown>, dtype=tf.float32, name=None)}>"
      ]
     },
     "execution_count": 18,
     "metadata": {},
     "output_type": "execute_result"
    }
   ],
   "source": [
    "all_dataset"
   ]
  },
  {
   "cell_type": "code",
   "execution_count": 19,
   "metadata": {},
   "outputs": [
    {
     "data": {
      "text/plain": [
       "<_FlatMapDataset element_spec={'lcid': TensorSpec(shape=(), dtype=tf.string, name=None), 'length': TensorSpec(shape=(), dtype=tf.int32, name=None), 'label': TensorSpec(shape=(), dtype=tf.int32, name=None), 'input': TensorSpec(shape=<unknown>, dtype=tf.float32, name=None)}>"
      ]
     },
     "execution_count": 19,
     "metadata": {},
     "output_type": "execute_result"
    }
   ],
   "source": [
    "all_dataset = all_dataset.flat_map(lambda x: tf.data.Dataset.from_tensor_slices(x))\n",
    "all_dataset"
   ]
  },
  {
   "cell_type": "markdown",
   "metadata": {},
   "source": [
    "## Comparing get_sampling and get_windows"
   ]
  },
  {
   "cell_type": "code",
   "execution_count": 20,
   "metadata": {},
   "outputs": [
    {
     "name": "stdout",
     "output_type": "stream",
     "text": [
      "b'73431512840208973'\n",
      "b'70020668647404048'\n",
      "b'124383265711709041'\n",
      "b'142143111261208836'\n",
      "b'139650730980007578'\n",
      "b'163882764822207823'\n",
      "b'170810576982406999'\n",
      "b'73021139237309856'\n",
      "b'120331064323804933'\n",
      "b'150163082245609752'\n",
      "b'97092567471905976'\n",
      "b'171203232309203352'\n",
      "b'84370454374806141'\n",
      "b'120672618715601954'\n",
      "b'168070344230608960'\n",
      "b'108822881734309971'\n",
      "b'127182814025004668'\n",
      "b'97542807968000362'\n",
      "b'91132614977005924'\n",
      "b'81572593093009566'\n",
      "b'90102652052809104'\n",
      "b'99952826030003439'\n",
      "b'134353036346009617'\n",
      "b'170020721403006040'\n",
      "b'78222676786002912'\n",
      "b'129422958554204825'\n",
      "b'91812682323993687'\n",
      "b'130942988067002123'\n",
      "b'134932913426101671'\n",
      "b'88452721663309289'\n",
      "b'94282701578005457'\n",
      "b'86991112522104263'\n",
      "b'90920989580505647'\n",
      "b'171180355820304944'\n",
      "b'157070727735008600'\n",
      "b'161291056577302105'\n",
      "b'148662718586401298'\n",
      "b'99312630597204617'\n",
      "b'104722880775806542'\n",
      "b'147243002505007788'\n",
      "b'173790180567802735'\n",
      "b'96873032205208415'\n",
      "b'154113005666704756'\n",
      "b'161080595752505368'\n",
      "b'102131148695104760'\n",
      "b'137203169884005536'\n",
      "b'120112842537006760'\n",
      "b'86942666791993467'\n",
      "b'79192551838803716'\n",
      "b'88940748069008615'\n",
      "b'81483204620201333'\n",
      "b'169011674677305684'\n",
      "b'83353212386807697'\n",
      "b'78482273118901837'\n",
      "b'102571958853307214'\n",
      "b'99031282326203960'\n",
      "b'127571327056392966'\n",
      "b'121882814739908519'\n",
      "b'137952579198901339'\n",
      "b'125882991565905099'\n",
      "b'78653134819104506'\n",
      "b'96632459053708510'\n",
      "b'88063241970504056'\n",
      "b'135830594472901639'\n",
      "b'171820312790503851'\n",
      "b'110702727672902194'\n",
      "b'153983237669605239'\n",
      "b'79240819428001536'\n",
      "b'153882708437603491'\n",
      "b'137870882687004119'\n",
      "b'144631264668508678'\n",
      "b'112041166943500776'\n",
      "b'103370744315300321'\n",
      "b'144053346284602764'\n",
      "b'133423239404401921'\n",
      "b'168133400392806104'\n",
      "b'166361038457300913'\n",
      "b'95293180947406521'\n",
      "b'89042670302808216'\n"
     ]
    },
    {
     "data": {
      "text/html": [
       "<div>\n",
       "<style scoped>\n",
       "    .dataframe tbody tr th:only-of-type {\n",
       "        vertical-align: middle;\n",
       "    }\n",
       "\n",
       "    .dataframe tbody tr th {\n",
       "        vertical-align: top;\n",
       "    }\n",
       "\n",
       "    .dataframe thead th {\n",
       "        text-align: right;\n",
       "    }\n",
       "</style>\n",
       "<table border=\"1\" class=\"dataframe\">\n",
       "  <thead>\n",
       "    <tr style=\"text-align: right;\">\n",
       "      <th></th>\n",
       "      <th>lcid</th>\n",
       "      <th>lc_data</th>\n",
       "      <th>label</th>\n",
       "    </tr>\n",
       "  </thead>\n",
       "  <tbody>\n",
       "    <tr>\n",
       "      <th>0</th>\n",
       "      <td>b'73431512840208973'</td>\n",
       "      <td>[[57321.65, 15.504, 0.152], [57368.58, 15.422,...</td>\n",
       "      <td>1</td>\n",
       "    </tr>\n",
       "    <tr>\n",
       "      <th>0</th>\n",
       "      <td>b'70020668647404048'</td>\n",
       "      <td>[[57303.508, 14.786, 0.015], [57303.508, 14.78...</td>\n",
       "      <td>1</td>\n",
       "    </tr>\n",
       "    <tr>\n",
       "      <th>0</th>\n",
       "      <td>b'124383265711709041'</td>\n",
       "      <td>[[57230.438, 16.33, 0.033], [57322.31, 16.331,...</td>\n",
       "      <td>1</td>\n",
       "    </tr>\n",
       "    <tr>\n",
       "      <th>0</th>\n",
       "      <td>b'80071340602291868'</td>\n",
       "      <td>[[57369.535, 15.14, 0.014], [57369.547, 15.121...</td>\n",
       "      <td>1</td>\n",
       "    </tr>\n",
       "    <tr>\n",
       "      <th>0</th>\n",
       "      <td>b'142143111261208836'</td>\n",
       "      <td>[[57240.45, 15.236, 0.064], [57319.277, 15.343...</td>\n",
       "      <td>1</td>\n",
       "    </tr>\n",
       "    <tr>\n",
       "      <th>...</th>\n",
       "      <td>...</td>\n",
       "      <td>...</td>\n",
       "      <td>...</td>\n",
       "    </tr>\n",
       "    <tr>\n",
       "      <th>0</th>\n",
       "      <td>b'133423239404401921'</td>\n",
       "      <td>[[57323.293, 15.563, 0.033], [57323.312, 15.60...</td>\n",
       "      <td>0</td>\n",
       "    </tr>\n",
       "    <tr>\n",
       "      <th>0</th>\n",
       "      <td>b'168133400392806104'</td>\n",
       "      <td>[[57232.43, 13.266, 0.185], [57233.52, 13.574,...</td>\n",
       "      <td>0</td>\n",
       "    </tr>\n",
       "    <tr>\n",
       "      <th>0</th>\n",
       "      <td>b'166361038457300913'</td>\n",
       "      <td>[[57302.523, 15.128, 0.017], [57320.64, 15.139...</td>\n",
       "      <td>0</td>\n",
       "    </tr>\n",
       "    <tr>\n",
       "      <th>0</th>\n",
       "      <td>b'95293180947406521'</td>\n",
       "      <td>[[57227.344, 14.442, 0.015], [57227.348, 14.46...</td>\n",
       "      <td>0</td>\n",
       "    </tr>\n",
       "    <tr>\n",
       "      <th>0</th>\n",
       "      <td>b'89042670302808216'</td>\n",
       "      <td>[[57222.348, 14.348, 0.017], [57222.36, 14.367...</td>\n",
       "      <td>0</td>\n",
       "    </tr>\n",
       "  </tbody>\n",
       "</table>\n",
       "<p>80 rows × 3 columns</p>\n",
       "</div>"
      ],
      "text/plain": [
       "                     lcid                                            lc_data  \\\n",
       "0    b'73431512840208973'  [[57321.65, 15.504, 0.152], [57368.58, 15.422,...   \n",
       "0    b'70020668647404048'  [[57303.508, 14.786, 0.015], [57303.508, 14.78...   \n",
       "0   b'124383265711709041'  [[57230.438, 16.33, 0.033], [57322.31, 16.331,...   \n",
       "0    b'80071340602291868'  [[57369.535, 15.14, 0.014], [57369.547, 15.121...   \n",
       "0   b'142143111261208836'  [[57240.45, 15.236, 0.064], [57319.277, 15.343...   \n",
       "..                    ...                                                ...   \n",
       "0   b'133423239404401921'  [[57323.293, 15.563, 0.033], [57323.312, 15.60...   \n",
       "0   b'168133400392806104'  [[57232.43, 13.266, 0.185], [57233.52, 13.574,...   \n",
       "0   b'166361038457300913'  [[57302.523, 15.128, 0.017], [57320.64, 15.139...   \n",
       "0    b'95293180947406521'  [[57227.344, 14.442, 0.015], [57227.348, 14.46...   \n",
       "0    b'89042670302808216'  [[57222.348, 14.348, 0.017], [57222.36, 14.367...   \n",
       "\n",
       "    label  \n",
       "0       1  \n",
       "0       1  \n",
       "0       1  \n",
       "0       1  \n",
       "0       1  \n",
       "..    ...  \n",
       "0       0  \n",
       "0       0  \n",
       "0       0  \n",
       "0       0  \n",
       "0       0  \n",
       "\n",
       "[80 rows x 3 columns]"
      ]
     },
     "execution_count": 20,
     "metadata": {},
     "output_type": "execute_result"
    }
   ],
   "source": [
    "dataset_sampling = get_data(samples_dataset)\n",
    "dataset_sampling"
   ]
  },
  {
   "cell_type": "code",
   "execution_count": 21,
   "metadata": {},
   "outputs": [
    {
     "name": "stdout",
     "output_type": "stream",
     "text": [
      "b'73431512840208973'\n",
      "b'70020668647404048'\n",
      "b'124383265711709041'\n",
      "b'142143111261208836'\n",
      "b'139650730980007578'\n",
      "b'163882764822207823'\n",
      "b'170810576982406999'\n",
      "b'73021139237309856'\n",
      "b'120331064323804933'\n",
      "b'150163082245609752'\n",
      "b'97092567471905976'\n",
      "b'171203232309203352'\n",
      "b'84370454374806141'\n",
      "b'120672618715601954'\n",
      "b'168070344230608960'\n",
      "b'108822881734309971'\n",
      "b'127182814025004668'\n",
      "b'97542807968000362'\n",
      "b'91132614977005924'\n",
      "b'81572593093009566'\n",
      "b'90102652052809104'\n",
      "b'99952826030003439'\n",
      "b'134353036346009617'\n",
      "b'170020721403006040'\n",
      "b'78222676786002912'\n",
      "b'129422958554204825'\n",
      "b'91812682323993687'\n",
      "b'130942988067002123'\n",
      "b'134932913426101671'\n",
      "b'88452721663309289'\n",
      "b'94282701578005457'\n",
      "b'86991112522104263'\n",
      "b'90920989580505647'\n",
      "b'171180355820304944'\n",
      "b'157070727735008600'\n",
      "b'161291056577302105'\n",
      "b'148662718586401298'\n",
      "b'99312630597204617'\n",
      "b'104722880775806542'\n",
      "b'147243002505007788'\n",
      "b'173790180567802735'\n",
      "b'96873032205208415'\n",
      "b'154113005666704756'\n",
      "b'161080595752505368'\n",
      "b'102131148695104760'\n",
      "b'137203169884005536'\n",
      "b'120112842537006760'\n",
      "b'86942666791993467'\n",
      "b'79192551838803716'\n",
      "b'88940748069008615'\n",
      "b'81483204620201333'\n",
      "b'169011674677305684'\n",
      "b'83353212386807697'\n",
      "b'78482273118901837'\n",
      "b'102571958853307214'\n",
      "b'99031282326203960'\n",
      "b'127571327056392966'\n",
      "b'121882814739908519'\n",
      "b'137952579198901339'\n",
      "b'125882991565905099'\n",
      "b'78653134819104506'\n",
      "b'96632459053708510'\n",
      "b'88063241970504056'\n",
      "b'135830594472901639'\n",
      "b'171820312790503851'\n",
      "b'110702727672902194'\n",
      "b'153983237669605239'\n",
      "b'79240819428001536'\n",
      "b'153882708437603491'\n",
      "b'137870882687004119'\n",
      "b'144631264668508678'\n",
      "b'112041166943500776'\n",
      "b'103370744315300321'\n",
      "b'144053346284602764'\n",
      "b'133423239404401921'\n",
      "b'168133400392806104'\n",
      "b'166361038457300913'\n",
      "b'95293180947406521'\n",
      "b'89042670302808216'\n"
     ]
    },
    {
     "data": {
      "text/html": [
       "<div>\n",
       "<style scoped>\n",
       "    .dataframe tbody tr th:only-of-type {\n",
       "        vertical-align: middle;\n",
       "    }\n",
       "\n",
       "    .dataframe tbody tr th {\n",
       "        vertical-align: top;\n",
       "    }\n",
       "\n",
       "    .dataframe thead th {\n",
       "        text-align: right;\n",
       "    }\n",
       "</style>\n",
       "<table border=\"1\" class=\"dataframe\">\n",
       "  <thead>\n",
       "    <tr style=\"text-align: right;\">\n",
       "      <th></th>\n",
       "      <th>lcid</th>\n",
       "      <th>lc_data</th>\n",
       "      <th>label</th>\n",
       "    </tr>\n",
       "  </thead>\n",
       "  <tbody>\n",
       "    <tr>\n",
       "      <th>0</th>\n",
       "      <td>b'73431512840208973'</td>\n",
       "      <td>[[57321.65, 15.504, 0.152], [57368.58, 15.422,...</td>\n",
       "      <td>1</td>\n",
       "    </tr>\n",
       "    <tr>\n",
       "      <th>0</th>\n",
       "      <td>b'70020668647404048'</td>\n",
       "      <td>[[57303.508, 14.786, 0.015], [57303.508, 14.78...</td>\n",
       "      <td>1</td>\n",
       "    </tr>\n",
       "    <tr>\n",
       "      <th>0</th>\n",
       "      <td>b'124383265711709041'</td>\n",
       "      <td>[[57230.438, 16.33, 0.033], [57322.31, 16.331,...</td>\n",
       "      <td>1</td>\n",
       "    </tr>\n",
       "    <tr>\n",
       "      <th>0</th>\n",
       "      <td>b'80071340602291868'</td>\n",
       "      <td>[[57321.586, 15.149, 0.033], [57321.61, 15.128...</td>\n",
       "      <td>1</td>\n",
       "    </tr>\n",
       "    <tr>\n",
       "      <th>0</th>\n",
       "      <td>b'80071340602291868'</td>\n",
       "      <td>[[57388.61, 15.116, 0.023], [57388.61, 15.104,...</td>\n",
       "      <td>1</td>\n",
       "    </tr>\n",
       "    <tr>\n",
       "      <th>...</th>\n",
       "      <td>...</td>\n",
       "      <td>...</td>\n",
       "      <td>...</td>\n",
       "    </tr>\n",
       "    <tr>\n",
       "      <th>0</th>\n",
       "      <td>b'133423239404401921'</td>\n",
       "      <td>[[57323.293, 15.563, 0.033], [57323.312, 15.60...</td>\n",
       "      <td>0</td>\n",
       "    </tr>\n",
       "    <tr>\n",
       "      <th>0</th>\n",
       "      <td>b'168133400392806104'</td>\n",
       "      <td>[[57232.43, 13.266, 0.185], [57233.52, 13.574,...</td>\n",
       "      <td>0</td>\n",
       "    </tr>\n",
       "    <tr>\n",
       "      <th>0</th>\n",
       "      <td>b'166361038457300913'</td>\n",
       "      <td>[[57302.523, 15.128, 0.017], [57320.64, 15.139...</td>\n",
       "      <td>0</td>\n",
       "    </tr>\n",
       "    <tr>\n",
       "      <th>0</th>\n",
       "      <td>b'95293180947406521'</td>\n",
       "      <td>[[57227.344, 14.442, 0.015], [57227.348, 14.46...</td>\n",
       "      <td>0</td>\n",
       "    </tr>\n",
       "    <tr>\n",
       "      <th>0</th>\n",
       "      <td>b'89042670302808216'</td>\n",
       "      <td>[[57222.348, 14.348, 0.017], [57222.36, 14.367...</td>\n",
       "      <td>0</td>\n",
       "    </tr>\n",
       "  </tbody>\n",
       "</table>\n",
       "<p>81 rows × 3 columns</p>\n",
       "</div>"
      ],
      "text/plain": [
       "                     lcid                                            lc_data  \\\n",
       "0    b'73431512840208973'  [[57321.65, 15.504, 0.152], [57368.58, 15.422,...   \n",
       "0    b'70020668647404048'  [[57303.508, 14.786, 0.015], [57303.508, 14.78...   \n",
       "0   b'124383265711709041'  [[57230.438, 16.33, 0.033], [57322.31, 16.331,...   \n",
       "0    b'80071340602291868'  [[57321.586, 15.149, 0.033], [57321.61, 15.128...   \n",
       "0    b'80071340602291868'  [[57388.61, 15.116, 0.023], [57388.61, 15.104,...   \n",
       "..                    ...                                                ...   \n",
       "0   b'133423239404401921'  [[57323.293, 15.563, 0.033], [57323.312, 15.60...   \n",
       "0   b'168133400392806104'  [[57232.43, 13.266, 0.185], [57233.52, 13.574,...   \n",
       "0   b'166361038457300913'  [[57302.523, 15.128, 0.017], [57320.64, 15.139...   \n",
       "0    b'95293180947406521'  [[57227.344, 14.442, 0.015], [57227.348, 14.46...   \n",
       "0    b'89042670302808216'  [[57222.348, 14.348, 0.017], [57222.36, 14.367...   \n",
       "\n",
       "    label  \n",
       "0       1  \n",
       "0       1  \n",
       "0       1  \n",
       "0       1  \n",
       "0       1  \n",
       "..    ...  \n",
       "0       0  \n",
       "0       0  \n",
       "0       0  \n",
       "0       0  \n",
       "0       0  \n",
       "\n",
       "[81 rows x 3 columns]"
      ]
     },
     "execution_count": 21,
     "metadata": {},
     "output_type": "execute_result"
    }
   ],
   "source": [
    "dataset_windows = get_data(all_dataset)\n",
    "dataset_windows"
   ]
  },
  {
   "cell_type": "markdown",
   "metadata": {},
   "source": [
    "Seguiremos con sampling = True"
   ]
  },
  {
   "cell_type": "code",
   "execution_count": 26,
   "metadata": {},
   "outputs": [],
   "source": [
    "dataset_1 = all_dataset.map(lambda x: {'input' :x['input'],\n",
    "                                       'original' :x['input'],\n",
    "                                       'lcid'  :x['lcid'],\n",
    "                                       'length':x['length'],\n",
    "                                       'mask'  :tf.ones(tf.shape(x['input'])[0]),\n",
    "                                       'label' : x['label']},\n",
    "                                       num_parallel_calls=tf.data.experimental.AUTOTUNE)\n",
    "\n",
    "\n",
    "sizes = {\n",
    "\t\t'input': (window_size, None),\n",
    "\t\t'original': (window_size, None),\n",
    "\t\t'lcid': (),\n",
    "\t\t'length': (),\n",
    "\t\t'mask': (window_size),\n",
    "\t\t'label': ()\n",
    "\t}\n"
   ]
  },
  {
   "cell_type": "code",
   "execution_count": 27,
   "metadata": {},
   "outputs": [],
   "source": [
    "def standardize(tensor, axis=0, return_mean=False):\n",
    "    \"\"\"\n",
    "    Standardize a tensor subtracting the mean\n",
    "\n",
    "    Args:\n",
    "        tensor (1-dim tensorflow tensor): values\n",
    "        axis (int): axis on which we calculate the mean\n",
    "        return_mean (bool): output the mean of the tensor\n",
    "                            turning on the original scale\n",
    "    Returns:\n",
    "        tensor (1-dim tensorflow tensor): standardize tensor\n",
    "    \"\"\"\n",
    "\n",
    "    mean_value = tf.reduce_mean(tensor['input'], axis, name='mean_value')\n",
    "    tensor['input'] = tensor['input'] - tf.expand_dims(mean_value, axis)\n",
    "\n",
    "    mean_value = tf.reduce_mean(tensor['original'], axis, name='mean_value')\n",
    "    tensor['original'] = tensor['original'] - tf.expand_dims(mean_value, axis)\n",
    "    \n",
    "    return tensor"
   ]
  },
  {
   "cell_type": "code",
   "execution_count": 28,
   "metadata": {},
   "outputs": [],
   "source": [
    "dataset_std = dataset_1.map(standardize)"
   ]
  },
  {
   "cell_type": "code",
   "execution_count": 29,
   "metadata": {},
   "outputs": [
    {
     "name": "stdout",
     "output_type": "stream",
     "text": [
      "b'73431512840208973'\n",
      "b'70020668647404048'\n",
      "b'124383265711709041'\n",
      "b'142143111261208836'\n",
      "b'139650730980007578'\n",
      "b'163882764822207823'\n",
      "b'170810576982406999'\n",
      "b'73021139237309856'\n",
      "b'120331064323804933'\n",
      "b'150163082245609752'\n",
      "b'97092567471905976'\n",
      "b'171203232309203352'\n",
      "b'84370454374806141'\n",
      "b'120672618715601954'\n",
      "b'168070344230608960'\n",
      "b'108822881734309971'\n",
      "b'127182814025004668'\n",
      "b'97542807968000362'\n",
      "b'91132614977005924'\n",
      "b'81572593093009566'\n",
      "b'90102652052809104'\n",
      "b'99952826030003439'\n",
      "b'134353036346009617'\n",
      "b'170020721403006040'\n",
      "b'78222676786002912'\n",
      "b'129422958554204825'\n",
      "b'91812682323993687'\n",
      "b'130942988067002123'\n",
      "b'134932913426101671'\n",
      "b'88452721663309289'\n",
      "b'94282701578005457'\n",
      "b'86991112522104263'\n",
      "b'90920989580505647'\n",
      "b'171180355820304944'\n",
      "b'157070727735008600'\n",
      "b'161291056577302105'\n",
      "b'148662718586401298'\n",
      "b'99312630597204617'\n",
      "b'104722880775806542'\n",
      "b'147243002505007788'\n",
      "b'173790180567802735'\n",
      "b'96873032205208415'\n",
      "b'154113005666704756'\n",
      "b'161080595752505368'\n",
      "b'102131148695104760'\n",
      "b'137203169884005536'\n",
      "b'120112842537006760'\n",
      "b'86942666791993467'\n",
      "b'79192551838803716'\n",
      "b'88940748069008615'\n",
      "b'81483204620201333'\n",
      "b'169011674677305684'\n",
      "b'83353212386807697'\n",
      "b'78482273118901837'\n",
      "b'102571958853307214'\n",
      "b'99031282326203960'\n",
      "b'127571327056392966'\n",
      "b'121882814739908519'\n",
      "b'137952579198901339'\n",
      "b'125882991565905099'\n",
      "b'78653134819104506'\n",
      "b'96632459053708510'\n",
      "b'88063241970504056'\n",
      "b'135830594472901639'\n",
      "b'171820312790503851'\n",
      "b'110702727672902194'\n",
      "b'153983237669605239'\n",
      "b'79240819428001536'\n",
      "b'153882708437603491'\n",
      "b'137870882687004119'\n",
      "b'144631264668508678'\n",
      "b'112041166943500776'\n",
      "b'103370744315300321'\n",
      "b'144053346284602764'\n",
      "b'133423239404401921'\n",
      "b'168133400392806104'\n",
      "b'166361038457300913'\n",
      "b'95293180947406521'\n",
      "b'89042670302808216'\n"
     ]
    }
   ],
   "source": [
    "for lc_info in dataset_std:\n",
    "    np_lc = lc_info['input'].numpy()\n",
    "    np_lc = np_lc[np_lc[:,0].argsort()]\n",
    "\n",
    "    if np_lc.shape[0] < 200:\n",
    "        print(lc_info['lcid'].numpy())\n",
    "        id_temporal = lc_info['lcid'].numpy()\n",
    "        lc_temporal_info = copy.deepcopy(lc_info)"
   ]
  },
  {
   "cell_type": "code",
   "execution_count": 30,
   "metadata": {},
   "outputs": [
    {
     "data": {
      "text/plain": [
       "(71, 3)"
      ]
     },
     "execution_count": 30,
     "metadata": {},
     "output_type": "execute_result"
    }
   ],
   "source": [
    "lc_temporal_info['input'].numpy().shape"
   ]
  },
  {
   "cell_type": "code",
   "execution_count": 31,
   "metadata": {},
   "outputs": [
    {
     "data": {
      "text/plain": [
       "<tf.Tensor: shape=(71,), dtype=float32, numpy=\n",
       "array([1., 1., 1., 1., 1., 1., 1., 1., 1., 1., 1., 1., 1., 1., 1., 1., 1.,\n",
       "       1., 1., 1., 1., 1., 1., 1., 1., 1., 1., 1., 1., 1., 1., 1., 1., 1.,\n",
       "       1., 1., 1., 1., 1., 1., 1., 1., 1., 1., 1., 1., 1., 1., 1., 1., 1.,\n",
       "       1., 1., 1., 1., 1., 1., 1., 1., 1., 1., 1., 1., 1., 1., 1., 1., 1.,\n",
       "       1., 1., 1.], dtype=float32)>"
      ]
     },
     "execution_count": 31,
     "metadata": {},
     "output_type": "execute_result"
    }
   ],
   "source": [
    "lc_temporal_info['mask']"
   ]
  },
  {
   "cell_type": "code",
   "execution_count": 32,
   "metadata": {},
   "outputs": [
    {
     "data": {
      "text/plain": [
       "<_PaddedBatchDataset element_spec={'input': TensorSpec(shape=(None, 200, None), dtype=tf.float32, name=None), 'original': TensorSpec(shape=(None, 200, None), dtype=tf.float32, name=None), 'lcid': TensorSpec(shape=(None,), dtype=tf.string, name=None), 'length': TensorSpec(shape=(None,), dtype=tf.int32, name=None), 'mask': TensorSpec(shape=(None, 200), dtype=tf.float32, name=None), 'label': TensorSpec(shape=(None,), dtype=tf.int32, name=None)}>"
      ]
     },
     "execution_count": 32,
     "metadata": {},
     "output_type": "execute_result"
    }
   ],
   "source": [
    "dataset_padded = dataset_std.padded_batch(batch_size, padded_shapes=sizes)\n",
    "dataset_padded"
   ]
  },
  {
   "cell_type": "code",
   "execution_count": 33,
   "metadata": {},
   "outputs": [
    {
     "name": "stdout",
     "output_type": "stream",
     "text": [
      "Numero de batch 0\n",
      "Numero de batch 1\n",
      "Numero de batch 2\n",
      "Numero de batch 3\n",
      "Numero de batch 4\n",
      "Numero de batch 5\n",
      "Encontramos la SNID\n"
     ]
    }
   ],
   "source": [
    "for batch, lc_info_batches in enumerate(dataset_padded):\n",
    "    print('Numero de batch {}'.format(batch))\n",
    "    \n",
    "    for snid, np_lc, mask_pad in zip(lc_info_batches['lcid'].numpy(), lc_info_batches['input'], lc_info_batches['mask']):\n",
    "        #np_lc = np_lc[np_lc[:,0].argsort()]\n",
    "\n",
    "        if snid == id_temporal:\n",
    "            print('Encontramos la SNID')\n",
    "            lc_temporal_padded = copy.deepcopy(np_lc)\n",
    "            mask_padded = copy.deepcopy(mask_pad)\n",
    "            lc_info_with_pad = copy.deepcopy(lc_info_batches)\n",
    "    \n",
    "        #print(lc_info['lcid'].numpy())\n",
    "       # id_temporal = lc_info['lcid'].numpy()  \n",
    "       # lc_temporal = copy.deepcopy(np_lc)"
   ]
  },
  {
   "cell_type": "code",
   "execution_count": 34,
   "metadata": {},
   "outputs": [
    {
     "data": {
      "text/plain": [
       "dict_keys(['input', 'original', 'lcid', 'length', 'mask', 'label'])"
      ]
     },
     "execution_count": 34,
     "metadata": {},
     "output_type": "execute_result"
    }
   ],
   "source": [
    "lc_info_batches.keys()"
   ]
  },
  {
   "cell_type": "code",
   "execution_count": 35,
   "metadata": {},
   "outputs": [
    {
     "name": "stdout",
     "output_type": "stream",
     "text": [
      "(71, 3)\n",
      "tf.Tensor(\n",
      "[[-3.69835938e+02 -1.16152763e-01 -3.52112390e-03]\n",
      " [-3.69824219e+02 -9.71527100e-02 -2.52112560e-03]\n",
      " [-3.69824219e+02 -9.61523056e-02 -6.52112439e-03]\n",
      " [-3.63777344e+02  2.01848030e-01  4.78874892e-04]\n",
      " [-3.03964844e+02 -5.91526031e-02  1.54788736e-02]\n",
      " [-3.03953125e+02  2.98480988e-02  2.47887522e-03]\n",
      " [-3.03941406e+02  1.38473511e-02 -5.21125272e-04]\n",
      " [-3.03921875e+02  1.82847977e-01  2.47887522e-03]\n",
      " [-3.03914062e+02  3.71848106e-01  1.04788747e-02]\n",
      " [-3.02964844e+02  1.58472061e-02  1.24788750e-02]\n",
      " [-2.94929688e+02 -1.04152679e-01 -3.52112390e-03]\n",
      " [-2.93925781e+02 -1.75152779e-01 -1.52112544e-03]\n",
      " [-2.93921875e+02 -8.31527710e-02 -2.52112560e-03]\n",
      " [-1.22671875e+02 -7.41519928e-02 -1.52112544e-03]\n",
      " [-9.66875000e+01 -1.36152267e-01 -5.52112516e-03]\n",
      " [-9.66718750e+01 -1.38152122e-01 -4.52112406e-03]\n",
      " [-9.66601562e+01 -1.39152527e-01 -6.52112439e-03]\n",
      " [-9.66445312e+01 -1.29152298e-01 -6.52112439e-03]\n",
      " [-9.26914062e+01  2.59847641e-01  4.78874892e-04]\n",
      " [-9.26718750e+01  2.41847992e-01 -5.21125272e-04]\n",
      " [-9.26640625e+01  1.81847572e-01 -1.52112544e-03]\n",
      " [-9.26562500e+01  1.16847992e-01 -1.52112544e-03]\n",
      " [-9.16289062e+01 -1.63152695e-01 -4.52112406e-03]\n",
      " [-9.15976562e+01 -4.11520004e-02  8.47887434e-03]\n",
      " [-3.97578125e+01 -8.11519623e-02  4.47887555e-03]\n",
      " [-3.97500000e+01 -9.51519012e-02 -6.52112439e-03]\n",
      " [-3.97460938e+01  3.28474045e-02  3.47887538e-03]\n",
      " [-3.97382812e+01 -7.91521072e-02 -1.52112544e-03]\n",
      " [-3.97226562e+01 -3.61518860e-02  4.78874892e-04]\n",
      " [-3.96953125e+01  1.50847435e-01  3.47887538e-03]\n",
      " [-2.47812500e+01 -5.01527786e-02 -2.52112560e-03]\n",
      " [-2.47695312e+01 -6.31523132e-02 -4.52112406e-03]\n",
      " [-2.47578125e+01 -9.81521606e-02  5.47887571e-03]\n",
      " [-2.47460938e+01 -9.01527405e-02  1.47887506e-03]\n",
      " [-2.47343750e+01 -9.71527100e-02  1.47887506e-03]\n",
      " [ 2.01718750e+01  3.56847763e-01  3.47887538e-03]\n",
      " [ 5.10625000e+01 -6.41527176e-02  5.47887571e-03]\n",
      " [ 5.10742188e+01  7.78474808e-02  8.47887434e-03]\n",
      " [ 5.10781250e+01 -6.15215302e-03  3.47887538e-03]\n",
      " [ 5.10898438e+01 -7.91521072e-02 -1.52112544e-03]\n",
      " [ 5.11054688e+01 -1.14151955e-01 -4.52112406e-03]\n",
      " [ 5.11054688e+01 -3.61518860e-02  1.47887506e-03]\n",
      " [ 5.11171875e+01 -6.31523132e-02 -5.21125272e-04]\n",
      " [ 5.11210938e+01 -8.01525116e-02  2.47887522e-03]\n",
      " [ 5.11328125e+01 -4.71525192e-02  4.47887555e-03]\n",
      " [ 5.50820312e+01 -3.21521759e-02  1.47887506e-03]\n",
      " [ 5.90625000e+01 -5.61523438e-02 -1.52112544e-03]\n",
      " [ 5.90703125e+01 -9.11521912e-02 -2.52112560e-03]\n",
      " [ 5.90820312e+01 -1.00152016e-01 -5.21125272e-04]\n",
      " [ 5.90976562e+01 -8.21523666e-02 -1.52112544e-03]\n",
      " [ 5.91132812e+01 -7.81526566e-02 -2.52112560e-03]\n",
      " [ 8.30312500e+01  2.19847679e-01  7.47887604e-03]\n",
      " [ 8.30390625e+01  1.78847313e-01  5.47887571e-03]\n",
      " [ 8.30546875e+01 -1.61523819e-02  3.47887538e-03]\n",
      " [ 2.34417969e+02  3.58476639e-02 -4.52112406e-03]\n",
      " [ 2.34437500e+02 -5.61523438e-02 -3.52112390e-03]\n",
      " [ 2.34457031e+02 -1.02151871e-01 -2.52112560e-03]\n",
      " [ 2.34472656e+02 -1.06152534e-01 -2.52112560e-03]\n",
      " [ 2.35417969e+02 -8.61520767e-02 -5.52112516e-03]\n",
      " [ 2.35437500e+02 -9.11521912e-02 -1.52112544e-03]\n",
      " [ 2.35476562e+02 -6.91518784e-02  5.47887571e-03]\n",
      " [ 2.63375000e+02  1.19847298e-01 -5.52112516e-03]\n",
      " [ 2.63394531e+02  2.94847488e-01 -3.52112390e-03]\n",
      " [ 2.63406250e+02  3.52848053e-01 -5.21125272e-04]\n",
      " [ 2.63425781e+02  2.05847740e-01 -3.52112390e-03]\n",
      " [ 2.63441406e+02  1.07847214e-01 -5.52112516e-03]\n",
      " [ 2.91328125e+02 -8.11519623e-02 -1.15211252e-02]\n",
      " [ 2.91363281e+02 -1.10152245e-01 -9.52112488e-03]\n",
      " [ 3.19250000e+02 -1.35151863e-01 -8.52112472e-03]\n",
      " [ 3.31277344e+02  2.16847420e-01  3.54788750e-02]\n",
      " [ 3.31285156e+02  5.88474274e-02 -9.52112488e-03]], shape=(71, 3), dtype=float32)\n"
     ]
    }
   ],
   "source": [
    "print(lc_temporal_info['input'].shape)\n",
    "print(lc_temporal_info['input'])"
   ]
  },
  {
   "cell_type": "code",
   "execution_count": 36,
   "metadata": {},
   "outputs": [
    {
     "name": "stdout",
     "output_type": "stream",
     "text": [
      "(200, 3)\n",
      "tf.Tensor(\n",
      "[[-3.69835938e+02 -1.16152763e-01 -3.52112390e-03]\n",
      " [-3.69824219e+02 -9.71527100e-02 -2.52112560e-03]\n",
      " [-3.69824219e+02 -9.61523056e-02 -6.52112439e-03]\n",
      " [-3.63777344e+02  2.01848030e-01  4.78874892e-04]\n",
      " [-3.03964844e+02 -5.91526031e-02  1.54788736e-02]\n",
      " [-3.03953125e+02  2.98480988e-02  2.47887522e-03]\n",
      " [-3.03941406e+02  1.38473511e-02 -5.21125272e-04]\n",
      " [-3.03921875e+02  1.82847977e-01  2.47887522e-03]\n",
      " [-3.03914062e+02  3.71848106e-01  1.04788747e-02]\n",
      " [-3.02964844e+02  1.58472061e-02  1.24788750e-02]\n",
      " [-2.94929688e+02 -1.04152679e-01 -3.52112390e-03]\n",
      " [-2.93925781e+02 -1.75152779e-01 -1.52112544e-03]\n",
      " [-2.93921875e+02 -8.31527710e-02 -2.52112560e-03]\n",
      " [-1.22671875e+02 -7.41519928e-02 -1.52112544e-03]\n",
      " [-9.66875000e+01 -1.36152267e-01 -5.52112516e-03]\n",
      " [-9.66718750e+01 -1.38152122e-01 -4.52112406e-03]\n",
      " [-9.66601562e+01 -1.39152527e-01 -6.52112439e-03]\n",
      " [-9.66445312e+01 -1.29152298e-01 -6.52112439e-03]\n",
      " [-9.26914062e+01  2.59847641e-01  4.78874892e-04]\n",
      " [-9.26718750e+01  2.41847992e-01 -5.21125272e-04]\n",
      " [-9.26640625e+01  1.81847572e-01 -1.52112544e-03]\n",
      " [-9.26562500e+01  1.16847992e-01 -1.52112544e-03]\n",
      " [-9.16289062e+01 -1.63152695e-01 -4.52112406e-03]\n",
      " [-9.15976562e+01 -4.11520004e-02  8.47887434e-03]\n",
      " [-3.97578125e+01 -8.11519623e-02  4.47887555e-03]\n",
      " [-3.97500000e+01 -9.51519012e-02 -6.52112439e-03]\n",
      " [-3.97460938e+01  3.28474045e-02  3.47887538e-03]\n",
      " [-3.97382812e+01 -7.91521072e-02 -1.52112544e-03]\n",
      " [-3.97226562e+01 -3.61518860e-02  4.78874892e-04]\n",
      " [-3.96953125e+01  1.50847435e-01  3.47887538e-03]\n",
      " [-2.47812500e+01 -5.01527786e-02 -2.52112560e-03]\n",
      " [-2.47695312e+01 -6.31523132e-02 -4.52112406e-03]\n",
      " [-2.47578125e+01 -9.81521606e-02  5.47887571e-03]\n",
      " [-2.47460938e+01 -9.01527405e-02  1.47887506e-03]\n",
      " [-2.47343750e+01 -9.71527100e-02  1.47887506e-03]\n",
      " [ 2.01718750e+01  3.56847763e-01  3.47887538e-03]\n",
      " [ 5.10625000e+01 -6.41527176e-02  5.47887571e-03]\n",
      " [ 5.10742188e+01  7.78474808e-02  8.47887434e-03]\n",
      " [ 5.10781250e+01 -6.15215302e-03  3.47887538e-03]\n",
      " [ 5.10898438e+01 -7.91521072e-02 -1.52112544e-03]\n",
      " [ 5.11054688e+01 -1.14151955e-01 -4.52112406e-03]\n",
      " [ 5.11054688e+01 -3.61518860e-02  1.47887506e-03]\n",
      " [ 5.11171875e+01 -6.31523132e-02 -5.21125272e-04]\n",
      " [ 5.11210938e+01 -8.01525116e-02  2.47887522e-03]\n",
      " [ 5.11328125e+01 -4.71525192e-02  4.47887555e-03]\n",
      " [ 5.50820312e+01 -3.21521759e-02  1.47887506e-03]\n",
      " [ 5.90625000e+01 -5.61523438e-02 -1.52112544e-03]\n",
      " [ 5.90703125e+01 -9.11521912e-02 -2.52112560e-03]\n",
      " [ 5.90820312e+01 -1.00152016e-01 -5.21125272e-04]\n",
      " [ 5.90976562e+01 -8.21523666e-02 -1.52112544e-03]\n",
      " [ 5.91132812e+01 -7.81526566e-02 -2.52112560e-03]\n",
      " [ 8.30312500e+01  2.19847679e-01  7.47887604e-03]\n",
      " [ 8.30390625e+01  1.78847313e-01  5.47887571e-03]\n",
      " [ 8.30546875e+01 -1.61523819e-02  3.47887538e-03]\n",
      " [ 2.34417969e+02  3.58476639e-02 -4.52112406e-03]\n",
      " [ 2.34437500e+02 -5.61523438e-02 -3.52112390e-03]\n",
      " [ 2.34457031e+02 -1.02151871e-01 -2.52112560e-03]\n",
      " [ 2.34472656e+02 -1.06152534e-01 -2.52112560e-03]\n",
      " [ 2.35417969e+02 -8.61520767e-02 -5.52112516e-03]\n",
      " [ 2.35437500e+02 -9.11521912e-02 -1.52112544e-03]\n",
      " [ 2.35476562e+02 -6.91518784e-02  5.47887571e-03]\n",
      " [ 2.63375000e+02  1.19847298e-01 -5.52112516e-03]\n",
      " [ 2.63394531e+02  2.94847488e-01 -3.52112390e-03]\n",
      " [ 2.63406250e+02  3.52848053e-01 -5.21125272e-04]\n",
      " [ 2.63425781e+02  2.05847740e-01 -3.52112390e-03]\n",
      " [ 2.63441406e+02  1.07847214e-01 -5.52112516e-03]\n",
      " [ 2.91328125e+02 -8.11519623e-02 -1.15211252e-02]\n",
      " [ 2.91363281e+02 -1.10152245e-01 -9.52112488e-03]\n",
      " [ 3.19250000e+02 -1.35151863e-01 -8.52112472e-03]\n",
      " [ 3.31277344e+02  2.16847420e-01  3.54788750e-02]\n",
      " [ 3.31285156e+02  5.88474274e-02 -9.52112488e-03]\n",
      " [ 0.00000000e+00  0.00000000e+00  0.00000000e+00]\n",
      " [ 0.00000000e+00  0.00000000e+00  0.00000000e+00]\n",
      " [ 0.00000000e+00  0.00000000e+00  0.00000000e+00]\n",
      " [ 0.00000000e+00  0.00000000e+00  0.00000000e+00]\n",
      " [ 0.00000000e+00  0.00000000e+00  0.00000000e+00]\n",
      " [ 0.00000000e+00  0.00000000e+00  0.00000000e+00]\n",
      " [ 0.00000000e+00  0.00000000e+00  0.00000000e+00]\n",
      " [ 0.00000000e+00  0.00000000e+00  0.00000000e+00]\n",
      " [ 0.00000000e+00  0.00000000e+00  0.00000000e+00]\n",
      " [ 0.00000000e+00  0.00000000e+00  0.00000000e+00]\n",
      " [ 0.00000000e+00  0.00000000e+00  0.00000000e+00]\n",
      " [ 0.00000000e+00  0.00000000e+00  0.00000000e+00]\n",
      " [ 0.00000000e+00  0.00000000e+00  0.00000000e+00]\n",
      " [ 0.00000000e+00  0.00000000e+00  0.00000000e+00]\n",
      " [ 0.00000000e+00  0.00000000e+00  0.00000000e+00]\n",
      " [ 0.00000000e+00  0.00000000e+00  0.00000000e+00]\n",
      " [ 0.00000000e+00  0.00000000e+00  0.00000000e+00]\n",
      " [ 0.00000000e+00  0.00000000e+00  0.00000000e+00]\n",
      " [ 0.00000000e+00  0.00000000e+00  0.00000000e+00]\n",
      " [ 0.00000000e+00  0.00000000e+00  0.00000000e+00]\n",
      " [ 0.00000000e+00  0.00000000e+00  0.00000000e+00]\n",
      " [ 0.00000000e+00  0.00000000e+00  0.00000000e+00]\n",
      " [ 0.00000000e+00  0.00000000e+00  0.00000000e+00]\n",
      " [ 0.00000000e+00  0.00000000e+00  0.00000000e+00]\n",
      " [ 0.00000000e+00  0.00000000e+00  0.00000000e+00]\n",
      " [ 0.00000000e+00  0.00000000e+00  0.00000000e+00]\n",
      " [ 0.00000000e+00  0.00000000e+00  0.00000000e+00]\n",
      " [ 0.00000000e+00  0.00000000e+00  0.00000000e+00]\n",
      " [ 0.00000000e+00  0.00000000e+00  0.00000000e+00]\n",
      " [ 0.00000000e+00  0.00000000e+00  0.00000000e+00]\n",
      " [ 0.00000000e+00  0.00000000e+00  0.00000000e+00]\n",
      " [ 0.00000000e+00  0.00000000e+00  0.00000000e+00]\n",
      " [ 0.00000000e+00  0.00000000e+00  0.00000000e+00]\n",
      " [ 0.00000000e+00  0.00000000e+00  0.00000000e+00]\n",
      " [ 0.00000000e+00  0.00000000e+00  0.00000000e+00]\n",
      " [ 0.00000000e+00  0.00000000e+00  0.00000000e+00]\n",
      " [ 0.00000000e+00  0.00000000e+00  0.00000000e+00]\n",
      " [ 0.00000000e+00  0.00000000e+00  0.00000000e+00]\n",
      " [ 0.00000000e+00  0.00000000e+00  0.00000000e+00]\n",
      " [ 0.00000000e+00  0.00000000e+00  0.00000000e+00]\n",
      " [ 0.00000000e+00  0.00000000e+00  0.00000000e+00]\n",
      " [ 0.00000000e+00  0.00000000e+00  0.00000000e+00]\n",
      " [ 0.00000000e+00  0.00000000e+00  0.00000000e+00]\n",
      " [ 0.00000000e+00  0.00000000e+00  0.00000000e+00]\n",
      " [ 0.00000000e+00  0.00000000e+00  0.00000000e+00]\n",
      " [ 0.00000000e+00  0.00000000e+00  0.00000000e+00]\n",
      " [ 0.00000000e+00  0.00000000e+00  0.00000000e+00]\n",
      " [ 0.00000000e+00  0.00000000e+00  0.00000000e+00]\n",
      " [ 0.00000000e+00  0.00000000e+00  0.00000000e+00]\n",
      " [ 0.00000000e+00  0.00000000e+00  0.00000000e+00]\n",
      " [ 0.00000000e+00  0.00000000e+00  0.00000000e+00]\n",
      " [ 0.00000000e+00  0.00000000e+00  0.00000000e+00]\n",
      " [ 0.00000000e+00  0.00000000e+00  0.00000000e+00]\n",
      " [ 0.00000000e+00  0.00000000e+00  0.00000000e+00]\n",
      " [ 0.00000000e+00  0.00000000e+00  0.00000000e+00]\n",
      " [ 0.00000000e+00  0.00000000e+00  0.00000000e+00]\n",
      " [ 0.00000000e+00  0.00000000e+00  0.00000000e+00]\n",
      " [ 0.00000000e+00  0.00000000e+00  0.00000000e+00]\n",
      " [ 0.00000000e+00  0.00000000e+00  0.00000000e+00]\n",
      " [ 0.00000000e+00  0.00000000e+00  0.00000000e+00]\n",
      " [ 0.00000000e+00  0.00000000e+00  0.00000000e+00]\n",
      " [ 0.00000000e+00  0.00000000e+00  0.00000000e+00]\n",
      " [ 0.00000000e+00  0.00000000e+00  0.00000000e+00]\n",
      " [ 0.00000000e+00  0.00000000e+00  0.00000000e+00]\n",
      " [ 0.00000000e+00  0.00000000e+00  0.00000000e+00]\n",
      " [ 0.00000000e+00  0.00000000e+00  0.00000000e+00]\n",
      " [ 0.00000000e+00  0.00000000e+00  0.00000000e+00]\n",
      " [ 0.00000000e+00  0.00000000e+00  0.00000000e+00]\n",
      " [ 0.00000000e+00  0.00000000e+00  0.00000000e+00]\n",
      " [ 0.00000000e+00  0.00000000e+00  0.00000000e+00]\n",
      " [ 0.00000000e+00  0.00000000e+00  0.00000000e+00]\n",
      " [ 0.00000000e+00  0.00000000e+00  0.00000000e+00]\n",
      " [ 0.00000000e+00  0.00000000e+00  0.00000000e+00]\n",
      " [ 0.00000000e+00  0.00000000e+00  0.00000000e+00]\n",
      " [ 0.00000000e+00  0.00000000e+00  0.00000000e+00]\n",
      " [ 0.00000000e+00  0.00000000e+00  0.00000000e+00]\n",
      " [ 0.00000000e+00  0.00000000e+00  0.00000000e+00]\n",
      " [ 0.00000000e+00  0.00000000e+00  0.00000000e+00]\n",
      " [ 0.00000000e+00  0.00000000e+00  0.00000000e+00]\n",
      " [ 0.00000000e+00  0.00000000e+00  0.00000000e+00]\n",
      " [ 0.00000000e+00  0.00000000e+00  0.00000000e+00]\n",
      " [ 0.00000000e+00  0.00000000e+00  0.00000000e+00]\n",
      " [ 0.00000000e+00  0.00000000e+00  0.00000000e+00]\n",
      " [ 0.00000000e+00  0.00000000e+00  0.00000000e+00]\n",
      " [ 0.00000000e+00  0.00000000e+00  0.00000000e+00]\n",
      " [ 0.00000000e+00  0.00000000e+00  0.00000000e+00]\n",
      " [ 0.00000000e+00  0.00000000e+00  0.00000000e+00]\n",
      " [ 0.00000000e+00  0.00000000e+00  0.00000000e+00]\n",
      " [ 0.00000000e+00  0.00000000e+00  0.00000000e+00]\n",
      " [ 0.00000000e+00  0.00000000e+00  0.00000000e+00]\n",
      " [ 0.00000000e+00  0.00000000e+00  0.00000000e+00]\n",
      " [ 0.00000000e+00  0.00000000e+00  0.00000000e+00]\n",
      " [ 0.00000000e+00  0.00000000e+00  0.00000000e+00]\n",
      " [ 0.00000000e+00  0.00000000e+00  0.00000000e+00]\n",
      " [ 0.00000000e+00  0.00000000e+00  0.00000000e+00]\n",
      " [ 0.00000000e+00  0.00000000e+00  0.00000000e+00]\n",
      " [ 0.00000000e+00  0.00000000e+00  0.00000000e+00]\n",
      " [ 0.00000000e+00  0.00000000e+00  0.00000000e+00]\n",
      " [ 0.00000000e+00  0.00000000e+00  0.00000000e+00]\n",
      " [ 0.00000000e+00  0.00000000e+00  0.00000000e+00]\n",
      " [ 0.00000000e+00  0.00000000e+00  0.00000000e+00]\n",
      " [ 0.00000000e+00  0.00000000e+00  0.00000000e+00]\n",
      " [ 0.00000000e+00  0.00000000e+00  0.00000000e+00]\n",
      " [ 0.00000000e+00  0.00000000e+00  0.00000000e+00]\n",
      " [ 0.00000000e+00  0.00000000e+00  0.00000000e+00]\n",
      " [ 0.00000000e+00  0.00000000e+00  0.00000000e+00]\n",
      " [ 0.00000000e+00  0.00000000e+00  0.00000000e+00]\n",
      " [ 0.00000000e+00  0.00000000e+00  0.00000000e+00]\n",
      " [ 0.00000000e+00  0.00000000e+00  0.00000000e+00]\n",
      " [ 0.00000000e+00  0.00000000e+00  0.00000000e+00]\n",
      " [ 0.00000000e+00  0.00000000e+00  0.00000000e+00]\n",
      " [ 0.00000000e+00  0.00000000e+00  0.00000000e+00]\n",
      " [ 0.00000000e+00  0.00000000e+00  0.00000000e+00]\n",
      " [ 0.00000000e+00  0.00000000e+00  0.00000000e+00]\n",
      " [ 0.00000000e+00  0.00000000e+00  0.00000000e+00]\n",
      " [ 0.00000000e+00  0.00000000e+00  0.00000000e+00]\n",
      " [ 0.00000000e+00  0.00000000e+00  0.00000000e+00]\n",
      " [ 0.00000000e+00  0.00000000e+00  0.00000000e+00]\n",
      " [ 0.00000000e+00  0.00000000e+00  0.00000000e+00]\n",
      " [ 0.00000000e+00  0.00000000e+00  0.00000000e+00]\n",
      " [ 0.00000000e+00  0.00000000e+00  0.00000000e+00]\n",
      " [ 0.00000000e+00  0.00000000e+00  0.00000000e+00]\n",
      " [ 0.00000000e+00  0.00000000e+00  0.00000000e+00]\n",
      " [ 0.00000000e+00  0.00000000e+00  0.00000000e+00]\n",
      " [ 0.00000000e+00  0.00000000e+00  0.00000000e+00]\n",
      " [ 0.00000000e+00  0.00000000e+00  0.00000000e+00]\n",
      " [ 0.00000000e+00  0.00000000e+00  0.00000000e+00]\n",
      " [ 0.00000000e+00  0.00000000e+00  0.00000000e+00]\n",
      " [ 0.00000000e+00  0.00000000e+00  0.00000000e+00]], shape=(200, 3), dtype=float32)\n"
     ]
    }
   ],
   "source": [
    "print(lc_temporal_padded.shape)\n",
    "print(lc_temporal_padded)"
   ]
  },
  {
   "cell_type": "code",
   "execution_count": 37,
   "metadata": {},
   "outputs": [
    {
     "data": {
      "text/plain": [
       "<tf.Tensor: shape=(200,), dtype=float32, numpy=\n",
       "array([1., 1., 1., 1., 1., 1., 1., 1., 1., 1., 1., 1., 1., 1., 1., 1., 1.,\n",
       "       1., 1., 1., 1., 1., 1., 1., 1., 1., 1., 1., 1., 1., 1., 1., 1., 1.,\n",
       "       1., 1., 1., 1., 1., 1., 1., 1., 1., 1., 1., 1., 1., 1., 1., 1., 1.,\n",
       "       1., 1., 1., 1., 1., 1., 1., 1., 1., 1., 1., 1., 1., 1., 1., 1., 1.,\n",
       "       1., 1., 1., 0., 0., 0., 0., 0., 0., 0., 0., 0., 0., 0., 0., 0., 0.,\n",
       "       0., 0., 0., 0., 0., 0., 0., 0., 0., 0., 0., 0., 0., 0., 0., 0., 0.,\n",
       "       0., 0., 0., 0., 0., 0., 0., 0., 0., 0., 0., 0., 0., 0., 0., 0., 0.,\n",
       "       0., 0., 0., 0., 0., 0., 0., 0., 0., 0., 0., 0., 0., 0., 0., 0., 0.,\n",
       "       0., 0., 0., 0., 0., 0., 0., 0., 0., 0., 0., 0., 0., 0., 0., 0., 0.,\n",
       "       0., 0., 0., 0., 0., 0., 0., 0., 0., 0., 0., 0., 0., 0., 0., 0., 0.,\n",
       "       0., 0., 0., 0., 0., 0., 0., 0., 0., 0., 0., 0., 0., 0., 0., 0., 0.,\n",
       "       0., 0., 0., 0., 0., 0., 0., 0., 0., 0., 0., 0., 0.], dtype=float32)>"
      ]
     },
     "execution_count": 37,
     "metadata": {},
     "output_type": "execute_result"
    }
   ],
   "source": [
    "mask_padded"
   ]
  },
  {
   "cell_type": "code",
   "execution_count": 38,
   "metadata": {},
   "outputs": [],
   "source": [
    "# MASKING\n",
    "\n",
    "def get_probed(input_dict, probed, njobs):\n",
    "\n",
    "    input_shape = tf.shape(input_dict['input'])\n",
    "\n",
    "    if probed == 1.:\n",
    "        probed_mask = tf.ones([input_shape[0], input_shape[1]]) * input_dict['mask']\n",
    "        input_dict['probed_mask']  = probed_mask\n",
    "        input_dict['att_mask'] = 1. - probed_mask\n",
    "        return input_dict\n",
    "\n",
    "    nprobed = tf.multiply(tf.cast(input_shape[1], tf.float32), probed)\n",
    "    nprobed = tf.cast(nprobed, tf.int32)\n",
    "    random_integers = tf.range(input_shape[1], dtype=tf.int32)\n",
    "    indices = tf.map_fn(lambda x: tf.random.shuffle(random_integers), \n",
    "                                      tf.range(input_shape[0]),\n",
    "                                      parallel_iterations=njobs)\n",
    "    indices = tf.slice(indices, [0, 0], [-1, nprobed])\n",
    "    random_mask = tf.one_hot(indices, input_shape[1])\n",
    "    random_mask = tf.reduce_sum(random_mask, 1)\n",
    "\n",
    "    input_dict['probed_mask'] = random_mask * input_dict['mask']\n",
    "    att_mask = (1 - input_dict['mask']) + random_mask \n",
    "    att_mask = tf.minimum(att_mask, 1)\n",
    "    input_dict['att_mask'] = att_mask\n",
    "\n",
    "    return input_dict\n",
    "\n",
    "dataset_probed = dataset_padded.map(lambda x: get_probed(x, probed=probed, njobs=njobs))"
   ]
  },
  {
   "cell_type": "code",
   "execution_count": 39,
   "metadata": {},
   "outputs": [
    {
     "data": {
      "text/plain": [
       "<tf.Tensor: shape=(), dtype=int32, numpy=200>"
      ]
     },
     "execution_count": 39,
     "metadata": {},
     "output_type": "execute_result"
    }
   ],
   "source": [
    "input_shape = tf.shape(lc_info_batches['input'])\n",
    "input_shape[1]"
   ]
  },
  {
   "cell_type": "code",
   "execution_count": 40,
   "metadata": {},
   "outputs": [
    {
     "data": {
      "text/plain": [
       "<tf.Tensor: shape=(), dtype=int32, numpy=80>"
      ]
     },
     "execution_count": 40,
     "metadata": {},
     "output_type": "execute_result"
    }
   ],
   "source": [
    "nprobed = tf.multiply(tf.cast(input_shape[1], tf.float32), probed)\n",
    "nprobed = tf.cast(nprobed, tf.int32)\n",
    "nprobed"
   ]
  },
  {
   "cell_type": "code",
   "execution_count": 41,
   "metadata": {},
   "outputs": [
    {
     "data": {
      "text/plain": [
       "<tf.Tensor: shape=(200,), dtype=int32, numpy=\n",
       "array([  0,   1,   2,   3,   4,   5,   6,   7,   8,   9,  10,  11,  12,\n",
       "        13,  14,  15,  16,  17,  18,  19,  20,  21,  22,  23,  24,  25,\n",
       "        26,  27,  28,  29,  30,  31,  32,  33,  34,  35,  36,  37,  38,\n",
       "        39,  40,  41,  42,  43,  44,  45,  46,  47,  48,  49,  50,  51,\n",
       "        52,  53,  54,  55,  56,  57,  58,  59,  60,  61,  62,  63,  64,\n",
       "        65,  66,  67,  68,  69,  70,  71,  72,  73,  74,  75,  76,  77,\n",
       "        78,  79,  80,  81,  82,  83,  84,  85,  86,  87,  88,  89,  90,\n",
       "        91,  92,  93,  94,  95,  96,  97,  98,  99, 100, 101, 102, 103,\n",
       "       104, 105, 106, 107, 108, 109, 110, 111, 112, 113, 114, 115, 116,\n",
       "       117, 118, 119, 120, 121, 122, 123, 124, 125, 126, 127, 128, 129,\n",
       "       130, 131, 132, 133, 134, 135, 136, 137, 138, 139, 140, 141, 142,\n",
       "       143, 144, 145, 146, 147, 148, 149, 150, 151, 152, 153, 154, 155,\n",
       "       156, 157, 158, 159, 160, 161, 162, 163, 164, 165, 166, 167, 168,\n",
       "       169, 170, 171, 172, 173, 174, 175, 176, 177, 178, 179, 180, 181,\n",
       "       182, 183, 184, 185, 186, 187, 188, 189, 190, 191, 192, 193, 194,\n",
       "       195, 196, 197, 198, 199], dtype=int32)>"
      ]
     },
     "execution_count": 41,
     "metadata": {},
     "output_type": "execute_result"
    }
   ],
   "source": [
    "random_integers = tf.range(input_shape[1], dtype=tf.int32)\n",
    "random_integers"
   ]
  },
  {
   "cell_type": "code",
   "execution_count": 42,
   "metadata": {},
   "outputs": [
    {
     "data": {
      "text/plain": [
       "<tf.Tensor: shape=(1, 200), dtype=int32, numpy=\n",
       "array([[133,  74, 116,  59,   0,  61,  92,  72,  94, 104, 185,  55, 158,\n",
       "        192,  38,  39, 110,  21,  70,  66, 180, 108,  27, 130, 103,  19,\n",
       "        148,   4,  80,  57,  35,  45, 187,   2,  91,  24, 171,  68,  58,\n",
       "        183,  48,  40,  31,  60,  53,  87, 193, 174, 131, 106,  10, 127,\n",
       "          6, 141,  15,  16, 117, 186, 121,  84,  85, 164, 184,  20,  76,\n",
       "        167,  78,  54,  69,  51, 197, 151, 107,  77,  36, 166, 162, 190,\n",
       "        114, 189, 194,  64,  50,   9,  42,  75, 181,  79,  12,  88,  17,\n",
       "         96, 152,  90, 168,  56, 128,  23,  49,  63,  65, 125, 105, 123,\n",
       "        135, 160, 154,  71, 188, 129, 102, 113, 157, 191, 198, 144,  30,\n",
       "         86, 169, 165, 112, 126,  99, 161,  13,   3, 111,  83,  93,  52,\n",
       "        199,  67, 163, 145,  47,  95,   8, 134, 178,  26, 196, 119,   1,\n",
       "         33,  43, 142, 120, 172, 179,  28, 147, 182,   7, 140, 122,  44,\n",
       "         32,  98,  97,  89, 138,  46,  34, 173,  37,  14, 170,  62, 155,\n",
       "        195, 101, 139, 149, 115, 156,   5,  73,  41,  11, 153, 176, 150,\n",
       "        146, 124,  25, 143,  22, 132,  18, 118,  82, 136, 100, 109, 175,\n",
       "        137,  29,  81, 177, 159]], dtype=int32)>"
      ]
     },
     "execution_count": 42,
     "metadata": {},
     "output_type": "execute_result"
    }
   ],
   "source": [
    "indices = tf.map_fn(lambda x: tf.random.shuffle(random_integers),\n",
    "                                        tf.range(input_shape[0]),\n",
    "                                        parallel_iterations=njobs)\n",
    "\n",
    "indices"
   ]
  },
  {
   "cell_type": "code",
   "execution_count": 43,
   "metadata": {},
   "outputs": [
    {
     "data": {
      "text/plain": [
       "(200,)"
      ]
     },
     "execution_count": 43,
     "metadata": {},
     "output_type": "execute_result"
    }
   ],
   "source": [
    "np.unique(indices[0]).shape"
   ]
  },
  {
   "cell_type": "code",
   "execution_count": 44,
   "metadata": {},
   "outputs": [
    {
     "data": {
      "text/plain": [
       "<tf.Tensor: shape=(1, 80), dtype=int32, numpy=\n",
       "array([[133,  74, 116,  59,   0,  61,  92,  72,  94, 104, 185,  55, 158,\n",
       "        192,  38,  39, 110,  21,  70,  66, 180, 108,  27, 130, 103,  19,\n",
       "        148,   4,  80,  57,  35,  45, 187,   2,  91,  24, 171,  68,  58,\n",
       "        183,  48,  40,  31,  60,  53,  87, 193, 174, 131, 106,  10, 127,\n",
       "          6, 141,  15,  16, 117, 186, 121,  84,  85, 164, 184,  20,  76,\n",
       "        167,  78,  54,  69,  51, 197, 151, 107,  77,  36, 166, 162, 190,\n",
       "        114, 189]], dtype=int32)>"
      ]
     },
     "execution_count": 44,
     "metadata": {},
     "output_type": "execute_result"
    }
   ],
   "source": [
    "indices = tf.slice(indices, [0, 0], [-1, nprobed])\n",
    "indices"
   ]
  },
  {
   "cell_type": "code",
   "execution_count": 45,
   "metadata": {},
   "outputs": [
    {
     "data": {
      "text/plain": [
       "<tf.Tensor: shape=(1, 80, 200), dtype=float32, numpy=\n",
       "array([[[0., 0., 0., ..., 0., 0., 0.],\n",
       "        [0., 0., 0., ..., 0., 0., 0.],\n",
       "        [0., 0., 0., ..., 0., 0., 0.],\n",
       "        ...,\n",
       "        [0., 0., 0., ..., 0., 0., 0.],\n",
       "        [0., 0., 0., ..., 0., 0., 0.],\n",
       "        [0., 0., 0., ..., 0., 0., 0.]]], dtype=float32)>"
      ]
     },
     "execution_count": 45,
     "metadata": {},
     "output_type": "execute_result"
    }
   ],
   "source": [
    "random_mask = tf.one_hot(indices, input_shape[1])\n",
    "random_mask"
   ]
  },
  {
   "cell_type": "code",
   "execution_count": 46,
   "metadata": {},
   "outputs": [
    {
     "data": {
      "text/plain": [
       "<tf.Tensor: shape=(1, 200), dtype=float32, numpy=\n",
       "array([[1., 0., 1., 0., 1., 0., 1., 0., 0., 0., 1., 0., 0., 0., 0., 1.,\n",
       "        1., 0., 0., 1., 1., 1., 0., 0., 1., 0., 0., 1., 0., 0., 0., 1.,\n",
       "        0., 0., 0., 1., 1., 0., 1., 1., 1., 0., 0., 0., 0., 1., 0., 0.,\n",
       "        1., 0., 0., 1., 0., 1., 1., 1., 0., 1., 1., 1., 1., 1., 0., 0.,\n",
       "        0., 0., 1., 0., 1., 1., 1., 0., 1., 0., 1., 0., 1., 1., 1., 0.,\n",
       "        1., 0., 0., 0., 1., 1., 0., 1., 0., 0., 0., 1., 1., 0., 1., 0.,\n",
       "        0., 0., 0., 0., 0., 0., 0., 1., 1., 0., 1., 1., 1., 0., 1., 0.,\n",
       "        0., 0., 1., 0., 1., 1., 0., 0., 0., 1., 0., 0., 0., 0., 0., 1.,\n",
       "        0., 0., 1., 1., 0., 1., 0., 0., 0., 0., 0., 0., 0., 1., 0., 0.,\n",
       "        0., 0., 0., 0., 1., 0., 0., 1., 0., 0., 0., 0., 0., 0., 1., 0.,\n",
       "        0., 0., 1., 0., 1., 0., 1., 1., 0., 0., 0., 1., 0., 0., 1., 0.,\n",
       "        0., 0., 0., 0., 1., 0., 0., 1., 1., 1., 1., 1., 0., 1., 1., 0.,\n",
       "        1., 1., 0., 0., 0., 1., 0., 0.]], dtype=float32)>"
      ]
     },
     "execution_count": 46,
     "metadata": {},
     "output_type": "execute_result"
    }
   ],
   "source": [
    "# 1 los valores probed (80)\n",
    "# 0 los valores no probed (120)\n",
    "\n",
    "random_mask = tf.reduce_sum(random_mask, 1)\n",
    "random_mask"
   ]
  },
  {
   "cell_type": "code",
   "execution_count": 47,
   "metadata": {},
   "outputs": [
    {
     "data": {
      "text/plain": [
       "dict_keys(['input', 'original', 'lcid', 'length', 'mask', 'label'])"
      ]
     },
     "execution_count": 47,
     "metadata": {},
     "output_type": "execute_result"
    }
   ],
   "source": [
    "lc_info_batches.keys()"
   ]
  },
  {
   "cell_type": "code",
   "execution_count": 48,
   "metadata": {},
   "outputs": [
    {
     "data": {
      "text/plain": [
       "<tf.Tensor: shape=(1, 200), dtype=float32, numpy=\n",
       "array([[1., 1., 1., 1., 1., 1., 1., 1., 1., 1., 1., 1., 1., 1., 1., 1.,\n",
       "        1., 1., 1., 1., 1., 1., 1., 1., 1., 1., 1., 1., 1., 1., 1., 1.,\n",
       "        1., 1., 1., 1., 1., 1., 1., 1., 1., 1., 1., 1., 1., 1., 1., 1.,\n",
       "        1., 1., 1., 1., 1., 1., 1., 1., 1., 1., 1., 1., 1., 1., 1., 1.,\n",
       "        1., 1., 1., 1., 1., 1., 1., 0., 0., 0., 0., 0., 0., 0., 0., 0.,\n",
       "        0., 0., 0., 0., 0., 0., 0., 0., 0., 0., 0., 0., 0., 0., 0., 0.,\n",
       "        0., 0., 0., 0., 0., 0., 0., 0., 0., 0., 0., 0., 0., 0., 0., 0.,\n",
       "        0., 0., 0., 0., 0., 0., 0., 0., 0., 0., 0., 0., 0., 0., 0., 0.,\n",
       "        0., 0., 0., 0., 0., 0., 0., 0., 0., 0., 0., 0., 0., 0., 0., 0.,\n",
       "        0., 0., 0., 0., 0., 0., 0., 0., 0., 0., 0., 0., 0., 0., 0., 0.,\n",
       "        0., 0., 0., 0., 0., 0., 0., 0., 0., 0., 0., 0., 0., 0., 0., 0.,\n",
       "        0., 0., 0., 0., 0., 0., 0., 0., 0., 0., 0., 0., 0., 0., 0., 0.,\n",
       "        0., 0., 0., 0., 0., 0., 0., 0.]], dtype=float32)>"
      ]
     },
     "execution_count": 48,
     "metadata": {},
     "output_type": "execute_result"
    }
   ],
   "source": [
    "lc_info_batches['mask']"
   ]
  },
  {
   "cell_type": "code",
   "execution_count": 49,
   "metadata": {},
   "outputs": [
    {
     "data": {
      "text/plain": [
       "<tf.Tensor: shape=(1, 200), dtype=float32, numpy=\n",
       "array([[1., 0., 1., 0., 1., 0., 1., 0., 0., 0., 1., 0., 0., 0., 0., 1.,\n",
       "        1., 0., 0., 1., 1., 1., 0., 0., 1., 0., 0., 1., 0., 0., 0., 1.,\n",
       "        0., 0., 0., 1., 1., 0., 1., 1., 1., 0., 0., 0., 0., 1., 0., 0.,\n",
       "        1., 0., 0., 1., 0., 1., 1., 1., 0., 1., 1., 1., 1., 1., 0., 0.,\n",
       "        0., 0., 1., 0., 1., 1., 1., 0., 0., 0., 0., 0., 0., 0., 0., 0.,\n",
       "        0., 0., 0., 0., 0., 0., 0., 0., 0., 0., 0., 0., 0., 0., 0., 0.,\n",
       "        0., 0., 0., 0., 0., 0., 0., 0., 0., 0., 0., 0., 0., 0., 0., 0.,\n",
       "        0., 0., 0., 0., 0., 0., 0., 0., 0., 0., 0., 0., 0., 0., 0., 0.,\n",
       "        0., 0., 0., 0., 0., 0., 0., 0., 0., 0., 0., 0., 0., 0., 0., 0.,\n",
       "        0., 0., 0., 0., 0., 0., 0., 0., 0., 0., 0., 0., 0., 0., 0., 0.,\n",
       "        0., 0., 0., 0., 0., 0., 0., 0., 0., 0., 0., 0., 0., 0., 0., 0.,\n",
       "        0., 0., 0., 0., 0., 0., 0., 0., 0., 0., 0., 0., 0., 0., 0., 0.,\n",
       "        0., 0., 0., 0., 0., 0., 0., 0.]], dtype=float32)>"
      ]
     },
     "execution_count": 49,
     "metadata": {},
     "output_type": "execute_result"
    }
   ],
   "source": [
    "lc_info_batches['probed_mask'] = random_mask * lc_info_batches['mask']\n",
    "lc_info_batches['probed_mask'] "
   ]
  },
  {
   "cell_type": "code",
   "execution_count": 50,
   "metadata": {},
   "outputs": [
    {
     "name": "stdout",
     "output_type": "stream",
     "text": [
      "33.0\n"
     ]
    }
   ],
   "source": [
    "## Comprobacion\n",
    "for lc_probed_mask in lc_info_batches['probed_mask']:\n",
    "    print(np.sum(lc_probed_mask))"
   ]
  },
  {
   "cell_type": "code",
   "execution_count": 51,
   "metadata": {},
   "outputs": [
    {
     "data": {
      "text/plain": [
       "<tf.Tensor: shape=(1, 200), dtype=float32, numpy=\n",
       "array([[1., 1., 1., 1., 1., 1., 1., 1., 1., 1., 1., 1., 1., 1., 1., 1.,\n",
       "        1., 1., 1., 1., 1., 1., 1., 1., 1., 1., 1., 1., 1., 1., 1., 1.,\n",
       "        1., 1., 1., 1., 1., 1., 1., 1., 1., 1., 1., 1., 1., 1., 1., 1.,\n",
       "        1., 1., 1., 1., 1., 1., 1., 1., 1., 1., 1., 1., 1., 1., 1., 1.,\n",
       "        1., 1., 1., 1., 1., 1., 1., 0., 0., 0., 0., 0., 0., 0., 0., 0.,\n",
       "        0., 0., 0., 0., 0., 0., 0., 0., 0., 0., 0., 0., 0., 0., 0., 0.,\n",
       "        0., 0., 0., 0., 0., 0., 0., 0., 0., 0., 0., 0., 0., 0., 0., 0.,\n",
       "        0., 0., 0., 0., 0., 0., 0., 0., 0., 0., 0., 0., 0., 0., 0., 0.,\n",
       "        0., 0., 0., 0., 0., 0., 0., 0., 0., 0., 0., 0., 0., 0., 0., 0.,\n",
       "        0., 0., 0., 0., 0., 0., 0., 0., 0., 0., 0., 0., 0., 0., 0., 0.,\n",
       "        0., 0., 0., 0., 0., 0., 0., 0., 0., 0., 0., 0., 0., 0., 0., 0.,\n",
       "        0., 0., 0., 0., 0., 0., 0., 0., 0., 0., 0., 0., 0., 0., 0., 0.,\n",
       "        0., 0., 0., 0., 0., 0., 0., 0.]], dtype=float32)>"
      ]
     },
     "execution_count": 51,
     "metadata": {},
     "output_type": "execute_result"
    }
   ],
   "source": [
    "lc_info_with_pad['mask']"
   ]
  },
  {
   "cell_type": "code",
   "execution_count": 55,
   "metadata": {},
   "outputs": [
    {
     "name": "stdout",
     "output_type": "stream",
     "text": [
      "tf.Tensor(200, shape=(), dtype=int32)\n",
      "tf.Tensor(80, shape=(), dtype=int32)\n",
      "tf.Tensor(\n",
      "[  0   1   2   3   4   5   6   7   8   9  10  11  12  13  14  15  16  17\n",
      "  18  19  20  21  22  23  24  25  26  27  28  29  30  31  32  33  34  35\n",
      "  36  37  38  39  40  41  42  43  44  45  46  47  48  49  50  51  52  53\n",
      "  54  55  56  57  58  59  60  61  62  63  64  65  66  67  68  69  70  71\n",
      "  72  73  74  75  76  77  78  79  80  81  82  83  84  85  86  87  88  89\n",
      "  90  91  92  93  94  95  96  97  98  99 100 101 102 103 104 105 106 107\n",
      " 108 109 110 111 112 113 114 115 116 117 118 119 120 121 122 123 124 125\n",
      " 126 127 128 129 130 131 132 133 134 135 136 137 138 139 140 141 142 143\n",
      " 144 145 146 147 148 149 150 151 152 153 154 155 156 157 158 159 160 161\n",
      " 162 163 164 165 166 167 168 169 170 171 172 173 174 175 176 177 178 179\n",
      " 180 181 182 183 184 185 186 187 188 189 190 191 192 193 194 195 196 197\n",
      " 198 199], shape=(200,), dtype=int32)\n",
      "tf.Tensor(\n",
      "[[ 89  18 188 195 159  46  80  98  19 167 139 146 141  75 126 168 156 190\n",
      "   37 158 143 171 102 113 157   4  42  36 136  97 161 166  33  81 193 115\n",
      "  122  54 134 176   2  62 137 114 169 149  14 191  79  60 142  20  88  28\n",
      "   12  39 194  11 111 129  29  21  61  59  91  63 135  24  76  22 144 163\n",
      "  180 100  96 148  47  13 147   6  41 116 198  69 150  70  25  74 187  53\n",
      "  130  73  86  31  23 138 109  32  26 123  95   0 197 108 118 172  84 132\n",
      "   34  71 155  48 125 182 124  10  85  38 105  67 151 174   3 103  50 189\n",
      "   43 101 181 199  90  44 140 152  68  56  78 179  57 175  65 196 183   9\n",
      "  170 128  27 173  64  16  40 106 117  30 186  52  92 165  83 185 104  72\n",
      "   94  77 112 184   7 178  15   5 177 192  87 119 133  45  58  82  93 120\n",
      "  162 131 164 145  17   8 107 127  55 160   1 110  66  49 154 153  35 121\n",
      "   99  51]], shape=(1, 200), dtype=int32)\n",
      "tf.Tensor(\n",
      "[[ 89  18 188 195 159  46  80  98  19 167 139 146 141  75 126 168 156 190\n",
      "   37 158 143 171 102 113 157   4  42  36 136  97 161 166  33  81 193 115\n",
      "  122  54 134 176   2  62 137 114 169 149  14 191  79  60 142  20  88  28\n",
      "   12  39 194  11 111 129  29  21  61  59  91  63 135  24  76  22 144 163\n",
      "  180 100  96 148  47  13 147   6]], shape=(1, 80), dtype=int32)\n",
      "tf.Tensor(\n",
      "[[0. 0. 1. 0. 1. 0. 1. 0. 0. 0. 0. 1. 1. 1. 1. 0. 0. 0. 1. 1. 1. 1. 1. 0.\n",
      "  1. 0. 0. 0. 1. 1. 0. 0. 0. 1. 0. 0. 1. 1. 0. 1. 0. 0. 1. 0. 0. 0. 1. 1.\n",
      "  0. 0. 0. 0. 0. 0. 1. 0. 0. 0. 0. 1. 1. 1. 1. 1. 0. 0. 0. 0. 0. 0. 0. 0.\n",
      "  0. 0. 0. 1. 1. 0. 0. 1. 1. 1. 0. 0. 0. 0. 0. 0. 1. 1. 0. 1. 0. 0. 0. 0.\n",
      "  1. 1. 1. 0. 1. 0. 1. 0. 0. 0. 0. 0. 0. 0. 0. 1. 0. 1. 1. 1. 0. 0. 0. 0.\n",
      "  0. 0. 1. 0. 0. 0. 1. 0. 0. 1. 0. 0. 0. 0. 1. 1. 1. 1. 0. 1. 0. 1. 1. 1.\n",
      "  1. 0. 1. 1. 1. 1. 0. 0. 0. 0. 0. 0. 1. 1. 1. 1. 0. 1. 0. 1. 0. 0. 1. 1.\n",
      "  1. 1. 0. 1. 0. 0. 0. 0. 1. 0. 0. 0. 1. 0. 0. 0. 0. 0. 0. 0. 1. 0. 1. 1.\n",
      "  0. 1. 1. 1. 0. 0. 0. 0.]], shape=(1, 200), dtype=float32)\n",
      "********************\n",
      "28.0\n",
      "tf.Tensor(\n",
      "[[0. 0. 1. 0. 1. 0. 1. 0. 0. 0. 0. 1. 1. 1. 1. 0. 0. 0. 1. 1. 1. 1. 1. 0.\n",
      "  1. 0. 0. 0. 1. 1. 0. 0. 0. 1. 0. 0. 1. 1. 0. 1. 0. 0. 1. 0. 0. 0. 1. 1.\n",
      "  0. 0. 0. 0. 0. 0. 1. 0. 0. 0. 0. 1. 1. 1. 1. 1. 0. 0. 0. 0. 0. 0. 0. 0.\n",
      "  0. 0. 0. 0. 0. 0. 0. 0. 0. 0. 0. 0. 0. 0. 0. 0. 0. 0. 0. 0. 0. 0. 0. 0.\n",
      "  0. 0. 0. 0. 0. 0. 0. 0. 0. 0. 0. 0. 0. 0. 0. 0. 0. 0. 0. 0. 0. 0. 0. 0.\n",
      "  0. 0. 0. 0. 0. 0. 0. 0. 0. 0. 0. 0. 0. 0. 0. 0. 0. 0. 0. 0. 0. 0. 0. 0.\n",
      "  0. 0. 0. 0. 0. 0. 0. 0. 0. 0. 0. 0. 0. 0. 0. 0. 0. 0. 0. 0. 0. 0. 0. 0.\n",
      "  0. 0. 0. 0. 0. 0. 0. 0. 0. 0. 0. 0. 0. 0. 0. 0. 0. 0. 0. 0. 0. 0. 0. 0.\n",
      "  0. 0. 0. 0. 0. 0. 0. 0.]], shape=(1, 200), dtype=float32)\n"
     ]
    }
   ],
   "source": [
    "## Comprobacion\n",
    "def check_probed(lc_batch):\n",
    "\n",
    "    input_shape = tf.shape(lc_batch['input'])\n",
    "    print(input_shape[1])\n",
    "\n",
    "    nprobed = tf.multiply(tf.cast(input_shape[1], tf.float32), probed)\n",
    "    nprobed = tf.cast(nprobed, tf.int32)\n",
    "    print(nprobed)\n",
    "\n",
    "    random_integers = tf.range(input_shape[1], dtype=tf.int32)\n",
    "    print(random_integers)\n",
    "\n",
    "    indices = tf.map_fn(lambda x: tf.random.shuffle(random_integers),\n",
    "                                            tf.range(input_shape[0]),\n",
    "                                            parallel_iterations=njobs)\n",
    "\n",
    "    print(indices)\n",
    "\n",
    "    indices = tf.slice(indices, [0, 0], [-1, nprobed])\n",
    "    print(indices)\n",
    "\n",
    "    random_mask = tf.one_hot(indices, input_shape[1])\n",
    "    random_mask = tf.reduce_sum(random_mask, 1)\n",
    "    print(random_mask)\n",
    "    print('*'*20)\n",
    "\n",
    "    lc_batch['probed_mask'] = random_mask * lc_batch['mask']\n",
    "    for lc_probed_mask in lc_batch['probed_mask']:\n",
    "        print(np.sum(lc_probed_mask))\n",
    "        \n",
    "    print(lc_batch['probed_mask'])\n",
    "\n",
    "check_probed(lc_info_with_pad)"
   ]
  },
  {
   "cell_type": "code",
   "execution_count": 57,
   "metadata": {},
   "outputs": [
    {
     "name": "stdout",
     "output_type": "stream",
     "text": [
      "tf.Tensor(200, shape=(), dtype=int32)\n",
      "tf.Tensor(80, shape=(), dtype=int32)\n",
      "tf.Tensor(\n",
      "[  0   1   2   3   4   5   6   7   8   9  10  11  12  13  14  15  16  17\n",
      "  18  19  20  21  22  23  24  25  26  27  28  29  30  31  32  33  34  35\n",
      "  36  37  38  39  40  41  42  43  44  45  46  47  48  49  50  51  52  53\n",
      "  54  55  56  57  58  59  60  61  62  63  64  65  66  67  68  69  70  71\n",
      "  72  73  74  75  76  77  78  79  80  81  82  83  84  85  86  87  88  89\n",
      "  90  91  92  93  94  95  96  97  98  99 100 101 102 103 104 105 106 107\n",
      " 108 109 110 111 112 113 114 115 116 117 118 119 120 121 122 123 124 125\n",
      " 126 127 128 129 130 131 132 133 134 135 136 137 138 139 140 141 142 143\n",
      " 144 145 146 147 148 149 150 151 152 153 154 155 156 157 158 159 160 161\n",
      " 162 163 164 165 166 167 168 169 170 171 172 173 174 175 176 177 178 179\n",
      " 180 181 182 183 184 185 186 187 188 189 190 191 192 193 194 195 196 197\n",
      " 198 199], shape=(200,), dtype=int32)\n",
      "tf.Tensor(\n",
      "[[ 14  19  84  96 131 191 156 129 106  23  39 180 102 155 173  26 134 181\n",
      "  164 190 140  43  37 160 127 137  92 144  61  56  88 130 124 103 107  34\n",
      "   29   9 110   6  22  27 123  40  80 125  32 105  90 185 174  50  28  11\n",
      "   10 116 166  62  60 111   2  42 187   7  91 167 170  30 198 141 188  93\n",
      "  195 153 126  97   3  67 135  95  66 133  98 162 169 145  59  58  21  25\n",
      "   33 108   8 184 138  94 199 112  70  12 120  15  55  47  52 147 183 148\n",
      "   46  53  41 118  65  85 117 154 196 132 101 158  76  13 172 182  45 113\n",
      "  109 152   1  71 171 119  89 175  24  74  83 159  82 189  69 157 143  57\n",
      "   20  81  79 179  72  36 194 163 197  48 178 168 139  75 104 115  99   0\n",
      "  122 149  78 165  31  63 142 146 176  64   4  18  49 161  86  87  35  17\n",
      "   16 121 128 114 150  38 100  77  51 192   5 177 186  68  44 136  54 193\n",
      "   73 151]], shape=(1, 200), dtype=int32)\n",
      "tf.Tensor(\n",
      "[[ 14  19  84  96 131 191 156 129 106  23  39 180 102 155 173  26 134 181\n",
      "  164 190 140  43  37 160 127 137  92 144  61  56  88 130 124 103 107  34\n",
      "   29   9 110   6  22  27 123  40  80 125  32 105  90 185 174  50  28  11\n",
      "   10 116 166  62  60 111   2  42 187   7  91 167 170  30 198 141 188  93\n",
      "  195 153 126  97   3  67 135  95]], shape=(1, 80), dtype=int32)\n",
      "tf.Tensor(\n",
      "[[0. 0. 1. 1. 0. 0. 1. 1. 0. 1. 1. 1. 0. 0. 1. 0. 0. 0. 0. 1. 0. 0. 1. 1.\n",
      "  0. 0. 1. 1. 1. 1. 1. 0. 1. 0. 1. 0. 0. 1. 0. 1. 1. 0. 1. 1. 0. 0. 0. 0.\n",
      "  0. 0. 1. 0. 0. 0. 0. 0. 1. 0. 0. 0. 1. 1. 1. 0. 0. 0. 0. 1. 0. 0. 0. 0.\n",
      "  0. 0. 0. 0. 0. 0. 0. 0. 1. 0. 0. 0. 1. 0. 0. 0. 1. 0. 1. 1. 1. 1. 0. 1.\n",
      "  1. 1. 0. 0. 0. 0. 1. 1. 0. 1. 1. 1. 0. 0. 1. 1. 0. 0. 0. 0. 1. 0. 0. 0.\n",
      "  0. 0. 0. 1. 1. 1. 1. 1. 0. 1. 1. 1. 0. 0. 1. 1. 0. 1. 0. 0. 1. 1. 0. 0.\n",
      "  1. 0. 0. 0. 0. 0. 0. 0. 0. 1. 0. 1. 1. 0. 0. 0. 1. 0. 0. 0. 1. 0. 1. 1.\n",
      "  0. 0. 1. 0. 0. 1. 1. 0. 0. 0. 0. 0. 1. 1. 0. 0. 0. 1. 0. 1. 1. 0. 1. 1.\n",
      "  0. 0. 0. 1. 0. 0. 1. 0.]], shape=(1, 200), dtype=float32)\n",
      "********************\n",
      "29.0\n",
      "tf.Tensor(\n",
      "[[0. 0. 1. 1. 0. 0. 1. 1. 0. 1. 1. 1. 0. 0. 1. 0. 0. 0. 0. 1. 0. 0. 1. 1.\n",
      "  0. 0. 1. 1. 1. 1. 1. 0. 1. 0. 1. 0. 0. 1. 0. 1. 1. 0. 1. 1. 0. 0. 0. 0.\n",
      "  0. 0. 1. 0. 0. 0. 0. 0. 1. 0. 0. 0. 1. 1. 1. 0. 0. 0. 0. 1. 0. 0. 0. 1.\n",
      "  1. 1. 1. 1. 1. 1. 1. 1. 2. 1. 1. 1. 2. 1. 1. 1. 2. 1. 2. 2. 2. 2. 1. 2.\n",
      "  2. 2. 1. 1. 1. 1. 2. 2. 1. 2. 2. 2. 1. 1. 2. 2. 1. 1. 1. 1. 2. 1. 1. 1.\n",
      "  1. 1. 1. 2. 2. 2. 2. 2. 1. 2. 2. 2. 1. 1. 2. 2. 1. 2. 1. 1. 2. 2. 1. 1.\n",
      "  2. 1. 1. 1. 1. 1. 1. 1. 1. 2. 1. 2. 2. 1. 1. 1. 2. 1. 1. 1. 2. 1. 2. 2.\n",
      "  1. 1. 2. 1. 1. 2. 2. 1. 1. 1. 1. 1. 2. 2. 1. 1. 1. 2. 1. 2. 2. 1. 2. 2.\n",
      "  1. 1. 1. 2. 1. 1. 2. 1.]], shape=(1, 200), dtype=float32)\n",
      "tf.Tensor(\n",
      "[[0. 0. 1. 1. 0. 0. 1. 1. 0. 1. 1. 1. 0. 0. 1. 0. 0. 0. 0. 1. 0. 0. 1. 1.\n",
      "  0. 0. 1. 1. 1. 1. 1. 0. 1. 0. 1. 0. 0. 1. 0. 1. 1. 0. 1. 1. 0. 0. 0. 0.\n",
      "  0. 0. 1. 0. 0. 0. 0. 0. 1. 0. 0. 0. 1. 1. 1. 0. 0. 0. 0. 1. 0. 0. 0. 1.\n",
      "  1. 1. 1. 1. 1. 1. 1. 1. 1. 1. 1. 1. 1. 1. 1. 1. 1. 1. 1. 1. 1. 1. 1. 1.\n",
      "  1. 1. 1. 1. 1. 1. 1. 1. 1. 1. 1. 1. 1. 1. 1. 1. 1. 1. 1. 1. 1. 1. 1. 1.\n",
      "  1. 1. 1. 1. 1. 1. 1. 1. 1. 1. 1. 1. 1. 1. 1. 1. 1. 1. 1. 1. 1. 1. 1. 1.\n",
      "  1. 1. 1. 1. 1. 1. 1. 1. 1. 1. 1. 1. 1. 1. 1. 1. 1. 1. 1. 1. 1. 1. 1. 1.\n",
      "  1. 1. 1. 1. 1. 1. 1. 1. 1. 1. 1. 1. 1. 1. 1. 1. 1. 1. 1. 1. 1. 1. 1. 1.\n",
      "  1. 1. 1. 1. 1. 1. 1. 1.]], shape=(1, 200), dtype=float32)\n"
     ]
    }
   ],
   "source": [
    "## Comprobacion\n",
    "def check_probed_mask_pad(lc_batch):\n",
    "\n",
    "    input_shape = tf.shape(lc_batch['input'])\n",
    "    print(input_shape[1])\n",
    "\n",
    "    nprobed = tf.multiply(tf.cast(input_shape[1], tf.float32), probed)\n",
    "    nprobed = tf.cast(nprobed, tf.int32)\n",
    "    print(nprobed)\n",
    "\n",
    "    random_integers = tf.range(input_shape[1], dtype=tf.int32)\n",
    "    print(random_integers)\n",
    "\n",
    "    indices = tf.map_fn(lambda x: tf.random.shuffle(random_integers),\n",
    "                                            tf.range(input_shape[0]),\n",
    "                                            parallel_iterations=njobs)\n",
    "\n",
    "    print(indices)\n",
    "\n",
    "    indices = tf.slice(indices, [0, 0], [-1, nprobed])\n",
    "    print(indices)\n",
    "\n",
    "    random_mask = tf.one_hot(indices, input_shape[1])\n",
    "    random_mask = tf.reduce_sum(random_mask, 1)\n",
    "    print(random_mask)\n",
    "    print('*'*20)\n",
    "\n",
    "    lc_batch['probed_mask'] = random_mask * lc_batch['mask']\n",
    "    for lc_probed_mask in lc_batch['probed_mask']:\n",
    "        print(np.sum(lc_probed_mask))\n",
    "\n",
    "    att_mask = (1 - lc_batch['mask']) + random_mask \n",
    "    \n",
    "    return att_mask\n",
    "        \n",
    "att_mask_padded = check_probed_mask_pad(lc_info_with_pad)\n",
    "print(att_mask_padded)\n",
    "att_mask_padded = tf.minimum(att_mask_padded, 1)\n",
    "print(att_mask_padded)"
   ]
  },
  {
   "cell_type": "code",
   "execution_count": null,
   "metadata": {},
   "outputs": [
    {
     "data": {
      "text/plain": [
       "<tf.Tensor: shape=(14, 200), dtype=float32, numpy=\n",
       "array([[0., 0., 0., ..., 0., 1., 1.],\n",
       "       [1., 1., 0., ..., 0., 0., 1.],\n",
       "       [1., 0., 0., ..., 1., 0., 0.],\n",
       "       ...,\n",
       "       [1., 1., 1., ..., 0., 1., 0.],\n",
       "       [1., 0., 0., ..., 0., 0., 0.],\n",
       "       [1., 0., 1., ..., 0., 1., 0.]], dtype=float32)>"
      ]
     },
     "execution_count": 48,
     "metadata": {},
     "output_type": "execute_result"
    }
   ],
   "source": [
    "att_mask = (1 - lc_info_batches['mask']) + random_mask \n",
    "att_mask"
   ]
  },
  {
   "cell_type": "code",
   "execution_count": null,
   "metadata": {},
   "outputs": [
    {
     "data": {
      "text/plain": [
       "<tf.Tensor: shape=(14, 200), dtype=float32, numpy=\n",
       "array([[0., 0., 0., ..., 0., 1., 1.],\n",
       "       [1., 1., 0., ..., 0., 0., 1.],\n",
       "       [1., 0., 0., ..., 1., 0., 0.],\n",
       "       ...,\n",
       "       [1., 1., 1., ..., 0., 1., 0.],\n",
       "       [1., 0., 0., ..., 0., 0., 0.],\n",
       "       [1., 0., 1., ..., 0., 1., 0.]], dtype=float32)>"
      ]
     },
     "execution_count": 49,
     "metadata": {},
     "output_type": "execute_result"
    }
   ],
   "source": [
    "lc_info_batches['probed_mask'] "
   ]
  },
  {
   "cell_type": "code",
   "execution_count": null,
   "metadata": {},
   "outputs": [
    {
     "data": {
      "text/plain": [
       "<tf.Tensor: shape=(14, 200), dtype=bool, numpy=\n",
       "array([[ True,  True,  True, ...,  True,  True,  True],\n",
       "       [ True,  True,  True, ...,  True,  True,  True],\n",
       "       [ True,  True,  True, ...,  True,  True,  True],\n",
       "       ...,\n",
       "       [ True,  True,  True, ...,  True,  True,  True],\n",
       "       [ True,  True,  True, ...,  True,  True,  True],\n",
       "       [ True,  True,  True, ...,  True,  True,  True]])>"
      ]
     },
     "execution_count": 50,
     "metadata": {},
     "output_type": "execute_result"
    }
   ],
   "source": [
    "# lo mismo\n",
    "att_mask == lc_info_batches['probed_mask']"
   ]
  },
  {
   "cell_type": "code",
   "execution_count": null,
   "metadata": {},
   "outputs": [
    {
     "data": {
      "text/plain": [
       "80.0"
      ]
     },
     "execution_count": 51,
     "metadata": {},
     "output_type": "execute_result"
    }
   ],
   "source": [
    "np.sum(lc_info_batches['probed_mask'][0])"
   ]
  },
  {
   "cell_type": "code",
   "execution_count": null,
   "metadata": {},
   "outputs": [
    {
     "data": {
      "text/plain": [
       "<tf.Tensor: shape=(14, 200), dtype=bool, numpy=\n",
       "array([[ True,  True,  True, ...,  True,  True,  True],\n",
       "       [ True,  True,  True, ...,  True,  True,  True],\n",
       "       [ True,  True,  True, ...,  True,  True,  True],\n",
       "       ...,\n",
       "       [ True,  True,  True, ...,  True,  True,  True],\n",
       "       [ True,  True,  True, ...,  True,  True,  True],\n",
       "       [ True,  True,  True, ...,  True,  True,  True]])>"
      ]
     },
     "execution_count": 52,
     "metadata": {},
     "output_type": "execute_result"
    }
   ],
   "source": [
    "#  lo mismo\n",
    "att_mask == tf.minimum(att_mask, 1)"
   ]
  },
  {
   "cell_type": "code",
   "execution_count": null,
   "metadata": {},
   "outputs": [
    {
     "data": {
      "text/plain": [
       "<tf.Tensor: shape=(14, 200), dtype=float32, numpy=\n",
       "array([[0., 0., 0., ..., 0., 1., 1.],\n",
       "       [1., 1., 0., ..., 0., 0., 1.],\n",
       "       [1., 0., 0., ..., 1., 0., 0.],\n",
       "       ...,\n",
       "       [1., 1., 1., ..., 0., 1., 0.],\n",
       "       [1., 0., 0., ..., 0., 0., 0.],\n",
       "       [1., 0., 1., ..., 0., 1., 0.]], dtype=float32)>"
      ]
     },
     "execution_count": 53,
     "metadata": {},
     "output_type": "execute_result"
    }
   ],
   "source": [
    "#  lo mismo\n",
    "att_mask = tf.minimum(att_mask, 1)\n",
    "att_mask"
   ]
  },
  {
   "cell_type": "code",
   "execution_count": null,
   "metadata": {},
   "outputs": [
    {
     "data": {
      "text/plain": [
       "<tf.Tensor: shape=(14, 200), dtype=float32, numpy=\n",
       "array([[0., 0., 0., ..., 0., 1., 1.],\n",
       "       [1., 1., 0., ..., 0., 0., 1.],\n",
       "       [1., 0., 0., ..., 1., 0., 0.],\n",
       "       ...,\n",
       "       [1., 1., 1., ..., 0., 1., 0.],\n",
       "       [1., 0., 0., ..., 0., 0., 0.],\n",
       "       [1., 0., 1., ..., 0., 1., 0.]], dtype=float32)>"
      ]
     },
     "execution_count": 54,
     "metadata": {},
     "output_type": "execute_result"
    }
   ],
   "source": [
    "lc_info_batches['att_mask'] = att_mask\n",
    "lc_info_batches['att_mask']"
   ]
  },
  {
   "cell_type": "code",
   "execution_count": null,
   "metadata": {},
   "outputs": [],
   "source": [
    "def create_mask(pre_mask, n_elements):\n",
    "    indices = tf.where(pre_mask)\n",
    "    indices = tf.random.shuffle(indices)\n",
    "    indices = tf.slice(indices, [0, 0], [n_elements, -1])\n",
    "\n",
    "    mask = tf.one_hot(indices, tf.shape(pre_mask)[0], dtype=tf.int32)\n",
    "    mask = tf.reduce_sum(mask, 0)\n",
    "    mask = tf.reshape(mask, [tf.shape(pre_mask)[0]])\n",
    "    \n",
    "    return mask\n",
    "\n",
    "\n",
    "def add_random(input_dict, random_frac, njobs):\n",
    "    \"\"\" Add random observations to each sequence\n",
    "        \n",
    "    Args:\n",
    "        random_frac (number): Fraction of probed (in decimal) to be replaced with random values\n",
    "    \"\"\" \n",
    "    input_shape = tf.shape(input_dict['input'])\n",
    "    input_dict['input_pre_nsp'] = input_dict['input'] \n",
    "\n",
    "    # ====== RANDOM MASK =====\n",
    "    n_probed = tf.reduce_sum(input_dict['probed_mask'], 1)\n",
    "    n_random = tf.math.ceil(n_probed * random_frac)\n",
    "    n_random = tf.cast(n_random, tf.int32)\n",
    "    random_mask = tf.map_fn(lambda x: create_mask(x[0], x[1]),\n",
    "                                (input_dict['probed_mask'], n_random),\n",
    "                                parallel_iterations=njobs,\n",
    "                                fn_output_signature=tf.int32)\n",
    "\n",
    "    # ====== SAME MASK =====\n",
    "    rest = tf.cast(input_dict['probed_mask'], tf.int32) * (1-random_mask)\n",
    "    n_rest = tf.reduce_sum(rest, 1)\n",
    "    n_same = tf.math.ceil(tf.cast(n_rest, tf.float32) * random_frac)\n",
    "    n_same = tf.cast(n_same, tf.int32)\n",
    "\n",
    "    same_mask = tf.map_fn(lambda x: create_mask(x[0], x[1]), \n",
    "                                  (rest, n_same),\n",
    "                                  parallel_iterations=njobs,\n",
    "                                  fn_output_signature=tf.int32)\n",
    "\n",
    "    # ===== REPLACEMENT ==== \n",
    "    random_replacement = tf.random.shuffle(tf.transpose(input_dict['input'], [1, 0, 2]))\n",
    "    random_replacement = tf.transpose(random_replacement, [1, 0, 2])\n",
    "    random_replacement = random_replacement * tf.cast(tf.expand_dims(random_mask, -1), tf.float32) * [0., 1., 1.]\n",
    "\n",
    "    # Mask refering to observations that do not change\n",
    "    keep_mask = tf.expand_dims(1 - random_mask, -1)\n",
    "    keep_mask = tf.tile(keep_mask, [1, 1, input_shape[-1]-1])\n",
    "    keep_mask = tf.concat([tf.zeros([input_shape[0], input_shape[1], 1], dtype=tf.int32), keep_mask], 2)\n",
    "    keep_mask = tf.abs([1, 0, 0] - keep_mask)\n",
    "\n",
    "    # Part of the input we mantain\n",
    "    keep_input = input_dict['input'] * tf.cast(keep_mask, tf.float32)\n",
    "\n",
    "    # Replacing original input with the randomized one\n",
    "    input_dict['input']  = random_replacement + keep_input\n",
    "\n",
    "    # Attention mask is 1 when masked. \n",
    "    # Random mask is 1 for masked observations selected to be randomized\n",
    "    # then,\n",
    "    att_mask    = tf.cast(input_dict['att_mask'], tf.bool)\n",
    "    random_mask = tf.cast(random_mask, tf.bool)\n",
    "    same_mask   = tf.cast(same_mask, tf.bool)\n",
    "\n",
    "    att_mask = tf.math.logical_xor(att_mask, random_mask)\n",
    "    att_mask = tf.math.logical_xor(att_mask, same_mask)\n",
    "\n",
    "    input_dict['att_mask'] = tf.cast(att_mask, tf.float32)\n",
    "\n",
    "    return input_dict\n",
    "\n",
    "dataset_random_mask = dataset_probed.map(lambda x: add_random(x, random_frac=random_same, njobs=njobs))"
   ]
  },
  {
   "cell_type": "code",
   "execution_count": null,
   "metadata": {},
   "outputs": [
    {
     "data": {
      "text/plain": [
       "0.2"
      ]
     },
     "execution_count": 56,
     "metadata": {},
     "output_type": "execute_result"
    }
   ],
   "source": [
    "random_frac=random_same\n",
    "random_frac"
   ]
  },
  {
   "cell_type": "code",
   "execution_count": null,
   "metadata": {},
   "outputs": [],
   "source": [
    "input_shape = tf.shape(lc_info_batches['input'])\n",
    "lc_info_batches['input_pre_nsp'] = lc_info_batches['input']"
   ]
  },
  {
   "cell_type": "code",
   "execution_count": null,
   "metadata": {},
   "outputs": [
    {
     "data": {
      "text/plain": [
       "<tf.Tensor: shape=(14, 200), dtype=float32, numpy=\n",
       "array([[0., 0., 0., ..., 0., 1., 1.],\n",
       "       [1., 1., 0., ..., 0., 0., 1.],\n",
       "       [1., 0., 0., ..., 1., 0., 0.],\n",
       "       ...,\n",
       "       [1., 1., 1., ..., 0., 1., 0.],\n",
       "       [1., 0., 0., ..., 0., 0., 0.],\n",
       "       [1., 0., 1., ..., 0., 1., 0.]], dtype=float32)>"
      ]
     },
     "execution_count": 58,
     "metadata": {},
     "output_type": "execute_result"
    }
   ],
   "source": [
    "lc_info_batches['probed_mask']"
   ]
  },
  {
   "cell_type": "code",
   "execution_count": null,
   "metadata": {},
   "outputs": [
    {
     "data": {
      "text/plain": [
       "<tf.Tensor: shape=(14,), dtype=float32, numpy=\n",
       "array([80., 80., 80., 80., 80., 80., 80., 80., 80., 80., 80., 80., 80.,\n",
       "       80.], dtype=float32)>"
      ]
     },
     "execution_count": 59,
     "metadata": {},
     "output_type": "execute_result"
    }
   ],
   "source": [
    "# ====== RANDOM MASK =====\n",
    "n_probed = tf.reduce_sum(lc_info_batches['probed_mask'], 1)\n",
    "n_probed"
   ]
  },
  {
   "cell_type": "code",
   "execution_count": null,
   "metadata": {},
   "outputs": [
    {
     "data": {
      "text/plain": [
       "<tf.Tensor: shape=(14,), dtype=int32, numpy=\n",
       "array([16, 16, 16, 16, 16, 16, 16, 16, 16, 16, 16, 16, 16, 16],\n",
       "      dtype=int32)>"
      ]
     },
     "execution_count": 60,
     "metadata": {},
     "output_type": "execute_result"
    }
   ],
   "source": [
    "n_random = tf.math.ceil(n_probed * random_frac)\n",
    "n_random = tf.cast(n_random, tf.int32)\n",
    "n_random"
   ]
  },
  {
   "cell_type": "code",
   "execution_count": null,
   "metadata": {},
   "outputs": [
    {
     "name": "stdout",
     "output_type": "stream",
     "text": [
      "(200,)\n",
      "tf.Tensor(16, shape=(), dtype=int32)\n",
      "(200,)\n",
      "tf.Tensor(16, shape=(), dtype=int32)\n",
      "(200,)\n",
      "tf.Tensor(16, shape=(), dtype=int32)\n",
      "(200,)\n",
      "tf.Tensor(16, shape=(), dtype=int32)\n",
      "(200,)\n",
      "tf.Tensor(16, shape=(), dtype=int32)\n",
      "(200,)\n",
      "tf.Tensor(16, shape=(), dtype=int32)\n",
      "(200,)\n",
      "tf.Tensor(16, shape=(), dtype=int32)\n",
      "(200,)\n",
      "tf.Tensor(16, shape=(), dtype=int32)\n",
      "(200,)\n",
      "tf.Tensor(16, shape=(), dtype=int32)\n",
      "(200,)\n",
      "tf.Tensor(16, shape=(), dtype=int32)\n",
      "(200,)\n",
      "tf.Tensor(16, shape=(), dtype=int32)\n",
      "(200,)\n",
      "tf.Tensor(16, shape=(), dtype=int32)\n",
      "(200,)\n",
      "tf.Tensor(16, shape=(), dtype=int32)\n",
      "(200,)\n",
      "tf.Tensor(16, shape=(), dtype=int32)\n"
     ]
    },
    {
     "data": {
      "text/plain": [
       "<tf.Tensor: shape=(14, 200), dtype=int32, numpy=\n",
       "array([[0, 0, 0, ..., 0, 1, 0],\n",
       "       [1, 0, 0, ..., 0, 0, 0],\n",
       "       [0, 0, 0, ..., 1, 0, 0],\n",
       "       ...,\n",
       "       [0, 0, 0, ..., 0, 0, 0],\n",
       "       [0, 0, 0, ..., 0, 0, 0],\n",
       "       [0, 0, 1, ..., 0, 1, 0]], dtype=int32)>"
      ]
     },
     "execution_count": 61,
     "metadata": {},
     "output_type": "execute_result"
    }
   ],
   "source": [
    "def create_mask(pre_mask, n_elements):\n",
    "    print(pre_mask.shape)\n",
    "    print(n_elements)\n",
    "    indices = tf.where(pre_mask)\n",
    "    indices = tf.random.shuffle(indices)\n",
    "    indices = tf.slice(indices, [0, 0], [n_elements, -1])\n",
    "\n",
    "    mask = tf.one_hot(indices, tf.shape(pre_mask)[0], dtype=tf.int32)\n",
    "    mask = tf.reduce_sum(mask, 0)\n",
    "    mask = tf.reshape(mask, [tf.shape(pre_mask)[0]])\n",
    "    \n",
    "    return mask\n",
    "\n",
    "random_mask = tf.map_fn(lambda x: create_mask(x[0], x[1]),\n",
    "                            (lc_info_batches['probed_mask'], n_random),\n",
    "                            parallel_iterations=njobs,\n",
    "                            fn_output_signature=tf.int32)\n",
    "\n",
    "random_mask"
   ]
  },
  {
   "cell_type": "code",
   "execution_count": null,
   "metadata": {},
   "outputs": [
    {
     "data": {
      "text/plain": [
       "<tf.Tensor: shape=(200,), dtype=float32, numpy=\n",
       "array([0., 0., 0., 0., 1., 1., 1., 1., 1., 1., 1., 0., 0., 0., 1., 0., 0.,\n",
       "       0., 1., 0., 0., 0., 0., 1., 1., 0., 1., 1., 0., 1., 0., 1., 0., 1.,\n",
       "       0., 0., 0., 0., 0., 0., 1., 1., 0., 1., 0., 0., 0., 1., 1., 1., 1.,\n",
       "       0., 0., 0., 1., 0., 1., 0., 0., 1., 1., 0., 1., 1., 0., 0., 1., 0.,\n",
       "       1., 0., 0., 0., 0., 0., 1., 1., 1., 1., 0., 0., 0., 1., 1., 0., 1.,\n",
       "       0., 1., 1., 0., 1., 1., 0., 0., 1., 1., 0., 1., 0., 1., 0., 0., 0.,\n",
       "       0., 1., 1., 0., 0., 0., 0., 0., 0., 1., 1., 1., 1., 1., 1., 0., 0.,\n",
       "       0., 0., 0., 0., 0., 0., 0., 0., 0., 0., 0., 1., 1., 0., 1., 0., 1.,\n",
       "       0., 1., 0., 1., 0., 1., 0., 0., 0., 0., 0., 0., 0., 0., 1., 0., 1.,\n",
       "       0., 0., 0., 0., 1., 1., 0., 1., 0., 0., 0., 1., 0., 0., 1., 0., 0.,\n",
       "       1., 0., 0., 0., 1., 0., 0., 0., 0., 1., 0., 0., 1., 1., 0., 0., 1.,\n",
       "       0., 1., 0., 1., 0., 0., 1., 0., 1., 0., 0., 1., 1.], dtype=float32)>"
      ]
     },
     "execution_count": 62,
     "metadata": {},
     "output_type": "execute_result"
    }
   ],
   "source": [
    "pre_mask = lc_info_batches['probed_mask'][0]\n",
    "n_elements = n_random[0]\n",
    "pre_mask"
   ]
  },
  {
   "cell_type": "code",
   "execution_count": null,
   "metadata": {},
   "outputs": [
    {
     "data": {
      "text/plain": [
       "<tf.Tensor: shape=(), dtype=int32, numpy=16>"
      ]
     },
     "execution_count": 63,
     "metadata": {},
     "output_type": "execute_result"
    }
   ],
   "source": [
    "n_elements"
   ]
  },
  {
   "cell_type": "code",
   "execution_count": null,
   "metadata": {},
   "outputs": [
    {
     "data": {
      "text/plain": [
       "<tf.Tensor: shape=(80, 1), dtype=int64, numpy=\n",
       "array([[  4],\n",
       "       [  5],\n",
       "       [  6],\n",
       "       [  7],\n",
       "       [  8],\n",
       "       [  9],\n",
       "       [ 10],\n",
       "       [ 14],\n",
       "       [ 18],\n",
       "       [ 23],\n",
       "       [ 24],\n",
       "       [ 26],\n",
       "       [ 27],\n",
       "       [ 29],\n",
       "       [ 31],\n",
       "       [ 33],\n",
       "       [ 40],\n",
       "       [ 41],\n",
       "       [ 43],\n",
       "       [ 47],\n",
       "       [ 48],\n",
       "       [ 49],\n",
       "       [ 50],\n",
       "       [ 54],\n",
       "       [ 56],\n",
       "       [ 59],\n",
       "       [ 60],\n",
       "       [ 62],\n",
       "       [ 63],\n",
       "       [ 66],\n",
       "       [ 68],\n",
       "       [ 74],\n",
       "       [ 75],\n",
       "       [ 76],\n",
       "       [ 77],\n",
       "       [ 81],\n",
       "       [ 82],\n",
       "       [ 84],\n",
       "       [ 86],\n",
       "       [ 87],\n",
       "       [ 89],\n",
       "       [ 90],\n",
       "       [ 93],\n",
       "       [ 94],\n",
       "       [ 96],\n",
       "       [ 98],\n",
       "       [103],\n",
       "       [104],\n",
       "       [111],\n",
       "       [112],\n",
       "       [113],\n",
       "       [114],\n",
       "       [115],\n",
       "       [116],\n",
       "       [130],\n",
       "       [131],\n",
       "       [133],\n",
       "       [135],\n",
       "       [137],\n",
       "       [139],\n",
       "       [141],\n",
       "       [150],\n",
       "       [152],\n",
       "       [157],\n",
       "       [158],\n",
       "       [160],\n",
       "       [164],\n",
       "       [167],\n",
       "       [170],\n",
       "       [174],\n",
       "       [179],\n",
       "       [182],\n",
       "       [183],\n",
       "       [186],\n",
       "       [188],\n",
       "       [190],\n",
       "       [193],\n",
       "       [195],\n",
       "       [198],\n",
       "       [199]])>"
      ]
     },
     "execution_count": 64,
     "metadata": {},
     "output_type": "execute_result"
    }
   ],
   "source": [
    "indices = tf.where(pre_mask)\n",
    "indices"
   ]
  },
  {
   "cell_type": "code",
   "execution_count": null,
   "metadata": {},
   "outputs": [
    {
     "data": {
      "text/plain": [
       "<tf.Tensor: shape=(80, 1), dtype=int64, numpy=\n",
       "array([[ 82],\n",
       "       [ 48],\n",
       "       [ 23],\n",
       "       [ 54],\n",
       "       [ 96],\n",
       "       [158],\n",
       "       [ 66],\n",
       "       [131],\n",
       "       [193],\n",
       "       [ 75],\n",
       "       [ 43],\n",
       "       [ 81],\n",
       "       [150],\n",
       "       [182],\n",
       "       [ 59],\n",
       "       [ 74],\n",
       "       [186],\n",
       "       [103],\n",
       "       [  7],\n",
       "       [ 93],\n",
       "       [ 68],\n",
       "       [174],\n",
       "       [ 62],\n",
       "       [ 84],\n",
       "       [  9],\n",
       "       [  6],\n",
       "       [157],\n",
       "       [198],\n",
       "       [170],\n",
       "       [167],\n",
       "       [135],\n",
       "       [ 27],\n",
       "       [ 40],\n",
       "       [ 89],\n",
       "       [ 49],\n",
       "       [160],\n",
       "       [115],\n",
       "       [195],\n",
       "       [141],\n",
       "       [152],\n",
       "       [ 29],\n",
       "       [199],\n",
       "       [ 56],\n",
       "       [ 87],\n",
       "       [179],\n",
       "       [188],\n",
       "       [111],\n",
       "       [114],\n",
       "       [  8],\n",
       "       [133],\n",
       "       [190],\n",
       "       [ 98],\n",
       "       [ 33],\n",
       "       [  5],\n",
       "       [130],\n",
       "       [ 18],\n",
       "       [ 41],\n",
       "       [ 14],\n",
       "       [ 26],\n",
       "       [113],\n",
       "       [ 77],\n",
       "       [164],\n",
       "       [ 76],\n",
       "       [183],\n",
       "       [116],\n",
       "       [112],\n",
       "       [ 47],\n",
       "       [104],\n",
       "       [  4],\n",
       "       [ 50],\n",
       "       [ 86],\n",
       "       [137],\n",
       "       [ 10],\n",
       "       [ 63],\n",
       "       [139],\n",
       "       [ 60],\n",
       "       [ 31],\n",
       "       [ 90],\n",
       "       [ 24],\n",
       "       [ 94]])>"
      ]
     },
     "execution_count": 65,
     "metadata": {},
     "output_type": "execute_result"
    }
   ],
   "source": [
    "indices = tf.random.shuffle(indices)\n",
    "indices"
   ]
  },
  {
   "cell_type": "code",
   "execution_count": null,
   "metadata": {},
   "outputs": [
    {
     "data": {
      "text/plain": [
       "<tf.Tensor: shape=(16, 1), dtype=int64, numpy=\n",
       "array([[ 82],\n",
       "       [ 48],\n",
       "       [ 23],\n",
       "       [ 54],\n",
       "       [ 96],\n",
       "       [158],\n",
       "       [ 66],\n",
       "       [131],\n",
       "       [193],\n",
       "       [ 75],\n",
       "       [ 43],\n",
       "       [ 81],\n",
       "       [150],\n",
       "       [182],\n",
       "       [ 59],\n",
       "       [ 74]])>"
      ]
     },
     "execution_count": 66,
     "metadata": {},
     "output_type": "execute_result"
    }
   ],
   "source": [
    "indices = tf.slice(indices, [0, 0], [n_elements, -1])\n",
    "indices"
   ]
  },
  {
   "cell_type": "code",
   "execution_count": null,
   "metadata": {},
   "outputs": [
    {
     "data": {
      "text/plain": [
       "<tf.Tensor: shape=(16, 1, 200), dtype=int32, numpy=\n",
       "array([[[0, 0, 0, ..., 0, 0, 0]],\n",
       "\n",
       "       [[0, 0, 0, ..., 0, 0, 0]],\n",
       "\n",
       "       [[0, 0, 0, ..., 0, 0, 0]],\n",
       "\n",
       "       ...,\n",
       "\n",
       "       [[0, 0, 0, ..., 0, 0, 0]],\n",
       "\n",
       "       [[0, 0, 0, ..., 0, 0, 0]],\n",
       "\n",
       "       [[0, 0, 0, ..., 0, 0, 0]]], dtype=int32)>"
      ]
     },
     "execution_count": 67,
     "metadata": {},
     "output_type": "execute_result"
    }
   ],
   "source": [
    "mask = tf.one_hot(indices, tf.shape(pre_mask)[0], dtype=tf.int32)\n",
    "mask"
   ]
  },
  {
   "cell_type": "code",
   "execution_count": null,
   "metadata": {},
   "outputs": [
    {
     "data": {
      "text/plain": [
       "<tf.Tensor: shape=(1, 200), dtype=int32, numpy=\n",
       "array([[0, 0, 0, 0, 0, 0, 0, 0, 0, 0, 0, 0, 0, 0, 0, 0, 0, 0, 0, 0, 0, 0,\n",
       "        0, 1, 0, 0, 0, 0, 0, 0, 0, 0, 0, 0, 0, 0, 0, 0, 0, 0, 0, 0, 0, 1,\n",
       "        0, 0, 0, 0, 1, 0, 0, 0, 0, 0, 1, 0, 0, 0, 0, 1, 0, 0, 0, 0, 0, 0,\n",
       "        1, 0, 0, 0, 0, 0, 0, 0, 1, 1, 0, 0, 0, 0, 0, 1, 1, 0, 0, 0, 0, 0,\n",
       "        0, 0, 0, 0, 0, 0, 0, 0, 1, 0, 0, 0, 0, 0, 0, 0, 0, 0, 0, 0, 0, 0,\n",
       "        0, 0, 0, 0, 0, 0, 0, 0, 0, 0, 0, 0, 0, 0, 0, 0, 0, 0, 0, 0, 0, 1,\n",
       "        0, 0, 0, 0, 0, 0, 0, 0, 0, 0, 0, 0, 0, 0, 0, 0, 0, 0, 1, 0, 0, 0,\n",
       "        0, 0, 0, 0, 1, 0, 0, 0, 0, 0, 0, 0, 0, 0, 0, 0, 0, 0, 0, 0, 0, 0,\n",
       "        0, 0, 0, 0, 0, 0, 1, 0, 0, 0, 0, 0, 0, 0, 0, 0, 0, 1, 0, 0, 0, 0,\n",
       "        0, 0]], dtype=int32)>"
      ]
     },
     "execution_count": 68,
     "metadata": {},
     "output_type": "execute_result"
    }
   ],
   "source": [
    "mask = tf.reduce_sum(mask, 0)\n",
    "mask"
   ]
  },
  {
   "cell_type": "code",
   "execution_count": null,
   "metadata": {},
   "outputs": [
    {
     "data": {
      "text/plain": [
       "<tf.Tensor: shape=(200,), dtype=int32, numpy=\n",
       "array([0, 0, 0, 0, 0, 0, 0, 0, 0, 0, 0, 0, 0, 0, 0, 0, 0, 0, 0, 0, 0, 0,\n",
       "       0, 1, 0, 0, 0, 0, 0, 0, 0, 0, 0, 0, 0, 0, 0, 0, 0, 0, 0, 0, 0, 1,\n",
       "       0, 0, 0, 0, 1, 0, 0, 0, 0, 0, 1, 0, 0, 0, 0, 1, 0, 0, 0, 0, 0, 0,\n",
       "       1, 0, 0, 0, 0, 0, 0, 0, 1, 1, 0, 0, 0, 0, 0, 1, 1, 0, 0, 0, 0, 0,\n",
       "       0, 0, 0, 0, 0, 0, 0, 0, 1, 0, 0, 0, 0, 0, 0, 0, 0, 0, 0, 0, 0, 0,\n",
       "       0, 0, 0, 0, 0, 0, 0, 0, 0, 0, 0, 0, 0, 0, 0, 0, 0, 0, 0, 0, 0, 1,\n",
       "       0, 0, 0, 0, 0, 0, 0, 0, 0, 0, 0, 0, 0, 0, 0, 0, 0, 0, 1, 0, 0, 0,\n",
       "       0, 0, 0, 0, 1, 0, 0, 0, 0, 0, 0, 0, 0, 0, 0, 0, 0, 0, 0, 0, 0, 0,\n",
       "       0, 0, 0, 0, 0, 0, 1, 0, 0, 0, 0, 0, 0, 0, 0, 0, 0, 1, 0, 0, 0, 0,\n",
       "       0, 0], dtype=int32)>"
      ]
     },
     "execution_count": 69,
     "metadata": {},
     "output_type": "execute_result"
    }
   ],
   "source": [
    "mask = tf.reshape(mask, [tf.shape(pre_mask)[0]])\n",
    "mask"
   ]
  },
  {
   "cell_type": "code",
   "execution_count": null,
   "metadata": {},
   "outputs": [
    {
     "data": {
      "text/plain": [
       "<tf.Tensor: shape=(14, 200), dtype=int32, numpy=\n",
       "array([[0, 0, 0, ..., 0, 1, 0],\n",
       "       [1, 0, 0, ..., 0, 0, 0],\n",
       "       [0, 0, 0, ..., 1, 0, 0],\n",
       "       ...,\n",
       "       [0, 0, 0, ..., 0, 0, 0],\n",
       "       [0, 0, 0, ..., 0, 0, 0],\n",
       "       [0, 0, 1, ..., 0, 1, 0]], dtype=int32)>"
      ]
     },
     "execution_count": 70,
     "metadata": {},
     "output_type": "execute_result"
    }
   ],
   "source": [
    "random_mask"
   ]
  },
  {
   "cell_type": "code",
   "execution_count": null,
   "metadata": {},
   "outputs": [
    {
     "data": {
      "text/plain": [
       "<tf.Tensor: shape=(14, 200), dtype=int32, numpy=\n",
       "array([[0, 0, 0, ..., 0, 0, 1],\n",
       "       [0, 1, 0, ..., 0, 0, 1],\n",
       "       [1, 0, 0, ..., 0, 0, 0],\n",
       "       ...,\n",
       "       [1, 1, 1, ..., 0, 1, 0],\n",
       "       [1, 0, 0, ..., 0, 0, 0],\n",
       "       [1, 0, 0, ..., 0, 0, 0]], dtype=int32)>"
      ]
     },
     "execution_count": 71,
     "metadata": {},
     "output_type": "execute_result"
    }
   ],
   "source": [
    "# ====== SAME MASK =====\n",
    "rest = tf.cast(lc_info_batches['probed_mask'], tf.int32) * (1-random_mask)\n",
    "rest"
   ]
  },
  {
   "cell_type": "code",
   "execution_count": null,
   "metadata": {},
   "outputs": [
    {
     "data": {
      "text/plain": [
       "<tf.Tensor: shape=(14,), dtype=int32, numpy=\n",
       "array([64, 64, 64, 64, 64, 64, 64, 64, 64, 64, 64, 64, 64, 64],\n",
       "      dtype=int32)>"
      ]
     },
     "execution_count": 72,
     "metadata": {},
     "output_type": "execute_result"
    }
   ],
   "source": [
    "n_rest = tf.reduce_sum(rest, 1)\n",
    "n_rest"
   ]
  },
  {
   "cell_type": "code",
   "execution_count": null,
   "metadata": {},
   "outputs": [
    {
     "data": {
      "text/plain": [
       "<tf.Tensor: shape=(14,), dtype=float32, numpy=\n",
       "array([13., 13., 13., 13., 13., 13., 13., 13., 13., 13., 13., 13., 13.,\n",
       "       13.], dtype=float32)>"
      ]
     },
     "execution_count": 73,
     "metadata": {},
     "output_type": "execute_result"
    }
   ],
   "source": [
    "n_same = tf.math.ceil(tf.cast(n_rest, tf.float32) * random_frac)\n",
    "n_same"
   ]
  },
  {
   "cell_type": "code",
   "execution_count": null,
   "metadata": {},
   "outputs": [
    {
     "data": {
      "text/plain": [
       "<tf.Tensor: shape=(14,), dtype=int32, numpy=\n",
       "array([13, 13, 13, 13, 13, 13, 13, 13, 13, 13, 13, 13, 13, 13],\n",
       "      dtype=int32)>"
      ]
     },
     "execution_count": 74,
     "metadata": {},
     "output_type": "execute_result"
    }
   ],
   "source": [
    "n_same = tf.cast(n_same, tf.int32)\n",
    "n_same"
   ]
  },
  {
   "cell_type": "code",
   "execution_count": null,
   "metadata": {},
   "outputs": [
    {
     "name": "stdout",
     "output_type": "stream",
     "text": [
      "(200,)\n",
      "tf.Tensor(13, shape=(), dtype=int32)\n",
      "(200,)\n",
      "tf.Tensor(13, shape=(), dtype=int32)\n",
      "(200,)\n",
      "tf.Tensor(13, shape=(), dtype=int32)\n",
      "(200,)\n",
      "tf.Tensor(13, shape=(), dtype=int32)\n",
      "(200,)\n",
      "tf.Tensor(13, shape=(), dtype=int32)\n",
      "(200,)\n",
      "tf.Tensor(13, shape=(), dtype=int32)\n",
      "(200,)\n",
      "tf.Tensor(13, shape=(), dtype=int32)\n",
      "(200,)\n",
      "tf.Tensor(13, shape=(), dtype=int32)\n",
      "(200,)\n",
      "tf.Tensor(13, shape=(), dtype=int32)\n",
      "(200,)\n",
      "tf.Tensor(13, shape=(), dtype=int32)\n",
      "(200,)\n",
      "tf.Tensor(13, shape=(), dtype=int32)\n",
      "(200,)\n",
      "tf.Tensor(13, shape=(), dtype=int32)\n",
      "(200,)\n",
      "tf.Tensor(13, shape=(), dtype=int32)\n",
      "(200,)\n",
      "tf.Tensor(13, shape=(), dtype=int32)\n"
     ]
    },
    {
     "data": {
      "text/plain": [
       "<tf.Tensor: shape=(14, 200), dtype=int32, numpy=\n",
       "array([[0, 0, 0, ..., 0, 0, 0],\n",
       "       [0, 0, 0, ..., 0, 0, 0],\n",
       "       [0, 0, 0, ..., 0, 0, 0],\n",
       "       ...,\n",
       "       [0, 0, 1, ..., 0, 1, 0],\n",
       "       [0, 0, 0, ..., 0, 0, 0],\n",
       "       [0, 0, 0, ..., 0, 0, 0]], dtype=int32)>"
      ]
     },
     "execution_count": 75,
     "metadata": {},
     "output_type": "execute_result"
    }
   ],
   "source": [
    "same_mask = tf.map_fn(lambda x: create_mask(x[0], x[1]), \n",
    "                                (rest, n_same),\n",
    "                                parallel_iterations=njobs,\n",
    "                                fn_output_signature=tf.int32)\n",
    "\n",
    "same_mask"
   ]
  },
  {
   "cell_type": "code",
   "execution_count": null,
   "metadata": {},
   "outputs": [
    {
     "data": {
      "text/plain": [
       "<tf.Tensor: shape=(14, 200, 3), dtype=float32, numpy=\n",
       "array([[[-2.6617578e+02, -5.5631161e-02, -2.0884996e-02],\n",
       "        [-2.6527734e+02,  1.5836906e-01, -1.5884995e-02],\n",
       "        [-2.6414844e+02,  3.2368660e-02,  5.1150061e-03],\n",
       "        ...,\n",
       "        [ 2.7077344e+02, -3.7631035e-02, -1.8884996e-02],\n",
       "        [ 2.7179297e+02, -2.0631313e-02, -1.6884996e-02],\n",
       "        [ 2.7966406e+02,  1.8636894e-01, -1.9884996e-02]],\n",
       "\n",
       "       [[-3.5253906e+02, -1.5975475e-02, -4.3549910e-03],\n",
       "        [-3.4756641e+02, -1.4797544e-01,  3.5645012e-02],\n",
       "        [-3.4554297e+02,  1.2502480e-01,  2.6450083e-03],\n",
       "        ...,\n",
       "        [ 2.9165625e+02,  5.8024883e-02, -1.5354991e-02],\n",
       "        [ 2.9549219e+02, -2.5975227e-02, -1.6354991e-02],\n",
       "        [ 2.9651172e+02, -5.5975437e-02, -3.3549927e-03]],\n",
       "\n",
       "       [[-4.9218359e+02, -7.2044373e-02,  1.6059995e-02],\n",
       "        [-4.8922266e+02, -8.2044125e-02, -1.9400045e-03],\n",
       "        [-4.8826953e+02,  2.9955864e-02, -9.9400058e-03],\n",
       "        ...,\n",
       "        [ 5.8973438e+02,  3.3956051e-02,  4.3059994e-02],\n",
       "        [ 6.0473828e+02,  3.9956093e-02,  2.0599924e-03],\n",
       "        [ 6.1676953e+02, -6.5043926e-02,  7.0599951e-03]],\n",
       "\n",
       "       ...,\n",
       "\n",
       "       [[-1.9699219e+02,  5.3181648e-03,  4.2449962e-03],\n",
       "        [-1.9570703e+02, -2.6817322e-03,  1.2449957e-03],\n",
       "        [-1.9371094e+02,  5.6318283e-02,  4.1244995e-02],\n",
       "        ...,\n",
       "        [ 2.5629688e+02, -3.6816597e-03, -4.7550034e-03],\n",
       "        [ 2.6321094e+02, -3.2681942e-02, -8.7550040e-03],\n",
       "        [ 2.6419922e+02, -6.2681675e-02, -1.0755003e-02]],\n",
       "\n",
       "       [[-2.7599609e+02,  2.9764175e-03, -5.4999255e-04],\n",
       "        [-2.7011328e+02, -6.5023899e-02, -2.5499929e-03],\n",
       "        [-2.6395312e+02,  9.1976166e-02,  6.4500067e-03],\n",
       "        ...,\n",
       "        [ 2.6190625e+02, -1.1023998e-02,  3.0450005e-02],\n",
       "        [ 2.6482031e+02,  2.7976036e-02,  3.2450005e-02],\n",
       "        [ 2.6891016e+02,  1.3976097e-02, -2.5499929e-03]],\n",
       "\n",
       "       [[-5.0294141e+02,  1.6838074e-02, -8.4150052e-03],\n",
       "        [-5.0098828e+02,  2.5838375e-02, -4.4150054e-03],\n",
       "        [-4.9994922e+02, -2.5161743e-02, -1.4150059e-03],\n",
       "        ...,\n",
       "        [ 5.7401172e+02, -1.3161659e-02, -7.4150059e-03],\n",
       "        [ 5.7515234e+02,  8.8381767e-03, -7.4150059e-03],\n",
       "        [ 5.7701562e+02, -7.6161861e-02,  1.0584995e-02]]], dtype=float32)>"
      ]
     },
     "execution_count": 76,
     "metadata": {},
     "output_type": "execute_result"
    }
   ],
   "source": [
    "lc_info_batches['input']"
   ]
  },
  {
   "cell_type": "code",
   "execution_count": null,
   "metadata": {},
   "outputs": [
    {
     "data": {
      "text/plain": [
       "<tf.Tensor: shape=(200, 14, 3), dtype=float32, numpy=\n",
       "array([[[-2.6617578e+02, -5.5631161e-02, -2.0884996e-02],\n",
       "        [-3.5253906e+02, -1.5975475e-02, -4.3549910e-03],\n",
       "        [-4.9218359e+02, -7.2044373e-02,  1.6059995e-02],\n",
       "        ...,\n",
       "        [-1.9699219e+02,  5.3181648e-03,  4.2449962e-03],\n",
       "        [-2.7599609e+02,  2.9764175e-03, -5.4999255e-04],\n",
       "        [-5.0294141e+02,  1.6838074e-02, -8.4150052e-03]],\n",
       "\n",
       "       [[-2.6527734e+02,  1.5836906e-01, -1.5884995e-02],\n",
       "        [-3.4756641e+02, -1.4797544e-01,  3.5645012e-02],\n",
       "        [-4.8922266e+02, -8.2044125e-02, -1.9400045e-03],\n",
       "        ...,\n",
       "        [-1.9570703e+02, -2.6817322e-03,  1.2449957e-03],\n",
       "        [-2.7011328e+02, -6.5023899e-02, -2.5499929e-03],\n",
       "        [-5.0098828e+02,  2.5838375e-02, -4.4150054e-03]],\n",
       "\n",
       "       [[-2.6414844e+02,  3.2368660e-02,  5.1150061e-03],\n",
       "        [-3.4554297e+02,  1.2502480e-01,  2.6450083e-03],\n",
       "        [-4.8826953e+02,  2.9955864e-02, -9.9400058e-03],\n",
       "        ...,\n",
       "        [-1.9371094e+02,  5.6318283e-02,  4.1244995e-02],\n",
       "        [-2.6395312e+02,  9.1976166e-02,  6.4500067e-03],\n",
       "        [-4.9994922e+02, -2.5161743e-02, -1.4150059e-03]],\n",
       "\n",
       "       ...,\n",
       "\n",
       "       [[ 2.7077344e+02, -3.7631035e-02, -1.8884996e-02],\n",
       "        [ 2.9165625e+02,  5.8024883e-02, -1.5354991e-02],\n",
       "        [ 5.8973438e+02,  3.3956051e-02,  4.3059994e-02],\n",
       "        ...,\n",
       "        [ 2.5629688e+02, -3.6816597e-03, -4.7550034e-03],\n",
       "        [ 2.6190625e+02, -1.1023998e-02,  3.0450005e-02],\n",
       "        [ 5.7401172e+02, -1.3161659e-02, -7.4150059e-03]],\n",
       "\n",
       "       [[ 2.7179297e+02, -2.0631313e-02, -1.6884996e-02],\n",
       "        [ 2.9549219e+02, -2.5975227e-02, -1.6354991e-02],\n",
       "        [ 6.0473828e+02,  3.9956093e-02,  2.0599924e-03],\n",
       "        ...,\n",
       "        [ 2.6321094e+02, -3.2681942e-02, -8.7550040e-03],\n",
       "        [ 2.6482031e+02,  2.7976036e-02,  3.2450005e-02],\n",
       "        [ 5.7515234e+02,  8.8381767e-03, -7.4150059e-03]],\n",
       "\n",
       "       [[ 2.7966406e+02,  1.8636894e-01, -1.9884996e-02],\n",
       "        [ 2.9651172e+02, -5.5975437e-02, -3.3549927e-03],\n",
       "        [ 6.1676953e+02, -6.5043926e-02,  7.0599951e-03],\n",
       "        ...,\n",
       "        [ 2.6419922e+02, -6.2681675e-02, -1.0755003e-02],\n",
       "        [ 2.6891016e+02,  1.3976097e-02, -2.5499929e-03],\n",
       "        [ 5.7701562e+02, -7.6161861e-02,  1.0584995e-02]]], dtype=float32)>"
      ]
     },
     "execution_count": 77,
     "metadata": {},
     "output_type": "execute_result"
    }
   ],
   "source": [
    "tf.transpose(lc_info_batches['input'], [1, 0, 2])"
   ]
  },
  {
   "cell_type": "code",
   "execution_count": null,
   "metadata": {},
   "outputs": [
    {
     "data": {
      "text/plain": [
       "<tf.Tensor: shape=(200, 14, 3), dtype=float32, numpy=\n",
       "array([[[ 2.16882812e+02, -1.26309395e-02, -1.48849953e-02],\n",
       "        [ 2.53449219e+02, -5.69753647e-02, -2.33549904e-02],\n",
       "        [ 4.98863281e+02, -6.30440712e-02, -1.39400065e-02],\n",
       "        ...,\n",
       "        [ 2.11246094e+02,  1.33180618e-02, -5.75500354e-03],\n",
       "        [ 1.77863281e+02,  6.97612762e-03, -9.54999309e-03],\n",
       "        [ 4.76171875e+02,  1.48838043e-01, -5.41500561e-03]],\n",
       "\n",
       "       [[ 9.68437500e+01,  4.36878204e-03,  3.81150059e-02],\n",
       "        [ 1.81531250e+02,  1.18024826e-01,  2.06450075e-02],\n",
       "        [ 3.24640625e+02, -2.50439644e-02, -1.49400067e-02],\n",
       "        ...,\n",
       "        [ 1.49000000e+02, -6.81877136e-04, -7.75500387e-03],\n",
       "        [ 1.26933594e+02, -3.02362442e-03, -5.49992546e-04],\n",
       "        [ 2.93144531e+02,  1.98383331e-02, -7.41500594e-03]],\n",
       "\n",
       "       [[-1.13171875e+02,  1.19369030e-01, -1.98849961e-02],\n",
       "        [-1.91464844e+02, -9.49754715e-02,  1.36450082e-02],\n",
       "        [-3.23375000e+02,  3.99560928e-02, -4.94000688e-03],\n",
       "        ...,\n",
       "        [-1.46734375e+02, -1.68180466e-03, -6.75500371e-03],\n",
       "        [-1.29945312e+02, -6.00237846e-02,  3.45000625e-03],\n",
       "        [-2.95851562e+02,  3.28383446e-02, -3.41500528e-03]],\n",
       "\n",
       "       ...,\n",
       "\n",
       "       [[ 8.99101562e+01, -5.96313477e-02, -7.88499415e-03],\n",
       "        [ 1.70691406e+02,  2.30245590e-02,  1.46450102e-02],\n",
       "        [ 2.99699219e+02, -1.09044075e-01, -1.79400053e-02],\n",
       "        ...,\n",
       "        [ 1.33003906e+02, -8.16817284e-02,  9.24499705e-03],\n",
       "        [ 1.17988281e+02, -2.80237198e-02, -4.54999320e-03],\n",
       "        [ 2.57218750e+02,  3.08380127e-02, -1.41500589e-03]],\n",
       "\n",
       "       [[-7.22929688e+01, -2.66313553e-02, -1.88849960e-02],\n",
       "        [-7.04296875e+01, -4.09750938e-02, -1.13549903e-02],\n",
       "        [-1.91292969e+02,  2.95591354e-03, -3.94000672e-03],\n",
       "        ...,\n",
       "        [-1.11785156e+02,  3.33180428e-02, -6.75500371e-03],\n",
       "        [-6.31835938e+01, -4.40239906e-02,  4.50007617e-04],\n",
       "        [-1.91832031e+02,  8.83817673e-03, -6.41500577e-03]],\n",
       "\n",
       "       [[ 1.34941406e+02, -4.16312218e-02,  1.15003437e-04],\n",
       "        [ 2.17453125e+02, -9.97543335e-03, -2.33549904e-02],\n",
       "        [ 3.88625000e+02, -4.30440903e-02, -2.19400059e-02],\n",
       "        ...,\n",
       "        [ 1.96253906e+02, -1.56817436e-02,  1.42449960e-02],\n",
       "        [ 1.47878906e+02,  3.79762650e-02, -6.54999353e-03],\n",
       "        [ 3.65933594e+02, -3.91616821e-02, -4.15004790e-04]]],\n",
       "      dtype=float32)>"
      ]
     },
     "execution_count": 78,
     "metadata": {},
     "output_type": "execute_result"
    }
   ],
   "source": [
    "# ===== REPLACEMENT ==== \n",
    "random_replacement = tf.random.shuffle(tf.transpose(lc_info_batches['input'], [1, 0, 2]))\n",
    "random_replacement"
   ]
  },
  {
   "cell_type": "code",
   "execution_count": null,
   "metadata": {},
   "outputs": [
    {
     "data": {
      "text/plain": [
       "<tf.Tensor: shape=(14, 200, 3), dtype=float32, numpy=\n",
       "array([[[ 2.16882812e+02, -1.26309395e-02, -1.48849953e-02],\n",
       "        [ 9.68437500e+01,  4.36878204e-03,  3.81150059e-02],\n",
       "        [-1.13171875e+02,  1.19369030e-01, -1.98849961e-02],\n",
       "        ...,\n",
       "        [ 8.99101562e+01, -5.96313477e-02, -7.88499415e-03],\n",
       "        [-7.22929688e+01, -2.66313553e-02, -1.88849960e-02],\n",
       "        [ 1.34941406e+02, -4.16312218e-02,  1.15003437e-04]],\n",
       "\n",
       "       [[ 2.53449219e+02, -5.69753647e-02, -2.33549904e-02],\n",
       "        [ 1.81531250e+02,  1.18024826e-01,  2.06450075e-02],\n",
       "        [-1.91464844e+02, -9.49754715e-02,  1.36450082e-02],\n",
       "        ...,\n",
       "        [ 1.70691406e+02,  2.30245590e-02,  1.46450102e-02],\n",
       "        [-7.04296875e+01, -4.09750938e-02, -1.13549903e-02],\n",
       "        [ 2.17453125e+02, -9.97543335e-03, -2.33549904e-02]],\n",
       "\n",
       "       [[ 4.98863281e+02, -6.30440712e-02, -1.39400065e-02],\n",
       "        [ 3.24640625e+02, -2.50439644e-02, -1.49400067e-02],\n",
       "        [-3.23375000e+02,  3.99560928e-02, -4.94000688e-03],\n",
       "        ...,\n",
       "        [ 2.99699219e+02, -1.09044075e-01, -1.79400053e-02],\n",
       "        [-1.91292969e+02,  2.95591354e-03, -3.94000672e-03],\n",
       "        [ 3.88625000e+02, -4.30440903e-02, -2.19400059e-02]],\n",
       "\n",
       "       ...,\n",
       "\n",
       "       [[ 2.11246094e+02,  1.33180618e-02, -5.75500354e-03],\n",
       "        [ 1.49000000e+02, -6.81877136e-04, -7.75500387e-03],\n",
       "        [-1.46734375e+02, -1.68180466e-03, -6.75500371e-03],\n",
       "        ...,\n",
       "        [ 1.33003906e+02, -8.16817284e-02,  9.24499705e-03],\n",
       "        [-1.11785156e+02,  3.33180428e-02, -6.75500371e-03],\n",
       "        [ 1.96253906e+02, -1.56817436e-02,  1.42449960e-02]],\n",
       "\n",
       "       [[ 1.77863281e+02,  6.97612762e-03, -9.54999309e-03],\n",
       "        [ 1.26933594e+02, -3.02362442e-03, -5.49992546e-04],\n",
       "        [-1.29945312e+02, -6.00237846e-02,  3.45000625e-03],\n",
       "        ...,\n",
       "        [ 1.17988281e+02, -2.80237198e-02, -4.54999320e-03],\n",
       "        [-6.31835938e+01, -4.40239906e-02,  4.50007617e-04],\n",
       "        [ 1.47878906e+02,  3.79762650e-02, -6.54999353e-03]],\n",
       "\n",
       "       [[ 4.76171875e+02,  1.48838043e-01, -5.41500561e-03],\n",
       "        [ 2.93144531e+02,  1.98383331e-02, -7.41500594e-03],\n",
       "        [-2.95851562e+02,  3.28383446e-02, -3.41500528e-03],\n",
       "        ...,\n",
       "        [ 2.57218750e+02,  3.08380127e-02, -1.41500589e-03],\n",
       "        [-1.91832031e+02,  8.83817673e-03, -6.41500577e-03],\n",
       "        [ 3.65933594e+02, -3.91616821e-02, -4.15004790e-04]]],\n",
       "      dtype=float32)>"
      ]
     },
     "execution_count": 79,
     "metadata": {},
     "output_type": "execute_result"
    }
   ],
   "source": [
    "random_replacement = tf.transpose(random_replacement, [1, 0, 2])\n",
    "random_replacement"
   ]
  },
  {
   "cell_type": "code",
   "execution_count": null,
   "metadata": {},
   "outputs": [
    {
     "data": {
      "text/plain": [
       "<tf.Tensor: shape=(14, 200, 1), dtype=float32, numpy=\n",
       "array([[[0.],\n",
       "        [0.],\n",
       "        [0.],\n",
       "        ...,\n",
       "        [0.],\n",
       "        [1.],\n",
       "        [0.]],\n",
       "\n",
       "       [[1.],\n",
       "        [0.],\n",
       "        [0.],\n",
       "        ...,\n",
       "        [0.],\n",
       "        [0.],\n",
       "        [0.]],\n",
       "\n",
       "       [[0.],\n",
       "        [0.],\n",
       "        [0.],\n",
       "        ...,\n",
       "        [1.],\n",
       "        [0.],\n",
       "        [0.]],\n",
       "\n",
       "       ...,\n",
       "\n",
       "       [[0.],\n",
       "        [0.],\n",
       "        [0.],\n",
       "        ...,\n",
       "        [0.],\n",
       "        [0.],\n",
       "        [0.]],\n",
       "\n",
       "       [[0.],\n",
       "        [0.],\n",
       "        [0.],\n",
       "        ...,\n",
       "        [0.],\n",
       "        [0.],\n",
       "        [0.]],\n",
       "\n",
       "       [[0.],\n",
       "        [0.],\n",
       "        [1.],\n",
       "        ...,\n",
       "        [0.],\n",
       "        [1.],\n",
       "        [0.]]], dtype=float32)>"
      ]
     },
     "execution_count": 80,
     "metadata": {},
     "output_type": "execute_result"
    }
   ],
   "source": [
    "tf.cast(tf.expand_dims(random_mask, -1), tf.float32)"
   ]
  },
  {
   "cell_type": "code",
   "execution_count": null,
   "metadata": {},
   "outputs": [
    {
     "data": {
      "text/plain": [
       "<tf.Tensor: shape=(14, 200, 3), dtype=float32, numpy=\n",
       "array([[[0., 0., 0.],\n",
       "        [0., 0., 0.],\n",
       "        [0., 0., 0.],\n",
       "        ...,\n",
       "        [0., 0., 0.],\n",
       "        [0., 1., 1.],\n",
       "        [0., 0., 0.]],\n",
       "\n",
       "       [[0., 1., 1.],\n",
       "        [0., 0., 0.],\n",
       "        [0., 0., 0.],\n",
       "        ...,\n",
       "        [0., 0., 0.],\n",
       "        [0., 0., 0.],\n",
       "        [0., 0., 0.]],\n",
       "\n",
       "       [[0., 0., 0.],\n",
       "        [0., 0., 0.],\n",
       "        [0., 0., 0.],\n",
       "        ...,\n",
       "        [0., 1., 1.],\n",
       "        [0., 0., 0.],\n",
       "        [0., 0., 0.]],\n",
       "\n",
       "       ...,\n",
       "\n",
       "       [[0., 0., 0.],\n",
       "        [0., 0., 0.],\n",
       "        [0., 0., 0.],\n",
       "        ...,\n",
       "        [0., 0., 0.],\n",
       "        [0., 0., 0.],\n",
       "        [0., 0., 0.]],\n",
       "\n",
       "       [[0., 0., 0.],\n",
       "        [0., 0., 0.],\n",
       "        [0., 0., 0.],\n",
       "        ...,\n",
       "        [0., 0., 0.],\n",
       "        [0., 0., 0.],\n",
       "        [0., 0., 0.]],\n",
       "\n",
       "       [[0., 0., 0.],\n",
       "        [0., 0., 0.],\n",
       "        [0., 1., 1.],\n",
       "        ...,\n",
       "        [0., 0., 0.],\n",
       "        [0., 1., 1.],\n",
       "        [0., 0., 0.]]], dtype=float32)>"
      ]
     },
     "execution_count": 81,
     "metadata": {},
     "output_type": "execute_result"
    }
   ],
   "source": [
    "tf.cast(tf.expand_dims(random_mask, -1), tf.float32) * [0., 1., 1.]"
   ]
  },
  {
   "cell_type": "code",
   "execution_count": null,
   "metadata": {},
   "outputs": [
    {
     "data": {
      "text/plain": [
       "<tf.Tensor: shape=(14, 200, 3), dtype=float32, numpy=\n",
       "array([[[ 0.        , -0.        , -0.        ],\n",
       "        [ 0.        ,  0.        ,  0.        ],\n",
       "        [-0.        ,  0.        , -0.        ],\n",
       "        ...,\n",
       "        [ 0.        , -0.        , -0.        ],\n",
       "        [-0.        , -0.02663136, -0.018885  ],\n",
       "        [ 0.        , -0.        ,  0.        ]],\n",
       "\n",
       "       [[ 0.        , -0.05697536, -0.02335499],\n",
       "        [ 0.        ,  0.        ,  0.        ],\n",
       "        [-0.        , -0.        ,  0.        ],\n",
       "        ...,\n",
       "        [ 0.        ,  0.        ,  0.        ],\n",
       "        [-0.        , -0.        , -0.        ],\n",
       "        [ 0.        , -0.        , -0.        ]],\n",
       "\n",
       "       [[ 0.        , -0.        , -0.        ],\n",
       "        [ 0.        , -0.        , -0.        ],\n",
       "        [-0.        ,  0.        , -0.        ],\n",
       "        ...,\n",
       "        [ 0.        , -0.10904408, -0.01794001],\n",
       "        [-0.        ,  0.        , -0.        ],\n",
       "        [ 0.        , -0.        , -0.        ]],\n",
       "\n",
       "       ...,\n",
       "\n",
       "       [[ 0.        ,  0.        , -0.        ],\n",
       "        [ 0.        , -0.        , -0.        ],\n",
       "        [-0.        , -0.        , -0.        ],\n",
       "        ...,\n",
       "        [ 0.        , -0.        ,  0.        ],\n",
       "        [-0.        ,  0.        , -0.        ],\n",
       "        [ 0.        , -0.        ,  0.        ]],\n",
       "\n",
       "       [[ 0.        ,  0.        , -0.        ],\n",
       "        [ 0.        , -0.        , -0.        ],\n",
       "        [-0.        , -0.        ,  0.        ],\n",
       "        ...,\n",
       "        [ 0.        , -0.        , -0.        ],\n",
       "        [-0.        , -0.        ,  0.        ],\n",
       "        [ 0.        ,  0.        , -0.        ]],\n",
       "\n",
       "       [[ 0.        ,  0.        , -0.        ],\n",
       "        [ 0.        ,  0.        , -0.        ],\n",
       "        [-0.        ,  0.03283834, -0.00341501],\n",
       "        ...,\n",
       "        [ 0.        ,  0.        , -0.        ],\n",
       "        [-0.        ,  0.00883818, -0.00641501],\n",
       "        [ 0.        , -0.        , -0.        ]]], dtype=float32)>"
      ]
     },
     "execution_count": 82,
     "metadata": {},
     "output_type": "execute_result"
    }
   ],
   "source": [
    "random_replacement = random_replacement * tf.cast(tf.expand_dims(random_mask, -1), tf.float32) * [0., 1., 1.]\n",
    "random_replacement"
   ]
  },
  {
   "cell_type": "code",
   "execution_count": null,
   "metadata": {},
   "outputs": [
    {
     "data": {
      "text/plain": [
       "184"
      ]
     },
     "execution_count": 83,
     "metadata": {},
     "output_type": "execute_result"
    }
   ],
   "source": [
    "np.sum((1 - random_mask)[0])"
   ]
  },
  {
   "cell_type": "code",
   "execution_count": null,
   "metadata": {},
   "outputs": [
    {
     "data": {
      "text/plain": [
       "<tf.Tensor: shape=(14, 200, 1), dtype=int32, numpy=\n",
       "array([[[1],\n",
       "        [1],\n",
       "        [1],\n",
       "        ...,\n",
       "        [1],\n",
       "        [0],\n",
       "        [1]],\n",
       "\n",
       "       [[0],\n",
       "        [1],\n",
       "        [1],\n",
       "        ...,\n",
       "        [1],\n",
       "        [1],\n",
       "        [1]],\n",
       "\n",
       "       [[1],\n",
       "        [1],\n",
       "        [1],\n",
       "        ...,\n",
       "        [0],\n",
       "        [1],\n",
       "        [1]],\n",
       "\n",
       "       ...,\n",
       "\n",
       "       [[1],\n",
       "        [1],\n",
       "        [1],\n",
       "        ...,\n",
       "        [1],\n",
       "        [1],\n",
       "        [1]],\n",
       "\n",
       "       [[1],\n",
       "        [1],\n",
       "        [1],\n",
       "        ...,\n",
       "        [1],\n",
       "        [1],\n",
       "        [1]],\n",
       "\n",
       "       [[1],\n",
       "        [1],\n",
       "        [0],\n",
       "        ...,\n",
       "        [1],\n",
       "        [0],\n",
       "        [1]]], dtype=int32)>"
      ]
     },
     "execution_count": 84,
     "metadata": {},
     "output_type": "execute_result"
    }
   ],
   "source": [
    "# Mask refering to observations that do not change\n",
    "keep_mask = tf.expand_dims(1 - random_mask, -1)\n",
    "keep_mask"
   ]
  },
  {
   "cell_type": "code",
   "execution_count": null,
   "metadata": {},
   "outputs": [
    {
     "data": {
      "text/plain": [
       "<tf.Tensor: shape=(), dtype=int32, numpy=2>"
      ]
     },
     "execution_count": 85,
     "metadata": {},
     "output_type": "execute_result"
    }
   ],
   "source": [
    "input_shape[-1] - 1"
   ]
  },
  {
   "cell_type": "code",
   "execution_count": null,
   "metadata": {},
   "outputs": [
    {
     "data": {
      "text/plain": [
       "<tf.Tensor: shape=(14, 200, 2), dtype=int32, numpy=\n",
       "array([[[1, 1],\n",
       "        [1, 1],\n",
       "        [1, 1],\n",
       "        ...,\n",
       "        [1, 1],\n",
       "        [0, 0],\n",
       "        [1, 1]],\n",
       "\n",
       "       [[0, 0],\n",
       "        [1, 1],\n",
       "        [1, 1],\n",
       "        ...,\n",
       "        [1, 1],\n",
       "        [1, 1],\n",
       "        [1, 1]],\n",
       "\n",
       "       [[1, 1],\n",
       "        [1, 1],\n",
       "        [1, 1],\n",
       "        ...,\n",
       "        [0, 0],\n",
       "        [1, 1],\n",
       "        [1, 1]],\n",
       "\n",
       "       ...,\n",
       "\n",
       "       [[1, 1],\n",
       "        [1, 1],\n",
       "        [1, 1],\n",
       "        ...,\n",
       "        [1, 1],\n",
       "        [1, 1],\n",
       "        [1, 1]],\n",
       "\n",
       "       [[1, 1],\n",
       "        [1, 1],\n",
       "        [1, 1],\n",
       "        ...,\n",
       "        [1, 1],\n",
       "        [1, 1],\n",
       "        [1, 1]],\n",
       "\n",
       "       [[1, 1],\n",
       "        [1, 1],\n",
       "        [0, 0],\n",
       "        ...,\n",
       "        [1, 1],\n",
       "        [0, 0],\n",
       "        [1, 1]]], dtype=int32)>"
      ]
     },
     "execution_count": 86,
     "metadata": {},
     "output_type": "execute_result"
    }
   ],
   "source": [
    "keep_mask = tf.tile(keep_mask, [1, 1, input_shape[-1]-1])\n",
    "keep_mask"
   ]
  },
  {
   "cell_type": "code",
   "execution_count": null,
   "metadata": {},
   "outputs": [
    {
     "data": {
      "text/plain": [
       "<tf.Tensor: shape=(14, 200, 1), dtype=int32, numpy=\n",
       "array([[[0],\n",
       "        [0],\n",
       "        [0],\n",
       "        ...,\n",
       "        [0],\n",
       "        [0],\n",
       "        [0]],\n",
       "\n",
       "       [[0],\n",
       "        [0],\n",
       "        [0],\n",
       "        ...,\n",
       "        [0],\n",
       "        [0],\n",
       "        [0]],\n",
       "\n",
       "       [[0],\n",
       "        [0],\n",
       "        [0],\n",
       "        ...,\n",
       "        [0],\n",
       "        [0],\n",
       "        [0]],\n",
       "\n",
       "       ...,\n",
       "\n",
       "       [[0],\n",
       "        [0],\n",
       "        [0],\n",
       "        ...,\n",
       "        [0],\n",
       "        [0],\n",
       "        [0]],\n",
       "\n",
       "       [[0],\n",
       "        [0],\n",
       "        [0],\n",
       "        ...,\n",
       "        [0],\n",
       "        [0],\n",
       "        [0]],\n",
       "\n",
       "       [[0],\n",
       "        [0],\n",
       "        [0],\n",
       "        ...,\n",
       "        [0],\n",
       "        [0],\n",
       "        [0]]], dtype=int32)>"
      ]
     },
     "execution_count": 87,
     "metadata": {},
     "output_type": "execute_result"
    }
   ],
   "source": [
    "tf.zeros([input_shape[0], input_shape[1], 1], dtype=tf.int32)"
   ]
  },
  {
   "cell_type": "code",
   "execution_count": null,
   "metadata": {},
   "outputs": [
    {
     "data": {
      "text/plain": [
       "<tf.Tensor: shape=(14, 200, 3), dtype=int32, numpy=\n",
       "array([[[0, 1, 1],\n",
       "        [0, 1, 1],\n",
       "        [0, 1, 1],\n",
       "        ...,\n",
       "        [0, 1, 1],\n",
       "        [0, 0, 0],\n",
       "        [0, 1, 1]],\n",
       "\n",
       "       [[0, 0, 0],\n",
       "        [0, 1, 1],\n",
       "        [0, 1, 1],\n",
       "        ...,\n",
       "        [0, 1, 1],\n",
       "        [0, 1, 1],\n",
       "        [0, 1, 1]],\n",
       "\n",
       "       [[0, 1, 1],\n",
       "        [0, 1, 1],\n",
       "        [0, 1, 1],\n",
       "        ...,\n",
       "        [0, 0, 0],\n",
       "        [0, 1, 1],\n",
       "        [0, 1, 1]],\n",
       "\n",
       "       ...,\n",
       "\n",
       "       [[0, 1, 1],\n",
       "        [0, 1, 1],\n",
       "        [0, 1, 1],\n",
       "        ...,\n",
       "        [0, 1, 1],\n",
       "        [0, 1, 1],\n",
       "        [0, 1, 1]],\n",
       "\n",
       "       [[0, 1, 1],\n",
       "        [0, 1, 1],\n",
       "        [0, 1, 1],\n",
       "        ...,\n",
       "        [0, 1, 1],\n",
       "        [0, 1, 1],\n",
       "        [0, 1, 1]],\n",
       "\n",
       "       [[0, 1, 1],\n",
       "        [0, 1, 1],\n",
       "        [0, 0, 0],\n",
       "        ...,\n",
       "        [0, 1, 1],\n",
       "        [0, 0, 0],\n",
       "        [0, 1, 1]]], dtype=int32)>"
      ]
     },
     "execution_count": 88,
     "metadata": {},
     "output_type": "execute_result"
    }
   ],
   "source": [
    "keep_mask = tf.concat([tf.zeros([input_shape[0], input_shape[1], 1], dtype=tf.int32), keep_mask], 2)\n",
    "keep_mask"
   ]
  },
  {
   "cell_type": "code",
   "execution_count": null,
   "metadata": {},
   "outputs": [
    {
     "data": {
      "text/plain": [
       "<tf.Tensor: shape=(14, 200, 3), dtype=int32, numpy=\n",
       "array([[[1, 1, 1],\n",
       "        [1, 1, 1],\n",
       "        [1, 1, 1],\n",
       "        ...,\n",
       "        [1, 1, 1],\n",
       "        [1, 0, 0],\n",
       "        [1, 1, 1]],\n",
       "\n",
       "       [[1, 0, 0],\n",
       "        [1, 1, 1],\n",
       "        [1, 1, 1],\n",
       "        ...,\n",
       "        [1, 1, 1],\n",
       "        [1, 1, 1],\n",
       "        [1, 1, 1]],\n",
       "\n",
       "       [[1, 1, 1],\n",
       "        [1, 1, 1],\n",
       "        [1, 1, 1],\n",
       "        ...,\n",
       "        [1, 0, 0],\n",
       "        [1, 1, 1],\n",
       "        [1, 1, 1]],\n",
       "\n",
       "       ...,\n",
       "\n",
       "       [[1, 1, 1],\n",
       "        [1, 1, 1],\n",
       "        [1, 1, 1],\n",
       "        ...,\n",
       "        [1, 1, 1],\n",
       "        [1, 1, 1],\n",
       "        [1, 1, 1]],\n",
       "\n",
       "       [[1, 1, 1],\n",
       "        [1, 1, 1],\n",
       "        [1, 1, 1],\n",
       "        ...,\n",
       "        [1, 1, 1],\n",
       "        [1, 1, 1],\n",
       "        [1, 1, 1]],\n",
       "\n",
       "       [[1, 1, 1],\n",
       "        [1, 1, 1],\n",
       "        [1, 0, 0],\n",
       "        ...,\n",
       "        [1, 1, 1],\n",
       "        [1, 0, 0],\n",
       "        [1, 1, 1]]], dtype=int32)>"
      ]
     },
     "execution_count": 89,
     "metadata": {},
     "output_type": "execute_result"
    }
   ],
   "source": [
    "keep_mask = tf.abs([1, 0, 0] - keep_mask)\n",
    "keep_mask"
   ]
  },
  {
   "cell_type": "code",
   "execution_count": null,
   "metadata": {},
   "outputs": [
    {
     "data": {
      "text/plain": [
       "184"
      ]
     },
     "execution_count": 90,
     "metadata": {},
     "output_type": "execute_result"
    }
   ],
   "source": [
    "np.sum(keep_mask[0][:,1])"
   ]
  },
  {
   "cell_type": "code",
   "execution_count": null,
   "metadata": {},
   "outputs": [
    {
     "data": {
      "text/plain": [
       "<tf.Tensor: shape=(14, 200, 3), dtype=float32, numpy=\n",
       "array([[[-2.6617578e+02, -5.5631161e-02, -2.0884996e-02],\n",
       "        [-2.6527734e+02,  1.5836906e-01, -1.5884995e-02],\n",
       "        [-2.6414844e+02,  3.2368660e-02,  5.1150061e-03],\n",
       "        ...,\n",
       "        [ 2.7077344e+02, -3.7631035e-02, -1.8884996e-02],\n",
       "        [ 2.7179297e+02, -0.0000000e+00, -0.0000000e+00],\n",
       "        [ 2.7966406e+02,  1.8636894e-01, -1.9884996e-02]],\n",
       "\n",
       "       [[-3.5253906e+02, -0.0000000e+00, -0.0000000e+00],\n",
       "        [-3.4756641e+02, -1.4797544e-01,  3.5645012e-02],\n",
       "        [-3.4554297e+02,  1.2502480e-01,  2.6450083e-03],\n",
       "        ...,\n",
       "        [ 2.9165625e+02,  5.8024883e-02, -1.5354991e-02],\n",
       "        [ 2.9549219e+02, -2.5975227e-02, -1.6354991e-02],\n",
       "        [ 2.9651172e+02, -5.5975437e-02, -3.3549927e-03]],\n",
       "\n",
       "       [[-4.9218359e+02, -7.2044373e-02,  1.6059995e-02],\n",
       "        [-4.8922266e+02, -8.2044125e-02, -1.9400045e-03],\n",
       "        [-4.8826953e+02,  2.9955864e-02, -9.9400058e-03],\n",
       "        ...,\n",
       "        [ 5.8973438e+02,  0.0000000e+00,  0.0000000e+00],\n",
       "        [ 6.0473828e+02,  3.9956093e-02,  2.0599924e-03],\n",
       "        [ 6.1676953e+02, -6.5043926e-02,  7.0599951e-03]],\n",
       "\n",
       "       ...,\n",
       "\n",
       "       [[-1.9699219e+02,  5.3181648e-03,  4.2449962e-03],\n",
       "        [-1.9570703e+02, -2.6817322e-03,  1.2449957e-03],\n",
       "        [-1.9371094e+02,  5.6318283e-02,  4.1244995e-02],\n",
       "        ...,\n",
       "        [ 2.5629688e+02, -3.6816597e-03, -4.7550034e-03],\n",
       "        [ 2.6321094e+02, -3.2681942e-02, -8.7550040e-03],\n",
       "        [ 2.6419922e+02, -6.2681675e-02, -1.0755003e-02]],\n",
       "\n",
       "       [[-2.7599609e+02,  2.9764175e-03, -5.4999255e-04],\n",
       "        [-2.7011328e+02, -6.5023899e-02, -2.5499929e-03],\n",
       "        [-2.6395312e+02,  9.1976166e-02,  6.4500067e-03],\n",
       "        ...,\n",
       "        [ 2.6190625e+02, -1.1023998e-02,  3.0450005e-02],\n",
       "        [ 2.6482031e+02,  2.7976036e-02,  3.2450005e-02],\n",
       "        [ 2.6891016e+02,  1.3976097e-02, -2.5499929e-03]],\n",
       "\n",
       "       [[-5.0294141e+02,  1.6838074e-02, -8.4150052e-03],\n",
       "        [-5.0098828e+02,  2.5838375e-02, -4.4150054e-03],\n",
       "        [-4.9994922e+02, -0.0000000e+00, -0.0000000e+00],\n",
       "        ...,\n",
       "        [ 5.7401172e+02, -1.3161659e-02, -7.4150059e-03],\n",
       "        [ 5.7515234e+02,  0.0000000e+00, -0.0000000e+00],\n",
       "        [ 5.7701562e+02, -7.6161861e-02,  1.0584995e-02]]], dtype=float32)>"
      ]
     },
     "execution_count": 91,
     "metadata": {},
     "output_type": "execute_result"
    }
   ],
   "source": [
    "# Part of the input we mantain\n",
    "keep_input = lc_info_batches['input'] * tf.cast(keep_mask, tf.float32)\n",
    "keep_input"
   ]
  },
  {
   "cell_type": "code",
   "execution_count": null,
   "metadata": {},
   "outputs": [
    {
     "data": {
      "text/plain": [
       "<tf.Tensor: shape=(14, 200, 3), dtype=float32, numpy=\n",
       "array([[[-2.66175781e+02, -5.56311607e-02, -2.08849963e-02],\n",
       "        [-2.65277344e+02,  1.58369064e-01, -1.58849955e-02],\n",
       "        [-2.64148438e+02,  3.23686600e-02,  5.11500612e-03],\n",
       "        ...,\n",
       "        [ 2.70773438e+02, -3.76310349e-02, -1.88849960e-02],\n",
       "        [ 2.71792969e+02, -2.66313553e-02, -1.88849960e-02],\n",
       "        [ 2.79664062e+02,  1.86368942e-01, -1.98849961e-02]],\n",
       "\n",
       "       [[-3.52539062e+02, -5.69753647e-02, -2.33549904e-02],\n",
       "        [-3.47566406e+02, -1.47975445e-01,  3.56450118e-02],\n",
       "        [-3.45542969e+02,  1.25024796e-01,  2.64500827e-03],\n",
       "        ...,\n",
       "        [ 2.91656250e+02,  5.80248833e-02, -1.53549910e-02],\n",
       "        [ 2.95492188e+02, -2.59752274e-02, -1.63549911e-02],\n",
       "        [ 2.96511719e+02, -5.59754372e-02, -3.35499272e-03]],\n",
       "\n",
       "       [[-4.92183594e+02, -7.20443726e-02,  1.60599947e-02],\n",
       "        [-4.89222656e+02, -8.20441246e-02, -1.94000453e-03],\n",
       "        [-4.88269531e+02,  2.99558640e-02, -9.94000584e-03],\n",
       "        ...,\n",
       "        [ 5.89734375e+02, -1.09044075e-01, -1.79400053e-02],\n",
       "        [ 6.04738281e+02,  3.99560928e-02,  2.05999240e-03],\n",
       "        [ 6.16769531e+02, -6.50439262e-02,  7.05999509e-03]],\n",
       "\n",
       "       ...,\n",
       "\n",
       "       [[-1.96992188e+02,  5.31816483e-03,  4.24499623e-03],\n",
       "        [-1.95707031e+02, -2.68173218e-03,  1.24499574e-03],\n",
       "        [-1.93710938e+02,  5.63182831e-02,  4.12449948e-02],\n",
       "        ...,\n",
       "        [ 2.56296875e+02, -3.68165970e-03, -4.75500338e-03],\n",
       "        [ 2.63210938e+02, -3.26819420e-02, -8.75500403e-03],\n",
       "        [ 2.64199219e+02, -6.26816750e-02, -1.07550034e-02]],\n",
       "\n",
       "       [[-2.75996094e+02,  2.97641754e-03, -5.49992546e-04],\n",
       "        [-2.70113281e+02, -6.50238991e-02, -2.54999287e-03],\n",
       "        [-2.63953125e+02,  9.19761658e-02,  6.45000674e-03],\n",
       "        ...,\n",
       "        [ 2.61906250e+02, -1.10239983e-02,  3.04500051e-02],\n",
       "        [ 2.64820312e+02,  2.79760361e-02,  3.24500054e-02],\n",
       "        [ 2.68910156e+02,  1.39760971e-02, -2.54999287e-03]],\n",
       "\n",
       "       [[-5.02941406e+02,  1.68380737e-02, -8.41500517e-03],\n",
       "        [-5.00988281e+02,  2.58383751e-02, -4.41500545e-03],\n",
       "        [-4.99949219e+02,  3.28383446e-02, -3.41500528e-03],\n",
       "        ...,\n",
       "        [ 5.74011719e+02, -1.31616592e-02, -7.41500594e-03],\n",
       "        [ 5.75152344e+02,  8.83817673e-03, -6.41500577e-03],\n",
       "        [ 5.77015625e+02, -7.61618614e-02,  1.05849952e-02]]],\n",
       "      dtype=float32)>"
      ]
     },
     "execution_count": 92,
     "metadata": {},
     "output_type": "execute_result"
    }
   ],
   "source": [
    "# Replacing original input with the randomized one\n",
    "lc_info_batches['input']  = random_replacement + keep_input\n",
    "lc_info_batches['input'] "
   ]
  },
  {
   "cell_type": "code",
   "execution_count": null,
   "metadata": {},
   "outputs": [
    {
     "data": {
      "text/plain": [
       "<tf.Tensor: shape=(14, 200), dtype=bool, numpy=\n",
       "array([[False, False, False, ..., False,  True,  True],\n",
       "       [ True,  True, False, ..., False, False,  True],\n",
       "       [ True, False, False, ...,  True, False, False],\n",
       "       ...,\n",
       "       [ True,  True,  True, ..., False,  True, False],\n",
       "       [ True, False, False, ..., False, False, False],\n",
       "       [ True, False,  True, ..., False,  True, False]])>"
      ]
     },
     "execution_count": 93,
     "metadata": {},
     "output_type": "execute_result"
    }
   ],
   "source": [
    "# Attention mask is 1 when masked. \n",
    "# Random mask is 1 for masked observations selected to be randomized\n",
    "# then,\n",
    "att_mask    = tf.cast(lc_info_batches['att_mask'], tf.bool)\n",
    "att_mask"
   ]
  },
  {
   "cell_type": "code",
   "execution_count": null,
   "metadata": {},
   "outputs": [
    {
     "data": {
      "text/plain": [
       "<tf.Tensor: shape=(14, 200), dtype=bool, numpy=\n",
       "array([[False, False, False, ..., False,  True, False],\n",
       "       [ True, False, False, ..., False, False, False],\n",
       "       [False, False, False, ...,  True, False, False],\n",
       "       ...,\n",
       "       [False, False, False, ..., False, False, False],\n",
       "       [False, False, False, ..., False, False, False],\n",
       "       [False, False,  True, ..., False,  True, False]])>"
      ]
     },
     "execution_count": 94,
     "metadata": {},
     "output_type": "execute_result"
    }
   ],
   "source": [
    "random_mask = tf.cast(random_mask, tf.bool)\n",
    "random_mask"
   ]
  },
  {
   "cell_type": "code",
   "execution_count": null,
   "metadata": {},
   "outputs": [
    {
     "data": {
      "text/plain": [
       "<tf.Tensor: shape=(14, 200), dtype=bool, numpy=\n",
       "array([[False, False, False, ..., False, False, False],\n",
       "       [False, False, False, ..., False, False, False],\n",
       "       [False, False, False, ..., False, False, False],\n",
       "       ...,\n",
       "       [False, False,  True, ..., False,  True, False],\n",
       "       [False, False, False, ..., False, False, False],\n",
       "       [False, False, False, ..., False, False, False]])>"
      ]
     },
     "execution_count": 95,
     "metadata": {},
     "output_type": "execute_result"
    }
   ],
   "source": [
    "same_mask   = tf.cast(same_mask, tf.bool)\n",
    "same_mask"
   ]
  },
  {
   "cell_type": "code",
   "execution_count": null,
   "metadata": {},
   "outputs": [
    {
     "data": {
      "text/plain": [
       "<tf.Tensor: shape=(14, 200), dtype=bool, numpy=\n",
       "array([[False, False, False, ..., False,  True,  True],\n",
       "       [ True,  True, False, ..., False, False,  True],\n",
       "       [ True, False, False, ...,  True, False, False],\n",
       "       ...,\n",
       "       [ True,  True,  True, ..., False,  True, False],\n",
       "       [ True, False, False, ..., False, False, False],\n",
       "       [ True, False,  True, ..., False,  True, False]])>"
      ]
     },
     "execution_count": 96,
     "metadata": {},
     "output_type": "execute_result"
    }
   ],
   "source": [
    "att_mask"
   ]
  },
  {
   "cell_type": "code",
   "execution_count": null,
   "metadata": {},
   "outputs": [
    {
     "data": {
      "text/plain": [
       "<tf.Tensor: shape=(14, 200), dtype=bool, numpy=\n",
       "array([[False, False, False, ..., False,  True, False],\n",
       "       [ True, False, False, ..., False, False, False],\n",
       "       [False, False, False, ...,  True, False, False],\n",
       "       ...,\n",
       "       [False, False, False, ..., False, False, False],\n",
       "       [False, False, False, ..., False, False, False],\n",
       "       [False, False,  True, ..., False,  True, False]])>"
      ]
     },
     "execution_count": 97,
     "metadata": {},
     "output_type": "execute_result"
    }
   ],
   "source": [
    "random_mask"
   ]
  },
  {
   "cell_type": "code",
   "execution_count": null,
   "metadata": {},
   "outputs": [
    {
     "data": {
      "text/plain": [
       "<tf.Tensor: shape=(14, 200), dtype=bool, numpy=\n",
       "array([[False, False, False, ..., False, False,  True],\n",
       "       [False,  True, False, ..., False, False,  True],\n",
       "       [ True, False, False, ..., False, False, False],\n",
       "       ...,\n",
       "       [ True,  True,  True, ..., False,  True, False],\n",
       "       [ True, False, False, ..., False, False, False],\n",
       "       [ True, False, False, ..., False, False, False]])>"
      ]
     },
     "execution_count": 98,
     "metadata": {},
     "output_type": "execute_result"
    }
   ],
   "source": [
    "att_mask = tf.math.logical_xor(att_mask, random_mask)\n",
    "att_mask"
   ]
  },
  {
   "cell_type": "code",
   "execution_count": null,
   "metadata": {},
   "outputs": [
    {
     "data": {
      "text/plain": [
       "<tf.Tensor: shape=(14, 200), dtype=bool, numpy=\n",
       "array([[ True,  True,  True, ...,  True,  True,  True],\n",
       "       [ True,  True,  True, ...,  True,  True,  True],\n",
       "       [ True,  True,  True, ...,  True,  True,  True],\n",
       "       ...,\n",
       "       [ True,  True,  True, ...,  True,  True,  True],\n",
       "       [ True,  True,  True, ...,  True,  True,  True],\n",
       "       [ True,  True,  True, ...,  True,  True,  True]])>"
      ]
     },
     "execution_count": 99,
     "metadata": {},
     "output_type": "execute_result"
    }
   ],
   "source": [
    "## Innecesariamente lo mismo\n",
    "tf.cast(rest, tf.bool) == att_mask"
   ]
  },
  {
   "cell_type": "code",
   "execution_count": null,
   "metadata": {},
   "outputs": [
    {
     "data": {
      "text/plain": [
       "<tf.Tensor: shape=(14, 200), dtype=bool, numpy=\n",
       "array([[False, False, False, ..., False, False,  True],\n",
       "       [False,  True, False, ..., False, False,  True],\n",
       "       [ True, False, False, ..., False, False, False],\n",
       "       ...,\n",
       "       [ True,  True, False, ..., False, False, False],\n",
       "       [ True, False, False, ..., False, False, False],\n",
       "       [ True, False, False, ..., False, False, False]])>"
      ]
     },
     "execution_count": 100,
     "metadata": {},
     "output_type": "execute_result"
    }
   ],
   "source": [
    "att_mask = tf.math.logical_xor(att_mask, same_mask)\n",
    "att_mask"
   ]
  },
  {
   "cell_type": "code",
   "execution_count": null,
   "metadata": {},
   "outputs": [
    {
     "data": {
      "text/plain": [
       "dict_keys(['input', 'original', 'lcid', 'length', 'mask', 'label', 'probed_mask', 'att_mask', 'input_pre_nsp'])"
      ]
     },
     "execution_count": 101,
     "metadata": {},
     "output_type": "execute_result"
    }
   ],
   "source": [
    "lc_info_batches.keys()"
   ]
  },
  {
   "cell_type": "code",
   "execution_count": null,
   "metadata": {},
   "outputs": [
    {
     "data": {
      "text/plain": [
       "80.0"
      ]
     },
     "execution_count": 102,
     "metadata": {},
     "output_type": "execute_result"
    }
   ],
   "source": [
    "np.sum(lc_info_batches['att_mask'][0])"
   ]
  },
  {
   "cell_type": "code",
   "execution_count": null,
   "metadata": {},
   "outputs": [
    {
     "data": {
      "text/plain": [
       "<tf.Tensor: shape=(14, 200), dtype=float32, numpy=\n",
       "array([[0., 0., 0., ..., 0., 0., 1.],\n",
       "       [0., 1., 0., ..., 0., 0., 1.],\n",
       "       [1., 0., 0., ..., 0., 0., 0.],\n",
       "       ...,\n",
       "       [1., 1., 0., ..., 0., 0., 0.],\n",
       "       [1., 0., 0., ..., 0., 0., 0.],\n",
       "       [1., 0., 0., ..., 0., 0., 0.]], dtype=float32)>"
      ]
     },
     "execution_count": 103,
     "metadata": {},
     "output_type": "execute_result"
    }
   ],
   "source": [
    "lc_info_batches['att_mask'] = tf.cast(att_mask, tf.float32)\n",
    "lc_info_batches['att_mask'] "
   ]
  },
  {
   "cell_type": "code",
   "execution_count": null,
   "metadata": {},
   "outputs": [
    {
     "data": {
      "text/plain": [
       "51.0"
      ]
     },
     "execution_count": 104,
     "metadata": {},
     "output_type": "execute_result"
    }
   ],
   "source": [
    "np.sum(lc_info_batches['att_mask'][0])"
   ]
  },
  {
   "cell_type": "code",
   "execution_count": null,
   "metadata": {},
   "outputs": [
    {
     "name": "stdout",
     "output_type": "stream",
     "text": [
      "Numero de batch 0\n",
      "Numero de batch 1\n",
      "Numero de batch 2\n",
      "Numero de batch 3\n",
      "Numero de batch 4\n",
      "Numero de batch 5\n",
      "Numero de batch 6\n",
      "Numero de batch 7\n",
      "Numero de batch 8\n",
      "Numero de batch 9\n",
      "Numero de batch 10\n",
      "Numero de batch 11\n",
      "Numero de batch 12\n",
      "Numero de batch 13\n",
      "Numero de batch 14\n",
      "Numero de batch 15\n",
      "Numero de batch 16\n",
      "Numero de batch 17\n",
      "Numero de batch 18\n",
      "Numero de batch 19\n",
      "Numero de batch 20\n",
      "Numero de batch 21\n",
      "Numero de batch 22\n",
      "Encontramos la SNID\n",
      "Numero de batch 23\n",
      "Numero de batch 24\n"
     ]
    }
   ],
   "source": [
    "for batch, lc_info_batches in enumerate(dataset_random_mask):\n",
    "    print('Numero de batch {}'.format(batch))\n",
    "    \n",
    "    for snid, np_lc, mask_pad in zip(lc_info_batches['lcid'].numpy(), lc_info_batches['input'], lc_info_batches['mask']):\n",
    "        #np_lc = np_lc[np_lc[:,0].argsort()]\n",
    "\n",
    "        if snid == id_temporal:\n",
    "            print('Encontramos la SNID')\n",
    "            lc_temporal_padded = copy.deepcopy(np_lc)\n",
    "            mask_padded = copy.deepcopy(mask_pad)\n",
    "            lc_info_with_pad = copy.deepcopy(lc_info_batches)\n",
    "    \n",
    "        #print(lc_info['lcid'].numpy())\n",
    "       # id_temporal = lc_info['lcid'].numpy()  \n",
    "       # lc_temporal = copy.deepcopy(np_lc)"
   ]
  },
  {
   "cell_type": "code",
   "execution_count": null,
   "metadata": {},
   "outputs": [
    {
     "data": {
      "text/plain": [
       "70.0"
      ]
     },
     "execution_count": 106,
     "metadata": {},
     "output_type": "execute_result"
    }
   ],
   "source": [
    "np.sum(lc_info_with_pad['att_mask'][13])"
   ]
  },
  {
   "cell_type": "code",
   "execution_count": null,
   "metadata": {},
   "outputs": [
    {
     "data": {
      "text/plain": [
       "51.0"
      ]
     },
     "execution_count": 107,
     "metadata": {},
     "output_type": "execute_result"
    }
   ],
   "source": [
    "np.sum(lc_info_with_pad['att_mask'][12])"
   ]
  },
  {
   "cell_type": "code",
   "execution_count": null,
   "metadata": {},
   "outputs": [
    {
     "data": {
      "text/plain": [
       "76.0"
      ]
     },
     "execution_count": 108,
     "metadata": {},
     "output_type": "execute_result"
    }
   ],
   "source": [
    "np.sum(lc_info_with_pad['probed_mask'][13])"
   ]
  },
  {
   "cell_type": "code",
   "execution_count": null,
   "metadata": {},
   "outputs": [
    {
     "data": {
      "text/plain": [
       "<tf.Tensor: shape=(200,), dtype=float32, numpy=\n",
       "array([0., 1., 0., 1., 1., 1., 0., 0., 0., 1., 0., 1., 0., 1., 0., 1., 1.,\n",
       "       0., 0., 0., 0., 0., 0., 0., 0., 1., 0., 1., 0., 0., 0., 1., 0., 0.,\n",
       "       0., 0., 0., 0., 0., 0., 0., 0., 1., 1., 1., 0., 0., 1., 0., 0., 1.,\n",
       "       0., 1., 1., 0., 0., 1., 0., 0., 1., 0., 0., 1., 0., 1., 0., 0., 0.,\n",
       "       0., 0., 0., 0., 1., 0., 1., 0., 0., 0., 0., 1., 1., 0., 0., 0., 0.,\n",
       "       0., 0., 1., 1., 0., 0., 1., 0., 0., 0., 0., 0., 1., 0., 0., 0., 1.,\n",
       "       0., 0., 0., 0., 0., 0., 0., 0., 0., 1., 0., 1., 0., 0., 0., 0., 0.,\n",
       "       0., 1., 0., 0., 0., 0., 1., 0., 0., 0., 0., 0., 1., 0., 0., 0., 1.,\n",
       "       0., 0., 0., 0., 0., 1., 0., 0., 1., 1., 1., 0., 0., 0., 0., 0., 0.,\n",
       "       1., 0., 1., 0., 0., 0., 0., 0., 0., 1., 0., 0., 0., 0., 0., 0., 0.,\n",
       "       1., 0., 0., 0., 1., 1., 0., 0., 1., 1., 1., 1., 1., 1., 1., 1., 1.,\n",
       "       1., 1., 1., 1., 1., 1., 1., 1., 1., 1., 1., 1., 1.], dtype=float32)>"
      ]
     },
     "execution_count": 109,
     "metadata": {},
     "output_type": "execute_result"
    }
   ],
   "source": [
    "lc_info_with_pad['att_mask'][13]"
   ]
  },
  {
   "cell_type": "code",
   "execution_count": null,
   "metadata": {},
   "outputs": [
    {
     "data": {
      "text/plain": [
       "<tf.Tensor: shape=(200,), dtype=float32, numpy=\n",
       "array([1., 1., 0., 1., 1., 1., 1., 0., 0., 1., 0., 1., 0., 1., 0., 1., 1.,\n",
       "       1., 0., 1., 0., 1., 0., 0., 0., 1., 1., 1., 1., 0., 0., 1., 0., 0.,\n",
       "       0., 0., 1., 0., 0., 0., 0., 0., 1., 1., 1., 1., 0., 1., 0., 0., 1.,\n",
       "       0., 1., 1., 0., 1., 1., 0., 0., 1., 0., 0., 1., 0., 1., 0., 1., 0.,\n",
       "       0., 0., 0., 0., 1., 0., 1., 1., 0., 0., 0., 1., 1., 1., 0., 0., 0.,\n",
       "       0., 0., 1., 1., 1., 1., 1., 0., 0., 1., 0., 1., 1., 0., 0., 1., 1.,\n",
       "       1., 1., 0., 0., 0., 1., 0., 0., 0., 1., 0., 1., 0., 0., 0., 1., 0.,\n",
       "       0., 1., 0., 0., 0., 0., 1., 0., 0., 0., 1., 0., 1., 0., 1., 0., 1.,\n",
       "       1., 0., 0., 0., 0., 1., 0., 0., 1., 1., 1., 0., 0., 0., 0., 0., 0.,\n",
       "       1., 0., 1., 0., 0., 0., 0., 0., 0., 1., 0., 0., 0., 0., 1., 0., 0.,\n",
       "       1., 0., 1., 1., 1., 1., 0., 0., 0., 0., 0., 0., 0., 0., 0., 0., 0.,\n",
       "       0., 0., 0., 0., 0., 0., 0., 0., 0., 0., 0., 0., 0.], dtype=float32)>"
      ]
     },
     "execution_count": 110,
     "metadata": {},
     "output_type": "execute_result"
    }
   ],
   "source": [
    "lc_info_with_pad['probed_mask'][13]"
   ]
  },
  {
   "cell_type": "code",
   "execution_count": null,
   "metadata": {},
   "outputs": [
    {
     "data": {
      "text/plain": [
       "<tf.Tensor: shape=(200,), dtype=bool, numpy=\n",
       "array([False,  True,  True,  True,  True,  True, False,  True,  True,\n",
       "        True,  True,  True,  True,  True,  True,  True,  True, False,\n",
       "        True, False,  True, False,  True,  True,  True,  True, False,\n",
       "        True, False,  True,  True,  True,  True,  True,  True,  True,\n",
       "       False,  True,  True,  True,  True,  True,  True,  True,  True,\n",
       "       False,  True,  True,  True,  True,  True,  True,  True,  True,\n",
       "        True, False,  True,  True,  True,  True,  True,  True,  True,\n",
       "        True,  True,  True, False,  True,  True,  True,  True,  True,\n",
       "        True,  True,  True, False,  True,  True,  True,  True,  True,\n",
       "       False,  True,  True,  True,  True,  True,  True,  True, False,\n",
       "       False,  True,  True,  True, False,  True, False,  True,  True,\n",
       "        True, False,  True, False, False,  True,  True,  True, False,\n",
       "        True,  True,  True,  True,  True,  True,  True,  True,  True,\n",
       "       False,  True,  True,  True,  True,  True,  True,  True,  True,\n",
       "        True,  True,  True, False,  True,  True,  True, False,  True,\n",
       "        True, False,  True,  True,  True,  True,  True,  True,  True,\n",
       "        True,  True,  True,  True,  True,  True,  True,  True,  True,\n",
       "        True,  True,  True,  True,  True,  True,  True,  True,  True,\n",
       "        True,  True,  True,  True,  True, False,  True,  True,  True,\n",
       "        True, False, False,  True,  True,  True,  True, False, False,\n",
       "       False, False, False, False, False, False, False, False, False,\n",
       "       False, False, False, False, False, False, False, False, False,\n",
       "       False, False])>"
      ]
     },
     "execution_count": 111,
     "metadata": {},
     "output_type": "execute_result"
    }
   ],
   "source": [
    "lc_info_with_pad['att_mask'][13] == lc_info_with_pad['probed_mask'][13]"
   ]
  },
  {
   "cell_type": "code",
   "execution_count": null,
   "metadata": {},
   "outputs": [
    {
     "data": {
      "text/plain": [
       "40.0"
      ]
     },
     "execution_count": 112,
     "metadata": {},
     "output_type": "execute_result"
    }
   ],
   "source": [
    "200*0.2"
   ]
  },
  {
   "cell_type": "code",
   "execution_count": null,
   "metadata": {},
   "outputs": [
    {
     "data": {
      "text/plain": [
       "4.0"
      ]
     },
     "execution_count": 113,
     "metadata": {},
     "output_type": "execute_result"
    }
   ],
   "source": [
    "40*0.1"
   ]
  },
  {
   "cell_type": "code",
   "execution_count": null,
   "metadata": {},
   "outputs": [
    {
     "data": {
      "text/plain": [
       "3.6"
      ]
     },
     "execution_count": 114,
     "metadata": {},
     "output_type": "execute_result"
    }
   ],
   "source": [
    "36*0.1"
   ]
  },
  {
   "cell_type": "code",
   "execution_count": null,
   "metadata": {},
   "outputs": [],
   "source": [
    "def format_input_no_nsp(input_dict, num_cls=None, test_mode=False):\n",
    "    times = tf.slice(input_dict['input'], [0, 0, 0], [-1, -1, 1])  # input_dict['input'][0:-1, 0:-1, 0:1]\n",
    "    magnitudes = tf.slice(input_dict['input'], [0, 0, 1], [-1, -1, 1]) # input_dict['input'][0:-1, 0:-1, 1:1]\n",
    "    att_mask = tf.expand_dims(input_dict['att_mask'], axis=-1)\n",
    "\n",
    "    inputs = {\n",
    "        'magnitudes': magnitudes,\n",
    "        'times': times,\n",
    "        'att_mask': att_mask,\n",
    "    }\n",
    "    if test_mode:\n",
    "        print('[INFO] TESTING MODE')\n",
    "        inputs['original'] = input_dict['original']\n",
    "        inputs['mask'] = input_dict['mask']\n",
    "\n",
    "    if num_cls is not None:\n",
    "        outputs = tf.one_hot(input_dict['label'], num_cls)\n",
    "\n",
    "    else:\n",
    "        outputs = {\n",
    "            'magnitudes': tf.slice(input_dict['original'], [0, 0, 1], [-1, -1, 1]),\n",
    "            'probed_mask': tf.expand_dims(input_dict['probed_mask'], -1),\n",
    "        }\n",
    "\n",
    "    return inputs, outputs\n",
    "\n",
    "dataset_input = dataset_random_mask.map(lambda x: format_input_no_nsp(x, num_cls=num_cls, test_mode=test_mode))"
   ]
  },
  {
   "cell_type": "code",
   "execution_count": null,
   "metadata": {},
   "outputs": [
    {
     "name": "stdout",
     "output_type": "stream",
     "text": [
      "Numero de batch 0\n",
      "({'magnitudes': <tf.Tensor: shape=(16, 200, 1), dtype=float32, numpy=\n",
      "array([[[-0.01758671],\n",
      "        [ 0.00441313],\n",
      "        [-0.02958679],\n",
      "        ...,\n",
      "        [-0.06358671],\n",
      "        [-0.0045867 ],\n",
      "        [ 0.22541332]],\n",
      "\n",
      "       [[ 0.0615387 ],\n",
      "        [ 0.16353893],\n",
      "        [ 0.00153875],\n",
      "        ...,\n",
      "        [-0.09246111],\n",
      "        [ 0.17153883],\n",
      "        [-0.19946098]],\n",
      "\n",
      "       [[-0.25677538],\n",
      "        [ 0.10322428],\n",
      "        [ 0.05122423],\n",
      "        ...,\n",
      "        [ 0.12222433],\n",
      "        [-0.13177538],\n",
      "        [ 0.09822464]],\n",
      "\n",
      "       ...,\n",
      "\n",
      "       [[-0.1143198 ],\n",
      "        [ 0.04568005],\n",
      "        [-0.14432001],\n",
      "        ...,\n",
      "        [ 0.09768009],\n",
      "        [ 0.23867989],\n",
      "        [-0.04631996]],\n",
      "\n",
      "       [[ 0.15093136],\n",
      "        [ 0.19893122],\n",
      "        [-0.02106857],\n",
      "        ...,\n",
      "        [ 0.05293131],\n",
      "        [-0.10606861],\n",
      "        [-0.1560688 ]],\n",
      "\n",
      "       [[-0.05855036],\n",
      "        [-0.13255024],\n",
      "        [ 0.16544962],\n",
      "        ...,\n",
      "        [ 0.11444998],\n",
      "        [-0.35855007],\n",
      "        [ 0.06544971]]], dtype=float32)>, 'times': <tf.Tensor: shape=(16, 200, 1), dtype=float32, numpy=\n",
      "array([[[-246.88672],\n",
      "        [-245.66797],\n",
      "        [-244.875  ],\n",
      "        ...,\n",
      "        [ 293.07812],\n",
      "        [ 294.08984],\n",
      "        [ 296.0547 ]],\n",
      "\n",
      "       [[-343.125  ],\n",
      "        [-342.16016],\n",
      "        [-341.10156],\n",
      "        ...,\n",
      "        [ 395.83594],\n",
      "        [ 396.84766],\n",
      "        [ 401.8164 ]],\n",
      "\n",
      "       [[-427.6875 ],\n",
      "        [-423.6914 ],\n",
      "        [-421.72266],\n",
      "        ...,\n",
      "        [ 620.27734],\n",
      "        [ 638.3047 ],\n",
      "        [ 642.33594]],\n",
      "\n",
      "       ...,\n",
      "\n",
      "       [[-185.97266],\n",
      "        [-183.70312],\n",
      "        [-177.9961 ],\n",
      "        ...,\n",
      "        [ 214.04688],\n",
      "        [ 219.04688],\n",
      "        [ 221.0586 ]],\n",
      "\n",
      "       [[-354.90234],\n",
      "        [-353.8086 ],\n",
      "        [-352.8672 ],\n",
      "        ...,\n",
      "        [ 301.28906],\n",
      "        [ 307.13672],\n",
      "        [ 311.15625]],\n",
      "\n",
      "       [[-490.98438],\n",
      "        [-485.88672],\n",
      "        [-483.9336 ],\n",
      "        ...,\n",
      "        [ 788.3281 ],\n",
      "        [ 808.3008 ],\n",
      "        [ 817.2344 ]]], dtype=float32)>, 'att_mask': <tf.Tensor: shape=(16, 200, 1), dtype=float32, numpy=\n",
      "array([[[1.],\n",
      "        [1.],\n",
      "        [0.],\n",
      "        ...,\n",
      "        [0.],\n",
      "        [0.],\n",
      "        [0.]],\n",
      "\n",
      "       [[0.],\n",
      "        [0.],\n",
      "        [0.],\n",
      "        ...,\n",
      "        [0.],\n",
      "        [0.],\n",
      "        [1.]],\n",
      "\n",
      "       [[0.],\n",
      "        [1.],\n",
      "        [0.],\n",
      "        ...,\n",
      "        [0.],\n",
      "        [0.],\n",
      "        [0.]],\n",
      "\n",
      "       ...,\n",
      "\n",
      "       [[0.],\n",
      "        [1.],\n",
      "        [1.],\n",
      "        ...,\n",
      "        [0.],\n",
      "        [0.],\n",
      "        [1.]],\n",
      "\n",
      "       [[0.],\n",
      "        [0.],\n",
      "        [0.],\n",
      "        ...,\n",
      "        [0.],\n",
      "        [0.],\n",
      "        [0.]],\n",
      "\n",
      "       [[0.],\n",
      "        [1.],\n",
      "        [0.],\n",
      "        ...,\n",
      "        [0.],\n",
      "        [0.],\n",
      "        [0.]]], dtype=float32)>}, {'magnitudes': <tf.Tensor: shape=(16, 200, 1), dtype=float32, numpy=\n",
      "array([[[-0.01758671],\n",
      "        [ 0.00441313],\n",
      "        [-0.02958679],\n",
      "        ...,\n",
      "        [-0.06358671],\n",
      "        [-0.0045867 ],\n",
      "        [ 0.22541332]],\n",
      "\n",
      "       [[ 0.0615387 ],\n",
      "        [ 0.16353893],\n",
      "        [ 0.00153875],\n",
      "        ...,\n",
      "        [-0.09246111],\n",
      "        [ 0.17153883],\n",
      "        [-0.19946098]],\n",
      "\n",
      "       [[-0.25677538],\n",
      "        [ 0.10322428],\n",
      "        [ 0.05122423],\n",
      "        ...,\n",
      "        [ 0.12222433],\n",
      "        [-0.13177538],\n",
      "        [ 0.09822464]],\n",
      "\n",
      "       ...,\n",
      "\n",
      "       [[-0.1143198 ],\n",
      "        [ 0.04568005],\n",
      "        [-0.14432001],\n",
      "        ...,\n",
      "        [ 0.09768009],\n",
      "        [ 0.23867989],\n",
      "        [-0.04631996]],\n",
      "\n",
      "       [[ 0.15093136],\n",
      "        [ 0.19893122],\n",
      "        [-0.02106857],\n",
      "        ...,\n",
      "        [ 0.05293131],\n",
      "        [-0.10606861],\n",
      "        [-0.1560688 ]],\n",
      "\n",
      "       [[-0.05855036],\n",
      "        [-0.13255024],\n",
      "        [ 0.16544962],\n",
      "        ...,\n",
      "        [ 0.11444998],\n",
      "        [-0.35855007],\n",
      "        [ 0.06544971]]], dtype=float32)>, 'probed_mask': <tf.Tensor: shape=(16, 200, 1), dtype=float32, numpy=\n",
      "array([[[1.],\n",
      "        [1.],\n",
      "        [0.],\n",
      "        ...,\n",
      "        [0.],\n",
      "        [1.],\n",
      "        [0.]],\n",
      "\n",
      "       [[0.],\n",
      "        [0.],\n",
      "        [0.],\n",
      "        ...,\n",
      "        [1.],\n",
      "        [0.],\n",
      "        [1.]],\n",
      "\n",
      "       [[0.],\n",
      "        [1.],\n",
      "        [0.],\n",
      "        ...,\n",
      "        [0.],\n",
      "        [0.],\n",
      "        [0.]],\n",
      "\n",
      "       ...,\n",
      "\n",
      "       [[0.],\n",
      "        [1.],\n",
      "        [1.],\n",
      "        ...,\n",
      "        [0.],\n",
      "        [0.],\n",
      "        [1.]],\n",
      "\n",
      "       [[0.],\n",
      "        [0.],\n",
      "        [0.],\n",
      "        ...,\n",
      "        [0.],\n",
      "        [0.],\n",
      "        [0.]],\n",
      "\n",
      "       [[0.],\n",
      "        [1.],\n",
      "        [0.],\n",
      "        ...,\n",
      "        [0.],\n",
      "        [0.],\n",
      "        [0.]]], dtype=float32)>})\n"
     ]
    }
   ],
   "source": [
    "for batch, lc_info_batches in enumerate(dataset_input):\n",
    "    print('Numero de batch {}'.format(batch))\n",
    "    print(lc_info_batches)\n",
    "\n",
    "    break\n",
    "    \n",
    "    for snid, np_lc in zip(lc_info_batches['lcid'].numpy(), lc_info_batches['input']):\n",
    "        #np_lc = np_lc[np_lc[:,0].argsort()]\n",
    "\n",
    "        if snid == id_temporal:\n",
    "            print('Encontramos la SNID')\n",
    "            lc_temporal_padded = copy.deepcopy(np_lc)"
   ]
  },
  {
   "cell_type": "code",
   "execution_count": null,
   "metadata": {},
   "outputs": [
    {
     "name": "stdout",
     "output_type": "stream",
     "text": [
      "dict_keys(['magnitudes', 'times', 'att_mask'])\n",
      "dict_keys(['magnitudes', 'probed_mask'])\n"
     ]
    }
   ],
   "source": [
    "dict_input_lc = lc_info_batches[0]\n",
    "dict_output_lc = lc_info_batches[1]\n",
    "\n",
    "print(dict_input_lc.keys())\n",
    "print(dict_output_lc.keys())"
   ]
  },
  {
   "cell_type": "code",
   "execution_count": null,
   "metadata": {},
   "outputs": [
    {
     "data": {
      "text/plain": [
       "<tf.Tensor: shape=(200, 1), dtype=bool, numpy=\n",
       "array([[False],\n",
       "       [False],\n",
       "       [ True],\n",
       "       [False],\n",
       "       [False],\n",
       "       [False],\n",
       "       [ True],\n",
       "       [False],\n",
       "       [ True],\n",
       "       [ True],\n",
       "       [ True],\n",
       "       [ True],\n",
       "       [ True],\n",
       "       [False],\n",
       "       [False],\n",
       "       [ True],\n",
       "       [ True],\n",
       "       [False],\n",
       "       [False],\n",
       "       [ True],\n",
       "       [ True],\n",
       "       [ True],\n",
       "       [ True],\n",
       "       [False],\n",
       "       [ True],\n",
       "       [False],\n",
       "       [ True],\n",
       "       [ True],\n",
       "       [ True],\n",
       "       [ True],\n",
       "       [ True],\n",
       "       [ True],\n",
       "       [ True],\n",
       "       [ True],\n",
       "       [ True],\n",
       "       [ True],\n",
       "       [ True],\n",
       "       [ True],\n",
       "       [ True],\n",
       "       [ True],\n",
       "       [ True],\n",
       "       [ True],\n",
       "       [ True],\n",
       "       [ True],\n",
       "       [False],\n",
       "       [ True],\n",
       "       [ True],\n",
       "       [ True],\n",
       "       [ True],\n",
       "       [False],\n",
       "       [ True],\n",
       "       [False],\n",
       "       [False],\n",
       "       [ True],\n",
       "       [ True],\n",
       "       [ True],\n",
       "       [False],\n",
       "       [ True],\n",
       "       [ True],\n",
       "       [False],\n",
       "       [False],\n",
       "       [False],\n",
       "       [ True],\n",
       "       [ True],\n",
       "       [ True],\n",
       "       [False],\n",
       "       [False],\n",
       "       [ True],\n",
       "       [ True],\n",
       "       [ True],\n",
       "       [ True],\n",
       "       [ True],\n",
       "       [ True],\n",
       "       [ True],\n",
       "       [False],\n",
       "       [False],\n",
       "       [ True],\n",
       "       [ True],\n",
       "       [False],\n",
       "       [False],\n",
       "       [ True],\n",
       "       [ True],\n",
       "       [False],\n",
       "       [ True],\n",
       "       [ True],\n",
       "       [False],\n",
       "       [ True],\n",
       "       [False],\n",
       "       [ True],\n",
       "       [ True],\n",
       "       [ True],\n",
       "       [ True],\n",
       "       [ True],\n",
       "       [ True],\n",
       "       [False],\n",
       "       [ True],\n",
       "       [False],\n",
       "       [ True],\n",
       "       [ True],\n",
       "       [ True],\n",
       "       [ True],\n",
       "       [False],\n",
       "       [ True],\n",
       "       [False],\n",
       "       [ True],\n",
       "       [ True],\n",
       "       [False],\n",
       "       [ True],\n",
       "       [False],\n",
       "       [False],\n",
       "       [ True],\n",
       "       [False],\n",
       "       [ True],\n",
       "       [ True],\n",
       "       [ True],\n",
       "       [ True],\n",
       "       [ True],\n",
       "       [ True],\n",
       "       [ True],\n",
       "       [False],\n",
       "       [ True],\n",
       "       [False],\n",
       "       [ True],\n",
       "       [False],\n",
       "       [ True],\n",
       "       [ True],\n",
       "       [ True],\n",
       "       [ True],\n",
       "       [ True],\n",
       "       [ True],\n",
       "       [ True],\n",
       "       [ True],\n",
       "       [False],\n",
       "       [ True],\n",
       "       [False],\n",
       "       [ True],\n",
       "       [ True],\n",
       "       [ True],\n",
       "       [False],\n",
       "       [ True],\n",
       "       [ True],\n",
       "       [False],\n",
       "       [False],\n",
       "       [ True],\n",
       "       [ True],\n",
       "       [False],\n",
       "       [ True],\n",
       "       [False],\n",
       "       [False],\n",
       "       [False],\n",
       "       [False],\n",
       "       [ True],\n",
       "       [ True],\n",
       "       [False],\n",
       "       [ True],\n",
       "       [ True],\n",
       "       [False],\n",
       "       [False],\n",
       "       [ True],\n",
       "       [False],\n",
       "       [ True],\n",
       "       [False],\n",
       "       [False],\n",
       "       [ True],\n",
       "       [ True],\n",
       "       [ True],\n",
       "       [False],\n",
       "       [ True],\n",
       "       [ True],\n",
       "       [ True],\n",
       "       [False],\n",
       "       [False],\n",
       "       [False],\n",
       "       [False],\n",
       "       [ True],\n",
       "       [False],\n",
       "       [ True],\n",
       "       [False],\n",
       "       [ True],\n",
       "       [ True],\n",
       "       [ True],\n",
       "       [ True],\n",
       "       [False],\n",
       "       [False],\n",
       "       [False],\n",
       "       [False],\n",
       "       [False],\n",
       "       [False],\n",
       "       [ True],\n",
       "       [ True],\n",
       "       [ True],\n",
       "       [False],\n",
       "       [ True],\n",
       "       [ True],\n",
       "       [ True],\n",
       "       [False],\n",
       "       [ True],\n",
       "       [ True],\n",
       "       [ True],\n",
       "       [False]])>"
      ]
     },
     "execution_count": 118,
     "metadata": {},
     "output_type": "execute_result"
    }
   ],
   "source": [
    "dict_input_lc['att_mask'][0] == dict_input_lc['att_mask'][1]"
   ]
  },
  {
   "cell_type": "code",
   "execution_count": null,
   "metadata": {},
   "outputs": [
    {
     "data": {
      "text/plain": [
       "<tf.Tensor: shape=(200, 1), dtype=float32, numpy=\n",
       "array([[1.],\n",
       "       [1.],\n",
       "       [0.],\n",
       "       [1.],\n",
       "       [0.],\n",
       "       [0.],\n",
       "       [0.],\n",
       "       [0.],\n",
       "       [0.],\n",
       "       [1.],\n",
       "       [0.],\n",
       "       [0.],\n",
       "       [1.],\n",
       "       [0.],\n",
       "       [0.],\n",
       "       [0.],\n",
       "       [1.],\n",
       "       [0.],\n",
       "       [1.],\n",
       "       [0.],\n",
       "       [0.],\n",
       "       [0.],\n",
       "       [0.],\n",
       "       [0.],\n",
       "       [0.],\n",
       "       [1.],\n",
       "       [0.],\n",
       "       [0.],\n",
       "       [0.],\n",
       "       [0.],\n",
       "       [0.],\n",
       "       [0.],\n",
       "       [0.],\n",
       "       [0.],\n",
       "       [0.],\n",
       "       [0.],\n",
       "       [0.],\n",
       "       [0.],\n",
       "       [0.],\n",
       "       [0.],\n",
       "       [0.],\n",
       "       [0.],\n",
       "       [0.],\n",
       "       [0.],\n",
       "       [1.],\n",
       "       [0.],\n",
       "       [0.],\n",
       "       [0.],\n",
       "       [0.],\n",
       "       [1.],\n",
       "       [0.],\n",
       "       [0.],\n",
       "       [1.],\n",
       "       [0.],\n",
       "       [0.],\n",
       "       [0.],\n",
       "       [1.],\n",
       "       [1.],\n",
       "       [0.],\n",
       "       [1.],\n",
       "       [1.],\n",
       "       [0.],\n",
       "       [1.],\n",
       "       [0.],\n",
       "       [0.],\n",
       "       [0.],\n",
       "       [1.],\n",
       "       [0.],\n",
       "       [1.],\n",
       "       [0.],\n",
       "       [0.],\n",
       "       [0.],\n",
       "       [0.],\n",
       "       [0.],\n",
       "       [1.],\n",
       "       [0.],\n",
       "       [0.],\n",
       "       [0.],\n",
       "       [0.],\n",
       "       [1.],\n",
       "       [0.],\n",
       "       [0.],\n",
       "       [1.],\n",
       "       [1.],\n",
       "       [1.],\n",
       "       [1.],\n",
       "       [0.],\n",
       "       [1.],\n",
       "       [0.],\n",
       "       [0.],\n",
       "       [0.],\n",
       "       [0.],\n",
       "       [1.],\n",
       "       [0.],\n",
       "       [1.],\n",
       "       [0.],\n",
       "       [0.],\n",
       "       [0.],\n",
       "       [0.],\n",
       "       [0.],\n",
       "       [0.],\n",
       "       [1.],\n",
       "       [0.],\n",
       "       [0.],\n",
       "       [0.],\n",
       "       [0.],\n",
       "       [1.],\n",
       "       [0.],\n",
       "       [1.],\n",
       "       [1.],\n",
       "       [0.],\n",
       "       [1.],\n",
       "       [0.],\n",
       "       [0.],\n",
       "       [0.],\n",
       "       [0.],\n",
       "       [0.],\n",
       "       [1.],\n",
       "       [0.],\n",
       "       [1.],\n",
       "       [0.],\n",
       "       [1.],\n",
       "       [0.],\n",
       "       [0.],\n",
       "       [0.],\n",
       "       [0.],\n",
       "       [0.],\n",
       "       [0.],\n",
       "       [0.],\n",
       "       [0.],\n",
       "       [0.],\n",
       "       [0.],\n",
       "       [0.],\n",
       "       [0.],\n",
       "       [1.],\n",
       "       [0.],\n",
       "       [0.],\n",
       "       [0.],\n",
       "       [0.],\n",
       "       [0.],\n",
       "       [0.],\n",
       "       [1.],\n",
       "       [0.],\n",
       "       [0.],\n",
       "       [1.],\n",
       "       [0.],\n",
       "       [0.],\n",
       "       [1.],\n",
       "       [1.],\n",
       "       [0.],\n",
       "       [0.],\n",
       "       [0.],\n",
       "       [0.],\n",
       "       [0.],\n",
       "       [0.],\n",
       "       [0.],\n",
       "       [1.],\n",
       "       [1.],\n",
       "       [0.],\n",
       "       [0.],\n",
       "       [0.],\n",
       "       [1.],\n",
       "       [0.],\n",
       "       [1.],\n",
       "       [1.],\n",
       "       [1.],\n",
       "       [1.],\n",
       "       [0.],\n",
       "       [0.],\n",
       "       [0.],\n",
       "       [1.],\n",
       "       [0.],\n",
       "       [0.],\n",
       "       [0.],\n",
       "       [0.],\n",
       "       [1.],\n",
       "       [0.],\n",
       "       [0.],\n",
       "       [1.],\n",
       "       [0.],\n",
       "       [0.],\n",
       "       [0.],\n",
       "       [0.],\n",
       "       [0.],\n",
       "       [0.],\n",
       "       [1.],\n",
       "       [0.],\n",
       "       [0.],\n",
       "       [0.],\n",
       "       [0.],\n",
       "       [0.],\n",
       "       [0.],\n",
       "       [0.],\n",
       "       [0.],\n",
       "       [0.],\n",
       "       [0.],\n",
       "       [0.],\n",
       "       [0.],\n",
       "       [0.],\n",
       "       [0.]], dtype=float32)>"
      ]
     },
     "execution_count": 119,
     "metadata": {},
     "output_type": "execute_result"
    }
   ],
   "source": [
    "dict_input_lc['att_mask'][0]"
   ]
  },
  {
   "cell_type": "code",
   "execution_count": null,
   "metadata": {},
   "outputs": [
    {
     "data": {
      "text/plain": [
       "<tf.Tensor: shape=(16, 200, 1), dtype=float32, numpy=\n",
       "array([[[1.],\n",
       "        [1.],\n",
       "        [0.],\n",
       "        ...,\n",
       "        [0.],\n",
       "        [0.],\n",
       "        [0.]],\n",
       "\n",
       "       [[0.],\n",
       "        [0.],\n",
       "        [0.],\n",
       "        ...,\n",
       "        [0.],\n",
       "        [0.],\n",
       "        [1.]],\n",
       "\n",
       "       [[0.],\n",
       "        [1.],\n",
       "        [0.],\n",
       "        ...,\n",
       "        [0.],\n",
       "        [0.],\n",
       "        [0.]],\n",
       "\n",
       "       ...,\n",
       "\n",
       "       [[0.],\n",
       "        [1.],\n",
       "        [1.],\n",
       "        ...,\n",
       "        [0.],\n",
       "        [0.],\n",
       "        [1.]],\n",
       "\n",
       "       [[0.],\n",
       "        [0.],\n",
       "        [0.],\n",
       "        ...,\n",
       "        [0.],\n",
       "        [0.],\n",
       "        [0.]],\n",
       "\n",
       "       [[0.],\n",
       "        [1.],\n",
       "        [0.],\n",
       "        ...,\n",
       "        [0.],\n",
       "        [0.],\n",
       "        [0.]]], dtype=float32)>"
      ]
     },
     "execution_count": 120,
     "metadata": {},
     "output_type": "execute_result"
    }
   ],
   "source": [
    "dict_input_lc['att_mask']"
   ]
  },
  {
   "cell_type": "code",
   "execution_count": null,
   "metadata": {},
   "outputs": [
    {
     "data": {
      "text/plain": [
       "<tf.Tensor: shape=(14, 200, 1), dtype=float32, numpy=\n",
       "array([[[0.],\n",
       "        [0.],\n",
       "        [0.],\n",
       "        ...,\n",
       "        [0.],\n",
       "        [1.],\n",
       "        [0.]],\n",
       "\n",
       "       [[1.],\n",
       "        [0.],\n",
       "        [0.],\n",
       "        ...,\n",
       "        [1.],\n",
       "        [0.],\n",
       "        [0.]],\n",
       "\n",
       "       [[0.],\n",
       "        [0.],\n",
       "        [0.],\n",
       "        ...,\n",
       "        [0.],\n",
       "        [0.],\n",
       "        [0.]],\n",
       "\n",
       "       ...,\n",
       "\n",
       "       [[0.],\n",
       "        [1.],\n",
       "        [0.],\n",
       "        ...,\n",
       "        [1.],\n",
       "        [0.],\n",
       "        [0.]],\n",
       "\n",
       "       [[1.],\n",
       "        [0.],\n",
       "        [0.],\n",
       "        ...,\n",
       "        [1.],\n",
       "        [1.],\n",
       "        [0.]],\n",
       "\n",
       "       [[1.],\n",
       "        [0.],\n",
       "        [0.],\n",
       "        ...,\n",
       "        [1.],\n",
       "        [0.],\n",
       "        [0.]]], dtype=float32)>"
      ]
     },
     "execution_count": 101,
     "metadata": {},
     "output_type": "execute_result"
    }
   ],
   "source": [
    "tf.expand_dims(lc_info_batches['att_mask'], axis=-1)"
   ]
  },
  {
   "cell_type": "code",
   "execution_count": null,
   "metadata": {},
   "outputs": [
    {
     "data": {
      "text/plain": [
       "<_ShuffleDataset element_spec=({'magnitudes': TensorSpec(shape=(None, 200, 1), dtype=tf.float32, name=None), 'times': TensorSpec(shape=(None, 200, 1), dtype=tf.float32, name=None), 'att_mask': TensorSpec(shape=(None, 200, 1), dtype=tf.float32, name=None)}, {'magnitudes': TensorSpec(shape=(None, 200, 1), dtype=tf.float32, name=None), 'probed_mask': TensorSpec(shape=(None, 200, 1), dtype=tf.float32, name=None)})>"
      ]
     },
     "execution_count": 102,
     "metadata": {},
     "output_type": "execute_result"
    }
   ],
   "source": [
    "SHUFFLE_BUFFER = 10000\n",
    "dataset_input = dataset_input.shuffle(SHUFFLE_BUFFER)\n",
    "dataset_input"
   ]
  },
  {
   "cell_type": "code",
   "execution_count": null,
   "metadata": {},
   "outputs": [
    {
     "data": {
      "text/plain": [
       "<_PrefetchDataset element_spec=({'magnitudes': TensorSpec(shape=(None, 200, 1), dtype=tf.float32, name=None), 'times': TensorSpec(shape=(None, 200, 1), dtype=tf.float32, name=None), 'att_mask': TensorSpec(shape=(None, 200, 1), dtype=tf.float32, name=None)}, {'magnitudes': TensorSpec(shape=(None, 200, 1), dtype=tf.float32, name=None), 'probed_mask': TensorSpec(shape=(None, 200, 1), dtype=tf.float32, name=None)})>"
      ]
     },
     "execution_count": 103,
     "metadata": {},
     "output_type": "execute_result"
    }
   ],
   "source": [
    "dataset_input = dataset_input.prefetch(2)\n",
    "dataset_input"
   ]
  },
  {
   "cell_type": "code",
   "execution_count": null,
   "metadata": {},
   "outputs": [
    {
     "name": "stdout",
     "output_type": "stream",
     "text": [
      "Numero de batch 0\n",
      "({'magnitudes': <tf.Tensor: shape=(16, 200, 1), dtype=float32, numpy=\n",
      "array([[[-0.03971672],\n",
      "        [ 0.08628321],\n",
      "        [-0.37771654],\n",
      "        ...,\n",
      "        [ 0.23528337],\n",
      "        [ 0.04128361],\n",
      "        [ 0.20028353]],\n",
      "\n",
      "       [[ 0.0513587 ],\n",
      "        [-0.01664162],\n",
      "        [-0.05264139],\n",
      "        ...,\n",
      "        [ 0.15635872],\n",
      "        [-0.1696415 ],\n",
      "        [-0.07564116]],\n",
      "\n",
      "       [[-0.27462006],\n",
      "        [ 0.2023797 ],\n",
      "        [ 0.20337963],\n",
      "        ...,\n",
      "        [ 0.13537979],\n",
      "        [ 0.14737988],\n",
      "        [ 0.13238001]],\n",
      "\n",
      "       ...,\n",
      "\n",
      "       [[-0.1050725 ],\n",
      "        [ 0.10392761],\n",
      "        [-0.11707258],\n",
      "        ...,\n",
      "        [ 0.10592747],\n",
      "        [-0.04107285],\n",
      "        [-0.06407261]],\n",
      "\n",
      "       [[ 0.20767021],\n",
      "        [ 0.11067057],\n",
      "        [ 0.06767035],\n",
      "        ...,\n",
      "        [-0.06532955],\n",
      "        [ 0.1866703 ],\n",
      "        [-0.12732935]],\n",
      "\n",
      "       [[-0.06105042],\n",
      "        [ 0.03894997],\n",
      "        [-0.20905018],\n",
      "        ...,\n",
      "        [-0.07805014],\n",
      "        [-0.04305029],\n",
      "        [-0.14605045]]], dtype=float32)>, 'times': <tf.Tensor: shape=(16, 200, 1), dtype=float32, numpy=\n",
      "array([[[-484.39062],\n",
      "        [-476.40234],\n",
      "        [-468.375  ],\n",
      "        ...,\n",
      "        [ 705.5078 ],\n",
      "        [ 714.41016],\n",
      "        [ 717.41797]],\n",
      "\n",
      "       [[-657.2656 ],\n",
      "        [-657.2578 ],\n",
      "        [-657.25   ],\n",
      "        ...,\n",
      "        [ 790.7539 ],\n",
      "        [ 802.79297],\n",
      "        [ 806.7617 ]],\n",
      "\n",
      "       [[-335.77734],\n",
      "        [-292.76953],\n",
      "        [-291.8125 ],\n",
      "        ...,\n",
      "        [ 334.9961 ],\n",
      "        [ 336.01953],\n",
      "        [ 336.98438]],\n",
      "\n",
      "       ...,\n",
      "\n",
      "       [[-322.11328],\n",
      "        [-322.03125],\n",
      "        [-321.96094],\n",
      "        ...,\n",
      "        [ 365.16406],\n",
      "        [ 365.98828],\n",
      "        [ 366.16016]],\n",
      "\n",
      "       [[-421.0703 ],\n",
      "        [-407.07812],\n",
      "        [-406.91406],\n",
      "        ...,\n",
      "        [ 378.79297],\n",
      "        [ 379.03906],\n",
      "        [ 379.83594]],\n",
      "\n",
      "       [[-526.6133 ],\n",
      "        [-525.625  ],\n",
      "        [-523.6172 ],\n",
      "        ...,\n",
      "        [ 669.6914 ],\n",
      "        [ 672.6289 ],\n",
      "        [ 773.7461 ]]], dtype=float32)>, 'att_mask': <tf.Tensor: shape=(16, 200, 1), dtype=float32, numpy=\n",
      "array([[[0.],\n",
      "        [1.],\n",
      "        [0.],\n",
      "        ...,\n",
      "        [1.],\n",
      "        [1.],\n",
      "        [0.]],\n",
      "\n",
      "       [[1.],\n",
      "        [0.],\n",
      "        [0.],\n",
      "        ...,\n",
      "        [1.],\n",
      "        [0.],\n",
      "        [0.]],\n",
      "\n",
      "       [[0.],\n",
      "        [0.],\n",
      "        [0.],\n",
      "        ...,\n",
      "        [0.],\n",
      "        [1.],\n",
      "        [1.]],\n",
      "\n",
      "       ...,\n",
      "\n",
      "       [[0.],\n",
      "        [0.],\n",
      "        [0.],\n",
      "        ...,\n",
      "        [0.],\n",
      "        [1.],\n",
      "        [0.]],\n",
      "\n",
      "       [[0.],\n",
      "        [0.],\n",
      "        [0.],\n",
      "        ...,\n",
      "        [0.],\n",
      "        [0.],\n",
      "        [0.]],\n",
      "\n",
      "       [[0.],\n",
      "        [0.],\n",
      "        [1.],\n",
      "        ...,\n",
      "        [0.],\n",
      "        [0.],\n",
      "        [0.]]], dtype=float32)>}, {'magnitudes': <tf.Tensor: shape=(16, 200, 1), dtype=float32, numpy=\n",
      "array([[[-0.03971672],\n",
      "        [ 0.08628321],\n",
      "        [-0.37771654],\n",
      "        ...,\n",
      "        [ 0.23528337],\n",
      "        [ 0.04128361],\n",
      "        [-0.11471653]],\n",
      "\n",
      "       [[ 0.0513587 ],\n",
      "        [-0.01664162],\n",
      "        [-0.05264139],\n",
      "        ...,\n",
      "        [ 0.15635872],\n",
      "        [-0.1696415 ],\n",
      "        [-0.07564116]],\n",
      "\n",
      "       [[-0.27462006],\n",
      "        [ 0.2023797 ],\n",
      "        [ 0.20337963],\n",
      "        ...,\n",
      "        [ 0.13537979],\n",
      "        [ 0.14737988],\n",
      "        [ 0.13238001]],\n",
      "\n",
      "       ...,\n",
      "\n",
      "       [[-0.1050725 ],\n",
      "        [ 0.10392761],\n",
      "        [ 0.26692724],\n",
      "        ...,\n",
      "        [ 0.0449276 ],\n",
      "        [-0.04107285],\n",
      "        [-0.00107241]],\n",
      "\n",
      "       [[ 0.20767021],\n",
      "        [ 0.11067057],\n",
      "        [ 0.06767035],\n",
      "        ...,\n",
      "        [-0.06532955],\n",
      "        [ 0.1866703 ],\n",
      "        [-0.12732935]],\n",
      "\n",
      "       [[-0.06105042],\n",
      "        [-0.17505026],\n",
      "        [-0.20905018],\n",
      "        ...,\n",
      "        [-0.07805014],\n",
      "        [-0.04305029],\n",
      "        [-0.01705027]]], dtype=float32)>, 'probed_mask': <tf.Tensor: shape=(16, 200, 1), dtype=float32, numpy=\n",
      "array([[[0.],\n",
      "        [1.],\n",
      "        [0.],\n",
      "        ...,\n",
      "        [1.],\n",
      "        [1.],\n",
      "        [1.]],\n",
      "\n",
      "       [[1.],\n",
      "        [0.],\n",
      "        [0.],\n",
      "        ...,\n",
      "        [1.],\n",
      "        [1.],\n",
      "        [0.]],\n",
      "\n",
      "       [[0.],\n",
      "        [0.],\n",
      "        [0.],\n",
      "        ...,\n",
      "        [0.],\n",
      "        [1.],\n",
      "        [1.]],\n",
      "\n",
      "       ...,\n",
      "\n",
      "       [[0.],\n",
      "        [0.],\n",
      "        [1.],\n",
      "        ...,\n",
      "        [1.],\n",
      "        [1.],\n",
      "        [1.]],\n",
      "\n",
      "       [[0.],\n",
      "        [0.],\n",
      "        [0.],\n",
      "        ...,\n",
      "        [0.],\n",
      "        [0.],\n",
      "        [1.]],\n",
      "\n",
      "       [[0.],\n",
      "        [1.],\n",
      "        [1.],\n",
      "        ...,\n",
      "        [0.],\n",
      "        [0.],\n",
      "        [1.]]], dtype=float32)>})\n"
     ]
    },
    {
     "ename": "TypeError",
     "evalue": "tuple indices must be integers or slices, not str",
     "output_type": "error",
     "traceback": [
      "\u001b[0;31m---------------------------------------------------------------------------\u001b[0m",
      "\u001b[0;31mTypeError\u001b[0m                                 Traceback (most recent call last)",
      "\u001b[1;32m/home/users/dmoreno2016/ASTROMER/astromer_pe/astromer/presentation/experiments/astromer_1_pe/notebooks/debug_preprocessing.ipynb Cell 106\u001b[0m line \u001b[0;36m5\n\u001b[1;32m      <a href='vscode-notebook-cell://ssh-remote%2Bdeephub/home/users/dmoreno2016/ASTROMER/astromer_pe/astromer/presentation/experiments/astromer_1_pe/notebooks/debug_preprocessing.ipynb#Y210sdnNjb2RlLXJlbW90ZQ%3D%3D?line=1'>2</a>\u001b[0m \u001b[39mprint\u001b[39m(\u001b[39m'\u001b[39m\u001b[39mNumero de batch \u001b[39m\u001b[39m{}\u001b[39;00m\u001b[39m'\u001b[39m\u001b[39m.\u001b[39mformat(batch))\n\u001b[1;32m      <a href='vscode-notebook-cell://ssh-remote%2Bdeephub/home/users/dmoreno2016/ASTROMER/astromer_pe/astromer/presentation/experiments/astromer_1_pe/notebooks/debug_preprocessing.ipynb#Y210sdnNjb2RlLXJlbW90ZQ%3D%3D?line=2'>3</a>\u001b[0m \u001b[39mprint\u001b[39m(lc_info_batches)\n\u001b[0;32m----> <a href='vscode-notebook-cell://ssh-remote%2Bdeephub/home/users/dmoreno2016/ASTROMER/astromer_pe/astromer/presentation/experiments/astromer_1_pe/notebooks/debug_preprocessing.ipynb#Y210sdnNjb2RlLXJlbW90ZQ%3D%3D?line=4'>5</a>\u001b[0m \u001b[39mfor\u001b[39;00m snid, np_lc \u001b[39min\u001b[39;00m \u001b[39mzip\u001b[39m(lc_info_batches[\u001b[39m'\u001b[39;49m\u001b[39mlcid\u001b[39;49m\u001b[39m'\u001b[39;49m]\u001b[39m.\u001b[39mnumpy(), lc_info_batches[\u001b[39m'\u001b[39m\u001b[39minput\u001b[39m\u001b[39m'\u001b[39m]):\n\u001b[1;32m      <a href='vscode-notebook-cell://ssh-remote%2Bdeephub/home/users/dmoreno2016/ASTROMER/astromer_pe/astromer/presentation/experiments/astromer_1_pe/notebooks/debug_preprocessing.ipynb#Y210sdnNjb2RlLXJlbW90ZQ%3D%3D?line=5'>6</a>\u001b[0m     \u001b[39m#np_lc = np_lc[np_lc[:,0].argsort()]\u001b[39;00m\n\u001b[1;32m      <a href='vscode-notebook-cell://ssh-remote%2Bdeephub/home/users/dmoreno2016/ASTROMER/astromer_pe/astromer/presentation/experiments/astromer_1_pe/notebooks/debug_preprocessing.ipynb#Y210sdnNjb2RlLXJlbW90ZQ%3D%3D?line=7'>8</a>\u001b[0m     \u001b[39mif\u001b[39;00m snid \u001b[39m==\u001b[39m id_temporal:\n\u001b[1;32m      <a href='vscode-notebook-cell://ssh-remote%2Bdeephub/home/users/dmoreno2016/ASTROMER/astromer_pe/astromer/presentation/experiments/astromer_1_pe/notebooks/debug_preprocessing.ipynb#Y210sdnNjb2RlLXJlbW90ZQ%3D%3D?line=8'>9</a>\u001b[0m         \u001b[39mprint\u001b[39m(\u001b[39m'\u001b[39m\u001b[39mEncontramos la SNID\u001b[39m\u001b[39m'\u001b[39m)\n",
      "\u001b[0;31mTypeError\u001b[0m: tuple indices must be integers or slices, not str"
     ]
    }
   ],
   "source": [
    "for batch, lc_info_batches in enumerate(dataset_input):\n",
    "    print('Numero de batch {}'.format(batch))\n",
    "    print(lc_info_batches)\n",
    "    \n",
    "    for snid, np_lc in zip(lc_info_batches['lcid'].numpy(), lc_info_batches['input']):\n",
    "        #np_lc = np_lc[np_lc[:,0].argsort()]\n",
    "\n",
    "        if snid == id_temporal:\n",
    "            print('Encontramos la SNID')\n",
    "            lc_temporal_padded = copy.deepcopy(np_lc)"
   ]
  },
  {
   "cell_type": "code",
   "execution_count": null,
   "metadata": {},
   "outputs": [
    {
     "name": "stdout",
     "output_type": "stream",
     "text": [
      "dict_keys(['magnitudes', 'times', 'att_mask'])\n",
      "dict_keys(['magnitudes', 'probed_mask'])\n"
     ]
    }
   ],
   "source": [
    "dict_input_lc = lc_info_batches[0]\n",
    "dict_output_lc = lc_info_batches[1]\n",
    "\n",
    "print(dict_input_lc.keys())\n",
    "print(dict_output_lc.keys())"
   ]
  },
  {
   "cell_type": "code",
   "execution_count": null,
   "metadata": {},
   "outputs": [
    {
     "data": {
      "text/plain": [
       "<tf.Tensor: shape=(16, 200, 1), dtype=float32, numpy=\n",
       "array([[[-0.03971672],\n",
       "        [ 0.08628321],\n",
       "        [-0.37771654],\n",
       "        ...,\n",
       "        [ 0.23528337],\n",
       "        [ 0.04128361],\n",
       "        [ 0.20028353]],\n",
       "\n",
       "       [[ 0.0513587 ],\n",
       "        [-0.01664162],\n",
       "        [-0.05264139],\n",
       "        ...,\n",
       "        [ 0.15635872],\n",
       "        [-0.1696415 ],\n",
       "        [-0.07564116]],\n",
       "\n",
       "       [[-0.27462006],\n",
       "        [ 0.2023797 ],\n",
       "        [ 0.20337963],\n",
       "        ...,\n",
       "        [ 0.13537979],\n",
       "        [ 0.14737988],\n",
       "        [ 0.13238001]],\n",
       "\n",
       "       ...,\n",
       "\n",
       "       [[-0.1050725 ],\n",
       "        [ 0.10392761],\n",
       "        [-0.11707258],\n",
       "        ...,\n",
       "        [ 0.10592747],\n",
       "        [-0.04107285],\n",
       "        [-0.06407261]],\n",
       "\n",
       "       [[ 0.20767021],\n",
       "        [ 0.11067057],\n",
       "        [ 0.06767035],\n",
       "        ...,\n",
       "        [-0.06532955],\n",
       "        [ 0.1866703 ],\n",
       "        [-0.12732935]],\n",
       "\n",
       "       [[-0.06105042],\n",
       "        [ 0.03894997],\n",
       "        [-0.20905018],\n",
       "        ...,\n",
       "        [-0.07805014],\n",
       "        [-0.04305029],\n",
       "        [-0.14605045]]], dtype=float32)>"
      ]
     },
     "execution_count": 122,
     "metadata": {},
     "output_type": "execute_result"
    }
   ],
   "source": [
    "dict_input_lc['magnitudes']"
   ]
  },
  {
   "cell_type": "code",
   "execution_count": null,
   "metadata": {},
   "outputs": [
    {
     "data": {
      "text/plain": [
       "<tf.Tensor: shape=(16, 200, 1), dtype=float32, numpy=\n",
       "array([[[0.],\n",
       "        [1.],\n",
       "        [0.],\n",
       "        ...,\n",
       "        [1.],\n",
       "        [1.],\n",
       "        [0.]],\n",
       "\n",
       "       [[1.],\n",
       "        [0.],\n",
       "        [0.],\n",
       "        ...,\n",
       "        [1.],\n",
       "        [0.],\n",
       "        [0.]],\n",
       "\n",
       "       [[0.],\n",
       "        [0.],\n",
       "        [0.],\n",
       "        ...,\n",
       "        [0.],\n",
       "        [1.],\n",
       "        [1.]],\n",
       "\n",
       "       ...,\n",
       "\n",
       "       [[0.],\n",
       "        [0.],\n",
       "        [0.],\n",
       "        ...,\n",
       "        [0.],\n",
       "        [1.],\n",
       "        [0.]],\n",
       "\n",
       "       [[0.],\n",
       "        [0.],\n",
       "        [0.],\n",
       "        ...,\n",
       "        [0.],\n",
       "        [0.],\n",
       "        [0.]],\n",
       "\n",
       "       [[0.],\n",
       "        [0.],\n",
       "        [1.],\n",
       "        ...,\n",
       "        [0.],\n",
       "        [0.],\n",
       "        [0.]]], dtype=float32)>"
      ]
     },
     "execution_count": 126,
     "metadata": {},
     "output_type": "execute_result"
    }
   ],
   "source": [
    "dict_input_lc['att_mask']"
   ]
  },
  {
   "cell_type": "code",
   "execution_count": null,
   "metadata": {},
   "outputs": [],
   "source": []
  },
  {
   "cell_type": "code",
   "execution_count": null,
   "metadata": {},
   "outputs": [],
   "source": []
  },
  {
   "cell_type": "code",
   "execution_count": null,
   "metadata": {},
   "outputs": [],
   "source": []
  },
  {
   "cell_type": "code",
   "execution_count": null,
   "metadata": {},
   "outputs": [],
   "source": []
  },
  {
   "cell_type": "code",
   "execution_count": null,
   "metadata": {},
   "outputs": [],
   "source": [
    "list_data_lcs = []\n",
    "\n",
    "for lc_info in dataset_1:\n",
    "    np_lc = lc_info['input'].numpy()\n",
    "    np_lc = np_lc[np_lc[:,0].argsort()]\n",
    "\n",
    "    for snid, lc_data, label in zip(lc_info['lcid'].numpy(), np_lc, lc_info['label'].numpy()):\n",
    "        data = {'lcid': snid, \n",
    "                'lc_data': [lc_data],\n",
    "                'label': label}  \n",
    "\n",
    "        list_data_lcs.append(pd.DataFrame(data))\n",
    "\n",
    "list_data_lcs = pd.concat(list_data_lcs)"
   ]
  },
  {
   "cell_type": "code",
   "execution_count": null,
   "metadata": {},
   "outputs": [
    {
     "data": {
      "text/html": [
       "<div>\n",
       "<style scoped>\n",
       "    .dataframe tbody tr th:only-of-type {\n",
       "        vertical-align: middle;\n",
       "    }\n",
       "\n",
       "    .dataframe tbody tr th {\n",
       "        vertical-align: top;\n",
       "    }\n",
       "\n",
       "    .dataframe thead th {\n",
       "        text-align: right;\n",
       "    }\n",
       "</style>\n",
       "<table border=\"1\" class=\"dataframe\">\n",
       "  <thead>\n",
       "    <tr style=\"text-align: right;\">\n",
       "      <th></th>\n",
       "      <th>lcid</th>\n",
       "      <th>lc_data</th>\n",
       "      <th>label</th>\n",
       "    </tr>\n",
       "  </thead>\n",
       "  <tbody>\n",
       "    <tr>\n",
       "      <th>0</th>\n",
       "      <td>b\"b'3.7081.943'\"</td>\n",
       "      <td>[[[49461.51, -4.964, 0.059], [49462.477, -4.86...</td>\n",
       "      <td>5</td>\n",
       "    </tr>\n",
       "    <tr>\n",
       "      <th>0</th>\n",
       "      <td>b\"b'3.7081.943'\"</td>\n",
       "      <td>[[[49461.51, -4.964, 0.059], [49462.477, -4.86...</td>\n",
       "      <td>5</td>\n",
       "    </tr>\n",
       "    <tr>\n",
       "      <th>0</th>\n",
       "      <td>b\"b'3.7081.943'\"</td>\n",
       "      <td>[[[49461.51, -4.964, 0.059], [49462.477, -4.86...</td>\n",
       "      <td>5</td>\n",
       "    </tr>\n",
       "    <tr>\n",
       "      <th>0</th>\n",
       "      <td>b\"b'3.7081.943'\"</td>\n",
       "      <td>[[[49461.51, -4.964, 0.059], [49462.477, -4.86...</td>\n",
       "      <td>5</td>\n",
       "    </tr>\n",
       "    <tr>\n",
       "      <th>0</th>\n",
       "      <td>b\"b'10.3430.1344'\"</td>\n",
       "      <td>[[[49461.51, -4.964, 0.059], [49462.477, -4.86...</td>\n",
       "      <td>5</td>\n",
       "    </tr>\n",
       "    <tr>\n",
       "      <th>...</th>\n",
       "      <td>...</td>\n",
       "      <td>...</td>\n",
       "      <td>...</td>\n",
       "    </tr>\n",
       "    <tr>\n",
       "      <th>0</th>\n",
       "      <td>b\"b'6.7054.88'\"</td>\n",
       "      <td>[[[49819.547, -5.919, 0.035], [49824.52, -6.05...</td>\n",
       "      <td>2</td>\n",
       "    </tr>\n",
       "    <tr>\n",
       "      <th>0</th>\n",
       "      <td>b\"b'6.7054.88'\"</td>\n",
       "      <td>[[[49819.547, -5.919, 0.035], [49824.52, -6.05...</td>\n",
       "      <td>2</td>\n",
       "    </tr>\n",
       "    <tr>\n",
       "      <th>0</th>\n",
       "      <td>b\"b'6.7054.88'\"</td>\n",
       "      <td>[[[49819.547, -5.919, 0.035], [49824.52, -6.05...</td>\n",
       "      <td>2</td>\n",
       "    </tr>\n",
       "    <tr>\n",
       "      <th>0</th>\n",
       "      <td>b\"b'6.7054.88'\"</td>\n",
       "      <td>[[[49819.547, -5.919, 0.035], [49824.52, -6.05...</td>\n",
       "      <td>2</td>\n",
       "    </tr>\n",
       "    <tr>\n",
       "      <th>0</th>\n",
       "      <td>b\"b'6.7054.88'\"</td>\n",
       "      <td>[[[49819.547, -5.919, 0.035], [49824.52, -6.05...</td>\n",
       "      <td>2</td>\n",
       "    </tr>\n",
       "  </tbody>\n",
       "</table>\n",
       "<p>398 rows × 3 columns</p>\n",
       "</div>"
      ],
      "text/plain": [
       "                  lcid                                            lc_data  \\\n",
       "0     b\"b'3.7081.943'\"  [[[49461.51, -4.964, 0.059], [49462.477, -4.86...   \n",
       "0     b\"b'3.7081.943'\"  [[[49461.51, -4.964, 0.059], [49462.477, -4.86...   \n",
       "0     b\"b'3.7081.943'\"  [[[49461.51, -4.964, 0.059], [49462.477, -4.86...   \n",
       "0     b\"b'3.7081.943'\"  [[[49461.51, -4.964, 0.059], [49462.477, -4.86...   \n",
       "0   b\"b'10.3430.1344'\"  [[[49461.51, -4.964, 0.059], [49462.477, -4.86...   \n",
       "..                 ...                                                ...   \n",
       "0      b\"b'6.7054.88'\"  [[[49819.547, -5.919, 0.035], [49824.52, -6.05...   \n",
       "0      b\"b'6.7054.88'\"  [[[49819.547, -5.919, 0.035], [49824.52, -6.05...   \n",
       "0      b\"b'6.7054.88'\"  [[[49819.547, -5.919, 0.035], [49824.52, -6.05...   \n",
       "0      b\"b'6.7054.88'\"  [[[49819.547, -5.919, 0.035], [49824.52, -6.05...   \n",
       "0      b\"b'6.7054.88'\"  [[[49819.547, -5.919, 0.035], [49824.52, -6.05...   \n",
       "\n",
       "    label  \n",
       "0       5  \n",
       "0       5  \n",
       "0       5  \n",
       "0       5  \n",
       "0       5  \n",
       "..    ...  \n",
       "0       2  \n",
       "0       2  \n",
       "0       2  \n",
       "0       2  \n",
       "0       2  \n",
       "\n",
       "[398 rows x 3 columns]"
      ]
     },
     "execution_count": 202,
     "metadata": {},
     "output_type": "execute_result"
    }
   ],
   "source": [
    "list_data_lcs"
   ]
  },
  {
   "cell_type": "code",
   "execution_count": null,
   "metadata": {},
   "outputs": [
    {
     "data": {
      "text/plain": [
       "array([[ 4.9018617e+04, -4.3959999e+00,  1.0000000e-01],\n",
       "       [ 4.9059512e+04, -4.9980001e+00,  8.9000002e-02],\n",
       "       [ 4.9060492e+04, -5.0289998e+00,  8.6999997e-02],\n",
       "       [ 4.9061480e+04, -4.8569999e+00,  7.2999999e-02],\n",
       "       [ 4.9065648e+04, -5.0110002e+00,  9.6000001e-02],\n",
       "       [ 4.9068523e+04, -4.9050002e+00,  7.9000004e-02],\n",
       "       [ 4.9077484e+04, -5.2030001e+00,  9.0000004e-02],\n",
       "       [ 4.9094438e+04, -4.7940001e+00,  9.0000004e-02],\n",
       "       [ 4.9095438e+04, -4.9159999e+00,  9.4999999e-02],\n",
       "       [ 4.9096434e+04, -4.5700002e+00,  9.0000004e-02],\n",
       "       [ 4.9103434e+04, -5.1259999e+00,  7.4000001e-02],\n",
       "       [ 4.9120418e+04, -5.1310000e+00,  7.8000002e-02],\n",
       "       [ 4.9145398e+04, -6.1059999e+00, -4.5600000e+02],\n",
       "       [ 4.9283766e+04, -5.2230000e+00,  7.5999998e-02],\n",
       "       [ 4.9447633e+04, -4.8439999e+00,  9.7000003e-02],\n",
       "       [ 4.9458527e+04, -4.7319999e+00,  9.4999999e-02],\n",
       "       [ 4.9465496e+04, -4.7989998e+00,  1.0000000e-01],\n",
       "       [ 4.9518430e+04, -2.6750000e+00, -4.9830000e+03],\n",
       "       [ 4.9717684e+04, -4.8509998e+00,  7.9000004e-02],\n",
       "       [ 4.9759617e+04, -5.1669998e+00,  7.9000004e-02],\n",
       "       [ 4.9810586e+04, -4.8709998e+00,  9.7999997e-02],\n",
       "       [ 4.9872484e+04, -4.9910002e+00,  9.7000003e-02],\n",
       "       [ 4.9891410e+04, -4.8260002e+00,  9.4999999e-02],\n",
       "       [ 5.0107609e+04, -4.8369999e+00,  8.3999999e-02],\n",
       "       [ 5.0108609e+04, -4.6739998e+00,  9.7999997e-02],\n",
       "       [ 5.0123605e+04, -5.0270000e+00,  9.6000001e-02],\n",
       "       [ 5.0141516e+04, -5.0710001e+00,  6.6000000e-02],\n",
       "       [ 5.0151543e+04, -2.5030000e+00, -6.6530000e+03],\n",
       "       [ 5.0161602e+04, -5.7950001e+00,  6.6000000e-02],\n",
       "       [ 5.0219441e+04, -5.1079998e+00,  7.1999997e-02],\n",
       "       [ 5.0228508e+04, -4.9480000e+00,  9.8999999e-02],\n",
       "       [ 5.0461598e+04, -5.1040001e+00,  5.4000001e-02],\n",
       "       [ 5.0484703e+04, -4.6929998e+00,  9.6000001e-02],\n",
       "       [ 5.0507527e+04, -4.5500002e+00,  8.6999997e-02],\n",
       "       [ 5.0522562e+04, -4.8280001e+00,  8.6999997e-02],\n",
       "       [ 5.0523473e+04, -4.8810000e+00,  9.0999998e-02],\n",
       "       [ 5.0547578e+04, -4.9460001e+00,  9.7000003e-02],\n",
       "       [ 5.0550531e+04, -4.5560002e+00,  9.2000000e-02],\n",
       "       [ 5.0825516e+04, -3.5090001e+00, -3.7100000e+02],\n",
       "       [ 5.0834594e+04, -4.8140001e+00,  6.1999999e-02],\n",
       "       [ 5.0841551e+04, -4.2820001e+00,  9.0000004e-02],\n",
       "       [ 5.0842578e+04, -5.0879998e+00,  6.1000001e-02],\n",
       "       [ 5.0844508e+04, -4.9050002e+00,  8.1000000e-02],\n",
       "       [ 5.0875641e+04, -4.9870000e+00,  9.8999999e-02],\n",
       "       [ 5.1172562e+04, -5.1380000e+00,  5.5000000e-02],\n",
       "       [ 5.1175605e+04, -4.8299999e+00, -9.5800000e+02],\n",
       "       [ 5.1179582e+04, -5.1459999e+00, -2.4900000e+02],\n",
       "       [ 5.1181582e+04, -4.9180002e+00,  1.0000000e-01],\n",
       "       [ 5.1195695e+04, -5.1440001e+00,  7.1000002e-02],\n",
       "       [ 5.1223527e+04, -5.1820002e+00,  4.5000002e-02],\n",
       "       [ 5.1231562e+04, -5.3260002e+00,  5.7999998e-02],\n",
       "       [ 5.1275449e+04, -5.0009999e+00,  6.3000001e-02],\n",
       "       [ 5.1292480e+04, -4.9840002e+00,  6.4000003e-02],\n",
       "       [ 5.1300508e+04, -5.2240000e+00,  8.2000002e-02],\n",
       "       [ 5.1302379e+04, -5.1640000e+00,  7.4000001e-02],\n",
       "       [ 5.1319414e+04, -1.9990000e+00, -9.9000000e+01],\n",
       "       [ 5.1336383e+04, -5.1009998e+00,  5.9999999e-02],\n",
       "       [ 0.0000000e+00,  0.0000000e+00,  0.0000000e+00],\n",
       "       [ 0.0000000e+00,  0.0000000e+00,  0.0000000e+00],\n",
       "       [ 0.0000000e+00,  0.0000000e+00,  0.0000000e+00],\n",
       "       [ 0.0000000e+00,  0.0000000e+00,  0.0000000e+00],\n",
       "       [ 0.0000000e+00,  0.0000000e+00,  0.0000000e+00],\n",
       "       [ 0.0000000e+00,  0.0000000e+00,  0.0000000e+00],\n",
       "       [ 0.0000000e+00,  0.0000000e+00,  0.0000000e+00],\n",
       "       [ 0.0000000e+00,  0.0000000e+00,  0.0000000e+00],\n",
       "       [ 0.0000000e+00,  0.0000000e+00,  0.0000000e+00],\n",
       "       [ 0.0000000e+00,  0.0000000e+00,  0.0000000e+00],\n",
       "       [ 0.0000000e+00,  0.0000000e+00,  0.0000000e+00],\n",
       "       [ 0.0000000e+00,  0.0000000e+00,  0.0000000e+00],\n",
       "       [ 0.0000000e+00,  0.0000000e+00,  0.0000000e+00],\n",
       "       [ 0.0000000e+00,  0.0000000e+00,  0.0000000e+00],\n",
       "       [ 0.0000000e+00,  0.0000000e+00,  0.0000000e+00],\n",
       "       [ 0.0000000e+00,  0.0000000e+00,  0.0000000e+00],\n",
       "       [ 0.0000000e+00,  0.0000000e+00,  0.0000000e+00],\n",
       "       [ 0.0000000e+00,  0.0000000e+00,  0.0000000e+00],\n",
       "       [ 0.0000000e+00,  0.0000000e+00,  0.0000000e+00],\n",
       "       [ 0.0000000e+00,  0.0000000e+00,  0.0000000e+00],\n",
       "       [ 0.0000000e+00,  0.0000000e+00,  0.0000000e+00],\n",
       "       [ 0.0000000e+00,  0.0000000e+00,  0.0000000e+00],\n",
       "       [ 0.0000000e+00,  0.0000000e+00,  0.0000000e+00],\n",
       "       [ 0.0000000e+00,  0.0000000e+00,  0.0000000e+00],\n",
       "       [ 0.0000000e+00,  0.0000000e+00,  0.0000000e+00],\n",
       "       [ 0.0000000e+00,  0.0000000e+00,  0.0000000e+00],\n",
       "       [ 0.0000000e+00,  0.0000000e+00,  0.0000000e+00],\n",
       "       [ 0.0000000e+00,  0.0000000e+00,  0.0000000e+00],\n",
       "       [ 0.0000000e+00,  0.0000000e+00,  0.0000000e+00],\n",
       "       [ 0.0000000e+00,  0.0000000e+00,  0.0000000e+00],\n",
       "       [ 0.0000000e+00,  0.0000000e+00,  0.0000000e+00],\n",
       "       [ 0.0000000e+00,  0.0000000e+00,  0.0000000e+00],\n",
       "       [ 0.0000000e+00,  0.0000000e+00,  0.0000000e+00],\n",
       "       [ 0.0000000e+00,  0.0000000e+00,  0.0000000e+00],\n",
       "       [ 0.0000000e+00,  0.0000000e+00,  0.0000000e+00],\n",
       "       [ 0.0000000e+00,  0.0000000e+00,  0.0000000e+00],\n",
       "       [ 0.0000000e+00,  0.0000000e+00,  0.0000000e+00],\n",
       "       [ 0.0000000e+00,  0.0000000e+00,  0.0000000e+00],\n",
       "       [ 0.0000000e+00,  0.0000000e+00,  0.0000000e+00],\n",
       "       [ 0.0000000e+00,  0.0000000e+00,  0.0000000e+00],\n",
       "       [ 0.0000000e+00,  0.0000000e+00,  0.0000000e+00],\n",
       "       [ 0.0000000e+00,  0.0000000e+00,  0.0000000e+00],\n",
       "       [ 0.0000000e+00,  0.0000000e+00,  0.0000000e+00],\n",
       "       [ 0.0000000e+00,  0.0000000e+00,  0.0000000e+00],\n",
       "       [ 0.0000000e+00,  0.0000000e+00,  0.0000000e+00],\n",
       "       [ 0.0000000e+00,  0.0000000e+00,  0.0000000e+00],\n",
       "       [ 0.0000000e+00,  0.0000000e+00,  0.0000000e+00],\n",
       "       [ 0.0000000e+00,  0.0000000e+00,  0.0000000e+00],\n",
       "       [ 0.0000000e+00,  0.0000000e+00,  0.0000000e+00],\n",
       "       [ 0.0000000e+00,  0.0000000e+00,  0.0000000e+00],\n",
       "       [ 0.0000000e+00,  0.0000000e+00,  0.0000000e+00],\n",
       "       [ 0.0000000e+00,  0.0000000e+00,  0.0000000e+00],\n",
       "       [ 0.0000000e+00,  0.0000000e+00,  0.0000000e+00],\n",
       "       [ 0.0000000e+00,  0.0000000e+00,  0.0000000e+00],\n",
       "       [ 0.0000000e+00,  0.0000000e+00,  0.0000000e+00],\n",
       "       [ 0.0000000e+00,  0.0000000e+00,  0.0000000e+00],\n",
       "       [ 0.0000000e+00,  0.0000000e+00,  0.0000000e+00],\n",
       "       [ 0.0000000e+00,  0.0000000e+00,  0.0000000e+00],\n",
       "       [ 0.0000000e+00,  0.0000000e+00,  0.0000000e+00],\n",
       "       [ 0.0000000e+00,  0.0000000e+00,  0.0000000e+00],\n",
       "       [ 0.0000000e+00,  0.0000000e+00,  0.0000000e+00],\n",
       "       [ 0.0000000e+00,  0.0000000e+00,  0.0000000e+00],\n",
       "       [ 0.0000000e+00,  0.0000000e+00,  0.0000000e+00],\n",
       "       [ 0.0000000e+00,  0.0000000e+00,  0.0000000e+00],\n",
       "       [ 0.0000000e+00,  0.0000000e+00,  0.0000000e+00],\n",
       "       [ 0.0000000e+00,  0.0000000e+00,  0.0000000e+00],\n",
       "       [ 0.0000000e+00,  0.0000000e+00,  0.0000000e+00],\n",
       "       [ 0.0000000e+00,  0.0000000e+00,  0.0000000e+00],\n",
       "       [ 0.0000000e+00,  0.0000000e+00,  0.0000000e+00],\n",
       "       [ 0.0000000e+00,  0.0000000e+00,  0.0000000e+00],\n",
       "       [ 0.0000000e+00,  0.0000000e+00,  0.0000000e+00],\n",
       "       [ 0.0000000e+00,  0.0000000e+00,  0.0000000e+00],\n",
       "       [ 0.0000000e+00,  0.0000000e+00,  0.0000000e+00],\n",
       "       [ 0.0000000e+00,  0.0000000e+00,  0.0000000e+00],\n",
       "       [ 0.0000000e+00,  0.0000000e+00,  0.0000000e+00],\n",
       "       [ 0.0000000e+00,  0.0000000e+00,  0.0000000e+00],\n",
       "       [ 0.0000000e+00,  0.0000000e+00,  0.0000000e+00],\n",
       "       [ 0.0000000e+00,  0.0000000e+00,  0.0000000e+00],\n",
       "       [ 0.0000000e+00,  0.0000000e+00,  0.0000000e+00],\n",
       "       [ 0.0000000e+00,  0.0000000e+00,  0.0000000e+00],\n",
       "       [ 0.0000000e+00,  0.0000000e+00,  0.0000000e+00],\n",
       "       [ 0.0000000e+00,  0.0000000e+00,  0.0000000e+00],\n",
       "       [ 0.0000000e+00,  0.0000000e+00,  0.0000000e+00],\n",
       "       [ 0.0000000e+00,  0.0000000e+00,  0.0000000e+00],\n",
       "       [ 0.0000000e+00,  0.0000000e+00,  0.0000000e+00],\n",
       "       [ 0.0000000e+00,  0.0000000e+00,  0.0000000e+00],\n",
       "       [ 0.0000000e+00,  0.0000000e+00,  0.0000000e+00],\n",
       "       [ 0.0000000e+00,  0.0000000e+00,  0.0000000e+00],\n",
       "       [ 0.0000000e+00,  0.0000000e+00,  0.0000000e+00],\n",
       "       [ 0.0000000e+00,  0.0000000e+00,  0.0000000e+00],\n",
       "       [ 0.0000000e+00,  0.0000000e+00,  0.0000000e+00],\n",
       "       [ 0.0000000e+00,  0.0000000e+00,  0.0000000e+00],\n",
       "       [ 0.0000000e+00,  0.0000000e+00,  0.0000000e+00],\n",
       "       [ 0.0000000e+00,  0.0000000e+00,  0.0000000e+00],\n",
       "       [ 0.0000000e+00,  0.0000000e+00,  0.0000000e+00],\n",
       "       [ 0.0000000e+00,  0.0000000e+00,  0.0000000e+00],\n",
       "       [ 0.0000000e+00,  0.0000000e+00,  0.0000000e+00],\n",
       "       [ 0.0000000e+00,  0.0000000e+00,  0.0000000e+00],\n",
       "       [ 0.0000000e+00,  0.0000000e+00,  0.0000000e+00],\n",
       "       [ 0.0000000e+00,  0.0000000e+00,  0.0000000e+00],\n",
       "       [ 0.0000000e+00,  0.0000000e+00,  0.0000000e+00],\n",
       "       [ 0.0000000e+00,  0.0000000e+00,  0.0000000e+00],\n",
       "       [ 0.0000000e+00,  0.0000000e+00,  0.0000000e+00],\n",
       "       [ 0.0000000e+00,  0.0000000e+00,  0.0000000e+00],\n",
       "       [ 0.0000000e+00,  0.0000000e+00,  0.0000000e+00],\n",
       "       [ 0.0000000e+00,  0.0000000e+00,  0.0000000e+00],\n",
       "       [ 0.0000000e+00,  0.0000000e+00,  0.0000000e+00],\n",
       "       [ 0.0000000e+00,  0.0000000e+00,  0.0000000e+00],\n",
       "       [ 0.0000000e+00,  0.0000000e+00,  0.0000000e+00],\n",
       "       [ 0.0000000e+00,  0.0000000e+00,  0.0000000e+00],\n",
       "       [ 0.0000000e+00,  0.0000000e+00,  0.0000000e+00],\n",
       "       [ 0.0000000e+00,  0.0000000e+00,  0.0000000e+00],\n",
       "       [ 0.0000000e+00,  0.0000000e+00,  0.0000000e+00],\n",
       "       [ 0.0000000e+00,  0.0000000e+00,  0.0000000e+00],\n",
       "       [ 0.0000000e+00,  0.0000000e+00,  0.0000000e+00],\n",
       "       [ 0.0000000e+00,  0.0000000e+00,  0.0000000e+00],\n",
       "       [ 0.0000000e+00,  0.0000000e+00,  0.0000000e+00],\n",
       "       [ 0.0000000e+00,  0.0000000e+00,  0.0000000e+00],\n",
       "       [ 0.0000000e+00,  0.0000000e+00,  0.0000000e+00],\n",
       "       [ 0.0000000e+00,  0.0000000e+00,  0.0000000e+00],\n",
       "       [ 0.0000000e+00,  0.0000000e+00,  0.0000000e+00],\n",
       "       [ 0.0000000e+00,  0.0000000e+00,  0.0000000e+00],\n",
       "       [ 0.0000000e+00,  0.0000000e+00,  0.0000000e+00],\n",
       "       [ 0.0000000e+00,  0.0000000e+00,  0.0000000e+00],\n",
       "       [ 0.0000000e+00,  0.0000000e+00,  0.0000000e+00],\n",
       "       [ 0.0000000e+00,  0.0000000e+00,  0.0000000e+00],\n",
       "       [ 0.0000000e+00,  0.0000000e+00,  0.0000000e+00],\n",
       "       [ 0.0000000e+00,  0.0000000e+00,  0.0000000e+00],\n",
       "       [ 0.0000000e+00,  0.0000000e+00,  0.0000000e+00],\n",
       "       [ 0.0000000e+00,  0.0000000e+00,  0.0000000e+00],\n",
       "       [ 0.0000000e+00,  0.0000000e+00,  0.0000000e+00],\n",
       "       [ 0.0000000e+00,  0.0000000e+00,  0.0000000e+00],\n",
       "       [ 0.0000000e+00,  0.0000000e+00,  0.0000000e+00],\n",
       "       [ 0.0000000e+00,  0.0000000e+00,  0.0000000e+00],\n",
       "       [ 0.0000000e+00,  0.0000000e+00,  0.0000000e+00],\n",
       "       [ 0.0000000e+00,  0.0000000e+00,  0.0000000e+00],\n",
       "       [ 0.0000000e+00,  0.0000000e+00,  0.0000000e+00],\n",
       "       [ 0.0000000e+00,  0.0000000e+00,  0.0000000e+00],\n",
       "       [ 0.0000000e+00,  0.0000000e+00,  0.0000000e+00],\n",
       "       [ 0.0000000e+00,  0.0000000e+00,  0.0000000e+00],\n",
       "       [ 0.0000000e+00,  0.0000000e+00,  0.0000000e+00],\n",
       "       [ 0.0000000e+00,  0.0000000e+00,  0.0000000e+00],\n",
       "       [ 0.0000000e+00,  0.0000000e+00,  0.0000000e+00]], dtype=float32)"
      ]
     },
     "execution_count": 207,
     "metadata": {},
     "output_type": "execute_result"
    }
   ],
   "source": [
    "list_data_lcs[list_data_lcs.lcid == b\"b'9.5486.943'\"].lc_data.iloc[0][-1]"
   ]
  },
  {
   "cell_type": "code",
   "execution_count": null,
   "metadata": {},
   "outputs": [
    {
     "data": {
      "text/plain": [
       "array([[ 4.9018617e+04, -4.3959999e+00,  1.0000000e-01],\n",
       "       [ 4.9059512e+04, -4.9980001e+00,  8.9000002e-02],\n",
       "       [ 4.9060492e+04, -5.0289998e+00,  8.6999997e-02],\n",
       "       [ 4.9061480e+04, -4.8569999e+00,  7.2999999e-02],\n",
       "       [ 4.9065648e+04, -5.0110002e+00,  9.6000001e-02],\n",
       "       [ 4.9068523e+04, -4.9050002e+00,  7.9000004e-02],\n",
       "       [ 4.9077484e+04, -5.2030001e+00,  9.0000004e-02],\n",
       "       [ 4.9094438e+04, -4.7940001e+00,  9.0000004e-02],\n",
       "       [ 4.9095438e+04, -4.9159999e+00,  9.4999999e-02],\n",
       "       [ 4.9096434e+04, -4.5700002e+00,  9.0000004e-02],\n",
       "       [ 4.9103434e+04, -5.1259999e+00,  7.4000001e-02],\n",
       "       [ 4.9120418e+04, -5.1310000e+00,  7.8000002e-02],\n",
       "       [ 4.9145398e+04, -6.1059999e+00, -4.5600000e+02],\n",
       "       [ 4.9283766e+04, -5.2230000e+00,  7.5999998e-02],\n",
       "       [ 4.9447633e+04, -4.8439999e+00,  9.7000003e-02],\n",
       "       [ 4.9458527e+04, -4.7319999e+00,  9.4999999e-02],\n",
       "       [ 4.9465496e+04, -4.7989998e+00,  1.0000000e-01],\n",
       "       [ 4.9518430e+04, -2.6750000e+00, -4.9830000e+03],\n",
       "       [ 4.9717684e+04, -4.8509998e+00,  7.9000004e-02],\n",
       "       [ 4.9759617e+04, -5.1669998e+00,  7.9000004e-02],\n",
       "       [ 4.9810586e+04, -4.8709998e+00,  9.7999997e-02],\n",
       "       [ 4.9872484e+04, -4.9910002e+00,  9.7000003e-02],\n",
       "       [ 4.9891410e+04, -4.8260002e+00,  9.4999999e-02],\n",
       "       [ 5.0107609e+04, -4.8369999e+00,  8.3999999e-02],\n",
       "       [ 5.0108609e+04, -4.6739998e+00,  9.7999997e-02],\n",
       "       [ 5.0123605e+04, -5.0270000e+00,  9.6000001e-02],\n",
       "       [ 5.0141516e+04, -5.0710001e+00,  6.6000000e-02],\n",
       "       [ 5.0151543e+04, -2.5030000e+00, -6.6530000e+03],\n",
       "       [ 5.0161602e+04, -5.7950001e+00,  6.6000000e-02],\n",
       "       [ 5.0219441e+04, -5.1079998e+00,  7.1999997e-02],\n",
       "       [ 5.0228508e+04, -4.9480000e+00,  9.8999999e-02],\n",
       "       [ 5.0461598e+04, -5.1040001e+00,  5.4000001e-02],\n",
       "       [ 5.0484703e+04, -4.6929998e+00,  9.6000001e-02],\n",
       "       [ 5.0507527e+04, -4.5500002e+00,  8.6999997e-02],\n",
       "       [ 5.0522562e+04, -4.8280001e+00,  8.6999997e-02],\n",
       "       [ 5.0523473e+04, -4.8810000e+00,  9.0999998e-02],\n",
       "       [ 5.0547578e+04, -4.9460001e+00,  9.7000003e-02],\n",
       "       [ 5.0550531e+04, -4.5560002e+00,  9.2000000e-02],\n",
       "       [ 5.0825516e+04, -3.5090001e+00, -3.7100000e+02],\n",
       "       [ 5.0834594e+04, -4.8140001e+00,  6.1999999e-02],\n",
       "       [ 5.0841551e+04, -4.2820001e+00,  9.0000004e-02],\n",
       "       [ 5.0842578e+04, -5.0879998e+00,  6.1000001e-02],\n",
       "       [ 5.0844508e+04, -4.9050002e+00,  8.1000000e-02],\n",
       "       [ 5.0875641e+04, -4.9870000e+00,  9.8999999e-02],\n",
       "       [ 5.1172562e+04, -5.1380000e+00,  5.5000000e-02],\n",
       "       [ 5.1175605e+04, -4.8299999e+00, -9.5800000e+02],\n",
       "       [ 5.1179582e+04, -5.1459999e+00, -2.4900000e+02],\n",
       "       [ 5.1181582e+04, -4.9180002e+00,  1.0000000e-01],\n",
       "       [ 5.1195695e+04, -5.1440001e+00,  7.1000002e-02],\n",
       "       [ 5.1223527e+04, -5.1820002e+00,  4.5000002e-02],\n",
       "       [ 5.1231562e+04, -5.3260002e+00,  5.7999998e-02],\n",
       "       [ 5.1275449e+04, -5.0009999e+00,  6.3000001e-02],\n",
       "       [ 5.1292480e+04, -4.9840002e+00,  6.4000003e-02],\n",
       "       [ 5.1300508e+04, -5.2240000e+00,  8.2000002e-02],\n",
       "       [ 5.1302379e+04, -5.1640000e+00,  7.4000001e-02],\n",
       "       [ 5.1319414e+04, -1.9990000e+00, -9.9000000e+01],\n",
       "       [ 5.1336383e+04, -5.1009998e+00,  5.9999999e-02]], dtype=float32)"
      ]
     },
     "execution_count": 204,
     "metadata": {},
     "output_type": "execute_result"
    }
   ],
   "source": [
    "dataset_windows[dataset_windows.lcid == b\"b'9.5486.943'\"].lc_data.iloc[0]"
   ]
  },
  {
   "cell_type": "code",
   "execution_count": null,
   "metadata": {},
   "outputs": [],
   "source": []
  },
  {
   "cell_type": "code",
   "execution_count": null,
   "metadata": {},
   "outputs": [],
   "source": [
    "import six\n",
    "\n",
    "def assert_rank(tensor, expected_rank, name=None):\n",
    "  \"\"\"Raises an exception if the tensor rank is not of the expected rank.\n",
    "\n",
    "  Args:\n",
    "    tensor: A tf.Tensor to check the rank of.\n",
    "    expected_rank: Python integer or list of integers, expected rank.\n",
    "    name: Optional name of the tensor for the error message.\n",
    "\n",
    "  Raises:\n",
    "    ValueError: If the expected shape doesn't match the actual shape.\n",
    "  \"\"\"\n",
    "  if name is None:\n",
    "    name = tensor.name\n",
    "\n",
    "  expected_rank_dict = {}\n",
    "  if isinstance(expected_rank, six.integer_types):\n",
    "    expected_rank_dict[expected_rank] = True\n",
    "  else:\n",
    "    for x in expected_rank:\n",
    "      expected_rank_dict[x] = True\n",
    "\n",
    "  actual_rank = tensor.shape.ndims\n",
    "  if actual_rank not in expected_rank_dict:\n",
    "    scope_name = tf.get_variable_scope().name\n",
    "    raise ValueError(\n",
    "        \"For the tensor `%s` in scope `%s`, the actual rank \"\n",
    "        \"`%d` (shape = %s) is not equal to the expected rank `%s`\" %\n",
    "        (name, scope_name, actual_rank, str(tensor.shape), str(expected_rank)))\n",
    "  \n",
    "\n",
    "def get_shape_list(tensor, expected_rank=None, name=None):\n",
    "  \"\"\"Returns a list of the shape of tensor, preferring static dimensions.\n",
    "\n",
    "  Args:\n",
    "    tensor: A tf.Tensor object to find the shape of.\n",
    "    expected_rank: (optional) int. The expected rank of `tensor`. If this is\n",
    "      specified and the `tensor` has a different rank, and exception will be\n",
    "      thrown.\n",
    "    name: Optional name of the tensor for the error message.\n",
    "\n",
    "  Returns:\n",
    "    A list of dimensions of the shape of tensor. All static dimensions will\n",
    "    be returned as python integers, and dynamic dimensions will be returned\n",
    "    as tf.Tensor scalars.\n",
    "  \"\"\"\n",
    "  if name is None:\n",
    "    name = tensor.name\n",
    "\n",
    "  if expected_rank is not None:\n",
    "    assert_rank(tensor, expected_rank, name)\n",
    "\n",
    "  shape = tensor.shape.as_list()\n",
    "\n",
    "  non_static_indexes = []\n",
    "  for (index, dim) in enumerate(shape):\n",
    "    if dim is None:\n",
    "      non_static_indexes.append(index)\n",
    "\n",
    "  if not non_static_indexes:\n",
    "    return shape\n",
    "\n",
    "  dyn_shape = tf.shape(tensor)\n",
    "  for index in non_static_indexes:\n",
    "    shape[index] = dyn_shape[index]\n",
    "  return shape\n",
    "\n",
    "\n",
    "def create_attention_mask_from_input_mask(from_tensor, to_mask):\n",
    "    \"\"\"Create 3D attention mask from a 2D tensor mask.\n",
    "\n",
    "    Args:\n",
    "    from_tensor: 2D or 3D Tensor of shape [batch_size, from_seq_length, ...].\n",
    "    to_mask: int32 Tensor of shape [batch_size, to_seq_length].\n",
    "\n",
    "    Returns:\n",
    "    float Tensor of shape [batch_size, from_seq_length, to_seq_length].\n",
    "    \"\"\"\n",
    "    from_shape = get_shape_list(from_tensor, expected_rank=[2, 3])\n",
    "    batch_size = from_shape[0]\n",
    "    from_seq_length = from_shape[1]\n",
    "\n",
    "    to_shape = get_shape_list(to_mask, expected_rank=2)\n",
    "    to_seq_length = to_shape[1]\n",
    "\n",
    "    to_mask = tf.cast(\n",
    "        tf.reshape(to_mask, [batch_size, 1, to_seq_length]), tf.float32)\n",
    "\n",
    "    # We don't assume that `from_tensor` is a mask (although it could be). We\n",
    "    # don't actually care if we attend *from* padding tokens (only *to* padding)\n",
    "    # tokens so we create a tensor of all ones.\n",
    "    #\n",
    "    # `broadcast_ones` = [batch_size, from_seq_length, 1]\n",
    "    broadcast_ones = tf.ones(\n",
    "        shape=[batch_size, from_seq_length, 1], dtype=tf.float32)\n",
    "\n",
    "    # Here we broadcast along two dimensions to create the mask.\n",
    "    mask = broadcast_ones * to_mask\n",
    "\n",
    "    return mask"
   ]
  },
  {
   "cell_type": "code",
   "execution_count": null,
   "metadata": {},
   "outputs": [
    {
     "data": {
      "text/plain": [
       "<tf.Tensor: shape=(16, 200, 1), dtype=float32, numpy=\n",
       "array([[[1.],\n",
       "        [1.],\n",
       "        [0.],\n",
       "        ...,\n",
       "        [0.],\n",
       "        [0.],\n",
       "        [0.]],\n",
       "\n",
       "       [[0.],\n",
       "        [0.],\n",
       "        [0.],\n",
       "        ...,\n",
       "        [0.],\n",
       "        [0.],\n",
       "        [1.]],\n",
       "\n",
       "       [[0.],\n",
       "        [1.],\n",
       "        [0.],\n",
       "        ...,\n",
       "        [0.],\n",
       "        [0.],\n",
       "        [0.]],\n",
       "\n",
       "       ...,\n",
       "\n",
       "       [[0.],\n",
       "        [1.],\n",
       "        [1.],\n",
       "        ...,\n",
       "        [0.],\n",
       "        [0.],\n",
       "        [1.]],\n",
       "\n",
       "       [[0.],\n",
       "        [0.],\n",
       "        [0.],\n",
       "        ...,\n",
       "        [0.],\n",
       "        [0.],\n",
       "        [0.]],\n",
       "\n",
       "       [[0.],\n",
       "        [1.],\n",
       "        [0.],\n",
       "        ...,\n",
       "        [0.],\n",
       "        [0.],\n",
       "        [0.]]], dtype=float32)>"
      ]
     },
     "execution_count": 134,
     "metadata": {},
     "output_type": "execute_result"
    }
   ],
   "source": [
    "dict_input_lc['att_mask']"
   ]
  },
  {
   "cell_type": "code",
   "execution_count": null,
   "metadata": {},
   "outputs": [],
   "source": []
  }
 ],
 "metadata": {
  "kernelspec": {
   "display_name": "Python 3",
   "language": "python",
   "name": "python3"
  },
  "language_info": {
   "codemirror_mode": {
    "name": "ipython",
    "version": 3
   },
   "file_extension": ".py",
   "mimetype": "text/x-python",
   "name": "python",
   "nbconvert_exporter": "python",
   "pygments_lexer": "ipython3",
   "version": "3.11.4"
  },
  "orig_nbformat": 4
 },
 "nbformat": 4,
 "nbformat_minor": 2
}
