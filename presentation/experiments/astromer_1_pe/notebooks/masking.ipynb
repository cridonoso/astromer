{
 "cells": [
  {
   "cell_type": "code",
   "execution_count": 1,
   "metadata": {},
   "outputs": [
    {
     "name": "stderr",
     "output_type": "stream",
     "text": [
      "2023-10-03 14:11:23.385164: I tensorflow/core/platform/cpu_feature_guard.cc:182] This TensorFlow binary is optimized to use available CPU instructions in performance-critical operations.\n",
      "To enable the following instructions: AVX2 FMA, in other operations, rebuild TensorFlow with the appropriate compiler flags.\n",
      "2023-10-03 14:11:24.261465: W tensorflow/compiler/tf2tensorrt/utils/py_utils.cc:38] TF-TRT Warning: Could not find TensorRT\n"
     ]
    }
   ],
   "source": [
    "import tensorflow as tf"
   ]
  },
  {
   "cell_type": "code",
   "execution_count": 2,
   "metadata": {},
   "outputs": [
    {
     "name": "stderr",
     "output_type": "stream",
     "text": [
      "2023-10-03 14:11:26.457002: W tensorflow/core/common_runtime/gpu/gpu_device.cc:1960] Cannot dlopen some GPU libraries. Please make sure the missing libraries mentioned above are installed properly if you would like to use GPU. Follow the guide at https://www.tensorflow.org/install/gpu for how to download and setup the required libraries for your platform.\n",
      "Skipping registering GPU devices...\n"
     ]
    },
    {
     "data": {
      "text/plain": [
       "<tf.Tensor: shape=(9, 1), dtype=int32, numpy=\n",
       "array([[0],\n",
       "       [0],\n",
       "       [0],\n",
       "       [1],\n",
       "       [0],\n",
       "       [0],\n",
       "       [0],\n",
       "       [1],\n",
       "       [1]], dtype=int32)>"
      ]
     },
     "execution_count": 2,
     "metadata": {},
     "output_type": "execute_result"
    }
   ],
   "source": [
    "mask = tf.constant([[0],\n",
    "                    [0],\n",
    "                    [0],\n",
    "                    [1],\n",
    "                    [0],\n",
    "                    [0],\n",
    "                    [0],\n",
    "                    [1],\n",
    "                    [1]], dtype=tf.int32)\n",
    "\n",
    "mask"
   ]
  },
  {
   "cell_type": "code",
   "execution_count": 29,
   "metadata": {},
   "outputs": [
    {
     "data": {
      "text/plain": [
       "<tf.Tensor: shape=(9, 9), dtype=float32, numpy=\n",
       "array([[0., 0., 0., 1., 0., 0., 0., 1., 1.],\n",
       "       [0., 0., 0., 1., 0., 0., 0., 1., 1.],\n",
       "       [0., 0., 0., 1., 0., 0., 0., 1., 1.],\n",
       "       [0., 0., 0., 1., 0., 0., 0., 1., 1.],\n",
       "       [0., 0., 0., 1., 0., 0., 0., 1., 1.],\n",
       "       [0., 0., 0., 1., 0., 0., 0., 1., 1.],\n",
       "       [0., 0., 0., 1., 0., 0., 0., 1., 1.],\n",
       "       [0., 0., 0., 1., 0., 0., 0., 1., 1.],\n",
       "       [0., 0., 0., 1., 0., 0., 0., 1., 1.]], dtype=float32)>"
      ]
     },
     "execution_count": 29,
     "metadata": {},
     "output_type": "execute_result"
    }
   ],
   "source": [
    "############# Daniel solo vertical #################\n",
    "mask_rshp = tf.tile(tf.cast(mask, tf.float32), [1, 9])\n",
    "mask_rshp_v = tf.transpose(mask_rshp, [1,0])\n",
    "mask_rshp   = tf.minimum(1., mask_rshp_v)\n",
    "mask_rshp"
   ]
  },
  {
   "cell_type": "code",
   "execution_count": 27,
   "metadata": {},
   "outputs": [
    {
     "data": {
      "text/plain": [
       "<tf.Tensor: shape=(9, 9), dtype=float32, numpy=\n",
       "array([[0., 0., 0., 1., 0., 0., 0., 1., 1.],\n",
       "       [0., 0., 0., 1., 0., 0., 0., 1., 1.],\n",
       "       [0., 0., 0., 1., 0., 0., 0., 1., 1.],\n",
       "       [1., 1., 1., 1., 1., 1., 1., 1., 1.],\n",
       "       [0., 0., 0., 1., 0., 0., 0., 1., 1.],\n",
       "       [0., 0., 0., 1., 0., 0., 0., 1., 1.],\n",
       "       [0., 0., 0., 1., 0., 0., 0., 1., 1.],\n",
       "       [1., 1., 1., 1., 1., 1., 1., 1., 1.],\n",
       "       [1., 1., 1., 1., 1., 1., 1., 1., 1.]], dtype=float32)>"
      ]
     },
     "execution_count": 27,
     "metadata": {},
     "output_type": "execute_result"
    }
   ],
   "source": [
    "############# Daniel vertical + horizontal #################\n",
    "mask_rshp = tf.tile(tf.cast(mask, tf.float32), [1, 9])\n",
    "mask_rshp_v = tf.transpose(mask_rshp, [1,0])\n",
    "mask_rshp   = mask_rshp + mask_rshp_v\n",
    "mask_rshp   = tf.minimum(1., mask_rshp)\n",
    "mask_rshp"
   ]
  },
  {
   "cell_type": "code",
   "execution_count": 28,
   "metadata": {},
   "outputs": [
    {
     "data": {
      "text/plain": [
       "<tf.Tensor: shape=(9, 9), dtype=float32, numpy=\n",
       "array([[1., 1., 1., 1., 1., 1., 1., 1., 1.],\n",
       "       [1., 1., 1., 1., 1., 1., 1., 1., 1.],\n",
       "       [0., 0., 0., 1., 0., 0., 0., 1., 1.],\n",
       "       [0., 0., 0., 1., 0., 0., 0., 1., 1.],\n",
       "       [0., 0., 0., 1., 0., 0., 0., 1., 1.],\n",
       "       [1., 1., 1., 1., 1., 1., 1., 1., 1.],\n",
       "       [0., 0., 0., 1., 0., 0., 0., 1., 1.],\n",
       "       [0., 0., 0., 1., 0., 0., 0., 1., 1.],\n",
       "       [0., 0., 0., 1., 0., 0., 0., 1., 1.]], dtype=float32)>"
      ]
     },
     "execution_count": 28,
     "metadata": {},
     "output_type": "execute_result"
    }
   ],
   "source": [
    "############# Cristobal vertical + horizontal #################\n",
    "mask_rshp = tf.tile(tf.cast(mask, tf.float32), [1, 9])\n",
    "mask_rshp_v = tf.reverse(mask_rshp, axis=[0])\n",
    "mask_rshp_h = tf.transpose(mask_rshp, [1,0])\n",
    "mask_rshp   = mask_rshp_v + mask_rshp_h\n",
    "mask_rshp   = tf.minimum(1., mask_rshp)\n",
    "mask_rshp"
   ]
  },
  {
   "cell_type": "code",
   "execution_count": 7,
   "metadata": {},
   "outputs": [
    {
     "data": {
      "text/plain": [
       "<tf.Tensor: shape=(9, 9), dtype=float32, numpy=\n",
       "array([[0., 0., 0., 1., 0., 0., 0., 1., 1.],\n",
       "       [0., 0., 0., 1., 0., 0., 0., 1., 1.],\n",
       "       [0., 0., 0., 1., 0., 0., 0., 1., 1.],\n",
       "       [1., 1., 1., 1., 1., 1., 1., 1., 1.],\n",
       "       [0., 0., 0., 1., 0., 0., 0., 1., 1.],\n",
       "       [0., 0., 0., 1., 0., 0., 0., 1., 1.],\n",
       "       [0., 0., 0., 1., 0., 0., 0., 1., 1.],\n",
       "       [1., 1., 1., 1., 1., 1., 1., 1., 1.],\n",
       "       [1., 1., 1., 1., 1., 1., 1., 1., 1.]], dtype=float32)>"
      ]
     },
     "execution_count": 7,
     "metadata": {},
     "output_type": "execute_result"
    }
   ],
   "source": [
    "# PAPER: Positional encoding\n",
    "mask_rshp = tf.tile(tf.cast(mask, tf.float32), [1,9])\n",
    "mask_rshp += tf.transpose(mask_rshp, [1,0])\n",
    "mask_rshp = tf.minimum(1., mask_rshp)\n",
    "mask_rshp"
   ]
  },
  {
   "cell_type": "code",
   "execution_count": null,
   "metadata": {},
   "outputs": [],
   "source": []
  }
 ],
 "metadata": {
  "kernelspec": {
   "display_name": "base",
   "language": "python",
   "name": "python3"
  },
  "language_info": {
   "codemirror_mode": {
    "name": "ipython",
    "version": 3
   },
   "file_extension": ".py",
   "mimetype": "text/x-python",
   "name": "python",
   "nbconvert_exporter": "python",
   "pygments_lexer": "ipython3",
   "version": "3.11.4"
  },
  "orig_nbformat": 4
 },
 "nbformat": 4,
 "nbformat_minor": 2
}
