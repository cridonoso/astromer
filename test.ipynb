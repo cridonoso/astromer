{
 "cells": [
  {
   "cell_type": "code",
   "execution_count": 1,
   "metadata": {},
   "outputs": [],
   "source": [
    "from src.data.loaders import load_data_astrospec\n",
    "import tensorflow as tf\n",
    "import numpy as np"
   ]
  },
  {
   "cell_type": "code",
   "execution_count": 2,
   "metadata": {},
   "outputs": [],
   "source": [
    "%load_ext autoreload\n",
    "%autoreload 2"
   ]
  },
  {
   "cell_type": "code",
   "execution_count": 3,
   "metadata": {},
   "outputs": [
    {
     "name": "stderr",
     "output_type": "stream",
     "text": [
      "2023-09-23 17:42:44.123717: I tensorflow/core/common_runtime/pluggable_device/pluggable_device_factory.cc:306] Could not identify NUMA node of platform GPU ID 0, defaulting to 0. Your kernel may not have been built with NUMA support.\n",
      "2023-09-23 17:42:44.123841: I tensorflow/core/common_runtime/pluggable_device/pluggable_device_factory.cc:272] Created TensorFlow device (/job:localhost/replica:0/task:0/device:GPU:0 with 0 MB memory) -> physical PluggableDevice (device: 0, name: METAL, pci bus id: <undefined>)\n"
     ]
    },
    {
     "name": "stdout",
     "output_type": "stream",
     "text": [
      "Metal device set to: Apple M1\n",
      "\n",
      "systemMemory: 16.00 GB\n",
      "maxCacheSize: 5.33 GB\n",
      "\n",
      "[INFO] Sampling random windows\n",
      "[INFO] TESTING MODE\n"
     ]
    }
   ],
   "source": [
    "data_object=load_data_astrospec('/Users/yashsurange/Documents/GitHub/astromer/spectral_3000/train',no_of_observations=50,batch_size=2,non_exclusive_fraction=0.65,exclusive_fraction=0.7,iqr_threshold=1.2,sampling=True,off_nsp=True,test_mode=True)"
   ]
  },
  {
   "cell_type": "code",
   "execution_count": 33,
   "metadata": {},
   "outputs": [],
   "source": [
    "tt=tf.reshape(tf.constant([1,2,3,4]),(4,1))"
   ]
  },
  {
   "cell_type": "code",
   "execution_count": 34,
   "metadata": {},
   "outputs": [
    {
     "data": {
      "text/plain": [
       "<tf.Tensor: shape=(4, 1), dtype=int32, numpy=\n",
       "array([[1],\n",
       "       [2],\n",
       "       [3],\n",
       "       [4]], dtype=int32)>"
      ]
     },
     "execution_count": 34,
     "metadata": {},
     "output_type": "execute_result"
    }
   ],
   "source": [
    "tt"
   ]
  },
  {
   "cell_type": "code",
   "execution_count": 38,
   "metadata": {},
   "outputs": [],
   "source": [
    "tt=tf.convert_to_tensor(np.array([[1,2],\n",
    "         [3,4],\n",
    "         [5,6]]))"
   ]
  },
  {
   "cell_type": "code",
   "execution_count": 48,
   "metadata": {},
   "outputs": [
    {
     "data": {
      "text/plain": [
       "<tf.Tensor: shape=(5, 2), dtype=int64, numpy=\n",
       "array([[1, 2],\n",
       "       [3, 4],\n",
       "       [5, 6],\n",
       "       [0, 0],\n",
       "       [0, 0]])>"
      ]
     },
     "execution_count": 48,
     "metadata": {},
     "output_type": "execute_result"
    }
   ],
   "source": [
    "tf.concat([tt,1-mask_fill],0)"
   ]
  },
  {
   "cell_type": "code",
   "execution_count": 4,
   "metadata": {},
   "outputs": [
    {
     "name": "stderr",
     "output_type": "stream",
     "text": [
      "2023-09-23 17:42:51.275311: W tensorflow/core/platform/profile_utils/cpu_utils.cc:128] Failed to get CPU frequency: 0 Hz\n"
     ]
    }
   ],
   "source": [
    "testing_moving_median=0\n",
    "for i in data_object:\n",
    "    testing_moving_median=i\n",
    "    break"
   ]
  },
  {
   "cell_type": "code",
   "execution_count": 5,
   "metadata": {},
   "outputs": [
    {
     "data": {
      "text/plain": [
       "dict_keys(['magnitudes', 'times', 'att_mask', 'original', 'mask'])"
      ]
     },
     "execution_count": 5,
     "metadata": {},
     "output_type": "execute_result"
    }
   ],
   "source": [
    "testing_moving_median[0].keys()"
   ]
  },
  {
   "cell_type": "code",
   "execution_count": 7,
   "metadata": {},
   "outputs": [
    {
     "data": {
      "text/plain": [
       "TensorShape([2, 50, 2])"
      ]
     },
     "execution_count": 7,
     "metadata": {},
     "output_type": "execute_result"
    }
   ],
   "source": [
    "testing_moving_median[0]['original'].shape\n",
    "# testing_moving_median[0]['mask'].shape"
   ]
  },
  {
   "cell_type": "code",
   "execution_count": 6,
   "metadata": {},
   "outputs": [
    {
     "data": {
      "text/plain": [
       "dict_keys(['magnitudes', 'probed_mask'])"
      ]
     },
     "execution_count": 6,
     "metadata": {},
     "output_type": "execute_result"
    }
   ],
   "source": [
    "testing_moving_median[1].keys()"
   ]
  },
  {
   "cell_type": "code",
   "execution_count": 6,
   "metadata": {},
   "outputs": [
    {
     "data": {
      "text/plain": [
       "TensorShape([2, 50, 1])"
      ]
     },
     "execution_count": 6,
     "metadata": {},
     "output_type": "execute_result"
    }
   ],
   "source": [
    "testing_moving_median[1]['magnitudes'].shape\n"
   ]
  },
  {
   "cell_type": "code",
   "execution_count": 7,
   "metadata": {},
   "outputs": [
    {
     "data": {
      "text/plain": [
       "TensorShape([2, 50, 1])"
      ]
     },
     "execution_count": 7,
     "metadata": {},
     "output_type": "execute_result"
    }
   ],
   "source": [
    "testing_moving_median[1]['probed_mask'].shape"
   ]
  },
  {
   "cell_type": "code",
   "execution_count": 10,
   "metadata": {},
   "outputs": [
    {
     "data": {
      "text/plain": [
       "TensorShape([2, 50, 1])"
      ]
     },
     "execution_count": 10,
     "metadata": {},
     "output_type": "execute_result"
    }
   ],
   "source": [
    "testing_moving_median[0]['times'].shape\n"
   ]
  },
  {
   "cell_type": "code",
   "execution_count": 11,
   "metadata": {},
   "outputs": [
    {
     "data": {
      "text/plain": [
       "TensorShape([2, 50, 1])"
      ]
     },
     "execution_count": 11,
     "metadata": {},
     "output_type": "execute_result"
    }
   ],
   "source": [
    "testing_moving_median[0]['att_mask'].shape"
   ]
  },
  {
   "cell_type": "code",
   "execution_count": 17,
   "metadata": {},
   "outputs": [
    {
     "data": {
      "text/plain": [
       "<tf.Tensor: shape=(2, 50, 1, 1), dtype=float32, numpy=\n",
       "array([[[[1.]],\n",
       "\n",
       "        [[1.]],\n",
       "\n",
       "        [[1.]],\n",
       "\n",
       "        [[1.]],\n",
       "\n",
       "        [[1.]],\n",
       "\n",
       "        [[1.]],\n",
       "\n",
       "        [[1.]],\n",
       "\n",
       "        [[1.]],\n",
       "\n",
       "        [[1.]],\n",
       "\n",
       "        [[1.]],\n",
       "\n",
       "        [[1.]],\n",
       "\n",
       "        [[1.]],\n",
       "\n",
       "        [[1.]],\n",
       "\n",
       "        [[1.]],\n",
       "\n",
       "        [[1.]],\n",
       "\n",
       "        [[1.]],\n",
       "\n",
       "        [[1.]],\n",
       "\n",
       "        [[1.]],\n",
       "\n",
       "        [[1.]],\n",
       "\n",
       "        [[1.]],\n",
       "\n",
       "        [[1.]],\n",
       "\n",
       "        [[1.]],\n",
       "\n",
       "        [[1.]],\n",
       "\n",
       "        [[1.]],\n",
       "\n",
       "        [[1.]],\n",
       "\n",
       "        [[1.]],\n",
       "\n",
       "        [[1.]],\n",
       "\n",
       "        [[1.]],\n",
       "\n",
       "        [[1.]],\n",
       "\n",
       "        [[1.]],\n",
       "\n",
       "        [[1.]],\n",
       "\n",
       "        [[1.]],\n",
       "\n",
       "        [[1.]],\n",
       "\n",
       "        [[1.]],\n",
       "\n",
       "        [[1.]],\n",
       "\n",
       "        [[1.]],\n",
       "\n",
       "        [[1.]],\n",
       "\n",
       "        [[1.]],\n",
       "\n",
       "        [[1.]],\n",
       "\n",
       "        [[1.]],\n",
       "\n",
       "        [[1.]],\n",
       "\n",
       "        [[1.]],\n",
       "\n",
       "        [[1.]],\n",
       "\n",
       "        [[1.]],\n",
       "\n",
       "        [[1.]],\n",
       "\n",
       "        [[1.]],\n",
       "\n",
       "        [[1.]],\n",
       "\n",
       "        [[1.]],\n",
       "\n",
       "        [[1.]],\n",
       "\n",
       "        [[1.]]],\n",
       "\n",
       "\n",
       "       [[[1.]],\n",
       "\n",
       "        [[1.]],\n",
       "\n",
       "        [[1.]],\n",
       "\n",
       "        [[1.]],\n",
       "\n",
       "        [[1.]],\n",
       "\n",
       "        [[1.]],\n",
       "\n",
       "        [[1.]],\n",
       "\n",
       "        [[1.]],\n",
       "\n",
       "        [[1.]],\n",
       "\n",
       "        [[1.]],\n",
       "\n",
       "        [[1.]],\n",
       "\n",
       "        [[1.]],\n",
       "\n",
       "        [[1.]],\n",
       "\n",
       "        [[1.]],\n",
       "\n",
       "        [[1.]],\n",
       "\n",
       "        [[1.]],\n",
       "\n",
       "        [[1.]],\n",
       "\n",
       "        [[1.]],\n",
       "\n",
       "        [[1.]],\n",
       "\n",
       "        [[1.]],\n",
       "\n",
       "        [[1.]],\n",
       "\n",
       "        [[1.]],\n",
       "\n",
       "        [[1.]],\n",
       "\n",
       "        [[1.]],\n",
       "\n",
       "        [[1.]],\n",
       "\n",
       "        [[1.]],\n",
       "\n",
       "        [[1.]],\n",
       "\n",
       "        [[1.]],\n",
       "\n",
       "        [[1.]],\n",
       "\n",
       "        [[1.]],\n",
       "\n",
       "        [[1.]],\n",
       "\n",
       "        [[1.]],\n",
       "\n",
       "        [[1.]],\n",
       "\n",
       "        [[1.]],\n",
       "\n",
       "        [[1.]],\n",
       "\n",
       "        [[1.]],\n",
       "\n",
       "        [[1.]],\n",
       "\n",
       "        [[1.]],\n",
       "\n",
       "        [[1.]],\n",
       "\n",
       "        [[1.]],\n",
       "\n",
       "        [[1.]],\n",
       "\n",
       "        [[1.]],\n",
       "\n",
       "        [[1.]],\n",
       "\n",
       "        [[1.]],\n",
       "\n",
       "        [[1.]],\n",
       "\n",
       "        [[1.]],\n",
       "\n",
       "        [[1.]],\n",
       "\n",
       "        [[1.]],\n",
       "\n",
       "        [[1.]],\n",
       "\n",
       "        [[1.]]]], dtype=float32)>"
      ]
     },
     "execution_count": 17,
     "metadata": {},
     "output_type": "execute_result"
    }
   ],
   "source": [
    "tf.expand_dims(testing_moving_median['mask'],-1)"
   ]
  },
  {
   "cell_type": "code",
   "execution_count": 15,
   "metadata": {},
   "outputs": [
    {
     "ename": "InvalidArgumentError",
     "evalue": "{{function_node __wrapped__Slice_device_/job:localhost/replica:0/task:0/device:GPU:0}} Expected size[2] in [0, 0], but got 1 [Op:Slice]",
     "output_type": "error",
     "traceback": [
      "\u001b[0;31m---------------------------------------------------------------------------\u001b[0m",
      "\u001b[0;31mInvalidArgumentError\u001b[0m                      Traceback (most recent call last)",
      "\u001b[1;32m/Users/yashsurange/Documents/GitHub/astromer/test.ipynb Cell 9\u001b[0m line \u001b[0;36m1\n\u001b[0;32m----> <a href='vscode-notebook-cell:/Users/yashsurange/Documents/GitHub/astromer/test.ipynb#X41sZmlsZQ%3D%3D?line=0'>1</a>\u001b[0m tf\u001b[39m.\u001b[39;49mslice(testing_moving_median[\u001b[39m'\u001b[39;49m\u001b[39minput\u001b[39;49m\u001b[39m'\u001b[39;49m],[\u001b[39m0\u001b[39;49m,\u001b[39m0\u001b[39;49m,\u001b[39m2\u001b[39;49m],[\u001b[39m-\u001b[39;49m\u001b[39m1\u001b[39;49m,\u001b[39m-\u001b[39;49m\u001b[39m1\u001b[39;49m,\u001b[39m1\u001b[39;49m])\n",
      "File \u001b[0;32m~/tensorflow-test/env/lib/python3.10/site-packages/tensorflow/python/util/traceback_utils.py:153\u001b[0m, in \u001b[0;36mfilter_traceback.<locals>.error_handler\u001b[0;34m(*args, **kwargs)\u001b[0m\n\u001b[1;32m    151\u001b[0m \u001b[39mexcept\u001b[39;00m \u001b[39mException\u001b[39;00m \u001b[39mas\u001b[39;00m e:\n\u001b[1;32m    152\u001b[0m   filtered_tb \u001b[39m=\u001b[39m _process_traceback_frames(e\u001b[39m.\u001b[39m__traceback__)\n\u001b[0;32m--> 153\u001b[0m   \u001b[39mraise\u001b[39;00m e\u001b[39m.\u001b[39mwith_traceback(filtered_tb) \u001b[39mfrom\u001b[39;00m \u001b[39mNone\u001b[39m\n\u001b[1;32m    154\u001b[0m \u001b[39mfinally\u001b[39;00m:\n\u001b[1;32m    155\u001b[0m   \u001b[39mdel\u001b[39;00m filtered_tb\n",
      "File \u001b[0;32m~/tensorflow-test/env/lib/python3.10/site-packages/tensorflow/python/eager/execute.py:54\u001b[0m, in \u001b[0;36mquick_execute\u001b[0;34m(op_name, num_outputs, inputs, attrs, ctx, name)\u001b[0m\n\u001b[1;32m     52\u001b[0m \u001b[39mtry\u001b[39;00m:\n\u001b[1;32m     53\u001b[0m   ctx\u001b[39m.\u001b[39mensure_initialized()\n\u001b[0;32m---> 54\u001b[0m   tensors \u001b[39m=\u001b[39m pywrap_tfe\u001b[39m.\u001b[39mTFE_Py_Execute(ctx\u001b[39m.\u001b[39m_handle, device_name, op_name,\n\u001b[1;32m     55\u001b[0m                                       inputs, attrs, num_outputs)\n\u001b[1;32m     56\u001b[0m \u001b[39mexcept\u001b[39;00m core\u001b[39m.\u001b[39m_NotOkStatusException \u001b[39mas\u001b[39;00m e:\n\u001b[1;32m     57\u001b[0m   \u001b[39mif\u001b[39;00m name \u001b[39mis\u001b[39;00m \u001b[39mnot\u001b[39;00m \u001b[39mNone\u001b[39;00m:\n",
      "\u001b[0;31mInvalidArgumentError\u001b[0m: {{function_node __wrapped__Slice_device_/job:localhost/replica:0/task:0/device:GPU:0}} Expected size[2] in [0, 0], but got 1 [Op:Slice]"
     ]
    }
   ],
   "source": [
    "tf.slice(testing_moving_median['input'],[0,0,2],[-1,-1,1])"
   ]
  },
  {
   "cell_type": "code",
   "execution_count": 29,
   "metadata": {},
   "outputs": [
    {
     "data": {
      "text/plain": [
       "<tf.Tensor: shape=(2, 1), dtype=float32, numpy=\n",
       "array([[1.],\n",
       "       [1.]], dtype=float32)>"
      ]
     },
     "execution_count": 29,
     "metadata": {},
     "output_type": "execute_result"
    }
   ],
   "source": [
    "mask_fill"
   ]
  },
  {
   "cell_type": "code",
   "execution_count": 45,
   "metadata": {},
   "outputs": [],
   "source": [
    "mask_fill = tf.ones([5 - 3, 2], dtype=tf.int64)\n",
    "# tf.concat([testing_moving_median['input'][:3],mask_fill],0)"
   ]
  },
  {
   "cell_type": "code",
   "execution_count": 46,
   "metadata": {},
   "outputs": [
    {
     "data": {
      "text/plain": [
       "<tf.Tensor: shape=(2, 2), dtype=int64, numpy=\n",
       "array([[1, 1],\n",
       "       [1, 1]])>"
      ]
     },
     "execution_count": 46,
     "metadata": {},
     "output_type": "execute_result"
    }
   ],
   "source": [
    "mask_fill"
   ]
  },
  {
   "cell_type": "code",
   "execution_count": 15,
   "metadata": {},
   "outputs": [
    {
     "name": "stdout",
     "output_type": "stream",
     "text": [
      "1\n"
     ]
    }
   ],
   "source": [
    "if tf.shape(testing_moving_median['input'])[0]>20:\n",
    "    print(1)"
   ]
  },
  {
   "cell_type": "code",
   "execution_count": 16,
   "metadata": {},
   "outputs": [
    {
     "data": {
      "text/plain": [
       "dict_keys(['input', 'moving_median_sequence', 'original', 'lcid', 'length', 'mask', 'label', 'probed_mask', 'att_mask'])"
      ]
     },
     "execution_count": 16,
     "metadata": {},
     "output_type": "execute_result"
    }
   ],
   "source": [
    "testing_moving_median.keys()"
   ]
  },
  {
   "cell_type": "code",
   "execution_count": 9,
   "metadata": {},
   "outputs": [],
   "source": [
    "reshaped=tf.reshape(testing_moving_median['probed_mask'],[50,1])"
   ]
  },
  {
   "cell_type": "code",
   "execution_count": 32,
   "metadata": {},
   "outputs": [
    {
     "data": {
      "text/plain": [
       "<tf.Tensor: shape=(50, 1), dtype=float32, numpy=\n",
       "array([[0.],\n",
       "       [0.],\n",
       "       [0.],\n",
       "       [0.],\n",
       "       [1.],\n",
       "       [1.],\n",
       "       [0.],\n",
       "       [0.],\n",
       "       [0.],\n",
       "       [0.],\n",
       "       [0.],\n",
       "       [0.],\n",
       "       [1.],\n",
       "       [1.],\n",
       "       [1.],\n",
       "       [0.],\n",
       "       [0.],\n",
       "       [0.],\n",
       "       [0.],\n",
       "       [0.],\n",
       "       [0.],\n",
       "       [0.],\n",
       "       [1.],\n",
       "       [1.],\n",
       "       [0.],\n",
       "       [1.],\n",
       "       [1.],\n",
       "       [1.],\n",
       "       [1.],\n",
       "       [1.],\n",
       "       [1.],\n",
       "       [1.],\n",
       "       [1.],\n",
       "       [1.],\n",
       "       [0.],\n",
       "       [1.],\n",
       "       [1.],\n",
       "       [1.],\n",
       "       [1.],\n",
       "       [1.],\n",
       "       [0.],\n",
       "       [0.],\n",
       "       [1.],\n",
       "       [1.],\n",
       "       [1.],\n",
       "       [1.],\n",
       "       [1.],\n",
       "       [0.],\n",
       "       [0.],\n",
       "       [0.]], dtype=float32)>"
      ]
     },
     "execution_count": 32,
     "metadata": {},
     "output_type": "execute_result"
    }
   ],
   "source": [
    "reshaped"
   ]
  },
  {
   "cell_type": "code",
   "execution_count": 16,
   "metadata": {},
   "outputs": [
    {
     "data": {
      "text/plain": [
       "<tf.Tensor: shape=(50, 1), dtype=float32, numpy=\n",
       "array([[1.],\n",
       "       [1.],\n",
       "       [1.],\n",
       "       [1.],\n",
       "       [1.],\n",
       "       [0.],\n",
       "       [0.],\n",
       "       [0.],\n",
       "       [0.],\n",
       "       [0.],\n",
       "       [0.],\n",
       "       [0.],\n",
       "       [0.],\n",
       "       [0.],\n",
       "       [0.],\n",
       "       [1.],\n",
       "       [1.],\n",
       "       [1.],\n",
       "       [0.],\n",
       "       [1.],\n",
       "       [1.],\n",
       "       [0.],\n",
       "       [0.],\n",
       "       [0.],\n",
       "       [1.],\n",
       "       [1.],\n",
       "       [1.],\n",
       "       [1.],\n",
       "       [0.],\n",
       "       [0.],\n",
       "       [0.],\n",
       "       [0.],\n",
       "       [0.],\n",
       "       [0.],\n",
       "       [0.],\n",
       "       [0.],\n",
       "       [0.],\n",
       "       [0.],\n",
       "       [0.],\n",
       "       [0.],\n",
       "       [0.],\n",
       "       [0.],\n",
       "       [0.],\n",
       "       [0.],\n",
       "       [1.],\n",
       "       [1.],\n",
       "       [1.],\n",
       "       [0.],\n",
       "       [0.],\n",
       "       [0.]], dtype=float32)>"
      ]
     },
     "execution_count": 16,
     "metadata": {},
     "output_type": "execute_result"
    }
   ],
   "source": [
    "testing_moving_median['probed_mask']"
   ]
  },
  {
   "cell_type": "code",
   "execution_count": 10,
   "metadata": {},
   "outputs": [
    {
     "data": {
      "text/plain": [
       "<tf.Tensor: shape=(50, 2), dtype=float32, numpy=\n",
       "array([[ -0.        ,  -0.        ],\n",
       "       [ -0.        ,  -0.        ],\n",
       "       [ -0.        ,  -0.        ],\n",
       "       [ -0.        ,  -0.        ],\n",
       "       [-19.905762  ,   1.0902777 ],\n",
       "       [-18.938965  ,   0.81722116],\n",
       "       [ -0.        ,   0.        ],\n",
       "       [ -0.        ,   0.        ],\n",
       "       [ -0.        ,   0.        ],\n",
       "       [ -0.        ,   0.        ],\n",
       "       [ -0.        ,  -0.        ],\n",
       "       [ -0.        ,   0.        ],\n",
       "       [-12.158203  ,   0.09016132],\n",
       "       [-11.189941  ,   0.11308146],\n",
       "       [-10.21875   ,   0.47680283],\n",
       "       [ -0.        ,  -0.        ],\n",
       "       [ -0.        ,  -0.        ],\n",
       "       [ -0.        ,   0.        ],\n",
       "       [ -0.        ,   0.        ],\n",
       "       [ -0.        ,   0.        ],\n",
       "       [ -0.        ,  -0.        ],\n",
       "       [ -0.        ,   0.        ],\n",
       "       [ -2.4536133 ,  -0.66094613],\n",
       "       [ -1.4804688 ,  -0.5366204 ],\n",
       "       [ -0.        ,  -0.        ],\n",
       "       [  0.4638672 ,   0.28029823],\n",
       "       [  1.4355469 ,   0.3897295 ],\n",
       "       [  2.4072266 ,  -0.09306765],\n",
       "       [  3.3813477 ,  -0.24985886],\n",
       "       [  4.3535156 ,   0.07533503],\n",
       "       [  5.328125  ,  -0.46161938],\n",
       "       [  6.3007812 ,  -0.57373047],\n",
       "       [  7.275879  ,  -0.30346775],\n",
       "       [  8.248535  ,  -0.39268923],\n",
       "       [  0.        ,   0.        ],\n",
       "       [ 10.197754  ,  -0.39231515],\n",
       "       [ 11.171387  ,  -0.3745098 ],\n",
       "       [ 12.147949  ,   0.41899872],\n",
       "       [ 13.12207   ,   0.6171737 ],\n",
       "       [ 14.098633  ,   0.482224  ],\n",
       "       [  0.        ,  -0.        ],\n",
       "       [  0.        ,   0.        ],\n",
       "       [ 17.02539   ,   0.4878292 ],\n",
       "       [ 18.000488  ,   0.10664511],\n",
       "       [ 18.978516  ,  -0.20973253],\n",
       "       [ 19.954102  ,  -0.9718735 ],\n",
       "       [ 20.932129  ,  -0.73724985],\n",
       "       [  0.        ,   0.        ],\n",
       "       [  0.        ,  -0.        ],\n",
       "       [  0.        ,  -0.        ]], dtype=float32)>"
      ]
     },
     "execution_count": 10,
     "metadata": {},
     "output_type": "execute_result"
    }
   ],
   "source": [
    "tf.multiply(testing_moving_median['input'],reshaped)"
   ]
  },
  {
   "cell_type": "code",
   "execution_count": 7,
   "metadata": {},
   "outputs": [],
   "source": [
    "from src.data.preprocessing import calculate_iqr"
   ]
  },
  {
   "cell_type": "code",
   "execution_count": 22,
   "metadata": {},
   "outputs": [
    {
     "name": "stderr",
     "output_type": "stream",
     "text": [
      "2023-09-22 22:01:11.110706: I tensorflow/core/grappler/optimizers/custom_graph_optimizer_registry.cc:114] Plugin optimizer for device_type GPU is enabled.\n",
      "2023-09-22 22:01:11.220378: I tensorflow/core/grappler/optimizers/custom_graph_optimizer_registry.cc:114] Plugin optimizer for device_type GPU is enabled.\n"
     ]
    },
    {
     "data": {
      "text/plain": [
       "{'input': <tf.Tensor: shape=(50, 2), dtype=float32, numpy=\n",
       " array([[-5.35732422e+01,  5.93668938e-01],\n",
       "        [-5.13916016e+01, -9.38462257e-01],\n",
       "        [-4.92148438e+01, -1.80243909e-01],\n",
       "        [-4.70322266e+01,  4.24127221e-01],\n",
       "        [-4.48544922e+01,  3.59065294e-01],\n",
       "        [-4.26757812e+01,  8.65865946e-02],\n",
       "        [-4.04921875e+01,  1.63667023e-01],\n",
       "        [-3.83125000e+01,  6.51389599e-01],\n",
       "        [-3.61279297e+01,  1.37776434e-01],\n",
       "        [-3.39472656e+01, -2.55158472e+00],\n",
       "        [-3.17617188e+01, -1.80136514e+00],\n",
       "        [-2.95800781e+01,  2.86371589e-01],\n",
       "        [-2.73984375e+01,  3.03279042e-01],\n",
       "        [-2.52109375e+01,  4.98347759e-01],\n",
       "        [-2.30283203e+01,  1.04109168e-01],\n",
       "        [-2.08388672e+01,  5.43916821e-01],\n",
       "        [-1.86552734e+01,  1.15712583e-01],\n",
       "        [-1.64658203e+01, -1.83890641e-01],\n",
       "        [-1.42812500e+01,  3.24962497e-01],\n",
       "        [-1.20957031e+01, -9.27468538e-02],\n",
       "        [-9.90429688e+00,  9.77913141e-01],\n",
       "        [-7.71875000e+00,  1.06861854e+00],\n",
       "        [-5.52636719e+00,  4.01663184e-01],\n",
       "        [-3.33886719e+00,  8.77571702e-02],\n",
       "        [-1.14550781e+00,  2.32048631e-01],\n",
       "        [ 1.04296875e+00, -4.91452217e-02],\n",
       "        [ 3.23144531e+00,  1.83897197e-01],\n",
       "        [ 5.42578125e+00,  4.08684850e-01],\n",
       "        [ 7.61621094e+00, -1.90370631e+00],\n",
       "        [ 9.81152344e+00, -2.00299168e+00],\n",
       "        [ 1.20019531e+01,  1.20944583e+00],\n",
       "        [ 1.41992188e+01,  3.61174345e-03],\n",
       "        [ 1.63906250e+01,  1.46402240e-01],\n",
       "        [ 1.85830078e+01,  1.84176147e-01],\n",
       "        [ 2.07812500e+01, -6.13920689e-02],\n",
       "        [ 2.29746094e+01, -1.28467023e-01],\n",
       "        [ 2.51738281e+01,  7.14655519e-02],\n",
       "        [ 2.73681641e+01,  8.13964605e-02],\n",
       "        [ 2.95683594e+01, -1.32715106e-01],\n",
       "        [ 3.17636719e+01,  3.18302989e-01],\n",
       "        [ 3.39599609e+01,  2.34278202e-01],\n",
       "        [ 3.61621094e+01,  2.12688446e-02],\n",
       "        [ 3.83583984e+01,  3.51504564e-01],\n",
       "        [ 4.05615234e+01,  2.68983960e-01],\n",
       "        [ 4.27587891e+01, -6.83297098e-01],\n",
       "        [ 4.49628906e+01, -2.01551437e-01],\n",
       "        [ 4.71621094e+01,  1.15952134e-01],\n",
       "        [ 4.93662109e+01,  1.24492645e-01],\n",
       "        [ 5.15664062e+01,  2.46501982e-01],\n",
       "        [ 5.37675781e+01, -4.19784009e-01]], dtype=float32)>,\n",
       " 'moving_median_sequence': <tf.Tensor: shape=(50, 2), dtype=float32, numpy=\n",
       " array([[-5.3573242e+01, -9.2612207e-02],\n",
       "        [-5.1391602e+01, -5.8340311e-02],\n",
       "        [-4.9214844e+01,  1.8740118e-02],\n",
       "        [-4.7032227e+01, -7.1504712e-03],\n",
       "        [-4.4854492e+01, -7.1504712e-03],\n",
       "        [-4.2675781e+01, -7.1504712e-03],\n",
       "        [-4.0492188e+01, -7.1504712e-03],\n",
       "        [-3.8312500e+01,  1.8740118e-02],\n",
       "        [-3.6127930e+01,  1.4144468e-01],\n",
       "        [-3.3947266e+01,  1.8740118e-02],\n",
       "        [-3.1761719e+01,  1.8740118e-02],\n",
       "        [-2.9580078e+01,  1.8740118e-02],\n",
       "        [-2.7398438e+01, -7.1504712e-03],\n",
       "        [-2.5210938e+01, -7.1504712e-03],\n",
       "        [-2.3028320e+01, -2.9214323e-02],\n",
       "        [-2.0838867e+01,  1.4144468e-01],\n",
       "        [-1.8655273e+01,  1.5835214e-01],\n",
       "        [-1.6465820e+01,  1.8003559e-01],\n",
       "        [-1.4281250e+01,  1.8003559e-01],\n",
       "        [-1.2095703e+01,  8.7121725e-02],\n",
       "        [-9.9042969e+00,  8.7121725e-02],\n",
       "        [-7.7187500e+00,  3.8970292e-02],\n",
       "        [-5.5263672e+00,  8.7121725e-02],\n",
       "        [-3.3388672e+00,  8.7121725e-02],\n",
       "        [-1.1455078e+00,  3.8970292e-02],\n",
       "        [ 1.0429688e+00,  8.7121725e-02],\n",
       "        [ 3.2314453e+00,  3.8970292e-02],\n",
       "        [ 5.4257812e+00,  1.4753342e-03],\n",
       "        [ 7.6162109e+00,  1.4753342e-03],\n",
       "        [ 9.8115234e+00,  1.4753342e-03],\n",
       "        [ 1.2001953e+01, -1.4131516e-01],\n",
       "        [ 1.4199219e+01, -7.3461354e-02],\n",
       "        [ 1.6390625e+01, -7.3461354e-02],\n",
       "        [ 1.8583008e+01, -1.4131516e-01],\n",
       "        [ 2.0781250e+01, -7.3461354e-02],\n",
       "        [ 2.2974609e+01, -6.3530445e-02],\n",
       "        [ 2.5173828e+01, -7.3461354e-02],\n",
       "        [ 2.7368164e+01, -6.3530445e-02],\n",
       "        [ 2.9568359e+01, -6.3530445e-02],\n",
       "        [ 3.1763672e+01, -7.3461354e-02],\n",
       "        [ 3.3959961e+01, -7.3461354e-02],\n",
       "        [ 3.6162109e+01, -6.3530445e-02],\n",
       "        [ 3.8358398e+01, -2.8974771e-02],\n",
       "        [ 4.0561523e+01, -2.0434260e-02],\n",
       "        [ 4.2758789e+01, -2.0434260e-02],\n",
       "        [ 4.4962891e+01, -2.8974771e-02],\n",
       "        [ 4.7162109e+01, -2.8974771e-02],\n",
       "        [ 4.9366211e+01, -2.0434260e-02],\n",
       "        [ 5.1566406e+01, -2.8974771e-02],\n",
       "        [ 5.3767578e+01, -7.4163496e-02]], dtype=float32)>,\n",
       " 'original': <tf.Tensor: shape=(50, 2), dtype=float32, numpy=\n",
       " array([[-5.35732422e+01,  5.93668938e-01],\n",
       "        [-5.13916016e+01, -9.38462257e-01],\n",
       "        [-4.92148438e+01, -1.80243909e-01],\n",
       "        [-4.70322266e+01,  4.24127221e-01],\n",
       "        [-4.48544922e+01,  3.59065294e-01],\n",
       "        [-4.26757812e+01,  8.65865946e-02],\n",
       "        [-4.04921875e+01,  1.63667023e-01],\n",
       "        [-3.83125000e+01,  6.51389599e-01],\n",
       "        [-3.61279297e+01,  1.37776434e-01],\n",
       "        [-3.39472656e+01, -2.55158472e+00],\n",
       "        [-3.17617188e+01, -1.80136514e+00],\n",
       "        [-2.95800781e+01,  2.86371589e-01],\n",
       "        [-2.73984375e+01,  3.03279042e-01],\n",
       "        [-2.52109375e+01,  4.98347759e-01],\n",
       "        [-2.30283203e+01,  1.04109168e-01],\n",
       "        [-2.08388672e+01,  5.43916821e-01],\n",
       "        [-1.86552734e+01,  1.15712583e-01],\n",
       "        [-1.64658203e+01, -1.83890641e-01],\n",
       "        [-1.42812500e+01,  3.24962497e-01],\n",
       "        [-1.20957031e+01, -9.27468538e-02],\n",
       "        [-9.90429688e+00,  9.77913141e-01],\n",
       "        [-7.71875000e+00,  1.06861854e+00],\n",
       "        [-5.52636719e+00,  4.01663184e-01],\n",
       "        [-3.33886719e+00,  8.77571702e-02],\n",
       "        [-1.14550781e+00,  2.32048631e-01],\n",
       "        [ 1.04296875e+00, -4.91452217e-02],\n",
       "        [ 3.23144531e+00,  1.83897197e-01],\n",
       "        [ 5.42578125e+00,  4.08684850e-01],\n",
       "        [ 7.61621094e+00, -1.90370631e+00],\n",
       "        [ 9.81152344e+00, -2.00299168e+00],\n",
       "        [ 1.20019531e+01,  1.20944583e+00],\n",
       "        [ 1.41992188e+01,  3.61174345e-03],\n",
       "        [ 1.63906250e+01,  1.46402240e-01],\n",
       "        [ 1.85830078e+01,  1.84176147e-01],\n",
       "        [ 2.07812500e+01, -6.13920689e-02],\n",
       "        [ 2.29746094e+01, -1.28467023e-01],\n",
       "        [ 2.51738281e+01,  7.14655519e-02],\n",
       "        [ 2.73681641e+01,  8.13964605e-02],\n",
       "        [ 2.95683594e+01, -1.32715106e-01],\n",
       "        [ 3.17636719e+01,  3.18302989e-01],\n",
       "        [ 3.39599609e+01,  2.34278202e-01],\n",
       "        [ 3.61621094e+01,  2.12688446e-02],\n",
       "        [ 3.83583984e+01,  3.51504564e-01],\n",
       "        [ 4.05615234e+01,  2.68983960e-01],\n",
       "        [ 4.27587891e+01, -6.83297098e-01],\n",
       "        [ 4.49628906e+01, -2.01551437e-01],\n",
       "        [ 4.71621094e+01,  1.15952134e-01],\n",
       "        [ 4.93662109e+01,  1.24492645e-01],\n",
       "        [ 5.15664062e+01,  2.46501982e-01],\n",
       "        [ 5.37675781e+01, -4.19784009e-01]], dtype=float32)>,\n",
       " 'lcid': <tf.Tensor: shape=(), dtype=string, numpy=b'q_5968'>,\n",
       " 'length': <tf.Tensor: shape=(), dtype=int32, numpy=4613>,\n",
       " 'mask': <tf.Tensor: shape=(50,), dtype=float32, numpy=\n",
       " array([1., 1., 1., 1., 1., 1., 1., 1., 1., 1., 1., 1., 1., 1., 1., 1., 1.,\n",
       "        1., 1., 1., 1., 1., 1., 1., 1., 1., 1., 1., 1., 1., 1., 1., 1., 1.,\n",
       "        1., 1., 1., 1., 1., 1., 1., 1., 1., 1., 1., 1., 1., 1., 1., 1.],\n",
       "       dtype=float32)>,\n",
       " 'label': <tf.Tensor: shape=(), dtype=int32, numpy=1>,\n",
       " 'probed_mask': <tf.Tensor: shape=(50,), dtype=float32, numpy=\n",
       " array([0., 1., 1., 1., 1., 0., 0., 0., 0., 0., 0., 1., 1., 1., 0., 0., 0.,\n",
       "        0., 0., 0., 1., 1., 1., 0., 0., 1., 1., 0., 0., 0., 0., 0., 1., 1.,\n",
       "        0., 0., 0., 0., 0., 1., 1., 0., 1., 1., 0., 0., 0., 0., 0., 0.],\n",
       "       dtype=float32)>,\n",
       " 'att_mask': <tf.Tensor: shape=(50,), dtype=float32, numpy=\n",
       " array([0., 0., 0., 1., 1., 0., 0., 0., 0., 0., 0., 0., 1., 1., 0., 0., 0.,\n",
       "        0., 0., 0., 1., 1., 1., 0., 0., 0., 0., 0., 0., 0., 0., 0., 1., 1.,\n",
       "        0., 0., 0., 0., 0., 0., 0., 0., 1., 1., 0., 0., 0., 0., 0., 0.],\n",
       "       dtype=float32)>}"
      ]
     },
     "execution_count": 22,
     "metadata": {},
     "output_type": "execute_result"
    }
   ],
   "source": [
    "from src.data.masking import get_probed_astrospec\n",
    "\n",
    "get_probed_astrospec(testing_moving_median,0.7,0.65,1.5)#['probed_mask']"
   ]
  },
  {
   "cell_type": "code",
   "execution_count": 23,
   "metadata": {},
   "outputs": [
    {
     "data": {
      "text/plain": [
       "<tf.Tensor: shape=(50,), dtype=float32, numpy=\n",
       "array([0., 1., 1., 1., 1., 0., 0., 0., 0., 1., 1., 1., 1., 1., 0., 0., 0.,\n",
       "       0., 0., 0., 1., 1., 1., 0., 0., 0., 0., 0., 0., 0., 0., 0., 0., 0.,\n",
       "       0., 0., 0., 0., 0., 1., 1., 0., 0., 0., 1., 1., 1., 1., 0., 0.],\n",
       "      dtype=float32)>"
      ]
     },
     "execution_count": 23,
     "metadata": {},
     "output_type": "execute_result"
    }
   ],
   "source": [
    "get_probed_astrospec(testing_moving_median,0.7,0.65,1.5)['probed_mask']"
   ]
  },
  {
   "cell_type": "code",
   "execution_count": 13,
   "metadata": {},
   "outputs": [
    {
     "data": {
      "text/plain": [
       "<tf.Tensor: shape=(50,), dtype=float32, numpy=\n",
       "array([1., 1., 1., 1., 0., 0., 0., 0., 0., 0., 0., 0., 0., 0., 0., 0., 0.,\n",
       "       0., 0., 0., 0., 0., 0., 0., 0., 0., 0., 0., 0., 0., 0., 0., 1., 1.,\n",
       "       1., 1., 0., 0., 0., 0., 0., 0., 0., 1., 1., 0., 0., 0., 0., 0.],\n",
       "      dtype=float32)>"
      ]
     },
     "execution_count": 13,
     "metadata": {},
     "output_type": "execute_result"
    }
   ],
   "source": [
    "test_mask"
   ]
  },
  {
   "cell_type": "code",
   "execution_count": 10,
   "metadata": {},
   "outputs": [],
   "source": [
    "are_equal = tf.reduce_all(tf.math.equal(get_probed_astrospec(testing_moving_median,0.7,0.65,1.5)['probed_mask'], test_mask))"
   ]
  },
  {
   "cell_type": "code",
   "execution_count": 11,
   "metadata": {},
   "outputs": [
    {
     "data": {
      "text/plain": [
       "<tf.Tensor: shape=(), dtype=bool, numpy=False>"
      ]
     },
     "execution_count": 11,
     "metadata": {},
     "output_type": "execute_result"
    }
   ],
   "source": [
    "are_equal"
   ]
  },
  {
   "cell_type": "code",
   "execution_count": 9,
   "metadata": {},
   "outputs": [],
   "source": [
    "def mask_values_spectra(true_value_tensor,moving_median_tensor):\n",
    "\n",
    "          # New masking strategy - mask lines and random points along the continuum\n",
    "          tf.random.set_seed(42)\n",
    "          steps = tf.shape(true_value_tensor)[0]\n",
    "          indices = tf.range(steps)\n",
    "\n",
    "\n",
    "          squeezed_true_value_tensor=tf.squeeze(true_value_tensor)\n",
    "          squeezed_moving_median_tensor=tf.squeeze(moving_median_tensor)\n",
    "        \n",
    "          # mm_numpy=squeezed_moving_median_tensor.numpy()\n",
    "          # q1=np.percentile(mm_numpy,25)\n",
    "          # q3=np.percentile(mm_numpy,75)\n",
    "          # iqr=q3-q1\n",
    "          iqr=calculate_iqr(squeezed_moving_median_tensor)\n",
    "          \n",
    "        #   std=tf.math.reduce_std(squeezed_moving_median_tensor)\n",
    "\n",
    "          masked_tensor_exclusive_emission=tf.cast(((squeezed_true_value_tensor)>(squeezed_moving_median_tensor+1.5*iqr)),tf.int32)\n",
    "          masked_tensor_exclusive_absorption=tf.cast(((squeezed_true_value_tensor)<(squeezed_moving_median_tensor-1.5*iqr)),tf.int32)\n",
    "\n",
    "          masked_tensor_exclusive=masked_tensor_exclusive_emission+masked_tensor_exclusive_absorption\n",
    "          print(masked_tensor_exclusive)\n",
    "        #   print(masked_tensor_exclusive_emission)\n",
    "        #   print(masked_tensor_exclusive_absorption)\n",
    "\n",
    "\n",
    "          ## For emission lines\n",
    "\n",
    "          windows = tf.TensorArray(dtype=tf.int32, size=0, dynamic_size=True)\n",
    "          start = 0\n",
    "          size_window = 0\n",
    "\n",
    "          for i in tf.range(tf.shape(masked_tensor_exclusive_emission)[0]):\n",
    "              if masked_tensor_exclusive_emission[i] == 1:\n",
    "                  if size_window == 0:\n",
    "                      start = i\n",
    "                  size_window += 1\n",
    "              else:\n",
    "                  if size_window > 1:\n",
    "                      windows = windows.write(windows.size(), (start, size_window))\n",
    "                  size_window = 0\n",
    "          start_and_size=windows.stack()\n",
    "          print(start_and_size)\n",
    "\n",
    "\n",
    "\n",
    "          ## For absorption\n",
    "          windows_absorption = tf.TensorArray(dtype=tf.int32, size=0, dynamic_size=True)\n",
    "          start_ab = 0\n",
    "          size_window_ab = 0\n",
    "\n",
    "          for i in tf.range(tf.shape(masked_tensor_exclusive_absorption)[0]):\n",
    "              if masked_tensor_exclusive_absorption[i] == 1:\n",
    "                  if size_window_ab == 0:\n",
    "                      start_ab = i\n",
    "                  size_window_ab += 1\n",
    "              else:\n",
    "                  if size_window_ab > 1:\n",
    "                      windows_absorption = windows_absorption.write(windows_absorption.size(), (start_ab, size_window_ab))\n",
    "                  size_window_ab = 0\n",
    "\n",
    "          start_and_size_ab=windows_absorption.stack()\n",
    "          print(start_and_size_ab)\n",
    "\n",
    "\n",
    "          final_start_size=tf.concat([start_and_size_ab,start_and_size],axis=0)\n",
    "          print(final_start_size)\n",
    "          \n",
    "\n",
    "          num_rows=tf.cast(tf.multiply(tf.cast(tf.shape(final_start_size)[0], tf.float32), 0.7),tf.int32)\n",
    "          print(num_rows)\n",
    "          \n",
    "\n",
    "          shuffled_tensor = tf.random.shuffle(final_start_size)\n",
    "          \n",
    "          selected_rows = tf.slice(shuffled_tensor, [0, 0], [num_rows, -1])\n",
    "          print(selected_rows)\n",
    "          final_mask=tf.zeros_like(masked_tensor_exclusive_emission)\n",
    "\n",
    "          for k in tf.range(tf.shape(selected_rows)[0]):\n",
    "            indices_selected=tf.range(selected_rows[k][0],selected_rows[k][0]+selected_rows[k][1])\n",
    "            updates = tf.ones(selected_rows[k][1], dtype=masked_tensor_exclusive_emission.dtype)\n",
    "            reshaped_indices=tf.reshape(indices_selected,[-1,1])\n",
    "            final_mask = tf.tensor_scatter_nd_update(final_mask, reshaped_indices, updates)\n",
    "\n",
    "          print(final_mask)\n",
    "\n",
    "\n",
    "          # # continuum mask\n",
    "          continuum_mask=tf.math.logical_not(tf.cast(masked_tensor_exclusive,tf.bool))\n",
    "          continuum_mask=tf.cast(continuum_mask,tf.int32)\n",
    "          print(continuum_mask)\n",
    "          \n",
    "\n",
    "\n",
    "          windows_continuum = tf.TensorArray(dtype=tf.int32, size=0, dynamic_size=True)\n",
    "          start_continuum = 0\n",
    "          size_window_continuum = 0\n",
    "\n",
    "          for i in tf.range(tf.shape(masked_tensor_exclusive)[0]):\n",
    "              if continuum_mask[i] == 1:\n",
    "                  if size_window_continuum == 0:\n",
    "                      start_continuum = i\n",
    "                  size_window_continuum += 1\n",
    "              else:\n",
    "                  if size_window_continuum > 1:\n",
    "                      windows_continuum = windows_continuum.write(windows_continuum.size(), (start_continuum, size_window_continuum))\n",
    "                  size_window_continuum = 0\n",
    "\n",
    "          start_and_size_continuum=windows_continuum.stack()\n",
    "          print(start_and_size_continuum)\n",
    "          num_rows_continuum=tf.cast(tf.multiply(tf.cast(tf.shape(start_and_size_continuum)[0], tf.float32), 0.65),tf.int32)\n",
    "          print(num_rows_continuum)\n",
    "          shuffled_tensor_continuum = tf.random.shuffle(start_and_size_continuum)\n",
    "          \n",
    "          selected_rows_continuum = tf.slice(shuffled_tensor_continuum, [0, 0], [num_rows_continuum, -1])\n",
    "          print(selected_rows_continuum)\n",
    "          final_mask_continuum=tf.zeros_like(masked_tensor_exclusive)\n",
    "\n",
    "\n",
    "          for k in tf.range(tf.shape(selected_rows_continuum)[0]):\n",
    "\n",
    "            indices_selected_continuum=tf.range(selected_rows_continuum[k][0],selected_rows_continuum[k][0]+selected_rows_continuum[k][1])\n",
    "            updates_continuum = tf.ones(selected_rows_continuum[k][1], dtype=masked_tensor_exclusive.dtype)\n",
    "            reshaped_indices_continuum=tf.reshape(indices_selected_continuum,[-1,1])\n",
    "            final_mask_continuum = tf.tensor_scatter_nd_update(final_mask_continuum, reshaped_indices_continuum, updates_continuum)\n",
    "\n",
    "          print(final_mask_continuum)\n",
    "\n",
    "          final_mask=tf.cast(final_mask,dtype=tf.float32)\n",
    "          final_mask_continuum=tf.cast(final_mask_continuum,dtype=tf.float32)\n",
    "\n",
    "          return final_mask+final_mask_continuum\n"
   ]
  },
  {
   "cell_type": "code",
   "execution_count": 10,
   "metadata": {},
   "outputs": [
    {
     "name": "stdout",
     "output_type": "stream",
     "text": [
      "tf.Tensor(\n",
      "[1 1 1 1 1 0 1 1 0 1 1 1 1 1 0 1 0 1 0 1 1 1 1 0 1 0 0 1 1 1 1 0 1 1 0 0 0\n",
      " 0 0 1 1 0 1 1 1 1 0 0 1 1], shape=(50,), dtype=int32)\n",
      "tf.Tensor(\n",
      "[[ 3  2]\n",
      " [ 6  2]\n",
      " [11  3]\n",
      " [20  3]\n",
      " [32  2]\n",
      " [39  2]\n",
      " [42  2]], shape=(7, 2), dtype=int32)\n",
      "tf.Tensor(\n",
      "[[ 1  2]\n",
      " [ 9  2]\n",
      " [28  2]\n",
      " [44  2]], shape=(4, 2), dtype=int32)\n",
      "tf.Tensor(\n",
      "[[ 1  2]\n",
      " [ 9  2]\n",
      " [28  2]\n",
      " [44  2]\n",
      " [ 3  2]\n",
      " [ 6  2]\n",
      " [11  3]\n",
      " [20  3]\n",
      " [32  2]\n",
      " [39  2]\n",
      " [42  2]], shape=(11, 2), dtype=int32)\n",
      "tf.Tensor(7, shape=(), dtype=int32)\n",
      "tf.Tensor(\n",
      "[[44  2]\n",
      " [42  2]\n",
      " [ 9  2]\n",
      " [ 6  2]\n",
      " [ 1  2]\n",
      " [20  3]\n",
      " [39  2]], shape=(7, 2), dtype=int32)\n",
      "tf.Tensor(\n",
      "[0 1 1 0 0 0 1 1 0 1 1 0 0 0 0 0 0 0 0 0 1 1 1 0 0 0 0 0 0 0 0 0 0 0 0 0 0\n",
      " 0 0 1 1 0 1 1 1 1 0 0 0 0], shape=(50,), dtype=int32)\n",
      "tf.Tensor(\n",
      "[0 0 0 0 0 1 0 0 1 0 0 0 0 0 1 0 1 0 1 0 0 0 0 1 0 1 1 0 0 0 0 1 0 0 1 1 1\n",
      " 1 1 0 0 1 0 0 0 0 1 1 0 0], shape=(50,), dtype=int32)\n",
      "tf.Tensor(\n",
      "[[25  2]\n",
      " [34  5]\n",
      " [46  2]], shape=(3, 2), dtype=int32)\n",
      "tf.Tensor(1, shape=(), dtype=int32)\n",
      "tf.Tensor([[46  2]], shape=(1, 2), dtype=int32)\n",
      "tf.Tensor(\n",
      "[0 0 0 0 0 0 0 0 0 0 0 0 0 0 0 0 0 0 0 0 0 0 0 0 0 0 0 0 0 0 0 0 0 0 0 0 0\n",
      " 0 0 0 0 0 0 0 0 0 1 1 0 0], shape=(50,), dtype=int32)\n"
     ]
    }
   ],
   "source": [
    "test_mask=mask_values_spectra(tf.slice(testing_moving_median['input'],[0,1],[-1,1]),tf.slice(testing_moving_median['moving_median_sequence'],[0,1],[-1,1]))"
   ]
  },
  {
   "cell_type": "code",
   "execution_count": 11,
   "metadata": {},
   "outputs": [
    {
     "data": {
      "text/plain": [
       "<tf.Tensor: shape=(50,), dtype=float32, numpy=\n",
       "array([0., 1., 1., 0., 0., 0., 1., 1., 0., 1., 1., 0., 0., 0., 0., 0., 0.,\n",
       "       0., 0., 0., 1., 1., 1., 0., 0., 0., 0., 0., 0., 0., 0., 0., 0., 0.,\n",
       "       0., 0., 0., 0., 0., 1., 1., 0., 1., 1., 1., 1., 1., 1., 0., 0.],\n",
       "      dtype=float32)>"
      ]
     },
     "execution_count": 11,
     "metadata": {},
     "output_type": "execute_result"
    }
   ],
   "source": [
    "test_mask"
   ]
  },
  {
   "cell_type": "code",
   "execution_count": 24,
   "metadata": {},
   "outputs": [],
   "source": [
    "def get_probed(input_dict, probed, njobs):\n",
    "\n",
    "    input_shape = tf.shape(input_dict['input'])\n",
    "\n",
    "    if probed == 1.:\n",
    "        probed_mask = tf.ones([input_shape[0], input_shape[1]]) * input_dict['mask']\n",
    "        input_dict['probed_mask']  = probed_mask\n",
    "        input_dict['att_mask'] = 1. - probed_mask\n",
    "        return input_dict\n",
    "\n",
    "    nprobed = tf.multiply(tf.cast(input_shape[1], tf.float32), probed)\n",
    "    nprobed = tf.cast(nprobed, tf.int32)\n",
    "    random_integers = tf.range(input_shape[1], dtype=tf.int32)\n",
    "    indices = tf.map_fn(lambda x: tf.random.shuffle(random_integers), \n",
    "                                      tf.range(input_shape[0]),\n",
    "                                      parallel_iterations=njobs)\n",
    "    indices = tf.slice(indices, [0, 0], [-1, nprobed])\n",
    "    random_mask = tf.one_hot(indices, input_shape[1])\n",
    "    random_mask = tf.reduce_sum(random_mask, 1)\n",
    "\n",
    "    input_dict['probed_mask'] = random_mask * input_dict['mask']\n",
    "    att_mask = (1 - input_dict['mask']) + random_mask \n",
    "    att_mask = tf.minimum(att_mask, 1)\n",
    "    input_dict['att_mask'] = att_mask\n",
    "\n",
    "    return input_dict"
   ]
  },
  {
   "cell_type": "code",
   "execution_count": null,
   "metadata": {},
   "outputs": [],
   "source": [
    "def add_random(input_dict, random_frac, njobs):\n",
    "    \"\"\" Add random observations to each sequence\n",
    "        \n",
    "    Args:\n",
    "        random_frac (number): Fraction of probed (in decimal) to be replaced with random values\n",
    "    \"\"\" \n",
    "    input_shape = tf.shape(input_dict['input'])\n",
    "    input_dict['input_pre_nsp'] = input_dict['input'] \n",
    "\n",
    "    # ====== RANDOM MASK =====\n",
    "    n_probed = tf.reduce_sum(input_dict['probed_mask'], 1)\n",
    "    n_random = tf.math.ceil(n_probed * random_frac)\n",
    "    n_random = tf.cast(n_random, tf.int32)\n",
    "    random_mask = tf.map_fn(lambda x: create_mask(x[0], x[1]),\n",
    "                                (input_dict['probed_mask'], n_random),\n",
    "                                parallel_iterations=njobs,\n",
    "                                fn_output_signature=tf.int32)\n",
    "\n",
    "    # ====== SAME MASK =====\n",
    "    rest = tf.cast(input_dict['probed_mask'], tf.int32) * (1-random_mask)\n",
    "    n_rest = tf.reduce_sum(rest, 1)\n",
    "    n_same = tf.math.ceil(tf.cast(n_rest, tf.float32) * random_frac)\n",
    "    n_same = tf.cast(n_same, tf.int32)\n",
    "\n",
    "    same_mask = tf.map_fn(lambda x: create_mask(x[0], x[1]), \n",
    "                                  (rest, n_same),\n",
    "                                  parallel_iterations=njobs,\n",
    "                                  fn_output_signature=tf.int32)\n",
    "\n",
    "    # ===== REPLACEMENT ==== \n",
    "    random_replacement = tf.random.shuffle(tf.transpose(input_dict['input'], [1, 0, 2]))\n",
    "    random_replacement = tf.transpose(random_replacement, [1, 0, 2])\n",
    "    random_replacement = random_replacement * tf.cast(tf.expand_dims(random_mask, -1), tf.float32) * [0., 1., 1.]\n",
    "\n",
    "    # Mask refering to observations that do not change\n",
    "    keep_mask = tf.expand_dims(1 - random_mask, -1)\n",
    "    keep_mask = tf.tile(keep_mask, [1, 1, input_shape[-1]-1])\n",
    "    keep_mask = tf.concat([tf.zeros([input_shape[0], input_shape[1], 1], dtype=tf.int32), keep_mask], 2)\n",
    "    keep_mask = tf.abs([1, 0, 0] - keep_mask)\n",
    "\n",
    "    # Part of the input we mantain\n",
    "    keep_input = input_dict['input'] * tf.cast(keep_mask, tf.float32)\n",
    "\n",
    "    # Replacing original input with the randomized one\n",
    "    input_dict['input']  = random_replacement + keep_input\n",
    "\n",
    "    # Attention mask is 1 when masked. \n",
    "    # Random mask is 1 for masked observations selected to be randomized\n",
    "    # then,\n",
    "    att_mask    = tf.cast(input_dict['att_mask'], tf.bool)\n",
    "    random_mask = tf.cast(random_mask, tf.bool)\n",
    "    same_mask   = tf.cast(same_mask, tf.bool)\n",
    "\n",
    "    att_mask = tf.math.logical_xor(att_mask, random_mask)\n",
    "    att_mask = tf.math.logical_xor(att_mask, same_mask)\n",
    "\n",
    "    input_dict['att_mask'] = tf.cast(att_mask, tf.float32)\n",
    "\n",
    "    return input_dict"
   ]
  }
 ],
 "metadata": {
  "kernelspec": {
   "display_name": "Python 3",
   "language": "python",
   "name": "python3"
  },
  "language_info": {
   "codemirror_mode": {
    "name": "ipython",
    "version": 3
   },
   "file_extension": ".py",
   "mimetype": "text/x-python",
   "name": "python",
   "nbconvert_exporter": "python",
   "pygments_lexer": "ipython3",
   "version": "3.10.6"
  },
  "orig_nbformat": 4
 },
 "nbformat": 4,
 "nbformat_minor": 2
}
