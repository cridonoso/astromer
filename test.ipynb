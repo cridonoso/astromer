{
 "cells": [
  {
   "cell_type": "code",
   "execution_count": 3,
   "metadata": {},
   "outputs": [
    {
     "ename": "ImportError",
     "evalue": "cannot import name 'load_data' from 'src.data.loaders' (/Users/yashsurange/Documents/GitHub/astromer/src/data/loaders.py)",
     "output_type": "error",
     "traceback": [
      "\u001b[0;31m---------------------------------------------------------------------------\u001b[0m",
      "\u001b[0;31mImportError\u001b[0m                               Traceback (most recent call last)",
      "Cell \u001b[0;32mIn [3], line 1\u001b[0m\n\u001b[0;32m----> 1\u001b[0m \u001b[38;5;28;01mfrom\u001b[39;00m \u001b[38;5;21;01msrc\u001b[39;00m\u001b[38;5;21;01m.\u001b[39;00m\u001b[38;5;21;01mdata\u001b[39;00m\u001b[38;5;21;01m.\u001b[39;00m\u001b[38;5;21;01mloaders\u001b[39;00m \u001b[38;5;28;01mimport\u001b[39;00m load_data_astrospec,load_data\n\u001b[1;32m      2\u001b[0m \u001b[38;5;28;01mimport\u001b[39;00m \u001b[38;5;21;01mtensorflow\u001b[39;00m \u001b[38;5;28;01mas\u001b[39;00m \u001b[38;5;21;01mtf\u001b[39;00m\n\u001b[1;32m      3\u001b[0m \u001b[38;5;28;01mimport\u001b[39;00m \u001b[38;5;21;01mnumpy\u001b[39;00m \u001b[38;5;28;01mas\u001b[39;00m \u001b[38;5;21;01mnp\u001b[39;00m\n",
      "\u001b[0;31mImportError\u001b[0m: cannot import name 'load_data' from 'src.data.loaders' (/Users/yashsurange/Documents/GitHub/astromer/src/data/loaders.py)"
     ]
    }
   ],
   "source": [
    "from src.data.loaders import load_data_astrospec,load_data\n",
    "import tensorflow as tf\n",
    "import numpy as np\n",
    "from src.models.astromer_1 import get_ASTROMER\n",
    "from src.training.utils import train\n",
    "from src.models.astromer_1 import train_step,test_step"
   ]
  },
  {
   "cell_type": "code",
   "execution_count": 29,
   "metadata": {},
   "outputs": [
    {
     "name": "stdout",
     "output_type": "stream",
     "text": [
      "The autoreload extension is already loaded. To reload it, use:\n",
      "  %reload_ext autoreload\n"
     ]
    }
   ],
   "source": [
    "%load_ext autoreload\n",
    "%autoreload 2"
   ]
  },
  {
   "cell_type": "code",
   "execution_count": 4,
   "metadata": {},
   "outputs": [
    {
     "name": "stdout",
     "output_type": "stream",
     "text": [
      "[INFO] Sampling random windows\n",
      "0.5906577110290527\n"
     ]
    }
   ],
   "source": [
    "import time\n",
    "start=time.time()\n",
    "data_object=load_data_astrospec('/Users/yashsurange/Documents/GitHub/astromer/spectral_3000/train',batch_size=2,no_of_observations=500,non_exclusive_fraction=0.65,exclusive_fraction=0.7,iqr_threshold=1.2,sampling=True,off_nsp=True,test_mode=False)\n",
    "end=time.time()\n",
    "print(end-start)"
   ]
  },
  {
   "cell_type": "code",
   "execution_count": 2,
   "metadata": {},
   "outputs": [
    {
     "name": "stderr",
     "output_type": "stream",
     "text": [
      "2023-11-09 15:20:17.758022: I tensorflow/core/common_runtime/pluggable_device/pluggable_device_factory.cc:306] Could not identify NUMA node of platform GPU ID 0, defaulting to 0. Your kernel may not have been built with NUMA support.\n",
      "2023-11-09 15:20:17.758493: I tensorflow/core/common_runtime/pluggable_device/pluggable_device_factory.cc:272] Created TensorFlow device (/job:localhost/replica:0/task:0/device:GPU:0 with 0 MB memory) -> physical PluggableDevice (device: 0, name: METAL, pci bus id: <undefined>)\n"
     ]
    },
    {
     "name": "stdout",
     "output_type": "stream",
     "text": [
      "Metal device set to: Apple M1\n",
      "\n",
      "systemMemory: 16.00 GB\n",
      "maxCacheSize: 5.33 GB\n",
      "\n"
     ]
    }
   ],
   "source": [
    "testing_loader=load_data('/Users/yashsurange/Documents/GitHub/astromer/spectral_3000/train', \n",
    "              batch_size=2, \n",
    "              probed=0.4, \n",
    "              random_same=0.2, \n",
    "              window_size=10, \n",
    "              nsp_prob=.5, \n",
    "              repeat=1, \n",
    "              sampling=False, \n",
    "              shuffle=False,\n",
    "              njobs=None,\n",
    "              num_cls=None,\n",
    "              test_mode=False,\n",
    "              off_nsp=True)"
   ]
  },
  {
   "cell_type": "code",
   "execution_count": 20,
   "metadata": {},
   "outputs": [],
   "source": [
    "actual_first={}\n",
    "actual_second={}\n",
    "for i,j in testing_loader:\n",
    "    actual_first=i\n",
    "    actual_second=j\n",
    "    break"
   ]
  },
  {
   "cell_type": "code",
   "execution_count": 21,
   "metadata": {},
   "outputs": [
    {
     "data": {
      "text/plain": [
       "(dict_keys(['magnitudes', 'times', 'att_mask']),\n",
       " dict_keys(['magnitudes', 'probed_mask']))"
      ]
     },
     "execution_count": 21,
     "metadata": {},
     "output_type": "execute_result"
    }
   ],
   "source": [
    "actual_first.keys(),actual_second.keys()"
   ]
  },
  {
   "cell_type": "code",
   "execution_count": 28,
   "metadata": {},
   "outputs": [
    {
     "data": {
      "text/plain": [
       "TensorShape([2, 1000, 1])"
      ]
     },
     "execution_count": 28,
     "metadata": {},
     "output_type": "execute_result"
    }
   ],
   "source": [
    "actual_second['probed_mask'].shape"
   ]
  },
  {
   "cell_type": "code",
   "execution_count": 6,
   "metadata": {},
   "outputs": [],
   "source": [
    "first_dict={}\n",
    "second_dict={}\n",
    "for i,j in data_object:\n",
    "    first_dict=i\n",
    "    second_dict=j\n",
    "    break"
   ]
  },
  {
   "cell_type": "code",
   "execution_count": 34,
   "metadata": {},
   "outputs": [
    {
     "name": "stdout",
     "output_type": "stream",
     "text": [
      "[INFO] Sampling random windows\n",
      "ERROR:tensorflow:==================================\n",
      "Object was never used (type <class 'tensorflow.python.ops.tensor_array_ops.TensorArray'>):\n",
      "<tensorflow.python.ops.tensor_array_ops.TensorArray object at 0x2f1f2df90>\n",
      "If you want to mark it as used call its \"mark_used()\" method.\n",
      "It was originally created here:\n",
      "  File \"/Users/yashsurange/tensorflow-test/env/lib/python3.10/site-packages/tensorflow/python/ops/control_flow_ops.py\", line 2762, in while_loop\n",
      "    loop_vars = body(*loop_vars)  File \"/Users/yashsurange/tensorflow-test/env/lib/python3.10/site-packages/tensorflow/python/ops/control_flow_ops.py\", line 2753, in <lambda>\n",
      "    body = lambda i, lv: (i + 1, orig_body(*lv))  File \"/Users/yashsurange/tensorflow-test/env/lib/python3.10/site-packages/tensorflow/python/ops/map_fn.py\", line 496, in compute\n",
      "    return (i + 1, tas)  File \"/Users/yashsurange/tensorflow-test/env/lib/python3.10/site-packages/tensorflow/python/ops/map_fn.py\", line 493, in <listcomp>\n",
      "    tas = [  File \"/Users/yashsurange/tensorflow-test/env/lib/python3.10/site-packages/tensorflow/python/util/tf_should_use.py\", line 243, in wrapped\n",
      "    return _add_should_use_warning(fn(*args, **kwargs),\n",
      "==================================\n",
      "ERROR:tensorflow:==================================\n",
      "Object was never used (type <class 'tensorflow.python.ops.tensor_array_ops.TensorArray'>):\n",
      "<tensorflow.python.ops.tensor_array_ops.TensorArray object at 0x2f1f2ee90>\n",
      "If you want to mark it as used call its \"mark_used()\" method.\n",
      "It was originally created here:\n",
      "  File \"/Users/yashsurange/tensorflow-test/env/lib/python3.10/site-packages/tensorflow/python/ops/control_flow_ops.py\", line 2762, in while_loop\n",
      "    loop_vars = body(*loop_vars)  File \"/Users/yashsurange/tensorflow-test/env/lib/python3.10/site-packages/tensorflow/python/ops/control_flow_ops.py\", line 2753, in <lambda>\n",
      "    body = lambda i, lv: (i + 1, orig_body(*lv))  File \"/Users/yashsurange/tensorflow-test/env/lib/python3.10/site-packages/tensorflow/python/ops/map_fn.py\", line 496, in compute\n",
      "    return (i + 1, tas)  File \"/Users/yashsurange/tensorflow-test/env/lib/python3.10/site-packages/tensorflow/python/ops/map_fn.py\", line 493, in <listcomp>\n",
      "    tas = [  File \"/Users/yashsurange/tensorflow-test/env/lib/python3.10/site-packages/tensorflow/python/util/tf_should_use.py\", line 243, in wrapped\n",
      "    return _add_should_use_warning(fn(*args, **kwargs),\n",
      "==================================\n",
      "ERROR:tensorflow:==================================\n",
      "Object was never used (type <class 'tensorflow.python.ops.tensor_array_ops.TensorArray'>):\n",
      "<tensorflow.python.ops.tensor_array_ops.TensorArray object at 0x2b02ac3a0>\n",
      "If you want to mark it as used call its \"mark_used()\" method.\n",
      "It was originally created here:\n",
      "  File \"/Users/yashsurange/tensorflow-test/env/lib/python3.10/site-packages/tensorflow/python/ops/control_flow_ops.py\", line 2762, in while_loop\n",
      "    loop_vars = body(*loop_vars)  File \"/Users/yashsurange/tensorflow-test/env/lib/python3.10/site-packages/tensorflow/python/ops/control_flow_ops.py\", line 2753, in <lambda>\n",
      "    body = lambda i, lv: (i + 1, orig_body(*lv))  File \"/Users/yashsurange/tensorflow-test/env/lib/python3.10/site-packages/tensorflow/python/ops/map_fn.py\", line 496, in compute\n",
      "    return (i + 1, tas)  File \"/Users/yashsurange/tensorflow-test/env/lib/python3.10/site-packages/tensorflow/python/ops/map_fn.py\", line 493, in <listcomp>\n",
      "    tas = [  File \"/Users/yashsurange/tensorflow-test/env/lib/python3.10/site-packages/tensorflow/python/util/tf_should_use.py\", line 243, in wrapped\n",
      "    return _add_should_use_warning(fn(*args, **kwargs),\n",
      "==================================\n",
      "ERROR:tensorflow:==================================\n",
      "Object was never used (type <class 'tensorflow.python.ops.tensor_array_ops.TensorArray'>):\n",
      "<tensorflow.python.ops.tensor_array_ops.TensorArray object at 0x2b02adcf0>\n",
      "If you want to mark it as used call its \"mark_used()\" method.\n",
      "It was originally created here:\n",
      "  File \"/Users/yashsurange/tensorflow-test/env/lib/python3.10/site-packages/tensorflow/python/ops/control_flow_ops.py\", line 2762, in while_loop\n",
      "    loop_vars = body(*loop_vars)  File \"/Users/yashsurange/tensorflow-test/env/lib/python3.10/site-packages/tensorflow/python/ops/control_flow_ops.py\", line 2753, in <lambda>\n",
      "    body = lambda i, lv: (i + 1, orig_body(*lv))  File \"/Users/yashsurange/tensorflow-test/env/lib/python3.10/site-packages/tensorflow/python/ops/map_fn.py\", line 496, in compute\n",
      "    return (i + 1, tas)  File \"/Users/yashsurange/tensorflow-test/env/lib/python3.10/site-packages/tensorflow/python/ops/map_fn.py\", line 493, in <listcomp>\n",
      "    tas = [  File \"/Users/yashsurange/tensorflow-test/env/lib/python3.10/site-packages/tensorflow/python/util/tf_should_use.py\", line 243, in wrapped\n",
      "    return _add_should_use_warning(fn(*args, **kwargs),\n",
      "==================================\n"
     ]
    }
   ],
   "source": [
    "train_loader = load_data_astrospec('/Users/yashsurange/Documents/GitHub/astromer/spectral_3000/train', \n",
    "\t\t\t\t\t\t\t batch_size=100,# if opt.debug else opt.bs, \n",
    "\t\t\t\t\t\t\t no_of_observations=500,\n",
    "\t\t\t\t\t\t\t non_exclusive_fraction=0.3,\n",
    "\t\t\t\t\t\t\t exclusive_fraction=0.3,\n",
    "\t\t\t\t\t\t\t iqr_threshold=0.2,\n",
    "\t\t\t\t\t\t\t random_fraction=0.2,\n",
    "\t\t\t\t\t\t\t same_fraction=0.2,\n",
    "\t\t\t\t\t\t\t off_nsp=True,  \n",
    "\t\t\t\t\t\t\t repeat=4, \n",
    "\t\t\t\t\t\t\t sampling=True)"
   ]
  },
  {
   "cell_type": "code",
   "execution_count": 35,
   "metadata": {},
   "outputs": [],
   "source": [
    "val_loader = load_data_astrospec('/Users/yashsurange/Documents/GitHub/astromer/spectral_3000/val', \n",
    "\t\t\t\t\t\t\t batch_size=100,# if opt.debug else opt.bs, \n",
    "\t\t\t\t\t\t\t no_of_observations=500,\n",
    "\t\t\t\t\t\t\t non_exclusive_fraction=0.3,\n",
    "\t\t\t\t\t\t\t exclusive_fraction=0.3,\n",
    "\t\t\t\t\t\t\t iqr_threshold=0.2,\n",
    "\t\t\t\t\t\t\t random_fraction=0.2,\n",
    "\t\t\t\t\t\t\t same_fraction=0.2,\n",
    "\t\t\t\t\t\t\t off_nsp=True,  \n",
    "\t\t\t\t\t\t\t repeat=4, \n",
    "\t\t\t\t\t\t\t sampling=False)"
   ]
  },
  {
   "cell_type": "code",
   "execution_count": 36,
   "metadata": {},
   "outputs": [],
   "source": [
    "model=get_ASTROMER(num_layers=2,\n",
    "\t\t\t\t num_heads=2,\n",
    "\t\t\t\t head_dim=64,\n",
    "\t\t\t\t mixer_size=256,\n",
    "\t\t\t\t dropout=0.1,\n",
    "\t\t\t\t pe_base=1000,\n",
    "\t\t\t\t pe_dim=128,\n",
    "\t\t\t\t pe_c=1,\n",
    "\t\t\t\t window_size=500,\n",
    "\t\t\t\t batch_size=None,\n",
    "\t\t\t\t encoder_mode='normal',\n",
    "\t\t\t\t astrospec_skip=True,\n",
    "\t\t\t\t average_layers=False)"
   ]
  },
  {
   "cell_type": "code",
   "execution_count": 37,
   "metadata": {},
   "outputs": [
    {
     "name": "stdout",
     "output_type": "stream",
     "text": [
      "[INFO] Logs: test_run/logs\n"
     ]
    },
    {
     "name": "stderr",
     "output_type": "stream",
     "text": [
      "  0%|          | 0/1 [00:00<?, ?it/s]2023-11-09 15:29:10.615063: I tensorflow/core/grappler/optimizers/custom_graph_optimizer_registry.cc:114] Plugin optimizer for device_type GPU is enabled.\n",
      "2023-11-09 15:29:10.899303: I tensorflow/core/grappler/optimizers/custom_graph_optimizer_registry.cc:114] Plugin optimizer for device_type GPU is enabled.\n"
     ]
    },
    {
     "name": "stdout",
     "output_type": "stream",
     "text": [
      "0\n",
      "1\n",
      "2\n",
      "3\n",
      "4\n",
      "5\n",
      "6\n",
      "7\n",
      "8\n",
      "9\n",
      "10\n",
      "11\n",
      "12\n",
      "13\n",
      "14\n",
      "15\n",
      "16\n",
      "17\n",
      "18\n"
     ]
    },
    {
     "name": "stderr",
     "output_type": "stream",
     "text": [
      "  0%|          | 0/1 [02:38<?, ?it/s]\n"
     ]
    },
    {
     "ename": "KeyboardInterrupt",
     "evalue": "",
     "output_type": "error",
     "traceback": [
      "\u001b[0;31m---------------------------------------------------------------------------\u001b[0m",
      "\u001b[0;31mKeyboardInterrupt\u001b[0m                         Traceback (most recent call last)",
      "\u001b[1;32m/Users/yashsurange/Documents/GitHub/astromer/test.ipynb Cell 12\u001b[0m line \u001b[0;36m1\n\u001b[0;32m----> <a href='vscode-notebook-cell:/Users/yashsurange/Documents/GitHub/astromer/test.ipynb#X14sZmlsZQ%3D%3D?line=0'>1</a>\u001b[0m train(model, \n\u001b[1;32m      <a href='vscode-notebook-cell:/Users/yashsurange/Documents/GitHub/astromer/test.ipynb#X14sZmlsZQ%3D%3D?line=1'>2</a>\u001b[0m \t\t  train_loader, \n\u001b[1;32m      <a href='vscode-notebook-cell:/Users/yashsurange/Documents/GitHub/astromer/test.ipynb#X14sZmlsZQ%3D%3D?line=2'>3</a>\u001b[0m \t\t  val_loader, \n\u001b[1;32m      <a href='vscode-notebook-cell:/Users/yashsurange/Documents/GitHub/astromer/test.ipynb#X14sZmlsZQ%3D%3D?line=3'>4</a>\u001b[0m \t\t  num_epochs\u001b[39m=\u001b[39;49m\u001b[39m1\u001b[39;49m, \n\u001b[1;32m      <a href='vscode-notebook-cell:/Users/yashsurange/Documents/GitHub/astromer/test.ipynb#X14sZmlsZQ%3D%3D?line=4'>5</a>\u001b[0m \t\t  lr\u001b[39m=\u001b[39;49m\u001b[39m1e-3\u001b[39;49m, \n\u001b[1;32m      <a href='vscode-notebook-cell:/Users/yashsurange/Documents/GitHub/astromer/test.ipynb#X14sZmlsZQ%3D%3D?line=5'>6</a>\u001b[0m \t\t  test_loader\u001b[39m=\u001b[39;49m\u001b[39mNone\u001b[39;49;00m, \n\u001b[1;32m      <a href='vscode-notebook-cell:/Users/yashsurange/Documents/GitHub/astromer/test.ipynb#X14sZmlsZQ%3D%3D?line=6'>7</a>\u001b[0m \t\t  project_path\u001b[39m=\u001b[39;49m\u001b[39m'\u001b[39;49m\u001b[39mtest_run/\u001b[39;49m\u001b[39m'\u001b[39;49m, \n\u001b[1;32m      <a href='vscode-notebook-cell:/Users/yashsurange/Documents/GitHub/astromer/test.ipynb#X14sZmlsZQ%3D%3D?line=7'>8</a>\u001b[0m \t\t  debug\u001b[39m=\u001b[39;49m\u001b[39mFalse\u001b[39;49;00m, \n\u001b[1;32m      <a href='vscode-notebook-cell:/Users/yashsurange/Documents/GitHub/astromer/test.ipynb#X14sZmlsZQ%3D%3D?line=8'>9</a>\u001b[0m \t\t  patience\u001b[39m=\u001b[39;49m\u001b[39m20\u001b[39;49m,\n\u001b[1;32m     <a href='vscode-notebook-cell:/Users/yashsurange/Documents/GitHub/astromer/test.ipynb#X14sZmlsZQ%3D%3D?line=9'>10</a>\u001b[0m \t\t  train_step_fn\u001b[39m=\u001b[39;49mtrain_step,\n\u001b[1;32m     <a href='vscode-notebook-cell:/Users/yashsurange/Documents/GitHub/astromer/test.ipynb#X14sZmlsZQ%3D%3D?line=10'>11</a>\u001b[0m \t\t  test_step_fn\u001b[39m=\u001b[39;49mtest_step,\n\u001b[1;32m     <a href='vscode-notebook-cell:/Users/yashsurange/Documents/GitHub/astromer/test.ipynb#X14sZmlsZQ%3D%3D?line=11'>12</a>\u001b[0m \t\t  argparse_dict\u001b[39m=\u001b[39;49m\u001b[39mNone\u001b[39;49;00m)\n",
      "File \u001b[0;32m~/Documents/GitHub/astromer/src/training/utils.py:65\u001b[0m, in \u001b[0;36mtrain\u001b[0;34m(model, train_loader, valid_loader, num_epochs, lr, test_loader, project_path, debug, patience, train_step_fn, test_step_fn, argparse_dict)\u001b[0m\n\u001b[1;32m     63\u001b[0m train_logs, valid_logs \u001b[39m=\u001b[39m [], [] \n\u001b[1;32m     64\u001b[0m \u001b[39mfor\u001b[39;00m x, y \u001b[39min\u001b[39;00m train_loader:\n\u001b[0;32m---> 65\u001b[0m \tlogs \u001b[39m=\u001b[39m train_step_fn(model, x, y, optimizer)\n\u001b[1;32m     66\u001b[0m \t\u001b[39mprint\u001b[39m(count)\n\u001b[1;32m     67\u001b[0m \tcount \u001b[39m+\u001b[39m\u001b[39m=\u001b[39m \u001b[39m1\u001b[39m\n",
      "File \u001b[0;32m~/Documents/GitHub/astromer/src/models/astromer_1.py:66\u001b[0m, in \u001b[0;36mtrain_step\u001b[0;34m(model, x, y, optimizer)\u001b[0m\n\u001b[1;32m     64\u001b[0m \u001b[39mdef\u001b[39;00m \u001b[39mtrain_step\u001b[39m(model, x, y, optimizer):\n\u001b[1;32m     65\u001b[0m \t\u001b[39mwith\u001b[39;00m tf\u001b[39m.\u001b[39mGradientTape() \u001b[39mas\u001b[39;00m tape:\n\u001b[0;32m---> 66\u001b[0m \t\tx_pred \u001b[39m=\u001b[39m model(x, training\u001b[39m=\u001b[39;49m\u001b[39mTrue\u001b[39;49;00m)\n\u001b[1;32m     67\u001b[0m \t\trmse \u001b[39m=\u001b[39m custom_rmse(y_true\u001b[39m=\u001b[39my[\u001b[39m'\u001b[39m\u001b[39mmagnitudes\u001b[39m\u001b[39m'\u001b[39m],\n\u001b[1;32m     68\u001b[0m \t\t\t\t\t\t  y_pred\u001b[39m=\u001b[39mx_pred,\n\u001b[1;32m     69\u001b[0m \t\t\t\t\t\t  mask\u001b[39m=\u001b[39my[\u001b[39m'\u001b[39m\u001b[39mprobed_mask\u001b[39m\u001b[39m'\u001b[39m])\n\u001b[1;32m     70\u001b[0m \t\tr2_value \u001b[39m=\u001b[39m custom_r2(y[\u001b[39m'\u001b[39m\u001b[39mmagnitudes\u001b[39m\u001b[39m'\u001b[39m], x_pred, y[\u001b[39m'\u001b[39m\u001b[39mprobed_mask\u001b[39m\u001b[39m'\u001b[39m])\n",
      "File \u001b[0;32m~/tensorflow-test/env/lib/python3.10/site-packages/keras/utils/traceback_utils.py:65\u001b[0m, in \u001b[0;36mfilter_traceback.<locals>.error_handler\u001b[0;34m(*args, **kwargs)\u001b[0m\n\u001b[1;32m     63\u001b[0m filtered_tb \u001b[39m=\u001b[39m \u001b[39mNone\u001b[39;00m\n\u001b[1;32m     64\u001b[0m \u001b[39mtry\u001b[39;00m:\n\u001b[0;32m---> 65\u001b[0m     \u001b[39mreturn\u001b[39;00m fn(\u001b[39m*\u001b[39;49margs, \u001b[39m*\u001b[39;49m\u001b[39m*\u001b[39;49mkwargs)\n\u001b[1;32m     66\u001b[0m \u001b[39mexcept\u001b[39;00m \u001b[39mException\u001b[39;00m \u001b[39mas\u001b[39;00m e:\n\u001b[1;32m     67\u001b[0m     filtered_tb \u001b[39m=\u001b[39m _process_traceback_frames(e\u001b[39m.\u001b[39m__traceback__)\n",
      "File \u001b[0;32m~/tensorflow-test/env/lib/python3.10/site-packages/keras/engine/training.py:557\u001b[0m, in \u001b[0;36mModel.__call__\u001b[0;34m(self, *args, **kwargs)\u001b[0m\n\u001b[1;32m    553\u001b[0m         \u001b[39msuper\u001b[39m()\u001b[39m.\u001b[39m\u001b[39m__call__\u001b[39m(inputs, \u001b[39m*\u001b[39mcopied_args, \u001b[39m*\u001b[39m\u001b[39m*\u001b[39mcopied_kwargs)\n\u001b[1;32m    555\u001b[0m     layout_map_lib\u001b[39m.\u001b[39m_map_subclass_model_variable(\u001b[39mself\u001b[39m, \u001b[39mself\u001b[39m\u001b[39m.\u001b[39m_layout_map)\n\u001b[0;32m--> 557\u001b[0m \u001b[39mreturn\u001b[39;00m \u001b[39msuper\u001b[39;49m()\u001b[39m.\u001b[39;49m\u001b[39m__call__\u001b[39;49m(\u001b[39m*\u001b[39;49margs, \u001b[39m*\u001b[39;49m\u001b[39m*\u001b[39;49mkwargs)\n",
      "File \u001b[0;32m~/tensorflow-test/env/lib/python3.10/site-packages/keras/utils/traceback_utils.py:65\u001b[0m, in \u001b[0;36mfilter_traceback.<locals>.error_handler\u001b[0;34m(*args, **kwargs)\u001b[0m\n\u001b[1;32m     63\u001b[0m filtered_tb \u001b[39m=\u001b[39m \u001b[39mNone\u001b[39;00m\n\u001b[1;32m     64\u001b[0m \u001b[39mtry\u001b[39;00m:\n\u001b[0;32m---> 65\u001b[0m     \u001b[39mreturn\u001b[39;00m fn(\u001b[39m*\u001b[39;49margs, \u001b[39m*\u001b[39;49m\u001b[39m*\u001b[39;49mkwargs)\n\u001b[1;32m     66\u001b[0m \u001b[39mexcept\u001b[39;00m \u001b[39mException\u001b[39;00m \u001b[39mas\u001b[39;00m e:\n\u001b[1;32m     67\u001b[0m     filtered_tb \u001b[39m=\u001b[39m _process_traceback_frames(e\u001b[39m.\u001b[39m__traceback__)\n",
      "File \u001b[0;32m~/tensorflow-test/env/lib/python3.10/site-packages/keras/engine/base_layer.py:1097\u001b[0m, in \u001b[0;36mLayer.__call__\u001b[0;34m(self, *args, **kwargs)\u001b[0m\n\u001b[1;32m   1092\u001b[0m     inputs \u001b[39m=\u001b[39m \u001b[39mself\u001b[39m\u001b[39m.\u001b[39m_maybe_cast_inputs(inputs, input_list)\n\u001b[1;32m   1094\u001b[0m \u001b[39mwith\u001b[39;00m autocast_variable\u001b[39m.\u001b[39menable_auto_cast_variables(\n\u001b[1;32m   1095\u001b[0m     \u001b[39mself\u001b[39m\u001b[39m.\u001b[39m_compute_dtype_object\n\u001b[1;32m   1096\u001b[0m ):\n\u001b[0;32m-> 1097\u001b[0m     outputs \u001b[39m=\u001b[39m call_fn(inputs, \u001b[39m*\u001b[39;49margs, \u001b[39m*\u001b[39;49m\u001b[39m*\u001b[39;49mkwargs)\n\u001b[1;32m   1099\u001b[0m \u001b[39mif\u001b[39;00m \u001b[39mself\u001b[39m\u001b[39m.\u001b[39m_activity_regularizer:\n\u001b[1;32m   1100\u001b[0m     \u001b[39mself\u001b[39m\u001b[39m.\u001b[39m_handle_activity_regularization(inputs, outputs)\n",
      "File \u001b[0;32m~/tensorflow-test/env/lib/python3.10/site-packages/keras/utils/traceback_utils.py:96\u001b[0m, in \u001b[0;36minject_argument_info_in_traceback.<locals>.error_handler\u001b[0;34m(*args, **kwargs)\u001b[0m\n\u001b[1;32m     94\u001b[0m bound_signature \u001b[39m=\u001b[39m \u001b[39mNone\u001b[39;00m\n\u001b[1;32m     95\u001b[0m \u001b[39mtry\u001b[39;00m:\n\u001b[0;32m---> 96\u001b[0m     \u001b[39mreturn\u001b[39;00m fn(\u001b[39m*\u001b[39;49margs, \u001b[39m*\u001b[39;49m\u001b[39m*\u001b[39;49mkwargs)\n\u001b[1;32m     97\u001b[0m \u001b[39mexcept\u001b[39;00m \u001b[39mException\u001b[39;00m \u001b[39mas\u001b[39;00m e:\n\u001b[1;32m     98\u001b[0m     \u001b[39mif\u001b[39;00m \u001b[39mhasattr\u001b[39m(e, \u001b[39m\"\u001b[39m\u001b[39m_keras_call_info_injected\u001b[39m\u001b[39m\"\u001b[39m):\n\u001b[1;32m     99\u001b[0m         \u001b[39m# Only inject info for the innermost failing call\u001b[39;00m\n",
      "File \u001b[0;32m~/tensorflow-test/env/lib/python3.10/site-packages/keras/engine/functional.py:510\u001b[0m, in \u001b[0;36mFunctional.call\u001b[0;34m(self, inputs, training, mask)\u001b[0m\n\u001b[1;32m    491\u001b[0m \u001b[39m@doc_controls\u001b[39m\u001b[39m.\u001b[39mdo_not_doc_inheritable\n\u001b[1;32m    492\u001b[0m \u001b[39mdef\u001b[39;00m \u001b[39mcall\u001b[39m(\u001b[39mself\u001b[39m, inputs, training\u001b[39m=\u001b[39m\u001b[39mNone\u001b[39;00m, mask\u001b[39m=\u001b[39m\u001b[39mNone\u001b[39;00m):\n\u001b[1;32m    493\u001b[0m     \u001b[39m\"\"\"Calls the model on new inputs.\u001b[39;00m\n\u001b[1;32m    494\u001b[0m \n\u001b[1;32m    495\u001b[0m \u001b[39m    In this case `call` just reapplies\u001b[39;00m\n\u001b[0;32m   (...)\u001b[0m\n\u001b[1;32m    508\u001b[0m \u001b[39m        a list of tensors if there are more than one outputs.\u001b[39;00m\n\u001b[1;32m    509\u001b[0m \u001b[39m    \"\"\"\u001b[39;00m\n\u001b[0;32m--> 510\u001b[0m     \u001b[39mreturn\u001b[39;00m \u001b[39mself\u001b[39;49m\u001b[39m.\u001b[39;49m_run_internal_graph(inputs, training\u001b[39m=\u001b[39;49mtraining, mask\u001b[39m=\u001b[39;49mmask)\n",
      "File \u001b[0;32m~/tensorflow-test/env/lib/python3.10/site-packages/keras/engine/functional.py:667\u001b[0m, in \u001b[0;36mFunctional._run_internal_graph\u001b[0;34m(self, inputs, training, mask)\u001b[0m\n\u001b[1;32m    664\u001b[0m     \u001b[39mcontinue\u001b[39;00m  \u001b[39m# Node is not computable, try skipping.\u001b[39;00m\n\u001b[1;32m    666\u001b[0m args, kwargs \u001b[39m=\u001b[39m node\u001b[39m.\u001b[39mmap_arguments(tensor_dict)\n\u001b[0;32m--> 667\u001b[0m outputs \u001b[39m=\u001b[39m node\u001b[39m.\u001b[39;49mlayer(\u001b[39m*\u001b[39;49margs, \u001b[39m*\u001b[39;49m\u001b[39m*\u001b[39;49mkwargs)\n\u001b[1;32m    669\u001b[0m \u001b[39m# Update tensor_dict.\u001b[39;00m\n\u001b[1;32m    670\u001b[0m \u001b[39mfor\u001b[39;00m x_id, y \u001b[39min\u001b[39;00m \u001b[39mzip\u001b[39m(\n\u001b[1;32m    671\u001b[0m     node\u001b[39m.\u001b[39mflat_output_ids, tf\u001b[39m.\u001b[39mnest\u001b[39m.\u001b[39mflatten(outputs)\n\u001b[1;32m    672\u001b[0m ):\n",
      "File \u001b[0;32m~/tensorflow-test/env/lib/python3.10/site-packages/keras/utils/traceback_utils.py:65\u001b[0m, in \u001b[0;36mfilter_traceback.<locals>.error_handler\u001b[0;34m(*args, **kwargs)\u001b[0m\n\u001b[1;32m     63\u001b[0m filtered_tb \u001b[39m=\u001b[39m \u001b[39mNone\u001b[39;00m\n\u001b[1;32m     64\u001b[0m \u001b[39mtry\u001b[39;00m:\n\u001b[0;32m---> 65\u001b[0m     \u001b[39mreturn\u001b[39;00m fn(\u001b[39m*\u001b[39;49margs, \u001b[39m*\u001b[39;49m\u001b[39m*\u001b[39;49mkwargs)\n\u001b[1;32m     66\u001b[0m \u001b[39mexcept\u001b[39;00m \u001b[39mException\u001b[39;00m \u001b[39mas\u001b[39;00m e:\n\u001b[1;32m     67\u001b[0m     filtered_tb \u001b[39m=\u001b[39m _process_traceback_frames(e\u001b[39m.\u001b[39m__traceback__)\n",
      "File \u001b[0;32m~/tensorflow-test/env/lib/python3.10/site-packages/keras/engine/training.py:557\u001b[0m, in \u001b[0;36mModel.__call__\u001b[0;34m(self, *args, **kwargs)\u001b[0m\n\u001b[1;32m    553\u001b[0m         \u001b[39msuper\u001b[39m()\u001b[39m.\u001b[39m\u001b[39m__call__\u001b[39m(inputs, \u001b[39m*\u001b[39mcopied_args, \u001b[39m*\u001b[39m\u001b[39m*\u001b[39mcopied_kwargs)\n\u001b[1;32m    555\u001b[0m     layout_map_lib\u001b[39m.\u001b[39m_map_subclass_model_variable(\u001b[39mself\u001b[39m, \u001b[39mself\u001b[39m\u001b[39m.\u001b[39m_layout_map)\n\u001b[0;32m--> 557\u001b[0m \u001b[39mreturn\u001b[39;00m \u001b[39msuper\u001b[39;49m()\u001b[39m.\u001b[39;49m\u001b[39m__call__\u001b[39;49m(\u001b[39m*\u001b[39;49margs, \u001b[39m*\u001b[39;49m\u001b[39m*\u001b[39;49mkwargs)\n",
      "File \u001b[0;32m~/tensorflow-test/env/lib/python3.10/site-packages/keras/utils/traceback_utils.py:65\u001b[0m, in \u001b[0;36mfilter_traceback.<locals>.error_handler\u001b[0;34m(*args, **kwargs)\u001b[0m\n\u001b[1;32m     63\u001b[0m filtered_tb \u001b[39m=\u001b[39m \u001b[39mNone\u001b[39;00m\n\u001b[1;32m     64\u001b[0m \u001b[39mtry\u001b[39;00m:\n\u001b[0;32m---> 65\u001b[0m     \u001b[39mreturn\u001b[39;00m fn(\u001b[39m*\u001b[39;49margs, \u001b[39m*\u001b[39;49m\u001b[39m*\u001b[39;49mkwargs)\n\u001b[1;32m     66\u001b[0m \u001b[39mexcept\u001b[39;00m \u001b[39mException\u001b[39;00m \u001b[39mas\u001b[39;00m e:\n\u001b[1;32m     67\u001b[0m     filtered_tb \u001b[39m=\u001b[39m _process_traceback_frames(e\u001b[39m.\u001b[39m__traceback__)\n",
      "File \u001b[0;32m~/tensorflow-test/env/lib/python3.10/site-packages/keras/engine/base_layer.py:1097\u001b[0m, in \u001b[0;36mLayer.__call__\u001b[0;34m(self, *args, **kwargs)\u001b[0m\n\u001b[1;32m   1092\u001b[0m     inputs \u001b[39m=\u001b[39m \u001b[39mself\u001b[39m\u001b[39m.\u001b[39m_maybe_cast_inputs(inputs, input_list)\n\u001b[1;32m   1094\u001b[0m \u001b[39mwith\u001b[39;00m autocast_variable\u001b[39m.\u001b[39menable_auto_cast_variables(\n\u001b[1;32m   1095\u001b[0m     \u001b[39mself\u001b[39m\u001b[39m.\u001b[39m_compute_dtype_object\n\u001b[1;32m   1096\u001b[0m ):\n\u001b[0;32m-> 1097\u001b[0m     outputs \u001b[39m=\u001b[39m call_fn(inputs, \u001b[39m*\u001b[39;49margs, \u001b[39m*\u001b[39;49m\u001b[39m*\u001b[39;49mkwargs)\n\u001b[1;32m   1099\u001b[0m \u001b[39mif\u001b[39;00m \u001b[39mself\u001b[39m\u001b[39m.\u001b[39m_activity_regularizer:\n\u001b[1;32m   1100\u001b[0m     \u001b[39mself\u001b[39m\u001b[39m.\u001b[39m_handle_activity_regularization(inputs, outputs)\n",
      "File \u001b[0;32m~/tensorflow-test/env/lib/python3.10/site-packages/keras/utils/traceback_utils.py:96\u001b[0m, in \u001b[0;36minject_argument_info_in_traceback.<locals>.error_handler\u001b[0;34m(*args, **kwargs)\u001b[0m\n\u001b[1;32m     94\u001b[0m bound_signature \u001b[39m=\u001b[39m \u001b[39mNone\u001b[39;00m\n\u001b[1;32m     95\u001b[0m \u001b[39mtry\u001b[39;00m:\n\u001b[0;32m---> 96\u001b[0m     \u001b[39mreturn\u001b[39;00m fn(\u001b[39m*\u001b[39;49margs, \u001b[39m*\u001b[39;49m\u001b[39m*\u001b[39;49mkwargs)\n\u001b[1;32m     97\u001b[0m \u001b[39mexcept\u001b[39;00m \u001b[39mException\u001b[39;00m \u001b[39mas\u001b[39;00m e:\n\u001b[1;32m     98\u001b[0m     \u001b[39mif\u001b[39;00m \u001b[39mhasattr\u001b[39m(e, \u001b[39m\"\u001b[39m\u001b[39m_keras_call_info_injected\u001b[39m\u001b[39m\"\u001b[39m):\n\u001b[1;32m     99\u001b[0m         \u001b[39m# Only inject info for the innermost failing call\u001b[39;00m\n",
      "File \u001b[0;32m~/Documents/GitHub/astromer/src/layers/encoders.py:78\u001b[0m, in \u001b[0;36mEncoder.call\u001b[0;34m(self, inputs, training)\u001b[0m\n\u001b[1;32m     76\u001b[0m layers_outputs \u001b[39m=\u001b[39m []\n\u001b[1;32m     77\u001b[0m \u001b[39mfor\u001b[39;00m i \u001b[39min\u001b[39;00m \u001b[39mrange\u001b[39m(\u001b[39mself\u001b[39m\u001b[39m.\u001b[39mnum_layers):\n\u001b[0;32m---> 78\u001b[0m \tx \u001b[39m=\u001b[39m  \u001b[39mself\u001b[39;49m\u001b[39m.\u001b[39;49menc_layers[i](x, training\u001b[39m=\u001b[39;49mtraining, mask\u001b[39m=\u001b[39;49minputs[\u001b[39m'\u001b[39;49m\u001b[39matt_mask\u001b[39;49m\u001b[39m'\u001b[39;49m])\n\u001b[1;32m     79\u001b[0m \tlayers_outputs\u001b[39m.\u001b[39mappend(x)\n\u001b[1;32m     81\u001b[0m x \u001b[39m=\u001b[39m \u001b[39mself\u001b[39m\u001b[39m.\u001b[39moutput_format(layers_outputs, window_size) \n",
      "File \u001b[0;32m~/tensorflow-test/env/lib/python3.10/site-packages/keras/utils/traceback_utils.py:65\u001b[0m, in \u001b[0;36mfilter_traceback.<locals>.error_handler\u001b[0;34m(*args, **kwargs)\u001b[0m\n\u001b[1;32m     63\u001b[0m filtered_tb \u001b[39m=\u001b[39m \u001b[39mNone\u001b[39;00m\n\u001b[1;32m     64\u001b[0m \u001b[39mtry\u001b[39;00m:\n\u001b[0;32m---> 65\u001b[0m     \u001b[39mreturn\u001b[39;00m fn(\u001b[39m*\u001b[39;49margs, \u001b[39m*\u001b[39;49m\u001b[39m*\u001b[39;49mkwargs)\n\u001b[1;32m     66\u001b[0m \u001b[39mexcept\u001b[39;00m \u001b[39mException\u001b[39;00m \u001b[39mas\u001b[39;00m e:\n\u001b[1;32m     67\u001b[0m     filtered_tb \u001b[39m=\u001b[39m _process_traceback_frames(e\u001b[39m.\u001b[39m__traceback__)\n",
      "File \u001b[0;32m~/tensorflow-test/env/lib/python3.10/site-packages/keras/engine/base_layer.py:1097\u001b[0m, in \u001b[0;36mLayer.__call__\u001b[0;34m(self, *args, **kwargs)\u001b[0m\n\u001b[1;32m   1092\u001b[0m     inputs \u001b[39m=\u001b[39m \u001b[39mself\u001b[39m\u001b[39m.\u001b[39m_maybe_cast_inputs(inputs, input_list)\n\u001b[1;32m   1094\u001b[0m \u001b[39mwith\u001b[39;00m autocast_variable\u001b[39m.\u001b[39menable_auto_cast_variables(\n\u001b[1;32m   1095\u001b[0m     \u001b[39mself\u001b[39m\u001b[39m.\u001b[39m_compute_dtype_object\n\u001b[1;32m   1096\u001b[0m ):\n\u001b[0;32m-> 1097\u001b[0m     outputs \u001b[39m=\u001b[39m call_fn(inputs, \u001b[39m*\u001b[39;49margs, \u001b[39m*\u001b[39;49m\u001b[39m*\u001b[39;49mkwargs)\n\u001b[1;32m   1099\u001b[0m \u001b[39mif\u001b[39;00m \u001b[39mself\u001b[39m\u001b[39m.\u001b[39m_activity_regularizer:\n\u001b[1;32m   1100\u001b[0m     \u001b[39mself\u001b[39m\u001b[39m.\u001b[39m_handle_activity_regularization(inputs, outputs)\n",
      "File \u001b[0;32m~/tensorflow-test/env/lib/python3.10/site-packages/keras/utils/traceback_utils.py:96\u001b[0m, in \u001b[0;36minject_argument_info_in_traceback.<locals>.error_handler\u001b[0;34m(*args, **kwargs)\u001b[0m\n\u001b[1;32m     94\u001b[0m bound_signature \u001b[39m=\u001b[39m \u001b[39mNone\u001b[39;00m\n\u001b[1;32m     95\u001b[0m \u001b[39mtry\u001b[39;00m:\n\u001b[0;32m---> 96\u001b[0m     \u001b[39mreturn\u001b[39;00m fn(\u001b[39m*\u001b[39;49margs, \u001b[39m*\u001b[39;49m\u001b[39m*\u001b[39;49mkwargs)\n\u001b[1;32m     97\u001b[0m \u001b[39mexcept\u001b[39;00m \u001b[39mException\u001b[39;00m \u001b[39mas\u001b[39;00m e:\n\u001b[1;32m     98\u001b[0m     \u001b[39mif\u001b[39;00m \u001b[39mhasattr\u001b[39m(e, \u001b[39m\"\u001b[39m\u001b[39m_keras_call_info_injected\u001b[39m\u001b[39m\"\u001b[39m):\n\u001b[1;32m     99\u001b[0m         \u001b[39m# Only inject info for the innermost failing call\u001b[39;00m\n",
      "File \u001b[0;32m~/Documents/GitHub/astromer/src/layers/attblock.py:60\u001b[0m, in \u001b[0;36mAttentionBlock_astrospec.call\u001b[0;34m(self, x, training, mask, return_weights)\u001b[0m\n\u001b[1;32m     58\u001b[0m attn_output \u001b[39m=\u001b[39m \u001b[39mself\u001b[39m\u001b[39m.\u001b[39mdropout1(attn_output, training\u001b[39m=\u001b[39mtraining)\n\u001b[1;32m     59\u001b[0m residual_mask\u001b[39m=\u001b[39mtf\u001b[39m.\u001b[39mwhere(tf\u001b[39m.\u001b[39mequal(mask,\u001b[39m1\u001b[39m), tf\u001b[39m.\u001b[39mzeros_like(mask), tf\u001b[39m.\u001b[39mones_like(mask))\n\u001b[0;32m---> 60\u001b[0m attn_output \u001b[39m=\u001b[39m \u001b[39mself\u001b[39;49m\u001b[39m.\u001b[39;49mlayernorm1(\u001b[39mself\u001b[39;49m\u001b[39m.\u001b[39;49mskip_after_mha(x\u001b[39m*\u001b[39;49mresidual_mask)\u001b[39m+\u001b[39;49mattn_output, training\u001b[39m=\u001b[39;49mtraining)\n\u001b[1;32m     61\u001b[0m ffn_output  \u001b[39m=\u001b[39m \u001b[39mself\u001b[39m\u001b[39m.\u001b[39mffn(attn_output)  \u001b[39m# (batch_size, input_seq_len, d_model)\u001b[39;00m\n\u001b[1;32m     62\u001b[0m ffn_output  \u001b[39m=\u001b[39m \u001b[39mself\u001b[39m\u001b[39m.\u001b[39mdropout2(ffn_output, training\u001b[39m=\u001b[39mtraining)\n",
      "File \u001b[0;32m~/tensorflow-test/env/lib/python3.10/site-packages/keras/utils/traceback_utils.py:65\u001b[0m, in \u001b[0;36mfilter_traceback.<locals>.error_handler\u001b[0;34m(*args, **kwargs)\u001b[0m\n\u001b[1;32m     63\u001b[0m filtered_tb \u001b[39m=\u001b[39m \u001b[39mNone\u001b[39;00m\n\u001b[1;32m     64\u001b[0m \u001b[39mtry\u001b[39;00m:\n\u001b[0;32m---> 65\u001b[0m     \u001b[39mreturn\u001b[39;00m fn(\u001b[39m*\u001b[39;49margs, \u001b[39m*\u001b[39;49m\u001b[39m*\u001b[39;49mkwargs)\n\u001b[1;32m     66\u001b[0m \u001b[39mexcept\u001b[39;00m \u001b[39mException\u001b[39;00m \u001b[39mas\u001b[39;00m e:\n\u001b[1;32m     67\u001b[0m     filtered_tb \u001b[39m=\u001b[39m _process_traceback_frames(e\u001b[39m.\u001b[39m__traceback__)\n",
      "File \u001b[0;32m~/tensorflow-test/env/lib/python3.10/site-packages/keras/engine/base_layer.py:1097\u001b[0m, in \u001b[0;36mLayer.__call__\u001b[0;34m(self, *args, **kwargs)\u001b[0m\n\u001b[1;32m   1092\u001b[0m     inputs \u001b[39m=\u001b[39m \u001b[39mself\u001b[39m\u001b[39m.\u001b[39m_maybe_cast_inputs(inputs, input_list)\n\u001b[1;32m   1094\u001b[0m \u001b[39mwith\u001b[39;00m autocast_variable\u001b[39m.\u001b[39menable_auto_cast_variables(\n\u001b[1;32m   1095\u001b[0m     \u001b[39mself\u001b[39m\u001b[39m.\u001b[39m_compute_dtype_object\n\u001b[1;32m   1096\u001b[0m ):\n\u001b[0;32m-> 1097\u001b[0m     outputs \u001b[39m=\u001b[39m call_fn(inputs, \u001b[39m*\u001b[39;49margs, \u001b[39m*\u001b[39;49m\u001b[39m*\u001b[39;49mkwargs)\n\u001b[1;32m   1099\u001b[0m \u001b[39mif\u001b[39;00m \u001b[39mself\u001b[39m\u001b[39m.\u001b[39m_activity_regularizer:\n\u001b[1;32m   1100\u001b[0m     \u001b[39mself\u001b[39m\u001b[39m.\u001b[39m_handle_activity_regularization(inputs, outputs)\n",
      "File \u001b[0;32m~/tensorflow-test/env/lib/python3.10/site-packages/keras/utils/traceback_utils.py:96\u001b[0m, in \u001b[0;36minject_argument_info_in_traceback.<locals>.error_handler\u001b[0;34m(*args, **kwargs)\u001b[0m\n\u001b[1;32m     94\u001b[0m bound_signature \u001b[39m=\u001b[39m \u001b[39mNone\u001b[39;00m\n\u001b[1;32m     95\u001b[0m \u001b[39mtry\u001b[39;00m:\n\u001b[0;32m---> 96\u001b[0m     \u001b[39mreturn\u001b[39;00m fn(\u001b[39m*\u001b[39;49margs, \u001b[39m*\u001b[39;49m\u001b[39m*\u001b[39;49mkwargs)\n\u001b[1;32m     97\u001b[0m \u001b[39mexcept\u001b[39;00m \u001b[39mException\u001b[39;00m \u001b[39mas\u001b[39;00m e:\n\u001b[1;32m     98\u001b[0m     \u001b[39mif\u001b[39;00m \u001b[39mhasattr\u001b[39m(e, \u001b[39m\"\u001b[39m\u001b[39m_keras_call_info_injected\u001b[39m\u001b[39m\"\u001b[39m):\n\u001b[1;32m     99\u001b[0m         \u001b[39m# Only inject info for the innermost failing call\u001b[39;00m\n",
      "File \u001b[0;32m~/tensorflow-test/env/lib/python3.10/site-packages/keras/layers/normalization/layer_normalization.py:290\u001b[0m, in \u001b[0;36mLayerNormalization.call\u001b[0;34m(self, inputs)\u001b[0m\n\u001b[1;32m    287\u001b[0m     inputs \u001b[39m=\u001b[39m tf\u001b[39m.\u001b[39mcast(inputs, \u001b[39m\"\u001b[39m\u001b[39mfloat32\u001b[39m\u001b[39m\"\u001b[39m)\n\u001b[1;32m    289\u001b[0m \u001b[39m# Calculate the moments on the last axis (layer activations).\u001b[39;00m\n\u001b[0;32m--> 290\u001b[0m mean, variance \u001b[39m=\u001b[39m tf\u001b[39m.\u001b[39;49mnn\u001b[39m.\u001b[39;49mmoments(inputs, \u001b[39mself\u001b[39;49m\u001b[39m.\u001b[39;49maxis, keepdims\u001b[39m=\u001b[39;49m\u001b[39mTrue\u001b[39;49;00m)\n\u001b[1;32m    292\u001b[0m scale, offset \u001b[39m=\u001b[39m _broadcast(\u001b[39mself\u001b[39m\u001b[39m.\u001b[39mgamma), _broadcast(\u001b[39mself\u001b[39m\u001b[39m.\u001b[39mbeta)\n\u001b[1;32m    294\u001b[0m \u001b[39m# Compute layer normalization using the batch_normalization\u001b[39;00m\n\u001b[1;32m    295\u001b[0m \u001b[39m# function.\u001b[39;00m\n",
      "File \u001b[0;32m~/tensorflow-test/env/lib/python3.10/site-packages/tensorflow/python/util/traceback_utils.py:150\u001b[0m, in \u001b[0;36mfilter_traceback.<locals>.error_handler\u001b[0;34m(*args, **kwargs)\u001b[0m\n\u001b[1;32m    148\u001b[0m filtered_tb \u001b[39m=\u001b[39m \u001b[39mNone\u001b[39;00m\n\u001b[1;32m    149\u001b[0m \u001b[39mtry\u001b[39;00m:\n\u001b[0;32m--> 150\u001b[0m   \u001b[39mreturn\u001b[39;00m fn(\u001b[39m*\u001b[39;49margs, \u001b[39m*\u001b[39;49m\u001b[39m*\u001b[39;49mkwargs)\n\u001b[1;32m    151\u001b[0m \u001b[39mexcept\u001b[39;00m \u001b[39mException\u001b[39;00m \u001b[39mas\u001b[39;00m e:\n\u001b[1;32m    152\u001b[0m   filtered_tb \u001b[39m=\u001b[39m _process_traceback_frames(e\u001b[39m.\u001b[39m__traceback__)\n",
      "File \u001b[0;32m~/tensorflow-test/env/lib/python3.10/site-packages/tensorflow/python/util/dispatch.py:1176\u001b[0m, in \u001b[0;36madd_dispatch_support.<locals>.decorator.<locals>.op_dispatch_handler\u001b[0;34m(*args, **kwargs)\u001b[0m\n\u001b[1;32m   1174\u001b[0m \u001b[39m# Fallback dispatch system (dispatch v1):\u001b[39;00m\n\u001b[1;32m   1175\u001b[0m \u001b[39mtry\u001b[39;00m:\n\u001b[0;32m-> 1176\u001b[0m   \u001b[39mreturn\u001b[39;00m dispatch_target(\u001b[39m*\u001b[39;49margs, \u001b[39m*\u001b[39;49m\u001b[39m*\u001b[39;49mkwargs)\n\u001b[1;32m   1177\u001b[0m \u001b[39mexcept\u001b[39;00m (\u001b[39mTypeError\u001b[39;00m, \u001b[39mValueError\u001b[39;00m):\n\u001b[1;32m   1178\u001b[0m   \u001b[39m# Note: convert_to_eager_tensor currently raises a ValueError, not a\u001b[39;00m\n\u001b[1;32m   1179\u001b[0m   \u001b[39m# TypeError, when given unexpected types.  So we need to catch both.\u001b[39;00m\n\u001b[1;32m   1180\u001b[0m   result \u001b[39m=\u001b[39m dispatch(op_dispatch_handler, args, kwargs)\n",
      "File \u001b[0;32m~/tensorflow-test/env/lib/python3.10/site-packages/tensorflow/python/ops/nn_impl.py:1419\u001b[0m, in \u001b[0;36mmoments_v2\u001b[0;34m(x, axes, shift, keepdims, name)\u001b[0m\n\u001b[1;32m   1385\u001b[0m \u001b[39m@tf_export\u001b[39m(\u001b[39m\"\u001b[39m\u001b[39mnn.moments\u001b[39m\u001b[39m\"\u001b[39m, v1\u001b[39m=\u001b[39m[])\n\u001b[1;32m   1386\u001b[0m \u001b[39m@dispatch\u001b[39m\u001b[39m.\u001b[39madd_dispatch_support\n\u001b[1;32m   1387\u001b[0m \u001b[39mdef\u001b[39;00m \u001b[39mmoments_v2\u001b[39m(\n\u001b[0;32m   (...)\u001b[0m\n\u001b[1;32m   1391\u001b[0m     keepdims\u001b[39m=\u001b[39m\u001b[39mFalse\u001b[39;00m,\n\u001b[1;32m   1392\u001b[0m     name\u001b[39m=\u001b[39m\u001b[39mNone\u001b[39;00m):\n\u001b[1;32m   1393\u001b[0m   \u001b[39m\"\"\"Calculates the mean and variance of `x`.\u001b[39;00m\n\u001b[1;32m   1394\u001b[0m \n\u001b[1;32m   1395\u001b[0m \u001b[39m  The mean and variance are calculated by aggregating the contents of `x`\u001b[39;00m\n\u001b[0;32m   (...)\u001b[0m\n\u001b[1;32m   1417\u001b[0m \u001b[39m    Two `Tensor` objects: `mean` and `variance`.\u001b[39;00m\n\u001b[1;32m   1418\u001b[0m \u001b[39m  \"\"\"\u001b[39;00m\n\u001b[0;32m-> 1419\u001b[0m   \u001b[39mreturn\u001b[39;00m moments(x\u001b[39m=\u001b[39;49mx, axes\u001b[39m=\u001b[39;49maxes, shift\u001b[39m=\u001b[39;49mshift, name\u001b[39m=\u001b[39;49mname, keep_dims\u001b[39m=\u001b[39;49mkeepdims)\n",
      "File \u001b[0;32m~/tensorflow-test/env/lib/python3.10/site-packages/tensorflow/python/util/traceback_utils.py:150\u001b[0m, in \u001b[0;36mfilter_traceback.<locals>.error_handler\u001b[0;34m(*args, **kwargs)\u001b[0m\n\u001b[1;32m    148\u001b[0m filtered_tb \u001b[39m=\u001b[39m \u001b[39mNone\u001b[39;00m\n\u001b[1;32m    149\u001b[0m \u001b[39mtry\u001b[39;00m:\n\u001b[0;32m--> 150\u001b[0m   \u001b[39mreturn\u001b[39;00m fn(\u001b[39m*\u001b[39;49margs, \u001b[39m*\u001b[39;49m\u001b[39m*\u001b[39;49mkwargs)\n\u001b[1;32m    151\u001b[0m \u001b[39mexcept\u001b[39;00m \u001b[39mException\u001b[39;00m \u001b[39mas\u001b[39;00m e:\n\u001b[1;32m    152\u001b[0m   filtered_tb \u001b[39m=\u001b[39m _process_traceback_frames(e\u001b[39m.\u001b[39m__traceback__)\n",
      "File \u001b[0;32m~/tensorflow-test/env/lib/python3.10/site-packages/tensorflow/python/util/dispatch.py:1176\u001b[0m, in \u001b[0;36madd_dispatch_support.<locals>.decorator.<locals>.op_dispatch_handler\u001b[0;34m(*args, **kwargs)\u001b[0m\n\u001b[1;32m   1174\u001b[0m \u001b[39m# Fallback dispatch system (dispatch v1):\u001b[39;00m\n\u001b[1;32m   1175\u001b[0m \u001b[39mtry\u001b[39;00m:\n\u001b[0;32m-> 1176\u001b[0m   \u001b[39mreturn\u001b[39;00m dispatch_target(\u001b[39m*\u001b[39;49margs, \u001b[39m*\u001b[39;49m\u001b[39m*\u001b[39;49mkwargs)\n\u001b[1;32m   1177\u001b[0m \u001b[39mexcept\u001b[39;00m (\u001b[39mTypeError\u001b[39;00m, \u001b[39mValueError\u001b[39;00m):\n\u001b[1;32m   1178\u001b[0m   \u001b[39m# Note: convert_to_eager_tensor currently raises a ValueError, not a\u001b[39;00m\n\u001b[1;32m   1179\u001b[0m   \u001b[39m# TypeError, when given unexpected types.  So we need to catch both.\u001b[39;00m\n\u001b[1;32m   1180\u001b[0m   result \u001b[39m=\u001b[39m dispatch(op_dispatch_handler, args, kwargs)\n",
      "File \u001b[0;32m~/tensorflow-test/env/lib/python3.10/site-packages/tensorflow/python/ops/nn_impl.py:1371\u001b[0m, in \u001b[0;36mmoments\u001b[0;34m(x, axes, shift, name, keep_dims, keepdims)\u001b[0m\n\u001b[1;32m   1365\u001b[0m mean \u001b[39m=\u001b[39m math_ops\u001b[39m.\u001b[39mreduce_mean(y, axes, keepdims\u001b[39m=\u001b[39m\u001b[39mTrue\u001b[39;00m, name\u001b[39m=\u001b[39m\u001b[39m\"\u001b[39m\u001b[39mmean\u001b[39m\u001b[39m\"\u001b[39m)\n\u001b[1;32m   1366\u001b[0m \u001b[39m# sample variance, not unbiased variance\u001b[39;00m\n\u001b[1;32m   1367\u001b[0m \u001b[39m# Note: stop_gradient does not change the gradient that gets\u001b[39;00m\n\u001b[1;32m   1368\u001b[0m \u001b[39m#       backpropagated to the mean from the variance calculation,\u001b[39;00m\n\u001b[1;32m   1369\u001b[0m \u001b[39m#       because that gradient is zero\u001b[39;00m\n\u001b[1;32m   1370\u001b[0m variance \u001b[39m=\u001b[39m math_ops\u001b[39m.\u001b[39mreduce_mean(\n\u001b[0;32m-> 1371\u001b[0m     math_ops\u001b[39m.\u001b[39;49msquared_difference(y, array_ops\u001b[39m.\u001b[39;49mstop_gradient(mean)),\n\u001b[1;32m   1372\u001b[0m     axes,\n\u001b[1;32m   1373\u001b[0m     keepdims\u001b[39m=\u001b[39m\u001b[39mTrue\u001b[39;00m,\n\u001b[1;32m   1374\u001b[0m     name\u001b[39m=\u001b[39m\u001b[39m\"\u001b[39m\u001b[39mvariance\u001b[39m\u001b[39m\"\u001b[39m)\n\u001b[1;32m   1375\u001b[0m \u001b[39mif\u001b[39;00m \u001b[39mnot\u001b[39;00m keep_dims:\n\u001b[1;32m   1376\u001b[0m   mean \u001b[39m=\u001b[39m array_ops\u001b[39m.\u001b[39msqueeze(mean, axes)\n",
      "File \u001b[0;32m~/tensorflow-test/env/lib/python3.10/site-packages/tensorflow/python/ops/gen_math_ops.py:11005\u001b[0m, in \u001b[0;36msquared_difference\u001b[0;34m(x, y, name)\u001b[0m\n\u001b[1;32m  11003\u001b[0m \u001b[39mif\u001b[39;00m tld\u001b[39m.\u001b[39mis_eager:\n\u001b[1;32m  11004\u001b[0m   \u001b[39mtry\u001b[39;00m:\n\u001b[0;32m> 11005\u001b[0m     _result \u001b[39m=\u001b[39m pywrap_tfe\u001b[39m.\u001b[39;49mTFE_Py_FastPathExecute(\n\u001b[1;32m  11006\u001b[0m       _ctx, \u001b[39m\"\u001b[39;49m\u001b[39mSquaredDifference\u001b[39;49m\u001b[39m\"\u001b[39;49m, name, x, y)\n\u001b[1;32m  11007\u001b[0m     \u001b[39mreturn\u001b[39;00m _result\n\u001b[1;32m  11008\u001b[0m   \u001b[39mexcept\u001b[39;00m _core\u001b[39m.\u001b[39m_NotOkStatusException \u001b[39mas\u001b[39;00m e:\n",
      "\u001b[0;31mKeyboardInterrupt\u001b[0m: "
     ]
    }
   ],
   "source": [
    "train(model, \n",
    "\t\t  train_loader, \n",
    "\t\t  val_loader, \n",
    "\t\t  num_epochs=1, \n",
    "\t\t  lr=1e-3, \n",
    "\t\t  test_loader=None, \n",
    "\t\t  project_path='test_run/', \n",
    "\t\t  debug=False, \n",
    "\t\t  patience=20,\n",
    "\t\t  train_step_fn=train_step,\n",
    "\t\t  test_step_fn=test_step,\n",
    "\t\t  argparse_dict=None)"
   ]
  },
  {
   "cell_type": "code",
   "execution_count": 29,
   "metadata": {},
   "outputs": [
    {
     "data": {
      "text/plain": [
       "TensorShape([2, 500, 1])"
      ]
     },
     "execution_count": 29,
     "metadata": {},
     "output_type": "execute_result"
    }
   ],
   "source": [
    "second_dict['probed_mask'].shape"
   ]
  },
  {
   "cell_type": "code",
   "execution_count": 8,
   "metadata": {},
   "outputs": [
    {
     "data": {
      "text/plain": [
       "dict_keys(['magnitudes', 'probed_mask'])"
      ]
     },
     "execution_count": 8,
     "metadata": {},
     "output_type": "execute_result"
    }
   ],
   "source": [
    "second_dict.keys()"
   ]
  },
  {
   "cell_type": "code",
   "execution_count": 33,
   "metadata": {},
   "outputs": [],
   "source": [
    "tt=tf.reshape(tf.constant([1,2,3,4]),(4,1))"
   ]
  },
  {
   "cell_type": "code",
   "execution_count": 34,
   "metadata": {},
   "outputs": [
    {
     "data": {
      "text/plain": [
       "<tf.Tensor: shape=(4, 1), dtype=int32, numpy=\n",
       "array([[1],\n",
       "       [2],\n",
       "       [3],\n",
       "       [4]], dtype=int32)>"
      ]
     },
     "execution_count": 34,
     "metadata": {},
     "output_type": "execute_result"
    }
   ],
   "source": [
    "tt"
   ]
  },
  {
   "cell_type": "code",
   "execution_count": 38,
   "metadata": {},
   "outputs": [],
   "source": [
    "tt=tf.convert_to_tensor(np.array([[1,2],\n",
    "         [3,4],\n",
    "         [5,6]]))"
   ]
  },
  {
   "cell_type": "code",
   "execution_count": 48,
   "metadata": {},
   "outputs": [
    {
     "data": {
      "text/plain": [
       "<tf.Tensor: shape=(5, 2), dtype=int64, numpy=\n",
       "array([[1, 2],\n",
       "       [3, 4],\n",
       "       [5, 6],\n",
       "       [0, 0],\n",
       "       [0, 0]])>"
      ]
     },
     "execution_count": 48,
     "metadata": {},
     "output_type": "execute_result"
    }
   ],
   "source": [
    "tf.concat([tt,1-mask_fill],0)"
   ]
  },
  {
   "cell_type": "code",
   "execution_count": 4,
   "metadata": {},
   "outputs": [
    {
     "name": "stderr",
     "output_type": "stream",
     "text": [
      "2023-09-23 17:42:51.275311: W tensorflow/core/platform/profile_utils/cpu_utils.cc:128] Failed to get CPU frequency: 0 Hz\n"
     ]
    }
   ],
   "source": [
    "testing_moving_median=0\n",
    "for i in data_object:\n",
    "    testing_moving_median=i\n",
    "    break"
   ]
  },
  {
   "cell_type": "code",
   "execution_count": 5,
   "metadata": {},
   "outputs": [
    {
     "data": {
      "text/plain": [
       "dict_keys(['magnitudes', 'times', 'att_mask', 'original', 'mask'])"
      ]
     },
     "execution_count": 5,
     "metadata": {},
     "output_type": "execute_result"
    }
   ],
   "source": [
    "testing_moving_median[0].keys()"
   ]
  },
  {
   "cell_type": "code",
   "execution_count": 7,
   "metadata": {},
   "outputs": [
    {
     "data": {
      "text/plain": [
       "TensorShape([2, 50, 2])"
      ]
     },
     "execution_count": 7,
     "metadata": {},
     "output_type": "execute_result"
    }
   ],
   "source": [
    "testing_moving_median[0]['original'].shape\n",
    "# testing_moving_median[0]['mask'].shape"
   ]
  },
  {
   "cell_type": "code",
   "execution_count": 6,
   "metadata": {},
   "outputs": [
    {
     "data": {
      "text/plain": [
       "dict_keys(['magnitudes', 'probed_mask'])"
      ]
     },
     "execution_count": 6,
     "metadata": {},
     "output_type": "execute_result"
    }
   ],
   "source": [
    "testing_moving_median[1].keys()"
   ]
  },
  {
   "cell_type": "code",
   "execution_count": 6,
   "metadata": {},
   "outputs": [
    {
     "data": {
      "text/plain": [
       "TensorShape([2, 50, 1])"
      ]
     },
     "execution_count": 6,
     "metadata": {},
     "output_type": "execute_result"
    }
   ],
   "source": [
    "testing_moving_median[1]['magnitudes'].shape\n"
   ]
  },
  {
   "cell_type": "code",
   "execution_count": 7,
   "metadata": {},
   "outputs": [
    {
     "data": {
      "text/plain": [
       "TensorShape([2, 50, 1])"
      ]
     },
     "execution_count": 7,
     "metadata": {},
     "output_type": "execute_result"
    }
   ],
   "source": [
    "testing_moving_median[1]['probed_mask'].shape"
   ]
  },
  {
   "cell_type": "code",
   "execution_count": 10,
   "metadata": {},
   "outputs": [
    {
     "data": {
      "text/plain": [
       "TensorShape([2, 50, 1])"
      ]
     },
     "execution_count": 10,
     "metadata": {},
     "output_type": "execute_result"
    }
   ],
   "source": [
    "testing_moving_median[0]['times'].shape\n"
   ]
  },
  {
   "cell_type": "code",
   "execution_count": 11,
   "metadata": {},
   "outputs": [
    {
     "data": {
      "text/plain": [
       "TensorShape([2, 50, 1])"
      ]
     },
     "execution_count": 11,
     "metadata": {},
     "output_type": "execute_result"
    }
   ],
   "source": [
    "testing_moving_median[0]['att_mask'].shape"
   ]
  },
  {
   "cell_type": "code",
   "execution_count": 17,
   "metadata": {},
   "outputs": [
    {
     "data": {
      "text/plain": [
       "<tf.Tensor: shape=(2, 50, 1, 1), dtype=float32, numpy=\n",
       "array([[[[1.]],\n",
       "\n",
       "        [[1.]],\n",
       "\n",
       "        [[1.]],\n",
       "\n",
       "        [[1.]],\n",
       "\n",
       "        [[1.]],\n",
       "\n",
       "        [[1.]],\n",
       "\n",
       "        [[1.]],\n",
       "\n",
       "        [[1.]],\n",
       "\n",
       "        [[1.]],\n",
       "\n",
       "        [[1.]],\n",
       "\n",
       "        [[1.]],\n",
       "\n",
       "        [[1.]],\n",
       "\n",
       "        [[1.]],\n",
       "\n",
       "        [[1.]],\n",
       "\n",
       "        [[1.]],\n",
       "\n",
       "        [[1.]],\n",
       "\n",
       "        [[1.]],\n",
       "\n",
       "        [[1.]],\n",
       "\n",
       "        [[1.]],\n",
       "\n",
       "        [[1.]],\n",
       "\n",
       "        [[1.]],\n",
       "\n",
       "        [[1.]],\n",
       "\n",
       "        [[1.]],\n",
       "\n",
       "        [[1.]],\n",
       "\n",
       "        [[1.]],\n",
       "\n",
       "        [[1.]],\n",
       "\n",
       "        [[1.]],\n",
       "\n",
       "        [[1.]],\n",
       "\n",
       "        [[1.]],\n",
       "\n",
       "        [[1.]],\n",
       "\n",
       "        [[1.]],\n",
       "\n",
       "        [[1.]],\n",
       "\n",
       "        [[1.]],\n",
       "\n",
       "        [[1.]],\n",
       "\n",
       "        [[1.]],\n",
       "\n",
       "        [[1.]],\n",
       "\n",
       "        [[1.]],\n",
       "\n",
       "        [[1.]],\n",
       "\n",
       "        [[1.]],\n",
       "\n",
       "        [[1.]],\n",
       "\n",
       "        [[1.]],\n",
       "\n",
       "        [[1.]],\n",
       "\n",
       "        [[1.]],\n",
       "\n",
       "        [[1.]],\n",
       "\n",
       "        [[1.]],\n",
       "\n",
       "        [[1.]],\n",
       "\n",
       "        [[1.]],\n",
       "\n",
       "        [[1.]],\n",
       "\n",
       "        [[1.]],\n",
       "\n",
       "        [[1.]]],\n",
       "\n",
       "\n",
       "       [[[1.]],\n",
       "\n",
       "        [[1.]],\n",
       "\n",
       "        [[1.]],\n",
       "\n",
       "        [[1.]],\n",
       "\n",
       "        [[1.]],\n",
       "\n",
       "        [[1.]],\n",
       "\n",
       "        [[1.]],\n",
       "\n",
       "        [[1.]],\n",
       "\n",
       "        [[1.]],\n",
       "\n",
       "        [[1.]],\n",
       "\n",
       "        [[1.]],\n",
       "\n",
       "        [[1.]],\n",
       "\n",
       "        [[1.]],\n",
       "\n",
       "        [[1.]],\n",
       "\n",
       "        [[1.]],\n",
       "\n",
       "        [[1.]],\n",
       "\n",
       "        [[1.]],\n",
       "\n",
       "        [[1.]],\n",
       "\n",
       "        [[1.]],\n",
       "\n",
       "        [[1.]],\n",
       "\n",
       "        [[1.]],\n",
       "\n",
       "        [[1.]],\n",
       "\n",
       "        [[1.]],\n",
       "\n",
       "        [[1.]],\n",
       "\n",
       "        [[1.]],\n",
       "\n",
       "        [[1.]],\n",
       "\n",
       "        [[1.]],\n",
       "\n",
       "        [[1.]],\n",
       "\n",
       "        [[1.]],\n",
       "\n",
       "        [[1.]],\n",
       "\n",
       "        [[1.]],\n",
       "\n",
       "        [[1.]],\n",
       "\n",
       "        [[1.]],\n",
       "\n",
       "        [[1.]],\n",
       "\n",
       "        [[1.]],\n",
       "\n",
       "        [[1.]],\n",
       "\n",
       "        [[1.]],\n",
       "\n",
       "        [[1.]],\n",
       "\n",
       "        [[1.]],\n",
       "\n",
       "        [[1.]],\n",
       "\n",
       "        [[1.]],\n",
       "\n",
       "        [[1.]],\n",
       "\n",
       "        [[1.]],\n",
       "\n",
       "        [[1.]],\n",
       "\n",
       "        [[1.]],\n",
       "\n",
       "        [[1.]],\n",
       "\n",
       "        [[1.]],\n",
       "\n",
       "        [[1.]],\n",
       "\n",
       "        [[1.]],\n",
       "\n",
       "        [[1.]]]], dtype=float32)>"
      ]
     },
     "execution_count": 17,
     "metadata": {},
     "output_type": "execute_result"
    }
   ],
   "source": [
    "tf.expand_dims(testing_moving_median['mask'],-1)"
   ]
  },
  {
   "cell_type": "code",
   "execution_count": 15,
   "metadata": {},
   "outputs": [
    {
     "ename": "InvalidArgumentError",
     "evalue": "{{function_node __wrapped__Slice_device_/job:localhost/replica:0/task:0/device:GPU:0}} Expected size[2] in [0, 0], but got 1 [Op:Slice]",
     "output_type": "error",
     "traceback": [
      "\u001b[0;31m---------------------------------------------------------------------------\u001b[0m",
      "\u001b[0;31mInvalidArgumentError\u001b[0m                      Traceback (most recent call last)",
      "\u001b[1;32m/Users/yashsurange/Documents/GitHub/astromer/test.ipynb Cell 9\u001b[0m line \u001b[0;36m1\n\u001b[0;32m----> <a href='vscode-notebook-cell:/Users/yashsurange/Documents/GitHub/astromer/test.ipynb#X41sZmlsZQ%3D%3D?line=0'>1</a>\u001b[0m tf\u001b[39m.\u001b[39;49mslice(testing_moving_median[\u001b[39m'\u001b[39;49m\u001b[39minput\u001b[39;49m\u001b[39m'\u001b[39;49m],[\u001b[39m0\u001b[39;49m,\u001b[39m0\u001b[39;49m,\u001b[39m2\u001b[39;49m],[\u001b[39m-\u001b[39;49m\u001b[39m1\u001b[39;49m,\u001b[39m-\u001b[39;49m\u001b[39m1\u001b[39;49m,\u001b[39m1\u001b[39;49m])\n",
      "File \u001b[0;32m~/tensorflow-test/env/lib/python3.10/site-packages/tensorflow/python/util/traceback_utils.py:153\u001b[0m, in \u001b[0;36mfilter_traceback.<locals>.error_handler\u001b[0;34m(*args, **kwargs)\u001b[0m\n\u001b[1;32m    151\u001b[0m \u001b[39mexcept\u001b[39;00m \u001b[39mException\u001b[39;00m \u001b[39mas\u001b[39;00m e:\n\u001b[1;32m    152\u001b[0m   filtered_tb \u001b[39m=\u001b[39m _process_traceback_frames(e\u001b[39m.\u001b[39m__traceback__)\n\u001b[0;32m--> 153\u001b[0m   \u001b[39mraise\u001b[39;00m e\u001b[39m.\u001b[39mwith_traceback(filtered_tb) \u001b[39mfrom\u001b[39;00m \u001b[39mNone\u001b[39m\n\u001b[1;32m    154\u001b[0m \u001b[39mfinally\u001b[39;00m:\n\u001b[1;32m    155\u001b[0m   \u001b[39mdel\u001b[39;00m filtered_tb\n",
      "File \u001b[0;32m~/tensorflow-test/env/lib/python3.10/site-packages/tensorflow/python/eager/execute.py:54\u001b[0m, in \u001b[0;36mquick_execute\u001b[0;34m(op_name, num_outputs, inputs, attrs, ctx, name)\u001b[0m\n\u001b[1;32m     52\u001b[0m \u001b[39mtry\u001b[39;00m:\n\u001b[1;32m     53\u001b[0m   ctx\u001b[39m.\u001b[39mensure_initialized()\n\u001b[0;32m---> 54\u001b[0m   tensors \u001b[39m=\u001b[39m pywrap_tfe\u001b[39m.\u001b[39mTFE_Py_Execute(ctx\u001b[39m.\u001b[39m_handle, device_name, op_name,\n\u001b[1;32m     55\u001b[0m                                       inputs, attrs, num_outputs)\n\u001b[1;32m     56\u001b[0m \u001b[39mexcept\u001b[39;00m core\u001b[39m.\u001b[39m_NotOkStatusException \u001b[39mas\u001b[39;00m e:\n\u001b[1;32m     57\u001b[0m   \u001b[39mif\u001b[39;00m name \u001b[39mis\u001b[39;00m \u001b[39mnot\u001b[39;00m \u001b[39mNone\u001b[39;00m:\n",
      "\u001b[0;31mInvalidArgumentError\u001b[0m: {{function_node __wrapped__Slice_device_/job:localhost/replica:0/task:0/device:GPU:0}} Expected size[2] in [0, 0], but got 1 [Op:Slice]"
     ]
    }
   ],
   "source": [
    "tf.slice(testing_moving_median['input'],[0,0,2],[-1,-1,1])"
   ]
  },
  {
   "cell_type": "code",
   "execution_count": 29,
   "metadata": {},
   "outputs": [
    {
     "data": {
      "text/plain": [
       "<tf.Tensor: shape=(2, 1), dtype=float32, numpy=\n",
       "array([[1.],\n",
       "       [1.]], dtype=float32)>"
      ]
     },
     "execution_count": 29,
     "metadata": {},
     "output_type": "execute_result"
    }
   ],
   "source": [
    "mask_fill"
   ]
  },
  {
   "cell_type": "code",
   "execution_count": 45,
   "metadata": {},
   "outputs": [],
   "source": [
    "mask_fill = tf.ones([5 - 3, 2], dtype=tf.int64)\n",
    "# tf.concat([testing_moving_median['input'][:3],mask_fill],0)"
   ]
  },
  {
   "cell_type": "code",
   "execution_count": 46,
   "metadata": {},
   "outputs": [
    {
     "data": {
      "text/plain": [
       "<tf.Tensor: shape=(2, 2), dtype=int64, numpy=\n",
       "array([[1, 1],\n",
       "       [1, 1]])>"
      ]
     },
     "execution_count": 46,
     "metadata": {},
     "output_type": "execute_result"
    }
   ],
   "source": [
    "mask_fill"
   ]
  },
  {
   "cell_type": "code",
   "execution_count": 15,
   "metadata": {},
   "outputs": [
    {
     "name": "stdout",
     "output_type": "stream",
     "text": [
      "1\n"
     ]
    }
   ],
   "source": [
    "if tf.shape(testing_moving_median['input'])[0]>20:\n",
    "    print(1)"
   ]
  },
  {
   "cell_type": "code",
   "execution_count": 16,
   "metadata": {},
   "outputs": [
    {
     "data": {
      "text/plain": [
       "dict_keys(['input', 'moving_median_sequence', 'original', 'lcid', 'length', 'mask', 'label', 'probed_mask', 'att_mask'])"
      ]
     },
     "execution_count": 16,
     "metadata": {},
     "output_type": "execute_result"
    }
   ],
   "source": [
    "testing_moving_median.keys()"
   ]
  },
  {
   "cell_type": "code",
   "execution_count": 9,
   "metadata": {},
   "outputs": [],
   "source": [
    "reshaped=tf.reshape(testing_moving_median['probed_mask'],[50,1])"
   ]
  },
  {
   "cell_type": "code",
   "execution_count": 32,
   "metadata": {},
   "outputs": [
    {
     "data": {
      "text/plain": [
       "<tf.Tensor: shape=(50, 1), dtype=float32, numpy=\n",
       "array([[0.],\n",
       "       [0.],\n",
       "       [0.],\n",
       "       [0.],\n",
       "       [1.],\n",
       "       [1.],\n",
       "       [0.],\n",
       "       [0.],\n",
       "       [0.],\n",
       "       [0.],\n",
       "       [0.],\n",
       "       [0.],\n",
       "       [1.],\n",
       "       [1.],\n",
       "       [1.],\n",
       "       [0.],\n",
       "       [0.],\n",
       "       [0.],\n",
       "       [0.],\n",
       "       [0.],\n",
       "       [0.],\n",
       "       [0.],\n",
       "       [1.],\n",
       "       [1.],\n",
       "       [0.],\n",
       "       [1.],\n",
       "       [1.],\n",
       "       [1.],\n",
       "       [1.],\n",
       "       [1.],\n",
       "       [1.],\n",
       "       [1.],\n",
       "       [1.],\n",
       "       [1.],\n",
       "       [0.],\n",
       "       [1.],\n",
       "       [1.],\n",
       "       [1.],\n",
       "       [1.],\n",
       "       [1.],\n",
       "       [0.],\n",
       "       [0.],\n",
       "       [1.],\n",
       "       [1.],\n",
       "       [1.],\n",
       "       [1.],\n",
       "       [1.],\n",
       "       [0.],\n",
       "       [0.],\n",
       "       [0.]], dtype=float32)>"
      ]
     },
     "execution_count": 32,
     "metadata": {},
     "output_type": "execute_result"
    }
   ],
   "source": [
    "reshaped"
   ]
  },
  {
   "cell_type": "code",
   "execution_count": 16,
   "metadata": {},
   "outputs": [
    {
     "data": {
      "text/plain": [
       "<tf.Tensor: shape=(50, 1), dtype=float32, numpy=\n",
       "array([[1.],\n",
       "       [1.],\n",
       "       [1.],\n",
       "       [1.],\n",
       "       [1.],\n",
       "       [0.],\n",
       "       [0.],\n",
       "       [0.],\n",
       "       [0.],\n",
       "       [0.],\n",
       "       [0.],\n",
       "       [0.],\n",
       "       [0.],\n",
       "       [0.],\n",
       "       [0.],\n",
       "       [1.],\n",
       "       [1.],\n",
       "       [1.],\n",
       "       [0.],\n",
       "       [1.],\n",
       "       [1.],\n",
       "       [0.],\n",
       "       [0.],\n",
       "       [0.],\n",
       "       [1.],\n",
       "       [1.],\n",
       "       [1.],\n",
       "       [1.],\n",
       "       [0.],\n",
       "       [0.],\n",
       "       [0.],\n",
       "       [0.],\n",
       "       [0.],\n",
       "       [0.],\n",
       "       [0.],\n",
       "       [0.],\n",
       "       [0.],\n",
       "       [0.],\n",
       "       [0.],\n",
       "       [0.],\n",
       "       [0.],\n",
       "       [0.],\n",
       "       [0.],\n",
       "       [0.],\n",
       "       [1.],\n",
       "       [1.],\n",
       "       [1.],\n",
       "       [0.],\n",
       "       [0.],\n",
       "       [0.]], dtype=float32)>"
      ]
     },
     "execution_count": 16,
     "metadata": {},
     "output_type": "execute_result"
    }
   ],
   "source": [
    "testing_moving_median['probed_mask']"
   ]
  },
  {
   "cell_type": "code",
   "execution_count": 10,
   "metadata": {},
   "outputs": [
    {
     "data": {
      "text/plain": [
       "<tf.Tensor: shape=(50, 2), dtype=float32, numpy=\n",
       "array([[ -0.        ,  -0.        ],\n",
       "       [ -0.        ,  -0.        ],\n",
       "       [ -0.        ,  -0.        ],\n",
       "       [ -0.        ,  -0.        ],\n",
       "       [-19.905762  ,   1.0902777 ],\n",
       "       [-18.938965  ,   0.81722116],\n",
       "       [ -0.        ,   0.        ],\n",
       "       [ -0.        ,   0.        ],\n",
       "       [ -0.        ,   0.        ],\n",
       "       [ -0.        ,   0.        ],\n",
       "       [ -0.        ,  -0.        ],\n",
       "       [ -0.        ,   0.        ],\n",
       "       [-12.158203  ,   0.09016132],\n",
       "       [-11.189941  ,   0.11308146],\n",
       "       [-10.21875   ,   0.47680283],\n",
       "       [ -0.        ,  -0.        ],\n",
       "       [ -0.        ,  -0.        ],\n",
       "       [ -0.        ,   0.        ],\n",
       "       [ -0.        ,   0.        ],\n",
       "       [ -0.        ,   0.        ],\n",
       "       [ -0.        ,  -0.        ],\n",
       "       [ -0.        ,   0.        ],\n",
       "       [ -2.4536133 ,  -0.66094613],\n",
       "       [ -1.4804688 ,  -0.5366204 ],\n",
       "       [ -0.        ,  -0.        ],\n",
       "       [  0.4638672 ,   0.28029823],\n",
       "       [  1.4355469 ,   0.3897295 ],\n",
       "       [  2.4072266 ,  -0.09306765],\n",
       "       [  3.3813477 ,  -0.24985886],\n",
       "       [  4.3535156 ,   0.07533503],\n",
       "       [  5.328125  ,  -0.46161938],\n",
       "       [  6.3007812 ,  -0.57373047],\n",
       "       [  7.275879  ,  -0.30346775],\n",
       "       [  8.248535  ,  -0.39268923],\n",
       "       [  0.        ,   0.        ],\n",
       "       [ 10.197754  ,  -0.39231515],\n",
       "       [ 11.171387  ,  -0.3745098 ],\n",
       "       [ 12.147949  ,   0.41899872],\n",
       "       [ 13.12207   ,   0.6171737 ],\n",
       "       [ 14.098633  ,   0.482224  ],\n",
       "       [  0.        ,  -0.        ],\n",
       "       [  0.        ,   0.        ],\n",
       "       [ 17.02539   ,   0.4878292 ],\n",
       "       [ 18.000488  ,   0.10664511],\n",
       "       [ 18.978516  ,  -0.20973253],\n",
       "       [ 19.954102  ,  -0.9718735 ],\n",
       "       [ 20.932129  ,  -0.73724985],\n",
       "       [  0.        ,   0.        ],\n",
       "       [  0.        ,  -0.        ],\n",
       "       [  0.        ,  -0.        ]], dtype=float32)>"
      ]
     },
     "execution_count": 10,
     "metadata": {},
     "output_type": "execute_result"
    }
   ],
   "source": [
    "tf.multiply(testing_moving_median['input'],reshaped)"
   ]
  },
  {
   "cell_type": "code",
   "execution_count": 7,
   "metadata": {},
   "outputs": [],
   "source": [
    "from src.data.preprocessing import calculate_iqr"
   ]
  },
  {
   "cell_type": "code",
   "execution_count": 22,
   "metadata": {},
   "outputs": [
    {
     "name": "stderr",
     "output_type": "stream",
     "text": [
      "2023-09-22 22:01:11.110706: I tensorflow/core/grappler/optimizers/custom_graph_optimizer_registry.cc:114] Plugin optimizer for device_type GPU is enabled.\n",
      "2023-09-22 22:01:11.220378: I tensorflow/core/grappler/optimizers/custom_graph_optimizer_registry.cc:114] Plugin optimizer for device_type GPU is enabled.\n"
     ]
    },
    {
     "data": {
      "text/plain": [
       "{'input': <tf.Tensor: shape=(50, 2), dtype=float32, numpy=\n",
       " array([[-5.35732422e+01,  5.93668938e-01],\n",
       "        [-5.13916016e+01, -9.38462257e-01],\n",
       "        [-4.92148438e+01, -1.80243909e-01],\n",
       "        [-4.70322266e+01,  4.24127221e-01],\n",
       "        [-4.48544922e+01,  3.59065294e-01],\n",
       "        [-4.26757812e+01,  8.65865946e-02],\n",
       "        [-4.04921875e+01,  1.63667023e-01],\n",
       "        [-3.83125000e+01,  6.51389599e-01],\n",
       "        [-3.61279297e+01,  1.37776434e-01],\n",
       "        [-3.39472656e+01, -2.55158472e+00],\n",
       "        [-3.17617188e+01, -1.80136514e+00],\n",
       "        [-2.95800781e+01,  2.86371589e-01],\n",
       "        [-2.73984375e+01,  3.03279042e-01],\n",
       "        [-2.52109375e+01,  4.98347759e-01],\n",
       "        [-2.30283203e+01,  1.04109168e-01],\n",
       "        [-2.08388672e+01,  5.43916821e-01],\n",
       "        [-1.86552734e+01,  1.15712583e-01],\n",
       "        [-1.64658203e+01, -1.83890641e-01],\n",
       "        [-1.42812500e+01,  3.24962497e-01],\n",
       "        [-1.20957031e+01, -9.27468538e-02],\n",
       "        [-9.90429688e+00,  9.77913141e-01],\n",
       "        [-7.71875000e+00,  1.06861854e+00],\n",
       "        [-5.52636719e+00,  4.01663184e-01],\n",
       "        [-3.33886719e+00,  8.77571702e-02],\n",
       "        [-1.14550781e+00,  2.32048631e-01],\n",
       "        [ 1.04296875e+00, -4.91452217e-02],\n",
       "        [ 3.23144531e+00,  1.83897197e-01],\n",
       "        [ 5.42578125e+00,  4.08684850e-01],\n",
       "        [ 7.61621094e+00, -1.90370631e+00],\n",
       "        [ 9.81152344e+00, -2.00299168e+00],\n",
       "        [ 1.20019531e+01,  1.20944583e+00],\n",
       "        [ 1.41992188e+01,  3.61174345e-03],\n",
       "        [ 1.63906250e+01,  1.46402240e-01],\n",
       "        [ 1.85830078e+01,  1.84176147e-01],\n",
       "        [ 2.07812500e+01, -6.13920689e-02],\n",
       "        [ 2.29746094e+01, -1.28467023e-01],\n",
       "        [ 2.51738281e+01,  7.14655519e-02],\n",
       "        [ 2.73681641e+01,  8.13964605e-02],\n",
       "        [ 2.95683594e+01, -1.32715106e-01],\n",
       "        [ 3.17636719e+01,  3.18302989e-01],\n",
       "        [ 3.39599609e+01,  2.34278202e-01],\n",
       "        [ 3.61621094e+01,  2.12688446e-02],\n",
       "        [ 3.83583984e+01,  3.51504564e-01],\n",
       "        [ 4.05615234e+01,  2.68983960e-01],\n",
       "        [ 4.27587891e+01, -6.83297098e-01],\n",
       "        [ 4.49628906e+01, -2.01551437e-01],\n",
       "        [ 4.71621094e+01,  1.15952134e-01],\n",
       "        [ 4.93662109e+01,  1.24492645e-01],\n",
       "        [ 5.15664062e+01,  2.46501982e-01],\n",
       "        [ 5.37675781e+01, -4.19784009e-01]], dtype=float32)>,\n",
       " 'moving_median_sequence': <tf.Tensor: shape=(50, 2), dtype=float32, numpy=\n",
       " array([[-5.3573242e+01, -9.2612207e-02],\n",
       "        [-5.1391602e+01, -5.8340311e-02],\n",
       "        [-4.9214844e+01,  1.8740118e-02],\n",
       "        [-4.7032227e+01, -7.1504712e-03],\n",
       "        [-4.4854492e+01, -7.1504712e-03],\n",
       "        [-4.2675781e+01, -7.1504712e-03],\n",
       "        [-4.0492188e+01, -7.1504712e-03],\n",
       "        [-3.8312500e+01,  1.8740118e-02],\n",
       "        [-3.6127930e+01,  1.4144468e-01],\n",
       "        [-3.3947266e+01,  1.8740118e-02],\n",
       "        [-3.1761719e+01,  1.8740118e-02],\n",
       "        [-2.9580078e+01,  1.8740118e-02],\n",
       "        [-2.7398438e+01, -7.1504712e-03],\n",
       "        [-2.5210938e+01, -7.1504712e-03],\n",
       "        [-2.3028320e+01, -2.9214323e-02],\n",
       "        [-2.0838867e+01,  1.4144468e-01],\n",
       "        [-1.8655273e+01,  1.5835214e-01],\n",
       "        [-1.6465820e+01,  1.8003559e-01],\n",
       "        [-1.4281250e+01,  1.8003559e-01],\n",
       "        [-1.2095703e+01,  8.7121725e-02],\n",
       "        [-9.9042969e+00,  8.7121725e-02],\n",
       "        [-7.7187500e+00,  3.8970292e-02],\n",
       "        [-5.5263672e+00,  8.7121725e-02],\n",
       "        [-3.3388672e+00,  8.7121725e-02],\n",
       "        [-1.1455078e+00,  3.8970292e-02],\n",
       "        [ 1.0429688e+00,  8.7121725e-02],\n",
       "        [ 3.2314453e+00,  3.8970292e-02],\n",
       "        [ 5.4257812e+00,  1.4753342e-03],\n",
       "        [ 7.6162109e+00,  1.4753342e-03],\n",
       "        [ 9.8115234e+00,  1.4753342e-03],\n",
       "        [ 1.2001953e+01, -1.4131516e-01],\n",
       "        [ 1.4199219e+01, -7.3461354e-02],\n",
       "        [ 1.6390625e+01, -7.3461354e-02],\n",
       "        [ 1.8583008e+01, -1.4131516e-01],\n",
       "        [ 2.0781250e+01, -7.3461354e-02],\n",
       "        [ 2.2974609e+01, -6.3530445e-02],\n",
       "        [ 2.5173828e+01, -7.3461354e-02],\n",
       "        [ 2.7368164e+01, -6.3530445e-02],\n",
       "        [ 2.9568359e+01, -6.3530445e-02],\n",
       "        [ 3.1763672e+01, -7.3461354e-02],\n",
       "        [ 3.3959961e+01, -7.3461354e-02],\n",
       "        [ 3.6162109e+01, -6.3530445e-02],\n",
       "        [ 3.8358398e+01, -2.8974771e-02],\n",
       "        [ 4.0561523e+01, -2.0434260e-02],\n",
       "        [ 4.2758789e+01, -2.0434260e-02],\n",
       "        [ 4.4962891e+01, -2.8974771e-02],\n",
       "        [ 4.7162109e+01, -2.8974771e-02],\n",
       "        [ 4.9366211e+01, -2.0434260e-02],\n",
       "        [ 5.1566406e+01, -2.8974771e-02],\n",
       "        [ 5.3767578e+01, -7.4163496e-02]], dtype=float32)>,\n",
       " 'original': <tf.Tensor: shape=(50, 2), dtype=float32, numpy=\n",
       " array([[-5.35732422e+01,  5.93668938e-01],\n",
       "        [-5.13916016e+01, -9.38462257e-01],\n",
       "        [-4.92148438e+01, -1.80243909e-01],\n",
       "        [-4.70322266e+01,  4.24127221e-01],\n",
       "        [-4.48544922e+01,  3.59065294e-01],\n",
       "        [-4.26757812e+01,  8.65865946e-02],\n",
       "        [-4.04921875e+01,  1.63667023e-01],\n",
       "        [-3.83125000e+01,  6.51389599e-01],\n",
       "        [-3.61279297e+01,  1.37776434e-01],\n",
       "        [-3.39472656e+01, -2.55158472e+00],\n",
       "        [-3.17617188e+01, -1.80136514e+00],\n",
       "        [-2.95800781e+01,  2.86371589e-01],\n",
       "        [-2.73984375e+01,  3.03279042e-01],\n",
       "        [-2.52109375e+01,  4.98347759e-01],\n",
       "        [-2.30283203e+01,  1.04109168e-01],\n",
       "        [-2.08388672e+01,  5.43916821e-01],\n",
       "        [-1.86552734e+01,  1.15712583e-01],\n",
       "        [-1.64658203e+01, -1.83890641e-01],\n",
       "        [-1.42812500e+01,  3.24962497e-01],\n",
       "        [-1.20957031e+01, -9.27468538e-02],\n",
       "        [-9.90429688e+00,  9.77913141e-01],\n",
       "        [-7.71875000e+00,  1.06861854e+00],\n",
       "        [-5.52636719e+00,  4.01663184e-01],\n",
       "        [-3.33886719e+00,  8.77571702e-02],\n",
       "        [-1.14550781e+00,  2.32048631e-01],\n",
       "        [ 1.04296875e+00, -4.91452217e-02],\n",
       "        [ 3.23144531e+00,  1.83897197e-01],\n",
       "        [ 5.42578125e+00,  4.08684850e-01],\n",
       "        [ 7.61621094e+00, -1.90370631e+00],\n",
       "        [ 9.81152344e+00, -2.00299168e+00],\n",
       "        [ 1.20019531e+01,  1.20944583e+00],\n",
       "        [ 1.41992188e+01,  3.61174345e-03],\n",
       "        [ 1.63906250e+01,  1.46402240e-01],\n",
       "        [ 1.85830078e+01,  1.84176147e-01],\n",
       "        [ 2.07812500e+01, -6.13920689e-02],\n",
       "        [ 2.29746094e+01, -1.28467023e-01],\n",
       "        [ 2.51738281e+01,  7.14655519e-02],\n",
       "        [ 2.73681641e+01,  8.13964605e-02],\n",
       "        [ 2.95683594e+01, -1.32715106e-01],\n",
       "        [ 3.17636719e+01,  3.18302989e-01],\n",
       "        [ 3.39599609e+01,  2.34278202e-01],\n",
       "        [ 3.61621094e+01,  2.12688446e-02],\n",
       "        [ 3.83583984e+01,  3.51504564e-01],\n",
       "        [ 4.05615234e+01,  2.68983960e-01],\n",
       "        [ 4.27587891e+01, -6.83297098e-01],\n",
       "        [ 4.49628906e+01, -2.01551437e-01],\n",
       "        [ 4.71621094e+01,  1.15952134e-01],\n",
       "        [ 4.93662109e+01,  1.24492645e-01],\n",
       "        [ 5.15664062e+01,  2.46501982e-01],\n",
       "        [ 5.37675781e+01, -4.19784009e-01]], dtype=float32)>,\n",
       " 'lcid': <tf.Tensor: shape=(), dtype=string, numpy=b'q_5968'>,\n",
       " 'length': <tf.Tensor: shape=(), dtype=int32, numpy=4613>,\n",
       " 'mask': <tf.Tensor: shape=(50,), dtype=float32, numpy=\n",
       " array([1., 1., 1., 1., 1., 1., 1., 1., 1., 1., 1., 1., 1., 1., 1., 1., 1.,\n",
       "        1., 1., 1., 1., 1., 1., 1., 1., 1., 1., 1., 1., 1., 1., 1., 1., 1.,\n",
       "        1., 1., 1., 1., 1., 1., 1., 1., 1., 1., 1., 1., 1., 1., 1., 1.],\n",
       "       dtype=float32)>,\n",
       " 'label': <tf.Tensor: shape=(), dtype=int32, numpy=1>,\n",
       " 'probed_mask': <tf.Tensor: shape=(50,), dtype=float32, numpy=\n",
       " array([0., 1., 1., 1., 1., 0., 0., 0., 0., 0., 0., 1., 1., 1., 0., 0., 0.,\n",
       "        0., 0., 0., 1., 1., 1., 0., 0., 1., 1., 0., 0., 0., 0., 0., 1., 1.,\n",
       "        0., 0., 0., 0., 0., 1., 1., 0., 1., 1., 0., 0., 0., 0., 0., 0.],\n",
       "       dtype=float32)>,\n",
       " 'att_mask': <tf.Tensor: shape=(50,), dtype=float32, numpy=\n",
       " array([0., 0., 0., 1., 1., 0., 0., 0., 0., 0., 0., 0., 1., 1., 0., 0., 0.,\n",
       "        0., 0., 0., 1., 1., 1., 0., 0., 0., 0., 0., 0., 0., 0., 0., 1., 1.,\n",
       "        0., 0., 0., 0., 0., 0., 0., 0., 1., 1., 0., 0., 0., 0., 0., 0.],\n",
       "       dtype=float32)>}"
      ]
     },
     "execution_count": 22,
     "metadata": {},
     "output_type": "execute_result"
    }
   ],
   "source": [
    "from src.data.masking import get_probed_astrospec\n",
    "\n",
    "get_probed_astrospec(testing_moving_median,0.7,0.65,1.5)#['probed_mask']"
   ]
  },
  {
   "cell_type": "code",
   "execution_count": 23,
   "metadata": {},
   "outputs": [
    {
     "data": {
      "text/plain": [
       "<tf.Tensor: shape=(50,), dtype=float32, numpy=\n",
       "array([0., 1., 1., 1., 1., 0., 0., 0., 0., 1., 1., 1., 1., 1., 0., 0., 0.,\n",
       "       0., 0., 0., 1., 1., 1., 0., 0., 0., 0., 0., 0., 0., 0., 0., 0., 0.,\n",
       "       0., 0., 0., 0., 0., 1., 1., 0., 0., 0., 1., 1., 1., 1., 0., 0.],\n",
       "      dtype=float32)>"
      ]
     },
     "execution_count": 23,
     "metadata": {},
     "output_type": "execute_result"
    }
   ],
   "source": [
    "get_probed_astrospec(testing_moving_median,0.7,0.65,1.5)['probed_mask']"
   ]
  },
  {
   "cell_type": "code",
   "execution_count": 13,
   "metadata": {},
   "outputs": [
    {
     "data": {
      "text/plain": [
       "<tf.Tensor: shape=(50,), dtype=float32, numpy=\n",
       "array([1., 1., 1., 1., 0., 0., 0., 0., 0., 0., 0., 0., 0., 0., 0., 0., 0.,\n",
       "       0., 0., 0., 0., 0., 0., 0., 0., 0., 0., 0., 0., 0., 0., 0., 1., 1.,\n",
       "       1., 1., 0., 0., 0., 0., 0., 0., 0., 1., 1., 0., 0., 0., 0., 0.],\n",
       "      dtype=float32)>"
      ]
     },
     "execution_count": 13,
     "metadata": {},
     "output_type": "execute_result"
    }
   ],
   "source": [
    "test_mask"
   ]
  },
  {
   "cell_type": "code",
   "execution_count": 10,
   "metadata": {},
   "outputs": [],
   "source": [
    "are_equal = tf.reduce_all(tf.math.equal(get_probed_astrospec(testing_moving_median,0.7,0.65,1.5)['probed_mask'], test_mask))"
   ]
  },
  {
   "cell_type": "code",
   "execution_count": 11,
   "metadata": {},
   "outputs": [
    {
     "data": {
      "text/plain": [
       "<tf.Tensor: shape=(), dtype=bool, numpy=False>"
      ]
     },
     "execution_count": 11,
     "metadata": {},
     "output_type": "execute_result"
    }
   ],
   "source": [
    "are_equal"
   ]
  },
  {
   "cell_type": "code",
   "execution_count": 9,
   "metadata": {},
   "outputs": [],
   "source": [
    "def mask_values_spectra(true_value_tensor,moving_median_tensor):\n",
    "\n",
    "          # New masking strategy - mask lines and random points along the continuum\n",
    "          tf.random.set_seed(42)\n",
    "          steps = tf.shape(true_value_tensor)[0]\n",
    "          indices = tf.range(steps)\n",
    "\n",
    "\n",
    "          squeezed_true_value_tensor=tf.squeeze(true_value_tensor)\n",
    "          squeezed_moving_median_tensor=tf.squeeze(moving_median_tensor)\n",
    "        \n",
    "          # mm_numpy=squeezed_moving_median_tensor.numpy()\n",
    "          # q1=np.percentile(mm_numpy,25)\n",
    "          # q3=np.percentile(mm_numpy,75)\n",
    "          # iqr=q3-q1\n",
    "          iqr=calculate_iqr(squeezed_moving_median_tensor)\n",
    "          \n",
    "        #   std=tf.math.reduce_std(squeezed_moving_median_tensor)\n",
    "\n",
    "          masked_tensor_exclusive_emission=tf.cast(((squeezed_true_value_tensor)>(squeezed_moving_median_tensor+1.5*iqr)),tf.int32)\n",
    "          masked_tensor_exclusive_absorption=tf.cast(((squeezed_true_value_tensor)<(squeezed_moving_median_tensor-1.5*iqr)),tf.int32)\n",
    "\n",
    "          masked_tensor_exclusive=masked_tensor_exclusive_emission+masked_tensor_exclusive_absorption\n",
    "          print(masked_tensor_exclusive)\n",
    "        #   print(masked_tensor_exclusive_emission)\n",
    "        #   print(masked_tensor_exclusive_absorption)\n",
    "\n",
    "\n",
    "          ## For emission lines\n",
    "\n",
    "          windows = tf.TensorArray(dtype=tf.int32, size=0, dynamic_size=True)\n",
    "          start = 0\n",
    "          size_window = 0\n",
    "\n",
    "          for i in tf.range(tf.shape(masked_tensor_exclusive_emission)[0]):\n",
    "              if masked_tensor_exclusive_emission[i] == 1:\n",
    "                  if size_window == 0:\n",
    "                      start = i\n",
    "                  size_window += 1\n",
    "              else:\n",
    "                  if size_window > 1:\n",
    "                      windows = windows.write(windows.size(), (start, size_window))\n",
    "                  size_window = 0\n",
    "          start_and_size=windows.stack()\n",
    "          print(start_and_size)\n",
    "\n",
    "\n",
    "\n",
    "          ## For absorption\n",
    "          windows_absorption = tf.TensorArray(dtype=tf.int32, size=0, dynamic_size=True)\n",
    "          start_ab = 0\n",
    "          size_window_ab = 0\n",
    "\n",
    "          for i in tf.range(tf.shape(masked_tensor_exclusive_absorption)[0]):\n",
    "              if masked_tensor_exclusive_absorption[i] == 1:\n",
    "                  if size_window_ab == 0:\n",
    "                      start_ab = i\n",
    "                  size_window_ab += 1\n",
    "              else:\n",
    "                  if size_window_ab > 1:\n",
    "                      windows_absorption = windows_absorption.write(windows_absorption.size(), (start_ab, size_window_ab))\n",
    "                  size_window_ab = 0\n",
    "\n",
    "          start_and_size_ab=windows_absorption.stack()\n",
    "          print(start_and_size_ab)\n",
    "\n",
    "\n",
    "          final_start_size=tf.concat([start_and_size_ab,start_and_size],axis=0)\n",
    "          print(final_start_size)\n",
    "          \n",
    "\n",
    "          num_rows=tf.cast(tf.multiply(tf.cast(tf.shape(final_start_size)[0], tf.float32), 0.7),tf.int32)\n",
    "          print(num_rows)\n",
    "          \n",
    "\n",
    "          shuffled_tensor = tf.random.shuffle(final_start_size)\n",
    "          \n",
    "          selected_rows = tf.slice(shuffled_tensor, [0, 0], [num_rows, -1])\n",
    "          print(selected_rows)\n",
    "          final_mask=tf.zeros_like(masked_tensor_exclusive_emission)\n",
    "\n",
    "          for k in tf.range(tf.shape(selected_rows)[0]):\n",
    "            indices_selected=tf.range(selected_rows[k][0],selected_rows[k][0]+selected_rows[k][1])\n",
    "            updates = tf.ones(selected_rows[k][1], dtype=masked_tensor_exclusive_emission.dtype)\n",
    "            reshaped_indices=tf.reshape(indices_selected,[-1,1])\n",
    "            final_mask = tf.tensor_scatter_nd_update(final_mask, reshaped_indices, updates)\n",
    "\n",
    "          print(final_mask)\n",
    "\n",
    "\n",
    "          # # continuum mask\n",
    "          continuum_mask=tf.math.logical_not(tf.cast(masked_tensor_exclusive,tf.bool))\n",
    "          continuum_mask=tf.cast(continuum_mask,tf.int32)\n",
    "          print(continuum_mask)\n",
    "          \n",
    "\n",
    "\n",
    "          windows_continuum = tf.TensorArray(dtype=tf.int32, size=0, dynamic_size=True)\n",
    "          start_continuum = 0\n",
    "          size_window_continuum = 0\n",
    "\n",
    "          for i in tf.range(tf.shape(masked_tensor_exclusive)[0]):\n",
    "              if continuum_mask[i] == 1:\n",
    "                  if size_window_continuum == 0:\n",
    "                      start_continuum = i\n",
    "                  size_window_continuum += 1\n",
    "              else:\n",
    "                  if size_window_continuum > 1:\n",
    "                      windows_continuum = windows_continuum.write(windows_continuum.size(), (start_continuum, size_window_continuum))\n",
    "                  size_window_continuum = 0\n",
    "\n",
    "          start_and_size_continuum=windows_continuum.stack()\n",
    "          print(start_and_size_continuum)\n",
    "          num_rows_continuum=tf.cast(tf.multiply(tf.cast(tf.shape(start_and_size_continuum)[0], tf.float32), 0.65),tf.int32)\n",
    "          print(num_rows_continuum)\n",
    "          shuffled_tensor_continuum = tf.random.shuffle(start_and_size_continuum)\n",
    "          \n",
    "          selected_rows_continuum = tf.slice(shuffled_tensor_continuum, [0, 0], [num_rows_continuum, -1])\n",
    "          print(selected_rows_continuum)\n",
    "          final_mask_continuum=tf.zeros_like(masked_tensor_exclusive)\n",
    "\n",
    "\n",
    "          for k in tf.range(tf.shape(selected_rows_continuum)[0]):\n",
    "\n",
    "            indices_selected_continuum=tf.range(selected_rows_continuum[k][0],selected_rows_continuum[k][0]+selected_rows_continuum[k][1])\n",
    "            updates_continuum = tf.ones(selected_rows_continuum[k][1], dtype=masked_tensor_exclusive.dtype)\n",
    "            reshaped_indices_continuum=tf.reshape(indices_selected_continuum,[-1,1])\n",
    "            final_mask_continuum = tf.tensor_scatter_nd_update(final_mask_continuum, reshaped_indices_continuum, updates_continuum)\n",
    "\n",
    "          print(final_mask_continuum)\n",
    "\n",
    "          final_mask=tf.cast(final_mask,dtype=tf.float32)\n",
    "          final_mask_continuum=tf.cast(final_mask_continuum,dtype=tf.float32)\n",
    "\n",
    "          return final_mask+final_mask_continuum\n"
   ]
  },
  {
   "cell_type": "code",
   "execution_count": 10,
   "metadata": {},
   "outputs": [
    {
     "name": "stdout",
     "output_type": "stream",
     "text": [
      "tf.Tensor(\n",
      "[1 1 1 1 1 0 1 1 0 1 1 1 1 1 0 1 0 1 0 1 1 1 1 0 1 0 0 1 1 1 1 0 1 1 0 0 0\n",
      " 0 0 1 1 0 1 1 1 1 0 0 1 1], shape=(50,), dtype=int32)\n",
      "tf.Tensor(\n",
      "[[ 3  2]\n",
      " [ 6  2]\n",
      " [11  3]\n",
      " [20  3]\n",
      " [32  2]\n",
      " [39  2]\n",
      " [42  2]], shape=(7, 2), dtype=int32)\n",
      "tf.Tensor(\n",
      "[[ 1  2]\n",
      " [ 9  2]\n",
      " [28  2]\n",
      " [44  2]], shape=(4, 2), dtype=int32)\n",
      "tf.Tensor(\n",
      "[[ 1  2]\n",
      " [ 9  2]\n",
      " [28  2]\n",
      " [44  2]\n",
      " [ 3  2]\n",
      " [ 6  2]\n",
      " [11  3]\n",
      " [20  3]\n",
      " [32  2]\n",
      " [39  2]\n",
      " [42  2]], shape=(11, 2), dtype=int32)\n",
      "tf.Tensor(7, shape=(), dtype=int32)\n",
      "tf.Tensor(\n",
      "[[44  2]\n",
      " [42  2]\n",
      " [ 9  2]\n",
      " [ 6  2]\n",
      " [ 1  2]\n",
      " [20  3]\n",
      " [39  2]], shape=(7, 2), dtype=int32)\n",
      "tf.Tensor(\n",
      "[0 1 1 0 0 0 1 1 0 1 1 0 0 0 0 0 0 0 0 0 1 1 1 0 0 0 0 0 0 0 0 0 0 0 0 0 0\n",
      " 0 0 1 1 0 1 1 1 1 0 0 0 0], shape=(50,), dtype=int32)\n",
      "tf.Tensor(\n",
      "[0 0 0 0 0 1 0 0 1 0 0 0 0 0 1 0 1 0 1 0 0 0 0 1 0 1 1 0 0 0 0 1 0 0 1 1 1\n",
      " 1 1 0 0 1 0 0 0 0 1 1 0 0], shape=(50,), dtype=int32)\n",
      "tf.Tensor(\n",
      "[[25  2]\n",
      " [34  5]\n",
      " [46  2]], shape=(3, 2), dtype=int32)\n",
      "tf.Tensor(1, shape=(), dtype=int32)\n",
      "tf.Tensor([[46  2]], shape=(1, 2), dtype=int32)\n",
      "tf.Tensor(\n",
      "[0 0 0 0 0 0 0 0 0 0 0 0 0 0 0 0 0 0 0 0 0 0 0 0 0 0 0 0 0 0 0 0 0 0 0 0 0\n",
      " 0 0 0 0 0 0 0 0 0 1 1 0 0], shape=(50,), dtype=int32)\n"
     ]
    }
   ],
   "source": [
    "test_mask=mask_values_spectra(tf.slice(testing_moving_median['input'],[0,1],[-1,1]),tf.slice(testing_moving_median['moving_median_sequence'],[0,1],[-1,1]))"
   ]
  },
  {
   "cell_type": "code",
   "execution_count": 11,
   "metadata": {},
   "outputs": [
    {
     "data": {
      "text/plain": [
       "<tf.Tensor: shape=(50,), dtype=float32, numpy=\n",
       "array([0., 1., 1., 0., 0., 0., 1., 1., 0., 1., 1., 0., 0., 0., 0., 0., 0.,\n",
       "       0., 0., 0., 1., 1., 1., 0., 0., 0., 0., 0., 0., 0., 0., 0., 0., 0.,\n",
       "       0., 0., 0., 0., 0., 1., 1., 0., 1., 1., 1., 1., 1., 1., 0., 0.],\n",
       "      dtype=float32)>"
      ]
     },
     "execution_count": 11,
     "metadata": {},
     "output_type": "execute_result"
    }
   ],
   "source": [
    "test_mask"
   ]
  },
  {
   "cell_type": "code",
   "execution_count": 24,
   "metadata": {},
   "outputs": [],
   "source": [
    "def get_probed(input_dict, probed, njobs):\n",
    "\n",
    "    input_shape = tf.shape(input_dict['input'])\n",
    "\n",
    "    if probed == 1.:\n",
    "        probed_mask = tf.ones([input_shape[0], input_shape[1]]) * input_dict['mask']\n",
    "        input_dict['probed_mask']  = probed_mask\n",
    "        input_dict['att_mask'] = 1. - probed_mask\n",
    "        return input_dict\n",
    "\n",
    "    nprobed = tf.multiply(tf.cast(input_shape[1], tf.float32), probed)\n",
    "    nprobed = tf.cast(nprobed, tf.int32)\n",
    "    random_integers = tf.range(input_shape[1], dtype=tf.int32)\n",
    "    indices = tf.map_fn(lambda x: tf.random.shuffle(random_integers), \n",
    "                                      tf.range(input_shape[0]),\n",
    "                                      parallel_iterations=njobs)\n",
    "    indices = tf.slice(indices, [0, 0], [-1, nprobed])\n",
    "    random_mask = tf.one_hot(indices, input_shape[1])\n",
    "    random_mask = tf.reduce_sum(random_mask, 1)\n",
    "\n",
    "    input_dict['probed_mask'] = random_mask * input_dict['mask']\n",
    "    att_mask = (1 - input_dict['mask']) + random_mask \n",
    "    att_mask = tf.minimum(att_mask, 1)\n",
    "    input_dict['att_mask'] = att_mask\n",
    "\n",
    "    return input_dict"
   ]
  },
  {
   "cell_type": "code",
   "execution_count": null,
   "metadata": {},
   "outputs": [],
   "source": [
    "def add_random(input_dict, random_frac, njobs):\n",
    "    \"\"\" Add random observations to each sequence\n",
    "        \n",
    "    Args:\n",
    "        random_frac (number): Fraction of probed (in decimal) to be replaced with random values\n",
    "    \"\"\" \n",
    "    input_shape = tf.shape(input_dict['input'])\n",
    "    input_dict['input_pre_nsp'] = input_dict['input'] \n",
    "\n",
    "    # ====== RANDOM MASK =====\n",
    "    n_probed = tf.reduce_sum(input_dict['probed_mask'], 1)\n",
    "    n_random = tf.math.ceil(n_probed * random_frac)\n",
    "    n_random = tf.cast(n_random, tf.int32)\n",
    "    random_mask = tf.map_fn(lambda x: create_mask(x[0], x[1]),\n",
    "                                (input_dict['probed_mask'], n_random),\n",
    "                                parallel_iterations=njobs,\n",
    "                                fn_output_signature=tf.int32)\n",
    "\n",
    "    # ====== SAME MASK =====\n",
    "    rest = tf.cast(input_dict['probed_mask'], tf.int32) * (1-random_mask)\n",
    "    n_rest = tf.reduce_sum(rest, 1)\n",
    "    n_same = tf.math.ceil(tf.cast(n_rest, tf.float32) * random_frac)\n",
    "    n_same = tf.cast(n_same, tf.int32)\n",
    "\n",
    "    same_mask = tf.map_fn(lambda x: create_mask(x[0], x[1]), \n",
    "                                  (rest, n_same),\n",
    "                                  parallel_iterations=njobs,\n",
    "                                  fn_output_signature=tf.int32)\n",
    "\n",
    "    # ===== REPLACEMENT ==== \n",
    "    random_replacement = tf.random.shuffle(tf.transpose(input_dict['input'], [1, 0, 2]))\n",
    "    random_replacement = tf.transpose(random_replacement, [1, 0, 2])\n",
    "    random_replacement = random_replacement * tf.cast(tf.expand_dims(random_mask, -1), tf.float32) * [0., 1., 1.]\n",
    "\n",
    "    # Mask refering to observations that do not change\n",
    "    keep_mask = tf.expand_dims(1 - random_mask, -1)\n",
    "    keep_mask = tf.tile(keep_mask, [1, 1, input_shape[-1]-1])\n",
    "    keep_mask = tf.concat([tf.zeros([input_shape[0], input_shape[1], 1], dtype=tf.int32), keep_mask], 2)\n",
    "    keep_mask = tf.abs([1, 0, 0] - keep_mask)\n",
    "\n",
    "    # Part of the input we mantain\n",
    "    keep_input = input_dict['input'] * tf.cast(keep_mask, tf.float32)\n",
    "\n",
    "    # Replacing original input with the randomized one\n",
    "    input_dict['input']  = random_replacement + keep_input\n",
    "\n",
    "    # Attention mask is 1 when masked. \n",
    "    # Random mask is 1 for masked observations selected to be randomized\n",
    "    # then,\n",
    "    att_mask    = tf.cast(input_dict['att_mask'], tf.bool)\n",
    "    random_mask = tf.cast(random_mask, tf.bool)\n",
    "    same_mask   = tf.cast(same_mask, tf.bool)\n",
    "\n",
    "    att_mask = tf.math.logical_xor(att_mask, random_mask)\n",
    "    att_mask = tf.math.logical_xor(att_mask, same_mask)\n",
    "\n",
    "    input_dict['att_mask'] = tf.cast(att_mask, tf.float32)\n",
    "\n",
    "    return input_dict"
   ]
  },
  {
   "cell_type": "code",
   "execution_count": 2,
   "metadata": {},
   "outputs": [
    {
     "data": {
      "text/plain": [
       "'2.10.0'"
      ]
     },
     "execution_count": 2,
     "metadata": {},
     "output_type": "execute_result"
    }
   ],
   "source": [
    "tf.__version__"
   ]
  },
  {
   "cell_type": "code",
   "execution_count": null,
   "metadata": {},
   "outputs": [],
   "source": [
    "wget --header=\"Host: drive.usercontent.google.com\" --header=\"User-Agent: Mozilla/5.0 (Macintosh; Intel Mac OS X 10_15_7) AppleWebKit/537.36 (KHTML, like Gecko) Chrome/118.0.0.0 Safari/537.36\" --header=\"Accept: text/html,application/xhtml+xml,application/xml;q=0.9,image/avif,image/webp,image/apng,*/*;q=0.8,application/signed-exchange;v=b3;q=0.7\" --header=\"Accept-Language: en-GB,en-US;q=0.9,en;q=0.8\" --header=\"Cookie: HSID=A9-4Be5S4KsUsdxqy; SSID=AYL8vle_ve0RdEA1O; APISID=7AiM64vCKtMsidKG/AZJ49XCLp4dWeDZtB; SAPISID=KavZdosidfrQ4u7Q/AK_t6xvsGFl1gm6vm; __Secure-1PAPISID=KavZdosidfrQ4u7Q/AK_t6xvsGFl1gm6vm; __Secure-3PAPISID=KavZdosidfrQ4u7Q/AK_t6xvsGFl1gm6vm; S=billing-ui-v3=HyG4c8mWRw_IhakKY38rrkjQyxHFLhk0:billing-ui-v3-efe=HyG4c8mWRw_IhakKY38rrkjQyxHFLhk0; OGPC=19039026-1:; OGP=-19039026:; SEARCH_SAMESITE=CgQIx5kB; SID=cwjxU92iJUT8tntAsvftva6tgx0zVSFtX43LT6CWTmv-jc-onxnwfKZri1ygFIP3i53cPA.; __Secure-1PSID=cwjxU92iJUT8tntAsvftva6tgx0zVSFtX43LT6CWTmv-jc-oVcrtMJHdXlYhUHEQPaQVpw.; __Secure-3PSID=cwjxU92iJUT8tntAsvftva6tgx0zVSFtX43LT6CWTmv-jc-oWahEUYOaxmG95323BVNBmw.; AEC=Ackid1S4P10ZCZ9qzWUwxTuLosuQRLPhbrwXhJTjVt_nFyWAqjjIK5NPzw; 1P_JAR=2023-11-09-05; NID=511=MpvDURwxE_bg90BeLWvMWQ295OQ1qqliK04WPEypJx6pAeqUNsNg_YYeov12cSYordh2xjcZdWjt902OPbTEnmEkJ_HUP3GdZiEuU_g2_J5GN1UuzmtuzlK9u8U9_9oamoOqtkQF7f8hzQuXT0sIDnuqLlF9V9DJ2oM22UJ3wOIhziQGQw78NyqcaSl_g6oeIxhmwgOgsUg4wl_y4bwkvorHgI_JRMybKgIggt-PRmQpY39zy75U7CgkH4DlWFS0NOQv4wK_7BFYBDTMjyk6EZ0e-KfG3o_9IgH962gAdz6WVSlz4nCRkCpHsFMZZ_rSbkIjk9KacFZFeRoqv9Wu21aCmQ_TGqdsVXAMxoBKZBYmiu6yYmHUk3xHJiPxj3WR--6Ge81aDsRb8mDofbN_NQwM_lEjLmDoI5Yoz1i0oEE5c9wkTraTkRReItsJDFsbal4QhebJbw; __Secure-1PSIDTS=sidts-CjEBNiGH7gPlEAmkpPmIJl_s7SnISLJIYyVA7aPjf8HbkrVWFzf0MLhnu6Old8_Re0BKEAA; __Secure-3PSIDTS=sidts-CjEBNiGH7gPlEAmkpPmIJl_s7SnISLJIYyVA7aPjf8HbkrVWFzf0MLhnu6Old8_Re0BKEAA; SIDCC=ACA-OxMxb2lA_WSSetEdeMiMDg4YVg-LHO8HnXwHckWwVEV9go4ryWpaCnUmUMQ45gjoX-focKSU; __Secure-1PSIDCC=ACA-OxNRPQRAIM3hyc1Mj5AhEOb7R9gAH_LzT1Rs7vuaXeH9pzqR_EH2NXZ48VuxrGzUBFYgY40; __Secure-3PSIDCC=ACA-OxPPpbl9n1nI2amrLcCc_pYfdKmU-T9IWhkgCD58c8Ke0UgmwE2fjcvcZopdv50ZZDd7rCM\" --header=\"Connection: keep-alive\" \"https://drive.usercontent.google.com/download?id=1mX6wjGm3_XtHsn5ymcK92DZrwnJR_oz_&export=download&authuser=0&confirm=t&uuid=0ef79b19-1819-48b6-86e3-f2772ac4cd8e&at=APZUnTXVkMEO_JxB_s-uJgpE4vBy:1699511320888\" -c -O 'spectral_15000.zip'"
   ]
  },
  {
   "cell_type": "code",
   "execution_count": null,
   "metadata": {},
   "outputs": [],
   "source": [
    "spectral_15000"
   ]
  },
  {
   "cell_type": "code",
   "execution_count": null,
   "metadata": {},
   "outputs": [],
   "source": [
    "python astromer/presentation/experiments/astromer_1/pretrain_astrospec.py --exp-name astrospec_pretrain --data spectral_15000 --gpu 0 --num-heads 2 --bs 500 --num_epochs 200 --no-of-observations 500 --astrospec_skip True"
   ]
  },
  {
   "cell_type": "code",
   "execution_count": null,
   "metadata": {},
   "outputs": [],
   "source": [
    "python astromer/presentation/experiments/astromer_1/pretrain_astrospec.py --exp-name astrospec_pretrain --data spectral_15000 --gpu 0 --num-heads 2 --bs 700 --num_epochs 200 --no-of-observations 500 --astrospec_skip True"
   ]
  },
  {
   "cell_type": "code",
   "execution_count": null,
   "metadata": {},
   "outputs": [],
   "source": [
    "scp -i ~/.ssh/my-key -r path_to_data/dir -p 17662 root@ssha.jarvislabs.ai:/home/user/"
   ]
  },
  {
   "cell_type": "code",
   "execution_count": null,
   "metadata": {},
   "outputs": [],
   "source": [
    "python astromer/presentation/experiments/astromer_1/pretrain_astrospec.py --exp-name astrospec_pretrain --data spectral_15000 --checkpoint weights_folder --gpu 0 --num-heads 2 --bs 700 --num_epochs 200 --no-of-observations 500 --astrospec_skip True"
   ]
  },
  {
   "cell_type": "code",
   "execution_count": null,
   "metadata": {},
   "outputs": [],
   "source": [
    "python astromer/presentation/experiments/astromer_1/pretrain_astrospec.py --exp-name astrospec_pretrain --data spectral_15000 --checkpoint weights_folder --gpu 0 --num-heads 4 --bs 700 --num_epochs 200 --no-of-observations 500 --astrospec_skip True"
   ]
  },
  {
   "cell_type": "code",
   "execution_count": null,
   "metadata": {},
   "outputs": [],
   "source": [
    "python astromer/presentation/experiments/astromer_1/pretrain_astrospec.py --exp-name astrospec_pretrain --data spectral_15000 --gpu 0 --num-heads 4 --bs 700 --num_epochs 500 --no-of-observations 500 --patience 40 --lr 3e-3 --head-dim 128 --astrospec_skip True"
   ]
  },
  {
   "cell_type": "code",
   "execution_count": null,
   "metadata": {},
   "outputs": [],
   "source": [
    "wget --header=\"Host: drive.usercontent.google.com\" --header=\"User-Agent: Mozilla/5.0 (Macintosh; Intel Mac OS X 10_15_7) AppleWebKit/537.36 (KHTML, like Gecko) Chrome/119.0.0.0 Safari/537.36\" --header=\"Accept: text/html,application/xhtml+xml,application/xml;q=0.9,image/avif,image/webp,image/apng,*/*;q=0.8,application/signed-exchange;v=b3;q=0.7\" --header=\"Accept-Language: en-GB,en-US;q=0.9,en;q=0.8\" --header=\"Cookie: S=billing-ui-v3=HyG4c8mWRw_IhakKY38rrkjQyxHFLhk0:billing-ui-v3-efe=HyG4c8mWRw_IhakKY38rrkjQyxHFLhk0; SEARCH_SAMESITE=CgQIx5kB; SID=cwjxU8qa16rSlT1w54LNiy7tXMLUsF4TBuw1gnbXs8fZqpk_SGKRM0a_j2Fcg4mJ8amBEw.; __Secure-1PSID=cwjxU8qa16rSlT1w54LNiy7tXMLUsF4TBuw1gnbXs8fZqpk_l-kMcY48p50wBw1ymwxRNQ.; __Secure-3PSID=cwjxU8qa16rSlT1w54LNiy7tXMLUsF4TBuw1gnbXs8fZqpk_0DTyewcVDWH6gj54KW0htA.; HSID=AlgvHIhNUbBU6g2fo; SSID=APZ_GdIuR-9jf7eEP; APISID=rLMhXGOWZHVh-26F/AICcYr5nXq7Zo48Pd; __Secure-1PAPISID=gTlg92dXk4kCClNp/AVaZ7BK60qZJXzVMD; SAPISID=gTlg92dXk4kCClNp/AVaZ7BK60qZJXzVMD; __Secure-3PAPISID=gTlg92dXk4kCClNp/AVaZ7BK60qZJXzVMD; AEC=Ackid1SmN7TEdFza5iZllMxWqIMngNBfg_0y-qG3PwmCVVJxTfsF9kb-8g; __Secure-1PSIDTS=sidts-CjEBNiGH7r4xX8ZaVZvIhwEtmEdhdZ8sFjaoYhMfoCdSosBWmsZpQVoFkXVDPDXPMRjHEAA; __Secure-3PSIDTS=sidts-CjEBNiGH7r4xX8ZaVZvIhwEtmEdhdZ8sFjaoYhMfoCdSosBWmsZpQVoFkXVDPDXPMRjHEAA; 1P_JAR=2023-11-21-03; NID=511=szt7brvwdIV516gRJykOqvnyoAscCRIjzWdlsJUE0tbTkleCOFRps8lHUHfYwxoBT6VPMkGPFU3brUJ8upoRwIotfyyt7jJ-aQVayqfFr84J82NUlR2JJ433ZRa_59YWAI70NdeFAUNN_29fgaNt3dsxZU3doYBP6QpziQbRf-Ed2E5R7F_NNq_SRmmPtTTzuwi0lbaWkL9mlSLtc9DkTJUxlzdpE4f4bjxxBqcyJNGHvEzlsHN2YNDp4xjMe0Axge97-AkWeiaxsM9eGuefkBIFYGWYAQVyhFTXjjKrskZ8ZDLjMx8kLROrDxv0CcvwdujLB70iE6MUZJW8mZe3QAFMM0wfyLgR4T7Ic6D2WJrVm9BAwkT_Zr6gqIDcr-7nflb2vxQ6ApXAjvhSLpLPpt40zTwd-V0jPQNCidoSCfngZLqM2NkjIkKQE-IEuqAmzvBngo6yV8XolB1v6CnTkz8; SIDCC=ACA-OxNlDNT1_RYWG77eq8P_Ig3Y3tv18FWkI4pszmoiur7c-S743ApZVLhEYlj3nIOiHemDzOjB; __Secure-1PSIDCC=ACA-OxPf6fiUKl8lRxBJILDRbig5XgFWpL0zZMLblCq69M-d5nenDDML7omxR-h14ih_-mDih5w; __Secure-3PSIDCC=ACA-OxPYYYKBb67LpsemE_MUG6hneWLmlsTzX2BETp5Ls6mkpHYU2bVICsDnw-aZgphc_emnkiY\" --header=\"Connection: keep-alive\" \"https://drive.usercontent.google.com/download?id=1mX6wjGm3_XtHsn5ymcK92DZrwnJR_oz_&export=download&authuser=0&confirm=t&uuid=49f6ba2b-f207-474e-8687-1cfefbbd2ef3&at=APZUnTWe6zTmyET8vpEbyD4VY0G2:1700536246869\" -c -O 'spectral_15000.zip'"
   ]
  },
  {
   "cell_type": "code",
   "execution_count": null,
   "metadata": {},
   "outputs": [],
   "source": [
    "wget --header=\"Host: doc-2s-0g-drive-data-export.googleusercontent.com\" --header=\"User-Agent: Mozilla/5.0 (Macintosh; Intel Mac OS X 10_15_7) AppleWebKit/537.36 (KHTML, like Gecko) Chrome/119.0.0.0 Safari/537.36\" --header=\"Accept: text/html,application/xhtml+xml,application/xml;q=0.9,image/avif,image/webp,image/apng,*/*;q=0.8,application/signed-exchange;v=b3;q=0.7\" --header=\"Accept-Language: en-GB,en-US;q=0.9,en;q=0.8\" --header=\"Cookie: AUTH_n8q3gok1ov2j73fnn1alvjk0oq4aprif_nonce=r2473pp7ctlps\" --header=\"Connection: keep-alive\" \"https://doc-2s-0g-drive-data-export.googleusercontent.com/download/dtdfmbb7b7rnp8bv3eiqid44bul5lv9e/fg6icfp8cj5j55232ivg9ah92qrhtivm/1700541000000/d5900907-4e25-476b-8152-120ce70e548b/108643312785108651779/ADt3v-PSMR63bY633D8-PzaskDornmwqpwqRLigPKNXq2tgOCzj0hK9f8G5COuiZc_Wb3W73XSv89F8gxHgJWCdz1M-BQICbw41xnNntZ87YCXM6DtIh5968xTzQHb3v1jIqCccP9F1WvNEL7P92UcXAOj5F2bL29PCg5yr_RjQUGyQGWVUZNrNdyEy5qdOA2Mkjhoi_TFu0RWcfBV3l_PMXs_lrnQYS4jMLkeTHuvDYNnFmajATWxhG2dsk0i199W53T0uDWcsNs4b_oDr7zW7NcsPtZPDoebjbsnywun7mIDE7WIcaOWm7LOYjdn57AGosdf5HTxFD?authuser=0&nonce=r2473pp7ctlps&user=108643312785108651779&hash=v52tppmtl8n5uc8tumva9l43pf69kktn\" -c -O 'tracking_data-20231121T043740Z-001.zip'"
   ]
  },
  {
   "cell_type": "code",
   "execution_count": null,
   "metadata": {},
   "outputs": [],
   "source": [
    "{'batch_size': 64, 'dropout': 0.2, 'end_factor': 1e-06, 'hidden_size': 32, 'kernel_size': 60, 'learning_rate': 0.001, 'num_layers': 4, 'patience': 60, 'reduction_iterations': 90, 'weight_decay': 0.0003}\n",
    "Training with hyperparameters: {'batch_size': 64, 'dropout': 0.2, 'end_factor': 1e-06, 'hidden_size': 32, 'kernel_size': 60, 'learning_rate': 0.001, 'num_layers': 4, 'patience': 60, 'reduction_iterations': 90, 'weight_decay': 0.001}\n",
    "Initialize layer with nn.init.xavier_uniform_: Linear(in_features=1144, out_features=100, bias=True)"
   ]
  },
  {
   "cell_type": "code",
   "execution_count": null,
   "metadata": {},
   "outputs": [],
   "source": [
    "trial 1: \n",
    "Best Hyperparameters: {'weight_decay': 0.001, 'patience': 60, 'num_layers': 3, 'learning_rate': 0.001, 'kernel_size': 20, 'hidden_size': 32, 'dropout': 0.4, 'batch_size': 64}\n",
    "Best Validation Loss: 0.7698126037915548"
   ]
  },
  {
   "cell_type": "code",
   "execution_count": null,
   "metadata": {},
   "outputs": [],
   "source": [
    "trial 2:\n",
    "    \n",
    "\n",
    "Best Hyperparameters: {'weight_decay': 0.01, 'patience': 60, 'num_layers': 4, 'learning_rate': 0.001, 'kernel_size': 60, 'hidden_size': 256, 'dropout': 0.4, 'batch_size': 64}\n",
    "Best Validation Loss: 0.776667853196462"
   ]
  },
  {
   "cell_type": "code",
   "execution_count": 6,
   "metadata": {},
   "outputs": [],
   "source": [
    "y=np.array([2,3,10,4,5])\n",
    "x=np.arange(5)"
   ]
  },
  {
   "cell_type": "code",
   "execution_count": 7,
   "metadata": {},
   "outputs": [
    {
     "data": {
      "text/plain": [
       "array([ 2,  3, 10,  4,  5])"
      ]
     },
     "execution_count": 7,
     "metadata": {},
     "output_type": "execute_result"
    }
   ],
   "source": [
    "y"
   ]
  },
  {
   "cell_type": "code",
   "execution_count": 10,
   "metadata": {},
   "outputs": [
    {
     "data": {
      "text/plain": [
       "[<matplotlib.lines.Line2D at 0x28d97f160>]"
      ]
     },
     "execution_count": 10,
     "metadata": {},
     "output_type": "execute_result"
    },
    {
     "data": {
      "image/png": "[encoded data removed]",
      "text/plain": [
       "<Figure size 640x480 with 1 Axes>"
      ]
     },
     "metadata": {},
     "output_type": "display_data"
    }
   ],
   "source": [
    "import matplotlib.pyplot as plt\n",
    "plt.plot(x,y)"
   ]
  },
  {
   "cell_type": "code",
   "execution_count": 11,
   "metadata": {},
   "outputs": [
    {
     "data": {
      "text/plain": [
       "1.7763568394002506e-16"
      ]
     },
     "execution_count": 11,
     "metadata": {},
     "output_type": "execute_result"
    }
   ],
   "source": [
    "np.mean(y-np.mean(y))"
   ]
  },
  {
   "cell_type": "code",
   "execution_count": 12,
   "metadata": {},
   "outputs": [
    {
     "data": {
      "text/plain": [
       "4.8"
      ]
     },
     "execution_count": 12,
     "metadata": {},
     "output_type": "execute_result"
    }
   ],
   "source": [
    "np.mean(y)"
   ]
  },
  {
   "cell_type": "code",
   "execution_count": null,
   "metadata": {},
   "outputs": [],
   "source": []
  }
 ],
 "metadata": {
  "kernelspec": {
   "display_name": "Python 3",
   "language": "python",
   "name": "python3"
  },
  "language_info": {
   "codemirror_mode": {
    "name": "ipython",
    "version": 3
   },
   "file_extension": ".py",
   "mimetype": "text/x-python",
   "name": "python",
   "nbconvert_exporter": "python",
   "pygments_lexer": "ipython3",
   "version": "3.10.6"
  },
  "orig_nbformat": 4
 },
 "nbformat": 4,
 "nbformat_minor": 2
}
