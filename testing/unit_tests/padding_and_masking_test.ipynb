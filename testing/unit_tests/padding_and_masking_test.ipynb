{
 "cells": [
  {
   "cell_type": "code",
   "execution_count": 1,
   "metadata": {},
   "outputs": [],
   "source": [
    "import sys\n",
    "sys.path.append(\"C:/Users/user/astromer\")\n",
    "from src.data.zero import mask_sample, get_masked, pad_inputs\n",
    "import tensorflow as tf \n",
    "import warnings \n",
    "warnings.filterwarnings(\"ignore\")"
   ]
  },
  {
   "cell_type": "code",
   "execution_count": 2,
   "metadata": {},
   "outputs": [
    {
     "name": "stdout",
     "output_type": "stream",
     "text": [
      "(200, 256) (200, 256) (200, 256)\n",
      "(60, 1) (60, 1) (60, 1)\n"
     ]
    }
   ],
   "source": [
    "embedding_dimension= 256\n",
    "seq_length = 200\n",
    "seq_length_small = 60\n",
    "\n",
    "## Test with padding \n",
    "\n",
    "mjd = tf.random.normal(shape=(seq_length,embedding_dimension))\n",
    "magnitude = tf.random.normal(shape=(seq_length, embedding_dimension))\n",
    "error = tf.random.normal(shape=(seq_length, embedding_dimension))\n",
    "\n",
    "mjd_small = tf.random.normal(shape=(seq_length_small,1))\n",
    "magnitude_small = tf.random.normal(shape=(seq_length_small,1))\n",
    "error_small = tf.random.normal(shape=(seq_length_small,1))\n",
    "\n",
    "print(mjd.shape, magnitude.shape, error.shape)\n",
    "\n",
    "print(mjd_small.shape, magnitude_small.shape, error_small.shape)"
   ]
  },
  {
   "cell_type": "code",
   "execution_count": 38,
   "metadata": {},
   "outputs": [],
   "source": [
    "input_dict = {\"input\": tf.squeeze(tf.stack([mjd_small,magnitude_small,error_small], -1),1)}\n",
    "input_dict[\"mask\"] = tf.ones(shape=seq_length_small)"
   ]
  },
  {
   "cell_type": "code",
   "execution_count": 39,
   "metadata": {},
   "outputs": [],
   "source": [
    "msk_frac, rnd_frac, same_frac, max_obs = 0.5, 0.2, 0.2, seq_length\n",
    "output = mask_sample(input_dict=input_dict,\n",
    "                     msk_frac=msk_frac, \n",
    "                     rnd_frac=rnd_frac, \n",
    "                     same_frac=same_frac, \n",
    "                     max_obs=max_obs)"
   ]
  },
  {
   "cell_type": "code",
   "execution_count": 49,
   "metadata": {},
   "outputs": [],
   "source": [
    "## CHECK LENGTH ### \n",
    "a = tf.shape(output[\"input_modified\"])[0] == max_obs\n",
    "b = tf.shape(output[\"mask_in\"])[0] == max_obs\n",
    "c = tf.shape(output[\"mask_out\"])[0] == max_obs\n",
    "\n",
    "assert (a and b and c) == True\n",
    "\n",
    "## CHECK PADDING IN MASK_IN ##\n",
    "mask_in = output[\"mask_in\"][seq_length_small:]\n",
    "test_tensor = tf.ones(shape=(max_obs -seq_length_small, tf.shape(mask_in)[-1]))\n",
    "result = tf.equal(mask_in, test_tensor)\n",
    "binary_result = tf.where(result, 1, 0)\n",
    "assert tf.reduce_sum(binary_result) == max_obs - seq_length_small\n",
    "\n",
    "\n",
    "## CHECK PADDING IN MASK_OUT##\n",
    "mask_out = output[\"mask_out\"][seq_length_small:]\n",
    "test_tensor = tf.zeros(shape=(max_obs -seq_length_small, tf.shape(mask_out)[-1]))\n",
    "result = tf.equal(mask_out, test_tensor)\n",
    "binary_result = tf.where(result, 1, 0)\n",
    "assert tf.reduce_sum(binary_result) == max_obs - seq_length_small\n",
    "\n",
    "## CHECK PADDING IN INPUTT##\n",
    "input_modified = output[\"input_modified\"][seq_length_small:]\n",
    "test_tensor = tf.zeros(shape=(max_obs -seq_length_small, tf.shape(input_modified)[-1]))\n",
    "result = tf.equal(input_modified, test_tensor)\n",
    "binary_result = tf.where(result, 1, 0)\n",
    "assert tf.reduce_sum(binary_result) == max_obs - seq_length_small\n"
   ]
  },
  {
   "cell_type": "code",
   "execution_count": 49,
   "metadata": {},
   "outputs": [],
   "source": [
    "#Test_Masking\n",
    "frac = 0.5\n",
    "mask = get_masked(magnitude, frac=frac)\n",
    "assert (tf.reduce_sum(mask) / 200) == frac"
   ]
  }
 ],
 "metadata": {
  "kernelspec": {
   "display_name": "astromer",
   "language": "python",
   "name": "python3"
  },
  "language_info": {
   "codemirror_mode": {
    "name": "ipython",
    "version": 3
   },
   "file_extension": ".py",
   "mimetype": "text/x-python",
   "name": "python",
   "nbconvert_exporter": "python",
   "pygments_lexer": "ipython3",
   "version": "3.10.11"
  }
 },
 "nbformat": 4,
 "nbformat_minor": 2
}
