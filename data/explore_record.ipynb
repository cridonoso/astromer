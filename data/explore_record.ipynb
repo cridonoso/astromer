{
 "cells": [
  {
   "cell_type": "code",
   "execution_count": 1,
   "metadata": {},
   "outputs": [],
   "source": [
    "import tensorflow as tf\n",
    "import matplotlib.pyplot as plt\n",
    "import numpy as np\n",
    "import sys,os\n",
    "sys.path.append(os.path.realpath('..'))\n",
    "\n",
    "from core.data import load_records"
   ]
  },
  {
   "cell_type": "code",
   "execution_count": 2,
   "metadata": {},
   "outputs": [],
   "source": [
    "source = './records/macho/'\n",
    "batch = load_records(source, batch_size=2)"
   ]
  },
  {
   "cell_type": "code",
   "execution_count": 13,
   "metadata": {},
   "outputs": [],
   "source": [
    "def create_padding_mask(tensor, lengths):\n",
    "    ''' Create mask given a tensor and true length '''\n",
    "    lengths_transposed = tf.expand_dims(lengths, 1)\n",
    "    rangex = tf.range(0, tf.shape(tensor)[1], 1)\n",
    "    range_row = tf.expand_dims(rangex, 0)\n",
    "    # Use the logical operations to create a mask\n",
    "    mask = tf.greater(range_row, lengths_transposed)\n",
    "    return tf.cast(mask, tf.float32)\n",
    "\n",
    "def create_prediction_mask(tensor, frac=0.15):\n",
    "    time_steps = tensor.shape[1] \n",
    "    indices = tf.map_fn(lambda x: tf.random.shuffle(tf.range(time_steps))[:int(time_steps*frac)], \n",
    "                        tf.range(tensor.shape[0]))\n",
    "    one_hot = tf.one_hot(indices, time_steps)\n",
    "    mask    = tf.reduce_sum(one_hot, 1)\n",
    "    return tf.cast(mask, tf.float32)\n",
    "\n",
    "def create_mask(tensor, length=None):\n",
    "    mask = create_prediction_mask(tensor)\n",
    "    if length is not None:\n",
    "        mask_1 = create_padding_mask(tensor, length)\n",
    "        mask = tf.maximum(mask, mask_1)\n",
    "        \n",
    "    return mask"
   ]
  },
  {
   "cell_type": "code",
   "execution_count": 100,
   "metadata": {
    "scrolled": false
   },
   "outputs": [
    {
     "name": "stdout",
     "output_type": "stream",
     "text": [
      "(2, 1, 202, 202)\n"
     ]
    }
   ],
   "source": [
    "for i, (x1, x2, length, cls) in enumerate(batch):\n",
    "\n",
    "    mask1 = create_mask(x1)\n",
    "    mask2 = create_mask(x2)\n",
    "    cls = tf.tile(cls, [1, 1])\n",
    "    sep = tf.tile([[102.]], [x1.shape[0],1])\n",
    "    mask = tf.concat([cls, mask1, sep, mask2], 1)\n",
    "    dim_mask = tf.shape(mask)[1]\n",
    "    mask = tf.tile(mask, [1, dim_mask])\n",
    "    mask = tf.reshape(mask, [tf.shape(mask)[0], dim_mask, dim_mask])\n",
    "    mask = tf.expand_dims(mask, 1)\n",
    "    print(mask.shape)\n",
    "    cls = tf.tile(tf.expand_dims(cls, 2), [1, 1, x1.shape[-1]])\n",
    "    sep = tf.tile([[[102.]]], [x1.shape[0],1,x1.shape[-1]])\n",
    "    inputs = tf.concat([cls, x1, sep, x2], 1)\n",
    "    \n",
    "    \n",
    "    break\n",
    "    plt.figure()\n",
    "\n",
    "    cls_lab = tf.slice(x, [0, 0], [-1, 1])    \n",
    "    index = tf.where(x == 101)[0, -1]\n",
    "    x_inp = tf.slice(x, [0, 1], [-1, index-1])\n",
    "    x_tar = tf.slice(x, [0, index+1], [-1, x.shape[1]-index-1])\n",
    "    \n",
    "    t_inp = tf.slice(t, [0, 1], [-1, index-1])\n",
    "    t_tar = tf.slice(t, [0, index+1], [-1, t.shape[1]-index-1])\n",
    "\n",
    "    plt.plot(t_inp[0], x_inp[0], color='darkred', label=l1.numpy()[0].decode(\"utf-8\"))\n",
    "    plt.plot(1+t_tar[0], x_tar[0], color='darkblue', label=l2.numpy()[0].decode(\"utf-8\")) \n",
    "\n",
    "\n",
    "    if cls_lab.numpy()[0] == 0:\n",
    "        plt.title('No Random Portion')\n",
    "    else:\n",
    "        plt.title('Using Random Portion')\n",
    "    plt.legend()\n",
    "    \n",
    "    if i == 5:break\n",
    "    plt.xlabel('Time Step')\n",
    "    plt.ylabel('Magnitude')\n",
    "    plt.grid(True)\n",
    "    plt.show()\n"
   ]
  },
  {
   "cell_type": "code",
   "execution_count": null,
   "metadata": {},
   "outputs": [],
   "source": []
  },
  {
   "cell_type": "code",
   "execution_count": null,
   "metadata": {},
   "outputs": [],
   "source": []
  }
 ],
 "metadata": {
  "kernelspec": {
   "display_name": "Python 3",
   "language": "python",
   "name": "python3"
  },
  "language_info": {
   "codemirror_mode": {
    "name": "ipython",
    "version": 3
   },
   "file_extension": ".py",
   "mimetype": "text/x-python",
   "name": "python",
   "nbconvert_exporter": "python",
   "pygments_lexer": "ipython3",
   "version": "3.6.9"
  }
 },
 "nbformat": 4,
 "nbformat_minor": 2
}
