{
 "cells": [
  {
   "cell_type": "code",
   "execution_count": 1,
   "metadata": {},
   "outputs": [],
   "source": [
    "import dask\n",
    "import pandas as pd\n",
    "import dask.dataframe as dd"
   ]
  },
  {
   "cell_type": "markdown",
   "metadata": {},
   "source": [
    "# Alcock"
   ]
  },
  {
   "cell_type": "code",
   "execution_count": 3,
   "metadata": {},
   "outputs": [
    {
     "data": {
      "text/html": [
       "<div>\n",
       "<style scoped>\n",
       "    .dataframe tbody tr th:only-of-type {\n",
       "        vertical-align: middle;\n",
       "    }\n",
       "\n",
       "    .dataframe tbody tr th {\n",
       "        vertical-align: top;\n",
       "    }\n",
       "\n",
       "    .dataframe thead th {\n",
       "        text-align: right;\n",
       "    }\n",
       "</style>\n",
       "<table border=\"1\" class=\"dataframe\">\n",
       "  <thead>\n",
       "    <tr style=\"text-align: right;\">\n",
       "      <th></th>\n",
       "      <th>ID</th>\n",
       "      <th>Class</th>\n",
       "      <th>rPer</th>\n",
       "      <th>bPer</th>\n",
       "      <th>Path_B</th>\n",
       "      <th>Path_R</th>\n",
       "    </tr>\n",
       "  </thead>\n",
       "  <tbody>\n",
       "    <tr>\n",
       "      <th>20182</th>\n",
       "      <td>82.8771.967</td>\n",
       "      <td>RRab</td>\n",
       "      <td>0.59575</td>\n",
       "      <td>0.59576</td>\n",
       "      <td>./LCs/B/82.8771.967.dat</td>\n",
       "      <td>./LCs/R/82.8771.967.dat</td>\n",
       "    </tr>\n",
       "  </tbody>\n",
       "</table>\n",
       "</div>"
      ],
      "text/plain": [
       "                ID Class     rPer     bPer                   Path_B  \\\n",
       "20182  82.8771.967  RRab  0.59575  0.59576  ./LCs/B/82.8771.967.dat   \n",
       "\n",
       "                        Path_R  \n",
       "20182  ./LCs/R/82.8771.967.dat  "
      ]
     },
     "execution_count": 3,
     "metadata": {},
     "output_type": "execute_result"
    }
   ],
   "source": [
    "metadata = pd.read_csv('./raw_data/MACHO/Variables/Alcock2001/Final_Catalog_Alcock2001.dat')\n",
    "metadata.sample()"
   ]
  },
  {
   "cell_type": "code",
   "execution_count": 7,
   "metadata": {},
   "outputs": [
    {
     "name": "stdout",
     "output_type": "stream",
     "text": [
      "CPU times: user 2min 16s, sys: 896 ms, total: 2min 17s\n",
      "Wall time: 2min 18s\n"
     ]
    }
   ],
   "source": [
    "%%time\n",
    "max_size = 100\n",
    "dataframes = []\n",
    "tot_size = 0.\n",
    "shard = 0\n",
    "nobs = []\n",
    "for k, row in metadata.iterrows():\n",
    "\n",
    "    lc = pd.read_csv('./raw_data/MACHO/Variables/Alcock2001/LCs/R/'+row['ID']+'.dat', \n",
    "                 delim_whitespace=False)\n",
    "  \n",
    "    lc['oid'] = [row['ID']]*lc.shape[0]\n",
    "    lc['band'] = [1]*lc.shape[0]\n",
    "    lc = lc.rename(columns={'err':'std'})\n",
    "    lc = lc[['oid', 'mjd', 'mag', 'std', 'band']]\n",
    "\n",
    "    nobs.append(lc.shape[0])\n",
    "    dataframes.append(lc)\n",
    "    memory = (lc.memory_usage()*1e-6).sum()\n",
    "    tot_size+=memory\n",
    "    \n",
    "    if tot_size > 100 or k == metadata.shape[0]-1:\n",
    "        df = pd.concat(dataframes)\n",
    "        df.to_csv('/tf/astromer/data/raw_data/alcock/phot/{}.csv'.format(shard), index=False)\n",
    "        shard+=1\n",
    "        dataframes = []\n",
    "        tot_size = 0."
   ]
  },
  {
   "cell_type": "code",
   "execution_count": null,
   "metadata": {},
   "outputs": [],
   "source": [
    "metadata['nobs'] = nobs\n",
    "metadata = metadata[['ID', 'Path_R', 'Class', 'nobs']]\n",
    "metadata.columns = ['oid', 'path', 'class', 'nobs']\n",
    "metadata.sample(3)"
   ]
  },
  {
   "cell_type": "code",
   "execution_count": 13,
   "metadata": {},
   "outputs": [],
   "source": [
    "metadata.to_csv('/tf/astromer/data/raw_data/alcock/metadata.csv', \n",
    "                index=False)"
   ]
  },
  {
   "cell_type": "code",
   "execution_count": null,
   "metadata": {},
   "outputs": [],
   "source": []
  }
 ],
 "metadata": {
  "kernelspec": {
   "display_name": "Python 3",
   "language": "python",
   "name": "python3"
  },
  "language_info": {
   "codemirror_mode": {
    "name": "ipython",
    "version": 3
   },
   "file_extension": ".py",
   "mimetype": "text/x-python",
   "name": "python",
   "nbconvert_exporter": "python",
   "pygments_lexer": "ipython3",
   "version": "3.6.9"
  }
 },
 "nbformat": 4,
 "nbformat_minor": 2
}
