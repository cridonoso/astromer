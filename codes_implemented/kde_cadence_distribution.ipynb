{
 "cells": [
  {
   "cell_type": "code",
   "execution_count": 1,
   "metadata": {},
   "outputs": [
    {
     "name": "stdout",
     "output_type": "stream",
     "text": [
      "c:\\Users\\damor\\OneDrive - Universidad de Concepción\\Daniel's space\\Projects\\Research\\ASTROMER\\astromer_pe\\astromer\n"
     ]
    }
   ],
   "source": [
    "cd ../"
   ]
  },
  {
   "cell_type": "code",
   "execution_count": 2,
   "metadata": {},
   "outputs": [],
   "source": [
    "import random\n",
    "import os\n",
    "import joblib\n",
    "\n",
    "import tensorflow as tf\n",
    "tf.get_logger().setLevel('INFO')\n",
    "import matplotlib.pyplot as plt\n",
    "import numpy as np\n",
    "import pandas as pd\n",
    "\n",
    "from codes_implemented.utils import open_subsets, distribution_values, create_df_dataset\n",
    "\n",
    "%load_ext autoreload\n",
    "%autoreload 2\n",
    "\n",
    "os.environ[\"CUDA_VISIBLE_DEVICES\"] = \"-1\""
   ]
  },
  {
   "cell_type": "code",
   "execution_count": 3,
   "metadata": {
    "scrolled": true
   },
   "outputs": [
    {
     "name": "stdout",
     "output_type": "stream",
     "text": [
      "Number of records within a class: train\\Cep_0\n",
      " - opening: data/records/alcock/fold_0/alcock_500/train\\Cep_0\\chunk_0.record\n",
      "WARNING:tensorflow:AutoGraph could not transform <function deserialize at 0x000001DD2178AEE0> and will run it as-is.\n",
      "Please report this to the TensorFlow team. When filing the bug, set the verbosity to 10 (on Linux, `export AUTOGRAPH_VERBOSITY=10`) and attach the full output.\n",
      "Cause: module 'gast' has no attribute 'Constant'\n",
      "To silence this warning, decorate the function with @tf.autograph.experimental.do_not_convert\n",
      "WARNING: AutoGraph could not transform <function deserialize at 0x000001DD2178AEE0> and will run it as-is.\n",
      "Please report this to the TensorFlow team. When filing the bug, set the verbosity to 10 (on Linux, `export AUTOGRAPH_VERBOSITY=10`) and attach the full output.\n",
      "Cause: module 'gast' has no attribute 'Constant'\n",
      "To silence this warning, decorate the function with @tf.autograph.experimental.do_not_convert\n",
      "Number of records within a class: train\\Cep_1\n",
      " - opening: data/records/alcock/fold_0/alcock_500/train\\Cep_1\\chunk_0.record\n",
      "Number of records within a class: train\\EC\n",
      " - opening: data/records/alcock/fold_0/alcock_500/train\\EC\\chunk_0.record\n",
      "Number of records within a class: train\\LPV\n",
      " - opening: data/records/alcock/fold_0/alcock_500/train\\LPV\\chunk_0.record\n",
      "Number of records within a class: train\\RRab\n",
      " - opening: data/records/alcock/fold_0/alcock_500/train\\RRab\\chunk_0.record\n",
      "Number of records within a class: train\\RRc\n",
      " - opening: data/records/alcock/fold_0/alcock_500/train\\RRc\\chunk_0.record\n",
      "Number of records within a class: val\\Cep_0\n",
      " - opening: data/records/alcock/fold_0/alcock_500/val\\Cep_0\\chunk_0.record\n",
      "Number of records within a class: val\\Cep_1\n",
      " - opening: data/records/alcock/fold_0/alcock_500/val\\Cep_1\\chunk_0.record\n",
      "Number of records within a class: val\\EC\n",
      " - opening: data/records/alcock/fold_0/alcock_500/val\\EC\\chunk_0.record\n",
      "Number of records within a class: val\\LPV\n",
      " - opening: data/records/alcock/fold_0/alcock_500/val\\LPV\\chunk_0.record\n",
      "Number of records within a class: val\\RRab\n",
      " - opening: data/records/alcock/fold_0/alcock_500/val\\RRab\\chunk_0.record\n",
      "Number of records within a class: val\\RRc\n",
      " - opening: data/records/alcock/fold_0/alcock_500/val\\RRc\\chunk_0.record\n",
      "Number of records within a class: test\\Cep_0\n",
      " - opening: data/records/alcock/fold_0/alcock_500/test\\Cep_0\\chunk_0.record\n",
      "Number of records within a class: test\\Cep_1\n",
      " - opening: data/records/alcock/fold_0/alcock_500/test\\Cep_1\\chunk_0.record\n",
      "Number of records within a class: test\\EC\n",
      " - opening: data/records/alcock/fold_0/alcock_500/test\\EC\\chunk_0.record\n",
      "Number of records within a class: test\\LPV\n",
      " - opening: data/records/alcock/fold_0/alcock_500/test\\LPV\\chunk_0.record\n",
      "Number of records within a class: test\\RRab\n",
      " - opening: data/records/alcock/fold_0/alcock_500/test\\RRab\\chunk_0.record\n",
      "Number of records within a class: test\\RRc\n",
      " - opening: data/records/alcock/fold_0/alcock_500/test\\RRc\\chunk_0.record\n",
      "Number of records within a class: train\\CB\n",
      " - opening: data/records/atlas/fold_0/atlas_500/train\\CB\\chunk_0.record\n",
      "Number of records within a class: train\\DB\n",
      " - opening: data/records/atlas/fold_0/atlas_500/train\\DB\\chunk_0.record\n",
      "Number of records within a class: train\\Mira\n",
      " - opening: data/records/atlas/fold_0/atlas_500/train\\Mira\\chunk_0.record\n",
      "Number of records within a class: train\\Other\n",
      " - opening: data/records/atlas/fold_0/atlas_500/train\\Other\\chunk_0.record\n",
      "Number of records within a class: train\\Pulse\n",
      " - opening: data/records/atlas/fold_0/atlas_500/train\\Pulse\\chunk_0.record\n",
      "Number of records within a class: val\\CB\n",
      " - opening: data/records/atlas/fold_0/atlas_500/val\\CB\\chunk_0.record\n",
      "Number of records within a class: val\\DB\n",
      " - opening: data/records/atlas/fold_0/atlas_500/val\\DB\\chunk_0.record\n",
      "Number of records within a class: val\\Mira\n",
      " - opening: data/records/atlas/fold_0/atlas_500/val\\Mira\\chunk_0.record\n",
      "Number of records within a class: val\\Other\n",
      " - opening: data/records/atlas/fold_0/atlas_500/val\\Other\\chunk_0.record\n",
      "Number of records within a class: val\\Pulse\n",
      " - opening: data/records/atlas/fold_0/atlas_500/val\\Pulse\\chunk_0.record\n",
      "Number of records within a class: test\\CB\n",
      " - opening: data/records/atlas/fold_0/atlas_500/test\\CB\\chunk_0.record\n",
      "Number of records within a class: test\\DB\n",
      " - opening: data/records/atlas/fold_0/atlas_500/test\\DB\\chunk_0.record\n",
      "Number of records within a class: test\\Mira\n",
      " - opening: data/records/atlas/fold_0/atlas_500/test\\Mira\\chunk_0.record\n",
      "Number of records within a class: test\\Other\n",
      " - opening: data/records/atlas/fold_0/atlas_500/test\\Other\\chunk_0.record\n",
      "Number of records within a class: test\\Pulse\n",
      " - opening: data/records/atlas/fold_0/atlas_500/test\\Pulse\\chunk_0.record\n",
      "Number of records within a class: train\\cep\n",
      " - opening: data/records/ogle/fold_0/ogle_500/train\\cep\\chunk_0.record\n",
      "Number of records within a class: train\\dsct\n",
      " - opening: data/records/ogle/fold_0/ogle_500/train\\dsct\\chunk_0.record\n",
      "Number of records within a class: train\\EC\n",
      " - opening: data/records/ogle/fold_0/ogle_500/train\\EC\\chunk_0.record\n",
      "Number of records within a class: train\\ED\n",
      " - opening: data/records/ogle/fold_0/ogle_500/train\\ED\\chunk_0.record\n",
      "Number of records within a class: train\\ESD\n",
      " - opening: data/records/ogle/fold_0/ogle_500/train\\ESD\\chunk_0.record\n",
      "Number of records within a class: train\\Mira\n",
      " - opening: data/records/ogle/fold_0/ogle_500/train\\Mira\\chunk_0.record\n",
      "Number of records within a class: train\\OSARG\n",
      " - opening: data/records/ogle/fold_0/ogle_500/train\\OSARG\\chunk_0.record\n",
      "Number of records within a class: train\\RRab\n",
      " - opening: data/records/ogle/fold_0/ogle_500/train\\RRab\\chunk_0.record\n",
      "Number of records within a class: train\\RRc\n",
      " - opening: data/records/ogle/fold_0/ogle_500/train\\RRc\\chunk_0.record\n",
      "Number of records within a class: train\\SRV\n",
      " - opening: data/records/ogle/fold_0/ogle_500/train\\SRV\\chunk_0.record\n",
      "Number of records within a class: val\\cep\n",
      " - opening: data/records/ogle/fold_0/ogle_500/val\\cep\\chunk_0.record\n",
      "Number of records within a class: val\\dsct\n",
      " - opening: data/records/ogle/fold_0/ogle_500/val\\dsct\\chunk_0.record\n",
      "Number of records within a class: val\\EC\n",
      " - opening: data/records/ogle/fold_0/ogle_500/val\\EC\\chunk_0.record\n",
      "Number of records within a class: val\\ED\n",
      " - opening: data/records/ogle/fold_0/ogle_500/val\\ED\\chunk_0.record\n",
      "Number of records within a class: val\\ESD\n",
      " - opening: data/records/ogle/fold_0/ogle_500/val\\ESD\\chunk_0.record\n",
      "Number of records within a class: val\\Mira\n",
      " - opening: data/records/ogle/fold_0/ogle_500/val\\Mira\\chunk_0.record\n",
      "Number of records within a class: val\\OSARG\n",
      " - opening: data/records/ogle/fold_0/ogle_500/val\\OSARG\\chunk_0.record\n",
      "Number of records within a class: val\\RRab\n",
      " - opening: data/records/ogle/fold_0/ogle_500/val\\RRab\\chunk_0.record\n",
      "Number of records within a class: val\\RRc\n",
      " - opening: data/records/ogle/fold_0/ogle_500/val\\RRc\\chunk_0.record\n",
      "Number of records within a class: val\\SRV\n",
      " - opening: data/records/ogle/fold_0/ogle_500/val\\SRV\\chunk_0.record\n",
      "Number of records within a class: test\\cep\n",
      " - opening: data/records/ogle/fold_0/ogle_500/test\\cep\\chunk_0.record\n",
      "Number of records within a class: test\\dsct\n",
      " - opening: data/records/ogle/fold_0/ogle_500/test\\dsct\\chunk_0.record\n",
      "Number of records within a class: test\\EC\n",
      " - opening: data/records/ogle/fold_0/ogle_500/test\\EC\\chunk_0.record\n",
      "Number of records within a class: test\\ED\n",
      " - opening: data/records/ogle/fold_0/ogle_500/test\\ED\\chunk_0.record\n",
      "Number of records within a class: test\\ESD\n",
      " - opening: data/records/ogle/fold_0/ogle_500/test\\ESD\\chunk_0.record\n",
      "Number of records within a class: test\\Mira\n",
      " - opening: data/records/ogle/fold_0/ogle_500/test\\Mira\\chunk_0.record\n",
      "Number of records within a class: test\\OSARG\n",
      " - opening: data/records/ogle/fold_0/ogle_500/test\\OSARG\\chunk_0.record\n",
      "Number of records within a class: test\\RRab\n",
      " - opening: data/records/ogle/fold_0/ogle_500/test\\RRab\\chunk_0.record\n",
      "Number of records within a class: test\\RRc\n",
      " - opening: data/records/ogle/fold_0/ogle_500/test\\RRc\\chunk_0.record\n",
      "Number of records within a class: test\\SRV\n",
      " - opening: data/records/ogle/fold_0/ogle_500/test\\SRV\\chunk_0.record\n"
     ]
    }
   ],
   "source": [
    "# Dataset ALCOCK \n",
    "path_subset_train_alcock = f'data/records/alcock/fold_0/alcock_500/train'\n",
    "path_subset_val_alcock = f'data/records/alcock/fold_0/alcock_500/val'\n",
    "path_subset_test_alcock = f'data/records/alcock/fold_0/alcock_500/test'\n",
    "\n",
    "train_alcock, val_alcock, test_alcock = open_subsets(path_subset_train_alcock, \n",
    "                                                  path_subset_val_alcock, \n",
    "                                                  path_subset_test_alcock)\n",
    "\n",
    "# Dataset ATLAS\n",
    "path_subset_train_atlas = f'data/records/atlas/fold_0/atlas_500/train'\n",
    "path_subset_val_atlas = f'data/records/atlas/fold_0/atlas_500/val'\n",
    "path_subset_test_atlas = f'data/records/atlas/fold_0/atlas_500/test'\n",
    "\n",
    "train_atlas, val_atlas, test_atlas = open_subsets(path_subset_train_atlas, \n",
    "                                                  path_subset_val_atlas, \n",
    "                                                  path_subset_test_atlas)\n",
    "\n",
    "# Dataset OGLE\n",
    "path_subset_train_ogle = f'data/records/ogle/fold_0/ogle_500/train'\n",
    "path_subset_val_ogle = f'data/records/ogle/fold_0/ogle_500/val'\n",
    "path_subset_test_ogle = f'data/records/ogle/fold_0/ogle_500/test'\n",
    "\n",
    "\n",
    "train_ogle, val_ogle, test_ogle = open_subsets(path_subset_train_ogle, \n",
    "                                               path_subset_val_ogle, \n",
    "                                               path_subset_test_ogle)\n"
   ]
  },
  {
   "cell_type": "code",
   "execution_count": 4,
   "metadata": {},
   "outputs": [
    {
     "name": "stdout",
     "output_type": "stream",
     "text": [
      "**************** ALCOCK dataset ****************\n",
      "Train size: 2400\n",
      "Val size: 600\n",
      "Test size: 600\n",
      "**************** ATLAS dataset ****************\n",
      "Train size: 2000\n",
      "Val size: 500\n",
      "Test size: 500\n",
      "**************** OGLE dataset ****************\n",
      "Train size: 4000\n",
      "Val size: 1000\n",
      "Test size: 1000\n"
     ]
    }
   ],
   "source": [
    "print('**************** ALCOCK dataset ****************')\n",
    "print('Train size: {}'.format(len(train_alcock)))\n",
    "print('Val size: {}'.format(len(val_alcock)))\n",
    "print('Test size: {}'.format(len(test_alcock)))\n",
    "\n",
    "print('**************** ATLAS dataset ****************')\n",
    "print('Train size: {}'.format(len(train_atlas)))\n",
    "print('Val size: {}'.format(len(val_atlas)))\n",
    "print('Test size: {}'.format(len(test_atlas)))\n",
    "\n",
    "print('**************** OGLE dataset ****************')\n",
    "print('Train size: {}'.format(len(train_ogle)))\n",
    "print('Val size: {}'.format(len(val_ogle)))\n",
    "print('Test size: {}'.format(len(test_ogle)))"
   ]
  },
  {
   "cell_type": "code",
   "execution_count": 5,
   "metadata": {},
   "outputs": [
    {
     "name": "stdout",
     "output_type": "stream",
     "text": [
      "**************** ALCOCK dataset ****************\n",
      "Training distribution\n"
     ]
    },
    {
     "name": "stderr",
     "output_type": "stream",
     "text": [
      "c:\\Users\\damor\\OneDrive - Universidad de Concepción\\Daniel's space\\Projects\\Research\\ASTROMER\\astromer_pe\\astromer\\codes_implemented\\utils.py:52: VisibleDeprecationWarning: Creating an ndarray from ragged nested sequences (which is a list-or-tuple of lists-or-tuples-or ndarrays with different lengths or shapes) is deprecated. If you meant to do this, you must specify 'dtype=object' when creating the ndarray.\n",
      "  return np.concatenate(np.array(mag_lcs)), np.concatenate(np.array(mjd_lcs_diff))\n"
     ]
    },
    {
     "name": "stdout",
     "output_type": "stream",
     "text": [
      "Validation distribution\n",
      "Test distribution\n",
      "**************** ATLAS dataset ****************\n",
      "Training distribution\n",
      "Validation distribution\n",
      "Test distribution\n",
      "**************** OGLE dataset ****************\n",
      "Training distribution\n",
      "Validation distribution\n",
      "Test distribution\n"
     ]
    }
   ],
   "source": [
    "# ALCOCK\n",
    "print('**************** ALCOCK dataset ****************')\n",
    "print('Training distribution')\n",
    "train_mag_lcs_alcock, train_cadence_alcock = distribution_values(train_alcock)\n",
    "print('Validation distribution')\n",
    "val_mag_lcs_alcock, val_cadence_alcock = distribution_values(val_alcock)\n",
    "print('Test distribution')\n",
    "test_mag_lcs_alcock, test_cadence_alcock = distribution_values(test_alcock)\n",
    "\n",
    "# ATLAS\n",
    "print('**************** ATLAS dataset ****************')\n",
    "print('Training distribution')\n",
    "train_mag_lcs_atlas, train_cadence_atlas = distribution_values(train_atlas)\n",
    "print('Validation distribution')\n",
    "val_mag_lcs_atlas, val_cadence_atlas = distribution_values(val_atlas)\n",
    "print('Test distribution')\n",
    "test_mag_lcs_atlas, test_cadence_atlas = distribution_values(test_atlas)\n",
    "\n",
    "# OGLE\n",
    "print('**************** OGLE dataset ****************')\n",
    "print('Training distribution')\n",
    "train_mag_lcs_ogle, train_cadence_ogle = distribution_values(train_ogle)\n",
    "print('Validation distribution')\n",
    "val_mag_lcs_ogle, val_cadence_ogle = distribution_values(val_ogle)\n",
    "print('Test distribution')\n",
    "test_mag_lcs_ogle, test_cadence_ogle = distribution_values(test_ogle)"
   ]
  },
  {
   "cell_type": "code",
   "execution_count": 6,
   "metadata": {},
   "outputs": [],
   "source": [
    "alcock_cadence_subsets = [train_cadence_alcock, val_cadence_alcock, test_cadence_alcock]\n",
    "atlas_cadence_subsets = [train_cadence_atlas, val_cadence_atlas, test_cadence_atlas]\n",
    "ogle_cadence_subsets = [train_cadence_ogle, val_cadence_ogle, test_cadence_ogle]"
   ]
  },
  {
   "cell_type": "code",
   "execution_count": 7,
   "metadata": {},
   "outputs": [],
   "source": [
    "alcock_cadence_dataset = create_df_dataset(alcock_cadence_subsets, name_col='Cadence')\n",
    "atlas_cadence_dataset = create_df_dataset(atlas_cadence_subsets, name_col='Cadence')\n",
    "ogle_cadence_dataset = create_df_dataset(ogle_cadence_subsets, name_col='Cadence')"
   ]
  },
  {
   "cell_type": "code",
   "execution_count": 8,
   "metadata": {},
   "outputs": [
    {
     "name": "stdout",
     "output_type": "stream",
     "text": [
      "(2506759,)\n",
      "(375084,)\n",
      "(4698161,)\n"
     ]
    }
   ],
   "source": [
    "X_alcock = alcock_cadence_dataset['Cadence'].values\n",
    "X_atlas = atlas_cadence_dataset['Cadence'].values\n",
    "X_ogle = ogle_cadence_dataset['Cadence'].values\n",
    "\n",
    "print(X_alcock.shape)\n",
    "print(X_atlas.shape)\n",
    "print(X_ogle.shape)"
   ]
  },
  {
   "cell_type": "code",
   "execution_count": 9,
   "metadata": {},
   "outputs": [
    {
     "name": "stdout",
     "output_type": "stream",
     "text": [
      "**************** ALCOCK dataset ****************\n",
      "Mediana: 1.930\n",
      "Media: 3.827\n",
      "Std: 10.607\n",
      "**************** ATLAS dataset ****************\n",
      "Mediana: 0.016\n",
      "Media: 4.864\n",
      "Std: 19.766\n",
      "**************** OGLE dataset ****************\n",
      "Mediana: 1.094\n",
      "Media: 3.492\n",
      "Std: 14.510\n"
     ]
    }
   ],
   "source": [
    "print('**************** ALCOCK dataset ****************')\n",
    "print('Mediana: {:.3f}'.format(np.median(X_alcock)))\n",
    "print('Media: {:.3f}'.format(np.mean(X_alcock)))\n",
    "print('Std: {:.3f}'.format(np.std(X_alcock)))\n",
    "\n",
    "print('**************** ATLAS dataset ****************')\n",
    "print('Mediana: {:.3f}'.format(np.median(X_atlas)))\n",
    "print('Media: {:.3f}'.format(np.mean(X_atlas)))\n",
    "print('Std: {:.3f}'.format(np.std(X_atlas)))\n",
    "\n",
    "print('**************** OGLE dataset ****************')\n",
    "print('Mediana: {:.3f}'.format(np.median(X_ogle)))\n",
    "print('Media: {:.3f}'.format(np.mean(X_ogle)))\n",
    "print('Std: {:.3f}'.format(np.std(X_ogle)))"
   ]
  },
  {
   "cell_type": "code",
   "execution_count": 10,
   "metadata": {},
   "outputs": [
    {
     "name": "stdout",
     "output_type": "stream",
     "text": [
      "**************** ALCOCK dataset ****************\n",
      "Mediana: 1.934\n",
      "Media: 3.881\n",
      "Std: 10.485\n",
      "**************** ATLAS dataset ****************\n",
      "Mediana: 0.016\n",
      "Media: 4.945\n",
      "Std: 20.215\n",
      "**************** OGLE dataset ****************\n",
      "Mediana: 1.093\n",
      "Media: 3.597\n",
      "Std: 16.028\n"
     ]
    }
   ],
   "source": [
    "print('**************** ALCOCK dataset ****************')\n",
    "list_X_alcock = list(X_alcock)\n",
    "#minimum = min(list_X_alcock)\n",
    "#maximum = max(list_X_alcock)\n",
    "#list_X_alcock.remove(max(list_X_alcock))\n",
    "#list_X_alcock.remove(min(list_X_alcock))\n",
    "\n",
    "X_alcock_sample = random.sample(list_X_alcock, 30000)\n",
    "#X_alcock_sample.append(minimum)\n",
    "#X_alcock_sample.append(maximum)\n",
    "\n",
    "print('Mediana: {:.3f}'.format(np.median(X_alcock_sample)))\n",
    "print('Media: {:.3f}'.format(np.mean(X_alcock_sample)))\n",
    "print('Std: {:.3f}'.format(np.std(X_alcock_sample)))\n",
    "\n",
    "print('**************** ATLAS dataset ****************')\n",
    "list_X_atlas = list(X_atlas)\n",
    "#minimum = min(list_X_atlas)\n",
    "#maximum = max(list_X_atlas)\n",
    "#list_X_atlas.remove(max(list_X_atlas))\n",
    "#list_X_atlas.remove(min(list_X_atlas))\n",
    "\n",
    "X_atlas_sample = random.sample(list_X_atlas, 30000)\n",
    "#X_atlas_sample.append(minimum)\n",
    "#X_atlas_sample.append(maximum)\n",
    "\n",
    "print('Mediana: {:.3f}'.format(np.median(X_atlas_sample)))\n",
    "print('Media: {:.3f}'.format(np.mean(X_atlas_sample)))\n",
    "print('Std: {:.3f}'.format(np.std(X_atlas_sample)))\n",
    "\n",
    "print('**************** OGLE dataset ****************')\n",
    "list_X_ogle = list(X_ogle)\n",
    "#minimum = min(list_X_ogle)\n",
    "#maximum = max(list_X_ogle)\n",
    "#list_X_ogle.remove(max(list_X_ogle))\n",
    "#list_X_ogle.remove(min(list_X_ogle))\n",
    "\n",
    "X_ogle_sample = random.sample(list_X_ogle, 30000)\n",
    "#X_ogle_sample.append(minimum)\n",
    "#X_ogle_sample.append(maximum)\n",
    "\n",
    "print('Mediana: {:.3f}'.format(np.median(X_ogle_sample)))\n",
    "print('Media: {:.3f}'.format(np.mean(X_ogle_sample)))\n",
    "print('Std: {:.3f}'.format(np.std(X_ogle_sample)))"
   ]
  },
  {
   "cell_type": "markdown",
   "metadata": {},
   "source": [
    "## Models KDE"
   ]
  },
  {
   "cell_type": "code",
   "execution_count": 11,
   "metadata": {},
   "outputs": [],
   "source": [
    "path_save_model = 'models_kde'"
   ]
  },
  {
   "cell_type": "code",
   "execution_count": 12,
   "metadata": {},
   "outputs": [
    {
     "name": "stdout",
     "output_type": "stream",
     "text": [
      "----------------------------------------\n",
      "Mejores hiperparámetros encontrados (cv)\n",
      "----------------------------------------\n",
      "{'bandwidth': 1.226530612244898} : -14818.084199951747\n"
     ]
    }
   ],
   "source": [
    "from sklearn.model_selection import GridSearchCV \n",
    "from sklearn.neighbors import KernelDensity\n",
    "\n",
    "params_grid = {\n",
    "    'bandwidth': np.linspace(0.1, 2.5, 50),\n",
    "}\n",
    "\n",
    "grid = GridSearchCV(KernelDensity(), \n",
    "                    params_grid, \n",
    "                    cv=5,\n",
    "                    verbose=0)\n",
    "\n",
    "# Se asigna el resultado a _ para que no se imprima por pantalla\n",
    "_ = grid.fit(np.array(X_alcock_sample)[:, None])\n",
    "\n",
    "# Mejores hiperparámetros por validación cruzada\n",
    "# ==============================================================================\n",
    "print(\"----------------------------------------\")\n",
    "print(\"Mejores hiperparámetros encontrados (cv)\")\n",
    "print(\"----------------------------------------\")\n",
    "print(grid.best_params_, \":\", grid.best_score_)\n",
    "\n",
    "model_alcock_kde = grid.best_estimator_"
   ]
  },
  {
   "cell_type": "code",
   "execution_count": 13,
   "metadata": {},
   "outputs": [
    {
     "name": "stdout",
     "output_type": "stream",
     "text": [
      "**************** ALCOCK dataset generated ****************\n",
      "Mediana: 2.070\n",
      "Media: 3.885\n",
      "Std: 10.633\n",
      "**************** ALCOCK dataset real ****************\n",
      "Mediana: 1.930\n",
      "Media: 3.827\n",
      "Std: 10.607\n"
     ]
    }
   ],
   "source": [
    "gen_alcock_samples = model_alcock_kde.sample(X_alcock.shape[0])\n",
    "\n",
    "print('**************** ALCOCK dataset generated ****************')\n",
    "print('Mediana: {:.3f}'.format(np.median(gen_alcock_samples)))\n",
    "print('Media: {:.3f}'.format(np.mean(gen_alcock_samples)))\n",
    "print('Std: {:.3f}'.format(np.std(gen_alcock_samples)))\n",
    "\n",
    "print('**************** ALCOCK dataset real ****************')\n",
    "print('Mediana: {:.3f}'.format(np.median(X_alcock)))\n",
    "print('Media: {:.3f}'.format(np.mean(X_alcock)))\n",
    "print('Std: {:.3f}'.format(np.std(X_alcock)))"
   ]
  },
  {
   "cell_type": "code",
   "execution_count": 14,
   "metadata": {},
   "outputs": [
    {
     "data": {
      "text/plain": [
       "['./models_kde/model_alcock_kde.joblib']"
      ]
     },
     "execution_count": 14,
     "metadata": {},
     "output_type": "execute_result"
    }
   ],
   "source": [
    "joblib.dump(model_alcock_kde, './{}/model_alcock_kde.joblib'.format(path_save_model))"
   ]
  },
  {
   "cell_type": "code",
   "execution_count": 15,
   "metadata": {},
   "outputs": [
    {
     "name": "stdout",
     "output_type": "stream",
     "text": [
      "**************** ALCOCK dataset generated ****************\n",
      "Mediana: 2.070\n",
      "Media: 3.881\n",
      "Std: 10.532\n"
     ]
    }
   ],
   "source": [
    "kde_load_alcock = joblib.load('./{}/model_alcock_kde.joblib'.format(path_save_model)) \n",
    "\n",
    "gen_alcock_samples = kde_load_alcock.sample(X_alcock.shape[0])\n",
    "\n",
    "print('**************** ALCOCK dataset generated ****************')\n",
    "print('Mediana: {:.3f}'.format(np.median(gen_alcock_samples)))\n",
    "print('Media: {:.3f}'.format(np.mean(gen_alcock_samples)))\n",
    "print('Std: {:.3f}'.format(np.std(gen_alcock_samples)))"
   ]
  },
  {
   "cell_type": "code",
   "execution_count": 11,
   "metadata": {},
   "outputs": [
    {
     "name": "stderr",
     "output_type": "stream",
     "text": [
      "\n",
      "KeyboardInterrupt\n",
      "\n"
     ]
    }
   ],
   "source": [
    "from sklearn.model_selection import GridSearchCV \n",
    "from sklearn.neighbors import KernelDensity\n",
    "\n",
    "params_grid = {\n",
    "    'bandwidth': np.linspace(0.1, 1.0, 30),\n",
    "}\n",
    "\n",
    "grid = GridSearchCV(KernelDensity(), \n",
    "                    params_grid, \n",
    "                    cv=5,\n",
    "                    verbose=0)\n",
    "\n",
    "# Se asigna el resultado a _ para que no se imprima por pantalla\n",
    "_ = grid.fit(np.array(X_atlas_sample)[:, None])\n",
    "\n",
    "# Mejores hiperparámetros por validación cruzada\n",
    "# ==============================================================================\n",
    "print(\"----------------------------------------\")\n",
    "print(\"Mejores hiperparámetros encontrados (cv)\")\n",
    "print(\"----------------------------------------\")\n",
    "print(grid.best_params_, \":\", grid.best_score_)\n",
    "\n",
    "model_atlas_kde = grid.best_estimator_"
   ]
  },
  {
   "cell_type": "code",
   "execution_count": 44,
   "metadata": {},
   "outputs": [
    {
     "name": "stdout",
     "output_type": "stream",
     "text": [
      "**************** ATLAS dataset generated ****************\n",
      "Mediana: 0.260\n",
      "Media: 5.005\n",
      "Std: 20.065\n",
      "**************** ATLAS dataset real ****************\n",
      "Mediana: 0.016\n",
      "Media: 4.864\n",
      "Std: 19.766\n"
     ]
    }
   ],
   "source": [
    "gen_atlas_samples = model_atlas_kde.sample(X_atlas.shape[0])\n",
    "\n",
    "print('**************** ATLAS dataset generated ****************')\n",
    "print('Mediana: {:.3f}'.format(np.median(gen_atlas_samples)))\n",
    "print('Media: {:.3f}'.format(np.mean(gen_atlas_samples)))\n",
    "print('Std: {:.3f}'.format(np.std(gen_atlas_samples)))\n",
    "\n",
    "print('**************** ATLAS dataset real ****************')\n",
    "print('Mediana: {:.3f}'.format(np.median(X_atlas)))\n",
    "print('Media: {:.3f}'.format(np.mean(X_atlas)))\n",
    "print('Std: {:.3f}'.format(np.std(X_atlas)))"
   ]
  },
  {
   "cell_type": "code",
   "execution_count": 14,
   "metadata": {},
   "outputs": [
    {
     "name": "stderr",
     "output_type": "stream",
     "text": [
      "\n",
      "KeyboardInterrupt\n",
      "\n"
     ]
    }
   ],
   "source": [
    "from sklearn.model_selection import GridSearchCV \n",
    "from sklearn.neighbors import KernelDensity\n",
    "\n",
    "params_grid = {\n",
    "    'bandwidth': np.linspace(0.01, 1.3, 50),\n",
    "}\n",
    "\n",
    "grid = GridSearchCV(KernelDensity(),\n",
    "                    params_grid,\n",
    "                    cv=5,\n",
    "                    verbose=0)\n",
    "\n",
    "# Se asigna el resultado a _ para que no se imprima por pantalla\n",
    "_ = grid.fit(np.array(X_ogle_sample)[:, None])\n",
    "\n",
    "# Mejores hiperparámetros por validación cruzada\n",
    "# ==============================================================================\n",
    "print(\"----------------------------------------\")\n",
    "print(\"Mejores hiperparámetros encontrados (cv)\")\n",
    "print(\"----------------------------------------\")\n",
    "print(grid.best_params_, \":\", grid.best_score_)\n",
    "\n",
    "model_ogle_kde = grid.best_estimator_"
   ]
  },
  {
   "cell_type": "code",
   "execution_count": 35,
   "metadata": {},
   "outputs": [
    {
     "name": "stdout",
     "output_type": "stream",
     "text": [
      "**************** OGLE dataset generated ****************\n",
      "Mediana: 1.538\n",
      "Media: 3.560\n",
      "Std: 13.673\n",
      "**************** OGLE dataset real ****************\n",
      "Mediana: 1.094\n",
      "Media: 3.492\n",
      "Std: 14.510\n"
     ]
    }
   ],
   "source": [
    "gen_ogle_samples = model_ogle_kde.sample(X_ogle.shape[0])\n",
    "\n",
    "print('**************** OGLE dataset generated ****************')\n",
    "print('Mediana: {:.3f}'.format(np.median(gen_ogle_samples)))\n",
    "print('Media: {:.3f}'.format(np.mean(gen_ogle_samples)))\n",
    "print('Std: {:.3f}'.format(np.std(gen_ogle_samples)))\n",
    "\n",
    "print('**************** OGLE dataset real ****************')\n",
    "print('Mediana: {:.3f}'.format(np.median(X_ogle)))\n",
    "print('Media: {:.3f}'.format(np.mean(X_ogle)))\n",
    "print('Std: {:.3f}'.format(np.std(X_ogle)))"
   ]
  },
  {
   "cell_type": "code",
   "execution_count": 36,
   "metadata": {},
   "outputs": [
    {
     "data": {
      "text/plain": [
       "['./models_kde/model_ogle_kde.joblib']"
      ]
     },
     "execution_count": 36,
     "metadata": {},
     "output_type": "execute_result"
    }
   ],
   "source": [
    "joblib.dump(model_atlas_kde, './{}/model_atlas_kde.joblib'.format(path_save_model))\n",
    "joblib.dump(model_ogle_kde, './{}/model_ogle_kde.joblib'.format(path_save_model))"
   ]
  },
  {
   "cell_type": "code",
   "execution_count": 16,
   "metadata": {},
   "outputs": [],
   "source": [
    "kde_load_atlas = joblib.load('./{}/model_atlas_kde.joblib'.format(path_save_model)) \n",
    "kde_load_ogle = joblib.load('./{}/model_ogle_kde.joblib'.format(path_save_model)) "
   ]
  },
  {
   "cell_type": "code",
   "execution_count": 17,
   "metadata": {},
   "outputs": [
    {
     "name": "stdout",
     "output_type": "stream",
     "text": [
      "**************** ATLAS dataset generated ****************\n",
      "Mediana: 0.114\n",
      "Media: 4.733\n",
      "Std: 19.169\n",
      "**************** OGLE dataset generated ****************\n",
      "Mediana: 1.538\n",
      "Media: 3.558\n",
      "Std: 13.671\n"
     ]
    }
   ],
   "source": [
    "gen_altas_samples = kde_load_atlas.sample(X_atlas.shape[0])\n",
    "\n",
    "print('**************** ATLAS dataset generated ****************')\n",
    "print('Mediana: {:.3f}'.format(np.median(gen_altas_samples)))\n",
    "print('Media: {:.3f}'.format(np.mean(gen_altas_samples)))\n",
    "print('Std: {:.3f}'.format(np.std(gen_altas_samples)))\n",
    "\n",
    "gen_ogle_samples = kde_load_ogle.sample(X_ogle.shape[0])\n",
    "\n",
    "print('**************** OGLE dataset generated ****************')\n",
    "print('Mediana: {:.3f}'.format(np.median(gen_ogle_samples)))\n",
    "print('Media: {:.3f}'.format(np.mean(gen_ogle_samples)))\n",
    "print('Std: {:.3f}'.format(np.std(gen_ogle_samples)))"
   ]
  },
  {
   "cell_type": "code",
   "execution_count": 23,
   "metadata": {},
   "outputs": [
    {
     "data": {
      "text/plain": [
       "array([[ 0.51005744],\n",
       "       [-0.15727058],\n",
       "       [ 8.64040676],\n",
       "       ...,\n",
       "       [ 0.28346376],\n",
       "       [-0.07750607],\n",
       "       [ 0.08438389]])"
      ]
     },
     "execution_count": 23,
     "metadata": {},
     "output_type": "execute_result"
    }
   ],
   "source": [
    "gen_altas_samples"
   ]
  },
  {
   "cell_type": "code",
   "execution_count": 25,
   "metadata": {},
   "outputs": [
    {
     "data": {
      "text/plain": [
       "array([[ 4.10302291],\n",
       "       [19.60962805],\n",
       "       [ 0.16537872],\n",
       "       ...,\n",
       "       [ 0.91574946],\n",
       "       [ 0.15627092],\n",
       "       [ 0.16911414]])"
      ]
     },
     "execution_count": 25,
     "metadata": {},
     "output_type": "execute_result"
    }
   ],
   "source": [
    "samples_generated = []\n",
    "while X_atlas.shape[0] != len(samples_generated):\n",
    "    sample = kde_load_atlas.sample(1)\n",
    "    \n",
    "    if sample >= 0:\n",
    "        samples_generated.append(sample[0])\n",
    "        \n",
    "samples_generated = np.array(samples_generated)\n",
    "samples_generated"
   ]
  },
  {
   "cell_type": "code",
   "execution_count": 26,
   "metadata": {},
   "outputs": [
    {
     "name": "stdout",
     "output_type": "stream",
     "text": [
      "**************** ATLAS dataset generated ****************\n",
      "Mediana: 0.332\n",
      "Media: 7.611\n",
      "Std: 23.698\n"
     ]
    }
   ],
   "source": [
    "print('**************** ATLAS dataset generated ****************')\n",
    "print('Mediana: {:.3f}'.format(np.median(samples_generated)))\n",
    "print('Media: {:.3f}'.format(np.mean(samples_generated)))\n",
    "print('Std: {:.3f}'.format(np.std(samples_generated)))"
   ]
  },
  {
   "cell_type": "code",
   "execution_count": 27,
   "metadata": {},
   "outputs": [
    {
     "data": {
      "text/plain": [
       "array([[1.79953046],\n",
       "       [1.93190627],\n",
       "       [0.33075917],\n",
       "       ...,\n",
       "       [3.42678829],\n",
       "       [1.17627938],\n",
       "       [0.12852304]])"
      ]
     },
     "execution_count": 27,
     "metadata": {},
     "output_type": "execute_result"
    }
   ],
   "source": [
    "samples_generated = []\n",
    "while X_ogle.shape[0] != len(samples_generated):\n",
    "    sample = kde_load_ogle.sample(1)\n",
    "    \n",
    "    if sample >= 0:\n",
    "        samples_generated.append(sample[0])\n",
    "        \n",
    "samples_generated = np.array(samples_generated)\n",
    "samples_generated"
   ]
  },
  {
   "cell_type": "code",
   "execution_count": 28,
   "metadata": {},
   "outputs": [
    {
     "name": "stdout",
     "output_type": "stream",
     "text": [
      "**************** OGLE dataset generated ****************\n",
      "Mediana: 2.055\n",
      "Media: 4.493\n",
      "Std: 14.898\n"
     ]
    }
   ],
   "source": [
    "print('**************** OGLE dataset generated ****************')\n",
    "print('Mediana: {:.3f}'.format(np.median(samples_generated)))\n",
    "print('Media: {:.3f}'.format(np.mean(samples_generated)))\n",
    "print('Std: {:.3f}'.format(np.std(samples_generated)))"
   ]
  },
  {
   "cell_type": "code",
   "execution_count": 39,
   "metadata": {},
   "outputs": [],
   "source": [
    "samples_generated = kde_load_atlas.sample(X_atlas.shape[0])\n",
    "samples_generated[samples_generated < 0] = 0.016"
   ]
  },
  {
   "cell_type": "code",
   "execution_count": 40,
   "metadata": {},
   "outputs": [
    {
     "name": "stdout",
     "output_type": "stream",
     "text": [
      "**************** ATLAS dataset generated ****************\n",
      "Mediana: 0.114\n",
      "Media: 4.845\n",
      "Std: 19.169\n"
     ]
    }
   ],
   "source": [
    "print('**************** ATLAS dataset generated ****************')\n",
    "print('Mediana: {:.3f}'.format(np.median(samples_generated)))\n",
    "print('Media: {:.3f}'.format(np.mean(samples_generated)))\n",
    "print('Std: {:.3f}'.format(np.std(samples_generated)))"
   ]
  },
  {
   "cell_type": "code",
   "execution_count": null,
   "metadata": {},
   "outputs": [],
   "source": []
  },
  {
   "cell_type": "code",
   "execution_count": null,
   "metadata": {},
   "outputs": [],
   "source": []
  },
  {
   "cell_type": "code",
   "execution_count": null,
   "metadata": {},
   "outputs": [],
   "source": []
  },
  {
   "cell_type": "code",
   "execution_count": 75,
   "metadata": {
    "scrolled": true
   },
   "outputs": [
    {
     "data": {
      "text/html": [
       "<style>#sk-container-id-4 {color: black;background-color: white;}#sk-container-id-4 pre{padding: 0;}#sk-container-id-4 div.sk-toggleable {background-color: white;}#sk-container-id-4 label.sk-toggleable__label {cursor: pointer;display: block;width: 100%;margin-bottom: 0;padding: 0.3em;box-sizing: border-box;text-align: center;}#sk-container-id-4 label.sk-toggleable__label-arrow:before {content: \"▸\";float: left;margin-right: 0.25em;color: #696969;}#sk-container-id-4 label.sk-toggleable__label-arrow:hover:before {color: black;}#sk-container-id-4 div.sk-estimator:hover label.sk-toggleable__label-arrow:before {color: black;}#sk-container-id-4 div.sk-toggleable__content {max-height: 0;max-width: 0;overflow: hidden;text-align: left;background-color: #f0f8ff;}#sk-container-id-4 div.sk-toggleable__content pre {margin: 0.2em;color: black;border-radius: 0.25em;background-color: #f0f8ff;}#sk-container-id-4 input.sk-toggleable__control:checked~div.sk-toggleable__content {max-height: 200px;max-width: 100%;overflow: auto;}#sk-container-id-4 input.sk-toggleable__control:checked~label.sk-toggleable__label-arrow:before {content: \"▾\";}#sk-container-id-4 div.sk-estimator input.sk-toggleable__control:checked~label.sk-toggleable__label {background-color: #d4ebff;}#sk-container-id-4 div.sk-label input.sk-toggleable__control:checked~label.sk-toggleable__label {background-color: #d4ebff;}#sk-container-id-4 input.sk-hidden--visually {border: 0;clip: rect(1px 1px 1px 1px);clip: rect(1px, 1px, 1px, 1px);height: 1px;margin: -1px;overflow: hidden;padding: 0;position: absolute;width: 1px;}#sk-container-id-4 div.sk-estimator {font-family: monospace;background-color: #f0f8ff;border: 1px dotted black;border-radius: 0.25em;box-sizing: border-box;margin-bottom: 0.5em;}#sk-container-id-4 div.sk-estimator:hover {background-color: #d4ebff;}#sk-container-id-4 div.sk-parallel-item::after {content: \"\";width: 100%;border-bottom: 1px solid gray;flex-grow: 1;}#sk-container-id-4 div.sk-label:hover label.sk-toggleable__label {background-color: #d4ebff;}#sk-container-id-4 div.sk-serial::before {content: \"\";position: absolute;border-left: 1px solid gray;box-sizing: border-box;top: 0;bottom: 0;left: 50%;z-index: 0;}#sk-container-id-4 div.sk-serial {display: flex;flex-direction: column;align-items: center;background-color: white;padding-right: 0.2em;padding-left: 0.2em;position: relative;}#sk-container-id-4 div.sk-item {position: relative;z-index: 1;}#sk-container-id-4 div.sk-parallel {display: flex;align-items: stretch;justify-content: center;background-color: white;position: relative;}#sk-container-id-4 div.sk-item::before, #sk-container-id-4 div.sk-parallel-item::before {content: \"\";position: absolute;border-left: 1px solid gray;box-sizing: border-box;top: 0;bottom: 0;left: 50%;z-index: -1;}#sk-container-id-4 div.sk-parallel-item {display: flex;flex-direction: column;z-index: 1;position: relative;background-color: white;}#sk-container-id-4 div.sk-parallel-item:first-child::after {align-self: flex-end;width: 50%;}#sk-container-id-4 div.sk-parallel-item:last-child::after {align-self: flex-start;width: 50%;}#sk-container-id-4 div.sk-parallel-item:only-child::after {width: 0;}#sk-container-id-4 div.sk-dashed-wrapped {border: 1px dashed gray;margin: 0 0.4em 0.5em 0.4em;box-sizing: border-box;padding-bottom: 0.4em;background-color: white;}#sk-container-id-4 div.sk-label label {font-family: monospace;font-weight: bold;display: inline-block;line-height: 1.2em;}#sk-container-id-4 div.sk-label-container {text-align: center;}#sk-container-id-4 div.sk-container {/* jupyter's `normalize.less` sets `[hidden] { display: none; }` but bootstrap.min.css set `[hidden] { display: none !important; }` so we also need the `!important` here to be able to override the default hidden behavior on the sphinx rendered scikit-learn.org. See: https://github.com/scikit-learn/scikit-learn/issues/21755 */display: inline-block !important;position: relative;}#sk-container-id-4 div.sk-text-repr-fallback {display: none;}</style><div id=\"sk-container-id-4\" class=\"sk-top-container\"><div class=\"sk-text-repr-fallback\"><pre>KernelDensity()</pre><b>In a Jupyter environment, please rerun this cell to show the HTML representation or trust the notebook. <br />On GitHub, the HTML representation is unable to render, please try loading this page with nbviewer.org.</b></div><div class=\"sk-container\" hidden><div class=\"sk-item\"><div class=\"sk-estimator sk-toggleable\"><input class=\"sk-toggleable__control sk-hidden--visually\" id=\"sk-estimator-id-4\" type=\"checkbox\" checked><label for=\"sk-estimator-id-4\" class=\"sk-toggleable__label sk-toggleable__label-arrow\">KernelDensity</label><div class=\"sk-toggleable__content\"><pre>KernelDensity()</pre></div></div></div></div></div>"
      ],
      "text/plain": [
       "KernelDensity()"
      ]
     },
     "execution_count": 75,
     "metadata": {},
     "output_type": "execute_result"
    }
   ],
   "source": [
    "from sklearn.neighbors import KernelDensity\n",
    "\n",
    "model_kde = KernelDensity(bandwidth=1.0, kernel='gaussian')\n",
    "model_kde.fit(np.array(sample_cadence)[:, None])"
   ]
  },
  {
   "cell_type": "code",
   "execution_count": 38,
   "metadata": {},
   "outputs": [
    {
     "data": {
      "text/plain": [
       "(1000,)"
      ]
     },
     "execution_count": 38,
     "metadata": {},
     "output_type": "execute_result"
    }
   ],
   "source": [
    "#x_grid = np.linspace(X_train.min()-5, X_train.max()+5, 20000)\n",
    "x_grid = np.linspace(0, 100, 1000)\n",
    "x_grid.shape"
   ]
  },
  {
   "cell_type": "code",
   "execution_count": 60,
   "metadata": {},
   "outputs": [
    {
     "data": {
      "text/plain": [
       "<matplotlib.legend.Legend at 0x7f23a6f688e0>"
      ]
     },
     "execution_count": 60,
     "metadata": {},
     "output_type": "execute_result"
    },
    {
     "data": {
      "image/png": "[encoded data removed]",
      "text/plain": [
       "<Figure size 1100x700 with 1 Axes>"
      ]
     },
     "metadata": {},
     "output_type": "display_data"
    }
   ],
   "source": [
    "fig, ax = plt.subplots(figsize=(11, 7))\n",
    "\n",
    "# [0.1, 0.3, 0.6, 0.9, 1.2]\n",
    "for bandwidth in [0.3, 0.35, 0.4, 0.5, 0.85, 0.9, 0.95, 1.0]:\n",
    "    model_kde = KernelDensity(bandwidth=bandwidth, kernel='gaussian')\n",
    "    model_kde.fit(X_train[:, None])\n",
    "    lnprob = model_kde.score_samples(x_grid[:, None])\n",
    "    pdf_data = np.exp(lnprob)\n",
    "    \n",
    "    ax.plot(x_grid, pdf_data,\n",
    "            label='bw={0}'.format(bandwidth), linewidth=1.5, alpha=0.7)\n",
    "    \n",
    "ax.hist(X_train, bins=600, density=True, alpha=0.7)\n",
    "ax.set_xlim(-1, 10)\n",
    "ax.legend(loc='upper right')"
   ]
  },
  {
   "cell_type": "code",
   "execution_count": 61,
   "metadata": {},
   "outputs": [
    {
     "data": {
      "text/plain": [
       "array([0.1       , 0.13103448, 0.16206897, 0.19310345, 0.22413793,\n",
       "       0.25517241, 0.2862069 , 0.31724138, 0.34827586, 0.37931034,\n",
       "       0.41034483, 0.44137931, 0.47241379, 0.50344828, 0.53448276,\n",
       "       0.56551724, 0.59655172, 0.62758621, 0.65862069, 0.68965517,\n",
       "       0.72068966, 0.75172414, 0.78275862, 0.8137931 , 0.84482759,\n",
       "       0.87586207, 0.90689655, 0.93793103, 0.96896552, 1.        ])"
      ]
     },
     "execution_count": 61,
     "metadata": {},
     "output_type": "execute_result"
    }
   ],
   "source": [
    "np.linspace(0.1, 1.0, 30)"
   ]
  },
  {
   "cell_type": "code",
   "execution_count": null,
   "metadata": {},
   "outputs": [],
   "source": [
    "from sklearn.grid_search import GridSearchCV\n",
    "grid = GridSearchCV(KernelDensity(),\n",
    "                    {'bandwidth': np.linspace(0.1, 1.0, 30)},\n",
    "                    cv=5) # 20-fold cross-validation\n",
    "grid.fit(x[:, None])\n",
    "print grid.best_params_"
   ]
  },
  {
   "cell_type": "code",
   "execution_count": 80,
   "metadata": {},
   "outputs": [
    {
     "data": {
      "text/plain": [
       "array([0.1       , 0.13103448, 0.16206897, 0.19310345, 0.22413793,\n",
       "       0.25517241, 0.2862069 , 0.31724138, 0.34827586, 0.37931034,\n",
       "       0.41034483, 0.44137931, 0.47241379, 0.50344828, 0.53448276,\n",
       "       0.56551724, 0.59655172, 0.62758621, 0.65862069, 0.68965517,\n",
       "       0.72068966, 0.75172414, 0.78275862, 0.8137931 , 0.84482759,\n",
       "       0.87586207, 0.90689655, 0.93793103, 0.96896552, 1.        ])"
      ]
     },
     "execution_count": 80,
     "metadata": {},
     "output_type": "execute_result"
    }
   ],
   "source": [
    "np.linspace(0.1, 1.0, 30)"
   ]
  },
  {
   "cell_type": "code",
   "execution_count": 84,
   "metadata": {},
   "outputs": [
    {
     "ename": "KeyboardInterrupt",
     "evalue": "",
     "output_type": "error",
     "traceback": [
      "\u001b[0;31m---------------------------------------------------------------------------\u001b[0m",
      "\u001b[0;31mKeyboardInterrupt\u001b[0m                         Traceback (most recent call last)",
      "Input \u001b[0;32mIn [84]\u001b[0m, in \u001b[0;36m<cell line: 14>\u001b[0;34m()\u001b[0m\n\u001b[1;32m      8\u001b[0m grid \u001b[38;5;241m=\u001b[39m GridSearchCV(KernelDensity(), \n\u001b[1;32m      9\u001b[0m                     params_grid, \n\u001b[1;32m     10\u001b[0m                     cv\u001b[38;5;241m=\u001b[39m\u001b[38;5;241m5\u001b[39m,\n\u001b[1;32m     11\u001b[0m                     verbose\u001b[38;5;241m=\u001b[39m\u001b[38;5;241m0\u001b[39m)\n\u001b[1;32m     13\u001b[0m \u001b[38;5;66;03m# Se asigna el resultado a _ para que no se imprima por pantalla\u001b[39;00m\n\u001b[0;32m---> 14\u001b[0m _ \u001b[38;5;241m=\u001b[39m \u001b[43mgrid\u001b[49m\u001b[38;5;241;43m.\u001b[39;49m\u001b[43mfit\u001b[49m\u001b[43m(\u001b[49m\u001b[43mnp\u001b[49m\u001b[38;5;241;43m.\u001b[39;49m\u001b[43marray\u001b[49m\u001b[43m(\u001b[49m\u001b[43msample_cadence\u001b[49m\u001b[43m)\u001b[49m\u001b[43m[\u001b[49m\u001b[43m:\u001b[49m\u001b[43m,\u001b[49m\u001b[43m \u001b[49m\u001b[38;5;28;43;01mNone\u001b[39;49;00m\u001b[43m]\u001b[49m\u001b[43m)\u001b[49m\n",
      "File \u001b[0;32m~/.local/lib/python3.8/site-packages/sklearn/model_selection/_search.py:875\u001b[0m, in \u001b[0;36mBaseSearchCV.fit\u001b[0;34m(self, X, y, groups, **fit_params)\u001b[0m\n\u001b[1;32m    869\u001b[0m     results \u001b[38;5;241m=\u001b[39m \u001b[38;5;28mself\u001b[39m\u001b[38;5;241m.\u001b[39m_format_results(\n\u001b[1;32m    870\u001b[0m         all_candidate_params, n_splits, all_out, all_more_results\n\u001b[1;32m    871\u001b[0m     )\n\u001b[1;32m    873\u001b[0m     \u001b[38;5;28;01mreturn\u001b[39;00m results\n\u001b[0;32m--> 875\u001b[0m \u001b[38;5;28;43mself\u001b[39;49m\u001b[38;5;241;43m.\u001b[39;49m\u001b[43m_run_search\u001b[49m\u001b[43m(\u001b[49m\u001b[43mevaluate_candidates\u001b[49m\u001b[43m)\u001b[49m\n\u001b[1;32m    877\u001b[0m \u001b[38;5;66;03m# multimetric is determined here because in the case of a callable\u001b[39;00m\n\u001b[1;32m    878\u001b[0m \u001b[38;5;66;03m# self.scoring the return type is only known after calling\u001b[39;00m\n\u001b[1;32m    879\u001b[0m first_test_score \u001b[38;5;241m=\u001b[39m all_out[\u001b[38;5;241m0\u001b[39m][\u001b[38;5;124m\"\u001b[39m\u001b[38;5;124mtest_scores\u001b[39m\u001b[38;5;124m\"\u001b[39m]\n",
      "File \u001b[0;32m~/.local/lib/python3.8/site-packages/sklearn/model_selection/_search.py:1379\u001b[0m, in \u001b[0;36mGridSearchCV._run_search\u001b[0;34m(self, evaluate_candidates)\u001b[0m\n\u001b[1;32m   1377\u001b[0m \u001b[38;5;28;01mdef\u001b[39;00m \u001b[38;5;21m_run_search\u001b[39m(\u001b[38;5;28mself\u001b[39m, evaluate_candidates):\n\u001b[1;32m   1378\u001b[0m     \u001b[38;5;124;03m\"\"\"Search all candidates in param_grid\"\"\"\u001b[39;00m\n\u001b[0;32m-> 1379\u001b[0m     \u001b[43mevaluate_candidates\u001b[49m\u001b[43m(\u001b[49m\u001b[43mParameterGrid\u001b[49m\u001b[43m(\u001b[49m\u001b[38;5;28;43mself\u001b[39;49m\u001b[38;5;241;43m.\u001b[39;49m\u001b[43mparam_grid\u001b[49m\u001b[43m)\u001b[49m\u001b[43m)\u001b[49m\n",
      "File \u001b[0;32m~/.local/lib/python3.8/site-packages/sklearn/model_selection/_search.py:822\u001b[0m, in \u001b[0;36mBaseSearchCV.fit.<locals>.evaluate_candidates\u001b[0;34m(candidate_params, cv, more_results)\u001b[0m\n\u001b[1;32m    814\u001b[0m \u001b[38;5;28;01mif\u001b[39;00m \u001b[38;5;28mself\u001b[39m\u001b[38;5;241m.\u001b[39mverbose \u001b[38;5;241m>\u001b[39m \u001b[38;5;241m0\u001b[39m:\n\u001b[1;32m    815\u001b[0m     \u001b[38;5;28mprint\u001b[39m(\n\u001b[1;32m    816\u001b[0m         \u001b[38;5;124m\"\u001b[39m\u001b[38;5;124mFitting \u001b[39m\u001b[38;5;132;01m{0}\u001b[39;00m\u001b[38;5;124m folds for each of \u001b[39m\u001b[38;5;132;01m{1}\u001b[39;00m\u001b[38;5;124m candidates,\u001b[39m\u001b[38;5;124m\"\u001b[39m\n\u001b[1;32m    817\u001b[0m         \u001b[38;5;124m\"\u001b[39m\u001b[38;5;124m totalling \u001b[39m\u001b[38;5;132;01m{2}\u001b[39;00m\u001b[38;5;124m fits\u001b[39m\u001b[38;5;124m\"\u001b[39m\u001b[38;5;241m.\u001b[39mformat(\n\u001b[1;32m    818\u001b[0m             n_splits, n_candidates, n_candidates \u001b[38;5;241m*\u001b[39m n_splits\n\u001b[1;32m    819\u001b[0m         )\n\u001b[1;32m    820\u001b[0m     )\n\u001b[0;32m--> 822\u001b[0m out \u001b[38;5;241m=\u001b[39m \u001b[43mparallel\u001b[49m\u001b[43m(\u001b[49m\n\u001b[1;32m    823\u001b[0m \u001b[43m    \u001b[49m\u001b[43mdelayed\u001b[49m\u001b[43m(\u001b[49m\u001b[43m_fit_and_score\u001b[49m\u001b[43m)\u001b[49m\u001b[43m(\u001b[49m\n\u001b[1;32m    824\u001b[0m \u001b[43m        \u001b[49m\u001b[43mclone\u001b[49m\u001b[43m(\u001b[49m\u001b[43mbase_estimator\u001b[49m\u001b[43m)\u001b[49m\u001b[43m,\u001b[49m\n\u001b[1;32m    825\u001b[0m \u001b[43m        \u001b[49m\u001b[43mX\u001b[49m\u001b[43m,\u001b[49m\n\u001b[1;32m    826\u001b[0m \u001b[43m        \u001b[49m\u001b[43my\u001b[49m\u001b[43m,\u001b[49m\n\u001b[1;32m    827\u001b[0m \u001b[43m        \u001b[49m\u001b[43mtrain\u001b[49m\u001b[38;5;241;43m=\u001b[39;49m\u001b[43mtrain\u001b[49m\u001b[43m,\u001b[49m\n\u001b[1;32m    828\u001b[0m \u001b[43m        \u001b[49m\u001b[43mtest\u001b[49m\u001b[38;5;241;43m=\u001b[39;49m\u001b[43mtest\u001b[49m\u001b[43m,\u001b[49m\n\u001b[1;32m    829\u001b[0m \u001b[43m        \u001b[49m\u001b[43mparameters\u001b[49m\u001b[38;5;241;43m=\u001b[39;49m\u001b[43mparameters\u001b[49m\u001b[43m,\u001b[49m\n\u001b[1;32m    830\u001b[0m \u001b[43m        \u001b[49m\u001b[43msplit_progress\u001b[49m\u001b[38;5;241;43m=\u001b[39;49m\u001b[43m(\u001b[49m\u001b[43msplit_idx\u001b[49m\u001b[43m,\u001b[49m\u001b[43m \u001b[49m\u001b[43mn_splits\u001b[49m\u001b[43m)\u001b[49m\u001b[43m,\u001b[49m\n\u001b[1;32m    831\u001b[0m \u001b[43m        \u001b[49m\u001b[43mcandidate_progress\u001b[49m\u001b[38;5;241;43m=\u001b[39;49m\u001b[43m(\u001b[49m\u001b[43mcand_idx\u001b[49m\u001b[43m,\u001b[49m\u001b[43m \u001b[49m\u001b[43mn_candidates\u001b[49m\u001b[43m)\u001b[49m\u001b[43m,\u001b[49m\n\u001b[1;32m    832\u001b[0m \u001b[43m        \u001b[49m\u001b[38;5;241;43m*\u001b[39;49m\u001b[38;5;241;43m*\u001b[39;49m\u001b[43mfit_and_score_kwargs\u001b[49m\u001b[43m,\u001b[49m\n\u001b[1;32m    833\u001b[0m \u001b[43m    \u001b[49m\u001b[43m)\u001b[49m\n\u001b[1;32m    834\u001b[0m \u001b[43m    \u001b[49m\u001b[38;5;28;43;01mfor\u001b[39;49;00m\u001b[43m \u001b[49m\u001b[43m(\u001b[49m\u001b[43mcand_idx\u001b[49m\u001b[43m,\u001b[49m\u001b[43m \u001b[49m\u001b[43mparameters\u001b[49m\u001b[43m)\u001b[49m\u001b[43m,\u001b[49m\u001b[43m \u001b[49m\u001b[43m(\u001b[49m\u001b[43msplit_idx\u001b[49m\u001b[43m,\u001b[49m\u001b[43m \u001b[49m\u001b[43m(\u001b[49m\u001b[43mtrain\u001b[49m\u001b[43m,\u001b[49m\u001b[43m \u001b[49m\u001b[43mtest\u001b[49m\u001b[43m)\u001b[49m\u001b[43m)\u001b[49m\u001b[43m \u001b[49m\u001b[38;5;129;43;01min\u001b[39;49;00m\u001b[43m \u001b[49m\u001b[43mproduct\u001b[49m\u001b[43m(\u001b[49m\n\u001b[1;32m    835\u001b[0m \u001b[43m        \u001b[49m\u001b[38;5;28;43menumerate\u001b[39;49m\u001b[43m(\u001b[49m\u001b[43mcandidate_params\u001b[49m\u001b[43m)\u001b[49m\u001b[43m,\u001b[49m\u001b[43m \u001b[49m\u001b[38;5;28;43menumerate\u001b[39;49m\u001b[43m(\u001b[49m\u001b[43mcv\u001b[49m\u001b[38;5;241;43m.\u001b[39;49m\u001b[43msplit\u001b[49m\u001b[43m(\u001b[49m\u001b[43mX\u001b[49m\u001b[43m,\u001b[49m\u001b[43m \u001b[49m\u001b[43my\u001b[49m\u001b[43m,\u001b[49m\u001b[43m \u001b[49m\u001b[43mgroups\u001b[49m\u001b[43m)\u001b[49m\u001b[43m)\u001b[49m\n\u001b[1;32m    836\u001b[0m \u001b[43m    \u001b[49m\u001b[43m)\u001b[49m\n\u001b[1;32m    837\u001b[0m \u001b[43m\u001b[49m\u001b[43m)\u001b[49m\n\u001b[1;32m    839\u001b[0m \u001b[38;5;28;01mif\u001b[39;00m \u001b[38;5;28mlen\u001b[39m(out) \u001b[38;5;241m<\u001b[39m \u001b[38;5;241m1\u001b[39m:\n\u001b[1;32m    840\u001b[0m     \u001b[38;5;28;01mraise\u001b[39;00m \u001b[38;5;167;01mValueError\u001b[39;00m(\n\u001b[1;32m    841\u001b[0m         \u001b[38;5;124m\"\u001b[39m\u001b[38;5;124mNo fits were performed. \u001b[39m\u001b[38;5;124m\"\u001b[39m\n\u001b[1;32m    842\u001b[0m         \u001b[38;5;124m\"\u001b[39m\u001b[38;5;124mWas the CV iterator empty? \u001b[39m\u001b[38;5;124m\"\u001b[39m\n\u001b[1;32m    843\u001b[0m         \u001b[38;5;124m\"\u001b[39m\u001b[38;5;124mWere there no candidates?\u001b[39m\u001b[38;5;124m\"\u001b[39m\n\u001b[1;32m    844\u001b[0m     )\n",
      "File \u001b[0;32m~/.local/lib/python3.8/site-packages/joblib/parallel.py:1046\u001b[0m, in \u001b[0;36mParallel.__call__\u001b[0;34m(self, iterable)\u001b[0m\n\u001b[1;32m   1043\u001b[0m \u001b[38;5;28;01mif\u001b[39;00m \u001b[38;5;28mself\u001b[39m\u001b[38;5;241m.\u001b[39mdispatch_one_batch(iterator):\n\u001b[1;32m   1044\u001b[0m     \u001b[38;5;28mself\u001b[39m\u001b[38;5;241m.\u001b[39m_iterating \u001b[38;5;241m=\u001b[39m \u001b[38;5;28mself\u001b[39m\u001b[38;5;241m.\u001b[39m_original_iterator \u001b[38;5;129;01mis\u001b[39;00m \u001b[38;5;129;01mnot\u001b[39;00m \u001b[38;5;28;01mNone\u001b[39;00m\n\u001b[0;32m-> 1046\u001b[0m \u001b[38;5;28;01mwhile\u001b[39;00m \u001b[38;5;28;43mself\u001b[39;49m\u001b[38;5;241;43m.\u001b[39;49m\u001b[43mdispatch_one_batch\u001b[49m\u001b[43m(\u001b[49m\u001b[43miterator\u001b[49m\u001b[43m)\u001b[49m:\n\u001b[1;32m   1047\u001b[0m     \u001b[38;5;28;01mpass\u001b[39;00m\n\u001b[1;32m   1049\u001b[0m \u001b[38;5;28;01mif\u001b[39;00m pre_dispatch \u001b[38;5;241m==\u001b[39m \u001b[38;5;124m\"\u001b[39m\u001b[38;5;124mall\u001b[39m\u001b[38;5;124m\"\u001b[39m \u001b[38;5;129;01mor\u001b[39;00m n_jobs \u001b[38;5;241m==\u001b[39m \u001b[38;5;241m1\u001b[39m:\n\u001b[1;32m   1050\u001b[0m     \u001b[38;5;66;03m# The iterable was consumed all at once by the above for loop.\u001b[39;00m\n\u001b[1;32m   1051\u001b[0m     \u001b[38;5;66;03m# No need to wait for async callbacks to trigger to\u001b[39;00m\n\u001b[1;32m   1052\u001b[0m     \u001b[38;5;66;03m# consumption.\u001b[39;00m\n",
      "File \u001b[0;32m~/.local/lib/python3.8/site-packages/joblib/parallel.py:861\u001b[0m, in \u001b[0;36mParallel.dispatch_one_batch\u001b[0;34m(self, iterator)\u001b[0m\n\u001b[1;32m    859\u001b[0m     \u001b[38;5;28;01mreturn\u001b[39;00m \u001b[38;5;28;01mFalse\u001b[39;00m\n\u001b[1;32m    860\u001b[0m \u001b[38;5;28;01melse\u001b[39;00m:\n\u001b[0;32m--> 861\u001b[0m     \u001b[38;5;28;43mself\u001b[39;49m\u001b[38;5;241;43m.\u001b[39;49m\u001b[43m_dispatch\u001b[49m\u001b[43m(\u001b[49m\u001b[43mtasks\u001b[49m\u001b[43m)\u001b[49m\n\u001b[1;32m    862\u001b[0m     \u001b[38;5;28;01mreturn\u001b[39;00m \u001b[38;5;28;01mTrue\u001b[39;00m\n",
      "File \u001b[0;32m~/.local/lib/python3.8/site-packages/joblib/parallel.py:779\u001b[0m, in \u001b[0;36mParallel._dispatch\u001b[0;34m(self, batch)\u001b[0m\n\u001b[1;32m    777\u001b[0m \u001b[38;5;28;01mwith\u001b[39;00m \u001b[38;5;28mself\u001b[39m\u001b[38;5;241m.\u001b[39m_lock:\n\u001b[1;32m    778\u001b[0m     job_idx \u001b[38;5;241m=\u001b[39m \u001b[38;5;28mlen\u001b[39m(\u001b[38;5;28mself\u001b[39m\u001b[38;5;241m.\u001b[39m_jobs)\n\u001b[0;32m--> 779\u001b[0m     job \u001b[38;5;241m=\u001b[39m \u001b[38;5;28;43mself\u001b[39;49m\u001b[38;5;241;43m.\u001b[39;49m\u001b[43m_backend\u001b[49m\u001b[38;5;241;43m.\u001b[39;49m\u001b[43mapply_async\u001b[49m\u001b[43m(\u001b[49m\u001b[43mbatch\u001b[49m\u001b[43m,\u001b[49m\u001b[43m \u001b[49m\u001b[43mcallback\u001b[49m\u001b[38;5;241;43m=\u001b[39;49m\u001b[43mcb\u001b[49m\u001b[43m)\u001b[49m\n\u001b[1;32m    780\u001b[0m     \u001b[38;5;66;03m# A job can complete so quickly than its callback is\u001b[39;00m\n\u001b[1;32m    781\u001b[0m     \u001b[38;5;66;03m# called before we get here, causing self._jobs to\u001b[39;00m\n\u001b[1;32m    782\u001b[0m     \u001b[38;5;66;03m# grow. To ensure correct results ordering, .insert is\u001b[39;00m\n\u001b[1;32m    783\u001b[0m     \u001b[38;5;66;03m# used (rather than .append) in the following line\u001b[39;00m\n\u001b[1;32m    784\u001b[0m     \u001b[38;5;28mself\u001b[39m\u001b[38;5;241m.\u001b[39m_jobs\u001b[38;5;241m.\u001b[39minsert(job_idx, job)\n",
      "File \u001b[0;32m~/.local/lib/python3.8/site-packages/joblib/_parallel_backends.py:208\u001b[0m, in \u001b[0;36mSequentialBackend.apply_async\u001b[0;34m(self, func, callback)\u001b[0m\n\u001b[1;32m    206\u001b[0m \u001b[38;5;28;01mdef\u001b[39;00m \u001b[38;5;21mapply_async\u001b[39m(\u001b[38;5;28mself\u001b[39m, func, callback\u001b[38;5;241m=\u001b[39m\u001b[38;5;28;01mNone\u001b[39;00m):\n\u001b[1;32m    207\u001b[0m     \u001b[38;5;124;03m\"\"\"Schedule a func to be run\"\"\"\u001b[39;00m\n\u001b[0;32m--> 208\u001b[0m     result \u001b[38;5;241m=\u001b[39m \u001b[43mImmediateResult\u001b[49m\u001b[43m(\u001b[49m\u001b[43mfunc\u001b[49m\u001b[43m)\u001b[49m\n\u001b[1;32m    209\u001b[0m     \u001b[38;5;28;01mif\u001b[39;00m callback:\n\u001b[1;32m    210\u001b[0m         callback(result)\n",
      "File \u001b[0;32m~/.local/lib/python3.8/site-packages/joblib/_parallel_backends.py:572\u001b[0m, in \u001b[0;36mImmediateResult.__init__\u001b[0;34m(self, batch)\u001b[0m\n\u001b[1;32m    569\u001b[0m \u001b[38;5;28;01mdef\u001b[39;00m \u001b[38;5;21m__init__\u001b[39m(\u001b[38;5;28mself\u001b[39m, batch):\n\u001b[1;32m    570\u001b[0m     \u001b[38;5;66;03m# Don't delay the application, to avoid keeping the input\u001b[39;00m\n\u001b[1;32m    571\u001b[0m     \u001b[38;5;66;03m# arguments in memory\u001b[39;00m\n\u001b[0;32m--> 572\u001b[0m     \u001b[38;5;28mself\u001b[39m\u001b[38;5;241m.\u001b[39mresults \u001b[38;5;241m=\u001b[39m \u001b[43mbatch\u001b[49m\u001b[43m(\u001b[49m\u001b[43m)\u001b[49m\n",
      "File \u001b[0;32m~/.local/lib/python3.8/site-packages/joblib/parallel.py:262\u001b[0m, in \u001b[0;36mBatchedCalls.__call__\u001b[0;34m(self)\u001b[0m\n\u001b[1;32m    258\u001b[0m \u001b[38;5;28;01mdef\u001b[39;00m \u001b[38;5;21m__call__\u001b[39m(\u001b[38;5;28mself\u001b[39m):\n\u001b[1;32m    259\u001b[0m     \u001b[38;5;66;03m# Set the default nested backend to self._backend but do not set the\u001b[39;00m\n\u001b[1;32m    260\u001b[0m     \u001b[38;5;66;03m# change the default number of processes to -1\u001b[39;00m\n\u001b[1;32m    261\u001b[0m     \u001b[38;5;28;01mwith\u001b[39;00m parallel_backend(\u001b[38;5;28mself\u001b[39m\u001b[38;5;241m.\u001b[39m_backend, n_jobs\u001b[38;5;241m=\u001b[39m\u001b[38;5;28mself\u001b[39m\u001b[38;5;241m.\u001b[39m_n_jobs):\n\u001b[0;32m--> 262\u001b[0m         \u001b[38;5;28;01mreturn\u001b[39;00m [func(\u001b[38;5;241m*\u001b[39margs, \u001b[38;5;241m*\u001b[39m\u001b[38;5;241m*\u001b[39mkwargs)\n\u001b[1;32m    263\u001b[0m                 \u001b[38;5;28;01mfor\u001b[39;00m func, args, kwargs \u001b[38;5;129;01min\u001b[39;00m \u001b[38;5;28mself\u001b[39m\u001b[38;5;241m.\u001b[39mitems]\n",
      "File \u001b[0;32m~/.local/lib/python3.8/site-packages/joblib/parallel.py:262\u001b[0m, in \u001b[0;36m<listcomp>\u001b[0;34m(.0)\u001b[0m\n\u001b[1;32m    258\u001b[0m \u001b[38;5;28;01mdef\u001b[39;00m \u001b[38;5;21m__call__\u001b[39m(\u001b[38;5;28mself\u001b[39m):\n\u001b[1;32m    259\u001b[0m     \u001b[38;5;66;03m# Set the default nested backend to self._backend but do not set the\u001b[39;00m\n\u001b[1;32m    260\u001b[0m     \u001b[38;5;66;03m# change the default number of processes to -1\u001b[39;00m\n\u001b[1;32m    261\u001b[0m     \u001b[38;5;28;01mwith\u001b[39;00m parallel_backend(\u001b[38;5;28mself\u001b[39m\u001b[38;5;241m.\u001b[39m_backend, n_jobs\u001b[38;5;241m=\u001b[39m\u001b[38;5;28mself\u001b[39m\u001b[38;5;241m.\u001b[39m_n_jobs):\n\u001b[0;32m--> 262\u001b[0m         \u001b[38;5;28;01mreturn\u001b[39;00m [\u001b[43mfunc\u001b[49m\u001b[43m(\u001b[49m\u001b[38;5;241;43m*\u001b[39;49m\u001b[43margs\u001b[49m\u001b[43m,\u001b[49m\u001b[43m \u001b[49m\u001b[38;5;241;43m*\u001b[39;49m\u001b[38;5;241;43m*\u001b[39;49m\u001b[43mkwargs\u001b[49m\u001b[43m)\u001b[49m\n\u001b[1;32m    263\u001b[0m                 \u001b[38;5;28;01mfor\u001b[39;00m func, args, kwargs \u001b[38;5;129;01min\u001b[39;00m \u001b[38;5;28mself\u001b[39m\u001b[38;5;241m.\u001b[39mitems]\n",
      "File \u001b[0;32m~/.local/lib/python3.8/site-packages/sklearn/utils/fixes.py:117\u001b[0m, in \u001b[0;36m_FuncWrapper.__call__\u001b[0;34m(self, *args, **kwargs)\u001b[0m\n\u001b[1;32m    115\u001b[0m \u001b[38;5;28;01mdef\u001b[39;00m \u001b[38;5;21m__call__\u001b[39m(\u001b[38;5;28mself\u001b[39m, \u001b[38;5;241m*\u001b[39margs, \u001b[38;5;241m*\u001b[39m\u001b[38;5;241m*\u001b[39mkwargs):\n\u001b[1;32m    116\u001b[0m     \u001b[38;5;28;01mwith\u001b[39;00m config_context(\u001b[38;5;241m*\u001b[39m\u001b[38;5;241m*\u001b[39m\u001b[38;5;28mself\u001b[39m\u001b[38;5;241m.\u001b[39mconfig):\n\u001b[0;32m--> 117\u001b[0m         \u001b[38;5;28;01mreturn\u001b[39;00m \u001b[38;5;28;43mself\u001b[39;49m\u001b[38;5;241;43m.\u001b[39;49m\u001b[43mfunction\u001b[49m\u001b[43m(\u001b[49m\u001b[38;5;241;43m*\u001b[39;49m\u001b[43margs\u001b[49m\u001b[43m,\u001b[49m\u001b[43m \u001b[49m\u001b[38;5;241;43m*\u001b[39;49m\u001b[38;5;241;43m*\u001b[39;49m\u001b[43mkwargs\u001b[49m\u001b[43m)\u001b[49m\n",
      "File \u001b[0;32m~/.local/lib/python3.8/site-packages/sklearn/model_selection/_validation.py:708\u001b[0m, in \u001b[0;36m_fit_and_score\u001b[0;34m(estimator, X, y, scorer, train, test, verbose, parameters, fit_params, return_train_score, return_parameters, return_n_test_samples, return_times, return_estimator, split_progress, candidate_progress, error_score)\u001b[0m\n\u001b[1;32m    705\u001b[0m result[\u001b[38;5;124m\"\u001b[39m\u001b[38;5;124mfit_error\u001b[39m\u001b[38;5;124m\"\u001b[39m] \u001b[38;5;241m=\u001b[39m \u001b[38;5;28;01mNone\u001b[39;00m\n\u001b[1;32m    707\u001b[0m fit_time \u001b[38;5;241m=\u001b[39m time\u001b[38;5;241m.\u001b[39mtime() \u001b[38;5;241m-\u001b[39m start_time\n\u001b[0;32m--> 708\u001b[0m test_scores \u001b[38;5;241m=\u001b[39m \u001b[43m_score\u001b[49m\u001b[43m(\u001b[49m\u001b[43mestimator\u001b[49m\u001b[43m,\u001b[49m\u001b[43m \u001b[49m\u001b[43mX_test\u001b[49m\u001b[43m,\u001b[49m\u001b[43m \u001b[49m\u001b[43my_test\u001b[49m\u001b[43m,\u001b[49m\u001b[43m \u001b[49m\u001b[43mscorer\u001b[49m\u001b[43m,\u001b[49m\u001b[43m \u001b[49m\u001b[43merror_score\u001b[49m\u001b[43m)\u001b[49m\n\u001b[1;32m    709\u001b[0m score_time \u001b[38;5;241m=\u001b[39m time\u001b[38;5;241m.\u001b[39mtime() \u001b[38;5;241m-\u001b[39m start_time \u001b[38;5;241m-\u001b[39m fit_time\n\u001b[1;32m    710\u001b[0m \u001b[38;5;28;01mif\u001b[39;00m return_train_score:\n",
      "File \u001b[0;32m~/.local/lib/python3.8/site-packages/sklearn/model_selection/_validation.py:765\u001b[0m, in \u001b[0;36m_score\u001b[0;34m(estimator, X_test, y_test, scorer, error_score)\u001b[0m\n\u001b[1;32m    763\u001b[0m \u001b[38;5;28;01mtry\u001b[39;00m:\n\u001b[1;32m    764\u001b[0m     \u001b[38;5;28;01mif\u001b[39;00m y_test \u001b[38;5;129;01mis\u001b[39;00m \u001b[38;5;28;01mNone\u001b[39;00m:\n\u001b[0;32m--> 765\u001b[0m         scores \u001b[38;5;241m=\u001b[39m \u001b[43mscorer\u001b[49m\u001b[43m(\u001b[49m\u001b[43mestimator\u001b[49m\u001b[43m,\u001b[49m\u001b[43m \u001b[49m\u001b[43mX_test\u001b[49m\u001b[43m)\u001b[49m\n\u001b[1;32m    766\u001b[0m     \u001b[38;5;28;01melse\u001b[39;00m:\n\u001b[1;32m    767\u001b[0m         scores \u001b[38;5;241m=\u001b[39m scorer(estimator, X_test, y_test)\n",
      "File \u001b[0;32m~/.local/lib/python3.8/site-packages/sklearn/metrics/_scorer.py:429\u001b[0m, in \u001b[0;36m_passthrough_scorer\u001b[0;34m(estimator, *args, **kwargs)\u001b[0m\n\u001b[1;32m    427\u001b[0m \u001b[38;5;28;01mdef\u001b[39;00m \u001b[38;5;21m_passthrough_scorer\u001b[39m(estimator, \u001b[38;5;241m*\u001b[39margs, \u001b[38;5;241m*\u001b[39m\u001b[38;5;241m*\u001b[39mkwargs):\n\u001b[1;32m    428\u001b[0m     \u001b[38;5;124;03m\"\"\"Function that wraps estimator.score\"\"\"\u001b[39;00m\n\u001b[0;32m--> 429\u001b[0m     \u001b[38;5;28;01mreturn\u001b[39;00m \u001b[43mestimator\u001b[49m\u001b[38;5;241;43m.\u001b[39;49m\u001b[43mscore\u001b[49m\u001b[43m(\u001b[49m\u001b[38;5;241;43m*\u001b[39;49m\u001b[43margs\u001b[49m\u001b[43m,\u001b[49m\u001b[43m \u001b[49m\u001b[38;5;241;43m*\u001b[39;49m\u001b[38;5;241;43m*\u001b[39;49m\u001b[43mkwargs\u001b[49m\u001b[43m)\u001b[49m\n",
      "File \u001b[0;32m~/.local/lib/python3.8/site-packages/sklearn/neighbors/_kde.py:271\u001b[0m, in \u001b[0;36mKernelDensity.score\u001b[0;34m(self, X, y)\u001b[0m\n\u001b[1;32m    251\u001b[0m \u001b[38;5;28;01mdef\u001b[39;00m \u001b[38;5;21mscore\u001b[39m(\u001b[38;5;28mself\u001b[39m, X, y\u001b[38;5;241m=\u001b[39m\u001b[38;5;28;01mNone\u001b[39;00m):\n\u001b[1;32m    252\u001b[0m     \u001b[38;5;124;03m\"\"\"Compute the total log-likelihood under the model.\u001b[39;00m\n\u001b[1;32m    253\u001b[0m \n\u001b[1;32m    254\u001b[0m \u001b[38;5;124;03m    Parameters\u001b[39;00m\n\u001b[0;32m   (...)\u001b[0m\n\u001b[1;32m    269\u001b[0m \u001b[38;5;124;03m        data.\u001b[39;00m\n\u001b[1;32m    270\u001b[0m \u001b[38;5;124;03m    \"\"\"\u001b[39;00m\n\u001b[0;32m--> 271\u001b[0m     \u001b[38;5;28;01mreturn\u001b[39;00m np\u001b[38;5;241m.\u001b[39msum(\u001b[38;5;28;43mself\u001b[39;49m\u001b[38;5;241;43m.\u001b[39;49m\u001b[43mscore_samples\u001b[49m\u001b[43m(\u001b[49m\u001b[43mX\u001b[49m\u001b[43m)\u001b[49m)\n",
      "File \u001b[0;32m~/.local/lib/python3.8/site-packages/sklearn/neighbors/_kde.py:239\u001b[0m, in \u001b[0;36mKernelDensity.score_samples\u001b[0;34m(self, X)\u001b[0m\n\u001b[1;32m    237\u001b[0m     N \u001b[38;5;241m=\u001b[39m \u001b[38;5;28mself\u001b[39m\u001b[38;5;241m.\u001b[39mtree_\u001b[38;5;241m.\u001b[39msum_weight\n\u001b[1;32m    238\u001b[0m atol_N \u001b[38;5;241m=\u001b[39m \u001b[38;5;28mself\u001b[39m\u001b[38;5;241m.\u001b[39matol \u001b[38;5;241m*\u001b[39m N\n\u001b[0;32m--> 239\u001b[0m log_density \u001b[38;5;241m=\u001b[39m \u001b[38;5;28;43mself\u001b[39;49m\u001b[38;5;241;43m.\u001b[39;49m\u001b[43mtree_\u001b[49m\u001b[38;5;241;43m.\u001b[39;49m\u001b[43mkernel_density\u001b[49m\u001b[43m(\u001b[49m\n\u001b[1;32m    240\u001b[0m \u001b[43m    \u001b[49m\u001b[43mX\u001b[49m\u001b[43m,\u001b[49m\n\u001b[1;32m    241\u001b[0m \u001b[43m    \u001b[49m\u001b[43mh\u001b[49m\u001b[38;5;241;43m=\u001b[39;49m\u001b[38;5;28;43mself\u001b[39;49m\u001b[38;5;241;43m.\u001b[39;49m\u001b[43mbandwidth\u001b[49m\u001b[43m,\u001b[49m\n\u001b[1;32m    242\u001b[0m \u001b[43m    \u001b[49m\u001b[43mkernel\u001b[49m\u001b[38;5;241;43m=\u001b[39;49m\u001b[38;5;28;43mself\u001b[39;49m\u001b[38;5;241;43m.\u001b[39;49m\u001b[43mkernel\u001b[49m\u001b[43m,\u001b[49m\n\u001b[1;32m    243\u001b[0m \u001b[43m    \u001b[49m\u001b[43matol\u001b[49m\u001b[38;5;241;43m=\u001b[39;49m\u001b[43matol_N\u001b[49m\u001b[43m,\u001b[49m\n\u001b[1;32m    244\u001b[0m \u001b[43m    \u001b[49m\u001b[43mrtol\u001b[49m\u001b[38;5;241;43m=\u001b[39;49m\u001b[38;5;28;43mself\u001b[39;49m\u001b[38;5;241;43m.\u001b[39;49m\u001b[43mrtol\u001b[49m\u001b[43m,\u001b[49m\n\u001b[1;32m    245\u001b[0m \u001b[43m    \u001b[49m\u001b[43mbreadth_first\u001b[49m\u001b[38;5;241;43m=\u001b[39;49m\u001b[38;5;28;43mself\u001b[39;49m\u001b[38;5;241;43m.\u001b[39;49m\u001b[43mbreadth_first\u001b[49m\u001b[43m,\u001b[49m\n\u001b[1;32m    246\u001b[0m \u001b[43m    \u001b[49m\u001b[43mreturn_log\u001b[49m\u001b[38;5;241;43m=\u001b[39;49m\u001b[38;5;28;43;01mTrue\u001b[39;49;00m\u001b[43m,\u001b[49m\n\u001b[1;32m    247\u001b[0m \u001b[43m\u001b[49m\u001b[43m)\u001b[49m\n\u001b[1;32m    248\u001b[0m log_density \u001b[38;5;241m-\u001b[39m\u001b[38;5;241m=\u001b[39m np\u001b[38;5;241m.\u001b[39mlog(N)\n\u001b[1;32m    249\u001b[0m \u001b[38;5;28;01mreturn\u001b[39;00m log_density\n",
      "\u001b[0;31mKeyboardInterrupt\u001b[0m: "
     ]
    }
   ],
   "source": [
    "from sklearn.model_selection import GridSearchCV \n",
    "from sklearn.neighbors import KernelDensity\n",
    "\n",
    "params_grid = {\n",
    "    'bandwidth': np.linspace(0.1, 1.0, 30),\n",
    "}\n",
    "\n",
    "grid = GridSearchCV(KernelDensity(), \n",
    "                    params_grid, \n",
    "                    cv=5,\n",
    "                    verbose=0)\n",
    "\n",
    "# Se asigna el resultado a _ para que no se imprima por pantalla\n",
    "_ = grid.fit(np.array(sample_cadence)[:, None])"
   ]
  },
  {
   "cell_type": "code",
   "execution_count": 79,
   "metadata": {},
   "outputs": [
    {
     "name": "stdout",
     "output_type": "stream",
     "text": [
      "----------------------------------------\n",
      "Mejores hiperparámetros encontrados (cv)\n",
      "----------------------------------------\n",
      "{'bandwidth': 0.16206896551724137} : -1600.0617502259431\n"
     ]
    }
   ],
   "source": [
    "# Mejores hiperparámetros por validación cruzada\n",
    "# ==============================================================================\n",
    "print(\"----------------------------------------\")\n",
    "print(\"Mejores hiperparámetros encontrados (cv)\")\n",
    "print(\"----------------------------------------\")\n",
    "print(grid.best_params_, \":\", grid.best_score_)\n",
    "\n",
    "model_kde = grid.best_estimator_"
   ]
  },
  {
   "cell_type": "code",
   "execution_count": 82,
   "metadata": {},
   "outputs": [
    {
     "data": {
      "text/plain": [
       "[<matplotlib.lines.Line2D at 0x7f23a5c89970>]"
      ]
     },
     "execution_count": 82,
     "metadata": {},
     "output_type": "execute_result"
    },
    {
     "data": {
      "image/png": "[encoded data removed]",
      "text/plain": [
       "<Figure size 1100x700 with 1 Axes>"
      ]
     },
     "metadata": {},
     "output_type": "display_data"
    }
   ],
   "source": [
    "x_grid = np.linspace(0, 100, 10000)\n",
    "\n",
    "fig, ax = plt.subplots(figsize=(11, 7))\n",
    "\n",
    "lnprob = model_kde.score_samples(x_grid[:, None])\n",
    "pdf_data = np.exp(lnprob)\n",
    "\n",
    "ax.plot(x_grid, pdf_data,\n",
    "        label='bw={0}'.format(bandwidth), linewidth=1.5, alpha=0.7)"
   ]
  },
  {
   "cell_type": "code",
   "execution_count": null,
   "metadata": {},
   "outputs": [],
   "source": []
  },
  {
   "cell_type": "code",
   "execution_count": null,
   "metadata": {},
   "outputs": [],
   "source": []
  },
  {
   "cell_type": "code",
   "execution_count": 22,
   "metadata": {},
   "outputs": [
    {
     "data": {
      "text/plain": [
       "array([ -1.15790657,  -3.56066963,  -1.15790657,  -1.15735094,\n",
       "        -3.55653333,  -1.15735094,  -1.15724897,  -1.15724897,\n",
       "        -5.04219918,  -1.15746769,  -1.15735094,  -1.15724897,\n",
       "        -1.1575992 ,  -1.15790657,  -1.15746769,  -1.1575992 ,\n",
       "        -1.15746769,  -5.77252518,  -1.15790657,  -1.1577455 ,\n",
       "        -8.45719391,  -1.15724897,  -5.22452934,  -1.15790657,\n",
       "        -1.15724897,  -1.15746769,  -1.15724897,  -1.1575992 ,\n",
       "        -1.1577455 ,  -1.15735094,  -1.15724897,  -1.15735094,\n",
       "        -1.15790657,  -5.89521869,  -1.55504046,  -1.15746769,\n",
       "        -1.15716177,  -1.1577455 ,  -1.15735094,  -1.1569472 ,\n",
       "        -1.51909625,  -1.15724897,  -1.15735094,  -3.55292477,\n",
       "        -1.15790657,  -1.15746769,  -4.85250326,  -1.15790657,\n",
       "        -1.1577455 ,  -3.55883172,  -1.15746769,  -1.1575992 ,\n",
       "        -1.1575992 ,  -1.15790657,  -1.1575992 ,  -1.15735094,\n",
       "        -1.15746769,  -1.15735094,  -4.85756871,  -3.54943451,\n",
       "        -1.15716177,  -1.15724897,  -1.15735094,  -1.15746769,\n",
       "        -1.15708933,  -1.15746769,  -6.05130932,  -1.15724897,\n",
       "        -1.15746769,  -1.15716177,  -1.15716177,  -1.15746769,\n",
       "        -1.15716177,  -1.15735094,  -6.93208972,  -1.1575992 ,\n",
       "        -1.1575992 ,  -1.15746769,  -1.15735094,  -1.15746769,\n",
       "        -3.56004607,  -1.15735094,  -1.15746769,  -1.15735094,\n",
       "        -1.15726645,  -3.54793829,  -1.1577455 ,  -1.1577455 ,\n",
       "        -1.15735094,  -1.15746769,  -1.15735094,  -1.15746769,\n",
       "        -1.15790657,  -4.85248683,  -1.15746769,  -1.15746769,\n",
       "        -1.15746769,  -1.15708933,  -1.15716177,  -1.15735094,\n",
       "        -1.15735094,  -1.15746769,  -1.15735094,  -1.15746769,\n",
       "        -7.65612531,  -1.54178254,  -6.33579618,  -1.1575992 ,\n",
       "        -1.15703166,  -1.1577455 ,  -1.15708933,  -5.91350124,\n",
       "        -5.9523347 ,  -1.15746769,  -1.1575992 ,  -1.1575992 ,\n",
       "        -1.15724897,  -1.15790657,  -1.1575992 ,  -4.85257656,\n",
       "        -1.15735094,  -1.15735094,  -1.15746769,  -5.22851273,\n",
       "        -1.1577455 ,  -1.15746769,  -1.15735094,  -1.15735094,\n",
       "        -1.15746769,  -1.15746769,  -1.15735094,  -1.15746769,\n",
       "        -1.15735094,  -1.15735094,  -1.15735094,  -1.15735094,\n",
       "        -1.15746769,  -4.85249133,  -1.15746769,  -1.15724897,\n",
       "        -1.15735094,  -1.15790657,  -3.59661132,  -1.15724897,\n",
       "        -1.15698874,  -1.15724897,  -1.1577455 ,  -1.15735094,\n",
       "        -1.15735094,  -1.15790657,  -1.15746769,  -1.15735094,\n",
       "        -1.15746769,  -1.15735094,  -1.15790657,  -1.15735094,\n",
       "        -1.15746769,  -1.15746769,  -1.15746769,  -1.15724897,\n",
       "        -1.15716177,  -1.54838482,  -1.1577455 ,  -1.15746769,\n",
       "        -1.1575992 ,  -1.15746769,  -3.55598572,  -1.15735094,\n",
       "        -5.05807156,  -1.15698874,  -4.85289816,  -3.55340832,\n",
       "        -1.15708933,  -3.55766088,  -1.15724897,  -1.53850144,\n",
       "        -1.1577455 ,  -5.95294492,  -5.05129708,  -2.75475395,\n",
       "        -1.15724897,  -1.15790657,  -1.15724897,  -3.54983431,\n",
       "        -1.15746769,  -1.15735094,  -1.15790657,  -6.08743701,\n",
       "        -1.15746769,  -9.70436362,  -1.15703166,  -1.15790657,\n",
       "        -1.15790657,  -1.15735094,  -3.55340832,  -1.15746769,\n",
       "        -5.13062137,  -3.55598572,  -3.59187194,  -1.15724897,\n",
       "        -1.15735094,  -1.15746769,  -1.15746769,  -1.15724897,\n",
       "        -1.15790657,  -1.15790657,  -1.15724897,  -1.1577455 ,\n",
       "        -5.54194968,  -1.15696059,  -1.15724897,  -1.15708933,\n",
       "        -1.15708933,  -1.15703166,  -1.15746769,  -1.15790657,\n",
       "        -1.1575992 ,  -5.05419744,  -6.29989636,  -1.15735094,\n",
       "        -1.15746769,  -1.15790657,  -1.15735094,  -6.26500131,\n",
       "        -1.1575992 ,  -1.15735094,  -5.7054052 ,  -1.15746769,\n",
       "        -1.1577455 ,  -1.55838824,  -1.53523372,  -1.53523372,\n",
       "        -1.1577455 ,  -1.1575992 ,  -1.15746769,  -1.15724897,\n",
       "        -1.15790657,  -1.15724897,  -1.1577455 ,  -1.1575992 ,\n",
       "        -1.15724897,  -1.15735094,  -1.1575992 ,  -1.15724897,\n",
       "        -3.56395215,  -1.15735094,  -1.15724897,  -1.1575992 ,\n",
       "        -1.15746769,  -1.15790657,  -1.15746769,  -1.1575992 ,\n",
       "        -5.88307835,  -1.15735094,  -1.1575992 ,  -5.05927574,\n",
       "        -1.15746769,  -1.15724897,  -1.1577455 ,  -4.85274258,\n",
       "        -1.1575992 ,  -1.15746769,  -1.15724897,  -1.15735094,\n",
       "        -5.05085129,  -1.15746769,  -1.15746769,  -1.1575992 ,\n",
       "        -1.15735094,  -1.15735094,  -3.54660521,  -1.15790657,\n",
       "        -4.85250326,  -1.15724897,  -1.15716177,  -5.30501295,\n",
       "        -1.5719122 ,  -3.55198935,  -1.15724897,  -1.15735094,\n",
       "        -1.1577455 ,  -1.15746769,  -1.15746769,  -1.15746769,\n",
       "        -1.1577455 ,  -1.15746769,  -1.15724897,  -1.15746769,\n",
       "        -5.05222086,  -6.69731765,  -1.15708933,  -1.1575992 ,\n",
       "        -1.1577455 ,  -1.15746769,  -1.61375085,  -1.1577455 ,\n",
       "        -1.15694856,  -1.52551096,  -5.04878306,  -1.1575992 ,\n",
       "        -1.1577455 ,  -1.15746769,  -1.15746769,  -1.15708933,\n",
       "        -1.1575992 ,  -1.1577455 ,  -1.15746769,  -1.15735094,\n",
       "        -1.15724897,  -1.15703166,  -1.15735094,  -1.15735094,\n",
       "        -1.15746769,  -1.15708933,  -1.15746769,  -1.15735094,\n",
       "        -1.15790657,  -1.15716177,  -1.15746769,  -1.15746769,\n",
       "        -1.15746769,  -1.15724897,  -1.1575992 ,  -1.15716177,\n",
       "        -1.15724897,  -3.59137885,  -1.15735094,  -5.3024602 ,\n",
       "        -1.15694856,  -5.11399606,  -1.15746769,  -1.15746769,\n",
       "        -1.15724897,  -1.1577455 ,  -1.1575992 ,  -1.1575992 ,\n",
       "        -1.15716177,  -5.30458971,  -1.15735094,  -5.22186602,\n",
       "        -1.1577455 ,  -1.1575992 ,  -1.1577455 ,  -2.74389158,\n",
       "        -7.68369203,  -6.30097047,  -1.1577455 ,  -1.15746769,\n",
       "        -1.1577455 ,  -1.15735094,  -1.54838482,  -3.56464177,\n",
       "        -1.15716177,  -1.15724897,  -1.15790657,  -1.1577455 ,\n",
       "        -1.15746769,  -5.22319837,  -1.58911485,  -1.15724897,\n",
       "        -1.15746769,  -1.15724897,  -1.15724897,  -1.15724897,\n",
       "        -1.15735094,  -1.1575992 ,  -1.15724897,  -1.15735094,\n",
       "        -1.1577455 ,  -1.1575992 ,  -1.15746769,  -1.15746769,\n",
       "        -4.85267826,  -1.15735094,  -1.15746769,  -1.1575992 ,\n",
       "        -1.1575992 ,  -1.15746769,  -1.1577455 ,  -1.15724897,\n",
       "        -1.15746769,  -1.1577455 ,  -5.04334963,  -1.15735094,\n",
       "        -1.15746769,  -1.1577455 ,  -1.1577455 ,  -1.1575992 ,\n",
       "        -1.15746769,  -1.15724897,  -1.15746769,  -1.15746769,\n",
       "        -1.15746769,  -1.15746769,  -1.15716177,  -1.60664651,\n",
       "        -1.15735094,  -8.61499253,  -1.1577455 ,  -1.15716177,\n",
       "        -1.15735094,  -6.07631257,  -1.15716177,  -1.1575992 ,\n",
       "        -1.15735094,  -1.15735094,  -1.1575992 ,  -3.55340832,\n",
       "        -1.15710151,  -1.15698874,  -3.5570917 ,  -1.15716177,\n",
       "        -1.15724897,  -1.1577455 ,  -1.15746769,  -1.15703166,\n",
       "        -1.15746769,  -1.15724897,  -1.15735094,  -5.05318762,\n",
       "        -1.53850144,  -1.1577455 ,  -1.15735094,  -1.1577455 ,\n",
       "        -1.15746769,  -7.49287383,  -1.15708933,  -1.15735094,\n",
       "        -1.15716177,  -1.15716177,  -1.15790657,  -1.15746769,\n",
       "        -3.55883172,  -1.1577455 ,  -1.15735094,  -1.15735094,\n",
       "        -1.15724897,  -1.15746769,  -1.15746769,  -1.15746769,\n",
       "        -3.59443559,  -1.15746769,  -1.1575992 ,  -1.15724897,\n",
       "        -1.1577455 ,  -6.30529674,  -1.15746769,  -1.15746769,\n",
       "        -5.07799546,  -1.15735094,  -1.1575992 ,  -5.22452934,\n",
       "        -1.57532632,  -1.1577455 ,  -3.593655  ,  -1.15746769,\n",
       "        -5.15263911,  -1.15716177,  -1.15703166,  -1.1577455 ,\n",
       "        -6.354814  ,  -1.1575992 ,  -1.15735094,  -5.05419744,\n",
       "        -1.15746769,  -1.15746769,  -1.15735094,  -1.15724897,\n",
       "        -1.15746769,  -1.15716177,  -1.15724897,  -1.15716177,\n",
       "        -1.15694856,  -1.1577455 ,  -1.15735094,  -1.15735094,\n",
       "        -5.05691066,  -1.15746769,  -1.1577455 ,  -1.15724897,\n",
       "        -1.15746769,  -1.51590908,  -1.15790657,  -8.03960631,\n",
       "        -1.15724897,  -3.55544887,  -1.15746769,  -1.15724897,\n",
       "        -1.1577455 ,  -1.15746769,  -1.15716177,  -1.1575992 ,\n",
       "        -1.59608815,  -1.15746769,  -3.5570917 ,  -1.15735094,\n",
       "        -1.15735094,  -1.15703166,  -1.15716177,  -1.1577455 ,\n",
       "        -1.15746769,  -1.15746769,  -1.15790657,  -3.5570917 ,\n",
       "        -1.15746769,  -1.15790657,  -1.15735094,  -1.1577455 ,\n",
       "        -5.3108515 ,  -1.1577455 ,  -1.15708933,  -5.22452934,\n",
       "        -1.15790657,  -3.57378884,  -1.15735094,  -1.15746769,\n",
       "        -1.15724897,  -1.15724897,  -1.15746769,  -1.15724897,\n",
       "        -5.05691066,  -1.1575992 ,  -1.15735094,  -1.15735094,\n",
       "        -1.64636425,  -1.15746769,  -1.15735094,  -1.1575992 ,\n",
       "        -1.15735094,  -1.15746769,  -1.53850144,  -1.15790657,\n",
       "        -1.15724897,  -1.15735094,  -7.74445723,  -3.55440727,\n",
       "        -1.15746769,  -3.55766088,  -1.15746769,  -1.15790657,\n",
       "        -1.1575992 ,  -1.1577455 ,  -1.1577455 ,  -1.1577455 ,\n",
       "        -1.15746769,  -1.15746769,  -1.15746769,  -1.15735094,\n",
       "        -1.1575992 ,  -1.1575992 ,  -1.15746769,  -1.15735094,\n",
       "        -1.15735094,  -1.56174933,  -1.15716177,  -1.15746769,\n",
       "        -1.15724897,  -4.0174683 ,  -1.15746769,  -1.15724897,\n",
       "        -1.15746769,  -1.1575992 ,  -5.53916563,  -2.81962914,\n",
       "        -3.55824087,  -1.15746769,  -1.15746769,  -1.15746769,\n",
       "        -1.1575992 ,  -1.15746769,  -1.15746769,  -1.15724897,\n",
       "        -3.55292477,  -1.1577455 ,  -1.1577455 ,  -1.1577455 ,\n",
       "        -1.15724897,  -1.15735094,  -1.1577455 ,  -1.1577455 ,\n",
       "        -1.15735094,  -1.54507701,  -1.1577455 ,  -1.1577455 ,\n",
       "        -1.15708933,  -1.15696059,  -1.15735094,  -7.98425627,\n",
       "        -1.15735094,  -1.1577455 ,  -1.1575992 ,  -1.1577455 ,\n",
       "        -1.1575992 ,  -1.15735094,  -1.15790657,  -1.15735094,\n",
       "        -1.1575992 ,  -1.1577455 ,  -1.1575992 ,  -1.15735094,\n",
       "        -1.15735094,  -1.1577455 ,  -1.1577455 ,  -1.15735094,\n",
       "        -1.15724897,  -1.1577455 ,  -1.1575992 ,  -4.85344436,\n",
       "        -1.15790657,  -8.42846914,  -1.1577455 ,  -1.15746769,\n",
       "        -1.15746769,  -1.1575992 ,  -1.5821942 ,  -1.15790657,\n",
       "        -3.5570917 ,  -1.15735094,  -3.55883172,  -1.15746769,\n",
       "        -3.55292477,  -1.15735094,  -1.1575992 ,  -1.1577455 ,\n",
       "        -1.15746769,  -1.1577455 ,  -1.15746769,  -1.15724897,\n",
       "        -1.1577455 ,  -5.05419744,  -1.15790657,  -1.1575992 ,\n",
       "        -1.15790657,  -1.1577455 ,  -3.55824087,  -1.15790657,\n",
       "        -3.55544887,  -1.1575992 ,  -1.15746769,  -1.15724897,\n",
       "        -1.15735094,  -1.15790657,  -3.56066963,  -1.15746769,\n",
       "        -1.15724897,  -1.15716177,  -1.1575992 ,  -1.15735094,\n",
       "        -1.15746769,  -5.46230616,  -1.15735094,  -2.85715832,\n",
       "        -1.15724897,  -5.87962867,  -1.15735094,  -1.15735094,\n",
       "        -1.15746769,  -1.15735094,  -1.1575992 ,  -1.15724897,\n",
       "        -1.15735094,  -1.1577455 ,  -3.55024447,  -5.30501295,\n",
       "        -1.15716177,  -1.15703166,  -1.15735094,  -1.15735094,\n",
       "        -1.15746769,  -1.15746769,  -1.1575992 ,  -1.15746769,\n",
       "        -1.15746769,  -1.15746769,  -1.15724897,  -1.15735094,\n",
       "        -1.15746769,  -1.15746769,  -1.15746769,  -1.15708933,\n",
       "        -1.1575992 ,  -3.55153743,  -1.15746769,  -1.15735094,\n",
       "        -1.15698874,  -1.15724897,  -1.1575992 ,  -1.15746769,\n",
       "        -1.1575992 ,  -1.54838482,  -1.1577455 ,  -1.1577455 ,\n",
       "        -1.15746769,  -1.15724897,  -1.1575992 ,  -1.15724897,\n",
       "        -1.15735094,  -2.84110827,  -1.15724897,  -1.1575992 ,\n",
       "        -1.15716177,  -1.1575992 ,  -1.15735094,  -1.15735094,\n",
       "        -1.48783219,  -1.15724897,  -1.15746769,  -1.15735094,\n",
       "        -1.15746769,  -1.15746769,  -1.15790657,  -1.52551096,\n",
       "        -1.1575992 ,  -1.15724897,  -1.15746769,  -1.15746769,\n",
       "        -1.15716177,  -1.15735094,  -1.15724897,  -1.1575992 ,\n",
       "        -4.85274258,  -1.1577455 ,  -1.15735094,  -1.15724897,\n",
       "        -1.55504046,  -1.15724897,  -1.15790657,  -1.15746769,\n",
       "        -1.15724897,  -1.15716177,  -1.15724897,  -1.15724897,\n",
       "        -3.55198935,  -1.15735094,  -1.1577455 ,  -1.15716177,\n",
       "        -1.47270865,  -1.15716177,  -1.15746769,  -1.56174933,\n",
       "        -1.15735094,  -1.15746769,  -3.55943345,  -9.24074067,\n",
       "        -1.1577455 ,  -3.55883172,  -1.15790657,  -1.15724897,\n",
       "        -5.0547185 ,  -1.15746769,  -1.1575992 ,  -1.1575992 ,\n",
       "        -1.15724897,  -1.15746769,  -1.15746769,  -1.1575992 ,\n",
       "        -1.1575992 ,  -1.15703166,  -1.15790657,  -1.15790657,\n",
       "        -1.15746769,  -1.15716177,  -1.15735094,  -5.07859374,\n",
       "        -1.15746769,  -1.15724897,  -1.15735094,  -1.15735094,\n",
       "        -1.15716177,  -1.15703166,  -1.1575992 ,  -3.55440727,\n",
       "        -1.15716177,  -1.15735094,  -1.1577455 ,  -1.1577455 ,\n",
       "        -1.15746769,  -1.15735094,  -1.15746769,  -1.15735094,\n",
       "        -1.1575992 ,  -1.15735094,  -1.15708933,  -1.15746769,\n",
       "        -1.15746769,  -1.15724897,  -1.15735094,  -1.15790657,\n",
       "        -1.1577455 ,  -1.15746769,  -1.1577455 ,  -1.15746769,\n",
       "        -1.15724897,  -3.55883172,  -1.1575992 ,  -1.15790657,\n",
       "        -1.15735094,  -1.1575992 ,  -1.15735094,  -1.1577455 ,\n",
       "        -1.15724897,  -1.15735094,  -1.15724897,  -1.15746769,\n",
       "        -1.15746769,  -1.15735094,  -1.15735094,  -3.55943345,\n",
       "        -1.1577455 ,  -3.55883172,  -1.15724897,  -1.15746769,\n",
       "        -1.15790657,  -6.29562912,  -1.1575992 ,  -1.15746769,\n",
       "        -1.15724897,  -4.85265855,  -5.71699709,  -1.15735094,\n",
       "        -1.15746769,  -3.55943345,  -1.15708933,  -1.15724897,\n",
       "        -1.15746769,  -1.15735094,  -1.15735094,  -1.53850144,\n",
       "        -1.15790657,  -1.1575992 ,  -1.15746769,  -1.55170598,\n",
       "        -1.15746769,  -1.1575992 ,  -1.15790657,  -1.15703166,\n",
       "        -1.15724897,  -1.15735094,  -1.15735094,  -1.55170598,\n",
       "        -1.15746769,  -1.15724897,  -3.59405438,  -1.15735094,\n",
       "        -1.15746769,  -1.15790657,  -6.95003371,  -5.05807156,\n",
       "        -1.15724897,  -1.15735094,  -1.15735094,  -1.15790657,\n",
       "        -1.1577455 ,  -1.15708933,  -1.15708933,  -1.15790657,\n",
       "        -1.15735094,  -1.1575992 ,  -1.1577455 ,  -1.15735094,\n",
       "        -1.15735094,  -1.15735094,  -1.15746769,  -1.15735094,\n",
       "        -1.15735094, -12.59587416,  -1.1575992 ,  -1.1577455 ,\n",
       "        -1.15735094,  -1.15746769,  -3.56130413,  -1.15746769,\n",
       "        -1.1569472 ,  -1.15724897,  -1.1577455 ,  -1.15790657,\n",
       "        -1.15790657,  -1.1575992 ,  -1.15746769,  -3.55066502,\n",
       "        -1.15724897,  -1.15716177,  -1.1575992 ,  -1.1575992 ,\n",
       "        -1.1577455 ,  -1.1575992 ,  -1.1577455 ,  -1.15746769,\n",
       "        -3.56004607,  -1.15735094,  -1.1575992 ,  -1.15703166,\n",
       "        -1.15735094,  -1.1577455 ,  -5.12864525,  -1.15746769,\n",
       "        -5.51689999,  -1.1575992 ,  -1.15790657,  -3.55943345,\n",
       "        -1.15735094,  -1.1577455 ,  -1.15724897,  -1.15746769,\n",
       "        -1.15746769,  -1.54507701,  -1.15703166,  -1.15735094,\n",
       "        -5.77448045,  -3.55598572,  -7.4345345 ,  -1.15735094,\n",
       "        -1.15746769,  -1.15746769,  -1.15735094,  -1.15724897,\n",
       "        -8.26691193,  -1.15735094,  -1.15790657,  -1.15724897,\n",
       "        -1.1575992 ,  -3.55292477,  -1.15746769,  -1.15703166,\n",
       "        -1.54507701,  -1.15724897,  -1.15746769,  -1.15735094,\n",
       "        -1.1577455 ,  -1.15724897,  -1.1575992 ,  -1.15790657,\n",
       "        -1.15735094,  -1.15746769,  -1.15746769,  -1.15790657,\n",
       "        -1.15735094,  -1.15735094,  -1.1575992 ,  -1.15735094,\n",
       "        -1.15746769,  -1.1577455 ,  -1.15716177,  -1.15735094,\n",
       "        -5.77238481,  -1.15724897,  -1.15746769,  -1.1575992 ,\n",
       "        -3.59661132,  -1.15724897,  -1.1577455 ,  -5.95449859,\n",
       "        -6.94880351,  -1.1575992 ,  -1.1575992 ,  -1.15746769,\n",
       "        -1.15735094,  -1.1575992 ,  -1.15746769,  -1.15746769,\n",
       "        -1.1577455 ,  -1.15735094,  -1.15696059,  -1.1577455 ,\n",
       "        -1.15746769,  -1.15790657,  -1.59259493,  -1.15735094,\n",
       "        -1.57532632,  -1.15790657,  -3.59661132,  -3.55544887,\n",
       "        -1.59608815,  -1.15708933,  -1.15735094,  -1.1577455 ,\n",
       "        -1.15735094,  -1.15790657,  -1.15735094,  -1.15746769,\n",
       "        -1.15724897,  -1.15735094,  -8.90186679,  -1.15735094,\n",
       "        -6.30204755,  -1.15703166,  -3.55943345,  -1.15716177,\n",
       "        -1.1575992 ,  -1.15746769,  -1.15746769,  -1.15716177,\n",
       "        -3.59685407,  -1.15724897,  -1.15724897,  -1.1575992 ,\n",
       "        -1.15735094,  -1.15746769,  -1.15746769,  -1.1577455 ])"
      ]
     },
     "execution_count": 22,
     "metadata": {},
     "output_type": "execute_result"
    }
   ],
   "source": [
    "logprob = model_kde.score_samples(X_test[:, None][:1000])\n",
    "logprob"
   ]
  },
  {
   "cell_type": "code",
   "execution_count": 24,
   "metadata": {},
   "outputs": [
    {
     "data": {
      "image/png": "[encoded data removed]",
      "text/plain": [
       "<Figure size 1000x400 with 1 Axes>"
      ]
     },
     "metadata": {},
     "output_type": "display_data"
    }
   ],
   "source": [
    "# Conjunto de entrenamiento\n",
    "x_soporte = np.linspace(X_train.min()-5, X_train.max()+5, 20000)\n",
    "pdf = np.exp(model_kde.score_samples(x_soporte[:, None]))\n",
    "\n",
    "plt.figure(figsize=(10, 4), dpi=100)\n",
    "\n",
    "plt.hist(X_train, bins='scott', density=True, alpha=0.7)\n",
    "plt.plot(x_soporte, pdf, color=\"tab:orange\", linestyle=\"-\", lw=\"2\", label=\"KDE\")\n",
    "\n",
    "plt.title(\"KDE fitted in training data\", pad=13, fontsize=17)\n",
    "plt.xlabel(\"Precio Normal\")\n",
    "plt.ylabel(\"Densidad\")\n",
    "\n",
    "plt.legend()\n",
    "plt.show()"
   ]
  },
  {
   "cell_type": "code",
   "execution_count": 23,
   "metadata": {},
   "outputs": [
    {
     "data": {
      "text/plain": [
       "(-0.02, 0.22)"
      ]
     },
     "execution_count": 23,
     "metadata": {},
     "output_type": "execute_result"
    },
    {
     "data": {
      "image/png": "[encoded data removed]",
      "text/plain": [
       "<Figure size 640x480 with 1 Axes>"
      ]
     },
     "metadata": {},
     "output_type": "display_data"
    }
   ],
   "source": [
    "plt.fill_between(X_test[:1000], np.exp(logprob), alpha=0.5)\n",
    "plt.plot(X_train, np.full_like(X_train, -0.01), '|k', markeredgewidth=1)\n",
    "plt.ylim(-0.02, 0.22)"
   ]
  },
  {
   "cell_type": "code",
   "execution_count": 11,
   "metadata": {},
   "outputs": [
    {
     "data": {
      "text/plain": [
       "array([1.00000000e-05, 1.66810054e-03, 2.78255940e-01, 4.64158883e+01,\n",
       "       7.74263683e+03, 1.29154967e+06, 2.15443469e+08, 3.59381366e+10,\n",
       "       5.99484250e+12, 1.00000000e+15])"
      ]
     },
     "execution_count": 11,
     "metadata": {},
     "output_type": "execute_result"
    }
   ],
   "source": [
    "np.logspace(-5, 15, 10)"
   ]
  },
  {
   "cell_type": "code",
   "execution_count": null,
   "metadata": {},
   "outputs": [],
   "source": []
  },
  {
   "cell_type": "code",
   "execution_count": null,
   "metadata": {},
   "outputs": [],
   "source": [
    "from sklearn.model_selection import GridSearchCV \n",
    "from sklearn.neighbors import KernelDensity\n",
    "\n",
    "params_grid = {\n",
    "    'bandwidth': np.logspace(-5, 15, 10),\n",
    "}\n",
    "\n",
    "grid = GridSearchCV(KernelDensity(), \n",
    "                    params_grid, \n",
    "                    cv=5,\n",
    "                    verbose=0)\n",
    "\n",
    "# Se asigna el resultado a _ para que no se imprima por pantalla\n",
    "_ = grid.fit(X_train)"
   ]
  },
  {
   "cell_type": "code",
   "execution_count": null,
   "metadata": {},
   "outputs": [],
   "source": [
    "# Mejores hiperparámetros por validación cruzada\n",
    "# ==============================================================================\n",
    "print(\"----------------------------------------\")\n",
    "print(\"Mejores hiperparámetros encontrados (cv)\")\n",
    "print(\"----------------------------------------\")\n",
    "print(grid.best_params_, \":\", grid.best_score_)\n",
    "\n",
    "model_kde = grid.best_estimator_"
   ]
  },
  {
   "cell_type": "code",
   "execution_count": null,
   "metadata": {},
   "outputs": [],
   "source": [
    "# Conjunto de entrenamiento\n",
    "x_soporte = np.linspace(X_train.min()-5, X_train.max()+5, 20000)\n",
    "pdf = np.exp(model_kde.score_samples(x_soporte[:, None]))\n",
    "\n",
    "plt.figure(figsize=(10, 4), dpi=100)\n",
    "\n",
    "plt.hist(X_train, bins='scott', density=True, alpha=0.7)\n",
    "plt.plot(x_soporte, pdf, color=\"tab:orange\", linestyle=\"-\", lw=\"2\", label=\"KDE\")\n",
    "\n",
    "plt.title(\"KDE fitted in training data\", pad=13, fontsize=17)\n",
    "plt.xlabel(\"Precio Normal\")\n",
    "plt.ylabel(\"Densidad\")\n",
    "\n",
    "plt.legend()\n",
    "plt.show()"
   ]
  },
  {
   "cell_type": "code",
   "execution_count": null,
   "metadata": {},
   "outputs": [],
   "source": [
    "# Conjunto de test\n",
    "plt.figure(figsize=(10, 4), dpi=100)\n",
    "\n",
    "plt.hist(X_test, bins='auto', density=True, alpha=0.7)\n",
    "plt.plot(x_soporte, pdf, color=\"tab:orange\", linestyle=\"-\", lw=\"2\", label=\"KDE\")\n",
    "\n",
    "plt.title(\"KDE shown in test data\", pad=13, fontsize=17)\n",
    "plt.xlabel(\"Precio Normal\")\n",
    "plt.ylabel(\"Densidad\")\n",
    "\n",
    "plt.legend()\n",
    "plt.show()"
   ]
  }
 ],
 "metadata": {
  "kernelspec": {
   "display_name": "Python 3 (ipykernel)",
   "language": "python",
   "name": "python3"
  },
  "language_info": {
   "codemirror_mode": {
    "name": "ipython",
    "version": 3
   },
   "file_extension": ".py",
   "mimetype": "text/x-python",
   "name": "python",
   "nbconvert_exporter": "python",
   "pygments_lexer": "ipython3",
   "version": "3.9.12"
  }
 },
 "nbformat": 4,
 "nbformat_minor": 2
}
