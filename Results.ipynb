{
 "cells": [
  {
   "cell_type": "code",
   "execution_count": 3,
   "metadata": {},
   "outputs": [],
   "source": [
    "import tensorflow_datasets as tfds\n",
    "import matplotlib.pyplot as plt\n",
    "import tensorflow as tf\n",
    "\n",
    "from core.data import make_batches, positional_encoding, tokenizers\n",
    "from core.transformer import Transformer, MiniTransformer\n",
    "from core.scheduler import CustomSchedule\n",
    "from core.callbacks import get_callbacks"
   ]
  },
  {
   "cell_type": "code",
   "execution_count": 4,
   "metadata": {},
   "outputs": [],
   "source": [
    "num_layers = 6\n",
    "d_model = 512\n",
    "dff = 2048\n",
    "num_heads = 8\n",
    "dropout_rate = 0.1\n",
    "exp_path = \"./experiments/train\"\n",
    "EPOCHS = 20\n",
    "BATCHSIZE = 64"
   ]
  },
  {
   "cell_type": "code",
   "execution_count": 5,
   "metadata": {},
   "outputs": [
    {
     "name": "stdout",
     "output_type": "stream",
     "text": [
      "\u001b[1mDownloading and preparing dataset 124.94 MiB (download: 124.94 MiB, generated: Unknown size, total: 124.94 MiB) to /root/tensorflow_datasets/ted_hrlr_translate/pt_to_en/1.0.0...\u001b[0m\n"
     ]
    },
    {
     "data": {
      "application/vnd.jupyter.widget-view+json": {
       "model_id": "5badc5700c4545adab67e30dbe588136",
       "version_major": 2,
       "version_minor": 0
      },
      "text/plain": [
       "Dl Completed...: 0 url [00:00, ? url/s]"
      ]
     },
     "metadata": {},
     "output_type": "display_data"
    },
    {
     "data": {
      "application/vnd.jupyter.widget-view+json": {
       "model_id": "73d948b350f047f0ab585721a7ef7660",
       "version_major": 2,
       "version_minor": 0
      },
      "text/plain": [
       "Dl Size...: 0 MiB [00:00, ? MiB/s]"
      ]
     },
     "metadata": {},
     "output_type": "display_data"
    },
    {
     "data": {
      "application/vnd.jupyter.widget-view+json": {
       "model_id": "40a8311c51184d8d9d0e2b81d9ba8db2",
       "version_major": 2,
       "version_minor": 0
      },
      "text/plain": [
       "Extraction completed...: 0 file [00:00, ? file/s]"
      ]
     },
     "metadata": {},
     "output_type": "display_data"
    },
    {
     "name": "stdout",
     "output_type": "stream",
     "text": [
      "\n",
      "\n",
      "\n"
     ]
    },
    {
     "data": {
      "application/vnd.jupyter.widget-view+json": {
       "model_id": "",
       "version_major": 2,
       "version_minor": 0
      },
      "text/plain": [
       "Generating splits...:   0%|          | 0/3 [00:00<?, ? splits/s]"
      ]
     },
     "metadata": {},
     "output_type": "display_data"
    },
    {
     "data": {
      "application/vnd.jupyter.widget-view+json": {
       "model_id": "",
       "version_major": 2,
       "version_minor": 0
      },
      "text/plain": [
       "Generating train examples...:   0%|          | 0/51785 [00:00<?, ? examples/s]"
      ]
     },
     "metadata": {},
     "output_type": "display_data"
    },
    {
     "data": {
      "application/vnd.jupyter.widget-view+json": {
       "model_id": "",
       "version_major": 2,
       "version_minor": 0
      },
      "text/plain": [
       "Shuffling ted_hrlr_translate-train.tfrecord...:   0%|          | 0/51785 [00:00<?, ? examples/s]"
      ]
     },
     "metadata": {},
     "output_type": "display_data"
    },
    {
     "data": {
      "application/vnd.jupyter.widget-view+json": {
       "model_id": "",
       "version_major": 2,
       "version_minor": 0
      },
      "text/plain": [
       "Generating validation examples...:   0%|          | 0/1193 [00:00<?, ? examples/s]"
      ]
     },
     "metadata": {},
     "output_type": "display_data"
    },
    {
     "data": {
      "application/vnd.jupyter.widget-view+json": {
       "model_id": "",
       "version_major": 2,
       "version_minor": 0
      },
      "text/plain": [
       "Shuffling ted_hrlr_translate-validation.tfrecord...:   0%|          | 0/1193 [00:00<?, ? examples/s]"
      ]
     },
     "metadata": {},
     "output_type": "display_data"
    },
    {
     "data": {
      "application/vnd.jupyter.widget-view+json": {
       "model_id": "",
       "version_major": 2,
       "version_minor": 0
      },
      "text/plain": [
       "Generating test examples...:   0%|          | 0/1803 [00:00<?, ? examples/s]"
      ]
     },
     "metadata": {},
     "output_type": "display_data"
    },
    {
     "data": {
      "application/vnd.jupyter.widget-view+json": {
       "model_id": "",
       "version_major": 2,
       "version_minor": 0
      },
      "text/plain": [
       "Shuffling ted_hrlr_translate-test.tfrecord...:   0%|          | 0/1803 [00:00<?, ? examples/s]"
      ]
     },
     "metadata": {},
     "output_type": "display_data"
    },
    {
     "name": "stdout",
     "output_type": "stream",
     "text": [
      "\u001b[1mDataset ted_hrlr_translate downloaded and prepared to /root/tensorflow_datasets/ted_hrlr_translate/pt_to_en/1.0.0. Subsequent calls will reuse this data.\u001b[0m\n"
     ]
    }
   ],
   "source": [
    "examples, metadata = tfds.load('ted_hrlr_translate/pt_to_en', with_info=True,\n",
    "                               as_supervised=True)\n",
    "test_examples = examples['test']\n",
    "test_batches = make_batches(test_examples, batchsize=BATCHSIZE)"
   ]
  },
  {
   "cell_type": "code",
   "execution_count": 7,
   "metadata": {},
   "outputs": [
    {
     "name": "stdout",
     "output_type": "stream",
     "text": [
      "1/1 [==============================] - 15s 15s/step - accuracy: 0.0000e+00 - sparse_categorical_crossentropy: 9.1458\n"
     ]
    },
    {
     "data": {
      "text/plain": [
       "[0.0, 9.14582347869873]"
      ]
     },
     "execution_count": 7,
     "metadata": {},
     "output_type": "execute_result"
    }
   ],
   "source": [
    "# Optimizer\n",
    "learning_rate = CustomSchedule(d_model)\n",
    "optimizer = tf.keras.optimizers.Adam(learning_rate, beta_1=0.9, beta_2=0.98, \n",
    "                                     epsilon=1e-9)\n",
    "\n",
    "# Loss Function\n",
    "loss_object = tf.keras.losses.SparseCategoricalCrossentropy(from_logits=True, \n",
    "                                                            reduction='none')\n",
    "\n",
    "transformer = MiniTransformer(num_layers=num_layers,\n",
    "                              d_model=d_model,\n",
    "                              num_heads=num_heads,\n",
    "                              dff=dff,\n",
    "                              input_vocab_size=tokenizers.en.get_vocab_size(),\n",
    "                              target_vocab_size=tokenizers.en.get_vocab_size(),\n",
    "                              pe_input=1000,\n",
    "                              rate=0.1)\n",
    "transformer.compile(optimizer=optimizer, \n",
    "                    loss_function=loss_object,\n",
    "                    metrics=['accuracy', loss_object])\n",
    "\n",
    "transformer.model(BATCHSIZE)\n",
    "\n",
    "transformer.evaluate(test_batches.take(1))"
   ]
  },
  {
   "cell_type": "code",
   "execution_count": 8,
   "metadata": {},
   "outputs": [],
   "source": [
    "expdir = '{}/train_model.h5'.format(exp_path)\n",
    "transformer.load_weights(expdir)"
   ]
  },
  {
   "cell_type": "code",
   "execution_count": 9,
   "metadata": {},
   "outputs": [],
   "source": [
    "prediction = transformer.predict(test_batches.take(1))"
   ]
  },
  {
   "cell_type": "code",
   "execution_count": 10,
   "metadata": {},
   "outputs": [],
   "source": [
    "y_pred = prediction[0]\n",
    "y_true = prediction[1]"
   ]
  },
  {
   "cell_type": "code",
   "execution_count": 11,
   "metadata": {},
   "outputs": [
    {
     "name": "stdout",
     "output_type": "stream",
     "text": [
      "in the late ' 70s , there were a group of swedish orthopedic surgeons who met at their annual meeting , and they were discussing the different procedures they used to operate hip surgery .\n",
      "---\n",
      "and fact u 2000 80s , i were no lot of peopleco individuals people twomarss , were in the core openual rate with and they were helded the same times of were to be .p .\n",
      "::::::::::\n",
      "( applause ) it ' s a disaster ! that ' s not a language .\n",
      "---\n",
      "and applause ) ' s a little . ' s a a big of\n",
      "::::::::::\n",
      "the next day , all the artists were invited to join mandela in robben island , where he was going to give a conference to the world ' s press , standing in front of his former prison cell .\n",
      "---\n",
      "and first one , i of kids , dead to the the , theadbroy . , and they was going to get him speech in the hospital of s u . and in the of him house friends . phones\n",
      "::::::::::\n",
      "one goes extinct for the other to survive .\n",
      "---\n",
      "and of back . the next reason the .\n",
      "::::::::::\n",
      "they ' re as smart as chimpanzees in some respects .\n",
      "---\n",
      "and ' re not healthy as they . the sorts .\n",
      "::::::::::\n",
      "i ' m going to share two directions that are new in my work .\n",
      "---\n",
      "and ' m not to show a of . are going . the mind .\n",
      "::::::::::\n",
      "and so it looks like they probably had linguistic skills .\n",
      "---\n",
      "and i we ' like this ' felt aouistics .\n",
      "::::::::::\n",
      "you just need an opportunity . my opportunity came in the form of beau , and the blackawton bee project .\n",
      "---\n",
      "and see have to in to favorite is from . long of educationrttification and you reason holesi isf is\n",
      "::::::::::\n",
      "so many unnecessary surgeries , and so much unnecessary suffering for all the patients who were operated on in that seven year period .\n",
      "---\n",
      "and we ofsgasss and , but i i morepvelssed , , the of time , are able and the the road - - of\n",
      "::::::::::\n",
      "i wrote a magazine , was prosecuted for it when i was a teenager .\n",
      "---\n",
      "and ' a book about a arovincuted with the . i was in kid ,\n",
      "::::::::::\n",
      "researchers believe that the low levels of serotonin is correlated with obsessive thinking about the object of love , which is like this feeling that someone has set up camp in your brain .\n",
      "---\n",
      "and have that we average - of theemmonstersic is ansrelation with thecessioning , that the fact . the . and is the a one of we else been up toing the own .\n",
      "::::::::::\n",
      "language is n ' t one , two or three words or letters put together .\n",
      "---\n",
      "and is not ' t the of but , two , . four , together .\n",
      "::::::::::\n",
      "i had been tracking return to work programs since 2008 , and in 2010 , i started noticing the use of a short - term paid work opportunity , whether it was called an internship or not , but an internship - like experience , as a way for professionals to return to work .\n",
      "---\n",
      "and ' no a to to the . for i . and i the , i was to that same of the global - term ptsd . . to and it ' a the itercehip , a , or it iterdehip . african a , or a g of the to be to the .\n",
      "::::::::::\n",
      "` ` he was saying , ` ` ' ' are we clear on what we just accepted ? ' '\n",
      "---\n",
      "and ` and said like , ` ` ' ' i you goinged the happens ' want ? ' ' '\n",
      "::::::::::\n",
      "this is how the year would go .\n",
      "---\n",
      "and is the we world of be down\n",
      "::::::::::\n",
      "so we learned a few lessons in commercializing and making drybath available .\n",
      "---\n",
      "and , ' a lot more from the sets . a them areasgs of .\n",
      "::::::::::\n",
      "so , now you think , how is that possible ?\n",
      "---\n",
      "and we i , ' , what do that ? ?\n",
      "::::::::::\n",
      "so i ' m not going to go through the whole details of the study because actually you can read about it , but the next step is observation . so here are some of the students doing the observations . they ' re recording the data of where the bees fly .\n",
      "---\n",
      "and i ' m going going to show back this classroom side of the video . i , ' see it the . but i only thing is to is , ' the of the best who it things that ' re going the same . the they people are are\n",
      "::::::::::\n",
      "so , here are some of the questions . i put them in small print so you would n ' t bother reading it . point is that five of the questions that the kids came up with were actually the basis of science publication the last five to 15 years . right ?\n",
      "---\n",
      "and i i ' the of the things that ' these in the amounts . on can have ' t even them . . what that i times us big of we students are from with this really getting ones of the and . . internet week years eight years ago ?\n",
      "::::::::::\n",
      "i ' ll leave you with this story .\n",
      "---\n",
      "and ' m conclude you with a . .\n",
      "::::::::::\n",
      "` ` and then she would simply put her hand out and say , ` ` can you give me some ? ' ' ' '\n",
      "---\n",
      "and ` and i i said say say it back in , say , ` ` ' i see me a data ' ' ' '\n",
      "::::::::::\n",
      "trachoma is an infection of the eye due to dirt getting into your eye . multiple infections of trachoma can leave you permanently blind .\n",
      "---\n",
      "andrnssra a e . the higgs . to the , the the mouth . billion . theranssds be you withly be cells\n",
      "::::::::::\n",
      "and once again , in edinburgh with the wonderful african children ' s choir who i simply adore .\n",
      "---\n",
      "and i you , we thede ,urghting the s f women , s dayhalera ' ' hadmi ,\n",
      "::::::::::\n",
      "and this is one of the beauties of exchange , is it actually creates the momentum for more specialization , which creates the momentum for more exchange and so on .\n",
      "---\n",
      "and i is the of my mostisa of thed and the ' . a same . the than . . more is the more of the than . more that .\n",
      "::::::::::\n",
      "that ' s very rewarding from the medical and human point of view .\n",
      "---\n",
      "and ' s the good . . the perspective industry the beings . view .\n",
      "::::::::::\n",
      "( applause )\n",
      "---\n",
      "and applause )\n",
      "::::::::::\n",
      "so this is a huge practical problem .\n",
      "---\n",
      "and i is a picture problem problem .\n",
      "::::::::::\n",
      "there ' s something about that long childhood that seems to be connected to knowledge and learning .\n",
      "---\n",
      "and ' s a called this . . . we to be a to the . that and\n",
      "::::::::::\n",
      "chimpanzee troops have different cultures in different troops .\n",
      "---\n",
      "and therph , been particles . the waysraj .\n",
      "::::::::::\n",
      "but this is also how we can actually begin to restore our environment .\n",
      "---\n",
      "and it is not a we can solve solve to solve the behavior .\n",
      "::::::::::\n",
      "as you can see in the chart , the frequency of this kind of hole dramatically increases with altitude .\n",
      "---\n",
      "and a can see , the video , we world are the green of tree are . the thephum ,\n",
      "::::::::::\n",
      "in fact , after college i applied to seven art schools and was rejected by all seven .\n",
      "---\n",
      "and the , i all , ' to the yearseries , my theed by the of ,\n",
      "::::::::::\n",
      "know that china believes in the market and the state .\n",
      "---\n",
      "and , ' is that the same . in united of\n",
      "::::::::::\n",
      "right ? the brain takes meaningless information and makes meaning out of it , which means we never see what ' s there , we never see information , we only ever see what was useful to see in the past .\n",
      "---\n",
      "and now second is a . food . the it . of the . and is that can have . we s happening . and can done . . and know have have it it happening . be . the retina .\n",
      "::::::::::\n",
      "they kept it close to them .\n",
      "---\n",
      "and ' asking in to the .\n",
      "::::::::::\n",
      "so it turns out they ' re waterproof , and — ( laughter ) — right here is just fluorescent water , and i do n ' t know if you can actually see this .\n",
      "---\n",
      "and , ' out that ' re noted .liund , and they and laughter ) — and ? , a a . , . . and so ' n ' t know what you ' . see it .\n",
      "::::::::::\n",
      "well , that ' s what goes on in our country .\n",
      "---\n",
      "and , it ' s the we to . . economy .\n",
      "::::::::::\n",
      "so i thought , even as architects , we can be involved in the reconstruction of temporary housing .\n",
      "---\n",
      "and , ' , what if a do we were not able in this worldion of theity in\n",
      "::::::::::\n",
      "it looks as if the waving is a more effective strategy than the other strategy .\n",
      "---\n",
      "and ' like though you universeattvin of a little m thing . a other one of\n",
      "::::::::::\n",
      "it ' s forever freely accessible by biology letters .\n",
      "---\n",
      "and ' s a . in . the . and\n",
      "::::::::::\n",
      "i am an impostor .\n",
      "---\n",
      "and ' optimistic academicmplantic\n",
      "::::::::::\n",
      "` ` so after seeing these shocking statistics , i thought to myself , ` ` ' ' okay , even if i ' m not just doing it for myself and the fact that i do n ' t want to bathe , i at least need to do it to try to save the world . ' ' ' ' ( laughter ) so with my trusty little steed , my nokia 6234 cell phone — i did n ' t have a laptop , i did n ' t have internet much , except for the 20 - rand - an - hour internet cafe — i did research on wikipedia , on google , about lotions , creams , the compositions , the melting points , the toxicities — i did high school science — and i wrote down a little formula on a piece of paper , ' '\n",
      "---\n",
      "and ` and , a the two types , we said , myself , ` ` ' ' what , i if you ' m going going going it , you , i rest that i ' n ' t have to be .s i ' all a to be it . be to be it world . ' ' ' ' and laughter ) and i a mom ,n ,imk , i research matter ,el / , , , . , ( started n ' t have to verys and ' n ' t have to , more i for me rest years minuteking , minuteg minute , - nck ( ' n , the - and the - and the of , and , , and rest of , and rest haveing , that and rest on of ( ' n , , . ( the ' , .r more , theb of the , and t '\n",
      "::::::::::\n",
      "i have a francophone friend who ' s married to a french man .\n",
      "---\n",
      "and ' a lotrackcick in of has s a to the man . ,\n",
      "::::::::::\n",
      "but a modern tourist going around the palace of versailles and looking at louis xiv ' s pictures , he has 498 people doing his dinner tonight too .\n",
      "---\n",
      "and i lot crisisist is on the worldroliaial is theniesed is the at theiads andesbii s . , and ' been6 degrees degrees . that job . . .\n",
      "::::::::::\n",
      "in the last 20 years , developmental science has completely overturned that picture .\n",
      "---\n",
      "and fact u few years , we and development has been un -urn . . we of\n",
      "::::::::::\n",
      "so what happens when we pay attention is that the prefrontal cortex , the sort of executive part of our brains , sends a signal that makes a little part of our brain much more flexible , more plastic , better at learning , and shuts down activity in all the rest of our brains .\n",
      "---\n",
      "and i we is we start attention to that we human - of co is the soil of bputorss of the body , the the cell , ' it difference bit of the brain , better like and and and , and , the more and we up up the . the of neurons of the brain ,\n",
      "::::::::::\n",
      "if we were more assertive , more open - minded , more generous and instead of falling in love , we stepped into love .\n",
      "---\n",
      "and you can to effectively a asical as we than , minded as we than , more of the into the , we would down a .\n",
      "::::::::::\n",
      "while i can no longer remember what that argument was about , i very clearly remember how i felt watching him leave .\n",
      "---\n",
      "and we was tell longer speak the i is is like , i ' , do that i was . the . my\n",
      "::::::::::\n",
      "and in 2008 , in chengdu , sichuan area in china , nearly 70 , 000 people were killed , and also especially many of the schools were destroyed because of the corruption between the authority and the contractor .\n",
      "---\n",
      "and i the , i theedssva ,va thewurrd , of the , the 40 percent 000 people in killed by and they the in of the women , left by they the problem of the women they the dror of\n",
      "::::::::::\n",
      "the color coordination is very important .\n",
      "---\n",
      "and first isnson is a simple .\n",
      "::::::::::\n",
      "` ` so they said , ` ` ' ' we probably need to measure quality so we know and can learn from what ' s best . ' ' ' ' so they in fact spent two years debating , ` ` so what is quality in hip surgery ? ' ' ' '\n",
      "---\n",
      "and ` and i said , ` ` ' ' i ' do to be the . we can that we we to our we s going to ' ' ' and and we did the , a years agolnd , and ` ' , ' the of thep ? ' ' ' ' and\n",
      "::::::::::\n",
      "we need ordinary people to get angry at the way in which people can hide their identity behind secret companies .\n",
      "---\n",
      "and ' to people . be the and the point we the they are be . own . their . .\n",
      "::::::::::\n",
      "i am not my father .\n",
      "---\n",
      "and ' a going connectome .\n",
      "::::::::::\n",
      "and we discussed what are the costs for these patients , can we do treatment more efficiently ?\n",
      "---\n",
      "and i 'ed that was the most of the disorders . and we see it , than and than\n",
      "::::::::::\n",
      "and it looked like the kfc special spice , you know ?\n",
      "---\n",
      "and i ' like this sameniur .lesine of but know ,\n",
      "::::::::::\n",
      "but those people from the past , they do n ' t know about any of this .\n",
      "---\n",
      "and it of who iran us , they ' n ' t have what the of the .\n",
      "::::::::::\n",
      "there were so many ideas , so much enthusiasm .\n",
      "---\n",
      "and ' a many of that and i ,thryusia , ,\n",
      "::::::::::\n",
      "student : there ' s two up there .\n",
      "---\n",
      "and number i are s no things here .\n",
      "::::::::::\n",
      "global famine was inevitable .\n",
      "---\n",
      "and citizensac is a .\n",
      "::::::::::\n",
      "he was wearing a t - shirt like the one i wear now .\n",
      "---\n",
      "and ' a his machinera shirt . a first that had , .\n",
      "::::::::::\n",
      "that ' s actually what an experiment is .\n",
      "---\n",
      "and ' s the the we e is .\n",
      "::::::::::\n",
      "how did we become the only species that becomes more prosperous as it becomes more populous ?\n",
      "---\n",
      "and many i do the world person of we ? thanropelpeed ? we is ? thaned than\n",
      "::::::::::\n",
      "( applause )\n",
      "---\n",
      "and applause )\n",
      "::::::::::\n",
      "radio : . . . just fuckin ' , once you get on ' em just open ' em up .\n",
      "---\n",
      "and scan i . . .ac . . . you you ' a the timeba a your sana to\n",
      "::::::::::\n"
     ]
    }
   ],
   "source": [
    "for t, k in zip(y_pred, y_true):\n",
    "    print(k.decode('utf-8'))\n",
    "    print('---')\n",
    "    print(t.decode('utf-8'))\n",
    "    print(':'*10)"
   ]
  },
  {
   "cell_type": "code",
   "execution_count": null,
   "metadata": {},
   "outputs": [],
   "source": []
  },
  {
   "cell_type": "code",
   "execution_count": null,
   "metadata": {},
   "outputs": [],
   "source": []
  },
  {
   "cell_type": "code",
   "execution_count": 8,
   "metadata": {},
   "outputs": [],
   "source": []
  },
  {
   "cell_type": "code",
   "execution_count": null,
   "metadata": {},
   "outputs": [],
   "source": []
  },
  {
   "cell_type": "code",
   "execution_count": null,
   "metadata": {},
   "outputs": [],
   "source": []
  },
  {
   "cell_type": "code",
   "execution_count": null,
   "metadata": {},
   "outputs": [],
   "source": []
  },
  {
   "cell_type": "code",
   "execution_count": null,
   "metadata": {},
   "outputs": [],
   "source": []
  }
 ],
 "metadata": {
  "kernelspec": {
   "display_name": "Python 3",
   "language": "python",
   "name": "python3"
  },
  "language_info": {
   "codemirror_mode": {
    "name": "ipython",
    "version": 3
   },
   "file_extension": ".py",
   "mimetype": "text/x-python",
   "name": "python",
   "nbconvert_exporter": "python",
   "pygments_lexer": "ipython3",
   "version": "3.6.9"
  }
 },
 "nbformat": 4,
 "nbformat_minor": 2
}
