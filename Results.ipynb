{
 "cells": [
  {
   "cell_type": "code",
   "execution_count": 1,
   "metadata": {},
   "outputs": [],
   "source": [
    "import tensorflow as tf\n",
    "import json\n",
    "import os\n",
    "\n",
    "from core.data  import load_records\n",
    "from core.transformer import ASTROMER\n",
    "from core.scheduler import CustomSchedule\n",
    "from core.callbacks import get_callbacks\n",
    "from core.losses import CustomMSE, ASTROMERLoss, CustomBCE\n",
    "from core.metrics import CustomACC\n",
    "\n",
    "import matplotlib.pyplot as plt\n",
    "\n",
    "plt.style.use('dark_background')"
   ]
  },
  {
   "cell_type": "code",
   "execution_count": 2,
   "metadata": {},
   "outputs": [
    {
     "data": {
      "text/plain": [
       "{'time_normed': True,\n",
       " 'magn_normed': True,\n",
       " 'data': './data/records/macho',\n",
       " 'p': './experiments/macho_magn_time_normed',\n",
       " 'batch_size': 512,\n",
       " 'epochs': 1000,\n",
       " 'layers': 2,\n",
       " 'heads': 4,\n",
       " 'head_dim': 512,\n",
       " 'dff': 1024,\n",
       " 'pe': 200,\n",
       " 'dropout': 0.1,\n",
       " 'lr': 0.001}"
      ]
     },
     "execution_count": 2,
     "metadata": {},
     "output_type": "execute_result"
    }
   ],
   "source": [
    "root_data = './experiments/macho_magn_time_normed'\n",
    "conf_file = os.path.join(root_data, 'conf.json')\n",
    "\n",
    "with open(conf_file, 'r') as handle:\n",
    "    conf = json.load(handle)\n",
    "conf"
   ]
  },
  {
   "cell_type": "code",
   "execution_count": 3,
   "metadata": {},
   "outputs": [],
   "source": [
    "test_batches = load_records(os.path.join(conf['data'], 'test'), \n",
    "                                          conf['batch_size'], \n",
    "                                          magn_normed=conf['magn_normed'],\n",
    "                                          time_normed=conf['time_normed'])"
   ]
  },
  {
   "cell_type": "code",
   "execution_count": 4,
   "metadata": {},
   "outputs": [
    {
     "data": {
      "image/png": "[encoded data removed]",
      "text/plain": [
       "<Figure size 432x288 with 1 Axes>"
      ]
     },
     "metadata": {},
     "output_type": "display_data"
    }
   ],
   "source": [
    "for x1, x2, t, y in test_batches:\n",
    "    plt.plot(x1[0, :, 0], x1[0, :, 1])\n",
    "    plt.plot(x2[0, :, 0]+1, x2[0, :, 1])\n",
    "    break"
   ]
  },
  {
   "cell_type": "code",
   "execution_count": 5,
   "metadata": {},
   "outputs": [
    {
     "name": "stdout",
     "output_type": "stream",
     "text": [
      "Model: \"model\"\n",
      "__________________________________________________________________________________________________\n",
      "Layer (type)                    Output Shape         Param #     Connected to                     \n",
      "==================================================================================================\n",
      "Serie1 (InputLayer)             [(512, 202, 2)]      0                                            \n",
      "__________________________________________________________________________________________________\n",
      "Serie2 (InputLayer)             [(512, 202, 2)]      0                                            \n",
      "__________________________________________________________________________________________________\n",
      "TrueLength (InputLayer)         [(512,)]             0                                            \n",
      "__________________________________________________________________________________________________\n",
      "IsRandom (InputLayer)           [(512, 1)]           0                                            \n",
      "__________________________________________________________________________________________________\n",
      "BuildInput (InputComposer)      ((512, 406, 2), (512 0           Serie1[0][0]                     \n",
      "                                                                 Serie2[0][0]                     \n",
      "                                                                 TrueLength[0][0]                 \n",
      "                                                                 IsRandom[0][0]                   \n",
      "__________________________________________________________________________________________________\n",
      "tf.__operators__.getitem (Slici (512,)               0           BuildInput[0][2]                 \n",
      "__________________________________________________________________________________________________\n",
      "tf.expand_dims (TFOpLambda)     (512, 1)             0           tf.__operators__.getitem[0][0]   \n",
      "__________________________________________________________________________________________________\n",
      "Encoder (Encoder)               (512, 406, 512)      4207104     BuildInput[0][0]                 \n",
      "                                                                 BuildInput[0][1]                 \n",
      "__________________________________________________________________________________________________\n",
      "tf.concat (TFOpLambda)          (512, 407)           0           tf.expand_dims[0][0]             \n",
      "                                                                 BuildInput[0][2]                 \n",
      "__________________________________________________________________________________________________\n",
      "Dense (CustomDense)             (512, 407, 1)        1539        Encoder[0][0]                    \n",
      "__________________________________________________________________________________________________\n",
      "tf.expand_dims_1 (TFOpLambda)   (512, 407, 1)        0           tf.concat[0][0]                  \n",
      "__________________________________________________________________________________________________\n",
      "tf.concat_1 (TFOpLambda)        (512, 407, 2)        0           Dense[0][0]                      \n",
      "                                                                 tf.expand_dims_1[0][0]           \n",
      "==================================================================================================\n",
      "Total params: 4,208,643\n",
      "Trainable params: 4,208,643\n",
      "Non-trainable params: 0\n",
      "__________________________________________________________________________________________________\n",
      "1/1 [==============================] - 8s 8s/step - loss: 10835.0596 - RMSE: 10834.1660 - BCE: 0.8936 - Accuracy: 0.0000e+00\n"
     ]
    },
    {
     "data": {
      "text/plain": [
       "[10835.0595703125, 10834.166015625, 0.8936207294464111, 0.0]"
      ]
     },
     "execution_count": 5,
     "metadata": {},
     "output_type": "execute_result"
    }
   ],
   "source": [
    "learning_rate = 1e-3#CustomSchedule(opt.head_dim)\n",
    "optimizer = tf.keras.optimizers.Adam(learning_rate, \n",
    "                                     beta_1=0.9, \n",
    "                                     beta_2=0.98, \n",
    "                                     epsilon=1e-9)\n",
    "# Model Instance\n",
    "transformer = ASTROMER(num_layers=conf['layers'],\n",
    "                    d_model=conf['head_dim'],\n",
    "                    num_heads=conf['heads'],\n",
    "                    dff=conf['dff'],\n",
    "                    pe_input=conf['pe'],\n",
    "                    rate=conf['dropout'])\n",
    "# Compile\n",
    "transformer.compile(optimizer=optimizer, \n",
    "                    loss=ASTROMERLoss(),\n",
    "                    metrics=[CustomMSE(), CustomBCE(), CustomACC()])\n",
    "# Create graph\n",
    "transformer.model(conf['batch_size']).summary()\n",
    "\n",
    "# Initialize graph\n",
    "transformer.evaluate(test_batches.take(1))"
   ]
  },
  {
   "cell_type": "code",
   "execution_count": 6,
   "metadata": {},
   "outputs": [
    {
     "name": "stdout",
     "output_type": "stream",
     "text": [
      "2/2 [==============================] - 13s 74ms/step - loss: 3.5923 - RMSE: 3.6131 - BCE: 0.0067 - Accuracy: 1.0000\n"
     ]
    },
    {
     "data": {
      "text/plain": [
       "[3.5922691822052, 3.613126039505005, 0.006692918017506599, 1.0]"
      ]
     },
     "execution_count": 6,
     "metadata": {},
     "output_type": "execute_result"
    }
   ],
   "source": [
    "expdir = '{}/train_model.h5'.format(conf['p'])\n",
    "transformer.load_weights(expdir)\n",
    "transformer.evaluate(test_batches)"
   ]
  },
  {
   "cell_type": "code",
   "execution_count": null,
   "metadata": {},
   "outputs": [],
   "source": [
    "rec_pred, rec_mask, cls_true, cls_pred, cls_true = transformer.predict(test_batches.take(1))"
   ]
  },
  {
   "cell_type": "code",
   "execution_count": null,
   "metadata": {},
   "outputs": [],
   "source": []
  },
  {
   "cell_type": "code",
   "execution_count": 8,
   "metadata": {},
   "outputs": [],
   "source": []
  },
  {
   "cell_type": "code",
   "execution_count": 15,
   "metadata": {
    "scrolled": false
   },
   "outputs": [
    {
     "ename": "NameError",
     "evalue": "name 'rec_true' is not defined",
     "output_type": "error",
     "traceback": [
      "\u001b[0;31m---------------------------------------------------------------------------\u001b[0m",
      "\u001b[0;31mNameError\u001b[0m                                 Traceback (most recent call last)",
      "\u001b[0;32m<ipython-input-15-a091b15a0f82>\u001b[0m in \u001b[0;36m<module>\u001b[0;34m\u001b[0m\n\u001b[1;32m      3\u001b[0m     \u001b[0mplt\u001b[0m\u001b[0;34m.\u001b[0m\u001b[0mfigure\u001b[0m\u001b[0;34m(\u001b[0m\u001b[0mdpi\u001b[0m\u001b[0;34m=\u001b[0m\u001b[0;36m200\u001b[0m\u001b[0;34m)\u001b[0m\u001b[0;34m\u001b[0m\u001b[0;34m\u001b[0m\u001b[0m\n\u001b[1;32m      4\u001b[0m     \u001b[0my_pred\u001b[0m \u001b[0;34m=\u001b[0m \u001b[0mrec_pred\u001b[0m\u001b[0;34m[\u001b[0m\u001b[0mn\u001b[0m\u001b[0;34m]\u001b[0m\u001b[0;34m\u001b[0m\u001b[0;34m\u001b[0m\u001b[0m\n\u001b[0;32m----> 5\u001b[0;31m     \u001b[0my_true\u001b[0m \u001b[0;34m=\u001b[0m \u001b[0mrec_true\u001b[0m\u001b[0;34m[\u001b[0m\u001b[0mn\u001b[0m\u001b[0;34m]\u001b[0m\u001b[0;34m\u001b[0m\u001b[0;34m\u001b[0m\u001b[0m\n\u001b[0m\u001b[1;32m      6\u001b[0m     \u001b[0ml_pred\u001b[0m \u001b[0;34m=\u001b[0m \u001b[0mcls_pred\u001b[0m\u001b[0;34m[\u001b[0m\u001b[0mn\u001b[0m\u001b[0;34m]\u001b[0m\u001b[0;34m\u001b[0m\u001b[0;34m\u001b[0m\u001b[0m\n\u001b[1;32m      7\u001b[0m     \u001b[0ml_true\u001b[0m \u001b[0;34m=\u001b[0m \u001b[0mcls_true\u001b[0m\u001b[0;34m[\u001b[0m\u001b[0mn\u001b[0m\u001b[0;34m]\u001b[0m\u001b[0;34m\u001b[0m\u001b[0;34m\u001b[0m\u001b[0m\n",
      "\u001b[0;31mNameError\u001b[0m: name 'rec_true' is not defined"
     ]
    },
    {
     "data": {
      "text/plain": [
       "<Figure size 1200x800 with 0 Axes>"
      ]
     },
     "metadata": {},
     "output_type": "display_data"
    }
   ],
   "source": [
    "n = 2\n",
    "for n in range(1):\n",
    "    plt.figure(dpi=200)\n",
    "    y_pred = rec_pred[n]\n",
    "    y_true = rec_true[n]\n",
    "    l_pred = cls_pred[n]\n",
    "    l_true = cls_true[n]\n",
    "\n",
    "    x_time = tf.range(100)\n",
    "    \n",
    "    plt.plot(x_time, y_pred[:100], color='darkred', label='Pred')\n",
    "    plt.plot(x_time, y_true[:100], color='darkblue', linestyle='-', label='Real')\n",
    "    \n",
    "    plt.plot(x_time+100, y_pred[101:], color='darkred')\n",
    "    plt.plot(x_time+100, y_true[101:], color='darkblue', marker='',linestyle='-')\n",
    "    plt.title('true {:.0f} - pred {}'.format(l_true[0],l_pred.numpy()[0][0]))\n",
    "    plt.legend()\n",
    "    plt.show()"
   ]
  },
  {
   "cell_type": "code",
   "execution_count": null,
   "metadata": {},
   "outputs": [],
   "source": []
  },
  {
   "cell_type": "code",
   "execution_count": null,
   "metadata": {},
   "outputs": [],
   "source": []
  },
  {
   "cell_type": "code",
   "execution_count": null,
   "metadata": {},
   "outputs": [],
   "source": []
  },
  {
   "cell_type": "code",
   "execution_count": null,
   "metadata": {},
   "outputs": [],
   "source": []
  },
  {
   "cell_type": "code",
   "execution_count": null,
   "metadata": {},
   "outputs": [],
   "source": []
  },
  {
   "cell_type": "code",
   "execution_count": null,
   "metadata": {},
   "outputs": [],
   "source": []
  },
  {
   "cell_type": "code",
   "execution_count": null,
   "metadata": {},
   "outputs": [],
   "source": []
  }
 ],
 "metadata": {
  "kernelspec": {
   "display_name": "Python 3",
   "language": "python",
   "name": "python3"
  },
  "language_info": {
   "codemirror_mode": {
    "name": "ipython",
    "version": 3
   },
   "file_extension": ".py",
   "mimetype": "text/x-python",
   "name": "python",
   "nbconvert_exporter": "python",
   "pygments_lexer": "ipython3",
   "version": "3.6.9"
  }
 },
 "nbformat": 4,
 "nbformat_minor": 2
}
