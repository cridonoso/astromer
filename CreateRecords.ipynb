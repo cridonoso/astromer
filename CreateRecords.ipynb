{
 "cells": [
  {
   "cell_type": "markdown",
   "metadata": {},
   "source": [
    "# Creating TF Records"
   ]
  },
  {
   "cell_type": "code",
   "execution_count": 25,
   "metadata": {},
   "outputs": [
    {
     "name": "stdout",
     "output_type": "stream",
     "text": [
      "The autoreload extension is already loaded. To reload it, use:\n",
      "  %reload_ext autoreload\n"
     ]
    }
   ],
   "source": [
    "import tensorflow as tf\n",
    "import matplotlib.pyplot as plt\n",
    "from core.data  import create_dataset, load_records\n",
    "from core.input import InputLayer\n",
    "from core.transformer import ASTROMER\n",
    "%load_ext autoreload\n",
    "%autoreload 2"
   ]
  },
  {
   "cell_type": "code",
   "execution_count": 26,
   "metadata": {},
   "outputs": [],
   "source": [
    "source = './data/raw_data/macho/MACHO/LCs'\n",
    "metadata = 'data/raw_data/macho/MACHO/MACHO_dataset.dat'\n",
    "target = 'data/records/macho_v2/'"
   ]
  },
  {
   "cell_type": "code",
   "execution_count": 121,
   "metadata": {},
   "outputs": [
    {
     "name": "stderr",
     "output_type": "stream",
     "text": [
      "100%|██████████| 7/7 [00:09<00:00,  1.41s/it]\n"
     ]
    }
   ],
   "source": [
    "create_dataset_nolabels(source, metadata, target, max_lcs_per_record=1000)"
   ]
  },
  {
   "cell_type": "markdown",
   "metadata": {},
   "source": [
    "## loading records"
   ]
  },
  {
   "cell_type": "code",
   "execution_count": 59,
   "metadata": {},
   "outputs": [],
   "source": [
    "transformer = ASTROMER(num_layers=2,\n",
    "                       d_model=512,\n",
    "                       num_heads=2,\n",
    "                       dff=1024,\n",
    "                       pe_input=1000,\n",
    "                       rate=0.5,\n",
    "                       base=10000)"
   ]
  },
  {
   "cell_type": "code",
   "execution_count": 60,
   "metadata": {},
   "outputs": [],
   "source": [
    "dataset = load_records(target+'/train', batch_size=100, input_len=100)"
   ]
  },
  {
   "cell_type": "code",
   "execution_count": 114,
   "metadata": {},
   "outputs": [
    {
     "name": "stdout",
     "output_type": "stream",
     "text": [
      "(100, 103, 3)\n",
      "(100, 104, 2)\n"
     ]
    }
   ],
   "source": [
    "l = InputLayer()\n",
    "for batch in dataset:\n",
    "    output, x_true = transformer(batch)\n",
    "    print(x_true.shape)\n",
    "    print(output.shape)\n",
    "#     r = l(batch)\n",
    "#     plt.figure()   \n",
    "#     plt.plot(s1[0, 1:51, 0], s1[0, 1:51, 1])\n",
    "#     plt.plot(s1[0, 52:-1, 0], s1[0, 52:-1, 1])\n",
    "#     plt.plot(s2[0, :, 0]+1, s2[0, :, 1])\n",
    "    break"
   ]
  },
  {
   "cell_type": "code",
   "execution_count": 11,
   "metadata": {},
   "outputs": [],
   "source": [
    "layer = InputLayer()"
   ]
  },
  {
   "cell_type": "code",
   "execution_count": 191,
   "metadata": {},
   "outputs": [],
   "source": [
    "r = tf.map_fn(lambda i: tf.random.categorical(tf.math.log([[0.1, 0.9]]), \n",
    "              10, dtype=tf.int32), \n",
    "              tf.range(10))"
   ]
  },
  {
   "cell_type": "code",
   "execution_count": null,
   "metadata": {},
   "outputs": [],
   "source": []
  },
  {
   "cell_type": "code",
   "execution_count": 190,
   "metadata": {},
   "outputs": [
    {
     "data": {
      "text/plain": [
       "<tf.Tensor: shape=(3, 3), dtype=int32, numpy=\n",
       "array([[1, 0, 0],\n",
       "       [1, 0, 0],\n",
       "       [1, 0, 0]], dtype=int32)>"
      ]
     },
     "execution_count": 190,
     "metadata": {},
     "output_type": "execute_result"
    }
   ],
   "source": [
    "tf.transpose(tf.tile([[1], [0], [0]], [1, 3]))"
   ]
  },
  {
   "cell_type": "code",
   "execution_count": null,
   "metadata": {},
   "outputs": [],
   "source": []
  }
 ],
 "metadata": {
  "kernelspec": {
   "display_name": "Python 3",
   "language": "python",
   "name": "python3"
  },
  "language_info": {
   "codemirror_mode": {
    "name": "ipython",
    "version": 3
   },
   "file_extension": ".py",
   "mimetype": "text/x-python",
   "name": "python",
   "nbconvert_exporter": "python",
   "pygments_lexer": "ipython3",
   "version": "3.6.9"
  }
 },
 "nbformat": 4,
 "nbformat_minor": 2
}
